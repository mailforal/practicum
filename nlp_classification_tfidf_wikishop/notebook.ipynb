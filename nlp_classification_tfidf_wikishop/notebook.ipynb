{
 "cells": [
  {
   "cell_type": "markdown",
   "metadata": {},
   "source": [
    "# Проект для «Викишоп»"
   ]
  },
  {
   "cell_type": "markdown",
   "metadata": {},
   "source": [
    "Интернет-магазин «Викишоп» запускает новый сервис. Теперь пользователи могут редактировать и дополнять описания товаров, как в вики-сообществах. То есть клиенты предлагают свои правки и комментируют изменения других. Магазину нужен инструмент, который будет искать токсичные комментарии и отправлять их на модерацию. \n",
    "\n",
    "Обучите модель классифицировать комментарии на позитивные и негативные. В вашем распоряжении набор данных с разметкой о токсичности правок.\n",
    "\n",
    "Постройте модель со значением метрики качества *F1* не меньше 0.75. \n",
    "\n",
    "**Инструкция по выполнению проекта**\n",
    "\n",
    "1. Загрузите и подготовьте данные.\n",
    "2. Обучите разные модели. \n",
    "3. Сделайте выводы.\n",
    "\n",
    "Для выполнения проекта применять *BERT* необязательно, но вы можете попробовать.\n",
    "\n",
    "**Описание данных**\n",
    "\n",
    "Данные находятся в файле `toxic_comments.csv`. Столбец *text* в нём содержит текст комментария, а *toxic* — целевой признак."
   ]
  },
  {
   "cell_type": "markdown",
   "metadata": {
    "toc": true
   },
   "source": [
    "<h1>Содержание<span class=\"tocSkip\"></span></h1>\n",
    "<div class=\"toc\"><ul class=\"toc-item\"><li><span><a href=\"#Подготовка\" data-toc-modified-id=\"Подготовка-1\"><span class=\"toc-item-num\">1&nbsp;&nbsp;</span>Подготовка</a></span><ul class=\"toc-item\"><li><span><a href=\"#Подготовка-тетради\" data-toc-modified-id=\"Подготовка-тетради-1.1\"><span class=\"toc-item-num\">1.1&nbsp;&nbsp;</span>Подготовка тетради</a></span></li><li><span><a href=\"#Предварительный-анализ-данных\" data-toc-modified-id=\"Предварительный-анализ-данных-1.2\"><span class=\"toc-item-num\">1.2&nbsp;&nbsp;</span>Предварительный анализ данных</a></span></li><li><span><a href=\"#Предобработка-данных\" data-toc-modified-id=\"Предобработка-данных-1.3\"><span class=\"toc-item-num\">1.3&nbsp;&nbsp;</span>Предобработка данных</a></span></li></ul></li><li><span><a href=\"#Обучение\" data-toc-modified-id=\"Обучение-2\"><span class=\"toc-item-num\">2&nbsp;&nbsp;</span>Обучение</a></span><ul class=\"toc-item\"><li><span><a href=\"#Функция-работы-с-моделями-обучения\" data-toc-modified-id=\"Функция-работы-с-моделями-обучения-2.1\"><span class=\"toc-item-num\">2.1&nbsp;&nbsp;</span>Функция работы с моделями обучения</a></span></li><li><span><a href=\"#Применение-функций-моделей\" data-toc-modified-id=\"Применение-функций-моделей-2.2\"><span class=\"toc-item-num\">2.2&nbsp;&nbsp;</span>Применение функций моделей</a></span></li><li><span><a href=\"#Выбор-лучшей-модели\" data-toc-modified-id=\"Выбор-лучшей-модели-2.3\"><span class=\"toc-item-num\">2.3&nbsp;&nbsp;</span>Выбор лучшей модели</a></span></li><li><span><a href=\"#Проведение-тестирования\" data-toc-modified-id=\"Проведение-тестирования-2.4\"><span class=\"toc-item-num\">2.4&nbsp;&nbsp;</span>Проведение тестирования</a></span></li></ul></li><li><span><a href=\"#Выводы\" data-toc-modified-id=\"Выводы-3\"><span class=\"toc-item-num\">3&nbsp;&nbsp;</span>Выводы</a></span></li><li><span><a href=\"#Чек-лист-проверки\" data-toc-modified-id=\"Чек-лист-проверки-4\"><span class=\"toc-item-num\">4&nbsp;&nbsp;</span>Чек-лист проверки</a></span></li></ul></div>"
   ]
  },
  {
   "cell_type": "markdown",
   "metadata": {},
   "source": [
    "## Подготовка"
   ]
  },
  {
   "cell_type": "markdown",
   "metadata": {},
   "source": [
    "### Подготовка тетради"
   ]
  },
  {
   "cell_type": "code",
   "execution_count": 1,
   "metadata": {},
   "outputs": [
    {
     "name": "stderr",
     "output_type": "stream",
     "text": [
      "[nltk_data] Downloading package averaged_perceptron_tagger to\n",
      "[nltk_data]     /home/jovyan/nltk_data...\n",
      "[nltk_data]   Package averaged_perceptron_tagger is already up-to-\n",
      "[nltk_data]       date!\n"
     ]
    },
    {
     "name": "stdout",
     "output_type": "stream",
     "text": [
      "Requirement already satisfied: imblearn in /opt/conda/lib/python3.9/site-packages (0.0)\r\n",
      "Requirement already satisfied: imbalanced-learn in /opt/conda/lib/python3.9/site-packages (from imblearn) (0.11.0)\r\n",
      "Requirement already satisfied: joblib>=1.1.1 in /opt/conda/lib/python3.9/site-packages (from imbalanced-learn->imblearn) (1.3.2)\r\n",
      "Requirement already satisfied: scipy>=1.5.0 in /opt/conda/lib/python3.9/site-packages (from imbalanced-learn->imblearn) (1.9.1)\r\n",
      "Requirement already satisfied: numpy>=1.17.3 in /opt/conda/lib/python3.9/site-packages (from imbalanced-learn->imblearn) (1.21.1)\r\n",
      "Requirement already satisfied: scikit-learn>=1.0.2 in /opt/conda/lib/python3.9/site-packages (from imbalanced-learn->imblearn) (1.3.0)\r\n",
      "Requirement already satisfied: threadpoolctl>=2.0.0 in /opt/conda/lib/python3.9/site-packages (from imbalanced-learn->imblearn) (3.1.0)\r\n"
     ]
    }
   ],
   "source": [
    "# Базовые библиотеки\n",
    "import numpy as np\n",
    "import pandas as pd\n",
    "import os # Загрузка датафрейма\n",
    "import time # Оценка времени выполнения кода\n",
    "\n",
    "# Работа с текстом\n",
    "import re # Очистка текста от ненужных знаков\n",
    "from pymystem3 import Mystem # Лучшая лемматизация русского текста\n",
    "import nltk # Импорт всех модулей библиотеки для работы с текстами\n",
    "from nltk import WordNetLemmatizer # Классическая лемматизация английского текста\n",
    "from nltk.corpus import wordnet # Анализатор POS-тегов\n",
    "from nltk import pos_tag # Да Функция анализатора POS-тегов\n",
    "nltk.download('averaged_perceptron_tagger') # Дополнительный модуль для работы с POS-тегами\n",
    "from nltk.probability import FreqDist # Для создания облака слов\n",
    "#import spacy # Продвинутая лемматизация английского текстах \n",
    "\n",
    "# Базовые элементы Sklearn для создания собстенных классов, используемых в Pipeline\n",
    "\"\"\"from sklearn.base import(\n",
    "    TransformerMixin, \n",
    "    BaseEstimator\n",
    ")\"\"\"\n",
    "\n",
    "# Предобработка данных\n",
    "from sklearn.preprocessing import(\n",
    "    #StandardScaler, # стандартизация\n",
    "    MaxAbsScaler, # стандартизация по максимальному абсолютном значению в пределах 0-1\n",
    "    #normalize # нормализация значений аттрибутов\n",
    ")\n",
    "\n",
    "# Работа с датафреймом\n",
    "from sklearn.model_selection import (\n",
    "    cross_val_score, \n",
    "    train_test_split, # Разделение выборок на обучающую и тестовую\n",
    "    GridSearchCV, # Поиск гиперпараметров по сетке (GridSearch)\n",
    "    StratifiedKFold, # Кроссвалидация с указанием количества фолдов (частей, на которые будет разбита обучающая выборка, одна из которых будет участвовать в валидации)\n",
    "    KFold, # Кроссвалидация \n",
    "    cross_val_score # Оценка качества модели на кроссвалидации\n",
    ") \n",
    "from sklearn.feature_extraction.text import TfidfVectorizer # Векторизация текстов \n",
    "\n",
    "# Автоматизация раздельного декодирования признаков\n",
    "from sklearn.compose import(\n",
    "    make_column_selector, \n",
    "    make_column_transformer, \n",
    "    ColumnTransformer\n",
    ")\n",
    "\n",
    "# Pipeline (пайплайн)\n",
    "!pip install imblearn\n",
    "#!pip install -U imblearn\n",
    "#!pip install -U imbalanced-learn\n",
    "#conda install -c conda-forge imbalanced-learn\n",
    "#conda install -c glemaitre imbalanced-learn\n",
    "from imblearn.pipeline import Pipeline # Более предпочтительнее для TfidfVectorizer\n",
    "from imblearn.over_sampling import SMOTE # Балансировка классов в Pipeline\n",
    "from sklearn.pipeline import make_pipeline # Pipeline с автоматическим названием шагов.\n",
    "\n",
    "# Функция для поддержки экспериментальной функции HavingGridSearchSV\n",
    "from sklearn.experimental import enable_halving_search_cv\n",
    "# Ускоренная автоматизация поиска лучших моделей и их параметров\n",
    "from sklearn.model_selection import HalvingGridSearchCV\n",
    "# Ускоренная автоматизация рандомного поиска лучших моделей и их параметров\n",
    "from sklearn.model_selection import HalvingRandomSearchCV\n",
    "\n",
    "# Модели \n",
    "from sklearn.linear_model import LogisticRegression # Линейная регрессия. Классификация\n",
    "#from sklearn.tree import DecisionTreeClassifier # Решающее дерево. Классификация\n",
    "#from sklearn.ensemble import RandomForestClassifier # Случайный лес. Классификация\n",
    "from catboost import CatBoostClassifier # CatBoost (Яндекс). Классификация\n",
    "from sklearn.naive_bayes import ComplementNB # Улучшенный классификатор для не сбалансированных классов\n",
    "\n",
    "# Метрики\n",
    "from sklearn.metrics import f1_score # F1 - среднегармоническое между precision_score и recall_score\n",
    "\n",
    "# Визуализация графиков\n",
    "import seaborn as sns\n",
    "import matplotlib\n",
    "%matplotlib inline\n",
    "from matplotlib import pyplot as plt\n",
    "from matplotlib import rcParams, rcParamsDefault\n",
    "from pandas.plotting import scatter_matrix\n"
   ]
  },
  {
   "cell_type": "code",
   "execution_count": 2,
   "metadata": {},
   "outputs": [],
   "source": [
    "# Отображение всех столбцов таблицы\n",
    "pd.set_option('display.max_columns', None)\n",
    "# Обязательно для нормального отображения графиков plt\n",
    "rcParams['figure.figsize'] = 10, 6\n",
    "%config InlineBackend.figure_format = 'svg'\n",
    "# Дополнительно и не обязательно для декорирования графиков\n",
    "factor = .8\n",
    "default_dpi = rcParamsDefault['figure.dpi']\n",
    "rcParams['figure.dpi'] = default_dpi * factor\n"
   ]
  },
  {
   "cell_type": "code",
   "execution_count": 3,
   "metadata": {},
   "outputs": [],
   "source": [
    "# Глобальное значение \"random_state\" \n",
    "STATE = 42\n"
   ]
  },
  {
   "cell_type": "markdown",
   "metadata": {},
   "source": [
    "### Предварительный анализ данных"
   ]
  },
  {
   "cell_type": "code",
   "execution_count": 4,
   "metadata": {},
   "outputs": [],
   "source": [
    "# Загрузка данных\n",
    "if os.path.exists('datasets/toxic_comments.csv'):\n",
    "    data = pd.read_csv('toxic_comments.csv')\n",
    "elif os.path.exists('/datasets/toxic_comments.csv'):\n",
    "    data = pd.read_csv('/datasets/toxic_comments.csv')\n",
    "else:\n",
    "    print('Файл не найден')\n"
   ]
  },
  {
   "cell_type": "code",
   "execution_count": 5,
   "metadata": {},
   "outputs": [
    {
     "name": "stdout",
     "output_type": "stream",
     "text": [
      "<class 'pandas.core.frame.DataFrame'>\n",
      "RangeIndex: 159292 entries, 0 to 159291\n",
      "Data columns (total 3 columns):\n",
      " #   Column      Non-Null Count   Dtype \n",
      "---  ------      --------------   ----- \n",
      " 0   Unnamed: 0  159292 non-null  int64 \n",
      " 1   text        159292 non-null  object\n",
      " 2   toxic       159292 non-null  int64 \n",
      "dtypes: int64(2), object(1)\n",
      "memory usage: 3.6+ MB\n",
      "None\n"
     ]
    },
    {
     "data": {
      "text/html": [
       "<div>\n",
       "<style scoped>\n",
       "    .dataframe tbody tr th:only-of-type {\n",
       "        vertical-align: middle;\n",
       "    }\n",
       "\n",
       "    .dataframe tbody tr th {\n",
       "        vertical-align: top;\n",
       "    }\n",
       "\n",
       "    .dataframe thead th {\n",
       "        text-align: right;\n",
       "    }\n",
       "</style>\n",
       "<table border=\"1\" class=\"dataframe\">\n",
       "  <thead>\n",
       "    <tr style=\"text-align: right;\">\n",
       "      <th></th>\n",
       "      <th>Unnamed: 0</th>\n",
       "      <th>text</th>\n",
       "      <th>toxic</th>\n",
       "    </tr>\n",
       "  </thead>\n",
       "  <tbody>\n",
       "    <tr>\n",
       "      <th>0</th>\n",
       "      <td>0</td>\n",
       "      <td>Explanation\\nWhy the edits made under my usern...</td>\n",
       "      <td>0</td>\n",
       "    </tr>\n",
       "    <tr>\n",
       "      <th>1</th>\n",
       "      <td>1</td>\n",
       "      <td>D'aww! He matches this background colour I'm s...</td>\n",
       "      <td>0</td>\n",
       "    </tr>\n",
       "    <tr>\n",
       "      <th>2</th>\n",
       "      <td>2</td>\n",
       "      <td>Hey man, I'm really not trying to edit war. It...</td>\n",
       "      <td>0</td>\n",
       "    </tr>\n",
       "    <tr>\n",
       "      <th>3</th>\n",
       "      <td>3</td>\n",
       "      <td>\"\\nMore\\nI can't make any real suggestions on ...</td>\n",
       "      <td>0</td>\n",
       "    </tr>\n",
       "    <tr>\n",
       "      <th>4</th>\n",
       "      <td>4</td>\n",
       "      <td>You, sir, are my hero. Any chance you remember...</td>\n",
       "      <td>0</td>\n",
       "    </tr>\n",
       "  </tbody>\n",
       "</table>\n",
       "</div>"
      ],
      "text/plain": [
       "   Unnamed: 0                                               text  toxic\n",
       "0           0  Explanation\\nWhy the edits made under my usern...      0\n",
       "1           1  D'aww! He matches this background colour I'm s...      0\n",
       "2           2  Hey man, I'm really not trying to edit war. It...      0\n",
       "3           3  \"\\nMore\\nI can't make any real suggestions on ...      0\n",
       "4           4  You, sir, are my hero. Any chance you remember...      0"
      ]
     },
     "execution_count": 5,
     "metadata": {},
     "output_type": "execute_result"
    }
   ],
   "source": [
    "# Анализ датафрейма\n",
    "print(data.info())\n",
    "data.sample(n=10)\n"
   ]
  },
  {
   "cell_type": "code",
   "execution_count": 7,
   "metadata": {},
   "outputs": [
    {
     "data": {
      "text/plain": [
       "array([0, 1])"
      ]
     },
     "execution_count": 7,
     "metadata": {},
     "output_type": "execute_result"
    }
   ],
   "source": [
    "# Анализ уникальных значений \n",
    "# категориального признака \"text\"\n",
    "data.toxic.unique()\n"
   ]
  },
  {
   "cell_type": "code",
   "execution_count": 8,
   "metadata": {},
   "outputs": [
    {
     "data": {
      "text/plain": [
       "<AxesSubplot:>"
      ]
     },
     "execution_count": 8,
     "metadata": {},
     "output_type": "execute_result"
    },
    {
     "data": {
      "image/svg+xml": [
       "<?xml version=\"1.0\" encoding=\"utf-8\" standalone=\"no\"?>\n",
       "<!DOCTYPE svg PUBLIC \"-//W3C//DTD SVG 1.1//EN\"\n",
       "  \"http://www.w3.org/Graphics/SVG/1.1/DTD/svg11.dtd\">\n",
       "<!-- Created with matplotlib (https://matplotlib.org/) -->\n",
       "<svg height=\"357.238125pt\" version=\"1.1\" viewBox=\"0 0 617.575 357.238125\" width=\"617.575pt\" xmlns=\"http://www.w3.org/2000/svg\" xmlns:xlink=\"http://www.w3.org/1999/xlink\">\n",
       " <metadata>\n",
       "  <rdf:RDF xmlns:cc=\"http://creativecommons.org/ns#\" xmlns:dc=\"http://purl.org/dc/elements/1.1/\" xmlns:rdf=\"http://www.w3.org/1999/02/22-rdf-syntax-ns#\">\n",
       "   <cc:Work>\n",
       "    <dc:type rdf:resource=\"http://purl.org/dc/dcmitype/StillImage\"/>\n",
       "    <dc:date>2023-09-11T18:18:42.120619</dc:date>\n",
       "    <dc:format>image/svg+xml</dc:format>\n",
       "    <dc:creator>\n",
       "     <cc:Agent>\n",
       "      <dc:title>Matplotlib v3.3.4, https://matplotlib.org/</dc:title>\n",
       "     </cc:Agent>\n",
       "    </dc:creator>\n",
       "   </cc:Work>\n",
       "  </rdf:RDF>\n",
       " </metadata>\n",
       " <defs>\n",
       "  <style type=\"text/css\">*{stroke-linecap:butt;stroke-linejoin:round;}</style>\n",
       " </defs>\n",
       " <g id=\"figure_1\">\n",
       "  <g id=\"patch_1\">\n",
       "   <path d=\"M 0 357.238125 \n",
       "L 617.575 357.238125 \n",
       "L 617.575 0 \n",
       "L 0 0 \n",
       "z\n",
       "\" style=\"fill:none;\"/>\n",
       "  </g>\n",
       "  <g id=\"axes_1\">\n",
       "   <g id=\"patch_2\">\n",
       "    <path d=\"M 52.375 333.36 \n",
       "L 610.375 333.36 \n",
       "L 610.375 7.2 \n",
       "L 52.375 7.2 \n",
       "z\n",
       "\" style=\"fill:#ffffff;\"/>\n",
       "   </g>\n",
       "   <g id=\"patch_3\">\n",
       "    <path clip-path=\"url(#pd1cb2d6f29)\" d=\"M 77.738636 333.36 \n",
       "L 128.465909 333.36 \n",
       "L 128.465909 22.731429 \n",
       "L 77.738636 22.731429 \n",
       "z\n",
       "\" style=\"fill:#1f77b4;\"/>\n",
       "   </g>\n",
       "   <g id=\"patch_4\">\n",
       "    <path clip-path=\"url(#pd1cb2d6f29)\" d=\"M 128.465909 333.36 \n",
       "L 179.193182 333.36 \n",
       "L 179.193182 333.36 \n",
       "L 128.465909 333.36 \n",
       "z\n",
       "\" style=\"fill:#1f77b4;\"/>\n",
       "   </g>\n",
       "   <g id=\"patch_5\">\n",
       "    <path clip-path=\"url(#pd1cb2d6f29)\" d=\"M 179.193182 333.36 \n",
       "L 229.920455 333.36 \n",
       "L 229.920455 333.36 \n",
       "L 179.193182 333.36 \n",
       "z\n",
       "\" style=\"fill:#1f77b4;\"/>\n",
       "   </g>\n",
       "   <g id=\"patch_6\">\n",
       "    <path clip-path=\"url(#pd1cb2d6f29)\" d=\"M 229.920455 333.36 \n",
       "L 280.647727 333.36 \n",
       "L 280.647727 333.36 \n",
       "L 229.920455 333.36 \n",
       "z\n",
       "\" style=\"fill:#1f77b4;\"/>\n",
       "   </g>\n",
       "   <g id=\"patch_7\">\n",
       "    <path clip-path=\"url(#pd1cb2d6f29)\" d=\"M 280.647727 333.36 \n",
       "L 331.375 333.36 \n",
       "L 331.375 333.36 \n",
       "L 280.647727 333.36 \n",
       "z\n",
       "\" style=\"fill:#1f77b4;\"/>\n",
       "   </g>\n",
       "   <g id=\"patch_8\">\n",
       "    <path clip-path=\"url(#pd1cb2d6f29)\" d=\"M 331.375 333.36 \n",
       "L 382.102273 333.36 \n",
       "L 382.102273 333.36 \n",
       "L 331.375 333.36 \n",
       "z\n",
       "\" style=\"fill:#1f77b4;\"/>\n",
       "   </g>\n",
       "   <g id=\"patch_9\">\n",
       "    <path clip-path=\"url(#pd1cb2d6f29)\" d=\"M 382.102273 333.36 \n",
       "L 432.829545 333.36 \n",
       "L 432.829545 333.36 \n",
       "L 382.102273 333.36 \n",
       "z\n",
       "\" style=\"fill:#1f77b4;\"/>\n",
       "   </g>\n",
       "   <g id=\"patch_10\">\n",
       "    <path clip-path=\"url(#pd1cb2d6f29)\" d=\"M 432.829545 333.36 \n",
       "L 483.556818 333.36 \n",
       "L 483.556818 333.36 \n",
       "L 432.829545 333.36 \n",
       "z\n",
       "\" style=\"fill:#1f77b4;\"/>\n",
       "   </g>\n",
       "   <g id=\"patch_11\">\n",
       "    <path clip-path=\"url(#pd1cb2d6f29)\" d=\"M 483.556818 333.36 \n",
       "L 534.284091 333.36 \n",
       "L 534.284091 333.36 \n",
       "L 483.556818 333.36 \n",
       "z\n",
       "\" style=\"fill:#1f77b4;\"/>\n",
       "   </g>\n",
       "   <g id=\"patch_12\">\n",
       "    <path clip-path=\"url(#pd1cb2d6f29)\" d=\"M 534.284091 333.36 \n",
       "L 585.011364 333.36 \n",
       "L 585.011364 298.226364 \n",
       "L 534.284091 298.226364 \n",
       "z\n",
       "\" style=\"fill:#1f77b4;\"/>\n",
       "   </g>\n",
       "   <g id=\"matplotlib.axis_1\">\n",
       "    <g id=\"xtick_1\">\n",
       "     <g id=\"line2d_1\">\n",
       "      <path clip-path=\"url(#pd1cb2d6f29)\" d=\"M 77.738636 333.36 \n",
       "L 77.738636 7.2 \n",
       "\" style=\"fill:none;stroke:#b0b0b0;stroke-linecap:square;stroke-width:0.8;\"/>\n",
       "     </g>\n",
       "     <g id=\"line2d_2\">\n",
       "      <defs>\n",
       "       <path d=\"M 0 0 \n",
       "L 0 3.5 \n",
       "\" id=\"ma81528e1f1\" style=\"stroke:#000000;stroke-width:0.8;\"/>\n",
       "      </defs>\n",
       "      <g>\n",
       "       <use style=\"stroke:#000000;stroke-width:0.8;\" x=\"77.738636\" xlink:href=\"#ma81528e1f1\" y=\"333.36\"/>\n",
       "      </g>\n",
       "     </g>\n",
       "     <g id=\"text_1\">\n",
       "      <!-- 0.0 -->\n",
       "      <g transform=\"translate(69.787074 347.958438)scale(0.1 -0.1)\">\n",
       "       <defs>\n",
       "        <path d=\"M 31.78125 66.40625 \n",
       "Q 24.171875 66.40625 20.328125 58.90625 \n",
       "Q 16.5 51.421875 16.5 36.375 \n",
       "Q 16.5 21.390625 20.328125 13.890625 \n",
       "Q 24.171875 6.390625 31.78125 6.390625 \n",
       "Q 39.453125 6.390625 43.28125 13.890625 \n",
       "Q 47.125 21.390625 47.125 36.375 \n",
       "Q 47.125 51.421875 43.28125 58.90625 \n",
       "Q 39.453125 66.40625 31.78125 66.40625 \n",
       "z\n",
       "M 31.78125 74.21875 \n",
       "Q 44.046875 74.21875 50.515625 64.515625 \n",
       "Q 56.984375 54.828125 56.984375 36.375 \n",
       "Q 56.984375 17.96875 50.515625 8.265625 \n",
       "Q 44.046875 -1.421875 31.78125 -1.421875 \n",
       "Q 19.53125 -1.421875 13.0625 8.265625 \n",
       "Q 6.59375 17.96875 6.59375 36.375 \n",
       "Q 6.59375 54.828125 13.0625 64.515625 \n",
       "Q 19.53125 74.21875 31.78125 74.21875 \n",
       "z\n",
       "\" id=\"DejaVuSans-48\"/>\n",
       "        <path d=\"M 10.6875 12.40625 \n",
       "L 21 12.40625 \n",
       "L 21 0 \n",
       "L 10.6875 0 \n",
       "z\n",
       "\" id=\"DejaVuSans-46\"/>\n",
       "       </defs>\n",
       "       <use xlink:href=\"#DejaVuSans-48\"/>\n",
       "       <use x=\"63.623047\" xlink:href=\"#DejaVuSans-46\"/>\n",
       "       <use x=\"95.410156\" xlink:href=\"#DejaVuSans-48\"/>\n",
       "      </g>\n",
       "     </g>\n",
       "    </g>\n",
       "    <g id=\"xtick_2\">\n",
       "     <g id=\"line2d_3\">\n",
       "      <path clip-path=\"url(#pd1cb2d6f29)\" d=\"M 179.193182 333.36 \n",
       "L 179.193182 7.2 \n",
       "\" style=\"fill:none;stroke:#b0b0b0;stroke-linecap:square;stroke-width:0.8;\"/>\n",
       "     </g>\n",
       "     <g id=\"line2d_4\">\n",
       "      <g>\n",
       "       <use style=\"stroke:#000000;stroke-width:0.8;\" x=\"179.193182\" xlink:href=\"#ma81528e1f1\" y=\"333.36\"/>\n",
       "      </g>\n",
       "     </g>\n",
       "     <g id=\"text_2\">\n",
       "      <!-- 0.2 -->\n",
       "      <g transform=\"translate(171.241619 347.958438)scale(0.1 -0.1)\">\n",
       "       <defs>\n",
       "        <path d=\"M 19.1875 8.296875 \n",
       "L 53.609375 8.296875 \n",
       "L 53.609375 0 \n",
       "L 7.328125 0 \n",
       "L 7.328125 8.296875 \n",
       "Q 12.9375 14.109375 22.625 23.890625 \n",
       "Q 32.328125 33.6875 34.8125 36.53125 \n",
       "Q 39.546875 41.84375 41.421875 45.53125 \n",
       "Q 43.3125 49.21875 43.3125 52.78125 \n",
       "Q 43.3125 58.59375 39.234375 62.25 \n",
       "Q 35.15625 65.921875 28.609375 65.921875 \n",
       "Q 23.96875 65.921875 18.8125 64.3125 \n",
       "Q 13.671875 62.703125 7.8125 59.421875 \n",
       "L 7.8125 69.390625 \n",
       "Q 13.765625 71.78125 18.9375 73 \n",
       "Q 24.125 74.21875 28.421875 74.21875 \n",
       "Q 39.75 74.21875 46.484375 68.546875 \n",
       "Q 53.21875 62.890625 53.21875 53.421875 \n",
       "Q 53.21875 48.921875 51.53125 44.890625 \n",
       "Q 49.859375 40.875 45.40625 35.40625 \n",
       "Q 44.1875 33.984375 37.640625 27.21875 \n",
       "Q 31.109375 20.453125 19.1875 8.296875 \n",
       "z\n",
       "\" id=\"DejaVuSans-50\"/>\n",
       "       </defs>\n",
       "       <use xlink:href=\"#DejaVuSans-48\"/>\n",
       "       <use x=\"63.623047\" xlink:href=\"#DejaVuSans-46\"/>\n",
       "       <use x=\"95.410156\" xlink:href=\"#DejaVuSans-50\"/>\n",
       "      </g>\n",
       "     </g>\n",
       "    </g>\n",
       "    <g id=\"xtick_3\">\n",
       "     <g id=\"line2d_5\">\n",
       "      <path clip-path=\"url(#pd1cb2d6f29)\" d=\"M 280.647727 333.36 \n",
       "L 280.647727 7.2 \n",
       "\" style=\"fill:none;stroke:#b0b0b0;stroke-linecap:square;stroke-width:0.8;\"/>\n",
       "     </g>\n",
       "     <g id=\"line2d_6\">\n",
       "      <g>\n",
       "       <use style=\"stroke:#000000;stroke-width:0.8;\" x=\"280.647727\" xlink:href=\"#ma81528e1f1\" y=\"333.36\"/>\n",
       "      </g>\n",
       "     </g>\n",
       "     <g id=\"text_3\">\n",
       "      <!-- 0.4 -->\n",
       "      <g transform=\"translate(272.696165 347.958438)scale(0.1 -0.1)\">\n",
       "       <defs>\n",
       "        <path d=\"M 37.796875 64.3125 \n",
       "L 12.890625 25.390625 \n",
       "L 37.796875 25.390625 \n",
       "z\n",
       "M 35.203125 72.90625 \n",
       "L 47.609375 72.90625 \n",
       "L 47.609375 25.390625 \n",
       "L 58.015625 25.390625 \n",
       "L 58.015625 17.1875 \n",
       "L 47.609375 17.1875 \n",
       "L 47.609375 0 \n",
       "L 37.796875 0 \n",
       "L 37.796875 17.1875 \n",
       "L 4.890625 17.1875 \n",
       "L 4.890625 26.703125 \n",
       "z\n",
       "\" id=\"DejaVuSans-52\"/>\n",
       "       </defs>\n",
       "       <use xlink:href=\"#DejaVuSans-48\"/>\n",
       "       <use x=\"63.623047\" xlink:href=\"#DejaVuSans-46\"/>\n",
       "       <use x=\"95.410156\" xlink:href=\"#DejaVuSans-52\"/>\n",
       "      </g>\n",
       "     </g>\n",
       "    </g>\n",
       "    <g id=\"xtick_4\">\n",
       "     <g id=\"line2d_7\">\n",
       "      <path clip-path=\"url(#pd1cb2d6f29)\" d=\"M 382.102273 333.36 \n",
       "L 382.102273 7.2 \n",
       "\" style=\"fill:none;stroke:#b0b0b0;stroke-linecap:square;stroke-width:0.8;\"/>\n",
       "     </g>\n",
       "     <g id=\"line2d_8\">\n",
       "      <g>\n",
       "       <use style=\"stroke:#000000;stroke-width:0.8;\" x=\"382.102273\" xlink:href=\"#ma81528e1f1\" y=\"333.36\"/>\n",
       "      </g>\n",
       "     </g>\n",
       "     <g id=\"text_4\">\n",
       "      <!-- 0.6 -->\n",
       "      <g transform=\"translate(374.15071 347.958438)scale(0.1 -0.1)\">\n",
       "       <defs>\n",
       "        <path d=\"M 33.015625 40.375 \n",
       "Q 26.375 40.375 22.484375 35.828125 \n",
       "Q 18.609375 31.296875 18.609375 23.390625 \n",
       "Q 18.609375 15.53125 22.484375 10.953125 \n",
       "Q 26.375 6.390625 33.015625 6.390625 \n",
       "Q 39.65625 6.390625 43.53125 10.953125 \n",
       "Q 47.40625 15.53125 47.40625 23.390625 \n",
       "Q 47.40625 31.296875 43.53125 35.828125 \n",
       "Q 39.65625 40.375 33.015625 40.375 \n",
       "z\n",
       "M 52.59375 71.296875 \n",
       "L 52.59375 62.3125 \n",
       "Q 48.875 64.0625 45.09375 64.984375 \n",
       "Q 41.3125 65.921875 37.59375 65.921875 \n",
       "Q 27.828125 65.921875 22.671875 59.328125 \n",
       "Q 17.53125 52.734375 16.796875 39.40625 \n",
       "Q 19.671875 43.65625 24.015625 45.921875 \n",
       "Q 28.375 48.1875 33.59375 48.1875 \n",
       "Q 44.578125 48.1875 50.953125 41.515625 \n",
       "Q 57.328125 34.859375 57.328125 23.390625 \n",
       "Q 57.328125 12.15625 50.6875 5.359375 \n",
       "Q 44.046875 -1.421875 33.015625 -1.421875 \n",
       "Q 20.359375 -1.421875 13.671875 8.265625 \n",
       "Q 6.984375 17.96875 6.984375 36.375 \n",
       "Q 6.984375 53.65625 15.1875 63.9375 \n",
       "Q 23.390625 74.21875 37.203125 74.21875 \n",
       "Q 40.921875 74.21875 44.703125 73.484375 \n",
       "Q 48.484375 72.75 52.59375 71.296875 \n",
       "z\n",
       "\" id=\"DejaVuSans-54\"/>\n",
       "       </defs>\n",
       "       <use xlink:href=\"#DejaVuSans-48\"/>\n",
       "       <use x=\"63.623047\" xlink:href=\"#DejaVuSans-46\"/>\n",
       "       <use x=\"95.410156\" xlink:href=\"#DejaVuSans-54\"/>\n",
       "      </g>\n",
       "     </g>\n",
       "    </g>\n",
       "    <g id=\"xtick_5\">\n",
       "     <g id=\"line2d_9\">\n",
       "      <path clip-path=\"url(#pd1cb2d6f29)\" d=\"M 483.556818 333.36 \n",
       "L 483.556818 7.2 \n",
       "\" style=\"fill:none;stroke:#b0b0b0;stroke-linecap:square;stroke-width:0.8;\"/>\n",
       "     </g>\n",
       "     <g id=\"line2d_10\">\n",
       "      <g>\n",
       "       <use style=\"stroke:#000000;stroke-width:0.8;\" x=\"483.556818\" xlink:href=\"#ma81528e1f1\" y=\"333.36\"/>\n",
       "      </g>\n",
       "     </g>\n",
       "     <g id=\"text_5\">\n",
       "      <!-- 0.8 -->\n",
       "      <g transform=\"translate(475.605256 347.958438)scale(0.1 -0.1)\">\n",
       "       <defs>\n",
       "        <path d=\"M 31.78125 34.625 \n",
       "Q 24.75 34.625 20.71875 30.859375 \n",
       "Q 16.703125 27.09375 16.703125 20.515625 \n",
       "Q 16.703125 13.921875 20.71875 10.15625 \n",
       "Q 24.75 6.390625 31.78125 6.390625 \n",
       "Q 38.8125 6.390625 42.859375 10.171875 \n",
       "Q 46.921875 13.96875 46.921875 20.515625 \n",
       "Q 46.921875 27.09375 42.890625 30.859375 \n",
       "Q 38.875 34.625 31.78125 34.625 \n",
       "z\n",
       "M 21.921875 38.8125 \n",
       "Q 15.578125 40.375 12.03125 44.71875 \n",
       "Q 8.5 49.078125 8.5 55.328125 \n",
       "Q 8.5 64.0625 14.71875 69.140625 \n",
       "Q 20.953125 74.21875 31.78125 74.21875 \n",
       "Q 42.671875 74.21875 48.875 69.140625 \n",
       "Q 55.078125 64.0625 55.078125 55.328125 \n",
       "Q 55.078125 49.078125 51.53125 44.71875 \n",
       "Q 48 40.375 41.703125 38.8125 \n",
       "Q 48.828125 37.15625 52.796875 32.3125 \n",
       "Q 56.78125 27.484375 56.78125 20.515625 \n",
       "Q 56.78125 9.90625 50.3125 4.234375 \n",
       "Q 43.84375 -1.421875 31.78125 -1.421875 \n",
       "Q 19.734375 -1.421875 13.25 4.234375 \n",
       "Q 6.78125 9.90625 6.78125 20.515625 \n",
       "Q 6.78125 27.484375 10.78125 32.3125 \n",
       "Q 14.796875 37.15625 21.921875 38.8125 \n",
       "z\n",
       "M 18.3125 54.390625 \n",
       "Q 18.3125 48.734375 21.84375 45.5625 \n",
       "Q 25.390625 42.390625 31.78125 42.390625 \n",
       "Q 38.140625 42.390625 41.71875 45.5625 \n",
       "Q 45.3125 48.734375 45.3125 54.390625 \n",
       "Q 45.3125 60.0625 41.71875 63.234375 \n",
       "Q 38.140625 66.40625 31.78125 66.40625 \n",
       "Q 25.390625 66.40625 21.84375 63.234375 \n",
       "Q 18.3125 60.0625 18.3125 54.390625 \n",
       "z\n",
       "\" id=\"DejaVuSans-56\"/>\n",
       "       </defs>\n",
       "       <use xlink:href=\"#DejaVuSans-48\"/>\n",
       "       <use x=\"63.623047\" xlink:href=\"#DejaVuSans-46\"/>\n",
       "       <use x=\"95.410156\" xlink:href=\"#DejaVuSans-56\"/>\n",
       "      </g>\n",
       "     </g>\n",
       "    </g>\n",
       "    <g id=\"xtick_6\">\n",
       "     <g id=\"line2d_11\">\n",
       "      <path clip-path=\"url(#pd1cb2d6f29)\" d=\"M 585.011364 333.36 \n",
       "L 585.011364 7.2 \n",
       "\" style=\"fill:none;stroke:#b0b0b0;stroke-linecap:square;stroke-width:0.8;\"/>\n",
       "     </g>\n",
       "     <g id=\"line2d_12\">\n",
       "      <g>\n",
       "       <use style=\"stroke:#000000;stroke-width:0.8;\" x=\"585.011364\" xlink:href=\"#ma81528e1f1\" y=\"333.36\"/>\n",
       "      </g>\n",
       "     </g>\n",
       "     <g id=\"text_6\">\n",
       "      <!-- 1.0 -->\n",
       "      <g transform=\"translate(577.059801 347.958438)scale(0.1 -0.1)\">\n",
       "       <defs>\n",
       "        <path d=\"M 12.40625 8.296875 \n",
       "L 28.515625 8.296875 \n",
       "L 28.515625 63.921875 \n",
       "L 10.984375 60.40625 \n",
       "L 10.984375 69.390625 \n",
       "L 28.421875 72.90625 \n",
       "L 38.28125 72.90625 \n",
       "L 38.28125 8.296875 \n",
       "L 54.390625 8.296875 \n",
       "L 54.390625 0 \n",
       "L 12.40625 0 \n",
       "z\n",
       "\" id=\"DejaVuSans-49\"/>\n",
       "       </defs>\n",
       "       <use xlink:href=\"#DejaVuSans-49\"/>\n",
       "       <use x=\"63.623047\" xlink:href=\"#DejaVuSans-46\"/>\n",
       "       <use x=\"95.410156\" xlink:href=\"#DejaVuSans-48\"/>\n",
       "      </g>\n",
       "     </g>\n",
       "    </g>\n",
       "   </g>\n",
       "   <g id=\"matplotlib.axis_2\">\n",
       "    <g id=\"ytick_1\">\n",
       "     <g id=\"line2d_13\">\n",
       "      <path clip-path=\"url(#pd1cb2d6f29)\" d=\"M 52.375 333.36 \n",
       "L 610.375 333.36 \n",
       "\" style=\"fill:none;stroke:#b0b0b0;stroke-linecap:square;stroke-width:0.8;\"/>\n",
       "     </g>\n",
       "     <g id=\"line2d_14\">\n",
       "      <defs>\n",
       "       <path d=\"M 0 0 \n",
       "L -3.5 0 \n",
       "\" id=\"m983c6bfbd4\" style=\"stroke:#000000;stroke-width:0.8;\"/>\n",
       "      </defs>\n",
       "      <g>\n",
       "       <use style=\"stroke:#000000;stroke-width:0.8;\" x=\"52.375\" xlink:href=\"#m983c6bfbd4\" y=\"333.36\"/>\n",
       "      </g>\n",
       "     </g>\n",
       "     <g id=\"text_7\">\n",
       "      <!-- 0 -->\n",
       "      <g transform=\"translate(39.0125 337.159219)scale(0.1 -0.1)\">\n",
       "       <use xlink:href=\"#DejaVuSans-48\"/>\n",
       "      </g>\n",
       "     </g>\n",
       "    </g>\n",
       "    <g id=\"ytick_2\">\n",
       "     <g id=\"line2d_15\">\n",
       "      <path clip-path=\"url(#pd1cb2d6f29)\" d=\"M 52.375 289.947624 \n",
       "L 610.375 289.947624 \n",
       "\" style=\"fill:none;stroke:#b0b0b0;stroke-linecap:square;stroke-width:0.8;\"/>\n",
       "     </g>\n",
       "     <g id=\"line2d_16\">\n",
       "      <g>\n",
       "       <use style=\"stroke:#000000;stroke-width:0.8;\" x=\"52.375\" xlink:href=\"#m983c6bfbd4\" y=\"289.947624\"/>\n",
       "      </g>\n",
       "     </g>\n",
       "     <g id=\"text_8\">\n",
       "      <!-- 20000 -->\n",
       "      <g transform=\"translate(13.5625 293.746843)scale(0.1 -0.1)\">\n",
       "       <use xlink:href=\"#DejaVuSans-50\"/>\n",
       "       <use x=\"63.623047\" xlink:href=\"#DejaVuSans-48\"/>\n",
       "       <use x=\"127.246094\" xlink:href=\"#DejaVuSans-48\"/>\n",
       "       <use x=\"190.869141\" xlink:href=\"#DejaVuSans-48\"/>\n",
       "       <use x=\"254.492188\" xlink:href=\"#DejaVuSans-48\"/>\n",
       "      </g>\n",
       "     </g>\n",
       "    </g>\n",
       "    <g id=\"ytick_3\">\n",
       "     <g id=\"line2d_17\">\n",
       "      <path clip-path=\"url(#pd1cb2d6f29)\" d=\"M 52.375 246.535249 \n",
       "L 610.375 246.535249 \n",
       "\" style=\"fill:none;stroke:#b0b0b0;stroke-linecap:square;stroke-width:0.8;\"/>\n",
       "     </g>\n",
       "     <g id=\"line2d_18\">\n",
       "      <g>\n",
       "       <use style=\"stroke:#000000;stroke-width:0.8;\" x=\"52.375\" xlink:href=\"#m983c6bfbd4\" y=\"246.535249\"/>\n",
       "      </g>\n",
       "     </g>\n",
       "     <g id=\"text_9\">\n",
       "      <!-- 40000 -->\n",
       "      <g transform=\"translate(13.5625 250.334467)scale(0.1 -0.1)\">\n",
       "       <use xlink:href=\"#DejaVuSans-52\"/>\n",
       "       <use x=\"63.623047\" xlink:href=\"#DejaVuSans-48\"/>\n",
       "       <use x=\"127.246094\" xlink:href=\"#DejaVuSans-48\"/>\n",
       "       <use x=\"190.869141\" xlink:href=\"#DejaVuSans-48\"/>\n",
       "       <use x=\"254.492188\" xlink:href=\"#DejaVuSans-48\"/>\n",
       "      </g>\n",
       "     </g>\n",
       "    </g>\n",
       "    <g id=\"ytick_4\">\n",
       "     <g id=\"line2d_19\">\n",
       "      <path clip-path=\"url(#pd1cb2d6f29)\" d=\"M 52.375 203.122873 \n",
       "L 610.375 203.122873 \n",
       "\" style=\"fill:none;stroke:#b0b0b0;stroke-linecap:square;stroke-width:0.8;\"/>\n",
       "     </g>\n",
       "     <g id=\"line2d_20\">\n",
       "      <g>\n",
       "       <use style=\"stroke:#000000;stroke-width:0.8;\" x=\"52.375\" xlink:href=\"#m983c6bfbd4\" y=\"203.122873\"/>\n",
       "      </g>\n",
       "     </g>\n",
       "     <g id=\"text_10\">\n",
       "      <!-- 60000 -->\n",
       "      <g transform=\"translate(13.5625 206.922092)scale(0.1 -0.1)\">\n",
       "       <use xlink:href=\"#DejaVuSans-54\"/>\n",
       "       <use x=\"63.623047\" xlink:href=\"#DejaVuSans-48\"/>\n",
       "       <use x=\"127.246094\" xlink:href=\"#DejaVuSans-48\"/>\n",
       "       <use x=\"190.869141\" xlink:href=\"#DejaVuSans-48\"/>\n",
       "       <use x=\"254.492188\" xlink:href=\"#DejaVuSans-48\"/>\n",
       "      </g>\n",
       "     </g>\n",
       "    </g>\n",
       "    <g id=\"ytick_5\">\n",
       "     <g id=\"line2d_21\">\n",
       "      <path clip-path=\"url(#pd1cb2d6f29)\" d=\"M 52.375 159.710497 \n",
       "L 610.375 159.710497 \n",
       "\" style=\"fill:none;stroke:#b0b0b0;stroke-linecap:square;stroke-width:0.8;\"/>\n",
       "     </g>\n",
       "     <g id=\"line2d_22\">\n",
       "      <g>\n",
       "       <use style=\"stroke:#000000;stroke-width:0.8;\" x=\"52.375\" xlink:href=\"#m983c6bfbd4\" y=\"159.710497\"/>\n",
       "      </g>\n",
       "     </g>\n",
       "     <g id=\"text_11\">\n",
       "      <!-- 80000 -->\n",
       "      <g transform=\"translate(13.5625 163.509716)scale(0.1 -0.1)\">\n",
       "       <use xlink:href=\"#DejaVuSans-56\"/>\n",
       "       <use x=\"63.623047\" xlink:href=\"#DejaVuSans-48\"/>\n",
       "       <use x=\"127.246094\" xlink:href=\"#DejaVuSans-48\"/>\n",
       "       <use x=\"190.869141\" xlink:href=\"#DejaVuSans-48\"/>\n",
       "       <use x=\"254.492188\" xlink:href=\"#DejaVuSans-48\"/>\n",
       "      </g>\n",
       "     </g>\n",
       "    </g>\n",
       "    <g id=\"ytick_6\">\n",
       "     <g id=\"line2d_23\">\n",
       "      <path clip-path=\"url(#pd1cb2d6f29)\" d=\"M 52.375 116.298122 \n",
       "L 610.375 116.298122 \n",
       "\" style=\"fill:none;stroke:#b0b0b0;stroke-linecap:square;stroke-width:0.8;\"/>\n",
       "     </g>\n",
       "     <g id=\"line2d_24\">\n",
       "      <g>\n",
       "       <use style=\"stroke:#000000;stroke-width:0.8;\" x=\"52.375\" xlink:href=\"#m983c6bfbd4\" y=\"116.298122\"/>\n",
       "      </g>\n",
       "     </g>\n",
       "     <g id=\"text_12\">\n",
       "      <!-- 100000 -->\n",
       "      <g transform=\"translate(7.2 120.097341)scale(0.1 -0.1)\">\n",
       "       <use xlink:href=\"#DejaVuSans-49\"/>\n",
       "       <use x=\"63.623047\" xlink:href=\"#DejaVuSans-48\"/>\n",
       "       <use x=\"127.246094\" xlink:href=\"#DejaVuSans-48\"/>\n",
       "       <use x=\"190.869141\" xlink:href=\"#DejaVuSans-48\"/>\n",
       "       <use x=\"254.492188\" xlink:href=\"#DejaVuSans-48\"/>\n",
       "       <use x=\"318.115234\" xlink:href=\"#DejaVuSans-48\"/>\n",
       "      </g>\n",
       "     </g>\n",
       "    </g>\n",
       "    <g id=\"ytick_7\">\n",
       "     <g id=\"line2d_25\">\n",
       "      <path clip-path=\"url(#pd1cb2d6f29)\" d=\"M 52.375 72.885746 \n",
       "L 610.375 72.885746 \n",
       "\" style=\"fill:none;stroke:#b0b0b0;stroke-linecap:square;stroke-width:0.8;\"/>\n",
       "     </g>\n",
       "     <g id=\"line2d_26\">\n",
       "      <g>\n",
       "       <use style=\"stroke:#000000;stroke-width:0.8;\" x=\"52.375\" xlink:href=\"#m983c6bfbd4\" y=\"72.885746\"/>\n",
       "      </g>\n",
       "     </g>\n",
       "     <g id=\"text_13\">\n",
       "      <!-- 120000 -->\n",
       "      <g transform=\"translate(7.2 76.684965)scale(0.1 -0.1)\">\n",
       "       <use xlink:href=\"#DejaVuSans-49\"/>\n",
       "       <use x=\"63.623047\" xlink:href=\"#DejaVuSans-50\"/>\n",
       "       <use x=\"127.246094\" xlink:href=\"#DejaVuSans-48\"/>\n",
       "       <use x=\"190.869141\" xlink:href=\"#DejaVuSans-48\"/>\n",
       "       <use x=\"254.492188\" xlink:href=\"#DejaVuSans-48\"/>\n",
       "       <use x=\"318.115234\" xlink:href=\"#DejaVuSans-48\"/>\n",
       "      </g>\n",
       "     </g>\n",
       "    </g>\n",
       "    <g id=\"ytick_8\">\n",
       "     <g id=\"line2d_27\">\n",
       "      <path clip-path=\"url(#pd1cb2d6f29)\" d=\"M 52.375 29.473371 \n",
       "L 610.375 29.473371 \n",
       "\" style=\"fill:none;stroke:#b0b0b0;stroke-linecap:square;stroke-width:0.8;\"/>\n",
       "     </g>\n",
       "     <g id=\"line2d_28\">\n",
       "      <g>\n",
       "       <use style=\"stroke:#000000;stroke-width:0.8;\" x=\"52.375\" xlink:href=\"#m983c6bfbd4\" y=\"29.473371\"/>\n",
       "      </g>\n",
       "     </g>\n",
       "     <g id=\"text_14\">\n",
       "      <!-- 140000 -->\n",
       "      <g transform=\"translate(7.2 33.272589)scale(0.1 -0.1)\">\n",
       "       <use xlink:href=\"#DejaVuSans-49\"/>\n",
       "       <use x=\"63.623047\" xlink:href=\"#DejaVuSans-52\"/>\n",
       "       <use x=\"127.246094\" xlink:href=\"#DejaVuSans-48\"/>\n",
       "       <use x=\"190.869141\" xlink:href=\"#DejaVuSans-48\"/>\n",
       "       <use x=\"254.492188\" xlink:href=\"#DejaVuSans-48\"/>\n",
       "       <use x=\"318.115234\" xlink:href=\"#DejaVuSans-48\"/>\n",
       "      </g>\n",
       "     </g>\n",
       "    </g>\n",
       "   </g>\n",
       "   <g id=\"patch_13\">\n",
       "    <path d=\"M 52.375 333.36 \n",
       "L 52.375 7.2 \n",
       "\" style=\"fill:none;stroke:#000000;stroke-linecap:square;stroke-linejoin:miter;stroke-width:0.8;\"/>\n",
       "   </g>\n",
       "   <g id=\"patch_14\">\n",
       "    <path d=\"M 610.375 333.36 \n",
       "L 610.375 7.2 \n",
       "\" style=\"fill:none;stroke:#000000;stroke-linecap:square;stroke-linejoin:miter;stroke-width:0.8;\"/>\n",
       "   </g>\n",
       "   <g id=\"patch_15\">\n",
       "    <path d=\"M 52.375 333.36 \n",
       "L 610.375 333.36 \n",
       "\" style=\"fill:none;stroke:#000000;stroke-linecap:square;stroke-linejoin:miter;stroke-width:0.8;\"/>\n",
       "   </g>\n",
       "   <g id=\"patch_16\">\n",
       "    <path d=\"M 52.375 7.2 \n",
       "L 610.375 7.2 \n",
       "\" style=\"fill:none;stroke:#000000;stroke-linecap:square;stroke-linejoin:miter;stroke-width:0.8;\"/>\n",
       "   </g>\n",
       "  </g>\n",
       " </g>\n",
       " <defs>\n",
       "  <clipPath id=\"pd1cb2d6f29\">\n",
       "   <rect height=\"326.16\" width=\"558\" x=\"52.375\" y=\"7.2\"/>\n",
       "  </clipPath>\n",
       " </defs>\n",
       "</svg>\n"
      ],
      "text/plain": [
       "<Figure size 800x480 with 1 Axes>"
      ]
     },
     "metadata": {
      "needs_background": "light"
     },
     "output_type": "display_data"
    }
   ],
   "source": [
    "# Анализ баланса классов\n",
    "# целевой переменной\n",
    "data['toxic'].hist(); \n"
   ]
  },
  {
   "cell_type": "markdown",
   "metadata": {},
   "source": [
    "**Вылов из предварительного анализа данных**\n",
    "1. Датафрейм содержит 159292 объекта без пропусков и 3 признака. Признак `text` содержит исходные тексты твитов, является не целевым и будет использован в обучении и предсказании. Признак `toxic` содержит данные по классификации текстов и явялется целевым.\n",
    "1. Признак `toxic` содержит только `0` и `1`, но, при этом, имеет тип данных `int64`. Его следует оптимизировать до `uint8`.\n",
    "1. Признак `toxic` является целевыми с не сбалансированными классами и многократным перевесом в пользу класса `0`. Этот файкт требуется учесть при делении датафрейма на обучающие и тестовые выборки.\n",
    "1. Признак `Unnamed: 0` не содержит ценной для обучения информации и не будет использован в дальнейшем анализе и обучении моделей.\n"
   ]
  },
  {
   "cell_type": "markdown",
   "metadata": {},
   "source": [
    "### Предобработка данных"
   ]
  },
  {
   "cell_type": "code",
   "execution_count": 9,
   "metadata": {},
   "outputs": [],
   "source": [
    "# Ограничение выборки для ускорения проверки кода\n",
    "#data = data.loc[:10000, :]\n"
   ]
  },
  {
   "cell_type": "code",
   "execution_count": 10,
   "metadata": {},
   "outputs": [],
   "source": [
    "# Оптимизация типов данных\n",
    "data['toxic'] = data['toxic'].astype('uint8')\n",
    "#data['text'] = data['text'].values.astype('U') # Приводит к падению ядра и его автоматическом перезапуску\n"
   ]
  },
  {
   "cell_type": "code",
   "execution_count": 11,
   "metadata": {},
   "outputs": [],
   "source": [
    "# Функция очистки \n",
    "# английского и русского текста \n",
    "# от ненужных символов\n",
    "def clear_symbols(text, lenguage):\n",
    "    if lenguage == 'ru':\n",
    "        return ' '.join(re.sub(r'[^а-яА-ЯёЁ ]', ' ', text).split()) \n",
    "    elif lenguage == 'en':\n",
    "        return ' '.join(re.sub(r'[^a-zA-Z ]', ' ', text).split()) \n",
    "    "
   ]
  },
  {
   "cell_type": "code",
   "execution_count": 12,
   "metadata": {},
   "outputs": [],
   "source": [
    "# Функция работы с POS-тегами\n",
    "def get_wordnet_pos(word):\n",
    "    tag = pos_tag([word])[0][1][0].upper() \n",
    "    tag_dict = {\n",
    "        'J': wordnet.ADJ, \n",
    "        'N': wordnet.NOUN,  \n",
    "        'V': wordnet.VERB, \n",
    "        'R': wordnet.ADV, \n",
    "    } \n",
    "    return tag_dict.get(tag, wordnet.NOUN) \n"
   ]
  },
  {
   "cell_type": "code",
   "execution_count": 13,
   "metadata": {},
   "outputs": [],
   "source": [
    "# Функция лемматизации \n",
    "# русских и английских текстов\n",
    "def lemmatize(text, lenguage):\n",
    "    if lenguage == 'ru':\n",
    "        lemmatizer = Mystem() \n",
    "        lemms = lemmatizer.lemmatize(text) \n",
    "    elif lenguage == 'en':\n",
    "        lemmatizer = WordNetLemmatizer() \n",
    "        lemms = lemmatizer.lemmatize(text, get_wordnet_pos(text)) \n",
    "    string = ''\n",
    "    for i in lemms:\n",
    "        string += i\n",
    "    return string\n"
   ]
  },
  {
   "cell_type": "code",
   "execution_count": 14,
   "metadata": {},
   "outputs": [],
   "source": [
    "# Очистка и лемматизация \n",
    "# русских текстов\n",
    "corpus_ru = data['text'].apply(\n",
    "    lambda x: lemmatize(clear_symbols(x, 'ru'), 'ru') \n",
    ") \n"
   ]
  },
  {
   "cell_type": "code",
   "execution_count": 15,
   "metadata": {},
   "outputs": [],
   "source": [
    "# Очистка и лемматизация \n",
    "# английских текстов\n",
    "corpus_eng = data['text'].apply(\n",
    "    lambda x: lemmatize(clear_symbols(x, 'en'), 'en') \n",
    ") \n"
   ]
  },
  {
   "cell_type": "code",
   "execution_count": 16,
   "metadata": {
    "scrolled": false
   },
   "outputs": [],
   "source": [
    "# Добавление лемм в датафрейм\n",
    "data['corpus'] = pd.DataFrame(corpus_ru) + ' ' + pd.DataFrame(corpus_eng) \n",
    "# Приведение лемм к нижнему регистру\n",
    "data['corpus'] = data['corpus'].str.lower() \n",
    "\n",
    "# Очистка памяти \n",
    "# от неиспользуемых переменных\n",
    "#del corpus_ru, corpus_eng\n"
   ]
  },
  {
   "cell_type": "code",
   "execution_count": 17,
   "metadata": {},
   "outputs": [
    {
     "name": "stdout",
     "output_type": "stream",
     "text": [
      "count    159292.000000\n",
      "mean         68.079596\n",
      "std         100.851423\n",
      "min           0.000000\n",
      "25%          17.000000\n",
      "50%          36.000000\n",
      "75%          76.000000\n",
      "max        1403.000000\n",
      "Name: numbers_of_words, dtype: float64\n"
     ]
    },
    {
     "data": {
      "text/plain": [
       "0     46\n",
       "1     16\n",
       "2     44\n",
       "3    116\n",
       "4     14\n",
       "Name: numbers_of_words, dtype: int64"
      ]
     },
     "execution_count": 17,
     "metadata": {},
     "output_type": "execute_result"
    }
   ],
   "source": [
    "# Добавление нового признака \n",
    "# с количеством слов в тексте\n",
    "data['numbers_of_words'] = data['corpus'].copy().str.split().str.len().values\n",
    "print(data['numbers_of_words'].describe()) \n",
    "data['numbers_of_words'].head() \n"
   ]
  },
  {
   "cell_type": "code",
   "execution_count": 18,
   "metadata": {},
   "outputs": [
    {
     "name": "stdout",
     "output_type": "stream",
     "text": [
      "count    1.592920e+05\n",
      "mean              inf\n",
      "std               NaN\n",
      "min      2.000000e+00\n",
      "25%      5.037736e+00\n",
      "50%      5.400000e+00\n",
      "75%      5.758621e+00\n",
      "max               inf\n",
      "Name: average_word_lenght, dtype: float64\n",
      "\n",
      "count    159292.000000\n",
      "mean          5.435757\n",
      "std           0.665085\n",
      "min           2.000000\n",
      "25%           5.037736\n",
      "50%           5.400000\n",
      "75%           5.757576\n",
      "max          10.750000\n",
      "Name: average_word_lenght, dtype: float64\n"
     ]
    },
    {
     "data": {
      "text/plain": [
       "0    5.413043\n",
       "1    5.562500\n",
       "2    5.227273\n",
       "3    5.189655\n",
       "4    4.571429\n",
       "Name: average_word_lenght, dtype: float64"
      ]
     },
     "execution_count": 18,
     "metadata": {},
     "output_type": "execute_result"
    }
   ],
   "source": [
    "# # Добавление нового признака \n",
    "# со средней длиной слов\n",
    "#data['average_word_lenght'] = (data['corpus'].str.len() / data['numbers_of_words']).round() \n",
    "data['average_word_lenght'] = (data['corpus'].str.len() / data['numbers_of_words'])\n",
    "print(data['average_word_lenght'].describe())  \n",
    "print() \n",
    "\n",
    "data.loc[data['average_word_lenght'] > data['average_word_lenght'].median()*2, 'average_word_lenght'] = data['average_word_lenght'].median() \n",
    "print(data['average_word_lenght'].describe())  \n",
    "data['average_word_lenght'].head() \n"
   ]
  },
  {
   "cell_type": "code",
   "execution_count": 19,
   "metadata": {
    "scrolled": false
   },
   "outputs": [
    {
     "name": "stdout",
     "output_type": "stream",
     "text": [
      "corpus: 159292\n",
      "\n"
     ]
    },
    {
     "data": {
      "text/html": [
       "<div>\n",
       "<style scoped>\n",
       "    .dataframe tbody tr th:only-of-type {\n",
       "        vertical-align: middle;\n",
       "    }\n",
       "\n",
       "    .dataframe tbody tr th {\n",
       "        vertical-align: top;\n",
       "    }\n",
       "\n",
       "    .dataframe thead th {\n",
       "        text-align: right;\n",
       "    }\n",
       "</style>\n",
       "<table border=\"1\" class=\"dataframe\">\n",
       "  <thead>\n",
       "    <tr style=\"text-align: right;\">\n",
       "      <th></th>\n",
       "      <th>Unnamed: 0</th>\n",
       "      <th>text</th>\n",
       "      <th>toxic</th>\n",
       "      <th>corpus</th>\n",
       "      <th>numbers_of_words</th>\n",
       "      <th>average_word_lenght</th>\n",
       "    </tr>\n",
       "  </thead>\n",
       "  <tbody>\n",
       "    <tr>\n",
       "      <th>0</th>\n",
       "      <td>0</td>\n",
       "      <td>Explanation\\nWhy the edits made under my usern...</td>\n",
       "      <td>0</td>\n",
       "      <td>explanation why the edits made under my usern...</td>\n",
       "      <td>46</td>\n",
       "      <td>5.413043</td>\n",
       "    </tr>\n",
       "    <tr>\n",
       "      <th>1</th>\n",
       "      <td>1</td>\n",
       "      <td>D'aww! He matches this background colour I'm s...</td>\n",
       "      <td>0</td>\n",
       "      <td>d aww he matches this background colour i m s...</td>\n",
       "      <td>16</td>\n",
       "      <td>5.562500</td>\n",
       "    </tr>\n",
       "    <tr>\n",
       "      <th>2</th>\n",
       "      <td>2</td>\n",
       "      <td>Hey man, I'm really not trying to edit war. It...</td>\n",
       "      <td>0</td>\n",
       "      <td>hey man i m really not trying to edit war it ...</td>\n",
       "      <td>44</td>\n",
       "      <td>5.227273</td>\n",
       "    </tr>\n",
       "    <tr>\n",
       "      <th>3</th>\n",
       "      <td>3</td>\n",
       "      <td>\"\\nMore\\nI can't make any real suggestions on ...</td>\n",
       "      <td>0</td>\n",
       "      <td>more i can t make any real suggestions on imp...</td>\n",
       "      <td>116</td>\n",
       "      <td>5.189655</td>\n",
       "    </tr>\n",
       "    <tr>\n",
       "      <th>4</th>\n",
       "      <td>4</td>\n",
       "      <td>You, sir, are my hero. Any chance you remember...</td>\n",
       "      <td>0</td>\n",
       "      <td>you sir are my hero any chance you remember w...</td>\n",
       "      <td>14</td>\n",
       "      <td>4.571429</td>\n",
       "    </tr>\n",
       "    <tr>\n",
       "      <th>5</th>\n",
       "      <td>5</td>\n",
       "      <td>\"\\n\\nCongratulations from me as well, use the ...</td>\n",
       "      <td>0</td>\n",
       "      <td>congratulations from me as well use the tools...</td>\n",
       "      <td>10</td>\n",
       "      <td>5.600000</td>\n",
       "    </tr>\n",
       "    <tr>\n",
       "      <th>6</th>\n",
       "      <td>6</td>\n",
       "      <td>COCKSUCKER BEFORE YOU PISS AROUND ON MY WORK</td>\n",
       "      <td>1</td>\n",
       "      <td>cocksucker before you piss around on my work</td>\n",
       "      <td>8</td>\n",
       "      <td>5.625000</td>\n",
       "    </tr>\n",
       "    <tr>\n",
       "      <th>7</th>\n",
       "      <td>7</td>\n",
       "      <td>Your vandalism to the Matt Shirvington article...</td>\n",
       "      <td>0</td>\n",
       "      <td>your vandalism to the matt shirvington articl...</td>\n",
       "      <td>21</td>\n",
       "      <td>5.333333</td>\n",
       "    </tr>\n",
       "    <tr>\n",
       "      <th>8</th>\n",
       "      <td>8</td>\n",
       "      <td>Sorry if the word 'nonsense' was offensive to ...</td>\n",
       "      <td>0</td>\n",
       "      <td>sorry if the word nonsense was offensive to y...</td>\n",
       "      <td>86</td>\n",
       "      <td>5.186047</td>\n",
       "    </tr>\n",
       "    <tr>\n",
       "      <th>9</th>\n",
       "      <td>9</td>\n",
       "      <td>alignment on this subject and which are contra...</td>\n",
       "      <td>0</td>\n",
       "      <td>alignment on this subject and which are contr...</td>\n",
       "      <td>12</td>\n",
       "      <td>5.916667</td>\n",
       "    </tr>\n",
       "    <tr>\n",
       "      <th>10</th>\n",
       "      <td>10</td>\n",
       "      <td>\"\\nFair use rationale for Image:Wonju.jpg\\n\\nT...</td>\n",
       "      <td>0</td>\n",
       "      <td>fair use rationale for image wonju jpg thanks...</td>\n",
       "      <td>501</td>\n",
       "      <td>5.542914</td>\n",
       "    </tr>\n",
       "    <tr>\n",
       "      <th>11</th>\n",
       "      <td>11</td>\n",
       "      <td>bbq \\n\\nbe a man and lets discuss it-maybe ove...</td>\n",
       "      <td>0</td>\n",
       "      <td>bbq be a man and lets discuss it maybe over t...</td>\n",
       "      <td>12</td>\n",
       "      <td>4.500000</td>\n",
       "    </tr>\n",
       "    <tr>\n",
       "      <th>12</th>\n",
       "      <td>12</td>\n",
       "      <td>Hey... what is it..\\n@ | talk .\\nWhat is it......</td>\n",
       "      <td>1</td>\n",
       "      <td>hey what is it talk what is it an exclusive g...</td>\n",
       "      <td>54</td>\n",
       "      <td>5.481481</td>\n",
       "    </tr>\n",
       "    <tr>\n",
       "      <th>13</th>\n",
       "      <td>13</td>\n",
       "      <td>Before you start throwing accusations and warn...</td>\n",
       "      <td>0</td>\n",
       "      <td>before you start throwing accusations and war...</td>\n",
       "      <td>147</td>\n",
       "      <td>5.469388</td>\n",
       "    </tr>\n",
       "    <tr>\n",
       "      <th>14</th>\n",
       "      <td>14</td>\n",
       "      <td>Oh, and the girl above started her arguments w...</td>\n",
       "      <td>0</td>\n",
       "      <td>oh and the girl above started her arguments w...</td>\n",
       "      <td>40</td>\n",
       "      <td>5.325000</td>\n",
       "    </tr>\n",
       "    <tr>\n",
       "      <th>15</th>\n",
       "      <td>15</td>\n",
       "      <td>\"\\n\\nJuelz Santanas Age\\n\\nIn 2002, Juelz Sant...</td>\n",
       "      <td>0</td>\n",
       "      <td>juelz santanas age in juelz santana was years...</td>\n",
       "      <td>107</td>\n",
       "      <td>4.971963</td>\n",
       "    </tr>\n",
       "    <tr>\n",
       "      <th>16</th>\n",
       "      <td>16</td>\n",
       "      <td>Bye! \\n\\nDon't look, come or think of comming ...</td>\n",
       "      <td>1</td>\n",
       "      <td>bye don t look come or think of comming back ...</td>\n",
       "      <td>11</td>\n",
       "      <td>4.727273</td>\n",
       "    </tr>\n",
       "    <tr>\n",
       "      <th>17</th>\n",
       "      <td>17</td>\n",
       "      <td>REDIRECT Talk:Voydan Pop Georgiev- Chernodrinski</td>\n",
       "      <td>0</td>\n",
       "      <td>redirect talk voydan pop georgiev chernodrinski</td>\n",
       "      <td>6</td>\n",
       "      <td>8.000000</td>\n",
       "    </tr>\n",
       "    <tr>\n",
       "      <th>18</th>\n",
       "      <td>18</td>\n",
       "      <td>The Mitsurugi point made no sense - why not ar...</td>\n",
       "      <td>0</td>\n",
       "      <td>the mitsurugi point made no sense why not arg...</td>\n",
       "      <td>21</td>\n",
       "      <td>5.523810</td>\n",
       "    </tr>\n",
       "    <tr>\n",
       "      <th>19</th>\n",
       "      <td>19</td>\n",
       "      <td>Don't mean to bother you \\n\\nI see that you're...</td>\n",
       "      <td>0</td>\n",
       "      <td>don t mean to bother you i see that you re wr...</td>\n",
       "      <td>84</td>\n",
       "      <td>5.166667</td>\n",
       "    </tr>\n",
       "    <tr>\n",
       "      <th>20</th>\n",
       "      <td>20</td>\n",
       "      <td>\"\\n\\n Regarding your recent edits \\n\\nOnce aga...</td>\n",
       "      <td>0</td>\n",
       "      <td>regarding your recent edits once again please...</td>\n",
       "      <td>40</td>\n",
       "      <td>6.025000</td>\n",
       "    </tr>\n",
       "    <tr>\n",
       "      <th>21</th>\n",
       "      <td>21</td>\n",
       "      <td>\"\\nGood to know. About me, yeah, I'm studying ...</td>\n",
       "      <td>0</td>\n",
       "      <td>good to know about me yeah i m studying now d...</td>\n",
       "      <td>11</td>\n",
       "      <td>4.545455</td>\n",
       "    </tr>\n",
       "    <tr>\n",
       "      <th>22</th>\n",
       "      <td>22</td>\n",
       "      <td>\"\\n\\n Snowflakes are NOT always symmetrical! \\...</td>\n",
       "      <td>0</td>\n",
       "      <td>snowflakes are not always symmetrical under g...</td>\n",
       "      <td>91</td>\n",
       "      <td>5.692308</td>\n",
       "    </tr>\n",
       "    <tr>\n",
       "      <th>23</th>\n",
       "      <td>23</td>\n",
       "      <td>\"\\n\\n The Signpost: 24 September 2012 \\n\\n Rea...</td>\n",
       "      <td>0</td>\n",
       "      <td>the signpost september read this signpost in ...</td>\n",
       "      <td>11</td>\n",
       "      <td>6.727273</td>\n",
       "    </tr>\n",
       "    <tr>\n",
       "      <th>24</th>\n",
       "      <td>24</td>\n",
       "      <td>\"\\n\\nRe-considering 1st paragraph edit?\\nI don...</td>\n",
       "      <td>0</td>\n",
       "      <td>re considering st paragraph edit i don t unde...</td>\n",
       "      <td>232</td>\n",
       "      <td>5.801724</td>\n",
       "    </tr>\n",
       "  </tbody>\n",
       "</table>\n",
       "</div>"
      ],
      "text/plain": [
       "    Unnamed: 0                                               text  toxic  \\\n",
       "0            0  Explanation\\nWhy the edits made under my usern...      0   \n",
       "1            1  D'aww! He matches this background colour I'm s...      0   \n",
       "2            2  Hey man, I'm really not trying to edit war. It...      0   \n",
       "3            3  \"\\nMore\\nI can't make any real suggestions on ...      0   \n",
       "4            4  You, sir, are my hero. Any chance you remember...      0   \n",
       "5            5  \"\\n\\nCongratulations from me as well, use the ...      0   \n",
       "6            6       COCKSUCKER BEFORE YOU PISS AROUND ON MY WORK      1   \n",
       "7            7  Your vandalism to the Matt Shirvington article...      0   \n",
       "8            8  Sorry if the word 'nonsense' was offensive to ...      0   \n",
       "9            9  alignment on this subject and which are contra...      0   \n",
       "10          10  \"\\nFair use rationale for Image:Wonju.jpg\\n\\nT...      0   \n",
       "11          11  bbq \\n\\nbe a man and lets discuss it-maybe ove...      0   \n",
       "12          12  Hey... what is it..\\n@ | talk .\\nWhat is it......      1   \n",
       "13          13  Before you start throwing accusations and warn...      0   \n",
       "14          14  Oh, and the girl above started her arguments w...      0   \n",
       "15          15  \"\\n\\nJuelz Santanas Age\\n\\nIn 2002, Juelz Sant...      0   \n",
       "16          16  Bye! \\n\\nDon't look, come or think of comming ...      1   \n",
       "17          17   REDIRECT Talk:Voydan Pop Georgiev- Chernodrinski      0   \n",
       "18          18  The Mitsurugi point made no sense - why not ar...      0   \n",
       "19          19  Don't mean to bother you \\n\\nI see that you're...      0   \n",
       "20          20  \"\\n\\n Regarding your recent edits \\n\\nOnce aga...      0   \n",
       "21          21  \"\\nGood to know. About me, yeah, I'm studying ...      0   \n",
       "22          22  \"\\n\\n Snowflakes are NOT always symmetrical! \\...      0   \n",
       "23          23  \"\\n\\n The Signpost: 24 September 2012 \\n\\n Rea...      0   \n",
       "24          24  \"\\n\\nRe-considering 1st paragraph edit?\\nI don...      0   \n",
       "\n",
       "                                               corpus  numbers_of_words  \\\n",
       "0    explanation why the edits made under my usern...                46   \n",
       "1    d aww he matches this background colour i m s...                16   \n",
       "2    hey man i m really not trying to edit war it ...                44   \n",
       "3    more i can t make any real suggestions on imp...               116   \n",
       "4    you sir are my hero any chance you remember w...                14   \n",
       "5    congratulations from me as well use the tools...                10   \n",
       "6        cocksucker before you piss around on my work                 8   \n",
       "7    your vandalism to the matt shirvington articl...                21   \n",
       "8    sorry if the word nonsense was offensive to y...                86   \n",
       "9    alignment on this subject and which are contr...                12   \n",
       "10   fair use rationale for image wonju jpg thanks...               501   \n",
       "11   bbq be a man and lets discuss it maybe over t...                12   \n",
       "12   hey what is it talk what is it an exclusive g...                54   \n",
       "13   before you start throwing accusations and war...               147   \n",
       "14   oh and the girl above started her arguments w...                40   \n",
       "15   juelz santanas age in juelz santana was years...               107   \n",
       "16   bye don t look come or think of comming back ...                11   \n",
       "17    redirect talk voydan pop georgiev chernodrinski                 6   \n",
       "18   the mitsurugi point made no sense why not arg...                21   \n",
       "19   don t mean to bother you i see that you re wr...                84   \n",
       "20   regarding your recent edits once again please...                40   \n",
       "21   good to know about me yeah i m studying now d...                11   \n",
       "22   snowflakes are not always symmetrical under g...                91   \n",
       "23   the signpost september read this signpost in ...                11   \n",
       "24   re considering st paragraph edit i don t unde...               232   \n",
       "\n",
       "    average_word_lenght  \n",
       "0              5.413043  \n",
       "1              5.562500  \n",
       "2              5.227273  \n",
       "3              5.189655  \n",
       "4              4.571429  \n",
       "5              5.600000  \n",
       "6              5.625000  \n",
       "7              5.333333  \n",
       "8              5.186047  \n",
       "9              5.916667  \n",
       "10             5.542914  \n",
       "11             4.500000  \n",
       "12             5.481481  \n",
       "13             5.469388  \n",
       "14             5.325000  \n",
       "15             4.971963  \n",
       "16             4.727273  \n",
       "17             8.000000  \n",
       "18             5.523810  \n",
       "19             5.166667  \n",
       "20             6.025000  \n",
       "21             4.545455  \n",
       "22             5.692308  \n",
       "23             6.727273  \n",
       "24             5.801724  "
      ]
     },
     "execution_count": 19,
     "metadata": {},
     "output_type": "execute_result"
    }
   ],
   "source": [
    "# Проверка датафрейма с леммами\n",
    "print('corpus:', data.loc[data['corpus'] != '', 'corpus'].count())\n",
    "print()\n",
    "data.loc[data['corpus'] != ''].head(25)\n"
   ]
  },
  {
   "cell_type": "code",
   "execution_count": 20,
   "metadata": {},
   "outputs": [
    {
     "data": {
      "image/svg+xml": [
       "<?xml version=\"1.0\" encoding=\"utf-8\" standalone=\"no\"?>\n",
       "<!DOCTYPE svg PUBLIC \"-//W3C//DTD SVG 1.1//EN\"\n",
       "  \"http://www.w3.org/Graphics/SVG/1.1/DTD/svg11.dtd\">\n",
       "<!-- Created with matplotlib (https://matplotlib.org/) -->\n",
       "<svg height=\"3627.517813pt\" version=\"1.1\" viewBox=\"0 0 605.803125 3627.517813\" width=\"605.803125pt\" xmlns=\"http://www.w3.org/2000/svg\" xmlns:xlink=\"http://www.w3.org/1999/xlink\">\n",
       " <metadata>\n",
       "  <rdf:RDF xmlns:cc=\"http://creativecommons.org/ns#\" xmlns:dc=\"http://purl.org/dc/elements/1.1/\" xmlns:rdf=\"http://www.w3.org/1999/02/22-rdf-syntax-ns#\">\n",
       "   <cc:Work>\n",
       "    <dc:type rdf:resource=\"http://purl.org/dc/dcmitype/StillImage\"/>\n",
       "    <dc:date>2023-09-11T18:22:43.745937</dc:date>\n",
       "    <dc:format>image/svg+xml</dc:format>\n",
       "    <dc:creator>\n",
       "     <cc:Agent>\n",
       "      <dc:title>Matplotlib v3.3.4, https://matplotlib.org/</dc:title>\n",
       "     </cc:Agent>\n",
       "    </dc:creator>\n",
       "   </cc:Work>\n",
       "  </rdf:RDF>\n",
       " </metadata>\n",
       " <defs>\n",
       "  <style type=\"text/css\">*{stroke-linecap:butt;stroke-linejoin:round;}</style>\n",
       " </defs>\n",
       " <g id=\"figure_1\">\n",
       "  <g id=\"patch_1\">\n",
       "   <path d=\"M 0 3627.517813 \n",
       "L 605.803125 3627.517813 \n",
       "L 605.803125 0 \n",
       "L 0 0 \n",
       "z\n",
       "\" style=\"fill:none;\"/>\n",
       "  </g>\n",
       "  <g id=\"axes_1\">\n",
       "   <g id=\"patch_2\">\n",
       "    <path d=\"M 40.603125 333.36 \n",
       "L 598.603125 333.36 \n",
       "L 598.603125 7.2 \n",
       "L 40.603125 7.2 \n",
       "z\n",
       "\" style=\"fill:#ffffff;\"/>\n",
       "   </g>\n",
       "   <g id=\"matplotlib.axis_1\">\n",
       "    <g id=\"xtick_1\">\n",
       "     <g id=\"line2d_1\">\n",
       "      <path clip-path=\"url(#p7b77b298fc)\" d=\"M 65.966761 333.36 \n",
       "L 65.966761 7.2 \n",
       "\" style=\"fill:none;stroke:#c0c0c0;stroke-linecap:square;stroke-width:0.8;\"/>\n",
       "     </g>\n",
       "     <g id=\"line2d_2\">\n",
       "      <defs>\n",
       "       <path d=\"M 0 0 \n",
       "L 0 3.5 \n",
       "\" id=\"m6d9b36f697\" style=\"stroke:#000000;stroke-width:0.8;\"/>\n",
       "      </defs>\n",
       "      <g>\n",
       "       <use style=\"stroke:#000000;stroke-width:0.8;\" x=\"65.966761\" xlink:href=\"#m6d9b36f697\" y=\"333.36\"/>\n",
       "      </g>\n",
       "     </g>\n",
       "     <g id=\"text_1\">\n",
       "      <!--  january -->\n",
       "      <g transform=\"translate(68.726136 381.277188)rotate(-90)scale(0.1 -0.1)\">\n",
       "       <defs>\n",
       "        <path id=\"DejaVuSans-32\"/>\n",
       "        <path d=\"M 9.421875 54.6875 \n",
       "L 18.40625 54.6875 \n",
       "L 18.40625 -0.984375 \n",
       "Q 18.40625 -11.421875 14.421875 -16.109375 \n",
       "Q 10.453125 -20.796875 1.609375 -20.796875 \n",
       "L -1.8125 -20.796875 \n",
       "L -1.8125 -13.1875 \n",
       "L 0.59375 -13.1875 \n",
       "Q 5.71875 -13.1875 7.5625 -10.8125 \n",
       "Q 9.421875 -8.453125 9.421875 -0.984375 \n",
       "z\n",
       "M 9.421875 75.984375 \n",
       "L 18.40625 75.984375 \n",
       "L 18.40625 64.59375 \n",
       "L 9.421875 64.59375 \n",
       "z\n",
       "\" id=\"DejaVuSans-106\"/>\n",
       "        <path d=\"M 34.28125 27.484375 \n",
       "Q 23.390625 27.484375 19.1875 25 \n",
       "Q 14.984375 22.515625 14.984375 16.5 \n",
       "Q 14.984375 11.71875 18.140625 8.90625 \n",
       "Q 21.296875 6.109375 26.703125 6.109375 \n",
       "Q 34.1875 6.109375 38.703125 11.40625 \n",
       "Q 43.21875 16.703125 43.21875 25.484375 \n",
       "L 43.21875 27.484375 \n",
       "z\n",
       "M 52.203125 31.203125 \n",
       "L 52.203125 0 \n",
       "L 43.21875 0 \n",
       "L 43.21875 8.296875 \n",
       "Q 40.140625 3.328125 35.546875 0.953125 \n",
       "Q 30.953125 -1.421875 24.3125 -1.421875 \n",
       "Q 15.921875 -1.421875 10.953125 3.296875 \n",
       "Q 6 8.015625 6 15.921875 \n",
       "Q 6 25.140625 12.171875 29.828125 \n",
       "Q 18.359375 34.515625 30.609375 34.515625 \n",
       "L 43.21875 34.515625 \n",
       "L 43.21875 35.40625 \n",
       "Q 43.21875 41.609375 39.140625 45 \n",
       "Q 35.0625 48.390625 27.6875 48.390625 \n",
       "Q 23 48.390625 18.546875 47.265625 \n",
       "Q 14.109375 46.140625 10.015625 43.890625 \n",
       "L 10.015625 52.203125 \n",
       "Q 14.9375 54.109375 19.578125 55.046875 \n",
       "Q 24.21875 56 28.609375 56 \n",
       "Q 40.484375 56 46.34375 49.84375 \n",
       "Q 52.203125 43.703125 52.203125 31.203125 \n",
       "z\n",
       "\" id=\"DejaVuSans-97\"/>\n",
       "        <path d=\"M 54.890625 33.015625 \n",
       "L 54.890625 0 \n",
       "L 45.90625 0 \n",
       "L 45.90625 32.71875 \n",
       "Q 45.90625 40.484375 42.875 44.328125 \n",
       "Q 39.84375 48.1875 33.796875 48.1875 \n",
       "Q 26.515625 48.1875 22.3125 43.546875 \n",
       "Q 18.109375 38.921875 18.109375 30.90625 \n",
       "L 18.109375 0 \n",
       "L 9.078125 0 \n",
       "L 9.078125 54.6875 \n",
       "L 18.109375 54.6875 \n",
       "L 18.109375 46.1875 \n",
       "Q 21.34375 51.125 25.703125 53.5625 \n",
       "Q 30.078125 56 35.796875 56 \n",
       "Q 45.21875 56 50.046875 50.171875 \n",
       "Q 54.890625 44.34375 54.890625 33.015625 \n",
       "z\n",
       "\" id=\"DejaVuSans-110\"/>\n",
       "        <path d=\"M 8.5 21.578125 \n",
       "L 8.5 54.6875 \n",
       "L 17.484375 54.6875 \n",
       "L 17.484375 21.921875 \n",
       "Q 17.484375 14.15625 20.5 10.265625 \n",
       "Q 23.53125 6.390625 29.59375 6.390625 \n",
       "Q 36.859375 6.390625 41.078125 11.03125 \n",
       "Q 45.3125 15.671875 45.3125 23.6875 \n",
       "L 45.3125 54.6875 \n",
       "L 54.296875 54.6875 \n",
       "L 54.296875 0 \n",
       "L 45.3125 0 \n",
       "L 45.3125 8.40625 \n",
       "Q 42.046875 3.421875 37.71875 1 \n",
       "Q 33.40625 -1.421875 27.6875 -1.421875 \n",
       "Q 18.265625 -1.421875 13.375 4.4375 \n",
       "Q 8.5 10.296875 8.5 21.578125 \n",
       "z\n",
       "M 31.109375 56 \n",
       "z\n",
       "\" id=\"DejaVuSans-117\"/>\n",
       "        <path d=\"M 41.109375 46.296875 \n",
       "Q 39.59375 47.171875 37.8125 47.578125 \n",
       "Q 36.03125 48 33.890625 48 \n",
       "Q 26.265625 48 22.1875 43.046875 \n",
       "Q 18.109375 38.09375 18.109375 28.8125 \n",
       "L 18.109375 0 \n",
       "L 9.078125 0 \n",
       "L 9.078125 54.6875 \n",
       "L 18.109375 54.6875 \n",
       "L 18.109375 46.1875 \n",
       "Q 20.953125 51.171875 25.484375 53.578125 \n",
       "Q 30.03125 56 36.53125 56 \n",
       "Q 37.453125 56 38.578125 55.875 \n",
       "Q 39.703125 55.765625 41.0625 55.515625 \n",
       "z\n",
       "\" id=\"DejaVuSans-114\"/>\n",
       "        <path d=\"M 32.171875 -5.078125 \n",
       "Q 28.375 -14.84375 24.75 -17.8125 \n",
       "Q 21.140625 -20.796875 15.09375 -20.796875 \n",
       "L 7.90625 -20.796875 \n",
       "L 7.90625 -13.28125 \n",
       "L 13.1875 -13.28125 \n",
       "Q 16.890625 -13.28125 18.9375 -11.515625 \n",
       "Q 21 -9.765625 23.484375 -3.21875 \n",
       "L 25.09375 0.875 \n",
       "L 2.984375 54.6875 \n",
       "L 12.5 54.6875 \n",
       "L 29.59375 11.921875 \n",
       "L 46.6875 54.6875 \n",
       "L 56.203125 54.6875 \n",
       "z\n",
       "\" id=\"DejaVuSans-121\"/>\n",
       "       </defs>\n",
       "       <use xlink:href=\"#DejaVuSans-32\"/>\n",
       "       <use x=\"31.787109\" xlink:href=\"#DejaVuSans-106\"/>\n",
       "       <use x=\"59.570312\" xlink:href=\"#DejaVuSans-97\"/>\n",
       "       <use x=\"120.849609\" xlink:href=\"#DejaVuSans-110\"/>\n",
       "       <use x=\"184.228516\" xlink:href=\"#DejaVuSans-117\"/>\n",
       "       <use x=\"247.607422\" xlink:href=\"#DejaVuSans-97\"/>\n",
       "       <use x=\"308.886719\" xlink:href=\"#DejaVuSans-114\"/>\n",
       "       <use x=\"350\" xlink:href=\"#DejaVuSans-121\"/>\n",
       "      </g>\n",
       "     </g>\n",
       "    </g>\n",
       "    <g id=\"xtick_2\">\n",
       "     <g id=\"line2d_3\">\n",
       "      <path clip-path=\"url(#p7b77b298fc)\" d=\"M 83.458924 333.36 \n",
       "L 83.458924 7.2 \n",
       "\" style=\"fill:none;stroke:#c0c0c0;stroke-linecap:square;stroke-width:0.8;\"/>\n",
       "     </g>\n",
       "     <g id=\"line2d_4\">\n",
       "      <g>\n",
       "       <use style=\"stroke:#000000;stroke-width:0.8;\" x=\"83.458924\" xlink:href=\"#m6d9b36f697\" y=\"333.36\"/>\n",
       "      </g>\n",
       "     </g>\n",
       "     <g id=\"text_2\">\n",
       "      <!--  thank you for experimenting with wikipedia your test worked and it has been reverted or removed please use the sandbox for any other tests you may want to do take a look at the welcome page to learn more about contributing to our encyclopedia talk -->\n",
       "      <g transform=\"translate(86.218299 1615.0725)rotate(-90)scale(0.1 -0.1)\">\n",
       "       <defs>\n",
       "        <path d=\"M 18.3125 70.21875 \n",
       "L 18.3125 54.6875 \n",
       "L 36.8125 54.6875 \n",
       "L 36.8125 47.703125 \n",
       "L 18.3125 47.703125 \n",
       "L 18.3125 18.015625 \n",
       "Q 18.3125 11.328125 20.140625 9.421875 \n",
       "Q 21.96875 7.515625 27.59375 7.515625 \n",
       "L 36.8125 7.515625 \n",
       "L 36.8125 0 \n",
       "L 27.59375 0 \n",
       "Q 17.1875 0 13.234375 3.875 \n",
       "Q 9.28125 7.765625 9.28125 18.015625 \n",
       "L 9.28125 47.703125 \n",
       "L 2.6875 47.703125 \n",
       "L 2.6875 54.6875 \n",
       "L 9.28125 54.6875 \n",
       "L 9.28125 70.21875 \n",
       "z\n",
       "\" id=\"DejaVuSans-116\"/>\n",
       "        <path d=\"M 54.890625 33.015625 \n",
       "L 54.890625 0 \n",
       "L 45.90625 0 \n",
       "L 45.90625 32.71875 \n",
       "Q 45.90625 40.484375 42.875 44.328125 \n",
       "Q 39.84375 48.1875 33.796875 48.1875 \n",
       "Q 26.515625 48.1875 22.3125 43.546875 \n",
       "Q 18.109375 38.921875 18.109375 30.90625 \n",
       "L 18.109375 0 \n",
       "L 9.078125 0 \n",
       "L 9.078125 75.984375 \n",
       "L 18.109375 75.984375 \n",
       "L 18.109375 46.1875 \n",
       "Q 21.34375 51.125 25.703125 53.5625 \n",
       "Q 30.078125 56 35.796875 56 \n",
       "Q 45.21875 56 50.046875 50.171875 \n",
       "Q 54.890625 44.34375 54.890625 33.015625 \n",
       "z\n",
       "\" id=\"DejaVuSans-104\"/>\n",
       "        <path d=\"M 9.078125 75.984375 \n",
       "L 18.109375 75.984375 \n",
       "L 18.109375 31.109375 \n",
       "L 44.921875 54.6875 \n",
       "L 56.390625 54.6875 \n",
       "L 27.390625 29.109375 \n",
       "L 57.625 0 \n",
       "L 45.90625 0 \n",
       "L 18.109375 26.703125 \n",
       "L 18.109375 0 \n",
       "L 9.078125 0 \n",
       "z\n",
       "\" id=\"DejaVuSans-107\"/>\n",
       "        <path d=\"M 30.609375 48.390625 \n",
       "Q 23.390625 48.390625 19.1875 42.75 \n",
       "Q 14.984375 37.109375 14.984375 27.296875 \n",
       "Q 14.984375 17.484375 19.15625 11.84375 \n",
       "Q 23.34375 6.203125 30.609375 6.203125 \n",
       "Q 37.796875 6.203125 41.984375 11.859375 \n",
       "Q 46.1875 17.53125 46.1875 27.296875 \n",
       "Q 46.1875 37.015625 41.984375 42.703125 \n",
       "Q 37.796875 48.390625 30.609375 48.390625 \n",
       "z\n",
       "M 30.609375 56 \n",
       "Q 42.328125 56 49.015625 48.375 \n",
       "Q 55.71875 40.765625 55.71875 27.296875 \n",
       "Q 55.71875 13.875 49.015625 6.21875 \n",
       "Q 42.328125 -1.421875 30.609375 -1.421875 \n",
       "Q 18.84375 -1.421875 12.171875 6.21875 \n",
       "Q 5.515625 13.875 5.515625 27.296875 \n",
       "Q 5.515625 40.765625 12.171875 48.375 \n",
       "Q 18.84375 56 30.609375 56 \n",
       "z\n",
       "\" id=\"DejaVuSans-111\"/>\n",
       "        <path d=\"M 37.109375 75.984375 \n",
       "L 37.109375 68.5 \n",
       "L 28.515625 68.5 \n",
       "Q 23.6875 68.5 21.796875 66.546875 \n",
       "Q 19.921875 64.59375 19.921875 59.515625 \n",
       "L 19.921875 54.6875 \n",
       "L 34.71875 54.6875 \n",
       "L 34.71875 47.703125 \n",
       "L 19.921875 47.703125 \n",
       "L 19.921875 0 \n",
       "L 10.890625 0 \n",
       "L 10.890625 47.703125 \n",
       "L 2.296875 47.703125 \n",
       "L 2.296875 54.6875 \n",
       "L 10.890625 54.6875 \n",
       "L 10.890625 58.5 \n",
       "Q 10.890625 67.625 15.140625 71.796875 \n",
       "Q 19.390625 75.984375 28.609375 75.984375 \n",
       "z\n",
       "\" id=\"DejaVuSans-102\"/>\n",
       "        <path d=\"M 56.203125 29.59375 \n",
       "L 56.203125 25.203125 \n",
       "L 14.890625 25.203125 \n",
       "Q 15.484375 15.921875 20.484375 11.0625 \n",
       "Q 25.484375 6.203125 34.421875 6.203125 \n",
       "Q 39.59375 6.203125 44.453125 7.46875 \n",
       "Q 49.3125 8.734375 54.109375 11.28125 \n",
       "L 54.109375 2.78125 \n",
       "Q 49.265625 0.734375 44.1875 -0.34375 \n",
       "Q 39.109375 -1.421875 33.890625 -1.421875 \n",
       "Q 20.796875 -1.421875 13.15625 6.1875 \n",
       "Q 5.515625 13.8125 5.515625 26.8125 \n",
       "Q 5.515625 40.234375 12.765625 48.109375 \n",
       "Q 20.015625 56 32.328125 56 \n",
       "Q 43.359375 56 49.78125 48.890625 \n",
       "Q 56.203125 41.796875 56.203125 29.59375 \n",
       "z\n",
       "M 47.21875 32.234375 \n",
       "Q 47.125 39.59375 43.09375 43.984375 \n",
       "Q 39.0625 48.390625 32.421875 48.390625 \n",
       "Q 24.90625 48.390625 20.390625 44.140625 \n",
       "Q 15.875 39.890625 15.1875 32.171875 \n",
       "z\n",
       "\" id=\"DejaVuSans-101\"/>\n",
       "        <path d=\"M 54.890625 54.6875 \n",
       "L 35.109375 28.078125 \n",
       "L 55.90625 0 \n",
       "L 45.3125 0 \n",
       "L 29.390625 21.484375 \n",
       "L 13.484375 0 \n",
       "L 2.875 0 \n",
       "L 24.125 28.609375 \n",
       "L 4.6875 54.6875 \n",
       "L 15.28125 54.6875 \n",
       "L 29.78125 35.203125 \n",
       "L 44.28125 54.6875 \n",
       "z\n",
       "\" id=\"DejaVuSans-120\"/>\n",
       "        <path d=\"M 18.109375 8.203125 \n",
       "L 18.109375 -20.796875 \n",
       "L 9.078125 -20.796875 \n",
       "L 9.078125 54.6875 \n",
       "L 18.109375 54.6875 \n",
       "L 18.109375 46.390625 \n",
       "Q 20.953125 51.265625 25.265625 53.625 \n",
       "Q 29.59375 56 35.59375 56 \n",
       "Q 45.5625 56 51.78125 48.09375 \n",
       "Q 58.015625 40.1875 58.015625 27.296875 \n",
       "Q 58.015625 14.40625 51.78125 6.484375 \n",
       "Q 45.5625 -1.421875 35.59375 -1.421875 \n",
       "Q 29.59375 -1.421875 25.265625 0.953125 \n",
       "Q 20.953125 3.328125 18.109375 8.203125 \n",
       "z\n",
       "M 48.6875 27.296875 \n",
       "Q 48.6875 37.203125 44.609375 42.84375 \n",
       "Q 40.53125 48.484375 33.40625 48.484375 \n",
       "Q 26.265625 48.484375 22.1875 42.84375 \n",
       "Q 18.109375 37.203125 18.109375 27.296875 \n",
       "Q 18.109375 17.390625 22.1875 11.75 \n",
       "Q 26.265625 6.109375 33.40625 6.109375 \n",
       "Q 40.53125 6.109375 44.609375 11.75 \n",
       "Q 48.6875 17.390625 48.6875 27.296875 \n",
       "z\n",
       "\" id=\"DejaVuSans-112\"/>\n",
       "        <path d=\"M 9.421875 54.6875 \n",
       "L 18.40625 54.6875 \n",
       "L 18.40625 0 \n",
       "L 9.421875 0 \n",
       "z\n",
       "M 9.421875 75.984375 \n",
       "L 18.40625 75.984375 \n",
       "L 18.40625 64.59375 \n",
       "L 9.421875 64.59375 \n",
       "z\n",
       "\" id=\"DejaVuSans-105\"/>\n",
       "        <path d=\"M 52 44.1875 \n",
       "Q 55.375 50.25 60.0625 53.125 \n",
       "Q 64.75 56 71.09375 56 \n",
       "Q 79.640625 56 84.28125 50.015625 \n",
       "Q 88.921875 44.046875 88.921875 33.015625 \n",
       "L 88.921875 0 \n",
       "L 79.890625 0 \n",
       "L 79.890625 32.71875 \n",
       "Q 79.890625 40.578125 77.09375 44.375 \n",
       "Q 74.3125 48.1875 68.609375 48.1875 \n",
       "Q 61.625 48.1875 57.5625 43.546875 \n",
       "Q 53.515625 38.921875 53.515625 30.90625 \n",
       "L 53.515625 0 \n",
       "L 44.484375 0 \n",
       "L 44.484375 32.71875 \n",
       "Q 44.484375 40.625 41.703125 44.40625 \n",
       "Q 38.921875 48.1875 33.109375 48.1875 \n",
       "Q 26.21875 48.1875 22.15625 43.53125 \n",
       "Q 18.109375 38.875 18.109375 30.90625 \n",
       "L 18.109375 0 \n",
       "L 9.078125 0 \n",
       "L 9.078125 54.6875 \n",
       "L 18.109375 54.6875 \n",
       "L 18.109375 46.1875 \n",
       "Q 21.1875 51.21875 25.484375 53.609375 \n",
       "Q 29.78125 56 35.6875 56 \n",
       "Q 41.65625 56 45.828125 52.96875 \n",
       "Q 50 49.953125 52 44.1875 \n",
       "z\n",
       "\" id=\"DejaVuSans-109\"/>\n",
       "        <path d=\"M 45.40625 27.984375 \n",
       "Q 45.40625 37.75 41.375 43.109375 \n",
       "Q 37.359375 48.484375 30.078125 48.484375 \n",
       "Q 22.859375 48.484375 18.828125 43.109375 \n",
       "Q 14.796875 37.75 14.796875 27.984375 \n",
       "Q 14.796875 18.265625 18.828125 12.890625 \n",
       "Q 22.859375 7.515625 30.078125 7.515625 \n",
       "Q 37.359375 7.515625 41.375 12.890625 \n",
       "Q 45.40625 18.265625 45.40625 27.984375 \n",
       "z\n",
       "M 54.390625 6.78125 \n",
       "Q 54.390625 -7.171875 48.1875 -13.984375 \n",
       "Q 42 -20.796875 29.203125 -20.796875 \n",
       "Q 24.46875 -20.796875 20.265625 -20.09375 \n",
       "Q 16.0625 -19.390625 12.109375 -17.921875 \n",
       "L 12.109375 -9.1875 \n",
       "Q 16.0625 -11.328125 19.921875 -12.34375 \n",
       "Q 23.78125 -13.375 27.78125 -13.375 \n",
       "Q 36.625 -13.375 41.015625 -8.765625 \n",
       "Q 45.40625 -4.15625 45.40625 5.171875 \n",
       "L 45.40625 9.625 \n",
       "Q 42.625 4.78125 38.28125 2.390625 \n",
       "Q 33.9375 0 27.875 0 \n",
       "Q 17.828125 0 11.671875 7.65625 \n",
       "Q 5.515625 15.328125 5.515625 27.984375 \n",
       "Q 5.515625 40.671875 11.671875 48.328125 \n",
       "Q 17.828125 56 27.875 56 \n",
       "Q 33.9375 56 38.28125 53.609375 \n",
       "Q 42.625 51.21875 45.40625 46.390625 \n",
       "L 45.40625 54.6875 \n",
       "L 54.390625 54.6875 \n",
       "z\n",
       "\" id=\"DejaVuSans-103\"/>\n",
       "        <path d=\"M 4.203125 54.6875 \n",
       "L 13.1875 54.6875 \n",
       "L 24.421875 12.015625 \n",
       "L 35.59375 54.6875 \n",
       "L 46.1875 54.6875 \n",
       "L 57.421875 12.015625 \n",
       "L 68.609375 54.6875 \n",
       "L 77.59375 54.6875 \n",
       "L 63.28125 0 \n",
       "L 52.6875 0 \n",
       "L 40.921875 44.828125 \n",
       "L 29.109375 0 \n",
       "L 18.5 0 \n",
       "z\n",
       "\" id=\"DejaVuSans-119\"/>\n",
       "        <path d=\"M 45.40625 46.390625 \n",
       "L 45.40625 75.984375 \n",
       "L 54.390625 75.984375 \n",
       "L 54.390625 0 \n",
       "L 45.40625 0 \n",
       "L 45.40625 8.203125 \n",
       "Q 42.578125 3.328125 38.25 0.953125 \n",
       "Q 33.9375 -1.421875 27.875 -1.421875 \n",
       "Q 17.96875 -1.421875 11.734375 6.484375 \n",
       "Q 5.515625 14.40625 5.515625 27.296875 \n",
       "Q 5.515625 40.1875 11.734375 48.09375 \n",
       "Q 17.96875 56 27.875 56 \n",
       "Q 33.9375 56 38.25 53.625 \n",
       "Q 42.578125 51.265625 45.40625 46.390625 \n",
       "z\n",
       "M 14.796875 27.296875 \n",
       "Q 14.796875 17.390625 18.875 11.75 \n",
       "Q 22.953125 6.109375 30.078125 6.109375 \n",
       "Q 37.203125 6.109375 41.296875 11.75 \n",
       "Q 45.40625 17.390625 45.40625 27.296875 \n",
       "Q 45.40625 37.203125 41.296875 42.84375 \n",
       "Q 37.203125 48.484375 30.078125 48.484375 \n",
       "Q 22.953125 48.484375 18.875 42.84375 \n",
       "Q 14.796875 37.203125 14.796875 27.296875 \n",
       "z\n",
       "\" id=\"DejaVuSans-100\"/>\n",
       "        <path d=\"M 44.28125 53.078125 \n",
       "L 44.28125 44.578125 \n",
       "Q 40.484375 46.53125 36.375 47.5 \n",
       "Q 32.28125 48.484375 27.875 48.484375 \n",
       "Q 21.1875 48.484375 17.84375 46.4375 \n",
       "Q 14.5 44.390625 14.5 40.28125 \n",
       "Q 14.5 37.15625 16.890625 35.375 \n",
       "Q 19.28125 33.59375 26.515625 31.984375 \n",
       "L 29.59375 31.296875 \n",
       "Q 39.15625 29.25 43.1875 25.515625 \n",
       "Q 47.21875 21.78125 47.21875 15.09375 \n",
       "Q 47.21875 7.46875 41.1875 3.015625 \n",
       "Q 35.15625 -1.421875 24.609375 -1.421875 \n",
       "Q 20.21875 -1.421875 15.453125 -0.5625 \n",
       "Q 10.6875 0.296875 5.421875 2 \n",
       "L 5.421875 11.28125 \n",
       "Q 10.40625 8.6875 15.234375 7.390625 \n",
       "Q 20.0625 6.109375 24.8125 6.109375 \n",
       "Q 31.15625 6.109375 34.5625 8.28125 \n",
       "Q 37.984375 10.453125 37.984375 14.40625 \n",
       "Q 37.984375 18.0625 35.515625 20.015625 \n",
       "Q 33.0625 21.96875 24.703125 23.78125 \n",
       "L 21.578125 24.515625 \n",
       "Q 13.234375 26.265625 9.515625 29.90625 \n",
       "Q 5.8125 33.546875 5.8125 39.890625 \n",
       "Q 5.8125 47.609375 11.28125 51.796875 \n",
       "Q 16.75 56 26.8125 56 \n",
       "Q 31.78125 56 36.171875 55.265625 \n",
       "Q 40.578125 54.546875 44.28125 53.078125 \n",
       "z\n",
       "\" id=\"DejaVuSans-115\"/>\n",
       "        <path d=\"M 48.6875 27.296875 \n",
       "Q 48.6875 37.203125 44.609375 42.84375 \n",
       "Q 40.53125 48.484375 33.40625 48.484375 \n",
       "Q 26.265625 48.484375 22.1875 42.84375 \n",
       "Q 18.109375 37.203125 18.109375 27.296875 \n",
       "Q 18.109375 17.390625 22.1875 11.75 \n",
       "Q 26.265625 6.109375 33.40625 6.109375 \n",
       "Q 40.53125 6.109375 44.609375 11.75 \n",
       "Q 48.6875 17.390625 48.6875 27.296875 \n",
       "z\n",
       "M 18.109375 46.390625 \n",
       "Q 20.953125 51.265625 25.265625 53.625 \n",
       "Q 29.59375 56 35.59375 56 \n",
       "Q 45.5625 56 51.78125 48.09375 \n",
       "Q 58.015625 40.1875 58.015625 27.296875 \n",
       "Q 58.015625 14.40625 51.78125 6.484375 \n",
       "Q 45.5625 -1.421875 35.59375 -1.421875 \n",
       "Q 29.59375 -1.421875 25.265625 0.953125 \n",
       "Q 20.953125 3.328125 18.109375 8.203125 \n",
       "L 18.109375 0 \n",
       "L 9.078125 0 \n",
       "L 9.078125 75.984375 \n",
       "L 18.109375 75.984375 \n",
       "z\n",
       "\" id=\"DejaVuSans-98\"/>\n",
       "        <path d=\"M 2.984375 54.6875 \n",
       "L 12.5 54.6875 \n",
       "L 29.59375 8.796875 \n",
       "L 46.6875 54.6875 \n",
       "L 56.203125 54.6875 \n",
       "L 35.6875 0 \n",
       "L 23.484375 0 \n",
       "z\n",
       "\" id=\"DejaVuSans-118\"/>\n",
       "        <path d=\"M 9.421875 75.984375 \n",
       "L 18.40625 75.984375 \n",
       "L 18.40625 0 \n",
       "L 9.421875 0 \n",
       "z\n",
       "\" id=\"DejaVuSans-108\"/>\n",
       "        <path d=\"M 48.78125 52.59375 \n",
       "L 48.78125 44.1875 \n",
       "Q 44.96875 46.296875 41.140625 47.34375 \n",
       "Q 37.3125 48.390625 33.40625 48.390625 \n",
       "Q 24.65625 48.390625 19.8125 42.84375 \n",
       "Q 14.984375 37.3125 14.984375 27.296875 \n",
       "Q 14.984375 17.28125 19.8125 11.734375 \n",
       "Q 24.65625 6.203125 33.40625 6.203125 \n",
       "Q 37.3125 6.203125 41.140625 7.25 \n",
       "Q 44.96875 8.296875 48.78125 10.40625 \n",
       "L 48.78125 2.09375 \n",
       "Q 45.015625 0.34375 40.984375 -0.53125 \n",
       "Q 36.96875 -1.421875 32.421875 -1.421875 \n",
       "Q 20.0625 -1.421875 12.78125 6.34375 \n",
       "Q 5.515625 14.109375 5.515625 27.296875 \n",
       "Q 5.515625 40.671875 12.859375 48.328125 \n",
       "Q 20.21875 56 33.015625 56 \n",
       "Q 37.15625 56 41.109375 55.140625 \n",
       "Q 45.0625 54.296875 48.78125 52.59375 \n",
       "z\n",
       "\" id=\"DejaVuSans-99\"/>\n",
       "       </defs>\n",
       "       <use xlink:href=\"#DejaVuSans-32\"/>\n",
       "       <use x=\"31.787109\" xlink:href=\"#DejaVuSans-116\"/>\n",
       "       <use x=\"70.996094\" xlink:href=\"#DejaVuSans-104\"/>\n",
       "       <use x=\"134.375\" xlink:href=\"#DejaVuSans-97\"/>\n",
       "       <use x=\"195.654297\" xlink:href=\"#DejaVuSans-110\"/>\n",
       "       <use x=\"259.033203\" xlink:href=\"#DejaVuSans-107\"/>\n",
       "       <use x=\"316.943359\" xlink:href=\"#DejaVuSans-32\"/>\n",
       "       <use x=\"348.730469\" xlink:href=\"#DejaVuSans-121\"/>\n",
       "       <use x=\"407.910156\" xlink:href=\"#DejaVuSans-111\"/>\n",
       "       <use x=\"469.091797\" xlink:href=\"#DejaVuSans-117\"/>\n",
       "       <use x=\"532.470703\" xlink:href=\"#DejaVuSans-32\"/>\n",
       "       <use x=\"564.257812\" xlink:href=\"#DejaVuSans-102\"/>\n",
       "       <use x=\"599.462891\" xlink:href=\"#DejaVuSans-111\"/>\n",
       "       <use x=\"660.644531\" xlink:href=\"#DejaVuSans-114\"/>\n",
       "       <use x=\"701.757812\" xlink:href=\"#DejaVuSans-32\"/>\n",
       "       <use x=\"733.544922\" xlink:href=\"#DejaVuSans-101\"/>\n",
       "       <use x=\"793.318359\" xlink:href=\"#DejaVuSans-120\"/>\n",
       "       <use x=\"852.498047\" xlink:href=\"#DejaVuSans-112\"/>\n",
       "       <use x=\"915.974609\" xlink:href=\"#DejaVuSans-101\"/>\n",
       "       <use x=\"977.498047\" xlink:href=\"#DejaVuSans-114\"/>\n",
       "       <use x=\"1018.611328\" xlink:href=\"#DejaVuSans-105\"/>\n",
       "       <use x=\"1046.394531\" xlink:href=\"#DejaVuSans-109\"/>\n",
       "       <use x=\"1143.806641\" xlink:href=\"#DejaVuSans-101\"/>\n",
       "       <use x=\"1205.330078\" xlink:href=\"#DejaVuSans-110\"/>\n",
       "       <use x=\"1268.708984\" xlink:href=\"#DejaVuSans-116\"/>\n",
       "       <use x=\"1307.917969\" xlink:href=\"#DejaVuSans-105\"/>\n",
       "       <use x=\"1335.701172\" xlink:href=\"#DejaVuSans-110\"/>\n",
       "       <use x=\"1399.080078\" xlink:href=\"#DejaVuSans-103\"/>\n",
       "       <use x=\"1462.556641\" xlink:href=\"#DejaVuSans-32\"/>\n",
       "       <use x=\"1494.34375\" xlink:href=\"#DejaVuSans-119\"/>\n",
       "       <use x=\"1576.130859\" xlink:href=\"#DejaVuSans-105\"/>\n",
       "       <use x=\"1603.914062\" xlink:href=\"#DejaVuSans-116\"/>\n",
       "       <use x=\"1643.123047\" xlink:href=\"#DejaVuSans-104\"/>\n",
       "       <use x=\"1706.501953\" xlink:href=\"#DejaVuSans-32\"/>\n",
       "       <use x=\"1738.289062\" xlink:href=\"#DejaVuSans-119\"/>\n",
       "       <use x=\"1820.076172\" xlink:href=\"#DejaVuSans-105\"/>\n",
       "       <use x=\"1847.859375\" xlink:href=\"#DejaVuSans-107\"/>\n",
       "       <use x=\"1905.769531\" xlink:href=\"#DejaVuSans-105\"/>\n",
       "       <use x=\"1933.552734\" xlink:href=\"#DejaVuSans-112\"/>\n",
       "       <use x=\"1997.029297\" xlink:href=\"#DejaVuSans-101\"/>\n",
       "       <use x=\"2058.552734\" xlink:href=\"#DejaVuSans-100\"/>\n",
       "       <use x=\"2122.029297\" xlink:href=\"#DejaVuSans-105\"/>\n",
       "       <use x=\"2149.8125\" xlink:href=\"#DejaVuSans-97\"/>\n",
       "       <use x=\"2211.091797\" xlink:href=\"#DejaVuSans-32\"/>\n",
       "       <use x=\"2242.878906\" xlink:href=\"#DejaVuSans-121\"/>\n",
       "       <use x=\"2302.058594\" xlink:href=\"#DejaVuSans-111\"/>\n",
       "       <use x=\"2363.240234\" xlink:href=\"#DejaVuSans-117\"/>\n",
       "       <use x=\"2426.619141\" xlink:href=\"#DejaVuSans-114\"/>\n",
       "       <use x=\"2467.732422\" xlink:href=\"#DejaVuSans-32\"/>\n",
       "       <use x=\"2499.519531\" xlink:href=\"#DejaVuSans-116\"/>\n",
       "       <use x=\"2538.728516\" xlink:href=\"#DejaVuSans-101\"/>\n",
       "       <use x=\"2600.251953\" xlink:href=\"#DejaVuSans-115\"/>\n",
       "       <use x=\"2652.351562\" xlink:href=\"#DejaVuSans-116\"/>\n",
       "       <use x=\"2691.560547\" xlink:href=\"#DejaVuSans-32\"/>\n",
       "       <use x=\"2723.347656\" xlink:href=\"#DejaVuSans-119\"/>\n",
       "       <use x=\"2805.134766\" xlink:href=\"#DejaVuSans-111\"/>\n",
       "       <use x=\"2866.316406\" xlink:href=\"#DejaVuSans-114\"/>\n",
       "       <use x=\"2907.429688\" xlink:href=\"#DejaVuSans-107\"/>\n",
       "       <use x=\"2961.714844\" xlink:href=\"#DejaVuSans-101\"/>\n",
       "       <use x=\"3023.238281\" xlink:href=\"#DejaVuSans-100\"/>\n",
       "       <use x=\"3086.714844\" xlink:href=\"#DejaVuSans-32\"/>\n",
       "       <use x=\"3118.501953\" xlink:href=\"#DejaVuSans-97\"/>\n",
       "       <use x=\"3179.78125\" xlink:href=\"#DejaVuSans-110\"/>\n",
       "       <use x=\"3243.160156\" xlink:href=\"#DejaVuSans-100\"/>\n",
       "       <use x=\"3306.636719\" xlink:href=\"#DejaVuSans-32\"/>\n",
       "       <use x=\"3338.423828\" xlink:href=\"#DejaVuSans-105\"/>\n",
       "       <use x=\"3366.207031\" xlink:href=\"#DejaVuSans-116\"/>\n",
       "       <use x=\"3405.416016\" xlink:href=\"#DejaVuSans-32\"/>\n",
       "       <use x=\"3437.203125\" xlink:href=\"#DejaVuSans-104\"/>\n",
       "       <use x=\"3500.582031\" xlink:href=\"#DejaVuSans-97\"/>\n",
       "       <use x=\"3561.861328\" xlink:href=\"#DejaVuSans-115\"/>\n",
       "       <use x=\"3613.960938\" xlink:href=\"#DejaVuSans-32\"/>\n",
       "       <use x=\"3645.748047\" xlink:href=\"#DejaVuSans-98\"/>\n",
       "       <use x=\"3709.224609\" xlink:href=\"#DejaVuSans-101\"/>\n",
       "       <use x=\"3770.748047\" xlink:href=\"#DejaVuSans-101\"/>\n",
       "       <use x=\"3832.271484\" xlink:href=\"#DejaVuSans-110\"/>\n",
       "       <use x=\"3895.650391\" xlink:href=\"#DejaVuSans-32\"/>\n",
       "       <use x=\"3927.4375\" xlink:href=\"#DejaVuSans-114\"/>\n",
       "       <use x=\"3966.300781\" xlink:href=\"#DejaVuSans-101\"/>\n",
       "       <use x=\"4027.824219\" xlink:href=\"#DejaVuSans-118\"/>\n",
       "       <use x=\"4087.003906\" xlink:href=\"#DejaVuSans-101\"/>\n",
       "       <use x=\"4148.527344\" xlink:href=\"#DejaVuSans-114\"/>\n",
       "       <use x=\"4189.640625\" xlink:href=\"#DejaVuSans-116\"/>\n",
       "       <use x=\"4228.849609\" xlink:href=\"#DejaVuSans-101\"/>\n",
       "       <use x=\"4290.373047\" xlink:href=\"#DejaVuSans-100\"/>\n",
       "       <use x=\"4353.849609\" xlink:href=\"#DejaVuSans-32\"/>\n",
       "       <use x=\"4385.636719\" xlink:href=\"#DejaVuSans-111\"/>\n",
       "       <use x=\"4446.818359\" xlink:href=\"#DejaVuSans-114\"/>\n",
       "       <use x=\"4487.931641\" xlink:href=\"#DejaVuSans-32\"/>\n",
       "       <use x=\"4519.71875\" xlink:href=\"#DejaVuSans-114\"/>\n",
       "       <use x=\"4558.582031\" xlink:href=\"#DejaVuSans-101\"/>\n",
       "       <use x=\"4620.105469\" xlink:href=\"#DejaVuSans-109\"/>\n",
       "       <use x=\"4717.517578\" xlink:href=\"#DejaVuSans-111\"/>\n",
       "       <use x=\"4778.699219\" xlink:href=\"#DejaVuSans-118\"/>\n",
       "       <use x=\"4837.878906\" xlink:href=\"#DejaVuSans-101\"/>\n",
       "       <use x=\"4899.402344\" xlink:href=\"#DejaVuSans-100\"/>\n",
       "       <use x=\"4962.878906\" xlink:href=\"#DejaVuSans-32\"/>\n",
       "       <use x=\"4994.666016\" xlink:href=\"#DejaVuSans-112\"/>\n",
       "       <use x=\"5058.142578\" xlink:href=\"#DejaVuSans-108\"/>\n",
       "       <use x=\"5085.925781\" xlink:href=\"#DejaVuSans-101\"/>\n",
       "       <use x=\"5147.449219\" xlink:href=\"#DejaVuSans-97\"/>\n",
       "       <use x=\"5208.728516\" xlink:href=\"#DejaVuSans-115\"/>\n",
       "       <use x=\"5260.828125\" xlink:href=\"#DejaVuSans-101\"/>\n",
       "       <use x=\"5322.351562\" xlink:href=\"#DejaVuSans-32\"/>\n",
       "       <use x=\"5354.138672\" xlink:href=\"#DejaVuSans-117\"/>\n",
       "       <use x=\"5417.517578\" xlink:href=\"#DejaVuSans-115\"/>\n",
       "       <use x=\"5469.617188\" xlink:href=\"#DejaVuSans-101\"/>\n",
       "       <use x=\"5531.140625\" xlink:href=\"#DejaVuSans-32\"/>\n",
       "       <use x=\"5562.927734\" xlink:href=\"#DejaVuSans-116\"/>\n",
       "       <use x=\"5602.136719\" xlink:href=\"#DejaVuSans-104\"/>\n",
       "       <use x=\"5665.515625\" xlink:href=\"#DejaVuSans-101\"/>\n",
       "       <use x=\"5727.039062\" xlink:href=\"#DejaVuSans-32\"/>\n",
       "       <use x=\"5758.826172\" xlink:href=\"#DejaVuSans-115\"/>\n",
       "       <use x=\"5810.925781\" xlink:href=\"#DejaVuSans-97\"/>\n",
       "       <use x=\"5872.205078\" xlink:href=\"#DejaVuSans-110\"/>\n",
       "       <use x=\"5935.583984\" xlink:href=\"#DejaVuSans-100\"/>\n",
       "       <use x=\"5999.060547\" xlink:href=\"#DejaVuSans-98\"/>\n",
       "       <use x=\"6062.537109\" xlink:href=\"#DejaVuSans-111\"/>\n",
       "       <use x=\"6120.59375\" xlink:href=\"#DejaVuSans-120\"/>\n",
       "       <use x=\"6179.773438\" xlink:href=\"#DejaVuSans-32\"/>\n",
       "       <use x=\"6211.560547\" xlink:href=\"#DejaVuSans-102\"/>\n",
       "       <use x=\"6246.765625\" xlink:href=\"#DejaVuSans-111\"/>\n",
       "       <use x=\"6307.947266\" xlink:href=\"#DejaVuSans-114\"/>\n",
       "       <use x=\"6349.060547\" xlink:href=\"#DejaVuSans-32\"/>\n",
       "       <use x=\"6380.847656\" xlink:href=\"#DejaVuSans-97\"/>\n",
       "       <use x=\"6442.126953\" xlink:href=\"#DejaVuSans-110\"/>\n",
       "       <use x=\"6505.505859\" xlink:href=\"#DejaVuSans-121\"/>\n",
       "       <use x=\"6564.685547\" xlink:href=\"#DejaVuSans-32\"/>\n",
       "       <use x=\"6596.472656\" xlink:href=\"#DejaVuSans-111\"/>\n",
       "       <use x=\"6657.654297\" xlink:href=\"#DejaVuSans-116\"/>\n",
       "       <use x=\"6696.863281\" xlink:href=\"#DejaVuSans-104\"/>\n",
       "       <use x=\"6760.242188\" xlink:href=\"#DejaVuSans-101\"/>\n",
       "       <use x=\"6821.765625\" xlink:href=\"#DejaVuSans-114\"/>\n",
       "       <use x=\"6862.878906\" xlink:href=\"#DejaVuSans-32\"/>\n",
       "       <use x=\"6894.666016\" xlink:href=\"#DejaVuSans-116\"/>\n",
       "       <use x=\"6933.875\" xlink:href=\"#DejaVuSans-101\"/>\n",
       "       <use x=\"6995.398438\" xlink:href=\"#DejaVuSans-115\"/>\n",
       "       <use x=\"7047.498047\" xlink:href=\"#DejaVuSans-116\"/>\n",
       "       <use x=\"7086.707031\" xlink:href=\"#DejaVuSans-115\"/>\n",
       "       <use x=\"7138.806641\" xlink:href=\"#DejaVuSans-32\"/>\n",
       "       <use x=\"7170.59375\" xlink:href=\"#DejaVuSans-121\"/>\n",
       "       <use x=\"7229.773438\" xlink:href=\"#DejaVuSans-111\"/>\n",
       "       <use x=\"7290.955078\" xlink:href=\"#DejaVuSans-117\"/>\n",
       "       <use x=\"7354.333984\" xlink:href=\"#DejaVuSans-32\"/>\n",
       "       <use x=\"7386.121094\" xlink:href=\"#DejaVuSans-109\"/>\n",
       "       <use x=\"7483.533203\" xlink:href=\"#DejaVuSans-97\"/>\n",
       "       <use x=\"7544.8125\" xlink:href=\"#DejaVuSans-121\"/>\n",
       "       <use x=\"7603.992188\" xlink:href=\"#DejaVuSans-32\"/>\n",
       "       <use x=\"7635.779297\" xlink:href=\"#DejaVuSans-119\"/>\n",
       "       <use x=\"7717.566406\" xlink:href=\"#DejaVuSans-97\"/>\n",
       "       <use x=\"7778.845703\" xlink:href=\"#DejaVuSans-110\"/>\n",
       "       <use x=\"7842.224609\" xlink:href=\"#DejaVuSans-116\"/>\n",
       "       <use x=\"7881.433594\" xlink:href=\"#DejaVuSans-32\"/>\n",
       "       <use x=\"7913.220703\" xlink:href=\"#DejaVuSans-116\"/>\n",
       "       <use x=\"7952.429688\" xlink:href=\"#DejaVuSans-111\"/>\n",
       "       <use x=\"8013.611328\" xlink:href=\"#DejaVuSans-32\"/>\n",
       "       <use x=\"8045.398438\" xlink:href=\"#DejaVuSans-100\"/>\n",
       "       <use x=\"8108.875\" xlink:href=\"#DejaVuSans-111\"/>\n",
       "       <use x=\"8170.056641\" xlink:href=\"#DejaVuSans-32\"/>\n",
       "       <use x=\"8201.84375\" xlink:href=\"#DejaVuSans-116\"/>\n",
       "       <use x=\"8241.052734\" xlink:href=\"#DejaVuSans-97\"/>\n",
       "       <use x=\"8302.332031\" xlink:href=\"#DejaVuSans-107\"/>\n",
       "       <use x=\"8356.617188\" xlink:href=\"#DejaVuSans-101\"/>\n",
       "       <use x=\"8418.140625\" xlink:href=\"#DejaVuSans-32\"/>\n",
       "       <use x=\"8449.927734\" xlink:href=\"#DejaVuSans-97\"/>\n",
       "       <use x=\"8511.207031\" xlink:href=\"#DejaVuSans-32\"/>\n",
       "       <use x=\"8542.994141\" xlink:href=\"#DejaVuSans-108\"/>\n",
       "       <use x=\"8570.777344\" xlink:href=\"#DejaVuSans-111\"/>\n",
       "       <use x=\"8631.958984\" xlink:href=\"#DejaVuSans-111\"/>\n",
       "       <use x=\"8693.140625\" xlink:href=\"#DejaVuSans-107\"/>\n",
       "       <use x=\"8751.050781\" xlink:href=\"#DejaVuSans-32\"/>\n",
       "       <use x=\"8782.837891\" xlink:href=\"#DejaVuSans-97\"/>\n",
       "       <use x=\"8844.117188\" xlink:href=\"#DejaVuSans-116\"/>\n",
       "       <use x=\"8883.326172\" xlink:href=\"#DejaVuSans-32\"/>\n",
       "       <use x=\"8915.113281\" xlink:href=\"#DejaVuSans-116\"/>\n",
       "       <use x=\"8954.322266\" xlink:href=\"#DejaVuSans-104\"/>\n",
       "       <use x=\"9017.701172\" xlink:href=\"#DejaVuSans-101\"/>\n",
       "       <use x=\"9079.224609\" xlink:href=\"#DejaVuSans-32\"/>\n",
       "       <use x=\"9111.011719\" xlink:href=\"#DejaVuSans-119\"/>\n",
       "       <use x=\"9192.798828\" xlink:href=\"#DejaVuSans-101\"/>\n",
       "       <use x=\"9254.322266\" xlink:href=\"#DejaVuSans-108\"/>\n",
       "       <use x=\"9282.105469\" xlink:href=\"#DejaVuSans-99\"/>\n",
       "       <use x=\"9337.085938\" xlink:href=\"#DejaVuSans-111\"/>\n",
       "       <use x=\"9398.267578\" xlink:href=\"#DejaVuSans-109\"/>\n",
       "       <use x=\"9495.679688\" xlink:href=\"#DejaVuSans-101\"/>\n",
       "       <use x=\"9557.203125\" xlink:href=\"#DejaVuSans-32\"/>\n",
       "       <use x=\"9588.990234\" xlink:href=\"#DejaVuSans-112\"/>\n",
       "       <use x=\"9652.466797\" xlink:href=\"#DejaVuSans-97\"/>\n",
       "       <use x=\"9713.746094\" xlink:href=\"#DejaVuSans-103\"/>\n",
       "       <use x=\"9777.222656\" xlink:href=\"#DejaVuSans-101\"/>\n",
       "       <use x=\"9838.746094\" xlink:href=\"#DejaVuSans-32\"/>\n",
       "       <use x=\"9870.533203\" xlink:href=\"#DejaVuSans-116\"/>\n",
       "       <use x=\"9909.742188\" xlink:href=\"#DejaVuSans-111\"/>\n",
       "       <use x=\"9970.923828\" xlink:href=\"#DejaVuSans-32\"/>\n",
       "       <use x=\"10002.710938\" xlink:href=\"#DejaVuSans-108\"/>\n",
       "       <use x=\"10030.494141\" xlink:href=\"#DejaVuSans-101\"/>\n",
       "       <use x=\"10092.017578\" xlink:href=\"#DejaVuSans-97\"/>\n",
       "       <use x=\"10153.296875\" xlink:href=\"#DejaVuSans-114\"/>\n",
       "       <use x=\"10192.660156\" xlink:href=\"#DejaVuSans-110\"/>\n",
       "       <use x=\"10256.039062\" xlink:href=\"#DejaVuSans-32\"/>\n",
       "       <use x=\"10287.826172\" xlink:href=\"#DejaVuSans-109\"/>\n",
       "       <use x=\"10385.238281\" xlink:href=\"#DejaVuSans-111\"/>\n",
       "       <use x=\"10446.419922\" xlink:href=\"#DejaVuSans-114\"/>\n",
       "       <use x=\"10485.283203\" xlink:href=\"#DejaVuSans-101\"/>\n",
       "       <use x=\"10546.806641\" xlink:href=\"#DejaVuSans-32\"/>\n",
       "       <use x=\"10578.59375\" xlink:href=\"#DejaVuSans-97\"/>\n",
       "       <use x=\"10639.873047\" xlink:href=\"#DejaVuSans-98\"/>\n",
       "       <use x=\"10703.349609\" xlink:href=\"#DejaVuSans-111\"/>\n",
       "       <use x=\"10764.53125\" xlink:href=\"#DejaVuSans-117\"/>\n",
       "       <use x=\"10827.910156\" xlink:href=\"#DejaVuSans-116\"/>\n",
       "       <use x=\"10867.119141\" xlink:href=\"#DejaVuSans-32\"/>\n",
       "       <use x=\"10898.90625\" xlink:href=\"#DejaVuSans-99\"/>\n",
       "       <use x=\"10953.886719\" xlink:href=\"#DejaVuSans-111\"/>\n",
       "       <use x=\"11015.068359\" xlink:href=\"#DejaVuSans-110\"/>\n",
       "       <use x=\"11078.447266\" xlink:href=\"#DejaVuSans-116\"/>\n",
       "       <use x=\"11117.65625\" xlink:href=\"#DejaVuSans-114\"/>\n",
       "       <use x=\"11158.769531\" xlink:href=\"#DejaVuSans-105\"/>\n",
       "       <use x=\"11186.552734\" xlink:href=\"#DejaVuSans-98\"/>\n",
       "       <use x=\"11250.029297\" xlink:href=\"#DejaVuSans-117\"/>\n",
       "       <use x=\"11313.408203\" xlink:href=\"#DejaVuSans-116\"/>\n",
       "       <use x=\"11352.617188\" xlink:href=\"#DejaVuSans-105\"/>\n",
       "       <use x=\"11380.400391\" xlink:href=\"#DejaVuSans-110\"/>\n",
       "       <use x=\"11443.779297\" xlink:href=\"#DejaVuSans-103\"/>\n",
       "       <use x=\"11507.255859\" xlink:href=\"#DejaVuSans-32\"/>\n",
       "       <use x=\"11539.042969\" xlink:href=\"#DejaVuSans-116\"/>\n",
       "       <use x=\"11578.251953\" xlink:href=\"#DejaVuSans-111\"/>\n",
       "       <use x=\"11639.433594\" xlink:href=\"#DejaVuSans-32\"/>\n",
       "       <use x=\"11671.220703\" xlink:href=\"#DejaVuSans-111\"/>\n",
       "       <use x=\"11732.402344\" xlink:href=\"#DejaVuSans-117\"/>\n",
       "       <use x=\"11795.78125\" xlink:href=\"#DejaVuSans-114\"/>\n",
       "       <use x=\"11836.894531\" xlink:href=\"#DejaVuSans-32\"/>\n",
       "       <use x=\"11868.681641\" xlink:href=\"#DejaVuSans-101\"/>\n",
       "       <use x=\"11930.205078\" xlink:href=\"#DejaVuSans-110\"/>\n",
       "       <use x=\"11993.583984\" xlink:href=\"#DejaVuSans-99\"/>\n",
       "       <use x=\"12048.564453\" xlink:href=\"#DejaVuSans-121\"/>\n",
       "       <use x=\"12107.744141\" xlink:href=\"#DejaVuSans-99\"/>\n",
       "       <use x=\"12162.724609\" xlink:href=\"#DejaVuSans-108\"/>\n",
       "       <use x=\"12190.507812\" xlink:href=\"#DejaVuSans-111\"/>\n",
       "       <use x=\"12251.689453\" xlink:href=\"#DejaVuSans-112\"/>\n",
       "       <use x=\"12315.166016\" xlink:href=\"#DejaVuSans-101\"/>\n",
       "       <use x=\"12376.689453\" xlink:href=\"#DejaVuSans-100\"/>\n",
       "       <use x=\"12440.166016\" xlink:href=\"#DejaVuSans-105\"/>\n",
       "       <use x=\"12467.949219\" xlink:href=\"#DejaVuSans-97\"/>\n",
       "       <use x=\"12529.228516\" xlink:href=\"#DejaVuSans-32\"/>\n",
       "       <use x=\"12561.015625\" xlink:href=\"#DejaVuSans-116\"/>\n",
       "       <use x=\"12600.224609\" xlink:href=\"#DejaVuSans-97\"/>\n",
       "       <use x=\"12661.503906\" xlink:href=\"#DejaVuSans-108\"/>\n",
       "       <use x=\"12689.287109\" xlink:href=\"#DejaVuSans-107\"/>\n",
       "      </g>\n",
       "     </g>\n",
       "    </g>\n",
       "    <g id=\"xtick_3\">\n",
       "     <g id=\"line2d_5\">\n",
       "      <path clip-path=\"url(#p7b77b298fc)\" d=\"M 100.951087 333.36 \n",
       "L 100.951087 7.2 \n",
       "\" style=\"fill:none;stroke:#c0c0c0;stroke-linecap:square;stroke-width:0.8;\"/>\n",
       "     </g>\n",
       "     <g id=\"line2d_6\">\n",
       "      <g>\n",
       "       <use style=\"stroke:#000000;stroke-width:0.8;\" x=\"100.951087\" xlink:href=\"#m6d9b36f697\" y=\"333.36\"/>\n",
       "      </g>\n",
       "     </g>\n",
       "     <g id=\"text_3\">\n",
       "      <!--  jun utc -->\n",
       "      <g transform=\"translate(103.710462 377.925625)rotate(-90)scale(0.1 -0.1)\">\n",
       "       <use xlink:href=\"#DejaVuSans-32\"/>\n",
       "       <use x=\"31.787109\" xlink:href=\"#DejaVuSans-106\"/>\n",
       "       <use x=\"59.570312\" xlink:href=\"#DejaVuSans-117\"/>\n",
       "       <use x=\"122.949219\" xlink:href=\"#DejaVuSans-110\"/>\n",
       "       <use x=\"186.328125\" xlink:href=\"#DejaVuSans-32\"/>\n",
       "       <use x=\"218.115234\" xlink:href=\"#DejaVuSans-117\"/>\n",
       "       <use x=\"281.494141\" xlink:href=\"#DejaVuSans-116\"/>\n",
       "       <use x=\"320.703125\" xlink:href=\"#DejaVuSans-99\"/>\n",
       "      </g>\n",
       "     </g>\n",
       "    </g>\n",
       "    <g id=\"xtick_4\">\n",
       "     <g id=\"line2d_7\">\n",
       "      <path clip-path=\"url(#p7b77b298fc)\" d=\"M 118.44325 333.36 \n",
       "L 118.44325 7.2 \n",
       "\" style=\"fill:none;stroke:#c0c0c0;stroke-linecap:square;stroke-width:0.8;\"/>\n",
       "     </g>\n",
       "     <g id=\"line2d_8\">\n",
       "      <g>\n",
       "       <use style=\"stroke:#000000;stroke-width:0.8;\" x=\"118.44325\" xlink:href=\"#m6d9b36f697\" y=\"333.36\"/>\n",
       "      </g>\n",
       "     </g>\n",
       "     <g id=\"text_4\">\n",
       "      <!--  please stop if you continue to vandalize pages you will be blocked from editing wikipedia -->\n",
       "      <g transform=\"translate(121.202625 789.8725)rotate(-90)scale(0.1 -0.1)\">\n",
       "       <defs>\n",
       "        <path d=\"M 5.515625 54.6875 \n",
       "L 48.1875 54.6875 \n",
       "L 48.1875 46.484375 \n",
       "L 14.40625 7.171875 \n",
       "L 48.1875 7.171875 \n",
       "L 48.1875 0 \n",
       "L 4.296875 0 \n",
       "L 4.296875 8.203125 \n",
       "L 38.09375 47.515625 \n",
       "L 5.515625 47.515625 \n",
       "z\n",
       "\" id=\"DejaVuSans-122\"/>\n",
       "       </defs>\n",
       "       <use xlink:href=\"#DejaVuSans-32\"/>\n",
       "       <use x=\"31.787109\" xlink:href=\"#DejaVuSans-112\"/>\n",
       "       <use x=\"95.263672\" xlink:href=\"#DejaVuSans-108\"/>\n",
       "       <use x=\"123.046875\" xlink:href=\"#DejaVuSans-101\"/>\n",
       "       <use x=\"184.570312\" xlink:href=\"#DejaVuSans-97\"/>\n",
       "       <use x=\"245.849609\" xlink:href=\"#DejaVuSans-115\"/>\n",
       "       <use x=\"297.949219\" xlink:href=\"#DejaVuSans-101\"/>\n",
       "       <use x=\"359.472656\" xlink:href=\"#DejaVuSans-32\"/>\n",
       "       <use x=\"391.259766\" xlink:href=\"#DejaVuSans-115\"/>\n",
       "       <use x=\"443.359375\" xlink:href=\"#DejaVuSans-116\"/>\n",
       "       <use x=\"482.568359\" xlink:href=\"#DejaVuSans-111\"/>\n",
       "       <use x=\"543.75\" xlink:href=\"#DejaVuSans-112\"/>\n",
       "       <use x=\"607.226562\" xlink:href=\"#DejaVuSans-32\"/>\n",
       "       <use x=\"639.013672\" xlink:href=\"#DejaVuSans-105\"/>\n",
       "       <use x=\"666.796875\" xlink:href=\"#DejaVuSans-102\"/>\n",
       "       <use x=\"702.001953\" xlink:href=\"#DejaVuSans-32\"/>\n",
       "       <use x=\"733.789062\" xlink:href=\"#DejaVuSans-121\"/>\n",
       "       <use x=\"792.96875\" xlink:href=\"#DejaVuSans-111\"/>\n",
       "       <use x=\"854.150391\" xlink:href=\"#DejaVuSans-117\"/>\n",
       "       <use x=\"917.529297\" xlink:href=\"#DejaVuSans-32\"/>\n",
       "       <use x=\"949.316406\" xlink:href=\"#DejaVuSans-99\"/>\n",
       "       <use x=\"1004.296875\" xlink:href=\"#DejaVuSans-111\"/>\n",
       "       <use x=\"1065.478516\" xlink:href=\"#DejaVuSans-110\"/>\n",
       "       <use x=\"1128.857422\" xlink:href=\"#DejaVuSans-116\"/>\n",
       "       <use x=\"1168.066406\" xlink:href=\"#DejaVuSans-105\"/>\n",
       "       <use x=\"1195.849609\" xlink:href=\"#DejaVuSans-110\"/>\n",
       "       <use x=\"1259.228516\" xlink:href=\"#DejaVuSans-117\"/>\n",
       "       <use x=\"1322.607422\" xlink:href=\"#DejaVuSans-101\"/>\n",
       "       <use x=\"1384.130859\" xlink:href=\"#DejaVuSans-32\"/>\n",
       "       <use x=\"1415.917969\" xlink:href=\"#DejaVuSans-116\"/>\n",
       "       <use x=\"1455.126953\" xlink:href=\"#DejaVuSans-111\"/>\n",
       "       <use x=\"1516.308594\" xlink:href=\"#DejaVuSans-32\"/>\n",
       "       <use x=\"1548.095703\" xlink:href=\"#DejaVuSans-118\"/>\n",
       "       <use x=\"1607.275391\" xlink:href=\"#DejaVuSans-97\"/>\n",
       "       <use x=\"1668.554688\" xlink:href=\"#DejaVuSans-110\"/>\n",
       "       <use x=\"1731.933594\" xlink:href=\"#DejaVuSans-100\"/>\n",
       "       <use x=\"1795.410156\" xlink:href=\"#DejaVuSans-97\"/>\n",
       "       <use x=\"1856.689453\" xlink:href=\"#DejaVuSans-108\"/>\n",
       "       <use x=\"1884.472656\" xlink:href=\"#DejaVuSans-105\"/>\n",
       "       <use x=\"1912.255859\" xlink:href=\"#DejaVuSans-122\"/>\n",
       "       <use x=\"1964.746094\" xlink:href=\"#DejaVuSans-101\"/>\n",
       "       <use x=\"2026.269531\" xlink:href=\"#DejaVuSans-32\"/>\n",
       "       <use x=\"2058.056641\" xlink:href=\"#DejaVuSans-112\"/>\n",
       "       <use x=\"2121.533203\" xlink:href=\"#DejaVuSans-97\"/>\n",
       "       <use x=\"2182.8125\" xlink:href=\"#DejaVuSans-103\"/>\n",
       "       <use x=\"2246.289062\" xlink:href=\"#DejaVuSans-101\"/>\n",
       "       <use x=\"2307.8125\" xlink:href=\"#DejaVuSans-115\"/>\n",
       "       <use x=\"2359.912109\" xlink:href=\"#DejaVuSans-32\"/>\n",
       "       <use x=\"2391.699219\" xlink:href=\"#DejaVuSans-121\"/>\n",
       "       <use x=\"2450.878906\" xlink:href=\"#DejaVuSans-111\"/>\n",
       "       <use x=\"2512.060547\" xlink:href=\"#DejaVuSans-117\"/>\n",
       "       <use x=\"2575.439453\" xlink:href=\"#DejaVuSans-32\"/>\n",
       "       <use x=\"2607.226562\" xlink:href=\"#DejaVuSans-119\"/>\n",
       "       <use x=\"2689.013672\" xlink:href=\"#DejaVuSans-105\"/>\n",
       "       <use x=\"2716.796875\" xlink:href=\"#DejaVuSans-108\"/>\n",
       "       <use x=\"2744.580078\" xlink:href=\"#DejaVuSans-108\"/>\n",
       "       <use x=\"2772.363281\" xlink:href=\"#DejaVuSans-32\"/>\n",
       "       <use x=\"2804.150391\" xlink:href=\"#DejaVuSans-98\"/>\n",
       "       <use x=\"2867.626953\" xlink:href=\"#DejaVuSans-101\"/>\n",
       "       <use x=\"2929.150391\" xlink:href=\"#DejaVuSans-32\"/>\n",
       "       <use x=\"2960.9375\" xlink:href=\"#DejaVuSans-98\"/>\n",
       "       <use x=\"3024.414062\" xlink:href=\"#DejaVuSans-108\"/>\n",
       "       <use x=\"3052.197266\" xlink:href=\"#DejaVuSans-111\"/>\n",
       "       <use x=\"3113.378906\" xlink:href=\"#DejaVuSans-99\"/>\n",
       "       <use x=\"3168.359375\" xlink:href=\"#DejaVuSans-107\"/>\n",
       "       <use x=\"3222.644531\" xlink:href=\"#DejaVuSans-101\"/>\n",
       "       <use x=\"3284.167969\" xlink:href=\"#DejaVuSans-100\"/>\n",
       "       <use x=\"3347.644531\" xlink:href=\"#DejaVuSans-32\"/>\n",
       "       <use x=\"3379.431641\" xlink:href=\"#DejaVuSans-102\"/>\n",
       "       <use x=\"3414.636719\" xlink:href=\"#DejaVuSans-114\"/>\n",
       "       <use x=\"3453.5\" xlink:href=\"#DejaVuSans-111\"/>\n",
       "       <use x=\"3514.681641\" xlink:href=\"#DejaVuSans-109\"/>\n",
       "       <use x=\"3612.09375\" xlink:href=\"#DejaVuSans-32\"/>\n",
       "       <use x=\"3643.880859\" xlink:href=\"#DejaVuSans-101\"/>\n",
       "       <use x=\"3705.404297\" xlink:href=\"#DejaVuSans-100\"/>\n",
       "       <use x=\"3768.880859\" xlink:href=\"#DejaVuSans-105\"/>\n",
       "       <use x=\"3796.664062\" xlink:href=\"#DejaVuSans-116\"/>\n",
       "       <use x=\"3835.873047\" xlink:href=\"#DejaVuSans-105\"/>\n",
       "       <use x=\"3863.65625\" xlink:href=\"#DejaVuSans-110\"/>\n",
       "       <use x=\"3927.035156\" xlink:href=\"#DejaVuSans-103\"/>\n",
       "       <use x=\"3990.511719\" xlink:href=\"#DejaVuSans-32\"/>\n",
       "       <use x=\"4022.298828\" xlink:href=\"#DejaVuSans-119\"/>\n",
       "       <use x=\"4104.085938\" xlink:href=\"#DejaVuSans-105\"/>\n",
       "       <use x=\"4131.869141\" xlink:href=\"#DejaVuSans-107\"/>\n",
       "       <use x=\"4189.779297\" xlink:href=\"#DejaVuSans-105\"/>\n",
       "       <use x=\"4217.5625\" xlink:href=\"#DejaVuSans-112\"/>\n",
       "       <use x=\"4281.039062\" xlink:href=\"#DejaVuSans-101\"/>\n",
       "       <use x=\"4342.5625\" xlink:href=\"#DejaVuSans-100\"/>\n",
       "       <use x=\"4406.039062\" xlink:href=\"#DejaVuSans-105\"/>\n",
       "       <use x=\"4433.822266\" xlink:href=\"#DejaVuSans-97\"/>\n",
       "      </g>\n",
       "     </g>\n",
       "    </g>\n",
       "    <g id=\"xtick_5\">\n",
       "     <g id=\"line2d_9\">\n",
       "      <path clip-path=\"url(#p7b77b298fc)\" d=\"M 135.935413 333.36 \n",
       "L 135.935413 7.2 \n",
       "\" style=\"fill:none;stroke:#c0c0c0;stroke-linecap:square;stroke-width:0.8;\"/>\n",
       "     </g>\n",
       "     <g id=\"line2d_10\">\n",
       "      <g>\n",
       "       <use style=\"stroke:#000000;stroke-width:0.8;\" x=\"135.935413\" xlink:href=\"#m6d9b36f697\" y=\"333.36\"/>\n",
       "      </g>\n",
       "     </g>\n",
       "     <g id=\"text_5\">\n",
       "      <!--  preceding unsigned comment added by -->\n",
       "      <g transform=\"translate(138.694788 543.055313)rotate(-90)scale(0.1 -0.1)\">\n",
       "       <use xlink:href=\"#DejaVuSans-32\"/>\n",
       "       <use x=\"31.787109\" xlink:href=\"#DejaVuSans-112\"/>\n",
       "       <use x=\"95.263672\" xlink:href=\"#DejaVuSans-114\"/>\n",
       "       <use x=\"134.126953\" xlink:href=\"#DejaVuSans-101\"/>\n",
       "       <use x=\"195.650391\" xlink:href=\"#DejaVuSans-99\"/>\n",
       "       <use x=\"250.630859\" xlink:href=\"#DejaVuSans-101\"/>\n",
       "       <use x=\"312.154297\" xlink:href=\"#DejaVuSans-100\"/>\n",
       "       <use x=\"375.630859\" xlink:href=\"#DejaVuSans-105\"/>\n",
       "       <use x=\"403.414062\" xlink:href=\"#DejaVuSans-110\"/>\n",
       "       <use x=\"466.792969\" xlink:href=\"#DejaVuSans-103\"/>\n",
       "       <use x=\"530.269531\" xlink:href=\"#DejaVuSans-32\"/>\n",
       "       <use x=\"562.056641\" xlink:href=\"#DejaVuSans-117\"/>\n",
       "       <use x=\"625.435547\" xlink:href=\"#DejaVuSans-110\"/>\n",
       "       <use x=\"688.814453\" xlink:href=\"#DejaVuSans-115\"/>\n",
       "       <use x=\"740.914062\" xlink:href=\"#DejaVuSans-105\"/>\n",
       "       <use x=\"768.697266\" xlink:href=\"#DejaVuSans-103\"/>\n",
       "       <use x=\"832.173828\" xlink:href=\"#DejaVuSans-110\"/>\n",
       "       <use x=\"895.552734\" xlink:href=\"#DejaVuSans-101\"/>\n",
       "       <use x=\"957.076172\" xlink:href=\"#DejaVuSans-100\"/>\n",
       "       <use x=\"1020.552734\" xlink:href=\"#DejaVuSans-32\"/>\n",
       "       <use x=\"1052.339844\" xlink:href=\"#DejaVuSans-99\"/>\n",
       "       <use x=\"1107.320312\" xlink:href=\"#DejaVuSans-111\"/>\n",
       "       <use x=\"1168.501953\" xlink:href=\"#DejaVuSans-109\"/>\n",
       "       <use x=\"1265.914062\" xlink:href=\"#DejaVuSans-109\"/>\n",
       "       <use x=\"1363.326172\" xlink:href=\"#DejaVuSans-101\"/>\n",
       "       <use x=\"1424.849609\" xlink:href=\"#DejaVuSans-110\"/>\n",
       "       <use x=\"1488.228516\" xlink:href=\"#DejaVuSans-116\"/>\n",
       "       <use x=\"1527.4375\" xlink:href=\"#DejaVuSans-32\"/>\n",
       "       <use x=\"1559.224609\" xlink:href=\"#DejaVuSans-97\"/>\n",
       "       <use x=\"1620.503906\" xlink:href=\"#DejaVuSans-100\"/>\n",
       "       <use x=\"1683.980469\" xlink:href=\"#DejaVuSans-100\"/>\n",
       "       <use x=\"1747.457031\" xlink:href=\"#DejaVuSans-101\"/>\n",
       "       <use x=\"1808.980469\" xlink:href=\"#DejaVuSans-100\"/>\n",
       "       <use x=\"1872.457031\" xlink:href=\"#DejaVuSans-32\"/>\n",
       "       <use x=\"1904.244141\" xlink:href=\"#DejaVuSans-98\"/>\n",
       "       <use x=\"1967.720703\" xlink:href=\"#DejaVuSans-121\"/>\n",
       "      </g>\n",
       "     </g>\n",
       "    </g>\n",
       "    <g id=\"xtick_6\">\n",
       "     <g id=\"line2d_11\">\n",
       "      <path clip-path=\"url(#p7b77b298fc)\" d=\"M 153.427576 333.36 \n",
       "L 153.427576 7.2 \n",
       "\" style=\"fill:none;stroke:#c0c0c0;stroke-linecap:square;stroke-width:0.8;\"/>\n",
       "     </g>\n",
       "     <g id=\"line2d_12\">\n",
       "      <g>\n",
       "       <use style=\"stroke:#000000;stroke-width:0.8;\" x=\"153.427576\" xlink:href=\"#m6d9b36f697\" y=\"333.36\"/>\n",
       "      </g>\n",
       "     </g>\n",
       "     <g id=\"text_6\">\n",
       "      <!--  preceding unsigned comment added by talk contribs -->\n",
       "      <g transform=\"translate(156.186951 608.350625)rotate(-90)scale(0.1 -0.1)\">\n",
       "       <use xlink:href=\"#DejaVuSans-32\"/>\n",
       "       <use x=\"31.787109\" xlink:href=\"#DejaVuSans-112\"/>\n",
       "       <use x=\"95.263672\" xlink:href=\"#DejaVuSans-114\"/>\n",
       "       <use x=\"134.126953\" xlink:href=\"#DejaVuSans-101\"/>\n",
       "       <use x=\"195.650391\" xlink:href=\"#DejaVuSans-99\"/>\n",
       "       <use x=\"250.630859\" xlink:href=\"#DejaVuSans-101\"/>\n",
       "       <use x=\"312.154297\" xlink:href=\"#DejaVuSans-100\"/>\n",
       "       <use x=\"375.630859\" xlink:href=\"#DejaVuSans-105\"/>\n",
       "       <use x=\"403.414062\" xlink:href=\"#DejaVuSans-110\"/>\n",
       "       <use x=\"466.792969\" xlink:href=\"#DejaVuSans-103\"/>\n",
       "       <use x=\"530.269531\" xlink:href=\"#DejaVuSans-32\"/>\n",
       "       <use x=\"562.056641\" xlink:href=\"#DejaVuSans-117\"/>\n",
       "       <use x=\"625.435547\" xlink:href=\"#DejaVuSans-110\"/>\n",
       "       <use x=\"688.814453\" xlink:href=\"#DejaVuSans-115\"/>\n",
       "       <use x=\"740.914062\" xlink:href=\"#DejaVuSans-105\"/>\n",
       "       <use x=\"768.697266\" xlink:href=\"#DejaVuSans-103\"/>\n",
       "       <use x=\"832.173828\" xlink:href=\"#DejaVuSans-110\"/>\n",
       "       <use x=\"895.552734\" xlink:href=\"#DejaVuSans-101\"/>\n",
       "       <use x=\"957.076172\" xlink:href=\"#DejaVuSans-100\"/>\n",
       "       <use x=\"1020.552734\" xlink:href=\"#DejaVuSans-32\"/>\n",
       "       <use x=\"1052.339844\" xlink:href=\"#DejaVuSans-99\"/>\n",
       "       <use x=\"1107.320312\" xlink:href=\"#DejaVuSans-111\"/>\n",
       "       <use x=\"1168.501953\" xlink:href=\"#DejaVuSans-109\"/>\n",
       "       <use x=\"1265.914062\" xlink:href=\"#DejaVuSans-109\"/>\n",
       "       <use x=\"1363.326172\" xlink:href=\"#DejaVuSans-101\"/>\n",
       "       <use x=\"1424.849609\" xlink:href=\"#DejaVuSans-110\"/>\n",
       "       <use x=\"1488.228516\" xlink:href=\"#DejaVuSans-116\"/>\n",
       "       <use x=\"1527.4375\" xlink:href=\"#DejaVuSans-32\"/>\n",
       "       <use x=\"1559.224609\" xlink:href=\"#DejaVuSans-97\"/>\n",
       "       <use x=\"1620.503906\" xlink:href=\"#DejaVuSans-100\"/>\n",
       "       <use x=\"1683.980469\" xlink:href=\"#DejaVuSans-100\"/>\n",
       "       <use x=\"1747.457031\" xlink:href=\"#DejaVuSans-101\"/>\n",
       "       <use x=\"1808.980469\" xlink:href=\"#DejaVuSans-100\"/>\n",
       "       <use x=\"1872.457031\" xlink:href=\"#DejaVuSans-32\"/>\n",
       "       <use x=\"1904.244141\" xlink:href=\"#DejaVuSans-98\"/>\n",
       "       <use x=\"1967.720703\" xlink:href=\"#DejaVuSans-121\"/>\n",
       "       <use x=\"2026.900391\" xlink:href=\"#DejaVuSans-32\"/>\n",
       "       <use x=\"2058.6875\" xlink:href=\"#DejaVuSans-116\"/>\n",
       "       <use x=\"2097.896484\" xlink:href=\"#DejaVuSans-97\"/>\n",
       "       <use x=\"2159.175781\" xlink:href=\"#DejaVuSans-108\"/>\n",
       "       <use x=\"2186.958984\" xlink:href=\"#DejaVuSans-107\"/>\n",
       "       <use x=\"2244.869141\" xlink:href=\"#DejaVuSans-32\"/>\n",
       "       <use x=\"2276.65625\" xlink:href=\"#DejaVuSans-99\"/>\n",
       "       <use x=\"2331.636719\" xlink:href=\"#DejaVuSans-111\"/>\n",
       "       <use x=\"2392.818359\" xlink:href=\"#DejaVuSans-110\"/>\n",
       "       <use x=\"2456.197266\" xlink:href=\"#DejaVuSans-116\"/>\n",
       "       <use x=\"2495.40625\" xlink:href=\"#DejaVuSans-114\"/>\n",
       "       <use x=\"2536.519531\" xlink:href=\"#DejaVuSans-105\"/>\n",
       "       <use x=\"2564.302734\" xlink:href=\"#DejaVuSans-98\"/>\n",
       "       <use x=\"2627.779297\" xlink:href=\"#DejaVuSans-115\"/>\n",
       "      </g>\n",
       "     </g>\n",
       "    </g>\n",
       "    <g id=\"xtick_7\">\n",
       "     <g id=\"line2d_13\">\n",
       "      <path clip-path=\"url(#p7b77b298fc)\" d=\"M 170.919739 333.36 \n",
       "L 170.919739 7.2 \n",
       "\" style=\"fill:none;stroke:#c0c0c0;stroke-linecap:square;stroke-width:0.8;\"/>\n",
       "     </g>\n",
       "     <g id=\"line2d_14\">\n",
       "      <g>\n",
       "       <use style=\"stroke:#000000;stroke-width:0.8;\" x=\"170.919739\" xlink:href=\"#m6d9b36f697\" y=\"333.36\"/>\n",
       "      </g>\n",
       "     </g>\n",
       "     <g id=\"text_7\">\n",
       "      <!--  please do not add nonsense to wikipedia it is considered vandalism if you would like to experiment use the sandbox thank you talk -->\n",
       "      <g transform=\"translate(173.679114 1000.720938)rotate(-90)scale(0.1 -0.1)\">\n",
       "       <use xlink:href=\"#DejaVuSans-32\"/>\n",
       "       <use x=\"31.787109\" xlink:href=\"#DejaVuSans-112\"/>\n",
       "       <use x=\"95.263672\" xlink:href=\"#DejaVuSans-108\"/>\n",
       "       <use x=\"123.046875\" xlink:href=\"#DejaVuSans-101\"/>\n",
       "       <use x=\"184.570312\" xlink:href=\"#DejaVuSans-97\"/>\n",
       "       <use x=\"245.849609\" xlink:href=\"#DejaVuSans-115\"/>\n",
       "       <use x=\"297.949219\" xlink:href=\"#DejaVuSans-101\"/>\n",
       "       <use x=\"359.472656\" xlink:href=\"#DejaVuSans-32\"/>\n",
       "       <use x=\"391.259766\" xlink:href=\"#DejaVuSans-100\"/>\n",
       "       <use x=\"454.736328\" xlink:href=\"#DejaVuSans-111\"/>\n",
       "       <use x=\"515.917969\" xlink:href=\"#DejaVuSans-32\"/>\n",
       "       <use x=\"547.705078\" xlink:href=\"#DejaVuSans-110\"/>\n",
       "       <use x=\"611.083984\" xlink:href=\"#DejaVuSans-111\"/>\n",
       "       <use x=\"672.265625\" xlink:href=\"#DejaVuSans-116\"/>\n",
       "       <use x=\"711.474609\" xlink:href=\"#DejaVuSans-32\"/>\n",
       "       <use x=\"743.261719\" xlink:href=\"#DejaVuSans-97\"/>\n",
       "       <use x=\"804.541016\" xlink:href=\"#DejaVuSans-100\"/>\n",
       "       <use x=\"868.017578\" xlink:href=\"#DejaVuSans-100\"/>\n",
       "       <use x=\"931.494141\" xlink:href=\"#DejaVuSans-32\"/>\n",
       "       <use x=\"963.28125\" xlink:href=\"#DejaVuSans-110\"/>\n",
       "       <use x=\"1026.660156\" xlink:href=\"#DejaVuSans-111\"/>\n",
       "       <use x=\"1087.841797\" xlink:href=\"#DejaVuSans-110\"/>\n",
       "       <use x=\"1151.220703\" xlink:href=\"#DejaVuSans-115\"/>\n",
       "       <use x=\"1203.320312\" xlink:href=\"#DejaVuSans-101\"/>\n",
       "       <use x=\"1264.84375\" xlink:href=\"#DejaVuSans-110\"/>\n",
       "       <use x=\"1328.222656\" xlink:href=\"#DejaVuSans-115\"/>\n",
       "       <use x=\"1380.322266\" xlink:href=\"#DejaVuSans-101\"/>\n",
       "       <use x=\"1441.845703\" xlink:href=\"#DejaVuSans-32\"/>\n",
       "       <use x=\"1473.632812\" xlink:href=\"#DejaVuSans-116\"/>\n",
       "       <use x=\"1512.841797\" xlink:href=\"#DejaVuSans-111\"/>\n",
       "       <use x=\"1574.023438\" xlink:href=\"#DejaVuSans-32\"/>\n",
       "       <use x=\"1605.810547\" xlink:href=\"#DejaVuSans-119\"/>\n",
       "       <use x=\"1687.597656\" xlink:href=\"#DejaVuSans-105\"/>\n",
       "       <use x=\"1715.380859\" xlink:href=\"#DejaVuSans-107\"/>\n",
       "       <use x=\"1773.291016\" xlink:href=\"#DejaVuSans-105\"/>\n",
       "       <use x=\"1801.074219\" xlink:href=\"#DejaVuSans-112\"/>\n",
       "       <use x=\"1864.550781\" xlink:href=\"#DejaVuSans-101\"/>\n",
       "       <use x=\"1926.074219\" xlink:href=\"#DejaVuSans-100\"/>\n",
       "       <use x=\"1989.550781\" xlink:href=\"#DejaVuSans-105\"/>\n",
       "       <use x=\"2017.333984\" xlink:href=\"#DejaVuSans-97\"/>\n",
       "       <use x=\"2078.613281\" xlink:href=\"#DejaVuSans-32\"/>\n",
       "       <use x=\"2110.400391\" xlink:href=\"#DejaVuSans-105\"/>\n",
       "       <use x=\"2138.183594\" xlink:href=\"#DejaVuSans-116\"/>\n",
       "       <use x=\"2177.392578\" xlink:href=\"#DejaVuSans-32\"/>\n",
       "       <use x=\"2209.179688\" xlink:href=\"#DejaVuSans-105\"/>\n",
       "       <use x=\"2236.962891\" xlink:href=\"#DejaVuSans-115\"/>\n",
       "       <use x=\"2289.0625\" xlink:href=\"#DejaVuSans-32\"/>\n",
       "       <use x=\"2320.849609\" xlink:href=\"#DejaVuSans-99\"/>\n",
       "       <use x=\"2375.830078\" xlink:href=\"#DejaVuSans-111\"/>\n",
       "       <use x=\"2437.011719\" xlink:href=\"#DejaVuSans-110\"/>\n",
       "       <use x=\"2500.390625\" xlink:href=\"#DejaVuSans-115\"/>\n",
       "       <use x=\"2552.490234\" xlink:href=\"#DejaVuSans-105\"/>\n",
       "       <use x=\"2580.273438\" xlink:href=\"#DejaVuSans-100\"/>\n",
       "       <use x=\"2643.75\" xlink:href=\"#DejaVuSans-101\"/>\n",
       "       <use x=\"2705.273438\" xlink:href=\"#DejaVuSans-114\"/>\n",
       "       <use x=\"2744.136719\" xlink:href=\"#DejaVuSans-101\"/>\n",
       "       <use x=\"2805.660156\" xlink:href=\"#DejaVuSans-100\"/>\n",
       "       <use x=\"2869.136719\" xlink:href=\"#DejaVuSans-32\"/>\n",
       "       <use x=\"2900.923828\" xlink:href=\"#DejaVuSans-118\"/>\n",
       "       <use x=\"2960.103516\" xlink:href=\"#DejaVuSans-97\"/>\n",
       "       <use x=\"3021.382812\" xlink:href=\"#DejaVuSans-110\"/>\n",
       "       <use x=\"3084.761719\" xlink:href=\"#DejaVuSans-100\"/>\n",
       "       <use x=\"3148.238281\" xlink:href=\"#DejaVuSans-97\"/>\n",
       "       <use x=\"3209.517578\" xlink:href=\"#DejaVuSans-108\"/>\n",
       "       <use x=\"3237.300781\" xlink:href=\"#DejaVuSans-105\"/>\n",
       "       <use x=\"3265.083984\" xlink:href=\"#DejaVuSans-115\"/>\n",
       "       <use x=\"3317.183594\" xlink:href=\"#DejaVuSans-109\"/>\n",
       "       <use x=\"3414.595703\" xlink:href=\"#DejaVuSans-32\"/>\n",
       "       <use x=\"3446.382812\" xlink:href=\"#DejaVuSans-105\"/>\n",
       "       <use x=\"3474.166016\" xlink:href=\"#DejaVuSans-102\"/>\n",
       "       <use x=\"3509.371094\" xlink:href=\"#DejaVuSans-32\"/>\n",
       "       <use x=\"3541.158203\" xlink:href=\"#DejaVuSans-121\"/>\n",
       "       <use x=\"3600.337891\" xlink:href=\"#DejaVuSans-111\"/>\n",
       "       <use x=\"3661.519531\" xlink:href=\"#DejaVuSans-117\"/>\n",
       "       <use x=\"3724.898438\" xlink:href=\"#DejaVuSans-32\"/>\n",
       "       <use x=\"3756.685547\" xlink:href=\"#DejaVuSans-119\"/>\n",
       "       <use x=\"3838.472656\" xlink:href=\"#DejaVuSans-111\"/>\n",
       "       <use x=\"3899.654297\" xlink:href=\"#DejaVuSans-117\"/>\n",
       "       <use x=\"3963.033203\" xlink:href=\"#DejaVuSans-108\"/>\n",
       "       <use x=\"3990.816406\" xlink:href=\"#DejaVuSans-100\"/>\n",
       "       <use x=\"4054.292969\" xlink:href=\"#DejaVuSans-32\"/>\n",
       "       <use x=\"4086.080078\" xlink:href=\"#DejaVuSans-108\"/>\n",
       "       <use x=\"4113.863281\" xlink:href=\"#DejaVuSans-105\"/>\n",
       "       <use x=\"4141.646484\" xlink:href=\"#DejaVuSans-107\"/>\n",
       "       <use x=\"4195.931641\" xlink:href=\"#DejaVuSans-101\"/>\n",
       "       <use x=\"4257.455078\" xlink:href=\"#DejaVuSans-32\"/>\n",
       "       <use x=\"4289.242188\" xlink:href=\"#DejaVuSans-116\"/>\n",
       "       <use x=\"4328.451172\" xlink:href=\"#DejaVuSans-111\"/>\n",
       "       <use x=\"4389.632812\" xlink:href=\"#DejaVuSans-32\"/>\n",
       "       <use x=\"4421.419922\" xlink:href=\"#DejaVuSans-101\"/>\n",
       "       <use x=\"4481.193359\" xlink:href=\"#DejaVuSans-120\"/>\n",
       "       <use x=\"4540.373047\" xlink:href=\"#DejaVuSans-112\"/>\n",
       "       <use x=\"4603.849609\" xlink:href=\"#DejaVuSans-101\"/>\n",
       "       <use x=\"4665.373047\" xlink:href=\"#DejaVuSans-114\"/>\n",
       "       <use x=\"4706.486328\" xlink:href=\"#DejaVuSans-105\"/>\n",
       "       <use x=\"4734.269531\" xlink:href=\"#DejaVuSans-109\"/>\n",
       "       <use x=\"4831.681641\" xlink:href=\"#DejaVuSans-101\"/>\n",
       "       <use x=\"4893.205078\" xlink:href=\"#DejaVuSans-110\"/>\n",
       "       <use x=\"4956.583984\" xlink:href=\"#DejaVuSans-116\"/>\n",
       "       <use x=\"4995.792969\" xlink:href=\"#DejaVuSans-32\"/>\n",
       "       <use x=\"5027.580078\" xlink:href=\"#DejaVuSans-117\"/>\n",
       "       <use x=\"5090.958984\" xlink:href=\"#DejaVuSans-115\"/>\n",
       "       <use x=\"5143.058594\" xlink:href=\"#DejaVuSans-101\"/>\n",
       "       <use x=\"5204.582031\" xlink:href=\"#DejaVuSans-32\"/>\n",
       "       <use x=\"5236.369141\" xlink:href=\"#DejaVuSans-116\"/>\n",
       "       <use x=\"5275.578125\" xlink:href=\"#DejaVuSans-104\"/>\n",
       "       <use x=\"5338.957031\" xlink:href=\"#DejaVuSans-101\"/>\n",
       "       <use x=\"5400.480469\" xlink:href=\"#DejaVuSans-32\"/>\n",
       "       <use x=\"5432.267578\" xlink:href=\"#DejaVuSans-115\"/>\n",
       "       <use x=\"5484.367188\" xlink:href=\"#DejaVuSans-97\"/>\n",
       "       <use x=\"5545.646484\" xlink:href=\"#DejaVuSans-110\"/>\n",
       "       <use x=\"5609.025391\" xlink:href=\"#DejaVuSans-100\"/>\n",
       "       <use x=\"5672.501953\" xlink:href=\"#DejaVuSans-98\"/>\n",
       "       <use x=\"5735.978516\" xlink:href=\"#DejaVuSans-111\"/>\n",
       "       <use x=\"5794.035156\" xlink:href=\"#DejaVuSans-120\"/>\n",
       "       <use x=\"5853.214844\" xlink:href=\"#DejaVuSans-32\"/>\n",
       "       <use x=\"5885.001953\" xlink:href=\"#DejaVuSans-116\"/>\n",
       "       <use x=\"5924.210938\" xlink:href=\"#DejaVuSans-104\"/>\n",
       "       <use x=\"5987.589844\" xlink:href=\"#DejaVuSans-97\"/>\n",
       "       <use x=\"6048.869141\" xlink:href=\"#DejaVuSans-110\"/>\n",
       "       <use x=\"6112.248047\" xlink:href=\"#DejaVuSans-107\"/>\n",
       "       <use x=\"6170.158203\" xlink:href=\"#DejaVuSans-32\"/>\n",
       "       <use x=\"6201.945312\" xlink:href=\"#DejaVuSans-121\"/>\n",
       "       <use x=\"6261.125\" xlink:href=\"#DejaVuSans-111\"/>\n",
       "       <use x=\"6322.306641\" xlink:href=\"#DejaVuSans-117\"/>\n",
       "       <use x=\"6385.685547\" xlink:href=\"#DejaVuSans-32\"/>\n",
       "       <use x=\"6417.472656\" xlink:href=\"#DejaVuSans-116\"/>\n",
       "       <use x=\"6456.681641\" xlink:href=\"#DejaVuSans-97\"/>\n",
       "       <use x=\"6517.960938\" xlink:href=\"#DejaVuSans-108\"/>\n",
       "       <use x=\"6545.744141\" xlink:href=\"#DejaVuSans-107\"/>\n",
       "      </g>\n",
       "     </g>\n",
       "    </g>\n",
       "    <g id=\"xtick_8\">\n",
       "     <g id=\"line2d_15\">\n",
       "      <path clip-path=\"url(#p7b77b298fc)\" d=\"M 188.411902 333.36 \n",
       "L 188.411902 7.2 \n",
       "\" style=\"fill:none;stroke:#c0c0c0;stroke-linecap:square;stroke-width:0.8;\"/>\n",
       "     </g>\n",
       "     <g id=\"line2d_16\">\n",
       "      <g>\n",
       "       <use style=\"stroke:#000000;stroke-width:0.8;\" x=\"188.411902\" xlink:href=\"#m6d9b36f697\" y=\"333.36\"/>\n",
       "      </g>\n",
       "     </g>\n",
       "     <g id=\"text_8\">\n",
       "      <!--  october -->\n",
       "      <g transform=\"translate(191.171277 381.806875)rotate(-90)scale(0.1 -0.1)\">\n",
       "       <use xlink:href=\"#DejaVuSans-32\"/>\n",
       "       <use x=\"31.787109\" xlink:href=\"#DejaVuSans-111\"/>\n",
       "       <use x=\"92.96875\" xlink:href=\"#DejaVuSans-99\"/>\n",
       "       <use x=\"147.949219\" xlink:href=\"#DejaVuSans-116\"/>\n",
       "       <use x=\"187.158203\" xlink:href=\"#DejaVuSans-111\"/>\n",
       "       <use x=\"248.339844\" xlink:href=\"#DejaVuSans-98\"/>\n",
       "       <use x=\"311.816406\" xlink:href=\"#DejaVuSans-101\"/>\n",
       "       <use x=\"373.339844\" xlink:href=\"#DejaVuSans-114\"/>\n",
       "      </g>\n",
       "     </g>\n",
       "    </g>\n",
       "    <g id=\"xtick_9\">\n",
       "     <g id=\"line2d_17\">\n",
       "      <path clip-path=\"url(#p7b77b298fc)\" d=\"M 205.904065 333.36 \n",
       "L 205.904065 7.2 \n",
       "\" style=\"fill:none;stroke:#c0c0c0;stroke-linecap:square;stroke-width:0.8;\"/>\n",
       "     </g>\n",
       "     <g id=\"line2d_18\">\n",
       "      <g>\n",
       "       <use style=\"stroke:#000000;stroke-width:0.8;\" x=\"205.904065\" xlink:href=\"#m6d9b36f697\" y=\"333.36\"/>\n",
       "      </g>\n",
       "     </g>\n",
       "     <g id=\"text_9\">\n",
       "      <!--  thank you for experimenting with wikipedia your test worked and it has been reverted or removed please use the sandbox for any other tests you may want to do take a look at the welcome page to learn more about contributing to our encyclopedia -->\n",
       "      <g transform=\"translate(208.66344 1593.277188)rotate(-90)scale(0.1 -0.1)\">\n",
       "       <use xlink:href=\"#DejaVuSans-32\"/>\n",
       "       <use x=\"31.787109\" xlink:href=\"#DejaVuSans-116\"/>\n",
       "       <use x=\"70.996094\" xlink:href=\"#DejaVuSans-104\"/>\n",
       "       <use x=\"134.375\" xlink:href=\"#DejaVuSans-97\"/>\n",
       "       <use x=\"195.654297\" xlink:href=\"#DejaVuSans-110\"/>\n",
       "       <use x=\"259.033203\" xlink:href=\"#DejaVuSans-107\"/>\n",
       "       <use x=\"316.943359\" xlink:href=\"#DejaVuSans-32\"/>\n",
       "       <use x=\"348.730469\" xlink:href=\"#DejaVuSans-121\"/>\n",
       "       <use x=\"407.910156\" xlink:href=\"#DejaVuSans-111\"/>\n",
       "       <use x=\"469.091797\" xlink:href=\"#DejaVuSans-117\"/>\n",
       "       <use x=\"532.470703\" xlink:href=\"#DejaVuSans-32\"/>\n",
       "       <use x=\"564.257812\" xlink:href=\"#DejaVuSans-102\"/>\n",
       "       <use x=\"599.462891\" xlink:href=\"#DejaVuSans-111\"/>\n",
       "       <use x=\"660.644531\" xlink:href=\"#DejaVuSans-114\"/>\n",
       "       <use x=\"701.757812\" xlink:href=\"#DejaVuSans-32\"/>\n",
       "       <use x=\"733.544922\" xlink:href=\"#DejaVuSans-101\"/>\n",
       "       <use x=\"793.318359\" xlink:href=\"#DejaVuSans-120\"/>\n",
       "       <use x=\"852.498047\" xlink:href=\"#DejaVuSans-112\"/>\n",
       "       <use x=\"915.974609\" xlink:href=\"#DejaVuSans-101\"/>\n",
       "       <use x=\"977.498047\" xlink:href=\"#DejaVuSans-114\"/>\n",
       "       <use x=\"1018.611328\" xlink:href=\"#DejaVuSans-105\"/>\n",
       "       <use x=\"1046.394531\" xlink:href=\"#DejaVuSans-109\"/>\n",
       "       <use x=\"1143.806641\" xlink:href=\"#DejaVuSans-101\"/>\n",
       "       <use x=\"1205.330078\" xlink:href=\"#DejaVuSans-110\"/>\n",
       "       <use x=\"1268.708984\" xlink:href=\"#DejaVuSans-116\"/>\n",
       "       <use x=\"1307.917969\" xlink:href=\"#DejaVuSans-105\"/>\n",
       "       <use x=\"1335.701172\" xlink:href=\"#DejaVuSans-110\"/>\n",
       "       <use x=\"1399.080078\" xlink:href=\"#DejaVuSans-103\"/>\n",
       "       <use x=\"1462.556641\" xlink:href=\"#DejaVuSans-32\"/>\n",
       "       <use x=\"1494.34375\" xlink:href=\"#DejaVuSans-119\"/>\n",
       "       <use x=\"1576.130859\" xlink:href=\"#DejaVuSans-105\"/>\n",
       "       <use x=\"1603.914062\" xlink:href=\"#DejaVuSans-116\"/>\n",
       "       <use x=\"1643.123047\" xlink:href=\"#DejaVuSans-104\"/>\n",
       "       <use x=\"1706.501953\" xlink:href=\"#DejaVuSans-32\"/>\n",
       "       <use x=\"1738.289062\" xlink:href=\"#DejaVuSans-119\"/>\n",
       "       <use x=\"1820.076172\" xlink:href=\"#DejaVuSans-105\"/>\n",
       "       <use x=\"1847.859375\" xlink:href=\"#DejaVuSans-107\"/>\n",
       "       <use x=\"1905.769531\" xlink:href=\"#DejaVuSans-105\"/>\n",
       "       <use x=\"1933.552734\" xlink:href=\"#DejaVuSans-112\"/>\n",
       "       <use x=\"1997.029297\" xlink:href=\"#DejaVuSans-101\"/>\n",
       "       <use x=\"2058.552734\" xlink:href=\"#DejaVuSans-100\"/>\n",
       "       <use x=\"2122.029297\" xlink:href=\"#DejaVuSans-105\"/>\n",
       "       <use x=\"2149.8125\" xlink:href=\"#DejaVuSans-97\"/>\n",
       "       <use x=\"2211.091797\" xlink:href=\"#DejaVuSans-32\"/>\n",
       "       <use x=\"2242.878906\" xlink:href=\"#DejaVuSans-121\"/>\n",
       "       <use x=\"2302.058594\" xlink:href=\"#DejaVuSans-111\"/>\n",
       "       <use x=\"2363.240234\" xlink:href=\"#DejaVuSans-117\"/>\n",
       "       <use x=\"2426.619141\" xlink:href=\"#DejaVuSans-114\"/>\n",
       "       <use x=\"2467.732422\" xlink:href=\"#DejaVuSans-32\"/>\n",
       "       <use x=\"2499.519531\" xlink:href=\"#DejaVuSans-116\"/>\n",
       "       <use x=\"2538.728516\" xlink:href=\"#DejaVuSans-101\"/>\n",
       "       <use x=\"2600.251953\" xlink:href=\"#DejaVuSans-115\"/>\n",
       "       <use x=\"2652.351562\" xlink:href=\"#DejaVuSans-116\"/>\n",
       "       <use x=\"2691.560547\" xlink:href=\"#DejaVuSans-32\"/>\n",
       "       <use x=\"2723.347656\" xlink:href=\"#DejaVuSans-119\"/>\n",
       "       <use x=\"2805.134766\" xlink:href=\"#DejaVuSans-111\"/>\n",
       "       <use x=\"2866.316406\" xlink:href=\"#DejaVuSans-114\"/>\n",
       "       <use x=\"2907.429688\" xlink:href=\"#DejaVuSans-107\"/>\n",
       "       <use x=\"2961.714844\" xlink:href=\"#DejaVuSans-101\"/>\n",
       "       <use x=\"3023.238281\" xlink:href=\"#DejaVuSans-100\"/>\n",
       "       <use x=\"3086.714844\" xlink:href=\"#DejaVuSans-32\"/>\n",
       "       <use x=\"3118.501953\" xlink:href=\"#DejaVuSans-97\"/>\n",
       "       <use x=\"3179.78125\" xlink:href=\"#DejaVuSans-110\"/>\n",
       "       <use x=\"3243.160156\" xlink:href=\"#DejaVuSans-100\"/>\n",
       "       <use x=\"3306.636719\" xlink:href=\"#DejaVuSans-32\"/>\n",
       "       <use x=\"3338.423828\" xlink:href=\"#DejaVuSans-105\"/>\n",
       "       <use x=\"3366.207031\" xlink:href=\"#DejaVuSans-116\"/>\n",
       "       <use x=\"3405.416016\" xlink:href=\"#DejaVuSans-32\"/>\n",
       "       <use x=\"3437.203125\" xlink:href=\"#DejaVuSans-104\"/>\n",
       "       <use x=\"3500.582031\" xlink:href=\"#DejaVuSans-97\"/>\n",
       "       <use x=\"3561.861328\" xlink:href=\"#DejaVuSans-115\"/>\n",
       "       <use x=\"3613.960938\" xlink:href=\"#DejaVuSans-32\"/>\n",
       "       <use x=\"3645.748047\" xlink:href=\"#DejaVuSans-98\"/>\n",
       "       <use x=\"3709.224609\" xlink:href=\"#DejaVuSans-101\"/>\n",
       "       <use x=\"3770.748047\" xlink:href=\"#DejaVuSans-101\"/>\n",
       "       <use x=\"3832.271484\" xlink:href=\"#DejaVuSans-110\"/>\n",
       "       <use x=\"3895.650391\" xlink:href=\"#DejaVuSans-32\"/>\n",
       "       <use x=\"3927.4375\" xlink:href=\"#DejaVuSans-114\"/>\n",
       "       <use x=\"3966.300781\" xlink:href=\"#DejaVuSans-101\"/>\n",
       "       <use x=\"4027.824219\" xlink:href=\"#DejaVuSans-118\"/>\n",
       "       <use x=\"4087.003906\" xlink:href=\"#DejaVuSans-101\"/>\n",
       "       <use x=\"4148.527344\" xlink:href=\"#DejaVuSans-114\"/>\n",
       "       <use x=\"4189.640625\" xlink:href=\"#DejaVuSans-116\"/>\n",
       "       <use x=\"4228.849609\" xlink:href=\"#DejaVuSans-101\"/>\n",
       "       <use x=\"4290.373047\" xlink:href=\"#DejaVuSans-100\"/>\n",
       "       <use x=\"4353.849609\" xlink:href=\"#DejaVuSans-32\"/>\n",
       "       <use x=\"4385.636719\" xlink:href=\"#DejaVuSans-111\"/>\n",
       "       <use x=\"4446.818359\" xlink:href=\"#DejaVuSans-114\"/>\n",
       "       <use x=\"4487.931641\" xlink:href=\"#DejaVuSans-32\"/>\n",
       "       <use x=\"4519.71875\" xlink:href=\"#DejaVuSans-114\"/>\n",
       "       <use x=\"4558.582031\" xlink:href=\"#DejaVuSans-101\"/>\n",
       "       <use x=\"4620.105469\" xlink:href=\"#DejaVuSans-109\"/>\n",
       "       <use x=\"4717.517578\" xlink:href=\"#DejaVuSans-111\"/>\n",
       "       <use x=\"4778.699219\" xlink:href=\"#DejaVuSans-118\"/>\n",
       "       <use x=\"4837.878906\" xlink:href=\"#DejaVuSans-101\"/>\n",
       "       <use x=\"4899.402344\" xlink:href=\"#DejaVuSans-100\"/>\n",
       "       <use x=\"4962.878906\" xlink:href=\"#DejaVuSans-32\"/>\n",
       "       <use x=\"4994.666016\" xlink:href=\"#DejaVuSans-112\"/>\n",
       "       <use x=\"5058.142578\" xlink:href=\"#DejaVuSans-108\"/>\n",
       "       <use x=\"5085.925781\" xlink:href=\"#DejaVuSans-101\"/>\n",
       "       <use x=\"5147.449219\" xlink:href=\"#DejaVuSans-97\"/>\n",
       "       <use x=\"5208.728516\" xlink:href=\"#DejaVuSans-115\"/>\n",
       "       <use x=\"5260.828125\" xlink:href=\"#DejaVuSans-101\"/>\n",
       "       <use x=\"5322.351562\" xlink:href=\"#DejaVuSans-32\"/>\n",
       "       <use x=\"5354.138672\" xlink:href=\"#DejaVuSans-117\"/>\n",
       "       <use x=\"5417.517578\" xlink:href=\"#DejaVuSans-115\"/>\n",
       "       <use x=\"5469.617188\" xlink:href=\"#DejaVuSans-101\"/>\n",
       "       <use x=\"5531.140625\" xlink:href=\"#DejaVuSans-32\"/>\n",
       "       <use x=\"5562.927734\" xlink:href=\"#DejaVuSans-116\"/>\n",
       "       <use x=\"5602.136719\" xlink:href=\"#DejaVuSans-104\"/>\n",
       "       <use x=\"5665.515625\" xlink:href=\"#DejaVuSans-101\"/>\n",
       "       <use x=\"5727.039062\" xlink:href=\"#DejaVuSans-32\"/>\n",
       "       <use x=\"5758.826172\" xlink:href=\"#DejaVuSans-115\"/>\n",
       "       <use x=\"5810.925781\" xlink:href=\"#DejaVuSans-97\"/>\n",
       "       <use x=\"5872.205078\" xlink:href=\"#DejaVuSans-110\"/>\n",
       "       <use x=\"5935.583984\" xlink:href=\"#DejaVuSans-100\"/>\n",
       "       <use x=\"5999.060547\" xlink:href=\"#DejaVuSans-98\"/>\n",
       "       <use x=\"6062.537109\" xlink:href=\"#DejaVuSans-111\"/>\n",
       "       <use x=\"6120.59375\" xlink:href=\"#DejaVuSans-120\"/>\n",
       "       <use x=\"6179.773438\" xlink:href=\"#DejaVuSans-32\"/>\n",
       "       <use x=\"6211.560547\" xlink:href=\"#DejaVuSans-102\"/>\n",
       "       <use x=\"6246.765625\" xlink:href=\"#DejaVuSans-111\"/>\n",
       "       <use x=\"6307.947266\" xlink:href=\"#DejaVuSans-114\"/>\n",
       "       <use x=\"6349.060547\" xlink:href=\"#DejaVuSans-32\"/>\n",
       "       <use x=\"6380.847656\" xlink:href=\"#DejaVuSans-97\"/>\n",
       "       <use x=\"6442.126953\" xlink:href=\"#DejaVuSans-110\"/>\n",
       "       <use x=\"6505.505859\" xlink:href=\"#DejaVuSans-121\"/>\n",
       "       <use x=\"6564.685547\" xlink:href=\"#DejaVuSans-32\"/>\n",
       "       <use x=\"6596.472656\" xlink:href=\"#DejaVuSans-111\"/>\n",
       "       <use x=\"6657.654297\" xlink:href=\"#DejaVuSans-116\"/>\n",
       "       <use x=\"6696.863281\" xlink:href=\"#DejaVuSans-104\"/>\n",
       "       <use x=\"6760.242188\" xlink:href=\"#DejaVuSans-101\"/>\n",
       "       <use x=\"6821.765625\" xlink:href=\"#DejaVuSans-114\"/>\n",
       "       <use x=\"6862.878906\" xlink:href=\"#DejaVuSans-32\"/>\n",
       "       <use x=\"6894.666016\" xlink:href=\"#DejaVuSans-116\"/>\n",
       "       <use x=\"6933.875\" xlink:href=\"#DejaVuSans-101\"/>\n",
       "       <use x=\"6995.398438\" xlink:href=\"#DejaVuSans-115\"/>\n",
       "       <use x=\"7047.498047\" xlink:href=\"#DejaVuSans-116\"/>\n",
       "       <use x=\"7086.707031\" xlink:href=\"#DejaVuSans-115\"/>\n",
       "       <use x=\"7138.806641\" xlink:href=\"#DejaVuSans-32\"/>\n",
       "       <use x=\"7170.59375\" xlink:href=\"#DejaVuSans-121\"/>\n",
       "       <use x=\"7229.773438\" xlink:href=\"#DejaVuSans-111\"/>\n",
       "       <use x=\"7290.955078\" xlink:href=\"#DejaVuSans-117\"/>\n",
       "       <use x=\"7354.333984\" xlink:href=\"#DejaVuSans-32\"/>\n",
       "       <use x=\"7386.121094\" xlink:href=\"#DejaVuSans-109\"/>\n",
       "       <use x=\"7483.533203\" xlink:href=\"#DejaVuSans-97\"/>\n",
       "       <use x=\"7544.8125\" xlink:href=\"#DejaVuSans-121\"/>\n",
       "       <use x=\"7603.992188\" xlink:href=\"#DejaVuSans-32\"/>\n",
       "       <use x=\"7635.779297\" xlink:href=\"#DejaVuSans-119\"/>\n",
       "       <use x=\"7717.566406\" xlink:href=\"#DejaVuSans-97\"/>\n",
       "       <use x=\"7778.845703\" xlink:href=\"#DejaVuSans-110\"/>\n",
       "       <use x=\"7842.224609\" xlink:href=\"#DejaVuSans-116\"/>\n",
       "       <use x=\"7881.433594\" xlink:href=\"#DejaVuSans-32\"/>\n",
       "       <use x=\"7913.220703\" xlink:href=\"#DejaVuSans-116\"/>\n",
       "       <use x=\"7952.429688\" xlink:href=\"#DejaVuSans-111\"/>\n",
       "       <use x=\"8013.611328\" xlink:href=\"#DejaVuSans-32\"/>\n",
       "       <use x=\"8045.398438\" xlink:href=\"#DejaVuSans-100\"/>\n",
       "       <use x=\"8108.875\" xlink:href=\"#DejaVuSans-111\"/>\n",
       "       <use x=\"8170.056641\" xlink:href=\"#DejaVuSans-32\"/>\n",
       "       <use x=\"8201.84375\" xlink:href=\"#DejaVuSans-116\"/>\n",
       "       <use x=\"8241.052734\" xlink:href=\"#DejaVuSans-97\"/>\n",
       "       <use x=\"8302.332031\" xlink:href=\"#DejaVuSans-107\"/>\n",
       "       <use x=\"8356.617188\" xlink:href=\"#DejaVuSans-101\"/>\n",
       "       <use x=\"8418.140625\" xlink:href=\"#DejaVuSans-32\"/>\n",
       "       <use x=\"8449.927734\" xlink:href=\"#DejaVuSans-97\"/>\n",
       "       <use x=\"8511.207031\" xlink:href=\"#DejaVuSans-32\"/>\n",
       "       <use x=\"8542.994141\" xlink:href=\"#DejaVuSans-108\"/>\n",
       "       <use x=\"8570.777344\" xlink:href=\"#DejaVuSans-111\"/>\n",
       "       <use x=\"8631.958984\" xlink:href=\"#DejaVuSans-111\"/>\n",
       "       <use x=\"8693.140625\" xlink:href=\"#DejaVuSans-107\"/>\n",
       "       <use x=\"8751.050781\" xlink:href=\"#DejaVuSans-32\"/>\n",
       "       <use x=\"8782.837891\" xlink:href=\"#DejaVuSans-97\"/>\n",
       "       <use x=\"8844.117188\" xlink:href=\"#DejaVuSans-116\"/>\n",
       "       <use x=\"8883.326172\" xlink:href=\"#DejaVuSans-32\"/>\n",
       "       <use x=\"8915.113281\" xlink:href=\"#DejaVuSans-116\"/>\n",
       "       <use x=\"8954.322266\" xlink:href=\"#DejaVuSans-104\"/>\n",
       "       <use x=\"9017.701172\" xlink:href=\"#DejaVuSans-101\"/>\n",
       "       <use x=\"9079.224609\" xlink:href=\"#DejaVuSans-32\"/>\n",
       "       <use x=\"9111.011719\" xlink:href=\"#DejaVuSans-119\"/>\n",
       "       <use x=\"9192.798828\" xlink:href=\"#DejaVuSans-101\"/>\n",
       "       <use x=\"9254.322266\" xlink:href=\"#DejaVuSans-108\"/>\n",
       "       <use x=\"9282.105469\" xlink:href=\"#DejaVuSans-99\"/>\n",
       "       <use x=\"9337.085938\" xlink:href=\"#DejaVuSans-111\"/>\n",
       "       <use x=\"9398.267578\" xlink:href=\"#DejaVuSans-109\"/>\n",
       "       <use x=\"9495.679688\" xlink:href=\"#DejaVuSans-101\"/>\n",
       "       <use x=\"9557.203125\" xlink:href=\"#DejaVuSans-32\"/>\n",
       "       <use x=\"9588.990234\" xlink:href=\"#DejaVuSans-112\"/>\n",
       "       <use x=\"9652.466797\" xlink:href=\"#DejaVuSans-97\"/>\n",
       "       <use x=\"9713.746094\" xlink:href=\"#DejaVuSans-103\"/>\n",
       "       <use x=\"9777.222656\" xlink:href=\"#DejaVuSans-101\"/>\n",
       "       <use x=\"9838.746094\" xlink:href=\"#DejaVuSans-32\"/>\n",
       "       <use x=\"9870.533203\" xlink:href=\"#DejaVuSans-116\"/>\n",
       "       <use x=\"9909.742188\" xlink:href=\"#DejaVuSans-111\"/>\n",
       "       <use x=\"9970.923828\" xlink:href=\"#DejaVuSans-32\"/>\n",
       "       <use x=\"10002.710938\" xlink:href=\"#DejaVuSans-108\"/>\n",
       "       <use x=\"10030.494141\" xlink:href=\"#DejaVuSans-101\"/>\n",
       "       <use x=\"10092.017578\" xlink:href=\"#DejaVuSans-97\"/>\n",
       "       <use x=\"10153.296875\" xlink:href=\"#DejaVuSans-114\"/>\n",
       "       <use x=\"10192.660156\" xlink:href=\"#DejaVuSans-110\"/>\n",
       "       <use x=\"10256.039062\" xlink:href=\"#DejaVuSans-32\"/>\n",
       "       <use x=\"10287.826172\" xlink:href=\"#DejaVuSans-109\"/>\n",
       "       <use x=\"10385.238281\" xlink:href=\"#DejaVuSans-111\"/>\n",
       "       <use x=\"10446.419922\" xlink:href=\"#DejaVuSans-114\"/>\n",
       "       <use x=\"10485.283203\" xlink:href=\"#DejaVuSans-101\"/>\n",
       "       <use x=\"10546.806641\" xlink:href=\"#DejaVuSans-32\"/>\n",
       "       <use x=\"10578.59375\" xlink:href=\"#DejaVuSans-97\"/>\n",
       "       <use x=\"10639.873047\" xlink:href=\"#DejaVuSans-98\"/>\n",
       "       <use x=\"10703.349609\" xlink:href=\"#DejaVuSans-111\"/>\n",
       "       <use x=\"10764.53125\" xlink:href=\"#DejaVuSans-117\"/>\n",
       "       <use x=\"10827.910156\" xlink:href=\"#DejaVuSans-116\"/>\n",
       "       <use x=\"10867.119141\" xlink:href=\"#DejaVuSans-32\"/>\n",
       "       <use x=\"10898.90625\" xlink:href=\"#DejaVuSans-99\"/>\n",
       "       <use x=\"10953.886719\" xlink:href=\"#DejaVuSans-111\"/>\n",
       "       <use x=\"11015.068359\" xlink:href=\"#DejaVuSans-110\"/>\n",
       "       <use x=\"11078.447266\" xlink:href=\"#DejaVuSans-116\"/>\n",
       "       <use x=\"11117.65625\" xlink:href=\"#DejaVuSans-114\"/>\n",
       "       <use x=\"11158.769531\" xlink:href=\"#DejaVuSans-105\"/>\n",
       "       <use x=\"11186.552734\" xlink:href=\"#DejaVuSans-98\"/>\n",
       "       <use x=\"11250.029297\" xlink:href=\"#DejaVuSans-117\"/>\n",
       "       <use x=\"11313.408203\" xlink:href=\"#DejaVuSans-116\"/>\n",
       "       <use x=\"11352.617188\" xlink:href=\"#DejaVuSans-105\"/>\n",
       "       <use x=\"11380.400391\" xlink:href=\"#DejaVuSans-110\"/>\n",
       "       <use x=\"11443.779297\" xlink:href=\"#DejaVuSans-103\"/>\n",
       "       <use x=\"11507.255859\" xlink:href=\"#DejaVuSans-32\"/>\n",
       "       <use x=\"11539.042969\" xlink:href=\"#DejaVuSans-116\"/>\n",
       "       <use x=\"11578.251953\" xlink:href=\"#DejaVuSans-111\"/>\n",
       "       <use x=\"11639.433594\" xlink:href=\"#DejaVuSans-32\"/>\n",
       "       <use x=\"11671.220703\" xlink:href=\"#DejaVuSans-111\"/>\n",
       "       <use x=\"11732.402344\" xlink:href=\"#DejaVuSans-117\"/>\n",
       "       <use x=\"11795.78125\" xlink:href=\"#DejaVuSans-114\"/>\n",
       "       <use x=\"11836.894531\" xlink:href=\"#DejaVuSans-32\"/>\n",
       "       <use x=\"11868.681641\" xlink:href=\"#DejaVuSans-101\"/>\n",
       "       <use x=\"11930.205078\" xlink:href=\"#DejaVuSans-110\"/>\n",
       "       <use x=\"11993.583984\" xlink:href=\"#DejaVuSans-99\"/>\n",
       "       <use x=\"12048.564453\" xlink:href=\"#DejaVuSans-121\"/>\n",
       "       <use x=\"12107.744141\" xlink:href=\"#DejaVuSans-99\"/>\n",
       "       <use x=\"12162.724609\" xlink:href=\"#DejaVuSans-108\"/>\n",
       "       <use x=\"12190.507812\" xlink:href=\"#DejaVuSans-111\"/>\n",
       "       <use x=\"12251.689453\" xlink:href=\"#DejaVuSans-112\"/>\n",
       "       <use x=\"12315.166016\" xlink:href=\"#DejaVuSans-101\"/>\n",
       "       <use x=\"12376.689453\" xlink:href=\"#DejaVuSans-100\"/>\n",
       "       <use x=\"12440.166016\" xlink:href=\"#DejaVuSans-105\"/>\n",
       "       <use x=\"12467.949219\" xlink:href=\"#DejaVuSans-97\"/>\n",
       "      </g>\n",
       "     </g>\n",
       "    </g>\n",
       "    <g id=\"xtick_10\">\n",
       "     <g id=\"line2d_19\">\n",
       "      <path clip-path=\"url(#p7b77b298fc)\" d=\"M 223.396228 333.36 \n",
       "L 223.396228 7.2 \n",
       "\" style=\"fill:none;stroke:#c0c0c0;stroke-linecap:square;stroke-width:0.8;\"/>\n",
       "     </g>\n",
       "     <g id=\"line2d_20\">\n",
       "      <g>\n",
       "       <use style=\"stroke:#000000;stroke-width:0.8;\" x=\"223.396228\" xlink:href=\"#m6d9b36f697\" y=\"333.36\"/>\n",
       "      </g>\n",
       "     </g>\n",
       "     <g id=\"text_10\">\n",
       "      <!--  please stop if you continue to vandalize wikipedia you will be blocked from editing talk -->\n",
       "      <g transform=\"translate(226.155603 778.302188)rotate(-90)scale(0.1 -0.1)\">\n",
       "       <use xlink:href=\"#DejaVuSans-32\"/>\n",
       "       <use x=\"31.787109\" xlink:href=\"#DejaVuSans-112\"/>\n",
       "       <use x=\"95.263672\" xlink:href=\"#DejaVuSans-108\"/>\n",
       "       <use x=\"123.046875\" xlink:href=\"#DejaVuSans-101\"/>\n",
       "       <use x=\"184.570312\" xlink:href=\"#DejaVuSans-97\"/>\n",
       "       <use x=\"245.849609\" xlink:href=\"#DejaVuSans-115\"/>\n",
       "       <use x=\"297.949219\" xlink:href=\"#DejaVuSans-101\"/>\n",
       "       <use x=\"359.472656\" xlink:href=\"#DejaVuSans-32\"/>\n",
       "       <use x=\"391.259766\" xlink:href=\"#DejaVuSans-115\"/>\n",
       "       <use x=\"443.359375\" xlink:href=\"#DejaVuSans-116\"/>\n",
       "       <use x=\"482.568359\" xlink:href=\"#DejaVuSans-111\"/>\n",
       "       <use x=\"543.75\" xlink:href=\"#DejaVuSans-112\"/>\n",
       "       <use x=\"607.226562\" xlink:href=\"#DejaVuSans-32\"/>\n",
       "       <use x=\"639.013672\" xlink:href=\"#DejaVuSans-105\"/>\n",
       "       <use x=\"666.796875\" xlink:href=\"#DejaVuSans-102\"/>\n",
       "       <use x=\"702.001953\" xlink:href=\"#DejaVuSans-32\"/>\n",
       "       <use x=\"733.789062\" xlink:href=\"#DejaVuSans-121\"/>\n",
       "       <use x=\"792.96875\" xlink:href=\"#DejaVuSans-111\"/>\n",
       "       <use x=\"854.150391\" xlink:href=\"#DejaVuSans-117\"/>\n",
       "       <use x=\"917.529297\" xlink:href=\"#DejaVuSans-32\"/>\n",
       "       <use x=\"949.316406\" xlink:href=\"#DejaVuSans-99\"/>\n",
       "       <use x=\"1004.296875\" xlink:href=\"#DejaVuSans-111\"/>\n",
       "       <use x=\"1065.478516\" xlink:href=\"#DejaVuSans-110\"/>\n",
       "       <use x=\"1128.857422\" xlink:href=\"#DejaVuSans-116\"/>\n",
       "       <use x=\"1168.066406\" xlink:href=\"#DejaVuSans-105\"/>\n",
       "       <use x=\"1195.849609\" xlink:href=\"#DejaVuSans-110\"/>\n",
       "       <use x=\"1259.228516\" xlink:href=\"#DejaVuSans-117\"/>\n",
       "       <use x=\"1322.607422\" xlink:href=\"#DejaVuSans-101\"/>\n",
       "       <use x=\"1384.130859\" xlink:href=\"#DejaVuSans-32\"/>\n",
       "       <use x=\"1415.917969\" xlink:href=\"#DejaVuSans-116\"/>\n",
       "       <use x=\"1455.126953\" xlink:href=\"#DejaVuSans-111\"/>\n",
       "       <use x=\"1516.308594\" xlink:href=\"#DejaVuSans-32\"/>\n",
       "       <use x=\"1548.095703\" xlink:href=\"#DejaVuSans-118\"/>\n",
       "       <use x=\"1607.275391\" xlink:href=\"#DejaVuSans-97\"/>\n",
       "       <use x=\"1668.554688\" xlink:href=\"#DejaVuSans-110\"/>\n",
       "       <use x=\"1731.933594\" xlink:href=\"#DejaVuSans-100\"/>\n",
       "       <use x=\"1795.410156\" xlink:href=\"#DejaVuSans-97\"/>\n",
       "       <use x=\"1856.689453\" xlink:href=\"#DejaVuSans-108\"/>\n",
       "       <use x=\"1884.472656\" xlink:href=\"#DejaVuSans-105\"/>\n",
       "       <use x=\"1912.255859\" xlink:href=\"#DejaVuSans-122\"/>\n",
       "       <use x=\"1964.746094\" xlink:href=\"#DejaVuSans-101\"/>\n",
       "       <use x=\"2026.269531\" xlink:href=\"#DejaVuSans-32\"/>\n",
       "       <use x=\"2058.056641\" xlink:href=\"#DejaVuSans-119\"/>\n",
       "       <use x=\"2139.84375\" xlink:href=\"#DejaVuSans-105\"/>\n",
       "       <use x=\"2167.626953\" xlink:href=\"#DejaVuSans-107\"/>\n",
       "       <use x=\"2225.537109\" xlink:href=\"#DejaVuSans-105\"/>\n",
       "       <use x=\"2253.320312\" xlink:href=\"#DejaVuSans-112\"/>\n",
       "       <use x=\"2316.796875\" xlink:href=\"#DejaVuSans-101\"/>\n",
       "       <use x=\"2378.320312\" xlink:href=\"#DejaVuSans-100\"/>\n",
       "       <use x=\"2441.796875\" xlink:href=\"#DejaVuSans-105\"/>\n",
       "       <use x=\"2469.580078\" xlink:href=\"#DejaVuSans-97\"/>\n",
       "       <use x=\"2530.859375\" xlink:href=\"#DejaVuSans-32\"/>\n",
       "       <use x=\"2562.646484\" xlink:href=\"#DejaVuSans-121\"/>\n",
       "       <use x=\"2621.826172\" xlink:href=\"#DejaVuSans-111\"/>\n",
       "       <use x=\"2683.007812\" xlink:href=\"#DejaVuSans-117\"/>\n",
       "       <use x=\"2746.386719\" xlink:href=\"#DejaVuSans-32\"/>\n",
       "       <use x=\"2778.173828\" xlink:href=\"#DejaVuSans-119\"/>\n",
       "       <use x=\"2859.960938\" xlink:href=\"#DejaVuSans-105\"/>\n",
       "       <use x=\"2887.744141\" xlink:href=\"#DejaVuSans-108\"/>\n",
       "       <use x=\"2915.527344\" xlink:href=\"#DejaVuSans-108\"/>\n",
       "       <use x=\"2943.310547\" xlink:href=\"#DejaVuSans-32\"/>\n",
       "       <use x=\"2975.097656\" xlink:href=\"#DejaVuSans-98\"/>\n",
       "       <use x=\"3038.574219\" xlink:href=\"#DejaVuSans-101\"/>\n",
       "       <use x=\"3100.097656\" xlink:href=\"#DejaVuSans-32\"/>\n",
       "       <use x=\"3131.884766\" xlink:href=\"#DejaVuSans-98\"/>\n",
       "       <use x=\"3195.361328\" xlink:href=\"#DejaVuSans-108\"/>\n",
       "       <use x=\"3223.144531\" xlink:href=\"#DejaVuSans-111\"/>\n",
       "       <use x=\"3284.326172\" xlink:href=\"#DejaVuSans-99\"/>\n",
       "       <use x=\"3339.306641\" xlink:href=\"#DejaVuSans-107\"/>\n",
       "       <use x=\"3393.591797\" xlink:href=\"#DejaVuSans-101\"/>\n",
       "       <use x=\"3455.115234\" xlink:href=\"#DejaVuSans-100\"/>\n",
       "       <use x=\"3518.591797\" xlink:href=\"#DejaVuSans-32\"/>\n",
       "       <use x=\"3550.378906\" xlink:href=\"#DejaVuSans-102\"/>\n",
       "       <use x=\"3585.583984\" xlink:href=\"#DejaVuSans-114\"/>\n",
       "       <use x=\"3624.447266\" xlink:href=\"#DejaVuSans-111\"/>\n",
       "       <use x=\"3685.628906\" xlink:href=\"#DejaVuSans-109\"/>\n",
       "       <use x=\"3783.041016\" xlink:href=\"#DejaVuSans-32\"/>\n",
       "       <use x=\"3814.828125\" xlink:href=\"#DejaVuSans-101\"/>\n",
       "       <use x=\"3876.351562\" xlink:href=\"#DejaVuSans-100\"/>\n",
       "       <use x=\"3939.828125\" xlink:href=\"#DejaVuSans-105\"/>\n",
       "       <use x=\"3967.611328\" xlink:href=\"#DejaVuSans-116\"/>\n",
       "       <use x=\"4006.820312\" xlink:href=\"#DejaVuSans-105\"/>\n",
       "       <use x=\"4034.603516\" xlink:href=\"#DejaVuSans-110\"/>\n",
       "       <use x=\"4097.982422\" xlink:href=\"#DejaVuSans-103\"/>\n",
       "       <use x=\"4161.458984\" xlink:href=\"#DejaVuSans-32\"/>\n",
       "       <use x=\"4193.246094\" xlink:href=\"#DejaVuSans-116\"/>\n",
       "       <use x=\"4232.455078\" xlink:href=\"#DejaVuSans-97\"/>\n",
       "       <use x=\"4293.734375\" xlink:href=\"#DejaVuSans-108\"/>\n",
       "       <use x=\"4321.517578\" xlink:href=\"#DejaVuSans-107\"/>\n",
       "      </g>\n",
       "     </g>\n",
       "    </g>\n",
       "    <g id=\"xtick_11\">\n",
       "     <g id=\"line2d_21\">\n",
       "      <path clip-path=\"url(#p7b77b298fc)\" d=\"M 240.888391 333.36 \n",
       "L 240.888391 7.2 \n",
       "\" style=\"fill:none;stroke:#c0c0c0;stroke-linecap:square;stroke-width:0.8;\"/>\n",
       "     </g>\n",
       "     <g id=\"line2d_22\">\n",
       "      <g>\n",
       "       <use style=\"stroke:#000000;stroke-width:0.8;\" x=\"240.888391\" xlink:href=\"#m6d9b36f697\" y=\"333.36\"/>\n",
       "      </g>\n",
       "     </g>\n",
       "     <g id=\"text_11\">\n",
       "      <!--  please do not add nonsense to wikipedia it is considered vandalism if you would like to experiment use the sandbox thank you -->\n",
       "      <g transform=\"translate(243.647766 978.925625)rotate(-90)scale(0.1 -0.1)\">\n",
       "       <use xlink:href=\"#DejaVuSans-32\"/>\n",
       "       <use x=\"31.787109\" xlink:href=\"#DejaVuSans-112\"/>\n",
       "       <use x=\"95.263672\" xlink:href=\"#DejaVuSans-108\"/>\n",
       "       <use x=\"123.046875\" xlink:href=\"#DejaVuSans-101\"/>\n",
       "       <use x=\"184.570312\" xlink:href=\"#DejaVuSans-97\"/>\n",
       "       <use x=\"245.849609\" xlink:href=\"#DejaVuSans-115\"/>\n",
       "       <use x=\"297.949219\" xlink:href=\"#DejaVuSans-101\"/>\n",
       "       <use x=\"359.472656\" xlink:href=\"#DejaVuSans-32\"/>\n",
       "       <use x=\"391.259766\" xlink:href=\"#DejaVuSans-100\"/>\n",
       "       <use x=\"454.736328\" xlink:href=\"#DejaVuSans-111\"/>\n",
       "       <use x=\"515.917969\" xlink:href=\"#DejaVuSans-32\"/>\n",
       "       <use x=\"547.705078\" xlink:href=\"#DejaVuSans-110\"/>\n",
       "       <use x=\"611.083984\" xlink:href=\"#DejaVuSans-111\"/>\n",
       "       <use x=\"672.265625\" xlink:href=\"#DejaVuSans-116\"/>\n",
       "       <use x=\"711.474609\" xlink:href=\"#DejaVuSans-32\"/>\n",
       "       <use x=\"743.261719\" xlink:href=\"#DejaVuSans-97\"/>\n",
       "       <use x=\"804.541016\" xlink:href=\"#DejaVuSans-100\"/>\n",
       "       <use x=\"868.017578\" xlink:href=\"#DejaVuSans-100\"/>\n",
       "       <use x=\"931.494141\" xlink:href=\"#DejaVuSans-32\"/>\n",
       "       <use x=\"963.28125\" xlink:href=\"#DejaVuSans-110\"/>\n",
       "       <use x=\"1026.660156\" xlink:href=\"#DejaVuSans-111\"/>\n",
       "       <use x=\"1087.841797\" xlink:href=\"#DejaVuSans-110\"/>\n",
       "       <use x=\"1151.220703\" xlink:href=\"#DejaVuSans-115\"/>\n",
       "       <use x=\"1203.320312\" xlink:href=\"#DejaVuSans-101\"/>\n",
       "       <use x=\"1264.84375\" xlink:href=\"#DejaVuSans-110\"/>\n",
       "       <use x=\"1328.222656\" xlink:href=\"#DejaVuSans-115\"/>\n",
       "       <use x=\"1380.322266\" xlink:href=\"#DejaVuSans-101\"/>\n",
       "       <use x=\"1441.845703\" xlink:href=\"#DejaVuSans-32\"/>\n",
       "       <use x=\"1473.632812\" xlink:href=\"#DejaVuSans-116\"/>\n",
       "       <use x=\"1512.841797\" xlink:href=\"#DejaVuSans-111\"/>\n",
       "       <use x=\"1574.023438\" xlink:href=\"#DejaVuSans-32\"/>\n",
       "       <use x=\"1605.810547\" xlink:href=\"#DejaVuSans-119\"/>\n",
       "       <use x=\"1687.597656\" xlink:href=\"#DejaVuSans-105\"/>\n",
       "       <use x=\"1715.380859\" xlink:href=\"#DejaVuSans-107\"/>\n",
       "       <use x=\"1773.291016\" xlink:href=\"#DejaVuSans-105\"/>\n",
       "       <use x=\"1801.074219\" xlink:href=\"#DejaVuSans-112\"/>\n",
       "       <use x=\"1864.550781\" xlink:href=\"#DejaVuSans-101\"/>\n",
       "       <use x=\"1926.074219\" xlink:href=\"#DejaVuSans-100\"/>\n",
       "       <use x=\"1989.550781\" xlink:href=\"#DejaVuSans-105\"/>\n",
       "       <use x=\"2017.333984\" xlink:href=\"#DejaVuSans-97\"/>\n",
       "       <use x=\"2078.613281\" xlink:href=\"#DejaVuSans-32\"/>\n",
       "       <use x=\"2110.400391\" xlink:href=\"#DejaVuSans-105\"/>\n",
       "       <use x=\"2138.183594\" xlink:href=\"#DejaVuSans-116\"/>\n",
       "       <use x=\"2177.392578\" xlink:href=\"#DejaVuSans-32\"/>\n",
       "       <use x=\"2209.179688\" xlink:href=\"#DejaVuSans-105\"/>\n",
       "       <use x=\"2236.962891\" xlink:href=\"#DejaVuSans-115\"/>\n",
       "       <use x=\"2289.0625\" xlink:href=\"#DejaVuSans-32\"/>\n",
       "       <use x=\"2320.849609\" xlink:href=\"#DejaVuSans-99\"/>\n",
       "       <use x=\"2375.830078\" xlink:href=\"#DejaVuSans-111\"/>\n",
       "       <use x=\"2437.011719\" xlink:href=\"#DejaVuSans-110\"/>\n",
       "       <use x=\"2500.390625\" xlink:href=\"#DejaVuSans-115\"/>\n",
       "       <use x=\"2552.490234\" xlink:href=\"#DejaVuSans-105\"/>\n",
       "       <use x=\"2580.273438\" xlink:href=\"#DejaVuSans-100\"/>\n",
       "       <use x=\"2643.75\" xlink:href=\"#DejaVuSans-101\"/>\n",
       "       <use x=\"2705.273438\" xlink:href=\"#DejaVuSans-114\"/>\n",
       "       <use x=\"2744.136719\" xlink:href=\"#DejaVuSans-101\"/>\n",
       "       <use x=\"2805.660156\" xlink:href=\"#DejaVuSans-100\"/>\n",
       "       <use x=\"2869.136719\" xlink:href=\"#DejaVuSans-32\"/>\n",
       "       <use x=\"2900.923828\" xlink:href=\"#DejaVuSans-118\"/>\n",
       "       <use x=\"2960.103516\" xlink:href=\"#DejaVuSans-97\"/>\n",
       "       <use x=\"3021.382812\" xlink:href=\"#DejaVuSans-110\"/>\n",
       "       <use x=\"3084.761719\" xlink:href=\"#DejaVuSans-100\"/>\n",
       "       <use x=\"3148.238281\" xlink:href=\"#DejaVuSans-97\"/>\n",
       "       <use x=\"3209.517578\" xlink:href=\"#DejaVuSans-108\"/>\n",
       "       <use x=\"3237.300781\" xlink:href=\"#DejaVuSans-105\"/>\n",
       "       <use x=\"3265.083984\" xlink:href=\"#DejaVuSans-115\"/>\n",
       "       <use x=\"3317.183594\" xlink:href=\"#DejaVuSans-109\"/>\n",
       "       <use x=\"3414.595703\" xlink:href=\"#DejaVuSans-32\"/>\n",
       "       <use x=\"3446.382812\" xlink:href=\"#DejaVuSans-105\"/>\n",
       "       <use x=\"3474.166016\" xlink:href=\"#DejaVuSans-102\"/>\n",
       "       <use x=\"3509.371094\" xlink:href=\"#DejaVuSans-32\"/>\n",
       "       <use x=\"3541.158203\" xlink:href=\"#DejaVuSans-121\"/>\n",
       "       <use x=\"3600.337891\" xlink:href=\"#DejaVuSans-111\"/>\n",
       "       <use x=\"3661.519531\" xlink:href=\"#DejaVuSans-117\"/>\n",
       "       <use x=\"3724.898438\" xlink:href=\"#DejaVuSans-32\"/>\n",
       "       <use x=\"3756.685547\" xlink:href=\"#DejaVuSans-119\"/>\n",
       "       <use x=\"3838.472656\" xlink:href=\"#DejaVuSans-111\"/>\n",
       "       <use x=\"3899.654297\" xlink:href=\"#DejaVuSans-117\"/>\n",
       "       <use x=\"3963.033203\" xlink:href=\"#DejaVuSans-108\"/>\n",
       "       <use x=\"3990.816406\" xlink:href=\"#DejaVuSans-100\"/>\n",
       "       <use x=\"4054.292969\" xlink:href=\"#DejaVuSans-32\"/>\n",
       "       <use x=\"4086.080078\" xlink:href=\"#DejaVuSans-108\"/>\n",
       "       <use x=\"4113.863281\" xlink:href=\"#DejaVuSans-105\"/>\n",
       "       <use x=\"4141.646484\" xlink:href=\"#DejaVuSans-107\"/>\n",
       "       <use x=\"4195.931641\" xlink:href=\"#DejaVuSans-101\"/>\n",
       "       <use x=\"4257.455078\" xlink:href=\"#DejaVuSans-32\"/>\n",
       "       <use x=\"4289.242188\" xlink:href=\"#DejaVuSans-116\"/>\n",
       "       <use x=\"4328.451172\" xlink:href=\"#DejaVuSans-111\"/>\n",
       "       <use x=\"4389.632812\" xlink:href=\"#DejaVuSans-32\"/>\n",
       "       <use x=\"4421.419922\" xlink:href=\"#DejaVuSans-101\"/>\n",
       "       <use x=\"4481.193359\" xlink:href=\"#DejaVuSans-120\"/>\n",
       "       <use x=\"4540.373047\" xlink:href=\"#DejaVuSans-112\"/>\n",
       "       <use x=\"4603.849609\" xlink:href=\"#DejaVuSans-101\"/>\n",
       "       <use x=\"4665.373047\" xlink:href=\"#DejaVuSans-114\"/>\n",
       "       <use x=\"4706.486328\" xlink:href=\"#DejaVuSans-105\"/>\n",
       "       <use x=\"4734.269531\" xlink:href=\"#DejaVuSans-109\"/>\n",
       "       <use x=\"4831.681641\" xlink:href=\"#DejaVuSans-101\"/>\n",
       "       <use x=\"4893.205078\" xlink:href=\"#DejaVuSans-110\"/>\n",
       "       <use x=\"4956.583984\" xlink:href=\"#DejaVuSans-116\"/>\n",
       "       <use x=\"4995.792969\" xlink:href=\"#DejaVuSans-32\"/>\n",
       "       <use x=\"5027.580078\" xlink:href=\"#DejaVuSans-117\"/>\n",
       "       <use x=\"5090.958984\" xlink:href=\"#DejaVuSans-115\"/>\n",
       "       <use x=\"5143.058594\" xlink:href=\"#DejaVuSans-101\"/>\n",
       "       <use x=\"5204.582031\" xlink:href=\"#DejaVuSans-32\"/>\n",
       "       <use x=\"5236.369141\" xlink:href=\"#DejaVuSans-116\"/>\n",
       "       <use x=\"5275.578125\" xlink:href=\"#DejaVuSans-104\"/>\n",
       "       <use x=\"5338.957031\" xlink:href=\"#DejaVuSans-101\"/>\n",
       "       <use x=\"5400.480469\" xlink:href=\"#DejaVuSans-32\"/>\n",
       "       <use x=\"5432.267578\" xlink:href=\"#DejaVuSans-115\"/>\n",
       "       <use x=\"5484.367188\" xlink:href=\"#DejaVuSans-97\"/>\n",
       "       <use x=\"5545.646484\" xlink:href=\"#DejaVuSans-110\"/>\n",
       "       <use x=\"5609.025391\" xlink:href=\"#DejaVuSans-100\"/>\n",
       "       <use x=\"5672.501953\" xlink:href=\"#DejaVuSans-98\"/>\n",
       "       <use x=\"5735.978516\" xlink:href=\"#DejaVuSans-111\"/>\n",
       "       <use x=\"5794.035156\" xlink:href=\"#DejaVuSans-120\"/>\n",
       "       <use x=\"5853.214844\" xlink:href=\"#DejaVuSans-32\"/>\n",
       "       <use x=\"5885.001953\" xlink:href=\"#DejaVuSans-116\"/>\n",
       "       <use x=\"5924.210938\" xlink:href=\"#DejaVuSans-104\"/>\n",
       "       <use x=\"5987.589844\" xlink:href=\"#DejaVuSans-97\"/>\n",
       "       <use x=\"6048.869141\" xlink:href=\"#DejaVuSans-110\"/>\n",
       "       <use x=\"6112.248047\" xlink:href=\"#DejaVuSans-107\"/>\n",
       "       <use x=\"6170.158203\" xlink:href=\"#DejaVuSans-32\"/>\n",
       "       <use x=\"6201.945312\" xlink:href=\"#DejaVuSans-121\"/>\n",
       "       <use x=\"6261.125\" xlink:href=\"#DejaVuSans-111\"/>\n",
       "       <use x=\"6322.306641\" xlink:href=\"#DejaVuSans-117\"/>\n",
       "      </g>\n",
       "     </g>\n",
       "    </g>\n",
       "    <g id=\"xtick_12\">\n",
       "     <g id=\"line2d_23\">\n",
       "      <path clip-path=\"url(#p7b77b298fc)\" d=\"M 258.380554 333.36 \n",
       "L 258.380554 7.2 \n",
       "\" style=\"fill:none;stroke:#c0c0c0;stroke-linecap:square;stroke-width:0.8;\"/>\n",
       "     </g>\n",
       "     <g id=\"line2d_24\">\n",
       "      <g>\n",
       "       <use style=\"stroke:#000000;stroke-width:0.8;\" x=\"258.380554\" xlink:href=\"#m6d9b36f697\" y=\"333.36\"/>\n",
       "      </g>\n",
       "     </g>\n",
       "     <g id=\"text_12\">\n",
       "      <!--  february -->\n",
       "      <g transform=\"translate(261.139929 386.16625)rotate(-90)scale(0.1 -0.1)\">\n",
       "       <use xlink:href=\"#DejaVuSans-32\"/>\n",
       "       <use x=\"31.787109\" xlink:href=\"#DejaVuSans-102\"/>\n",
       "       <use x=\"66.992188\" xlink:href=\"#DejaVuSans-101\"/>\n",
       "       <use x=\"128.515625\" xlink:href=\"#DejaVuSans-98\"/>\n",
       "       <use x=\"191.992188\" xlink:href=\"#DejaVuSans-114\"/>\n",
       "       <use x=\"233.105469\" xlink:href=\"#DejaVuSans-117\"/>\n",
       "       <use x=\"296.484375\" xlink:href=\"#DejaVuSans-97\"/>\n",
       "       <use x=\"357.763672\" xlink:href=\"#DejaVuSans-114\"/>\n",
       "       <use x=\"398.876953\" xlink:href=\"#DejaVuSans-121\"/>\n",
       "      </g>\n",
       "     </g>\n",
       "    </g>\n",
       "    <g id=\"xtick_13\">\n",
       "     <g id=\"line2d_25\">\n",
       "      <path clip-path=\"url(#p7b77b298fc)\" d=\"M 275.872717 333.36 \n",
       "L 275.872717 7.2 \n",
       "\" style=\"fill:none;stroke:#c0c0c0;stroke-linecap:square;stroke-width:0.8;\"/>\n",
       "     </g>\n",
       "     <g id=\"line2d_26\">\n",
       "      <g>\n",
       "       <use style=\"stroke:#000000;stroke-width:0.8;\" x=\"275.872717\" xlink:href=\"#m6d9b36f697\" y=\"333.36\"/>\n",
       "      </g>\n",
       "     </g>\n",
       "     <g id=\"text_13\">\n",
       "      <!--  july utc -->\n",
       "      <g transform=\"translate(278.632092 380.285)rotate(-90)scale(0.1 -0.1)\">\n",
       "       <use xlink:href=\"#DejaVuSans-32\"/>\n",
       "       <use x=\"31.787109\" xlink:href=\"#DejaVuSans-106\"/>\n",
       "       <use x=\"59.570312\" xlink:href=\"#DejaVuSans-117\"/>\n",
       "       <use x=\"122.949219\" xlink:href=\"#DejaVuSans-108\"/>\n",
       "       <use x=\"150.732422\" xlink:href=\"#DejaVuSans-121\"/>\n",
       "       <use x=\"209.912109\" xlink:href=\"#DejaVuSans-32\"/>\n",
       "       <use x=\"241.699219\" xlink:href=\"#DejaVuSans-117\"/>\n",
       "       <use x=\"305.078125\" xlink:href=\"#DejaVuSans-116\"/>\n",
       "       <use x=\"344.287109\" xlink:href=\"#DejaVuSans-99\"/>\n",
       "      </g>\n",
       "     </g>\n",
       "    </g>\n",
       "    <g id=\"xtick_14\">\n",
       "     <g id=\"line2d_27\">\n",
       "      <path clip-path=\"url(#p7b77b298fc)\" d=\"M 293.36488 333.36 \n",
       "L 293.36488 7.2 \n",
       "\" style=\"fill:none;stroke:#c0c0c0;stroke-linecap:square;stroke-width:0.8;\"/>\n",
       "     </g>\n",
       "     <g id=\"line2d_28\">\n",
       "      <g>\n",
       "       <use style=\"stroke:#000000;stroke-width:0.8;\" x=\"293.36488\" xlink:href=\"#m6d9b36f697\" y=\"333.36\"/>\n",
       "      </g>\n",
       "     </g>\n",
       "     <g id=\"text_14\">\n",
       "      <!--  talk contribs -->\n",
       "      <g transform=\"translate(296.124255 405.655313)rotate(-90)scale(0.1 -0.1)\">\n",
       "       <use xlink:href=\"#DejaVuSans-32\"/>\n",
       "       <use x=\"31.787109\" xlink:href=\"#DejaVuSans-116\"/>\n",
       "       <use x=\"70.996094\" xlink:href=\"#DejaVuSans-97\"/>\n",
       "       <use x=\"132.275391\" xlink:href=\"#DejaVuSans-108\"/>\n",
       "       <use x=\"160.058594\" xlink:href=\"#DejaVuSans-107\"/>\n",
       "       <use x=\"217.96875\" xlink:href=\"#DejaVuSans-32\"/>\n",
       "       <use x=\"249.755859\" xlink:href=\"#DejaVuSans-99\"/>\n",
       "       <use x=\"304.736328\" xlink:href=\"#DejaVuSans-111\"/>\n",
       "       <use x=\"365.917969\" xlink:href=\"#DejaVuSans-110\"/>\n",
       "       <use x=\"429.296875\" xlink:href=\"#DejaVuSans-116\"/>\n",
       "       <use x=\"468.505859\" xlink:href=\"#DejaVuSans-114\"/>\n",
       "       <use x=\"509.619141\" xlink:href=\"#DejaVuSans-105\"/>\n",
       "       <use x=\"537.402344\" xlink:href=\"#DejaVuSans-98\"/>\n",
       "       <use x=\"600.878906\" xlink:href=\"#DejaVuSans-115\"/>\n",
       "      </g>\n",
       "     </g>\n",
       "    </g>\n",
       "    <g id=\"xtick_15\">\n",
       "     <g id=\"line2d_29\">\n",
       "      <path clip-path=\"url(#p7b77b298fc)\" d=\"M 310.857043 333.36 \n",
       "L 310.857043 7.2 \n",
       "\" style=\"fill:none;stroke:#c0c0c0;stroke-linecap:square;stroke-width:0.8;\"/>\n",
       "     </g>\n",
       "     <g id=\"line2d_30\">\n",
       "      <g>\n",
       "       <use style=\"stroke:#000000;stroke-width:0.8;\" x=\"310.857043\" xlink:href=\"#m6d9b36f697\" y=\"333.36\"/>\n",
       "      </g>\n",
       "     </g>\n",
       "     <g id=\"text_15\">\n",
       "      <!--   -->\n",
       "      <g transform=\"translate(313.616418 343.538125)rotate(-90)scale(0.1 -0.1)\">\n",
       "       <use xlink:href=\"#DejaVuSans-32\"/>\n",
       "      </g>\n",
       "     </g>\n",
       "    </g>\n",
       "    <g id=\"xtick_16\">\n",
       "     <g id=\"line2d_31\">\n",
       "      <path clip-path=\"url(#p7b77b298fc)\" d=\"M 328.349207 333.36 \n",
       "L 328.349207 7.2 \n",
       "\" style=\"fill:none;stroke:#c0c0c0;stroke-linecap:square;stroke-width:0.8;\"/>\n",
       "     </g>\n",
       "     <g id=\"line2d_32\">\n",
       "      <g>\n",
       "       <use style=\"stroke:#000000;stroke-width:0.8;\" x=\"328.349207\" xlink:href=\"#m6d9b36f697\" y=\"333.36\"/>\n",
       "      </g>\n",
       "     </g>\n",
       "     <g id=\"text_16\">\n",
       "      <!--  please stop if you continue to vandalize pages you will be blocked from editing wikipedia talk -->\n",
       "      <g transform=\"translate(331.108582 811.667813)rotate(-90)scale(0.1 -0.1)\">\n",
       "       <use xlink:href=\"#DejaVuSans-32\"/>\n",
       "       <use x=\"31.787109\" xlink:href=\"#DejaVuSans-112\"/>\n",
       "       <use x=\"95.263672\" xlink:href=\"#DejaVuSans-108\"/>\n",
       "       <use x=\"123.046875\" xlink:href=\"#DejaVuSans-101\"/>\n",
       "       <use x=\"184.570312\" xlink:href=\"#DejaVuSans-97\"/>\n",
       "       <use x=\"245.849609\" xlink:href=\"#DejaVuSans-115\"/>\n",
       "       <use x=\"297.949219\" xlink:href=\"#DejaVuSans-101\"/>\n",
       "       <use x=\"359.472656\" xlink:href=\"#DejaVuSans-32\"/>\n",
       "       <use x=\"391.259766\" xlink:href=\"#DejaVuSans-115\"/>\n",
       "       <use x=\"443.359375\" xlink:href=\"#DejaVuSans-116\"/>\n",
       "       <use x=\"482.568359\" xlink:href=\"#DejaVuSans-111\"/>\n",
       "       <use x=\"543.75\" xlink:href=\"#DejaVuSans-112\"/>\n",
       "       <use x=\"607.226562\" xlink:href=\"#DejaVuSans-32\"/>\n",
       "       <use x=\"639.013672\" xlink:href=\"#DejaVuSans-105\"/>\n",
       "       <use x=\"666.796875\" xlink:href=\"#DejaVuSans-102\"/>\n",
       "       <use x=\"702.001953\" xlink:href=\"#DejaVuSans-32\"/>\n",
       "       <use x=\"733.789062\" xlink:href=\"#DejaVuSans-121\"/>\n",
       "       <use x=\"792.96875\" xlink:href=\"#DejaVuSans-111\"/>\n",
       "       <use x=\"854.150391\" xlink:href=\"#DejaVuSans-117\"/>\n",
       "       <use x=\"917.529297\" xlink:href=\"#DejaVuSans-32\"/>\n",
       "       <use x=\"949.316406\" xlink:href=\"#DejaVuSans-99\"/>\n",
       "       <use x=\"1004.296875\" xlink:href=\"#DejaVuSans-111\"/>\n",
       "       <use x=\"1065.478516\" xlink:href=\"#DejaVuSans-110\"/>\n",
       "       <use x=\"1128.857422\" xlink:href=\"#DejaVuSans-116\"/>\n",
       "       <use x=\"1168.066406\" xlink:href=\"#DejaVuSans-105\"/>\n",
       "       <use x=\"1195.849609\" xlink:href=\"#DejaVuSans-110\"/>\n",
       "       <use x=\"1259.228516\" xlink:href=\"#DejaVuSans-117\"/>\n",
       "       <use x=\"1322.607422\" xlink:href=\"#DejaVuSans-101\"/>\n",
       "       <use x=\"1384.130859\" xlink:href=\"#DejaVuSans-32\"/>\n",
       "       <use x=\"1415.917969\" xlink:href=\"#DejaVuSans-116\"/>\n",
       "       <use x=\"1455.126953\" xlink:href=\"#DejaVuSans-111\"/>\n",
       "       <use x=\"1516.308594\" xlink:href=\"#DejaVuSans-32\"/>\n",
       "       <use x=\"1548.095703\" xlink:href=\"#DejaVuSans-118\"/>\n",
       "       <use x=\"1607.275391\" xlink:href=\"#DejaVuSans-97\"/>\n",
       "       <use x=\"1668.554688\" xlink:href=\"#DejaVuSans-110\"/>\n",
       "       <use x=\"1731.933594\" xlink:href=\"#DejaVuSans-100\"/>\n",
       "       <use x=\"1795.410156\" xlink:href=\"#DejaVuSans-97\"/>\n",
       "       <use x=\"1856.689453\" xlink:href=\"#DejaVuSans-108\"/>\n",
       "       <use x=\"1884.472656\" xlink:href=\"#DejaVuSans-105\"/>\n",
       "       <use x=\"1912.255859\" xlink:href=\"#DejaVuSans-122\"/>\n",
       "       <use x=\"1964.746094\" xlink:href=\"#DejaVuSans-101\"/>\n",
       "       <use x=\"2026.269531\" xlink:href=\"#DejaVuSans-32\"/>\n",
       "       <use x=\"2058.056641\" xlink:href=\"#DejaVuSans-112\"/>\n",
       "       <use x=\"2121.533203\" xlink:href=\"#DejaVuSans-97\"/>\n",
       "       <use x=\"2182.8125\" xlink:href=\"#DejaVuSans-103\"/>\n",
       "       <use x=\"2246.289062\" xlink:href=\"#DejaVuSans-101\"/>\n",
       "       <use x=\"2307.8125\" xlink:href=\"#DejaVuSans-115\"/>\n",
       "       <use x=\"2359.912109\" xlink:href=\"#DejaVuSans-32\"/>\n",
       "       <use x=\"2391.699219\" xlink:href=\"#DejaVuSans-121\"/>\n",
       "       <use x=\"2450.878906\" xlink:href=\"#DejaVuSans-111\"/>\n",
       "       <use x=\"2512.060547\" xlink:href=\"#DejaVuSans-117\"/>\n",
       "       <use x=\"2575.439453\" xlink:href=\"#DejaVuSans-32\"/>\n",
       "       <use x=\"2607.226562\" xlink:href=\"#DejaVuSans-119\"/>\n",
       "       <use x=\"2689.013672\" xlink:href=\"#DejaVuSans-105\"/>\n",
       "       <use x=\"2716.796875\" xlink:href=\"#DejaVuSans-108\"/>\n",
       "       <use x=\"2744.580078\" xlink:href=\"#DejaVuSans-108\"/>\n",
       "       <use x=\"2772.363281\" xlink:href=\"#DejaVuSans-32\"/>\n",
       "       <use x=\"2804.150391\" xlink:href=\"#DejaVuSans-98\"/>\n",
       "       <use x=\"2867.626953\" xlink:href=\"#DejaVuSans-101\"/>\n",
       "       <use x=\"2929.150391\" xlink:href=\"#DejaVuSans-32\"/>\n",
       "       <use x=\"2960.9375\" xlink:href=\"#DejaVuSans-98\"/>\n",
       "       <use x=\"3024.414062\" xlink:href=\"#DejaVuSans-108\"/>\n",
       "       <use x=\"3052.197266\" xlink:href=\"#DejaVuSans-111\"/>\n",
       "       <use x=\"3113.378906\" xlink:href=\"#DejaVuSans-99\"/>\n",
       "       <use x=\"3168.359375\" xlink:href=\"#DejaVuSans-107\"/>\n",
       "       <use x=\"3222.644531\" xlink:href=\"#DejaVuSans-101\"/>\n",
       "       <use x=\"3284.167969\" xlink:href=\"#DejaVuSans-100\"/>\n",
       "       <use x=\"3347.644531\" xlink:href=\"#DejaVuSans-32\"/>\n",
       "       <use x=\"3379.431641\" xlink:href=\"#DejaVuSans-102\"/>\n",
       "       <use x=\"3414.636719\" xlink:href=\"#DejaVuSans-114\"/>\n",
       "       <use x=\"3453.5\" xlink:href=\"#DejaVuSans-111\"/>\n",
       "       <use x=\"3514.681641\" xlink:href=\"#DejaVuSans-109\"/>\n",
       "       <use x=\"3612.09375\" xlink:href=\"#DejaVuSans-32\"/>\n",
       "       <use x=\"3643.880859\" xlink:href=\"#DejaVuSans-101\"/>\n",
       "       <use x=\"3705.404297\" xlink:href=\"#DejaVuSans-100\"/>\n",
       "       <use x=\"3768.880859\" xlink:href=\"#DejaVuSans-105\"/>\n",
       "       <use x=\"3796.664062\" xlink:href=\"#DejaVuSans-116\"/>\n",
       "       <use x=\"3835.873047\" xlink:href=\"#DejaVuSans-105\"/>\n",
       "       <use x=\"3863.65625\" xlink:href=\"#DejaVuSans-110\"/>\n",
       "       <use x=\"3927.035156\" xlink:href=\"#DejaVuSans-103\"/>\n",
       "       <use x=\"3990.511719\" xlink:href=\"#DejaVuSans-32\"/>\n",
       "       <use x=\"4022.298828\" xlink:href=\"#DejaVuSans-119\"/>\n",
       "       <use x=\"4104.085938\" xlink:href=\"#DejaVuSans-105\"/>\n",
       "       <use x=\"4131.869141\" xlink:href=\"#DejaVuSans-107\"/>\n",
       "       <use x=\"4189.779297\" xlink:href=\"#DejaVuSans-105\"/>\n",
       "       <use x=\"4217.5625\" xlink:href=\"#DejaVuSans-112\"/>\n",
       "       <use x=\"4281.039062\" xlink:href=\"#DejaVuSans-101\"/>\n",
       "       <use x=\"4342.5625\" xlink:href=\"#DejaVuSans-100\"/>\n",
       "       <use x=\"4406.039062\" xlink:href=\"#DejaVuSans-105\"/>\n",
       "       <use x=\"4433.822266\" xlink:href=\"#DejaVuSans-97\"/>\n",
       "       <use x=\"4495.101562\" xlink:href=\"#DejaVuSans-32\"/>\n",
       "       <use x=\"4526.888672\" xlink:href=\"#DejaVuSans-116\"/>\n",
       "       <use x=\"4566.097656\" xlink:href=\"#DejaVuSans-97\"/>\n",
       "       <use x=\"4627.376953\" xlink:href=\"#DejaVuSans-108\"/>\n",
       "       <use x=\"4655.160156\" xlink:href=\"#DejaVuSans-107\"/>\n",
       "      </g>\n",
       "     </g>\n",
       "    </g>\n",
       "    <g id=\"xtick_17\">\n",
       "     <g id=\"line2d_33\">\n",
       "      <path clip-path=\"url(#p7b77b298fc)\" d=\"M 345.84137 333.36 \n",
       "L 345.84137 7.2 \n",
       "\" style=\"fill:none;stroke:#c0c0c0;stroke-linecap:square;stroke-width:0.8;\"/>\n",
       "     </g>\n",
       "     <g id=\"line2d_34\">\n",
       "      <g>\n",
       "       <use style=\"stroke:#000000;stroke-width:0.8;\" x=\"345.84137\" xlink:href=\"#m6d9b36f697\" y=\"333.36\"/>\n",
       "      </g>\n",
       "     </g>\n",
       "     <g id=\"text_17\">\n",
       "      <!--  mar utc -->\n",
       "      <g transform=\"translate(348.600745 382.452188)rotate(-90)scale(0.1 -0.1)\">\n",
       "       <use xlink:href=\"#DejaVuSans-32\"/>\n",
       "       <use x=\"31.787109\" xlink:href=\"#DejaVuSans-109\"/>\n",
       "       <use x=\"129.199219\" xlink:href=\"#DejaVuSans-97\"/>\n",
       "       <use x=\"190.478516\" xlink:href=\"#DejaVuSans-114\"/>\n",
       "       <use x=\"231.591797\" xlink:href=\"#DejaVuSans-32\"/>\n",
       "       <use x=\"263.378906\" xlink:href=\"#DejaVuSans-117\"/>\n",
       "       <use x=\"326.757812\" xlink:href=\"#DejaVuSans-116\"/>\n",
       "       <use x=\"365.966797\" xlink:href=\"#DejaVuSans-99\"/>\n",
       "      </g>\n",
       "     </g>\n",
       "    </g>\n",
       "    <g id=\"xtick_18\">\n",
       "     <g id=\"line2d_35\">\n",
       "      <path clip-path=\"url(#p7b77b298fc)\" d=\"M 363.333533 333.36 \n",
       "L 363.333533 7.2 \n",
       "\" style=\"fill:none;stroke:#c0c0c0;stroke-linecap:square;stroke-width:0.8;\"/>\n",
       "     </g>\n",
       "     <g id=\"line2d_36\">\n",
       "      <g>\n",
       "       <use style=\"stroke:#000000;stroke-width:0.8;\" x=\"363.333533\" xlink:href=\"#m6d9b36f697\" y=\"333.36\"/>\n",
       "      </g>\n",
       "     </g>\n",
       "     <g id=\"text_18\">\n",
       "      <!--  may utc -->\n",
       "      <g transform=\"translate(366.092908 384.26)rotate(-90)scale(0.1 -0.1)\">\n",
       "       <use xlink:href=\"#DejaVuSans-32\"/>\n",
       "       <use x=\"31.787109\" xlink:href=\"#DejaVuSans-109\"/>\n",
       "       <use x=\"129.199219\" xlink:href=\"#DejaVuSans-97\"/>\n",
       "       <use x=\"190.478516\" xlink:href=\"#DejaVuSans-121\"/>\n",
       "       <use x=\"249.658203\" xlink:href=\"#DejaVuSans-32\"/>\n",
       "       <use x=\"281.445312\" xlink:href=\"#DejaVuSans-117\"/>\n",
       "       <use x=\"344.824219\" xlink:href=\"#DejaVuSans-116\"/>\n",
       "       <use x=\"384.033203\" xlink:href=\"#DejaVuSans-99\"/>\n",
       "      </g>\n",
       "     </g>\n",
       "    </g>\n",
       "    <g id=\"xtick_19\">\n",
       "     <g id=\"line2d_37\">\n",
       "      <path clip-path=\"url(#p7b77b298fc)\" d=\"M 380.825696 333.36 \n",
       "L 380.825696 7.2 \n",
       "\" style=\"fill:none;stroke:#c0c0c0;stroke-linecap:square;stroke-width:0.8;\"/>\n",
       "     </g>\n",
       "     <g id=\"line2d_38\">\n",
       "      <g>\n",
       "       <use style=\"stroke:#000000;stroke-width:0.8;\" x=\"380.825696\" xlink:href=\"#m6d9b36f697\" y=\"333.36\"/>\n",
       "      </g>\n",
       "     </g>\n",
       "     <g id=\"text_19\">\n",
       "      <!--  september -->\n",
       "      <g transform=\"translate(383.585071 397.675625)rotate(-90)scale(0.1 -0.1)\">\n",
       "       <use xlink:href=\"#DejaVuSans-32\"/>\n",
       "       <use x=\"31.787109\" xlink:href=\"#DejaVuSans-115\"/>\n",
       "       <use x=\"83.886719\" xlink:href=\"#DejaVuSans-101\"/>\n",
       "       <use x=\"145.410156\" xlink:href=\"#DejaVuSans-112\"/>\n",
       "       <use x=\"208.886719\" xlink:href=\"#DejaVuSans-116\"/>\n",
       "       <use x=\"248.095703\" xlink:href=\"#DejaVuSans-101\"/>\n",
       "       <use x=\"309.619141\" xlink:href=\"#DejaVuSans-109\"/>\n",
       "       <use x=\"407.03125\" xlink:href=\"#DejaVuSans-98\"/>\n",
       "       <use x=\"470.507812\" xlink:href=\"#DejaVuSans-101\"/>\n",
       "       <use x=\"532.03125\" xlink:href=\"#DejaVuSans-114\"/>\n",
       "      </g>\n",
       "     </g>\n",
       "    </g>\n",
       "    <g id=\"xtick_20\">\n",
       "     <g id=\"line2d_39\">\n",
       "      <path clip-path=\"url(#p7b77b298fc)\" d=\"M 398.317859 333.36 \n",
       "L 398.317859 7.2 \n",
       "\" style=\"fill:none;stroke:#c0c0c0;stroke-linecap:square;stroke-width:0.8;\"/>\n",
       "     </g>\n",
       "     <g id=\"line2d_40\">\n",
       "      <g>\n",
       "       <use style=\"stroke:#000000;stroke-width:0.8;\" x=\"398.317859\" xlink:href=\"#m6d9b36f697\" y=\"333.36\"/>\n",
       "      </g>\n",
       "     </g>\n",
       "     <g id=\"text_20\">\n",
       "      <!--  please stop your disruptive editing if you continue to vandalize wikipedia you will be blocked from editing -->\n",
       "      <g transform=\"translate(401.077234 873.094375)rotate(-90)scale(0.1 -0.1)\">\n",
       "       <use xlink:href=\"#DejaVuSans-32\"/>\n",
       "       <use x=\"31.787109\" xlink:href=\"#DejaVuSans-112\"/>\n",
       "       <use x=\"95.263672\" xlink:href=\"#DejaVuSans-108\"/>\n",
       "       <use x=\"123.046875\" xlink:href=\"#DejaVuSans-101\"/>\n",
       "       <use x=\"184.570312\" xlink:href=\"#DejaVuSans-97\"/>\n",
       "       <use x=\"245.849609\" xlink:href=\"#DejaVuSans-115\"/>\n",
       "       <use x=\"297.949219\" xlink:href=\"#DejaVuSans-101\"/>\n",
       "       <use x=\"359.472656\" xlink:href=\"#DejaVuSans-32\"/>\n",
       "       <use x=\"391.259766\" xlink:href=\"#DejaVuSans-115\"/>\n",
       "       <use x=\"443.359375\" xlink:href=\"#DejaVuSans-116\"/>\n",
       "       <use x=\"482.568359\" xlink:href=\"#DejaVuSans-111\"/>\n",
       "       <use x=\"543.75\" xlink:href=\"#DejaVuSans-112\"/>\n",
       "       <use x=\"607.226562\" xlink:href=\"#DejaVuSans-32\"/>\n",
       "       <use x=\"639.013672\" xlink:href=\"#DejaVuSans-121\"/>\n",
       "       <use x=\"698.193359\" xlink:href=\"#DejaVuSans-111\"/>\n",
       "       <use x=\"759.375\" xlink:href=\"#DejaVuSans-117\"/>\n",
       "       <use x=\"822.753906\" xlink:href=\"#DejaVuSans-114\"/>\n",
       "       <use x=\"863.867188\" xlink:href=\"#DejaVuSans-32\"/>\n",
       "       <use x=\"895.654297\" xlink:href=\"#DejaVuSans-100\"/>\n",
       "       <use x=\"959.130859\" xlink:href=\"#DejaVuSans-105\"/>\n",
       "       <use x=\"986.914062\" xlink:href=\"#DejaVuSans-115\"/>\n",
       "       <use x=\"1039.013672\" xlink:href=\"#DejaVuSans-114\"/>\n",
       "       <use x=\"1080.126953\" xlink:href=\"#DejaVuSans-117\"/>\n",
       "       <use x=\"1143.505859\" xlink:href=\"#DejaVuSans-112\"/>\n",
       "       <use x=\"1206.982422\" xlink:href=\"#DejaVuSans-116\"/>\n",
       "       <use x=\"1246.191406\" xlink:href=\"#DejaVuSans-105\"/>\n",
       "       <use x=\"1273.974609\" xlink:href=\"#DejaVuSans-118\"/>\n",
       "       <use x=\"1333.154297\" xlink:href=\"#DejaVuSans-101\"/>\n",
       "       <use x=\"1394.677734\" xlink:href=\"#DejaVuSans-32\"/>\n",
       "       <use x=\"1426.464844\" xlink:href=\"#DejaVuSans-101\"/>\n",
       "       <use x=\"1487.988281\" xlink:href=\"#DejaVuSans-100\"/>\n",
       "       <use x=\"1551.464844\" xlink:href=\"#DejaVuSans-105\"/>\n",
       "       <use x=\"1579.248047\" xlink:href=\"#DejaVuSans-116\"/>\n",
       "       <use x=\"1618.457031\" xlink:href=\"#DejaVuSans-105\"/>\n",
       "       <use x=\"1646.240234\" xlink:href=\"#DejaVuSans-110\"/>\n",
       "       <use x=\"1709.619141\" xlink:href=\"#DejaVuSans-103\"/>\n",
       "       <use x=\"1773.095703\" xlink:href=\"#DejaVuSans-32\"/>\n",
       "       <use x=\"1804.882812\" xlink:href=\"#DejaVuSans-105\"/>\n",
       "       <use x=\"1832.666016\" xlink:href=\"#DejaVuSans-102\"/>\n",
       "       <use x=\"1867.871094\" xlink:href=\"#DejaVuSans-32\"/>\n",
       "       <use x=\"1899.658203\" xlink:href=\"#DejaVuSans-121\"/>\n",
       "       <use x=\"1958.837891\" xlink:href=\"#DejaVuSans-111\"/>\n",
       "       <use x=\"2020.019531\" xlink:href=\"#DejaVuSans-117\"/>\n",
       "       <use x=\"2083.398438\" xlink:href=\"#DejaVuSans-32\"/>\n",
       "       <use x=\"2115.185547\" xlink:href=\"#DejaVuSans-99\"/>\n",
       "       <use x=\"2170.166016\" xlink:href=\"#DejaVuSans-111\"/>\n",
       "       <use x=\"2231.347656\" xlink:href=\"#DejaVuSans-110\"/>\n",
       "       <use x=\"2294.726562\" xlink:href=\"#DejaVuSans-116\"/>\n",
       "       <use x=\"2333.935547\" xlink:href=\"#DejaVuSans-105\"/>\n",
       "       <use x=\"2361.71875\" xlink:href=\"#DejaVuSans-110\"/>\n",
       "       <use x=\"2425.097656\" xlink:href=\"#DejaVuSans-117\"/>\n",
       "       <use x=\"2488.476562\" xlink:href=\"#DejaVuSans-101\"/>\n",
       "       <use x=\"2550\" xlink:href=\"#DejaVuSans-32\"/>\n",
       "       <use x=\"2581.787109\" xlink:href=\"#DejaVuSans-116\"/>\n",
       "       <use x=\"2620.996094\" xlink:href=\"#DejaVuSans-111\"/>\n",
       "       <use x=\"2682.177734\" xlink:href=\"#DejaVuSans-32\"/>\n",
       "       <use x=\"2713.964844\" xlink:href=\"#DejaVuSans-118\"/>\n",
       "       <use x=\"2773.144531\" xlink:href=\"#DejaVuSans-97\"/>\n",
       "       <use x=\"2834.423828\" xlink:href=\"#DejaVuSans-110\"/>\n",
       "       <use x=\"2897.802734\" xlink:href=\"#DejaVuSans-100\"/>\n",
       "       <use x=\"2961.279297\" xlink:href=\"#DejaVuSans-97\"/>\n",
       "       <use x=\"3022.558594\" xlink:href=\"#DejaVuSans-108\"/>\n",
       "       <use x=\"3050.341797\" xlink:href=\"#DejaVuSans-105\"/>\n",
       "       <use x=\"3078.125\" xlink:href=\"#DejaVuSans-122\"/>\n",
       "       <use x=\"3130.615234\" xlink:href=\"#DejaVuSans-101\"/>\n",
       "       <use x=\"3192.138672\" xlink:href=\"#DejaVuSans-32\"/>\n",
       "       <use x=\"3223.925781\" xlink:href=\"#DejaVuSans-119\"/>\n",
       "       <use x=\"3305.712891\" xlink:href=\"#DejaVuSans-105\"/>\n",
       "       <use x=\"3333.496094\" xlink:href=\"#DejaVuSans-107\"/>\n",
       "       <use x=\"3391.40625\" xlink:href=\"#DejaVuSans-105\"/>\n",
       "       <use x=\"3419.189453\" xlink:href=\"#DejaVuSans-112\"/>\n",
       "       <use x=\"3482.666016\" xlink:href=\"#DejaVuSans-101\"/>\n",
       "       <use x=\"3544.189453\" xlink:href=\"#DejaVuSans-100\"/>\n",
       "       <use x=\"3607.666016\" xlink:href=\"#DejaVuSans-105\"/>\n",
       "       <use x=\"3635.449219\" xlink:href=\"#DejaVuSans-97\"/>\n",
       "       <use x=\"3696.728516\" xlink:href=\"#DejaVuSans-32\"/>\n",
       "       <use x=\"3728.515625\" xlink:href=\"#DejaVuSans-121\"/>\n",
       "       <use x=\"3787.695312\" xlink:href=\"#DejaVuSans-111\"/>\n",
       "       <use x=\"3848.876953\" xlink:href=\"#DejaVuSans-117\"/>\n",
       "       <use x=\"3912.255859\" xlink:href=\"#DejaVuSans-32\"/>\n",
       "       <use x=\"3944.042969\" xlink:href=\"#DejaVuSans-119\"/>\n",
       "       <use x=\"4025.830078\" xlink:href=\"#DejaVuSans-105\"/>\n",
       "       <use x=\"4053.613281\" xlink:href=\"#DejaVuSans-108\"/>\n",
       "       <use x=\"4081.396484\" xlink:href=\"#DejaVuSans-108\"/>\n",
       "       <use x=\"4109.179688\" xlink:href=\"#DejaVuSans-32\"/>\n",
       "       <use x=\"4140.966797\" xlink:href=\"#DejaVuSans-98\"/>\n",
       "       <use x=\"4204.443359\" xlink:href=\"#DejaVuSans-101\"/>\n",
       "       <use x=\"4265.966797\" xlink:href=\"#DejaVuSans-32\"/>\n",
       "       <use x=\"4297.753906\" xlink:href=\"#DejaVuSans-98\"/>\n",
       "       <use x=\"4361.230469\" xlink:href=\"#DejaVuSans-108\"/>\n",
       "       <use x=\"4389.013672\" xlink:href=\"#DejaVuSans-111\"/>\n",
       "       <use x=\"4450.195312\" xlink:href=\"#DejaVuSans-99\"/>\n",
       "       <use x=\"4505.175781\" xlink:href=\"#DejaVuSans-107\"/>\n",
       "       <use x=\"4559.460938\" xlink:href=\"#DejaVuSans-101\"/>\n",
       "       <use x=\"4620.984375\" xlink:href=\"#DejaVuSans-100\"/>\n",
       "       <use x=\"4684.460938\" xlink:href=\"#DejaVuSans-32\"/>\n",
       "       <use x=\"4716.248047\" xlink:href=\"#DejaVuSans-102\"/>\n",
       "       <use x=\"4751.453125\" xlink:href=\"#DejaVuSans-114\"/>\n",
       "       <use x=\"4790.316406\" xlink:href=\"#DejaVuSans-111\"/>\n",
       "       <use x=\"4851.498047\" xlink:href=\"#DejaVuSans-109\"/>\n",
       "       <use x=\"4948.910156\" xlink:href=\"#DejaVuSans-32\"/>\n",
       "       <use x=\"4980.697266\" xlink:href=\"#DejaVuSans-101\"/>\n",
       "       <use x=\"5042.220703\" xlink:href=\"#DejaVuSans-100\"/>\n",
       "       <use x=\"5105.697266\" xlink:href=\"#DejaVuSans-105\"/>\n",
       "       <use x=\"5133.480469\" xlink:href=\"#DejaVuSans-116\"/>\n",
       "       <use x=\"5172.689453\" xlink:href=\"#DejaVuSans-105\"/>\n",
       "       <use x=\"5200.472656\" xlink:href=\"#DejaVuSans-110\"/>\n",
       "       <use x=\"5263.851562\" xlink:href=\"#DejaVuSans-103\"/>\n",
       "      </g>\n",
       "     </g>\n",
       "    </g>\n",
       "    <g id=\"xtick_21\">\n",
       "     <g id=\"line2d_41\">\n",
       "      <path clip-path=\"url(#p7b77b298fc)\" d=\"M 415.810022 333.36 \n",
       "L 415.810022 7.2 \n",
       "\" style=\"fill:none;stroke:#c0c0c0;stroke-linecap:square;stroke-width:0.8;\"/>\n",
       "     </g>\n",
       "     <g id=\"line2d_42\">\n",
       "      <g>\n",
       "       <use style=\"stroke:#000000;stroke-width:0.8;\" x=\"415.810022\" xlink:href=\"#m6d9b36f697\" y=\"333.36\"/>\n",
       "      </g>\n",
       "     </g>\n",
       "     <g id=\"text_21\">\n",
       "      <!--  august -->\n",
       "      <g transform=\"translate(418.569397 377.819375)rotate(-90)scale(0.1 -0.1)\">\n",
       "       <use xlink:href=\"#DejaVuSans-32\"/>\n",
       "       <use x=\"31.787109\" xlink:href=\"#DejaVuSans-97\"/>\n",
       "       <use x=\"93.066406\" xlink:href=\"#DejaVuSans-117\"/>\n",
       "       <use x=\"156.445312\" xlink:href=\"#DejaVuSans-103\"/>\n",
       "       <use x=\"219.921875\" xlink:href=\"#DejaVuSans-117\"/>\n",
       "       <use x=\"283.300781\" xlink:href=\"#DejaVuSans-115\"/>\n",
       "       <use x=\"335.400391\" xlink:href=\"#DejaVuSans-116\"/>\n",
       "      </g>\n",
       "     </g>\n",
       "    </g>\n",
       "    <g id=\"xtick_22\">\n",
       "     <g id=\"line2d_43\">\n",
       "      <path clip-path=\"url(#p7b77b298fc)\" d=\"M 433.302185 333.36 \n",
       "L 433.302185 7.2 \n",
       "\" style=\"fill:none;stroke:#c0c0c0;stroke-linecap:square;stroke-width:0.8;\"/>\n",
       "     </g>\n",
       "     <g id=\"line2d_44\">\n",
       "      <g>\n",
       "       <use style=\"stroke:#000000;stroke-width:0.8;\" x=\"433.302185\" xlink:href=\"#m6d9b36f697\" y=\"333.36\"/>\n",
       "      </g>\n",
       "     </g>\n",
       "     <g id=\"text_22\">\n",
       "      <!--  sep utc -->\n",
       "      <g transform=\"translate(436.06156 380.183438)rotate(-90)scale(0.1 -0.1)\">\n",
       "       <use xlink:href=\"#DejaVuSans-32\"/>\n",
       "       <use x=\"31.787109\" xlink:href=\"#DejaVuSans-115\"/>\n",
       "       <use x=\"83.886719\" xlink:href=\"#DejaVuSans-101\"/>\n",
       "       <use x=\"145.410156\" xlink:href=\"#DejaVuSans-112\"/>\n",
       "       <use x=\"208.886719\" xlink:href=\"#DejaVuSans-32\"/>\n",
       "       <use x=\"240.673828\" xlink:href=\"#DejaVuSans-117\"/>\n",
       "       <use x=\"304.052734\" xlink:href=\"#DejaVuSans-116\"/>\n",
       "       <use x=\"343.261719\" xlink:href=\"#DejaVuSans-99\"/>\n",
       "      </g>\n",
       "     </g>\n",
       "    </g>\n",
       "    <g id=\"xtick_23\">\n",
       "     <g id=\"line2d_45\">\n",
       "      <path clip-path=\"url(#p7b77b298fc)\" d=\"M 450.794348 333.36 \n",
       "L 450.794348 7.2 \n",
       "\" style=\"fill:none;stroke:#c0c0c0;stroke-linecap:square;stroke-width:0.8;\"/>\n",
       "     </g>\n",
       "     <g id=\"line2d_46\">\n",
       "      <g>\n",
       "       <use style=\"stroke:#000000;stroke-width:0.8;\" x=\"450.794348\" xlink:href=\"#m6d9b36f697\" y=\"333.36\"/>\n",
       "      </g>\n",
       "     </g>\n",
       "     <g id=\"text_23\">\n",
       "      <!--  february utc -->\n",
       "      <g transform=\"translate(453.553723 405.100625)rotate(-90)scale(0.1 -0.1)\">\n",
       "       <use xlink:href=\"#DejaVuSans-32\"/>\n",
       "       <use x=\"31.787109\" xlink:href=\"#DejaVuSans-102\"/>\n",
       "       <use x=\"66.992188\" xlink:href=\"#DejaVuSans-101\"/>\n",
       "       <use x=\"128.515625\" xlink:href=\"#DejaVuSans-98\"/>\n",
       "       <use x=\"191.992188\" xlink:href=\"#DejaVuSans-114\"/>\n",
       "       <use x=\"233.105469\" xlink:href=\"#DejaVuSans-117\"/>\n",
       "       <use x=\"296.484375\" xlink:href=\"#DejaVuSans-97\"/>\n",
       "       <use x=\"357.763672\" xlink:href=\"#DejaVuSans-114\"/>\n",
       "       <use x=\"398.876953\" xlink:href=\"#DejaVuSans-121\"/>\n",
       "       <use x=\"458.056641\" xlink:href=\"#DejaVuSans-32\"/>\n",
       "       <use x=\"489.84375\" xlink:href=\"#DejaVuSans-117\"/>\n",
       "       <use x=\"553.222656\" xlink:href=\"#DejaVuSans-116\"/>\n",
       "       <use x=\"592.431641\" xlink:href=\"#DejaVuSans-99\"/>\n",
       "      </g>\n",
       "     </g>\n",
       "    </g>\n",
       "    <g id=\"xtick_24\">\n",
       "     <g id=\"line2d_47\">\n",
       "      <path clip-path=\"url(#p7b77b298fc)\" d=\"M 468.286511 333.36 \n",
       "L 468.286511 7.2 \n",
       "\" style=\"fill:none;stroke:#c0c0c0;stroke-linecap:square;stroke-width:0.8;\"/>\n",
       "     </g>\n",
       "     <g id=\"line2d_48\">\n",
       "      <g>\n",
       "       <use style=\"stroke:#000000;stroke-width:0.8;\" x=\"468.286511\" xlink:href=\"#m6d9b36f697\" y=\"333.36\"/>\n",
       "      </g>\n",
       "     </g>\n",
       "     <g id=\"text_24\">\n",
       "      <!--  talkback talk -->\n",
       "      <g transform=\"translate(471.045886 407.71625)rotate(-90)scale(0.1 -0.1)\">\n",
       "       <use xlink:href=\"#DejaVuSans-32\"/>\n",
       "       <use x=\"31.787109\" xlink:href=\"#DejaVuSans-116\"/>\n",
       "       <use x=\"70.996094\" xlink:href=\"#DejaVuSans-97\"/>\n",
       "       <use x=\"132.275391\" xlink:href=\"#DejaVuSans-108\"/>\n",
       "       <use x=\"160.058594\" xlink:href=\"#DejaVuSans-107\"/>\n",
       "       <use x=\"217.96875\" xlink:href=\"#DejaVuSans-98\"/>\n",
       "       <use x=\"281.445312\" xlink:href=\"#DejaVuSans-97\"/>\n",
       "       <use x=\"342.724609\" xlink:href=\"#DejaVuSans-99\"/>\n",
       "       <use x=\"397.705078\" xlink:href=\"#DejaVuSans-107\"/>\n",
       "       <use x=\"455.615234\" xlink:href=\"#DejaVuSans-32\"/>\n",
       "       <use x=\"487.402344\" xlink:href=\"#DejaVuSans-116\"/>\n",
       "       <use x=\"526.611328\" xlink:href=\"#DejaVuSans-97\"/>\n",
       "       <use x=\"587.890625\" xlink:href=\"#DejaVuSans-108\"/>\n",
       "       <use x=\"615.673828\" xlink:href=\"#DejaVuSans-107\"/>\n",
       "      </g>\n",
       "     </g>\n",
       "    </g>\n",
       "    <g id=\"xtick_25\">\n",
       "     <g id=\"line2d_49\">\n",
       "      <path clip-path=\"url(#p7b77b298fc)\" d=\"M 485.778674 333.36 \n",
       "L 485.778674 7.2 \n",
       "\" style=\"fill:none;stroke:#c0c0c0;stroke-linecap:square;stroke-width:0.8;\"/>\n",
       "     </g>\n",
       "     <g id=\"line2d_50\">\n",
       "      <g>\n",
       "       <use style=\"stroke:#000000;stroke-width:0.8;\" x=\"485.778674\" xlink:href=\"#m6d9b36f697\" y=\"333.36\"/>\n",
       "      </g>\n",
       "     </g>\n",
       "     <g id=\"text_25\">\n",
       "      <!--  feb utc -->\n",
       "      <g transform=\"translate(488.538049 378.494375)rotate(-90)scale(0.1 -0.1)\">\n",
       "       <use xlink:href=\"#DejaVuSans-32\"/>\n",
       "       <use x=\"31.787109\" xlink:href=\"#DejaVuSans-102\"/>\n",
       "       <use x=\"66.992188\" xlink:href=\"#DejaVuSans-101\"/>\n",
       "       <use x=\"128.515625\" xlink:href=\"#DejaVuSans-98\"/>\n",
       "       <use x=\"191.992188\" xlink:href=\"#DejaVuSans-32\"/>\n",
       "       <use x=\"223.779297\" xlink:href=\"#DejaVuSans-117\"/>\n",
       "       <use x=\"287.158203\" xlink:href=\"#DejaVuSans-116\"/>\n",
       "       <use x=\"326.367188\" xlink:href=\"#DejaVuSans-99\"/>\n",
       "      </g>\n",
       "     </g>\n",
       "    </g>\n",
       "    <g id=\"xtick_26\">\n",
       "     <g id=\"line2d_51\">\n",
       "      <path clip-path=\"url(#p7b77b298fc)\" d=\"M 503.270837 333.36 \n",
       "L 503.270837 7.2 \n",
       "\" style=\"fill:none;stroke:#c0c0c0;stroke-linecap:square;stroke-width:0.8;\"/>\n",
       "     </g>\n",
       "     <g id=\"line2d_52\">\n",
       "      <g>\n",
       "       <use style=\"stroke:#000000;stroke-width:0.8;\" x=\"503.270837\" xlink:href=\"#m6d9b36f697\" y=\"333.36\"/>\n",
       "      </g>\n",
       "     </g>\n",
       "     <g id=\"text_26\">\n",
       "      <!--  thank you for experimenting with wikipedia your test worked and it has been reverted or removed please use the sandbox for any other tests you may want to do take a look at the welcome page to learn more about contributing to our encyclopedia a link to the edit i have reverted can be found here link if you believe this edit should not have been reverted please contact me talk -->\n",
       "      <g transform=\"translate(506.030212 2262.635)rotate(-90)scale(0.1 -0.1)\">\n",
       "       <use xlink:href=\"#DejaVuSans-32\"/>\n",
       "       <use x=\"31.787109\" xlink:href=\"#DejaVuSans-116\"/>\n",
       "       <use x=\"70.996094\" xlink:href=\"#DejaVuSans-104\"/>\n",
       "       <use x=\"134.375\" xlink:href=\"#DejaVuSans-97\"/>\n",
       "       <use x=\"195.654297\" xlink:href=\"#DejaVuSans-110\"/>\n",
       "       <use x=\"259.033203\" xlink:href=\"#DejaVuSans-107\"/>\n",
       "       <use x=\"316.943359\" xlink:href=\"#DejaVuSans-32\"/>\n",
       "       <use x=\"348.730469\" xlink:href=\"#DejaVuSans-121\"/>\n",
       "       <use x=\"407.910156\" xlink:href=\"#DejaVuSans-111\"/>\n",
       "       <use x=\"469.091797\" xlink:href=\"#DejaVuSans-117\"/>\n",
       "       <use x=\"532.470703\" xlink:href=\"#DejaVuSans-32\"/>\n",
       "       <use x=\"564.257812\" xlink:href=\"#DejaVuSans-102\"/>\n",
       "       <use x=\"599.462891\" xlink:href=\"#DejaVuSans-111\"/>\n",
       "       <use x=\"660.644531\" xlink:href=\"#DejaVuSans-114\"/>\n",
       "       <use x=\"701.757812\" xlink:href=\"#DejaVuSans-32\"/>\n",
       "       <use x=\"733.544922\" xlink:href=\"#DejaVuSans-101\"/>\n",
       "       <use x=\"793.318359\" xlink:href=\"#DejaVuSans-120\"/>\n",
       "       <use x=\"852.498047\" xlink:href=\"#DejaVuSans-112\"/>\n",
       "       <use x=\"915.974609\" xlink:href=\"#DejaVuSans-101\"/>\n",
       "       <use x=\"977.498047\" xlink:href=\"#DejaVuSans-114\"/>\n",
       "       <use x=\"1018.611328\" xlink:href=\"#DejaVuSans-105\"/>\n",
       "       <use x=\"1046.394531\" xlink:href=\"#DejaVuSans-109\"/>\n",
       "       <use x=\"1143.806641\" xlink:href=\"#DejaVuSans-101\"/>\n",
       "       <use x=\"1205.330078\" xlink:href=\"#DejaVuSans-110\"/>\n",
       "       <use x=\"1268.708984\" xlink:href=\"#DejaVuSans-116\"/>\n",
       "       <use x=\"1307.917969\" xlink:href=\"#DejaVuSans-105\"/>\n",
       "       <use x=\"1335.701172\" xlink:href=\"#DejaVuSans-110\"/>\n",
       "       <use x=\"1399.080078\" xlink:href=\"#DejaVuSans-103\"/>\n",
       "       <use x=\"1462.556641\" xlink:href=\"#DejaVuSans-32\"/>\n",
       "       <use x=\"1494.34375\" xlink:href=\"#DejaVuSans-119\"/>\n",
       "       <use x=\"1576.130859\" xlink:href=\"#DejaVuSans-105\"/>\n",
       "       <use x=\"1603.914062\" xlink:href=\"#DejaVuSans-116\"/>\n",
       "       <use x=\"1643.123047\" xlink:href=\"#DejaVuSans-104\"/>\n",
       "       <use x=\"1706.501953\" xlink:href=\"#DejaVuSans-32\"/>\n",
       "       <use x=\"1738.289062\" xlink:href=\"#DejaVuSans-119\"/>\n",
       "       <use x=\"1820.076172\" xlink:href=\"#DejaVuSans-105\"/>\n",
       "       <use x=\"1847.859375\" xlink:href=\"#DejaVuSans-107\"/>\n",
       "       <use x=\"1905.769531\" xlink:href=\"#DejaVuSans-105\"/>\n",
       "       <use x=\"1933.552734\" xlink:href=\"#DejaVuSans-112\"/>\n",
       "       <use x=\"1997.029297\" xlink:href=\"#DejaVuSans-101\"/>\n",
       "       <use x=\"2058.552734\" xlink:href=\"#DejaVuSans-100\"/>\n",
       "       <use x=\"2122.029297\" xlink:href=\"#DejaVuSans-105\"/>\n",
       "       <use x=\"2149.8125\" xlink:href=\"#DejaVuSans-97\"/>\n",
       "       <use x=\"2211.091797\" xlink:href=\"#DejaVuSans-32\"/>\n",
       "       <use x=\"2242.878906\" xlink:href=\"#DejaVuSans-121\"/>\n",
       "       <use x=\"2302.058594\" xlink:href=\"#DejaVuSans-111\"/>\n",
       "       <use x=\"2363.240234\" xlink:href=\"#DejaVuSans-117\"/>\n",
       "       <use x=\"2426.619141\" xlink:href=\"#DejaVuSans-114\"/>\n",
       "       <use x=\"2467.732422\" xlink:href=\"#DejaVuSans-32\"/>\n",
       "       <use x=\"2499.519531\" xlink:href=\"#DejaVuSans-116\"/>\n",
       "       <use x=\"2538.728516\" xlink:href=\"#DejaVuSans-101\"/>\n",
       "       <use x=\"2600.251953\" xlink:href=\"#DejaVuSans-115\"/>\n",
       "       <use x=\"2652.351562\" xlink:href=\"#DejaVuSans-116\"/>\n",
       "       <use x=\"2691.560547\" xlink:href=\"#DejaVuSans-32\"/>\n",
       "       <use x=\"2723.347656\" xlink:href=\"#DejaVuSans-119\"/>\n",
       "       <use x=\"2805.134766\" xlink:href=\"#DejaVuSans-111\"/>\n",
       "       <use x=\"2866.316406\" xlink:href=\"#DejaVuSans-114\"/>\n",
       "       <use x=\"2907.429688\" xlink:href=\"#DejaVuSans-107\"/>\n",
       "       <use x=\"2961.714844\" xlink:href=\"#DejaVuSans-101\"/>\n",
       "       <use x=\"3023.238281\" xlink:href=\"#DejaVuSans-100\"/>\n",
       "       <use x=\"3086.714844\" xlink:href=\"#DejaVuSans-32\"/>\n",
       "       <use x=\"3118.501953\" xlink:href=\"#DejaVuSans-97\"/>\n",
       "       <use x=\"3179.78125\" xlink:href=\"#DejaVuSans-110\"/>\n",
       "       <use x=\"3243.160156\" xlink:href=\"#DejaVuSans-100\"/>\n",
       "       <use x=\"3306.636719\" xlink:href=\"#DejaVuSans-32\"/>\n",
       "       <use x=\"3338.423828\" xlink:href=\"#DejaVuSans-105\"/>\n",
       "       <use x=\"3366.207031\" xlink:href=\"#DejaVuSans-116\"/>\n",
       "       <use x=\"3405.416016\" xlink:href=\"#DejaVuSans-32\"/>\n",
       "       <use x=\"3437.203125\" xlink:href=\"#DejaVuSans-104\"/>\n",
       "       <use x=\"3500.582031\" xlink:href=\"#DejaVuSans-97\"/>\n",
       "       <use x=\"3561.861328\" xlink:href=\"#DejaVuSans-115\"/>\n",
       "       <use x=\"3613.960938\" xlink:href=\"#DejaVuSans-32\"/>\n",
       "       <use x=\"3645.748047\" xlink:href=\"#DejaVuSans-98\"/>\n",
       "       <use x=\"3709.224609\" xlink:href=\"#DejaVuSans-101\"/>\n",
       "       <use x=\"3770.748047\" xlink:href=\"#DejaVuSans-101\"/>\n",
       "       <use x=\"3832.271484\" xlink:href=\"#DejaVuSans-110\"/>\n",
       "       <use x=\"3895.650391\" xlink:href=\"#DejaVuSans-32\"/>\n",
       "       <use x=\"3927.4375\" xlink:href=\"#DejaVuSans-114\"/>\n",
       "       <use x=\"3966.300781\" xlink:href=\"#DejaVuSans-101\"/>\n",
       "       <use x=\"4027.824219\" xlink:href=\"#DejaVuSans-118\"/>\n",
       "       <use x=\"4087.003906\" xlink:href=\"#DejaVuSans-101\"/>\n",
       "       <use x=\"4148.527344\" xlink:href=\"#DejaVuSans-114\"/>\n",
       "       <use x=\"4189.640625\" xlink:href=\"#DejaVuSans-116\"/>\n",
       "       <use x=\"4228.849609\" xlink:href=\"#DejaVuSans-101\"/>\n",
       "       <use x=\"4290.373047\" xlink:href=\"#DejaVuSans-100\"/>\n",
       "       <use x=\"4353.849609\" xlink:href=\"#DejaVuSans-32\"/>\n",
       "       <use x=\"4385.636719\" xlink:href=\"#DejaVuSans-111\"/>\n",
       "       <use x=\"4446.818359\" xlink:href=\"#DejaVuSans-114\"/>\n",
       "       <use x=\"4487.931641\" xlink:href=\"#DejaVuSans-32\"/>\n",
       "       <use x=\"4519.71875\" xlink:href=\"#DejaVuSans-114\"/>\n",
       "       <use x=\"4558.582031\" xlink:href=\"#DejaVuSans-101\"/>\n",
       "       <use x=\"4620.105469\" xlink:href=\"#DejaVuSans-109\"/>\n",
       "       <use x=\"4717.517578\" xlink:href=\"#DejaVuSans-111\"/>\n",
       "       <use x=\"4778.699219\" xlink:href=\"#DejaVuSans-118\"/>\n",
       "       <use x=\"4837.878906\" xlink:href=\"#DejaVuSans-101\"/>\n",
       "       <use x=\"4899.402344\" xlink:href=\"#DejaVuSans-100\"/>\n",
       "       <use x=\"4962.878906\" xlink:href=\"#DejaVuSans-32\"/>\n",
       "       <use x=\"4994.666016\" xlink:href=\"#DejaVuSans-112\"/>\n",
       "       <use x=\"5058.142578\" xlink:href=\"#DejaVuSans-108\"/>\n",
       "       <use x=\"5085.925781\" xlink:href=\"#DejaVuSans-101\"/>\n",
       "       <use x=\"5147.449219\" xlink:href=\"#DejaVuSans-97\"/>\n",
       "       <use x=\"5208.728516\" xlink:href=\"#DejaVuSans-115\"/>\n",
       "       <use x=\"5260.828125\" xlink:href=\"#DejaVuSans-101\"/>\n",
       "       <use x=\"5322.351562\" xlink:href=\"#DejaVuSans-32\"/>\n",
       "       <use x=\"5354.138672\" xlink:href=\"#DejaVuSans-117\"/>\n",
       "       <use x=\"5417.517578\" xlink:href=\"#DejaVuSans-115\"/>\n",
       "       <use x=\"5469.617188\" xlink:href=\"#DejaVuSans-101\"/>\n",
       "       <use x=\"5531.140625\" xlink:href=\"#DejaVuSans-32\"/>\n",
       "       <use x=\"5562.927734\" xlink:href=\"#DejaVuSans-116\"/>\n",
       "       <use x=\"5602.136719\" xlink:href=\"#DejaVuSans-104\"/>\n",
       "       <use x=\"5665.515625\" xlink:href=\"#DejaVuSans-101\"/>\n",
       "       <use x=\"5727.039062\" xlink:href=\"#DejaVuSans-32\"/>\n",
       "       <use x=\"5758.826172\" xlink:href=\"#DejaVuSans-115\"/>\n",
       "       <use x=\"5810.925781\" xlink:href=\"#DejaVuSans-97\"/>\n",
       "       <use x=\"5872.205078\" xlink:href=\"#DejaVuSans-110\"/>\n",
       "       <use x=\"5935.583984\" xlink:href=\"#DejaVuSans-100\"/>\n",
       "       <use x=\"5999.060547\" xlink:href=\"#DejaVuSans-98\"/>\n",
       "       <use x=\"6062.537109\" xlink:href=\"#DejaVuSans-111\"/>\n",
       "       <use x=\"6120.59375\" xlink:href=\"#DejaVuSans-120\"/>\n",
       "       <use x=\"6179.773438\" xlink:href=\"#DejaVuSans-32\"/>\n",
       "       <use x=\"6211.560547\" xlink:href=\"#DejaVuSans-102\"/>\n",
       "       <use x=\"6246.765625\" xlink:href=\"#DejaVuSans-111\"/>\n",
       "       <use x=\"6307.947266\" xlink:href=\"#DejaVuSans-114\"/>\n",
       "       <use x=\"6349.060547\" xlink:href=\"#DejaVuSans-32\"/>\n",
       "       <use x=\"6380.847656\" xlink:href=\"#DejaVuSans-97\"/>\n",
       "       <use x=\"6442.126953\" xlink:href=\"#DejaVuSans-110\"/>\n",
       "       <use x=\"6505.505859\" xlink:href=\"#DejaVuSans-121\"/>\n",
       "       <use x=\"6564.685547\" xlink:href=\"#DejaVuSans-32\"/>\n",
       "       <use x=\"6596.472656\" xlink:href=\"#DejaVuSans-111\"/>\n",
       "       <use x=\"6657.654297\" xlink:href=\"#DejaVuSans-116\"/>\n",
       "       <use x=\"6696.863281\" xlink:href=\"#DejaVuSans-104\"/>\n",
       "       <use x=\"6760.242188\" xlink:href=\"#DejaVuSans-101\"/>\n",
       "       <use x=\"6821.765625\" xlink:href=\"#DejaVuSans-114\"/>\n",
       "       <use x=\"6862.878906\" xlink:href=\"#DejaVuSans-32\"/>\n",
       "       <use x=\"6894.666016\" xlink:href=\"#DejaVuSans-116\"/>\n",
       "       <use x=\"6933.875\" xlink:href=\"#DejaVuSans-101\"/>\n",
       "       <use x=\"6995.398438\" xlink:href=\"#DejaVuSans-115\"/>\n",
       "       <use x=\"7047.498047\" xlink:href=\"#DejaVuSans-116\"/>\n",
       "       <use x=\"7086.707031\" xlink:href=\"#DejaVuSans-115\"/>\n",
       "       <use x=\"7138.806641\" xlink:href=\"#DejaVuSans-32\"/>\n",
       "       <use x=\"7170.59375\" xlink:href=\"#DejaVuSans-121\"/>\n",
       "       <use x=\"7229.773438\" xlink:href=\"#DejaVuSans-111\"/>\n",
       "       <use x=\"7290.955078\" xlink:href=\"#DejaVuSans-117\"/>\n",
       "       <use x=\"7354.333984\" xlink:href=\"#DejaVuSans-32\"/>\n",
       "       <use x=\"7386.121094\" xlink:href=\"#DejaVuSans-109\"/>\n",
       "       <use x=\"7483.533203\" xlink:href=\"#DejaVuSans-97\"/>\n",
       "       <use x=\"7544.8125\" xlink:href=\"#DejaVuSans-121\"/>\n",
       "       <use x=\"7603.992188\" xlink:href=\"#DejaVuSans-32\"/>\n",
       "       <use x=\"7635.779297\" xlink:href=\"#DejaVuSans-119\"/>\n",
       "       <use x=\"7717.566406\" xlink:href=\"#DejaVuSans-97\"/>\n",
       "       <use x=\"7778.845703\" xlink:href=\"#DejaVuSans-110\"/>\n",
       "       <use x=\"7842.224609\" xlink:href=\"#DejaVuSans-116\"/>\n",
       "       <use x=\"7881.433594\" xlink:href=\"#DejaVuSans-32\"/>\n",
       "       <use x=\"7913.220703\" xlink:href=\"#DejaVuSans-116\"/>\n",
       "       <use x=\"7952.429688\" xlink:href=\"#DejaVuSans-111\"/>\n",
       "       <use x=\"8013.611328\" xlink:href=\"#DejaVuSans-32\"/>\n",
       "       <use x=\"8045.398438\" xlink:href=\"#DejaVuSans-100\"/>\n",
       "       <use x=\"8108.875\" xlink:href=\"#DejaVuSans-111\"/>\n",
       "       <use x=\"8170.056641\" xlink:href=\"#DejaVuSans-32\"/>\n",
       "       <use x=\"8201.84375\" xlink:href=\"#DejaVuSans-116\"/>\n",
       "       <use x=\"8241.052734\" xlink:href=\"#DejaVuSans-97\"/>\n",
       "       <use x=\"8302.332031\" xlink:href=\"#DejaVuSans-107\"/>\n",
       "       <use x=\"8356.617188\" xlink:href=\"#DejaVuSans-101\"/>\n",
       "       <use x=\"8418.140625\" xlink:href=\"#DejaVuSans-32\"/>\n",
       "       <use x=\"8449.927734\" xlink:href=\"#DejaVuSans-97\"/>\n",
       "       <use x=\"8511.207031\" xlink:href=\"#DejaVuSans-32\"/>\n",
       "       <use x=\"8542.994141\" xlink:href=\"#DejaVuSans-108\"/>\n",
       "       <use x=\"8570.777344\" xlink:href=\"#DejaVuSans-111\"/>\n",
       "       <use x=\"8631.958984\" xlink:href=\"#DejaVuSans-111\"/>\n",
       "       <use x=\"8693.140625\" xlink:href=\"#DejaVuSans-107\"/>\n",
       "       <use x=\"8751.050781\" xlink:href=\"#DejaVuSans-32\"/>\n",
       "       <use x=\"8782.837891\" xlink:href=\"#DejaVuSans-97\"/>\n",
       "       <use x=\"8844.117188\" xlink:href=\"#DejaVuSans-116\"/>\n",
       "       <use x=\"8883.326172\" xlink:href=\"#DejaVuSans-32\"/>\n",
       "       <use x=\"8915.113281\" xlink:href=\"#DejaVuSans-116\"/>\n",
       "       <use x=\"8954.322266\" xlink:href=\"#DejaVuSans-104\"/>\n",
       "       <use x=\"9017.701172\" xlink:href=\"#DejaVuSans-101\"/>\n",
       "       <use x=\"9079.224609\" xlink:href=\"#DejaVuSans-32\"/>\n",
       "       <use x=\"9111.011719\" xlink:href=\"#DejaVuSans-119\"/>\n",
       "       <use x=\"9192.798828\" xlink:href=\"#DejaVuSans-101\"/>\n",
       "       <use x=\"9254.322266\" xlink:href=\"#DejaVuSans-108\"/>\n",
       "       <use x=\"9282.105469\" xlink:href=\"#DejaVuSans-99\"/>\n",
       "       <use x=\"9337.085938\" xlink:href=\"#DejaVuSans-111\"/>\n",
       "       <use x=\"9398.267578\" xlink:href=\"#DejaVuSans-109\"/>\n",
       "       <use x=\"9495.679688\" xlink:href=\"#DejaVuSans-101\"/>\n",
       "       <use x=\"9557.203125\" xlink:href=\"#DejaVuSans-32\"/>\n",
       "       <use x=\"9588.990234\" xlink:href=\"#DejaVuSans-112\"/>\n",
       "       <use x=\"9652.466797\" xlink:href=\"#DejaVuSans-97\"/>\n",
       "       <use x=\"9713.746094\" xlink:href=\"#DejaVuSans-103\"/>\n",
       "       <use x=\"9777.222656\" xlink:href=\"#DejaVuSans-101\"/>\n",
       "       <use x=\"9838.746094\" xlink:href=\"#DejaVuSans-32\"/>\n",
       "       <use x=\"9870.533203\" xlink:href=\"#DejaVuSans-116\"/>\n",
       "       <use x=\"9909.742188\" xlink:href=\"#DejaVuSans-111\"/>\n",
       "       <use x=\"9970.923828\" xlink:href=\"#DejaVuSans-32\"/>\n",
       "       <use x=\"10002.710938\" xlink:href=\"#DejaVuSans-108\"/>\n",
       "       <use x=\"10030.494141\" xlink:href=\"#DejaVuSans-101\"/>\n",
       "       <use x=\"10092.017578\" xlink:href=\"#DejaVuSans-97\"/>\n",
       "       <use x=\"10153.296875\" xlink:href=\"#DejaVuSans-114\"/>\n",
       "       <use x=\"10192.660156\" xlink:href=\"#DejaVuSans-110\"/>\n",
       "       <use x=\"10256.039062\" xlink:href=\"#DejaVuSans-32\"/>\n",
       "       <use x=\"10287.826172\" xlink:href=\"#DejaVuSans-109\"/>\n",
       "       <use x=\"10385.238281\" xlink:href=\"#DejaVuSans-111\"/>\n",
       "       <use x=\"10446.419922\" xlink:href=\"#DejaVuSans-114\"/>\n",
       "       <use x=\"10485.283203\" xlink:href=\"#DejaVuSans-101\"/>\n",
       "       <use x=\"10546.806641\" xlink:href=\"#DejaVuSans-32\"/>\n",
       "       <use x=\"10578.59375\" xlink:href=\"#DejaVuSans-97\"/>\n",
       "       <use x=\"10639.873047\" xlink:href=\"#DejaVuSans-98\"/>\n",
       "       <use x=\"10703.349609\" xlink:href=\"#DejaVuSans-111\"/>\n",
       "       <use x=\"10764.53125\" xlink:href=\"#DejaVuSans-117\"/>\n",
       "       <use x=\"10827.910156\" xlink:href=\"#DejaVuSans-116\"/>\n",
       "       <use x=\"10867.119141\" xlink:href=\"#DejaVuSans-32\"/>\n",
       "       <use x=\"10898.90625\" xlink:href=\"#DejaVuSans-99\"/>\n",
       "       <use x=\"10953.886719\" xlink:href=\"#DejaVuSans-111\"/>\n",
       "       <use x=\"11015.068359\" xlink:href=\"#DejaVuSans-110\"/>\n",
       "       <use x=\"11078.447266\" xlink:href=\"#DejaVuSans-116\"/>\n",
       "       <use x=\"11117.65625\" xlink:href=\"#DejaVuSans-114\"/>\n",
       "       <use x=\"11158.769531\" xlink:href=\"#DejaVuSans-105\"/>\n",
       "       <use x=\"11186.552734\" xlink:href=\"#DejaVuSans-98\"/>\n",
       "       <use x=\"11250.029297\" xlink:href=\"#DejaVuSans-117\"/>\n",
       "       <use x=\"11313.408203\" xlink:href=\"#DejaVuSans-116\"/>\n",
       "       <use x=\"11352.617188\" xlink:href=\"#DejaVuSans-105\"/>\n",
       "       <use x=\"11380.400391\" xlink:href=\"#DejaVuSans-110\"/>\n",
       "       <use x=\"11443.779297\" xlink:href=\"#DejaVuSans-103\"/>\n",
       "       <use x=\"11507.255859\" xlink:href=\"#DejaVuSans-32\"/>\n",
       "       <use x=\"11539.042969\" xlink:href=\"#DejaVuSans-116\"/>\n",
       "       <use x=\"11578.251953\" xlink:href=\"#DejaVuSans-111\"/>\n",
       "       <use x=\"11639.433594\" xlink:href=\"#DejaVuSans-32\"/>\n",
       "       <use x=\"11671.220703\" xlink:href=\"#DejaVuSans-111\"/>\n",
       "       <use x=\"11732.402344\" xlink:href=\"#DejaVuSans-117\"/>\n",
       "       <use x=\"11795.78125\" xlink:href=\"#DejaVuSans-114\"/>\n",
       "       <use x=\"11836.894531\" xlink:href=\"#DejaVuSans-32\"/>\n",
       "       <use x=\"11868.681641\" xlink:href=\"#DejaVuSans-101\"/>\n",
       "       <use x=\"11930.205078\" xlink:href=\"#DejaVuSans-110\"/>\n",
       "       <use x=\"11993.583984\" xlink:href=\"#DejaVuSans-99\"/>\n",
       "       <use x=\"12048.564453\" xlink:href=\"#DejaVuSans-121\"/>\n",
       "       <use x=\"12107.744141\" xlink:href=\"#DejaVuSans-99\"/>\n",
       "       <use x=\"12162.724609\" xlink:href=\"#DejaVuSans-108\"/>\n",
       "       <use x=\"12190.507812\" xlink:href=\"#DejaVuSans-111\"/>\n",
       "       <use x=\"12251.689453\" xlink:href=\"#DejaVuSans-112\"/>\n",
       "       <use x=\"12315.166016\" xlink:href=\"#DejaVuSans-101\"/>\n",
       "       <use x=\"12376.689453\" xlink:href=\"#DejaVuSans-100\"/>\n",
       "       <use x=\"12440.166016\" xlink:href=\"#DejaVuSans-105\"/>\n",
       "       <use x=\"12467.949219\" xlink:href=\"#DejaVuSans-97\"/>\n",
       "       <use x=\"12529.228516\" xlink:href=\"#DejaVuSans-32\"/>\n",
       "       <use x=\"12561.015625\" xlink:href=\"#DejaVuSans-97\"/>\n",
       "       <use x=\"12622.294922\" xlink:href=\"#DejaVuSans-32\"/>\n",
       "       <use x=\"12654.082031\" xlink:href=\"#DejaVuSans-108\"/>\n",
       "       <use x=\"12681.865234\" xlink:href=\"#DejaVuSans-105\"/>\n",
       "       <use x=\"12709.648438\" xlink:href=\"#DejaVuSans-110\"/>\n",
       "       <use x=\"12773.027344\" xlink:href=\"#DejaVuSans-107\"/>\n",
       "       <use x=\"12830.9375\" xlink:href=\"#DejaVuSans-32\"/>\n",
       "       <use x=\"12862.724609\" xlink:href=\"#DejaVuSans-116\"/>\n",
       "       <use x=\"12901.933594\" xlink:href=\"#DejaVuSans-111\"/>\n",
       "       <use x=\"12963.115234\" xlink:href=\"#DejaVuSans-32\"/>\n",
       "       <use x=\"12994.902344\" xlink:href=\"#DejaVuSans-116\"/>\n",
       "       <use x=\"13034.111328\" xlink:href=\"#DejaVuSans-104\"/>\n",
       "       <use x=\"13097.490234\" xlink:href=\"#DejaVuSans-101\"/>\n",
       "       <use x=\"13159.013672\" xlink:href=\"#DejaVuSans-32\"/>\n",
       "       <use x=\"13190.800781\" xlink:href=\"#DejaVuSans-101\"/>\n",
       "       <use x=\"13252.324219\" xlink:href=\"#DejaVuSans-100\"/>\n",
       "       <use x=\"13315.800781\" xlink:href=\"#DejaVuSans-105\"/>\n",
       "       <use x=\"13343.583984\" xlink:href=\"#DejaVuSans-116\"/>\n",
       "       <use x=\"13382.792969\" xlink:href=\"#DejaVuSans-32\"/>\n",
       "       <use x=\"13414.580078\" xlink:href=\"#DejaVuSans-105\"/>\n",
       "       <use x=\"13442.363281\" xlink:href=\"#DejaVuSans-32\"/>\n",
       "       <use x=\"13474.150391\" xlink:href=\"#DejaVuSans-104\"/>\n",
       "       <use x=\"13537.529297\" xlink:href=\"#DejaVuSans-97\"/>\n",
       "       <use x=\"13598.808594\" xlink:href=\"#DejaVuSans-118\"/>\n",
       "       <use x=\"13657.988281\" xlink:href=\"#DejaVuSans-101\"/>\n",
       "       <use x=\"13719.511719\" xlink:href=\"#DejaVuSans-32\"/>\n",
       "       <use x=\"13751.298828\" xlink:href=\"#DejaVuSans-114\"/>\n",
       "       <use x=\"13790.162109\" xlink:href=\"#DejaVuSans-101\"/>\n",
       "       <use x=\"13851.685547\" xlink:href=\"#DejaVuSans-118\"/>\n",
       "       <use x=\"13910.865234\" xlink:href=\"#DejaVuSans-101\"/>\n",
       "       <use x=\"13972.388672\" xlink:href=\"#DejaVuSans-114\"/>\n",
       "       <use x=\"14013.501953\" xlink:href=\"#DejaVuSans-116\"/>\n",
       "       <use x=\"14052.710938\" xlink:href=\"#DejaVuSans-101\"/>\n",
       "       <use x=\"14114.234375\" xlink:href=\"#DejaVuSans-100\"/>\n",
       "       <use x=\"14177.710938\" xlink:href=\"#DejaVuSans-32\"/>\n",
       "       <use x=\"14209.498047\" xlink:href=\"#DejaVuSans-99\"/>\n",
       "       <use x=\"14264.478516\" xlink:href=\"#DejaVuSans-97\"/>\n",
       "       <use x=\"14325.757812\" xlink:href=\"#DejaVuSans-110\"/>\n",
       "       <use x=\"14389.136719\" xlink:href=\"#DejaVuSans-32\"/>\n",
       "       <use x=\"14420.923828\" xlink:href=\"#DejaVuSans-98\"/>\n",
       "       <use x=\"14484.400391\" xlink:href=\"#DejaVuSans-101\"/>\n",
       "       <use x=\"14545.923828\" xlink:href=\"#DejaVuSans-32\"/>\n",
       "       <use x=\"14577.710938\" xlink:href=\"#DejaVuSans-102\"/>\n",
       "       <use x=\"14612.916016\" xlink:href=\"#DejaVuSans-111\"/>\n",
       "       <use x=\"14674.097656\" xlink:href=\"#DejaVuSans-117\"/>\n",
       "       <use x=\"14737.476562\" xlink:href=\"#DejaVuSans-110\"/>\n",
       "       <use x=\"14800.855469\" xlink:href=\"#DejaVuSans-100\"/>\n",
       "       <use x=\"14864.332031\" xlink:href=\"#DejaVuSans-32\"/>\n",
       "       <use x=\"14896.119141\" xlink:href=\"#DejaVuSans-104\"/>\n",
       "       <use x=\"14959.498047\" xlink:href=\"#DejaVuSans-101\"/>\n",
       "       <use x=\"15021.021484\" xlink:href=\"#DejaVuSans-114\"/>\n",
       "       <use x=\"15059.884766\" xlink:href=\"#DejaVuSans-101\"/>\n",
       "       <use x=\"15121.408203\" xlink:href=\"#DejaVuSans-32\"/>\n",
       "       <use x=\"15153.195312\" xlink:href=\"#DejaVuSans-108\"/>\n",
       "       <use x=\"15180.978516\" xlink:href=\"#DejaVuSans-105\"/>\n",
       "       <use x=\"15208.761719\" xlink:href=\"#DejaVuSans-110\"/>\n",
       "       <use x=\"15272.140625\" xlink:href=\"#DejaVuSans-107\"/>\n",
       "       <use x=\"15330.050781\" xlink:href=\"#DejaVuSans-32\"/>\n",
       "       <use x=\"15361.837891\" xlink:href=\"#DejaVuSans-105\"/>\n",
       "       <use x=\"15389.621094\" xlink:href=\"#DejaVuSans-102\"/>\n",
       "       <use x=\"15424.826172\" xlink:href=\"#DejaVuSans-32\"/>\n",
       "       <use x=\"15456.613281\" xlink:href=\"#DejaVuSans-121\"/>\n",
       "       <use x=\"15515.792969\" xlink:href=\"#DejaVuSans-111\"/>\n",
       "       <use x=\"15576.974609\" xlink:href=\"#DejaVuSans-117\"/>\n",
       "       <use x=\"15640.353516\" xlink:href=\"#DejaVuSans-32\"/>\n",
       "       <use x=\"15672.140625\" xlink:href=\"#DejaVuSans-98\"/>\n",
       "       <use x=\"15735.617188\" xlink:href=\"#DejaVuSans-101\"/>\n",
       "       <use x=\"15797.140625\" xlink:href=\"#DejaVuSans-108\"/>\n",
       "       <use x=\"15824.923828\" xlink:href=\"#DejaVuSans-105\"/>\n",
       "       <use x=\"15852.707031\" xlink:href=\"#DejaVuSans-101\"/>\n",
       "       <use x=\"15914.230469\" xlink:href=\"#DejaVuSans-118\"/>\n",
       "       <use x=\"15973.410156\" xlink:href=\"#DejaVuSans-101\"/>\n",
       "       <use x=\"16034.933594\" xlink:href=\"#DejaVuSans-32\"/>\n",
       "       <use x=\"16066.720703\" xlink:href=\"#DejaVuSans-116\"/>\n",
       "       <use x=\"16105.929688\" xlink:href=\"#DejaVuSans-104\"/>\n",
       "       <use x=\"16169.308594\" xlink:href=\"#DejaVuSans-105\"/>\n",
       "       <use x=\"16197.091797\" xlink:href=\"#DejaVuSans-115\"/>\n",
       "       <use x=\"16249.191406\" xlink:href=\"#DejaVuSans-32\"/>\n",
       "       <use x=\"16280.978516\" xlink:href=\"#DejaVuSans-101\"/>\n",
       "       <use x=\"16342.501953\" xlink:href=\"#DejaVuSans-100\"/>\n",
       "       <use x=\"16405.978516\" xlink:href=\"#DejaVuSans-105\"/>\n",
       "       <use x=\"16433.761719\" xlink:href=\"#DejaVuSans-116\"/>\n",
       "       <use x=\"16472.970703\" xlink:href=\"#DejaVuSans-32\"/>\n",
       "       <use x=\"16504.757812\" xlink:href=\"#DejaVuSans-115\"/>\n",
       "       <use x=\"16556.857422\" xlink:href=\"#DejaVuSans-104\"/>\n",
       "       <use x=\"16620.236328\" xlink:href=\"#DejaVuSans-111\"/>\n",
       "       <use x=\"16681.417969\" xlink:href=\"#DejaVuSans-117\"/>\n",
       "       <use x=\"16744.796875\" xlink:href=\"#DejaVuSans-108\"/>\n",
       "       <use x=\"16772.580078\" xlink:href=\"#DejaVuSans-100\"/>\n",
       "       <use x=\"16836.056641\" xlink:href=\"#DejaVuSans-32\"/>\n",
       "       <use x=\"16867.84375\" xlink:href=\"#DejaVuSans-110\"/>\n",
       "       <use x=\"16931.222656\" xlink:href=\"#DejaVuSans-111\"/>\n",
       "       <use x=\"16992.404297\" xlink:href=\"#DejaVuSans-116\"/>\n",
       "       <use x=\"17031.613281\" xlink:href=\"#DejaVuSans-32\"/>\n",
       "       <use x=\"17063.400391\" xlink:href=\"#DejaVuSans-104\"/>\n",
       "       <use x=\"17126.779297\" xlink:href=\"#DejaVuSans-97\"/>\n",
       "       <use x=\"17188.058594\" xlink:href=\"#DejaVuSans-118\"/>\n",
       "       <use x=\"17247.238281\" xlink:href=\"#DejaVuSans-101\"/>\n",
       "       <use x=\"17308.761719\" xlink:href=\"#DejaVuSans-32\"/>\n",
       "       <use x=\"17340.548828\" xlink:href=\"#DejaVuSans-98\"/>\n",
       "       <use x=\"17404.025391\" xlink:href=\"#DejaVuSans-101\"/>\n",
       "       <use x=\"17465.548828\" xlink:href=\"#DejaVuSans-101\"/>\n",
       "       <use x=\"17527.072266\" xlink:href=\"#DejaVuSans-110\"/>\n",
       "       <use x=\"17590.451172\" xlink:href=\"#DejaVuSans-32\"/>\n",
       "       <use x=\"17622.238281\" xlink:href=\"#DejaVuSans-114\"/>\n",
       "       <use x=\"17661.101562\" xlink:href=\"#DejaVuSans-101\"/>\n",
       "       <use x=\"17722.625\" xlink:href=\"#DejaVuSans-118\"/>\n",
       "       <use x=\"17781.804688\" xlink:href=\"#DejaVuSans-101\"/>\n",
       "       <use x=\"17843.328125\" xlink:href=\"#DejaVuSans-114\"/>\n",
       "       <use x=\"17884.441406\" xlink:href=\"#DejaVuSans-116\"/>\n",
       "       <use x=\"17923.650391\" xlink:href=\"#DejaVuSans-101\"/>\n",
       "       <use x=\"17985.173828\" xlink:href=\"#DejaVuSans-100\"/>\n",
       "       <use x=\"18048.650391\" xlink:href=\"#DejaVuSans-32\"/>\n",
       "       <use x=\"18080.4375\" xlink:href=\"#DejaVuSans-112\"/>\n",
       "       <use x=\"18143.914062\" xlink:href=\"#DejaVuSans-108\"/>\n",
       "       <use x=\"18171.697266\" xlink:href=\"#DejaVuSans-101\"/>\n",
       "       <use x=\"18233.220703\" xlink:href=\"#DejaVuSans-97\"/>\n",
       "       <use x=\"18294.5\" xlink:href=\"#DejaVuSans-115\"/>\n",
       "       <use x=\"18346.599609\" xlink:href=\"#DejaVuSans-101\"/>\n",
       "       <use x=\"18408.123047\" xlink:href=\"#DejaVuSans-32\"/>\n",
       "       <use x=\"18439.910156\" xlink:href=\"#DejaVuSans-99\"/>\n",
       "       <use x=\"18494.890625\" xlink:href=\"#DejaVuSans-111\"/>\n",
       "       <use x=\"18556.072266\" xlink:href=\"#DejaVuSans-110\"/>\n",
       "       <use x=\"18619.451172\" xlink:href=\"#DejaVuSans-116\"/>\n",
       "       <use x=\"18658.660156\" xlink:href=\"#DejaVuSans-97\"/>\n",
       "       <use x=\"18719.939453\" xlink:href=\"#DejaVuSans-99\"/>\n",
       "       <use x=\"18774.919922\" xlink:href=\"#DejaVuSans-116\"/>\n",
       "       <use x=\"18814.128906\" xlink:href=\"#DejaVuSans-32\"/>\n",
       "       <use x=\"18845.916016\" xlink:href=\"#DejaVuSans-109\"/>\n",
       "       <use x=\"18943.328125\" xlink:href=\"#DejaVuSans-101\"/>\n",
       "       <use x=\"19004.851562\" xlink:href=\"#DejaVuSans-32\"/>\n",
       "       <use x=\"19036.638672\" xlink:href=\"#DejaVuSans-116\"/>\n",
       "       <use x=\"19075.847656\" xlink:href=\"#DejaVuSans-97\"/>\n",
       "       <use x=\"19137.126953\" xlink:href=\"#DejaVuSans-108\"/>\n",
       "       <use x=\"19164.910156\" xlink:href=\"#DejaVuSans-107\"/>\n",
       "      </g>\n",
       "     </g>\n",
       "    </g>\n",
       "    <g id=\"xtick_27\">\n",
       "     <g id=\"line2d_53\">\n",
       "      <path clip-path=\"url(#p7b77b298fc)\" d=\"M 520.763 333.36 \n",
       "L 520.763 7.2 \n",
       "\" style=\"fill:none;stroke:#c0c0c0;stroke-linecap:square;stroke-width:0.8;\"/>\n",
       "     </g>\n",
       "     <g id=\"line2d_54\">\n",
       "      <g>\n",
       "       <use style=\"stroke:#000000;stroke-width:0.8;\" x=\"520.763\" xlink:href=\"#m6d9b36f697\" y=\"333.36\"/>\n",
       "      </g>\n",
       "     </g>\n",
       "     <g id=\"text_27\">\n",
       "      <!--  nov utc -->\n",
       "      <g transform=\"translate(523.522375 380.8475)rotate(-90)scale(0.1 -0.1)\">\n",
       "       <use xlink:href=\"#DejaVuSans-32\"/>\n",
       "       <use x=\"31.787109\" xlink:href=\"#DejaVuSans-110\"/>\n",
       "       <use x=\"95.166016\" xlink:href=\"#DejaVuSans-111\"/>\n",
       "       <use x=\"156.347656\" xlink:href=\"#DejaVuSans-118\"/>\n",
       "       <use x=\"215.527344\" xlink:href=\"#DejaVuSans-32\"/>\n",
       "       <use x=\"247.314453\" xlink:href=\"#DejaVuSans-117\"/>\n",
       "       <use x=\"310.693359\" xlink:href=\"#DejaVuSans-116\"/>\n",
       "       <use x=\"349.902344\" xlink:href=\"#DejaVuSans-99\"/>\n",
       "      </g>\n",
       "     </g>\n",
       "    </g>\n",
       "    <g id=\"xtick_28\">\n",
       "     <g id=\"line2d_55\">\n",
       "      <path clip-path=\"url(#p7b77b298fc)\" d=\"M 538.255163 333.36 \n",
       "L 538.255163 7.2 \n",
       "\" style=\"fill:none;stroke:#c0c0c0;stroke-linecap:square;stroke-width:0.8;\"/>\n",
       "     </g>\n",
       "     <g id=\"line2d_56\">\n",
       "      <g>\n",
       "       <use style=\"stroke:#000000;stroke-width:0.8;\" x=\"538.255163\" xlink:href=\"#m6d9b36f697\" y=\"333.36\"/>\n",
       "      </g>\n",
       "     </g>\n",
       "     <g id=\"text_28\">\n",
       "      <!--  welcome hello and welcome to wikipedia thank you for your contributions i hope you like the place and decide to stay here are some pages that you might find helpful the five pillars of wikipedia tutorial how to edit a page how to write a great article manual of style i hope you enjoy editing here and being a wikipedian please sign your messages on discussion pages using four tildes this will automatically insert your username and the date if you need help check out wikipedia questions ask me on or ask your question on this page and then place helpme before the question again welcome talk -->\n",
       "      <g transform=\"translate(541.014538 3344.880313)rotate(-90)scale(0.1 -0.1)\">\n",
       "       <defs>\n",
       "        <path d=\"M 14.796875 27.296875 \n",
       "Q 14.796875 17.390625 18.875 11.75 \n",
       "Q 22.953125 6.109375 30.078125 6.109375 \n",
       "Q 37.203125 6.109375 41.296875 11.75 \n",
       "Q 45.40625 17.390625 45.40625 27.296875 \n",
       "Q 45.40625 37.203125 41.296875 42.84375 \n",
       "Q 37.203125 48.484375 30.078125 48.484375 \n",
       "Q 22.953125 48.484375 18.875 42.84375 \n",
       "Q 14.796875 37.203125 14.796875 27.296875 \n",
       "z\n",
       "M 45.40625 8.203125 \n",
       "Q 42.578125 3.328125 38.25 0.953125 \n",
       "Q 33.9375 -1.421875 27.875 -1.421875 \n",
       "Q 17.96875 -1.421875 11.734375 6.484375 \n",
       "Q 5.515625 14.40625 5.515625 27.296875 \n",
       "Q 5.515625 40.1875 11.734375 48.09375 \n",
       "Q 17.96875 56 27.875 56 \n",
       "Q 33.9375 56 38.25 53.625 \n",
       "Q 42.578125 51.265625 45.40625 46.390625 \n",
       "L 45.40625 54.6875 \n",
       "L 54.390625 54.6875 \n",
       "L 54.390625 -20.796875 \n",
       "L 45.40625 -20.796875 \n",
       "z\n",
       "\" id=\"DejaVuSans-113\"/>\n",
       "       </defs>\n",
       "       <use xlink:href=\"#DejaVuSans-32\"/>\n",
       "       <use x=\"31.787109\" xlink:href=\"#DejaVuSans-119\"/>\n",
       "       <use x=\"113.574219\" xlink:href=\"#DejaVuSans-101\"/>\n",
       "       <use x=\"175.097656\" xlink:href=\"#DejaVuSans-108\"/>\n",
       "       <use x=\"202.880859\" xlink:href=\"#DejaVuSans-99\"/>\n",
       "       <use x=\"257.861328\" xlink:href=\"#DejaVuSans-111\"/>\n",
       "       <use x=\"319.042969\" xlink:href=\"#DejaVuSans-109\"/>\n",
       "       <use x=\"416.455078\" xlink:href=\"#DejaVuSans-101\"/>\n",
       "       <use x=\"477.978516\" xlink:href=\"#DejaVuSans-32\"/>\n",
       "       <use x=\"509.765625\" xlink:href=\"#DejaVuSans-104\"/>\n",
       "       <use x=\"573.144531\" xlink:href=\"#DejaVuSans-101\"/>\n",
       "       <use x=\"634.667969\" xlink:href=\"#DejaVuSans-108\"/>\n",
       "       <use x=\"662.451172\" xlink:href=\"#DejaVuSans-108\"/>\n",
       "       <use x=\"690.234375\" xlink:href=\"#DejaVuSans-111\"/>\n",
       "       <use x=\"751.416016\" xlink:href=\"#DejaVuSans-32\"/>\n",
       "       <use x=\"783.203125\" xlink:href=\"#DejaVuSans-97\"/>\n",
       "       <use x=\"844.482422\" xlink:href=\"#DejaVuSans-110\"/>\n",
       "       <use x=\"907.861328\" xlink:href=\"#DejaVuSans-100\"/>\n",
       "       <use x=\"971.337891\" xlink:href=\"#DejaVuSans-32\"/>\n",
       "       <use x=\"1003.125\" xlink:href=\"#DejaVuSans-119\"/>\n",
       "       <use x=\"1084.912109\" xlink:href=\"#DejaVuSans-101\"/>\n",
       "       <use x=\"1146.435547\" xlink:href=\"#DejaVuSans-108\"/>\n",
       "       <use x=\"1174.21875\" xlink:href=\"#DejaVuSans-99\"/>\n",
       "       <use x=\"1229.199219\" xlink:href=\"#DejaVuSans-111\"/>\n",
       "       <use x=\"1290.380859\" xlink:href=\"#DejaVuSans-109\"/>\n",
       "       <use x=\"1387.792969\" xlink:href=\"#DejaVuSans-101\"/>\n",
       "       <use x=\"1449.316406\" xlink:href=\"#DejaVuSans-32\"/>\n",
       "       <use x=\"1481.103516\" xlink:href=\"#DejaVuSans-116\"/>\n",
       "       <use x=\"1520.3125\" xlink:href=\"#DejaVuSans-111\"/>\n",
       "       <use x=\"1581.494141\" xlink:href=\"#DejaVuSans-32\"/>\n",
       "       <use x=\"1613.28125\" xlink:href=\"#DejaVuSans-119\"/>\n",
       "       <use x=\"1695.068359\" xlink:href=\"#DejaVuSans-105\"/>\n",
       "       <use x=\"1722.851562\" xlink:href=\"#DejaVuSans-107\"/>\n",
       "       <use x=\"1780.761719\" xlink:href=\"#DejaVuSans-105\"/>\n",
       "       <use x=\"1808.544922\" xlink:href=\"#DejaVuSans-112\"/>\n",
       "       <use x=\"1872.021484\" xlink:href=\"#DejaVuSans-101\"/>\n",
       "       <use x=\"1933.544922\" xlink:href=\"#DejaVuSans-100\"/>\n",
       "       <use x=\"1997.021484\" xlink:href=\"#DejaVuSans-105\"/>\n",
       "       <use x=\"2024.804688\" xlink:href=\"#DejaVuSans-97\"/>\n",
       "       <use x=\"2086.083984\" xlink:href=\"#DejaVuSans-32\"/>\n",
       "       <use x=\"2117.871094\" xlink:href=\"#DejaVuSans-116\"/>\n",
       "       <use x=\"2157.080078\" xlink:href=\"#DejaVuSans-104\"/>\n",
       "       <use x=\"2220.458984\" xlink:href=\"#DejaVuSans-97\"/>\n",
       "       <use x=\"2281.738281\" xlink:href=\"#DejaVuSans-110\"/>\n",
       "       <use x=\"2345.117188\" xlink:href=\"#DejaVuSans-107\"/>\n",
       "       <use x=\"2403.027344\" xlink:href=\"#DejaVuSans-32\"/>\n",
       "       <use x=\"2434.814453\" xlink:href=\"#DejaVuSans-121\"/>\n",
       "       <use x=\"2493.994141\" xlink:href=\"#DejaVuSans-111\"/>\n",
       "       <use x=\"2555.175781\" xlink:href=\"#DejaVuSans-117\"/>\n",
       "       <use x=\"2618.554688\" xlink:href=\"#DejaVuSans-32\"/>\n",
       "       <use x=\"2650.341797\" xlink:href=\"#DejaVuSans-102\"/>\n",
       "       <use x=\"2685.546875\" xlink:href=\"#DejaVuSans-111\"/>\n",
       "       <use x=\"2746.728516\" xlink:href=\"#DejaVuSans-114\"/>\n",
       "       <use x=\"2787.841797\" xlink:href=\"#DejaVuSans-32\"/>\n",
       "       <use x=\"2819.628906\" xlink:href=\"#DejaVuSans-121\"/>\n",
       "       <use x=\"2878.808594\" xlink:href=\"#DejaVuSans-111\"/>\n",
       "       <use x=\"2939.990234\" xlink:href=\"#DejaVuSans-117\"/>\n",
       "       <use x=\"3003.369141\" xlink:href=\"#DejaVuSans-114\"/>\n",
       "       <use x=\"3044.482422\" xlink:href=\"#DejaVuSans-32\"/>\n",
       "       <use x=\"3076.269531\" xlink:href=\"#DejaVuSans-99\"/>\n",
       "       <use x=\"3131.25\" xlink:href=\"#DejaVuSans-111\"/>\n",
       "       <use x=\"3192.431641\" xlink:href=\"#DejaVuSans-110\"/>\n",
       "       <use x=\"3255.810547\" xlink:href=\"#DejaVuSans-116\"/>\n",
       "       <use x=\"3295.019531\" xlink:href=\"#DejaVuSans-114\"/>\n",
       "       <use x=\"3336.132812\" xlink:href=\"#DejaVuSans-105\"/>\n",
       "       <use x=\"3363.916016\" xlink:href=\"#DejaVuSans-98\"/>\n",
       "       <use x=\"3427.392578\" xlink:href=\"#DejaVuSans-117\"/>\n",
       "       <use x=\"3490.771484\" xlink:href=\"#DejaVuSans-116\"/>\n",
       "       <use x=\"3529.980469\" xlink:href=\"#DejaVuSans-105\"/>\n",
       "       <use x=\"3557.763672\" xlink:href=\"#DejaVuSans-111\"/>\n",
       "       <use x=\"3618.945312\" xlink:href=\"#DejaVuSans-110\"/>\n",
       "       <use x=\"3682.324219\" xlink:href=\"#DejaVuSans-115\"/>\n",
       "       <use x=\"3734.423828\" xlink:href=\"#DejaVuSans-32\"/>\n",
       "       <use x=\"3766.210938\" xlink:href=\"#DejaVuSans-105\"/>\n",
       "       <use x=\"3793.994141\" xlink:href=\"#DejaVuSans-32\"/>\n",
       "       <use x=\"3825.78125\" xlink:href=\"#DejaVuSans-104\"/>\n",
       "       <use x=\"3889.160156\" xlink:href=\"#DejaVuSans-111\"/>\n",
       "       <use x=\"3950.341797\" xlink:href=\"#DejaVuSans-112\"/>\n",
       "       <use x=\"4013.818359\" xlink:href=\"#DejaVuSans-101\"/>\n",
       "       <use x=\"4075.341797\" xlink:href=\"#DejaVuSans-32\"/>\n",
       "       <use x=\"4107.128906\" xlink:href=\"#DejaVuSans-121\"/>\n",
       "       <use x=\"4166.308594\" xlink:href=\"#DejaVuSans-111\"/>\n",
       "       <use x=\"4227.490234\" xlink:href=\"#DejaVuSans-117\"/>\n",
       "       <use x=\"4290.869141\" xlink:href=\"#DejaVuSans-32\"/>\n",
       "       <use x=\"4322.65625\" xlink:href=\"#DejaVuSans-108\"/>\n",
       "       <use x=\"4350.439453\" xlink:href=\"#DejaVuSans-105\"/>\n",
       "       <use x=\"4378.222656\" xlink:href=\"#DejaVuSans-107\"/>\n",
       "       <use x=\"4432.507812\" xlink:href=\"#DejaVuSans-101\"/>\n",
       "       <use x=\"4494.03125\" xlink:href=\"#DejaVuSans-32\"/>\n",
       "       <use x=\"4525.818359\" xlink:href=\"#DejaVuSans-116\"/>\n",
       "       <use x=\"4565.027344\" xlink:href=\"#DejaVuSans-104\"/>\n",
       "       <use x=\"4628.40625\" xlink:href=\"#DejaVuSans-101\"/>\n",
       "       <use x=\"4689.929688\" xlink:href=\"#DejaVuSans-32\"/>\n",
       "       <use x=\"4721.716797\" xlink:href=\"#DejaVuSans-112\"/>\n",
       "       <use x=\"4785.193359\" xlink:href=\"#DejaVuSans-108\"/>\n",
       "       <use x=\"4812.976562\" xlink:href=\"#DejaVuSans-97\"/>\n",
       "       <use x=\"4874.255859\" xlink:href=\"#DejaVuSans-99\"/>\n",
       "       <use x=\"4929.236328\" xlink:href=\"#DejaVuSans-101\"/>\n",
       "       <use x=\"4990.759766\" xlink:href=\"#DejaVuSans-32\"/>\n",
       "       <use x=\"5022.546875\" xlink:href=\"#DejaVuSans-97\"/>\n",
       "       <use x=\"5083.826172\" xlink:href=\"#DejaVuSans-110\"/>\n",
       "       <use x=\"5147.205078\" xlink:href=\"#DejaVuSans-100\"/>\n",
       "       <use x=\"5210.681641\" xlink:href=\"#DejaVuSans-32\"/>\n",
       "       <use x=\"5242.46875\" xlink:href=\"#DejaVuSans-100\"/>\n",
       "       <use x=\"5305.945312\" xlink:href=\"#DejaVuSans-101\"/>\n",
       "       <use x=\"5367.46875\" xlink:href=\"#DejaVuSans-99\"/>\n",
       "       <use x=\"5422.449219\" xlink:href=\"#DejaVuSans-105\"/>\n",
       "       <use x=\"5450.232422\" xlink:href=\"#DejaVuSans-100\"/>\n",
       "       <use x=\"5513.708984\" xlink:href=\"#DejaVuSans-101\"/>\n",
       "       <use x=\"5575.232422\" xlink:href=\"#DejaVuSans-32\"/>\n",
       "       <use x=\"5607.019531\" xlink:href=\"#DejaVuSans-116\"/>\n",
       "       <use x=\"5646.228516\" xlink:href=\"#DejaVuSans-111\"/>\n",
       "       <use x=\"5707.410156\" xlink:href=\"#DejaVuSans-32\"/>\n",
       "       <use x=\"5739.197266\" xlink:href=\"#DejaVuSans-115\"/>\n",
       "       <use x=\"5791.296875\" xlink:href=\"#DejaVuSans-116\"/>\n",
       "       <use x=\"5830.505859\" xlink:href=\"#DejaVuSans-97\"/>\n",
       "       <use x=\"5891.785156\" xlink:href=\"#DejaVuSans-121\"/>\n",
       "       <use x=\"5950.964844\" xlink:href=\"#DejaVuSans-32\"/>\n",
       "       <use x=\"5982.751953\" xlink:href=\"#DejaVuSans-104\"/>\n",
       "       <use x=\"6046.130859\" xlink:href=\"#DejaVuSans-101\"/>\n",
       "       <use x=\"6107.654297\" xlink:href=\"#DejaVuSans-114\"/>\n",
       "       <use x=\"6146.517578\" xlink:href=\"#DejaVuSans-101\"/>\n",
       "       <use x=\"6208.041016\" xlink:href=\"#DejaVuSans-32\"/>\n",
       "       <use x=\"6239.828125\" xlink:href=\"#DejaVuSans-97\"/>\n",
       "       <use x=\"6301.107422\" xlink:href=\"#DejaVuSans-114\"/>\n",
       "       <use x=\"6339.970703\" xlink:href=\"#DejaVuSans-101\"/>\n",
       "       <use x=\"6401.494141\" xlink:href=\"#DejaVuSans-32\"/>\n",
       "       <use x=\"6433.28125\" xlink:href=\"#DejaVuSans-115\"/>\n",
       "       <use x=\"6485.380859\" xlink:href=\"#DejaVuSans-111\"/>\n",
       "       <use x=\"6546.5625\" xlink:href=\"#DejaVuSans-109\"/>\n",
       "       <use x=\"6643.974609\" xlink:href=\"#DejaVuSans-101\"/>\n",
       "       <use x=\"6705.498047\" xlink:href=\"#DejaVuSans-32\"/>\n",
       "       <use x=\"6737.285156\" xlink:href=\"#DejaVuSans-112\"/>\n",
       "       <use x=\"6800.761719\" xlink:href=\"#DejaVuSans-97\"/>\n",
       "       <use x=\"6862.041016\" xlink:href=\"#DejaVuSans-103\"/>\n",
       "       <use x=\"6925.517578\" xlink:href=\"#DejaVuSans-101\"/>\n",
       "       <use x=\"6987.041016\" xlink:href=\"#DejaVuSans-115\"/>\n",
       "       <use x=\"7039.140625\" xlink:href=\"#DejaVuSans-32\"/>\n",
       "       <use x=\"7070.927734\" xlink:href=\"#DejaVuSans-116\"/>\n",
       "       <use x=\"7110.136719\" xlink:href=\"#DejaVuSans-104\"/>\n",
       "       <use x=\"7173.515625\" xlink:href=\"#DejaVuSans-97\"/>\n",
       "       <use x=\"7234.794922\" xlink:href=\"#DejaVuSans-116\"/>\n",
       "       <use x=\"7274.003906\" xlink:href=\"#DejaVuSans-32\"/>\n",
       "       <use x=\"7305.791016\" xlink:href=\"#DejaVuSans-121\"/>\n",
       "       <use x=\"7364.970703\" xlink:href=\"#DejaVuSans-111\"/>\n",
       "       <use x=\"7426.152344\" xlink:href=\"#DejaVuSans-117\"/>\n",
       "       <use x=\"7489.53125\" xlink:href=\"#DejaVuSans-32\"/>\n",
       "       <use x=\"7521.318359\" xlink:href=\"#DejaVuSans-109\"/>\n",
       "       <use x=\"7618.730469\" xlink:href=\"#DejaVuSans-105\"/>\n",
       "       <use x=\"7646.513672\" xlink:href=\"#DejaVuSans-103\"/>\n",
       "       <use x=\"7709.990234\" xlink:href=\"#DejaVuSans-104\"/>\n",
       "       <use x=\"7773.369141\" xlink:href=\"#DejaVuSans-116\"/>\n",
       "       <use x=\"7812.578125\" xlink:href=\"#DejaVuSans-32\"/>\n",
       "       <use x=\"7844.365234\" xlink:href=\"#DejaVuSans-102\"/>\n",
       "       <use x=\"7879.570312\" xlink:href=\"#DejaVuSans-105\"/>\n",
       "       <use x=\"7907.353516\" xlink:href=\"#DejaVuSans-110\"/>\n",
       "       <use x=\"7970.732422\" xlink:href=\"#DejaVuSans-100\"/>\n",
       "       <use x=\"8034.208984\" xlink:href=\"#DejaVuSans-32\"/>\n",
       "       <use x=\"8065.996094\" xlink:href=\"#DejaVuSans-104\"/>\n",
       "       <use x=\"8129.375\" xlink:href=\"#DejaVuSans-101\"/>\n",
       "       <use x=\"8190.898438\" xlink:href=\"#DejaVuSans-108\"/>\n",
       "       <use x=\"8218.681641\" xlink:href=\"#DejaVuSans-112\"/>\n",
       "       <use x=\"8282.158203\" xlink:href=\"#DejaVuSans-102\"/>\n",
       "       <use x=\"8317.363281\" xlink:href=\"#DejaVuSans-117\"/>\n",
       "       <use x=\"8380.742188\" xlink:href=\"#DejaVuSans-108\"/>\n",
       "       <use x=\"8408.525391\" xlink:href=\"#DejaVuSans-32\"/>\n",
       "       <use x=\"8440.3125\" xlink:href=\"#DejaVuSans-116\"/>\n",
       "       <use x=\"8479.521484\" xlink:href=\"#DejaVuSans-104\"/>\n",
       "       <use x=\"8542.900391\" xlink:href=\"#DejaVuSans-101\"/>\n",
       "       <use x=\"8604.423828\" xlink:href=\"#DejaVuSans-32\"/>\n",
       "       <use x=\"8636.210938\" xlink:href=\"#DejaVuSans-102\"/>\n",
       "       <use x=\"8671.416016\" xlink:href=\"#DejaVuSans-105\"/>\n",
       "       <use x=\"8699.199219\" xlink:href=\"#DejaVuSans-118\"/>\n",
       "       <use x=\"8758.378906\" xlink:href=\"#DejaVuSans-101\"/>\n",
       "       <use x=\"8819.902344\" xlink:href=\"#DejaVuSans-32\"/>\n",
       "       <use x=\"8851.689453\" xlink:href=\"#DejaVuSans-112\"/>\n",
       "       <use x=\"8915.166016\" xlink:href=\"#DejaVuSans-105\"/>\n",
       "       <use x=\"8942.949219\" xlink:href=\"#DejaVuSans-108\"/>\n",
       "       <use x=\"8970.732422\" xlink:href=\"#DejaVuSans-108\"/>\n",
       "       <use x=\"8998.515625\" xlink:href=\"#DejaVuSans-97\"/>\n",
       "       <use x=\"9059.794922\" xlink:href=\"#DejaVuSans-114\"/>\n",
       "       <use x=\"9100.908203\" xlink:href=\"#DejaVuSans-115\"/>\n",
       "       <use x=\"9153.007812\" xlink:href=\"#DejaVuSans-32\"/>\n",
       "       <use x=\"9184.794922\" xlink:href=\"#DejaVuSans-111\"/>\n",
       "       <use x=\"9245.976562\" xlink:href=\"#DejaVuSans-102\"/>\n",
       "       <use x=\"9281.181641\" xlink:href=\"#DejaVuSans-32\"/>\n",
       "       <use x=\"9312.96875\" xlink:href=\"#DejaVuSans-119\"/>\n",
       "       <use x=\"9394.755859\" xlink:href=\"#DejaVuSans-105\"/>\n",
       "       <use x=\"9422.539062\" xlink:href=\"#DejaVuSans-107\"/>\n",
       "       <use x=\"9480.449219\" xlink:href=\"#DejaVuSans-105\"/>\n",
       "       <use x=\"9508.232422\" xlink:href=\"#DejaVuSans-112\"/>\n",
       "       <use x=\"9571.708984\" xlink:href=\"#DejaVuSans-101\"/>\n",
       "       <use x=\"9633.232422\" xlink:href=\"#DejaVuSans-100\"/>\n",
       "       <use x=\"9696.708984\" xlink:href=\"#DejaVuSans-105\"/>\n",
       "       <use x=\"9724.492188\" xlink:href=\"#DejaVuSans-97\"/>\n",
       "       <use x=\"9785.771484\" xlink:href=\"#DejaVuSans-32\"/>\n",
       "       <use x=\"9817.558594\" xlink:href=\"#DejaVuSans-116\"/>\n",
       "       <use x=\"9856.767578\" xlink:href=\"#DejaVuSans-117\"/>\n",
       "       <use x=\"9920.146484\" xlink:href=\"#DejaVuSans-116\"/>\n",
       "       <use x=\"9959.355469\" xlink:href=\"#DejaVuSans-111\"/>\n",
       "       <use x=\"10020.537109\" xlink:href=\"#DejaVuSans-114\"/>\n",
       "       <use x=\"10061.650391\" xlink:href=\"#DejaVuSans-105\"/>\n",
       "       <use x=\"10089.433594\" xlink:href=\"#DejaVuSans-97\"/>\n",
       "       <use x=\"10150.712891\" xlink:href=\"#DejaVuSans-108\"/>\n",
       "       <use x=\"10178.496094\" xlink:href=\"#DejaVuSans-32\"/>\n",
       "       <use x=\"10210.283203\" xlink:href=\"#DejaVuSans-104\"/>\n",
       "       <use x=\"10273.662109\" xlink:href=\"#DejaVuSans-111\"/>\n",
       "       <use x=\"10334.84375\" xlink:href=\"#DejaVuSans-119\"/>\n",
       "       <use x=\"10416.630859\" xlink:href=\"#DejaVuSans-32\"/>\n",
       "       <use x=\"10448.417969\" xlink:href=\"#DejaVuSans-116\"/>\n",
       "       <use x=\"10487.626953\" xlink:href=\"#DejaVuSans-111\"/>\n",
       "       <use x=\"10548.808594\" xlink:href=\"#DejaVuSans-32\"/>\n",
       "       <use x=\"10580.595703\" xlink:href=\"#DejaVuSans-101\"/>\n",
       "       <use x=\"10642.119141\" xlink:href=\"#DejaVuSans-100\"/>\n",
       "       <use x=\"10705.595703\" xlink:href=\"#DejaVuSans-105\"/>\n",
       "       <use x=\"10733.378906\" xlink:href=\"#DejaVuSans-116\"/>\n",
       "       <use x=\"10772.587891\" xlink:href=\"#DejaVuSans-32\"/>\n",
       "       <use x=\"10804.375\" xlink:href=\"#DejaVuSans-97\"/>\n",
       "       <use x=\"10865.654297\" xlink:href=\"#DejaVuSans-32\"/>\n",
       "       <use x=\"10897.441406\" xlink:href=\"#DejaVuSans-112\"/>\n",
       "       <use x=\"10960.917969\" xlink:href=\"#DejaVuSans-97\"/>\n",
       "       <use x=\"11022.197266\" xlink:href=\"#DejaVuSans-103\"/>\n",
       "       <use x=\"11085.673828\" xlink:href=\"#DejaVuSans-101\"/>\n",
       "       <use x=\"11147.197266\" xlink:href=\"#DejaVuSans-32\"/>\n",
       "       <use x=\"11178.984375\" xlink:href=\"#DejaVuSans-104\"/>\n",
       "       <use x=\"11242.363281\" xlink:href=\"#DejaVuSans-111\"/>\n",
       "       <use x=\"11303.544922\" xlink:href=\"#DejaVuSans-119\"/>\n",
       "       <use x=\"11385.332031\" xlink:href=\"#DejaVuSans-32\"/>\n",
       "       <use x=\"11417.119141\" xlink:href=\"#DejaVuSans-116\"/>\n",
       "       <use x=\"11456.328125\" xlink:href=\"#DejaVuSans-111\"/>\n",
       "       <use x=\"11517.509766\" xlink:href=\"#DejaVuSans-32\"/>\n",
       "       <use x=\"11549.296875\" xlink:href=\"#DejaVuSans-119\"/>\n",
       "       <use x=\"11631.083984\" xlink:href=\"#DejaVuSans-114\"/>\n",
       "       <use x=\"11672.197266\" xlink:href=\"#DejaVuSans-105\"/>\n",
       "       <use x=\"11699.980469\" xlink:href=\"#DejaVuSans-116\"/>\n",
       "       <use x=\"11739.189453\" xlink:href=\"#DejaVuSans-101\"/>\n",
       "       <use x=\"11800.712891\" xlink:href=\"#DejaVuSans-32\"/>\n",
       "       <use x=\"11832.5\" xlink:href=\"#DejaVuSans-97\"/>\n",
       "       <use x=\"11893.779297\" xlink:href=\"#DejaVuSans-32\"/>\n",
       "       <use x=\"11925.566406\" xlink:href=\"#DejaVuSans-103\"/>\n",
       "       <use x=\"11989.042969\" xlink:href=\"#DejaVuSans-114\"/>\n",
       "       <use x=\"12027.90625\" xlink:href=\"#DejaVuSans-101\"/>\n",
       "       <use x=\"12089.429688\" xlink:href=\"#DejaVuSans-97\"/>\n",
       "       <use x=\"12150.708984\" xlink:href=\"#DejaVuSans-116\"/>\n",
       "       <use x=\"12189.917969\" xlink:href=\"#DejaVuSans-32\"/>\n",
       "       <use x=\"12221.705078\" xlink:href=\"#DejaVuSans-97\"/>\n",
       "       <use x=\"12282.984375\" xlink:href=\"#DejaVuSans-114\"/>\n",
       "       <use x=\"12324.097656\" xlink:href=\"#DejaVuSans-116\"/>\n",
       "       <use x=\"12363.306641\" xlink:href=\"#DejaVuSans-105\"/>\n",
       "       <use x=\"12391.089844\" xlink:href=\"#DejaVuSans-99\"/>\n",
       "       <use x=\"12446.070312\" xlink:href=\"#DejaVuSans-108\"/>\n",
       "       <use x=\"12473.853516\" xlink:href=\"#DejaVuSans-101\"/>\n",
       "       <use x=\"12535.376953\" xlink:href=\"#DejaVuSans-32\"/>\n",
       "       <use x=\"12567.164062\" xlink:href=\"#DejaVuSans-109\"/>\n",
       "       <use x=\"12664.576172\" xlink:href=\"#DejaVuSans-97\"/>\n",
       "       <use x=\"12725.855469\" xlink:href=\"#DejaVuSans-110\"/>\n",
       "       <use x=\"12789.234375\" xlink:href=\"#DejaVuSans-117\"/>\n",
       "       <use x=\"12852.613281\" xlink:href=\"#DejaVuSans-97\"/>\n",
       "       <use x=\"12913.892578\" xlink:href=\"#DejaVuSans-108\"/>\n",
       "       <use x=\"12941.675781\" xlink:href=\"#DejaVuSans-32\"/>\n",
       "       <use x=\"12973.462891\" xlink:href=\"#DejaVuSans-111\"/>\n",
       "       <use x=\"13034.644531\" xlink:href=\"#DejaVuSans-102\"/>\n",
       "       <use x=\"13069.849609\" xlink:href=\"#DejaVuSans-32\"/>\n",
       "       <use x=\"13101.636719\" xlink:href=\"#DejaVuSans-115\"/>\n",
       "       <use x=\"13153.736328\" xlink:href=\"#DejaVuSans-116\"/>\n",
       "       <use x=\"13192.945312\" xlink:href=\"#DejaVuSans-121\"/>\n",
       "       <use x=\"13252.125\" xlink:href=\"#DejaVuSans-108\"/>\n",
       "       <use x=\"13279.908203\" xlink:href=\"#DejaVuSans-101\"/>\n",
       "       <use x=\"13341.431641\" xlink:href=\"#DejaVuSans-32\"/>\n",
       "       <use x=\"13373.21875\" xlink:href=\"#DejaVuSans-105\"/>\n",
       "       <use x=\"13401.001953\" xlink:href=\"#DejaVuSans-32\"/>\n",
       "       <use x=\"13432.789062\" xlink:href=\"#DejaVuSans-104\"/>\n",
       "       <use x=\"13496.167969\" xlink:href=\"#DejaVuSans-111\"/>\n",
       "       <use x=\"13557.349609\" xlink:href=\"#DejaVuSans-112\"/>\n",
       "       <use x=\"13620.826172\" xlink:href=\"#DejaVuSans-101\"/>\n",
       "       <use x=\"13682.349609\" xlink:href=\"#DejaVuSans-32\"/>\n",
       "       <use x=\"13714.136719\" xlink:href=\"#DejaVuSans-121\"/>\n",
       "       <use x=\"13773.316406\" xlink:href=\"#DejaVuSans-111\"/>\n",
       "       <use x=\"13834.498047\" xlink:href=\"#DejaVuSans-117\"/>\n",
       "       <use x=\"13897.876953\" xlink:href=\"#DejaVuSans-32\"/>\n",
       "       <use x=\"13929.664062\" xlink:href=\"#DejaVuSans-101\"/>\n",
       "       <use x=\"13991.1875\" xlink:href=\"#DejaVuSans-110\"/>\n",
       "       <use x=\"14054.566406\" xlink:href=\"#DejaVuSans-106\"/>\n",
       "       <use x=\"14082.349609\" xlink:href=\"#DejaVuSans-111\"/>\n",
       "       <use x=\"14143.53125\" xlink:href=\"#DejaVuSans-121\"/>\n",
       "       <use x=\"14202.710938\" xlink:href=\"#DejaVuSans-32\"/>\n",
       "       <use x=\"14234.498047\" xlink:href=\"#DejaVuSans-101\"/>\n",
       "       <use x=\"14296.021484\" xlink:href=\"#DejaVuSans-100\"/>\n",
       "       <use x=\"14359.498047\" xlink:href=\"#DejaVuSans-105\"/>\n",
       "       <use x=\"14387.28125\" xlink:href=\"#DejaVuSans-116\"/>\n",
       "       <use x=\"14426.490234\" xlink:href=\"#DejaVuSans-105\"/>\n",
       "       <use x=\"14454.273438\" xlink:href=\"#DejaVuSans-110\"/>\n",
       "       <use x=\"14517.652344\" xlink:href=\"#DejaVuSans-103\"/>\n",
       "       <use x=\"14581.128906\" xlink:href=\"#DejaVuSans-32\"/>\n",
       "       <use x=\"14612.916016\" xlink:href=\"#DejaVuSans-104\"/>\n",
       "       <use x=\"14676.294922\" xlink:href=\"#DejaVuSans-101\"/>\n",
       "       <use x=\"14737.818359\" xlink:href=\"#DejaVuSans-114\"/>\n",
       "       <use x=\"14776.681641\" xlink:href=\"#DejaVuSans-101\"/>\n",
       "       <use x=\"14838.205078\" xlink:href=\"#DejaVuSans-32\"/>\n",
       "       <use x=\"14869.992188\" xlink:href=\"#DejaVuSans-97\"/>\n",
       "       <use x=\"14931.271484\" xlink:href=\"#DejaVuSans-110\"/>\n",
       "       <use x=\"14994.650391\" xlink:href=\"#DejaVuSans-100\"/>\n",
       "       <use x=\"15058.126953\" xlink:href=\"#DejaVuSans-32\"/>\n",
       "       <use x=\"15089.914062\" xlink:href=\"#DejaVuSans-98\"/>\n",
       "       <use x=\"15153.390625\" xlink:href=\"#DejaVuSans-101\"/>\n",
       "       <use x=\"15214.914062\" xlink:href=\"#DejaVuSans-105\"/>\n",
       "       <use x=\"15242.697266\" xlink:href=\"#DejaVuSans-110\"/>\n",
       "       <use x=\"15306.076172\" xlink:href=\"#DejaVuSans-103\"/>\n",
       "       <use x=\"15369.552734\" xlink:href=\"#DejaVuSans-32\"/>\n",
       "       <use x=\"15401.339844\" xlink:href=\"#DejaVuSans-97\"/>\n",
       "       <use x=\"15462.619141\" xlink:href=\"#DejaVuSans-32\"/>\n",
       "       <use x=\"15494.40625\" xlink:href=\"#DejaVuSans-119\"/>\n",
       "       <use x=\"15576.193359\" xlink:href=\"#DejaVuSans-105\"/>\n",
       "       <use x=\"15603.976562\" xlink:href=\"#DejaVuSans-107\"/>\n",
       "       <use x=\"15661.886719\" xlink:href=\"#DejaVuSans-105\"/>\n",
       "       <use x=\"15689.669922\" xlink:href=\"#DejaVuSans-112\"/>\n",
       "       <use x=\"15753.146484\" xlink:href=\"#DejaVuSans-101\"/>\n",
       "       <use x=\"15814.669922\" xlink:href=\"#DejaVuSans-100\"/>\n",
       "       <use x=\"15878.146484\" xlink:href=\"#DejaVuSans-105\"/>\n",
       "       <use x=\"15905.929688\" xlink:href=\"#DejaVuSans-97\"/>\n",
       "       <use x=\"15967.208984\" xlink:href=\"#DejaVuSans-110\"/>\n",
       "       <use x=\"16030.587891\" xlink:href=\"#DejaVuSans-32\"/>\n",
       "       <use x=\"16062.375\" xlink:href=\"#DejaVuSans-112\"/>\n",
       "       <use x=\"16125.851562\" xlink:href=\"#DejaVuSans-108\"/>\n",
       "       <use x=\"16153.634766\" xlink:href=\"#DejaVuSans-101\"/>\n",
       "       <use x=\"16215.158203\" xlink:href=\"#DejaVuSans-97\"/>\n",
       "       <use x=\"16276.4375\" xlink:href=\"#DejaVuSans-115\"/>\n",
       "       <use x=\"16328.537109\" xlink:href=\"#DejaVuSans-101\"/>\n",
       "       <use x=\"16390.060547\" xlink:href=\"#DejaVuSans-32\"/>\n",
       "       <use x=\"16421.847656\" xlink:href=\"#DejaVuSans-115\"/>\n",
       "       <use x=\"16473.947266\" xlink:href=\"#DejaVuSans-105\"/>\n",
       "       <use x=\"16501.730469\" xlink:href=\"#DejaVuSans-103\"/>\n",
       "       <use x=\"16565.207031\" xlink:href=\"#DejaVuSans-110\"/>\n",
       "       <use x=\"16628.585938\" xlink:href=\"#DejaVuSans-32\"/>\n",
       "       <use x=\"16660.373047\" xlink:href=\"#DejaVuSans-121\"/>\n",
       "       <use x=\"16719.552734\" xlink:href=\"#DejaVuSans-111\"/>\n",
       "       <use x=\"16780.734375\" xlink:href=\"#DejaVuSans-117\"/>\n",
       "       <use x=\"16844.113281\" xlink:href=\"#DejaVuSans-114\"/>\n",
       "       <use x=\"16885.226562\" xlink:href=\"#DejaVuSans-32\"/>\n",
       "       <use x=\"16917.013672\" xlink:href=\"#DejaVuSans-109\"/>\n",
       "       <use x=\"17014.425781\" xlink:href=\"#DejaVuSans-101\"/>\n",
       "       <use x=\"17075.949219\" xlink:href=\"#DejaVuSans-115\"/>\n",
       "       <use x=\"17128.048828\" xlink:href=\"#DejaVuSans-115\"/>\n",
       "       <use x=\"17180.148438\" xlink:href=\"#DejaVuSans-97\"/>\n",
       "       <use x=\"17241.427734\" xlink:href=\"#DejaVuSans-103\"/>\n",
       "       <use x=\"17304.904297\" xlink:href=\"#DejaVuSans-101\"/>\n",
       "       <use x=\"17366.427734\" xlink:href=\"#DejaVuSans-115\"/>\n",
       "       <use x=\"17418.527344\" xlink:href=\"#DejaVuSans-32\"/>\n",
       "       <use x=\"17450.314453\" xlink:href=\"#DejaVuSans-111\"/>\n",
       "       <use x=\"17511.496094\" xlink:href=\"#DejaVuSans-110\"/>\n",
       "       <use x=\"17574.875\" xlink:href=\"#DejaVuSans-32\"/>\n",
       "       <use x=\"17606.662109\" xlink:href=\"#DejaVuSans-100\"/>\n",
       "       <use x=\"17670.138672\" xlink:href=\"#DejaVuSans-105\"/>\n",
       "       <use x=\"17697.921875\" xlink:href=\"#DejaVuSans-115\"/>\n",
       "       <use x=\"17750.021484\" xlink:href=\"#DejaVuSans-99\"/>\n",
       "       <use x=\"17805.001953\" xlink:href=\"#DejaVuSans-117\"/>\n",
       "       <use x=\"17868.380859\" xlink:href=\"#DejaVuSans-115\"/>\n",
       "       <use x=\"17920.480469\" xlink:href=\"#DejaVuSans-115\"/>\n",
       "       <use x=\"17972.580078\" xlink:href=\"#DejaVuSans-105\"/>\n",
       "       <use x=\"18000.363281\" xlink:href=\"#DejaVuSans-111\"/>\n",
       "       <use x=\"18061.544922\" xlink:href=\"#DejaVuSans-110\"/>\n",
       "       <use x=\"18124.923828\" xlink:href=\"#DejaVuSans-32\"/>\n",
       "       <use x=\"18156.710938\" xlink:href=\"#DejaVuSans-112\"/>\n",
       "       <use x=\"18220.1875\" xlink:href=\"#DejaVuSans-97\"/>\n",
       "       <use x=\"18281.466797\" xlink:href=\"#DejaVuSans-103\"/>\n",
       "       <use x=\"18344.943359\" xlink:href=\"#DejaVuSans-101\"/>\n",
       "       <use x=\"18406.466797\" xlink:href=\"#DejaVuSans-115\"/>\n",
       "       <use x=\"18458.566406\" xlink:href=\"#DejaVuSans-32\"/>\n",
       "       <use x=\"18490.353516\" xlink:href=\"#DejaVuSans-117\"/>\n",
       "       <use x=\"18553.732422\" xlink:href=\"#DejaVuSans-115\"/>\n",
       "       <use x=\"18605.832031\" xlink:href=\"#DejaVuSans-105\"/>\n",
       "       <use x=\"18633.615234\" xlink:href=\"#DejaVuSans-110\"/>\n",
       "       <use x=\"18696.994141\" xlink:href=\"#DejaVuSans-103\"/>\n",
       "       <use x=\"18760.470703\" xlink:href=\"#DejaVuSans-32\"/>\n",
       "       <use x=\"18792.257812\" xlink:href=\"#DejaVuSans-102\"/>\n",
       "       <use x=\"18827.462891\" xlink:href=\"#DejaVuSans-111\"/>\n",
       "       <use x=\"18888.644531\" xlink:href=\"#DejaVuSans-117\"/>\n",
       "       <use x=\"18952.023438\" xlink:href=\"#DejaVuSans-114\"/>\n",
       "       <use x=\"18993.136719\" xlink:href=\"#DejaVuSans-32\"/>\n",
       "       <use x=\"19024.923828\" xlink:href=\"#DejaVuSans-116\"/>\n",
       "       <use x=\"19064.132812\" xlink:href=\"#DejaVuSans-105\"/>\n",
       "       <use x=\"19091.916016\" xlink:href=\"#DejaVuSans-108\"/>\n",
       "       <use x=\"19119.699219\" xlink:href=\"#DejaVuSans-100\"/>\n",
       "       <use x=\"19183.175781\" xlink:href=\"#DejaVuSans-101\"/>\n",
       "       <use x=\"19244.699219\" xlink:href=\"#DejaVuSans-115\"/>\n",
       "       <use x=\"19296.798828\" xlink:href=\"#DejaVuSans-32\"/>\n",
       "       <use x=\"19328.585938\" xlink:href=\"#DejaVuSans-116\"/>\n",
       "       <use x=\"19367.794922\" xlink:href=\"#DejaVuSans-104\"/>\n",
       "       <use x=\"19431.173828\" xlink:href=\"#DejaVuSans-105\"/>\n",
       "       <use x=\"19458.957031\" xlink:href=\"#DejaVuSans-115\"/>\n",
       "       <use x=\"19511.056641\" xlink:href=\"#DejaVuSans-32\"/>\n",
       "       <use x=\"19542.84375\" xlink:href=\"#DejaVuSans-119\"/>\n",
       "       <use x=\"19624.630859\" xlink:href=\"#DejaVuSans-105\"/>\n",
       "       <use x=\"19652.414062\" xlink:href=\"#DejaVuSans-108\"/>\n",
       "       <use x=\"19680.197266\" xlink:href=\"#DejaVuSans-108\"/>\n",
       "       <use x=\"19707.980469\" xlink:href=\"#DejaVuSans-32\"/>\n",
       "       <use x=\"19739.767578\" xlink:href=\"#DejaVuSans-97\"/>\n",
       "       <use x=\"19801.046875\" xlink:href=\"#DejaVuSans-117\"/>\n",
       "       <use x=\"19864.425781\" xlink:href=\"#DejaVuSans-116\"/>\n",
       "       <use x=\"19903.634766\" xlink:href=\"#DejaVuSans-111\"/>\n",
       "       <use x=\"19964.816406\" xlink:href=\"#DejaVuSans-109\"/>\n",
       "       <use x=\"20062.228516\" xlink:href=\"#DejaVuSans-97\"/>\n",
       "       <use x=\"20123.507812\" xlink:href=\"#DejaVuSans-116\"/>\n",
       "       <use x=\"20162.716797\" xlink:href=\"#DejaVuSans-105\"/>\n",
       "       <use x=\"20190.5\" xlink:href=\"#DejaVuSans-99\"/>\n",
       "       <use x=\"20245.480469\" xlink:href=\"#DejaVuSans-97\"/>\n",
       "       <use x=\"20306.759766\" xlink:href=\"#DejaVuSans-108\"/>\n",
       "       <use x=\"20334.542969\" xlink:href=\"#DejaVuSans-108\"/>\n",
       "       <use x=\"20362.326172\" xlink:href=\"#DejaVuSans-121\"/>\n",
       "       <use x=\"20421.505859\" xlink:href=\"#DejaVuSans-32\"/>\n",
       "       <use x=\"20453.292969\" xlink:href=\"#DejaVuSans-105\"/>\n",
       "       <use x=\"20481.076172\" xlink:href=\"#DejaVuSans-110\"/>\n",
       "       <use x=\"20544.455078\" xlink:href=\"#DejaVuSans-115\"/>\n",
       "       <use x=\"20596.554688\" xlink:href=\"#DejaVuSans-101\"/>\n",
       "       <use x=\"20658.078125\" xlink:href=\"#DejaVuSans-114\"/>\n",
       "       <use x=\"20699.191406\" xlink:href=\"#DejaVuSans-116\"/>\n",
       "       <use x=\"20738.400391\" xlink:href=\"#DejaVuSans-32\"/>\n",
       "       <use x=\"20770.1875\" xlink:href=\"#DejaVuSans-121\"/>\n",
       "       <use x=\"20829.367188\" xlink:href=\"#DejaVuSans-111\"/>\n",
       "       <use x=\"20890.548828\" xlink:href=\"#DejaVuSans-117\"/>\n",
       "       <use x=\"20953.927734\" xlink:href=\"#DejaVuSans-114\"/>\n",
       "       <use x=\"20995.041016\" xlink:href=\"#DejaVuSans-32\"/>\n",
       "       <use x=\"21026.828125\" xlink:href=\"#DejaVuSans-117\"/>\n",
       "       <use x=\"21090.207031\" xlink:href=\"#DejaVuSans-115\"/>\n",
       "       <use x=\"21142.306641\" xlink:href=\"#DejaVuSans-101\"/>\n",
       "       <use x=\"21203.830078\" xlink:href=\"#DejaVuSans-114\"/>\n",
       "       <use x=\"21243.193359\" xlink:href=\"#DejaVuSans-110\"/>\n",
       "       <use x=\"21306.572266\" xlink:href=\"#DejaVuSans-97\"/>\n",
       "       <use x=\"21367.851562\" xlink:href=\"#DejaVuSans-109\"/>\n",
       "       <use x=\"21465.263672\" xlink:href=\"#DejaVuSans-101\"/>\n",
       "       <use x=\"21526.787109\" xlink:href=\"#DejaVuSans-32\"/>\n",
       "       <use x=\"21558.574219\" xlink:href=\"#DejaVuSans-97\"/>\n",
       "       <use x=\"21619.853516\" xlink:href=\"#DejaVuSans-110\"/>\n",
       "       <use x=\"21683.232422\" xlink:href=\"#DejaVuSans-100\"/>\n",
       "       <use x=\"21746.708984\" xlink:href=\"#DejaVuSans-32\"/>\n",
       "       <use x=\"21778.496094\" xlink:href=\"#DejaVuSans-116\"/>\n",
       "       <use x=\"21817.705078\" xlink:href=\"#DejaVuSans-104\"/>\n",
       "       <use x=\"21881.083984\" xlink:href=\"#DejaVuSans-101\"/>\n",
       "       <use x=\"21942.607422\" xlink:href=\"#DejaVuSans-32\"/>\n",
       "       <use x=\"21974.394531\" xlink:href=\"#DejaVuSans-100\"/>\n",
       "       <use x=\"22037.871094\" xlink:href=\"#DejaVuSans-97\"/>\n",
       "       <use x=\"22099.150391\" xlink:href=\"#DejaVuSans-116\"/>\n",
       "       <use x=\"22138.359375\" xlink:href=\"#DejaVuSans-101\"/>\n",
       "       <use x=\"22199.882812\" xlink:href=\"#DejaVuSans-32\"/>\n",
       "       <use x=\"22231.669922\" xlink:href=\"#DejaVuSans-105\"/>\n",
       "       <use x=\"22259.453125\" xlink:href=\"#DejaVuSans-102\"/>\n",
       "       <use x=\"22294.658203\" xlink:href=\"#DejaVuSans-32\"/>\n",
       "       <use x=\"22326.445312\" xlink:href=\"#DejaVuSans-121\"/>\n",
       "       <use x=\"22385.625\" xlink:href=\"#DejaVuSans-111\"/>\n",
       "       <use x=\"22446.806641\" xlink:href=\"#DejaVuSans-117\"/>\n",
       "       <use x=\"22510.185547\" xlink:href=\"#DejaVuSans-32\"/>\n",
       "       <use x=\"22541.972656\" xlink:href=\"#DejaVuSans-110\"/>\n",
       "       <use x=\"22605.351562\" xlink:href=\"#DejaVuSans-101\"/>\n",
       "       <use x=\"22666.875\" xlink:href=\"#DejaVuSans-101\"/>\n",
       "       <use x=\"22728.398438\" xlink:href=\"#DejaVuSans-100\"/>\n",
       "       <use x=\"22791.875\" xlink:href=\"#DejaVuSans-32\"/>\n",
       "       <use x=\"22823.662109\" xlink:href=\"#DejaVuSans-104\"/>\n",
       "       <use x=\"22887.041016\" xlink:href=\"#DejaVuSans-101\"/>\n",
       "       <use x=\"22948.564453\" xlink:href=\"#DejaVuSans-108\"/>\n",
       "       <use x=\"22976.347656\" xlink:href=\"#DejaVuSans-112\"/>\n",
       "       <use x=\"23039.824219\" xlink:href=\"#DejaVuSans-32\"/>\n",
       "       <use x=\"23071.611328\" xlink:href=\"#DejaVuSans-99\"/>\n",
       "       <use x=\"23126.591797\" xlink:href=\"#DejaVuSans-104\"/>\n",
       "       <use x=\"23189.970703\" xlink:href=\"#DejaVuSans-101\"/>\n",
       "       <use x=\"23251.494141\" xlink:href=\"#DejaVuSans-99\"/>\n",
       "       <use x=\"23306.474609\" xlink:href=\"#DejaVuSans-107\"/>\n",
       "       <use x=\"23364.384766\" xlink:href=\"#DejaVuSans-32\"/>\n",
       "       <use x=\"23396.171875\" xlink:href=\"#DejaVuSans-111\"/>\n",
       "       <use x=\"23457.353516\" xlink:href=\"#DejaVuSans-117\"/>\n",
       "       <use x=\"23520.732422\" xlink:href=\"#DejaVuSans-116\"/>\n",
       "       <use x=\"23559.941406\" xlink:href=\"#DejaVuSans-32\"/>\n",
       "       <use x=\"23591.728516\" xlink:href=\"#DejaVuSans-119\"/>\n",
       "       <use x=\"23673.515625\" xlink:href=\"#DejaVuSans-105\"/>\n",
       "       <use x=\"23701.298828\" xlink:href=\"#DejaVuSans-107\"/>\n",
       "       <use x=\"23759.208984\" xlink:href=\"#DejaVuSans-105\"/>\n",
       "       <use x=\"23786.992188\" xlink:href=\"#DejaVuSans-112\"/>\n",
       "       <use x=\"23850.46875\" xlink:href=\"#DejaVuSans-101\"/>\n",
       "       <use x=\"23911.992188\" xlink:href=\"#DejaVuSans-100\"/>\n",
       "       <use x=\"23975.46875\" xlink:href=\"#DejaVuSans-105\"/>\n",
       "       <use x=\"24003.251953\" xlink:href=\"#DejaVuSans-97\"/>\n",
       "       <use x=\"24064.53125\" xlink:href=\"#DejaVuSans-32\"/>\n",
       "       <use x=\"24096.318359\" xlink:href=\"#DejaVuSans-113\"/>\n",
       "       <use x=\"24159.794922\" xlink:href=\"#DejaVuSans-117\"/>\n",
       "       <use x=\"24223.173828\" xlink:href=\"#DejaVuSans-101\"/>\n",
       "       <use x=\"24284.697266\" xlink:href=\"#DejaVuSans-115\"/>\n",
       "       <use x=\"24336.796875\" xlink:href=\"#DejaVuSans-116\"/>\n",
       "       <use x=\"24376.005859\" xlink:href=\"#DejaVuSans-105\"/>\n",
       "       <use x=\"24403.789062\" xlink:href=\"#DejaVuSans-111\"/>\n",
       "       <use x=\"24464.970703\" xlink:href=\"#DejaVuSans-110\"/>\n",
       "       <use x=\"24528.349609\" xlink:href=\"#DejaVuSans-115\"/>\n",
       "       <use x=\"24580.449219\" xlink:href=\"#DejaVuSans-32\"/>\n",
       "       <use x=\"24612.236328\" xlink:href=\"#DejaVuSans-97\"/>\n",
       "       <use x=\"24673.515625\" xlink:href=\"#DejaVuSans-115\"/>\n",
       "       <use x=\"24725.615234\" xlink:href=\"#DejaVuSans-107\"/>\n",
       "       <use x=\"24783.525391\" xlink:href=\"#DejaVuSans-32\"/>\n",
       "       <use x=\"24815.3125\" xlink:href=\"#DejaVuSans-109\"/>\n",
       "       <use x=\"24912.724609\" xlink:href=\"#DejaVuSans-101\"/>\n",
       "       <use x=\"24974.248047\" xlink:href=\"#DejaVuSans-32\"/>\n",
       "       <use x=\"25006.035156\" xlink:href=\"#DejaVuSans-111\"/>\n",
       "       <use x=\"25067.216797\" xlink:href=\"#DejaVuSans-110\"/>\n",
       "       <use x=\"25130.595703\" xlink:href=\"#DejaVuSans-32\"/>\n",
       "       <use x=\"25162.382812\" xlink:href=\"#DejaVuSans-111\"/>\n",
       "       <use x=\"25223.564453\" xlink:href=\"#DejaVuSans-114\"/>\n",
       "       <use x=\"25264.677734\" xlink:href=\"#DejaVuSans-32\"/>\n",
       "       <use x=\"25296.464844\" xlink:href=\"#DejaVuSans-97\"/>\n",
       "       <use x=\"25357.744141\" xlink:href=\"#DejaVuSans-115\"/>\n",
       "       <use x=\"25409.84375\" xlink:href=\"#DejaVuSans-107\"/>\n",
       "       <use x=\"25467.753906\" xlink:href=\"#DejaVuSans-32\"/>\n",
       "       <use x=\"25499.541016\" xlink:href=\"#DejaVuSans-121\"/>\n",
       "       <use x=\"25558.720703\" xlink:href=\"#DejaVuSans-111\"/>\n",
       "       <use x=\"25619.902344\" xlink:href=\"#DejaVuSans-117\"/>\n",
       "       <use x=\"25683.28125\" xlink:href=\"#DejaVuSans-114\"/>\n",
       "       <use x=\"25724.394531\" xlink:href=\"#DejaVuSans-32\"/>\n",
       "       <use x=\"25756.181641\" xlink:href=\"#DejaVuSans-113\"/>\n",
       "       <use x=\"25819.658203\" xlink:href=\"#DejaVuSans-117\"/>\n",
       "       <use x=\"25883.037109\" xlink:href=\"#DejaVuSans-101\"/>\n",
       "       <use x=\"25944.560547\" xlink:href=\"#DejaVuSans-115\"/>\n",
       "       <use x=\"25996.660156\" xlink:href=\"#DejaVuSans-116\"/>\n",
       "       <use x=\"26035.869141\" xlink:href=\"#DejaVuSans-105\"/>\n",
       "       <use x=\"26063.652344\" xlink:href=\"#DejaVuSans-111\"/>\n",
       "       <use x=\"26124.833984\" xlink:href=\"#DejaVuSans-110\"/>\n",
       "       <use x=\"26188.212891\" xlink:href=\"#DejaVuSans-32\"/>\n",
       "       <use x=\"26220\" xlink:href=\"#DejaVuSans-111\"/>\n",
       "       <use x=\"26281.181641\" xlink:href=\"#DejaVuSans-110\"/>\n",
       "       <use x=\"26344.560547\" xlink:href=\"#DejaVuSans-32\"/>\n",
       "       <use x=\"26376.347656\" xlink:href=\"#DejaVuSans-116\"/>\n",
       "       <use x=\"26415.556641\" xlink:href=\"#DejaVuSans-104\"/>\n",
       "       <use x=\"26478.935547\" xlink:href=\"#DejaVuSans-105\"/>\n",
       "       <use x=\"26506.71875\" xlink:href=\"#DejaVuSans-115\"/>\n",
       "       <use x=\"26558.818359\" xlink:href=\"#DejaVuSans-32\"/>\n",
       "       <use x=\"26590.605469\" xlink:href=\"#DejaVuSans-112\"/>\n",
       "       <use x=\"26654.082031\" xlink:href=\"#DejaVuSans-97\"/>\n",
       "       <use x=\"26715.361328\" xlink:href=\"#DejaVuSans-103\"/>\n",
       "       <use x=\"26778.837891\" xlink:href=\"#DejaVuSans-101\"/>\n",
       "       <use x=\"26840.361328\" xlink:href=\"#DejaVuSans-32\"/>\n",
       "       <use x=\"26872.148438\" xlink:href=\"#DejaVuSans-97\"/>\n",
       "       <use x=\"26933.427734\" xlink:href=\"#DejaVuSans-110\"/>\n",
       "       <use x=\"26996.806641\" xlink:href=\"#DejaVuSans-100\"/>\n",
       "       <use x=\"27060.283203\" xlink:href=\"#DejaVuSans-32\"/>\n",
       "       <use x=\"27092.070312\" xlink:href=\"#DejaVuSans-116\"/>\n",
       "       <use x=\"27131.279297\" xlink:href=\"#DejaVuSans-104\"/>\n",
       "       <use x=\"27194.658203\" xlink:href=\"#DejaVuSans-101\"/>\n",
       "       <use x=\"27256.181641\" xlink:href=\"#DejaVuSans-110\"/>\n",
       "       <use x=\"27319.560547\" xlink:href=\"#DejaVuSans-32\"/>\n",
       "       <use x=\"27351.347656\" xlink:href=\"#DejaVuSans-112\"/>\n",
       "       <use x=\"27414.824219\" xlink:href=\"#DejaVuSans-108\"/>\n",
       "       <use x=\"27442.607422\" xlink:href=\"#DejaVuSans-97\"/>\n",
       "       <use x=\"27503.886719\" xlink:href=\"#DejaVuSans-99\"/>\n",
       "       <use x=\"27558.867188\" xlink:href=\"#DejaVuSans-101\"/>\n",
       "       <use x=\"27620.390625\" xlink:href=\"#DejaVuSans-32\"/>\n",
       "       <use x=\"27652.177734\" xlink:href=\"#DejaVuSans-104\"/>\n",
       "       <use x=\"27715.556641\" xlink:href=\"#DejaVuSans-101\"/>\n",
       "       <use x=\"27777.080078\" xlink:href=\"#DejaVuSans-108\"/>\n",
       "       <use x=\"27804.863281\" xlink:href=\"#DejaVuSans-112\"/>\n",
       "       <use x=\"27868.339844\" xlink:href=\"#DejaVuSans-109\"/>\n",
       "       <use x=\"27965.751953\" xlink:href=\"#DejaVuSans-101\"/>\n",
       "       <use x=\"28027.275391\" xlink:href=\"#DejaVuSans-32\"/>\n",
       "       <use x=\"28059.0625\" xlink:href=\"#DejaVuSans-98\"/>\n",
       "       <use x=\"28122.539062\" xlink:href=\"#DejaVuSans-101\"/>\n",
       "       <use x=\"28184.0625\" xlink:href=\"#DejaVuSans-102\"/>\n",
       "       <use x=\"28219.267578\" xlink:href=\"#DejaVuSans-111\"/>\n",
       "       <use x=\"28280.449219\" xlink:href=\"#DejaVuSans-114\"/>\n",
       "       <use x=\"28319.3125\" xlink:href=\"#DejaVuSans-101\"/>\n",
       "       <use x=\"28380.835938\" xlink:href=\"#DejaVuSans-32\"/>\n",
       "       <use x=\"28412.623047\" xlink:href=\"#DejaVuSans-116\"/>\n",
       "       <use x=\"28451.832031\" xlink:href=\"#DejaVuSans-104\"/>\n",
       "       <use x=\"28515.210938\" xlink:href=\"#DejaVuSans-101\"/>\n",
       "       <use x=\"28576.734375\" xlink:href=\"#DejaVuSans-32\"/>\n",
       "       <use x=\"28608.521484\" xlink:href=\"#DejaVuSans-113\"/>\n",
       "       <use x=\"28671.998047\" xlink:href=\"#DejaVuSans-117\"/>\n",
       "       <use x=\"28735.376953\" xlink:href=\"#DejaVuSans-101\"/>\n",
       "       <use x=\"28796.900391\" xlink:href=\"#DejaVuSans-115\"/>\n",
       "       <use x=\"28849\" xlink:href=\"#DejaVuSans-116\"/>\n",
       "       <use x=\"28888.208984\" xlink:href=\"#DejaVuSans-105\"/>\n",
       "       <use x=\"28915.992188\" xlink:href=\"#DejaVuSans-111\"/>\n",
       "       <use x=\"28977.173828\" xlink:href=\"#DejaVuSans-110\"/>\n",
       "       <use x=\"29040.552734\" xlink:href=\"#DejaVuSans-32\"/>\n",
       "       <use x=\"29072.339844\" xlink:href=\"#DejaVuSans-97\"/>\n",
       "       <use x=\"29133.619141\" xlink:href=\"#DejaVuSans-103\"/>\n",
       "       <use x=\"29197.095703\" xlink:href=\"#DejaVuSans-97\"/>\n",
       "       <use x=\"29258.375\" xlink:href=\"#DejaVuSans-105\"/>\n",
       "       <use x=\"29286.158203\" xlink:href=\"#DejaVuSans-110\"/>\n",
       "       <use x=\"29349.537109\" xlink:href=\"#DejaVuSans-32\"/>\n",
       "       <use x=\"29381.324219\" xlink:href=\"#DejaVuSans-119\"/>\n",
       "       <use x=\"29463.111328\" xlink:href=\"#DejaVuSans-101\"/>\n",
       "       <use x=\"29524.634766\" xlink:href=\"#DejaVuSans-108\"/>\n",
       "       <use x=\"29552.417969\" xlink:href=\"#DejaVuSans-99\"/>\n",
       "       <use x=\"29607.398438\" xlink:href=\"#DejaVuSans-111\"/>\n",
       "       <use x=\"29668.580078\" xlink:href=\"#DejaVuSans-109\"/>\n",
       "       <use x=\"29765.992188\" xlink:href=\"#DejaVuSans-101\"/>\n",
       "       <use x=\"29827.515625\" xlink:href=\"#DejaVuSans-32\"/>\n",
       "       <use x=\"29859.302734\" xlink:href=\"#DejaVuSans-116\"/>\n",
       "       <use x=\"29898.511719\" xlink:href=\"#DejaVuSans-97\"/>\n",
       "       <use x=\"29959.791016\" xlink:href=\"#DejaVuSans-108\"/>\n",
       "       <use x=\"29987.574219\" xlink:href=\"#DejaVuSans-107\"/>\n",
       "      </g>\n",
       "     </g>\n",
       "    </g>\n",
       "    <g id=\"xtick_29\">\n",
       "     <g id=\"line2d_57\">\n",
       "      <path clip-path=\"url(#p7b77b298fc)\" d=\"M 555.747326 333.36 \n",
       "L 555.747326 7.2 \n",
       "\" style=\"fill:none;stroke:#c0c0c0;stroke-linecap:square;stroke-width:0.8;\"/>\n",
       "     </g>\n",
       "     <g id=\"line2d_58\">\n",
       "      <g>\n",
       "       <use style=\"stroke:#000000;stroke-width:0.8;\" x=\"555.747326\" xlink:href=\"#m6d9b36f697\" y=\"333.36\"/>\n",
       "      </g>\n",
       "     </g>\n",
       "     <g id=\"text_29\">\n",
       "      <!--  please do not add inappropriate external links to wikipedia wikipedia is not a mere directory of links nor should it be used for advertising or promotion inappropriate links include but are not limited to links to personal web sites links to web sites with which you are affiliated and links that exist to attract visitors to a web site or promote a product see the external links guideline and spam policies for further explanations of links that are considered appropriate if you feel the link should be added to the article then please discuss it on the article s talk page rather than re adding it see the welcome page to learn more about wikipedia thank you talk -->\n",
       "      <g transform=\"translate(558.506701 3606.639688)rotate(-90)scale(0.1 -0.1)\">\n",
       "       <use xlink:href=\"#DejaVuSans-32\"/>\n",
       "       <use x=\"31.787109\" xlink:href=\"#DejaVuSans-112\"/>\n",
       "       <use x=\"95.263672\" xlink:href=\"#DejaVuSans-108\"/>\n",
       "       <use x=\"123.046875\" xlink:href=\"#DejaVuSans-101\"/>\n",
       "       <use x=\"184.570312\" xlink:href=\"#DejaVuSans-97\"/>\n",
       "       <use x=\"245.849609\" xlink:href=\"#DejaVuSans-115\"/>\n",
       "       <use x=\"297.949219\" xlink:href=\"#DejaVuSans-101\"/>\n",
       "       <use x=\"359.472656\" xlink:href=\"#DejaVuSans-32\"/>\n",
       "       <use x=\"391.259766\" xlink:href=\"#DejaVuSans-100\"/>\n",
       "       <use x=\"454.736328\" xlink:href=\"#DejaVuSans-111\"/>\n",
       "       <use x=\"515.917969\" xlink:href=\"#DejaVuSans-32\"/>\n",
       "       <use x=\"547.705078\" xlink:href=\"#DejaVuSans-110\"/>\n",
       "       <use x=\"611.083984\" xlink:href=\"#DejaVuSans-111\"/>\n",
       "       <use x=\"672.265625\" xlink:href=\"#DejaVuSans-116\"/>\n",
       "       <use x=\"711.474609\" xlink:href=\"#DejaVuSans-32\"/>\n",
       "       <use x=\"743.261719\" xlink:href=\"#DejaVuSans-97\"/>\n",
       "       <use x=\"804.541016\" xlink:href=\"#DejaVuSans-100\"/>\n",
       "       <use x=\"868.017578\" xlink:href=\"#DejaVuSans-100\"/>\n",
       "       <use x=\"931.494141\" xlink:href=\"#DejaVuSans-32\"/>\n",
       "       <use x=\"963.28125\" xlink:href=\"#DejaVuSans-105\"/>\n",
       "       <use x=\"991.064453\" xlink:href=\"#DejaVuSans-110\"/>\n",
       "       <use x=\"1054.443359\" xlink:href=\"#DejaVuSans-97\"/>\n",
       "       <use x=\"1115.722656\" xlink:href=\"#DejaVuSans-112\"/>\n",
       "       <use x=\"1179.199219\" xlink:href=\"#DejaVuSans-112\"/>\n",
       "       <use x=\"1242.675781\" xlink:href=\"#DejaVuSans-114\"/>\n",
       "       <use x=\"1281.539062\" xlink:href=\"#DejaVuSans-111\"/>\n",
       "       <use x=\"1342.720703\" xlink:href=\"#DejaVuSans-112\"/>\n",
       "       <use x=\"1406.197266\" xlink:href=\"#DejaVuSans-114\"/>\n",
       "       <use x=\"1447.310547\" xlink:href=\"#DejaVuSans-105\"/>\n",
       "       <use x=\"1475.09375\" xlink:href=\"#DejaVuSans-97\"/>\n",
       "       <use x=\"1536.373047\" xlink:href=\"#DejaVuSans-116\"/>\n",
       "       <use x=\"1575.582031\" xlink:href=\"#DejaVuSans-101\"/>\n",
       "       <use x=\"1637.105469\" xlink:href=\"#DejaVuSans-32\"/>\n",
       "       <use x=\"1668.892578\" xlink:href=\"#DejaVuSans-101\"/>\n",
       "       <use x=\"1728.666016\" xlink:href=\"#DejaVuSans-120\"/>\n",
       "       <use x=\"1787.845703\" xlink:href=\"#DejaVuSans-116\"/>\n",
       "       <use x=\"1827.054688\" xlink:href=\"#DejaVuSans-101\"/>\n",
       "       <use x=\"1888.578125\" xlink:href=\"#DejaVuSans-114\"/>\n",
       "       <use x=\"1927.941406\" xlink:href=\"#DejaVuSans-110\"/>\n",
       "       <use x=\"1991.320312\" xlink:href=\"#DejaVuSans-97\"/>\n",
       "       <use x=\"2052.599609\" xlink:href=\"#DejaVuSans-108\"/>\n",
       "       <use x=\"2080.382812\" xlink:href=\"#DejaVuSans-32\"/>\n",
       "       <use x=\"2112.169922\" xlink:href=\"#DejaVuSans-108\"/>\n",
       "       <use x=\"2139.953125\" xlink:href=\"#DejaVuSans-105\"/>\n",
       "       <use x=\"2167.736328\" xlink:href=\"#DejaVuSans-110\"/>\n",
       "       <use x=\"2231.115234\" xlink:href=\"#DejaVuSans-107\"/>\n",
       "       <use x=\"2289.025391\" xlink:href=\"#DejaVuSans-115\"/>\n",
       "       <use x=\"2341.125\" xlink:href=\"#DejaVuSans-32\"/>\n",
       "       <use x=\"2372.912109\" xlink:href=\"#DejaVuSans-116\"/>\n",
       "       <use x=\"2412.121094\" xlink:href=\"#DejaVuSans-111\"/>\n",
       "       <use x=\"2473.302734\" xlink:href=\"#DejaVuSans-32\"/>\n",
       "       <use x=\"2505.089844\" xlink:href=\"#DejaVuSans-119\"/>\n",
       "       <use x=\"2586.876953\" xlink:href=\"#DejaVuSans-105\"/>\n",
       "       <use x=\"2614.660156\" xlink:href=\"#DejaVuSans-107\"/>\n",
       "       <use x=\"2672.570312\" xlink:href=\"#DejaVuSans-105\"/>\n",
       "       <use x=\"2700.353516\" xlink:href=\"#DejaVuSans-112\"/>\n",
       "       <use x=\"2763.830078\" xlink:href=\"#DejaVuSans-101\"/>\n",
       "       <use x=\"2825.353516\" xlink:href=\"#DejaVuSans-100\"/>\n",
       "       <use x=\"2888.830078\" xlink:href=\"#DejaVuSans-105\"/>\n",
       "       <use x=\"2916.613281\" xlink:href=\"#DejaVuSans-97\"/>\n",
       "       <use x=\"2977.892578\" xlink:href=\"#DejaVuSans-32\"/>\n",
       "       <use x=\"3009.679688\" xlink:href=\"#DejaVuSans-119\"/>\n",
       "       <use x=\"3091.466797\" xlink:href=\"#DejaVuSans-105\"/>\n",
       "       <use x=\"3119.25\" xlink:href=\"#DejaVuSans-107\"/>\n",
       "       <use x=\"3177.160156\" xlink:href=\"#DejaVuSans-105\"/>\n",
       "       <use x=\"3204.943359\" xlink:href=\"#DejaVuSans-112\"/>\n",
       "       <use x=\"3268.419922\" xlink:href=\"#DejaVuSans-101\"/>\n",
       "       <use x=\"3329.943359\" xlink:href=\"#DejaVuSans-100\"/>\n",
       "       <use x=\"3393.419922\" xlink:href=\"#DejaVuSans-105\"/>\n",
       "       <use x=\"3421.203125\" xlink:href=\"#DejaVuSans-97\"/>\n",
       "       <use x=\"3482.482422\" xlink:href=\"#DejaVuSans-32\"/>\n",
       "       <use x=\"3514.269531\" xlink:href=\"#DejaVuSans-105\"/>\n",
       "       <use x=\"3542.052734\" xlink:href=\"#DejaVuSans-115\"/>\n",
       "       <use x=\"3594.152344\" xlink:href=\"#DejaVuSans-32\"/>\n",
       "       <use x=\"3625.939453\" xlink:href=\"#DejaVuSans-110\"/>\n",
       "       <use x=\"3689.318359\" xlink:href=\"#DejaVuSans-111\"/>\n",
       "       <use x=\"3750.5\" xlink:href=\"#DejaVuSans-116\"/>\n",
       "       <use x=\"3789.708984\" xlink:href=\"#DejaVuSans-32\"/>\n",
       "       <use x=\"3821.496094\" xlink:href=\"#DejaVuSans-97\"/>\n",
       "       <use x=\"3882.775391\" xlink:href=\"#DejaVuSans-32\"/>\n",
       "       <use x=\"3914.5625\" xlink:href=\"#DejaVuSans-109\"/>\n",
       "       <use x=\"4011.974609\" xlink:href=\"#DejaVuSans-101\"/>\n",
       "       <use x=\"4073.498047\" xlink:href=\"#DejaVuSans-114\"/>\n",
       "       <use x=\"4112.361328\" xlink:href=\"#DejaVuSans-101\"/>\n",
       "       <use x=\"4173.884766\" xlink:href=\"#DejaVuSans-32\"/>\n",
       "       <use x=\"4205.671875\" xlink:href=\"#DejaVuSans-100\"/>\n",
       "       <use x=\"4269.148438\" xlink:href=\"#DejaVuSans-105\"/>\n",
       "       <use x=\"4296.931641\" xlink:href=\"#DejaVuSans-114\"/>\n",
       "       <use x=\"4335.794922\" xlink:href=\"#DejaVuSans-101\"/>\n",
       "       <use x=\"4397.318359\" xlink:href=\"#DejaVuSans-99\"/>\n",
       "       <use x=\"4452.298828\" xlink:href=\"#DejaVuSans-116\"/>\n",
       "       <use x=\"4491.507812\" xlink:href=\"#DejaVuSans-111\"/>\n",
       "       <use x=\"4552.689453\" xlink:href=\"#DejaVuSans-114\"/>\n",
       "       <use x=\"4593.802734\" xlink:href=\"#DejaVuSans-121\"/>\n",
       "       <use x=\"4652.982422\" xlink:href=\"#DejaVuSans-32\"/>\n",
       "       <use x=\"4684.769531\" xlink:href=\"#DejaVuSans-111\"/>\n",
       "       <use x=\"4745.951172\" xlink:href=\"#DejaVuSans-102\"/>\n",
       "       <use x=\"4781.15625\" xlink:href=\"#DejaVuSans-32\"/>\n",
       "       <use x=\"4812.943359\" xlink:href=\"#DejaVuSans-108\"/>\n",
       "       <use x=\"4840.726562\" xlink:href=\"#DejaVuSans-105\"/>\n",
       "       <use x=\"4868.509766\" xlink:href=\"#DejaVuSans-110\"/>\n",
       "       <use x=\"4931.888672\" xlink:href=\"#DejaVuSans-107\"/>\n",
       "       <use x=\"4989.798828\" xlink:href=\"#DejaVuSans-115\"/>\n",
       "       <use x=\"5041.898438\" xlink:href=\"#DejaVuSans-32\"/>\n",
       "       <use x=\"5073.685547\" xlink:href=\"#DejaVuSans-110\"/>\n",
       "       <use x=\"5137.064453\" xlink:href=\"#DejaVuSans-111\"/>\n",
       "       <use x=\"5198.246094\" xlink:href=\"#DejaVuSans-114\"/>\n",
       "       <use x=\"5239.359375\" xlink:href=\"#DejaVuSans-32\"/>\n",
       "       <use x=\"5271.146484\" xlink:href=\"#DejaVuSans-115\"/>\n",
       "       <use x=\"5323.246094\" xlink:href=\"#DejaVuSans-104\"/>\n",
       "       <use x=\"5386.625\" xlink:href=\"#DejaVuSans-111\"/>\n",
       "       <use x=\"5447.806641\" xlink:href=\"#DejaVuSans-117\"/>\n",
       "       <use x=\"5511.185547\" xlink:href=\"#DejaVuSans-108\"/>\n",
       "       <use x=\"5538.96875\" xlink:href=\"#DejaVuSans-100\"/>\n",
       "       <use x=\"5602.445312\" xlink:href=\"#DejaVuSans-32\"/>\n",
       "       <use x=\"5634.232422\" xlink:href=\"#DejaVuSans-105\"/>\n",
       "       <use x=\"5662.015625\" xlink:href=\"#DejaVuSans-116\"/>\n",
       "       <use x=\"5701.224609\" xlink:href=\"#DejaVuSans-32\"/>\n",
       "       <use x=\"5733.011719\" xlink:href=\"#DejaVuSans-98\"/>\n",
       "       <use x=\"5796.488281\" xlink:href=\"#DejaVuSans-101\"/>\n",
       "       <use x=\"5858.011719\" xlink:href=\"#DejaVuSans-32\"/>\n",
       "       <use x=\"5889.798828\" xlink:href=\"#DejaVuSans-117\"/>\n",
       "       <use x=\"5953.177734\" xlink:href=\"#DejaVuSans-115\"/>\n",
       "       <use x=\"6005.277344\" xlink:href=\"#DejaVuSans-101\"/>\n",
       "       <use x=\"6066.800781\" xlink:href=\"#DejaVuSans-100\"/>\n",
       "       <use x=\"6130.277344\" xlink:href=\"#DejaVuSans-32\"/>\n",
       "       <use x=\"6162.064453\" xlink:href=\"#DejaVuSans-102\"/>\n",
       "       <use x=\"6197.269531\" xlink:href=\"#DejaVuSans-111\"/>\n",
       "       <use x=\"6258.451172\" xlink:href=\"#DejaVuSans-114\"/>\n",
       "       <use x=\"6299.564453\" xlink:href=\"#DejaVuSans-32\"/>\n",
       "       <use x=\"6331.351562\" xlink:href=\"#DejaVuSans-97\"/>\n",
       "       <use x=\"6392.630859\" xlink:href=\"#DejaVuSans-100\"/>\n",
       "       <use x=\"6456.107422\" xlink:href=\"#DejaVuSans-118\"/>\n",
       "       <use x=\"6515.287109\" xlink:href=\"#DejaVuSans-101\"/>\n",
       "       <use x=\"6576.810547\" xlink:href=\"#DejaVuSans-114\"/>\n",
       "       <use x=\"6617.923828\" xlink:href=\"#DejaVuSans-116\"/>\n",
       "       <use x=\"6657.132812\" xlink:href=\"#DejaVuSans-105\"/>\n",
       "       <use x=\"6684.916016\" xlink:href=\"#DejaVuSans-115\"/>\n",
       "       <use x=\"6737.015625\" xlink:href=\"#DejaVuSans-105\"/>\n",
       "       <use x=\"6764.798828\" xlink:href=\"#DejaVuSans-110\"/>\n",
       "       <use x=\"6828.177734\" xlink:href=\"#DejaVuSans-103\"/>\n",
       "       <use x=\"6891.654297\" xlink:href=\"#DejaVuSans-32\"/>\n",
       "       <use x=\"6923.441406\" xlink:href=\"#DejaVuSans-111\"/>\n",
       "       <use x=\"6984.623047\" xlink:href=\"#DejaVuSans-114\"/>\n",
       "       <use x=\"7025.736328\" xlink:href=\"#DejaVuSans-32\"/>\n",
       "       <use x=\"7057.523438\" xlink:href=\"#DejaVuSans-112\"/>\n",
       "       <use x=\"7121\" xlink:href=\"#DejaVuSans-114\"/>\n",
       "       <use x=\"7159.863281\" xlink:href=\"#DejaVuSans-111\"/>\n",
       "       <use x=\"7221.044922\" xlink:href=\"#DejaVuSans-109\"/>\n",
       "       <use x=\"7318.457031\" xlink:href=\"#DejaVuSans-111\"/>\n",
       "       <use x=\"7379.638672\" xlink:href=\"#DejaVuSans-116\"/>\n",
       "       <use x=\"7418.847656\" xlink:href=\"#DejaVuSans-105\"/>\n",
       "       <use x=\"7446.630859\" xlink:href=\"#DejaVuSans-111\"/>\n",
       "       <use x=\"7507.8125\" xlink:href=\"#DejaVuSans-110\"/>\n",
       "       <use x=\"7571.191406\" xlink:href=\"#DejaVuSans-32\"/>\n",
       "       <use x=\"7602.978516\" xlink:href=\"#DejaVuSans-105\"/>\n",
       "       <use x=\"7630.761719\" xlink:href=\"#DejaVuSans-110\"/>\n",
       "       <use x=\"7694.140625\" xlink:href=\"#DejaVuSans-97\"/>\n",
       "       <use x=\"7755.419922\" xlink:href=\"#DejaVuSans-112\"/>\n",
       "       <use x=\"7818.896484\" xlink:href=\"#DejaVuSans-112\"/>\n",
       "       <use x=\"7882.373047\" xlink:href=\"#DejaVuSans-114\"/>\n",
       "       <use x=\"7921.236328\" xlink:href=\"#DejaVuSans-111\"/>\n",
       "       <use x=\"7982.417969\" xlink:href=\"#DejaVuSans-112\"/>\n",
       "       <use x=\"8045.894531\" xlink:href=\"#DejaVuSans-114\"/>\n",
       "       <use x=\"8087.007812\" xlink:href=\"#DejaVuSans-105\"/>\n",
       "       <use x=\"8114.791016\" xlink:href=\"#DejaVuSans-97\"/>\n",
       "       <use x=\"8176.070312\" xlink:href=\"#DejaVuSans-116\"/>\n",
       "       <use x=\"8215.279297\" xlink:href=\"#DejaVuSans-101\"/>\n",
       "       <use x=\"8276.802734\" xlink:href=\"#DejaVuSans-32\"/>\n",
       "       <use x=\"8308.589844\" xlink:href=\"#DejaVuSans-108\"/>\n",
       "       <use x=\"8336.373047\" xlink:href=\"#DejaVuSans-105\"/>\n",
       "       <use x=\"8364.15625\" xlink:href=\"#DejaVuSans-110\"/>\n",
       "       <use x=\"8427.535156\" xlink:href=\"#DejaVuSans-107\"/>\n",
       "       <use x=\"8485.445312\" xlink:href=\"#DejaVuSans-115\"/>\n",
       "       <use x=\"8537.544922\" xlink:href=\"#DejaVuSans-32\"/>\n",
       "       <use x=\"8569.332031\" xlink:href=\"#DejaVuSans-105\"/>\n",
       "       <use x=\"8597.115234\" xlink:href=\"#DejaVuSans-110\"/>\n",
       "       <use x=\"8660.494141\" xlink:href=\"#DejaVuSans-99\"/>\n",
       "       <use x=\"8715.474609\" xlink:href=\"#DejaVuSans-108\"/>\n",
       "       <use x=\"8743.257812\" xlink:href=\"#DejaVuSans-117\"/>\n",
       "       <use x=\"8806.636719\" xlink:href=\"#DejaVuSans-100\"/>\n",
       "       <use x=\"8870.113281\" xlink:href=\"#DejaVuSans-101\"/>\n",
       "       <use x=\"8931.636719\" xlink:href=\"#DejaVuSans-32\"/>\n",
       "       <use x=\"8963.423828\" xlink:href=\"#DejaVuSans-98\"/>\n",
       "       <use x=\"9026.900391\" xlink:href=\"#DejaVuSans-117\"/>\n",
       "       <use x=\"9090.279297\" xlink:href=\"#DejaVuSans-116\"/>\n",
       "       <use x=\"9129.488281\" xlink:href=\"#DejaVuSans-32\"/>\n",
       "       <use x=\"9161.275391\" xlink:href=\"#DejaVuSans-97\"/>\n",
       "       <use x=\"9222.554688\" xlink:href=\"#DejaVuSans-114\"/>\n",
       "       <use x=\"9261.417969\" xlink:href=\"#DejaVuSans-101\"/>\n",
       "       <use x=\"9322.941406\" xlink:href=\"#DejaVuSans-32\"/>\n",
       "       <use x=\"9354.728516\" xlink:href=\"#DejaVuSans-110\"/>\n",
       "       <use x=\"9418.107422\" xlink:href=\"#DejaVuSans-111\"/>\n",
       "       <use x=\"9479.289062\" xlink:href=\"#DejaVuSans-116\"/>\n",
       "       <use x=\"9518.498047\" xlink:href=\"#DejaVuSans-32\"/>\n",
       "       <use x=\"9550.285156\" xlink:href=\"#DejaVuSans-108\"/>\n",
       "       <use x=\"9578.068359\" xlink:href=\"#DejaVuSans-105\"/>\n",
       "       <use x=\"9605.851562\" xlink:href=\"#DejaVuSans-109\"/>\n",
       "       <use x=\"9703.263672\" xlink:href=\"#DejaVuSans-105\"/>\n",
       "       <use x=\"9731.046875\" xlink:href=\"#DejaVuSans-116\"/>\n",
       "       <use x=\"9770.255859\" xlink:href=\"#DejaVuSans-101\"/>\n",
       "       <use x=\"9831.779297\" xlink:href=\"#DejaVuSans-100\"/>\n",
       "       <use x=\"9895.255859\" xlink:href=\"#DejaVuSans-32\"/>\n",
       "       <use x=\"9927.042969\" xlink:href=\"#DejaVuSans-116\"/>\n",
       "       <use x=\"9966.251953\" xlink:href=\"#DejaVuSans-111\"/>\n",
       "       <use x=\"10027.433594\" xlink:href=\"#DejaVuSans-32\"/>\n",
       "       <use x=\"10059.220703\" xlink:href=\"#DejaVuSans-108\"/>\n",
       "       <use x=\"10087.003906\" xlink:href=\"#DejaVuSans-105\"/>\n",
       "       <use x=\"10114.787109\" xlink:href=\"#DejaVuSans-110\"/>\n",
       "       <use x=\"10178.166016\" xlink:href=\"#DejaVuSans-107\"/>\n",
       "       <use x=\"10236.076172\" xlink:href=\"#DejaVuSans-115\"/>\n",
       "       <use x=\"10288.175781\" xlink:href=\"#DejaVuSans-32\"/>\n",
       "       <use x=\"10319.962891\" xlink:href=\"#DejaVuSans-116\"/>\n",
       "       <use x=\"10359.171875\" xlink:href=\"#DejaVuSans-111\"/>\n",
       "       <use x=\"10420.353516\" xlink:href=\"#DejaVuSans-32\"/>\n",
       "       <use x=\"10452.140625\" xlink:href=\"#DejaVuSans-112\"/>\n",
       "       <use x=\"10515.617188\" xlink:href=\"#DejaVuSans-101\"/>\n",
       "       <use x=\"10577.140625\" xlink:href=\"#DejaVuSans-114\"/>\n",
       "       <use x=\"10618.253906\" xlink:href=\"#DejaVuSans-115\"/>\n",
       "       <use x=\"10670.353516\" xlink:href=\"#DejaVuSans-111\"/>\n",
       "       <use x=\"10731.535156\" xlink:href=\"#DejaVuSans-110\"/>\n",
       "       <use x=\"10794.914062\" xlink:href=\"#DejaVuSans-97\"/>\n",
       "       <use x=\"10856.193359\" xlink:href=\"#DejaVuSans-108\"/>\n",
       "       <use x=\"10883.976562\" xlink:href=\"#DejaVuSans-32\"/>\n",
       "       <use x=\"10915.763672\" xlink:href=\"#DejaVuSans-119\"/>\n",
       "       <use x=\"10997.550781\" xlink:href=\"#DejaVuSans-101\"/>\n",
       "       <use x=\"11059.074219\" xlink:href=\"#DejaVuSans-98\"/>\n",
       "       <use x=\"11122.550781\" xlink:href=\"#DejaVuSans-32\"/>\n",
       "       <use x=\"11154.337891\" xlink:href=\"#DejaVuSans-115\"/>\n",
       "       <use x=\"11206.4375\" xlink:href=\"#DejaVuSans-105\"/>\n",
       "       <use x=\"11234.220703\" xlink:href=\"#DejaVuSans-116\"/>\n",
       "       <use x=\"11273.429688\" xlink:href=\"#DejaVuSans-101\"/>\n",
       "       <use x=\"11334.953125\" xlink:href=\"#DejaVuSans-115\"/>\n",
       "       <use x=\"11387.052734\" xlink:href=\"#DejaVuSans-32\"/>\n",
       "       <use x=\"11418.839844\" xlink:href=\"#DejaVuSans-108\"/>\n",
       "       <use x=\"11446.623047\" xlink:href=\"#DejaVuSans-105\"/>\n",
       "       <use x=\"11474.40625\" xlink:href=\"#DejaVuSans-110\"/>\n",
       "       <use x=\"11537.785156\" xlink:href=\"#DejaVuSans-107\"/>\n",
       "       <use x=\"11595.695312\" xlink:href=\"#DejaVuSans-115\"/>\n",
       "       <use x=\"11647.794922\" xlink:href=\"#DejaVuSans-32\"/>\n",
       "       <use x=\"11679.582031\" xlink:href=\"#DejaVuSans-116\"/>\n",
       "       <use x=\"11718.791016\" xlink:href=\"#DejaVuSans-111\"/>\n",
       "       <use x=\"11779.972656\" xlink:href=\"#DejaVuSans-32\"/>\n",
       "       <use x=\"11811.759766\" xlink:href=\"#DejaVuSans-119\"/>\n",
       "       <use x=\"11893.546875\" xlink:href=\"#DejaVuSans-101\"/>\n",
       "       <use x=\"11955.070312\" xlink:href=\"#DejaVuSans-98\"/>\n",
       "       <use x=\"12018.546875\" xlink:href=\"#DejaVuSans-32\"/>\n",
       "       <use x=\"12050.333984\" xlink:href=\"#DejaVuSans-115\"/>\n",
       "       <use x=\"12102.433594\" xlink:href=\"#DejaVuSans-105\"/>\n",
       "       <use x=\"12130.216797\" xlink:href=\"#DejaVuSans-116\"/>\n",
       "       <use x=\"12169.425781\" xlink:href=\"#DejaVuSans-101\"/>\n",
       "       <use x=\"12230.949219\" xlink:href=\"#DejaVuSans-115\"/>\n",
       "       <use x=\"12283.048828\" xlink:href=\"#DejaVuSans-32\"/>\n",
       "       <use x=\"12314.835938\" xlink:href=\"#DejaVuSans-119\"/>\n",
       "       <use x=\"12396.623047\" xlink:href=\"#DejaVuSans-105\"/>\n",
       "       <use x=\"12424.40625\" xlink:href=\"#DejaVuSans-116\"/>\n",
       "       <use x=\"12463.615234\" xlink:href=\"#DejaVuSans-104\"/>\n",
       "       <use x=\"12526.994141\" xlink:href=\"#DejaVuSans-32\"/>\n",
       "       <use x=\"12558.78125\" xlink:href=\"#DejaVuSans-119\"/>\n",
       "       <use x=\"12640.568359\" xlink:href=\"#DejaVuSans-104\"/>\n",
       "       <use x=\"12703.947266\" xlink:href=\"#DejaVuSans-105\"/>\n",
       "       <use x=\"12731.730469\" xlink:href=\"#DejaVuSans-99\"/>\n",
       "       <use x=\"12786.710938\" xlink:href=\"#DejaVuSans-104\"/>\n",
       "       <use x=\"12850.089844\" xlink:href=\"#DejaVuSans-32\"/>\n",
       "       <use x=\"12881.876953\" xlink:href=\"#DejaVuSans-121\"/>\n",
       "       <use x=\"12941.056641\" xlink:href=\"#DejaVuSans-111\"/>\n",
       "       <use x=\"13002.238281\" xlink:href=\"#DejaVuSans-117\"/>\n",
       "       <use x=\"13065.617188\" xlink:href=\"#DejaVuSans-32\"/>\n",
       "       <use x=\"13097.404297\" xlink:href=\"#DejaVuSans-97\"/>\n",
       "       <use x=\"13158.683594\" xlink:href=\"#DejaVuSans-114\"/>\n",
       "       <use x=\"13197.546875\" xlink:href=\"#DejaVuSans-101\"/>\n",
       "       <use x=\"13259.070312\" xlink:href=\"#DejaVuSans-32\"/>\n",
       "       <use x=\"13290.857422\" xlink:href=\"#DejaVuSans-97\"/>\n",
       "       <use x=\"13352.136719\" xlink:href=\"#DejaVuSans-102\"/>\n",
       "       <use x=\"13387.341797\" xlink:href=\"#DejaVuSans-102\"/>\n",
       "       <use x=\"13422.546875\" xlink:href=\"#DejaVuSans-105\"/>\n",
       "       <use x=\"13450.330078\" xlink:href=\"#DejaVuSans-108\"/>\n",
       "       <use x=\"13478.113281\" xlink:href=\"#DejaVuSans-105\"/>\n",
       "       <use x=\"13505.896484\" xlink:href=\"#DejaVuSans-97\"/>\n",
       "       <use x=\"13567.175781\" xlink:href=\"#DejaVuSans-116\"/>\n",
       "       <use x=\"13606.384766\" xlink:href=\"#DejaVuSans-101\"/>\n",
       "       <use x=\"13667.908203\" xlink:href=\"#DejaVuSans-100\"/>\n",
       "       <use x=\"13731.384766\" xlink:href=\"#DejaVuSans-32\"/>\n",
       "       <use x=\"13763.171875\" xlink:href=\"#DejaVuSans-97\"/>\n",
       "       <use x=\"13824.451172\" xlink:href=\"#DejaVuSans-110\"/>\n",
       "       <use x=\"13887.830078\" xlink:href=\"#DejaVuSans-100\"/>\n",
       "       <use x=\"13951.306641\" xlink:href=\"#DejaVuSans-32\"/>\n",
       "       <use x=\"13983.09375\" xlink:href=\"#DejaVuSans-108\"/>\n",
       "       <use x=\"14010.876953\" xlink:href=\"#DejaVuSans-105\"/>\n",
       "       <use x=\"14038.660156\" xlink:href=\"#DejaVuSans-110\"/>\n",
       "       <use x=\"14102.039062\" xlink:href=\"#DejaVuSans-107\"/>\n",
       "       <use x=\"14159.949219\" xlink:href=\"#DejaVuSans-115\"/>\n",
       "       <use x=\"14212.048828\" xlink:href=\"#DejaVuSans-32\"/>\n",
       "       <use x=\"14243.835938\" xlink:href=\"#DejaVuSans-116\"/>\n",
       "       <use x=\"14283.044922\" xlink:href=\"#DejaVuSans-104\"/>\n",
       "       <use x=\"14346.423828\" xlink:href=\"#DejaVuSans-97\"/>\n",
       "       <use x=\"14407.703125\" xlink:href=\"#DejaVuSans-116\"/>\n",
       "       <use x=\"14446.912109\" xlink:href=\"#DejaVuSans-32\"/>\n",
       "       <use x=\"14478.699219\" xlink:href=\"#DejaVuSans-101\"/>\n",
       "       <use x=\"14538.472656\" xlink:href=\"#DejaVuSans-120\"/>\n",
       "       <use x=\"14597.652344\" xlink:href=\"#DejaVuSans-105\"/>\n",
       "       <use x=\"14625.435547\" xlink:href=\"#DejaVuSans-115\"/>\n",
       "       <use x=\"14677.535156\" xlink:href=\"#DejaVuSans-116\"/>\n",
       "       <use x=\"14716.744141\" xlink:href=\"#DejaVuSans-32\"/>\n",
       "       <use x=\"14748.53125\" xlink:href=\"#DejaVuSans-116\"/>\n",
       "       <use x=\"14787.740234\" xlink:href=\"#DejaVuSans-111\"/>\n",
       "       <use x=\"14848.921875\" xlink:href=\"#DejaVuSans-32\"/>\n",
       "       <use x=\"14880.708984\" xlink:href=\"#DejaVuSans-97\"/>\n",
       "       <use x=\"14941.988281\" xlink:href=\"#DejaVuSans-116\"/>\n",
       "       <use x=\"14981.197266\" xlink:href=\"#DejaVuSans-116\"/>\n",
       "       <use x=\"15020.40625\" xlink:href=\"#DejaVuSans-114\"/>\n",
       "       <use x=\"15061.519531\" xlink:href=\"#DejaVuSans-97\"/>\n",
       "       <use x=\"15122.798828\" xlink:href=\"#DejaVuSans-99\"/>\n",
       "       <use x=\"15177.779297\" xlink:href=\"#DejaVuSans-116\"/>\n",
       "       <use x=\"15216.988281\" xlink:href=\"#DejaVuSans-32\"/>\n",
       "       <use x=\"15248.775391\" xlink:href=\"#DejaVuSans-118\"/>\n",
       "       <use x=\"15307.955078\" xlink:href=\"#DejaVuSans-105\"/>\n",
       "       <use x=\"15335.738281\" xlink:href=\"#DejaVuSans-115\"/>\n",
       "       <use x=\"15387.837891\" xlink:href=\"#DejaVuSans-105\"/>\n",
       "       <use x=\"15415.621094\" xlink:href=\"#DejaVuSans-116\"/>\n",
       "       <use x=\"15454.830078\" xlink:href=\"#DejaVuSans-111\"/>\n",
       "       <use x=\"15516.011719\" xlink:href=\"#DejaVuSans-114\"/>\n",
       "       <use x=\"15557.125\" xlink:href=\"#DejaVuSans-115\"/>\n",
       "       <use x=\"15609.224609\" xlink:href=\"#DejaVuSans-32\"/>\n",
       "       <use x=\"15641.011719\" xlink:href=\"#DejaVuSans-116\"/>\n",
       "       <use x=\"15680.220703\" xlink:href=\"#DejaVuSans-111\"/>\n",
       "       <use x=\"15741.402344\" xlink:href=\"#DejaVuSans-32\"/>\n",
       "       <use x=\"15773.189453\" xlink:href=\"#DejaVuSans-97\"/>\n",
       "       <use x=\"15834.46875\" xlink:href=\"#DejaVuSans-32\"/>\n",
       "       <use x=\"15866.255859\" xlink:href=\"#DejaVuSans-119\"/>\n",
       "       <use x=\"15948.042969\" xlink:href=\"#DejaVuSans-101\"/>\n",
       "       <use x=\"16009.566406\" xlink:href=\"#DejaVuSans-98\"/>\n",
       "       <use x=\"16073.042969\" xlink:href=\"#DejaVuSans-32\"/>\n",
       "       <use x=\"16104.830078\" xlink:href=\"#DejaVuSans-115\"/>\n",
       "       <use x=\"16156.929688\" xlink:href=\"#DejaVuSans-105\"/>\n",
       "       <use x=\"16184.712891\" xlink:href=\"#DejaVuSans-116\"/>\n",
       "       <use x=\"16223.921875\" xlink:href=\"#DejaVuSans-101\"/>\n",
       "       <use x=\"16285.445312\" xlink:href=\"#DejaVuSans-32\"/>\n",
       "       <use x=\"16317.232422\" xlink:href=\"#DejaVuSans-111\"/>\n",
       "       <use x=\"16378.414062\" xlink:href=\"#DejaVuSans-114\"/>\n",
       "       <use x=\"16419.527344\" xlink:href=\"#DejaVuSans-32\"/>\n",
       "       <use x=\"16451.314453\" xlink:href=\"#DejaVuSans-112\"/>\n",
       "       <use x=\"16514.791016\" xlink:href=\"#DejaVuSans-114\"/>\n",
       "       <use x=\"16553.654297\" xlink:href=\"#DejaVuSans-111\"/>\n",
       "       <use x=\"16614.835938\" xlink:href=\"#DejaVuSans-109\"/>\n",
       "       <use x=\"16712.248047\" xlink:href=\"#DejaVuSans-111\"/>\n",
       "       <use x=\"16773.429688\" xlink:href=\"#DejaVuSans-116\"/>\n",
       "       <use x=\"16812.638672\" xlink:href=\"#DejaVuSans-101\"/>\n",
       "       <use x=\"16874.162109\" xlink:href=\"#DejaVuSans-32\"/>\n",
       "       <use x=\"16905.949219\" xlink:href=\"#DejaVuSans-97\"/>\n",
       "       <use x=\"16967.228516\" xlink:href=\"#DejaVuSans-32\"/>\n",
       "       <use x=\"16999.015625\" xlink:href=\"#DejaVuSans-112\"/>\n",
       "       <use x=\"17062.492188\" xlink:href=\"#DejaVuSans-114\"/>\n",
       "       <use x=\"17101.355469\" xlink:href=\"#DejaVuSans-111\"/>\n",
       "       <use x=\"17162.537109\" xlink:href=\"#DejaVuSans-100\"/>\n",
       "       <use x=\"17226.013672\" xlink:href=\"#DejaVuSans-117\"/>\n",
       "       <use x=\"17289.392578\" xlink:href=\"#DejaVuSans-99\"/>\n",
       "       <use x=\"17344.373047\" xlink:href=\"#DejaVuSans-116\"/>\n",
       "       <use x=\"17383.582031\" xlink:href=\"#DejaVuSans-32\"/>\n",
       "       <use x=\"17415.369141\" xlink:href=\"#DejaVuSans-115\"/>\n",
       "       <use x=\"17467.46875\" xlink:href=\"#DejaVuSans-101\"/>\n",
       "       <use x=\"17528.992188\" xlink:href=\"#DejaVuSans-101\"/>\n",
       "       <use x=\"17590.515625\" xlink:href=\"#DejaVuSans-32\"/>\n",
       "       <use x=\"17622.302734\" xlink:href=\"#DejaVuSans-116\"/>\n",
       "       <use x=\"17661.511719\" xlink:href=\"#DejaVuSans-104\"/>\n",
       "       <use x=\"17724.890625\" xlink:href=\"#DejaVuSans-101\"/>\n",
       "       <use x=\"17786.414062\" xlink:href=\"#DejaVuSans-32\"/>\n",
       "       <use x=\"17818.201172\" xlink:href=\"#DejaVuSans-101\"/>\n",
       "       <use x=\"17877.974609\" xlink:href=\"#DejaVuSans-120\"/>\n",
       "       <use x=\"17937.154297\" xlink:href=\"#DejaVuSans-116\"/>\n",
       "       <use x=\"17976.363281\" xlink:href=\"#DejaVuSans-101\"/>\n",
       "       <use x=\"18037.886719\" xlink:href=\"#DejaVuSans-114\"/>\n",
       "       <use x=\"18077.25\" xlink:href=\"#DejaVuSans-110\"/>\n",
       "       <use x=\"18140.628906\" xlink:href=\"#DejaVuSans-97\"/>\n",
       "       <use x=\"18201.908203\" xlink:href=\"#DejaVuSans-108\"/>\n",
       "       <use x=\"18229.691406\" xlink:href=\"#DejaVuSans-32\"/>\n",
       "       <use x=\"18261.478516\" xlink:href=\"#DejaVuSans-108\"/>\n",
       "       <use x=\"18289.261719\" xlink:href=\"#DejaVuSans-105\"/>\n",
       "       <use x=\"18317.044922\" xlink:href=\"#DejaVuSans-110\"/>\n",
       "       <use x=\"18380.423828\" xlink:href=\"#DejaVuSans-107\"/>\n",
       "       <use x=\"18438.333984\" xlink:href=\"#DejaVuSans-115\"/>\n",
       "       <use x=\"18490.433594\" xlink:href=\"#DejaVuSans-32\"/>\n",
       "       <use x=\"18522.220703\" xlink:href=\"#DejaVuSans-103\"/>\n",
       "       <use x=\"18585.697266\" xlink:href=\"#DejaVuSans-117\"/>\n",
       "       <use x=\"18649.076172\" xlink:href=\"#DejaVuSans-105\"/>\n",
       "       <use x=\"18676.859375\" xlink:href=\"#DejaVuSans-100\"/>\n",
       "       <use x=\"18740.335938\" xlink:href=\"#DejaVuSans-101\"/>\n",
       "       <use x=\"18801.859375\" xlink:href=\"#DejaVuSans-108\"/>\n",
       "       <use x=\"18829.642578\" xlink:href=\"#DejaVuSans-105\"/>\n",
       "       <use x=\"18857.425781\" xlink:href=\"#DejaVuSans-110\"/>\n",
       "       <use x=\"18920.804688\" xlink:href=\"#DejaVuSans-101\"/>\n",
       "       <use x=\"18982.328125\" xlink:href=\"#DejaVuSans-32\"/>\n",
       "       <use x=\"19014.115234\" xlink:href=\"#DejaVuSans-97\"/>\n",
       "       <use x=\"19075.394531\" xlink:href=\"#DejaVuSans-110\"/>\n",
       "       <use x=\"19138.773438\" xlink:href=\"#DejaVuSans-100\"/>\n",
       "       <use x=\"19202.25\" xlink:href=\"#DejaVuSans-32\"/>\n",
       "       <use x=\"19234.037109\" xlink:href=\"#DejaVuSans-115\"/>\n",
       "       <use x=\"19286.136719\" xlink:href=\"#DejaVuSans-112\"/>\n",
       "       <use x=\"19349.613281\" xlink:href=\"#DejaVuSans-97\"/>\n",
       "       <use x=\"19410.892578\" xlink:href=\"#DejaVuSans-109\"/>\n",
       "       <use x=\"19508.304688\" xlink:href=\"#DejaVuSans-32\"/>\n",
       "       <use x=\"19540.091797\" xlink:href=\"#DejaVuSans-112\"/>\n",
       "       <use x=\"19603.568359\" xlink:href=\"#DejaVuSans-111\"/>\n",
       "       <use x=\"19664.75\" xlink:href=\"#DejaVuSans-108\"/>\n",
       "       <use x=\"19692.533203\" xlink:href=\"#DejaVuSans-105\"/>\n",
       "       <use x=\"19720.316406\" xlink:href=\"#DejaVuSans-99\"/>\n",
       "       <use x=\"19775.296875\" xlink:href=\"#DejaVuSans-105\"/>\n",
       "       <use x=\"19803.080078\" xlink:href=\"#DejaVuSans-101\"/>\n",
       "       <use x=\"19864.603516\" xlink:href=\"#DejaVuSans-115\"/>\n",
       "       <use x=\"19916.703125\" xlink:href=\"#DejaVuSans-32\"/>\n",
       "       <use x=\"19948.490234\" xlink:href=\"#DejaVuSans-102\"/>\n",
       "       <use x=\"19983.695312\" xlink:href=\"#DejaVuSans-111\"/>\n",
       "       <use x=\"20044.876953\" xlink:href=\"#DejaVuSans-114\"/>\n",
       "       <use x=\"20085.990234\" xlink:href=\"#DejaVuSans-32\"/>\n",
       "       <use x=\"20117.777344\" xlink:href=\"#DejaVuSans-102\"/>\n",
       "       <use x=\"20152.982422\" xlink:href=\"#DejaVuSans-117\"/>\n",
       "       <use x=\"20216.361328\" xlink:href=\"#DejaVuSans-114\"/>\n",
       "       <use x=\"20257.474609\" xlink:href=\"#DejaVuSans-116\"/>\n",
       "       <use x=\"20296.683594\" xlink:href=\"#DejaVuSans-104\"/>\n",
       "       <use x=\"20360.0625\" xlink:href=\"#DejaVuSans-101\"/>\n",
       "       <use x=\"20421.585938\" xlink:href=\"#DejaVuSans-114\"/>\n",
       "       <use x=\"20462.699219\" xlink:href=\"#DejaVuSans-32\"/>\n",
       "       <use x=\"20494.486328\" xlink:href=\"#DejaVuSans-101\"/>\n",
       "       <use x=\"20554.259766\" xlink:href=\"#DejaVuSans-120\"/>\n",
       "       <use x=\"20613.439453\" xlink:href=\"#DejaVuSans-112\"/>\n",
       "       <use x=\"20676.916016\" xlink:href=\"#DejaVuSans-108\"/>\n",
       "       <use x=\"20704.699219\" xlink:href=\"#DejaVuSans-97\"/>\n",
       "       <use x=\"20765.978516\" xlink:href=\"#DejaVuSans-110\"/>\n",
       "       <use x=\"20829.357422\" xlink:href=\"#DejaVuSans-97\"/>\n",
       "       <use x=\"20890.636719\" xlink:href=\"#DejaVuSans-116\"/>\n",
       "       <use x=\"20929.845703\" xlink:href=\"#DejaVuSans-105\"/>\n",
       "       <use x=\"20957.628906\" xlink:href=\"#DejaVuSans-111\"/>\n",
       "       <use x=\"21018.810547\" xlink:href=\"#DejaVuSans-110\"/>\n",
       "       <use x=\"21082.189453\" xlink:href=\"#DejaVuSans-115\"/>\n",
       "       <use x=\"21134.289062\" xlink:href=\"#DejaVuSans-32\"/>\n",
       "       <use x=\"21166.076172\" xlink:href=\"#DejaVuSans-111\"/>\n",
       "       <use x=\"21227.257812\" xlink:href=\"#DejaVuSans-102\"/>\n",
       "       <use x=\"21262.462891\" xlink:href=\"#DejaVuSans-32\"/>\n",
       "       <use x=\"21294.25\" xlink:href=\"#DejaVuSans-108\"/>\n",
       "       <use x=\"21322.033203\" xlink:href=\"#DejaVuSans-105\"/>\n",
       "       <use x=\"21349.816406\" xlink:href=\"#DejaVuSans-110\"/>\n",
       "       <use x=\"21413.195312\" xlink:href=\"#DejaVuSans-107\"/>\n",
       "       <use x=\"21471.105469\" xlink:href=\"#DejaVuSans-115\"/>\n",
       "       <use x=\"21523.205078\" xlink:href=\"#DejaVuSans-32\"/>\n",
       "       <use x=\"21554.992188\" xlink:href=\"#DejaVuSans-116\"/>\n",
       "       <use x=\"21594.201172\" xlink:href=\"#DejaVuSans-104\"/>\n",
       "       <use x=\"21657.580078\" xlink:href=\"#DejaVuSans-97\"/>\n",
       "       <use x=\"21718.859375\" xlink:href=\"#DejaVuSans-116\"/>\n",
       "       <use x=\"21758.068359\" xlink:href=\"#DejaVuSans-32\"/>\n",
       "       <use x=\"21789.855469\" xlink:href=\"#DejaVuSans-97\"/>\n",
       "       <use x=\"21851.134766\" xlink:href=\"#DejaVuSans-114\"/>\n",
       "       <use x=\"21889.998047\" xlink:href=\"#DejaVuSans-101\"/>\n",
       "       <use x=\"21951.521484\" xlink:href=\"#DejaVuSans-32\"/>\n",
       "       <use x=\"21983.308594\" xlink:href=\"#DejaVuSans-99\"/>\n",
       "       <use x=\"22038.289062\" xlink:href=\"#DejaVuSans-111\"/>\n",
       "       <use x=\"22099.470703\" xlink:href=\"#DejaVuSans-110\"/>\n",
       "       <use x=\"22162.849609\" xlink:href=\"#DejaVuSans-115\"/>\n",
       "       <use x=\"22214.949219\" xlink:href=\"#DejaVuSans-105\"/>\n",
       "       <use x=\"22242.732422\" xlink:href=\"#DejaVuSans-100\"/>\n",
       "       <use x=\"22306.208984\" xlink:href=\"#DejaVuSans-101\"/>\n",
       "       <use x=\"22367.732422\" xlink:href=\"#DejaVuSans-114\"/>\n",
       "       <use x=\"22406.595703\" xlink:href=\"#DejaVuSans-101\"/>\n",
       "       <use x=\"22468.119141\" xlink:href=\"#DejaVuSans-100\"/>\n",
       "       <use x=\"22531.595703\" xlink:href=\"#DejaVuSans-32\"/>\n",
       "       <use x=\"22563.382812\" xlink:href=\"#DejaVuSans-97\"/>\n",
       "       <use x=\"22624.662109\" xlink:href=\"#DejaVuSans-112\"/>\n",
       "       <use x=\"22688.138672\" xlink:href=\"#DejaVuSans-112\"/>\n",
       "       <use x=\"22751.615234\" xlink:href=\"#DejaVuSans-114\"/>\n",
       "       <use x=\"22790.478516\" xlink:href=\"#DejaVuSans-111\"/>\n",
       "       <use x=\"22851.660156\" xlink:href=\"#DejaVuSans-112\"/>\n",
       "       <use x=\"22915.136719\" xlink:href=\"#DejaVuSans-114\"/>\n",
       "       <use x=\"22956.25\" xlink:href=\"#DejaVuSans-105\"/>\n",
       "       <use x=\"22984.033203\" xlink:href=\"#DejaVuSans-97\"/>\n",
       "       <use x=\"23045.3125\" xlink:href=\"#DejaVuSans-116\"/>\n",
       "       <use x=\"23084.521484\" xlink:href=\"#DejaVuSans-101\"/>\n",
       "       <use x=\"23146.044922\" xlink:href=\"#DejaVuSans-32\"/>\n",
       "       <use x=\"23177.832031\" xlink:href=\"#DejaVuSans-105\"/>\n",
       "       <use x=\"23205.615234\" xlink:href=\"#DejaVuSans-102\"/>\n",
       "       <use x=\"23240.820312\" xlink:href=\"#DejaVuSans-32\"/>\n",
       "       <use x=\"23272.607422\" xlink:href=\"#DejaVuSans-121\"/>\n",
       "       <use x=\"23331.787109\" xlink:href=\"#DejaVuSans-111\"/>\n",
       "       <use x=\"23392.96875\" xlink:href=\"#DejaVuSans-117\"/>\n",
       "       <use x=\"23456.347656\" xlink:href=\"#DejaVuSans-32\"/>\n",
       "       <use x=\"23488.134766\" xlink:href=\"#DejaVuSans-102\"/>\n",
       "       <use x=\"23523.339844\" xlink:href=\"#DejaVuSans-101\"/>\n",
       "       <use x=\"23584.863281\" xlink:href=\"#DejaVuSans-101\"/>\n",
       "       <use x=\"23646.386719\" xlink:href=\"#DejaVuSans-108\"/>\n",
       "       <use x=\"23674.169922\" xlink:href=\"#DejaVuSans-32\"/>\n",
       "       <use x=\"23705.957031\" xlink:href=\"#DejaVuSans-116\"/>\n",
       "       <use x=\"23745.166016\" xlink:href=\"#DejaVuSans-104\"/>\n",
       "       <use x=\"23808.544922\" xlink:href=\"#DejaVuSans-101\"/>\n",
       "       <use x=\"23870.068359\" xlink:href=\"#DejaVuSans-32\"/>\n",
       "       <use x=\"23901.855469\" xlink:href=\"#DejaVuSans-108\"/>\n",
       "       <use x=\"23929.638672\" xlink:href=\"#DejaVuSans-105\"/>\n",
       "       <use x=\"23957.421875\" xlink:href=\"#DejaVuSans-110\"/>\n",
       "       <use x=\"24020.800781\" xlink:href=\"#DejaVuSans-107\"/>\n",
       "       <use x=\"24078.710938\" xlink:href=\"#DejaVuSans-32\"/>\n",
       "       <use x=\"24110.498047\" xlink:href=\"#DejaVuSans-115\"/>\n",
       "       <use x=\"24162.597656\" xlink:href=\"#DejaVuSans-104\"/>\n",
       "       <use x=\"24225.976562\" xlink:href=\"#DejaVuSans-111\"/>\n",
       "       <use x=\"24287.158203\" xlink:href=\"#DejaVuSans-117\"/>\n",
       "       <use x=\"24350.537109\" xlink:href=\"#DejaVuSans-108\"/>\n",
       "       <use x=\"24378.320312\" xlink:href=\"#DejaVuSans-100\"/>\n",
       "       <use x=\"24441.796875\" xlink:href=\"#DejaVuSans-32\"/>\n",
       "       <use x=\"24473.583984\" xlink:href=\"#DejaVuSans-98\"/>\n",
       "       <use x=\"24537.060547\" xlink:href=\"#DejaVuSans-101\"/>\n",
       "       <use x=\"24598.583984\" xlink:href=\"#DejaVuSans-32\"/>\n",
       "       <use x=\"24630.371094\" xlink:href=\"#DejaVuSans-97\"/>\n",
       "       <use x=\"24691.650391\" xlink:href=\"#DejaVuSans-100\"/>\n",
       "       <use x=\"24755.126953\" xlink:href=\"#DejaVuSans-100\"/>\n",
       "       <use x=\"24818.603516\" xlink:href=\"#DejaVuSans-101\"/>\n",
       "       <use x=\"24880.126953\" xlink:href=\"#DejaVuSans-100\"/>\n",
       "       <use x=\"24943.603516\" xlink:href=\"#DejaVuSans-32\"/>\n",
       "       <use x=\"24975.390625\" xlink:href=\"#DejaVuSans-116\"/>\n",
       "       <use x=\"25014.599609\" xlink:href=\"#DejaVuSans-111\"/>\n",
       "       <use x=\"25075.78125\" xlink:href=\"#DejaVuSans-32\"/>\n",
       "       <use x=\"25107.568359\" xlink:href=\"#DejaVuSans-116\"/>\n",
       "       <use x=\"25146.777344\" xlink:href=\"#DejaVuSans-104\"/>\n",
       "       <use x=\"25210.15625\" xlink:href=\"#DejaVuSans-101\"/>\n",
       "       <use x=\"25271.679688\" xlink:href=\"#DejaVuSans-32\"/>\n",
       "       <use x=\"25303.466797\" xlink:href=\"#DejaVuSans-97\"/>\n",
       "       <use x=\"25364.746094\" xlink:href=\"#DejaVuSans-114\"/>\n",
       "       <use x=\"25405.859375\" xlink:href=\"#DejaVuSans-116\"/>\n",
       "       <use x=\"25445.068359\" xlink:href=\"#DejaVuSans-105\"/>\n",
       "       <use x=\"25472.851562\" xlink:href=\"#DejaVuSans-99\"/>\n",
       "       <use x=\"25527.832031\" xlink:href=\"#DejaVuSans-108\"/>\n",
       "       <use x=\"25555.615234\" xlink:href=\"#DejaVuSans-101\"/>\n",
       "       <use x=\"25617.138672\" xlink:href=\"#DejaVuSans-32\"/>\n",
       "       <use x=\"25648.925781\" xlink:href=\"#DejaVuSans-116\"/>\n",
       "       <use x=\"25688.134766\" xlink:href=\"#DejaVuSans-104\"/>\n",
       "       <use x=\"25751.513672\" xlink:href=\"#DejaVuSans-101\"/>\n",
       "       <use x=\"25813.037109\" xlink:href=\"#DejaVuSans-110\"/>\n",
       "       <use x=\"25876.416016\" xlink:href=\"#DejaVuSans-32\"/>\n",
       "       <use x=\"25908.203125\" xlink:href=\"#DejaVuSans-112\"/>\n",
       "       <use x=\"25971.679688\" xlink:href=\"#DejaVuSans-108\"/>\n",
       "       <use x=\"25999.462891\" xlink:href=\"#DejaVuSans-101\"/>\n",
       "       <use x=\"26060.986328\" xlink:href=\"#DejaVuSans-97\"/>\n",
       "       <use x=\"26122.265625\" xlink:href=\"#DejaVuSans-115\"/>\n",
       "       <use x=\"26174.365234\" xlink:href=\"#DejaVuSans-101\"/>\n",
       "       <use x=\"26235.888672\" xlink:href=\"#DejaVuSans-32\"/>\n",
       "       <use x=\"26267.675781\" xlink:href=\"#DejaVuSans-100\"/>\n",
       "       <use x=\"26331.152344\" xlink:href=\"#DejaVuSans-105\"/>\n",
       "       <use x=\"26358.935547\" xlink:href=\"#DejaVuSans-115\"/>\n",
       "       <use x=\"26411.035156\" xlink:href=\"#DejaVuSans-99\"/>\n",
       "       <use x=\"26466.015625\" xlink:href=\"#DejaVuSans-117\"/>\n",
       "       <use x=\"26529.394531\" xlink:href=\"#DejaVuSans-115\"/>\n",
       "       <use x=\"26581.494141\" xlink:href=\"#DejaVuSans-115\"/>\n",
       "       <use x=\"26633.59375\" xlink:href=\"#DejaVuSans-32\"/>\n",
       "       <use x=\"26665.380859\" xlink:href=\"#DejaVuSans-105\"/>\n",
       "       <use x=\"26693.164062\" xlink:href=\"#DejaVuSans-116\"/>\n",
       "       <use x=\"26732.373047\" xlink:href=\"#DejaVuSans-32\"/>\n",
       "       <use x=\"26764.160156\" xlink:href=\"#DejaVuSans-111\"/>\n",
       "       <use x=\"26825.341797\" xlink:href=\"#DejaVuSans-110\"/>\n",
       "       <use x=\"26888.720703\" xlink:href=\"#DejaVuSans-32\"/>\n",
       "       <use x=\"26920.507812\" xlink:href=\"#DejaVuSans-116\"/>\n",
       "       <use x=\"26959.716797\" xlink:href=\"#DejaVuSans-104\"/>\n",
       "       <use x=\"27023.095703\" xlink:href=\"#DejaVuSans-101\"/>\n",
       "       <use x=\"27084.619141\" xlink:href=\"#DejaVuSans-32\"/>\n",
       "       <use x=\"27116.40625\" xlink:href=\"#DejaVuSans-97\"/>\n",
       "       <use x=\"27177.685547\" xlink:href=\"#DejaVuSans-114\"/>\n",
       "       <use x=\"27218.798828\" xlink:href=\"#DejaVuSans-116\"/>\n",
       "       <use x=\"27258.007812\" xlink:href=\"#DejaVuSans-105\"/>\n",
       "       <use x=\"27285.791016\" xlink:href=\"#DejaVuSans-99\"/>\n",
       "       <use x=\"27340.771484\" xlink:href=\"#DejaVuSans-108\"/>\n",
       "       <use x=\"27368.554688\" xlink:href=\"#DejaVuSans-101\"/>\n",
       "       <use x=\"27430.078125\" xlink:href=\"#DejaVuSans-32\"/>\n",
       "       <use x=\"27461.865234\" xlink:href=\"#DejaVuSans-115\"/>\n",
       "       <use x=\"27513.964844\" xlink:href=\"#DejaVuSans-32\"/>\n",
       "       <use x=\"27545.751953\" xlink:href=\"#DejaVuSans-116\"/>\n",
       "       <use x=\"27584.960938\" xlink:href=\"#DejaVuSans-97\"/>\n",
       "       <use x=\"27646.240234\" xlink:href=\"#DejaVuSans-108\"/>\n",
       "       <use x=\"27674.023438\" xlink:href=\"#DejaVuSans-107\"/>\n",
       "       <use x=\"27731.933594\" xlink:href=\"#DejaVuSans-32\"/>\n",
       "       <use x=\"27763.720703\" xlink:href=\"#DejaVuSans-112\"/>\n",
       "       <use x=\"27827.197266\" xlink:href=\"#DejaVuSans-97\"/>\n",
       "       <use x=\"27888.476562\" xlink:href=\"#DejaVuSans-103\"/>\n",
       "       <use x=\"27951.953125\" xlink:href=\"#DejaVuSans-101\"/>\n",
       "       <use x=\"28013.476562\" xlink:href=\"#DejaVuSans-32\"/>\n",
       "       <use x=\"28045.263672\" xlink:href=\"#DejaVuSans-114\"/>\n",
       "       <use x=\"28086.376953\" xlink:href=\"#DejaVuSans-97\"/>\n",
       "       <use x=\"28147.65625\" xlink:href=\"#DejaVuSans-116\"/>\n",
       "       <use x=\"28186.865234\" xlink:href=\"#DejaVuSans-104\"/>\n",
       "       <use x=\"28250.244141\" xlink:href=\"#DejaVuSans-101\"/>\n",
       "       <use x=\"28311.767578\" xlink:href=\"#DejaVuSans-114\"/>\n",
       "       <use x=\"28352.880859\" xlink:href=\"#DejaVuSans-32\"/>\n",
       "       <use x=\"28384.667969\" xlink:href=\"#DejaVuSans-116\"/>\n",
       "       <use x=\"28423.876953\" xlink:href=\"#DejaVuSans-104\"/>\n",
       "       <use x=\"28487.255859\" xlink:href=\"#DejaVuSans-97\"/>\n",
       "       <use x=\"28548.535156\" xlink:href=\"#DejaVuSans-110\"/>\n",
       "       <use x=\"28611.914062\" xlink:href=\"#DejaVuSans-32\"/>\n",
       "       <use x=\"28643.701172\" xlink:href=\"#DejaVuSans-114\"/>\n",
       "       <use x=\"28682.564453\" xlink:href=\"#DejaVuSans-101\"/>\n",
       "       <use x=\"28744.087891\" xlink:href=\"#DejaVuSans-32\"/>\n",
       "       <use x=\"28775.875\" xlink:href=\"#DejaVuSans-97\"/>\n",
       "       <use x=\"28837.154297\" xlink:href=\"#DejaVuSans-100\"/>\n",
       "       <use x=\"28900.630859\" xlink:href=\"#DejaVuSans-100\"/>\n",
       "       <use x=\"28964.107422\" xlink:href=\"#DejaVuSans-105\"/>\n",
       "       <use x=\"28991.890625\" xlink:href=\"#DejaVuSans-110\"/>\n",
       "       <use x=\"29055.269531\" xlink:href=\"#DejaVuSans-103\"/>\n",
       "       <use x=\"29118.746094\" xlink:href=\"#DejaVuSans-32\"/>\n",
       "       <use x=\"29150.533203\" xlink:href=\"#DejaVuSans-105\"/>\n",
       "       <use x=\"29178.316406\" xlink:href=\"#DejaVuSans-116\"/>\n",
       "       <use x=\"29217.525391\" xlink:href=\"#DejaVuSans-32\"/>\n",
       "       <use x=\"29249.3125\" xlink:href=\"#DejaVuSans-115\"/>\n",
       "       <use x=\"29301.412109\" xlink:href=\"#DejaVuSans-101\"/>\n",
       "       <use x=\"29362.935547\" xlink:href=\"#DejaVuSans-101\"/>\n",
       "       <use x=\"29424.458984\" xlink:href=\"#DejaVuSans-32\"/>\n",
       "       <use x=\"29456.246094\" xlink:href=\"#DejaVuSans-116\"/>\n",
       "       <use x=\"29495.455078\" xlink:href=\"#DejaVuSans-104\"/>\n",
       "       <use x=\"29558.833984\" xlink:href=\"#DejaVuSans-101\"/>\n",
       "       <use x=\"29620.357422\" xlink:href=\"#DejaVuSans-32\"/>\n",
       "       <use x=\"29652.144531\" xlink:href=\"#DejaVuSans-119\"/>\n",
       "       <use x=\"29733.931641\" xlink:href=\"#DejaVuSans-101\"/>\n",
       "       <use x=\"29795.455078\" xlink:href=\"#DejaVuSans-108\"/>\n",
       "       <use x=\"29823.238281\" xlink:href=\"#DejaVuSans-99\"/>\n",
       "       <use x=\"29878.21875\" xlink:href=\"#DejaVuSans-111\"/>\n",
       "       <use x=\"29939.400391\" xlink:href=\"#DejaVuSans-109\"/>\n",
       "       <use x=\"30036.8125\" xlink:href=\"#DejaVuSans-101\"/>\n",
       "       <use x=\"30098.335938\" xlink:href=\"#DejaVuSans-32\"/>\n",
       "       <use x=\"30130.123047\" xlink:href=\"#DejaVuSans-112\"/>\n",
       "       <use x=\"30193.599609\" xlink:href=\"#DejaVuSans-97\"/>\n",
       "       <use x=\"30254.878906\" xlink:href=\"#DejaVuSans-103\"/>\n",
       "       <use x=\"30318.355469\" xlink:href=\"#DejaVuSans-101\"/>\n",
       "       <use x=\"30379.878906\" xlink:href=\"#DejaVuSans-32\"/>\n",
       "       <use x=\"30411.666016\" xlink:href=\"#DejaVuSans-116\"/>\n",
       "       <use x=\"30450.875\" xlink:href=\"#DejaVuSans-111\"/>\n",
       "       <use x=\"30512.056641\" xlink:href=\"#DejaVuSans-32\"/>\n",
       "       <use x=\"30543.84375\" xlink:href=\"#DejaVuSans-108\"/>\n",
       "       <use x=\"30571.626953\" xlink:href=\"#DejaVuSans-101\"/>\n",
       "       <use x=\"30633.150391\" xlink:href=\"#DejaVuSans-97\"/>\n",
       "       <use x=\"30694.429688\" xlink:href=\"#DejaVuSans-114\"/>\n",
       "       <use x=\"30733.792969\" xlink:href=\"#DejaVuSans-110\"/>\n",
       "       <use x=\"30797.171875\" xlink:href=\"#DejaVuSans-32\"/>\n",
       "       <use x=\"30828.958984\" xlink:href=\"#DejaVuSans-109\"/>\n",
       "       <use x=\"30926.371094\" xlink:href=\"#DejaVuSans-111\"/>\n",
       "       <use x=\"30987.552734\" xlink:href=\"#DejaVuSans-114\"/>\n",
       "       <use x=\"31026.416016\" xlink:href=\"#DejaVuSans-101\"/>\n",
       "       <use x=\"31087.939453\" xlink:href=\"#DejaVuSans-32\"/>\n",
       "       <use x=\"31119.726562\" xlink:href=\"#DejaVuSans-97\"/>\n",
       "       <use x=\"31181.005859\" xlink:href=\"#DejaVuSans-98\"/>\n",
       "       <use x=\"31244.482422\" xlink:href=\"#DejaVuSans-111\"/>\n",
       "       <use x=\"31305.664062\" xlink:href=\"#DejaVuSans-117\"/>\n",
       "       <use x=\"31369.042969\" xlink:href=\"#DejaVuSans-116\"/>\n",
       "       <use x=\"31408.251953\" xlink:href=\"#DejaVuSans-32\"/>\n",
       "       <use x=\"31440.039062\" xlink:href=\"#DejaVuSans-119\"/>\n",
       "       <use x=\"31521.826172\" xlink:href=\"#DejaVuSans-105\"/>\n",
       "       <use x=\"31549.609375\" xlink:href=\"#DejaVuSans-107\"/>\n",
       "       <use x=\"31607.519531\" xlink:href=\"#DejaVuSans-105\"/>\n",
       "       <use x=\"31635.302734\" xlink:href=\"#DejaVuSans-112\"/>\n",
       "       <use x=\"31698.779297\" xlink:href=\"#DejaVuSans-101\"/>\n",
       "       <use x=\"31760.302734\" xlink:href=\"#DejaVuSans-100\"/>\n",
       "       <use x=\"31823.779297\" xlink:href=\"#DejaVuSans-105\"/>\n",
       "       <use x=\"31851.5625\" xlink:href=\"#DejaVuSans-97\"/>\n",
       "       <use x=\"31912.841797\" xlink:href=\"#DejaVuSans-32\"/>\n",
       "       <use x=\"31944.628906\" xlink:href=\"#DejaVuSans-116\"/>\n",
       "       <use x=\"31983.837891\" xlink:href=\"#DejaVuSans-104\"/>\n",
       "       <use x=\"32047.216797\" xlink:href=\"#DejaVuSans-97\"/>\n",
       "       <use x=\"32108.496094\" xlink:href=\"#DejaVuSans-110\"/>\n",
       "       <use x=\"32171.875\" xlink:href=\"#DejaVuSans-107\"/>\n",
       "       <use x=\"32229.785156\" xlink:href=\"#DejaVuSans-32\"/>\n",
       "       <use x=\"32261.572266\" xlink:href=\"#DejaVuSans-121\"/>\n",
       "       <use x=\"32320.751953\" xlink:href=\"#DejaVuSans-111\"/>\n",
       "       <use x=\"32381.933594\" xlink:href=\"#DejaVuSans-117\"/>\n",
       "       <use x=\"32445.3125\" xlink:href=\"#DejaVuSans-32\"/>\n",
       "       <use x=\"32477.099609\" xlink:href=\"#DejaVuSans-116\"/>\n",
       "       <use x=\"32516.308594\" xlink:href=\"#DejaVuSans-97\"/>\n",
       "       <use x=\"32577.587891\" xlink:href=\"#DejaVuSans-108\"/>\n",
       "       <use x=\"32605.371094\" xlink:href=\"#DejaVuSans-107\"/>\n",
       "      </g>\n",
       "     </g>\n",
       "    </g>\n",
       "    <g id=\"xtick_30\">\n",
       "     <g id=\"line2d_59\">\n",
       "      <path clip-path=\"url(#p7b77b298fc)\" d=\"M 573.239489 333.36 \n",
       "L 573.239489 7.2 \n",
       "\" style=\"fill:none;stroke:#c0c0c0;stroke-linecap:square;stroke-width:0.8;\"/>\n",
       "     </g>\n",
       "     <g id=\"line2d_60\">\n",
       "      <g>\n",
       "       <use style=\"stroke:#000000;stroke-width:0.8;\" x=\"573.239489\" xlink:href=\"#m6d9b36f697\" y=\"333.36\"/>\n",
       "      </g>\n",
       "     </g>\n",
       "     <g id=\"text_30\">\n",
       "      <!--  september utc -->\n",
       "      <g transform=\"translate(575.998864 416.61)rotate(-90)scale(0.1 -0.1)\">\n",
       "       <use xlink:href=\"#DejaVuSans-32\"/>\n",
       "       <use x=\"31.787109\" xlink:href=\"#DejaVuSans-115\"/>\n",
       "       <use x=\"83.886719\" xlink:href=\"#DejaVuSans-101\"/>\n",
       "       <use x=\"145.410156\" xlink:href=\"#DejaVuSans-112\"/>\n",
       "       <use x=\"208.886719\" xlink:href=\"#DejaVuSans-116\"/>\n",
       "       <use x=\"248.095703\" xlink:href=\"#DejaVuSans-101\"/>\n",
       "       <use x=\"309.619141\" xlink:href=\"#DejaVuSans-109\"/>\n",
       "       <use x=\"407.03125\" xlink:href=\"#DejaVuSans-98\"/>\n",
       "       <use x=\"470.507812\" xlink:href=\"#DejaVuSans-101\"/>\n",
       "       <use x=\"532.03125\" xlink:href=\"#DejaVuSans-114\"/>\n",
       "       <use x=\"573.144531\" xlink:href=\"#DejaVuSans-32\"/>\n",
       "       <use x=\"604.931641\" xlink:href=\"#DejaVuSans-117\"/>\n",
       "       <use x=\"668.310547\" xlink:href=\"#DejaVuSans-116\"/>\n",
       "       <use x=\"707.519531\" xlink:href=\"#DejaVuSans-99\"/>\n",
       "      </g>\n",
       "     </g>\n",
       "    </g>\n",
       "    <g id=\"text_31\">\n",
       "     <!-- Samples -->\n",
       "     <g transform=\"translate(298.25 3618.238125)scale(0.1 -0.1)\">\n",
       "      <defs>\n",
       "       <path d=\"M 53.515625 70.515625 \n",
       "L 53.515625 60.890625 \n",
       "Q 47.90625 63.578125 42.921875 64.890625 \n",
       "Q 37.9375 66.21875 33.296875 66.21875 \n",
       "Q 25.25 66.21875 20.875 63.09375 \n",
       "Q 16.5 59.96875 16.5 54.203125 \n",
       "Q 16.5 49.359375 19.40625 46.890625 \n",
       "Q 22.3125 44.4375 30.421875 42.921875 \n",
       "L 36.375 41.703125 \n",
       "Q 47.40625 39.59375 52.65625 34.296875 \n",
       "Q 57.90625 29 57.90625 20.125 \n",
       "Q 57.90625 9.515625 50.796875 4.046875 \n",
       "Q 43.703125 -1.421875 29.984375 -1.421875 \n",
       "Q 24.8125 -1.421875 18.96875 -0.25 \n",
       "Q 13.140625 0.921875 6.890625 3.21875 \n",
       "L 6.890625 13.375 \n",
       "Q 12.890625 10.015625 18.65625 8.296875 \n",
       "Q 24.421875 6.59375 29.984375 6.59375 \n",
       "Q 38.421875 6.59375 43.015625 9.90625 \n",
       "Q 47.609375 13.234375 47.609375 19.390625 \n",
       "Q 47.609375 24.75 44.3125 27.78125 \n",
       "Q 41.015625 30.8125 33.5 32.328125 \n",
       "L 27.484375 33.5 \n",
       "Q 16.453125 35.6875 11.515625 40.375 \n",
       "Q 6.59375 45.0625 6.59375 53.421875 \n",
       "Q 6.59375 63.09375 13.40625 68.65625 \n",
       "Q 20.21875 74.21875 32.171875 74.21875 \n",
       "Q 37.3125 74.21875 42.625 73.28125 \n",
       "Q 47.953125 72.359375 53.515625 70.515625 \n",
       "z\n",
       "\" id=\"DejaVuSans-83\"/>\n",
       "      </defs>\n",
       "      <use xlink:href=\"#DejaVuSans-83\"/>\n",
       "      <use x=\"63.476562\" xlink:href=\"#DejaVuSans-97\"/>\n",
       "      <use x=\"124.755859\" xlink:href=\"#DejaVuSans-109\"/>\n",
       "      <use x=\"222.167969\" xlink:href=\"#DejaVuSans-112\"/>\n",
       "      <use x=\"285.644531\" xlink:href=\"#DejaVuSans-108\"/>\n",
       "      <use x=\"313.427734\" xlink:href=\"#DejaVuSans-101\"/>\n",
       "      <use x=\"374.951172\" xlink:href=\"#DejaVuSans-115\"/>\n",
       "     </g>\n",
       "    </g>\n",
       "   </g>\n",
       "   <g id=\"matplotlib.axis_2\">\n",
       "    <g id=\"ytick_1\">\n",
       "     <g id=\"line2d_61\">\n",
       "      <path clip-path=\"url(#p7b77b298fc)\" d=\"M 40.603125 318.534545 \n",
       "L 598.603125 318.534545 \n",
       "\" style=\"fill:none;stroke:#c0c0c0;stroke-linecap:square;stroke-width:0.8;\"/>\n",
       "     </g>\n",
       "     <g id=\"line2d_62\">\n",
       "      <defs>\n",
       "       <path d=\"M 0 0 \n",
       "L -3.5 0 \n",
       "\" id=\"m3a223d0ab4\" style=\"stroke:#000000;stroke-width:0.8;\"/>\n",
       "      </defs>\n",
       "      <g>\n",
       "       <use style=\"stroke:#000000;stroke-width:0.8;\" x=\"40.603125\" xlink:href=\"#m3a223d0ab4\" y=\"318.534545\"/>\n",
       "      </g>\n",
       "     </g>\n",
       "     <g id=\"text_32\">\n",
       "      <!-- 8 -->\n",
       "      <g transform=\"translate(27.240625 322.333764)scale(0.1 -0.1)\">\n",
       "       <defs>\n",
       "        <path d=\"M 31.78125 34.625 \n",
       "Q 24.75 34.625 20.71875 30.859375 \n",
       "Q 16.703125 27.09375 16.703125 20.515625 \n",
       "Q 16.703125 13.921875 20.71875 10.15625 \n",
       "Q 24.75 6.390625 31.78125 6.390625 \n",
       "Q 38.8125 6.390625 42.859375 10.171875 \n",
       "Q 46.921875 13.96875 46.921875 20.515625 \n",
       "Q 46.921875 27.09375 42.890625 30.859375 \n",
       "Q 38.875 34.625 31.78125 34.625 \n",
       "z\n",
       "M 21.921875 38.8125 \n",
       "Q 15.578125 40.375 12.03125 44.71875 \n",
       "Q 8.5 49.078125 8.5 55.328125 \n",
       "Q 8.5 64.0625 14.71875 69.140625 \n",
       "Q 20.953125 74.21875 31.78125 74.21875 \n",
       "Q 42.671875 74.21875 48.875 69.140625 \n",
       "Q 55.078125 64.0625 55.078125 55.328125 \n",
       "Q 55.078125 49.078125 51.53125 44.71875 \n",
       "Q 48 40.375 41.703125 38.8125 \n",
       "Q 48.828125 37.15625 52.796875 32.3125 \n",
       "Q 56.78125 27.484375 56.78125 20.515625 \n",
       "Q 56.78125 9.90625 50.3125 4.234375 \n",
       "Q 43.84375 -1.421875 31.78125 -1.421875 \n",
       "Q 19.734375 -1.421875 13.25 4.234375 \n",
       "Q 6.78125 9.90625 6.78125 20.515625 \n",
       "Q 6.78125 27.484375 10.78125 32.3125 \n",
       "Q 14.796875 37.15625 21.921875 38.8125 \n",
       "z\n",
       "M 18.3125 54.390625 \n",
       "Q 18.3125 48.734375 21.84375 45.5625 \n",
       "Q 25.390625 42.390625 31.78125 42.390625 \n",
       "Q 38.140625 42.390625 41.71875 45.5625 \n",
       "Q 45.3125 48.734375 45.3125 54.390625 \n",
       "Q 45.3125 60.0625 41.71875 63.234375 \n",
       "Q 38.140625 66.40625 31.78125 66.40625 \n",
       "Q 25.390625 66.40625 21.84375 63.234375 \n",
       "Q 18.3125 60.0625 18.3125 54.390625 \n",
       "z\n",
       "\" id=\"DejaVuSans-56\"/>\n",
       "       </defs>\n",
       "       <use xlink:href=\"#DejaVuSans-56\"/>\n",
       "      </g>\n",
       "     </g>\n",
       "    </g>\n",
       "    <g id=\"ytick_2\">\n",
       "     <g id=\"line2d_63\">\n",
       "      <path clip-path=\"url(#p7b77b298fc)\" d=\"M 40.603125 272.917762 \n",
       "L 598.603125 272.917762 \n",
       "\" style=\"fill:none;stroke:#c0c0c0;stroke-linecap:square;stroke-width:0.8;\"/>\n",
       "     </g>\n",
       "     <g id=\"line2d_64\">\n",
       "      <g>\n",
       "       <use style=\"stroke:#000000;stroke-width:0.8;\" x=\"40.603125\" xlink:href=\"#m3a223d0ab4\" y=\"272.917762\"/>\n",
       "      </g>\n",
       "     </g>\n",
       "     <g id=\"text_33\">\n",
       "      <!-- 10 -->\n",
       "      <g transform=\"translate(20.878125 276.716981)scale(0.1 -0.1)\">\n",
       "       <defs>\n",
       "        <path d=\"M 12.40625 8.296875 \n",
       "L 28.515625 8.296875 \n",
       "L 28.515625 63.921875 \n",
       "L 10.984375 60.40625 \n",
       "L 10.984375 69.390625 \n",
       "L 28.421875 72.90625 \n",
       "L 38.28125 72.90625 \n",
       "L 38.28125 8.296875 \n",
       "L 54.390625 8.296875 \n",
       "L 54.390625 0 \n",
       "L 12.40625 0 \n",
       "z\n",
       "\" id=\"DejaVuSans-49\"/>\n",
       "        <path d=\"M 31.78125 66.40625 \n",
       "Q 24.171875 66.40625 20.328125 58.90625 \n",
       "Q 16.5 51.421875 16.5 36.375 \n",
       "Q 16.5 21.390625 20.328125 13.890625 \n",
       "Q 24.171875 6.390625 31.78125 6.390625 \n",
       "Q 39.453125 6.390625 43.28125 13.890625 \n",
       "Q 47.125 21.390625 47.125 36.375 \n",
       "Q 47.125 51.421875 43.28125 58.90625 \n",
       "Q 39.453125 66.40625 31.78125 66.40625 \n",
       "z\n",
       "M 31.78125 74.21875 \n",
       "Q 44.046875 74.21875 50.515625 64.515625 \n",
       "Q 56.984375 54.828125 56.984375 36.375 \n",
       "Q 56.984375 17.96875 50.515625 8.265625 \n",
       "Q 44.046875 -1.421875 31.78125 -1.421875 \n",
       "Q 19.53125 -1.421875 13.0625 8.265625 \n",
       "Q 6.59375 17.96875 6.59375 36.375 \n",
       "Q 6.59375 54.828125 13.0625 64.515625 \n",
       "Q 19.53125 74.21875 31.78125 74.21875 \n",
       "z\n",
       "\" id=\"DejaVuSans-48\"/>\n",
       "       </defs>\n",
       "       <use xlink:href=\"#DejaVuSans-49\"/>\n",
       "       <use x=\"63.623047\" xlink:href=\"#DejaVuSans-48\"/>\n",
       "      </g>\n",
       "     </g>\n",
       "    </g>\n",
       "    <g id=\"ytick_3\">\n",
       "     <g id=\"line2d_65\">\n",
       "      <path clip-path=\"url(#p7b77b298fc)\" d=\"M 40.603125 227.300979 \n",
       "L 598.603125 227.300979 \n",
       "\" style=\"fill:none;stroke:#c0c0c0;stroke-linecap:square;stroke-width:0.8;\"/>\n",
       "     </g>\n",
       "     <g id=\"line2d_66\">\n",
       "      <g>\n",
       "       <use style=\"stroke:#000000;stroke-width:0.8;\" x=\"40.603125\" xlink:href=\"#m3a223d0ab4\" y=\"227.300979\"/>\n",
       "      </g>\n",
       "     </g>\n",
       "     <g id=\"text_34\">\n",
       "      <!-- 12 -->\n",
       "      <g transform=\"translate(20.878125 231.100198)scale(0.1 -0.1)\">\n",
       "       <defs>\n",
       "        <path d=\"M 19.1875 8.296875 \n",
       "L 53.609375 8.296875 \n",
       "L 53.609375 0 \n",
       "L 7.328125 0 \n",
       "L 7.328125 8.296875 \n",
       "Q 12.9375 14.109375 22.625 23.890625 \n",
       "Q 32.328125 33.6875 34.8125 36.53125 \n",
       "Q 39.546875 41.84375 41.421875 45.53125 \n",
       "Q 43.3125 49.21875 43.3125 52.78125 \n",
       "Q 43.3125 58.59375 39.234375 62.25 \n",
       "Q 35.15625 65.921875 28.609375 65.921875 \n",
       "Q 23.96875 65.921875 18.8125 64.3125 \n",
       "Q 13.671875 62.703125 7.8125 59.421875 \n",
       "L 7.8125 69.390625 \n",
       "Q 13.765625 71.78125 18.9375 73 \n",
       "Q 24.125 74.21875 28.421875 74.21875 \n",
       "Q 39.75 74.21875 46.484375 68.546875 \n",
       "Q 53.21875 62.890625 53.21875 53.421875 \n",
       "Q 53.21875 48.921875 51.53125 44.890625 \n",
       "Q 49.859375 40.875 45.40625 35.40625 \n",
       "Q 44.1875 33.984375 37.640625 27.21875 \n",
       "Q 31.109375 20.453125 19.1875 8.296875 \n",
       "z\n",
       "\" id=\"DejaVuSans-50\"/>\n",
       "       </defs>\n",
       "       <use xlink:href=\"#DejaVuSans-49\"/>\n",
       "       <use x=\"63.623047\" xlink:href=\"#DejaVuSans-50\"/>\n",
       "      </g>\n",
       "     </g>\n",
       "    </g>\n",
       "    <g id=\"ytick_4\">\n",
       "     <g id=\"line2d_67\">\n",
       "      <path clip-path=\"url(#p7b77b298fc)\" d=\"M 40.603125 181.684196 \n",
       "L 598.603125 181.684196 \n",
       "\" style=\"fill:none;stroke:#c0c0c0;stroke-linecap:square;stroke-width:0.8;\"/>\n",
       "     </g>\n",
       "     <g id=\"line2d_68\">\n",
       "      <g>\n",
       "       <use style=\"stroke:#000000;stroke-width:0.8;\" x=\"40.603125\" xlink:href=\"#m3a223d0ab4\" y=\"181.684196\"/>\n",
       "      </g>\n",
       "     </g>\n",
       "     <g id=\"text_35\">\n",
       "      <!-- 14 -->\n",
       "      <g transform=\"translate(20.878125 185.483415)scale(0.1 -0.1)\">\n",
       "       <defs>\n",
       "        <path d=\"M 37.796875 64.3125 \n",
       "L 12.890625 25.390625 \n",
       "L 37.796875 25.390625 \n",
       "z\n",
       "M 35.203125 72.90625 \n",
       "L 47.609375 72.90625 \n",
       "L 47.609375 25.390625 \n",
       "L 58.015625 25.390625 \n",
       "L 58.015625 17.1875 \n",
       "L 47.609375 17.1875 \n",
       "L 47.609375 0 \n",
       "L 37.796875 0 \n",
       "L 37.796875 17.1875 \n",
       "L 4.890625 17.1875 \n",
       "L 4.890625 26.703125 \n",
       "z\n",
       "\" id=\"DejaVuSans-52\"/>\n",
       "       </defs>\n",
       "       <use xlink:href=\"#DejaVuSans-49\"/>\n",
       "       <use x=\"63.623047\" xlink:href=\"#DejaVuSans-52\"/>\n",
       "      </g>\n",
       "     </g>\n",
       "    </g>\n",
       "    <g id=\"ytick_5\">\n",
       "     <g id=\"line2d_69\">\n",
       "      <path clip-path=\"url(#p7b77b298fc)\" d=\"M 40.603125 136.067413 \n",
       "L 598.603125 136.067413 \n",
       "\" style=\"fill:none;stroke:#c0c0c0;stroke-linecap:square;stroke-width:0.8;\"/>\n",
       "     </g>\n",
       "     <g id=\"line2d_70\">\n",
       "      <g>\n",
       "       <use style=\"stroke:#000000;stroke-width:0.8;\" x=\"40.603125\" xlink:href=\"#m3a223d0ab4\" y=\"136.067413\"/>\n",
       "      </g>\n",
       "     </g>\n",
       "     <g id=\"text_36\">\n",
       "      <!-- 16 -->\n",
       "      <g transform=\"translate(20.878125 139.866631)scale(0.1 -0.1)\">\n",
       "       <defs>\n",
       "        <path d=\"M 33.015625 40.375 \n",
       "Q 26.375 40.375 22.484375 35.828125 \n",
       "Q 18.609375 31.296875 18.609375 23.390625 \n",
       "Q 18.609375 15.53125 22.484375 10.953125 \n",
       "Q 26.375 6.390625 33.015625 6.390625 \n",
       "Q 39.65625 6.390625 43.53125 10.953125 \n",
       "Q 47.40625 15.53125 47.40625 23.390625 \n",
       "Q 47.40625 31.296875 43.53125 35.828125 \n",
       "Q 39.65625 40.375 33.015625 40.375 \n",
       "z\n",
       "M 52.59375 71.296875 \n",
       "L 52.59375 62.3125 \n",
       "Q 48.875 64.0625 45.09375 64.984375 \n",
       "Q 41.3125 65.921875 37.59375 65.921875 \n",
       "Q 27.828125 65.921875 22.671875 59.328125 \n",
       "Q 17.53125 52.734375 16.796875 39.40625 \n",
       "Q 19.671875 43.65625 24.015625 45.921875 \n",
       "Q 28.375 48.1875 33.59375 48.1875 \n",
       "Q 44.578125 48.1875 50.953125 41.515625 \n",
       "Q 57.328125 34.859375 57.328125 23.390625 \n",
       "Q 57.328125 12.15625 50.6875 5.359375 \n",
       "Q 44.046875 -1.421875 33.015625 -1.421875 \n",
       "Q 20.359375 -1.421875 13.671875 8.265625 \n",
       "Q 6.984375 17.96875 6.984375 36.375 \n",
       "Q 6.984375 53.65625 15.1875 63.9375 \n",
       "Q 23.390625 74.21875 37.203125 74.21875 \n",
       "Q 40.921875 74.21875 44.703125 73.484375 \n",
       "Q 48.484375 72.75 52.59375 71.296875 \n",
       "z\n",
       "\" id=\"DejaVuSans-54\"/>\n",
       "       </defs>\n",
       "       <use xlink:href=\"#DejaVuSans-49\"/>\n",
       "       <use x=\"63.623047\" xlink:href=\"#DejaVuSans-54\"/>\n",
       "      </g>\n",
       "     </g>\n",
       "    </g>\n",
       "    <g id=\"ytick_6\">\n",
       "     <g id=\"line2d_71\">\n",
       "      <path clip-path=\"url(#p7b77b298fc)\" d=\"M 40.603125 90.450629 \n",
       "L 598.603125 90.450629 \n",
       "\" style=\"fill:none;stroke:#c0c0c0;stroke-linecap:square;stroke-width:0.8;\"/>\n",
       "     </g>\n",
       "     <g id=\"line2d_72\">\n",
       "      <g>\n",
       "       <use style=\"stroke:#000000;stroke-width:0.8;\" x=\"40.603125\" xlink:href=\"#m3a223d0ab4\" y=\"90.450629\"/>\n",
       "      </g>\n",
       "     </g>\n",
       "     <g id=\"text_37\">\n",
       "      <!-- 18 -->\n",
       "      <g transform=\"translate(20.878125 94.249848)scale(0.1 -0.1)\">\n",
       "       <use xlink:href=\"#DejaVuSans-49\"/>\n",
       "       <use x=\"63.623047\" xlink:href=\"#DejaVuSans-56\"/>\n",
       "      </g>\n",
       "     </g>\n",
       "    </g>\n",
       "    <g id=\"ytick_7\">\n",
       "     <g id=\"line2d_73\">\n",
       "      <path clip-path=\"url(#p7b77b298fc)\" d=\"M 40.603125 44.833846 \n",
       "L 598.603125 44.833846 \n",
       "\" style=\"fill:none;stroke:#c0c0c0;stroke-linecap:square;stroke-width:0.8;\"/>\n",
       "     </g>\n",
       "     <g id=\"line2d_74\">\n",
       "      <g>\n",
       "       <use style=\"stroke:#000000;stroke-width:0.8;\" x=\"40.603125\" xlink:href=\"#m3a223d0ab4\" y=\"44.833846\"/>\n",
       "      </g>\n",
       "     </g>\n",
       "     <g id=\"text_38\">\n",
       "      <!-- 20 -->\n",
       "      <g transform=\"translate(20.878125 48.633065)scale(0.1 -0.1)\">\n",
       "       <use xlink:href=\"#DejaVuSans-50\"/>\n",
       "       <use x=\"63.623047\" xlink:href=\"#DejaVuSans-48\"/>\n",
       "      </g>\n",
       "     </g>\n",
       "    </g>\n",
       "    <g id=\"text_39\">\n",
       "     <!-- Counts -->\n",
       "     <g transform=\"translate(14.798437 187.733125)rotate(-90)scale(0.1 -0.1)\">\n",
       "      <defs>\n",
       "       <path d=\"M 64.40625 67.28125 \n",
       "L 64.40625 56.890625 \n",
       "Q 59.421875 61.53125 53.78125 63.8125 \n",
       "Q 48.140625 66.109375 41.796875 66.109375 \n",
       "Q 29.296875 66.109375 22.65625 58.46875 \n",
       "Q 16.015625 50.828125 16.015625 36.375 \n",
       "Q 16.015625 21.96875 22.65625 14.328125 \n",
       "Q 29.296875 6.6875 41.796875 6.6875 \n",
       "Q 48.140625 6.6875 53.78125 8.984375 \n",
       "Q 59.421875 11.28125 64.40625 15.921875 \n",
       "L 64.40625 5.609375 \n",
       "Q 59.234375 2.09375 53.4375 0.328125 \n",
       "Q 47.65625 -1.421875 41.21875 -1.421875 \n",
       "Q 24.65625 -1.421875 15.125 8.703125 \n",
       "Q 5.609375 18.84375 5.609375 36.375 \n",
       "Q 5.609375 53.953125 15.125 64.078125 \n",
       "Q 24.65625 74.21875 41.21875 74.21875 \n",
       "Q 47.75 74.21875 53.53125 72.484375 \n",
       "Q 59.328125 70.75 64.40625 67.28125 \n",
       "z\n",
       "\" id=\"DejaVuSans-67\"/>\n",
       "      </defs>\n",
       "      <use xlink:href=\"#DejaVuSans-67\"/>\n",
       "      <use x=\"69.824219\" xlink:href=\"#DejaVuSans-111\"/>\n",
       "      <use x=\"131.005859\" xlink:href=\"#DejaVuSans-117\"/>\n",
       "      <use x=\"194.384766\" xlink:href=\"#DejaVuSans-110\"/>\n",
       "      <use x=\"257.763672\" xlink:href=\"#DejaVuSans-116\"/>\n",
       "      <use x=\"296.972656\" xlink:href=\"#DejaVuSans-115\"/>\n",
       "     </g>\n",
       "    </g>\n",
       "   </g>\n",
       "   <g id=\"line2d_75\">\n",
       "    <path clip-path=\"url(#p7b77b298fc)\" d=\"M 65.966761 22.025455 \n",
       "L 83.458924 67.642238 \n",
       "L 100.951087 90.450629 \n",
       "L 118.44325 90.450629 \n",
       "L 135.935413 136.067413 \n",
       "L 153.427576 158.875804 \n",
       "L 170.919739 158.875804 \n",
       "L 188.411902 181.684196 \n",
       "L 205.904065 181.684196 \n",
       "L 223.396228 204.492587 \n",
       "L 240.888391 204.492587 \n",
       "L 258.380554 204.492587 \n",
       "L 275.872717 227.300979 \n",
       "L 293.36488 227.300979 \n",
       "L 310.857043 250.109371 \n",
       "L 328.349207 250.109371 \n",
       "L 345.84137 250.109371 \n",
       "L 363.333533 250.109371 \n",
       "L 380.825696 272.917762 \n",
       "L 398.317859 272.917762 \n",
       "L 415.810022 295.726154 \n",
       "L 433.302185 295.726154 \n",
       "L 450.794348 295.726154 \n",
       "L 468.286511 295.726154 \n",
       "L 485.778674 295.726154 \n",
       "L 503.270837 318.534545 \n",
       "L 520.763 318.534545 \n",
       "L 538.255163 318.534545 \n",
       "L 555.747326 318.534545 \n",
       "L 573.239489 318.534545 \n",
       "\" style=\"fill:none;stroke:#1f77b4;stroke-linecap:square;stroke-width:2;\"/>\n",
       "   </g>\n",
       "   <g id=\"patch_3\">\n",
       "    <path d=\"M 40.603125 333.36 \n",
       "L 40.603125 7.2 \n",
       "\" style=\"fill:none;stroke:#000000;stroke-linecap:square;stroke-linejoin:miter;stroke-width:0.8;\"/>\n",
       "   </g>\n",
       "   <g id=\"patch_4\">\n",
       "    <path d=\"M 598.603125 333.36 \n",
       "L 598.603125 7.2 \n",
       "\" style=\"fill:none;stroke:#000000;stroke-linecap:square;stroke-linejoin:miter;stroke-width:0.8;\"/>\n",
       "   </g>\n",
       "   <g id=\"patch_5\">\n",
       "    <path d=\"M 40.603125 333.36 \n",
       "L 598.603125 333.36 \n",
       "\" style=\"fill:none;stroke:#000000;stroke-linecap:square;stroke-linejoin:miter;stroke-width:0.8;\"/>\n",
       "   </g>\n",
       "   <g id=\"patch_6\">\n",
       "    <path d=\"M 40.603125 7.2 \n",
       "L 598.603125 7.2 \n",
       "\" style=\"fill:none;stroke:#000000;stroke-linecap:square;stroke-linejoin:miter;stroke-width:0.8;\"/>\n",
       "   </g>\n",
       "  </g>\n",
       " </g>\n",
       " <defs>\n",
       "  <clipPath id=\"p7b77b298fc\">\n",
       "   <rect height=\"326.16\" width=\"558\" x=\"40.603125\" y=\"7.2\"/>\n",
       "  </clipPath>\n",
       " </defs>\n",
       "</svg>\n"
      ],
      "text/plain": [
       "<Figure size 800x480 with 1 Axes>"
      ]
     },
     "metadata": {
      "needs_background": "light"
     },
     "output_type": "display_data"
    },
    {
     "data": {
      "text/plain": [
       "<AxesSubplot:xlabel='Samples', ylabel='Counts'>"
      ]
     },
     "execution_count": 20,
     "metadata": {},
     "output_type": "execute_result"
    }
   ],
   "source": [
    "# Облако слов\n",
    "fdist = FreqDist(data['corpus'])\n",
    "fdist.plot(30, cumulative=False)\n"
   ]
  },
  {
   "cell_type": "code",
   "execution_count": 21,
   "metadata": {},
   "outputs": [],
   "source": [
    "# Разделение датафрейма \n",
    "# на целевую и нецелевую выборки\n",
    "features = data[['corpus', 'numbers_of_words', 'average_word_lenght']]\n",
    "target = data['toxic']\n",
    "\n",
    "# Разделение выборок \n",
    "# на обучающие и тестовые\n",
    "features_train, features_test, target_train, target_test = train_test_split(\n",
    "    features, \n",
    "    target, \n",
    "    test_size=.25, \n",
    "    stratify=target, \n",
    "    random_state=STATE\n",
    ") \n",
    "\n",
    "# Очистка памяти \n",
    "# от неиспользуемых переменных\n",
    "del data, features, target\n"
   ]
  },
  {
   "cell_type": "code",
   "execution_count": 22,
   "metadata": {},
   "outputs": [
    {
     "name": "stdout",
     "output_type": "stream",
     "text": [
      "features_train: 119469\n",
      "target_train: 119469\n",
      "features_test: 39823\n",
      "target_test: 39823\n"
     ]
    }
   ],
   "source": [
    "# Проверка размерности\n",
    "print('features_train:', len(features_train))  \n",
    "print('target_train:', len(target_train)) \n",
    "print('features_test:', len(features_test))\n",
    "print('target_test:', len(target_test)) \n"
   ]
  },
  {
   "cell_type": "markdown",
   "metadata": {},
   "source": [
    "## Обучение"
   ]
  },
  {
   "cell_type": "markdown",
   "metadata": {},
   "source": [
    "### Функция работы с моделями обучения"
   ]
  },
  {
   "cell_type": "code",
   "execution_count": 29,
   "metadata": {},
   "outputs": [],
   "source": [
    "# Model + Params + Pipeline + HalvingGridSearchCV\n",
    "def model_pipeline_gridsearch(\n",
    "    features_train, \n",
    "    target_train, \n",
    "    model, \n",
    "    params, \n",
    "    data_grids, \n",
    "    data_times \n",
    "):\n",
    "    \n",
    "    # Начало отслеживания времени\n",
    "    start_time = time.time() \n",
    "    \n",
    "    # Pipeline\n",
    "    pipeline = Pipeline([\n",
    "        ('vect', ColumnTransformer([\n",
    "            ('tfidf', TfidfVectorizer(), 'corpus'), # векторизация текстов\n",
    "            ('stdm', MaxAbsScaler(), features_train[['numbers_of_words', 'average_word_lenght']].columns) # стандартизация данных\n",
    "        ], remainder='drop' # удаление исходного атрибута с текстами\n",
    "        )), \n",
    "        ('sampl', SMOTE(random_state=STATE)), # сэмплирование данных (приведение классов в равновесие) за счет создания синтетических данных из минорного класса\n",
    "        ('clf', model) # модель классификации \n",
    "    ])\n",
    "    \n",
    "    # HalvingGridSearchCV\n",
    "    # (о подборе оптимальных параметров:\n",
    "    # https://scikit-learn.ru/3-2-tuning-the-hyper-parameters-of-an-estimator/)\n",
    "    #grid = HalvingRandomSearchCV(\n",
    "    grid = HalvingGridSearchCV(\n",
    "        pipeline, \n",
    "        params, \n",
    "        cv=4, # параметр KFold для кроссвалидации (обучющая и валидационная выборки 75:25)\n",
    "        n_jobs=-1, # количество параллельно выполняемых заданий (-1 - задействованы все процессоры)\n",
    "        scoring='f1', # функция ошибки\n",
    "        error_score='raise', #0 # в случае неполадки 'raise' - возвращает ошибку, int - возвращает FitFailedWarning\n",
    "        random_state=STATE\n",
    "    ) \n",
    "    \n",
    "    # Обучение\n",
    "    grid.fit(features_train, target_train)\n",
    "    \n",
    "    # Подсчет времени выполнения скрипта\n",
    "    finish_time = time.time()\n",
    "    funtion_time = finish_time - start_time\n",
    "    \n",
    "    data_grids.append(grid)\n",
    "    data_times.append(funtion_time) \n",
    "    \n",
    "    return data_grids, data_times\n"
   ]
  },
  {
   "cell_type": "code",
   "execution_count": 30,
   "metadata": {},
   "outputs": [],
   "source": [
    "# Вывод на печать результатов модели\n",
    "def print_model_result(grids, data_times, model_name):\n",
    "    print('Модель    :', model_name)\n",
    "    print('Метрика F1:', grids[-1].best_score_)\n",
    "    print(f'Время     : {data_times[-1]} секунд')\n",
    "    print('Параметры :\\n', grids[-1].best_estimator_)\n",
    "    print()\n",
    "    print('-'*20)\n",
    "    print()\n"
   ]
  },
  {
   "cell_type": "markdown",
   "metadata": {},
   "source": [
    "### Применение функций моделей"
   ]
  },
  {
   "cell_type": "code",
   "execution_count": 31,
   "metadata": {},
   "outputs": [],
   "source": [
    "# Поиск лучших моделей и их параметров\n",
    "data_grids = []\n",
    "data_times = []\n"
   ]
  },
  {
   "cell_type": "code",
   "execution_count": 32,
   "metadata": {
    "scrolled": false
   },
   "outputs": [
    {
     "name": "stderr",
     "output_type": "stream",
     "text": [
      "/opt/conda/lib/python3.9/site-packages/sklearn/linear_model/_logistic.py:460: ConvergenceWarning: lbfgs failed to converge (status=1):\n",
      "STOP: TOTAL NO. of ITERATIONS REACHED LIMIT.\n",
      "\n",
      "Increase the number of iterations (max_iter) or scale the data as shown in:\n",
      "    https://scikit-learn.org/stable/modules/preprocessing.html\n",
      "Please also refer to the documentation for alternative solver options:\n",
      "    https://scikit-learn.org/stable/modules/linear_model.html#logistic-regression\n",
      "  n_iter_i = _check_optimize_result(\n",
      "/opt/conda/lib/python3.9/site-packages/sklearn/linear_model/_logistic.py:460: ConvergenceWarning: lbfgs failed to converge (status=1):\n",
      "STOP: TOTAL NO. of ITERATIONS REACHED LIMIT.\n",
      "\n",
      "Increase the number of iterations (max_iter) or scale the data as shown in:\n",
      "    https://scikit-learn.org/stable/modules/preprocessing.html\n",
      "Please also refer to the documentation for alternative solver options:\n",
      "    https://scikit-learn.org/stable/modules/linear_model.html#logistic-regression\n",
      "  n_iter_i = _check_optimize_result(\n"
     ]
    },
    {
     "name": "stdout",
     "output_type": "stream",
     "text": [
      "Модель    : LogisticRegression\n",
      "Метрика F1: 0.7322326263002149\n",
      "Время     : 849.2860035896301 секунд\n",
      "Параметры :\n",
      " Pipeline(steps=[('vect',\n",
      "                 ColumnTransformer(transformers=[('tfidf', TfidfVectorizer(),\n",
      "                                                  'corpus'),\n",
      "                                                 ('stdm', MaxAbsScaler(),\n",
      "                                                  Index(['numbers_of_words', 'average_word_lenght'], dtype='object'))])),\n",
      "                ('sampl', SMOTE(random_state=42)),\n",
      "                ('clf', LogisticRegression(random_state=42))])\n",
      "\n",
      "--------------------\n",
      "\n"
     ]
    },
    {
     "name": "stderr",
     "output_type": "stream",
     "text": [
      "/opt/conda/lib/python3.9/site-packages/sklearn/linear_model/_logistic.py:460: ConvergenceWarning: lbfgs failed to converge (status=1):\n",
      "STOP: TOTAL NO. of ITERATIONS REACHED LIMIT.\n",
      "\n",
      "Increase the number of iterations (max_iter) or scale the data as shown in:\n",
      "    https://scikit-learn.org/stable/modules/preprocessing.html\n",
      "Please also refer to the documentation for alternative solver options:\n",
      "    https://scikit-learn.org/stable/modules/linear_model.html#logistic-regression\n",
      "  n_iter_i = _check_optimize_result(\n"
     ]
    }
   ],
   "source": [
    "# LogisticRegression\n",
    "\n",
    "params = [{\n",
    "    # Параметры векторизации\n",
    "    #'vect__tfidf__max_df': (0.2, 0.5, 0.8),\n",
    "    #'vect__tfidf__min_df': (1, 5, 9),\n",
    "    #'vect__tfidf__ngram_range': ((1, 1), (1, 2)), # униграммы или биграммы\n",
    "    #'vect__tfidf__max_features':(1000, 30000),\n",
    "    #'vect__tfidf__norm': ('l1' , 'l2'), \n",
    "    # Параметры модели\n",
    "    #'clf__penalty': (None, 'l2') \n",
    "}]\n",
    "\n",
    "data_grids, data_times = model_pipeline_gridsearch(\n",
    "    features_train, \n",
    "    target_train, \n",
    "    LogisticRegression(random_state=STATE), \n",
    "    params, \n",
    "    data_grids, \n",
    "    data_times \n",
    ")\n",
    "\n",
    "print_model_result(data_grids, data_times, 'LogisticRegression')\n"
   ]
  },
  {
   "cell_type": "code",
   "execution_count": 33,
   "metadata": {
    "scrolled": false
   },
   "outputs": [
    {
     "name": "stdout",
     "output_type": "stream",
     "text": [
      "Модель    : ComplementNB\n",
      "Метрика F1: 0.6792250211656703\n",
      "Время     : 596.5407702922821 секунд\n",
      "Параметры :\n",
      " Pipeline(steps=[('vect',\n",
      "                 ColumnTransformer(transformers=[('tfidf', TfidfVectorizer(),\n",
      "                                                  'corpus'),\n",
      "                                                 ('stdm', MaxAbsScaler(),\n",
      "                                                  Index(['numbers_of_words', 'average_word_lenght'], dtype='object'))])),\n",
      "                ('sampl', SMOTE(random_state=42)), ('clf', ComplementNB())])\n",
      "\n",
      "--------------------\n",
      "\n"
     ]
    }
   ],
   "source": [
    "# ComplementNB\n",
    "\n",
    "params = [{\n",
    "    # Параметры векторизации\n",
    "    #'vect__tfidf__max_df': (0.2, 0.5, 0.8),\n",
    "    #'vect__tfidf__min_df': (1, 5, 9),\n",
    "    #'vect__tfidf__ngram_range': ((1, 1), (1, 2)), # униграммы или биграммы\n",
    "    #'vect__tfidf__max_features':(1000, 50000),\n",
    "    #'vect__tfidf__norm' : ('l1' , 'l2')\n",
    "}]\n",
    "\n",
    "data_grids, data_times = model_pipeline_gridsearch(\n",
    "    features_train, \n",
    "    target_train, \n",
    "    ComplementNB(), \n",
    "    params, \n",
    "    data_grids, \n",
    "    data_times \n",
    ")\n",
    "\n",
    "print_model_result(data_grids, data_times, 'ComplementNB')\n"
   ]
  },
  {
   "cell_type": "code",
   "execution_count": 34,
   "metadata": {},
   "outputs": [
    {
     "name": "stdout",
     "output_type": "stream",
     "text": [
      "Модель    : CatBoostClassifier\n",
      "Метрика F1: 0.752827196527211\n",
      "Время     : 16213.06224489212 секунд\n",
      "Параметры :\n",
      " Pipeline(steps=[('vect',\n",
      "                 ColumnTransformer(transformers=[('tfidf', TfidfVectorizer(),\n",
      "                                                  'corpus'),\n",
      "                                                 ('stdm', MaxAbsScaler(),\n",
      "                                                  Index(['numbers_of_words', 'average_word_lenght'], dtype='object'))])),\n",
      "                ('sampl', SMOTE(random_state=42)),\n",
      "                ('clf',\n",
      "                 <catboost.core.CatBoostClassifier object at 0x7f48adcdf460>)])\n",
      "\n",
      "--------------------\n",
      "\n"
     ]
    }
   ],
   "source": [
    "# CatBoostClassifier\n",
    "\n",
    "params = [{\n",
    "    # Параметры векторизации\n",
    "    #'vect__tfidf__max_df': (0.2, 0.8),\n",
    "    #'vect__tfidf__min_df': (2, 8)\n",
    "    #'vect__tfidf__ngram_range': ((1, 1), (1, 2)), # униграммы или биграммы\n",
    "    #'vect__tfidf__max_features':(1000),\n",
    "    #'vect__tfidf__norm' : ('l1' , 'l2')\n",
    "}]\n",
    "\n",
    "data_grids, data_times = model_pipeline_gridsearch(\n",
    "    features_train, \n",
    "    target_train, \n",
    "    CatBoostClassifier(logging_level='Silent', random_state=STATE), # logging_level='Silent' под вопросом\n",
    "    params, \n",
    "    data_grids, \n",
    "    data_times \n",
    ")\n",
    "\n",
    "print_model_result(data_grids, data_times, 'CatBoostClassifier')\n"
   ]
  },
  {
   "cell_type": "markdown",
   "metadata": {},
   "source": [
    "### Выбор лучшей модели"
   ]
  },
  {
   "cell_type": "code",
   "execution_count": 35,
   "metadata": {
    "scrolled": false
   },
   "outputs": [
    {
     "name": "stdout",
     "output_type": "stream",
     "text": [
      "Лучшее время        :  16213.06224489212\n",
      "Лучший показатель F1:  0.752827196527211\n",
      "Лучшая модель       : \n"
     ]
    },
    {
     "data": {
      "text/html": [
       "<style>#sk-container-id-1 {color: black;}#sk-container-id-1 pre{padding: 0;}#sk-container-id-1 div.sk-toggleable {background-color: white;}#sk-container-id-1 label.sk-toggleable__label {cursor: pointer;display: block;width: 100%;margin-bottom: 0;padding: 0.3em;box-sizing: border-box;text-align: center;}#sk-container-id-1 label.sk-toggleable__label-arrow:before {content: \"▸\";float: left;margin-right: 0.25em;color: #696969;}#sk-container-id-1 label.sk-toggleable__label-arrow:hover:before {color: black;}#sk-container-id-1 div.sk-estimator:hover label.sk-toggleable__label-arrow:before {color: black;}#sk-container-id-1 div.sk-toggleable__content {max-height: 0;max-width: 0;overflow: hidden;text-align: left;background-color: #f0f8ff;}#sk-container-id-1 div.sk-toggleable__content pre {margin: 0.2em;color: black;border-radius: 0.25em;background-color: #f0f8ff;}#sk-container-id-1 input.sk-toggleable__control:checked~div.sk-toggleable__content {max-height: 200px;max-width: 100%;overflow: auto;}#sk-container-id-1 input.sk-toggleable__control:checked~label.sk-toggleable__label-arrow:before {content: \"▾\";}#sk-container-id-1 div.sk-estimator input.sk-toggleable__control:checked~label.sk-toggleable__label {background-color: #d4ebff;}#sk-container-id-1 div.sk-label input.sk-toggleable__control:checked~label.sk-toggleable__label {background-color: #d4ebff;}#sk-container-id-1 input.sk-hidden--visually {border: 0;clip: rect(1px 1px 1px 1px);clip: rect(1px, 1px, 1px, 1px);height: 1px;margin: -1px;overflow: hidden;padding: 0;position: absolute;width: 1px;}#sk-container-id-1 div.sk-estimator {font-family: monospace;background-color: #f0f8ff;border: 1px dotted black;border-radius: 0.25em;box-sizing: border-box;margin-bottom: 0.5em;}#sk-container-id-1 div.sk-estimator:hover {background-color: #d4ebff;}#sk-container-id-1 div.sk-parallel-item::after {content: \"\";width: 100%;border-bottom: 1px solid gray;flex-grow: 1;}#sk-container-id-1 div.sk-label:hover label.sk-toggleable__label {background-color: #d4ebff;}#sk-container-id-1 div.sk-serial::before {content: \"\";position: absolute;border-left: 1px solid gray;box-sizing: border-box;top: 0;bottom: 0;left: 50%;z-index: 0;}#sk-container-id-1 div.sk-serial {display: flex;flex-direction: column;align-items: center;background-color: white;padding-right: 0.2em;padding-left: 0.2em;position: relative;}#sk-container-id-1 div.sk-item {position: relative;z-index: 1;}#sk-container-id-1 div.sk-parallel {display: flex;align-items: stretch;justify-content: center;background-color: white;position: relative;}#sk-container-id-1 div.sk-item::before, #sk-container-id-1 div.sk-parallel-item::before {content: \"\";position: absolute;border-left: 1px solid gray;box-sizing: border-box;top: 0;bottom: 0;left: 50%;z-index: -1;}#sk-container-id-1 div.sk-parallel-item {display: flex;flex-direction: column;z-index: 1;position: relative;background-color: white;}#sk-container-id-1 div.sk-parallel-item:first-child::after {align-self: flex-end;width: 50%;}#sk-container-id-1 div.sk-parallel-item:last-child::after {align-self: flex-start;width: 50%;}#sk-container-id-1 div.sk-parallel-item:only-child::after {width: 0;}#sk-container-id-1 div.sk-dashed-wrapped {border: 1px dashed gray;margin: 0 0.4em 0.5em 0.4em;box-sizing: border-box;padding-bottom: 0.4em;background-color: white;}#sk-container-id-1 div.sk-label label {font-family: monospace;font-weight: bold;display: inline-block;line-height: 1.2em;}#sk-container-id-1 div.sk-label-container {text-align: center;}#sk-container-id-1 div.sk-container {/* jupyter's `normalize.less` sets `[hidden] { display: none; }` but bootstrap.min.css set `[hidden] { display: none !important; }` so we also need the `!important` here to be able to override the default hidden behavior on the sphinx rendered scikit-learn.org. See: https://github.com/scikit-learn/scikit-learn/issues/21755 */display: inline-block !important;position: relative;}#sk-container-id-1 div.sk-text-repr-fallback {display: none;}</style><div id=\"sk-container-id-1\" class=\"sk-top-container\"><div class=\"sk-text-repr-fallback\"><pre>HalvingGridSearchCV(cv=4, error_score=&#x27;raise&#x27;,\n",
       "                    estimator=Pipeline(steps=[(&#x27;vect&#x27;,\n",
       "                                               ColumnTransformer(transformers=[(&#x27;tfidf&#x27;,\n",
       "                                                                                TfidfVectorizer(),\n",
       "                                                                                &#x27;corpus&#x27;),\n",
       "                                                                               (&#x27;stdm&#x27;,\n",
       "                                                                                MaxAbsScaler(),\n",
       "                                                                                Index([&#x27;numbers_of_words&#x27;, &#x27;average_word_lenght&#x27;], dtype=&#x27;object&#x27;))])),\n",
       "                                              (&#x27;sampl&#x27;, SMOTE(random_state=42)),\n",
       "                                              (&#x27;clf&#x27;,\n",
       "                                               &lt;catboost.core.CatBoostClassifier object at 0x7f48adcc69a0&gt;)]),\n",
       "                    n_jobs=-1, param_grid=[{}], random_state=42, scoring=&#x27;f1&#x27;)</pre><b>In a Jupyter environment, please rerun this cell to show the HTML representation or trust the notebook. <br />On GitHub, the HTML representation is unable to render, please try loading this page with nbviewer.org.</b></div><div class=\"sk-container\" hidden><div class=\"sk-item sk-dashed-wrapped\"><div class=\"sk-label-container\"><div class=\"sk-label sk-toggleable\"><input class=\"sk-toggleable__control sk-hidden--visually\" id=\"sk-estimator-id-1\" type=\"checkbox\" ><label for=\"sk-estimator-id-1\" class=\"sk-toggleable__label sk-toggleable__label-arrow\">HalvingGridSearchCV</label><div class=\"sk-toggleable__content\"><pre>HalvingGridSearchCV(cv=4, error_score=&#x27;raise&#x27;,\n",
       "                    estimator=Pipeline(steps=[(&#x27;vect&#x27;,\n",
       "                                               ColumnTransformer(transformers=[(&#x27;tfidf&#x27;,\n",
       "                                                                                TfidfVectorizer(),\n",
       "                                                                                &#x27;corpus&#x27;),\n",
       "                                                                               (&#x27;stdm&#x27;,\n",
       "                                                                                MaxAbsScaler(),\n",
       "                                                                                Index([&#x27;numbers_of_words&#x27;, &#x27;average_word_lenght&#x27;], dtype=&#x27;object&#x27;))])),\n",
       "                                              (&#x27;sampl&#x27;, SMOTE(random_state=42)),\n",
       "                                              (&#x27;clf&#x27;,\n",
       "                                               &lt;catboost.core.CatBoostClassifier object at 0x7f48adcc69a0&gt;)]),\n",
       "                    n_jobs=-1, param_grid=[{}], random_state=42, scoring=&#x27;f1&#x27;)</pre></div></div></div><div class=\"sk-parallel\"><div class=\"sk-parallel-item\"><div class=\"sk-item\"><div class=\"sk-label-container\"><div class=\"sk-label sk-toggleable\"><input class=\"sk-toggleable__control sk-hidden--visually\" id=\"sk-estimator-id-2\" type=\"checkbox\" ><label for=\"sk-estimator-id-2\" class=\"sk-toggleable__label sk-toggleable__label-arrow\">estimator: Pipeline</label><div class=\"sk-toggleable__content\"><pre>Pipeline(steps=[(&#x27;vect&#x27;,\n",
       "                 ColumnTransformer(transformers=[(&#x27;tfidf&#x27;, TfidfVectorizer(),\n",
       "                                                  &#x27;corpus&#x27;),\n",
       "                                                 (&#x27;stdm&#x27;, MaxAbsScaler(),\n",
       "                                                  Index([&#x27;numbers_of_words&#x27;, &#x27;average_word_lenght&#x27;], dtype=&#x27;object&#x27;))])),\n",
       "                (&#x27;sampl&#x27;, SMOTE(random_state=42)),\n",
       "                (&#x27;clf&#x27;,\n",
       "                 &lt;catboost.core.CatBoostClassifier object at 0x7f48adcc69a0&gt;)])</pre></div></div></div><div class=\"sk-serial\"><div class=\"sk-item\"><div class=\"sk-serial\"><div class=\"sk-item sk-dashed-wrapped\"><div class=\"sk-label-container\"><div class=\"sk-label sk-toggleable\"><input class=\"sk-toggleable__control sk-hidden--visually\" id=\"sk-estimator-id-3\" type=\"checkbox\" ><label for=\"sk-estimator-id-3\" class=\"sk-toggleable__label sk-toggleable__label-arrow\">vect: ColumnTransformer</label><div class=\"sk-toggleable__content\"><pre>ColumnTransformer(transformers=[(&#x27;tfidf&#x27;, TfidfVectorizer(), &#x27;corpus&#x27;),\n",
       "                                (&#x27;stdm&#x27;, MaxAbsScaler(),\n",
       "                                 Index([&#x27;numbers_of_words&#x27;, &#x27;average_word_lenght&#x27;], dtype=&#x27;object&#x27;))])</pre></div></div></div><div class=\"sk-parallel\"><div class=\"sk-parallel-item\"><div class=\"sk-item\"><div class=\"sk-label-container\"><div class=\"sk-label sk-toggleable\"><input class=\"sk-toggleable__control sk-hidden--visually\" id=\"sk-estimator-id-4\" type=\"checkbox\" ><label for=\"sk-estimator-id-4\" class=\"sk-toggleable__label sk-toggleable__label-arrow\">tfidf</label><div class=\"sk-toggleable__content\"><pre>corpus</pre></div></div></div><div class=\"sk-serial\"><div class=\"sk-item\"><div class=\"sk-estimator sk-toggleable\"><input class=\"sk-toggleable__control sk-hidden--visually\" id=\"sk-estimator-id-5\" type=\"checkbox\" ><label for=\"sk-estimator-id-5\" class=\"sk-toggleable__label sk-toggleable__label-arrow\">TfidfVectorizer</label><div class=\"sk-toggleable__content\"><pre>TfidfVectorizer()</pre></div></div></div></div></div></div><div class=\"sk-parallel-item\"><div class=\"sk-item\"><div class=\"sk-label-container\"><div class=\"sk-label sk-toggleable\"><input class=\"sk-toggleable__control sk-hidden--visually\" id=\"sk-estimator-id-6\" type=\"checkbox\" ><label for=\"sk-estimator-id-6\" class=\"sk-toggleable__label sk-toggleable__label-arrow\">stdm</label><div class=\"sk-toggleable__content\"><pre>Index([&#x27;numbers_of_words&#x27;, &#x27;average_word_lenght&#x27;], dtype=&#x27;object&#x27;)</pre></div></div></div><div class=\"sk-serial\"><div class=\"sk-item\"><div class=\"sk-estimator sk-toggleable\"><input class=\"sk-toggleable__control sk-hidden--visually\" id=\"sk-estimator-id-7\" type=\"checkbox\" ><label for=\"sk-estimator-id-7\" class=\"sk-toggleable__label sk-toggleable__label-arrow\">MaxAbsScaler</label><div class=\"sk-toggleable__content\"><pre>MaxAbsScaler()</pre></div></div></div></div></div></div></div></div><div class=\"sk-item\"><div class=\"sk-estimator sk-toggleable\"><input class=\"sk-toggleable__control sk-hidden--visually\" id=\"sk-estimator-id-8\" type=\"checkbox\" ><label for=\"sk-estimator-id-8\" class=\"sk-toggleable__label sk-toggleable__label-arrow\">SMOTE</label><div class=\"sk-toggleable__content\"><pre>SMOTE(random_state=42)</pre></div></div></div><div class=\"sk-item\"><div class=\"sk-estimator sk-toggleable\"><input class=\"sk-toggleable__control sk-hidden--visually\" id=\"sk-estimator-id-9\" type=\"checkbox\" ><label for=\"sk-estimator-id-9\" class=\"sk-toggleable__label sk-toggleable__label-arrow\">CatBoostClassifier</label><div class=\"sk-toggleable__content\"><pre>&lt;catboost.core.CatBoostClassifier object at 0x7f48adcc69a0&gt;</pre></div></div></div></div></div></div></div></div></div></div></div></div>"
      ],
      "text/plain": [
       "HalvingGridSearchCV(cv=4, error_score='raise',\n",
       "                    estimator=Pipeline(steps=[('vect',\n",
       "                                               ColumnTransformer(transformers=[('tfidf',\n",
       "                                                                                TfidfVectorizer(),\n",
       "                                                                                'corpus'),\n",
       "                                                                               ('stdm',\n",
       "                                                                                MaxAbsScaler(),\n",
       "                                                                                Index(['numbers_of_words', 'average_word_lenght'], dtype='object'))])),\n",
       "                                              ('sampl', SMOTE(random_state=42)),\n",
       "                                              ('clf',\n",
       "                                               <catboost.core.CatBoostClassifier object at 0x7f48adcc69a0>)]),\n",
       "                    n_jobs=-1, param_grid=[{}], random_state=42, scoring='f1')"
      ]
     },
     "execution_count": 35,
     "metadata": {},
     "output_type": "execute_result"
    }
   ],
   "source": [
    "# Лучшая модель из расчета RMSE\n",
    "data_grids_best = data_grids[0]\n",
    "data_times_best = data_times[0]\n",
    "n = 0\n",
    "for i in range(0, len(data_grids)):\n",
    "    if data_grids[i].best_score_ > data_grids_best.best_score_: \n",
    "    #if (data_grids[i].best_score_ < data_grids_best.best_score_) & (data_times[i] < data_times_best): \n",
    "        data_grids_best = data_grids[i]\n",
    "        data_times_best = data_times[i]\n",
    "\n",
    "print('Лучшее время        : ', data_times_best)\n",
    "print('Лучший показатель F1: ', data_grids_best.best_score_)\n",
    "print('Лучшая модель       : ')\n",
    "data_grids_best\n"
   ]
  },
  {
   "cell_type": "code",
   "execution_count": 36,
   "metadata": {},
   "outputs": [
    {
     "data": {
      "text/plain": [
       "4.503628401358922"
      ]
     },
     "execution_count": 36,
     "metadata": {},
     "output_type": "execute_result"
    }
   ],
   "source": [
    "# Перевод лучшего времени в часы\n",
    "data_times_best/60/60\n"
   ]
  },
  {
   "cell_type": "markdown",
   "metadata": {},
   "source": [
    "**Выводы из выбора лучшей модели**\n",
    "\n",
    "Лучший показатель `F1` 0.752827196527211 и время\n",
    "16213.06224489212 секунд (ококло 4.5 часов) при обучении показала модель машинного обучения `CatBoostClassifier` с параметрами по умолчанию при использовании модели векторизации текстов `TfidfVectorizer` также с параметрами по умолчанию."
   ]
  },
  {
   "cell_type": "markdown",
   "metadata": {},
   "source": [
    "### Проведение тестирования"
   ]
  },
  {
   "cell_type": "code",
   "execution_count": 37,
   "metadata": {},
   "outputs": [
    {
     "name": "stdout",
     "output_type": "stream",
     "text": [
      "Показатель F1     : 0.7507853403141361\n",
      "Время предсказания: 2.7558162212371826 секунд\n"
     ]
    }
   ],
   "source": [
    "start_time = time.time()\n",
    "\n",
    "# Предсказание лучшей модели\n",
    "predict = data_grids_best.predict(features_test)\n",
    "\n",
    "finish_time = time.time()\n",
    "funtion_time = finish_time - start_time\n",
    "\n",
    "# Расчет RMSE и времени выполнения предсказания\n",
    "print('Показатель F1     :', f1_score(target_test, predict))\n",
    "print(f'Время предсказания: {funtion_time} секунд')"
   ]
  },
  {
   "cell_type": "markdown",
   "metadata": {},
   "source": [
    "**Выводы из выбора лучшей модели**\n",
    "\n",
    "Лучший показатель `F1` при тестировании модели машинного обучения `CatBoostClassifier` с параметрами по умолчанию при использовании модели векторизации текстов `TfidfVectorizer` с параметрами по умолчанию, показавшей лучший результат при обучении, равен 0.7507853403141361. Время выполнения кода при тестировании составляет\n",
    "2.7558162212371826 секунд. "
   ]
  },
  {
   "cell_type": "markdown",
   "metadata": {},
   "source": [
    "## Выводы"
   ]
  },
  {
   "cell_type": "markdown",
   "metadata": {},
   "source": [
    "Цель проекта достигнута. Выбрана модель машинного обучения, модель векторизации текстов и их параметры, позволившие эффективно предсказывать классификацию текстов на токсичные и не токсичные с показателем метрики `F1` более 0.75.\n",
    "\n",
    "Для достижения цели проекта были выполнены следующие действия:\n",
    "1. Подготовлена тетрадь Jupyter Notebook, загружены и проанализированы данные. \n",
    "1. Подготовлены данные для обучения. \n",
    "1. Обучены несколько моделей машинного обучения и из них выбрана лучшая на основании метрики `F1`. \n",
    "1. Выбранная лучшая модель протестирована. "
   ]
  },
  {
   "cell_type": "markdown",
   "metadata": {},
   "source": [
    "## Чек-лист проверки"
   ]
  },
  {
   "cell_type": "markdown",
   "metadata": {},
   "source": [
    "- [x]  Jupyter Notebook открыт\n",
    "- [x]  Весь код выполняется без ошибок\n",
    "- [x]  Ячейки с кодом расположены в порядке исполнения\n",
    "- [x]  Данные загружены и подготовлены\n",
    "- [x]  Модели обучены\n",
    "- [x]  Значение метрики *F1* не меньше 0.75\n",
    "- [x]  Выводы написаны"
   ]
  }
 ],
 "metadata": {
  "ExecuteTimeLog": [
   {
    "duration": 2301,
    "start_time": "2023-08-30T18:50:31.763Z"
   },
   {
    "duration": 600,
    "start_time": "2023-08-30T18:51:04.760Z"
   },
   {
    "duration": 3110,
    "start_time": "2023-08-30T21:43:15.040Z"
   },
   {
    "duration": 307,
    "start_time": "2023-08-30T21:43:18.153Z"
   },
   {
    "duration": 0,
    "start_time": "2023-08-30T21:43:18.463Z"
   },
   {
    "duration": 2688,
    "start_time": "2023-08-30T21:44:04.526Z"
   },
   {
    "duration": 51,
    "start_time": "2023-08-30T21:44:11.548Z"
   },
   {
    "duration": 7,
    "start_time": "2023-08-30T21:45:22.004Z"
   },
   {
    "duration": 4,
    "start_time": "2023-08-30T21:48:13.137Z"
   },
   {
    "duration": 2003,
    "start_time": "2023-08-30T21:48:13.917Z"
   },
   {
    "duration": 3,
    "start_time": "2023-08-30T21:54:05.071Z"
   },
   {
    "duration": 5,
    "start_time": "2023-08-30T21:54:05.112Z"
   },
   {
    "duration": 5,
    "start_time": "2023-08-30T21:54:05.270Z"
   },
   {
    "duration": 12,
    "start_time": "2023-08-30T22:27:31.712Z"
   },
   {
    "duration": 16,
    "start_time": "2023-08-30T22:27:45.021Z"
   },
   {
    "duration": 46,
    "start_time": "2023-08-30T22:28:04.522Z"
   },
   {
    "duration": 58,
    "start_time": "2023-08-30T22:28:25.963Z"
   },
   {
    "duration": 45,
    "start_time": "2023-08-30T22:28:47.361Z"
   },
   {
    "duration": 3,
    "start_time": "2023-08-30T22:47:08.662Z"
   },
   {
    "duration": 2481,
    "start_time": "2023-08-30T22:47:08.904Z"
   },
   {
    "duration": 0,
    "start_time": "2023-08-30T22:47:11.388Z"
   },
   {
    "duration": 0,
    "start_time": "2023-08-30T22:47:11.389Z"
   },
   {
    "duration": 49,
    "start_time": "2023-08-30T22:53:09.289Z"
   },
   {
    "duration": 2956,
    "start_time": "2023-08-30T22:53:31.515Z"
   },
   {
    "duration": 2545,
    "start_time": "2023-08-30T22:53:34.473Z"
   },
   {
    "duration": 45,
    "start_time": "2023-08-30T22:53:37.021Z"
   },
   {
    "duration": 163,
    "start_time": "2023-08-30T22:53:37.068Z"
   },
   {
    "duration": 57,
    "start_time": "2023-08-30T22:53:37.233Z"
   },
   {
    "duration": 56,
    "start_time": "2023-08-30T22:53:37.292Z"
   },
   {
    "duration": 19996,
    "start_time": "2023-08-30T22:53:39.111Z"
   },
   {
    "duration": 304,
    "start_time": "2023-08-30T22:53:59.109Z"
   },
   {
    "duration": 2924,
    "start_time": "2023-08-30T23:05:22.314Z"
   },
   {
    "duration": 2510,
    "start_time": "2023-08-30T23:05:25.240Z"
   },
   {
    "duration": 46,
    "start_time": "2023-08-30T23:05:27.751Z"
   },
   {
    "duration": 30,
    "start_time": "2023-08-30T23:05:27.801Z"
   },
   {
    "duration": 4,
    "start_time": "2023-08-30T23:05:27.835Z"
   },
   {
    "duration": 12,
    "start_time": "2023-08-30T23:05:27.841Z"
   },
   {
    "duration": 2368,
    "start_time": "2023-08-30T23:05:27.855Z"
   },
   {
    "duration": 230183,
    "start_time": "2023-08-30T23:05:30.224Z"
   },
   {
    "duration": 26,
    "start_time": "2023-08-30T23:09:20.408Z"
   },
   {
    "duration": 1298,
    "start_time": "2023-08-31T05:17:49.372Z"
   },
   {
    "duration": 2970,
    "start_time": "2023-08-31T05:17:50.671Z"
   },
   {
    "duration": 51,
    "start_time": "2023-08-31T05:17:53.643Z"
   },
   {
    "duration": 15,
    "start_time": "2023-08-31T05:17:53.696Z"
   },
   {
    "duration": 2111,
    "start_time": "2023-08-31T05:17:53.714Z"
   },
   {
    "duration": 113,
    "start_time": "2023-08-31T05:17:55.827Z"
   },
   {
    "duration": 0,
    "start_time": "2023-08-31T05:17:55.942Z"
   },
   {
    "duration": 0,
    "start_time": "2023-08-31T05:17:55.943Z"
   },
   {
    "duration": 0,
    "start_time": "2023-08-31T05:17:55.944Z"
   },
   {
    "duration": 3,
    "start_time": "2023-08-31T05:19:06.083Z"
   },
   {
    "duration": 117,
    "start_time": "2023-08-31T05:19:06.602Z"
   },
   {
    "duration": 17,
    "start_time": "2023-08-31T05:19:58.390Z"
   },
   {
    "duration": 62302,
    "start_time": "2023-08-31T05:20:16.919Z"
   },
   {
    "duration": 263380,
    "start_time": "2023-08-31T05:21:53.500Z"
   },
   {
    "duration": 4,
    "start_time": "2023-08-31T05:32:59.478Z"
   },
   {
    "duration": 7,
    "start_time": "2023-08-31T05:40:38.689Z"
   },
   {
    "duration": 17,
    "start_time": "2023-08-31T05:41:22.422Z"
   },
   {
    "duration": 6,
    "start_time": "2023-08-31T05:41:43.630Z"
   },
   {
    "duration": 934,
    "start_time": "2023-08-31T05:41:50.949Z"
   },
   {
    "duration": 10,
    "start_time": "2023-08-31T05:42:28.027Z"
   },
   {
    "duration": 10237,
    "start_time": "2023-08-31T05:43:42.478Z"
   },
   {
    "duration": 5,
    "start_time": "2023-08-31T05:44:55.426Z"
   },
   {
    "duration": 4,
    "start_time": "2023-08-31T08:33:55.536Z"
   },
   {
    "duration": 1351,
    "start_time": "2023-08-31T08:53:14.979Z"
   },
   {
    "duration": 1700,
    "start_time": "2023-08-31T08:53:16.333Z"
   },
   {
    "duration": 45,
    "start_time": "2023-08-31T08:53:18.035Z"
   },
   {
    "duration": 30,
    "start_time": "2023-08-31T08:53:18.082Z"
   },
   {
    "duration": 1152,
    "start_time": "2023-08-31T08:53:43.022Z"
   },
   {
    "duration": 2880,
    "start_time": "2023-08-31T08:53:44.176Z"
   },
   {
    "duration": 50,
    "start_time": "2023-08-31T08:53:47.058Z"
   },
   {
    "duration": 11,
    "start_time": "2023-08-31T08:53:47.111Z"
   },
   {
    "duration": 62,
    "start_time": "2023-08-31T08:54:05.894Z"
   },
   {
    "duration": 1327,
    "start_time": "2023-08-31T08:54:18.285Z"
   },
   {
    "duration": 2878,
    "start_time": "2023-08-31T08:54:20.167Z"
   },
   {
    "duration": 46,
    "start_time": "2023-08-31T08:54:23.047Z"
   },
   {
    "duration": 5,
    "start_time": "2023-08-31T08:54:27.274Z"
   },
   {
    "duration": 1397,
    "start_time": "2023-08-31T08:55:02.500Z"
   },
   {
    "duration": 2912,
    "start_time": "2023-08-31T08:55:03.899Z"
   },
   {
    "duration": 58,
    "start_time": "2023-08-31T08:55:06.814Z"
   },
   {
    "duration": 106,
    "start_time": "2023-08-31T08:55:06.875Z"
   },
   {
    "duration": 10,
    "start_time": "2023-08-31T08:55:06.983Z"
   },
   {
    "duration": 4,
    "start_time": "2023-08-31T08:55:06.995Z"
   },
   {
    "duration": 37,
    "start_time": "2023-08-31T08:55:07.001Z"
   },
   {
    "duration": 29,
    "start_time": "2023-08-31T08:55:07.040Z"
   },
   {
    "duration": 8,
    "start_time": "2023-08-31T08:55:07.071Z"
   },
   {
    "duration": 10,
    "start_time": "2023-08-31T08:55:07.082Z"
   },
   {
    "duration": 17,
    "start_time": "2023-08-31T08:55:07.094Z"
   },
   {
    "duration": 174,
    "start_time": "2023-08-31T08:55:07.112Z"
   },
   {
    "duration": 0,
    "start_time": "2023-08-31T08:55:07.287Z"
   },
   {
    "duration": 1348,
    "start_time": "2023-08-31T08:56:51.490Z"
   },
   {
    "duration": 2973,
    "start_time": "2023-08-31T08:56:52.841Z"
   },
   {
    "duration": 46,
    "start_time": "2023-08-31T08:56:55.819Z"
   },
   {
    "duration": 51,
    "start_time": "2023-08-31T08:56:55.867Z"
   },
   {
    "duration": 53,
    "start_time": "2023-08-31T08:56:55.920Z"
   },
   {
    "duration": 36,
    "start_time": "2023-08-31T08:56:55.975Z"
   },
   {
    "duration": 39,
    "start_time": "2023-08-31T08:56:56.013Z"
   },
   {
    "duration": 36,
    "start_time": "2023-08-31T08:56:56.053Z"
   },
   {
    "duration": 22,
    "start_time": "2023-08-31T08:56:56.091Z"
   },
   {
    "duration": 21,
    "start_time": "2023-08-31T08:56:56.116Z"
   },
   {
    "duration": 31,
    "start_time": "2023-08-31T08:56:56.138Z"
   },
   {
    "duration": 117,
    "start_time": "2023-08-31T08:56:56.171Z"
   },
   {
    "duration": 0,
    "start_time": "2023-08-31T08:56:56.290Z"
   },
   {
    "duration": 4,
    "start_time": "2023-08-31T08:57:34.575Z"
   },
   {
    "duration": 223493,
    "start_time": "2023-08-31T08:57:36.184Z"
   },
   {
    "duration": 16926,
    "start_time": "2023-08-31T09:03:41.093Z"
   },
   {
    "duration": 46,
    "start_time": "2023-08-31T09:04:51.631Z"
   },
   {
    "duration": 41,
    "start_time": "2023-08-31T09:48:39.330Z"
   },
   {
    "duration": 9,
    "start_time": "2023-08-31T09:49:34.149Z"
   },
   {
    "duration": 33,
    "start_time": "2023-08-31T09:50:02.627Z"
   },
   {
    "duration": 32,
    "start_time": "2023-08-31T09:50:35.889Z"
   },
   {
    "duration": 33,
    "start_time": "2023-08-31T09:50:56.591Z"
   },
   {
    "duration": 25,
    "start_time": "2023-08-31T09:53:40.140Z"
   },
   {
    "duration": 40,
    "start_time": "2023-08-31T10:53:09.290Z"
   },
   {
    "duration": 11,
    "start_time": "2023-08-31T10:53:32.542Z"
   },
   {
    "duration": 7,
    "start_time": "2023-08-31T10:53:37.412Z"
   },
   {
    "duration": 6,
    "start_time": "2023-08-31T10:53:41.184Z"
   },
   {
    "duration": 25,
    "start_time": "2023-08-31T11:04:21.790Z"
   },
   {
    "duration": 3,
    "start_time": "2023-08-31T11:04:31.132Z"
   },
   {
    "duration": 39,
    "start_time": "2023-08-31T11:04:35.483Z"
   },
   {
    "duration": 9,
    "start_time": "2023-08-31T11:04:37.042Z"
   },
   {
    "duration": 6,
    "start_time": "2023-08-31T11:04:39.050Z"
   },
   {
    "duration": 10,
    "start_time": "2023-08-31T11:08:00.402Z"
   },
   {
    "duration": 18,
    "start_time": "2023-08-31T11:08:11.633Z"
   },
   {
    "duration": 4,
    "start_time": "2023-08-31T11:08:57.401Z"
   },
   {
    "duration": 6,
    "start_time": "2023-08-31T11:10:07.580Z"
   },
   {
    "duration": 5,
    "start_time": "2023-08-31T11:10:21.752Z"
   },
   {
    "duration": 8,
    "start_time": "2023-08-31T11:13:08.426Z"
   },
   {
    "duration": 212,
    "start_time": "2023-08-31T11:13:10.155Z"
   },
   {
    "duration": 427,
    "start_time": "2023-08-31T11:13:57.788Z"
   },
   {
    "duration": 11,
    "start_time": "2023-08-31T11:14:00.877Z"
   },
   {
    "duration": 55,
    "start_time": "2023-08-31T11:14:44.397Z"
   },
   {
    "duration": 504,
    "start_time": "2023-08-31T11:15:41.757Z"
   },
   {
    "duration": 34,
    "start_time": "2023-08-31T11:16:08.618Z"
   },
   {
    "duration": 490,
    "start_time": "2023-08-31T11:17:45.084Z"
   },
   {
    "duration": 5,
    "start_time": "2023-08-31T11:17:46.550Z"
   },
   {
    "duration": 4809,
    "start_time": "2023-08-31T11:18:25.920Z"
   },
   {
    "duration": 4797,
    "start_time": "2023-08-31T11:19:06.094Z"
   },
   {
    "duration": 5014,
    "start_time": "2023-08-31T11:19:31.313Z"
   },
   {
    "duration": 5,
    "start_time": "2023-08-31T11:20:07.173Z"
   },
   {
    "duration": 207,
    "start_time": "2023-08-31T11:27:29.346Z"
   },
   {
    "duration": 63,
    "start_time": "2023-08-31T11:30:44.599Z"
   },
   {
    "duration": 1813,
    "start_time": "2023-08-31T11:36:35.523Z"
   },
   {
    "duration": 58,
    "start_time": "2023-08-31T11:36:39.310Z"
   },
   {
    "duration": 57,
    "start_time": "2023-08-31T11:42:31.860Z"
   },
   {
    "duration": 217,
    "start_time": "2023-08-31T11:45:08.126Z"
   },
   {
    "duration": 232,
    "start_time": "2023-08-31T11:45:38.497Z"
   },
   {
    "duration": 1258,
    "start_time": "2023-08-31T12:06:16.622Z"
   },
   {
    "duration": 4,
    "start_time": "2023-08-31T12:06:17.882Z"
   },
   {
    "duration": 1147,
    "start_time": "2023-08-31T12:06:17.887Z"
   },
   {
    "duration": 44,
    "start_time": "2023-08-31T12:06:19.037Z"
   },
   {
    "duration": 31,
    "start_time": "2023-08-31T12:06:19.082Z"
   },
   {
    "duration": 18,
    "start_time": "2023-08-31T12:06:19.115Z"
   },
   {
    "duration": 34,
    "start_time": "2023-08-31T12:06:19.134Z"
   },
   {
    "duration": 39,
    "start_time": "2023-08-31T12:06:19.170Z"
   },
   {
    "duration": 19,
    "start_time": "2023-08-31T12:06:19.213Z"
   },
   {
    "duration": 220017,
    "start_time": "2023-08-31T12:06:19.235Z"
   },
   {
    "duration": 70,
    "start_time": "2023-08-31T12:09:59.254Z"
   },
   {
    "duration": 42,
    "start_time": "2023-08-31T12:09:59.326Z"
   },
   {
    "duration": 64,
    "start_time": "2023-08-31T12:09:59.370Z"
   },
   {
    "duration": 511,
    "start_time": "2023-08-31T12:09:59.436Z"
   },
   {
    "duration": 1974,
    "start_time": "2023-08-31T12:09:59.949Z"
   },
   {
    "duration": 218,
    "start_time": "2023-08-31T12:10:01.925Z"
   },
   {
    "duration": 75,
    "start_time": "2023-08-31T12:10:02.146Z"
   },
   {
    "duration": 3307,
    "start_time": "2023-08-31T15:47:43.305Z"
   },
   {
    "duration": 93,
    "start_time": "2023-08-31T15:57:13.917Z"
   },
   {
    "duration": 4075,
    "start_time": "2023-08-31T15:57:25.662Z"
   },
   {
    "duration": 3,
    "start_time": "2023-08-31T15:57:29.739Z"
   },
   {
    "duration": 1172,
    "start_time": "2023-08-31T15:57:29.744Z"
   },
   {
    "duration": 45,
    "start_time": "2023-08-31T15:57:30.918Z"
   },
   {
    "duration": 23,
    "start_time": "2023-08-31T15:57:30.966Z"
   },
   {
    "duration": 88,
    "start_time": "2023-08-31T15:57:30.990Z"
   },
   {
    "duration": 278,
    "start_time": "2023-08-31T15:57:31.079Z"
   },
   {
    "duration": 41,
    "start_time": "2023-08-31T15:57:31.360Z"
   },
   {
    "duration": 58,
    "start_time": "2023-08-31T15:57:31.403Z"
   },
   {
    "duration": 154,
    "start_time": "2023-08-31T15:57:31.463Z"
   },
   {
    "duration": 68054,
    "start_time": "2023-08-31T15:57:31.619Z"
   },
   {
    "duration": 0,
    "start_time": "2023-08-31T15:58:39.676Z"
   },
   {
    "duration": 0,
    "start_time": "2023-08-31T15:58:39.678Z"
   },
   {
    "duration": 0,
    "start_time": "2023-08-31T15:58:39.679Z"
   },
   {
    "duration": 0,
    "start_time": "2023-08-31T15:58:39.681Z"
   },
   {
    "duration": 0,
    "start_time": "2023-08-31T15:58:39.683Z"
   },
   {
    "duration": 0,
    "start_time": "2023-08-31T15:58:39.684Z"
   },
   {
    "duration": 0,
    "start_time": "2023-08-31T15:58:39.686Z"
   },
   {
    "duration": 4180,
    "start_time": "2023-08-31T16:07:33.700Z"
   },
   {
    "duration": 3,
    "start_time": "2023-08-31T16:07:37.882Z"
   },
   {
    "duration": 1151,
    "start_time": "2023-08-31T16:07:37.887Z"
   },
   {
    "duration": 48,
    "start_time": "2023-08-31T16:07:39.040Z"
   },
   {
    "duration": 5,
    "start_time": "2023-08-31T16:07:39.102Z"
   },
   {
    "duration": 33,
    "start_time": "2023-08-31T16:07:39.109Z"
   },
   {
    "duration": 37,
    "start_time": "2023-08-31T16:07:39.144Z"
   },
   {
    "duration": 28,
    "start_time": "2023-08-31T16:07:39.184Z"
   },
   {
    "duration": 29,
    "start_time": "2023-08-31T16:07:39.214Z"
   },
   {
    "duration": 33,
    "start_time": "2023-08-31T16:07:39.247Z"
   },
   {
    "duration": 26,
    "start_time": "2023-08-31T16:07:39.282Z"
   },
   {
    "duration": 212452,
    "start_time": "2023-08-31T16:07:39.310Z"
   },
   {
    "duration": 9023,
    "start_time": "2023-08-31T16:11:11.765Z"
   },
   {
    "duration": 115,
    "start_time": "2023-08-31T16:11:20.790Z"
   },
   {
    "duration": 4,
    "start_time": "2023-08-31T16:11:20.907Z"
   },
   {
    "duration": 75,
    "start_time": "2023-08-31T16:11:20.913Z"
   },
   {
    "duration": 33,
    "start_time": "2023-08-31T16:11:20.990Z"
   },
   {
    "duration": 60,
    "start_time": "2023-08-31T16:11:21.025Z"
   },
   {
    "duration": 126,
    "start_time": "2023-08-31T16:11:21.087Z"
   },
   {
    "duration": 36,
    "start_time": "2023-08-31T16:11:21.215Z"
   },
   {
    "duration": 348,
    "start_time": "2023-08-31T16:13:29.324Z"
   },
   {
    "duration": 72,
    "start_time": "2023-08-31T16:15:37.273Z"
   },
   {
    "duration": 78,
    "start_time": "2023-08-31T16:20:07.598Z"
   },
   {
    "duration": 20,
    "start_time": "2023-08-31T16:20:13.607Z"
   },
   {
    "duration": 18,
    "start_time": "2023-08-31T16:20:14.399Z"
   },
   {
    "duration": 77,
    "start_time": "2023-08-31T16:20:27.912Z"
   },
   {
    "duration": 5,
    "start_time": "2023-08-31T16:20:28.428Z"
   },
   {
    "duration": 63,
    "start_time": "2023-08-31T16:20:28.569Z"
   },
   {
    "duration": 490,
    "start_time": "2023-08-31T16:20:28.771Z"
   },
   {
    "duration": 13301,
    "start_time": "2023-08-31T16:20:29.263Z"
   },
   {
    "duration": 51,
    "start_time": "2023-08-31T16:20:42.566Z"
   },
   {
    "duration": 53,
    "start_time": "2023-08-31T16:21:30.334Z"
   },
   {
    "duration": 7,
    "start_time": "2023-08-31T16:21:31.025Z"
   },
   {
    "duration": 7,
    "start_time": "2023-08-31T16:21:31.324Z"
   },
   {
    "duration": 6,
    "start_time": "2023-08-31T16:21:31.473Z"
   },
   {
    "duration": 9,
    "start_time": "2023-08-31T16:21:34.265Z"
   },
   {
    "duration": 4343,
    "start_time": "2023-08-31T16:21:41.104Z"
   },
   {
    "duration": 2,
    "start_time": "2023-08-31T16:21:45.450Z"
   },
   {
    "duration": 2893,
    "start_time": "2023-08-31T16:21:45.454Z"
   },
   {
    "duration": 45,
    "start_time": "2023-08-31T16:21:48.349Z"
   },
   {
    "duration": 5,
    "start_time": "2023-08-31T16:21:48.397Z"
   },
   {
    "duration": 24,
    "start_time": "2023-08-31T16:21:48.403Z"
   },
   {
    "duration": 11,
    "start_time": "2023-08-31T16:21:48.428Z"
   },
   {
    "duration": 14,
    "start_time": "2023-08-31T16:21:48.440Z"
   },
   {
    "duration": 11,
    "start_time": "2023-08-31T16:21:48.456Z"
   },
   {
    "duration": 14,
    "start_time": "2023-08-31T16:21:48.468Z"
   },
   {
    "duration": 13,
    "start_time": "2023-08-31T16:21:48.484Z"
   },
   {
    "duration": 213199,
    "start_time": "2023-08-31T16:21:48.499Z"
   },
   {
    "duration": 9319,
    "start_time": "2023-08-31T16:25:21.702Z"
   },
   {
    "duration": 126,
    "start_time": "2023-08-31T16:25:31.024Z"
   },
   {
    "duration": 4,
    "start_time": "2023-08-31T16:25:31.151Z"
   },
   {
    "duration": 86,
    "start_time": "2023-08-31T16:25:31.157Z"
   },
   {
    "duration": 574,
    "start_time": "2023-08-31T16:25:31.245Z"
   },
   {
    "duration": 0,
    "start_time": "2023-08-31T16:25:31.820Z"
   },
   {
    "duration": 0,
    "start_time": "2023-08-31T16:25:31.822Z"
   },
   {
    "duration": 0,
    "start_time": "2023-08-31T16:25:31.824Z"
   },
   {
    "duration": 0,
    "start_time": "2023-08-31T16:25:31.826Z"
   },
   {
    "duration": 0,
    "start_time": "2023-08-31T16:25:31.827Z"
   },
   {
    "duration": 4188,
    "start_time": "2023-08-31T18:55:58.769Z"
   },
   {
    "duration": 2,
    "start_time": "2023-08-31T18:56:02.960Z"
   },
   {
    "duration": 1125,
    "start_time": "2023-08-31T18:56:02.964Z"
   },
   {
    "duration": 50,
    "start_time": "2023-08-31T18:56:04.091Z"
   },
   {
    "duration": 7,
    "start_time": "2023-08-31T18:56:04.143Z"
   },
   {
    "duration": 8,
    "start_time": "2023-08-31T18:56:04.152Z"
   },
   {
    "duration": 22,
    "start_time": "2023-08-31T18:56:04.161Z"
   },
   {
    "duration": 3,
    "start_time": "2023-08-31T18:56:04.202Z"
   },
   {
    "duration": 13,
    "start_time": "2023-08-31T18:56:04.207Z"
   },
   {
    "duration": 22,
    "start_time": "2023-08-31T18:56:04.223Z"
   },
   {
    "duration": 23,
    "start_time": "2023-08-31T18:56:04.247Z"
   },
   {
    "duration": 209652,
    "start_time": "2023-08-31T18:56:04.271Z"
   },
   {
    "duration": 10920,
    "start_time": "2023-08-31T18:59:33.925Z"
   },
   {
    "duration": 124,
    "start_time": "2023-08-31T18:59:44.849Z"
   },
   {
    "duration": 4,
    "start_time": "2023-08-31T18:59:44.976Z"
   },
   {
    "duration": 96,
    "start_time": "2023-08-31T18:59:44.983Z"
   },
   {
    "duration": 520,
    "start_time": "2023-08-31T18:59:45.081Z"
   },
   {
    "duration": 14757,
    "start_time": "2023-08-31T18:59:45.604Z"
   },
   {
    "duration": 2041,
    "start_time": "2023-08-31T19:00:00.364Z"
   },
   {
    "duration": 4734,
    "start_time": "2023-08-31T19:00:38.850Z"
   },
   {
    "duration": 3,
    "start_time": "2023-08-31T19:00:43.586Z"
   },
   {
    "duration": 3963,
    "start_time": "2023-08-31T19:00:43.591Z"
   },
   {
    "duration": 54,
    "start_time": "2023-08-31T19:00:47.557Z"
   },
   {
    "duration": 6,
    "start_time": "2023-08-31T19:00:47.613Z"
   },
   {
    "duration": 76,
    "start_time": "2023-08-31T19:00:47.621Z"
   },
   {
    "duration": 36,
    "start_time": "2023-08-31T19:00:47.699Z"
   },
   {
    "duration": 44,
    "start_time": "2023-08-31T19:00:47.737Z"
   },
   {
    "duration": 46,
    "start_time": "2023-08-31T19:00:47.784Z"
   },
   {
    "duration": 43,
    "start_time": "2023-08-31T19:00:47.833Z"
   },
   {
    "duration": 39,
    "start_time": "2023-08-31T19:00:47.877Z"
   },
   {
    "duration": 228759,
    "start_time": "2023-08-31T19:00:47.918Z"
   },
   {
    "duration": 9658,
    "start_time": "2023-08-31T19:04:36.680Z"
   },
   {
    "duration": 112,
    "start_time": "2023-08-31T19:04:46.339Z"
   },
   {
    "duration": 5,
    "start_time": "2023-08-31T19:04:46.453Z"
   },
   {
    "duration": 74,
    "start_time": "2023-08-31T19:04:46.460Z"
   },
   {
    "duration": 513,
    "start_time": "2023-08-31T19:04:46.536Z"
   },
   {
    "duration": 13915,
    "start_time": "2023-08-31T19:04:47.052Z"
   },
   {
    "duration": 127,
    "start_time": "2023-08-31T19:05:16.996Z"
   },
   {
    "duration": 81,
    "start_time": "2023-08-31T19:05:35.514Z"
   },
   {
    "duration": 4274,
    "start_time": "2023-08-31T19:13:05.139Z"
   },
   {
    "duration": 3,
    "start_time": "2023-08-31T19:13:09.422Z"
   },
   {
    "duration": 1113,
    "start_time": "2023-08-31T19:13:09.427Z"
   },
   {
    "duration": 51,
    "start_time": "2023-08-31T19:13:10.542Z"
   },
   {
    "duration": 19,
    "start_time": "2023-08-31T19:13:10.605Z"
   },
   {
    "duration": 14,
    "start_time": "2023-08-31T19:13:10.625Z"
   },
   {
    "duration": 25,
    "start_time": "2023-08-31T19:13:10.641Z"
   },
   {
    "duration": 21,
    "start_time": "2023-08-31T19:13:10.668Z"
   },
   {
    "duration": 18,
    "start_time": "2023-08-31T19:13:10.690Z"
   },
   {
    "duration": 5,
    "start_time": "2023-08-31T19:13:10.717Z"
   },
   {
    "duration": 21,
    "start_time": "2023-08-31T19:13:10.723Z"
   },
   {
    "duration": 104629,
    "start_time": "2023-08-31T19:13:10.747Z"
   },
   {
    "duration": 0,
    "start_time": "2023-08-31T19:14:55.379Z"
   },
   {
    "duration": 0,
    "start_time": "2023-08-31T19:14:55.379Z"
   },
   {
    "duration": 0,
    "start_time": "2023-08-31T19:14:55.380Z"
   },
   {
    "duration": 0,
    "start_time": "2023-08-31T19:14:55.383Z"
   },
   {
    "duration": 0,
    "start_time": "2023-08-31T19:14:55.384Z"
   },
   {
    "duration": 0,
    "start_time": "2023-08-31T19:14:55.385Z"
   },
   {
    "duration": 0,
    "start_time": "2023-08-31T19:14:55.386Z"
   },
   {
    "duration": 0,
    "start_time": "2023-08-31T19:14:55.387Z"
   },
   {
    "duration": 0,
    "start_time": "2023-08-31T19:14:55.388Z"
   },
   {
    "duration": 0,
    "start_time": "2023-08-31T19:14:55.389Z"
   },
   {
    "duration": 0,
    "start_time": "2023-08-31T19:14:55.390Z"
   },
   {
    "duration": 0,
    "start_time": "2023-08-31T19:14:55.391Z"
   },
   {
    "duration": 4100,
    "start_time": "2023-08-31T19:17:10.460Z"
   },
   {
    "duration": 3,
    "start_time": "2023-08-31T19:17:14.563Z"
   },
   {
    "duration": 1162,
    "start_time": "2023-08-31T19:17:14.570Z"
   },
   {
    "duration": 48,
    "start_time": "2023-08-31T19:17:15.734Z"
   },
   {
    "duration": 32,
    "start_time": "2023-08-31T19:17:15.784Z"
   },
   {
    "duration": 4,
    "start_time": "2023-08-31T19:17:15.819Z"
   },
   {
    "duration": 4,
    "start_time": "2023-08-31T19:17:15.825Z"
   },
   {
    "duration": 10,
    "start_time": "2023-08-31T19:17:15.830Z"
   },
   {
    "duration": 4,
    "start_time": "2023-08-31T19:17:15.841Z"
   },
   {
    "duration": 7,
    "start_time": "2023-08-31T19:17:15.847Z"
   },
   {
    "duration": 217881,
    "start_time": "2023-08-31T19:17:15.855Z"
   },
   {
    "duration": 10665,
    "start_time": "2023-08-31T19:20:53.739Z"
   },
   {
    "duration": 116,
    "start_time": "2023-08-31T19:21:04.407Z"
   },
   {
    "duration": 4,
    "start_time": "2023-08-31T19:21:04.527Z"
   },
   {
    "duration": 35,
    "start_time": "2023-08-31T19:21:04.533Z"
   },
   {
    "duration": 66,
    "start_time": "2023-08-31T19:21:04.571Z"
   },
   {
    "duration": 413,
    "start_time": "2023-08-31T19:21:04.640Z"
   },
   {
    "duration": 0,
    "start_time": "2023-08-31T19:21:05.055Z"
   },
   {
    "duration": 0,
    "start_time": "2023-08-31T19:21:05.057Z"
   },
   {
    "duration": 0,
    "start_time": "2023-08-31T19:21:05.059Z"
   },
   {
    "duration": 0,
    "start_time": "2023-08-31T19:21:05.061Z"
   },
   {
    "duration": 0,
    "start_time": "2023-08-31T19:21:05.062Z"
   },
   {
    "duration": 0,
    "start_time": "2023-08-31T19:21:05.064Z"
   },
   {
    "duration": 0,
    "start_time": "2023-08-31T19:21:05.065Z"
   },
   {
    "duration": 505,
    "start_time": "2023-08-31T19:21:45.571Z"
   },
   {
    "duration": 14097,
    "start_time": "2023-08-31T19:21:47.019Z"
   },
   {
    "duration": 2013,
    "start_time": "2023-08-31T19:22:01.119Z"
   },
   {
    "duration": 4178,
    "start_time": "2023-08-31T19:24:20.917Z"
   },
   {
    "duration": 8,
    "start_time": "2023-08-31T19:24:25.098Z"
   },
   {
    "duration": 2894,
    "start_time": "2023-08-31T19:24:25.108Z"
   },
   {
    "duration": 49,
    "start_time": "2023-08-31T19:24:28.011Z"
   },
   {
    "duration": 6,
    "start_time": "2023-08-31T19:24:28.064Z"
   },
   {
    "duration": 6,
    "start_time": "2023-08-31T19:24:28.072Z"
   },
   {
    "duration": 5,
    "start_time": "2023-08-31T19:24:28.080Z"
   },
   {
    "duration": 12,
    "start_time": "2023-08-31T19:24:28.109Z"
   },
   {
    "duration": 5,
    "start_time": "2023-08-31T19:24:28.123Z"
   },
   {
    "duration": 4,
    "start_time": "2023-08-31T19:24:28.130Z"
   },
   {
    "duration": 225448,
    "start_time": "2023-08-31T19:24:28.136Z"
   },
   {
    "duration": 11898,
    "start_time": "2023-08-31T19:28:13.587Z"
   },
   {
    "duration": 116,
    "start_time": "2023-08-31T19:28:25.487Z"
   },
   {
    "duration": 11,
    "start_time": "2023-08-31T19:28:25.608Z"
   },
   {
    "duration": 20,
    "start_time": "2023-08-31T19:28:25.622Z"
   },
   {
    "duration": 37,
    "start_time": "2023-08-31T19:28:25.644Z"
   },
   {
    "duration": 20,
    "start_time": "2023-08-31T19:28:25.683Z"
   },
   {
    "duration": 558,
    "start_time": "2023-08-31T19:28:25.705Z"
   },
   {
    "duration": 14979,
    "start_time": "2023-08-31T19:28:26.265Z"
   },
   {
    "duration": 2032,
    "start_time": "2023-08-31T19:28:41.246Z"
   },
   {
    "duration": 4753,
    "start_time": "2023-08-31T19:32:53.374Z"
   },
   {
    "duration": 3,
    "start_time": "2023-08-31T19:32:58.130Z"
   },
   {
    "duration": 2788,
    "start_time": "2023-08-31T19:32:58.135Z"
   },
   {
    "duration": 51,
    "start_time": "2023-08-31T19:33:00.926Z"
   },
   {
    "duration": 18,
    "start_time": "2023-08-31T19:33:00.980Z"
   },
   {
    "duration": 16,
    "start_time": "2023-08-31T19:33:01.000Z"
   },
   {
    "duration": 23,
    "start_time": "2023-08-31T19:33:01.021Z"
   },
   {
    "duration": 26,
    "start_time": "2023-08-31T19:33:01.047Z"
   },
   {
    "duration": 32,
    "start_time": "2023-08-31T19:33:01.075Z"
   },
   {
    "duration": 20,
    "start_time": "2023-08-31T19:33:01.113Z"
   },
   {
    "duration": 7208,
    "start_time": "2023-08-31T19:33:01.135Z"
   },
   {
    "duration": 0,
    "start_time": "2023-08-31T19:33:08.346Z"
   },
   {
    "duration": 0,
    "start_time": "2023-08-31T19:33:08.347Z"
   },
   {
    "duration": 0,
    "start_time": "2023-08-31T19:33:08.348Z"
   },
   {
    "duration": 0,
    "start_time": "2023-08-31T19:33:08.350Z"
   },
   {
    "duration": 0,
    "start_time": "2023-08-31T19:33:08.351Z"
   },
   {
    "duration": 1,
    "start_time": "2023-08-31T19:33:08.356Z"
   },
   {
    "duration": 0,
    "start_time": "2023-08-31T19:33:08.358Z"
   },
   {
    "duration": 0,
    "start_time": "2023-08-31T19:33:08.366Z"
   },
   {
    "duration": 0,
    "start_time": "2023-08-31T19:33:08.367Z"
   },
   {
    "duration": 4398,
    "start_time": "2023-08-31T19:34:44.791Z"
   },
   {
    "duration": 18,
    "start_time": "2023-08-31T19:34:49.191Z"
   },
   {
    "duration": 1150,
    "start_time": "2023-08-31T19:34:49.218Z"
   },
   {
    "duration": 58,
    "start_time": "2023-08-31T19:34:50.371Z"
   },
   {
    "duration": 6,
    "start_time": "2023-08-31T19:34:50.432Z"
   },
   {
    "duration": 17,
    "start_time": "2023-08-31T19:34:50.440Z"
   },
   {
    "duration": 9,
    "start_time": "2023-08-31T19:34:50.460Z"
   },
   {
    "duration": 8,
    "start_time": "2023-08-31T19:34:50.471Z"
   },
   {
    "duration": 23,
    "start_time": "2023-08-31T19:34:50.481Z"
   },
   {
    "duration": 16,
    "start_time": "2023-08-31T19:34:50.511Z"
   },
   {
    "duration": 230167,
    "start_time": "2023-08-31T19:34:50.529Z"
   },
   {
    "duration": 10289,
    "start_time": "2023-08-31T19:38:40.698Z"
   },
   {
    "duration": 116,
    "start_time": "2023-08-31T19:38:50.988Z"
   },
   {
    "duration": 10,
    "start_time": "2023-08-31T19:38:51.107Z"
   },
   {
    "duration": 22,
    "start_time": "2023-08-31T19:38:51.121Z"
   },
   {
    "duration": 47,
    "start_time": "2023-08-31T19:38:51.145Z"
   },
   {
    "duration": 2543,
    "start_time": "2023-08-31T19:38:51.195Z"
   },
   {
    "duration": 217,
    "start_time": "2023-08-31T19:38:53.740Z"
   },
   {
    "duration": 65,
    "start_time": "2023-08-31T19:38:53.959Z"
   },
   {
    "duration": 4571,
    "start_time": "2023-08-31T19:39:41.659Z"
   },
   {
    "duration": 3,
    "start_time": "2023-08-31T19:39:46.232Z"
   },
   {
    "duration": 2913,
    "start_time": "2023-08-31T19:39:46.237Z"
   },
   {
    "duration": 47,
    "start_time": "2023-08-31T19:39:49.152Z"
   },
   {
    "duration": 12,
    "start_time": "2023-08-31T19:39:49.201Z"
   },
   {
    "duration": 5,
    "start_time": "2023-08-31T19:39:49.216Z"
   },
   {
    "duration": 8,
    "start_time": "2023-08-31T19:39:49.223Z"
   },
   {
    "duration": 5,
    "start_time": "2023-08-31T19:39:49.232Z"
   },
   {
    "duration": 5,
    "start_time": "2023-08-31T19:39:49.239Z"
   },
   {
    "duration": 8,
    "start_time": "2023-08-31T19:39:49.246Z"
   },
   {
    "duration": 233003,
    "start_time": "2023-08-31T19:39:49.256Z"
   },
   {
    "duration": 10389,
    "start_time": "2023-08-31T19:43:42.261Z"
   },
   {
    "duration": 186,
    "start_time": "2023-08-31T19:43:52.651Z"
   },
   {
    "duration": 5,
    "start_time": "2023-08-31T19:43:52.839Z"
   },
   {
    "duration": 15,
    "start_time": "2023-08-31T19:43:52.846Z"
   },
   {
    "duration": 64,
    "start_time": "2023-08-31T19:43:52.862Z"
   },
   {
    "duration": 2680,
    "start_time": "2023-08-31T19:43:52.928Z"
   },
   {
    "duration": 396,
    "start_time": "2023-08-31T19:43:55.901Z"
   },
   {
    "duration": 0,
    "start_time": "2023-08-31T19:43:56.302Z"
   },
   {
    "duration": 5273,
    "start_time": "2023-08-31T19:44:08.321Z"
   },
   {
    "duration": 34,
    "start_time": "2023-08-31T19:44:35.138Z"
   },
   {
    "duration": 2613,
    "start_time": "2023-08-31T19:44:40.521Z"
   },
   {
    "duration": 1142,
    "start_time": "2023-08-31T19:51:56.677Z"
   },
   {
    "duration": 6,
    "start_time": "2023-08-31T20:43:07.751Z"
   },
   {
    "duration": 4,
    "start_time": "2023-08-31T20:43:07.910Z"
   },
   {
    "duration": 1057,
    "start_time": "2023-08-31T20:43:08.273Z"
   },
   {
    "duration": 40,
    "start_time": "2023-08-31T20:43:09.332Z"
   },
   {
    "duration": 6,
    "start_time": "2023-08-31T20:43:09.374Z"
   },
   {
    "duration": 20,
    "start_time": "2023-08-31T20:43:09.382Z"
   },
   {
    "duration": 12,
    "start_time": "2023-08-31T20:43:09.403Z"
   },
   {
    "duration": 4,
    "start_time": "2023-08-31T20:43:09.459Z"
   },
   {
    "duration": 4,
    "start_time": "2023-08-31T20:43:09.651Z"
   },
   {
    "duration": 5,
    "start_time": "2023-08-31T20:43:09.802Z"
   },
   {
    "duration": 204759,
    "start_time": "2023-08-31T20:43:09.971Z"
   },
   {
    "duration": 7579,
    "start_time": "2023-08-31T20:46:34.733Z"
   },
   {
    "duration": 182,
    "start_time": "2023-08-31T20:46:42.314Z"
   },
   {
    "duration": 4,
    "start_time": "2023-08-31T20:46:42.501Z"
   },
   {
    "duration": 21,
    "start_time": "2023-08-31T20:46:42.507Z"
   },
   {
    "duration": 56,
    "start_time": "2023-08-31T20:46:42.529Z"
   },
   {
    "duration": 2473,
    "start_time": "2023-08-31T20:46:42.587Z"
   },
   {
    "duration": 4847,
    "start_time": "2023-09-01T04:57:11.265Z"
   },
   {
    "duration": 2,
    "start_time": "2023-09-01T04:57:16.114Z"
   },
   {
    "duration": 3471,
    "start_time": "2023-09-01T04:57:16.118Z"
   },
   {
    "duration": 46,
    "start_time": "2023-09-01T04:57:19.592Z"
   },
   {
    "duration": 5,
    "start_time": "2023-09-01T04:57:19.639Z"
   },
   {
    "duration": 5,
    "start_time": "2023-09-01T04:57:19.645Z"
   },
   {
    "duration": 4,
    "start_time": "2023-09-01T04:57:19.652Z"
   },
   {
    "duration": 16,
    "start_time": "2023-09-01T04:57:19.657Z"
   },
   {
    "duration": 32,
    "start_time": "2023-09-01T04:57:19.675Z"
   },
   {
    "duration": 11,
    "start_time": "2023-09-01T04:57:19.710Z"
   },
   {
    "duration": 192748,
    "start_time": "2023-09-01T04:57:20.964Z"
   },
   {
    "duration": 9040,
    "start_time": "2023-09-01T05:00:33.715Z"
   },
   {
    "duration": 196,
    "start_time": "2023-09-01T05:00:42.757Z"
   },
   {
    "duration": 5,
    "start_time": "2023-09-01T05:00:42.956Z"
   },
   {
    "duration": 19,
    "start_time": "2023-09-01T05:00:42.963Z"
   },
   {
    "duration": 55,
    "start_time": "2023-09-01T05:00:42.985Z"
   },
   {
    "duration": 2695,
    "start_time": "2023-09-01T05:00:43.042Z"
   },
   {
    "duration": 381,
    "start_time": "2023-09-01T05:00:45.740Z"
   },
   {
    "duration": 0,
    "start_time": "2023-09-01T05:00:46.123Z"
   },
   {
    "duration": 0,
    "start_time": "2023-09-01T05:00:46.124Z"
   },
   {
    "duration": 2310,
    "start_time": "2023-09-01T05:05:40.998Z"
   },
   {
    "duration": 2246,
    "start_time": "2023-09-01T05:06:17.048Z"
   },
   {
    "duration": 25902,
    "start_time": "2023-09-01T05:06:21.238Z"
   },
   {
    "duration": 4330,
    "start_time": "2023-09-01T05:06:47.142Z"
   },
   {
    "duration": 23,
    "start_time": "2023-09-01T05:10:55.021Z"
   },
   {
    "duration": 4054,
    "start_time": "2023-09-01T05:29:03.742Z"
   },
   {
    "duration": 3,
    "start_time": "2023-09-01T05:29:07.798Z"
   },
   {
    "duration": 1015,
    "start_time": "2023-09-01T05:29:07.802Z"
   },
   {
    "duration": 57,
    "start_time": "2023-09-01T05:29:08.819Z"
   },
   {
    "duration": 5,
    "start_time": "2023-09-01T05:29:08.878Z"
   },
   {
    "duration": 8,
    "start_time": "2023-09-01T05:29:08.884Z"
   },
   {
    "duration": 3,
    "start_time": "2023-09-01T05:29:08.894Z"
   },
   {
    "duration": 4,
    "start_time": "2023-09-01T05:29:08.899Z"
   },
   {
    "duration": 5,
    "start_time": "2023-09-01T05:29:08.904Z"
   },
   {
    "duration": 5,
    "start_time": "2023-09-01T05:29:08.911Z"
   },
   {
    "duration": 193469,
    "start_time": "2023-09-01T05:29:08.918Z"
   },
   {
    "duration": 9002,
    "start_time": "2023-09-01T05:32:22.389Z"
   },
   {
    "duration": 192,
    "start_time": "2023-09-01T05:32:31.393Z"
   },
   {
    "duration": 60,
    "start_time": "2023-09-01T05:32:31.588Z"
   },
   {
    "duration": 7,
    "start_time": "2023-09-01T05:32:31.658Z"
   },
   {
    "duration": 421,
    "start_time": "2023-09-01T05:32:31.667Z"
   },
   {
    "duration": 0,
    "start_time": "2023-09-01T05:32:32.089Z"
   },
   {
    "duration": 0,
    "start_time": "2023-09-01T05:32:32.090Z"
   },
   {
    "duration": 0,
    "start_time": "2023-09-01T05:32:32.092Z"
   },
   {
    "duration": 0,
    "start_time": "2023-09-01T05:32:32.093Z"
   },
   {
    "duration": 0,
    "start_time": "2023-09-01T05:32:32.094Z"
   },
   {
    "duration": 0,
    "start_time": "2023-09-01T05:32:32.095Z"
   },
   {
    "duration": 5522,
    "start_time": "2023-09-01T05:50:38.813Z"
   },
   {
    "duration": 3,
    "start_time": "2023-09-01T05:50:44.337Z"
   },
   {
    "duration": 3371,
    "start_time": "2023-09-01T05:50:44.342Z"
   },
   {
    "duration": 48,
    "start_time": "2023-09-01T05:50:47.715Z"
   },
   {
    "duration": 6,
    "start_time": "2023-09-01T05:50:47.765Z"
   },
   {
    "duration": 4,
    "start_time": "2023-09-01T05:50:47.773Z"
   },
   {
    "duration": 4,
    "start_time": "2023-09-01T05:50:47.779Z"
   },
   {
    "duration": 66,
    "start_time": "2023-09-01T05:50:47.784Z"
   },
   {
    "duration": 0,
    "start_time": "2023-09-01T05:50:47.852Z"
   },
   {
    "duration": 0,
    "start_time": "2023-09-01T05:50:47.853Z"
   },
   {
    "duration": 0,
    "start_time": "2023-09-01T05:50:47.854Z"
   },
   {
    "duration": 0,
    "start_time": "2023-09-01T05:50:47.855Z"
   },
   {
    "duration": 0,
    "start_time": "2023-09-01T05:50:47.856Z"
   },
   {
    "duration": 0,
    "start_time": "2023-09-01T05:50:47.857Z"
   },
   {
    "duration": 0,
    "start_time": "2023-09-01T05:50:47.858Z"
   },
   {
    "duration": 0,
    "start_time": "2023-09-01T05:50:47.859Z"
   },
   {
    "duration": 0,
    "start_time": "2023-09-01T05:50:47.860Z"
   },
   {
    "duration": 0,
    "start_time": "2023-09-01T05:50:47.861Z"
   },
   {
    "duration": 0,
    "start_time": "2023-09-01T05:50:47.862Z"
   },
   {
    "duration": 0,
    "start_time": "2023-09-01T05:50:47.863Z"
   },
   {
    "duration": 5,
    "start_time": "2023-09-01T05:57:43.029Z"
   },
   {
    "duration": 191043,
    "start_time": "2023-09-01T05:57:43.423Z"
   },
   {
    "duration": 7031,
    "start_time": "2023-09-01T06:00:54.469Z"
   },
   {
    "duration": 192,
    "start_time": "2023-09-01T06:01:01.502Z"
   },
   {
    "duration": 45,
    "start_time": "2023-09-01T06:01:01.697Z"
   },
   {
    "duration": 6,
    "start_time": "2023-09-01T06:01:01.759Z"
   },
   {
    "duration": 53,
    "start_time": "2023-09-01T07:55:19.678Z"
   },
   {
    "duration": 70,
    "start_time": "2023-09-01T08:37:04.566Z"
   },
   {
    "duration": 5668,
    "start_time": "2023-09-01T08:37:09.440Z"
   },
   {
    "duration": 3,
    "start_time": "2023-09-01T08:37:15.111Z"
   },
   {
    "duration": 3496,
    "start_time": "2023-09-01T08:37:15.115Z"
   },
   {
    "duration": 49,
    "start_time": "2023-09-01T08:37:18.613Z"
   },
   {
    "duration": 8,
    "start_time": "2023-09-01T08:37:18.664Z"
   },
   {
    "duration": 10,
    "start_time": "2023-09-01T08:37:18.674Z"
   },
   {
    "duration": 6,
    "start_time": "2023-09-01T08:37:18.686Z"
   },
   {
    "duration": 7,
    "start_time": "2023-09-01T08:37:18.693Z"
   },
   {
    "duration": 192172,
    "start_time": "2023-09-01T08:37:18.702Z"
   },
   {
    "duration": 7068,
    "start_time": "2023-09-01T08:40:30.877Z"
   },
   {
    "duration": 175,
    "start_time": "2023-09-01T08:40:37.947Z"
   },
   {
    "duration": 52,
    "start_time": "2023-09-01T08:40:38.123Z"
   },
   {
    "duration": 5,
    "start_time": "2023-09-01T08:40:38.177Z"
   },
   {
    "duration": 7440,
    "start_time": "2023-09-01T10:00:00.840Z"
   },
   {
    "duration": 11,
    "start_time": "2023-09-01T10:00:08.295Z"
   },
   {
    "duration": 4578,
    "start_time": "2023-09-01T10:00:08.313Z"
   },
   {
    "duration": 76,
    "start_time": "2023-09-01T10:00:12.909Z"
   },
   {
    "duration": 22,
    "start_time": "2023-09-01T10:00:12.987Z"
   },
   {
    "duration": 21,
    "start_time": "2023-09-01T10:00:13.011Z"
   },
   {
    "duration": 11,
    "start_time": "2023-09-01T10:00:13.034Z"
   },
   {
    "duration": 20,
    "start_time": "2023-09-01T10:00:13.047Z"
   },
   {
    "duration": 244538,
    "start_time": "2023-09-01T10:00:13.069Z"
   },
   {
    "duration": 9734,
    "start_time": "2023-09-01T10:04:17.611Z"
   },
   {
    "duration": 244,
    "start_time": "2023-09-01T10:04:27.347Z"
   },
   {
    "duration": 52,
    "start_time": "2023-09-01T10:04:27.601Z"
   },
   {
    "duration": 36,
    "start_time": "2023-09-01T10:04:27.655Z"
   },
   {
    "duration": 5,
    "start_time": "2023-09-01T10:04:27.703Z"
   },
   {
    "duration": 6084,
    "start_time": "2023-09-01T10:18:49.717Z"
   },
   {
    "duration": 3,
    "start_time": "2023-09-01T10:18:55.802Z"
   },
   {
    "duration": 3999,
    "start_time": "2023-09-01T10:18:55.807Z"
   },
   {
    "duration": 47,
    "start_time": "2023-09-01T10:18:59.808Z"
   },
   {
    "duration": 27,
    "start_time": "2023-09-01T10:18:59.857Z"
   },
   {
    "duration": 4,
    "start_time": "2023-09-01T10:18:59.886Z"
   },
   {
    "duration": 5,
    "start_time": "2023-09-01T10:18:59.891Z"
   },
   {
    "duration": 7,
    "start_time": "2023-09-01T10:18:59.897Z"
   },
   {
    "duration": 217843,
    "start_time": "2023-09-01T10:18:59.905Z"
   },
   {
    "duration": 8862,
    "start_time": "2023-09-01T10:22:37.752Z"
   },
   {
    "duration": 190,
    "start_time": "2023-09-01T10:22:46.616Z"
   },
   {
    "duration": 72,
    "start_time": "2023-09-01T10:22:46.807Z"
   },
   {
    "duration": 6,
    "start_time": "2023-09-01T10:22:46.889Z"
   },
   {
    "duration": 7,
    "start_time": "2023-09-01T10:22:46.896Z"
   },
   {
    "duration": 6101,
    "start_time": "2023-09-01T10:25:08.753Z"
   },
   {
    "duration": 5,
    "start_time": "2023-09-01T10:25:14.856Z"
   },
   {
    "duration": 3942,
    "start_time": "2023-09-01T10:25:14.862Z"
   },
   {
    "duration": 49,
    "start_time": "2023-09-01T10:25:18.805Z"
   },
   {
    "duration": 19,
    "start_time": "2023-09-01T10:25:18.856Z"
   },
   {
    "duration": 18,
    "start_time": "2023-09-01T10:25:18.877Z"
   },
   {
    "duration": 8,
    "start_time": "2023-09-01T10:25:18.897Z"
   },
   {
    "duration": 10,
    "start_time": "2023-09-01T10:25:18.907Z"
   },
   {
    "duration": 209672,
    "start_time": "2023-09-01T10:25:18.919Z"
   },
   {
    "duration": 8711,
    "start_time": "2023-09-01T10:28:48.593Z"
   },
   {
    "duration": 190,
    "start_time": "2023-09-01T10:28:57.306Z"
   },
   {
    "duration": 45,
    "start_time": "2023-09-01T10:28:57.498Z"
   },
   {
    "duration": 35,
    "start_time": "2023-09-01T10:28:57.545Z"
   },
   {
    "duration": 12,
    "start_time": "2023-09-01T10:28:57.585Z"
   },
   {
    "duration": 6658,
    "start_time": "2023-09-01T10:28:57.598Z"
   },
   {
    "duration": 6617,
    "start_time": "2023-09-01T10:29:04.258Z"
   },
   {
    "duration": 4175,
    "start_time": "2023-09-03T05:22:58.447Z"
   },
   {
    "duration": 3,
    "start_time": "2023-09-03T05:23:02.624Z"
   },
   {
    "duration": 2835,
    "start_time": "2023-09-03T05:23:02.629Z"
   },
   {
    "duration": 54,
    "start_time": "2023-09-03T05:23:05.466Z"
   },
   {
    "duration": 6,
    "start_time": "2023-09-03T05:23:05.523Z"
   },
   {
    "duration": 8,
    "start_time": "2023-09-03T05:23:05.531Z"
   },
   {
    "duration": 4,
    "start_time": "2023-09-03T05:23:05.541Z"
   },
   {
    "duration": 8,
    "start_time": "2023-09-03T05:23:05.547Z"
   },
   {
    "duration": 220905,
    "start_time": "2023-09-03T05:23:05.557Z"
   },
   {
    "duration": 9028,
    "start_time": "2023-09-03T05:26:46.465Z"
   },
   {
    "duration": 183,
    "start_time": "2023-09-03T05:26:55.495Z"
   },
   {
    "duration": 56,
    "start_time": "2023-09-03T05:26:55.680Z"
   },
   {
    "duration": 6,
    "start_time": "2023-09-03T05:26:55.738Z"
   },
   {
    "duration": 17,
    "start_time": "2023-09-03T05:26:55.747Z"
   },
   {
    "duration": 6428,
    "start_time": "2023-09-03T05:26:55.766Z"
   },
   {
    "duration": 6356,
    "start_time": "2023-09-03T05:27:02.196Z"
   },
   {
    "duration": 4,
    "start_time": "2023-09-03T05:27:08.554Z"
   },
   {
    "duration": 98,
    "start_time": "2023-09-03T05:27:08.560Z"
   },
   {
    "duration": 24,
    "start_time": "2023-09-03T05:27:08.660Z"
   },
   {
    "duration": 18,
    "start_time": "2023-09-03T05:27:08.702Z"
   },
   {
    "duration": 5,
    "start_time": "2023-09-03T05:27:08.724Z"
   },
   {
    "duration": 10,
    "start_time": "2023-09-03T05:27:08.731Z"
   },
   {
    "duration": 13,
    "start_time": "2023-09-03T05:27:08.743Z"
   },
   {
    "duration": 409,
    "start_time": "2023-09-03T09:04:42.868Z"
   },
   {
    "duration": 3,
    "start_time": "2023-09-03T11:16:24.269Z"
   },
   {
    "duration": 102,
    "start_time": "2023-09-03T11:20:46.916Z"
   },
   {
    "duration": 0,
    "start_time": "2023-09-03T11:20:47.020Z"
   },
   {
    "duration": 0,
    "start_time": "2023-09-03T11:20:47.022Z"
   },
   {
    "duration": 0,
    "start_time": "2023-09-03T11:20:47.023Z"
   },
   {
    "duration": 0,
    "start_time": "2023-09-03T11:20:47.024Z"
   },
   {
    "duration": 0,
    "start_time": "2023-09-03T11:20:47.026Z"
   },
   {
    "duration": 0,
    "start_time": "2023-09-03T11:20:47.027Z"
   },
   {
    "duration": 0,
    "start_time": "2023-09-03T11:20:47.028Z"
   },
   {
    "duration": 0,
    "start_time": "2023-09-03T11:20:47.029Z"
   },
   {
    "duration": 0,
    "start_time": "2023-09-03T11:20:47.031Z"
   },
   {
    "duration": 0,
    "start_time": "2023-09-03T11:20:47.032Z"
   },
   {
    "duration": 0,
    "start_time": "2023-09-03T11:20:47.033Z"
   },
   {
    "duration": 0,
    "start_time": "2023-09-03T11:20:47.034Z"
   },
   {
    "duration": 0,
    "start_time": "2023-09-03T11:20:47.036Z"
   },
   {
    "duration": 0,
    "start_time": "2023-09-03T11:20:47.037Z"
   },
   {
    "duration": 0,
    "start_time": "2023-09-03T11:20:47.038Z"
   },
   {
    "duration": 0,
    "start_time": "2023-09-03T11:20:47.039Z"
   },
   {
    "duration": 0,
    "start_time": "2023-09-03T11:20:47.041Z"
   },
   {
    "duration": 0,
    "start_time": "2023-09-03T11:20:47.042Z"
   },
   {
    "duration": 0,
    "start_time": "2023-09-03T11:20:47.043Z"
   },
   {
    "duration": 0,
    "start_time": "2023-09-03T11:20:47.044Z"
   },
   {
    "duration": 122,
    "start_time": "2023-09-03T11:21:32.943Z"
   },
   {
    "duration": 0,
    "start_time": "2023-09-03T11:21:33.067Z"
   },
   {
    "duration": 0,
    "start_time": "2023-09-03T11:21:33.069Z"
   },
   {
    "duration": 0,
    "start_time": "2023-09-03T11:21:33.070Z"
   },
   {
    "duration": 0,
    "start_time": "2023-09-03T11:21:33.072Z"
   },
   {
    "duration": 0,
    "start_time": "2023-09-03T11:21:33.074Z"
   },
   {
    "duration": 0,
    "start_time": "2023-09-03T11:21:33.076Z"
   },
   {
    "duration": 0,
    "start_time": "2023-09-03T11:21:33.077Z"
   },
   {
    "duration": 0,
    "start_time": "2023-09-03T11:21:33.079Z"
   },
   {
    "duration": 0,
    "start_time": "2023-09-03T11:21:33.080Z"
   },
   {
    "duration": 0,
    "start_time": "2023-09-03T11:21:33.082Z"
   },
   {
    "duration": 0,
    "start_time": "2023-09-03T11:21:33.083Z"
   },
   {
    "duration": 0,
    "start_time": "2023-09-03T11:21:33.085Z"
   },
   {
    "duration": 0,
    "start_time": "2023-09-03T11:21:33.086Z"
   },
   {
    "duration": 0,
    "start_time": "2023-09-03T11:21:33.088Z"
   },
   {
    "duration": 0,
    "start_time": "2023-09-03T11:21:33.089Z"
   },
   {
    "duration": 6,
    "start_time": "2023-09-03T11:21:33.091Z"
   },
   {
    "duration": 92,
    "start_time": "2023-09-03T11:21:33.099Z"
   },
   {
    "duration": 0,
    "start_time": "2023-09-03T11:21:33.193Z"
   },
   {
    "duration": 0,
    "start_time": "2023-09-03T11:21:33.202Z"
   },
   {
    "duration": 0,
    "start_time": "2023-09-03T11:21:33.203Z"
   },
   {
    "duration": 4796,
    "start_time": "2023-09-03T11:22:39.683Z"
   },
   {
    "duration": 0,
    "start_time": "2023-09-03T11:22:44.670Z"
   },
   {
    "duration": 0,
    "start_time": "2023-09-03T11:22:44.673Z"
   },
   {
    "duration": 0,
    "start_time": "2023-09-03T11:22:44.674Z"
   },
   {
    "duration": 0,
    "start_time": "2023-09-03T11:22:44.676Z"
   },
   {
    "duration": 0,
    "start_time": "2023-09-03T11:22:44.678Z"
   },
   {
    "duration": 0,
    "start_time": "2023-09-03T11:22:44.679Z"
   },
   {
    "duration": 0,
    "start_time": "2023-09-03T11:22:44.681Z"
   },
   {
    "duration": 0,
    "start_time": "2023-09-03T11:22:44.704Z"
   },
   {
    "duration": 0,
    "start_time": "2023-09-03T11:22:44.706Z"
   },
   {
    "duration": 0,
    "start_time": "2023-09-03T11:22:44.708Z"
   },
   {
    "duration": 0,
    "start_time": "2023-09-03T11:22:44.711Z"
   },
   {
    "duration": 0,
    "start_time": "2023-09-03T11:22:44.713Z"
   },
   {
    "duration": 0,
    "start_time": "2023-09-03T11:22:44.715Z"
   },
   {
    "duration": 0,
    "start_time": "2023-09-03T11:22:44.717Z"
   },
   {
    "duration": 0,
    "start_time": "2023-09-03T11:22:44.721Z"
   },
   {
    "duration": 0,
    "start_time": "2023-09-03T11:22:44.722Z"
   },
   {
    "duration": 0,
    "start_time": "2023-09-03T11:22:44.732Z"
   },
   {
    "duration": 0,
    "start_time": "2023-09-03T11:22:44.739Z"
   },
   {
    "duration": 0,
    "start_time": "2023-09-03T11:22:44.741Z"
   },
   {
    "duration": 0,
    "start_time": "2023-09-03T11:22:44.743Z"
   },
   {
    "duration": 5157,
    "start_time": "2023-09-03T11:24:04.939Z"
   },
   {
    "duration": 17,
    "start_time": "2023-09-03T11:24:10.099Z"
   },
   {
    "duration": 1026,
    "start_time": "2023-09-03T11:24:10.118Z"
   },
   {
    "duration": 74,
    "start_time": "2023-09-03T11:24:11.147Z"
   },
   {
    "duration": 7,
    "start_time": "2023-09-03T11:24:11.225Z"
   },
   {
    "duration": 162,
    "start_time": "2023-09-03T11:24:11.234Z"
   },
   {
    "duration": 12,
    "start_time": "2023-09-03T11:24:11.399Z"
   },
   {
    "duration": 6,
    "start_time": "2023-09-03T11:24:11.414Z"
   },
   {
    "duration": 222646,
    "start_time": "2023-09-03T11:24:11.424Z"
   },
   {
    "duration": 8545,
    "start_time": "2023-09-03T11:27:54.073Z"
   },
   {
    "duration": 196,
    "start_time": "2023-09-03T11:28:02.620Z"
   },
   {
    "duration": 46,
    "start_time": "2023-09-03T11:28:02.818Z"
   },
   {
    "duration": 5,
    "start_time": "2023-09-03T11:28:02.866Z"
   },
   {
    "duration": 45,
    "start_time": "2023-09-03T11:28:02.875Z"
   },
   {
    "duration": 75,
    "start_time": "2023-09-03T11:28:02.921Z"
   },
   {
    "duration": 43,
    "start_time": "2023-09-03T11:28:02.998Z"
   },
   {
    "duration": 14,
    "start_time": "2023-09-03T11:28:03.043Z"
   },
   {
    "duration": 416,
    "start_time": "2023-09-03T11:28:03.059Z"
   },
   {
    "duration": 0,
    "start_time": "2023-09-03T11:28:03.477Z"
   },
   {
    "duration": 0,
    "start_time": "2023-09-03T11:28:03.479Z"
   },
   {
    "duration": 0,
    "start_time": "2023-09-03T11:28:03.480Z"
   },
   {
    "duration": 5,
    "start_time": "2023-09-03T11:52:47.431Z"
   },
   {
    "duration": 6,
    "start_time": "2023-09-03T11:52:48.031Z"
   },
   {
    "duration": 5,
    "start_time": "2023-09-03T11:52:48.453Z"
   },
   {
    "duration": 5,
    "start_time": "2023-09-03T11:52:49.027Z"
   },
   {
    "duration": 3,
    "start_time": "2023-09-03T11:52:50.140Z"
   },
   {
    "duration": 47,
    "start_time": "2023-09-03T11:52:50.833Z"
   },
   {
    "duration": 6,
    "start_time": "2023-09-03T11:58:13.267Z"
   },
   {
    "duration": 6,
    "start_time": "2023-09-03T11:58:13.516Z"
   },
   {
    "duration": 5,
    "start_time": "2023-09-03T11:58:14.069Z"
   },
   {
    "duration": 4,
    "start_time": "2023-09-03T11:58:14.720Z"
   },
   {
    "duration": 3,
    "start_time": "2023-09-03T11:58:15.547Z"
   },
   {
    "duration": 52,
    "start_time": "2023-09-03T11:58:16.248Z"
   },
   {
    "duration": 9,
    "start_time": "2023-09-03T11:58:47.581Z"
   },
   {
    "duration": 7,
    "start_time": "2023-09-03T11:58:57.276Z"
   },
   {
    "duration": 4,
    "start_time": "2023-09-03T11:58:57.461Z"
   },
   {
    "duration": 5,
    "start_time": "2023-09-03T11:58:57.618Z"
   },
   {
    "duration": 4,
    "start_time": "2023-09-03T11:58:57.822Z"
   },
   {
    "duration": 3,
    "start_time": "2023-09-03T11:58:58.528Z"
   },
   {
    "duration": 49,
    "start_time": "2023-09-03T11:58:58.860Z"
   },
   {
    "duration": 16,
    "start_time": "2023-09-03T11:59:51.996Z"
   },
   {
    "duration": 7,
    "start_time": "2023-09-03T11:59:58.968Z"
   },
   {
    "duration": 5,
    "start_time": "2023-09-03T11:59:59.094Z"
   },
   {
    "duration": 5,
    "start_time": "2023-09-03T11:59:59.246Z"
   },
   {
    "duration": 5,
    "start_time": "2023-09-03T11:59:59.381Z"
   },
   {
    "duration": 3,
    "start_time": "2023-09-03T11:59:59.686Z"
   },
   {
    "duration": 53,
    "start_time": "2023-09-03T11:59:59.768Z"
   },
   {
    "duration": 44,
    "start_time": "2023-09-03T11:59:59.930Z"
   },
   {
    "duration": 14,
    "start_time": "2023-09-03T12:00:54.623Z"
   },
   {
    "duration": 6,
    "start_time": "2023-09-03T12:01:01.735Z"
   },
   {
    "duration": 7,
    "start_time": "2023-09-03T12:01:02.137Z"
   },
   {
    "duration": 6,
    "start_time": "2023-09-03T12:01:02.330Z"
   },
   {
    "duration": 6,
    "start_time": "2023-09-03T12:01:02.501Z"
   },
   {
    "duration": 3,
    "start_time": "2023-09-03T12:01:03.327Z"
   },
   {
    "duration": 115,
    "start_time": "2023-09-03T12:01:03.852Z"
   },
   {
    "duration": 31,
    "start_time": "2023-09-03T12:06:25.651Z"
   },
   {
    "duration": 5440,
    "start_time": "2023-09-03T13:35:26.874Z"
   },
   {
    "duration": 6,
    "start_time": "2023-09-03T13:35:32.316Z"
   },
   {
    "duration": 2708,
    "start_time": "2023-09-03T13:35:32.324Z"
   },
   {
    "duration": 48,
    "start_time": "2023-09-03T13:35:35.035Z"
   },
   {
    "duration": 4,
    "start_time": "2023-09-03T13:35:35.085Z"
   },
   {
    "duration": 36,
    "start_time": "2023-09-03T13:35:35.091Z"
   },
   {
    "duration": 4,
    "start_time": "2023-09-03T13:35:35.129Z"
   },
   {
    "duration": 7,
    "start_time": "2023-09-03T13:35:35.134Z"
   },
   {
    "duration": 219424,
    "start_time": "2023-09-03T13:35:35.142Z"
   },
   {
    "duration": 8973,
    "start_time": "2023-09-03T13:39:14.570Z"
   },
   {
    "duration": 190,
    "start_time": "2023-09-03T13:39:23.551Z"
   },
   {
    "duration": 46,
    "start_time": "2023-09-03T13:39:23.748Z"
   },
   {
    "duration": 6,
    "start_time": "2023-09-03T13:39:23.796Z"
   },
   {
    "duration": 54,
    "start_time": "2023-09-03T13:39:23.805Z"
   },
   {
    "duration": 7,
    "start_time": "2023-09-03T13:39:23.861Z"
   },
   {
    "duration": 12,
    "start_time": "2023-09-03T13:39:23.870Z"
   },
   {
    "duration": 9,
    "start_time": "2023-09-03T13:39:23.884Z"
   },
   {
    "duration": 485,
    "start_time": "2023-09-03T13:39:23.895Z"
   },
   {
    "duration": 0,
    "start_time": "2023-09-03T13:39:24.382Z"
   },
   {
    "duration": 0,
    "start_time": "2023-09-03T13:39:24.384Z"
   },
   {
    "duration": 0,
    "start_time": "2023-09-03T13:39:24.386Z"
   },
   {
    "duration": 4895,
    "start_time": "2023-09-03T13:47:55.043Z"
   },
   {
    "duration": 6,
    "start_time": "2023-09-03T13:47:59.940Z"
   },
   {
    "duration": 1084,
    "start_time": "2023-09-03T13:47:59.953Z"
   },
   {
    "duration": 46,
    "start_time": "2023-09-03T13:48:01.040Z"
   },
   {
    "duration": 698,
    "start_time": "2023-09-03T13:48:01.088Z"
   },
   {
    "duration": 239,
    "start_time": "2023-09-03T13:48:01.788Z"
   },
   {
    "duration": 56,
    "start_time": "2023-09-03T13:48:02.029Z"
   },
   {
    "duration": 69,
    "start_time": "2023-09-03T13:48:02.087Z"
   },
   {
    "duration": 216197,
    "start_time": "2023-09-03T13:48:02.158Z"
   },
   {
    "duration": 9093,
    "start_time": "2023-09-03T13:51:38.366Z"
   },
   {
    "duration": 165,
    "start_time": "2023-09-03T13:51:47.461Z"
   },
   {
    "duration": 54,
    "start_time": "2023-09-03T13:51:47.628Z"
   },
   {
    "duration": 6,
    "start_time": "2023-09-03T13:51:47.684Z"
   },
   {
    "duration": 7,
    "start_time": "2023-09-03T13:51:47.692Z"
   },
   {
    "duration": 11,
    "start_time": "2023-09-03T13:51:47.701Z"
   },
   {
    "duration": 6,
    "start_time": "2023-09-03T13:51:47.714Z"
   },
   {
    "duration": 4,
    "start_time": "2023-09-03T13:51:47.721Z"
   },
   {
    "duration": 535,
    "start_time": "2023-09-03T13:51:47.727Z"
   },
   {
    "duration": 0,
    "start_time": "2023-09-03T13:51:48.264Z"
   },
   {
    "duration": 0,
    "start_time": "2023-09-03T13:51:48.265Z"
   },
   {
    "duration": 0,
    "start_time": "2023-09-03T13:51:48.267Z"
   },
   {
    "duration": 5954,
    "start_time": "2023-09-03T20:33:46.227Z"
   },
   {
    "duration": 6,
    "start_time": "2023-09-03T20:33:52.183Z"
   },
   {
    "duration": 2431,
    "start_time": "2023-09-03T20:33:52.191Z"
   },
   {
    "duration": 45,
    "start_time": "2023-09-03T20:33:54.624Z"
   },
   {
    "duration": 6,
    "start_time": "2023-09-03T20:33:54.672Z"
   },
   {
    "duration": 5,
    "start_time": "2023-09-03T20:33:54.680Z"
   },
   {
    "duration": 25,
    "start_time": "2023-09-03T20:33:54.687Z"
   },
   {
    "duration": 7,
    "start_time": "2023-09-03T20:33:54.714Z"
   },
   {
    "duration": 200813,
    "start_time": "2023-09-03T20:33:54.723Z"
   },
   {
    "duration": 7929,
    "start_time": "2023-09-03T20:37:15.538Z"
   },
   {
    "duration": 174,
    "start_time": "2023-09-03T20:37:23.468Z"
   },
   {
    "duration": 39,
    "start_time": "2023-09-03T20:37:23.644Z"
   },
   {
    "duration": 103,
    "start_time": "2023-09-03T20:37:23.685Z"
   },
   {
    "duration": 0,
    "start_time": "2023-09-03T20:37:23.791Z"
   },
   {
    "duration": 0,
    "start_time": "2023-09-03T20:37:23.792Z"
   },
   {
    "duration": 0,
    "start_time": "2023-09-03T20:37:23.794Z"
   },
   {
    "duration": 0,
    "start_time": "2023-09-03T20:37:23.795Z"
   },
   {
    "duration": 0,
    "start_time": "2023-09-03T20:37:23.797Z"
   },
   {
    "duration": 0,
    "start_time": "2023-09-03T20:37:23.798Z"
   },
   {
    "duration": 0,
    "start_time": "2023-09-03T20:37:23.799Z"
   },
   {
    "duration": 0,
    "start_time": "2023-09-03T20:37:23.801Z"
   },
   {
    "duration": 6,
    "start_time": "2023-09-03T20:47:52.973Z"
   },
   {
    "duration": 5,
    "start_time": "2023-09-03T20:47:55.520Z"
   },
   {
    "duration": 4,
    "start_time": "2023-09-03T20:47:57.511Z"
   },
   {
    "duration": 4,
    "start_time": "2023-09-03T20:47:59.728Z"
   },
   {
    "duration": 3,
    "start_time": "2023-09-03T20:48:01.531Z"
   },
   {
    "duration": 522,
    "start_time": "2023-09-03T20:48:02.130Z"
   },
   {
    "duration": 4,
    "start_time": "2023-09-03T20:50:38.038Z"
   },
   {
    "duration": 6,
    "start_time": "2023-09-03T20:50:46.482Z"
   },
   {
    "duration": 4,
    "start_time": "2023-09-03T20:50:47.208Z"
   },
   {
    "duration": 4,
    "start_time": "2023-09-03T20:50:48.011Z"
   },
   {
    "duration": 4,
    "start_time": "2023-09-03T20:50:48.699Z"
   },
   {
    "duration": 3,
    "start_time": "2023-09-03T20:50:50.215Z"
   },
   {
    "duration": 92,
    "start_time": "2023-09-03T20:50:51.527Z"
   },
   {
    "duration": 94,
    "start_time": "2023-09-03T20:53:59.469Z"
   },
   {
    "duration": 88,
    "start_time": "2023-09-05T09:11:46.499Z"
   },
   {
    "duration": 8,
    "start_time": "2023-09-05T11:48:51.471Z"
   },
   {
    "duration": 6,
    "start_time": "2023-09-05T11:49:00.303Z"
   },
   {
    "duration": 5,
    "start_time": "2023-09-05T11:49:02.566Z"
   },
   {
    "duration": 4,
    "start_time": "2023-09-05T11:49:05.100Z"
   },
   {
    "duration": 3,
    "start_time": "2023-09-05T11:49:06.167Z"
   },
   {
    "duration": 37,
    "start_time": "2023-09-05T11:49:07.601Z"
   },
   {
    "duration": 9,
    "start_time": "2023-09-05T11:51:28.206Z"
   },
   {
    "duration": 5,
    "start_time": "2023-09-05T11:51:28.816Z"
   },
   {
    "duration": 5,
    "start_time": "2023-09-05T11:51:29.213Z"
   },
   {
    "duration": 4,
    "start_time": "2023-09-05T11:51:29.401Z"
   },
   {
    "duration": 3,
    "start_time": "2023-09-05T11:51:29.964Z"
   },
   {
    "duration": 90,
    "start_time": "2023-09-05T11:51:30.145Z"
   },
   {
    "duration": 108,
    "start_time": "2023-09-05T11:51:30.299Z"
   },
   {
    "duration": 21,
    "start_time": "2023-09-05T11:51:30.665Z"
   },
   {
    "duration": 5,
    "start_time": "2023-09-05T11:53:35.536Z"
   },
   {
    "duration": 4,
    "start_time": "2023-09-05T11:53:38.412Z"
   },
   {
    "duration": 4,
    "start_time": "2023-09-05T11:53:38.618Z"
   },
   {
    "duration": 4,
    "start_time": "2023-09-05T11:53:38.850Z"
   },
   {
    "duration": 2,
    "start_time": "2023-09-05T11:53:39.371Z"
   },
   {
    "duration": 80,
    "start_time": "2023-09-05T11:53:39.542Z"
   },
   {
    "duration": 93,
    "start_time": "2023-09-05T11:53:39.790Z"
   },
   {
    "duration": 4598,
    "start_time": "2023-09-05T12:01:36.149Z"
   },
   {
    "duration": 6,
    "start_time": "2023-09-05T12:01:40.749Z"
   },
   {
    "duration": 1011,
    "start_time": "2023-09-05T12:01:40.757Z"
   },
   {
    "duration": 42,
    "start_time": "2023-09-05T12:01:41.769Z"
   },
   {
    "duration": 5,
    "start_time": "2023-09-05T12:01:41.814Z"
   },
   {
    "duration": 4,
    "start_time": "2023-09-05T12:01:41.820Z"
   },
   {
    "duration": 4,
    "start_time": "2023-09-05T12:01:41.847Z"
   },
   {
    "duration": 6,
    "start_time": "2023-09-05T12:01:41.853Z"
   },
   {
    "duration": 210681,
    "start_time": "2023-09-05T12:01:41.860Z"
   },
   {
    "duration": 8646,
    "start_time": "2023-09-05T12:05:12.546Z"
   },
   {
    "duration": 169,
    "start_time": "2023-09-05T12:05:21.193Z"
   },
   {
    "duration": 41,
    "start_time": "2023-09-05T12:05:21.365Z"
   },
   {
    "duration": 10,
    "start_time": "2023-09-05T12:05:21.408Z"
   },
   {
    "duration": 15,
    "start_time": "2023-09-05T12:05:21.420Z"
   },
   {
    "duration": 13,
    "start_time": "2023-09-05T12:05:21.447Z"
   },
   {
    "duration": 12,
    "start_time": "2023-09-05T12:05:21.461Z"
   },
   {
    "duration": 8,
    "start_time": "2023-09-05T12:05:21.475Z"
   },
   {
    "duration": 424,
    "start_time": "2023-09-05T12:05:21.484Z"
   },
   {
    "duration": 0,
    "start_time": "2023-09-05T12:05:21.910Z"
   },
   {
    "duration": 0,
    "start_time": "2023-09-05T12:05:21.911Z"
   },
   {
    "duration": 0,
    "start_time": "2023-09-05T12:05:21.912Z"
   },
   {
    "duration": 6,
    "start_time": "2023-09-05T13:47:09.997Z"
   },
   {
    "duration": 4,
    "start_time": "2023-09-05T13:47:11.054Z"
   },
   {
    "duration": 5,
    "start_time": "2023-09-05T13:47:12.057Z"
   },
   {
    "duration": 4,
    "start_time": "2023-09-05T13:47:12.876Z"
   },
   {
    "duration": 3,
    "start_time": "2023-09-05T13:47:14.123Z"
   },
   {
    "duration": 103,
    "start_time": "2023-09-05T13:47:15.493Z"
   },
   {
    "duration": 4502,
    "start_time": "2023-09-05T13:51:05.941Z"
   },
   {
    "duration": 5,
    "start_time": "2023-09-05T13:51:10.445Z"
   },
   {
    "duration": 1050,
    "start_time": "2023-09-05T13:51:10.452Z"
   },
   {
    "duration": 50,
    "start_time": "2023-09-05T13:51:11.504Z"
   },
   {
    "duration": 6,
    "start_time": "2023-09-05T13:51:11.556Z"
   },
   {
    "duration": 20,
    "start_time": "2023-09-05T13:51:11.563Z"
   },
   {
    "duration": 9,
    "start_time": "2023-09-05T13:51:11.585Z"
   },
   {
    "duration": 13,
    "start_time": "2023-09-05T13:51:11.596Z"
   },
   {
    "duration": 211108,
    "start_time": "2023-09-05T13:51:11.611Z"
   },
   {
    "duration": 8662,
    "start_time": "2023-09-05T13:54:42.722Z"
   },
   {
    "duration": 27,
    "start_time": "2023-09-05T13:54:51.393Z"
   },
   {
    "duration": 16,
    "start_time": "2023-09-05T14:18:49.134Z"
   },
   {
    "duration": 0,
    "start_time": "2023-09-05T14:21:14.768Z"
   },
   {
    "duration": 21,
    "start_time": "2023-09-05T14:21:20.510Z"
   },
   {
    "duration": 220211,
    "start_time": "2023-09-05T14:21:25.948Z"
   },
   {
    "duration": 7138,
    "start_time": "2023-09-05T14:25:06.161Z"
   },
   {
    "duration": 18,
    "start_time": "2023-09-05T14:25:13.301Z"
   },
   {
    "duration": 2024,
    "start_time": "2023-09-05T14:25:13.321Z"
   },
   {
    "duration": 0,
    "start_time": "2023-09-05T14:25:15.347Z"
   },
   {
    "duration": 0,
    "start_time": "2023-09-05T14:25:15.348Z"
   },
   {
    "duration": 31,
    "start_time": "2023-09-05T14:26:11.448Z"
   },
   {
    "duration": 5,
    "start_time": "2023-09-05T14:26:14.435Z"
   },
   {
    "duration": 5,
    "start_time": "2023-09-05T14:26:18.722Z"
   },
   {
    "duration": 5,
    "start_time": "2023-09-05T14:26:20.431Z"
   },
   {
    "duration": 4,
    "start_time": "2023-09-05T14:26:21.532Z"
   },
   {
    "duration": 4,
    "start_time": "2023-09-05T14:26:22.307Z"
   },
   {
    "duration": 3,
    "start_time": "2023-09-05T14:26:24.180Z"
   },
   {
    "duration": 97,
    "start_time": "2023-09-05T14:26:25.480Z"
   },
   {
    "duration": 20,
    "start_time": "2023-09-05T14:28:32.851Z"
   },
   {
    "duration": 5,
    "start_time": "2023-09-05T14:30:12.537Z"
   },
   {
    "duration": 25,
    "start_time": "2023-09-05T14:30:12.544Z"
   },
   {
    "duration": 4,
    "start_time": "2023-09-05T14:30:13.239Z"
   },
   {
    "duration": 4,
    "start_time": "2023-09-05T14:30:13.980Z"
   },
   {
    "duration": 3,
    "start_time": "2023-09-05T14:30:15.787Z"
   },
   {
    "duration": 89,
    "start_time": "2023-09-05T14:30:17.253Z"
   },
   {
    "duration": 22,
    "start_time": "2023-09-05T14:40:36.575Z"
   },
   {
    "duration": 16,
    "start_time": "2023-09-05T14:41:57.801Z"
   },
   {
    "duration": 12,
    "start_time": "2023-09-05T14:42:12.383Z"
   },
   {
    "duration": 13,
    "start_time": "2023-09-05T14:42:36.560Z"
   },
   {
    "duration": 12,
    "start_time": "2023-09-05T14:43:08.501Z"
   },
   {
    "duration": 8,
    "start_time": "2023-09-05T14:44:21.923Z"
   },
   {
    "duration": 5,
    "start_time": "2023-09-05T14:44:26.210Z"
   },
   {
    "duration": 4,
    "start_time": "2023-09-05T14:44:26.881Z"
   },
   {
    "duration": 4,
    "start_time": "2023-09-05T14:44:27.300Z"
   },
   {
    "duration": 4,
    "start_time": "2023-09-05T14:44:29.059Z"
   },
   {
    "duration": 83,
    "start_time": "2023-09-05T14:44:30.201Z"
   },
   {
    "duration": 8,
    "start_time": "2023-09-05T14:46:28.628Z"
   },
   {
    "duration": 6,
    "start_time": "2023-09-05T14:46:29.293Z"
   },
   {
    "duration": 5,
    "start_time": "2023-09-05T14:46:29.787Z"
   },
   {
    "duration": 4,
    "start_time": "2023-09-05T14:46:30.162Z"
   },
   {
    "duration": 3,
    "start_time": "2023-09-05T14:46:30.790Z"
   },
   {
    "duration": 109,
    "start_time": "2023-09-05T14:46:31.147Z"
   },
   {
    "duration": 5047,
    "start_time": "2023-09-05T19:14:47.381Z"
   },
   {
    "duration": 6,
    "start_time": "2023-09-05T19:14:52.430Z"
   },
   {
    "duration": 1172,
    "start_time": "2023-09-05T19:14:52.437Z"
   },
   {
    "duration": 54,
    "start_time": "2023-09-05T19:14:53.611Z"
   },
   {
    "duration": 8,
    "start_time": "2023-09-05T19:14:53.669Z"
   },
   {
    "duration": 8,
    "start_time": "2023-09-05T19:14:53.679Z"
   },
   {
    "duration": 7,
    "start_time": "2023-09-05T19:14:53.689Z"
   },
   {
    "duration": 15,
    "start_time": "2023-09-05T19:14:53.698Z"
   },
   {
    "duration": 240311,
    "start_time": "2023-09-05T19:14:53.715Z"
   },
   {
    "duration": 10196,
    "start_time": "2023-09-05T19:18:54.029Z"
   },
   {
    "duration": 49,
    "start_time": "2023-09-05T19:19:04.227Z"
   },
   {
    "duration": 136,
    "start_time": "2023-09-05T19:19:04.281Z"
   },
   {
    "duration": 52,
    "start_time": "2023-09-05T19:19:04.419Z"
   },
   {
    "duration": 15,
    "start_time": "2023-09-05T19:19:04.475Z"
   },
   {
    "duration": 13,
    "start_time": "2023-09-05T19:19:04.492Z"
   },
   {
    "duration": 45,
    "start_time": "2023-09-05T19:19:04.506Z"
   },
   {
    "duration": 54,
    "start_time": "2023-09-05T19:19:04.553Z"
   },
   {
    "duration": 56,
    "start_time": "2023-09-05T19:19:04.608Z"
   },
   {
    "duration": 61,
    "start_time": "2023-09-05T19:19:04.669Z"
   },
   {
    "duration": 589,
    "start_time": "2023-09-05T19:19:04.731Z"
   },
   {
    "duration": 0,
    "start_time": "2023-09-05T19:19:05.323Z"
   },
   {
    "duration": 0,
    "start_time": "2023-09-05T19:19:05.325Z"
   },
   {
    "duration": 0,
    "start_time": "2023-09-05T19:19:05.326Z"
   },
   {
    "duration": 23,
    "start_time": "2023-09-05T19:34:18.867Z"
   },
   {
    "duration": 5106,
    "start_time": "2023-09-05T19:34:56.424Z"
   },
   {
    "duration": 5,
    "start_time": "2023-09-05T19:35:01.533Z"
   },
   {
    "duration": 1181,
    "start_time": "2023-09-05T19:35:01.540Z"
   },
   {
    "duration": 53,
    "start_time": "2023-09-05T19:35:02.723Z"
   },
   {
    "duration": 5,
    "start_time": "2023-09-05T19:35:02.781Z"
   },
   {
    "duration": 18,
    "start_time": "2023-09-05T19:35:02.787Z"
   },
   {
    "duration": 16,
    "start_time": "2023-09-05T19:35:02.807Z"
   },
   {
    "duration": 45,
    "start_time": "2023-09-05T19:35:02.824Z"
   },
   {
    "duration": 245773,
    "start_time": "2023-09-05T19:35:02.871Z"
   },
   {
    "duration": 10472,
    "start_time": "2023-09-05T19:39:08.647Z"
   },
   {
    "duration": 45,
    "start_time": "2023-09-05T19:39:19.121Z"
   },
   {
    "duration": 146,
    "start_time": "2023-09-05T19:39:19.168Z"
   },
   {
    "duration": 61,
    "start_time": "2023-09-05T19:39:19.316Z"
   },
   {
    "duration": 16,
    "start_time": "2023-09-05T19:39:19.380Z"
   },
   {
    "duration": 9,
    "start_time": "2023-09-05T19:39:19.398Z"
   },
   {
    "duration": 14,
    "start_time": "2023-09-05T19:39:19.409Z"
   },
   {
    "duration": 28,
    "start_time": "2023-09-05T19:39:19.424Z"
   },
   {
    "duration": 27,
    "start_time": "2023-09-05T19:39:19.456Z"
   },
   {
    "duration": 24,
    "start_time": "2023-09-05T19:39:19.485Z"
   },
   {
    "duration": 1586,
    "start_time": "2023-09-05T19:39:19.511Z"
   },
   {
    "duration": 0,
    "start_time": "2023-09-05T19:39:21.099Z"
   },
   {
    "duration": 0,
    "start_time": "2023-09-05T19:39:21.100Z"
   },
   {
    "duration": 0,
    "start_time": "2023-09-05T19:39:21.101Z"
   },
   {
    "duration": 7,
    "start_time": "2023-09-05T19:42:14.973Z"
   },
   {
    "duration": 5,
    "start_time": "2023-09-05T19:42:15.978Z"
   },
   {
    "duration": 9,
    "start_time": "2023-09-05T19:42:16.565Z"
   },
   {
    "duration": 8,
    "start_time": "2023-09-05T19:42:16.741Z"
   },
   {
    "duration": 3,
    "start_time": "2023-09-05T19:42:17.181Z"
   },
   {
    "duration": 1212,
    "start_time": "2023-09-05T19:42:17.322Z"
   },
   {
    "duration": 1211,
    "start_time": "2023-09-05T19:42:19.341Z"
   },
   {
    "duration": 8,
    "start_time": "2023-09-05T19:43:09.768Z"
   },
   {
    "duration": 6,
    "start_time": "2023-09-05T19:43:52.330Z"
   },
   {
    "duration": 5,
    "start_time": "2023-09-05T19:43:52.983Z"
   },
   {
    "duration": 5,
    "start_time": "2023-09-05T19:43:53.440Z"
   },
   {
    "duration": 7,
    "start_time": "2023-09-05T19:43:53.663Z"
   },
   {
    "duration": 4,
    "start_time": "2023-09-05T19:43:54.040Z"
   },
   {
    "duration": 51,
    "start_time": "2023-09-05T19:43:57.990Z"
   },
   {
    "duration": 13,
    "start_time": "2023-09-05T19:51:51.109Z"
   },
   {
    "duration": 5,
    "start_time": "2023-09-05T19:51:51.708Z"
   },
   {
    "duration": 4,
    "start_time": "2023-09-05T19:51:52.240Z"
   },
   {
    "duration": 5,
    "start_time": "2023-09-05T19:51:52.709Z"
   },
   {
    "duration": 4,
    "start_time": "2023-09-05T19:51:53.315Z"
   },
   {
    "duration": 3,
    "start_time": "2023-09-05T19:51:55.120Z"
   },
   {
    "duration": 47,
    "start_time": "2023-09-05T19:51:56.793Z"
   },
   {
    "duration": 58,
    "start_time": "2023-09-05T19:52:02.700Z"
   },
   {
    "duration": 114,
    "start_time": "2023-09-05T19:52:46.471Z"
   },
   {
    "duration": 37,
    "start_time": "2023-09-05T19:52:46.823Z"
   },
   {
    "duration": 6,
    "start_time": "2023-09-05T19:52:47.168Z"
   },
   {
    "duration": 18,
    "start_time": "2023-09-05T19:52:47.864Z"
   },
   {
    "duration": 11,
    "start_time": "2023-09-05T19:52:48.065Z"
   },
   {
    "duration": 4,
    "start_time": "2023-09-05T19:52:48.234Z"
   },
   {
    "duration": 4,
    "start_time": "2023-09-05T19:52:48.433Z"
   },
   {
    "duration": 4,
    "start_time": "2023-09-05T19:52:48.615Z"
   },
   {
    "duration": 3,
    "start_time": "2023-09-05T19:52:49.003Z"
   },
   {
    "duration": 106,
    "start_time": "2023-09-05T19:52:49.233Z"
   },
   {
    "duration": 111,
    "start_time": "2023-09-05T19:52:49.407Z"
   },
   {
    "duration": 32,
    "start_time": "2023-09-05T19:52:49.833Z"
   },
   {
    "duration": 12,
    "start_time": "2023-09-05T20:58:42.786Z"
   },
   {
    "duration": 3,
    "start_time": "2023-09-05T20:58:42.985Z"
   },
   {
    "duration": 1116,
    "start_time": "2023-09-05T20:58:43.405Z"
   },
   {
    "duration": 43,
    "start_time": "2023-09-05T20:58:44.523Z"
   },
   {
    "duration": 10,
    "start_time": "2023-09-05T20:58:44.568Z"
   },
   {
    "duration": 18,
    "start_time": "2023-09-05T20:58:44.581Z"
   },
   {
    "duration": 22,
    "start_time": "2023-09-05T20:58:44.601Z"
   },
   {
    "duration": 6,
    "start_time": "2023-09-05T20:58:44.668Z"
   },
   {
    "duration": 70,
    "start_time": "2023-09-05T21:00:22.112Z"
   },
   {
    "duration": 0,
    "start_time": "2023-09-05T21:00:22.185Z"
   },
   {
    "duration": 0,
    "start_time": "2023-09-05T21:00:22.188Z"
   },
   {
    "duration": 0,
    "start_time": "2023-09-05T21:00:22.189Z"
   },
   {
    "duration": 0,
    "start_time": "2023-09-05T21:00:22.190Z"
   },
   {
    "duration": 0,
    "start_time": "2023-09-05T21:00:22.191Z"
   },
   {
    "duration": 0,
    "start_time": "2023-09-05T21:00:22.193Z"
   },
   {
    "duration": 0,
    "start_time": "2023-09-05T21:00:22.194Z"
   },
   {
    "duration": 0,
    "start_time": "2023-09-05T21:00:22.196Z"
   },
   {
    "duration": 5099,
    "start_time": "2023-09-05T21:00:46.278Z"
   },
   {
    "duration": 5,
    "start_time": "2023-09-05T21:00:51.379Z"
   },
   {
    "duration": 1141,
    "start_time": "2023-09-05T21:00:53.037Z"
   },
   {
    "duration": 43,
    "start_time": "2023-09-05T21:00:54.180Z"
   },
   {
    "duration": 36,
    "start_time": "2023-09-05T21:00:54.225Z"
   },
   {
    "duration": 5,
    "start_time": "2023-09-05T21:00:54.270Z"
   },
   {
    "duration": 19,
    "start_time": "2023-09-05T21:00:54.276Z"
   },
   {
    "duration": 4,
    "start_time": "2023-09-05T21:00:54.410Z"
   },
   {
    "duration": 242573,
    "start_time": "2023-09-05T21:00:54.777Z"
   },
   {
    "duration": 10217,
    "start_time": "2023-09-05T21:04:57.356Z"
   },
   {
    "duration": 37,
    "start_time": "2023-09-05T21:05:07.577Z"
   },
   {
    "duration": 162,
    "start_time": "2023-09-05T21:05:07.616Z"
   },
   {
    "duration": 32,
    "start_time": "2023-09-05T21:05:07.779Z"
   },
   {
    "duration": 5,
    "start_time": "2023-09-05T21:05:07.813Z"
   },
   {
    "duration": 6,
    "start_time": "2023-09-05T21:11:25.694Z"
   },
   {
    "duration": 8,
    "start_time": "2023-09-05T21:11:25.702Z"
   },
   {
    "duration": 18,
    "start_time": "2023-09-05T21:11:25.712Z"
   },
   {
    "duration": 3,
    "start_time": "2023-09-05T21:11:25.936Z"
   },
   {
    "duration": 2,
    "start_time": "2023-09-05T21:11:27.895Z"
   },
   {
    "duration": 457,
    "start_time": "2023-09-05T21:11:28.046Z"
   },
   {
    "duration": 0,
    "start_time": "2023-09-05T21:11:28.506Z"
   },
   {
    "duration": 6,
    "start_time": "2023-09-05T21:12:17.138Z"
   },
   {
    "duration": 8,
    "start_time": "2023-09-05T21:12:17.247Z"
   },
   {
    "duration": 4,
    "start_time": "2023-09-05T21:12:17.419Z"
   },
   {
    "duration": 5,
    "start_time": "2023-09-05T21:12:17.573Z"
   },
   {
    "duration": 3,
    "start_time": "2023-09-05T21:12:18.087Z"
   },
   {
    "duration": 127,
    "start_time": "2023-09-05T21:12:18.380Z"
   },
   {
    "duration": 12,
    "start_time": "2023-09-05T21:12:48.965Z"
   },
   {
    "duration": 4,
    "start_time": "2023-09-05T21:12:49.139Z"
   },
   {
    "duration": 4,
    "start_time": "2023-09-05T21:12:49.295Z"
   },
   {
    "duration": 6,
    "start_time": "2023-09-05T21:12:49.466Z"
   },
   {
    "duration": 3,
    "start_time": "2023-09-05T21:12:49.800Z"
   },
   {
    "duration": 40,
    "start_time": "2023-09-05T21:12:50.173Z"
   },
   {
    "duration": 5,
    "start_time": "2023-09-05T21:13:10.308Z"
   },
   {
    "duration": 5,
    "start_time": "2023-09-05T21:13:10.613Z"
   },
   {
    "duration": 9,
    "start_time": "2023-09-05T21:13:10.620Z"
   },
   {
    "duration": 4,
    "start_time": "2023-09-05T21:13:10.708Z"
   },
   {
    "duration": 3,
    "start_time": "2023-09-05T21:13:11.009Z"
   },
   {
    "duration": 119,
    "start_time": "2023-09-05T21:13:11.463Z"
   },
   {
    "duration": 8,
    "start_time": "2023-09-05T21:15:39.847Z"
   },
   {
    "duration": 4,
    "start_time": "2023-09-05T21:15:40.237Z"
   },
   {
    "duration": 4,
    "start_time": "2023-09-05T21:15:40.417Z"
   },
   {
    "duration": 4,
    "start_time": "2023-09-05T21:15:40.577Z"
   },
   {
    "duration": 2,
    "start_time": "2023-09-05T21:15:40.927Z"
   },
   {
    "duration": 108,
    "start_time": "2023-09-05T21:15:41.387Z"
   },
   {
    "duration": 5,
    "start_time": "2023-09-05T21:45:35.731Z"
   },
   {
    "duration": 5,
    "start_time": "2023-09-05T21:45:35.901Z"
   },
   {
    "duration": 4,
    "start_time": "2023-09-05T21:45:36.509Z"
   },
   {
    "duration": 14,
    "start_time": "2023-09-05T21:45:36.516Z"
   },
   {
    "duration": 3,
    "start_time": "2023-09-05T21:45:36.938Z"
   },
   {
    "duration": 114,
    "start_time": "2023-09-05T21:45:37.473Z"
   },
   {
    "duration": 22,
    "start_time": "2023-09-05T21:47:37.647Z"
   },
   {
    "duration": 4,
    "start_time": "2023-09-05T21:47:37.786Z"
   },
   {
    "duration": 5,
    "start_time": "2023-09-05T21:47:37.973Z"
   },
   {
    "duration": 4,
    "start_time": "2023-09-05T21:47:38.116Z"
   },
   {
    "duration": 6,
    "start_time": "2023-09-05T21:47:38.948Z"
   },
   {
    "duration": 122,
    "start_time": "2023-09-05T21:47:39.298Z"
   },
   {
    "duration": 10,
    "start_time": "2023-09-05T21:48:30.925Z"
   },
   {
    "duration": 229,
    "start_time": "2023-09-05T21:48:30.937Z"
   },
   {
    "duration": 42,
    "start_time": "2023-09-05T21:48:31.170Z"
   },
   {
    "duration": 4,
    "start_time": "2023-09-05T21:48:31.377Z"
   },
   {
    "duration": 3,
    "start_time": "2023-09-05T21:48:31.708Z"
   },
   {
    "duration": 133,
    "start_time": "2023-09-05T21:48:32.267Z"
   },
   {
    "duration": 6,
    "start_time": "2023-09-05T21:49:32.827Z"
   },
   {
    "duration": 42,
    "start_time": "2023-09-05T21:49:32.835Z"
   },
   {
    "duration": 5,
    "start_time": "2023-09-05T21:49:33.077Z"
   },
   {
    "duration": 4,
    "start_time": "2023-09-05T21:49:33.116Z"
   },
   {
    "duration": 3,
    "start_time": "2023-09-05T21:49:33.436Z"
   },
   {
    "duration": 124,
    "start_time": "2023-09-05T21:49:33.996Z"
   },
   {
    "duration": 5363,
    "start_time": "2023-09-06T04:36:45.113Z"
   },
   {
    "duration": 7,
    "start_time": "2023-09-06T04:36:50.480Z"
   },
   {
    "duration": 2788,
    "start_time": "2023-09-06T04:36:50.488Z"
   },
   {
    "duration": 36,
    "start_time": "2023-09-06T04:36:53.278Z"
   },
   {
    "duration": 4,
    "start_time": "2023-09-06T04:36:53.316Z"
   },
   {
    "duration": 12,
    "start_time": "2023-09-06T04:36:53.321Z"
   },
   {
    "duration": 9,
    "start_time": "2023-09-06T04:36:53.334Z"
   },
   {
    "duration": 18,
    "start_time": "2023-09-06T04:36:53.344Z"
   },
   {
    "duration": 193484,
    "start_time": "2023-09-06T04:36:53.363Z"
   },
   {
    "duration": 8680,
    "start_time": "2023-09-06T04:40:06.849Z"
   },
   {
    "duration": 100,
    "start_time": "2023-09-06T04:40:15.530Z"
   },
   {
    "duration": 128,
    "start_time": "2023-09-06T04:40:15.632Z"
   },
   {
    "duration": 40,
    "start_time": "2023-09-06T04:40:15.762Z"
   },
   {
    "duration": 4,
    "start_time": "2023-09-06T04:40:15.805Z"
   },
   {
    "duration": 11,
    "start_time": "2023-09-06T04:40:15.811Z"
   },
   {
    "duration": 4,
    "start_time": "2023-09-06T04:40:15.824Z"
   },
   {
    "duration": 38,
    "start_time": "2023-09-06T04:40:15.830Z"
   },
   {
    "duration": 9,
    "start_time": "2023-09-06T04:40:15.870Z"
   },
   {
    "duration": 22,
    "start_time": "2023-09-06T04:40:15.882Z"
   },
   {
    "duration": 10,
    "start_time": "2023-09-06T04:40:15.906Z"
   },
   {
    "duration": 546,
    "start_time": "2023-09-06T04:40:15.918Z"
   },
   {
    "duration": 0,
    "start_time": "2023-09-06T04:40:16.468Z"
   },
   {
    "duration": 0,
    "start_time": "2023-09-06T04:40:16.469Z"
   },
   {
    "duration": 0,
    "start_time": "2023-09-06T04:40:16.470Z"
   },
   {
    "duration": 41,
    "start_time": "2023-09-06T05:27:37.682Z"
   },
   {
    "duration": 37,
    "start_time": "2023-09-06T05:28:36.077Z"
   },
   {
    "duration": 113,
    "start_time": "2023-09-06T07:42:31.419Z"
   },
   {
    "duration": 195,
    "start_time": "2023-09-06T07:44:26.372Z"
   },
   {
    "duration": 185,
    "start_time": "2023-09-06T07:44:36.540Z"
   },
   {
    "duration": 153,
    "start_time": "2023-09-06T07:47:20.231Z"
   },
   {
    "duration": 139,
    "start_time": "2023-09-06T07:47:47.592Z"
   },
   {
    "duration": 171,
    "start_time": "2023-09-06T07:47:59.730Z"
   },
   {
    "duration": 9,
    "start_time": "2023-09-06T07:48:00.276Z"
   },
   {
    "duration": 148,
    "start_time": "2023-09-06T07:49:45.140Z"
   },
   {
    "duration": 221,
    "start_time": "2023-09-06T07:50:22.784Z"
   },
   {
    "duration": 152,
    "start_time": "2023-09-06T07:51:01.231Z"
   },
   {
    "duration": 151,
    "start_time": "2023-09-06T07:51:57.389Z"
   },
   {
    "duration": 95,
    "start_time": "2023-09-06T08:02:13.432Z"
   },
   {
    "duration": 110,
    "start_time": "2023-09-06T08:02:53.999Z"
   },
   {
    "duration": 10550,
    "start_time": "2023-09-06T08:03:05.378Z"
   },
   {
    "duration": 3890,
    "start_time": "2023-09-06T08:04:07.126Z"
   },
   {
    "duration": 6251,
    "start_time": "2023-09-06T08:09:42.613Z"
   },
   {
    "duration": 0,
    "start_time": "2023-09-06T08:09:48.867Z"
   },
   {
    "duration": 0,
    "start_time": "2023-09-06T08:09:48.869Z"
   },
   {
    "duration": 0,
    "start_time": "2023-09-06T08:09:48.870Z"
   },
   {
    "duration": 0,
    "start_time": "2023-09-06T08:09:48.871Z"
   },
   {
    "duration": 0,
    "start_time": "2023-09-06T08:09:48.872Z"
   },
   {
    "duration": 0,
    "start_time": "2023-09-06T08:09:48.875Z"
   },
   {
    "duration": 0,
    "start_time": "2023-09-06T08:09:48.877Z"
   },
   {
    "duration": 0,
    "start_time": "2023-09-06T08:09:48.878Z"
   },
   {
    "duration": 0,
    "start_time": "2023-09-06T08:09:48.879Z"
   },
   {
    "duration": 0,
    "start_time": "2023-09-06T08:09:48.880Z"
   },
   {
    "duration": 0,
    "start_time": "2023-09-06T08:09:48.881Z"
   },
   {
    "duration": 0,
    "start_time": "2023-09-06T08:09:48.882Z"
   },
   {
    "duration": 0,
    "start_time": "2023-09-06T08:09:48.884Z"
   },
   {
    "duration": 0,
    "start_time": "2023-09-06T08:09:48.885Z"
   },
   {
    "duration": 0,
    "start_time": "2023-09-06T08:09:48.886Z"
   },
   {
    "duration": 0,
    "start_time": "2023-09-06T08:09:48.887Z"
   },
   {
    "duration": 0,
    "start_time": "2023-09-06T08:09:48.888Z"
   },
   {
    "duration": 0,
    "start_time": "2023-09-06T08:09:48.890Z"
   },
   {
    "duration": 0,
    "start_time": "2023-09-06T08:09:48.893Z"
   },
   {
    "duration": 0,
    "start_time": "2023-09-06T08:09:48.894Z"
   },
   {
    "duration": 0,
    "start_time": "2023-09-06T08:09:48.895Z"
   },
   {
    "duration": 0,
    "start_time": "2023-09-06T08:09:48.896Z"
   },
   {
    "duration": 0,
    "start_time": "2023-09-06T08:09:48.898Z"
   },
   {
    "duration": 0,
    "start_time": "2023-09-06T08:09:48.899Z"
   },
   {
    "duration": 169,
    "start_time": "2023-09-06T08:10:05.289Z"
   },
   {
    "duration": 88,
    "start_time": "2023-09-06T08:48:02.978Z"
   },
   {
    "duration": 108,
    "start_time": "2023-09-06T08:48:32.797Z"
   },
   {
    "duration": 130,
    "start_time": "2023-09-06T08:48:46.117Z"
   },
   {
    "duration": 8848,
    "start_time": "2023-09-06T08:49:58.147Z"
   },
   {
    "duration": 0,
    "start_time": "2023-09-06T08:50:29.813Z"
   },
   {
    "duration": 0,
    "start_time": "2023-09-06T08:50:29.814Z"
   },
   {
    "duration": 0,
    "start_time": "2023-09-06T08:50:29.816Z"
   },
   {
    "duration": 0,
    "start_time": "2023-09-06T08:50:29.818Z"
   },
   {
    "duration": 0,
    "start_time": "2023-09-06T08:50:29.819Z"
   },
   {
    "duration": 0,
    "start_time": "2023-09-06T08:50:29.822Z"
   },
   {
    "duration": 0,
    "start_time": "2023-09-06T08:50:29.849Z"
   },
   {
    "duration": 0,
    "start_time": "2023-09-06T08:50:29.850Z"
   },
   {
    "duration": 0,
    "start_time": "2023-09-06T08:50:29.850Z"
   },
   {
    "duration": 0,
    "start_time": "2023-09-06T08:50:29.854Z"
   },
   {
    "duration": 0,
    "start_time": "2023-09-06T08:50:29.855Z"
   },
   {
    "duration": 0,
    "start_time": "2023-09-06T08:50:29.856Z"
   },
   {
    "duration": 0,
    "start_time": "2023-09-06T08:50:29.857Z"
   },
   {
    "duration": 0,
    "start_time": "2023-09-06T08:50:29.859Z"
   },
   {
    "duration": 0,
    "start_time": "2023-09-06T08:50:29.860Z"
   },
   {
    "duration": 0,
    "start_time": "2023-09-06T08:50:29.861Z"
   },
   {
    "duration": 0,
    "start_time": "2023-09-06T08:50:29.863Z"
   },
   {
    "duration": 0,
    "start_time": "2023-09-06T08:50:29.864Z"
   },
   {
    "duration": 0,
    "start_time": "2023-09-06T08:50:29.866Z"
   },
   {
    "duration": 0,
    "start_time": "2023-09-06T08:50:29.867Z"
   },
   {
    "duration": 0,
    "start_time": "2023-09-06T08:50:29.869Z"
   },
   {
    "duration": 0,
    "start_time": "2023-09-06T08:50:29.870Z"
   },
   {
    "duration": 0,
    "start_time": "2023-09-06T08:50:29.872Z"
   },
   {
    "duration": 0,
    "start_time": "2023-09-06T08:50:29.873Z"
   },
   {
    "duration": 0,
    "start_time": "2023-09-06T08:50:29.874Z"
   },
   {
    "duration": 6707,
    "start_time": "2023-09-06T08:50:42.286Z"
   },
   {
    "duration": 0,
    "start_time": "2023-09-06T08:50:48.995Z"
   },
   {
    "duration": 0,
    "start_time": "2023-09-06T08:50:48.997Z"
   },
   {
    "duration": 0,
    "start_time": "2023-09-06T08:50:48.998Z"
   },
   {
    "duration": 0,
    "start_time": "2023-09-06T08:50:48.999Z"
   },
   {
    "duration": 0,
    "start_time": "2023-09-06T08:50:49.000Z"
   },
   {
    "duration": 0,
    "start_time": "2023-09-06T08:50:49.001Z"
   },
   {
    "duration": 0,
    "start_time": "2023-09-06T08:50:49.002Z"
   },
   {
    "duration": 0,
    "start_time": "2023-09-06T08:50:49.003Z"
   },
   {
    "duration": 0,
    "start_time": "2023-09-06T08:50:49.004Z"
   },
   {
    "duration": 0,
    "start_time": "2023-09-06T08:50:49.005Z"
   },
   {
    "duration": 0,
    "start_time": "2023-09-06T08:50:49.006Z"
   },
   {
    "duration": 0,
    "start_time": "2023-09-06T08:50:49.007Z"
   },
   {
    "duration": 0,
    "start_time": "2023-09-06T08:50:49.008Z"
   },
   {
    "duration": 0,
    "start_time": "2023-09-06T08:50:49.009Z"
   },
   {
    "duration": 0,
    "start_time": "2023-09-06T08:50:49.010Z"
   },
   {
    "duration": 0,
    "start_time": "2023-09-06T08:50:49.011Z"
   },
   {
    "duration": 0,
    "start_time": "2023-09-06T08:50:49.012Z"
   },
   {
    "duration": 0,
    "start_time": "2023-09-06T08:50:49.013Z"
   },
   {
    "duration": 0,
    "start_time": "2023-09-06T08:50:49.049Z"
   },
   {
    "duration": 0,
    "start_time": "2023-09-06T08:50:49.050Z"
   },
   {
    "duration": 0,
    "start_time": "2023-09-06T08:50:49.051Z"
   },
   {
    "duration": 0,
    "start_time": "2023-09-06T08:50:49.051Z"
   },
   {
    "duration": 0,
    "start_time": "2023-09-06T08:50:49.052Z"
   },
   {
    "duration": 0,
    "start_time": "2023-09-06T08:50:49.053Z"
   },
   {
    "duration": 6882,
    "start_time": "2023-09-06T08:51:41.876Z"
   },
   {
    "duration": 8,
    "start_time": "2023-09-06T08:51:48.761Z"
   },
   {
    "duration": 1010,
    "start_time": "2023-09-06T08:51:48.770Z"
   },
   {
    "duration": 37,
    "start_time": "2023-09-06T08:51:49.781Z"
   },
   {
    "duration": 4,
    "start_time": "2023-09-06T08:51:49.820Z"
   },
   {
    "duration": 30,
    "start_time": "2023-09-06T08:51:49.825Z"
   },
   {
    "duration": 19,
    "start_time": "2023-09-06T08:51:49.856Z"
   },
   {
    "duration": 9,
    "start_time": "2023-09-06T08:51:49.877Z"
   },
   {
    "duration": 218129,
    "start_time": "2023-09-06T08:51:49.887Z"
   },
   {
    "duration": 9558,
    "start_time": "2023-09-06T08:55:28.019Z"
   },
   {
    "duration": 93,
    "start_time": "2023-09-06T08:55:37.578Z"
   },
   {
    "duration": 140,
    "start_time": "2023-09-06T08:55:37.673Z"
   },
   {
    "duration": 54,
    "start_time": "2023-09-06T08:55:37.816Z"
   },
   {
    "duration": 18,
    "start_time": "2023-09-06T08:55:37.885Z"
   },
   {
    "duration": 596,
    "start_time": "2023-09-06T08:55:37.909Z"
   },
   {
    "duration": 0,
    "start_time": "2023-09-06T08:55:38.511Z"
   },
   {
    "duration": 0,
    "start_time": "2023-09-06T08:55:38.516Z"
   },
   {
    "duration": 0,
    "start_time": "2023-09-06T08:55:38.521Z"
   },
   {
    "duration": 0,
    "start_time": "2023-09-06T08:55:38.523Z"
   },
   {
    "duration": 0,
    "start_time": "2023-09-06T08:55:38.524Z"
   },
   {
    "duration": 0,
    "start_time": "2023-09-06T08:55:38.526Z"
   },
   {
    "duration": 0,
    "start_time": "2023-09-06T08:55:38.528Z"
   },
   {
    "duration": 0,
    "start_time": "2023-09-06T08:55:38.529Z"
   },
   {
    "duration": 0,
    "start_time": "2023-09-06T08:55:38.530Z"
   },
   {
    "duration": 0,
    "start_time": "2023-09-06T08:55:38.531Z"
   },
   {
    "duration": 5,
    "start_time": "2023-09-06T09:00:38.145Z"
   },
   {
    "duration": 5,
    "start_time": "2023-09-06T09:00:38.918Z"
   },
   {
    "duration": 4,
    "start_time": "2023-09-06T09:00:39.441Z"
   },
   {
    "duration": 4,
    "start_time": "2023-09-06T09:00:39.597Z"
   },
   {
    "duration": 6,
    "start_time": "2023-09-06T09:00:39.741Z"
   },
   {
    "duration": 5,
    "start_time": "2023-09-06T09:00:39.883Z"
   },
   {
    "duration": 4,
    "start_time": "2023-09-06T09:00:40.229Z"
   },
   {
    "duration": 156,
    "start_time": "2023-09-06T09:00:40.411Z"
   },
   {
    "duration": 109,
    "start_time": "2023-09-06T09:00:40.588Z"
   },
   {
    "duration": 9,
    "start_time": "2023-09-06T09:11:58.867Z"
   },
   {
    "duration": 4,
    "start_time": "2023-09-06T09:11:59.492Z"
   },
   {
    "duration": 5,
    "start_time": "2023-09-06T09:12:00.611Z"
   },
   {
    "duration": 5,
    "start_time": "2023-09-06T09:12:01.241Z"
   },
   {
    "duration": 9,
    "start_time": "2023-09-06T09:12:02.278Z"
   },
   {
    "duration": 3,
    "start_time": "2023-09-06T09:12:04.181Z"
   },
   {
    "duration": 120,
    "start_time": "2023-09-06T09:12:05.681Z"
   },
   {
    "duration": 6,
    "start_time": "2023-09-06T09:16:01.390Z"
   },
   {
    "duration": 6,
    "start_time": "2023-09-06T09:16:14.979Z"
   },
   {
    "duration": 10,
    "start_time": "2023-09-06T09:16:15.169Z"
   },
   {
    "duration": 8,
    "start_time": "2023-09-06T09:16:15.373Z"
   },
   {
    "duration": 4,
    "start_time": "2023-09-06T09:16:15.540Z"
   },
   {
    "duration": 6,
    "start_time": "2023-09-06T09:16:15.797Z"
   },
   {
    "duration": 5,
    "start_time": "2023-09-06T09:16:15.891Z"
   },
   {
    "duration": 4,
    "start_time": "2023-09-06T09:16:16.327Z"
   },
   {
    "duration": 100,
    "start_time": "2023-09-06T09:16:16.608Z"
   },
   {
    "duration": 127,
    "start_time": "2023-09-06T09:16:16.749Z"
   },
   {
    "duration": 7,
    "start_time": "2023-09-06T09:18:05.314Z"
   },
   {
    "duration": 8,
    "start_time": "2023-09-06T09:18:06.244Z"
   },
   {
    "duration": 5,
    "start_time": "2023-09-06T09:18:06.924Z"
   },
   {
    "duration": 4,
    "start_time": "2023-09-06T09:18:07.180Z"
   },
   {
    "duration": 5,
    "start_time": "2023-09-06T09:18:07.334Z"
   },
   {
    "duration": 3,
    "start_time": "2023-09-06T09:18:10.496Z"
   },
   {
    "duration": 115,
    "start_time": "2023-09-06T09:18:10.683Z"
   },
   {
    "duration": 8,
    "start_time": "2023-09-06T09:35:06.111Z"
   },
   {
    "duration": 7,
    "start_time": "2023-09-06T09:35:06.670Z"
   },
   {
    "duration": 6,
    "start_time": "2023-09-06T09:35:07.084Z"
   },
   {
    "duration": 4,
    "start_time": "2023-09-06T09:35:07.389Z"
   },
   {
    "duration": 5,
    "start_time": "2023-09-06T09:35:07.947Z"
   },
   {
    "duration": 114,
    "start_time": "2023-09-06T09:35:10.717Z"
   },
   {
    "duration": 26,
    "start_time": "2023-09-06T10:49:58.519Z"
   },
   {
    "duration": 6,
    "start_time": "2023-09-06T10:49:59.089Z"
   },
   {
    "duration": 4,
    "start_time": "2023-09-06T10:49:59.830Z"
   },
   {
    "duration": 6,
    "start_time": "2023-09-06T10:50:00.072Z"
   },
   {
    "duration": 8,
    "start_time": "2023-09-06T10:50:00.247Z"
   },
   {
    "duration": 5,
    "start_time": "2023-09-06T10:50:00.487Z"
   },
   {
    "duration": 5,
    "start_time": "2023-09-06T10:50:00.795Z"
   },
   {
    "duration": 4,
    "start_time": "2023-09-06T10:50:00.989Z"
   },
   {
    "duration": 3,
    "start_time": "2023-09-06T10:50:01.329Z"
   },
   {
    "duration": 98,
    "start_time": "2023-09-06T10:50:01.528Z"
   },
   {
    "duration": 86,
    "start_time": "2023-09-06T10:50:01.678Z"
   },
   {
    "duration": 84,
    "start_time": "2023-09-06T10:50:09.894Z"
   },
   {
    "duration": 25,
    "start_time": "2023-09-06T10:50:55.287Z"
   },
   {
    "duration": 5,
    "start_time": "2023-09-06T10:50:55.314Z"
   },
   {
    "duration": 4,
    "start_time": "2023-09-06T10:50:55.877Z"
   },
   {
    "duration": 5,
    "start_time": "2023-09-06T10:50:56.285Z"
   },
   {
    "duration": 19,
    "start_time": "2023-09-06T10:50:56.444Z"
   },
   {
    "duration": 9,
    "start_time": "2023-09-06T10:50:56.669Z"
   },
   {
    "duration": 9,
    "start_time": "2023-09-06T10:50:56.869Z"
   },
   {
    "duration": 4,
    "start_time": "2023-09-06T10:50:56.994Z"
   },
   {
    "duration": 3,
    "start_time": "2023-09-06T10:50:58.677Z"
   },
   {
    "duration": 87,
    "start_time": "2023-09-06T10:50:58.936Z"
   },
   {
    "duration": 100,
    "start_time": "2023-09-06T10:51:00.781Z"
   },
   {
    "duration": 5,
    "start_time": "2023-09-06T10:52:34.918Z"
   },
   {
    "duration": 87,
    "start_time": "2023-09-06T12:56:09.377Z"
   },
   {
    "duration": 16,
    "start_time": "2023-09-06T12:56:11.494Z"
   },
   {
    "duration": 2542,
    "start_time": "2023-09-06T12:56:26.279Z"
   },
   {
    "duration": 5,
    "start_time": "2023-09-06T12:56:36.024Z"
   },
   {
    "duration": 106,
    "start_time": "2023-09-06T12:56:40.899Z"
   },
   {
    "duration": 20,
    "start_time": "2023-09-06T13:01:34.890Z"
   },
   {
    "duration": 24,
    "start_time": "2023-09-06T13:02:11.492Z"
   },
   {
    "duration": 5,
    "start_time": "2023-09-06T13:02:48.338Z"
   },
   {
    "duration": 11430,
    "start_time": "2023-09-07T04:43:12.075Z"
   },
   {
    "duration": 6256,
    "start_time": "2023-09-07T04:48:27.616Z"
   },
   {
    "duration": 5,
    "start_time": "2023-09-07T04:48:33.874Z"
   },
   {
    "duration": 2543,
    "start_time": "2023-09-07T04:48:33.880Z"
   },
   {
    "duration": 44,
    "start_time": "2023-09-07T04:48:36.424Z"
   },
   {
    "duration": 17,
    "start_time": "2023-09-07T04:48:36.470Z"
   },
   {
    "duration": 22,
    "start_time": "2023-09-07T04:48:36.488Z"
   },
   {
    "duration": 18,
    "start_time": "2023-09-07T04:48:36.512Z"
   },
   {
    "duration": 37,
    "start_time": "2023-09-07T04:48:36.531Z"
   },
   {
    "duration": 178010,
    "start_time": "2023-09-07T04:48:36.570Z"
   },
   {
    "duration": 7130,
    "start_time": "2023-09-07T04:51:34.582Z"
   },
   {
    "duration": 96,
    "start_time": "2023-09-07T04:51:41.713Z"
   },
   {
    "duration": 113,
    "start_time": "2023-09-07T04:51:41.811Z"
   },
   {
    "duration": 34,
    "start_time": "2023-09-07T04:51:41.925Z"
   },
   {
    "duration": 4,
    "start_time": "2023-09-07T04:51:41.962Z"
   },
   {
    "duration": 10,
    "start_time": "2023-09-07T04:51:41.967Z"
   },
   {
    "duration": 10,
    "start_time": "2023-09-07T04:51:41.978Z"
   },
   {
    "duration": 19,
    "start_time": "2023-09-07T04:51:41.989Z"
   },
   {
    "duration": 8,
    "start_time": "2023-09-07T04:51:42.010Z"
   },
   {
    "duration": 5,
    "start_time": "2023-09-07T04:51:42.019Z"
   },
   {
    "duration": 6,
    "start_time": "2023-09-07T04:51:42.025Z"
   },
   {
    "duration": 12,
    "start_time": "2023-09-07T04:51:42.032Z"
   },
   {
    "duration": 14,
    "start_time": "2023-09-07T04:51:42.049Z"
   },
   {
    "duration": 1749,
    "start_time": "2023-09-07T04:51:42.064Z"
   },
   {
    "duration": 0,
    "start_time": "2023-09-07T04:51:43.815Z"
   },
   {
    "duration": 0,
    "start_time": "2023-09-07T04:51:43.816Z"
   },
   {
    "duration": 0,
    "start_time": "2023-09-07T04:51:43.817Z"
   },
   {
    "duration": 0,
    "start_time": "2023-09-07T04:51:43.818Z"
   },
   {
    "duration": 3,
    "start_time": "2023-09-07T04:57:06.424Z"
   },
   {
    "duration": 20,
    "start_time": "2023-09-07T05:03:02.118Z"
   },
   {
    "duration": 1446,
    "start_time": "2023-09-07T05:07:25.422Z"
   },
   {
    "duration": 16,
    "start_time": "2023-09-07T05:15:03.770Z"
   },
   {
    "duration": 3,
    "start_time": "2023-09-07T05:15:32.061Z"
   },
   {
    "duration": 3,
    "start_time": "2023-09-07T05:15:32.705Z"
   },
   {
    "duration": 1696,
    "start_time": "2023-09-07T05:15:34.415Z"
   },
   {
    "duration": 0,
    "start_time": "2023-09-07T05:15:36.114Z"
   },
   {
    "duration": 28,
    "start_time": "2023-09-07T05:16:23.277Z"
   },
   {
    "duration": 2,
    "start_time": "2023-09-07T05:16:32.025Z"
   },
   {
    "duration": 3,
    "start_time": "2023-09-07T05:16:32.572Z"
   },
   {
    "duration": 57,
    "start_time": "2023-09-07T05:16:33.265Z"
   },
   {
    "duration": 17,
    "start_time": "2023-09-07T05:16:34.011Z"
   },
   {
    "duration": 57,
    "start_time": "2023-09-07T05:18:13.061Z"
   },
   {
    "duration": 5,
    "start_time": "2023-09-07T05:19:19.068Z"
   },
   {
    "duration": 54,
    "start_time": "2023-09-07T05:19:21.079Z"
   },
   {
    "duration": 5,
    "start_time": "2023-09-07T07:46:26.350Z"
   },
   {
    "duration": 2,
    "start_time": "2023-09-07T07:46:28.586Z"
   },
   {
    "duration": 3,
    "start_time": "2023-09-07T07:46:28.807Z"
   },
   {
    "duration": 4,
    "start_time": "2023-09-07T07:46:29.635Z"
   },
   {
    "duration": 60,
    "start_time": "2023-09-07T07:46:30.519Z"
   },
   {
    "duration": 6192,
    "start_time": "2023-09-07T07:48:34.233Z"
   },
   {
    "duration": 5,
    "start_time": "2023-09-07T07:48:40.427Z"
   },
   {
    "duration": 822,
    "start_time": "2023-09-07T07:48:40.434Z"
   },
   {
    "duration": 31,
    "start_time": "2023-09-07T07:48:41.258Z"
   },
   {
    "duration": 4,
    "start_time": "2023-09-07T07:48:41.291Z"
   },
   {
    "duration": 8,
    "start_time": "2023-09-07T07:48:41.297Z"
   },
   {
    "duration": 5,
    "start_time": "2023-09-07T07:48:41.306Z"
   },
   {
    "duration": 7,
    "start_time": "2023-09-07T07:48:41.312Z"
   },
   {
    "duration": 181416,
    "start_time": "2023-09-07T07:48:41.321Z"
   },
   {
    "duration": 7366,
    "start_time": "2023-09-07T07:51:42.739Z"
   },
   {
    "duration": 93,
    "start_time": "2023-09-07T07:51:50.106Z"
   },
   {
    "duration": 106,
    "start_time": "2023-09-07T07:51:50.200Z"
   },
   {
    "duration": 25,
    "start_time": "2023-09-07T07:51:50.308Z"
   },
   {
    "duration": 14,
    "start_time": "2023-09-07T07:51:50.335Z"
   },
   {
    "duration": 4,
    "start_time": "2023-09-07T07:51:50.350Z"
   },
   {
    "duration": 16,
    "start_time": "2023-09-07T07:51:50.356Z"
   },
   {
    "duration": 9,
    "start_time": "2023-09-07T07:51:50.374Z"
   },
   {
    "duration": 5,
    "start_time": "2023-09-07T07:51:50.385Z"
   },
   {
    "duration": 18,
    "start_time": "2023-09-07T07:51:50.392Z"
   },
   {
    "duration": 6,
    "start_time": "2023-09-07T07:51:50.412Z"
   },
   {
    "duration": 26,
    "start_time": "2023-09-07T07:51:50.419Z"
   },
   {
    "duration": 360,
    "start_time": "2023-09-07T07:51:50.447Z"
   },
   {
    "duration": 0,
    "start_time": "2023-09-07T07:51:50.809Z"
   },
   {
    "duration": 0,
    "start_time": "2023-09-07T07:51:50.810Z"
   },
   {
    "duration": 0,
    "start_time": "2023-09-07T07:51:50.812Z"
   },
   {
    "duration": 6531,
    "start_time": "2023-09-07T09:09:11.729Z"
   },
   {
    "duration": 5,
    "start_time": "2023-09-07T09:09:18.262Z"
   },
   {
    "duration": 899,
    "start_time": "2023-09-07T09:09:18.269Z"
   },
   {
    "duration": 33,
    "start_time": "2023-09-07T09:09:19.170Z"
   },
   {
    "duration": 4,
    "start_time": "2023-09-07T09:09:19.206Z"
   },
   {
    "duration": 14,
    "start_time": "2023-09-07T09:09:19.212Z"
   },
   {
    "duration": 6,
    "start_time": "2023-09-07T09:09:19.228Z"
   },
   {
    "duration": 23,
    "start_time": "2023-09-07T09:09:19.235Z"
   },
   {
    "duration": 188376,
    "start_time": "2023-09-07T09:09:19.260Z"
   },
   {
    "duration": 7842,
    "start_time": "2023-09-07T09:12:27.638Z"
   },
   {
    "duration": 101,
    "start_time": "2023-09-07T09:12:35.482Z"
   },
   {
    "duration": 128,
    "start_time": "2023-09-07T09:12:35.586Z"
   },
   {
    "duration": 34,
    "start_time": "2023-09-07T09:12:35.716Z"
   },
   {
    "duration": 7,
    "start_time": "2023-09-07T09:12:35.753Z"
   },
   {
    "duration": 10,
    "start_time": "2023-09-07T09:12:35.766Z"
   },
   {
    "duration": 6,
    "start_time": "2023-09-07T09:12:35.778Z"
   },
   {
    "duration": 14,
    "start_time": "2023-09-07T09:12:35.785Z"
   },
   {
    "duration": 5,
    "start_time": "2023-09-07T09:12:35.800Z"
   },
   {
    "duration": 10,
    "start_time": "2023-09-07T09:12:35.806Z"
   },
   {
    "duration": 10,
    "start_time": "2023-09-07T09:12:35.818Z"
   },
   {
    "duration": 8,
    "start_time": "2023-09-07T09:12:35.829Z"
   },
   {
    "duration": 476,
    "start_time": "2023-09-07T09:12:35.839Z"
   },
   {
    "duration": 0,
    "start_time": "2023-09-07T09:12:36.317Z"
   },
   {
    "duration": 0,
    "start_time": "2023-09-07T09:12:36.319Z"
   },
   {
    "duration": 1,
    "start_time": "2023-09-07T09:12:36.320Z"
   },
   {
    "duration": 19,
    "start_time": "2023-09-07T09:12:43.230Z"
   },
   {
    "duration": 31,
    "start_time": "2023-09-07T09:13:26.177Z"
   },
   {
    "duration": 30,
    "start_time": "2023-09-07T09:13:28.218Z"
   },
   {
    "duration": 6,
    "start_time": "2023-09-07T09:13:32.161Z"
   },
   {
    "duration": 2,
    "start_time": "2023-09-07T09:13:55.186Z"
   },
   {
    "duration": 2,
    "start_time": "2023-09-07T09:13:55.830Z"
   },
   {
    "duration": 4,
    "start_time": "2023-09-07T09:13:56.908Z"
   },
   {
    "duration": 8,
    "start_time": "2023-09-07T09:13:58.069Z"
   },
   {
    "duration": 904372,
    "start_time": "2023-09-07T09:13:59.461Z"
   },
   {
    "duration": 28,
    "start_time": "2023-09-07T09:29:03.835Z"
   },
   {
    "duration": 16,
    "start_time": "2023-09-07T09:33:10.497Z"
   },
   {
    "duration": 20,
    "start_time": "2023-09-07T09:33:44.391Z"
   },
   {
    "duration": 10,
    "start_time": "2023-09-07T09:34:15.671Z"
   },
   {
    "duration": 2,
    "start_time": "2023-09-07T09:53:50.586Z"
   },
   {
    "duration": 5,
    "start_time": "2023-09-07T09:53:51.359Z"
   },
   {
    "duration": 887224,
    "start_time": "2023-09-07T09:53:54.390Z"
   },
   {
    "duration": 1238718,
    "start_time": "2023-09-07T10:14:55.857Z"
   },
   {
    "duration": 6079,
    "start_time": "2023-09-07T11:35:42.361Z"
   },
   {
    "duration": 8,
    "start_time": "2023-09-07T11:35:48.442Z"
   },
   {
    "duration": 878,
    "start_time": "2023-09-07T11:35:48.451Z"
   },
   {
    "duration": 36,
    "start_time": "2023-09-07T11:35:49.331Z"
   },
   {
    "duration": 4,
    "start_time": "2023-09-07T11:35:49.369Z"
   },
   {
    "duration": 11,
    "start_time": "2023-09-07T11:35:49.374Z"
   },
   {
    "duration": 27,
    "start_time": "2023-09-07T11:35:49.387Z"
   },
   {
    "duration": 10,
    "start_time": "2023-09-07T11:35:49.416Z"
   },
   {
    "duration": 181951,
    "start_time": "2023-09-07T11:35:49.427Z"
   },
   {
    "duration": 7534,
    "start_time": "2023-09-07T11:38:51.380Z"
   },
   {
    "duration": 98,
    "start_time": "2023-09-07T11:38:58.916Z"
   },
   {
    "duration": 133,
    "start_time": "2023-09-07T11:38:59.016Z"
   },
   {
    "duration": 33,
    "start_time": "2023-09-07T11:38:59.152Z"
   },
   {
    "duration": 29,
    "start_time": "2023-09-07T11:38:59.189Z"
   },
   {
    "duration": 7,
    "start_time": "2023-09-07T11:38:59.220Z"
   },
   {
    "duration": 23,
    "start_time": "2023-09-07T11:38:59.229Z"
   },
   {
    "duration": 13,
    "start_time": "2023-09-07T11:38:59.254Z"
   },
   {
    "duration": 42,
    "start_time": "2023-09-07T11:38:59.268Z"
   },
   {
    "duration": 152694,
    "start_time": "2023-09-07T11:38:59.312Z"
   },
   {
    "duration": 0,
    "start_time": "2023-09-07T11:41:32.008Z"
   },
   {
    "duration": 0,
    "start_time": "2023-09-07T11:41:32.009Z"
   },
   {
    "duration": 0,
    "start_time": "2023-09-07T11:41:32.010Z"
   },
   {
    "duration": 0,
    "start_time": "2023-09-07T11:41:32.011Z"
   },
   {
    "duration": 242437,
    "start_time": "2023-09-07T11:57:35.931Z"
   },
   {
    "duration": 0,
    "start_time": "2023-09-07T12:01:38.370Z"
   },
   {
    "duration": 0,
    "start_time": "2023-09-07T12:01:38.372Z"
   },
   {
    "duration": 0,
    "start_time": "2023-09-07T12:01:38.373Z"
   },
   {
    "duration": 0,
    "start_time": "2023-09-07T12:01:38.374Z"
   },
   {
    "duration": 1966403,
    "start_time": "2023-09-07T12:17:18.348Z"
   },
   {
    "duration": 874886,
    "start_time": "2023-09-07T12:50:04.753Z"
   },
   {
    "duration": 0,
    "start_time": "2023-09-07T15:45:35.515Z"
   },
   {
    "duration": 0,
    "start_time": "2023-09-07T15:45:35.516Z"
   },
   {
    "duration": 0,
    "start_time": "2023-09-07T15:45:35.517Z"
   },
   {
    "duration": 0,
    "start_time": "2023-09-07T15:45:35.518Z"
   },
   {
    "duration": 0,
    "start_time": "2023-09-07T15:45:35.519Z"
   },
   {
    "duration": 0,
    "start_time": "2023-09-07T15:45:35.520Z"
   },
   {
    "duration": 0,
    "start_time": "2023-09-07T15:45:35.521Z"
   },
   {
    "duration": 0,
    "start_time": "2023-09-07T15:45:35.522Z"
   },
   {
    "duration": 0,
    "start_time": "2023-09-07T15:45:35.523Z"
   },
   {
    "duration": 0,
    "start_time": "2023-09-07T15:45:35.524Z"
   },
   {
    "duration": 0,
    "start_time": "2023-09-07T15:45:35.525Z"
   },
   {
    "duration": 0,
    "start_time": "2023-09-07T15:45:35.526Z"
   },
   {
    "duration": 0,
    "start_time": "2023-09-07T15:45:35.527Z"
   },
   {
    "duration": 0,
    "start_time": "2023-09-07T15:45:35.528Z"
   },
   {
    "duration": 0,
    "start_time": "2023-09-07T15:45:35.529Z"
   },
   {
    "duration": 0,
    "start_time": "2023-09-07T15:45:35.530Z"
   },
   {
    "duration": 0,
    "start_time": "2023-09-07T15:45:35.531Z"
   },
   {
    "duration": 0,
    "start_time": "2023-09-07T15:45:35.532Z"
   },
   {
    "duration": 0,
    "start_time": "2023-09-07T15:45:35.534Z"
   },
   {
    "duration": 0,
    "start_time": "2023-09-07T15:45:35.560Z"
   },
   {
    "duration": 0,
    "start_time": "2023-09-07T15:45:35.561Z"
   },
   {
    "duration": 0,
    "start_time": "2023-09-07T15:45:35.562Z"
   },
   {
    "duration": 0,
    "start_time": "2023-09-07T15:45:35.563Z"
   },
   {
    "duration": 6102,
    "start_time": "2023-09-07T15:48:03.120Z"
   },
   {
    "duration": 5,
    "start_time": "2023-09-07T15:48:09.224Z"
   },
   {
    "duration": 821,
    "start_time": "2023-09-07T15:48:09.230Z"
   },
   {
    "duration": 35,
    "start_time": "2023-09-07T15:48:10.052Z"
   },
   {
    "duration": 24,
    "start_time": "2023-09-07T15:48:10.089Z"
   },
   {
    "duration": 25,
    "start_time": "2023-09-07T15:48:10.114Z"
   },
   {
    "duration": 5,
    "start_time": "2023-09-07T15:48:10.140Z"
   },
   {
    "duration": 18,
    "start_time": "2023-09-07T15:48:10.147Z"
   },
   {
    "duration": 182860,
    "start_time": "2023-09-07T15:48:10.166Z"
   },
   {
    "duration": 8032,
    "start_time": "2023-09-07T15:51:13.028Z"
   },
   {
    "duration": 103,
    "start_time": "2023-09-07T15:51:21.061Z"
   },
   {
    "duration": 116,
    "start_time": "2023-09-07T15:51:21.165Z"
   },
   {
    "duration": 24,
    "start_time": "2023-09-07T15:51:21.283Z"
   },
   {
    "duration": 51,
    "start_time": "2023-09-07T15:51:21.310Z"
   },
   {
    "duration": 4,
    "start_time": "2023-09-07T15:51:21.362Z"
   },
   {
    "duration": 5,
    "start_time": "2023-09-07T15:51:21.369Z"
   },
   {
    "duration": 9,
    "start_time": "2023-09-07T15:51:21.375Z"
   },
   {
    "duration": 9,
    "start_time": "2023-09-07T15:51:21.386Z"
   },
   {
    "duration": 2000369,
    "start_time": "2023-09-07T15:51:21.396Z"
   },
   {
    "duration": 877484,
    "start_time": "2023-09-07T16:24:41.767Z"
   },
   {
    "duration": 347,
    "start_time": "2023-09-07T16:39:19.260Z"
   },
   {
    "duration": 0,
    "start_time": "2023-09-07T16:39:19.609Z"
   },
   {
    "duration": 0,
    "start_time": "2023-09-07T16:39:19.610Z"
   },
   {
    "duration": 23605597,
    "start_time": "2023-09-07T21:02:00.808Z"
   },
   {
    "duration": 26,
    "start_time": "2023-09-08T03:35:26.407Z"
   },
   {
    "duration": 3682,
    "start_time": "2023-09-08T03:35:26.435Z"
   },
   {
    "duration": 23,
    "start_time": "2023-09-08T03:39:47.184Z"
   },
   {
    "duration": 2070,
    "start_time": "2023-09-08T03:39:59.942Z"
   },
   {
    "duration": 1927,
    "start_time": "2023-09-08T03:40:20.267Z"
   },
   {
    "duration": 2074,
    "start_time": "2023-09-08T03:40:45.240Z"
   },
   {
    "duration": 2029,
    "start_time": "2023-09-08T03:42:15.000Z"
   },
   {
    "duration": 4,
    "start_time": "2023-09-08T03:54:36.274Z"
   },
   {
    "duration": 4,
    "start_time": "2023-09-08T03:54:45.480Z"
   },
   {
    "duration": 3,
    "start_time": "2023-09-08T03:58:23.525Z"
   },
   {
    "duration": 4,
    "start_time": "2023-09-08T03:58:44.864Z"
   },
   {
    "duration": 4,
    "start_time": "2023-09-08T03:59:55.891Z"
   },
   {
    "duration": 11823,
    "start_time": "2023-09-08T07:24:53.047Z"
   },
   {
    "duration": 0,
    "start_time": "2023-09-08T07:25:04.872Z"
   },
   {
    "duration": 0,
    "start_time": "2023-09-08T07:25:04.873Z"
   },
   {
    "duration": 16,
    "start_time": "2023-09-08T07:25:09.503Z"
   },
   {
    "duration": 6368,
    "start_time": "2023-09-08T07:26:30.570Z"
   },
   {
    "duration": 2,
    "start_time": "2023-09-08T07:26:49.299Z"
   },
   {
    "duration": 2481,
    "start_time": "2023-09-08T07:26:52.229Z"
   },
   {
    "duration": 41,
    "start_time": "2023-09-08T07:26:55.578Z"
   },
   {
    "duration": 43,
    "start_time": "2023-09-08T07:26:58.029Z"
   },
   {
    "duration": 9,
    "start_time": "2023-09-08T07:33:43.367Z"
   },
   {
    "duration": 10,
    "start_time": "2023-09-08T07:34:07.642Z"
   },
   {
    "duration": 514,
    "start_time": "2023-09-08T07:48:31.829Z"
   },
   {
    "duration": 2055,
    "start_time": "2023-09-08T10:48:19.323Z"
   },
   {
    "duration": 6073,
    "start_time": "2023-09-08T10:48:40.350Z"
   },
   {
    "duration": 2,
    "start_time": "2023-09-08T10:49:03.469Z"
   },
   {
    "duration": 880,
    "start_time": "2023-09-08T10:49:03.914Z"
   },
   {
    "duration": 44,
    "start_time": "2023-09-08T10:49:06.978Z"
   },
   {
    "duration": 11,
    "start_time": "2023-09-08T10:49:09.369Z"
   },
   {
    "duration": 4,
    "start_time": "2023-09-08T10:49:11.550Z"
   },
   {
    "duration": 338,
    "start_time": "2023-09-08T10:49:13.288Z"
   },
   {
    "duration": 4,
    "start_time": "2023-09-08T10:49:23.196Z"
   },
   {
    "duration": 3,
    "start_time": "2023-09-08T10:49:25.610Z"
   },
   {
    "duration": 3,
    "start_time": "2023-09-08T10:56:48.062Z"
   },
   {
    "duration": 359,
    "start_time": "2023-09-08T10:56:50.242Z"
   },
   {
    "duration": 4,
    "start_time": "2023-09-08T10:57:26.599Z"
   },
   {
    "duration": 35,
    "start_time": "2023-09-08T10:57:27.926Z"
   },
   {
    "duration": 3696,
    "start_time": "2023-09-08T11:00:14.329Z"
   },
   {
    "duration": 6,
    "start_time": "2023-09-08T11:00:18.027Z"
   },
   {
    "duration": 1036,
    "start_time": "2023-09-08T11:00:18.035Z"
   },
   {
    "duration": 44,
    "start_time": "2023-09-08T11:00:20.805Z"
   },
   {
    "duration": 12,
    "start_time": "2023-09-08T11:00:23.831Z"
   },
   {
    "duration": 5,
    "start_time": "2023-09-08T11:00:27.914Z"
   },
   {
    "duration": 432,
    "start_time": "2023-09-08T11:00:28.704Z"
   },
   {
    "duration": 4,
    "start_time": "2023-09-08T11:00:31.952Z"
   },
   {
    "duration": 3,
    "start_time": "2023-09-08T11:00:34.114Z"
   },
   {
    "duration": 3,
    "start_time": "2023-09-08T11:00:36.214Z"
   },
   {
    "duration": 132,
    "start_time": "2023-09-08T11:00:36.794Z"
   },
   {
    "duration": 4,
    "start_time": "2023-09-08T11:00:46.079Z"
   },
   {
    "duration": 35,
    "start_time": "2023-09-08T11:00:48.714Z"
   },
   {
    "duration": 470,
    "start_time": "2023-09-08T14:20:47.754Z"
   },
   {
    "duration": 3560,
    "start_time": "2023-09-08T14:22:12.859Z"
   },
   {
    "duration": 2,
    "start_time": "2023-09-08T14:22:16.421Z"
   },
   {
    "duration": 994,
    "start_time": "2023-09-08T14:22:16.425Z"
   },
   {
    "duration": 42,
    "start_time": "2023-09-08T14:22:18.998Z"
   },
   {
    "duration": 12,
    "start_time": "2023-09-08T14:22:21.206Z"
   },
   {
    "duration": 5,
    "start_time": "2023-09-08T14:22:23.719Z"
   },
   {
    "duration": 431,
    "start_time": "2023-09-08T14:22:25.358Z"
   },
   {
    "duration": 4,
    "start_time": "2023-09-08T14:22:28.607Z"
   },
   {
    "duration": 3,
    "start_time": "2023-09-08T14:22:30.161Z"
   },
   {
    "duration": 4,
    "start_time": "2023-09-08T14:22:32.400Z"
   },
   {
    "duration": 706,
    "start_time": "2023-09-08T14:22:33.255Z"
   },
   {
    "duration": 17,
    "start_time": "2023-09-08T14:22:41.064Z"
   },
   {
    "duration": 4,
    "start_time": "2023-09-08T14:22:44.825Z"
   },
   {
    "duration": 3,
    "start_time": "2023-09-08T14:26:41.786Z"
   },
   {
    "duration": 343,
    "start_time": "2023-09-08T14:26:45.481Z"
   },
   {
    "duration": 17,
    "start_time": "2023-09-08T14:26:57.454Z"
   },
   {
    "duration": 3,
    "start_time": "2023-09-08T14:27:48.970Z"
   },
   {
    "duration": 327,
    "start_time": "2023-09-08T14:27:51.396Z"
   },
   {
    "duration": 3,
    "start_time": "2023-09-08T14:39:42.726Z"
   },
   {
    "duration": 345,
    "start_time": "2023-09-08T14:39:43.666Z"
   },
   {
    "duration": 3,
    "start_time": "2023-09-08T14:43:45.755Z"
   },
   {
    "duration": 336,
    "start_time": "2023-09-08T14:43:52.010Z"
   },
   {
    "duration": 5,
    "start_time": "2023-09-08T14:45:27.875Z"
   },
   {
    "duration": 551,
    "start_time": "2023-09-08T14:45:30.769Z"
   },
   {
    "duration": 9598,
    "start_time": "2023-09-09T03:19:14.493Z"
   },
   {
    "duration": 5,
    "start_time": "2023-09-09T03:19:32.111Z"
   },
   {
    "duration": 2778,
    "start_time": "2023-09-09T03:19:32.631Z"
   },
   {
    "duration": 54,
    "start_time": "2023-09-09T03:19:36.134Z"
   },
   {
    "duration": 16,
    "start_time": "2023-09-09T03:19:39.108Z"
   },
   {
    "duration": 5,
    "start_time": "2023-09-09T03:19:41.645Z"
   },
   {
    "duration": 631,
    "start_time": "2023-09-09T03:19:42.473Z"
   },
   {
    "duration": 5,
    "start_time": "2023-09-09T03:19:47.065Z"
   },
   {
    "duration": 4,
    "start_time": "2023-09-09T03:19:49.244Z"
   },
   {
    "duration": 4,
    "start_time": "2023-09-09T03:19:54.245Z"
   },
   {
    "duration": 3,
    "start_time": "2023-09-09T03:20:16.965Z"
   },
   {
    "duration": 633,
    "start_time": "2023-09-09T03:20:20.844Z"
   },
   {
    "duration": 4647,
    "start_time": "2023-09-09T03:24:48.335Z"
   },
   {
    "duration": 3,
    "start_time": "2023-09-09T03:25:12.990Z"
   },
   {
    "duration": 1243,
    "start_time": "2023-09-09T03:25:13.397Z"
   },
   {
    "duration": 54,
    "start_time": "2023-09-09T03:25:16.888Z"
   },
   {
    "duration": 13,
    "start_time": "2023-09-09T03:25:19.428Z"
   },
   {
    "duration": 6,
    "start_time": "2023-09-09T03:25:22.213Z"
   },
   {
    "duration": 777,
    "start_time": "2023-09-09T03:25:22.617Z"
   },
   {
    "duration": 4,
    "start_time": "2023-09-09T03:25:26.648Z"
   },
   {
    "duration": 4,
    "start_time": "2023-09-09T03:25:29.015Z"
   },
   {
    "duration": 4,
    "start_time": "2023-09-09T03:25:31.568Z"
   },
   {
    "duration": 1501,
    "start_time": "2023-09-09T03:25:32.469Z"
   },
   {
    "duration": 4,
    "start_time": "2023-09-09T03:25:38.918Z"
   },
   {
    "duration": 528,
    "start_time": "2023-09-09T03:25:41.917Z"
   },
   {
    "duration": 13,
    "start_time": "2023-09-09T03:27:30.723Z"
   },
   {
    "duration": 34558,
    "start_time": "2023-09-09T03:29:41.426Z"
   },
   {
    "duration": 6,
    "start_time": "2023-09-09T03:32:26.165Z"
   },
   {
    "duration": 213456,
    "start_time": "2023-09-09T03:32:31.012Z"
   },
   {
    "duration": 32159,
    "start_time": "2023-09-09T03:36:04.471Z"
   },
   {
    "duration": 88,
    "start_time": "2023-09-09T03:36:36.632Z"
   },
   {
    "duration": 139,
    "start_time": "2023-09-09T03:36:36.722Z"
   },
   {
    "duration": 122,
    "start_time": "2023-09-09T03:41:23.117Z"
   },
   {
    "duration": 294,
    "start_time": "2023-09-09T03:42:40.497Z"
   },
   {
    "duration": 104,
    "start_time": "2023-09-09T03:42:43.028Z"
   },
   {
    "duration": 3028,
    "start_time": "2023-09-09T05:11:07.972Z"
   },
   {
    "duration": 3,
    "start_time": "2023-09-09T05:11:11.003Z"
   },
   {
    "duration": 1192,
    "start_time": "2023-09-09T05:11:11.971Z"
   },
   {
    "duration": 4090,
    "start_time": "2023-09-09T05:11:25.673Z"
   },
   {
    "duration": 3,
    "start_time": "2023-09-09T05:11:29.766Z"
   },
   {
    "duration": 1242,
    "start_time": "2023-09-09T05:12:10.000Z"
   },
   {
    "duration": 49,
    "start_time": "2023-09-09T05:12:12.132Z"
   },
   {
    "duration": 13,
    "start_time": "2023-09-09T05:12:13.030Z"
   },
   {
    "duration": 6,
    "start_time": "2023-09-09T05:12:13.691Z"
   },
   {
    "duration": 519,
    "start_time": "2023-09-09T05:12:14.270Z"
   },
   {
    "duration": 5,
    "start_time": "2023-09-09T05:12:18.218Z"
   },
   {
    "duration": 5,
    "start_time": "2023-09-09T05:12:21.471Z"
   },
   {
    "duration": 4,
    "start_time": "2023-09-09T05:13:43.773Z"
   },
   {
    "duration": 5,
    "start_time": "2023-09-09T05:13:45.475Z"
   },
   {
    "duration": 4,
    "start_time": "2023-09-09T05:13:49.555Z"
   },
   {
    "duration": 4,
    "start_time": "2023-09-09T05:13:49.971Z"
   },
   {
    "duration": 213063,
    "start_time": "2023-09-09T05:13:55.219Z"
   },
   {
    "duration": 35742,
    "start_time": "2023-09-09T05:17:28.284Z"
   },
   {
    "duration": 315,
    "start_time": "2023-09-09T05:18:04.028Z"
   },
   {
    "duration": 131,
    "start_time": "2023-09-09T05:18:04.345Z"
   },
   {
    "duration": 2575,
    "start_time": "2023-09-09T05:23:39.755Z"
   },
   {
    "duration": 159,
    "start_time": "2023-09-09T05:25:54.156Z"
   },
   {
    "duration": 18,
    "start_time": "2023-09-09T05:26:01.115Z"
   },
   {
    "duration": 22,
    "start_time": "2023-09-09T05:26:30.498Z"
   },
   {
    "duration": 49,
    "start_time": "2023-09-09T05:26:34.653Z"
   },
   {
    "duration": 13,
    "start_time": "2023-09-09T05:28:19.657Z"
   },
   {
    "duration": 12,
    "start_time": "2023-09-09T05:28:46.778Z"
   },
   {
    "duration": 13,
    "start_time": "2023-09-09T05:28:58.066Z"
   },
   {
    "duration": 12,
    "start_time": "2023-09-09T05:29:02.987Z"
   },
   {
    "duration": 13,
    "start_time": "2023-09-09T05:29:11.847Z"
   },
   {
    "duration": 12,
    "start_time": "2023-09-09T05:29:34.256Z"
   },
   {
    "duration": 12,
    "start_time": "2023-09-09T05:29:38.928Z"
   },
   {
    "duration": 12,
    "start_time": "2023-09-09T05:29:43.448Z"
   },
   {
    "duration": 8,
    "start_time": "2023-09-09T05:30:04.217Z"
   },
   {
    "duration": 5,
    "start_time": "2023-09-09T05:40:05.219Z"
   },
   {
    "duration": 13,
    "start_time": "2023-09-09T05:40:36.290Z"
   },
   {
    "duration": 157,
    "start_time": "2023-09-09T05:41:09.788Z"
   },
   {
    "duration": 145,
    "start_time": "2023-09-09T05:41:14.350Z"
   },
   {
    "duration": 201,
    "start_time": "2023-09-09T05:41:20.039Z"
   },
   {
    "duration": 193,
    "start_time": "2023-09-09T05:41:26.939Z"
   },
   {
    "duration": 208,
    "start_time": "2023-09-09T05:41:35.688Z"
   },
   {
    "duration": 223,
    "start_time": "2023-09-09T05:41:47.918Z"
   },
   {
    "duration": 321,
    "start_time": "2023-09-09T05:41:53.053Z"
   },
   {
    "duration": 498,
    "start_time": "2023-09-09T05:59:19.670Z"
   },
   {
    "duration": 889,
    "start_time": "2023-09-09T05:59:41.218Z"
   },
   {
    "duration": 874,
    "start_time": "2023-09-09T05:59:50.749Z"
   },
   {
    "duration": 887,
    "start_time": "2023-09-09T05:59:58.326Z"
   },
   {
    "duration": 9692,
    "start_time": "2023-09-09T06:03:02.230Z"
   },
   {
    "duration": 14,
    "start_time": "2023-09-09T06:05:16.329Z"
   },
   {
    "duration": 2522,
    "start_time": "2023-09-09T06:05:43.470Z"
   },
   {
    "duration": 18,
    "start_time": "2023-09-09T06:05:46.900Z"
   },
   {
    "duration": 157,
    "start_time": "2023-09-09T06:05:56.359Z"
   },
   {
    "duration": 664,
    "start_time": "2023-09-09T06:06:06.489Z"
   },
   {
    "duration": 201,
    "start_time": "2023-09-09T06:07:06.859Z"
   },
   {
    "duration": 200,
    "start_time": "2023-09-09T06:07:15.219Z"
   },
   {
    "duration": 598,
    "start_time": "2023-09-09T06:07:22.459Z"
   },
   {
    "duration": 183,
    "start_time": "2023-09-09T06:11:53.460Z"
   },
   {
    "duration": 1624,
    "start_time": "2023-09-09T06:45:36.138Z"
   },
   {
    "duration": 0,
    "start_time": "2023-09-09T06:45:37.764Z"
   },
   {
    "duration": 0,
    "start_time": "2023-09-09T06:45:37.766Z"
   },
   {
    "duration": 0,
    "start_time": "2023-09-09T06:45:37.767Z"
   },
   {
    "duration": 0,
    "start_time": "2023-09-09T06:45:37.769Z"
   },
   {
    "duration": 0,
    "start_time": "2023-09-09T06:45:37.771Z"
   },
   {
    "duration": 0,
    "start_time": "2023-09-09T06:45:37.772Z"
   },
   {
    "duration": 0,
    "start_time": "2023-09-09T06:45:37.773Z"
   },
   {
    "duration": 0,
    "start_time": "2023-09-09T06:45:37.774Z"
   },
   {
    "duration": 0,
    "start_time": "2023-09-09T06:45:37.775Z"
   },
   {
    "duration": 0,
    "start_time": "2023-09-09T06:45:37.776Z"
   },
   {
    "duration": 0,
    "start_time": "2023-09-09T06:45:37.804Z"
   },
   {
    "duration": 0,
    "start_time": "2023-09-09T06:45:37.805Z"
   },
   {
    "duration": 0,
    "start_time": "2023-09-09T06:45:37.805Z"
   },
   {
    "duration": 0,
    "start_time": "2023-09-09T06:45:37.806Z"
   },
   {
    "duration": 0,
    "start_time": "2023-09-09T06:45:37.807Z"
   },
   {
    "duration": 0,
    "start_time": "2023-09-09T06:45:37.807Z"
   },
   {
    "duration": 0,
    "start_time": "2023-09-09T06:45:37.810Z"
   },
   {
    "duration": 0,
    "start_time": "2023-09-09T06:45:37.811Z"
   },
   {
    "duration": 0,
    "start_time": "2023-09-09T06:45:37.811Z"
   },
   {
    "duration": 0,
    "start_time": "2023-09-09T06:45:37.815Z"
   },
   {
    "duration": 0,
    "start_time": "2023-09-09T06:45:37.816Z"
   },
   {
    "duration": 0,
    "start_time": "2023-09-09T06:45:37.818Z"
   },
   {
    "duration": 0,
    "start_time": "2023-09-09T06:45:37.819Z"
   },
   {
    "duration": 0,
    "start_time": "2023-09-09T06:45:37.820Z"
   },
   {
    "duration": 0,
    "start_time": "2023-09-09T06:45:37.822Z"
   },
   {
    "duration": 0,
    "start_time": "2023-09-09T06:45:37.823Z"
   },
   {
    "duration": 0,
    "start_time": "2023-09-09T06:45:37.824Z"
   },
   {
    "duration": 0,
    "start_time": "2023-09-09T06:45:37.825Z"
   },
   {
    "duration": 4389,
    "start_time": "2023-09-09T08:17:08.489Z"
   },
   {
    "duration": 12,
    "start_time": "2023-09-09T08:17:12.881Z"
   },
   {
    "duration": 10,
    "start_time": "2023-09-09T08:17:12.901Z"
   },
   {
    "duration": 1000,
    "start_time": "2023-09-09T08:17:12.914Z"
   },
   {
    "duration": 43,
    "start_time": "2023-09-09T08:17:13.917Z"
   },
   {
    "duration": 12,
    "start_time": "2023-09-09T08:17:13.962Z"
   },
   {
    "duration": 39,
    "start_time": "2023-09-09T08:17:13.976Z"
   },
   {
    "duration": 181,
    "start_time": "2023-09-09T08:17:14.017Z"
   },
   {
    "duration": 9,
    "start_time": "2023-09-09T08:17:14.200Z"
   },
   {
    "duration": 22,
    "start_time": "2023-09-09T08:17:14.216Z"
   },
   {
    "duration": 13,
    "start_time": "2023-09-09T08:17:14.240Z"
   },
   {
    "duration": 16,
    "start_time": "2023-09-09T08:17:14.255Z"
   },
   {
    "duration": 212193,
    "start_time": "2023-09-09T08:17:14.273Z"
   },
   {
    "duration": 36209,
    "start_time": "2023-09-09T08:20:46.469Z"
   },
   {
    "duration": 338,
    "start_time": "2023-09-09T08:21:22.680Z"
   },
   {
    "duration": 135,
    "start_time": "2023-09-09T08:21:23.020Z"
   },
   {
    "duration": 640,
    "start_time": "2023-09-09T08:21:23.157Z"
   },
   {
    "duration": 75,
    "start_time": "2023-09-09T08:21:23.802Z"
   },
   {
    "duration": 57,
    "start_time": "2023-09-09T08:21:23.880Z"
   },
   {
    "duration": 15,
    "start_time": "2023-09-09T08:21:23.939Z"
   },
   {
    "duration": 20,
    "start_time": "2023-09-09T08:21:23.957Z"
   },
   {
    "duration": 12,
    "start_time": "2023-09-09T08:21:23.979Z"
   },
   {
    "duration": 19,
    "start_time": "2023-09-09T08:21:23.993Z"
   },
   {
    "duration": 4019188,
    "start_time": "2023-09-09T08:21:24.015Z"
   },
   {
    "duration": 221,
    "start_time": "2023-09-09T09:28:23.206Z"
   },
   {
    "duration": 0,
    "start_time": "2023-09-09T09:28:23.428Z"
   },
   {
    "duration": 0,
    "start_time": "2023-09-09T09:28:23.430Z"
   },
   {
    "duration": 0,
    "start_time": "2023-09-09T09:28:23.431Z"
   },
   {
    "duration": 0,
    "start_time": "2023-09-09T09:28:23.432Z"
   },
   {
    "duration": 1624513,
    "start_time": "2023-09-09T12:31:22.372Z"
   },
   {
    "duration": 171,
    "start_time": "2023-09-09T12:58:26.887Z"
   },
   {
    "duration": 0,
    "start_time": "2023-09-09T12:58:27.060Z"
   },
   {
    "duration": 0,
    "start_time": "2023-09-09T12:58:27.062Z"
   },
   {
    "duration": 0,
    "start_time": "2023-09-09T12:58:27.063Z"
   },
   {
    "duration": 1922,
    "start_time": "2023-09-10T02:39:34.884Z"
   },
   {
    "duration": 1582,
    "start_time": "2023-09-10T02:40:12.478Z"
   },
   {
    "duration": 25,
    "start_time": "2023-09-10T02:40:34.215Z"
   },
   {
    "duration": 21,
    "start_time": "2023-09-10T02:40:53.117Z"
   },
   {
    "duration": 9431,
    "start_time": "2023-09-10T02:41:55.142Z"
   },
   {
    "duration": 4261,
    "start_time": "2023-09-10T02:43:28.016Z"
   },
   {
    "duration": 12,
    "start_time": "2023-09-10T02:43:48.411Z"
   },
   {
    "duration": 3,
    "start_time": "2023-09-10T02:43:49.560Z"
   },
   {
    "duration": 2477,
    "start_time": "2023-09-10T02:43:49.911Z"
   },
   {
    "duration": 40,
    "start_time": "2023-09-10T02:43:52.390Z"
   },
   {
    "duration": 16,
    "start_time": "2023-09-10T02:43:52.432Z"
   },
   {
    "duration": 15,
    "start_time": "2023-09-10T02:43:52.450Z"
   },
   {
    "duration": 177,
    "start_time": "2023-09-10T02:43:52.468Z"
   },
   {
    "duration": 4,
    "start_time": "2023-09-10T02:43:52.921Z"
   },
   {
    "duration": 3,
    "start_time": "2023-09-10T02:43:53.371Z"
   },
   {
    "duration": 3,
    "start_time": "2023-09-10T02:43:56.478Z"
   },
   {
    "duration": 4,
    "start_time": "2023-09-10T02:43:56.893Z"
   },
   {
    "duration": 192906,
    "start_time": "2023-09-10T02:43:59.311Z"
   },
   {
    "duration": 30838,
    "start_time": "2023-09-10T02:47:12.219Z"
   },
   {
    "duration": 294,
    "start_time": "2023-09-10T02:47:43.059Z"
   },
   {
    "duration": 121,
    "start_time": "2023-09-10T02:47:43.355Z"
   },
   {
    "duration": 569,
    "start_time": "2023-09-10T02:47:43.478Z"
   },
   {
    "duration": 5,
    "start_time": "2023-09-10T03:13:51.885Z"
   },
   {
    "duration": 6,
    "start_time": "2023-09-10T03:18:39.105Z"
   },
   {
    "duration": 3,
    "start_time": "2023-09-10T03:18:40.367Z"
   },
   {
    "duration": 3,
    "start_time": "2023-09-10T03:18:42.327Z"
   },
   {
    "duration": 133,
    "start_time": "2023-09-10T03:18:43.526Z"
   },
   {
    "duration": 4141,
    "start_time": "2023-09-10T03:19:12.007Z"
   },
   {
    "duration": 11,
    "start_time": "2023-09-10T03:19:16.150Z"
   },
   {
    "duration": 19,
    "start_time": "2023-09-10T03:19:16.163Z"
   },
   {
    "duration": 1031,
    "start_time": "2023-09-10T03:19:16.184Z"
   },
   {
    "duration": 40,
    "start_time": "2023-09-10T03:19:17.216Z"
   },
   {
    "duration": 17,
    "start_time": "2023-09-10T03:19:17.257Z"
   },
   {
    "duration": 20,
    "start_time": "2023-09-10T03:19:17.275Z"
   },
   {
    "duration": 154,
    "start_time": "2023-09-10T03:19:17.300Z"
   },
   {
    "duration": 3,
    "start_time": "2023-09-10T03:19:17.456Z"
   },
   {
    "duration": 18,
    "start_time": "2023-09-10T03:19:17.460Z"
   },
   {
    "duration": 4,
    "start_time": "2023-09-10T03:19:18.006Z"
   },
   {
    "duration": 4,
    "start_time": "2023-09-10T03:19:18.166Z"
   },
   {
    "duration": 46,
    "start_time": "2023-09-10T03:21:16.747Z"
   },
   {
    "duration": 4677,
    "start_time": "2023-09-10T03:21:27.027Z"
   },
   {
    "duration": 13,
    "start_time": "2023-09-10T03:21:31.706Z"
   },
   {
    "duration": 28,
    "start_time": "2023-09-10T03:21:31.721Z"
   },
   {
    "duration": 1071,
    "start_time": "2023-09-10T03:21:31.752Z"
   },
   {
    "duration": 43,
    "start_time": "2023-09-10T03:21:32.825Z"
   },
   {
    "duration": 32,
    "start_time": "2023-09-10T03:21:32.870Z"
   },
   {
    "duration": 40,
    "start_time": "2023-09-10T03:21:32.905Z"
   },
   {
    "duration": 173,
    "start_time": "2023-09-10T03:21:32.947Z"
   },
   {
    "duration": 4,
    "start_time": "2023-09-10T03:21:33.126Z"
   },
   {
    "duration": 1471,
    "start_time": "2023-09-10T03:22:45.644Z"
   },
   {
    "duration": 21,
    "start_time": "2023-09-10T03:22:58.616Z"
   },
   {
    "duration": 17,
    "start_time": "2023-09-10T03:23:03.468Z"
   },
   {
    "duration": 8,
    "start_time": "2023-09-10T03:23:18.566Z"
   },
   {
    "duration": 2110,
    "start_time": "2023-09-10T03:23:26.687Z"
   },
   {
    "duration": 3,
    "start_time": "2023-09-10T03:24:10.848Z"
   },
   {
    "duration": 4,
    "start_time": "2023-09-10T03:24:11.067Z"
   },
   {
    "duration": 4738,
    "start_time": "2023-09-10T03:24:26.508Z"
   },
   {
    "duration": 13,
    "start_time": "2023-09-10T03:24:31.248Z"
   },
   {
    "duration": 60,
    "start_time": "2023-09-10T03:24:31.262Z"
   },
   {
    "duration": 999,
    "start_time": "2023-09-10T03:24:31.324Z"
   },
   {
    "duration": 42,
    "start_time": "2023-09-10T03:24:32.325Z"
   },
   {
    "duration": 12,
    "start_time": "2023-09-10T03:24:32.368Z"
   },
   {
    "duration": 55,
    "start_time": "2023-09-10T03:24:32.402Z"
   },
   {
    "duration": 215,
    "start_time": "2023-09-10T03:24:32.459Z"
   },
   {
    "duration": 3,
    "start_time": "2023-09-10T03:24:32.676Z"
   },
   {
    "duration": 31,
    "start_time": "2023-09-10T03:24:32.681Z"
   },
   {
    "duration": 33,
    "start_time": "2023-09-10T03:24:32.714Z"
   },
   {
    "duration": 22,
    "start_time": "2023-09-10T03:24:32.749Z"
   },
   {
    "duration": 24,
    "start_time": "2023-09-10T03:24:32.773Z"
   },
   {
    "duration": 3073,
    "start_time": "2023-09-10T03:24:32.799Z"
   },
   {
    "duration": 1572,
    "start_time": "2023-09-10T03:24:35.874Z"
   },
   {
    "duration": 9,
    "start_time": "2023-09-10T03:24:37.448Z"
   },
   {
    "duration": 32,
    "start_time": "2023-09-10T03:24:37.458Z"
   },
   {
    "duration": 800,
    "start_time": "2023-09-10T03:24:37.491Z"
   },
   {
    "duration": 11,
    "start_time": "2023-09-10T03:24:38.293Z"
   },
   {
    "duration": 16,
    "start_time": "2023-09-10T03:24:38.306Z"
   },
   {
    "duration": 28,
    "start_time": "2023-09-10T03:24:38.324Z"
   },
   {
    "duration": 11,
    "start_time": "2023-09-10T03:24:38.354Z"
   },
   {
    "duration": 17,
    "start_time": "2023-09-10T03:24:38.366Z"
   },
   {
    "duration": 26,
    "start_time": "2023-09-10T03:24:38.385Z"
   },
   {
    "duration": 90,
    "start_time": "2023-09-10T03:24:38.412Z"
   },
   {
    "duration": 3338,
    "start_time": "2023-09-10T03:24:38.504Z"
   },
   {
    "duration": 0,
    "start_time": "2023-09-10T03:24:41.844Z"
   },
   {
    "duration": 0,
    "start_time": "2023-09-10T03:24:41.845Z"
   },
   {
    "duration": 0,
    "start_time": "2023-09-10T03:24:41.847Z"
   },
   {
    "duration": 0,
    "start_time": "2023-09-10T03:24:41.848Z"
   },
   {
    "duration": 0,
    "start_time": "2023-09-10T03:24:41.849Z"
   },
   {
    "duration": 6,
    "start_time": "2023-09-10T03:26:55.475Z"
   },
   {
    "duration": 4,
    "start_time": "2023-09-10T03:26:56.428Z"
   },
   {
    "duration": 3,
    "start_time": "2023-09-10T03:26:57.035Z"
   },
   {
    "duration": 59,
    "start_time": "2023-09-10T03:26:57.188Z"
   },
   {
    "duration": 4,
    "start_time": "2023-09-10T03:28:27.549Z"
   },
   {
    "duration": 7,
    "start_time": "2023-09-10T03:28:27.728Z"
   },
   {
    "duration": 5,
    "start_time": "2023-09-10T03:28:28.628Z"
   },
   {
    "duration": 3,
    "start_time": "2023-09-10T03:28:30.269Z"
   },
   {
    "duration": 49,
    "start_time": "2023-09-10T03:28:30.447Z"
   },
   {
    "duration": 5,
    "start_time": "2023-09-10T03:30:16.748Z"
   },
   {
    "duration": 5,
    "start_time": "2023-09-10T03:30:18.058Z"
   },
   {
    "duration": 5,
    "start_time": "2023-09-10T03:30:18.547Z"
   },
   {
    "duration": 3,
    "start_time": "2023-09-10T03:30:18.948Z"
   },
   {
    "duration": 47,
    "start_time": "2023-09-10T03:30:19.369Z"
   },
   {
    "duration": 18,
    "start_time": "2023-09-10T03:30:46.388Z"
   },
   {
    "duration": 6,
    "start_time": "2023-09-10T03:30:46.609Z"
   },
   {
    "duration": 4,
    "start_time": "2023-09-10T03:30:47.007Z"
   },
   {
    "duration": 2,
    "start_time": "2023-09-10T03:30:47.756Z"
   },
   {
    "duration": 44,
    "start_time": "2023-09-10T03:30:47.948Z"
   },
   {
    "duration": 5,
    "start_time": "2023-09-10T03:31:29.558Z"
   },
   {
    "duration": 4,
    "start_time": "2023-09-10T03:31:31.449Z"
   },
   {
    "duration": 6,
    "start_time": "2023-09-10T03:31:31.916Z"
   },
   {
    "duration": 4,
    "start_time": "2023-09-10T03:31:32.689Z"
   },
   {
    "duration": 3,
    "start_time": "2023-09-10T03:31:33.008Z"
   },
   {
    "duration": 41,
    "start_time": "2023-09-10T03:31:33.217Z"
   },
   {
    "duration": 5,
    "start_time": "2023-09-10T03:32:14.735Z"
   },
   {
    "duration": 6,
    "start_time": "2023-09-10T03:32:15.130Z"
   },
   {
    "duration": 4,
    "start_time": "2023-09-10T03:32:15.628Z"
   },
   {
    "duration": 3,
    "start_time": "2023-09-10T03:32:16.569Z"
   },
   {
    "duration": 45,
    "start_time": "2023-09-10T03:32:16.957Z"
   },
   {
    "duration": 17,
    "start_time": "2023-09-10T03:35:14.189Z"
   },
   {
    "duration": 4,
    "start_time": "2023-09-10T03:37:37.448Z"
   },
   {
    "duration": 20,
    "start_time": "2023-09-10T03:37:38.228Z"
   },
   {
    "duration": 4,
    "start_time": "2023-09-10T03:38:03.968Z"
   },
   {
    "duration": 14,
    "start_time": "2023-09-10T03:38:04.355Z"
   },
   {
    "duration": 5,
    "start_time": "2023-09-10T03:38:27.109Z"
   },
   {
    "duration": 15,
    "start_time": "2023-09-10T03:38:27.528Z"
   },
   {
    "duration": 4,
    "start_time": "2023-09-10T03:38:50.849Z"
   },
   {
    "duration": 2656,
    "start_time": "2023-09-10T03:38:51.167Z"
   },
   {
    "duration": 16,
    "start_time": "2023-09-10T03:39:31.148Z"
   },
   {
    "duration": 12,
    "start_time": "2023-09-10T03:40:56.592Z"
   },
   {
    "duration": 4,
    "start_time": "2023-09-10T03:40:57.362Z"
   },
   {
    "duration": 3,
    "start_time": "2023-09-10T03:40:58.261Z"
   },
   {
    "duration": 2224,
    "start_time": "2023-09-10T03:40:58.862Z"
   },
   {
    "duration": 5,
    "start_time": "2023-09-10T03:41:25.495Z"
   },
   {
    "duration": 4,
    "start_time": "2023-09-10T03:41:26.240Z"
   },
   {
    "duration": 3,
    "start_time": "2023-09-10T03:41:26.641Z"
   },
   {
    "duration": 2598,
    "start_time": "2023-09-10T03:41:26.992Z"
   },
   {
    "duration": 4612,
    "start_time": "2023-09-10T03:49:04.841Z"
   },
   {
    "duration": 12,
    "start_time": "2023-09-10T03:49:09.455Z"
   },
   {
    "duration": 19,
    "start_time": "2023-09-10T03:49:09.469Z"
   },
   {
    "duration": 973,
    "start_time": "2023-09-10T03:49:09.490Z"
   },
   {
    "duration": 45,
    "start_time": "2023-09-10T03:49:10.466Z"
   },
   {
    "duration": 30,
    "start_time": "2023-09-10T03:49:10.512Z"
   },
   {
    "duration": 9,
    "start_time": "2023-09-10T03:49:10.545Z"
   },
   {
    "duration": 317,
    "start_time": "2023-09-10T03:49:10.556Z"
   },
   {
    "duration": 3,
    "start_time": "2023-09-10T03:49:10.875Z"
   },
   {
    "duration": 28,
    "start_time": "2023-09-10T03:49:10.879Z"
   },
   {
    "duration": 6,
    "start_time": "2023-09-10T03:49:10.909Z"
   },
   {
    "duration": 24,
    "start_time": "2023-09-10T03:49:10.916Z"
   },
   {
    "duration": 26,
    "start_time": "2023-09-10T03:49:10.942Z"
   },
   {
    "duration": 3018,
    "start_time": "2023-09-10T03:49:10.971Z"
   },
   {
    "duration": 1593,
    "start_time": "2023-09-10T03:49:13.991Z"
   },
   {
    "duration": 18,
    "start_time": "2023-09-10T03:49:15.586Z"
   },
   {
    "duration": 14,
    "start_time": "2023-09-10T03:49:15.605Z"
   },
   {
    "duration": 792,
    "start_time": "2023-09-10T03:49:15.621Z"
   },
   {
    "duration": 8,
    "start_time": "2023-09-10T03:49:16.415Z"
   },
   {
    "duration": 20,
    "start_time": "2023-09-10T03:49:16.425Z"
   },
   {
    "duration": 19,
    "start_time": "2023-09-10T03:49:16.447Z"
   },
   {
    "duration": 7,
    "start_time": "2023-09-10T03:49:16.467Z"
   },
   {
    "duration": 39,
    "start_time": "2023-09-10T03:49:16.476Z"
   },
   {
    "duration": 14,
    "start_time": "2023-09-10T03:49:16.517Z"
   },
   {
    "duration": 11,
    "start_time": "2023-09-10T03:49:16.533Z"
   },
   {
    "duration": 20,
    "start_time": "2023-09-10T03:49:16.546Z"
   },
   {
    "duration": 3531,
    "start_time": "2023-09-10T03:49:16.567Z"
   },
   {
    "duration": 0,
    "start_time": "2023-09-10T03:49:20.100Z"
   },
   {
    "duration": 0,
    "start_time": "2023-09-10T03:49:20.101Z"
   },
   {
    "duration": 0,
    "start_time": "2023-09-10T03:49:20.103Z"
   },
   {
    "duration": 0,
    "start_time": "2023-09-10T03:49:20.104Z"
   },
   {
    "duration": 0,
    "start_time": "2023-09-10T03:49:20.105Z"
   },
   {
    "duration": 2899,
    "start_time": "2023-09-10T03:50:49.669Z"
   },
   {
    "duration": 5,
    "start_time": "2023-09-10T03:51:19.273Z"
   },
   {
    "duration": 14,
    "start_time": "2023-09-10T03:51:19.902Z"
   },
   {
    "duration": 8,
    "start_time": "2023-09-10T03:51:22.678Z"
   },
   {
    "duration": 4,
    "start_time": "2023-09-10T03:51:23.183Z"
   },
   {
    "duration": 3,
    "start_time": "2023-09-10T03:51:23.806Z"
   },
   {
    "duration": 2142,
    "start_time": "2023-09-10T03:51:24.343Z"
   },
   {
    "duration": 4,
    "start_time": "2023-09-10T03:52:44.912Z"
   },
   {
    "duration": 13,
    "start_time": "2023-09-10T03:52:45.123Z"
   },
   {
    "duration": 8,
    "start_time": "2023-09-10T03:52:45.415Z"
   },
   {
    "duration": 4,
    "start_time": "2023-09-10T03:52:46.872Z"
   },
   {
    "duration": 3,
    "start_time": "2023-09-10T03:52:47.610Z"
   },
   {
    "duration": 1948,
    "start_time": "2023-09-10T03:52:48.091Z"
   },
   {
    "duration": 4,
    "start_time": "2023-09-10T03:53:07.142Z"
   },
   {
    "duration": 17,
    "start_time": "2023-09-10T03:53:07.590Z"
   },
   {
    "duration": 6,
    "start_time": "2023-09-10T03:53:08.083Z"
   },
   {
    "duration": 4,
    "start_time": "2023-09-10T03:53:09.362Z"
   },
   {
    "duration": 3,
    "start_time": "2023-09-10T03:53:10.543Z"
   },
   {
    "duration": 2366,
    "start_time": "2023-09-10T03:53:11.001Z"
   },
   {
    "duration": 4,
    "start_time": "2023-09-10T03:54:38.062Z"
   },
   {
    "duration": 17,
    "start_time": "2023-09-10T03:54:38.433Z"
   },
   {
    "duration": 6,
    "start_time": "2023-09-10T03:54:40.022Z"
   },
   {
    "duration": 3,
    "start_time": "2023-09-10T03:54:40.563Z"
   },
   {
    "duration": 2,
    "start_time": "2023-09-10T03:54:41.844Z"
   },
   {
    "duration": 44,
    "start_time": "2023-09-10T03:54:42.062Z"
   },
   {
    "duration": 4,
    "start_time": "2023-09-10T03:57:51.983Z"
   },
   {
    "duration": 16,
    "start_time": "2023-09-10T03:57:53.094Z"
   },
   {
    "duration": 5,
    "start_time": "2023-09-10T03:58:25.178Z"
   },
   {
    "duration": 28,
    "start_time": "2023-09-10T03:58:25.590Z"
   },
   {
    "duration": 5,
    "start_time": "2023-09-10T03:58:46.213Z"
   },
   {
    "duration": 19,
    "start_time": "2023-09-10T03:58:49.593Z"
   },
   {
    "duration": 6,
    "start_time": "2023-09-10T03:58:52.491Z"
   },
   {
    "duration": 4,
    "start_time": "2023-09-10T03:58:53.462Z"
   },
   {
    "duration": 3,
    "start_time": "2023-09-10T03:58:53.762Z"
   },
   {
    "duration": 54,
    "start_time": "2023-09-10T03:58:54.343Z"
   },
   {
    "duration": 17,
    "start_time": "2023-09-10T04:00:04.983Z"
   },
   {
    "duration": 4,
    "start_time": "2023-09-10T04:01:39.634Z"
   },
   {
    "duration": 27,
    "start_time": "2023-09-10T04:01:40.660Z"
   },
   {
    "duration": 4,
    "start_time": "2023-09-10T04:02:51.798Z"
   },
   {
    "duration": 24,
    "start_time": "2023-09-10T04:02:52.273Z"
   },
   {
    "duration": 3,
    "start_time": "2023-09-10T04:03:33.183Z"
   },
   {
    "duration": 25,
    "start_time": "2023-09-10T04:03:34.461Z"
   },
   {
    "duration": 4,
    "start_time": "2023-09-10T04:06:44.473Z"
   },
   {
    "duration": 24,
    "start_time": "2023-09-10T04:06:44.879Z"
   },
   {
    "duration": 13,
    "start_time": "2023-09-10T08:10:25.460Z"
   },
   {
    "duration": 5,
    "start_time": "2023-09-10T08:13:24.305Z"
   },
   {
    "duration": 8,
    "start_time": "2023-09-10T08:13:27.987Z"
   },
   {
    "duration": 99,
    "start_time": "2023-09-10T08:13:28.105Z"
   },
   {
    "duration": 3,
    "start_time": "2023-09-10T08:13:28.984Z"
   },
   {
    "duration": 68,
    "start_time": "2023-09-10T08:13:29.225Z"
   },
   {
    "duration": 14,
    "start_time": "2023-09-10T08:15:32.305Z"
   },
   {
    "duration": 20,
    "start_time": "2023-09-10T08:15:45.274Z"
   },
   {
    "duration": 14,
    "start_time": "2023-09-10T08:16:15.957Z"
   },
   {
    "duration": 22,
    "start_time": "2023-09-10T08:17:23.218Z"
   },
   {
    "duration": 20,
    "start_time": "2023-09-10T08:17:43.305Z"
   },
   {
    "duration": 6,
    "start_time": "2023-09-10T08:18:04.506Z"
   },
   {
    "duration": 6,
    "start_time": "2023-09-10T08:18:14.545Z"
   },
   {
    "duration": 13,
    "start_time": "2023-09-10T08:18:34.961Z"
   },
   {
    "duration": 6,
    "start_time": "2023-09-10T08:18:52.641Z"
   },
   {
    "duration": 14,
    "start_time": "2023-09-10T08:19:28.706Z"
   },
   {
    "duration": 7,
    "start_time": "2023-09-10T08:19:38.611Z"
   },
   {
    "duration": 14,
    "start_time": "2023-09-10T08:20:53.205Z"
   },
   {
    "duration": 16,
    "start_time": "2023-09-10T08:21:15.411Z"
   },
   {
    "duration": 12,
    "start_time": "2023-09-10T08:21:59.232Z"
   },
   {
    "duration": 6,
    "start_time": "2023-09-10T08:22:07.810Z"
   },
   {
    "duration": 5,
    "start_time": "2023-09-10T08:22:28.383Z"
   },
   {
    "duration": 6,
    "start_time": "2023-09-10T08:22:52.139Z"
   },
   {
    "duration": 15,
    "start_time": "2023-09-10T08:22:54.182Z"
   },
   {
    "duration": 6,
    "start_time": "2023-09-10T08:22:55.404Z"
   },
   {
    "duration": 20,
    "start_time": "2023-09-10T08:22:56.223Z"
   },
   {
    "duration": 8,
    "start_time": "2023-09-10T08:23:05.131Z"
   },
   {
    "duration": 15,
    "start_time": "2023-09-10T08:23:06.223Z"
   },
   {
    "duration": 5,
    "start_time": "2023-09-10T08:23:06.872Z"
   },
   {
    "duration": 14,
    "start_time": "2023-09-10T08:23:11.384Z"
   },
   {
    "duration": 5,
    "start_time": "2023-09-10T08:23:18.286Z"
   },
   {
    "duration": 5,
    "start_time": "2023-09-10T08:23:18.773Z"
   },
   {
    "duration": 5,
    "start_time": "2023-09-10T08:23:20.063Z"
   },
   {
    "duration": 4,
    "start_time": "2023-09-10T08:23:20.864Z"
   },
   {
    "duration": 5,
    "start_time": "2023-09-10T08:23:21.192Z"
   },
   {
    "duration": 6,
    "start_time": "2023-09-10T08:23:23.112Z"
   },
   {
    "duration": 7,
    "start_time": "2023-09-10T08:23:24.405Z"
   },
   {
    "duration": 12,
    "start_time": "2023-09-10T08:23:35.043Z"
   },
   {
    "duration": 6,
    "start_time": "2023-09-10T08:23:41.124Z"
   },
   {
    "duration": 4,
    "start_time": "2023-09-10T08:23:42.144Z"
   },
   {
    "duration": 2,
    "start_time": "2023-09-10T08:23:43.045Z"
   },
   {
    "duration": 44,
    "start_time": "2023-09-10T08:23:43.663Z"
   },
   {
    "duration": 8,
    "start_time": "2023-09-10T08:24:14.783Z"
   },
   {
    "duration": 14,
    "start_time": "2023-09-10T08:24:28.368Z"
   },
   {
    "duration": 5,
    "start_time": "2023-09-10T08:24:46.440Z"
   },
   {
    "duration": 25,
    "start_time": "2023-09-10T08:24:46.828Z"
   },
   {
    "duration": 4,
    "start_time": "2023-09-10T08:25:00.901Z"
   },
   {
    "duration": 143,
    "start_time": "2023-09-10T08:25:01.240Z"
   },
   {
    "duration": 15,
    "start_time": "2023-09-10T08:25:11.501Z"
   },
   {
    "duration": 8,
    "start_time": "2023-09-10T08:25:14.929Z"
   },
   {
    "duration": 3,
    "start_time": "2023-09-10T08:25:15.641Z"
   },
   {
    "duration": 3,
    "start_time": "2023-09-10T08:25:16.241Z"
   },
   {
    "duration": 54,
    "start_time": "2023-09-10T08:25:16.540Z"
   },
   {
    "duration": 4,
    "start_time": "2023-09-10T08:25:57.962Z"
   },
   {
    "duration": 24,
    "start_time": "2023-09-10T08:26:00.068Z"
   },
   {
    "duration": 4,
    "start_time": "2023-09-10T08:26:56.925Z"
   },
   {
    "duration": 28,
    "start_time": "2023-09-10T08:26:57.233Z"
   },
   {
    "duration": 26,
    "start_time": "2023-09-10T08:27:06.563Z"
   },
   {
    "duration": 17,
    "start_time": "2023-09-10T08:28:09.644Z"
   },
   {
    "duration": 4,
    "start_time": "2023-09-10T08:28:24.324Z"
   },
   {
    "duration": 12,
    "start_time": "2023-09-10T08:28:24.626Z"
   },
   {
    "duration": 9,
    "start_time": "2023-09-10T08:32:03.672Z"
   },
   {
    "duration": 14,
    "start_time": "2023-09-10T08:32:13.688Z"
   },
   {
    "duration": 13,
    "start_time": "2023-09-10T08:32:18.501Z"
   },
   {
    "duration": 16,
    "start_time": "2023-09-10T08:32:24.980Z"
   },
   {
    "duration": 13,
    "start_time": "2023-09-10T08:32:29.122Z"
   },
   {
    "duration": 16,
    "start_time": "2023-09-10T08:32:40.140Z"
   },
   {
    "duration": 43,
    "start_time": "2023-09-10T08:32:55.660Z"
   },
   {
    "duration": 14,
    "start_time": "2023-09-10T08:33:20.441Z"
   },
   {
    "duration": 15,
    "start_time": "2023-09-10T08:33:27.059Z"
   },
   {
    "duration": 16,
    "start_time": "2023-09-10T08:33:34.448Z"
   },
   {
    "duration": 8,
    "start_time": "2023-09-10T08:33:41.284Z"
   },
   {
    "duration": 21,
    "start_time": "2023-09-10T08:35:40.320Z"
   },
   {
    "duration": 17,
    "start_time": "2023-09-10T08:35:59.620Z"
   },
   {
    "duration": 15,
    "start_time": "2023-09-10T08:36:03.619Z"
   },
   {
    "duration": 15,
    "start_time": "2023-09-10T08:37:12.659Z"
   },
   {
    "duration": 14,
    "start_time": "2023-09-10T08:37:18.421Z"
   },
   {
    "duration": 11,
    "start_time": "2023-09-10T08:37:22.800Z"
   },
   {
    "duration": 11,
    "start_time": "2023-09-10T08:37:32.339Z"
   },
   {
    "duration": 11,
    "start_time": "2023-09-10T08:38:01.200Z"
   },
   {
    "duration": 10,
    "start_time": "2023-09-10T08:38:10.741Z"
   },
   {
    "duration": 13,
    "start_time": "2023-09-10T08:38:21.956Z"
   },
   {
    "duration": 16,
    "start_time": "2023-09-10T08:38:31.520Z"
   },
   {
    "duration": 10,
    "start_time": "2023-09-10T08:38:40.279Z"
   },
   {
    "duration": 7,
    "start_time": "2023-09-10T08:39:32.120Z"
   },
   {
    "duration": 4,
    "start_time": "2023-09-10T08:40:05.244Z"
   },
   {
    "duration": 4,
    "start_time": "2023-09-10T08:40:07.724Z"
   },
   {
    "duration": 13,
    "start_time": "2023-09-10T08:40:08.019Z"
   },
   {
    "duration": 15,
    "start_time": "2023-09-10T08:40:10.380Z"
   },
   {
    "duration": 6,
    "start_time": "2023-09-10T08:40:10.880Z"
   },
   {
    "duration": 4,
    "start_time": "2023-09-10T08:40:11.940Z"
   },
   {
    "duration": 2,
    "start_time": "2023-09-10T08:40:12.780Z"
   },
   {
    "duration": 48,
    "start_time": "2023-09-10T08:40:13.120Z"
   },
   {
    "duration": 4428,
    "start_time": "2023-09-10T08:40:52.777Z"
   },
   {
    "duration": 11,
    "start_time": "2023-09-10T08:40:57.207Z"
   },
   {
    "duration": 26,
    "start_time": "2023-09-10T08:40:57.220Z"
   },
   {
    "duration": 1046,
    "start_time": "2023-09-10T08:40:57.248Z"
   },
   {
    "duration": 45,
    "start_time": "2023-09-10T08:40:58.296Z"
   },
   {
    "duration": 11,
    "start_time": "2023-09-10T08:40:58.344Z"
   },
   {
    "duration": 26,
    "start_time": "2023-09-10T08:40:58.357Z"
   },
   {
    "duration": 177,
    "start_time": "2023-09-10T08:40:58.385Z"
   },
   {
    "duration": 4,
    "start_time": "2023-09-10T08:40:58.564Z"
   },
   {
    "duration": 18,
    "start_time": "2023-09-10T08:40:58.570Z"
   },
   {
    "duration": 21,
    "start_time": "2023-09-10T08:40:58.590Z"
   },
   {
    "duration": 13,
    "start_time": "2023-09-10T08:40:58.612Z"
   },
   {
    "duration": 19,
    "start_time": "2023-09-10T08:40:58.627Z"
   },
   {
    "duration": 3025,
    "start_time": "2023-09-10T08:40:58.651Z"
   },
   {
    "duration": 1638,
    "start_time": "2023-09-10T08:41:01.678Z"
   },
   {
    "duration": 8,
    "start_time": "2023-09-10T08:41:03.318Z"
   },
   {
    "duration": 13,
    "start_time": "2023-09-10T08:41:03.328Z"
   },
   {
    "duration": 858,
    "start_time": "2023-09-10T08:41:03.343Z"
   },
   {
    "duration": 8,
    "start_time": "2023-09-10T08:41:04.203Z"
   },
   {
    "duration": 36,
    "start_time": "2023-09-10T08:41:04.212Z"
   },
   {
    "duration": 30,
    "start_time": "2023-09-10T08:41:04.250Z"
   },
   {
    "duration": 55,
    "start_time": "2023-09-10T08:41:04.282Z"
   },
   {
    "duration": 18,
    "start_time": "2023-09-10T08:41:04.339Z"
   },
   {
    "duration": 34,
    "start_time": "2023-09-10T08:41:04.359Z"
   },
   {
    "duration": 32,
    "start_time": "2023-09-10T08:41:04.395Z"
   },
   {
    "duration": 25,
    "start_time": "2023-09-10T08:41:04.429Z"
   },
   {
    "duration": 23,
    "start_time": "2023-09-10T08:41:04.456Z"
   },
   {
    "duration": 21,
    "start_time": "2023-09-10T08:41:04.481Z"
   },
   {
    "duration": 79,
    "start_time": "2023-09-10T08:41:04.504Z"
   },
   {
    "duration": 60,
    "start_time": "2023-09-10T08:41:04.586Z"
   },
   {
    "duration": 21,
    "start_time": "2023-09-10T08:41:04.648Z"
   },
   {
    "duration": 218,
    "start_time": "2023-09-10T08:41:04.671Z"
   },
   {
    "duration": 0,
    "start_time": "2023-09-10T08:41:04.891Z"
   },
   {
    "duration": 0,
    "start_time": "2023-09-10T08:41:04.892Z"
   },
   {
    "duration": 0,
    "start_time": "2023-09-10T08:41:04.901Z"
   },
   {
    "duration": 0,
    "start_time": "2023-09-10T08:41:04.903Z"
   },
   {
    "duration": 0,
    "start_time": "2023-09-10T08:41:04.904Z"
   },
   {
    "duration": 6,
    "start_time": "2023-09-10T08:44:43.101Z"
   },
   {
    "duration": 4,
    "start_time": "2023-09-10T08:44:44.060Z"
   },
   {
    "duration": 2,
    "start_time": "2023-09-10T08:44:45.060Z"
   },
   {
    "duration": 40,
    "start_time": "2023-09-10T08:44:45.402Z"
   },
   {
    "duration": 4,
    "start_time": "2023-09-10T08:47:56.123Z"
   },
   {
    "duration": 16,
    "start_time": "2023-09-10T08:47:57.408Z"
   },
   {
    "duration": 17,
    "start_time": "2023-09-10T08:47:59.380Z"
   },
   {
    "duration": 10,
    "start_time": "2023-09-10T08:47:59.573Z"
   },
   {
    "duration": 4,
    "start_time": "2023-09-10T08:48:00.368Z"
   },
   {
    "duration": 3,
    "start_time": "2023-09-10T08:48:00.720Z"
   },
   {
    "duration": 46,
    "start_time": "2023-09-10T08:48:01.180Z"
   },
   {
    "duration": 4,
    "start_time": "2023-09-10T08:49:08.603Z"
   },
   {
    "duration": 15,
    "start_time": "2023-09-10T08:49:09.021Z"
   },
   {
    "duration": 23,
    "start_time": "2023-09-10T08:49:09.340Z"
   },
   {
    "duration": 6,
    "start_time": "2023-09-10T08:49:13.681Z"
   },
   {
    "duration": 5,
    "start_time": "2023-09-10T08:49:14.241Z"
   },
   {
    "duration": 4,
    "start_time": "2023-09-10T08:49:14.561Z"
   },
   {
    "duration": 52,
    "start_time": "2023-09-10T08:49:15.161Z"
   },
   {
    "duration": 5,
    "start_time": "2023-09-10T08:51:49.980Z"
   },
   {
    "duration": 16,
    "start_time": "2023-09-10T08:51:50.541Z"
   },
   {
    "duration": 7,
    "start_time": "2023-09-10T08:51:51.702Z"
   },
   {
    "duration": 3,
    "start_time": "2023-09-10T08:51:52.183Z"
   },
   {
    "duration": 3,
    "start_time": "2023-09-10T08:51:52.870Z"
   },
   {
    "duration": 53,
    "start_time": "2023-09-10T08:51:53.284Z"
   },
   {
    "duration": 6,
    "start_time": "2023-09-10T08:54:26.981Z"
   },
   {
    "duration": 4,
    "start_time": "2023-09-10T08:54:28.121Z"
   },
   {
    "duration": 3,
    "start_time": "2023-09-10T08:54:28.677Z"
   },
   {
    "duration": 17,
    "start_time": "2023-09-10T08:54:29.228Z"
   },
   {
    "duration": 6,
    "start_time": "2023-09-10T08:54:43.961Z"
   },
   {
    "duration": 4,
    "start_time": "2023-09-10T08:54:44.500Z"
   },
   {
    "duration": 3,
    "start_time": "2023-09-10T08:54:45.083Z"
   },
   {
    "duration": 51,
    "start_time": "2023-09-10T08:54:45.401Z"
   },
   {
    "duration": 16,
    "start_time": "2023-09-10T09:00:06.226Z"
   },
   {
    "duration": 21,
    "start_time": "2023-09-10T09:01:24.238Z"
   },
   {
    "duration": 19,
    "start_time": "2023-09-10T09:02:00.500Z"
   },
   {
    "duration": 4,
    "start_time": "2023-09-10T09:02:44.100Z"
   },
   {
    "duration": 13,
    "start_time": "2023-09-10T09:02:44.741Z"
   },
   {
    "duration": 17,
    "start_time": "2023-09-10T09:02:45.879Z"
   },
   {
    "duration": 10,
    "start_time": "2023-09-10T09:03:00.800Z"
   },
   {
    "duration": 4,
    "start_time": "2023-09-10T09:03:01.580Z"
   },
   {
    "duration": 3,
    "start_time": "2023-09-10T09:03:02.283Z"
   },
   {
    "duration": 43,
    "start_time": "2023-09-10T09:03:02.608Z"
   },
   {
    "duration": 16,
    "start_time": "2023-09-10T09:04:54.721Z"
   },
   {
    "duration": 11,
    "start_time": "2023-09-10T09:05:32.880Z"
   },
   {
    "duration": 12,
    "start_time": "2023-09-10T09:05:47.520Z"
   },
   {
    "duration": 14,
    "start_time": "2023-09-10T09:06:38.841Z"
   },
   {
    "duration": 15,
    "start_time": "2023-09-10T09:07:00.180Z"
   },
   {
    "duration": 20,
    "start_time": "2023-09-10T09:09:02.199Z"
   },
   {
    "duration": 14,
    "start_time": "2023-09-10T09:09:20.380Z"
   },
   {
    "duration": 16,
    "start_time": "2023-09-10T09:12:11.391Z"
   },
   {
    "duration": 23,
    "start_time": "2023-09-10T09:12:18.219Z"
   },
   {
    "duration": 21,
    "start_time": "2023-09-10T09:12:25.200Z"
   },
   {
    "duration": 16,
    "start_time": "2023-09-10T09:12:33.740Z"
   },
   {
    "duration": 18,
    "start_time": "2023-09-10T09:12:57.622Z"
   },
   {
    "duration": 4496,
    "start_time": "2023-09-10T09:14:13.621Z"
   },
   {
    "duration": 12,
    "start_time": "2023-09-10T09:14:18.119Z"
   },
   {
    "duration": 45,
    "start_time": "2023-09-10T09:14:18.133Z"
   },
   {
    "duration": 1075,
    "start_time": "2023-09-10T09:14:18.180Z"
   },
   {
    "duration": 55,
    "start_time": "2023-09-10T09:14:19.258Z"
   },
   {
    "duration": 27,
    "start_time": "2023-09-10T09:14:19.315Z"
   },
   {
    "duration": 20,
    "start_time": "2023-09-10T09:14:19.344Z"
   },
   {
    "duration": 190,
    "start_time": "2023-09-10T09:14:19.366Z"
   },
   {
    "duration": 4,
    "start_time": "2023-09-10T09:14:19.558Z"
   },
   {
    "duration": 83,
    "start_time": "2023-09-10T09:14:19.563Z"
   },
   {
    "duration": 55,
    "start_time": "2023-09-10T09:14:19.648Z"
   },
   {
    "duration": 31,
    "start_time": "2023-09-10T09:14:19.705Z"
   },
   {
    "duration": 19,
    "start_time": "2023-09-10T09:14:19.738Z"
   },
   {
    "duration": 208101,
    "start_time": "2023-09-10T09:14:19.762Z"
   },
   {
    "duration": 32521,
    "start_time": "2023-09-10T09:17:47.865Z"
   },
   {
    "duration": 314,
    "start_time": "2023-09-10T09:18:20.388Z"
   },
   {
    "duration": 133,
    "start_time": "2023-09-10T09:18:20.704Z"
   },
   {
    "duration": 604,
    "start_time": "2023-09-10T09:18:20.839Z"
   },
   {
    "duration": 82,
    "start_time": "2023-09-10T09:18:21.445Z"
   },
   {
    "duration": 5,
    "start_time": "2023-09-10T09:18:21.528Z"
   },
   {
    "duration": 71,
    "start_time": "2023-09-10T09:18:21.535Z"
   },
   {
    "duration": 27,
    "start_time": "2023-09-10T09:18:21.608Z"
   },
   {
    "duration": 25,
    "start_time": "2023-09-10T09:18:21.636Z"
   },
   {
    "duration": 26,
    "start_time": "2023-09-10T09:18:21.663Z"
   },
   {
    "duration": 7,
    "start_time": "2023-09-10T09:18:21.690Z"
   },
   {
    "duration": 6,
    "start_time": "2023-09-10T09:18:21.699Z"
   },
   {
    "duration": 13,
    "start_time": "2023-09-10T09:18:21.706Z"
   },
   {
    "duration": 13,
    "start_time": "2023-09-10T09:18:21.721Z"
   },
   {
    "duration": 160,
    "start_time": "2023-09-10T09:18:21.735Z"
   },
   {
    "duration": 0,
    "start_time": "2023-09-10T09:18:21.900Z"
   },
   {
    "duration": 0,
    "start_time": "2023-09-10T09:18:21.902Z"
   },
   {
    "duration": 0,
    "start_time": "2023-09-10T09:18:21.903Z"
   },
   {
    "duration": 0,
    "start_time": "2023-09-10T09:18:21.903Z"
   },
   {
    "duration": 0,
    "start_time": "2023-09-10T09:18:21.904Z"
   },
   {
    "duration": 4465,
    "start_time": "2023-09-10T09:34:00.031Z"
   },
   {
    "duration": 15,
    "start_time": "2023-09-10T09:34:04.499Z"
   },
   {
    "duration": 82,
    "start_time": "2023-09-10T09:34:04.516Z"
   },
   {
    "duration": 1079,
    "start_time": "2023-09-10T09:34:04.601Z"
   },
   {
    "duration": 47,
    "start_time": "2023-09-10T09:34:05.683Z"
   },
   {
    "duration": 51,
    "start_time": "2023-09-10T09:34:05.731Z"
   },
   {
    "duration": 126,
    "start_time": "2023-09-10T09:34:05.784Z"
   },
   {
    "duration": 196,
    "start_time": "2023-09-10T09:34:05.912Z"
   },
   {
    "duration": 3,
    "start_time": "2023-09-10T09:34:06.111Z"
   },
   {
    "duration": 33,
    "start_time": "2023-09-10T09:34:06.116Z"
   },
   {
    "duration": 57,
    "start_time": "2023-09-10T09:34:06.151Z"
   },
   {
    "duration": 44,
    "start_time": "2023-09-10T09:34:06.211Z"
   },
   {
    "duration": 31,
    "start_time": "2023-09-10T09:34:06.258Z"
   },
   {
    "duration": 209739,
    "start_time": "2023-09-10T09:34:06.294Z"
   },
   {
    "duration": 34027,
    "start_time": "2023-09-10T09:37:36.036Z"
   },
   {
    "duration": 308,
    "start_time": "2023-09-10T09:38:10.064Z"
   },
   {
    "duration": 122,
    "start_time": "2023-09-10T09:38:10.374Z"
   },
   {
    "duration": 608,
    "start_time": "2023-09-10T09:38:10.502Z"
   },
   {
    "duration": 70,
    "start_time": "2023-09-10T09:38:11.111Z"
   },
   {
    "duration": 21,
    "start_time": "2023-09-10T09:38:11.183Z"
   },
   {
    "duration": 25,
    "start_time": "2023-09-10T09:38:11.207Z"
   },
   {
    "duration": 16,
    "start_time": "2023-09-10T09:38:11.233Z"
   },
   {
    "duration": 9,
    "start_time": "2023-09-10T09:38:11.251Z"
   },
   {
    "duration": 26,
    "start_time": "2023-09-10T09:38:11.261Z"
   },
   {
    "duration": 11,
    "start_time": "2023-09-10T09:38:11.289Z"
   },
   {
    "duration": 21,
    "start_time": "2023-09-10T09:38:11.302Z"
   },
   {
    "duration": 23,
    "start_time": "2023-09-10T09:38:11.325Z"
   },
   {
    "duration": 12,
    "start_time": "2023-09-10T09:38:11.350Z"
   },
   {
    "duration": 2619938,
    "start_time": "2023-09-10T09:38:11.364Z"
   },
   {
    "duration": 1595348,
    "start_time": "2023-09-10T10:21:51.310Z"
   },
   {
    "duration": 16758765,
    "start_time": "2023-09-10T10:48:26.660Z"
   },
   {
    "duration": 32,
    "start_time": "2023-09-10T15:27:45.427Z"
   },
   {
    "duration": 23,
    "start_time": "2023-09-10T15:27:45.461Z"
   },
   {
    "duration": 2781,
    "start_time": "2023-09-10T15:27:45.486Z"
   },
   {
    "duration": 2421,
    "start_time": "2023-09-10T16:31:30.840Z"
   },
   {
    "duration": 7,
    "start_time": "2023-09-10T16:31:39.640Z"
   },
   {
    "duration": 1878,
    "start_time": "2023-09-10T16:36:30.369Z"
   },
   {
    "duration": 2930,
    "start_time": "2023-09-10T16:36:37.124Z"
   },
   {
    "duration": 1942,
    "start_time": "2023-09-10T16:36:50.710Z"
   },
   {
    "duration": 164,
    "start_time": "2023-09-10T16:37:38.357Z"
   },
   {
    "duration": 2226,
    "start_time": "2023-09-10T16:37:48.041Z"
   },
   {
    "duration": 12,
    "start_time": "2023-09-10T16:37:56.639Z"
   },
   {
    "duration": 5,
    "start_time": "2023-09-10T16:38:11.839Z"
   },
   {
    "duration": 11,
    "start_time": "2023-09-10T16:38:20.670Z"
   },
   {
    "duration": 11,
    "start_time": "2023-09-10T16:38:25.058Z"
   },
   {
    "duration": 5,
    "start_time": "2023-09-10T16:38:31.999Z"
   },
   {
    "duration": 18,
    "start_time": "2023-09-10T16:39:57.099Z"
   },
   {
    "duration": 1728,
    "start_time": "2023-09-10T16:40:05.411Z"
   },
   {
    "duration": 86,
    "start_time": "2023-09-10T16:40:38.899Z"
   },
   {
    "duration": 6,
    "start_time": "2023-09-10T16:41:04.990Z"
   },
   {
    "duration": 3099,
    "start_time": "2023-09-10T16:44:12.712Z"
   },
   {
    "duration": 139,
    "start_time": "2023-09-10T16:44:15.813Z"
   },
   {
    "duration": 3270,
    "start_time": "2023-09-10T16:46:15.960Z"
   },
   {
    "duration": 1971,
    "start_time": "2023-09-10T16:46:25.739Z"
   },
   {
    "duration": 2753,
    "start_time": "2023-09-10T16:46:47.182Z"
   },
   {
    "duration": 5715,
    "start_time": "2023-09-10T16:53:15.318Z"
   },
   {
    "duration": 12,
    "start_time": "2023-09-10T16:53:21.035Z"
   },
   {
    "duration": 18,
    "start_time": "2023-09-10T16:53:21.049Z"
   },
   {
    "duration": 2582,
    "start_time": "2023-09-10T16:53:21.069Z"
   },
   {
    "duration": 42,
    "start_time": "2023-09-10T16:53:23.654Z"
   },
   {
    "duration": 16,
    "start_time": "2023-09-10T16:53:23.698Z"
   },
   {
    "duration": 25,
    "start_time": "2023-09-10T16:53:23.715Z"
   },
   {
    "duration": 187,
    "start_time": "2023-09-10T16:53:23.742Z"
   },
   {
    "duration": 2,
    "start_time": "2023-09-10T16:53:23.931Z"
   },
   {
    "duration": 21,
    "start_time": "2023-09-10T16:53:23.935Z"
   },
   {
    "duration": 36,
    "start_time": "2023-09-10T16:53:23.958Z"
   },
   {
    "duration": 27,
    "start_time": "2023-09-10T16:53:23.996Z"
   },
   {
    "duration": 18,
    "start_time": "2023-09-10T16:53:24.025Z"
   },
   {
    "duration": 207273,
    "start_time": "2023-09-10T16:53:24.047Z"
   },
   {
    "duration": 33260,
    "start_time": "2023-09-10T16:56:51.323Z"
   },
   {
    "duration": 376,
    "start_time": "2023-09-10T16:57:24.585Z"
   },
   {
    "duration": 2068,
    "start_time": "2023-09-10T16:57:24.963Z"
   },
   {
    "duration": 0,
    "start_time": "2023-09-10T16:57:27.033Z"
   },
   {
    "duration": 0,
    "start_time": "2023-09-10T16:57:27.035Z"
   },
   {
    "duration": 0,
    "start_time": "2023-09-10T16:57:27.356Z"
   },
   {
    "duration": 0,
    "start_time": "2023-09-10T16:57:27.357Z"
   },
   {
    "duration": 0,
    "start_time": "2023-09-10T16:57:27.359Z"
   },
   {
    "duration": 0,
    "start_time": "2023-09-10T16:57:27.360Z"
   },
   {
    "duration": 0,
    "start_time": "2023-09-10T16:57:27.361Z"
   },
   {
    "duration": 0,
    "start_time": "2023-09-10T16:57:27.363Z"
   },
   {
    "duration": 0,
    "start_time": "2023-09-10T16:57:27.364Z"
   },
   {
    "duration": 0,
    "start_time": "2023-09-10T16:57:27.366Z"
   },
   {
    "duration": 0,
    "start_time": "2023-09-10T16:57:27.368Z"
   },
   {
    "duration": 1,
    "start_time": "2023-09-10T16:57:27.369Z"
   },
   {
    "duration": 0,
    "start_time": "2023-09-10T16:57:27.371Z"
   },
   {
    "duration": 0,
    "start_time": "2023-09-10T16:57:27.402Z"
   },
   {
    "duration": 0,
    "start_time": "2023-09-10T16:57:27.404Z"
   },
   {
    "duration": 0,
    "start_time": "2023-09-10T16:57:27.405Z"
   },
   {
    "duration": 0,
    "start_time": "2023-09-10T16:57:27.407Z"
   },
   {
    "duration": 0,
    "start_time": "2023-09-10T16:57:27.408Z"
   },
   {
    "duration": 0,
    "start_time": "2023-09-10T16:57:27.410Z"
   },
   {
    "duration": 2264,
    "start_time": "2023-09-10T17:02:43.864Z"
   },
   {
    "duration": 125,
    "start_time": "2023-09-10T17:02:49.513Z"
   },
   {
    "duration": 108,
    "start_time": "2023-09-10T17:02:49.803Z"
   },
   {
    "duration": 874,
    "start_time": "2023-09-10T17:02:50.294Z"
   },
   {
    "duration": 68,
    "start_time": "2023-09-10T17:02:51.263Z"
   },
   {
    "duration": 4,
    "start_time": "2023-09-10T17:02:51.866Z"
   },
   {
    "duration": 5,
    "start_time": "2023-09-10T17:02:52.274Z"
   },
   {
    "duration": 4,
    "start_time": "2023-09-10T17:02:52.434Z"
   },
   {
    "duration": 4,
    "start_time": "2023-09-10T17:02:52.614Z"
   },
   {
    "duration": 4,
    "start_time": "2023-09-10T17:02:52.773Z"
   },
   {
    "duration": 4,
    "start_time": "2023-09-10T17:02:52.994Z"
   },
   {
    "duration": 7,
    "start_time": "2023-09-10T17:02:53.425Z"
   },
   {
    "duration": 3,
    "start_time": "2023-09-10T17:02:54.437Z"
   },
   {
    "duration": 2,
    "start_time": "2023-09-10T17:02:55.022Z"
   },
   {
    "duration": 18,
    "start_time": "2023-09-10T17:02:55.360Z"
   },
   {
    "duration": 2397,
    "start_time": "2023-09-10T17:04:25.767Z"
   },
   {
    "duration": 6,
    "start_time": "2023-09-10T17:04:45.935Z"
   },
   {
    "duration": 4,
    "start_time": "2023-09-10T17:04:46.573Z"
   },
   {
    "duration": 3,
    "start_time": "2023-09-10T17:04:47.834Z"
   },
   {
    "duration": 130,
    "start_time": "2023-09-10T17:04:48.282Z"
   },
   {
    "duration": 6,
    "start_time": "2023-09-10T17:13:25.246Z"
   },
   {
    "duration": 4,
    "start_time": "2023-09-10T17:13:26.224Z"
   },
   {
    "duration": 3,
    "start_time": "2023-09-10T17:13:27.632Z"
   },
   {
    "duration": 18,
    "start_time": "2023-09-10T17:13:29.243Z"
   },
   {
    "duration": 6,
    "start_time": "2023-09-10T17:13:54.672Z"
   },
   {
    "duration": 4,
    "start_time": "2023-09-10T17:13:55.023Z"
   },
   {
    "duration": 3,
    "start_time": "2023-09-10T17:13:56.004Z"
   },
   {
    "duration": 67,
    "start_time": "2023-09-10T17:13:56.182Z"
   },
   {
    "duration": 6,
    "start_time": "2023-09-10T17:15:18.566Z"
   },
   {
    "duration": 3,
    "start_time": "2023-09-10T17:15:19.003Z"
   },
   {
    "duration": 3,
    "start_time": "2023-09-10T17:15:19.564Z"
   },
   {
    "duration": 135,
    "start_time": "2023-09-10T17:15:19.823Z"
   },
   {
    "duration": 7,
    "start_time": "2023-09-10T17:18:46.326Z"
   },
   {
    "duration": 4,
    "start_time": "2023-09-10T17:18:47.492Z"
   },
   {
    "duration": 3,
    "start_time": "2023-09-10T17:18:48.229Z"
   },
   {
    "duration": 20,
    "start_time": "2023-09-10T17:18:48.446Z"
   },
   {
    "duration": 7,
    "start_time": "2023-09-10T17:21:03.577Z"
   },
   {
    "duration": 4,
    "start_time": "2023-09-10T17:21:04.543Z"
   },
   {
    "duration": 3,
    "start_time": "2023-09-10T17:21:05.291Z"
   },
   {
    "duration": 41,
    "start_time": "2023-09-10T17:21:05.765Z"
   },
   {
    "duration": 7,
    "start_time": "2023-09-10T17:21:41.257Z"
   },
   {
    "duration": 4,
    "start_time": "2023-09-10T17:21:41.819Z"
   },
   {
    "duration": 3,
    "start_time": "2023-09-10T17:21:42.183Z"
   },
   {
    "duration": 42,
    "start_time": "2023-09-10T17:21:42.385Z"
   },
   {
    "duration": 82,
    "start_time": "2023-09-10T17:23:55.501Z"
   },
   {
    "duration": 4,
    "start_time": "2023-09-10T17:23:55.871Z"
   },
   {
    "duration": 3,
    "start_time": "2023-09-10T17:23:56.237Z"
   },
   {
    "duration": 40,
    "start_time": "2023-09-10T17:23:56.615Z"
   },
   {
    "duration": 74,
    "start_time": "2023-09-10T17:27:56.131Z"
   },
   {
    "duration": 4,
    "start_time": "2023-09-10T17:27:56.803Z"
   },
   {
    "duration": 2,
    "start_time": "2023-09-10T17:27:57.265Z"
   },
   {
    "duration": 40,
    "start_time": "2023-09-10T17:27:57.585Z"
   },
   {
    "duration": 101,
    "start_time": "2023-09-10T17:28:14.966Z"
   },
   {
    "duration": 6,
    "start_time": "2023-09-10T17:28:15.885Z"
   },
   {
    "duration": 4,
    "start_time": "2023-09-10T17:28:16.761Z"
   },
   {
    "duration": 5,
    "start_time": "2023-09-10T17:28:16.965Z"
   },
   {
    "duration": 5,
    "start_time": "2023-09-10T17:28:17.202Z"
   },
   {
    "duration": 5,
    "start_time": "2023-09-10T17:28:17.423Z"
   },
   {
    "duration": 4,
    "start_time": "2023-09-10T17:28:17.631Z"
   },
   {
    "duration": 78,
    "start_time": "2023-09-10T17:28:17.904Z"
   },
   {
    "duration": 4,
    "start_time": "2023-09-10T17:28:18.831Z"
   },
   {
    "duration": 2,
    "start_time": "2023-09-10T17:28:19.505Z"
   },
   {
    "duration": 42,
    "start_time": "2023-09-10T17:28:19.804Z"
   },
   {
    "duration": 7,
    "start_time": "2023-09-10T17:38:49.466Z"
   },
   {
    "duration": 4,
    "start_time": "2023-09-10T17:38:50.524Z"
   },
   {
    "duration": 3,
    "start_time": "2023-09-10T17:38:51.172Z"
   },
   {
    "duration": 385,
    "start_time": "2023-09-10T17:38:51.426Z"
   },
   {
    "duration": 9,
    "start_time": "2023-09-10T17:39:46.349Z"
   },
   {
    "duration": 5,
    "start_time": "2023-09-10T17:39:46.673Z"
   },
   {
    "duration": 3,
    "start_time": "2023-09-10T17:39:46.875Z"
   },
   {
    "duration": 26,
    "start_time": "2023-09-10T17:39:47.472Z"
   },
   {
    "duration": 7,
    "start_time": "2023-09-10T17:40:30.145Z"
   },
   {
    "duration": 6,
    "start_time": "2023-09-10T17:40:30.984Z"
   },
   {
    "duration": 3,
    "start_time": "2023-09-10T17:40:31.725Z"
   },
   {
    "duration": 7545,
    "start_time": "2023-09-10T17:40:31.904Z"
   },
   {
    "duration": 8,
    "start_time": "2023-09-10T17:41:31.311Z"
   },
   {
    "duration": 4,
    "start_time": "2023-09-10T17:41:31.676Z"
   },
   {
    "duration": 3,
    "start_time": "2023-09-10T17:41:32.225Z"
   },
   {
    "duration": 21,
    "start_time": "2023-09-10T17:41:32.492Z"
   },
   {
    "duration": 8,
    "start_time": "2023-09-10T17:44:03.987Z"
   },
   {
    "duration": 4,
    "start_time": "2023-09-10T17:44:04.567Z"
   },
   {
    "duration": 3,
    "start_time": "2023-09-10T17:44:05.049Z"
   },
   {
    "duration": 26,
    "start_time": "2023-09-10T17:44:05.360Z"
   },
   {
    "duration": 7,
    "start_time": "2023-09-10T17:44:42.786Z"
   },
   {
    "duration": 5,
    "start_time": "2023-09-10T17:44:43.286Z"
   },
   {
    "duration": 3,
    "start_time": "2023-09-10T17:44:43.664Z"
   },
   {
    "duration": 92,
    "start_time": "2023-09-10T17:44:44.143Z"
   },
   {
    "duration": 6,
    "start_time": "2023-09-10T17:46:37.085Z"
   },
   {
    "duration": 5,
    "start_time": "2023-09-10T17:46:37.731Z"
   },
   {
    "duration": 4,
    "start_time": "2023-09-10T17:46:38.084Z"
   },
   {
    "duration": 84,
    "start_time": "2023-09-10T17:46:38.424Z"
   },
   {
    "duration": 7,
    "start_time": "2023-09-10T17:47:49.152Z"
   },
   {
    "duration": 4,
    "start_time": "2023-09-10T17:47:49.731Z"
   },
   {
    "duration": 3,
    "start_time": "2023-09-10T17:47:49.928Z"
   },
   {
    "duration": 19,
    "start_time": "2023-09-10T17:47:50.488Z"
   },
   {
    "duration": 7,
    "start_time": "2023-09-10T17:49:02.384Z"
   },
   {
    "duration": 5,
    "start_time": "2023-09-10T17:49:08.523Z"
   },
   {
    "duration": 3,
    "start_time": "2023-09-10T17:49:08.927Z"
   },
   {
    "duration": 20,
    "start_time": "2023-09-10T17:49:09.386Z"
   },
   {
    "duration": 6,
    "start_time": "2023-09-10T17:49:35.845Z"
   },
   {
    "duration": 4,
    "start_time": "2023-09-10T17:49:36.424Z"
   },
   {
    "duration": 3,
    "start_time": "2023-09-10T17:49:37.220Z"
   },
   {
    "duration": 70,
    "start_time": "2023-09-10T17:49:37.605Z"
   },
   {
    "duration": 7,
    "start_time": "2023-09-10T17:50:24.384Z"
   },
   {
    "duration": 3,
    "start_time": "2023-09-10T17:50:24.974Z"
   },
   {
    "duration": 3,
    "start_time": "2023-09-10T17:50:25.584Z"
   },
   {
    "duration": 64,
    "start_time": "2023-09-10T17:50:25.784Z"
   },
   {
    "duration": 9,
    "start_time": "2023-09-10T17:51:59.605Z"
   },
   {
    "duration": 4,
    "start_time": "2023-09-10T17:52:00.273Z"
   },
   {
    "duration": 3,
    "start_time": "2023-09-10T17:52:00.912Z"
   },
   {
    "duration": 18,
    "start_time": "2023-09-10T17:52:01.146Z"
   },
   {
    "duration": 6,
    "start_time": "2023-09-10T17:52:34.325Z"
   },
   {
    "duration": 4,
    "start_time": "2023-09-10T17:52:34.943Z"
   },
   {
    "duration": 3,
    "start_time": "2023-09-10T17:52:35.523Z"
   },
   {
    "duration": 68,
    "start_time": "2023-09-10T17:52:36.044Z"
   },
   {
    "duration": 9,
    "start_time": "2023-09-10T17:53:21.746Z"
   },
   {
    "duration": 3,
    "start_time": "2023-09-10T17:53:22.264Z"
   },
   {
    "duration": 3,
    "start_time": "2023-09-10T17:53:22.672Z"
   },
   {
    "duration": 89,
    "start_time": "2023-09-10T17:53:22.983Z"
   },
   {
    "duration": 6,
    "start_time": "2023-09-10T17:54:18.872Z"
   },
   {
    "duration": 3,
    "start_time": "2023-09-10T17:54:19.407Z"
   },
   {
    "duration": 3,
    "start_time": "2023-09-10T17:54:19.905Z"
   },
   {
    "duration": 23,
    "start_time": "2023-09-10T17:54:20.245Z"
   },
   {
    "duration": 17,
    "start_time": "2023-09-10T17:55:17.773Z"
   },
   {
    "duration": 928,
    "start_time": "2023-09-10T17:55:33.086Z"
   },
   {
    "duration": 1341,
    "start_time": "2023-09-10T17:56:02.833Z"
   },
   {
    "duration": 1004,
    "start_time": "2023-09-10T17:56:33.570Z"
   },
   {
    "duration": 11,
    "start_time": "2023-09-10T17:56:40.445Z"
   },
   {
    "duration": 5,
    "start_time": "2023-09-10T17:56:53.318Z"
   },
   {
    "duration": 961,
    "start_time": "2023-09-10T17:57:45.966Z"
   },
   {
    "duration": 52,
    "start_time": "2023-09-10T17:57:51.144Z"
   },
   {
    "duration": 7,
    "start_time": "2023-09-10T17:57:55.144Z"
   },
   {
    "duration": 6,
    "start_time": "2023-09-10T17:58:15.635Z"
   },
   {
    "duration": 4,
    "start_time": "2023-09-10T17:58:16.512Z"
   },
   {
    "duration": 3,
    "start_time": "2023-09-10T17:58:17.115Z"
   },
   {
    "duration": 157564,
    "start_time": "2023-09-10T17:58:17.373Z"
   },
   {
    "duration": 263,
    "start_time": "2023-09-10T18:01:36.692Z"
   },
   {
    "duration": 83,
    "start_time": "2023-09-10T18:02:56.843Z"
   },
   {
    "duration": 63735,
    "start_time": "2023-09-10T18:03:19.874Z"
   },
   {
    "duration": 4523,
    "start_time": "2023-09-10T18:04:43.963Z"
   },
   {
    "duration": 18,
    "start_time": "2023-09-10T18:04:48.488Z"
   },
   {
    "duration": 20,
    "start_time": "2023-09-10T18:04:48.508Z"
   },
   {
    "duration": 1027,
    "start_time": "2023-09-10T18:04:48.531Z"
   },
   {
    "duration": 48,
    "start_time": "2023-09-10T18:04:49.561Z"
   },
   {
    "duration": 13,
    "start_time": "2023-09-10T18:04:49.611Z"
   },
   {
    "duration": 14,
    "start_time": "2023-09-10T18:04:49.625Z"
   },
   {
    "duration": 182,
    "start_time": "2023-09-10T18:04:49.641Z"
   },
   {
    "duration": 2,
    "start_time": "2023-09-10T18:04:49.825Z"
   },
   {
    "duration": 19,
    "start_time": "2023-09-10T18:04:49.829Z"
   },
   {
    "duration": 60,
    "start_time": "2023-09-10T18:04:49.850Z"
   },
   {
    "duration": 20,
    "start_time": "2023-09-10T18:04:49.912Z"
   },
   {
    "duration": 9,
    "start_time": "2023-09-10T18:04:49.934Z"
   },
   {
    "duration": 203771,
    "start_time": "2023-09-10T18:04:49.947Z"
   },
   {
    "duration": 32789,
    "start_time": "2023-09-10T18:08:13.720Z"
   },
   {
    "duration": 298,
    "start_time": "2023-09-10T18:08:46.511Z"
   },
   {
    "duration": 1779,
    "start_time": "2023-09-10T18:08:46.811Z"
   },
   {
    "duration": 409,
    "start_time": "2023-09-10T18:08:48.592Z"
   },
   {
    "duration": 133,
    "start_time": "2023-09-10T18:08:49.003Z"
   },
   {
    "duration": 596,
    "start_time": "2023-09-10T18:08:49.137Z"
   },
   {
    "duration": 91,
    "start_time": "2023-09-10T18:08:49.734Z"
   },
   {
    "duration": 5,
    "start_time": "2023-09-10T18:08:49.827Z"
   },
   {
    "duration": 14,
    "start_time": "2023-09-10T18:08:49.833Z"
   },
   {
    "duration": 9,
    "start_time": "2023-09-10T18:08:49.849Z"
   },
   {
    "duration": 18,
    "start_time": "2023-09-10T18:08:49.860Z"
   },
   {
    "duration": 8,
    "start_time": "2023-09-10T18:08:49.880Z"
   },
   {
    "duration": 25,
    "start_time": "2023-09-10T18:08:49.890Z"
   },
   {
    "duration": 27,
    "start_time": "2023-09-10T18:08:49.917Z"
   },
   {
    "duration": 18,
    "start_time": "2023-09-10T18:08:49.946Z"
   },
   {
    "duration": 21,
    "start_time": "2023-09-10T18:08:49.967Z"
   },
   {
    "duration": 6495302,
    "start_time": "2023-09-10T18:08:49.990Z"
   },
   {
    "duration": 0,
    "start_time": "2023-09-10T19:57:05.302Z"
   },
   {
    "duration": 0,
    "start_time": "2023-09-10T19:57:05.303Z"
   },
   {
    "duration": 0,
    "start_time": "2023-09-10T19:57:05.304Z"
   },
   {
    "duration": 0,
    "start_time": "2023-09-10T19:57:05.305Z"
   },
   {
    "duration": 0,
    "start_time": "2023-09-10T19:57:05.306Z"
   },
   {
    "duration": 3936513,
    "start_time": "2023-09-10T20:12:38.369Z"
   },
   {
    "duration": 0,
    "start_time": "2023-09-10T21:18:14.883Z"
   },
   {
    "duration": 0,
    "start_time": "2023-09-10T21:18:14.885Z"
   },
   {
    "duration": 0,
    "start_time": "2023-09-10T21:18:14.886Z"
   },
   {
    "duration": 0,
    "start_time": "2023-09-10T21:18:14.887Z"
   },
   {
    "duration": 0,
    "start_time": "2023-09-10T21:18:14.902Z"
   },
   {
    "duration": 9854,
    "start_time": "2023-09-11T03:57:38.158Z"
   },
   {
    "duration": 0,
    "start_time": "2023-09-11T03:57:48.014Z"
   },
   {
    "duration": 0,
    "start_time": "2023-09-11T03:57:48.016Z"
   },
   {
    "duration": 0,
    "start_time": "2023-09-11T03:57:48.017Z"
   },
   {
    "duration": 0,
    "start_time": "2023-09-11T03:57:48.018Z"
   },
   {
    "duration": 0,
    "start_time": "2023-09-11T03:57:48.019Z"
   },
   {
    "duration": 0,
    "start_time": "2023-09-11T03:57:48.020Z"
   },
   {
    "duration": 0,
    "start_time": "2023-09-11T03:57:48.021Z"
   },
   {
    "duration": 0,
    "start_time": "2023-09-11T03:57:48.023Z"
   },
   {
    "duration": 0,
    "start_time": "2023-09-11T03:57:48.023Z"
   },
   {
    "duration": 0,
    "start_time": "2023-09-11T03:57:48.024Z"
   },
   {
    "duration": 0,
    "start_time": "2023-09-11T03:57:48.025Z"
   },
   {
    "duration": 0,
    "start_time": "2023-09-11T03:57:48.026Z"
   },
   {
    "duration": 0,
    "start_time": "2023-09-11T03:57:48.027Z"
   },
   {
    "duration": 0,
    "start_time": "2023-09-11T03:57:48.028Z"
   },
   {
    "duration": 0,
    "start_time": "2023-09-11T03:57:48.029Z"
   },
   {
    "duration": 0,
    "start_time": "2023-09-11T03:57:48.030Z"
   },
   {
    "duration": 0,
    "start_time": "2023-09-11T03:57:48.031Z"
   },
   {
    "duration": 0,
    "start_time": "2023-09-11T03:57:48.032Z"
   },
   {
    "duration": 0,
    "start_time": "2023-09-11T03:57:48.033Z"
   },
   {
    "duration": 0,
    "start_time": "2023-09-11T03:57:48.034Z"
   },
   {
    "duration": 0,
    "start_time": "2023-09-11T03:57:48.035Z"
   },
   {
    "duration": 0,
    "start_time": "2023-09-11T03:57:48.036Z"
   },
   {
    "duration": 0,
    "start_time": "2023-09-11T03:57:48.037Z"
   },
   {
    "duration": 0,
    "start_time": "2023-09-11T03:57:48.038Z"
   },
   {
    "duration": 0,
    "start_time": "2023-09-11T03:57:48.039Z"
   },
   {
    "duration": 0,
    "start_time": "2023-09-11T03:57:48.040Z"
   },
   {
    "duration": 0,
    "start_time": "2023-09-11T03:57:48.041Z"
   },
   {
    "duration": 0,
    "start_time": "2023-09-11T03:57:48.042Z"
   },
   {
    "duration": 0,
    "start_time": "2023-09-11T03:57:48.043Z"
   },
   {
    "duration": 0,
    "start_time": "2023-09-11T03:57:48.043Z"
   },
   {
    "duration": 0,
    "start_time": "2023-09-11T03:57:48.044Z"
   },
   {
    "duration": 0,
    "start_time": "2023-09-11T03:57:48.045Z"
   },
   {
    "duration": 0,
    "start_time": "2023-09-11T03:57:48.046Z"
   },
   {
    "duration": 0,
    "start_time": "2023-09-11T03:57:48.102Z"
   },
   {
    "duration": 0,
    "start_time": "2023-09-11T03:57:48.103Z"
   },
   {
    "duration": 4205,
    "start_time": "2023-09-11T04:00:15.544Z"
   },
   {
    "duration": 11,
    "start_time": "2023-09-11T04:00:19.751Z"
   },
   {
    "duration": 26,
    "start_time": "2023-09-11T04:00:19.763Z"
   },
   {
    "duration": 2419,
    "start_time": "2023-09-11T04:00:19.791Z"
   },
   {
    "duration": 40,
    "start_time": "2023-09-11T04:00:22.212Z"
   },
   {
    "duration": 19,
    "start_time": "2023-09-11T04:00:22.253Z"
   },
   {
    "duration": 6,
    "start_time": "2023-09-11T04:00:22.274Z"
   },
   {
    "duration": 163,
    "start_time": "2023-09-11T04:00:22.282Z"
   },
   {
    "duration": 3,
    "start_time": "2023-09-11T04:00:22.447Z"
   },
   {
    "duration": 29,
    "start_time": "2023-09-11T04:00:22.451Z"
   },
   {
    "duration": 8,
    "start_time": "2023-09-11T04:00:22.482Z"
   },
   {
    "duration": 13,
    "start_time": "2023-09-11T04:00:22.492Z"
   },
   {
    "duration": 9,
    "start_time": "2023-09-11T04:00:22.506Z"
   },
   {
    "duration": 2964,
    "start_time": "2023-09-11T04:00:22.517Z"
   },
   {
    "duration": 1544,
    "start_time": "2023-09-11T04:00:25.483Z"
   },
   {
    "duration": 10,
    "start_time": "2023-09-11T04:00:27.030Z"
   },
   {
    "duration": 18,
    "start_time": "2023-09-11T04:00:27.042Z"
   },
   {
    "duration": 26,
    "start_time": "2023-09-11T04:00:27.062Z"
   },
   {
    "duration": 23,
    "start_time": "2023-09-11T04:00:27.090Z"
   },
   {
    "duration": 830,
    "start_time": "2023-09-11T04:00:27.115Z"
   },
   {
    "duration": 8,
    "start_time": "2023-09-11T04:00:27.947Z"
   },
   {
    "duration": 12,
    "start_time": "2023-09-11T04:00:27.957Z"
   },
   {
    "duration": 6,
    "start_time": "2023-09-11T04:00:28.000Z"
   },
   {
    "duration": 11,
    "start_time": "2023-09-11T04:00:28.007Z"
   },
   {
    "duration": 27,
    "start_time": "2023-09-11T04:00:28.019Z"
   },
   {
    "duration": 17,
    "start_time": "2023-09-11T04:00:28.048Z"
   },
   {
    "duration": 19,
    "start_time": "2023-09-11T04:00:28.067Z"
   },
   {
    "duration": 9,
    "start_time": "2023-09-11T04:00:28.088Z"
   },
   {
    "duration": 23,
    "start_time": "2023-09-11T04:00:28.099Z"
   },
   {
    "duration": 18,
    "start_time": "2023-09-11T04:00:28.124Z"
   },
   {
    "duration": 186,
    "start_time": "2023-09-11T04:00:28.143Z"
   },
   {
    "duration": 1,
    "start_time": "2023-09-11T04:00:28.330Z"
   },
   {
    "duration": 0,
    "start_time": "2023-09-11T04:00:28.332Z"
   },
   {
    "duration": 0,
    "start_time": "2023-09-11T04:00:28.333Z"
   },
   {
    "duration": 0,
    "start_time": "2023-09-11T04:00:28.334Z"
   },
   {
    "duration": 0,
    "start_time": "2023-09-11T04:00:28.335Z"
   },
   {
    "duration": 53,
    "start_time": "2023-09-11T04:00:54.758Z"
   },
   {
    "duration": 51,
    "start_time": "2023-09-11T04:01:07.272Z"
   },
   {
    "duration": 6,
    "start_time": "2023-09-11T04:01:36.815Z"
   },
   {
    "duration": 4,
    "start_time": "2023-09-11T04:01:38.166Z"
   },
   {
    "duration": 3,
    "start_time": "2023-09-11T04:01:38.707Z"
   },
   {
    "duration": 653,
    "start_time": "2023-09-11T04:01:42.589Z"
   },
   {
    "duration": 50665,
    "start_time": "2023-09-11T04:02:22.097Z"
   },
   {
    "duration": 4185,
    "start_time": "2023-09-11T04:07:25.260Z"
   },
   {
    "duration": 14,
    "start_time": "2023-09-11T04:07:29.447Z"
   },
   {
    "duration": 29,
    "start_time": "2023-09-11T04:07:29.463Z"
   },
   {
    "duration": 984,
    "start_time": "2023-09-11T04:07:29.494Z"
   },
   {
    "duration": 50,
    "start_time": "2023-09-11T04:07:30.480Z"
   },
   {
    "duration": 95,
    "start_time": "2023-09-11T04:07:30.532Z"
   },
   {
    "duration": 47,
    "start_time": "2023-09-11T04:07:30.629Z"
   },
   {
    "duration": 243,
    "start_time": "2023-09-11T04:07:30.678Z"
   },
   {
    "duration": 3,
    "start_time": "2023-09-11T04:07:30.923Z"
   },
   {
    "duration": 91,
    "start_time": "2023-09-11T04:07:30.929Z"
   },
   {
    "duration": 172,
    "start_time": "2023-09-11T04:07:31.022Z"
   },
   {
    "duration": 98,
    "start_time": "2023-09-11T04:07:31.196Z"
   },
   {
    "duration": 52,
    "start_time": "2023-09-11T04:07:31.296Z"
   },
   {
    "duration": 3066,
    "start_time": "2023-09-11T04:07:31.350Z"
   },
   {
    "duration": 1573,
    "start_time": "2023-09-11T04:07:34.418Z"
   },
   {
    "duration": 12,
    "start_time": "2023-09-11T04:07:35.993Z"
   },
   {
    "duration": 39,
    "start_time": "2023-09-11T04:07:36.007Z"
   },
   {
    "duration": 46,
    "start_time": "2023-09-11T04:07:36.047Z"
   },
   {
    "duration": 28,
    "start_time": "2023-09-11T04:07:36.094Z"
   },
   {
    "duration": 797,
    "start_time": "2023-09-11T04:07:36.123Z"
   },
   {
    "duration": 8,
    "start_time": "2023-09-11T04:07:36.922Z"
   },
   {
    "duration": 38,
    "start_time": "2023-09-11T04:07:36.932Z"
   },
   {
    "duration": 19,
    "start_time": "2023-09-11T04:07:36.973Z"
   },
   {
    "duration": 57,
    "start_time": "2023-09-11T04:07:36.994Z"
   },
   {
    "duration": 29,
    "start_time": "2023-09-11T04:07:37.053Z"
   },
   {
    "duration": 29,
    "start_time": "2023-09-11T04:07:37.084Z"
   },
   {
    "duration": 25,
    "start_time": "2023-09-11T04:07:37.115Z"
   },
   {
    "duration": 48,
    "start_time": "2023-09-11T04:07:37.143Z"
   },
   {
    "duration": 28,
    "start_time": "2023-09-11T04:07:37.192Z"
   },
   {
    "duration": 56,
    "start_time": "2023-09-11T04:07:37.222Z"
   },
   {
    "duration": 60727,
    "start_time": "2023-09-11T04:07:37.280Z"
   },
   {
    "duration": 193,
    "start_time": "2023-09-11T04:08:38.009Z"
   },
   {
    "duration": 0,
    "start_time": "2023-09-11T04:08:38.204Z"
   },
   {
    "duration": 0,
    "start_time": "2023-09-11T04:08:38.206Z"
   },
   {
    "duration": 0,
    "start_time": "2023-09-11T04:08:38.207Z"
   },
   {
    "duration": 0,
    "start_time": "2023-09-11T04:08:38.208Z"
   },
   {
    "duration": 66,
    "start_time": "2023-09-11T04:17:47.282Z"
   },
   {
    "duration": 43033,
    "start_time": "2023-09-11T04:17:47.942Z"
   },
   {
    "duration": 0,
    "start_time": "2023-09-11T04:18:30.979Z"
   },
   {
    "duration": 0,
    "start_time": "2023-09-11T04:18:30.980Z"
   },
   {
    "duration": 0,
    "start_time": "2023-09-11T04:18:30.981Z"
   },
   {
    "duration": 364436,
    "start_time": "2023-09-11T04:18:34.665Z"
   },
   {
    "duration": 86,
    "start_time": "2023-09-11T04:27:04.571Z"
   },
   {
    "duration": 59,
    "start_time": "2023-09-11T04:27:22.808Z"
   },
   {
    "duration": 4,
    "start_time": "2023-09-11T04:27:35.566Z"
   },
   {
    "duration": 49,
    "start_time": "2023-09-11T04:27:40.586Z"
   },
   {
    "duration": 4369,
    "start_time": "2023-09-11T04:28:16.116Z"
   },
   {
    "duration": 18,
    "start_time": "2023-09-11T04:28:20.487Z"
   },
   {
    "duration": 11,
    "start_time": "2023-09-11T04:28:20.506Z"
   },
   {
    "duration": 970,
    "start_time": "2023-09-11T04:28:20.519Z"
   },
   {
    "duration": 45,
    "start_time": "2023-09-11T04:28:21.492Z"
   },
   {
    "duration": 12,
    "start_time": "2023-09-11T04:28:21.539Z"
   },
   {
    "duration": 28,
    "start_time": "2023-09-11T04:28:21.553Z"
   },
   {
    "duration": 163,
    "start_time": "2023-09-11T04:28:21.583Z"
   },
   {
    "duration": 2,
    "start_time": "2023-09-11T04:28:21.748Z"
   },
   {
    "duration": 17,
    "start_time": "2023-09-11T04:28:21.752Z"
   },
   {
    "duration": 8,
    "start_time": "2023-09-11T04:28:21.771Z"
   },
   {
    "duration": 6,
    "start_time": "2023-09-11T04:28:21.781Z"
   },
   {
    "duration": 13,
    "start_time": "2023-09-11T04:28:21.789Z"
   },
   {
    "duration": 204121,
    "start_time": "2023-09-11T04:28:21.805Z"
   },
   {
    "duration": 32110,
    "start_time": "2023-09-11T04:31:45.929Z"
   },
   {
    "duration": 320,
    "start_time": "2023-09-11T04:32:18.041Z"
   },
   {
    "duration": 1797,
    "start_time": "2023-09-11T04:32:18.362Z"
   },
   {
    "duration": 409,
    "start_time": "2023-09-11T04:32:20.161Z"
   },
   {
    "duration": 133,
    "start_time": "2023-09-11T04:32:20.572Z"
   },
   {
    "duration": 585,
    "start_time": "2023-09-11T04:32:20.707Z"
   },
   {
    "duration": 74,
    "start_time": "2023-09-11T04:32:21.294Z"
   },
   {
    "duration": 5,
    "start_time": "2023-09-11T04:32:21.370Z"
   },
   {
    "duration": 52,
    "start_time": "2023-09-11T04:32:21.377Z"
   },
   {
    "duration": 24,
    "start_time": "2023-09-11T04:32:21.431Z"
   },
   {
    "duration": 47,
    "start_time": "2023-09-11T04:32:21.457Z"
   },
   {
    "duration": 42,
    "start_time": "2023-09-11T04:32:21.506Z"
   },
   {
    "duration": 79,
    "start_time": "2023-09-11T04:32:21.550Z"
   },
   {
    "duration": 35,
    "start_time": "2023-09-11T04:32:21.631Z"
   },
   {
    "duration": 62,
    "start_time": "2023-09-11T04:32:21.667Z"
   },
   {
    "duration": 37,
    "start_time": "2023-09-11T04:32:21.731Z"
   },
   {
    "duration": 55642,
    "start_time": "2023-09-11T04:32:21.770Z"
   },
   {
    "duration": 0,
    "start_time": "2023-09-11T04:33:17.415Z"
   },
   {
    "duration": 0,
    "start_time": "2023-09-11T04:33:17.417Z"
   },
   {
    "duration": 0,
    "start_time": "2023-09-11T04:33:17.418Z"
   },
   {
    "duration": 0,
    "start_time": "2023-09-11T04:33:17.419Z"
   },
   {
    "duration": 0,
    "start_time": "2023-09-11T04:33:17.421Z"
   },
   {
    "duration": 7,
    "start_time": "2023-09-11T04:55:33.693Z"
   },
   {
    "duration": 3,
    "start_time": "2023-09-11T04:55:35.609Z"
   },
   {
    "duration": 3,
    "start_time": "2023-09-11T04:55:38.316Z"
   },
   {
    "duration": 55925,
    "start_time": "2023-09-11T04:55:38.967Z"
   },
   {
    "duration": 6,
    "start_time": "2023-09-11T05:00:33.870Z"
   },
   {
    "duration": 4,
    "start_time": "2023-09-11T05:00:40.662Z"
   },
   {
    "duration": 3,
    "start_time": "2023-09-11T05:00:41.942Z"
   },
   {
    "duration": 20,
    "start_time": "2023-09-11T05:00:42.342Z"
   },
   {
    "duration": 7,
    "start_time": "2023-09-11T05:02:36.863Z"
   },
   {
    "duration": 4,
    "start_time": "2023-09-11T05:02:38.851Z"
   },
   {
    "duration": 3,
    "start_time": "2023-09-11T05:02:41.400Z"
   },
   {
    "duration": 0,
    "start_time": "2023-09-11T10:51:09.741Z"
   },
   {
    "duration": 0,
    "start_time": "2023-09-11T10:51:09.744Z"
   },
   {
    "duration": 0,
    "start_time": "2023-09-11T10:51:09.747Z"
   },
   {
    "duration": 0,
    "start_time": "2023-09-11T10:51:09.749Z"
   },
   {
    "duration": 0,
    "start_time": "2023-09-11T10:51:09.750Z"
   },
   {
    "duration": 0,
    "start_time": "2023-09-11T10:51:09.752Z"
   },
   {
    "duration": 4866,
    "start_time": "2023-09-11T10:51:18.075Z"
   },
   {
    "duration": 13,
    "start_time": "2023-09-11T10:51:22.944Z"
   },
   {
    "duration": 42,
    "start_time": "2023-09-11T10:51:22.960Z"
   },
   {
    "duration": 1035,
    "start_time": "2023-09-11T10:51:23.005Z"
   },
   {
    "duration": 45,
    "start_time": "2023-09-11T10:51:24.042Z"
   },
   {
    "duration": 64,
    "start_time": "2023-09-11T10:51:24.102Z"
   },
   {
    "duration": 116,
    "start_time": "2023-09-11T10:51:24.168Z"
   },
   {
    "duration": 215,
    "start_time": "2023-09-11T10:51:24.286Z"
   },
   {
    "duration": 4,
    "start_time": "2023-09-11T10:51:24.503Z"
   },
   {
    "duration": 19,
    "start_time": "2023-09-11T10:51:24.510Z"
   },
   {
    "duration": 7,
    "start_time": "2023-09-11T10:51:24.531Z"
   },
   {
    "duration": 5,
    "start_time": "2023-09-11T10:51:24.540Z"
   },
   {
    "duration": 10,
    "start_time": "2023-09-11T10:51:24.547Z"
   },
   {
    "duration": 16047,
    "start_time": "2023-09-11T10:51:24.559Z"
   },
   {
    "duration": 3453,
    "start_time": "2023-09-11T10:51:40.609Z"
   },
   {
    "duration": 23,
    "start_time": "2023-09-11T10:51:44.063Z"
   },
   {
    "duration": 115,
    "start_time": "2023-09-11T10:51:44.087Z"
   },
   {
    "duration": 14,
    "start_time": "2023-09-11T10:51:44.204Z"
   },
   {
    "duration": 101,
    "start_time": "2023-09-11T10:51:44.221Z"
   },
   {
    "duration": 840,
    "start_time": "2023-09-11T10:51:44.324Z"
   },
   {
    "duration": 14,
    "start_time": "2023-09-11T10:51:45.166Z"
   },
   {
    "duration": 35,
    "start_time": "2023-09-11T10:51:45.181Z"
   },
   {
    "duration": 43,
    "start_time": "2023-09-11T10:51:45.218Z"
   },
   {
    "duration": 25,
    "start_time": "2023-09-11T10:51:45.263Z"
   },
   {
    "duration": 41,
    "start_time": "2023-09-11T10:51:45.290Z"
   },
   {
    "duration": 85,
    "start_time": "2023-09-11T10:51:45.333Z"
   },
   {
    "duration": 14,
    "start_time": "2023-09-11T10:51:45.420Z"
   },
   {
    "duration": 16,
    "start_time": "2023-09-11T10:51:45.437Z"
   },
   {
    "duration": 42,
    "start_time": "2023-09-11T10:51:45.455Z"
   },
   {
    "duration": 36,
    "start_time": "2023-09-11T10:51:45.498Z"
   },
   {
    "duration": 628,
    "start_time": "2023-09-11T10:51:45.535Z"
   },
   {
    "duration": 0,
    "start_time": "2023-09-11T10:51:46.165Z"
   },
   {
    "duration": 0,
    "start_time": "2023-09-11T10:51:46.166Z"
   },
   {
    "duration": 0,
    "start_time": "2023-09-11T10:51:46.167Z"
   },
   {
    "duration": 0,
    "start_time": "2023-09-11T10:51:46.168Z"
   },
   {
    "duration": 0,
    "start_time": "2023-09-11T10:51:46.170Z"
   },
   {
    "duration": 6,
    "start_time": "2023-09-11T10:52:47.317Z"
   },
   {
    "duration": 4,
    "start_time": "2023-09-11T10:52:49.719Z"
   },
   {
    "duration": 2,
    "start_time": "2023-09-11T10:52:50.878Z"
   },
   {
    "duration": 388,
    "start_time": "2023-09-11T10:52:51.518Z"
   },
   {
    "duration": 4228,
    "start_time": "2023-09-11T11:17:23.586Z"
   },
   {
    "duration": 12,
    "start_time": "2023-09-11T11:17:27.816Z"
   },
   {
    "duration": 29,
    "start_time": "2023-09-11T11:17:27.830Z"
   },
   {
    "duration": 1099,
    "start_time": "2023-09-11T11:17:27.861Z"
   },
   {
    "duration": 48,
    "start_time": "2023-09-11T11:17:28.962Z"
   },
   {
    "duration": 12,
    "start_time": "2023-09-11T11:17:29.011Z"
   },
   {
    "duration": 22,
    "start_time": "2023-09-11T11:17:29.025Z"
   },
   {
    "duration": 173,
    "start_time": "2023-09-11T11:17:29.049Z"
   },
   {
    "duration": 3,
    "start_time": "2023-09-11T11:17:29.224Z"
   },
   {
    "duration": 26,
    "start_time": "2023-09-11T11:17:29.229Z"
   },
   {
    "duration": 35,
    "start_time": "2023-09-11T11:17:29.257Z"
   },
   {
    "duration": 20,
    "start_time": "2023-09-11T11:17:29.294Z"
   },
   {
    "duration": 23,
    "start_time": "2023-09-11T11:17:29.316Z"
   },
   {
    "duration": 15072,
    "start_time": "2023-09-11T11:17:29.342Z"
   },
   {
    "duration": 3492,
    "start_time": "2023-09-11T11:17:44.417Z"
   },
   {
    "duration": 26,
    "start_time": "2023-09-11T11:17:47.911Z"
   },
   {
    "duration": 108,
    "start_time": "2023-09-11T11:17:47.939Z"
   },
   {
    "duration": 14,
    "start_time": "2023-09-11T11:17:48.049Z"
   },
   {
    "duration": 62,
    "start_time": "2023-09-11T11:17:48.065Z"
   },
   {
    "duration": 794,
    "start_time": "2023-09-11T11:17:48.129Z"
   },
   {
    "duration": 12,
    "start_time": "2023-09-11T11:17:48.925Z"
   },
   {
    "duration": 79,
    "start_time": "2023-09-11T11:17:48.940Z"
   },
   {
    "duration": 10,
    "start_time": "2023-09-11T11:17:49.022Z"
   },
   {
    "duration": 23,
    "start_time": "2023-09-11T11:17:49.034Z"
   },
   {
    "duration": 13,
    "start_time": "2023-09-11T11:17:49.059Z"
   },
   {
    "duration": 21,
    "start_time": "2023-09-11T11:17:49.074Z"
   },
   {
    "duration": 20,
    "start_time": "2023-09-11T11:17:49.097Z"
   },
   {
    "duration": 20,
    "start_time": "2023-09-11T11:17:49.119Z"
   },
   {
    "duration": 18,
    "start_time": "2023-09-11T11:17:49.140Z"
   },
   {
    "duration": 21,
    "start_time": "2023-09-11T11:17:49.160Z"
   },
   {
    "duration": 520,
    "start_time": "2023-09-11T11:17:49.183Z"
   },
   {
    "duration": 0,
    "start_time": "2023-09-11T11:17:49.705Z"
   },
   {
    "duration": 0,
    "start_time": "2023-09-11T11:17:49.707Z"
   },
   {
    "duration": 0,
    "start_time": "2023-09-11T11:17:49.709Z"
   },
   {
    "duration": 0,
    "start_time": "2023-09-11T11:17:49.711Z"
   },
   {
    "duration": 0,
    "start_time": "2023-09-11T11:17:49.712Z"
   },
   {
    "duration": 376,
    "start_time": "2023-09-11T11:18:33.916Z"
   },
   {
    "duration": 4455,
    "start_time": "2023-09-11T11:20:04.840Z"
   },
   {
    "duration": 14,
    "start_time": "2023-09-11T11:20:09.297Z"
   },
   {
    "duration": 20,
    "start_time": "2023-09-11T11:20:09.313Z"
   },
   {
    "duration": 1031,
    "start_time": "2023-09-11T11:20:09.334Z"
   },
   {
    "duration": 51,
    "start_time": "2023-09-11T11:20:10.368Z"
   },
   {
    "duration": 13,
    "start_time": "2023-09-11T11:20:10.421Z"
   },
   {
    "duration": 23,
    "start_time": "2023-09-11T11:20:10.436Z"
   },
   {
    "duration": 179,
    "start_time": "2023-09-11T11:20:10.461Z"
   },
   {
    "duration": 3,
    "start_time": "2023-09-11T11:20:10.641Z"
   },
   {
    "duration": 12,
    "start_time": "2023-09-11T11:20:10.646Z"
   },
   {
    "duration": 16,
    "start_time": "2023-09-11T11:20:10.660Z"
   },
   {
    "duration": 7,
    "start_time": "2023-09-11T11:20:10.678Z"
   },
   {
    "duration": 21,
    "start_time": "2023-09-11T11:20:10.686Z"
   },
   {
    "duration": 14947,
    "start_time": "2023-09-11T11:20:10.711Z"
   },
   {
    "duration": 3433,
    "start_time": "2023-09-11T11:20:25.661Z"
   },
   {
    "duration": 28,
    "start_time": "2023-09-11T11:20:29.095Z"
   },
   {
    "duration": 116,
    "start_time": "2023-09-11T11:20:29.125Z"
   },
   {
    "duration": 14,
    "start_time": "2023-09-11T11:20:29.243Z"
   },
   {
    "duration": 61,
    "start_time": "2023-09-11T11:20:29.259Z"
   },
   {
    "duration": 764,
    "start_time": "2023-09-11T11:20:29.321Z"
   },
   {
    "duration": 20,
    "start_time": "2023-09-11T11:20:30.087Z"
   },
   {
    "duration": 102,
    "start_time": "2023-09-11T11:20:30.110Z"
   },
   {
    "duration": 45,
    "start_time": "2023-09-11T11:20:30.214Z"
   },
   {
    "duration": 59,
    "start_time": "2023-09-11T11:20:30.261Z"
   },
   {
    "duration": 51,
    "start_time": "2023-09-11T11:20:30.322Z"
   },
   {
    "duration": 270,
    "start_time": "2023-09-11T11:20:30.375Z"
   },
   {
    "duration": 112,
    "start_time": "2023-09-11T11:20:30.647Z"
   },
   {
    "duration": 45,
    "start_time": "2023-09-11T11:20:30.761Z"
   },
   {
    "duration": 46,
    "start_time": "2023-09-11T11:20:30.808Z"
   },
   {
    "duration": 56,
    "start_time": "2023-09-11T11:20:30.856Z"
   },
   {
    "duration": 588,
    "start_time": "2023-09-11T11:20:30.914Z"
   },
   {
    "duration": 0,
    "start_time": "2023-09-11T11:20:31.504Z"
   },
   {
    "duration": 0,
    "start_time": "2023-09-11T11:20:31.506Z"
   },
   {
    "duration": 0,
    "start_time": "2023-09-11T11:20:31.507Z"
   },
   {
    "duration": 0,
    "start_time": "2023-09-11T11:20:31.508Z"
   },
   {
    "duration": 0,
    "start_time": "2023-09-11T11:20:31.509Z"
   },
   {
    "duration": 4268,
    "start_time": "2023-09-11T11:25:04.644Z"
   },
   {
    "duration": 11,
    "start_time": "2023-09-11T11:25:08.914Z"
   },
   {
    "duration": 38,
    "start_time": "2023-09-11T11:25:08.927Z"
   },
   {
    "duration": 1109,
    "start_time": "2023-09-11T11:25:08.967Z"
   },
   {
    "duration": 43,
    "start_time": "2023-09-11T11:25:10.101Z"
   },
   {
    "duration": 85,
    "start_time": "2023-09-11T11:25:10.145Z"
   },
   {
    "duration": 30,
    "start_time": "2023-09-11T11:25:10.232Z"
   },
   {
    "duration": 185,
    "start_time": "2023-09-11T11:25:10.264Z"
   },
   {
    "duration": 4,
    "start_time": "2023-09-11T11:25:10.450Z"
   },
   {
    "duration": 27,
    "start_time": "2023-09-11T11:25:10.455Z"
   },
   {
    "duration": 24,
    "start_time": "2023-09-11T11:25:10.484Z"
   },
   {
    "duration": 24,
    "start_time": "2023-09-11T11:25:10.510Z"
   },
   {
    "duration": 19,
    "start_time": "2023-09-11T11:25:10.536Z"
   },
   {
    "duration": 14839,
    "start_time": "2023-09-11T11:25:10.558Z"
   },
   {
    "duration": 3299,
    "start_time": "2023-09-11T11:25:25.402Z"
   },
   {
    "duration": 24,
    "start_time": "2023-09-11T11:25:28.703Z"
   },
   {
    "duration": 106,
    "start_time": "2023-09-11T11:25:28.729Z"
   },
   {
    "duration": 32,
    "start_time": "2023-09-11T11:25:28.837Z"
   },
   {
    "duration": 58,
    "start_time": "2023-09-11T11:25:28.871Z"
   },
   {
    "duration": 717,
    "start_time": "2023-09-11T11:25:28.931Z"
   },
   {
    "duration": 16,
    "start_time": "2023-09-11T11:25:29.650Z"
   },
   {
    "duration": 34,
    "start_time": "2023-09-11T11:25:29.669Z"
   },
   {
    "duration": 57,
    "start_time": "2023-09-11T11:25:29.705Z"
   },
   {
    "duration": 52,
    "start_time": "2023-09-11T11:25:29.764Z"
   },
   {
    "duration": 26,
    "start_time": "2023-09-11T11:25:29.818Z"
   },
   {
    "duration": 32,
    "start_time": "2023-09-11T11:25:29.846Z"
   },
   {
    "duration": 27,
    "start_time": "2023-09-11T11:25:29.879Z"
   },
   {
    "duration": 51,
    "start_time": "2023-09-11T11:25:29.908Z"
   },
   {
    "duration": 33,
    "start_time": "2023-09-11T11:25:29.961Z"
   },
   {
    "duration": 28,
    "start_time": "2023-09-11T11:25:29.996Z"
   },
   {
    "duration": 290,
    "start_time": "2023-09-11T11:25:30.026Z"
   },
   {
    "duration": 0,
    "start_time": "2023-09-11T11:25:30.318Z"
   },
   {
    "duration": 0,
    "start_time": "2023-09-11T11:25:30.320Z"
   },
   {
    "duration": 0,
    "start_time": "2023-09-11T11:25:30.322Z"
   },
   {
    "duration": 0,
    "start_time": "2023-09-11T11:25:30.324Z"
   },
   {
    "duration": 0,
    "start_time": "2023-09-11T11:25:30.326Z"
   },
   {
    "duration": 7,
    "start_time": "2023-09-11T11:29:28.330Z"
   },
   {
    "duration": 4,
    "start_time": "2023-09-11T11:29:29.067Z"
   },
   {
    "duration": 3,
    "start_time": "2023-09-11T11:29:29.368Z"
   },
   {
    "duration": 374,
    "start_time": "2023-09-11T11:29:30.881Z"
   },
   {
    "duration": 7,
    "start_time": "2023-09-11T11:30:22.315Z"
   },
   {
    "duration": 6,
    "start_time": "2023-09-11T11:31:05.338Z"
   },
   {
    "duration": 4,
    "start_time": "2023-09-11T11:31:13.236Z"
   },
   {
    "duration": 3,
    "start_time": "2023-09-11T11:31:14.040Z"
   },
   {
    "duration": 22,
    "start_time": "2023-09-11T11:31:14.422Z"
   },
   {
    "duration": 22,
    "start_time": "2023-09-11T11:31:15.092Z"
   },
   {
    "duration": 7,
    "start_time": "2023-09-11T11:31:36.508Z"
   },
   {
    "duration": 4,
    "start_time": "2023-09-11T11:31:36.950Z"
   },
   {
    "duration": 3,
    "start_time": "2023-09-11T11:31:37.462Z"
   },
   {
    "duration": 453,
    "start_time": "2023-09-11T11:31:37.766Z"
   },
   {
    "duration": 6,
    "start_time": "2023-09-11T11:32:18.590Z"
   },
   {
    "duration": 4,
    "start_time": "2023-09-11T11:32:19.187Z"
   },
   {
    "duration": 3,
    "start_time": "2023-09-11T11:32:21.272Z"
   },
   {
    "duration": 384,
    "start_time": "2023-09-11T11:32:22.010Z"
   },
   {
    "duration": 15,
    "start_time": "2023-09-11T11:46:23.749Z"
   },
   {
    "duration": 12,
    "start_time": "2023-09-11T11:47:27.236Z"
   },
   {
    "duration": 17,
    "start_time": "2023-09-11T11:48:18.180Z"
   },
   {
    "duration": 11,
    "start_time": "2023-09-11T11:49:36.044Z"
   },
   {
    "duration": 12,
    "start_time": "2023-09-11T11:51:19.386Z"
   },
   {
    "duration": 434,
    "start_time": "2023-09-11T11:51:31.723Z"
   },
   {
    "duration": 432,
    "start_time": "2023-09-11T11:51:42.594Z"
   },
   {
    "duration": 460,
    "start_time": "2023-09-11T11:51:56.246Z"
   },
   {
    "duration": 1318,
    "start_time": "2023-09-11T12:16:20.395Z"
   },
   {
    "duration": 1312,
    "start_time": "2023-09-11T12:16:29.736Z"
   },
   {
    "duration": 1734,
    "start_time": "2023-09-11T12:17:03.092Z"
   },
   {
    "duration": 4303,
    "start_time": "2023-09-11T12:18:03.577Z"
   },
   {
    "duration": 4354,
    "start_time": "2023-09-11T12:20:56.171Z"
   },
   {
    "duration": 96,
    "start_time": "2023-09-11T12:25:20.971Z"
   },
   {
    "duration": 4789,
    "start_time": "2023-09-11T12:25:30.943Z"
   },
   {
    "duration": 4661,
    "start_time": "2023-09-11T12:26:40.797Z"
   },
   {
    "duration": 4294,
    "start_time": "2023-09-11T12:27:50.150Z"
   },
   {
    "duration": 4585,
    "start_time": "2023-09-11T14:40:36.521Z"
   },
   {
    "duration": 4736,
    "start_time": "2023-09-11T14:40:52.922Z"
   },
   {
    "duration": 4868,
    "start_time": "2023-09-11T14:42:18.288Z"
   },
   {
    "duration": 4485,
    "start_time": "2023-09-11T14:42:32.395Z"
   },
   {
    "duration": 5101,
    "start_time": "2023-09-11T14:43:43.631Z"
   },
   {
    "duration": 4710,
    "start_time": "2023-09-11T14:44:17.409Z"
   },
   {
    "duration": 4438,
    "start_time": "2023-09-11T14:44:40.398Z"
   },
   {
    "duration": 4641,
    "start_time": "2023-09-11T14:45:05.661Z"
   },
   {
    "duration": 4568,
    "start_time": "2023-09-11T14:46:53.041Z"
   },
   {
    "duration": 4691,
    "start_time": "2023-09-11T14:47:09.089Z"
   },
   {
    "duration": 23,
    "start_time": "2023-09-11T14:48:21.684Z"
   },
   {
    "duration": 14,
    "start_time": "2023-09-11T14:49:13.431Z"
   },
   {
    "duration": 14,
    "start_time": "2023-09-11T14:49:26.637Z"
   },
   {
    "duration": 4550,
    "start_time": "2023-09-11T14:50:04.969Z"
   },
   {
    "duration": 14,
    "start_time": "2023-09-11T14:50:09.522Z"
   },
   {
    "duration": 13,
    "start_time": "2023-09-11T14:50:09.538Z"
   },
   {
    "duration": 1050,
    "start_time": "2023-09-11T14:50:09.552Z"
   },
   {
    "duration": 44,
    "start_time": "2023-09-11T14:50:10.605Z"
   },
   {
    "duration": 130,
    "start_time": "2023-09-11T14:50:10.651Z"
   },
   {
    "duration": 11,
    "start_time": "2023-09-11T14:50:10.783Z"
   },
   {
    "duration": 172,
    "start_time": "2023-09-11T14:50:10.796Z"
   },
   {
    "duration": 3,
    "start_time": "2023-09-11T14:50:10.969Z"
   },
   {
    "duration": 19,
    "start_time": "2023-09-11T14:50:10.974Z"
   },
   {
    "duration": 31,
    "start_time": "2023-09-11T14:50:10.995Z"
   },
   {
    "duration": 24,
    "start_time": "2023-09-11T14:50:11.028Z"
   },
   {
    "duration": 12,
    "start_time": "2023-09-11T14:50:11.054Z"
   },
   {
    "duration": 16214,
    "start_time": "2023-09-11T14:50:11.069Z"
   },
   {
    "duration": 3433,
    "start_time": "2023-09-11T14:50:27.286Z"
   },
   {
    "duration": 24,
    "start_time": "2023-09-11T14:50:30.721Z"
   },
   {
    "duration": 206,
    "start_time": "2023-09-11T14:50:30.747Z"
   },
   {
    "duration": 33,
    "start_time": "2023-09-11T14:50:30.955Z"
   },
   {
    "duration": 111,
    "start_time": "2023-09-11T14:50:30.990Z"
   },
   {
    "duration": 1001,
    "start_time": "2023-09-11T14:50:31.103Z"
   },
   {
    "duration": 12,
    "start_time": "2023-09-11T14:50:32.106Z"
   },
   {
    "duration": 187,
    "start_time": "2023-09-11T14:50:32.120Z"
   },
   {
    "duration": 98,
    "start_time": "2023-09-11T14:50:32.308Z"
   },
   {
    "duration": 51,
    "start_time": "2023-09-11T14:50:32.407Z"
   },
   {
    "duration": 41,
    "start_time": "2023-09-11T14:50:32.461Z"
   },
   {
    "duration": 59,
    "start_time": "2023-09-11T14:50:32.504Z"
   },
   {
    "duration": 58,
    "start_time": "2023-09-11T14:50:32.565Z"
   },
   {
    "duration": 42,
    "start_time": "2023-09-11T14:50:32.625Z"
   },
   {
    "duration": 25,
    "start_time": "2023-09-11T14:50:32.669Z"
   },
   {
    "duration": 32,
    "start_time": "2023-09-11T14:50:32.696Z"
   },
   {
    "duration": 23,
    "start_time": "2023-09-11T14:50:32.730Z"
   },
   {
    "duration": 563,
    "start_time": "2023-09-11T14:50:32.755Z"
   },
   {
    "duration": 0,
    "start_time": "2023-09-11T14:50:33.320Z"
   },
   {
    "duration": 0,
    "start_time": "2023-09-11T14:50:33.322Z"
   },
   {
    "duration": 0,
    "start_time": "2023-09-11T14:50:33.323Z"
   },
   {
    "duration": 0,
    "start_time": "2023-09-11T14:50:33.324Z"
   },
   {
    "duration": 0,
    "start_time": "2023-09-11T14:50:33.324Z"
   },
   {
    "duration": 4602,
    "start_time": "2023-09-11T14:57:12.143Z"
   },
   {
    "duration": 4391,
    "start_time": "2023-09-11T14:57:47.676Z"
   },
   {
    "duration": 4469,
    "start_time": "2023-09-11T14:58:10.092Z"
   },
   {
    "duration": 4492,
    "start_time": "2023-09-11T14:58:29.043Z"
   },
   {
    "duration": 4357,
    "start_time": "2023-09-11T14:58:58.237Z"
   },
   {
    "duration": 4519,
    "start_time": "2023-09-11T14:59:18.705Z"
   },
   {
    "duration": 4505,
    "start_time": "2023-09-11T15:00:04.467Z"
   },
   {
    "duration": 4411,
    "start_time": "2023-09-11T15:00:32.422Z"
   },
   {
    "duration": 4638,
    "start_time": "2023-09-11T15:01:17.681Z"
   },
   {
    "duration": 4558,
    "start_time": "2023-09-11T15:02:12.522Z"
   },
   {
    "duration": 9,
    "start_time": "2023-09-11T15:13:53.938Z"
   },
   {
    "duration": 13,
    "start_time": "2023-09-11T15:14:59.672Z"
   },
   {
    "duration": 7,
    "start_time": "2023-09-11T15:15:11.379Z"
   },
   {
    "duration": 10,
    "start_time": "2023-09-11T15:16:15.129Z"
   },
   {
    "duration": 15,
    "start_time": "2023-09-11T15:16:32.035Z"
   },
   {
    "duration": 10,
    "start_time": "2023-09-11T15:16:44.304Z"
   },
   {
    "duration": 104,
    "start_time": "2023-09-11T15:18:18.354Z"
   },
   {
    "duration": 19,
    "start_time": "2023-09-11T15:19:19.082Z"
   },
   {
    "duration": 15,
    "start_time": "2023-09-11T15:19:41.257Z"
   },
   {
    "duration": 22,
    "start_time": "2023-09-11T15:20:03.294Z"
   },
   {
    "duration": 39,
    "start_time": "2023-09-11T15:20:23.525Z"
   },
   {
    "duration": 18,
    "start_time": "2023-09-11T15:21:12.833Z"
   },
   {
    "duration": 17,
    "start_time": "2023-09-11T15:22:27.957Z"
   },
   {
    "duration": 19,
    "start_time": "2023-09-11T15:24:30.627Z"
   },
   {
    "duration": 21,
    "start_time": "2023-09-11T15:28:52.627Z"
   },
   {
    "duration": 26,
    "start_time": "2023-09-11T15:29:40.622Z"
   },
   {
    "duration": 28,
    "start_time": "2023-09-11T15:30:44.244Z"
   },
   {
    "duration": 4533,
    "start_time": "2023-09-11T15:31:37.421Z"
   },
   {
    "duration": 4483,
    "start_time": "2023-09-11T15:32:21.471Z"
   },
   {
    "duration": 4492,
    "start_time": "2023-09-11T15:32:50.628Z"
   },
   {
    "duration": 4721,
    "start_time": "2023-09-11T15:33:29.485Z"
   },
   {
    "duration": 4463,
    "start_time": "2023-09-11T15:33:56.295Z"
   },
   {
    "duration": 146,
    "start_time": "2023-09-11T15:34:34.631Z"
   },
   {
    "duration": 32,
    "start_time": "2023-09-11T15:34:39.951Z"
   },
   {
    "duration": 4581,
    "start_time": "2023-09-11T15:35:30.142Z"
   },
   {
    "duration": 118,
    "start_time": "2023-09-11T15:36:24.559Z"
   },
   {
    "duration": 27,
    "start_time": "2023-09-11T15:36:30.346Z"
   },
   {
    "duration": 3582,
    "start_time": "2023-09-11T15:37:04.590Z"
   },
   {
    "duration": 0,
    "start_time": "2023-09-11T15:37:08.174Z"
   },
   {
    "duration": 1,
    "start_time": "2023-09-11T15:37:08.175Z"
   },
   {
    "duration": 0,
    "start_time": "2023-09-11T15:37:08.177Z"
   },
   {
    "duration": 0,
    "start_time": "2023-09-11T15:37:08.178Z"
   },
   {
    "duration": 4378,
    "start_time": "2023-09-11T15:37:30.608Z"
   },
   {
    "duration": 18,
    "start_time": "2023-09-11T15:37:34.988Z"
   },
   {
    "duration": 32,
    "start_time": "2023-09-11T15:37:35.007Z"
   },
   {
    "duration": 1004,
    "start_time": "2023-09-11T15:37:35.041Z"
   },
   {
    "duration": 43,
    "start_time": "2023-09-11T15:37:36.047Z"
   },
   {
    "duration": 24,
    "start_time": "2023-09-11T15:37:36.102Z"
   },
   {
    "duration": 27,
    "start_time": "2023-09-11T15:37:36.128Z"
   },
   {
    "duration": 167,
    "start_time": "2023-09-11T15:37:36.157Z"
   },
   {
    "duration": 3,
    "start_time": "2023-09-11T15:37:36.326Z"
   },
   {
    "duration": 29,
    "start_time": "2023-09-11T15:37:36.331Z"
   },
   {
    "duration": 32,
    "start_time": "2023-09-11T15:37:36.362Z"
   },
   {
    "duration": 16,
    "start_time": "2023-09-11T15:37:36.396Z"
   },
   {
    "duration": 17,
    "start_time": "2023-09-11T15:37:36.414Z"
   },
   {
    "duration": 15025,
    "start_time": "2023-09-11T15:37:36.435Z"
   },
   {
    "duration": 3420,
    "start_time": "2023-09-11T15:37:51.462Z"
   },
   {
    "duration": 30,
    "start_time": "2023-09-11T15:37:54.884Z"
   },
   {
    "duration": 100,
    "start_time": "2023-09-11T15:37:54.915Z"
   },
   {
    "duration": 48,
    "start_time": "2023-09-11T15:37:55.016Z"
   },
   {
    "duration": 47,
    "start_time": "2023-09-11T15:37:55.066Z"
   },
   {
    "duration": 752,
    "start_time": "2023-09-11T15:37:55.114Z"
   },
   {
    "duration": 11,
    "start_time": "2023-09-11T15:37:55.868Z"
   },
   {
    "duration": 6,
    "start_time": "2023-09-11T15:37:55.901Z"
   },
   {
    "duration": 31,
    "start_time": "2023-09-11T15:37:55.908Z"
   },
   {
    "duration": 18,
    "start_time": "2023-09-11T15:37:55.941Z"
   },
   {
    "duration": 15,
    "start_time": "2023-09-11T15:37:55.961Z"
   },
   {
    "duration": 7,
    "start_time": "2023-09-11T15:37:55.977Z"
   },
   {
    "duration": 14,
    "start_time": "2023-09-11T15:37:55.985Z"
   },
   {
    "duration": 23,
    "start_time": "2023-09-11T15:37:56.001Z"
   },
   {
    "duration": 34,
    "start_time": "2023-09-11T15:37:56.026Z"
   },
   {
    "duration": 292,
    "start_time": "2023-09-11T15:37:56.062Z"
   },
   {
    "duration": 0,
    "start_time": "2023-09-11T15:37:56.356Z"
   },
   {
    "duration": 0,
    "start_time": "2023-09-11T15:37:56.357Z"
   },
   {
    "duration": 0,
    "start_time": "2023-09-11T15:37:56.358Z"
   },
   {
    "duration": 0,
    "start_time": "2023-09-11T15:37:56.359Z"
   },
   {
    "duration": 0,
    "start_time": "2023-09-11T15:37:56.360Z"
   },
   {
    "duration": 0,
    "start_time": "2023-09-11T15:37:56.361Z"
   },
   {
    "duration": 0,
    "start_time": "2023-09-11T15:37:56.362Z"
   },
   {
    "duration": 1,
    "start_time": "2023-09-11T15:37:56.363Z"
   },
   {
    "duration": 0,
    "start_time": "2023-09-11T15:37:56.366Z"
   },
   {
    "duration": 164,
    "start_time": "2023-09-11T15:38:58.303Z"
   },
   {
    "duration": 4,
    "start_time": "2023-09-11T15:42:03.119Z"
   },
   {
    "duration": 6,
    "start_time": "2023-09-11T15:42:06.023Z"
   },
   {
    "duration": 4,
    "start_time": "2023-09-11T15:42:16.812Z"
   },
   {
    "duration": 2,
    "start_time": "2023-09-11T15:42:18.427Z"
   },
   {
    "duration": 27,
    "start_time": "2023-09-11T15:42:19.129Z"
   },
   {
    "duration": 4244,
    "start_time": "2023-09-11T15:43:14.503Z"
   },
   {
    "duration": 11,
    "start_time": "2023-09-11T15:43:18.750Z"
   },
   {
    "duration": 18,
    "start_time": "2023-09-11T15:43:18.762Z"
   },
   {
    "duration": 1035,
    "start_time": "2023-09-11T15:43:18.781Z"
   },
   {
    "duration": 43,
    "start_time": "2023-09-11T15:43:19.818Z"
   },
   {
    "duration": 14,
    "start_time": "2023-09-11T15:43:19.863Z"
   },
   {
    "duration": 27,
    "start_time": "2023-09-11T15:43:19.879Z"
   },
   {
    "duration": 194,
    "start_time": "2023-09-11T15:43:19.908Z"
   },
   {
    "duration": 4,
    "start_time": "2023-09-11T15:43:20.105Z"
   },
   {
    "duration": 26,
    "start_time": "2023-09-11T15:43:20.113Z"
   },
   {
    "duration": 29,
    "start_time": "2023-09-11T15:43:20.141Z"
   },
   {
    "duration": 25,
    "start_time": "2023-09-11T15:43:20.172Z"
   },
   {
    "duration": 27,
    "start_time": "2023-09-11T15:43:20.199Z"
   },
   {
    "duration": 15704,
    "start_time": "2023-09-11T15:43:20.228Z"
   },
   {
    "duration": 3495,
    "start_time": "2023-09-11T15:43:35.935Z"
   },
   {
    "duration": 23,
    "start_time": "2023-09-11T15:43:39.432Z"
   },
   {
    "duration": 116,
    "start_time": "2023-09-11T15:43:39.457Z"
   },
   {
    "duration": 56,
    "start_time": "2023-09-11T15:43:39.576Z"
   },
   {
    "duration": 33,
    "start_time": "2023-09-11T15:43:39.635Z"
   },
   {
    "duration": 816,
    "start_time": "2023-09-11T15:43:39.670Z"
   },
   {
    "duration": 20,
    "start_time": "2023-09-11T15:43:40.488Z"
   },
   {
    "duration": 96,
    "start_time": "2023-09-11T15:43:40.510Z"
   },
   {
    "duration": 71,
    "start_time": "2023-09-11T15:43:40.608Z"
   },
   {
    "duration": 14,
    "start_time": "2023-09-11T15:43:40.681Z"
   },
   {
    "duration": 26,
    "start_time": "2023-09-11T15:43:40.697Z"
   },
   {
    "duration": 31,
    "start_time": "2023-09-11T15:43:40.724Z"
   },
   {
    "duration": 63,
    "start_time": "2023-09-11T15:43:40.757Z"
   },
   {
    "duration": 24,
    "start_time": "2023-09-11T15:43:40.824Z"
   },
   {
    "duration": 47,
    "start_time": "2023-09-11T15:43:40.849Z"
   },
   {
    "duration": 42,
    "start_time": "2023-09-11T15:43:40.898Z"
   },
   {
    "duration": 42,
    "start_time": "2023-09-11T15:43:40.943Z"
   },
   {
    "duration": 78,
    "start_time": "2023-09-11T15:43:40.987Z"
   },
   {
    "duration": 33,
    "start_time": "2023-09-11T15:43:41.066Z"
   },
   {
    "duration": 182,
    "start_time": "2023-09-11T15:43:41.100Z"
   },
   {
    "duration": 0,
    "start_time": "2023-09-11T15:43:41.284Z"
   },
   {
    "duration": 0,
    "start_time": "2023-09-11T15:43:41.285Z"
   },
   {
    "duration": 0,
    "start_time": "2023-09-11T15:43:41.287Z"
   },
   {
    "duration": 0,
    "start_time": "2023-09-11T15:43:41.289Z"
   },
   {
    "duration": 0,
    "start_time": "2023-09-11T15:43:41.303Z"
   },
   {
    "duration": 24,
    "start_time": "2023-09-11T15:48:17.936Z"
   },
   {
    "duration": 4306,
    "start_time": "2023-09-11T15:51:12.816Z"
   },
   {
    "duration": 14,
    "start_time": "2023-09-11T15:51:17.125Z"
   },
   {
    "duration": 35,
    "start_time": "2023-09-11T15:51:17.140Z"
   },
   {
    "duration": 982,
    "start_time": "2023-09-11T15:51:17.176Z"
   },
   {
    "duration": 56,
    "start_time": "2023-09-11T15:51:18.160Z"
   },
   {
    "duration": 11,
    "start_time": "2023-09-11T15:51:18.218Z"
   },
   {
    "duration": 7,
    "start_time": "2023-09-11T15:51:18.231Z"
   },
   {
    "duration": 177,
    "start_time": "2023-09-11T15:51:18.240Z"
   },
   {
    "duration": 4,
    "start_time": "2023-09-11T15:51:18.419Z"
   },
   {
    "duration": 10,
    "start_time": "2023-09-11T15:51:18.425Z"
   },
   {
    "duration": 6,
    "start_time": "2023-09-11T15:51:18.437Z"
   },
   {
    "duration": 8,
    "start_time": "2023-09-11T15:51:18.444Z"
   },
   {
    "duration": 5,
    "start_time": "2023-09-11T15:51:18.454Z"
   },
   {
    "duration": 15368,
    "start_time": "2023-09-11T15:51:18.461Z"
   },
   {
    "duration": 3573,
    "start_time": "2023-09-11T15:51:33.831Z"
   },
   {
    "duration": 29,
    "start_time": "2023-09-11T15:51:37.406Z"
   },
   {
    "duration": 213,
    "start_time": "2023-09-11T15:51:37.437Z"
   },
   {
    "duration": 59,
    "start_time": "2023-09-11T15:51:37.652Z"
   },
   {
    "duration": 125,
    "start_time": "2023-09-11T15:51:37.713Z"
   },
   {
    "duration": 817,
    "start_time": "2023-09-11T15:51:37.840Z"
   },
   {
    "duration": 16,
    "start_time": "2023-09-11T15:51:38.659Z"
   },
   {
    "duration": 12,
    "start_time": "2023-09-11T15:51:38.702Z"
   },
   {
    "duration": 31,
    "start_time": "2023-09-11T15:51:38.717Z"
   },
   {
    "duration": 62,
    "start_time": "2023-09-11T15:51:38.750Z"
   },
   {
    "duration": 30,
    "start_time": "2023-09-11T15:51:38.814Z"
   },
   {
    "duration": 18,
    "start_time": "2023-09-11T15:51:38.846Z"
   },
   {
    "duration": 22,
    "start_time": "2023-09-11T15:51:38.867Z"
   },
   {
    "duration": 60,
    "start_time": "2023-09-11T15:51:38.891Z"
   },
   {
    "duration": 33,
    "start_time": "2023-09-11T15:51:38.953Z"
   },
   {
    "duration": 5,
    "start_time": "2023-09-11T15:51:38.988Z"
   },
   {
    "duration": 21,
    "start_time": "2023-09-11T15:51:38.994Z"
   },
   {
    "duration": 38,
    "start_time": "2023-09-11T15:51:39.017Z"
   },
   {
    "duration": 10,
    "start_time": "2023-09-11T15:51:39.056Z"
   },
   {
    "duration": 36241,
    "start_time": "2023-09-11T15:51:39.067Z"
   },
   {
    "duration": 5828,
    "start_time": "2023-09-11T15:52:15.311Z"
   },
   {
    "duration": 176350,
    "start_time": "2023-09-11T15:52:21.141Z"
   },
   {
    "duration": 0,
    "start_time": "2023-09-11T15:55:17.494Z"
   },
   {
    "duration": 0,
    "start_time": "2023-09-11T15:55:17.495Z"
   },
   {
    "duration": 0,
    "start_time": "2023-09-11T15:55:17.496Z"
   },
   {
    "duration": 7,
    "start_time": "2023-09-11T15:55:38.359Z"
   },
   {
    "duration": 4,
    "start_time": "2023-09-11T15:55:38.960Z"
   },
   {
    "duration": 3,
    "start_time": "2023-09-11T15:55:39.314Z"
   },
   {
    "duration": 71988,
    "start_time": "2023-09-11T15:55:39.527Z"
   },
   {
    "duration": 799,
    "start_time": "2023-09-11T15:56:51.602Z"
   },
   {
    "duration": 0,
    "start_time": "2023-09-11T15:56:52.402Z"
   },
   {
    "duration": 4283,
    "start_time": "2023-09-11T15:58:04.623Z"
   },
   {
    "duration": 11,
    "start_time": "2023-09-11T15:58:08.908Z"
   },
   {
    "duration": 195,
    "start_time": "2023-09-11T15:58:08.921Z"
   },
   {
    "duration": 987,
    "start_time": "2023-09-11T15:58:09.118Z"
   },
   {
    "duration": 42,
    "start_time": "2023-09-11T15:58:10.108Z"
   },
   {
    "duration": 32,
    "start_time": "2023-09-11T15:58:10.152Z"
   },
   {
    "duration": 40,
    "start_time": "2023-09-11T15:58:10.186Z"
   },
   {
    "duration": 193,
    "start_time": "2023-09-11T15:58:10.227Z"
   },
   {
    "duration": 3,
    "start_time": "2023-09-11T15:58:10.422Z"
   },
   {
    "duration": 21,
    "start_time": "2023-09-11T15:58:10.427Z"
   },
   {
    "duration": 45,
    "start_time": "2023-09-11T15:58:10.449Z"
   },
   {
    "duration": 24,
    "start_time": "2023-09-11T15:58:10.495Z"
   },
   {
    "duration": 70,
    "start_time": "2023-09-11T15:58:10.521Z"
   },
   {
    "duration": 15054,
    "start_time": "2023-09-11T15:58:10.595Z"
   },
   {
    "duration": 3371,
    "start_time": "2023-09-11T15:58:25.651Z"
   },
   {
    "duration": 22,
    "start_time": "2023-09-11T15:58:29.024Z"
   },
   {
    "duration": 116,
    "start_time": "2023-09-11T15:58:29.048Z"
   },
   {
    "duration": 49,
    "start_time": "2023-09-11T15:58:29.165Z"
   },
   {
    "duration": 35,
    "start_time": "2023-09-11T15:58:29.216Z"
   },
   {
    "duration": 741,
    "start_time": "2023-09-11T15:58:29.252Z"
   },
   {
    "duration": 11,
    "start_time": "2023-09-11T15:58:30.001Z"
   },
   {
    "duration": 51,
    "start_time": "2023-09-11T15:58:30.014Z"
   },
   {
    "duration": 62,
    "start_time": "2023-09-11T15:58:30.067Z"
   },
   {
    "duration": 61,
    "start_time": "2023-09-11T15:58:30.130Z"
   },
   {
    "duration": 111,
    "start_time": "2023-09-11T15:58:30.193Z"
   },
   {
    "duration": 49,
    "start_time": "2023-09-11T15:58:30.306Z"
   },
   {
    "duration": 78,
    "start_time": "2023-09-11T15:58:30.357Z"
   },
   {
    "duration": 45,
    "start_time": "2023-09-11T15:58:30.437Z"
   },
   {
    "duration": 96,
    "start_time": "2023-09-11T15:58:30.484Z"
   },
   {
    "duration": 598,
    "start_time": "2023-09-11T15:58:30.582Z"
   },
   {
    "duration": 50,
    "start_time": "2023-09-11T15:58:31.182Z"
   },
   {
    "duration": 44372,
    "start_time": "2023-09-11T15:58:31.234Z"
   },
   {
    "duration": 6093,
    "start_time": "2023-09-11T15:59:15.609Z"
   },
   {
    "duration": 2311564,
    "start_time": "2023-09-11T15:59:21.704Z"
   },
   {
    "duration": 56,
    "start_time": "2023-09-11T16:37:53.270Z"
   },
   {
    "duration": 24,
    "start_time": "2023-09-11T16:37:53.328Z"
   },
   {
    "duration": 143,
    "start_time": "2023-09-11T16:37:53.354Z"
   },
   {
    "duration": 6,
    "start_time": "2023-09-11T18:04:27.302Z"
   },
   {
    "duration": 4,
    "start_time": "2023-09-11T18:04:28.787Z"
   },
   {
    "duration": 16,
    "start_time": "2023-09-11T18:04:29.417Z"
   },
   {
    "duration": 78425,
    "start_time": "2023-09-11T18:04:29.877Z"
   },
   {
    "duration": 957,
    "start_time": "2023-09-11T18:05:48.305Z"
   },
   {
    "duration": 0,
    "start_time": "2023-09-11T18:05:49.264Z"
   },
   {
    "duration": 0,
    "start_time": "2023-09-11T18:05:49.265Z"
   },
   {
    "duration": 0,
    "start_time": "2023-09-11T18:05:49.266Z"
   },
   {
    "duration": 0,
    "start_time": "2023-09-11T18:05:49.268Z"
   },
   {
    "duration": 4311,
    "start_time": "2023-09-11T18:18:36.598Z"
   },
   {
    "duration": 13,
    "start_time": "2023-09-11T18:18:40.911Z"
   },
   {
    "duration": 21,
    "start_time": "2023-09-11T18:18:40.925Z"
   },
   {
    "duration": 958,
    "start_time": "2023-09-11T18:18:40.948Z"
   },
   {
    "duration": 40,
    "start_time": "2023-09-11T18:18:41.908Z"
   },
   {
    "duration": 11,
    "start_time": "2023-09-11T18:18:41.950Z"
   },
   {
    "duration": 15,
    "start_time": "2023-09-11T18:18:41.963Z"
   },
   {
    "duration": 158,
    "start_time": "2023-09-11T18:18:42.002Z"
   },
   {
    "duration": 2,
    "start_time": "2023-09-11T18:18:42.162Z"
   },
   {
    "duration": 218,
    "start_time": "2023-09-11T18:18:42.166Z"
   },
   {
    "duration": 17,
    "start_time": "2023-09-11T18:18:42.385Z"
   },
   {
    "duration": 13,
    "start_time": "2023-09-11T18:18:42.404Z"
   },
   {
    "duration": 10,
    "start_time": "2023-09-11T18:18:42.418Z"
   },
   {
    "duration": 205488,
    "start_time": "2023-09-11T18:18:42.432Z"
   },
   {
    "duration": 32755,
    "start_time": "2023-09-11T18:22:07.922Z"
   },
   {
    "duration": 307,
    "start_time": "2023-09-11T18:22:40.679Z"
   },
   {
    "duration": 2067,
    "start_time": "2023-09-11T18:22:40.987Z"
   },
   {
    "duration": 172,
    "start_time": "2023-09-11T18:22:43.055Z"
   },
   {
    "duration": 141,
    "start_time": "2023-09-11T18:22:43.229Z"
   },
   {
    "duration": 597,
    "start_time": "2023-09-11T18:22:43.373Z"
   },
   {
    "duration": 87,
    "start_time": "2023-09-11T18:22:43.972Z"
   },
   {
    "duration": 4,
    "start_time": "2023-09-11T18:22:44.061Z"
   },
   {
    "duration": 16,
    "start_time": "2023-09-11T18:22:44.067Z"
   },
   {
    "duration": 31,
    "start_time": "2023-09-11T18:22:44.085Z"
   },
   {
    "duration": 22,
    "start_time": "2023-09-11T18:22:44.118Z"
   },
   {
    "duration": 16,
    "start_time": "2023-09-11T18:22:44.142Z"
   },
   {
    "duration": 11,
    "start_time": "2023-09-11T18:22:44.160Z"
   },
   {
    "duration": 31,
    "start_time": "2023-09-11T18:22:44.173Z"
   },
   {
    "duration": 27,
    "start_time": "2023-09-11T18:22:44.206Z"
   },
   {
    "duration": 166,
    "start_time": "2023-09-11T18:22:44.234Z"
   },
   {
    "duration": 382,
    "start_time": "2023-09-11T18:22:44.402Z"
   },
   {
    "duration": 849418,
    "start_time": "2023-09-11T18:22:44.786Z"
   },
   {
    "duration": 596554,
    "start_time": "2023-09-11T18:36:54.206Z"
   },
   {
    "duration": 16213075,
    "start_time": "2023-09-11T18:46:50.763Z"
   },
   {
    "duration": 62,
    "start_time": "2023-09-11T23:17:03.840Z"
   },
   {
    "duration": 4,
    "start_time": "2023-09-11T23:17:03.903Z"
   },
   {
    "duration": 2796,
    "start_time": "2023-09-11T23:17:03.908Z"
   }
  ],
  "kernelspec": {
   "display_name": "Python 3 (ipykernel)",
   "language": "python",
   "name": "python3"
  },
  "language_info": {
   "codemirror_mode": {
    "name": "ipython",
    "version": 3
   },
   "file_extension": ".py",
   "mimetype": "text/x-python",
   "name": "python",
   "nbconvert_exporter": "python",
   "pygments_lexer": "ipython3",
   "version": "3.9.5"
  },
  "toc": {
   "base_numbering": 1,
   "nav_menu": {},
   "number_sections": true,
   "sideBar": true,
   "skip_h1_title": true,
   "title_cell": "Содержание",
   "title_sidebar": "Contents",
   "toc_cell": true,
   "toc_position": {
    "height": "calc(100% - 180px)",
    "left": "10px",
    "top": "150px",
    "width": "302.391px"
   },
   "toc_section_display": true,
   "toc_window_display": false
  }
 },
 "nbformat": 4,
 "nbformat_minor": 2
}
