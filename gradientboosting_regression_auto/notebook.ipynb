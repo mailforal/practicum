{
 "cells": [
  {
   "cell_type": "markdown",
   "metadata": {},
   "source": [
    "# Регрессионный анализ на градиентном бустинге для прогнозирования стоимости автомобиля"
   ]
  },
  {
   "cell_type": "markdown",
   "metadata": {},
   "source": [
    "Сервис по продаже автомобилей с пробегом «Не бит, не крашен» разрабатывает приложение для привлечения новых клиентов. В нём можно быстро узнать рыночную стоимость своего автомобиля. В вашем распоряжении исторические данные: технические характеристики, комплектации и цены автомобилей. Вам нужно построить модель для определения стоимости. \n",
    "\n",
    "Заказчику важны:\n",
    "\n",
    "- качество предсказания;\n",
    "- скорость предсказания;\n",
    "- время обучения."
   ]
  },
  {
   "cell_type": "markdown",
   "metadata": {},
   "source": [
    "### Инструкция по выполнению проекта\n",
    "\n",
    "Чтобы усилить исследование, не ограничивайтесь градиентным бустингом. Попробуйте более простые модели — иногда они работают лучше. Эти редкие случаи легко пропустить, если всегда применять только бустинг.\n",
    "\n",
    "Поэкспериментируйте и сравните характеристики моделей: время обучения, время предсказания, точность результата.\n",
    "\n",
    "**Основные шаги:**\n",
    "\n",
    "1. Загрузите данные, путь к файлу: */datasets/autos.csv*.\n",
    "1. Изучите данные. Заполните пропущенные значения и обработайте аномалии в столбцах. Если среди признаков имеются неинформативные, удалите их.\n",
    "1. Подготовьте выборки для обучения моделей.\n",
    "1. Обучите разные модели, одна из которых — LightGBM, как минимум одна — не бустинг. Для каждой модели попробуйте разные гиперпараметры.\n",
    "1. Проанализируйте время обучения, время предсказания и качество моделей.\n",
    "1. Опираясь на критерии заказчика, выберете лучшую модель, проверьте её качество на тестовой выборке.\n",
    "\n",
    "**Примечания:**\n",
    "\n",
    "- Для оценки качества моделей применяйте метрику RMSE.\n",
    "- Значение метрики RMSE должно быть меньше 2500.\n",
    "- Самостоятельно освойте библиотеку LightGBM и её средствами постройте модели градиентного бустинга.\n",
    "- Время выполнения ячейки кода Jupyter Notebook можно получить специальной командой. Найдите её.\n",
    "- Модель градиентного бустинга может долго обучаться, поэтому измените у неё только два-три параметра.\n",
    "- Если перестанет работать Jupyter Notebook, удалите лишние переменные оператором `del`."
   ]
  },
  {
   "cell_type": "markdown",
   "metadata": {},
   "source": [
    "### Описание данных\n",
    "\n",
    "Данные находятся в файле */datasets/autos.csv*.\n",
    "\n",
    "**Признаки**\n",
    "\n",
    "1. `DateCrawled` — дата скачивания анкеты из базы\n",
    "1. `VehicleType` — тип автомобильного кузова\n",
    "1. `RegistrationYear` — год регистрации автомобиля\n",
    "1. `Gearbox` — тип коробки передач\n",
    "1. `Power` — мощность (л. с.)\n",
    "1. `Model` — модель автомобиля\n",
    "1. `Kilometer` — пробег (км)\n",
    "1. `RegistrationMonth` — месяц регистрации автомобиля\n",
    "1. `FuelType` — тип топлива\n",
    "1. `Brand` — марка автомобиля\n",
    "1. `Repaired` — была машина в ремонте или нет\n",
    "1. `DateCreated` — дата создания анкеты\n",
    "1. `NumberOfPictures` — количество фотографий автомобиля\n",
    "1. `PostalCode` — почтовый индекс владельца анкеты (пользователя)\n",
    "1. `LastSeen` — дата последней активности пользователя\n",
    "\n",
    "**Целевой признак**\n",
    "\n",
    "1. `Price` — цена (евро)"
   ]
  },
  {
   "cell_type": "markdown",
   "metadata": {
    "toc": true
   },
   "source": [
    "<h1>Содержание<span class=\"tocSkip\"></span></h1>\n",
    "<div class=\"toc\"><ul class=\"toc-item\"><li><ul class=\"toc-item\"><li><span><a href=\"#Инструкция-по-выполнению-проекта\" data-toc-modified-id=\"Инструкция-по-выполнению-проекта-0.1\"><span class=\"toc-item-num\">0.1&nbsp;&nbsp;</span>Инструкция по выполнению проекта</a></span></li><li><span><a href=\"#Описание-данных\" data-toc-modified-id=\"Описание-данных-0.2\"><span class=\"toc-item-num\">0.2&nbsp;&nbsp;</span>Описание данных</a></span></li></ul></li><li><span><a href=\"#Подготовка-данных\" data-toc-modified-id=\"Подготовка-данных-1\"><span class=\"toc-item-num\">1&nbsp;&nbsp;</span>Подготовка данных</a></span><ul class=\"toc-item\"><li><span><a href=\"#Настройка-тетради\" data-toc-modified-id=\"Настройка-тетради-1.1\"><span class=\"toc-item-num\">1.1&nbsp;&nbsp;</span>Настройка тетради</a></span></li><li><span><a href=\"#Загрузка-и-изучение-данных\" data-toc-modified-id=\"Загрузка-и-изучение-данных-1.2\"><span class=\"toc-item-num\">1.2&nbsp;&nbsp;</span>Загрузка и изучение данных</a></span></li><li><span><a href=\"#Предобработка-данных\" data-toc-modified-id=\"Предобработка-данных-1.3\"><span class=\"toc-item-num\">1.3&nbsp;&nbsp;</span>Предобработка данных</a></span></li><li><span><a href=\"#Проверка-результатов-предобработкаи-данных\" data-toc-modified-id=\"Проверка-результатов-предобработкаи-данных-1.4\"><span class=\"toc-item-num\">1.4&nbsp;&nbsp;</span>Проверка результатов предобработкаи данных</a></span></li></ul></li><li><span><a href=\"#Обучение-моделей\" data-toc-modified-id=\"Обучение-моделей-2\"><span class=\"toc-item-num\">2&nbsp;&nbsp;</span>Обучение моделей</a></span><ul class=\"toc-item\"><li><span><a href=\"#Полезные-функции-подготовки-данных-и-подбора-моделей-и-их-параметров\" data-toc-modified-id=\"Полезные-функции-подготовки-данных-и-подбора-моделей-и-их-параметров-2.1\"><span class=\"toc-item-num\">2.1&nbsp;&nbsp;</span>Полезные функции подготовки данных и подбора моделей и их параметров</a></span></li><li><span><a href=\"#Функции-моделей\" data-toc-modified-id=\"Функции-моделей-2.2\"><span class=\"toc-item-num\">2.2&nbsp;&nbsp;</span>Функции моделей</a></span></li><li><span><a href=\"#Применение-функций\" data-toc-modified-id=\"Применение-функций-2.3\"><span class=\"toc-item-num\">2.3&nbsp;&nbsp;</span>Применение функций</a></span></li><li><span><a href=\"#Выбор-лучшей-модели\" data-toc-modified-id=\"Выбор-лучшей-модели-2.4\"><span class=\"toc-item-num\">2.4&nbsp;&nbsp;</span>Выбор лучшей модели</a></span></li></ul></li><li><span><a href=\"#Анализ-моделей\" data-toc-modified-id=\"Анализ-моделей-3\"><span class=\"toc-item-num\">3&nbsp;&nbsp;</span>Анализ моделей</a></span></li><li><span><a href=\"#Выводы-проекта\" data-toc-modified-id=\"Выводы-проекта-4\"><span class=\"toc-item-num\">4&nbsp;&nbsp;</span>Выводы проекта</a></span></li><li><span><a href=\"#Чек-лист-проверки\" data-toc-modified-id=\"Чек-лист-проверки-5\"><span class=\"toc-item-num\">5&nbsp;&nbsp;</span>Чек-лист проверки</a></span></li></ul></div>"
   ]
  },
  {
   "cell_type": "markdown",
   "metadata": {},
   "source": [
    "## Подготовка данных"
   ]
  },
  {
   "cell_type": "markdown",
   "metadata": {},
   "source": [
    "### Настройка тетради"
   ]
  },
  {
   "cell_type": "code",
   "execution_count": 1,
   "metadata": {
    "scrolled": true
   },
   "outputs": [
    {
     "name": "stdout",
     "output_type": "stream",
     "text": [
      "Collecting category_encoders\n",
      "  Downloading category_encoders-2.6.2-py2.py3-none-any.whl (81 kB)\n",
      "\u001b[K     |████████████████████████████████| 81 kB 1.1 MB/s eta 0:00:011\n",
      "\u001b[?25hRequirement already satisfied: scikit-learn>=0.20.0 in /opt/conda/lib/python3.9/site-packages (from category_encoders) (0.24.1)\n",
      "Requirement already satisfied: scipy>=1.0.0 in /opt/conda/lib/python3.9/site-packages (from category_encoders) (1.9.1)\n",
      "Requirement already satisfied: patsy>=0.5.1 in /opt/conda/lib/python3.9/site-packages (from category_encoders) (0.5.2)\n",
      "Requirement already satisfied: statsmodels>=0.9.0 in /opt/conda/lib/python3.9/site-packages (from category_encoders) (0.13.2)\n",
      "Requirement already satisfied: pandas>=1.0.5 in /opt/conda/lib/python3.9/site-packages (from category_encoders) (1.2.4)\n",
      "Requirement already satisfied: numpy>=1.14.0 in /opt/conda/lib/python3.9/site-packages (from category_encoders) (1.21.1)\n",
      "Requirement already satisfied: python-dateutil>=2.7.3 in /opt/conda/lib/python3.9/site-packages (from pandas>=1.0.5->category_encoders) (2.8.1)\n",
      "Requirement already satisfied: pytz>=2017.3 in /opt/conda/lib/python3.9/site-packages (from pandas>=1.0.5->category_encoders) (2021.1)\n",
      "Requirement already satisfied: six in /opt/conda/lib/python3.9/site-packages (from patsy>=0.5.1->category_encoders) (1.16.0)\n",
      "Requirement already satisfied: threadpoolctl>=2.0.0 in /opt/conda/lib/python3.9/site-packages (from scikit-learn>=0.20.0->category_encoders) (3.1.0)\n",
      "Requirement already satisfied: joblib>=0.11 in /opt/conda/lib/python3.9/site-packages (from scikit-learn>=0.20.0->category_encoders) (1.1.0)\n",
      "Requirement already satisfied: packaging>=21.3 in /opt/conda/lib/python3.9/site-packages (from statsmodels>=0.9.0->category_encoders) (21.3)\n",
      "Requirement already satisfied: pyparsing!=3.0.5,>=2.0.2 in /opt/conda/lib/python3.9/site-packages (from packaging>=21.3->statsmodels>=0.9.0->category_encoders) (2.4.7)\n",
      "Installing collected packages: category-encoders\n",
      "Successfully installed category-encoders-2.6.2\n"
     ]
    },
    {
     "name": "stderr",
     "output_type": "stream",
     "text": [
      "/opt/conda/lib/python3.9/site-packages/fuzzywuzzy/fuzz.py:11: UserWarning: Using slow pure-python SequenceMatcher. Install python-Levenshtein to remove this warning\n",
      "  warnings.warn('Using slow pure-python SequenceMatcher. Install python-Levenshtein to remove this warning')\n"
     ]
    },
    {
     "name": "stdout",
     "output_type": "stream",
     "text": [
      "Collecting phik\n",
      "  Downloading phik-0.12.3-cp39-cp39-manylinux_2_17_x86_64.manylinux2014_x86_64.whl (679 kB)\n",
      "\u001b[K     |████████████████████████████████| 679 kB 953 kB/s eta 0:00:01\n",
      "\u001b[?25hRequirement already satisfied: joblib>=0.14.1 in /opt/conda/lib/python3.9/site-packages (from phik) (1.1.0)\n",
      "Requirement already satisfied: numpy>=1.18.0 in /opt/conda/lib/python3.9/site-packages (from phik) (1.21.1)\n",
      "Requirement already satisfied: pandas>=0.25.1 in /opt/conda/lib/python3.9/site-packages (from phik) (1.2.4)\n",
      "Requirement already satisfied: matplotlib>=2.2.3 in /opt/conda/lib/python3.9/site-packages (from phik) (3.3.4)\n",
      "Requirement already satisfied: scipy>=1.5.2 in /opt/conda/lib/python3.9/site-packages (from phik) (1.9.1)\n",
      "Requirement already satisfied: kiwisolver>=1.0.1 in /opt/conda/lib/python3.9/site-packages (from matplotlib>=2.2.3->phik) (1.4.4)\n",
      "Requirement already satisfied: pyparsing!=2.0.4,!=2.1.2,!=2.1.6,>=2.0.3 in /opt/conda/lib/python3.9/site-packages (from matplotlib>=2.2.3->phik) (2.4.7)\n",
      "Requirement already satisfied: cycler>=0.10 in /opt/conda/lib/python3.9/site-packages (from matplotlib>=2.2.3->phik) (0.11.0)\n",
      "Requirement already satisfied: python-dateutil>=2.1 in /opt/conda/lib/python3.9/site-packages (from matplotlib>=2.2.3->phik) (2.8.1)\n",
      "Requirement already satisfied: pillow>=6.2.0 in /opt/conda/lib/python3.9/site-packages (from matplotlib>=2.2.3->phik) (8.4.0)\n",
      "Requirement already satisfied: pytz>=2017.3 in /opt/conda/lib/python3.9/site-packages (from pandas>=0.25.1->phik) (2021.1)\n",
      "Requirement already satisfied: six>=1.5 in /opt/conda/lib/python3.9/site-packages (from python-dateutil>=2.1->matplotlib>=2.2.3->phik) (1.16.0)\n",
      "Installing collected packages: phik\n",
      "Successfully installed phik-0.12.3\n"
     ]
    }
   ],
   "source": [
    "# Базовые библиотеки\n",
    "import pandas as pd # Датафреймы\n",
    "import numpy as np # Математика для массивов\n",
    "from math import factorial # Факториалы\n",
    "from scipy import stats as st # Статистика\n",
    "import os # Библиотека для оптимизации чтения данных из файла\n",
    "import time # Расчет времени выполнения функций\n",
    "\n",
    "# Pipeline (пайплайн)\n",
    "from sklearn.pipeline import(\n",
    "    Pipeline, # Pipeline с ручным вводом названий шагов.\n",
    "    make_pipeline # Pipeline с автоматическим названием шагов.\n",
    ")\n",
    "# Функция для поддержки экспериментальной функции HavingGridSearchSV\n",
    "from sklearn.experimental import enable_halving_search_cv\n",
    "# Ускоренная автоматизация поиска лучших моделей и их параметров\n",
    "from sklearn.model_selection import HalvingGridSearchCV\n",
    "# Ускоренная автоматизация рандомного поиска лучших моделей и их параметров\n",
    "from sklearn.model_selection import HalvingRandomSearchCV\n",
    "\n",
    "# Автоматизация раздельного декодирования признаков\n",
    "from sklearn.compose import(\n",
    "    make_column_selector, \n",
    "    make_column_transformer, \n",
    "    ColumnTransformer\n",
    ")\n",
    "\n",
    "# Обработка данных для машинного обучения\n",
    "# Стандартизация данных\n",
    "import re\n",
    "#! pip install sklearn.preprocessing \n",
    "from sklearn.preprocessing import(\n",
    "    OneHotEncoder, # Создание отдельных столбцов для каждого категориального значения, drop='first' (удаление первого столбца против dummy-ловушки), sparse=False (?)\n",
    "    OrdinalEncoder, # Кодирование порядковых категориальных признаков\n",
    "    #TargetEncoder, # Кодирование категорий на основе таргетов (ошибка, модуль не найден) \n",
    "    LabelEncoder, \n",
    "    StandardScaler, \n",
    "    MinMaxScaler\n",
    ")\n",
    "# Кодирование категорий на основе таргетов \n",
    "!pip install -U category_encoders\n",
    "from category_encoders.target_encoder import TargetEncoder\n",
    "# Другие функции предобработки данных\n",
    "from sklearn.impute import KNNImputer # Заполнение пропусков в данных методом k-блжиайших соседей.\n",
    "from sklearn.utils import shuffle # Перемешивание данных для уравновешивания их в разных выборках\n",
    "from statsmodels.stats.outliers_influence import variance_inflation_factor # Коэффициент инфляции дисперсии (5 и более - признак коррелирует со всеми остальными, его можно удалить и выразить через другие признаки)\n",
    "from sklearn.model_selection import(\n",
    "    GridSearchCV, # Поиск гиперпараметров по сетке (GridSearch)\n",
    "    train_test_split, # Разделение выборок с целевыми и нецелевыми признаками на обучающую и тестовую\n",
    "    validation_curve, \n",
    "    StratifiedKFold, # Кроссвалидация с указанием количества фолдов (частей, на которые будет разбита обучающая выборка, одна из которых будет участвовать в валидации)\n",
    "    KFold, # Кроссвалидация \n",
    "    cross_val_score # Оценка качества модели на кроссвалидации\n",
    ")\n",
    "\n",
    "# Различные модели машинного обучения (в данном проекте требуется регрессия)\n",
    "# (есть разбор на https://russianblogs.com/article/83691573909/)\n",
    "# Линейная модель\n",
    "from sklearn.linear_model import(\n",
    "    #LogisticRegression, # Линейная классификация\n",
    "    LinearRegression, # Линейная регрессия\n",
    "    Ridge , # Линейная регрессия. \"Хребтовая\" регрессия (метод наименьших квадратов)\n",
    "    BayesianRidge , # Линейная регрессия. Байесовская \"хребтовая\" регрессия (максимизации предельного логарифмического правдоподобия)\n",
    "    SGDRegressor # Линейная регрессия. SGD - Стохастический градиентный спуск (минимизирует регуляризованные эмпирические потери за счет стохастического градиентного спуска)\n",
    ")\n",
    "# Решающее дерево\n",
    "from sklearn.tree import(\n",
    "    #DecisionTreeClassifier, # Решающее дерево. Классификация\n",
    "    DecisionTreeRegressor # Решающее дерево. Регрессия\n",
    ")\n",
    "# Случайный лес\n",
    "from sklearn.ensemble import(\n",
    "    #RandomForestClassifier, # Случайный лес. Классификация\n",
    "    RandomForestRegressor # Случайный лес. Регрессия\n",
    ")\n",
    "# Машина опорных векторов\n",
    "from sklearn.svm import(\n",
    "    SVR # # Линейная модель. Регрессия с использованием опорных векторов\n",
    ")\n",
    "# Нейронная сеть\n",
    "from sklearn.neural_network import(\n",
    "    MLPRegressor # Нейронная сеть. Регрессия\n",
    ")\n",
    "# CatBoost (made in Yandex)\n",
    "from catboost import(\n",
    "    CatBoostRegressor # CatBoost (Яндекс). Регрессия\n",
    ")\n",
    "# LightGBM\n",
    "from lightgbm import(\n",
    "    LGBMRegressor # LightGBM. Регрессия\n",
    ")\n",
    "\n",
    "# Метрики (Показатели качества моделей)\n",
    "from sklearn.metrics import(\n",
    "    # Метрики для моделей регрессии\n",
    "    mean_absolute_error, # MAE, Средняя абсолютная ошибка (не чувствительная к выбросам)\n",
    "    mean_absolute_percentage_error, # MAPE, Средняя абсолютная ошибка в % (универсальная в %)\n",
    "    mean_squared_error, # MSE, Средняя квадратичная ошибка (дисперсия, чувствительная к выбросам), RMSE (сигма) = mean_squared_error(test_y, preds, squared=False)\n",
    "    r2_score, # R^2, Коэффициент детерминации (универсальная в %, чувствительная к выбросам, может быть отрицательной и возвращать NaN)\n",
    "    \n",
    "    # Другое\n",
    "    make_scorer, # Функция для использования собственных функций в параметре scoring функции HalvingGridSearchCV\n",
    "    ConfusionMatrixDisplay\n",
    ")\n",
    "\n",
    "# Визуализация графиков\n",
    "import seaborn as sns\n",
    "import matplotlib\n",
    "%matplotlib inline\n",
    "from matplotlib import pyplot as plt\n",
    "from matplotlib import rcParams, rcParamsDefault\n",
    "from pandas.plotting import scatter_matrix\n",
    "\n",
    "# Для поиска совпадений \n",
    "# в названиях населённых пунктов\n",
    "from fuzzywuzzy import fuzz\n",
    "from fuzzywuzzy import process\n",
    "\n",
    "# Улучшенная функция \n",
    "# определения корреляции\n",
    "# (возвращает сообщение о том, \n",
    "# что модуль не найден) \n",
    "!pip3 install phik\n",
    "import phik \n"
   ]
  },
  {
   "cell_type": "code",
   "execution_count": 2,
   "metadata": {},
   "outputs": [],
   "source": [
    "# Отображение всех столбцов таблицы\n",
    "pd.set_option('display.max_columns', None)\n",
    "# Обязательно для нормального отображения графиков plt\n",
    "rcParams['figure.figsize'] = 10, 6\n",
    "%config InlineBackend.figure_format = 'svg'\n",
    "# Дополнительно и не обязательно для декорирования графиков\n",
    "factor = .8\n",
    "default_dpi = rcParamsDefault['figure.dpi']\n",
    "rcParams['figure.dpi'] = default_dpi * factor\n",
    "\n",
    "# Глобальная переменная \n",
    "# для функций со случайными значениями\n",
    "STATE = 42\n"
   ]
  },
  {
   "cell_type": "markdown",
   "metadata": {},
   "source": [
    "### Загрузка и изучение данных"
   ]
  },
  {
   "cell_type": "code",
   "execution_count": 3,
   "metadata": {},
   "outputs": [],
   "source": [
    "# Загрузка данных\n",
    "def read_csv_file(path1, path2):\n",
    "    if os.path.exists(path1):\n",
    "        data = pd.read_csv(path1)\n",
    "    elif os.path.exists(path2):\n",
    "        data = pd.read_csv(path2)\n",
    "    else:\n",
    "        print('Файл не найден')\n",
    "    return data\n",
    "\n",
    "data = read_csv_file(\n",
    "    '/datasets/autos.csv', \n",
    "    'datasets/autos.csv'\n",
    ")"
   ]
  },
  {
   "cell_type": "code",
   "execution_count": 4,
   "metadata": {},
   "outputs": [
    {
     "name": "stdout",
     "output_type": "stream",
     "text": [
      "<class 'pandas.core.frame.DataFrame'>\n",
      "RangeIndex: 354369 entries, 0 to 354368\n",
      "Data columns (total 16 columns):\n",
      " #   Column             Non-Null Count   Dtype \n",
      "---  ------             --------------   ----- \n",
      " 0   DateCrawled        354369 non-null  object\n",
      " 1   Price              354369 non-null  int64 \n",
      " 2   VehicleType        316879 non-null  object\n",
      " 3   RegistrationYear   354369 non-null  int64 \n",
      " 4   Gearbox            334536 non-null  object\n",
      " 5   Power              354369 non-null  int64 \n",
      " 6   Model              334664 non-null  object\n",
      " 7   Kilometer          354369 non-null  int64 \n",
      " 8   RegistrationMonth  354369 non-null  int64 \n",
      " 9   FuelType           321474 non-null  object\n",
      " 10  Brand              354369 non-null  object\n",
      " 11  Repaired           283215 non-null  object\n",
      " 12  DateCreated        354369 non-null  object\n",
      " 13  NumberOfPictures   354369 non-null  int64 \n",
      " 14  PostalCode         354369 non-null  int64 \n",
      " 15  LastSeen           354369 non-null  object\n",
      "dtypes: int64(7), object(9)\n",
      "memory usage: 43.3+ MB\n",
      "None\n"
     ]
    },
    {
     "data": {
      "text/html": [
       "<div>\n",
       "<style scoped>\n",
       "    .dataframe tbody tr th:only-of-type {\n",
       "        vertical-align: middle;\n",
       "    }\n",
       "\n",
       "    .dataframe tbody tr th {\n",
       "        vertical-align: top;\n",
       "    }\n",
       "\n",
       "    .dataframe thead th {\n",
       "        text-align: right;\n",
       "    }\n",
       "</style>\n",
       "<table border=\"1\" class=\"dataframe\">\n",
       "  <thead>\n",
       "    <tr style=\"text-align: right;\">\n",
       "      <th></th>\n",
       "      <th>DateCrawled</th>\n",
       "      <th>Price</th>\n",
       "      <th>VehicleType</th>\n",
       "      <th>RegistrationYear</th>\n",
       "      <th>Gearbox</th>\n",
       "      <th>Power</th>\n",
       "      <th>Model</th>\n",
       "      <th>Kilometer</th>\n",
       "      <th>RegistrationMonth</th>\n",
       "      <th>FuelType</th>\n",
       "      <th>Brand</th>\n",
       "      <th>Repaired</th>\n",
       "      <th>DateCreated</th>\n",
       "      <th>NumberOfPictures</th>\n",
       "      <th>PostalCode</th>\n",
       "      <th>LastSeen</th>\n",
       "    </tr>\n",
       "  </thead>\n",
       "  <tbody>\n",
       "    <tr>\n",
       "      <th>0</th>\n",
       "      <td>2016-03-24 11:52:17</td>\n",
       "      <td>480</td>\n",
       "      <td>NaN</td>\n",
       "      <td>1993</td>\n",
       "      <td>manual</td>\n",
       "      <td>0</td>\n",
       "      <td>golf</td>\n",
       "      <td>150000</td>\n",
       "      <td>0</td>\n",
       "      <td>petrol</td>\n",
       "      <td>volkswagen</td>\n",
       "      <td>NaN</td>\n",
       "      <td>2016-03-24 00:00:00</td>\n",
       "      <td>0</td>\n",
       "      <td>70435</td>\n",
       "      <td>2016-04-07 03:16:57</td>\n",
       "    </tr>\n",
       "    <tr>\n",
       "      <th>1</th>\n",
       "      <td>2016-03-24 10:58:45</td>\n",
       "      <td>18300</td>\n",
       "      <td>coupe</td>\n",
       "      <td>2011</td>\n",
       "      <td>manual</td>\n",
       "      <td>190</td>\n",
       "      <td>NaN</td>\n",
       "      <td>125000</td>\n",
       "      <td>5</td>\n",
       "      <td>gasoline</td>\n",
       "      <td>audi</td>\n",
       "      <td>yes</td>\n",
       "      <td>2016-03-24 00:00:00</td>\n",
       "      <td>0</td>\n",
       "      <td>66954</td>\n",
       "      <td>2016-04-07 01:46:50</td>\n",
       "    </tr>\n",
       "    <tr>\n",
       "      <th>2</th>\n",
       "      <td>2016-03-14 12:52:21</td>\n",
       "      <td>9800</td>\n",
       "      <td>suv</td>\n",
       "      <td>2004</td>\n",
       "      <td>auto</td>\n",
       "      <td>163</td>\n",
       "      <td>grand</td>\n",
       "      <td>125000</td>\n",
       "      <td>8</td>\n",
       "      <td>gasoline</td>\n",
       "      <td>jeep</td>\n",
       "      <td>NaN</td>\n",
       "      <td>2016-03-14 00:00:00</td>\n",
       "      <td>0</td>\n",
       "      <td>90480</td>\n",
       "      <td>2016-04-05 12:47:46</td>\n",
       "    </tr>\n",
       "    <tr>\n",
       "      <th>3</th>\n",
       "      <td>2016-03-17 16:54:04</td>\n",
       "      <td>1500</td>\n",
       "      <td>small</td>\n",
       "      <td>2001</td>\n",
       "      <td>manual</td>\n",
       "      <td>75</td>\n",
       "      <td>golf</td>\n",
       "      <td>150000</td>\n",
       "      <td>6</td>\n",
       "      <td>petrol</td>\n",
       "      <td>volkswagen</td>\n",
       "      <td>no</td>\n",
       "      <td>2016-03-17 00:00:00</td>\n",
       "      <td>0</td>\n",
       "      <td>91074</td>\n",
       "      <td>2016-03-17 17:40:17</td>\n",
       "    </tr>\n",
       "    <tr>\n",
       "      <th>4</th>\n",
       "      <td>2016-03-31 17:25:20</td>\n",
       "      <td>3600</td>\n",
       "      <td>small</td>\n",
       "      <td>2008</td>\n",
       "      <td>manual</td>\n",
       "      <td>69</td>\n",
       "      <td>fabia</td>\n",
       "      <td>90000</td>\n",
       "      <td>7</td>\n",
       "      <td>gasoline</td>\n",
       "      <td>skoda</td>\n",
       "      <td>no</td>\n",
       "      <td>2016-03-31 00:00:00</td>\n",
       "      <td>0</td>\n",
       "      <td>60437</td>\n",
       "      <td>2016-04-06 10:17:21</td>\n",
       "    </tr>\n",
       "    <tr>\n",
       "      <th>5</th>\n",
       "      <td>2016-04-04 17:36:23</td>\n",
       "      <td>650</td>\n",
       "      <td>sedan</td>\n",
       "      <td>1995</td>\n",
       "      <td>manual</td>\n",
       "      <td>102</td>\n",
       "      <td>3er</td>\n",
       "      <td>150000</td>\n",
       "      <td>10</td>\n",
       "      <td>petrol</td>\n",
       "      <td>bmw</td>\n",
       "      <td>yes</td>\n",
       "      <td>2016-04-04 00:00:00</td>\n",
       "      <td>0</td>\n",
       "      <td>33775</td>\n",
       "      <td>2016-04-06 19:17:07</td>\n",
       "    </tr>\n",
       "    <tr>\n",
       "      <th>6</th>\n",
       "      <td>2016-04-01 20:48:51</td>\n",
       "      <td>2200</td>\n",
       "      <td>convertible</td>\n",
       "      <td>2004</td>\n",
       "      <td>manual</td>\n",
       "      <td>109</td>\n",
       "      <td>2_reihe</td>\n",
       "      <td>150000</td>\n",
       "      <td>8</td>\n",
       "      <td>petrol</td>\n",
       "      <td>peugeot</td>\n",
       "      <td>no</td>\n",
       "      <td>2016-04-01 00:00:00</td>\n",
       "      <td>0</td>\n",
       "      <td>67112</td>\n",
       "      <td>2016-04-05 18:18:39</td>\n",
       "    </tr>\n",
       "    <tr>\n",
       "      <th>7</th>\n",
       "      <td>2016-03-21 18:54:38</td>\n",
       "      <td>0</td>\n",
       "      <td>sedan</td>\n",
       "      <td>1980</td>\n",
       "      <td>manual</td>\n",
       "      <td>50</td>\n",
       "      <td>other</td>\n",
       "      <td>40000</td>\n",
       "      <td>7</td>\n",
       "      <td>petrol</td>\n",
       "      <td>volkswagen</td>\n",
       "      <td>no</td>\n",
       "      <td>2016-03-21 00:00:00</td>\n",
       "      <td>0</td>\n",
       "      <td>19348</td>\n",
       "      <td>2016-03-25 16:47:58</td>\n",
       "    </tr>\n",
       "    <tr>\n",
       "      <th>8</th>\n",
       "      <td>2016-04-04 23:42:13</td>\n",
       "      <td>14500</td>\n",
       "      <td>bus</td>\n",
       "      <td>2014</td>\n",
       "      <td>manual</td>\n",
       "      <td>125</td>\n",
       "      <td>c_max</td>\n",
       "      <td>30000</td>\n",
       "      <td>8</td>\n",
       "      <td>petrol</td>\n",
       "      <td>ford</td>\n",
       "      <td>NaN</td>\n",
       "      <td>2016-04-04 00:00:00</td>\n",
       "      <td>0</td>\n",
       "      <td>94505</td>\n",
       "      <td>2016-04-04 23:42:13</td>\n",
       "    </tr>\n",
       "    <tr>\n",
       "      <th>9</th>\n",
       "      <td>2016-03-17 10:53:50</td>\n",
       "      <td>999</td>\n",
       "      <td>small</td>\n",
       "      <td>1998</td>\n",
       "      <td>manual</td>\n",
       "      <td>101</td>\n",
       "      <td>golf</td>\n",
       "      <td>150000</td>\n",
       "      <td>0</td>\n",
       "      <td>NaN</td>\n",
       "      <td>volkswagen</td>\n",
       "      <td>NaN</td>\n",
       "      <td>2016-03-17 00:00:00</td>\n",
       "      <td>0</td>\n",
       "      <td>27472</td>\n",
       "      <td>2016-03-31 17:17:06</td>\n",
       "    </tr>\n",
       "  </tbody>\n",
       "</table>\n",
       "</div>"
      ],
      "text/plain": [
       "           DateCrawled  Price  VehicleType  RegistrationYear Gearbox  Power  \\\n",
       "0  2016-03-24 11:52:17    480          NaN              1993  manual      0   \n",
       "1  2016-03-24 10:58:45  18300        coupe              2011  manual    190   \n",
       "2  2016-03-14 12:52:21   9800          suv              2004    auto    163   \n",
       "3  2016-03-17 16:54:04   1500        small              2001  manual     75   \n",
       "4  2016-03-31 17:25:20   3600        small              2008  manual     69   \n",
       "5  2016-04-04 17:36:23    650        sedan              1995  manual    102   \n",
       "6  2016-04-01 20:48:51   2200  convertible              2004  manual    109   \n",
       "7  2016-03-21 18:54:38      0        sedan              1980  manual     50   \n",
       "8  2016-04-04 23:42:13  14500          bus              2014  manual    125   \n",
       "9  2016-03-17 10:53:50    999        small              1998  manual    101   \n",
       "\n",
       "     Model  Kilometer  RegistrationMonth  FuelType       Brand Repaired  \\\n",
       "0     golf     150000                  0    petrol  volkswagen      NaN   \n",
       "1      NaN     125000                  5  gasoline        audi      yes   \n",
       "2    grand     125000                  8  gasoline        jeep      NaN   \n",
       "3     golf     150000                  6    petrol  volkswagen       no   \n",
       "4    fabia      90000                  7  gasoline       skoda       no   \n",
       "5      3er     150000                 10    petrol         bmw      yes   \n",
       "6  2_reihe     150000                  8    petrol     peugeot       no   \n",
       "7    other      40000                  7    petrol  volkswagen       no   \n",
       "8    c_max      30000                  8    petrol        ford      NaN   \n",
       "9     golf     150000                  0       NaN  volkswagen      NaN   \n",
       "\n",
       "           DateCreated  NumberOfPictures  PostalCode             LastSeen  \n",
       "0  2016-03-24 00:00:00                 0       70435  2016-04-07 03:16:57  \n",
       "1  2016-03-24 00:00:00                 0       66954  2016-04-07 01:46:50  \n",
       "2  2016-03-14 00:00:00                 0       90480  2016-04-05 12:47:46  \n",
       "3  2016-03-17 00:00:00                 0       91074  2016-03-17 17:40:17  \n",
       "4  2016-03-31 00:00:00                 0       60437  2016-04-06 10:17:21  \n",
       "5  2016-04-04 00:00:00                 0       33775  2016-04-06 19:17:07  \n",
       "6  2016-04-01 00:00:00                 0       67112  2016-04-05 18:18:39  \n",
       "7  2016-03-21 00:00:00                 0       19348  2016-03-25 16:47:58  \n",
       "8  2016-04-04 00:00:00                 0       94505  2016-04-04 23:42:13  \n",
       "9  2016-03-17 00:00:00                 0       27472  2016-03-31 17:17:06  "
      ]
     },
     "execution_count": 4,
     "metadata": {},
     "output_type": "execute_result"
    }
   ],
   "source": [
    "# Первичный анализ данных\n",
    "print(data.info()) \n",
    "data.head(10) \n"
   ]
  },
  {
   "cell_type": "code",
   "execution_count": 5,
   "metadata": {
    "scrolled": false
   },
   "outputs": [
    {
     "data": {
      "text/html": [
       "<div>\n",
       "<style scoped>\n",
       "    .dataframe tbody tr th:only-of-type {\n",
       "        vertical-align: middle;\n",
       "    }\n",
       "\n",
       "    .dataframe tbody tr th {\n",
       "        vertical-align: top;\n",
       "    }\n",
       "\n",
       "    .dataframe thead th {\n",
       "        text-align: right;\n",
       "    }\n",
       "</style>\n",
       "<table border=\"1\" class=\"dataframe\">\n",
       "  <thead>\n",
       "    <tr style=\"text-align: right;\">\n",
       "      <th></th>\n",
       "      <th>Price</th>\n",
       "      <th>RegistrationYear</th>\n",
       "      <th>Power</th>\n",
       "      <th>Kilometer</th>\n",
       "      <th>RegistrationMonth</th>\n",
       "      <th>NumberOfPictures</th>\n",
       "      <th>PostalCode</th>\n",
       "    </tr>\n",
       "  </thead>\n",
       "  <tbody>\n",
       "    <tr>\n",
       "      <th>count</th>\n",
       "      <td>354369.000000</td>\n",
       "      <td>354369.000000</td>\n",
       "      <td>354369.000000</td>\n",
       "      <td>354369.000000</td>\n",
       "      <td>354369.000000</td>\n",
       "      <td>354369.0</td>\n",
       "      <td>354369.000000</td>\n",
       "    </tr>\n",
       "    <tr>\n",
       "      <th>mean</th>\n",
       "      <td>4416.656776</td>\n",
       "      <td>2004.234448</td>\n",
       "      <td>110.094337</td>\n",
       "      <td>128211.172535</td>\n",
       "      <td>5.714645</td>\n",
       "      <td>0.0</td>\n",
       "      <td>50508.689087</td>\n",
       "    </tr>\n",
       "    <tr>\n",
       "      <th>std</th>\n",
       "      <td>4514.158514</td>\n",
       "      <td>90.227958</td>\n",
       "      <td>189.850405</td>\n",
       "      <td>37905.341530</td>\n",
       "      <td>3.726421</td>\n",
       "      <td>0.0</td>\n",
       "      <td>25783.096248</td>\n",
       "    </tr>\n",
       "    <tr>\n",
       "      <th>min</th>\n",
       "      <td>0.000000</td>\n",
       "      <td>1000.000000</td>\n",
       "      <td>0.000000</td>\n",
       "      <td>5000.000000</td>\n",
       "      <td>0.000000</td>\n",
       "      <td>0.0</td>\n",
       "      <td>1067.000000</td>\n",
       "    </tr>\n",
       "    <tr>\n",
       "      <th>25%</th>\n",
       "      <td>1050.000000</td>\n",
       "      <td>1999.000000</td>\n",
       "      <td>69.000000</td>\n",
       "      <td>125000.000000</td>\n",
       "      <td>3.000000</td>\n",
       "      <td>0.0</td>\n",
       "      <td>30165.000000</td>\n",
       "    </tr>\n",
       "    <tr>\n",
       "      <th>50%</th>\n",
       "      <td>2700.000000</td>\n",
       "      <td>2003.000000</td>\n",
       "      <td>105.000000</td>\n",
       "      <td>150000.000000</td>\n",
       "      <td>6.000000</td>\n",
       "      <td>0.0</td>\n",
       "      <td>49413.000000</td>\n",
       "    </tr>\n",
       "    <tr>\n",
       "      <th>75%</th>\n",
       "      <td>6400.000000</td>\n",
       "      <td>2008.000000</td>\n",
       "      <td>143.000000</td>\n",
       "      <td>150000.000000</td>\n",
       "      <td>9.000000</td>\n",
       "      <td>0.0</td>\n",
       "      <td>71083.000000</td>\n",
       "    </tr>\n",
       "    <tr>\n",
       "      <th>max</th>\n",
       "      <td>20000.000000</td>\n",
       "      <td>9999.000000</td>\n",
       "      <td>20000.000000</td>\n",
       "      <td>150000.000000</td>\n",
       "      <td>12.000000</td>\n",
       "      <td>0.0</td>\n",
       "      <td>99998.000000</td>\n",
       "    </tr>\n",
       "  </tbody>\n",
       "</table>\n",
       "</div>"
      ],
      "text/plain": [
       "               Price  RegistrationYear          Power      Kilometer  \\\n",
       "count  354369.000000     354369.000000  354369.000000  354369.000000   \n",
       "mean     4416.656776       2004.234448     110.094337  128211.172535   \n",
       "std      4514.158514         90.227958     189.850405   37905.341530   \n",
       "min         0.000000       1000.000000       0.000000    5000.000000   \n",
       "25%      1050.000000       1999.000000      69.000000  125000.000000   \n",
       "50%      2700.000000       2003.000000     105.000000  150000.000000   \n",
       "75%      6400.000000       2008.000000     143.000000  150000.000000   \n",
       "max     20000.000000       9999.000000   20000.000000  150000.000000   \n",
       "\n",
       "       RegistrationMonth  NumberOfPictures     PostalCode  \n",
       "count      354369.000000          354369.0  354369.000000  \n",
       "mean            5.714645               0.0   50508.689087  \n",
       "std             3.726421               0.0   25783.096248  \n",
       "min             0.000000               0.0    1067.000000  \n",
       "25%             3.000000               0.0   30165.000000  \n",
       "50%             6.000000               0.0   49413.000000  \n",
       "75%             9.000000               0.0   71083.000000  \n",
       "max            12.000000               0.0   99998.000000  "
      ]
     },
     "execution_count": 5,
     "metadata": {},
     "output_type": "execute_result"
    },
    {
     "data": {
      "image/svg+xml": [
       "<?xml version=\"1.0\" encoding=\"utf-8\" standalone=\"no\"?>\n",
       "<!DOCTYPE svg PUBLIC \"-//W3C//DTD SVG 1.1//EN\"\n",
       "  \"http://www.w3.org/Graphics/SVG/1.1/DTD/svg11.dtd\">\n",
       "<!-- Created with matplotlib (https://matplotlib.org/) -->\n",
       "<svg height=\"372.35625pt\" version=\"1.1\" viewBox=\"0 0 626.806609 372.35625\" width=\"626.806609pt\" xmlns=\"http://www.w3.org/2000/svg\" xmlns:xlink=\"http://www.w3.org/1999/xlink\">\n",
       " <metadata>\n",
       "  <rdf:RDF xmlns:cc=\"http://creativecommons.org/ns#\" xmlns:dc=\"http://purl.org/dc/elements/1.1/\" xmlns:rdf=\"http://www.w3.org/1999/02/22-rdf-syntax-ns#\">\n",
       "   <cc:Work>\n",
       "    <dc:type rdf:resource=\"http://purl.org/dc/dcmitype/StillImage\"/>\n",
       "    <dc:date>2023-08-24T22:28:13.126563</dc:date>\n",
       "    <dc:format>image/svg+xml</dc:format>\n",
       "    <dc:creator>\n",
       "     <cc:Agent>\n",
       "      <dc:title>Matplotlib v3.3.4, https://matplotlib.org/</dc:title>\n",
       "     </cc:Agent>\n",
       "    </dc:creator>\n",
       "   </cc:Work>\n",
       "  </rdf:RDF>\n",
       " </metadata>\n",
       " <defs>\n",
       "  <style type=\"text/css\">*{stroke-linecap:butt;stroke-linejoin:round;}</style>\n",
       " </defs>\n",
       " <g id=\"figure_1\">\n",
       "  <g id=\"patch_1\">\n",
       "   <path d=\"M 0 372.35625 \n",
       "L 626.806609 372.35625 \n",
       "L 626.806609 0 \n",
       "L 0 0 \n",
       "z\n",
       "\" style=\"fill:none;\"/>\n",
       "  </g>\n",
       "  <g id=\"axes_1\">\n",
       "   <g id=\"patch_2\">\n",
       "    <path d=\"M 52.375 103.858125 \n",
       "L 199.217105 103.858125 \n",
       "L 199.217105 22.318125 \n",
       "L 52.375 22.318125 \n",
       "z\n",
       "\" style=\"fill:#ffffff;\"/>\n",
       "   </g>\n",
       "   <g id=\"patch_3\">\n",
       "    <path clip-path=\"url(#p6db4456893)\" d=\"M 59.049641 103.858125 \n",
       "L 72.398923 103.858125 \n",
       "L 72.398923 26.200982 \n",
       "L 59.049641 26.200982 \n",
       "z\n",
       "\" style=\"fill:#1f77b4;\"/>\n",
       "   </g>\n",
       "   <g id=\"patch_4\">\n",
       "    <path clip-path=\"url(#p6db4456893)\" d=\"M 72.398923 103.858125 \n",
       "L 85.748206 103.858125 \n",
       "L 85.748206 65.475671 \n",
       "L 72.398923 65.475671 \n",
       "z\n",
       "\" style=\"fill:#1f77b4;\"/>\n",
       "   </g>\n",
       "   <g id=\"patch_5\">\n",
       "    <path clip-path=\"url(#p6db4456893)\" d=\"M 85.748206 103.858125 \n",
       "L 99.097488 103.858125 \n",
       "L 99.097488 82.376986 \n",
       "L 85.748206 82.376986 \n",
       "z\n",
       "\" style=\"fill:#1f77b4;\"/>\n",
       "   </g>\n",
       "   <g id=\"patch_6\">\n",
       "    <path clip-path=\"url(#p6db4456893)\" d=\"M 99.097488 103.858125 \n",
       "L 112.44677 103.858125 \n",
       "L 112.44677 88.738116 \n",
       "L 99.097488 88.738116 \n",
       "z\n",
       "\" style=\"fill:#1f77b4;\"/>\n",
       "   </g>\n",
       "   <g id=\"patch_7\">\n",
       "    <path clip-path=\"url(#p6db4456893)\" d=\"M 112.44677 103.858125 \n",
       "L 125.796053 103.858125 \n",
       "L 125.796053 92.908207 \n",
       "L 112.44677 92.908207 \n",
       "z\n",
       "\" style=\"fill:#1f77b4;\"/>\n",
       "   </g>\n",
       "   <g id=\"patch_8\">\n",
       "    <path clip-path=\"url(#p6db4456893)\" d=\"M 125.796053 103.858125 \n",
       "L 139.145335 103.858125 \n",
       "L 139.145335 97.070389 \n",
       "L 125.796053 97.070389 \n",
       "z\n",
       "\" style=\"fill:#1f77b4;\"/>\n",
       "   </g>\n",
       "   <g id=\"patch_9\">\n",
       "    <path clip-path=\"url(#p6db4456893)\" d=\"M 139.145335 103.858125 \n",
       "L 152.494617 103.858125 \n",
       "L 152.494617 98.016938 \n",
       "L 139.145335 98.016938 \n",
       "z\n",
       "\" style=\"fill:#1f77b4;\"/>\n",
       "   </g>\n",
       "   <g id=\"patch_10\">\n",
       "    <path clip-path=\"url(#p6db4456893)\" d=\"M 152.494617 103.858125 \n",
       "L 165.8439 103.858125 \n",
       "L 165.8439 99.295176 \n",
       "L 152.494617 99.295176 \n",
       "z\n",
       "\" style=\"fill:#1f77b4;\"/>\n",
       "   </g>\n",
       "   <g id=\"patch_11\">\n",
       "    <path clip-path=\"url(#p6db4456893)\" d=\"M 165.8439 103.858125 \n",
       "L 179.193182 103.858125 \n",
       "L 179.193182 100.479022 \n",
       "L 165.8439 100.479022 \n",
       "z\n",
       "\" style=\"fill:#1f77b4;\"/>\n",
       "   </g>\n",
       "   <g id=\"patch_12\">\n",
       "    <path clip-path=\"url(#p6db4456893)\" d=\"M 179.193182 103.858125 \n",
       "L 192.542464 103.858125 \n",
       "L 192.542464 101.15189 \n",
       "L 179.193182 101.15189 \n",
       "z\n",
       "\" style=\"fill:#1f77b4;\"/>\n",
       "   </g>\n",
       "   <g id=\"matplotlib.axis_1\">\n",
       "    <g id=\"xtick_1\">\n",
       "     <g id=\"line2d_1\">\n",
       "      <path clip-path=\"url(#p6db4456893)\" d=\"M 59.049641 103.858125 \n",
       "L 59.049641 22.318125 \n",
       "\" style=\"fill:none;stroke:#b0b0b0;stroke-linecap:square;stroke-width:0.8;\"/>\n",
       "     </g>\n",
       "     <g id=\"line2d_2\">\n",
       "      <defs>\n",
       "       <path d=\"M 0 0 \n",
       "L 0 3.5 \n",
       "\" id=\"m6c0b4844b7\" style=\"stroke:#000000;stroke-width:0.8;\"/>\n",
       "      </defs>\n",
       "      <g>\n",
       "       <use style=\"stroke:#000000;stroke-width:0.8;\" x=\"59.049641\" xlink:href=\"#m6c0b4844b7\" y=\"103.858125\"/>\n",
       "      </g>\n",
       "     </g>\n",
       "     <g id=\"text_1\">\n",
       "      <!-- 0 -->\n",
       "      <g transform=\"translate(55.868391 118.456563)scale(0.1 -0.1)\">\n",
       "       <defs>\n",
       "        <path d=\"M 31.78125 66.40625 \n",
       "Q 24.171875 66.40625 20.328125 58.90625 \n",
       "Q 16.5 51.421875 16.5 36.375 \n",
       "Q 16.5 21.390625 20.328125 13.890625 \n",
       "Q 24.171875 6.390625 31.78125 6.390625 \n",
       "Q 39.453125 6.390625 43.28125 13.890625 \n",
       "Q 47.125 21.390625 47.125 36.375 \n",
       "Q 47.125 51.421875 43.28125 58.90625 \n",
       "Q 39.453125 66.40625 31.78125 66.40625 \n",
       "z\n",
       "M 31.78125 74.21875 \n",
       "Q 44.046875 74.21875 50.515625 64.515625 \n",
       "Q 56.984375 54.828125 56.984375 36.375 \n",
       "Q 56.984375 17.96875 50.515625 8.265625 \n",
       "Q 44.046875 -1.421875 31.78125 -1.421875 \n",
       "Q 19.53125 -1.421875 13.0625 8.265625 \n",
       "Q 6.59375 17.96875 6.59375 36.375 \n",
       "Q 6.59375 54.828125 13.0625 64.515625 \n",
       "Q 19.53125 74.21875 31.78125 74.21875 \n",
       "z\n",
       "\" id=\"DejaVuSans-48\"/>\n",
       "       </defs>\n",
       "       <use xlink:href=\"#DejaVuSans-48\"/>\n",
       "      </g>\n",
       "     </g>\n",
       "    </g>\n",
       "    <g id=\"xtick_2\">\n",
       "     <g id=\"line2d_3\">\n",
       "      <path clip-path=\"url(#p6db4456893)\" d=\"M 125.796053 103.858125 \n",
       "L 125.796053 22.318125 \n",
       "\" style=\"fill:none;stroke:#b0b0b0;stroke-linecap:square;stroke-width:0.8;\"/>\n",
       "     </g>\n",
       "     <g id=\"line2d_4\">\n",
       "      <g>\n",
       "       <use style=\"stroke:#000000;stroke-width:0.8;\" x=\"125.796053\" xlink:href=\"#m6c0b4844b7\" y=\"103.858125\"/>\n",
       "      </g>\n",
       "     </g>\n",
       "     <g id=\"text_2\">\n",
       "      <!-- 10000 -->\n",
       "      <g transform=\"translate(109.889803 118.456563)scale(0.1 -0.1)\">\n",
       "       <defs>\n",
       "        <path d=\"M 12.40625 8.296875 \n",
       "L 28.515625 8.296875 \n",
       "L 28.515625 63.921875 \n",
       "L 10.984375 60.40625 \n",
       "L 10.984375 69.390625 \n",
       "L 28.421875 72.90625 \n",
       "L 38.28125 72.90625 \n",
       "L 38.28125 8.296875 \n",
       "L 54.390625 8.296875 \n",
       "L 54.390625 0 \n",
       "L 12.40625 0 \n",
       "z\n",
       "\" id=\"DejaVuSans-49\"/>\n",
       "       </defs>\n",
       "       <use xlink:href=\"#DejaVuSans-49\"/>\n",
       "       <use x=\"63.623047\" xlink:href=\"#DejaVuSans-48\"/>\n",
       "       <use x=\"127.246094\" xlink:href=\"#DejaVuSans-48\"/>\n",
       "       <use x=\"190.869141\" xlink:href=\"#DejaVuSans-48\"/>\n",
       "       <use x=\"254.492188\" xlink:href=\"#DejaVuSans-48\"/>\n",
       "      </g>\n",
       "     </g>\n",
       "    </g>\n",
       "    <g id=\"xtick_3\">\n",
       "     <g id=\"line2d_5\">\n",
       "      <path clip-path=\"url(#p6db4456893)\" d=\"M 192.542464 103.858125 \n",
       "L 192.542464 22.318125 \n",
       "\" style=\"fill:none;stroke:#b0b0b0;stroke-linecap:square;stroke-width:0.8;\"/>\n",
       "     </g>\n",
       "     <g id=\"line2d_6\">\n",
       "      <g>\n",
       "       <use style=\"stroke:#000000;stroke-width:0.8;\" x=\"192.542464\" xlink:href=\"#m6c0b4844b7\" y=\"103.858125\"/>\n",
       "      </g>\n",
       "     </g>\n",
       "     <g id=\"text_3\">\n",
       "      <!-- 20000 -->\n",
       "      <g transform=\"translate(176.636214 118.456563)scale(0.1 -0.1)\">\n",
       "       <defs>\n",
       "        <path d=\"M 19.1875 8.296875 \n",
       "L 53.609375 8.296875 \n",
       "L 53.609375 0 \n",
       "L 7.328125 0 \n",
       "L 7.328125 8.296875 \n",
       "Q 12.9375 14.109375 22.625 23.890625 \n",
       "Q 32.328125 33.6875 34.8125 36.53125 \n",
       "Q 39.546875 41.84375 41.421875 45.53125 \n",
       "Q 43.3125 49.21875 43.3125 52.78125 \n",
       "Q 43.3125 58.59375 39.234375 62.25 \n",
       "Q 35.15625 65.921875 28.609375 65.921875 \n",
       "Q 23.96875 65.921875 18.8125 64.3125 \n",
       "Q 13.671875 62.703125 7.8125 59.421875 \n",
       "L 7.8125 69.390625 \n",
       "Q 13.765625 71.78125 18.9375 73 \n",
       "Q 24.125 74.21875 28.421875 74.21875 \n",
       "Q 39.75 74.21875 46.484375 68.546875 \n",
       "Q 53.21875 62.890625 53.21875 53.421875 \n",
       "Q 53.21875 48.921875 51.53125 44.890625 \n",
       "Q 49.859375 40.875 45.40625 35.40625 \n",
       "Q 44.1875 33.984375 37.640625 27.21875 \n",
       "Q 31.109375 20.453125 19.1875 8.296875 \n",
       "z\n",
       "\" id=\"DejaVuSans-50\"/>\n",
       "       </defs>\n",
       "       <use xlink:href=\"#DejaVuSans-50\"/>\n",
       "       <use x=\"63.623047\" xlink:href=\"#DejaVuSans-48\"/>\n",
       "       <use x=\"127.246094\" xlink:href=\"#DejaVuSans-48\"/>\n",
       "       <use x=\"190.869141\" xlink:href=\"#DejaVuSans-48\"/>\n",
       "       <use x=\"254.492188\" xlink:href=\"#DejaVuSans-48\"/>\n",
       "      </g>\n",
       "     </g>\n",
       "    </g>\n",
       "   </g>\n",
       "   <g id=\"matplotlib.axis_2\">\n",
       "    <g id=\"ytick_1\">\n",
       "     <g id=\"line2d_7\">\n",
       "      <path clip-path=\"url(#p6db4456893)\" d=\"M 52.375 103.858125 \n",
       "L 199.217105 103.858125 \n",
       "\" style=\"fill:none;stroke:#b0b0b0;stroke-linecap:square;stroke-width:0.8;\"/>\n",
       "     </g>\n",
       "     <g id=\"line2d_8\">\n",
       "      <defs>\n",
       "       <path d=\"M 0 0 \n",
       "L -3.5 0 \n",
       "\" id=\"mf2475865b9\" style=\"stroke:#000000;stroke-width:0.8;\"/>\n",
       "      </defs>\n",
       "      <g>\n",
       "       <use style=\"stroke:#000000;stroke-width:0.8;\" x=\"52.375\" xlink:href=\"#mf2475865b9\" y=\"103.858125\"/>\n",
       "      </g>\n",
       "     </g>\n",
       "     <g id=\"text_4\">\n",
       "      <!-- 0 -->\n",
       "      <g transform=\"translate(39.0125 107.657344)scale(0.1 -0.1)\">\n",
       "       <use xlink:href=\"#DejaVuSans-48\"/>\n",
       "      </g>\n",
       "     </g>\n",
       "    </g>\n",
       "    <g id=\"ytick_2\">\n",
       "     <g id=\"line2d_9\">\n",
       "      <path clip-path=\"url(#p6db4456893)\" d=\"M 52.375 77.491841 \n",
       "L 199.217105 77.491841 \n",
       "\" style=\"fill:none;stroke:#b0b0b0;stroke-linecap:square;stroke-width:0.8;\"/>\n",
       "     </g>\n",
       "     <g id=\"line2d_10\">\n",
       "      <g>\n",
       "       <use style=\"stroke:#000000;stroke-width:0.8;\" x=\"52.375\" xlink:href=\"#mf2475865b9\" y=\"77.491841\"/>\n",
       "      </g>\n",
       "     </g>\n",
       "     <g id=\"text_5\">\n",
       "      <!-- 50000 -->\n",
       "      <g transform=\"translate(13.5625 81.29106)scale(0.1 -0.1)\">\n",
       "       <defs>\n",
       "        <path d=\"M 10.796875 72.90625 \n",
       "L 49.515625 72.90625 \n",
       "L 49.515625 64.59375 \n",
       "L 19.828125 64.59375 \n",
       "L 19.828125 46.734375 \n",
       "Q 21.96875 47.46875 24.109375 47.828125 \n",
       "Q 26.265625 48.1875 28.421875 48.1875 \n",
       "Q 40.625 48.1875 47.75 41.5 \n",
       "Q 54.890625 34.8125 54.890625 23.390625 \n",
       "Q 54.890625 11.625 47.5625 5.09375 \n",
       "Q 40.234375 -1.421875 26.90625 -1.421875 \n",
       "Q 22.3125 -1.421875 17.546875 -0.640625 \n",
       "Q 12.796875 0.140625 7.71875 1.703125 \n",
       "L 7.71875 11.625 \n",
       "Q 12.109375 9.234375 16.796875 8.0625 \n",
       "Q 21.484375 6.890625 26.703125 6.890625 \n",
       "Q 35.15625 6.890625 40.078125 11.328125 \n",
       "Q 45.015625 15.765625 45.015625 23.390625 \n",
       "Q 45.015625 31 40.078125 35.4375 \n",
       "Q 35.15625 39.890625 26.703125 39.890625 \n",
       "Q 22.75 39.890625 18.8125 39.015625 \n",
       "Q 14.890625 38.140625 10.796875 36.28125 \n",
       "z\n",
       "\" id=\"DejaVuSans-53\"/>\n",
       "       </defs>\n",
       "       <use xlink:href=\"#DejaVuSans-53\"/>\n",
       "       <use x=\"63.623047\" xlink:href=\"#DejaVuSans-48\"/>\n",
       "       <use x=\"127.246094\" xlink:href=\"#DejaVuSans-48\"/>\n",
       "       <use x=\"190.869141\" xlink:href=\"#DejaVuSans-48\"/>\n",
       "       <use x=\"254.492188\" xlink:href=\"#DejaVuSans-48\"/>\n",
       "      </g>\n",
       "     </g>\n",
       "    </g>\n",
       "    <g id=\"ytick_3\">\n",
       "     <g id=\"line2d_11\">\n",
       "      <path clip-path=\"url(#p6db4456893)\" d=\"M 52.375 51.125557 \n",
       "L 199.217105 51.125557 \n",
       "\" style=\"fill:none;stroke:#b0b0b0;stroke-linecap:square;stroke-width:0.8;\"/>\n",
       "     </g>\n",
       "     <g id=\"line2d_12\">\n",
       "      <g>\n",
       "       <use style=\"stroke:#000000;stroke-width:0.8;\" x=\"52.375\" xlink:href=\"#mf2475865b9\" y=\"51.125557\"/>\n",
       "      </g>\n",
       "     </g>\n",
       "     <g id=\"text_6\">\n",
       "      <!-- 100000 -->\n",
       "      <g transform=\"translate(7.2 54.924776)scale(0.1 -0.1)\">\n",
       "       <use xlink:href=\"#DejaVuSans-49\"/>\n",
       "       <use x=\"63.623047\" xlink:href=\"#DejaVuSans-48\"/>\n",
       "       <use x=\"127.246094\" xlink:href=\"#DejaVuSans-48\"/>\n",
       "       <use x=\"190.869141\" xlink:href=\"#DejaVuSans-48\"/>\n",
       "       <use x=\"254.492188\" xlink:href=\"#DejaVuSans-48\"/>\n",
       "       <use x=\"318.115234\" xlink:href=\"#DejaVuSans-48\"/>\n",
       "      </g>\n",
       "     </g>\n",
       "    </g>\n",
       "    <g id=\"ytick_4\">\n",
       "     <g id=\"line2d_13\">\n",
       "      <path clip-path=\"url(#p6db4456893)\" d=\"M 52.375 24.759274 \n",
       "L 199.217105 24.759274 \n",
       "\" style=\"fill:none;stroke:#b0b0b0;stroke-linecap:square;stroke-width:0.8;\"/>\n",
       "     </g>\n",
       "     <g id=\"line2d_14\">\n",
       "      <g>\n",
       "       <use style=\"stroke:#000000;stroke-width:0.8;\" x=\"52.375\" xlink:href=\"#mf2475865b9\" y=\"24.759274\"/>\n",
       "      </g>\n",
       "     </g>\n",
       "     <g id=\"text_7\">\n",
       "      <!-- 150000 -->\n",
       "      <g transform=\"translate(7.2 28.558492)scale(0.1 -0.1)\">\n",
       "       <use xlink:href=\"#DejaVuSans-49\"/>\n",
       "       <use x=\"63.623047\" xlink:href=\"#DejaVuSans-53\"/>\n",
       "       <use x=\"127.246094\" xlink:href=\"#DejaVuSans-48\"/>\n",
       "       <use x=\"190.869141\" xlink:href=\"#DejaVuSans-48\"/>\n",
       "       <use x=\"254.492188\" xlink:href=\"#DejaVuSans-48\"/>\n",
       "       <use x=\"318.115234\" xlink:href=\"#DejaVuSans-48\"/>\n",
       "      </g>\n",
       "     </g>\n",
       "    </g>\n",
       "   </g>\n",
       "   <g id=\"patch_13\">\n",
       "    <path d=\"M 52.375 103.858125 \n",
       "L 52.375 22.318125 \n",
       "\" style=\"fill:none;stroke:#000000;stroke-linecap:square;stroke-linejoin:miter;stroke-width:0.8;\"/>\n",
       "   </g>\n",
       "   <g id=\"patch_14\">\n",
       "    <path d=\"M 199.217105 103.858125 \n",
       "L 199.217105 22.318125 \n",
       "\" style=\"fill:none;stroke:#000000;stroke-linecap:square;stroke-linejoin:miter;stroke-width:0.8;\"/>\n",
       "   </g>\n",
       "   <g id=\"patch_15\">\n",
       "    <path d=\"M 52.375 103.858125 \n",
       "L 199.217105 103.858125 \n",
       "\" style=\"fill:none;stroke:#000000;stroke-linecap:square;stroke-linejoin:miter;stroke-width:0.8;\"/>\n",
       "   </g>\n",
       "   <g id=\"patch_16\">\n",
       "    <path d=\"M 52.375 22.318125 \n",
       "L 199.217105 22.318125 \n",
       "\" style=\"fill:none;stroke:#000000;stroke-linecap:square;stroke-linejoin:miter;stroke-width:0.8;\"/>\n",
       "   </g>\n",
       "   <g id=\"text_8\">\n",
       "    <!-- Price -->\n",
       "    <g transform=\"translate(111.158865 16.318125)scale(0.12 -0.12)\">\n",
       "     <defs>\n",
       "      <path d=\"M 19.671875 64.796875 \n",
       "L 19.671875 37.40625 \n",
       "L 32.078125 37.40625 \n",
       "Q 38.96875 37.40625 42.71875 40.96875 \n",
       "Q 46.484375 44.53125 46.484375 51.125 \n",
       "Q 46.484375 57.671875 42.71875 61.234375 \n",
       "Q 38.96875 64.796875 32.078125 64.796875 \n",
       "z\n",
       "M 9.8125 72.90625 \n",
       "L 32.078125 72.90625 \n",
       "Q 44.34375 72.90625 50.609375 67.359375 \n",
       "Q 56.890625 61.8125 56.890625 51.125 \n",
       "Q 56.890625 40.328125 50.609375 34.8125 \n",
       "Q 44.34375 29.296875 32.078125 29.296875 \n",
       "L 19.671875 29.296875 \n",
       "L 19.671875 0 \n",
       "L 9.8125 0 \n",
       "z\n",
       "\" id=\"DejaVuSans-80\"/>\n",
       "      <path d=\"M 41.109375 46.296875 \n",
       "Q 39.59375 47.171875 37.8125 47.578125 \n",
       "Q 36.03125 48 33.890625 48 \n",
       "Q 26.265625 48 22.1875 43.046875 \n",
       "Q 18.109375 38.09375 18.109375 28.8125 \n",
       "L 18.109375 0 \n",
       "L 9.078125 0 \n",
       "L 9.078125 54.6875 \n",
       "L 18.109375 54.6875 \n",
       "L 18.109375 46.1875 \n",
       "Q 20.953125 51.171875 25.484375 53.578125 \n",
       "Q 30.03125 56 36.53125 56 \n",
       "Q 37.453125 56 38.578125 55.875 \n",
       "Q 39.703125 55.765625 41.0625 55.515625 \n",
       "z\n",
       "\" id=\"DejaVuSans-114\"/>\n",
       "      <path d=\"M 9.421875 54.6875 \n",
       "L 18.40625 54.6875 \n",
       "L 18.40625 0 \n",
       "L 9.421875 0 \n",
       "z\n",
       "M 9.421875 75.984375 \n",
       "L 18.40625 75.984375 \n",
       "L 18.40625 64.59375 \n",
       "L 9.421875 64.59375 \n",
       "z\n",
       "\" id=\"DejaVuSans-105\"/>\n",
       "      <path d=\"M 48.78125 52.59375 \n",
       "L 48.78125 44.1875 \n",
       "Q 44.96875 46.296875 41.140625 47.34375 \n",
       "Q 37.3125 48.390625 33.40625 48.390625 \n",
       "Q 24.65625 48.390625 19.8125 42.84375 \n",
       "Q 14.984375 37.3125 14.984375 27.296875 \n",
       "Q 14.984375 17.28125 19.8125 11.734375 \n",
       "Q 24.65625 6.203125 33.40625 6.203125 \n",
       "Q 37.3125 6.203125 41.140625 7.25 \n",
       "Q 44.96875 8.296875 48.78125 10.40625 \n",
       "L 48.78125 2.09375 \n",
       "Q 45.015625 0.34375 40.984375 -0.53125 \n",
       "Q 36.96875 -1.421875 32.421875 -1.421875 \n",
       "Q 20.0625 -1.421875 12.78125 6.34375 \n",
       "Q 5.515625 14.109375 5.515625 27.296875 \n",
       "Q 5.515625 40.671875 12.859375 48.328125 \n",
       "Q 20.21875 56 33.015625 56 \n",
       "Q 37.15625 56 41.109375 55.140625 \n",
       "Q 45.0625 54.296875 48.78125 52.59375 \n",
       "z\n",
       "\" id=\"DejaVuSans-99\"/>\n",
       "      <path d=\"M 56.203125 29.59375 \n",
       "L 56.203125 25.203125 \n",
       "L 14.890625 25.203125 \n",
       "Q 15.484375 15.921875 20.484375 11.0625 \n",
       "Q 25.484375 6.203125 34.421875 6.203125 \n",
       "Q 39.59375 6.203125 44.453125 7.46875 \n",
       "Q 49.3125 8.734375 54.109375 11.28125 \n",
       "L 54.109375 2.78125 \n",
       "Q 49.265625 0.734375 44.1875 -0.34375 \n",
       "Q 39.109375 -1.421875 33.890625 -1.421875 \n",
       "Q 20.796875 -1.421875 13.15625 6.1875 \n",
       "Q 5.515625 13.8125 5.515625 26.8125 \n",
       "Q 5.515625 40.234375 12.765625 48.109375 \n",
       "Q 20.015625 56 32.328125 56 \n",
       "Q 43.359375 56 49.78125 48.890625 \n",
       "Q 56.203125 41.796875 56.203125 29.59375 \n",
       "z\n",
       "M 47.21875 32.234375 \n",
       "Q 47.125 39.59375 43.09375 43.984375 \n",
       "Q 39.0625 48.390625 32.421875 48.390625 \n",
       "Q 24.90625 48.390625 20.390625 44.140625 \n",
       "Q 15.875 39.890625 15.1875 32.171875 \n",
       "z\n",
       "\" id=\"DejaVuSans-101\"/>\n",
       "     </defs>\n",
       "     <use xlink:href=\"#DejaVuSans-80\"/>\n",
       "     <use x=\"58.552734\" xlink:href=\"#DejaVuSans-114\"/>\n",
       "     <use x=\"99.666016\" xlink:href=\"#DejaVuSans-105\"/>\n",
       "     <use x=\"127.449219\" xlink:href=\"#DejaVuSans-99\"/>\n",
       "     <use x=\"182.429688\" xlink:href=\"#DejaVuSans-101\"/>\n",
       "    </g>\n",
       "   </g>\n",
       "  </g>\n",
       "  <g id=\"axes_2\">\n",
       "   <g id=\"patch_17\">\n",
       "    <path d=\"M 257.953947 103.858125 \n",
       "L 404.796053 103.858125 \n",
       "L 404.796053 22.318125 \n",
       "L 257.953947 22.318125 \n",
       "z\n",
       "\" style=\"fill:#ffffff;\"/>\n",
       "   </g>\n",
       "   <g id=\"patch_18\">\n",
       "    <path clip-path=\"url(#pc155633792)\" d=\"M 264.628589 103.858125 \n",
       "L 277.977871 103.858125 \n",
       "L 277.977871 103.843655 \n",
       "L 264.628589 103.843655 \n",
       "z\n",
       "\" style=\"fill:#1f77b4;\"/>\n",
       "   </g>\n",
       "   <g id=\"patch_19\">\n",
       "    <path clip-path=\"url(#pc155633792)\" d=\"M 277.977871 103.858125 \n",
       "L 291.327153 103.858125 \n",
       "L 291.327153 26.200982 \n",
       "L 277.977871 26.200982 \n",
       "z\n",
       "\" style=\"fill:#1f77b4;\"/>\n",
       "   </g>\n",
       "   <g id=\"patch_20\">\n",
       "    <path clip-path=\"url(#pc155633792)\" d=\"M 291.327153 103.858125 \n",
       "L 304.676435 103.858125 \n",
       "L 304.676435 103.855494 \n",
       "L 291.327153 103.855494 \n",
       "z\n",
       "\" style=\"fill:#1f77b4;\"/>\n",
       "   </g>\n",
       "   <g id=\"patch_21\">\n",
       "    <path clip-path=\"url(#pc155633792)\" d=\"M 304.676435 103.858125 \n",
       "L 318.025718 103.858125 \n",
       "L 318.025718 103.856371 \n",
       "L 304.676435 103.856371 \n",
       "z\n",
       "\" style=\"fill:#1f77b4;\"/>\n",
       "   </g>\n",
       "   <g id=\"patch_22\">\n",
       "    <path clip-path=\"url(#pc155633792)\" d=\"M 318.025718 103.858125 \n",
       "L 331.375 103.858125 \n",
       "L 331.375 103.853959 \n",
       "L 318.025718 103.853959 \n",
       "z\n",
       "\" style=\"fill:#1f77b4;\"/>\n",
       "   </g>\n",
       "   <g id=\"patch_23\">\n",
       "    <path clip-path=\"url(#pc155633792)\" d=\"M 331.375 103.858125 \n",
       "L 344.724282 103.858125 \n",
       "L 344.724282 103.855713 \n",
       "L 331.375 103.855713 \n",
       "z\n",
       "\" style=\"fill:#1f77b4;\"/>\n",
       "   </g>\n",
       "   <g id=\"patch_24\">\n",
       "    <path clip-path=\"url(#pc155633792)\" d=\"M 344.724282 103.858125 \n",
       "L 358.073565 103.858125 \n",
       "L 358.073565 103.85681 \n",
       "L 344.724282 103.85681 \n",
       "z\n",
       "\" style=\"fill:#1f77b4;\"/>\n",
       "   </g>\n",
       "   <g id=\"patch_25\">\n",
       "    <path clip-path=\"url(#pc155633792)\" d=\"M 358.073565 103.858125 \n",
       "L 371.422847 103.858125 \n",
       "L 371.422847 103.857248 \n",
       "L 358.073565 103.857248 \n",
       "z\n",
       "\" style=\"fill:#1f77b4;\"/>\n",
       "   </g>\n",
       "   <g id=\"patch_26\">\n",
       "    <path clip-path=\"url(#pc155633792)\" d=\"M 371.422847 103.858125 \n",
       "L 384.772129 103.858125 \n",
       "L 384.772129 103.85659 \n",
       "L 371.422847 103.85659 \n",
       "z\n",
       "\" style=\"fill:#1f77b4;\"/>\n",
       "   </g>\n",
       "   <g id=\"patch_27\">\n",
       "    <path clip-path=\"url(#pc155633792)\" d=\"M 384.772129 103.858125 \n",
       "L 398.121411 103.858125 \n",
       "L 398.121411 103.851767 \n",
       "L 384.772129 103.851767 \n",
       "z\n",
       "\" style=\"fill:#1f77b4;\"/>\n",
       "   </g>\n",
       "   <g id=\"matplotlib.axis_3\">\n",
       "    <g id=\"xtick_4\">\n",
       "     <g id=\"line2d_15\">\n",
       "      <path clip-path=\"url(#pc155633792)\" d=\"M 286.879865 103.858125 \n",
       "L 286.879865 22.318125 \n",
       "\" style=\"fill:none;stroke:#b0b0b0;stroke-linecap:square;stroke-width:0.8;\"/>\n",
       "     </g>\n",
       "     <g id=\"line2d_16\">\n",
       "      <g>\n",
       "       <use style=\"stroke:#000000;stroke-width:0.8;\" x=\"286.879865\" xlink:href=\"#m6c0b4844b7\" y=\"103.858125\"/>\n",
       "      </g>\n",
       "     </g>\n",
       "     <g id=\"text_9\">\n",
       "      <!-- 2500 -->\n",
       "      <g transform=\"translate(274.154865 118.456563)scale(0.1 -0.1)\">\n",
       "       <use xlink:href=\"#DejaVuSans-50\"/>\n",
       "       <use x=\"63.623047\" xlink:href=\"#DejaVuSans-53\"/>\n",
       "       <use x=\"127.246094\" xlink:href=\"#DejaVuSans-48\"/>\n",
       "       <use x=\"190.869141\" xlink:href=\"#DejaVuSans-48\"/>\n",
       "      </g>\n",
       "     </g>\n",
       "    </g>\n",
       "    <g id=\"xtick_5\">\n",
       "     <g id=\"line2d_17\">\n",
       "      <path clip-path=\"url(#pc155633792)\" d=\"M 323.965325 103.858125 \n",
       "L 323.965325 22.318125 \n",
       "\" style=\"fill:none;stroke:#b0b0b0;stroke-linecap:square;stroke-width:0.8;\"/>\n",
       "     </g>\n",
       "     <g id=\"line2d_18\">\n",
       "      <g>\n",
       "       <use style=\"stroke:#000000;stroke-width:0.8;\" x=\"323.965325\" xlink:href=\"#m6c0b4844b7\" y=\"103.858125\"/>\n",
       "      </g>\n",
       "     </g>\n",
       "     <g id=\"text_10\">\n",
       "      <!-- 5000 -->\n",
       "      <g transform=\"translate(311.240325 118.456563)scale(0.1 -0.1)\">\n",
       "       <use xlink:href=\"#DejaVuSans-53\"/>\n",
       "       <use x=\"63.623047\" xlink:href=\"#DejaVuSans-48\"/>\n",
       "       <use x=\"127.246094\" xlink:href=\"#DejaVuSans-48\"/>\n",
       "       <use x=\"190.869141\" xlink:href=\"#DejaVuSans-48\"/>\n",
       "      </g>\n",
       "     </g>\n",
       "    </g>\n",
       "    <g id=\"xtick_6\">\n",
       "     <g id=\"line2d_19\">\n",
       "      <path clip-path=\"url(#pc155633792)\" d=\"M 361.050785 103.858125 \n",
       "L 361.050785 22.318125 \n",
       "\" style=\"fill:none;stroke:#b0b0b0;stroke-linecap:square;stroke-width:0.8;\"/>\n",
       "     </g>\n",
       "     <g id=\"line2d_20\">\n",
       "      <g>\n",
       "       <use style=\"stroke:#000000;stroke-width:0.8;\" x=\"361.050785\" xlink:href=\"#m6c0b4844b7\" y=\"103.858125\"/>\n",
       "      </g>\n",
       "     </g>\n",
       "     <g id=\"text_11\">\n",
       "      <!-- 7500 -->\n",
       "      <g transform=\"translate(348.325785 118.456563)scale(0.1 -0.1)\">\n",
       "       <defs>\n",
       "        <path d=\"M 8.203125 72.90625 \n",
       "L 55.078125 72.90625 \n",
       "L 55.078125 68.703125 \n",
       "L 28.609375 0 \n",
       "L 18.3125 0 \n",
       "L 43.21875 64.59375 \n",
       "L 8.203125 64.59375 \n",
       "z\n",
       "\" id=\"DejaVuSans-55\"/>\n",
       "       </defs>\n",
       "       <use xlink:href=\"#DejaVuSans-55\"/>\n",
       "       <use x=\"63.623047\" xlink:href=\"#DejaVuSans-53\"/>\n",
       "       <use x=\"127.246094\" xlink:href=\"#DejaVuSans-48\"/>\n",
       "       <use x=\"190.869141\" xlink:href=\"#DejaVuSans-48\"/>\n",
       "      </g>\n",
       "     </g>\n",
       "    </g>\n",
       "    <g id=\"xtick_7\">\n",
       "     <g id=\"line2d_21\">\n",
       "      <path clip-path=\"url(#pc155633792)\" d=\"M 398.136246 103.858125 \n",
       "L 398.136246 22.318125 \n",
       "\" style=\"fill:none;stroke:#b0b0b0;stroke-linecap:square;stroke-width:0.8;\"/>\n",
       "     </g>\n",
       "     <g id=\"line2d_22\">\n",
       "      <g>\n",
       "       <use style=\"stroke:#000000;stroke-width:0.8;\" x=\"398.136246\" xlink:href=\"#m6c0b4844b7\" y=\"103.858125\"/>\n",
       "      </g>\n",
       "     </g>\n",
       "     <g id=\"text_12\">\n",
       "      <!-- 10000 -->\n",
       "      <g transform=\"translate(382.229996 118.456563)scale(0.1 -0.1)\">\n",
       "       <use xlink:href=\"#DejaVuSans-49\"/>\n",
       "       <use x=\"63.623047\" xlink:href=\"#DejaVuSans-48\"/>\n",
       "       <use x=\"127.246094\" xlink:href=\"#DejaVuSans-48\"/>\n",
       "       <use x=\"190.869141\" xlink:href=\"#DejaVuSans-48\"/>\n",
       "       <use x=\"254.492188\" xlink:href=\"#DejaVuSans-48\"/>\n",
       "      </g>\n",
       "     </g>\n",
       "    </g>\n",
       "   </g>\n",
       "   <g id=\"matplotlib.axis_4\">\n",
       "    <g id=\"ytick_5\">\n",
       "     <g id=\"line2d_23\">\n",
       "      <path clip-path=\"url(#pc155633792)\" d=\"M 257.953947 103.858125 \n",
       "L 404.796053 103.858125 \n",
       "\" style=\"fill:none;stroke:#b0b0b0;stroke-linecap:square;stroke-width:0.8;\"/>\n",
       "     </g>\n",
       "     <g id=\"line2d_24\">\n",
       "      <g>\n",
       "       <use style=\"stroke:#000000;stroke-width:0.8;\" x=\"257.953947\" xlink:href=\"#mf2475865b9\" y=\"103.858125\"/>\n",
       "      </g>\n",
       "     </g>\n",
       "     <g id=\"text_13\">\n",
       "      <!-- 0 -->\n",
       "      <g transform=\"translate(244.591447 107.657344)scale(0.1 -0.1)\">\n",
       "       <use xlink:href=\"#DejaVuSans-48\"/>\n",
       "      </g>\n",
       "     </g>\n",
       "    </g>\n",
       "    <g id=\"ytick_6\">\n",
       "     <g id=\"line2d_25\">\n",
       "      <path clip-path=\"url(#pc155633792)\" d=\"M 257.953947 81.933899 \n",
       "L 404.796053 81.933899 \n",
       "\" style=\"fill:none;stroke:#b0b0b0;stroke-linecap:square;stroke-width:0.8;\"/>\n",
       "     </g>\n",
       "     <g id=\"line2d_26\">\n",
       "      <g>\n",
       "       <use style=\"stroke:#000000;stroke-width:0.8;\" x=\"257.953947\" xlink:href=\"#mf2475865b9\" y=\"81.933899\"/>\n",
       "      </g>\n",
       "     </g>\n",
       "     <g id=\"text_14\">\n",
       "      <!-- 100000 -->\n",
       "      <g transform=\"translate(212.778947 85.733118)scale(0.1 -0.1)\">\n",
       "       <use xlink:href=\"#DejaVuSans-49\"/>\n",
       "       <use x=\"63.623047\" xlink:href=\"#DejaVuSans-48\"/>\n",
       "       <use x=\"127.246094\" xlink:href=\"#DejaVuSans-48\"/>\n",
       "       <use x=\"190.869141\" xlink:href=\"#DejaVuSans-48\"/>\n",
       "       <use x=\"254.492188\" xlink:href=\"#DejaVuSans-48\"/>\n",
       "       <use x=\"318.115234\" xlink:href=\"#DejaVuSans-48\"/>\n",
       "      </g>\n",
       "     </g>\n",
       "    </g>\n",
       "    <g id=\"ytick_7\">\n",
       "     <g id=\"line2d_27\">\n",
       "      <path clip-path=\"url(#pc155633792)\" d=\"M 257.953947 60.009673 \n",
       "L 404.796053 60.009673 \n",
       "\" style=\"fill:none;stroke:#b0b0b0;stroke-linecap:square;stroke-width:0.8;\"/>\n",
       "     </g>\n",
       "     <g id=\"line2d_28\">\n",
       "      <g>\n",
       "       <use style=\"stroke:#000000;stroke-width:0.8;\" x=\"257.953947\" xlink:href=\"#mf2475865b9\" y=\"60.009673\"/>\n",
       "      </g>\n",
       "     </g>\n",
       "     <g id=\"text_15\">\n",
       "      <!-- 200000 -->\n",
       "      <g transform=\"translate(212.778947 63.808892)scale(0.1 -0.1)\">\n",
       "       <use xlink:href=\"#DejaVuSans-50\"/>\n",
       "       <use x=\"63.623047\" xlink:href=\"#DejaVuSans-48\"/>\n",
       "       <use x=\"127.246094\" xlink:href=\"#DejaVuSans-48\"/>\n",
       "       <use x=\"190.869141\" xlink:href=\"#DejaVuSans-48\"/>\n",
       "       <use x=\"254.492188\" xlink:href=\"#DejaVuSans-48\"/>\n",
       "       <use x=\"318.115234\" xlink:href=\"#DejaVuSans-48\"/>\n",
       "      </g>\n",
       "     </g>\n",
       "    </g>\n",
       "    <g id=\"ytick_8\">\n",
       "     <g id=\"line2d_29\">\n",
       "      <path clip-path=\"url(#pc155633792)\" d=\"M 257.953947 38.085447 \n",
       "L 404.796053 38.085447 \n",
       "\" style=\"fill:none;stroke:#b0b0b0;stroke-linecap:square;stroke-width:0.8;\"/>\n",
       "     </g>\n",
       "     <g id=\"line2d_30\">\n",
       "      <g>\n",
       "       <use style=\"stroke:#000000;stroke-width:0.8;\" x=\"257.953947\" xlink:href=\"#mf2475865b9\" y=\"38.085447\"/>\n",
       "      </g>\n",
       "     </g>\n",
       "     <g id=\"text_16\">\n",
       "      <!-- 300000 -->\n",
       "      <g transform=\"translate(212.778947 41.884666)scale(0.1 -0.1)\">\n",
       "       <defs>\n",
       "        <path d=\"M 40.578125 39.3125 \n",
       "Q 47.65625 37.796875 51.625 33 \n",
       "Q 55.609375 28.21875 55.609375 21.1875 \n",
       "Q 55.609375 10.40625 48.1875 4.484375 \n",
       "Q 40.765625 -1.421875 27.09375 -1.421875 \n",
       "Q 22.515625 -1.421875 17.65625 -0.515625 \n",
       "Q 12.796875 0.390625 7.625 2.203125 \n",
       "L 7.625 11.71875 \n",
       "Q 11.71875 9.328125 16.59375 8.109375 \n",
       "Q 21.484375 6.890625 26.8125 6.890625 \n",
       "Q 36.078125 6.890625 40.9375 10.546875 \n",
       "Q 45.796875 14.203125 45.796875 21.1875 \n",
       "Q 45.796875 27.640625 41.28125 31.265625 \n",
       "Q 36.765625 34.90625 28.71875 34.90625 \n",
       "L 20.21875 34.90625 \n",
       "L 20.21875 43.015625 \n",
       "L 29.109375 43.015625 \n",
       "Q 36.375 43.015625 40.234375 45.921875 \n",
       "Q 44.09375 48.828125 44.09375 54.296875 \n",
       "Q 44.09375 59.90625 40.109375 62.90625 \n",
       "Q 36.140625 65.921875 28.71875 65.921875 \n",
       "Q 24.65625 65.921875 20.015625 65.03125 \n",
       "Q 15.375 64.15625 9.8125 62.3125 \n",
       "L 9.8125 71.09375 \n",
       "Q 15.4375 72.65625 20.34375 73.4375 \n",
       "Q 25.25 74.21875 29.59375 74.21875 \n",
       "Q 40.828125 74.21875 47.359375 69.109375 \n",
       "Q 53.90625 64.015625 53.90625 55.328125 \n",
       "Q 53.90625 49.265625 50.4375 45.09375 \n",
       "Q 46.96875 40.921875 40.578125 39.3125 \n",
       "z\n",
       "\" id=\"DejaVuSans-51\"/>\n",
       "       </defs>\n",
       "       <use xlink:href=\"#DejaVuSans-51\"/>\n",
       "       <use x=\"63.623047\" xlink:href=\"#DejaVuSans-48\"/>\n",
       "       <use x=\"127.246094\" xlink:href=\"#DejaVuSans-48\"/>\n",
       "       <use x=\"190.869141\" xlink:href=\"#DejaVuSans-48\"/>\n",
       "       <use x=\"254.492188\" xlink:href=\"#DejaVuSans-48\"/>\n",
       "       <use x=\"318.115234\" xlink:href=\"#DejaVuSans-48\"/>\n",
       "      </g>\n",
       "     </g>\n",
       "    </g>\n",
       "   </g>\n",
       "   <g id=\"patch_28\">\n",
       "    <path d=\"M 257.953947 103.858125 \n",
       "L 257.953947 22.318125 \n",
       "\" style=\"fill:none;stroke:#000000;stroke-linecap:square;stroke-linejoin:miter;stroke-width:0.8;\"/>\n",
       "   </g>\n",
       "   <g id=\"patch_29\">\n",
       "    <path d=\"M 404.796053 103.858125 \n",
       "L 404.796053 22.318125 \n",
       "\" style=\"fill:none;stroke:#000000;stroke-linecap:square;stroke-linejoin:miter;stroke-width:0.8;\"/>\n",
       "   </g>\n",
       "   <g id=\"patch_30\">\n",
       "    <path d=\"M 257.953947 103.858125 \n",
       "L 404.796053 103.858125 \n",
       "\" style=\"fill:none;stroke:#000000;stroke-linecap:square;stroke-linejoin:miter;stroke-width:0.8;\"/>\n",
       "   </g>\n",
       "   <g id=\"patch_31\">\n",
       "    <path d=\"M 257.953947 22.318125 \n",
       "L 404.796053 22.318125 \n",
       "\" style=\"fill:none;stroke:#000000;stroke-linecap:square;stroke-linejoin:miter;stroke-width:0.8;\"/>\n",
       "   </g>\n",
       "   <g id=\"text_17\">\n",
       "    <!-- RegistrationYear -->\n",
       "    <g transform=\"translate(282.489063 16.318125)scale(0.12 -0.12)\">\n",
       "     <defs>\n",
       "      <path d=\"M 44.390625 34.1875 \n",
       "Q 47.5625 33.109375 50.5625 29.59375 \n",
       "Q 53.5625 26.078125 56.59375 19.921875 \n",
       "L 66.609375 0 \n",
       "L 56 0 \n",
       "L 46.6875 18.703125 \n",
       "Q 43.0625 26.03125 39.671875 28.421875 \n",
       "Q 36.28125 30.8125 30.421875 30.8125 \n",
       "L 19.671875 30.8125 \n",
       "L 19.671875 0 \n",
       "L 9.8125 0 \n",
       "L 9.8125 72.90625 \n",
       "L 32.078125 72.90625 \n",
       "Q 44.578125 72.90625 50.734375 67.671875 \n",
       "Q 56.890625 62.453125 56.890625 51.90625 \n",
       "Q 56.890625 45.015625 53.6875 40.46875 \n",
       "Q 50.484375 35.9375 44.390625 34.1875 \n",
       "z\n",
       "M 19.671875 64.796875 \n",
       "L 19.671875 38.921875 \n",
       "L 32.078125 38.921875 \n",
       "Q 39.203125 38.921875 42.84375 42.21875 \n",
       "Q 46.484375 45.515625 46.484375 51.90625 \n",
       "Q 46.484375 58.296875 42.84375 61.546875 \n",
       "Q 39.203125 64.796875 32.078125 64.796875 \n",
       "z\n",
       "\" id=\"DejaVuSans-82\"/>\n",
       "      <path d=\"M 45.40625 27.984375 \n",
       "Q 45.40625 37.75 41.375 43.109375 \n",
       "Q 37.359375 48.484375 30.078125 48.484375 \n",
       "Q 22.859375 48.484375 18.828125 43.109375 \n",
       "Q 14.796875 37.75 14.796875 27.984375 \n",
       "Q 14.796875 18.265625 18.828125 12.890625 \n",
       "Q 22.859375 7.515625 30.078125 7.515625 \n",
       "Q 37.359375 7.515625 41.375 12.890625 \n",
       "Q 45.40625 18.265625 45.40625 27.984375 \n",
       "z\n",
       "M 54.390625 6.78125 \n",
       "Q 54.390625 -7.171875 48.1875 -13.984375 \n",
       "Q 42 -20.796875 29.203125 -20.796875 \n",
       "Q 24.46875 -20.796875 20.265625 -20.09375 \n",
       "Q 16.0625 -19.390625 12.109375 -17.921875 \n",
       "L 12.109375 -9.1875 \n",
       "Q 16.0625 -11.328125 19.921875 -12.34375 \n",
       "Q 23.78125 -13.375 27.78125 -13.375 \n",
       "Q 36.625 -13.375 41.015625 -8.765625 \n",
       "Q 45.40625 -4.15625 45.40625 5.171875 \n",
       "L 45.40625 9.625 \n",
       "Q 42.625 4.78125 38.28125 2.390625 \n",
       "Q 33.9375 0 27.875 0 \n",
       "Q 17.828125 0 11.671875 7.65625 \n",
       "Q 5.515625 15.328125 5.515625 27.984375 \n",
       "Q 5.515625 40.671875 11.671875 48.328125 \n",
       "Q 17.828125 56 27.875 56 \n",
       "Q 33.9375 56 38.28125 53.609375 \n",
       "Q 42.625 51.21875 45.40625 46.390625 \n",
       "L 45.40625 54.6875 \n",
       "L 54.390625 54.6875 \n",
       "z\n",
       "\" id=\"DejaVuSans-103\"/>\n",
       "      <path d=\"M 44.28125 53.078125 \n",
       "L 44.28125 44.578125 \n",
       "Q 40.484375 46.53125 36.375 47.5 \n",
       "Q 32.28125 48.484375 27.875 48.484375 \n",
       "Q 21.1875 48.484375 17.84375 46.4375 \n",
       "Q 14.5 44.390625 14.5 40.28125 \n",
       "Q 14.5 37.15625 16.890625 35.375 \n",
       "Q 19.28125 33.59375 26.515625 31.984375 \n",
       "L 29.59375 31.296875 \n",
       "Q 39.15625 29.25 43.1875 25.515625 \n",
       "Q 47.21875 21.78125 47.21875 15.09375 \n",
       "Q 47.21875 7.46875 41.1875 3.015625 \n",
       "Q 35.15625 -1.421875 24.609375 -1.421875 \n",
       "Q 20.21875 -1.421875 15.453125 -0.5625 \n",
       "Q 10.6875 0.296875 5.421875 2 \n",
       "L 5.421875 11.28125 \n",
       "Q 10.40625 8.6875 15.234375 7.390625 \n",
       "Q 20.0625 6.109375 24.8125 6.109375 \n",
       "Q 31.15625 6.109375 34.5625 8.28125 \n",
       "Q 37.984375 10.453125 37.984375 14.40625 \n",
       "Q 37.984375 18.0625 35.515625 20.015625 \n",
       "Q 33.0625 21.96875 24.703125 23.78125 \n",
       "L 21.578125 24.515625 \n",
       "Q 13.234375 26.265625 9.515625 29.90625 \n",
       "Q 5.8125 33.546875 5.8125 39.890625 \n",
       "Q 5.8125 47.609375 11.28125 51.796875 \n",
       "Q 16.75 56 26.8125 56 \n",
       "Q 31.78125 56 36.171875 55.265625 \n",
       "Q 40.578125 54.546875 44.28125 53.078125 \n",
       "z\n",
       "\" id=\"DejaVuSans-115\"/>\n",
       "      <path d=\"M 18.3125 70.21875 \n",
       "L 18.3125 54.6875 \n",
       "L 36.8125 54.6875 \n",
       "L 36.8125 47.703125 \n",
       "L 18.3125 47.703125 \n",
       "L 18.3125 18.015625 \n",
       "Q 18.3125 11.328125 20.140625 9.421875 \n",
       "Q 21.96875 7.515625 27.59375 7.515625 \n",
       "L 36.8125 7.515625 \n",
       "L 36.8125 0 \n",
       "L 27.59375 0 \n",
       "Q 17.1875 0 13.234375 3.875 \n",
       "Q 9.28125 7.765625 9.28125 18.015625 \n",
       "L 9.28125 47.703125 \n",
       "L 2.6875 47.703125 \n",
       "L 2.6875 54.6875 \n",
       "L 9.28125 54.6875 \n",
       "L 9.28125 70.21875 \n",
       "z\n",
       "\" id=\"DejaVuSans-116\"/>\n",
       "      <path d=\"M 34.28125 27.484375 \n",
       "Q 23.390625 27.484375 19.1875 25 \n",
       "Q 14.984375 22.515625 14.984375 16.5 \n",
       "Q 14.984375 11.71875 18.140625 8.90625 \n",
       "Q 21.296875 6.109375 26.703125 6.109375 \n",
       "Q 34.1875 6.109375 38.703125 11.40625 \n",
       "Q 43.21875 16.703125 43.21875 25.484375 \n",
       "L 43.21875 27.484375 \n",
       "z\n",
       "M 52.203125 31.203125 \n",
       "L 52.203125 0 \n",
       "L 43.21875 0 \n",
       "L 43.21875 8.296875 \n",
       "Q 40.140625 3.328125 35.546875 0.953125 \n",
       "Q 30.953125 -1.421875 24.3125 -1.421875 \n",
       "Q 15.921875 -1.421875 10.953125 3.296875 \n",
       "Q 6 8.015625 6 15.921875 \n",
       "Q 6 25.140625 12.171875 29.828125 \n",
       "Q 18.359375 34.515625 30.609375 34.515625 \n",
       "L 43.21875 34.515625 \n",
       "L 43.21875 35.40625 \n",
       "Q 43.21875 41.609375 39.140625 45 \n",
       "Q 35.0625 48.390625 27.6875 48.390625 \n",
       "Q 23 48.390625 18.546875 47.265625 \n",
       "Q 14.109375 46.140625 10.015625 43.890625 \n",
       "L 10.015625 52.203125 \n",
       "Q 14.9375 54.109375 19.578125 55.046875 \n",
       "Q 24.21875 56 28.609375 56 \n",
       "Q 40.484375 56 46.34375 49.84375 \n",
       "Q 52.203125 43.703125 52.203125 31.203125 \n",
       "z\n",
       "\" id=\"DejaVuSans-97\"/>\n",
       "      <path d=\"M 30.609375 48.390625 \n",
       "Q 23.390625 48.390625 19.1875 42.75 \n",
       "Q 14.984375 37.109375 14.984375 27.296875 \n",
       "Q 14.984375 17.484375 19.15625 11.84375 \n",
       "Q 23.34375 6.203125 30.609375 6.203125 \n",
       "Q 37.796875 6.203125 41.984375 11.859375 \n",
       "Q 46.1875 17.53125 46.1875 27.296875 \n",
       "Q 46.1875 37.015625 41.984375 42.703125 \n",
       "Q 37.796875 48.390625 30.609375 48.390625 \n",
       "z\n",
       "M 30.609375 56 \n",
       "Q 42.328125 56 49.015625 48.375 \n",
       "Q 55.71875 40.765625 55.71875 27.296875 \n",
       "Q 55.71875 13.875 49.015625 6.21875 \n",
       "Q 42.328125 -1.421875 30.609375 -1.421875 \n",
       "Q 18.84375 -1.421875 12.171875 6.21875 \n",
       "Q 5.515625 13.875 5.515625 27.296875 \n",
       "Q 5.515625 40.765625 12.171875 48.375 \n",
       "Q 18.84375 56 30.609375 56 \n",
       "z\n",
       "\" id=\"DejaVuSans-111\"/>\n",
       "      <path d=\"M 54.890625 33.015625 \n",
       "L 54.890625 0 \n",
       "L 45.90625 0 \n",
       "L 45.90625 32.71875 \n",
       "Q 45.90625 40.484375 42.875 44.328125 \n",
       "Q 39.84375 48.1875 33.796875 48.1875 \n",
       "Q 26.515625 48.1875 22.3125 43.546875 \n",
       "Q 18.109375 38.921875 18.109375 30.90625 \n",
       "L 18.109375 0 \n",
       "L 9.078125 0 \n",
       "L 9.078125 54.6875 \n",
       "L 18.109375 54.6875 \n",
       "L 18.109375 46.1875 \n",
       "Q 21.34375 51.125 25.703125 53.5625 \n",
       "Q 30.078125 56 35.796875 56 \n",
       "Q 45.21875 56 50.046875 50.171875 \n",
       "Q 54.890625 44.34375 54.890625 33.015625 \n",
       "z\n",
       "\" id=\"DejaVuSans-110\"/>\n",
       "      <path d=\"M -0.203125 72.90625 \n",
       "L 10.40625 72.90625 \n",
       "L 30.609375 42.921875 \n",
       "L 50.6875 72.90625 \n",
       "L 61.28125 72.90625 \n",
       "L 35.5 34.71875 \n",
       "L 35.5 0 \n",
       "L 25.59375 0 \n",
       "L 25.59375 34.71875 \n",
       "z\n",
       "\" id=\"DejaVuSans-89\"/>\n",
       "     </defs>\n",
       "     <use xlink:href=\"#DejaVuSans-82\"/>\n",
       "     <use x=\"64.982422\" xlink:href=\"#DejaVuSans-101\"/>\n",
       "     <use x=\"126.505859\" xlink:href=\"#DejaVuSans-103\"/>\n",
       "     <use x=\"189.982422\" xlink:href=\"#DejaVuSans-105\"/>\n",
       "     <use x=\"217.765625\" xlink:href=\"#DejaVuSans-115\"/>\n",
       "     <use x=\"269.865234\" xlink:href=\"#DejaVuSans-116\"/>\n",
       "     <use x=\"309.074219\" xlink:href=\"#DejaVuSans-114\"/>\n",
       "     <use x=\"350.1875\" xlink:href=\"#DejaVuSans-97\"/>\n",
       "     <use x=\"411.466797\" xlink:href=\"#DejaVuSans-116\"/>\n",
       "     <use x=\"450.675781\" xlink:href=\"#DejaVuSans-105\"/>\n",
       "     <use x=\"478.458984\" xlink:href=\"#DejaVuSans-111\"/>\n",
       "     <use x=\"539.640625\" xlink:href=\"#DejaVuSans-110\"/>\n",
       "     <use x=\"603.019531\" xlink:href=\"#DejaVuSans-89\"/>\n",
       "     <use x=\"650.853516\" xlink:href=\"#DejaVuSans-101\"/>\n",
       "     <use x=\"712.376953\" xlink:href=\"#DejaVuSans-97\"/>\n",
       "     <use x=\"773.65625\" xlink:href=\"#DejaVuSans-114\"/>\n",
       "    </g>\n",
       "   </g>\n",
       "  </g>\n",
       "  <g id=\"axes_3\">\n",
       "   <g id=\"patch_32\">\n",
       "    <path d=\"M 463.532895 103.858125 \n",
       "L 610.375 103.858125 \n",
       "L 610.375 22.318125 \n",
       "L 463.532895 22.318125 \n",
       "z\n",
       "\" style=\"fill:#ffffff;\"/>\n",
       "   </g>\n",
       "   <g id=\"patch_33\">\n",
       "    <path clip-path=\"url(#p958be59a03)\" d=\"M 470.207536 103.858125 \n",
       "L 483.556818 103.858125 \n",
       "L 483.556818 26.200982 \n",
       "L 470.207536 26.200982 \n",
       "z\n",
       "\" style=\"fill:#1f77b4;\"/>\n",
       "   </g>\n",
       "   <g id=\"patch_34\">\n",
       "    <path clip-path=\"url(#p958be59a03)\" d=\"M 483.556818 103.858125 \n",
       "L 496.9061 103.858125 \n",
       "L 496.9061 103.850233 \n",
       "L 483.556818 103.850233 \n",
       "z\n",
       "\" style=\"fill:#1f77b4;\"/>\n",
       "   </g>\n",
       "   <g id=\"patch_35\">\n",
       "    <path clip-path=\"url(#p958be59a03)\" d=\"M 496.9061 103.858125 \n",
       "L 510.255383 103.858125 \n",
       "L 510.255383 103.855494 \n",
       "L 496.9061 103.855494 \n",
       "z\n",
       "\" style=\"fill:#1f77b4;\"/>\n",
       "   </g>\n",
       "   <g id=\"patch_36\">\n",
       "    <path clip-path=\"url(#p958be59a03)\" d=\"M 510.255383 103.858125 \n",
       "L 523.604665 103.858125 \n",
       "L 523.604665 103.85396 \n",
       "L 510.255383 103.85396 \n",
       "z\n",
       "\" style=\"fill:#1f77b4;\"/>\n",
       "   </g>\n",
       "   <g id=\"patch_37\">\n",
       "    <path clip-path=\"url(#p958be59a03)\" d=\"M 523.604665 103.858125 \n",
       "L 536.953947 103.858125 \n",
       "L 536.953947 103.855494 \n",
       "L 523.604665 103.855494 \n",
       "z\n",
       "\" style=\"fill:#1f77b4;\"/>\n",
       "   </g>\n",
       "   <g id=\"patch_38\">\n",
       "    <path clip-path=\"url(#p958be59a03)\" d=\"M 536.953947 103.858125 \n",
       "L 550.30323 103.858125 \n",
       "L 550.30323 103.854398 \n",
       "L 536.953947 103.854398 \n",
       "z\n",
       "\" style=\"fill:#1f77b4;\"/>\n",
       "   </g>\n",
       "   <g id=\"patch_39\">\n",
       "    <path clip-path=\"url(#p958be59a03)\" d=\"M 550.30323 103.858125 \n",
       "L 563.652512 103.858125 \n",
       "L 563.652512 103.856152 \n",
       "L 550.30323 103.856152 \n",
       "z\n",
       "\" style=\"fill:#1f77b4;\"/>\n",
       "   </g>\n",
       "   <g id=\"patch_40\">\n",
       "    <path clip-path=\"url(#p958be59a03)\" d=\"M 563.652512 103.858125 \n",
       "L 577.001794 103.858125 \n",
       "L 577.001794 103.85681 \n",
       "L 563.652512 103.85681 \n",
       "z\n",
       "\" style=\"fill:#1f77b4;\"/>\n",
       "   </g>\n",
       "   <g id=\"patch_41\">\n",
       "    <path clip-path=\"url(#p958be59a03)\" d=\"M 577.001794 103.858125 \n",
       "L 590.351077 103.858125 \n",
       "L 590.351077 103.856152 \n",
       "L 577.001794 103.856152 \n",
       "z\n",
       "\" style=\"fill:#1f77b4;\"/>\n",
       "   </g>\n",
       "   <g id=\"patch_42\">\n",
       "    <path clip-path=\"url(#p958be59a03)\" d=\"M 590.351077 103.858125 \n",
       "L 603.700359 103.858125 \n",
       "L 603.700359 103.857248 \n",
       "L 590.351077 103.857248 \n",
       "z\n",
       "\" style=\"fill:#1f77b4;\"/>\n",
       "   </g>\n",
       "   <g id=\"matplotlib.axis_5\">\n",
       "    <g id=\"xtick_8\">\n",
       "     <g id=\"line2d_31\">\n",
       "      <path clip-path=\"url(#p958be59a03)\" d=\"M 470.207536 103.858125 \n",
       "L 470.207536 22.318125 \n",
       "\" style=\"fill:none;stroke:#b0b0b0;stroke-linecap:square;stroke-width:0.8;\"/>\n",
       "     </g>\n",
       "     <g id=\"line2d_32\">\n",
       "      <g>\n",
       "       <use style=\"stroke:#000000;stroke-width:0.8;\" x=\"470.207536\" xlink:href=\"#m6c0b4844b7\" y=\"103.858125\"/>\n",
       "      </g>\n",
       "     </g>\n",
       "     <g id=\"text_18\">\n",
       "      <!-- 0 -->\n",
       "      <g transform=\"translate(467.026286 118.456563)scale(0.1 -0.1)\">\n",
       "       <use xlink:href=\"#DejaVuSans-48\"/>\n",
       "      </g>\n",
       "     </g>\n",
       "    </g>\n",
       "    <g id=\"xtick_9\">\n",
       "     <g id=\"line2d_33\">\n",
       "      <path clip-path=\"url(#p958be59a03)\" d=\"M 536.953947 103.858125 \n",
       "L 536.953947 22.318125 \n",
       "\" style=\"fill:none;stroke:#b0b0b0;stroke-linecap:square;stroke-width:0.8;\"/>\n",
       "     </g>\n",
       "     <g id=\"line2d_34\">\n",
       "      <g>\n",
       "       <use style=\"stroke:#000000;stroke-width:0.8;\" x=\"536.953947\" xlink:href=\"#m6c0b4844b7\" y=\"103.858125\"/>\n",
       "      </g>\n",
       "     </g>\n",
       "     <g id=\"text_19\">\n",
       "      <!-- 10000 -->\n",
       "      <g transform=\"translate(521.047697 118.456563)scale(0.1 -0.1)\">\n",
       "       <use xlink:href=\"#DejaVuSans-49\"/>\n",
       "       <use x=\"63.623047\" xlink:href=\"#DejaVuSans-48\"/>\n",
       "       <use x=\"127.246094\" xlink:href=\"#DejaVuSans-48\"/>\n",
       "       <use x=\"190.869141\" xlink:href=\"#DejaVuSans-48\"/>\n",
       "       <use x=\"254.492188\" xlink:href=\"#DejaVuSans-48\"/>\n",
       "      </g>\n",
       "     </g>\n",
       "    </g>\n",
       "    <g id=\"xtick_10\">\n",
       "     <g id=\"line2d_35\">\n",
       "      <path clip-path=\"url(#p958be59a03)\" d=\"M 603.700359 103.858125 \n",
       "L 603.700359 22.318125 \n",
       "\" style=\"fill:none;stroke:#b0b0b0;stroke-linecap:square;stroke-width:0.8;\"/>\n",
       "     </g>\n",
       "     <g id=\"line2d_36\">\n",
       "      <g>\n",
       "       <use style=\"stroke:#000000;stroke-width:0.8;\" x=\"603.700359\" xlink:href=\"#m6c0b4844b7\" y=\"103.858125\"/>\n",
       "      </g>\n",
       "     </g>\n",
       "     <g id=\"text_20\">\n",
       "      <!-- 20000 -->\n",
       "      <g transform=\"translate(587.794109 118.456563)scale(0.1 -0.1)\">\n",
       "       <use xlink:href=\"#DejaVuSans-50\"/>\n",
       "       <use x=\"63.623047\" xlink:href=\"#DejaVuSans-48\"/>\n",
       "       <use x=\"127.246094\" xlink:href=\"#DejaVuSans-48\"/>\n",
       "       <use x=\"190.869141\" xlink:href=\"#DejaVuSans-48\"/>\n",
       "       <use x=\"254.492188\" xlink:href=\"#DejaVuSans-48\"/>\n",
       "      </g>\n",
       "     </g>\n",
       "    </g>\n",
       "   </g>\n",
       "   <g id=\"matplotlib.axis_6\">\n",
       "    <g id=\"ytick_9\">\n",
       "     <g id=\"line2d_37\">\n",
       "      <path clip-path=\"url(#p958be59a03)\" d=\"M 463.532895 103.858125 \n",
       "L 610.375 103.858125 \n",
       "\" style=\"fill:none;stroke:#b0b0b0;stroke-linecap:square;stroke-width:0.8;\"/>\n",
       "     </g>\n",
       "     <g id=\"line2d_38\">\n",
       "      <g>\n",
       "       <use style=\"stroke:#000000;stroke-width:0.8;\" x=\"463.532895\" xlink:href=\"#mf2475865b9\" y=\"103.858125\"/>\n",
       "      </g>\n",
       "     </g>\n",
       "     <g id=\"text_21\">\n",
       "      <!-- 0 -->\n",
       "      <g transform=\"translate(450.170395 107.657344)scale(0.1 -0.1)\">\n",
       "       <use xlink:href=\"#DejaVuSans-48\"/>\n",
       "      </g>\n",
       "     </g>\n",
       "    </g>\n",
       "    <g id=\"ytick_10\">\n",
       "     <g id=\"line2d_39\">\n",
       "      <path clip-path=\"url(#p958be59a03)\" d=\"M 463.532895 81.936251 \n",
       "L 610.375 81.936251 \n",
       "\" style=\"fill:none;stroke:#b0b0b0;stroke-linecap:square;stroke-width:0.8;\"/>\n",
       "     </g>\n",
       "     <g id=\"line2d_40\">\n",
       "      <g>\n",
       "       <use style=\"stroke:#000000;stroke-width:0.8;\" x=\"463.532895\" xlink:href=\"#mf2475865b9\" y=\"81.936251\"/>\n",
       "      </g>\n",
       "     </g>\n",
       "     <g id=\"text_22\">\n",
       "      <!-- 100000 -->\n",
       "      <g transform=\"translate(418.357895 85.73547)scale(0.1 -0.1)\">\n",
       "       <use xlink:href=\"#DejaVuSans-49\"/>\n",
       "       <use x=\"63.623047\" xlink:href=\"#DejaVuSans-48\"/>\n",
       "       <use x=\"127.246094\" xlink:href=\"#DejaVuSans-48\"/>\n",
       "       <use x=\"190.869141\" xlink:href=\"#DejaVuSans-48\"/>\n",
       "       <use x=\"254.492188\" xlink:href=\"#DejaVuSans-48\"/>\n",
       "       <use x=\"318.115234\" xlink:href=\"#DejaVuSans-48\"/>\n",
       "      </g>\n",
       "     </g>\n",
       "    </g>\n",
       "    <g id=\"ytick_11\">\n",
       "     <g id=\"line2d_41\">\n",
       "      <path clip-path=\"url(#p958be59a03)\" d=\"M 463.532895 60.014377 \n",
       "L 610.375 60.014377 \n",
       "\" style=\"fill:none;stroke:#b0b0b0;stroke-linecap:square;stroke-width:0.8;\"/>\n",
       "     </g>\n",
       "     <g id=\"line2d_42\">\n",
       "      <g>\n",
       "       <use style=\"stroke:#000000;stroke-width:0.8;\" x=\"463.532895\" xlink:href=\"#mf2475865b9\" y=\"60.014377\"/>\n",
       "      </g>\n",
       "     </g>\n",
       "     <g id=\"text_23\">\n",
       "      <!-- 200000 -->\n",
       "      <g transform=\"translate(418.357895 63.813596)scale(0.1 -0.1)\">\n",
       "       <use xlink:href=\"#DejaVuSans-50\"/>\n",
       "       <use x=\"63.623047\" xlink:href=\"#DejaVuSans-48\"/>\n",
       "       <use x=\"127.246094\" xlink:href=\"#DejaVuSans-48\"/>\n",
       "       <use x=\"190.869141\" xlink:href=\"#DejaVuSans-48\"/>\n",
       "       <use x=\"254.492188\" xlink:href=\"#DejaVuSans-48\"/>\n",
       "       <use x=\"318.115234\" xlink:href=\"#DejaVuSans-48\"/>\n",
       "      </g>\n",
       "     </g>\n",
       "    </g>\n",
       "    <g id=\"ytick_12\">\n",
       "     <g id=\"line2d_43\">\n",
       "      <path clip-path=\"url(#p958be59a03)\" d=\"M 463.532895 38.092503 \n",
       "L 610.375 38.092503 \n",
       "\" style=\"fill:none;stroke:#b0b0b0;stroke-linecap:square;stroke-width:0.8;\"/>\n",
       "     </g>\n",
       "     <g id=\"line2d_44\">\n",
       "      <g>\n",
       "       <use style=\"stroke:#000000;stroke-width:0.8;\" x=\"463.532895\" xlink:href=\"#mf2475865b9\" y=\"38.092503\"/>\n",
       "      </g>\n",
       "     </g>\n",
       "     <g id=\"text_24\">\n",
       "      <!-- 300000 -->\n",
       "      <g transform=\"translate(418.357895 41.891721)scale(0.1 -0.1)\">\n",
       "       <use xlink:href=\"#DejaVuSans-51\"/>\n",
       "       <use x=\"63.623047\" xlink:href=\"#DejaVuSans-48\"/>\n",
       "       <use x=\"127.246094\" xlink:href=\"#DejaVuSans-48\"/>\n",
       "       <use x=\"190.869141\" xlink:href=\"#DejaVuSans-48\"/>\n",
       "       <use x=\"254.492188\" xlink:href=\"#DejaVuSans-48\"/>\n",
       "       <use x=\"318.115234\" xlink:href=\"#DejaVuSans-48\"/>\n",
       "      </g>\n",
       "     </g>\n",
       "    </g>\n",
       "   </g>\n",
       "   <g id=\"patch_43\">\n",
       "    <path d=\"M 463.532895 103.858125 \n",
       "L 463.532895 22.318125 \n",
       "\" style=\"fill:none;stroke:#000000;stroke-linecap:square;stroke-linejoin:miter;stroke-width:0.8;\"/>\n",
       "   </g>\n",
       "   <g id=\"patch_44\">\n",
       "    <path d=\"M 610.375 103.858125 \n",
       "L 610.375 22.318125 \n",
       "\" style=\"fill:none;stroke:#000000;stroke-linecap:square;stroke-linejoin:miter;stroke-width:0.8;\"/>\n",
       "   </g>\n",
       "   <g id=\"patch_45\">\n",
       "    <path d=\"M 463.532895 103.858125 \n",
       "L 610.375 103.858125 \n",
       "\" style=\"fill:none;stroke:#000000;stroke-linecap:square;stroke-linejoin:miter;stroke-width:0.8;\"/>\n",
       "   </g>\n",
       "   <g id=\"patch_46\">\n",
       "    <path d=\"M 463.532895 22.318125 \n",
       "L 610.375 22.318125 \n",
       "\" style=\"fill:none;stroke:#000000;stroke-linecap:square;stroke-linejoin:miter;stroke-width:0.8;\"/>\n",
       "   </g>\n",
       "   <g id=\"text_25\">\n",
       "    <!-- Power -->\n",
       "    <g transform=\"translate(518.817072 16.318125)scale(0.12 -0.12)\">\n",
       "     <defs>\n",
       "      <path d=\"M 4.203125 54.6875 \n",
       "L 13.1875 54.6875 \n",
       "L 24.421875 12.015625 \n",
       "L 35.59375 54.6875 \n",
       "L 46.1875 54.6875 \n",
       "L 57.421875 12.015625 \n",
       "L 68.609375 54.6875 \n",
       "L 77.59375 54.6875 \n",
       "L 63.28125 0 \n",
       "L 52.6875 0 \n",
       "L 40.921875 44.828125 \n",
       "L 29.109375 0 \n",
       "L 18.5 0 \n",
       "z\n",
       "\" id=\"DejaVuSans-119\"/>\n",
       "     </defs>\n",
       "     <use xlink:href=\"#DejaVuSans-80\"/>\n",
       "     <use x=\"56.677734\" xlink:href=\"#DejaVuSans-111\"/>\n",
       "     <use x=\"117.859375\" xlink:href=\"#DejaVuSans-119\"/>\n",
       "     <use x=\"199.646484\" xlink:href=\"#DejaVuSans-101\"/>\n",
       "     <use x=\"261.169922\" xlink:href=\"#DejaVuSans-114\"/>\n",
       "    </g>\n",
       "   </g>\n",
       "  </g>\n",
       "  <g id=\"axes_4\">\n",
       "   <g id=\"patch_47\">\n",
       "    <path d=\"M 52.375 226.168125 \n",
       "L 199.217105 226.168125 \n",
       "L 199.217105 144.628125 \n",
       "L 52.375 144.628125 \n",
       "z\n",
       "\" style=\"fill:#ffffff;\"/>\n",
       "   </g>\n",
       "   <g id=\"patch_48\">\n",
       "    <path clip-path=\"url(#pb841452c90)\" d=\"M 59.049641 226.168125 \n",
       "L 72.398923 226.168125 \n",
       "L 72.398923 223.684299 \n",
       "L 59.049641 223.684299 \n",
       "z\n",
       "\" style=\"fill:#1f77b4;\"/>\n",
       "   </g>\n",
       "   <g id=\"patch_49\">\n",
       "    <path clip-path=\"url(#pb841452c90)\" d=\"M 72.398923 226.168125 \n",
       "L 85.748206 226.168125 \n",
       "L 85.748206 223.426103 \n",
       "L 72.398923 223.426103 \n",
       "z\n",
       "\" style=\"fill:#1f77b4;\"/>\n",
       "   </g>\n",
       "   <g id=\"patch_50\">\n",
       "    <path clip-path=\"url(#pb841452c90)\" d=\"M 85.748206 226.168125 \n",
       "L 99.097488 226.168125 \n",
       "L 99.097488 224.567118 \n",
       "L 85.748206 224.567118 \n",
       "z\n",
       "\" style=\"fill:#1f77b4;\"/>\n",
       "   </g>\n",
       "   <g id=\"patch_51\">\n",
       "    <path clip-path=\"url(#pb841452c90)\" d=\"M 99.097488 226.168125 \n",
       "L 112.44677 226.168125 \n",
       "L 112.44677 221.709691 \n",
       "L 99.097488 221.709691 \n",
       "z\n",
       "\" style=\"fill:#1f77b4;\"/>\n",
       "   </g>\n",
       "   <g id=\"patch_52\">\n",
       "    <path clip-path=\"url(#pb841452c90)\" d=\"M 112.44677 226.168125 \n",
       "L 125.796053 226.168125 \n",
       "L 125.796053 223.366771 \n",
       "L 112.44677 223.366771 \n",
       "z\n",
       "\" style=\"fill:#1f77b4;\"/>\n",
       "   </g>\n",
       "   <g id=\"patch_53\">\n",
       "    <path clip-path=\"url(#pb841452c90)\" d=\"M 125.796053 226.168125 \n",
       "L 139.145335 226.168125 \n",
       "L 139.145335 219.121869 \n",
       "L 125.796053 219.121869 \n",
       "z\n",
       "\" style=\"fill:#1f77b4;\"/>\n",
       "   </g>\n",
       "   <g id=\"patch_54\">\n",
       "    <path clip-path=\"url(#pb841452c90)\" d=\"M 139.145335 226.168125 \n",
       "L 152.494617 226.168125 \n",
       "L 152.494617 221.31653 \n",
       "L 139.145335 221.31653 \n",
       "z\n",
       "\" style=\"fill:#1f77b4;\"/>\n",
       "   </g>\n",
       "   <g id=\"patch_55\">\n",
       "    <path clip-path=\"url(#pb841452c90)\" d=\"M 152.494617 226.168125 \n",
       "L 165.8439 226.168125 \n",
       "L 165.8439 226.168125 \n",
       "L 152.494617 226.168125 \n",
       "z\n",
       "\" style=\"fill:#1f77b4;\"/>\n",
       "   </g>\n",
       "   <g id=\"patch_56\">\n",
       "    <path clip-path=\"url(#pb841452c90)\" d=\"M 165.8439 226.168125 \n",
       "L 179.193182 226.168125 \n",
       "L 179.193182 214.283967 \n",
       "L 165.8439 214.283967 \n",
       "z\n",
       "\" style=\"fill:#1f77b4;\"/>\n",
       "   </g>\n",
       "   <g id=\"patch_57\">\n",
       "    <path clip-path=\"url(#pb841452c90)\" d=\"M 179.193182 226.168125 \n",
       "L 192.542464 226.168125 \n",
       "L 192.542464 148.510982 \n",
       "L 179.193182 148.510982 \n",
       "z\n",
       "\" style=\"fill:#1f77b4;\"/>\n",
       "   </g>\n",
       "   <g id=\"matplotlib.axis_7\">\n",
       "    <g id=\"xtick_11\">\n",
       "     <g id=\"line2d_45\">\n",
       "      <path clip-path=\"url(#pb841452c90)\" d=\"M 54.44644 226.168125 \n",
       "L 54.44644 144.628125 \n",
       "\" style=\"fill:none;stroke:#b0b0b0;stroke-linecap:square;stroke-width:0.8;\"/>\n",
       "     </g>\n",
       "     <g id=\"line2d_46\">\n",
       "      <g>\n",
       "       <use style=\"stroke:#000000;stroke-width:0.8;\" x=\"54.44644\" xlink:href=\"#m6c0b4844b7\" y=\"226.168125\"/>\n",
       "      </g>\n",
       "     </g>\n",
       "     <g id=\"text_26\">\n",
       "      <!-- 0 -->\n",
       "      <g transform=\"translate(51.26519 240.766563)scale(0.1 -0.1)\">\n",
       "       <use xlink:href=\"#DejaVuSans-48\"/>\n",
       "      </g>\n",
       "     </g>\n",
       "    </g>\n",
       "    <g id=\"xtick_12\">\n",
       "     <g id=\"line2d_47\">\n",
       "      <path clip-path=\"url(#pb841452c90)\" d=\"M 100.478448 226.168125 \n",
       "L 100.478448 144.628125 \n",
       "\" style=\"fill:none;stroke:#b0b0b0;stroke-linecap:square;stroke-width:0.8;\"/>\n",
       "     </g>\n",
       "     <g id=\"line2d_48\">\n",
       "      <g>\n",
       "       <use style=\"stroke:#000000;stroke-width:0.8;\" x=\"100.478448\" xlink:href=\"#m6c0b4844b7\" y=\"226.168125\"/>\n",
       "      </g>\n",
       "     </g>\n",
       "     <g id=\"text_27\">\n",
       "      <!-- 50000 -->\n",
       "      <g transform=\"translate(84.572198 240.766563)scale(0.1 -0.1)\">\n",
       "       <use xlink:href=\"#DejaVuSans-53\"/>\n",
       "       <use x=\"63.623047\" xlink:href=\"#DejaVuSans-48\"/>\n",
       "       <use x=\"127.246094\" xlink:href=\"#DejaVuSans-48\"/>\n",
       "       <use x=\"190.869141\" xlink:href=\"#DejaVuSans-48\"/>\n",
       "       <use x=\"254.492188\" xlink:href=\"#DejaVuSans-48\"/>\n",
       "      </g>\n",
       "     </g>\n",
       "    </g>\n",
       "    <g id=\"xtick_13\">\n",
       "     <g id=\"line2d_49\">\n",
       "      <path clip-path=\"url(#pb841452c90)\" d=\"M 146.510456 226.168125 \n",
       "L 146.510456 144.628125 \n",
       "\" style=\"fill:none;stroke:#b0b0b0;stroke-linecap:square;stroke-width:0.8;\"/>\n",
       "     </g>\n",
       "     <g id=\"line2d_50\">\n",
       "      <g>\n",
       "       <use style=\"stroke:#000000;stroke-width:0.8;\" x=\"146.510456\" xlink:href=\"#m6c0b4844b7\" y=\"226.168125\"/>\n",
       "      </g>\n",
       "     </g>\n",
       "     <g id=\"text_28\">\n",
       "      <!-- 100000 -->\n",
       "      <g transform=\"translate(127.422956 240.766563)scale(0.1 -0.1)\">\n",
       "       <use xlink:href=\"#DejaVuSans-49\"/>\n",
       "       <use x=\"63.623047\" xlink:href=\"#DejaVuSans-48\"/>\n",
       "       <use x=\"127.246094\" xlink:href=\"#DejaVuSans-48\"/>\n",
       "       <use x=\"190.869141\" xlink:href=\"#DejaVuSans-48\"/>\n",
       "       <use x=\"254.492188\" xlink:href=\"#DejaVuSans-48\"/>\n",
       "       <use x=\"318.115234\" xlink:href=\"#DejaVuSans-48\"/>\n",
       "      </g>\n",
       "     </g>\n",
       "    </g>\n",
       "    <g id=\"xtick_14\">\n",
       "     <g id=\"line2d_51\">\n",
       "      <path clip-path=\"url(#pb841452c90)\" d=\"M 192.542464 226.168125 \n",
       "L 192.542464 144.628125 \n",
       "\" style=\"fill:none;stroke:#b0b0b0;stroke-linecap:square;stroke-width:0.8;\"/>\n",
       "     </g>\n",
       "     <g id=\"line2d_52\">\n",
       "      <g>\n",
       "       <use style=\"stroke:#000000;stroke-width:0.8;\" x=\"192.542464\" xlink:href=\"#m6c0b4844b7\" y=\"226.168125\"/>\n",
       "      </g>\n",
       "     </g>\n",
       "     <g id=\"text_29\">\n",
       "      <!-- 150000 -->\n",
       "      <g transform=\"translate(173.454964 240.766563)scale(0.1 -0.1)\">\n",
       "       <use xlink:href=\"#DejaVuSans-49\"/>\n",
       "       <use x=\"63.623047\" xlink:href=\"#DejaVuSans-53\"/>\n",
       "       <use x=\"127.246094\" xlink:href=\"#DejaVuSans-48\"/>\n",
       "       <use x=\"190.869141\" xlink:href=\"#DejaVuSans-48\"/>\n",
       "       <use x=\"254.492188\" xlink:href=\"#DejaVuSans-48\"/>\n",
       "       <use x=\"318.115234\" xlink:href=\"#DejaVuSans-48\"/>\n",
       "      </g>\n",
       "     </g>\n",
       "    </g>\n",
       "   </g>\n",
       "   <g id=\"matplotlib.axis_8\">\n",
       "    <g id=\"ytick_13\">\n",
       "     <g id=\"line2d_53\">\n",
       "      <path clip-path=\"url(#pb841452c90)\" d=\"M 52.375 226.168125 \n",
       "L 199.217105 226.168125 \n",
       "\" style=\"fill:none;stroke:#b0b0b0;stroke-linecap:square;stroke-width:0.8;\"/>\n",
       "     </g>\n",
       "     <g id=\"line2d_54\">\n",
       "      <g>\n",
       "       <use style=\"stroke:#000000;stroke-width:0.8;\" x=\"52.375\" xlink:href=\"#mf2475865b9\" y=\"226.168125\"/>\n",
       "      </g>\n",
       "     </g>\n",
       "     <g id=\"text_30\">\n",
       "      <!-- 0 -->\n",
       "      <g transform=\"translate(39.0125 229.967344)scale(0.1 -0.1)\">\n",
       "       <use xlink:href=\"#DejaVuSans-48\"/>\n",
       "      </g>\n",
       "     </g>\n",
       "    </g>\n",
       "    <g id=\"ytick_14\">\n",
       "     <g id=\"line2d_55\">\n",
       "      <path clip-path=\"url(#pb841452c90)\" d=\"M 52.375 193.567701 \n",
       "L 199.217105 193.567701 \n",
       "\" style=\"fill:none;stroke:#b0b0b0;stroke-linecap:square;stroke-width:0.8;\"/>\n",
       "     </g>\n",
       "     <g id=\"line2d_56\">\n",
       "      <g>\n",
       "       <use style=\"stroke:#000000;stroke-width:0.8;\" x=\"52.375\" xlink:href=\"#mf2475865b9\" y=\"193.567701\"/>\n",
       "      </g>\n",
       "     </g>\n",
       "     <g id=\"text_31\">\n",
       "      <!-- 100000 -->\n",
       "      <g transform=\"translate(7.2 197.36692)scale(0.1 -0.1)\">\n",
       "       <use xlink:href=\"#DejaVuSans-49\"/>\n",
       "       <use x=\"63.623047\" xlink:href=\"#DejaVuSans-48\"/>\n",
       "       <use x=\"127.246094\" xlink:href=\"#DejaVuSans-48\"/>\n",
       "       <use x=\"190.869141\" xlink:href=\"#DejaVuSans-48\"/>\n",
       "       <use x=\"254.492188\" xlink:href=\"#DejaVuSans-48\"/>\n",
       "       <use x=\"318.115234\" xlink:href=\"#DejaVuSans-48\"/>\n",
       "      </g>\n",
       "     </g>\n",
       "    </g>\n",
       "    <g id=\"ytick_15\">\n",
       "     <g id=\"line2d_57\">\n",
       "      <path clip-path=\"url(#pb841452c90)\" d=\"M 52.375 160.967278 \n",
       "L 199.217105 160.967278 \n",
       "\" style=\"fill:none;stroke:#b0b0b0;stroke-linecap:square;stroke-width:0.8;\"/>\n",
       "     </g>\n",
       "     <g id=\"line2d_58\">\n",
       "      <g>\n",
       "       <use style=\"stroke:#000000;stroke-width:0.8;\" x=\"52.375\" xlink:href=\"#mf2475865b9\" y=\"160.967278\"/>\n",
       "      </g>\n",
       "     </g>\n",
       "     <g id=\"text_32\">\n",
       "      <!-- 200000 -->\n",
       "      <g transform=\"translate(7.2 164.766497)scale(0.1 -0.1)\">\n",
       "       <use xlink:href=\"#DejaVuSans-50\"/>\n",
       "       <use x=\"63.623047\" xlink:href=\"#DejaVuSans-48\"/>\n",
       "       <use x=\"127.246094\" xlink:href=\"#DejaVuSans-48\"/>\n",
       "       <use x=\"190.869141\" xlink:href=\"#DejaVuSans-48\"/>\n",
       "       <use x=\"254.492188\" xlink:href=\"#DejaVuSans-48\"/>\n",
       "       <use x=\"318.115234\" xlink:href=\"#DejaVuSans-48\"/>\n",
       "      </g>\n",
       "     </g>\n",
       "    </g>\n",
       "   </g>\n",
       "   <g id=\"patch_58\">\n",
       "    <path d=\"M 52.375 226.168125 \n",
       "L 52.375 144.628125 \n",
       "\" style=\"fill:none;stroke:#000000;stroke-linecap:square;stroke-linejoin:miter;stroke-width:0.8;\"/>\n",
       "   </g>\n",
       "   <g id=\"patch_59\">\n",
       "    <path d=\"M 199.217105 226.168125 \n",
       "L 199.217105 144.628125 \n",
       "\" style=\"fill:none;stroke:#000000;stroke-linecap:square;stroke-linejoin:miter;stroke-width:0.8;\"/>\n",
       "   </g>\n",
       "   <g id=\"patch_60\">\n",
       "    <path d=\"M 52.375 226.168125 \n",
       "L 199.217105 226.168125 \n",
       "\" style=\"fill:none;stroke:#000000;stroke-linecap:square;stroke-linejoin:miter;stroke-width:0.8;\"/>\n",
       "   </g>\n",
       "   <g id=\"patch_61\">\n",
       "    <path d=\"M 52.375 144.628125 \n",
       "L 199.217105 144.628125 \n",
       "\" style=\"fill:none;stroke:#000000;stroke-linecap:square;stroke-linejoin:miter;stroke-width:0.8;\"/>\n",
       "   </g>\n",
       "   <g id=\"text_33\">\n",
       "    <!-- Kilometer -->\n",
       "    <g transform=\"translate(96.80949 138.628125)scale(0.12 -0.12)\">\n",
       "     <defs>\n",
       "      <path d=\"M 9.8125 72.90625 \n",
       "L 19.671875 72.90625 \n",
       "L 19.671875 42.09375 \n",
       "L 52.390625 72.90625 \n",
       "L 65.09375 72.90625 \n",
       "L 28.90625 38.921875 \n",
       "L 67.671875 0 \n",
       "L 54.6875 0 \n",
       "L 19.671875 35.109375 \n",
       "L 19.671875 0 \n",
       "L 9.8125 0 \n",
       "z\n",
       "\" id=\"DejaVuSans-75\"/>\n",
       "      <path d=\"M 9.421875 75.984375 \n",
       "L 18.40625 75.984375 \n",
       "L 18.40625 0 \n",
       "L 9.421875 0 \n",
       "z\n",
       "\" id=\"DejaVuSans-108\"/>\n",
       "      <path d=\"M 52 44.1875 \n",
       "Q 55.375 50.25 60.0625 53.125 \n",
       "Q 64.75 56 71.09375 56 \n",
       "Q 79.640625 56 84.28125 50.015625 \n",
       "Q 88.921875 44.046875 88.921875 33.015625 \n",
       "L 88.921875 0 \n",
       "L 79.890625 0 \n",
       "L 79.890625 32.71875 \n",
       "Q 79.890625 40.578125 77.09375 44.375 \n",
       "Q 74.3125 48.1875 68.609375 48.1875 \n",
       "Q 61.625 48.1875 57.5625 43.546875 \n",
       "Q 53.515625 38.921875 53.515625 30.90625 \n",
       "L 53.515625 0 \n",
       "L 44.484375 0 \n",
       "L 44.484375 32.71875 \n",
       "Q 44.484375 40.625 41.703125 44.40625 \n",
       "Q 38.921875 48.1875 33.109375 48.1875 \n",
       "Q 26.21875 48.1875 22.15625 43.53125 \n",
       "Q 18.109375 38.875 18.109375 30.90625 \n",
       "L 18.109375 0 \n",
       "L 9.078125 0 \n",
       "L 9.078125 54.6875 \n",
       "L 18.109375 54.6875 \n",
       "L 18.109375 46.1875 \n",
       "Q 21.1875 51.21875 25.484375 53.609375 \n",
       "Q 29.78125 56 35.6875 56 \n",
       "Q 41.65625 56 45.828125 52.96875 \n",
       "Q 50 49.953125 52 44.1875 \n",
       "z\n",
       "\" id=\"DejaVuSans-109\"/>\n",
       "     </defs>\n",
       "     <use xlink:href=\"#DejaVuSans-75\"/>\n",
       "     <use x=\"65.576172\" xlink:href=\"#DejaVuSans-105\"/>\n",
       "     <use x=\"93.359375\" xlink:href=\"#DejaVuSans-108\"/>\n",
       "     <use x=\"121.142578\" xlink:href=\"#DejaVuSans-111\"/>\n",
       "     <use x=\"182.324219\" xlink:href=\"#DejaVuSans-109\"/>\n",
       "     <use x=\"279.736328\" xlink:href=\"#DejaVuSans-101\"/>\n",
       "     <use x=\"341.259766\" xlink:href=\"#DejaVuSans-116\"/>\n",
       "     <use x=\"380.46875\" xlink:href=\"#DejaVuSans-101\"/>\n",
       "     <use x=\"441.992188\" xlink:href=\"#DejaVuSans-114\"/>\n",
       "    </g>\n",
       "   </g>\n",
       "  </g>\n",
       "  <g id=\"axes_5\">\n",
       "   <g id=\"patch_62\">\n",
       "    <path d=\"M 257.953947 226.168125 \n",
       "L 404.796053 226.168125 \n",
       "L 404.796053 144.628125 \n",
       "L 257.953947 144.628125 \n",
       "z\n",
       "\" style=\"fill:#ffffff;\"/>\n",
       "   </g>\n",
       "   <g id=\"patch_63\">\n",
       "    <path clip-path=\"url(#pf22b4f2796)\" d=\"M 264.628589 226.168125 \n",
       "L 277.977871 226.168125 \n",
       "L 277.977871 148.510982 \n",
       "L 264.628589 148.510982 \n",
       "z\n",
       "\" style=\"fill:#1f77b4;\"/>\n",
       "   </g>\n",
       "   <g id=\"patch_64\">\n",
       "    <path clip-path=\"url(#pf22b4f2796)\" d=\"M 277.977871 226.168125 \n",
       "L 291.327153 226.168125 \n",
       "L 291.327153 198.902033 \n",
       "L 277.977871 198.902033 \n",
       "z\n",
       "\" style=\"fill:#1f77b4;\"/>\n",
       "   </g>\n",
       "   <g id=\"patch_65\">\n",
       "    <path clip-path=\"url(#pf22b4f2796)\" d=\"M 291.327153 226.168125 \n",
       "L 304.676435 226.168125 \n",
       "L 304.676435 182.099033 \n",
       "L 291.327153 182.099033 \n",
       "z\n",
       "\" style=\"fill:#1f77b4;\"/>\n",
       "   </g>\n",
       "   <g id=\"patch_66\">\n",
       "    <path clip-path=\"url(#pf22b4f2796)\" d=\"M 304.676435 226.168125 \n",
       "L 318.025718 226.168125 \n",
       "L 318.025718 188.64151 \n",
       "L 304.676435 188.64151 \n",
       "z\n",
       "\" style=\"fill:#1f77b4;\"/>\n",
       "   </g>\n",
       "   <g id=\"patch_67\">\n",
       "    <path clip-path=\"url(#pf22b4f2796)\" d=\"M 318.025718 226.168125 \n",
       "L 331.375 226.168125 \n",
       "L 331.375 188.791514 \n",
       "L 318.025718 188.791514 \n",
       "z\n",
       "\" style=\"fill:#1f77b4;\"/>\n",
       "   </g>\n",
       "   <g id=\"patch_68\">\n",
       "    <path clip-path=\"url(#pf22b4f2796)\" d=\"M 331.375 226.168125 \n",
       "L 344.724282 226.168125 \n",
       "L 344.724282 150.882839 \n",
       "L 331.375 150.882839 \n",
       "z\n",
       "\" style=\"fill:#1f77b4;\"/>\n",
       "   </g>\n",
       "   <g id=\"patch_69\">\n",
       "    <path clip-path=\"url(#pf22b4f2796)\" d=\"M 344.724282 226.168125 \n",
       "L 358.073565 226.168125 \n",
       "L 358.073565 197.158398 \n",
       "L 344.724282 197.158398 \n",
       "z\n",
       "\" style=\"fill:#1f77b4;\"/>\n",
       "   </g>\n",
       "   <g id=\"patch_70\">\n",
       "    <path clip-path=\"url(#pf22b4f2796)\" d=\"M 358.073565 226.168125 \n",
       "L 371.422847 226.168125 \n",
       "L 371.422847 195.637846 \n",
       "L 358.073565 195.637846 \n",
       "z\n",
       "\" style=\"fill:#1f77b4;\"/>\n",
       "   </g>\n",
       "   <g id=\"patch_71\">\n",
       "    <path clip-path=\"url(#pf22b4f2796)\" d=\"M 371.422847 226.168125 \n",
       "L 384.772129 226.168125 \n",
       "L 384.772129 192.707001 \n",
       "L 371.422847 192.707001 \n",
       "z\n",
       "\" style=\"fill:#1f77b4;\"/>\n",
       "   </g>\n",
       "   <g id=\"patch_72\">\n",
       "    <path clip-path=\"url(#pf22b4f2796)\" d=\"M 384.772129 226.168125 \n",
       "L 398.121411 226.168125 \n",
       "L 398.121411 164.019077 \n",
       "L 384.772129 164.019077 \n",
       "z\n",
       "\" style=\"fill:#1f77b4;\"/>\n",
       "   </g>\n",
       "   <g id=\"matplotlib.axis_9\">\n",
       "    <g id=\"xtick_15\">\n",
       "     <g id=\"line2d_59\">\n",
       "      <path clip-path=\"url(#pf22b4f2796)\" d=\"M 264.628589 226.168125 \n",
       "L 264.628589 144.628125 \n",
       "\" style=\"fill:none;stroke:#b0b0b0;stroke-linecap:square;stroke-width:0.8;\"/>\n",
       "     </g>\n",
       "     <g id=\"line2d_60\">\n",
       "      <g>\n",
       "       <use style=\"stroke:#000000;stroke-width:0.8;\" x=\"264.628589\" xlink:href=\"#m6c0b4844b7\" y=\"226.168125\"/>\n",
       "      </g>\n",
       "     </g>\n",
       "     <g id=\"text_34\">\n",
       "      <!-- 0 -->\n",
       "      <g transform=\"translate(261.447339 240.766563)scale(0.1 -0.1)\">\n",
       "       <use xlink:href=\"#DejaVuSans-48\"/>\n",
       "      </g>\n",
       "     </g>\n",
       "    </g>\n",
       "    <g id=\"xtick_16\">\n",
       "     <g id=\"line2d_61\">\n",
       "      <path clip-path=\"url(#pf22b4f2796)\" d=\"M 320.250598 226.168125 \n",
       "L 320.250598 144.628125 \n",
       "\" style=\"fill:none;stroke:#b0b0b0;stroke-linecap:square;stroke-width:0.8;\"/>\n",
       "     </g>\n",
       "     <g id=\"line2d_62\">\n",
       "      <g>\n",
       "       <use style=\"stroke:#000000;stroke-width:0.8;\" x=\"320.250598\" xlink:href=\"#m6c0b4844b7\" y=\"226.168125\"/>\n",
       "      </g>\n",
       "     </g>\n",
       "     <g id=\"text_35\">\n",
       "      <!-- 5 -->\n",
       "      <g transform=\"translate(317.069348 240.766563)scale(0.1 -0.1)\">\n",
       "       <use xlink:href=\"#DejaVuSans-53\"/>\n",
       "      </g>\n",
       "     </g>\n",
       "    </g>\n",
       "    <g id=\"xtick_17\">\n",
       "     <g id=\"line2d_63\">\n",
       "      <path clip-path=\"url(#pf22b4f2796)\" d=\"M 375.872608 226.168125 \n",
       "L 375.872608 144.628125 \n",
       "\" style=\"fill:none;stroke:#b0b0b0;stroke-linecap:square;stroke-width:0.8;\"/>\n",
       "     </g>\n",
       "     <g id=\"line2d_64\">\n",
       "      <g>\n",
       "       <use style=\"stroke:#000000;stroke-width:0.8;\" x=\"375.872608\" xlink:href=\"#m6c0b4844b7\" y=\"226.168125\"/>\n",
       "      </g>\n",
       "     </g>\n",
       "     <g id=\"text_36\">\n",
       "      <!-- 10 -->\n",
       "      <g transform=\"translate(369.510108 240.766563)scale(0.1 -0.1)\">\n",
       "       <use xlink:href=\"#DejaVuSans-49\"/>\n",
       "       <use x=\"63.623047\" xlink:href=\"#DejaVuSans-48\"/>\n",
       "      </g>\n",
       "     </g>\n",
       "    </g>\n",
       "   </g>\n",
       "   <g id=\"matplotlib.axis_10\">\n",
       "    <g id=\"ytick_16\">\n",
       "     <g id=\"line2d_65\">\n",
       "      <path clip-path=\"url(#pf22b4f2796)\" d=\"M 257.953947 226.168125 \n",
       "L 404.796053 226.168125 \n",
       "\" style=\"fill:none;stroke:#b0b0b0;stroke-linecap:square;stroke-width:0.8;\"/>\n",
       "     </g>\n",
       "     <g id=\"line2d_66\">\n",
       "      <g>\n",
       "       <use style=\"stroke:#000000;stroke-width:0.8;\" x=\"257.953947\" xlink:href=\"#mf2475865b9\" y=\"226.168125\"/>\n",
       "      </g>\n",
       "     </g>\n",
       "     <g id=\"text_37\">\n",
       "      <!-- 0 -->\n",
       "      <g transform=\"translate(244.591447 229.967344)scale(0.1 -0.1)\">\n",
       "       <use xlink:href=\"#DejaVuSans-48\"/>\n",
       "      </g>\n",
       "     </g>\n",
       "    </g>\n",
       "    <g id=\"ytick_17\">\n",
       "     <g id=\"line2d_67\">\n",
       "      <path clip-path=\"url(#pf22b4f2796)\" d=\"M 257.953947 200.526434 \n",
       "L 404.796053 200.526434 \n",
       "\" style=\"fill:none;stroke:#b0b0b0;stroke-linecap:square;stroke-width:0.8;\"/>\n",
       "     </g>\n",
       "     <g id=\"line2d_68\">\n",
       "      <g>\n",
       "       <use style=\"stroke:#000000;stroke-width:0.8;\" x=\"257.953947\" xlink:href=\"#mf2475865b9\" y=\"200.526434\"/>\n",
       "      </g>\n",
       "     </g>\n",
       "     <g id=\"text_38\">\n",
       "      <!-- 20000 -->\n",
       "      <g transform=\"translate(219.141447 204.325653)scale(0.1 -0.1)\">\n",
       "       <use xlink:href=\"#DejaVuSans-50\"/>\n",
       "       <use x=\"63.623047\" xlink:href=\"#DejaVuSans-48\"/>\n",
       "       <use x=\"127.246094\" xlink:href=\"#DejaVuSans-48\"/>\n",
       "       <use x=\"190.869141\" xlink:href=\"#DejaVuSans-48\"/>\n",
       "       <use x=\"254.492188\" xlink:href=\"#DejaVuSans-48\"/>\n",
       "      </g>\n",
       "     </g>\n",
       "    </g>\n",
       "    <g id=\"ytick_18\">\n",
       "     <g id=\"line2d_69\">\n",
       "      <path clip-path=\"url(#pf22b4f2796)\" d=\"M 257.953947 174.884743 \n",
       "L 404.796053 174.884743 \n",
       "\" style=\"fill:none;stroke:#b0b0b0;stroke-linecap:square;stroke-width:0.8;\"/>\n",
       "     </g>\n",
       "     <g id=\"line2d_70\">\n",
       "      <g>\n",
       "       <use style=\"stroke:#000000;stroke-width:0.8;\" x=\"257.953947\" xlink:href=\"#mf2475865b9\" y=\"174.884743\"/>\n",
       "      </g>\n",
       "     </g>\n",
       "     <g id=\"text_39\">\n",
       "      <!-- 40000 -->\n",
       "      <g transform=\"translate(219.141447 178.683962)scale(0.1 -0.1)\">\n",
       "       <defs>\n",
       "        <path d=\"M 37.796875 64.3125 \n",
       "L 12.890625 25.390625 \n",
       "L 37.796875 25.390625 \n",
       "z\n",
       "M 35.203125 72.90625 \n",
       "L 47.609375 72.90625 \n",
       "L 47.609375 25.390625 \n",
       "L 58.015625 25.390625 \n",
       "L 58.015625 17.1875 \n",
       "L 47.609375 17.1875 \n",
       "L 47.609375 0 \n",
       "L 37.796875 0 \n",
       "L 37.796875 17.1875 \n",
       "L 4.890625 17.1875 \n",
       "L 4.890625 26.703125 \n",
       "z\n",
       "\" id=\"DejaVuSans-52\"/>\n",
       "       </defs>\n",
       "       <use xlink:href=\"#DejaVuSans-52\"/>\n",
       "       <use x=\"63.623047\" xlink:href=\"#DejaVuSans-48\"/>\n",
       "       <use x=\"127.246094\" xlink:href=\"#DejaVuSans-48\"/>\n",
       "       <use x=\"190.869141\" xlink:href=\"#DejaVuSans-48\"/>\n",
       "       <use x=\"254.492188\" xlink:href=\"#DejaVuSans-48\"/>\n",
       "      </g>\n",
       "     </g>\n",
       "    </g>\n",
       "    <g id=\"ytick_19\">\n",
       "     <g id=\"line2d_71\">\n",
       "      <path clip-path=\"url(#pf22b4f2796)\" d=\"M 257.953947 149.243052 \n",
       "L 404.796053 149.243052 \n",
       "\" style=\"fill:none;stroke:#b0b0b0;stroke-linecap:square;stroke-width:0.8;\"/>\n",
       "     </g>\n",
       "     <g id=\"line2d_72\">\n",
       "      <g>\n",
       "       <use style=\"stroke:#000000;stroke-width:0.8;\" x=\"257.953947\" xlink:href=\"#mf2475865b9\" y=\"149.243052\"/>\n",
       "      </g>\n",
       "     </g>\n",
       "     <g id=\"text_40\">\n",
       "      <!-- 60000 -->\n",
       "      <g transform=\"translate(219.141447 153.042271)scale(0.1 -0.1)\">\n",
       "       <defs>\n",
       "        <path d=\"M 33.015625 40.375 \n",
       "Q 26.375 40.375 22.484375 35.828125 \n",
       "Q 18.609375 31.296875 18.609375 23.390625 \n",
       "Q 18.609375 15.53125 22.484375 10.953125 \n",
       "Q 26.375 6.390625 33.015625 6.390625 \n",
       "Q 39.65625 6.390625 43.53125 10.953125 \n",
       "Q 47.40625 15.53125 47.40625 23.390625 \n",
       "Q 47.40625 31.296875 43.53125 35.828125 \n",
       "Q 39.65625 40.375 33.015625 40.375 \n",
       "z\n",
       "M 52.59375 71.296875 \n",
       "L 52.59375 62.3125 \n",
       "Q 48.875 64.0625 45.09375 64.984375 \n",
       "Q 41.3125 65.921875 37.59375 65.921875 \n",
       "Q 27.828125 65.921875 22.671875 59.328125 \n",
       "Q 17.53125 52.734375 16.796875 39.40625 \n",
       "Q 19.671875 43.65625 24.015625 45.921875 \n",
       "Q 28.375 48.1875 33.59375 48.1875 \n",
       "Q 44.578125 48.1875 50.953125 41.515625 \n",
       "Q 57.328125 34.859375 57.328125 23.390625 \n",
       "Q 57.328125 12.15625 50.6875 5.359375 \n",
       "Q 44.046875 -1.421875 33.015625 -1.421875 \n",
       "Q 20.359375 -1.421875 13.671875 8.265625 \n",
       "Q 6.984375 17.96875 6.984375 36.375 \n",
       "Q 6.984375 53.65625 15.1875 63.9375 \n",
       "Q 23.390625 74.21875 37.203125 74.21875 \n",
       "Q 40.921875 74.21875 44.703125 73.484375 \n",
       "Q 48.484375 72.75 52.59375 71.296875 \n",
       "z\n",
       "\" id=\"DejaVuSans-54\"/>\n",
       "       </defs>\n",
       "       <use xlink:href=\"#DejaVuSans-54\"/>\n",
       "       <use x=\"63.623047\" xlink:href=\"#DejaVuSans-48\"/>\n",
       "       <use x=\"127.246094\" xlink:href=\"#DejaVuSans-48\"/>\n",
       "       <use x=\"190.869141\" xlink:href=\"#DejaVuSans-48\"/>\n",
       "       <use x=\"254.492188\" xlink:href=\"#DejaVuSans-48\"/>\n",
       "      </g>\n",
       "     </g>\n",
       "    </g>\n",
       "   </g>\n",
       "   <g id=\"patch_73\">\n",
       "    <path d=\"M 257.953947 226.168125 \n",
       "L 257.953947 144.628125 \n",
       "\" style=\"fill:none;stroke:#000000;stroke-linecap:square;stroke-linejoin:miter;stroke-width:0.8;\"/>\n",
       "   </g>\n",
       "   <g id=\"patch_74\">\n",
       "    <path d=\"M 404.796053 226.168125 \n",
       "L 404.796053 144.628125 \n",
       "\" style=\"fill:none;stroke:#000000;stroke-linecap:square;stroke-linejoin:miter;stroke-width:0.8;\"/>\n",
       "   </g>\n",
       "   <g id=\"patch_75\">\n",
       "    <path d=\"M 257.953947 226.168125 \n",
       "L 404.796053 226.168125 \n",
       "\" style=\"fill:none;stroke:#000000;stroke-linecap:square;stroke-linejoin:miter;stroke-width:0.8;\"/>\n",
       "   </g>\n",
       "   <g id=\"patch_76\">\n",
       "    <path d=\"M 257.953947 144.628125 \n",
       "L 404.796053 144.628125 \n",
       "\" style=\"fill:none;stroke:#000000;stroke-linecap:square;stroke-linejoin:miter;stroke-width:0.8;\"/>\n",
       "   </g>\n",
       "   <g id=\"text_41\">\n",
       "    <!-- RegistrationMonth -->\n",
       "    <g transform=\"translate(276.38875 138.628125)scale(0.12 -0.12)\">\n",
       "     <defs>\n",
       "      <path d=\"M 9.8125 72.90625 \n",
       "L 24.515625 72.90625 \n",
       "L 43.109375 23.296875 \n",
       "L 61.8125 72.90625 \n",
       "L 76.515625 72.90625 \n",
       "L 76.515625 0 \n",
       "L 66.890625 0 \n",
       "L 66.890625 64.015625 \n",
       "L 48.09375 14.015625 \n",
       "L 38.1875 14.015625 \n",
       "L 19.390625 64.015625 \n",
       "L 19.390625 0 \n",
       "L 9.8125 0 \n",
       "z\n",
       "\" id=\"DejaVuSans-77\"/>\n",
       "      <path d=\"M 54.890625 33.015625 \n",
       "L 54.890625 0 \n",
       "L 45.90625 0 \n",
       "L 45.90625 32.71875 \n",
       "Q 45.90625 40.484375 42.875 44.328125 \n",
       "Q 39.84375 48.1875 33.796875 48.1875 \n",
       "Q 26.515625 48.1875 22.3125 43.546875 \n",
       "Q 18.109375 38.921875 18.109375 30.90625 \n",
       "L 18.109375 0 \n",
       "L 9.078125 0 \n",
       "L 9.078125 75.984375 \n",
       "L 18.109375 75.984375 \n",
       "L 18.109375 46.1875 \n",
       "Q 21.34375 51.125 25.703125 53.5625 \n",
       "Q 30.078125 56 35.796875 56 \n",
       "Q 45.21875 56 50.046875 50.171875 \n",
       "Q 54.890625 44.34375 54.890625 33.015625 \n",
       "z\n",
       "\" id=\"DejaVuSans-104\"/>\n",
       "     </defs>\n",
       "     <use xlink:href=\"#DejaVuSans-82\"/>\n",
       "     <use x=\"64.982422\" xlink:href=\"#DejaVuSans-101\"/>\n",
       "     <use x=\"126.505859\" xlink:href=\"#DejaVuSans-103\"/>\n",
       "     <use x=\"189.982422\" xlink:href=\"#DejaVuSans-105\"/>\n",
       "     <use x=\"217.765625\" xlink:href=\"#DejaVuSans-115\"/>\n",
       "     <use x=\"269.865234\" xlink:href=\"#DejaVuSans-116\"/>\n",
       "     <use x=\"309.074219\" xlink:href=\"#DejaVuSans-114\"/>\n",
       "     <use x=\"350.1875\" xlink:href=\"#DejaVuSans-97\"/>\n",
       "     <use x=\"411.466797\" xlink:href=\"#DejaVuSans-116\"/>\n",
       "     <use x=\"450.675781\" xlink:href=\"#DejaVuSans-105\"/>\n",
       "     <use x=\"478.458984\" xlink:href=\"#DejaVuSans-111\"/>\n",
       "     <use x=\"539.640625\" xlink:href=\"#DejaVuSans-110\"/>\n",
       "     <use x=\"603.019531\" xlink:href=\"#DejaVuSans-77\"/>\n",
       "     <use x=\"689.298828\" xlink:href=\"#DejaVuSans-111\"/>\n",
       "     <use x=\"750.480469\" xlink:href=\"#DejaVuSans-110\"/>\n",
       "     <use x=\"813.859375\" xlink:href=\"#DejaVuSans-116\"/>\n",
       "     <use x=\"853.068359\" xlink:href=\"#DejaVuSans-104\"/>\n",
       "    </g>\n",
       "   </g>\n",
       "  </g>\n",
       "  <g id=\"axes_6\">\n",
       "   <g id=\"patch_77\">\n",
       "    <path d=\"M 463.532895 226.168125 \n",
       "L 610.375 226.168125 \n",
       "L 610.375 144.628125 \n",
       "L 463.532895 144.628125 \n",
       "z\n",
       "\" style=\"fill:#ffffff;\"/>\n",
       "   </g>\n",
       "   <g id=\"patch_78\">\n",
       "    <path clip-path=\"url(#pf9796e3706)\" d=\"M 470.207536 226.168125 \n",
       "L 483.556818 226.168125 \n",
       "L 483.556818 226.168125 \n",
       "L 470.207536 226.168125 \n",
       "z\n",
       "\" style=\"fill:#1f77b4;\"/>\n",
       "   </g>\n",
       "   <g id=\"patch_79\">\n",
       "    <path clip-path=\"url(#pf9796e3706)\" d=\"M 483.556818 226.168125 \n",
       "L 496.9061 226.168125 \n",
       "L 496.9061 226.168125 \n",
       "L 483.556818 226.168125 \n",
       "z\n",
       "\" style=\"fill:#1f77b4;\"/>\n",
       "   </g>\n",
       "   <g id=\"patch_80\">\n",
       "    <path clip-path=\"url(#pf9796e3706)\" d=\"M 496.9061 226.168125 \n",
       "L 510.255383 226.168125 \n",
       "L 510.255383 226.168125 \n",
       "L 496.9061 226.168125 \n",
       "z\n",
       "\" style=\"fill:#1f77b4;\"/>\n",
       "   </g>\n",
       "   <g id=\"patch_81\">\n",
       "    <path clip-path=\"url(#pf9796e3706)\" d=\"M 510.255383 226.168125 \n",
       "L 523.604665 226.168125 \n",
       "L 523.604665 226.168125 \n",
       "L 510.255383 226.168125 \n",
       "z\n",
       "\" style=\"fill:#1f77b4;\"/>\n",
       "   </g>\n",
       "   <g id=\"patch_82\">\n",
       "    <path clip-path=\"url(#pf9796e3706)\" d=\"M 523.604665 226.168125 \n",
       "L 536.953947 226.168125 \n",
       "L 536.953947 226.168125 \n",
       "L 523.604665 226.168125 \n",
       "z\n",
       "\" style=\"fill:#1f77b4;\"/>\n",
       "   </g>\n",
       "   <g id=\"patch_83\">\n",
       "    <path clip-path=\"url(#pf9796e3706)\" d=\"M 536.953947 226.168125 \n",
       "L 550.30323 226.168125 \n",
       "L 550.30323 148.510982 \n",
       "L 536.953947 148.510982 \n",
       "z\n",
       "\" style=\"fill:#1f77b4;\"/>\n",
       "   </g>\n",
       "   <g id=\"patch_84\">\n",
       "    <path clip-path=\"url(#pf9796e3706)\" d=\"M 550.30323 226.168125 \n",
       "L 563.652512 226.168125 \n",
       "L 563.652512 226.168125 \n",
       "L 550.30323 226.168125 \n",
       "z\n",
       "\" style=\"fill:#1f77b4;\"/>\n",
       "   </g>\n",
       "   <g id=\"patch_85\">\n",
       "    <path clip-path=\"url(#pf9796e3706)\" d=\"M 563.652512 226.168125 \n",
       "L 577.001794 226.168125 \n",
       "L 577.001794 226.168125 \n",
       "L 563.652512 226.168125 \n",
       "z\n",
       "\" style=\"fill:#1f77b4;\"/>\n",
       "   </g>\n",
       "   <g id=\"patch_86\">\n",
       "    <path clip-path=\"url(#pf9796e3706)\" d=\"M 577.001794 226.168125 \n",
       "L 590.351077 226.168125 \n",
       "L 590.351077 226.168125 \n",
       "L 577.001794 226.168125 \n",
       "z\n",
       "\" style=\"fill:#1f77b4;\"/>\n",
       "   </g>\n",
       "   <g id=\"patch_87\">\n",
       "    <path clip-path=\"url(#pf9796e3706)\" d=\"M 590.351077 226.168125 \n",
       "L 603.700359 226.168125 \n",
       "L 603.700359 226.168125 \n",
       "L 590.351077 226.168125 \n",
       "z\n",
       "\" style=\"fill:#1f77b4;\"/>\n",
       "   </g>\n",
       "   <g id=\"matplotlib.axis_11\">\n",
       "    <g id=\"xtick_18\">\n",
       "     <g id=\"line2d_73\">\n",
       "      <path clip-path=\"url(#pf9796e3706)\" d=\"M 470.207536 226.168125 \n",
       "L 470.207536 144.628125 \n",
       "\" style=\"fill:none;stroke:#b0b0b0;stroke-linecap:square;stroke-width:0.8;\"/>\n",
       "     </g>\n",
       "     <g id=\"line2d_74\">\n",
       "      <g>\n",
       "       <use style=\"stroke:#000000;stroke-width:0.8;\" x=\"470.207536\" xlink:href=\"#m6c0b4844b7\" y=\"226.168125\"/>\n",
       "      </g>\n",
       "     </g>\n",
       "     <g id=\"text_42\">\n",
       "      <!-- −0.5 -->\n",
       "      <g transform=\"translate(458.06613 240.766563)scale(0.1 -0.1)\">\n",
       "       <defs>\n",
       "        <path d=\"M 10.59375 35.5 \n",
       "L 73.1875 35.5 \n",
       "L 73.1875 27.203125 \n",
       "L 10.59375 27.203125 \n",
       "z\n",
       "\" id=\"DejaVuSans-8722\"/>\n",
       "        <path d=\"M 10.6875 12.40625 \n",
       "L 21 12.40625 \n",
       "L 21 0 \n",
       "L 10.6875 0 \n",
       "z\n",
       "\" id=\"DejaVuSans-46\"/>\n",
       "       </defs>\n",
       "       <use xlink:href=\"#DejaVuSans-8722\"/>\n",
       "       <use x=\"83.789062\" xlink:href=\"#DejaVuSans-48\"/>\n",
       "       <use x=\"147.412109\" xlink:href=\"#DejaVuSans-46\"/>\n",
       "       <use x=\"179.199219\" xlink:href=\"#DejaVuSans-53\"/>\n",
       "      </g>\n",
       "     </g>\n",
       "    </g>\n",
       "    <g id=\"xtick_19\">\n",
       "     <g id=\"line2d_75\">\n",
       "      <path clip-path=\"url(#pf9796e3706)\" d=\"M 536.953947 226.168125 \n",
       "L 536.953947 144.628125 \n",
       "\" style=\"fill:none;stroke:#b0b0b0;stroke-linecap:square;stroke-width:0.8;\"/>\n",
       "     </g>\n",
       "     <g id=\"line2d_76\">\n",
       "      <g>\n",
       "       <use style=\"stroke:#000000;stroke-width:0.8;\" x=\"536.953947\" xlink:href=\"#m6c0b4844b7\" y=\"226.168125\"/>\n",
       "      </g>\n",
       "     </g>\n",
       "     <g id=\"text_43\">\n",
       "      <!-- 0.0 -->\n",
       "      <g transform=\"translate(529.002385 240.766563)scale(0.1 -0.1)\">\n",
       "       <use xlink:href=\"#DejaVuSans-48\"/>\n",
       "       <use x=\"63.623047\" xlink:href=\"#DejaVuSans-46\"/>\n",
       "       <use x=\"95.410156\" xlink:href=\"#DejaVuSans-48\"/>\n",
       "      </g>\n",
       "     </g>\n",
       "    </g>\n",
       "    <g id=\"xtick_20\">\n",
       "     <g id=\"line2d_77\">\n",
       "      <path clip-path=\"url(#pf9796e3706)\" d=\"M 603.700359 226.168125 \n",
       "L 603.700359 144.628125 \n",
       "\" style=\"fill:none;stroke:#b0b0b0;stroke-linecap:square;stroke-width:0.8;\"/>\n",
       "     </g>\n",
       "     <g id=\"line2d_78\">\n",
       "      <g>\n",
       "       <use style=\"stroke:#000000;stroke-width:0.8;\" x=\"603.700359\" xlink:href=\"#m6c0b4844b7\" y=\"226.168125\"/>\n",
       "      </g>\n",
       "     </g>\n",
       "     <g id=\"text_44\">\n",
       "      <!-- 0.5 -->\n",
       "      <g transform=\"translate(595.748796 240.766563)scale(0.1 -0.1)\">\n",
       "       <use xlink:href=\"#DejaVuSans-48\"/>\n",
       "       <use x=\"63.623047\" xlink:href=\"#DejaVuSans-46\"/>\n",
       "       <use x=\"95.410156\" xlink:href=\"#DejaVuSans-53\"/>\n",
       "      </g>\n",
       "     </g>\n",
       "    </g>\n",
       "   </g>\n",
       "   <g id=\"matplotlib.axis_12\">\n",
       "    <g id=\"ytick_20\">\n",
       "     <g id=\"line2d_79\">\n",
       "      <path clip-path=\"url(#pf9796e3706)\" d=\"M 463.532895 226.168125 \n",
       "L 610.375 226.168125 \n",
       "\" style=\"fill:none;stroke:#b0b0b0;stroke-linecap:square;stroke-width:0.8;\"/>\n",
       "     </g>\n",
       "     <g id=\"line2d_80\">\n",
       "      <g>\n",
       "       <use style=\"stroke:#000000;stroke-width:0.8;\" x=\"463.532895\" xlink:href=\"#mf2475865b9\" y=\"226.168125\"/>\n",
       "      </g>\n",
       "     </g>\n",
       "     <g id=\"text_45\">\n",
       "      <!-- 0 -->\n",
       "      <g transform=\"translate(450.170395 229.967344)scale(0.1 -0.1)\">\n",
       "       <use xlink:href=\"#DejaVuSans-48\"/>\n",
       "      </g>\n",
       "     </g>\n",
       "    </g>\n",
       "    <g id=\"ytick_21\">\n",
       "     <g id=\"line2d_81\">\n",
       "      <path clip-path=\"url(#pf9796e3706)\" d=\"M 463.532895 204.253922 \n",
       "L 610.375 204.253922 \n",
       "\" style=\"fill:none;stroke:#b0b0b0;stroke-linecap:square;stroke-width:0.8;\"/>\n",
       "     </g>\n",
       "     <g id=\"line2d_82\">\n",
       "      <g>\n",
       "       <use style=\"stroke:#000000;stroke-width:0.8;\" x=\"463.532895\" xlink:href=\"#mf2475865b9\" y=\"204.253922\"/>\n",
       "      </g>\n",
       "     </g>\n",
       "     <g id=\"text_46\">\n",
       "      <!-- 100000 -->\n",
       "      <g transform=\"translate(418.357895 208.053141)scale(0.1 -0.1)\">\n",
       "       <use xlink:href=\"#DejaVuSans-49\"/>\n",
       "       <use x=\"63.623047\" xlink:href=\"#DejaVuSans-48\"/>\n",
       "       <use x=\"127.246094\" xlink:href=\"#DejaVuSans-48\"/>\n",
       "       <use x=\"190.869141\" xlink:href=\"#DejaVuSans-48\"/>\n",
       "       <use x=\"254.492188\" xlink:href=\"#DejaVuSans-48\"/>\n",
       "       <use x=\"318.115234\" xlink:href=\"#DejaVuSans-48\"/>\n",
       "      </g>\n",
       "     </g>\n",
       "    </g>\n",
       "    <g id=\"ytick_22\">\n",
       "     <g id=\"line2d_83\">\n",
       "      <path clip-path=\"url(#pf9796e3706)\" d=\"M 463.532895 182.339719 \n",
       "L 610.375 182.339719 \n",
       "\" style=\"fill:none;stroke:#b0b0b0;stroke-linecap:square;stroke-width:0.8;\"/>\n",
       "     </g>\n",
       "     <g id=\"line2d_84\">\n",
       "      <g>\n",
       "       <use style=\"stroke:#000000;stroke-width:0.8;\" x=\"463.532895\" xlink:href=\"#mf2475865b9\" y=\"182.339719\"/>\n",
       "      </g>\n",
       "     </g>\n",
       "     <g id=\"text_47\">\n",
       "      <!-- 200000 -->\n",
       "      <g transform=\"translate(418.357895 186.138937)scale(0.1 -0.1)\">\n",
       "       <use xlink:href=\"#DejaVuSans-50\"/>\n",
       "       <use x=\"63.623047\" xlink:href=\"#DejaVuSans-48\"/>\n",
       "       <use x=\"127.246094\" xlink:href=\"#DejaVuSans-48\"/>\n",
       "       <use x=\"190.869141\" xlink:href=\"#DejaVuSans-48\"/>\n",
       "       <use x=\"254.492188\" xlink:href=\"#DejaVuSans-48\"/>\n",
       "       <use x=\"318.115234\" xlink:href=\"#DejaVuSans-48\"/>\n",
       "      </g>\n",
       "     </g>\n",
       "    </g>\n",
       "    <g id=\"ytick_23\">\n",
       "     <g id=\"line2d_85\">\n",
       "      <path clip-path=\"url(#pf9796e3706)\" d=\"M 463.532895 160.425515 \n",
       "L 610.375 160.425515 \n",
       "\" style=\"fill:none;stroke:#b0b0b0;stroke-linecap:square;stroke-width:0.8;\"/>\n",
       "     </g>\n",
       "     <g id=\"line2d_86\">\n",
       "      <g>\n",
       "       <use style=\"stroke:#000000;stroke-width:0.8;\" x=\"463.532895\" xlink:href=\"#mf2475865b9\" y=\"160.425515\"/>\n",
       "      </g>\n",
       "     </g>\n",
       "     <g id=\"text_48\">\n",
       "      <!-- 300000 -->\n",
       "      <g transform=\"translate(418.357895 164.224734)scale(0.1 -0.1)\">\n",
       "       <use xlink:href=\"#DejaVuSans-51\"/>\n",
       "       <use x=\"63.623047\" xlink:href=\"#DejaVuSans-48\"/>\n",
       "       <use x=\"127.246094\" xlink:href=\"#DejaVuSans-48\"/>\n",
       "       <use x=\"190.869141\" xlink:href=\"#DejaVuSans-48\"/>\n",
       "       <use x=\"254.492188\" xlink:href=\"#DejaVuSans-48\"/>\n",
       "       <use x=\"318.115234\" xlink:href=\"#DejaVuSans-48\"/>\n",
       "      </g>\n",
       "     </g>\n",
       "    </g>\n",
       "   </g>\n",
       "   <g id=\"patch_88\">\n",
       "    <path d=\"M 463.532895 226.168125 \n",
       "L 463.532895 144.628125 \n",
       "\" style=\"fill:none;stroke:#000000;stroke-linecap:square;stroke-linejoin:miter;stroke-width:0.8;\"/>\n",
       "   </g>\n",
       "   <g id=\"patch_89\">\n",
       "    <path d=\"M 610.375 226.168125 \n",
       "L 610.375 144.628125 \n",
       "\" style=\"fill:none;stroke:#000000;stroke-linecap:square;stroke-linejoin:miter;stroke-width:0.8;\"/>\n",
       "   </g>\n",
       "   <g id=\"patch_90\">\n",
       "    <path d=\"M 463.532895 226.168125 \n",
       "L 610.375 226.168125 \n",
       "\" style=\"fill:none;stroke:#000000;stroke-linecap:square;stroke-linejoin:miter;stroke-width:0.8;\"/>\n",
       "   </g>\n",
       "   <g id=\"patch_91\">\n",
       "    <path d=\"M 463.532895 144.628125 \n",
       "L 610.375 144.628125 \n",
       "\" style=\"fill:none;stroke:#000000;stroke-linecap:square;stroke-linejoin:miter;stroke-width:0.8;\"/>\n",
       "   </g>\n",
       "   <g id=\"text_49\">\n",
       "    <!-- NumberOfPictures -->\n",
       "    <g transform=\"translate(482.26301 138.628125)scale(0.12 -0.12)\">\n",
       "     <defs>\n",
       "      <path d=\"M 9.8125 72.90625 \n",
       "L 23.09375 72.90625 \n",
       "L 55.421875 11.921875 \n",
       "L 55.421875 72.90625 \n",
       "L 64.984375 72.90625 \n",
       "L 64.984375 0 \n",
       "L 51.703125 0 \n",
       "L 19.390625 60.984375 \n",
       "L 19.390625 0 \n",
       "L 9.8125 0 \n",
       "z\n",
       "\" id=\"DejaVuSans-78\"/>\n",
       "      <path d=\"M 8.5 21.578125 \n",
       "L 8.5 54.6875 \n",
       "L 17.484375 54.6875 \n",
       "L 17.484375 21.921875 \n",
       "Q 17.484375 14.15625 20.5 10.265625 \n",
       "Q 23.53125 6.390625 29.59375 6.390625 \n",
       "Q 36.859375 6.390625 41.078125 11.03125 \n",
       "Q 45.3125 15.671875 45.3125 23.6875 \n",
       "L 45.3125 54.6875 \n",
       "L 54.296875 54.6875 \n",
       "L 54.296875 0 \n",
       "L 45.3125 0 \n",
       "L 45.3125 8.40625 \n",
       "Q 42.046875 3.421875 37.71875 1 \n",
       "Q 33.40625 -1.421875 27.6875 -1.421875 \n",
       "Q 18.265625 -1.421875 13.375 4.4375 \n",
       "Q 8.5 10.296875 8.5 21.578125 \n",
       "z\n",
       "M 31.109375 56 \n",
       "z\n",
       "\" id=\"DejaVuSans-117\"/>\n",
       "      <path d=\"M 48.6875 27.296875 \n",
       "Q 48.6875 37.203125 44.609375 42.84375 \n",
       "Q 40.53125 48.484375 33.40625 48.484375 \n",
       "Q 26.265625 48.484375 22.1875 42.84375 \n",
       "Q 18.109375 37.203125 18.109375 27.296875 \n",
       "Q 18.109375 17.390625 22.1875 11.75 \n",
       "Q 26.265625 6.109375 33.40625 6.109375 \n",
       "Q 40.53125 6.109375 44.609375 11.75 \n",
       "Q 48.6875 17.390625 48.6875 27.296875 \n",
       "z\n",
       "M 18.109375 46.390625 \n",
       "Q 20.953125 51.265625 25.265625 53.625 \n",
       "Q 29.59375 56 35.59375 56 \n",
       "Q 45.5625 56 51.78125 48.09375 \n",
       "Q 58.015625 40.1875 58.015625 27.296875 \n",
       "Q 58.015625 14.40625 51.78125 6.484375 \n",
       "Q 45.5625 -1.421875 35.59375 -1.421875 \n",
       "Q 29.59375 -1.421875 25.265625 0.953125 \n",
       "Q 20.953125 3.328125 18.109375 8.203125 \n",
       "L 18.109375 0 \n",
       "L 9.078125 0 \n",
       "L 9.078125 75.984375 \n",
       "L 18.109375 75.984375 \n",
       "z\n",
       "\" id=\"DejaVuSans-98\"/>\n",
       "      <path d=\"M 39.40625 66.21875 \n",
       "Q 28.65625 66.21875 22.328125 58.203125 \n",
       "Q 16.015625 50.203125 16.015625 36.375 \n",
       "Q 16.015625 22.609375 22.328125 14.59375 \n",
       "Q 28.65625 6.59375 39.40625 6.59375 \n",
       "Q 50.140625 6.59375 56.421875 14.59375 \n",
       "Q 62.703125 22.609375 62.703125 36.375 \n",
       "Q 62.703125 50.203125 56.421875 58.203125 \n",
       "Q 50.140625 66.21875 39.40625 66.21875 \n",
       "z\n",
       "M 39.40625 74.21875 \n",
       "Q 54.734375 74.21875 63.90625 63.9375 \n",
       "Q 73.09375 53.65625 73.09375 36.375 \n",
       "Q 73.09375 19.140625 63.90625 8.859375 \n",
       "Q 54.734375 -1.421875 39.40625 -1.421875 \n",
       "Q 24.03125 -1.421875 14.8125 8.828125 \n",
       "Q 5.609375 19.09375 5.609375 36.375 \n",
       "Q 5.609375 53.65625 14.8125 63.9375 \n",
       "Q 24.03125 74.21875 39.40625 74.21875 \n",
       "z\n",
       "\" id=\"DejaVuSans-79\"/>\n",
       "      <path d=\"M 37.109375 75.984375 \n",
       "L 37.109375 68.5 \n",
       "L 28.515625 68.5 \n",
       "Q 23.6875 68.5 21.796875 66.546875 \n",
       "Q 19.921875 64.59375 19.921875 59.515625 \n",
       "L 19.921875 54.6875 \n",
       "L 34.71875 54.6875 \n",
       "L 34.71875 47.703125 \n",
       "L 19.921875 47.703125 \n",
       "L 19.921875 0 \n",
       "L 10.890625 0 \n",
       "L 10.890625 47.703125 \n",
       "L 2.296875 47.703125 \n",
       "L 2.296875 54.6875 \n",
       "L 10.890625 54.6875 \n",
       "L 10.890625 58.5 \n",
       "Q 10.890625 67.625 15.140625 71.796875 \n",
       "Q 19.390625 75.984375 28.609375 75.984375 \n",
       "z\n",
       "\" id=\"DejaVuSans-102\"/>\n",
       "     </defs>\n",
       "     <use xlink:href=\"#DejaVuSans-78\"/>\n",
       "     <use x=\"74.804688\" xlink:href=\"#DejaVuSans-117\"/>\n",
       "     <use x=\"138.183594\" xlink:href=\"#DejaVuSans-109\"/>\n",
       "     <use x=\"235.595703\" xlink:href=\"#DejaVuSans-98\"/>\n",
       "     <use x=\"299.072266\" xlink:href=\"#DejaVuSans-101\"/>\n",
       "     <use x=\"360.595703\" xlink:href=\"#DejaVuSans-114\"/>\n",
       "     <use x=\"401.708984\" xlink:href=\"#DejaVuSans-79\"/>\n",
       "     <use x=\"480.419922\" xlink:href=\"#DejaVuSans-102\"/>\n",
       "     <use x=\"515.625\" xlink:href=\"#DejaVuSans-80\"/>\n",
       "     <use x=\"573.677734\" xlink:href=\"#DejaVuSans-105\"/>\n",
       "     <use x=\"601.460938\" xlink:href=\"#DejaVuSans-99\"/>\n",
       "     <use x=\"656.441406\" xlink:href=\"#DejaVuSans-116\"/>\n",
       "     <use x=\"695.650391\" xlink:href=\"#DejaVuSans-117\"/>\n",
       "     <use x=\"759.029297\" xlink:href=\"#DejaVuSans-114\"/>\n",
       "     <use x=\"797.892578\" xlink:href=\"#DejaVuSans-101\"/>\n",
       "     <use x=\"859.416016\" xlink:href=\"#DejaVuSans-115\"/>\n",
       "    </g>\n",
       "   </g>\n",
       "  </g>\n",
       "  <g id=\"axes_7\">\n",
       "   <g id=\"patch_92\">\n",
       "    <path d=\"M 52.375 348.478125 \n",
       "L 199.217105 348.478125 \n",
       "L 199.217105 266.938125 \n",
       "L 52.375 266.938125 \n",
       "z\n",
       "\" style=\"fill:#ffffff;\"/>\n",
       "   </g>\n",
       "   <g id=\"patch_93\">\n",
       "    <path clip-path=\"url(#p7375d0a6f4)\" d=\"M 59.049641 348.478125 \n",
       "L 72.398923 348.478125 \n",
       "L 72.398923 314.52842 \n",
       "L 59.049641 314.52842 \n",
       "z\n",
       "\" style=\"fill:#1f77b4;\"/>\n",
       "   </g>\n",
       "   <g id=\"patch_94\">\n",
       "    <path clip-path=\"url(#p7375d0a6f4)\" d=\"M 72.398923 348.478125 \n",
       "L 85.748206 348.478125 \n",
       "L 85.748206 308.773697 \n",
       "L 72.398923 308.773697 \n",
       "z\n",
       "\" style=\"fill:#1f77b4;\"/>\n",
       "   </g>\n",
       "   <g id=\"patch_95\">\n",
       "    <path clip-path=\"url(#p7375d0a6f4)\" d=\"M 85.748206 348.478125 \n",
       "L 99.097488 348.478125 \n",
       "L 99.097488 278.611992 \n",
       "L 85.748206 278.611992 \n",
       "z\n",
       "\" style=\"fill:#1f77b4;\"/>\n",
       "   </g>\n",
       "   <g id=\"patch_96\">\n",
       "    <path clip-path=\"url(#p7375d0a6f4)\" d=\"M 99.097488 348.478125 \n",
       "L 112.44677 348.478125 \n",
       "L 112.44677 280.034863 \n",
       "L 99.097488 280.034863 \n",
       "z\n",
       "\" style=\"fill:#1f77b4;\"/>\n",
       "   </g>\n",
       "   <g id=\"patch_97\">\n",
       "    <path clip-path=\"url(#p7375d0a6f4)\" d=\"M 112.44677 348.478125 \n",
       "L 125.796053 348.478125 \n",
       "L 125.796053 270.820982 \n",
       "L 112.44677 270.820982 \n",
       "z\n",
       "\" style=\"fill:#1f77b4;\"/>\n",
       "   </g>\n",
       "   <g id=\"patch_98\">\n",
       "    <path clip-path=\"url(#p7375d0a6f4)\" d=\"M 125.796053 348.478125 \n",
       "L 139.145335 348.478125 \n",
       "L 139.145335 275.565467 \n",
       "L 125.796053 275.565467 \n",
       "z\n",
       "\" style=\"fill:#1f77b4;\"/>\n",
       "   </g>\n",
       "   <g id=\"patch_99\">\n",
       "    <path clip-path=\"url(#p7375d0a6f4)\" d=\"M 139.145335 348.478125 \n",
       "L 152.494617 348.478125 \n",
       "L 152.494617 294.688854 \n",
       "L 139.145335 294.688854 \n",
       "z\n",
       "\" style=\"fill:#1f77b4;\"/>\n",
       "   </g>\n",
       "   <g id=\"patch_100\">\n",
       "    <path clip-path=\"url(#p7375d0a6f4)\" d=\"M 152.494617 348.478125 \n",
       "L 165.8439 348.478125 \n",
       "L 165.8439 299.139279 \n",
       "L 152.494617 299.139279 \n",
       "z\n",
       "\" style=\"fill:#1f77b4;\"/>\n",
       "   </g>\n",
       "   <g id=\"patch_101\">\n",
       "    <path clip-path=\"url(#p7375d0a6f4)\" d=\"M 165.8439 348.478125 \n",
       "L 179.193182 348.478125 \n",
       "L 179.193182 297.800199 \n",
       "L 165.8439 297.800199 \n",
       "z\n",
       "\" style=\"fill:#1f77b4;\"/>\n",
       "   </g>\n",
       "   <g id=\"patch_102\">\n",
       "    <path clip-path=\"url(#p7375d0a6f4)\" d=\"M 179.193182 348.478125 \n",
       "L 192.542464 348.478125 \n",
       "L 192.542464 304.571485 \n",
       "L 179.193182 304.571485 \n",
       "z\n",
       "\" style=\"fill:#1f77b4;\"/>\n",
       "   </g>\n",
       "   <g id=\"matplotlib.axis_13\">\n",
       "    <g id=\"xtick_21\">\n",
       "     <g id=\"line2d_87\">\n",
       "      <path clip-path=\"url(#p7375d0a6f4)\" d=\"M 57.609882 348.478125 \n",
       "L 57.609882 266.938125 \n",
       "\" style=\"fill:none;stroke:#b0b0b0;stroke-linecap:square;stroke-width:0.8;\"/>\n",
       "     </g>\n",
       "     <g id=\"line2d_88\">\n",
       "      <g>\n",
       "       <use style=\"stroke:#000000;stroke-width:0.8;\" x=\"57.609882\" xlink:href=\"#m6c0b4844b7\" y=\"348.478125\"/>\n",
       "      </g>\n",
       "     </g>\n",
       "     <g id=\"text_50\">\n",
       "      <!-- 0 -->\n",
       "      <g transform=\"translate(54.428632 363.076563)scale(0.1 -0.1)\">\n",
       "       <use xlink:href=\"#DejaVuSans-48\"/>\n",
       "      </g>\n",
       "     </g>\n",
       "    </g>\n",
       "    <g id=\"xtick_22\">\n",
       "     <g id=\"line2d_89\">\n",
       "      <path clip-path=\"url(#p7375d0a6f4)\" d=\"M 125.077522 348.478125 \n",
       "L 125.077522 266.938125 \n",
       "\" style=\"fill:none;stroke:#b0b0b0;stroke-linecap:square;stroke-width:0.8;\"/>\n",
       "     </g>\n",
       "     <g id=\"line2d_90\">\n",
       "      <g>\n",
       "       <use style=\"stroke:#000000;stroke-width:0.8;\" x=\"125.077522\" xlink:href=\"#m6c0b4844b7\" y=\"348.478125\"/>\n",
       "      </g>\n",
       "     </g>\n",
       "     <g id=\"text_51\">\n",
       "      <!-- 50000 -->\n",
       "      <g transform=\"translate(109.171272 363.076563)scale(0.1 -0.1)\">\n",
       "       <use xlink:href=\"#DejaVuSans-53\"/>\n",
       "       <use x=\"63.623047\" xlink:href=\"#DejaVuSans-48\"/>\n",
       "       <use x=\"127.246094\" xlink:href=\"#DejaVuSans-48\"/>\n",
       "       <use x=\"190.869141\" xlink:href=\"#DejaVuSans-48\"/>\n",
       "       <use x=\"254.492188\" xlink:href=\"#DejaVuSans-48\"/>\n",
       "      </g>\n",
       "     </g>\n",
       "    </g>\n",
       "    <g id=\"xtick_23\">\n",
       "     <g id=\"line2d_91\">\n",
       "      <path clip-path=\"url(#p7375d0a6f4)\" d=\"M 192.545163 348.478125 \n",
       "L 192.545163 266.938125 \n",
       "\" style=\"fill:none;stroke:#b0b0b0;stroke-linecap:square;stroke-width:0.8;\"/>\n",
       "     </g>\n",
       "     <g id=\"line2d_92\">\n",
       "      <g>\n",
       "       <use style=\"stroke:#000000;stroke-width:0.8;\" x=\"192.545163\" xlink:href=\"#m6c0b4844b7\" y=\"348.478125\"/>\n",
       "      </g>\n",
       "     </g>\n",
       "     <g id=\"text_52\">\n",
       "      <!-- 100000 -->\n",
       "      <g transform=\"translate(173.457663 363.076563)scale(0.1 -0.1)\">\n",
       "       <use xlink:href=\"#DejaVuSans-49\"/>\n",
       "       <use x=\"63.623047\" xlink:href=\"#DejaVuSans-48\"/>\n",
       "       <use x=\"127.246094\" xlink:href=\"#DejaVuSans-48\"/>\n",
       "       <use x=\"190.869141\" xlink:href=\"#DejaVuSans-48\"/>\n",
       "       <use x=\"254.492188\" xlink:href=\"#DejaVuSans-48\"/>\n",
       "       <use x=\"318.115234\" xlink:href=\"#DejaVuSans-48\"/>\n",
       "      </g>\n",
       "     </g>\n",
       "    </g>\n",
       "   </g>\n",
       "   <g id=\"matplotlib.axis_14\">\n",
       "    <g id=\"ytick_24\">\n",
       "     <g id=\"line2d_93\">\n",
       "      <path clip-path=\"url(#p7375d0a6f4)\" d=\"M 52.375 348.478125 \n",
       "L 199.217105 348.478125 \n",
       "\" style=\"fill:none;stroke:#b0b0b0;stroke-linecap:square;stroke-width:0.8;\"/>\n",
       "     </g>\n",
       "     <g id=\"line2d_94\">\n",
       "      <g>\n",
       "       <use style=\"stroke:#000000;stroke-width:0.8;\" x=\"52.375\" xlink:href=\"#mf2475865b9\" y=\"348.478125\"/>\n",
       "      </g>\n",
       "     </g>\n",
       "     <g id=\"text_53\">\n",
       "      <!-- 0 -->\n",
       "      <g transform=\"translate(39.0125 352.277344)scale(0.1 -0.1)\">\n",
       "       <use xlink:href=\"#DejaVuSans-48\"/>\n",
       "      </g>\n",
       "     </g>\n",
       "    </g>\n",
       "    <g id=\"ytick_25\">\n",
       "     <g id=\"line2d_95\">\n",
       "      <path clip-path=\"url(#p7375d0a6f4)\" d=\"M 52.375 316.858767 \n",
       "L 199.217105 316.858767 \n",
       "\" style=\"fill:none;stroke:#b0b0b0;stroke-linecap:square;stroke-width:0.8;\"/>\n",
       "     </g>\n",
       "     <g id=\"line2d_96\">\n",
       "      <g>\n",
       "       <use style=\"stroke:#000000;stroke-width:0.8;\" x=\"52.375\" xlink:href=\"#mf2475865b9\" y=\"316.858767\"/>\n",
       "      </g>\n",
       "     </g>\n",
       "     <g id=\"text_54\">\n",
       "      <!-- 20000 -->\n",
       "      <g transform=\"translate(13.5625 320.657986)scale(0.1 -0.1)\">\n",
       "       <use xlink:href=\"#DejaVuSans-50\"/>\n",
       "       <use x=\"63.623047\" xlink:href=\"#DejaVuSans-48\"/>\n",
       "       <use x=\"127.246094\" xlink:href=\"#DejaVuSans-48\"/>\n",
       "       <use x=\"190.869141\" xlink:href=\"#DejaVuSans-48\"/>\n",
       "       <use x=\"254.492188\" xlink:href=\"#DejaVuSans-48\"/>\n",
       "      </g>\n",
       "     </g>\n",
       "    </g>\n",
       "    <g id=\"ytick_26\">\n",
       "     <g id=\"line2d_97\">\n",
       "      <path clip-path=\"url(#p7375d0a6f4)\" d=\"M 52.375 285.239409 \n",
       "L 199.217105 285.239409 \n",
       "\" style=\"fill:none;stroke:#b0b0b0;stroke-linecap:square;stroke-width:0.8;\"/>\n",
       "     </g>\n",
       "     <g id=\"line2d_98\">\n",
       "      <g>\n",
       "       <use style=\"stroke:#000000;stroke-width:0.8;\" x=\"52.375\" xlink:href=\"#mf2475865b9\" y=\"285.239409\"/>\n",
       "      </g>\n",
       "     </g>\n",
       "     <g id=\"text_55\">\n",
       "      <!-- 40000 -->\n",
       "      <g transform=\"translate(13.5625 289.038628)scale(0.1 -0.1)\">\n",
       "       <use xlink:href=\"#DejaVuSans-52\"/>\n",
       "       <use x=\"63.623047\" xlink:href=\"#DejaVuSans-48\"/>\n",
       "       <use x=\"127.246094\" xlink:href=\"#DejaVuSans-48\"/>\n",
       "       <use x=\"190.869141\" xlink:href=\"#DejaVuSans-48\"/>\n",
       "       <use x=\"254.492188\" xlink:href=\"#DejaVuSans-48\"/>\n",
       "      </g>\n",
       "     </g>\n",
       "    </g>\n",
       "   </g>\n",
       "   <g id=\"patch_103\">\n",
       "    <path d=\"M 52.375 348.478125 \n",
       "L 52.375 266.938125 \n",
       "\" style=\"fill:none;stroke:#000000;stroke-linecap:square;stroke-linejoin:miter;stroke-width:0.8;\"/>\n",
       "   </g>\n",
       "   <g id=\"patch_104\">\n",
       "    <path d=\"M 199.217105 348.478125 \n",
       "L 199.217105 266.938125 \n",
       "\" style=\"fill:none;stroke:#000000;stroke-linecap:square;stroke-linejoin:miter;stroke-width:0.8;\"/>\n",
       "   </g>\n",
       "   <g id=\"patch_105\">\n",
       "    <path d=\"M 52.375 348.478125 \n",
       "L 199.217105 348.478125 \n",
       "\" style=\"fill:none;stroke:#000000;stroke-linecap:square;stroke-linejoin:miter;stroke-width:0.8;\"/>\n",
       "   </g>\n",
       "   <g id=\"patch_106\">\n",
       "    <path d=\"M 52.375 266.938125 \n",
       "L 199.217105 266.938125 \n",
       "\" style=\"fill:none;stroke:#000000;stroke-linecap:square;stroke-linejoin:miter;stroke-width:0.8;\"/>\n",
       "   </g>\n",
       "   <g id=\"text_56\">\n",
       "    <!-- PostalCode -->\n",
       "    <g transform=\"translate(92.541053 260.938125)scale(0.12 -0.12)\">\n",
       "     <defs>\n",
       "      <path d=\"M 64.40625 67.28125 \n",
       "L 64.40625 56.890625 \n",
       "Q 59.421875 61.53125 53.78125 63.8125 \n",
       "Q 48.140625 66.109375 41.796875 66.109375 \n",
       "Q 29.296875 66.109375 22.65625 58.46875 \n",
       "Q 16.015625 50.828125 16.015625 36.375 \n",
       "Q 16.015625 21.96875 22.65625 14.328125 \n",
       "Q 29.296875 6.6875 41.796875 6.6875 \n",
       "Q 48.140625 6.6875 53.78125 8.984375 \n",
       "Q 59.421875 11.28125 64.40625 15.921875 \n",
       "L 64.40625 5.609375 \n",
       "Q 59.234375 2.09375 53.4375 0.328125 \n",
       "Q 47.65625 -1.421875 41.21875 -1.421875 \n",
       "Q 24.65625 -1.421875 15.125 8.703125 \n",
       "Q 5.609375 18.84375 5.609375 36.375 \n",
       "Q 5.609375 53.953125 15.125 64.078125 \n",
       "Q 24.65625 74.21875 41.21875 74.21875 \n",
       "Q 47.75 74.21875 53.53125 72.484375 \n",
       "Q 59.328125 70.75 64.40625 67.28125 \n",
       "z\n",
       "\" id=\"DejaVuSans-67\"/>\n",
       "      <path d=\"M 45.40625 46.390625 \n",
       "L 45.40625 75.984375 \n",
       "L 54.390625 75.984375 \n",
       "L 54.390625 0 \n",
       "L 45.40625 0 \n",
       "L 45.40625 8.203125 \n",
       "Q 42.578125 3.328125 38.25 0.953125 \n",
       "Q 33.9375 -1.421875 27.875 -1.421875 \n",
       "Q 17.96875 -1.421875 11.734375 6.484375 \n",
       "Q 5.515625 14.40625 5.515625 27.296875 \n",
       "Q 5.515625 40.1875 11.734375 48.09375 \n",
       "Q 17.96875 56 27.875 56 \n",
       "Q 33.9375 56 38.25 53.625 \n",
       "Q 42.578125 51.265625 45.40625 46.390625 \n",
       "z\n",
       "M 14.796875 27.296875 \n",
       "Q 14.796875 17.390625 18.875 11.75 \n",
       "Q 22.953125 6.109375 30.078125 6.109375 \n",
       "Q 37.203125 6.109375 41.296875 11.75 \n",
       "Q 45.40625 17.390625 45.40625 27.296875 \n",
       "Q 45.40625 37.203125 41.296875 42.84375 \n",
       "Q 37.203125 48.484375 30.078125 48.484375 \n",
       "Q 22.953125 48.484375 18.875 42.84375 \n",
       "Q 14.796875 37.203125 14.796875 27.296875 \n",
       "z\n",
       "\" id=\"DejaVuSans-100\"/>\n",
       "     </defs>\n",
       "     <use xlink:href=\"#DejaVuSans-80\"/>\n",
       "     <use x=\"56.677734\" xlink:href=\"#DejaVuSans-111\"/>\n",
       "     <use x=\"117.859375\" xlink:href=\"#DejaVuSans-115\"/>\n",
       "     <use x=\"169.958984\" xlink:href=\"#DejaVuSans-116\"/>\n",
       "     <use x=\"209.167969\" xlink:href=\"#DejaVuSans-97\"/>\n",
       "     <use x=\"270.447266\" xlink:href=\"#DejaVuSans-108\"/>\n",
       "     <use x=\"298.230469\" xlink:href=\"#DejaVuSans-67\"/>\n",
       "     <use x=\"368.054688\" xlink:href=\"#DejaVuSans-111\"/>\n",
       "     <use x=\"429.236328\" xlink:href=\"#DejaVuSans-100\"/>\n",
       "     <use x=\"492.712891\" xlink:href=\"#DejaVuSans-101\"/>\n",
       "    </g>\n",
       "   </g>\n",
       "  </g>\n",
       " </g>\n",
       " <defs>\n",
       "  <clipPath id=\"p6db4456893\">\n",
       "   <rect height=\"81.54\" width=\"146.842105\" x=\"52.375\" y=\"22.318125\"/>\n",
       "  </clipPath>\n",
       "  <clipPath id=\"pc155633792\">\n",
       "   <rect height=\"81.54\" width=\"146.842105\" x=\"257.953947\" y=\"22.318125\"/>\n",
       "  </clipPath>\n",
       "  <clipPath id=\"p958be59a03\">\n",
       "   <rect height=\"81.54\" width=\"146.842105\" x=\"463.532895\" y=\"22.318125\"/>\n",
       "  </clipPath>\n",
       "  <clipPath id=\"pb841452c90\">\n",
       "   <rect height=\"81.54\" width=\"146.842105\" x=\"52.375\" y=\"144.628125\"/>\n",
       "  </clipPath>\n",
       "  <clipPath id=\"pf22b4f2796\">\n",
       "   <rect height=\"81.54\" width=\"146.842105\" x=\"257.953947\" y=\"144.628125\"/>\n",
       "  </clipPath>\n",
       "  <clipPath id=\"pf9796e3706\">\n",
       "   <rect height=\"81.54\" width=\"146.842105\" x=\"463.532895\" y=\"144.628125\"/>\n",
       "  </clipPath>\n",
       "  <clipPath id=\"p7375d0a6f4\">\n",
       "   <rect height=\"81.54\" width=\"146.842105\" x=\"52.375\" y=\"266.938125\"/>\n",
       "  </clipPath>\n",
       " </defs>\n",
       "</svg>\n"
      ],
      "text/plain": [
       "<Figure size 800x480 with 9 Axes>"
      ]
     },
     "metadata": {
      "needs_background": "light"
     },
     "output_type": "display_data"
    }
   ],
   "source": [
    "# Анализ значений датафрейма\n",
    "data.hist() \n",
    "plt.subplots_adjust(wspace=.4, hspace=.5)\n",
    "\n",
    "data.describe() "
   ]
  },
  {
   "cell_type": "code",
   "execution_count": 6,
   "metadata": {
    "scrolled": false
   },
   "outputs": [
    {
     "name": "stdout",
     "output_type": "stream",
     "text": [
      "Всего объектов: 354369\n",
      "\n",
      "Количество объектов с пропусками в признаках:\n",
      "VehicleType (object)\t= 37490 (10%)\n",
      "Gearbox (object)\t= 19833 (5%)\n",
      "Model (object)\t= 19705 (5%)\n",
      "FuelType (object)\t= 32895 (9%)\n",
      "Repaired (object)\t= 71154 (20%)\n"
     ]
    }
   ],
   "source": [
    "# Подсчёт пропусков\n",
    "data_shape = data.shape[0]\n",
    "print('Всего объектов:', data_shape) \n",
    "print() \n",
    "print('Количество объектов с пропусками в признаках:') \n",
    "for i in data.columns:\n",
    "    if data_shape - data[i].loc[data[i].notna()].shape[0] > 0:\n",
    "        _a = data_shape - data[i].loc[data[i].notna()].shape[0]\n",
    "        _b = int((1 - data[i].loc[data[i].notna()].shape[0] / data_shape) * 100) \n",
    "        _c = data[i].dtype\n",
    "        print(f'{i} ({_c})\\t= {_a} ({_b}%)') \n"
   ]
  },
  {
   "cell_type": "code",
   "execution_count": 7,
   "metadata": {},
   "outputs": [
    {
     "name": "stdout",
     "output_type": "stream",
     "text": [
      "Уникальные значения атрибута \"RegistrationYear\":\n",
      "[1000 1001 1039 1111 1200 1234 1253 1255 1300 1400 1500 1600 1602 1688\n",
      " 1800 1910 1915 1919 1920 1923 1925 1927 1928 1929 1930 1931 1932 1933\n",
      " 1934 1935 1936 1937 1938 1940 1941 1942 1943 1944 1945 1946 1947 1948\n",
      " 1949 1950 1951 1952 1953 1954 1955 1956 1957 1958 1959 1960 1961 1962\n",
      " 1963 1964 1965 1966 1967 1968 1969 1970 1971 1972 1973 1974 1975 1976\n",
      " 1977 1978 1979 1980 1981 1982 1983 1984 1985 1986 1987 1988 1989 1990\n",
      " 1991 1992 1993 1994 1995 1996 1997 1998 1999 2000 2001 2002 2003 2004\n",
      " 2005 2006 2007 2008 2009 2010 2011 2012 2013 2014 2015 2016 2017 2018\n",
      " 2019 2066 2200 2222 2290 2500 2800 2900 3000 3200 3500 3700 3800 4000\n",
      " 4100 4500 4800 5000 5300 5555 5600 5900 5911 6000 6500 7000 7100 7500\n",
      " 7800 8000 8200 8455 8500 8888 9000 9229 9450 9996 9999]\n",
      "\n",
      "Количество значений атрибута \"RegistrationYear\", которые меньше 1990 и больше 2023: 171 это 0.048254785266205566 %\n"
     ]
    }
   ],
   "source": [
    "# Анализ значений атрибута \"RegistrationYear\" \n",
    "print('Уникальные значения атрибута \"RegistrationYear\":') \n",
    "print(np.sort(data['RegistrationYear'].unique())) \n",
    "print() \n",
    "print('Количество значений атрибута \"RegistrationYear\", которые меньше 1990 и больше 2023:',  \n",
    "      data.loc[\n",
    "          (data['RegistrationYear'] < 1900) |\n",
    "          (data['RegistrationYear'] > 2023), \n",
    "          'RegistrationYear'\n",
    "      ].count(), \n",
    "      'это', \n",
    "      (data.loc[\n",
    "          (data['RegistrationYear'] < 1900) |\n",
    "          (data['RegistrationYear'] > 2023), \n",
    "          'RegistrationYear'\n",
    "      ].count() / data_shape) * 100, '%' \n",
    "     ) \n"
   ]
  },
  {
   "cell_type": "code",
   "execution_count": 8,
   "metadata": {
    "scrolled": false
   },
   "outputs": [
    {
     "name": "stdout",
     "output_type": "stream",
     "text": [
      "40225 объектов имеют мощность двигателя меньше 0.75 л.с. Это 11.351162206626427% от всего количества объектов.  \n",
      "\n",
      "Примеры подобных объектов:\n",
      "\n"
     ]
    }
   ],
   "source": [
    "# Анализ минимальна значений атрибута \"Power\" \n",
    "string = f\"{data.loc[data['Power'] < .75, 'Power'].count()} объектов имеют мощность двигателя меньше 0.75 л.с. \"\n",
    "string += f\"Это {data.loc[data['Power'] < .75, 'Power'].count() / data_shape * 100}% от всего количества объектов. \" \n",
    "print(string, '\\n')\n",
    "\n",
    "print('Примеры подобных объектов:') \n",
    "data.loc[data['Power'] < .75].head() \n",
    "\n",
    "print() \n"
   ]
  },
  {
   "cell_type": "code",
   "execution_count": 9,
   "metadata": {},
   "outputs": [
    {
     "name": "stdout",
     "output_type": "stream",
     "text": [
      "82 объектов имеют мощность двигателя больше 5000 л.с. Это 0.023139721589642434% от всего количества объектов.  \n",
      "\n",
      "Примеры подобных объектов:\n"
     ]
    },
    {
     "data": {
      "text/html": [
       "<div>\n",
       "<style scoped>\n",
       "    .dataframe tbody tr th:only-of-type {\n",
       "        vertical-align: middle;\n",
       "    }\n",
       "\n",
       "    .dataframe tbody tr th {\n",
       "        vertical-align: top;\n",
       "    }\n",
       "\n",
       "    .dataframe thead th {\n",
       "        text-align: right;\n",
       "    }\n",
       "</style>\n",
       "<table border=\"1\" class=\"dataframe\">\n",
       "  <thead>\n",
       "    <tr style=\"text-align: right;\">\n",
       "      <th></th>\n",
       "      <th>DateCrawled</th>\n",
       "      <th>Price</th>\n",
       "      <th>VehicleType</th>\n",
       "      <th>RegistrationYear</th>\n",
       "      <th>Gearbox</th>\n",
       "      <th>Power</th>\n",
       "      <th>Model</th>\n",
       "      <th>Kilometer</th>\n",
       "      <th>RegistrationMonth</th>\n",
       "      <th>FuelType</th>\n",
       "      <th>Brand</th>\n",
       "      <th>Repaired</th>\n",
       "      <th>DateCreated</th>\n",
       "      <th>NumberOfPictures</th>\n",
       "      <th>PostalCode</th>\n",
       "      <th>LastSeen</th>\n",
       "    </tr>\n",
       "  </thead>\n",
       "  <tbody>\n",
       "    <tr>\n",
       "      <th>7661</th>\n",
       "      <td>2016-04-02 19:25:25</td>\n",
       "      <td>1499</td>\n",
       "      <td>small</td>\n",
       "      <td>1999</td>\n",
       "      <td>manual</td>\n",
       "      <td>7515</td>\n",
       "      <td>lupo</td>\n",
       "      <td>150000</td>\n",
       "      <td>4</td>\n",
       "      <td>petrol</td>\n",
       "      <td>volkswagen</td>\n",
       "      <td>NaN</td>\n",
       "      <td>2016-04-02 00:00:00</td>\n",
       "      <td>0</td>\n",
       "      <td>65830</td>\n",
       "      <td>2016-04-06 11:46:49</td>\n",
       "    </tr>\n",
       "    <tr>\n",
       "      <th>11039</th>\n",
       "      <td>2016-03-25 19:55:32</td>\n",
       "      <td>0</td>\n",
       "      <td>sedan</td>\n",
       "      <td>1998</td>\n",
       "      <td>manual</td>\n",
       "      <td>10317</td>\n",
       "      <td>other</td>\n",
       "      <td>150000</td>\n",
       "      <td>8</td>\n",
       "      <td>petrol</td>\n",
       "      <td>fiat</td>\n",
       "      <td>no</td>\n",
       "      <td>2016-03-25 00:00:00</td>\n",
       "      <td>0</td>\n",
       "      <td>57520</td>\n",
       "      <td>2016-04-01 19:16:33</td>\n",
       "    </tr>\n",
       "    <tr>\n",
       "      <th>25232</th>\n",
       "      <td>2016-03-28 19:57:39</td>\n",
       "      <td>10900</td>\n",
       "      <td>bus</td>\n",
       "      <td>2009</td>\n",
       "      <td>manual</td>\n",
       "      <td>10520</td>\n",
       "      <td>caddy</td>\n",
       "      <td>150000</td>\n",
       "      <td>6</td>\n",
       "      <td>gasoline</td>\n",
       "      <td>volkswagen</td>\n",
       "      <td>no</td>\n",
       "      <td>2016-03-28 00:00:00</td>\n",
       "      <td>0</td>\n",
       "      <td>36272</td>\n",
       "      <td>2016-04-07 02:47:02</td>\n",
       "    </tr>\n",
       "    <tr>\n",
       "      <th>33952</th>\n",
       "      <td>2016-03-09 11:37:03</td>\n",
       "      <td>3740</td>\n",
       "      <td>small</td>\n",
       "      <td>2006</td>\n",
       "      <td>manual</td>\n",
       "      <td>6920</td>\n",
       "      <td>aygo</td>\n",
       "      <td>90000</td>\n",
       "      <td>10</td>\n",
       "      <td>NaN</td>\n",
       "      <td>toyota</td>\n",
       "      <td>no</td>\n",
       "      <td>2016-03-09 00:00:00</td>\n",
       "      <td>0</td>\n",
       "      <td>94116</td>\n",
       "      <td>2016-03-17 05:16:32</td>\n",
       "    </tr>\n",
       "    <tr>\n",
       "      <th>44520</th>\n",
       "      <td>2016-03-10 22:37:21</td>\n",
       "      <td>2500</td>\n",
       "      <td>convertible</td>\n",
       "      <td>1998</td>\n",
       "      <td>manual</td>\n",
       "      <td>7512</td>\n",
       "      <td>golf</td>\n",
       "      <td>150000</td>\n",
       "      <td>6</td>\n",
       "      <td>NaN</td>\n",
       "      <td>volkswagen</td>\n",
       "      <td>NaN</td>\n",
       "      <td>2016-03-10 00:00:00</td>\n",
       "      <td>0</td>\n",
       "      <td>68239</td>\n",
       "      <td>2016-04-05 15:17:50</td>\n",
       "    </tr>\n",
       "  </tbody>\n",
       "</table>\n",
       "</div>"
      ],
      "text/plain": [
       "               DateCrawled  Price  VehicleType  RegistrationYear Gearbox  \\\n",
       "7661   2016-04-02 19:25:25   1499        small              1999  manual   \n",
       "11039  2016-03-25 19:55:32      0        sedan              1998  manual   \n",
       "25232  2016-03-28 19:57:39  10900          bus              2009  manual   \n",
       "33952  2016-03-09 11:37:03   3740        small              2006  manual   \n",
       "44520  2016-03-10 22:37:21   2500  convertible              1998  manual   \n",
       "\n",
       "       Power  Model  Kilometer  RegistrationMonth  FuelType       Brand  \\\n",
       "7661    7515   lupo     150000                  4    petrol  volkswagen   \n",
       "11039  10317  other     150000                  8    petrol        fiat   \n",
       "25232  10520  caddy     150000                  6  gasoline  volkswagen   \n",
       "33952   6920   aygo      90000                 10       NaN      toyota   \n",
       "44520   7512   golf     150000                  6       NaN  volkswagen   \n",
       "\n",
       "      Repaired          DateCreated  NumberOfPictures  PostalCode  \\\n",
       "7661       NaN  2016-04-02 00:00:00                 0       65830   \n",
       "11039       no  2016-03-25 00:00:00                 0       57520   \n",
       "25232       no  2016-03-28 00:00:00                 0       36272   \n",
       "33952       no  2016-03-09 00:00:00                 0       94116   \n",
       "44520      NaN  2016-03-10 00:00:00                 0       68239   \n",
       "\n",
       "                  LastSeen  \n",
       "7661   2016-04-06 11:46:49  \n",
       "11039  2016-04-01 19:16:33  \n",
       "25232  2016-04-07 02:47:02  \n",
       "33952  2016-03-17 05:16:32  \n",
       "44520  2016-04-05 15:17:50  "
      ]
     },
     "execution_count": 9,
     "metadata": {},
     "output_type": "execute_result"
    }
   ],
   "source": [
    "# Анализ максимальная значений атрибута \"Power\" \n",
    "string = f\"{data.loc[data['Power'] > 5000, 'Power'].count()} объектов имеют мощность двигателя больше 5000 л.с. \"\n",
    "string += f\"Это {data.loc[data['Power'] > 5000, 'Power'].count() / data_shape * 100}% от всего количества объектов. \"\n",
    "print(string, '\\n')\n",
    "\n",
    "print('Примеры подобных объектов:') \n",
    "data.loc[data['Power'] > 5000].head() \n"
   ]
  },
  {
   "cell_type": "code",
   "execution_count": 10,
   "metadata": {
    "scrolled": true
   },
   "outputs": [
    {
     "name": "stdout",
     "output_type": "stream",
     "text": [
      "Уникальные значения признака \"DateCrawled\": ['2016-03-24 11:52:17' '2016-03-24 10:58:45' '2016-03-14 12:52:21' ...\n",
      " '2016-03-21 09:50:58' '2016-03-14 17:48:27' '2016-03-19 18:57:12']\n",
      "Всего унимальных значений признака \"DateCrawled\": 271174\n",
      "\n",
      "Уникальные значения признака \"VehicleType\": [nan 'coupe' 'suv' 'small' 'sedan' 'convertible' 'bus' 'wagon' 'other']\n",
      "Всего унимальных значений признака \"VehicleType\": 9\n",
      "\n",
      "Уникальные значения признака \"Gearbox\": ['manual' 'auto' nan]\n",
      "Всего унимальных значений признака \"Gearbox\": 3\n",
      "\n",
      "Уникальные значения признака \"Model\": ['golf' nan 'grand' 'fabia' '3er' '2_reihe' 'other' 'c_max' '3_reihe'\n",
      " 'passat' 'navara' 'ka' 'polo' 'twingo' 'a_klasse' 'scirocco' '5er'\n",
      " 'meriva' 'arosa' 'c4' 'civic' 'transporter' 'punto' 'e_klasse' 'clio'\n",
      " 'kadett' 'kangoo' 'corsa' 'one' 'fortwo' '1er' 'b_klasse' 'signum'\n",
      " 'astra' 'a8' 'jetta' 'fiesta' 'c_klasse' 'micra' 'vito' 'sprinter' '156'\n",
      " 'escort' 'forester' 'xc_reihe' 'scenic' 'a4' 'a1' 'insignia' 'combo'\n",
      " 'focus' 'tt' 'a6' 'jazz' 'omega' 'slk' '7er' '80' '147' '100' 'z_reihe'\n",
      " 'sportage' 'sorento' 'v40' 'ibiza' 'mustang' 'eos' 'touran' 'getz' 'a3'\n",
      " 'almera' 'megane' 'lupo' 'r19' 'zafira' 'caddy' 'mondeo' 'cordoba' 'colt'\n",
      " 'impreza' 'vectra' 'berlingo' 'tiguan' 'i_reihe' 'espace' 'sharan'\n",
      " '6_reihe' 'panda' 'up' 'seicento' 'ceed' '5_reihe' 'yeti' 'octavia' 'mii'\n",
      " 'rx_reihe' '6er' 'modus' 'fox' 'matiz' 'beetle' 'c1' 'rio' 'touareg'\n",
      " 'logan' 'spider' 'cuore' 's_max' 'a2' 'galaxy' 'c3' 'viano' 's_klasse'\n",
      " '1_reihe' 'avensis' 'roomster' 'sl' 'kaefer' 'santa' 'cooper' 'leon'\n",
      " '4_reihe' 'a5' '500' 'laguna' 'ptcruiser' 'clk' 'primera' 'x_reihe'\n",
      " 'exeo' '159' 'transit' 'juke' 'qashqai' 'carisma' 'accord' 'corolla'\n",
      " 'lanos' 'phaeton' 'verso' 'swift' 'rav' 'picanto' 'boxster' 'kalos'\n",
      " 'superb' 'stilo' 'alhambra' 'mx_reihe' 'roadster' 'ypsilon' 'cayenne'\n",
      " 'galant' 'justy' '90' 'sirion' 'crossfire' 'agila' 'duster' 'cr_reihe'\n",
      " 'v50' 'c_reihe' 'v_klasse' 'm_klasse' 'yaris' 'c5' 'aygo' 'cc' 'carnival'\n",
      " 'fusion' '911' 'bora' 'forfour' 'm_reihe' 'cl' 'tigra' '300c' 'spark'\n",
      " 'v70' 'kuga' 'x_type' 'ducato' 's_type' 'x_trail' 'toledo' 'altea'\n",
      " 'voyager' 'calibra' 'bravo' 'antara' 'tucson' 'citigo' 'jimny' 'wrangler'\n",
      " 'lybra' 'q7' 'lancer' 'captiva' 'c2' 'discovery' 'freelander' 'sandero'\n",
      " 'note' '900' 'cherokee' 'clubman' 'samara' 'defender' '601' 'cx_reihe'\n",
      " 'legacy' 'pajero' 'auris' 'niva' 's60' 'nubira' 'vivaro' 'g_klasse'\n",
      " 'lodgy' '850' 'range_rover' 'q3' 'serie_2' 'glk' 'charade' 'croma'\n",
      " 'outlander' 'doblo' 'musa' 'move' '9000' 'v60' '145' 'aveo' '200' 'b_max'\n",
      " 'range_rover_sport' 'terios' 'rangerover' 'q5' 'range_rover_evoque'\n",
      " 'materia' 'delta' 'gl' 'kalina' 'amarok' 'elefantino' 'i3' 'kappa'\n",
      " 'serie_3' 'serie_1']\n",
      "Всего унимальных значений признака \"Model\": 251\n",
      "\n",
      "Уникальные значения признака \"FuelType\": ['petrol' 'gasoline' nan 'lpg' 'other' 'hybrid' 'cng' 'electric']\n",
      "Всего унимальных значений признака \"FuelType\": 8\n",
      "\n",
      "Уникальные значения признака \"Brand\": ['volkswagen' 'audi' 'jeep' 'skoda' 'bmw' 'peugeot' 'ford' 'mazda'\n",
      " 'nissan' 'renault' 'mercedes_benz' 'opel' 'seat' 'citroen' 'honda' 'fiat'\n",
      " 'mini' 'smart' 'hyundai' 'sonstige_autos' 'alfa_romeo' 'subaru' 'volvo'\n",
      " 'mitsubishi' 'kia' 'suzuki' 'lancia' 'toyota' 'chevrolet' 'dacia'\n",
      " 'daihatsu' 'trabant' 'saab' 'chrysler' 'jaguar' 'daewoo' 'porsche'\n",
      " 'rover' 'land_rover' 'lada']\n",
      "Всего унимальных значений признака \"Brand\": 40\n",
      "\n",
      "Уникальные значения признака \"Repaired\": [nan 'yes' 'no']\n",
      "Всего унимальных значений признака \"Repaired\": 3\n",
      "\n",
      "Уникальные значения признака \"DateCreated\": ['2016-03-24 00:00:00' '2016-03-14 00:00:00' '2016-03-17 00:00:00'\n",
      " '2016-03-31 00:00:00' '2016-04-04 00:00:00' '2016-04-01 00:00:00'\n",
      " '2016-03-21 00:00:00' '2016-03-26 00:00:00' '2016-04-07 00:00:00'\n",
      " '2016-03-15 00:00:00' '2016-03-11 00:00:00' '2016-03-20 00:00:00'\n",
      " '2016-03-23 00:00:00' '2016-03-27 00:00:00' '2016-03-12 00:00:00'\n",
      " '2016-03-13 00:00:00' '2016-03-18 00:00:00' '2016-03-10 00:00:00'\n",
      " '2016-03-07 00:00:00' '2016-03-09 00:00:00' '2016-03-08 00:00:00'\n",
      " '2016-04-03 00:00:00' '2016-03-29 00:00:00' '2016-03-25 00:00:00'\n",
      " '2016-03-28 00:00:00' '2016-03-30 00:00:00' '2016-03-22 00:00:00'\n",
      " '2016-02-09 00:00:00' '2016-03-05 00:00:00' '2016-04-02 00:00:00'\n",
      " '2016-03-16 00:00:00' '2016-03-19 00:00:00' '2016-04-05 00:00:00'\n",
      " '2016-03-06 00:00:00' '2016-02-12 00:00:00' '2016-03-03 00:00:00'\n",
      " '2016-03-01 00:00:00' '2016-03-04 00:00:00' '2016-04-06 00:00:00'\n",
      " '2016-02-15 00:00:00' '2016-02-24 00:00:00' '2016-02-27 00:00:00'\n",
      " '2015-03-20 00:00:00' '2016-02-28 00:00:00' '2016-02-17 00:00:00'\n",
      " '2016-01-27 00:00:00' '2016-02-20 00:00:00' '2016-02-29 00:00:00'\n",
      " '2016-02-10 00:00:00' '2016-02-23 00:00:00' '2016-02-21 00:00:00'\n",
      " '2015-11-02 00:00:00' '2016-02-19 00:00:00' '2016-02-26 00:00:00'\n",
      " '2016-02-11 00:00:00' '2016-01-10 00:00:00' '2016-02-06 00:00:00'\n",
      " '2016-02-18 00:00:00' '2016-01-29 00:00:00' '2016-03-02 00:00:00'\n",
      " '2015-12-06 00:00:00' '2016-01-24 00:00:00' '2016-01-30 00:00:00'\n",
      " '2016-02-02 00:00:00' '2016-02-16 00:00:00' '2016-02-13 00:00:00'\n",
      " '2016-02-05 00:00:00' '2016-02-22 00:00:00' '2015-11-17 00:00:00'\n",
      " '2014-03-10 00:00:00' '2016-02-07 00:00:00' '2016-01-23 00:00:00'\n",
      " '2016-02-25 00:00:00' '2016-02-14 00:00:00' '2016-01-02 00:00:00'\n",
      " '2015-09-04 00:00:00' '2015-11-12 00:00:00' '2015-12-27 00:00:00'\n",
      " '2015-11-24 00:00:00' '2016-01-20 00:00:00' '2016-02-03 00:00:00'\n",
      " '2015-12-05 00:00:00' '2015-08-07 00:00:00' '2016-01-28 00:00:00'\n",
      " '2016-01-31 00:00:00' '2016-02-08 00:00:00' '2016-01-07 00:00:00'\n",
      " '2016-01-22 00:00:00' '2016-01-18 00:00:00' '2016-01-08 00:00:00'\n",
      " '2015-11-23 00:00:00' '2016-01-13 00:00:00' '2016-01-17 00:00:00'\n",
      " '2016-01-15 00:00:00' '2015-11-08 00:00:00' '2016-01-26 00:00:00'\n",
      " '2016-02-04 00:00:00' '2016-01-25 00:00:00' '2016-01-16 00:00:00'\n",
      " '2015-08-10 00:00:00' '2016-01-03 00:00:00' '2016-01-19 00:00:00'\n",
      " '2015-12-30 00:00:00' '2016-02-01 00:00:00' '2015-12-17 00:00:00'\n",
      " '2015-11-10 00:00:00' '2016-01-06 00:00:00' '2015-09-09 00:00:00'\n",
      " '2015-06-18 00:00:00']\n",
      "Всего унимальных значений признака \"DateCreated\": 109\n",
      "\n",
      "Уникальные значения признака \"LastSeen\": ['2016-04-07 03:16:57' '2016-04-07 01:46:50' '2016-04-05 12:47:46' ...\n",
      " '2016-03-19 20:44:43' '2016-03-29 10:17:23' '2016-03-21 10:42:49']\n",
      "Всего унимальных значений признака \"LastSeen\": 179150\n",
      "\n"
     ]
    }
   ],
   "source": [
    "# Анализ уникальных значений \n",
    "# категориальных текстовых признаков\n",
    "for i in data.select_dtypes(include='object').columns: \n",
    "    print(f'Уникальные значения признака \"{i}\":', data[i].unique()) \n",
    "    print(f'Всего унимальных значений признака \"{i}\":', len(data[i].unique())) \n",
    "    print() \n"
   ]
  },
  {
   "cell_type": "code",
   "execution_count": 11,
   "metadata": {
    "scrolled": true
   },
   "outputs": [
    {
     "name": "stdout",
     "output_type": "stream",
     "text": [
      "golf ~ [('golf', 100), ('gl', 67), ('twingo', 60)]\n",
      "no_value ~ [('no_value', 100), ('altea', 60), ('lupo', 51)]\n",
      "grand ~ [('grand', 100), ('panda', 60), ('logan', 60)]\n",
      "fabia ~ [('fabia', 100), ('ibiza', 60), ('agila', 60)]\n",
      "3er ~ [('3er', 100), ('5er', 67), ('1er', 67)]\n",
      "2_reihe ~ [('2_reihe', 100), ('3_reihe', 86), ('z_reihe', 86)]\n",
      "other ~ [('other', 100), ('transporter', 72), ('boxster', 67)]\n",
      "c_max ~ [('c_max', 100), ('s_max', 80), ('b_max', 80)]\n",
      "3_reihe ~ [('3_reihe', 100), ('2_reihe', 86), ('z_reihe', 86)]\n",
      "passat ~ [('passat', 100), ('tt', 60), ('arosa', 55)]\n",
      "navara ~ [('navara', 100), ('rav', 72), ('niva', 68)]\n",
      "ka ~ [('ka', 100), ('kadett', 90), ('kangoo', 90)]\n",
      "polo ~ [('polo', 100), ('doblo', 67), ('toledo', 60)]\n",
      "twingo ~ [('twingo', 100), ('elefantino', 72), ('citigo', 67)]\n",
      "a_klasse ~ [('a_klasse', 100), ('e_klasse', 88), ('b_klasse', 88)]\n",
      "scirocco ~ [('scirocco', 100), ('cc', 90), ('clio', 68)]\n",
      "5er ~ [('5er', 100), ('3er', 67), ('1er', 67)]\n",
      "meriva ~ [('meriva', 100), ('materia', 77), ('niva', 68)]\n",
      "arosa ~ [('arosa', 100), ('carisma', 67), ('corsa', 60)]\n",
      "c4 ~ [('c4', 100), ('300c', 60), ('a4', 50)]\n",
      "civic ~ [('civic', 100), ('mii', 60), ('cc', 57)]\n",
      "transporter ~ [('transporter', 100), ('other', 72), ('note', 68)]\n",
      "punto ~ [('punto', 100), ('picanto', 67), ('ducato', 55)]\n",
      "e_klasse ~ [('e_klasse', 100), ('a_klasse', 88), ('b_klasse', 88)]\n",
      "clio ~ [('clio', 100), ('cl', 90), ('scirocco', 68)]\n",
      "kadett ~ [('kadett', 100), ('ka', 90), ('tt', 90)]\n",
      "kangoo ~ [('kangoo', 100), ('ka', 90), ('aygo', 68)]\n",
      "corsa ~ [('corsa', 100), ('cordoba', 67), ('carisma', 67)]\n",
      "one ~ [('one', 100), ('phaeton', 72), ('ypsilon', 72)]\n",
      "fortwo ~ [('fortwo', 100), ('sorento', 62), ('forfour', 62)]\n",
      "1er ~ [('1er', 100), ('3er', 67), ('5er', 67)]\n",
      "b_klasse ~ [('b_klasse', 100), ('a_klasse', 88), ('e_klasse', 88)]\n",
      "signum ~ [('signum', 100), ('insignia', 57), ('tiguan', 50)]\n",
      "astra ~ [('astra', 100), ('antara', 73), ('rav', 72)]\n",
      "a8 ~ [('a8', 100), ('meriva', 60), ('corsa', 60)]\n",
      "jetta ~ [('jetta', 100), ('tt', 90), ('a8', 60)]\n",
      "fiesta ~ [('fiesta', 100), ('a8', 60), ('a4', 60)]\n",
      "c_klasse ~ [('c_klasse', 100), ('a_klasse', 88), ('e_klasse', 88)]\n",
      "micra ~ [('micra', 100), ('rav', 72), ('corsa', 60)]\n",
      "vito ~ [('vito', 100), ('viano', 67), ('citigo', 60)]\n",
      "sprinter ~ [('sprinter', 100), ('spider', 71), ('note', 68)]\n",
      "156 ~ [('156', 100), ('159', 67), ('145', 67)]\n",
      "escort ~ [('escort', 100), ('colt', 68), ('sorento', 62)]\n",
      "forester ~ [('forester', 100), ('boxster', 67), ('other', 62)]\n",
      "xc_reihe ~ [('xc_reihe', 100), ('x_reihe', 93), ('c_reihe', 93)]\n",
      "scenic ~ [('scenic', 100), ('scirocco', 57), ('seicento', 57)]\n",
      "a4 ~ [('a4', 100), ('meriva', 60), ('corsa', 60)]\n",
      "a1 ~ [('a1', 100), ('meriva', 60), ('corsa', 60)]\n",
      "insignia ~ [('insignia', 100), ('niva', 77), ('a8', 60)]\n",
      "combo ~ [('combo', 100), ('croma', 60), ('doblo', 60)]\n",
      "focus ~ [('focus', 100), ('modus', 60), ('fox', 60)]\n",
      "tt ~ [('tt', 100), ('kadett', 90), ('jetta', 90)]\n",
      "a6 ~ [('a6', 100), ('meriva', 60), ('corsa', 60)]\n",
      "jazz ~ [('jazz', 100), ('ka', 45), ('a8', 45)]\n",
      "omega ~ [('omega', 100), ('megane', 73), ('one', 60)]\n",
      "slk ~ [('slk', 100), ('sl', 90), ('clk', 67)]\n",
      "7er ~ [('7er', 100), ('3er', 67), ('5er', 67)]\n",
      "80 ~ [('80', 100), ('850', 80), ('a8', 50)]\n",
      "147 ~ [('147', 100), ('145', 67), ('c4', 45)]\n",
      "100 ~ [('100', 100), ('500', 67), ('900', 67)]\n",
      "z_reihe ~ [('z_reihe', 100), ('2_reihe', 86), ('3_reihe', 86)]\n",
      "sportage ~ [('sportage', 100), ('range_rover_sport', 69), ('bora', 68)]\n",
      "sorento ~ [('sorento', 100), ('seicento', 67), ('fortwo', 62)]\n",
      "v40 ~ [('v40', 100), ('v50', 67), ('v70', 67)]\n",
      "ibiza ~ [('ibiza', 100), ('fabia', 60), ('a8', 60)]\n",
      "mustang ~ [('mustang', 100), ('musa', 73), ('gl', 60)]\n",
      "eos ~ [('eos', 100), ('mondeo', 72), ('terios', 67)]\n",
      "touran ~ [('touran', 100), ('bora', 68), ('tiguan', 67)]\n",
      "getz ~ [('getz', 100), ('sportage', 60), ('voyager', 51)]\n",
      "a3 ~ [('a3', 100), ('meriva', 60), ('corsa', 60)]\n",
      "almera ~ [('almera', 100), ('altea', 73), ('rav', 72)]\n",
      "megane ~ [('megane', 100), ('omega', 73), ('one', 60)]\n",
      "lupo ~ [('lupo', 100), ('up', 90), ('no_value', 51)]\n",
      "r19 ~ [('r19', 100), ('159', 67), ('90', 60)]\n",
      "zafira ~ [('zafira', 100), ('rav', 72), ('calibra', 62)]\n",
      "caddy ~ [('caddy', 100), ('cayenne', 50), ('charade', 50)]\n",
      "mondeo ~ [('mondeo', 100), ('eos', 72), ('one', 67)]\n",
      "cordoba ~ [('cordoba', 100), ('corolla', 71), ('corsa', 67)]\n",
      "colt ~ [('colt', 100), ('escort', 68), ('cl', 67)]\n",
      "impreza ~ [('impreza', 100), ('a8', 60), ('a4', 60)]\n",
      "vectra ~ [('vectra', 100), ('rav', 72), ('a8', 60)]\n",
      "berlingo ~ [('berlingo', 100), ('golf', 60), ('3er', 60)]\n",
      "tiguan ~ [('tiguan', 100), ('tigra', 73), ('touran', 67)]\n",
      "i_reihe ~ [('i_reihe', 100), ('2_reihe', 86), ('3_reihe', 86)]\n",
      "espace ~ [('espace', 100), ('eos', 60), ('ceed', 60)]\n",
      "sharan ~ [('sharan', 100), ('samara', 67), ('charade', 62)]\n",
      "6_reihe ~ [('6_reihe', 100), ('2_reihe', 86), ('3_reihe', 86)]\n",
      "panda ~ [('panda', 100), ('grand', 60), ('santa', 60)]\n",
      "up ~ [('up', 100), ('lupo', 90), ('superb', 90)]\n",
      "seicento ~ [('seicento', 100), ('sorento', 67), ('picanto', 67)]\n",
      "ceed ~ [('ceed', 100), ('espace', 60), ('cayenne', 55)]\n",
      "5_reihe ~ [('5_reihe', 100), ('2_reihe', 86), ('3_reihe', 86)]\n",
      "yeti ~ [('yeti', 100), ('i3', 60), ('x_type', 51)]\n",
      "octavia ~ [('octavia', 100), ('rav', 60), ('carisma', 57)]\n",
      "mii ~ [('mii', 100), ('civic', 60), ('micra', 60)]\n",
      "rx_reihe ~ [('rx_reihe', 100), ('x_reihe', 93), ('xc_reihe', 88)]\n",
      "6er ~ [('6er', 100), ('3er', 67), ('5er', 67)]\n",
      "modus ~ [('modus', 100), ('musa', 67), ('focus', 60)]\n",
      "fox ~ [('fox', 100), ('fortwo', 60), ('forester', 60)]\n",
      "matiz ~ [('matiz', 100), ('materia', 67), ('elefantino', 54)]\n",
      "beetle ~ [('beetle', 100), ('leon', 60), ('toledo', 50)]\n",
      "c1 ~ [('c1', 100), ('300c', 60), ('c4', 50)]\n",
      "rio ~ [('rio', 100), ('sirion', 90), ('terios', 90)]\n",
      "touareg ~ [('touareg', 100), ('touran', 62), ('gl', 60)]\n",
      "logan ~ [('logan', 100), ('leon', 67), ('grand', 60)]\n",
      "spider ~ [('spider', 100), ('sprinter', 71), ('superb', 67)]\n",
      "cuore ~ [('cuore', 100), ('corsa', 60), ('one', 60)]\n",
      "s_max ~ [('s_max', 100), ('c_max', 80), ('b_max', 80)]\n",
      "a2 ~ [('a2', 100), ('meriva', 60), ('corsa', 60)]\n",
      "galaxy ~ [('galaxy', 100), ('galant', 67), ('glk', 60)]\n",
      "c3 ~ [('c3', 100), ('300c', 60), ('c4', 50)]\n",
      "viano ~ [('viano', 100), ('vivaro', 73), ('vito', 67)]\n",
      "s_klasse ~ [('s_klasse', 100), ('a_klasse', 88), ('e_klasse', 88)]\n",
      "1_reihe ~ [('1_reihe', 100), ('2_reihe', 86), ('3_reihe', 86)]\n",
      "avensis ~ [('avensis', 100), ('aveo', 68), ('eos', 60)]\n",
      "roomster ~ [('roomster', 100), ('roadster', 75), ('boxster', 67)]\n",
      "sl ~ [('sl', 100), ('slk', 90), ('focus', 60)]\n",
      "kaefer ~ [('kaefer', 100), ('ka', 90), ('3er', 60)]\n",
      "santa ~ [('santa', 100), ('antara', 73), ('panda', 60)]\n",
      "cooper ~ [('cooper', 100), ('3er', 60), ('5er', 60)]\n",
      "leon ~ [('leon', 100), ('ypsilon', 77), ('phaeton', 68)]\n",
      "4_reihe ~ [('4_reihe', 100), ('2_reihe', 86), ('3_reihe', 86)]\n",
      "a5 ~ [('a5', 100), ('meriva', 60), ('corsa', 60)]\n",
      "500 ~ [('500', 100), ('100', 67), ('v50', 67)]\n",
      "laguna ~ [('laguna', 100), ('niva', 60), ('panda', 55)]\n",
      "ptcruiser ~ [('ptcruiser', 100), ('duster', 66), ('primera', 62)]\n",
      "clk ~ [('clk', 100), ('cl', 90), ('slk', 67)]\n",
      "primera ~ [('primera', 100), ('rav', 72), ('sprinter', 67)]\n",
      "x_reihe ~ [('x_reihe', 100), ('xc_reihe', 93), ('rx_reihe', 93)]\n",
      "exeo ~ [('exeo', 100), ('eos', 57), ('toledo', 51)]\n",
      "159 ~ [('159', 100), ('156', 67), ('r19', 67)]\n",
      "transit ~ [('transit', 100), ('transporter', 67), ('touran', 62)]\n",
      "juke ~ [('juke', 100), ('no_value', 51), ('range_rover_evoque', 51)]\n",
      "qashqai ~ [('qashqai', 100), ('i3', 60), ('arosa', 50)]\n",
      "carisma ~ [('carisma', 100), ('arosa', 67), ('yaris', 67)]\n",
      "accord ~ [('accord', 100), ('cc', 90), ('cordoba', 62)]\n",
      "corolla ~ [('corolla', 100), ('cordoba', 71), ('corsa', 67)]\n",
      "lanos ~ [('lanos', 100), ('arosa', 60), ('eos', 60)]\n",
      "phaeton ~ [('phaeton', 100), ('one', 72), ('leon', 68)]\n",
      "verso ~ [('verso', 100), ('range_rover_sport', 72), ('range_rover', 68)]\n",
      "swift ~ [('swift', 100), ('tt', 60), ('transit', 50)]\n",
      "rav ~ [('rav', 100), ('bravo', 90), ('navara', 72)]\n",
      "picanto ~ [('picanto', 100), ('punto', 67), ('seicento', 67)]\n",
      "boxster ~ [('boxster', 100), ('other', 67), ('forester', 67)]\n",
      "kalos ~ [('kalos', 100), ('ka', 90), ('arosa', 60)]\n",
      "superb ~ [('superb', 100), ('up', 90), ('spider', 67)]\n",
      "stilo ~ [('stilo', 100), ('ypsilon', 67), ('rio', 60)]\n",
      "alhambra ~ [('alhambra', 100), ('bora', 77), ('rav', 72)]\n",
      "mx_reihe ~ [('mx_reihe', 100), ('x_reihe', 93), ('m_reihe', 93)]\n",
      "roadster ~ [('roadster', 100), ('roomster', 75), ('duster', 71)]\n",
      "ypsilon ~ [('ypsilon', 100), ('leon', 77), ('one', 72)]\n",
      "cayenne ~ [('cayenne', 100), ('one', 60), ('ceed', 55)]\n",
      "galant ~ [('galant', 100), ('galaxy', 67), ('tt', 60)]\n",
      "justy ~ [('justy', 100), ('duster', 55), ('s_type', 55)]\n",
      "90 ~ [('90', 100), ('900', 90), ('9000', 90)]\n",
      "sirion ~ [('sirion', 100), ('rio', 90), ('one', 72)]\n",
      "crossfire ~ [('crossfire', 100), ('eos', 60), ('rio', 60)]\n",
      "agila ~ [('agila', 100), ('fabia', 60), ('altea', 60)]\n",
      "duster ~ [('duster', 100), ('roadster', 71), ('ptcruiser', 66)]\n",
      "cr_reihe ~ [('cr_reihe', 100), ('c_reihe', 93), ('xc_reihe', 88)]\n",
      "v50 ~ [('v50', 100), ('v40', 67), ('500', 67)]\n",
      "c_reihe ~ [('c_reihe', 100), ('xc_reihe', 93), ('cr_reihe', 93)]\n",
      "v_klasse ~ [('v_klasse', 100), ('a_klasse', 88), ('e_klasse', 88)]\n",
      "m_klasse ~ [('m_klasse', 100), ('a_klasse', 88), ('e_klasse', 88)]\n",
      "yaris ~ [('yaris', 100), ('auris', 80), ('carisma', 67)]\n",
      "c5 ~ [('c5', 100), ('300c', 60), ('c4', 50)]\n",
      "aygo ~ [('aygo', 100), ('kangoo', 68), ('sportage', 51)]\n",
      "cc ~ [('cc', 100), ('scirocco', 90), ('accord', 90)]\n",
      "carnival ~ [('carnival', 100), ('niva', 90), ('carisma', 67)]\n",
      "fusion ~ [('fusion', 100), ('one', 72), ('sirion', 67)]\n",
      "911 ~ [('911', 100), ('a1', 45), ('c1', 45)]\n",
      "bora ~ [('bora', 100), ('alhambra', 77), ('calibra', 77)]\n",
      "forfour ~ [('forfour', 100), ('fortwo', 62), ('fox', 60)]\n",
      "m_reihe ~ [('m_reihe', 100), ('mx_reihe', 93), ('2_reihe', 86)]\n",
      "cl ~ [('cl', 100), ('clio', 90), ('clk', 90)]\n",
      "tigra ~ [('tigra', 100), ('tiguan', 73), ('rav', 72)]\n",
      "300c ~ [('300c', 100), ('c4', 60), ('c1', 60)]\n",
      "spark ~ [('spark', 100), ('ka', 60), ('espace', 55)]\n",
      "v70 ~ [('v70', 100), ('v40', 67), ('v50', 67)]\n",
      "kuga ~ [('kuga', 100), ('ka', 67), ('a8', 60)]\n",
      "x_type ~ [('x_type', 100), ('s_type', 83), ('yeti', 51)]\n",
      "ducato ~ [('ducato', 100), ('picanto', 62), ('punto', 55)]\n",
      "s_type ~ [('s_type', 100), ('x_type', 83), ('justy', 55)]\n",
      "x_trail ~ [('x_trail', 100), ('rio', 60), ('rav', 60)]\n",
      "toledo ~ [('toledo', 100), ('leon', 68), ('polo', 60)]\n",
      "altea ~ [('altea', 100), ('almera', 73), ('materia', 67)]\n",
      "voyager ~ [('voyager', 100), ('3er', 60), ('5er', 60)]\n",
      "calibra ~ [('calibra', 100), ('bora', 77), ('rav', 72)]\n",
      "bravo ~ [('bravo', 100), ('rav', 90), ('alhambra', 68)]\n",
      "antara ~ [('antara', 100), ('astra', 73), ('santa', 73)]\n",
      "tucson ~ [('tucson', 100), ('one', 72), ('fusion', 67)]\n",
      "citigo ~ [('citigo', 100), ('golf', 60), ('clio', 60)]\n",
      "jimny ~ [('jimny', 100), ('i3', 45), ('viano', 40)]\n",
      "wrangler ~ [('wrangler', 100), ('gl', 90), ('range_rover_sport', 68)]\n",
      "lybra ~ [('lybra', 100), ('rav', 72), ('bora', 67)]\n",
      "q7 ~ [('q7', 100), ('q3', 50), ('q5', 50)]\n",
      "lancer ~ [('lancer', 100), ('freelander', 75), ('outlander', 75)]\n",
      "captiva ~ [('captiva', 100), ('niva', 68), ('carnival', 67)]\n",
      "c2 ~ [('c2', 100), ('300c', 60), ('c4', 50)]\n",
      "discovery ~ [('discovery', 100), ('move', 68), ('3er', 60)]\n",
      "freelander ~ [('freelander', 100), ('lancer', 75), ('defender', 67)]\n",
      "sandero ~ [('sandero', 100), ('rio', 72), ('mondeo', 62)]\n",
      "note ~ [('note', 100), ('transporter', 68), ('sprinter', 68)]\n",
      "900 ~ [('900', 100), ('90', 90), ('9000', 86)]\n",
      "cherokee ~ [('cherokee', 100), ('3er', 60), ('5er', 60)]\n",
      "clubman ~ [('clubman', 100), ('cl', 90), ('clk', 60)]\n",
      "samara ~ [('samara', 100), ('rav', 72), ('navara', 67)]\n",
      "defender ~ [('defender', 100), ('freelander', 67), ('3er', 60)]\n",
      "601 ~ [('601', 100), ('s60', 67), ('v60', 67)]\n",
      "cx_reihe ~ [('cx_reihe', 100), ('x_reihe', 93), ('c_reihe', 93)]\n",
      "legacy ~ [('legacy', 100), ('omega', 55), ('logan', 55)]\n",
      "pajero ~ [('pajero', 100), ('rio', 72), ('phaeton', 62)]\n",
      "auris ~ [('auris', 100), ('yaris', 80), ('carisma', 67)]\n",
      "niva ~ [('niva', 100), ('carnival', 90), ('insignia', 77)]\n",
      "s60 ~ [('s60', 100), ('601', 67), ('v60', 67)]\n",
      "nubira ~ [('nubira', 100), ('rav', 72), ('bora', 68)]\n",
      "vivaro ~ [('vivaro', 100), ('viano', 73), ('rio', 72)]\n",
      "g_klasse ~ [('g_klasse', 100), ('a_klasse', 88), ('e_klasse', 88)]\n",
      "lodgy ~ [('lodgy', 100), ('logan', 60), ('legacy', 55)]\n",
      "850 ~ [('850', 100), ('80', 80), ('500', 67)]\n",
      "range_rover ~ [('range_rover', 100), ('rangerover', 95), ('range_rover_sport', 90)]\n",
      "q3 ~ [('q3', 100), ('a3', 50), ('c3', 50)]\n",
      "serie_2 ~ [('serie_2', 100), ('serie_3', 86), ('serie_1', 86)]\n",
      "glk ~ [('glk', 100), ('gl', 90), ('slk', 67)]\n",
      "charade ~ [('charade', 100), ('sharan', 62), ('rav', 60)]\n",
      "croma ~ [('croma', 100), ('cordoba', 67), ('carisma', 67)]\n",
      "outlander ~ [('outlander', 100), ('lancer', 75), ('freelander', 63)]\n",
      "doblo ~ [('doblo', 100), ('polo', 67), ('combo', 60)]\n",
      "musa ~ [('musa', 100), ('mustang', 73), ('modus', 67)]\n",
      "move ~ [('move', 100), ('discovery', 68), ('range_rover', 68)]\n",
      "9000 ~ [('9000', 100), ('90', 90), ('900', 86)]\n",
      "v60 ~ [('v60', 100), ('v40', 67), ('v50', 67)]\n",
      "145 ~ [('145', 100), ('156', 67), ('147', 67)]\n",
      "aveo ~ [('aveo', 100), ('avensis', 68), ('phaeton', 68)]\n",
      "200 ~ [('200', 100), ('100', 67), ('500', 67)]\n",
      "b_max ~ [('b_max', 100), ('c_max', 80), ('s_max', 80)]\n",
      "range_rover_sport ~ [('range_rover_sport', 100), ('range_rover', 90), ('rangerover', 81)]\n",
      "terios ~ [('terios', 100), ('rio', 90), ('eos', 67)]\n",
      "rangerover ~ [('rangerover', 100), ('range_rover', 95), ('range_rover_sport', 81)]\n",
      "q5 ~ [('q5', 100), ('a5', 50), ('c5', 50)]\n",
      "range_rover_evoque ~ [('range_rover_evoque', 100), ('range_rover', 90), ('rangerover', 81)]\n",
      "materia ~ [('materia', 100), ('meriva', 77), ('astra', 67)]\n",
      "delta ~ [('delta', 100), ('a8', 60), ('jetta', 60)]\n",
      "gl ~ [('gl', 100), ('wrangler', 90), ('glk', 90)]\n",
      "kalina ~ [('kalina', 100), ('ka', 90), ('calibra', 62)]\n",
      "amarok ~ [('amarok', 100), ('samara', 67), ('ka', 60)]\n",
      "elefantino ~ [('elefantino', 100), ('twingo', 72), ('rio', 60)]\n",
      "i3 ~ [('i3', 100), ('yeti', 60), ('qashqai', 60)]\n",
      "kappa ~ [('kappa', 100), ('ka', 90), ('kalina', 55)]\n",
      "serie_3 ~ [('serie_3', 100), ('serie_2', 86), ('serie_1', 86)]\n",
      "serie_1 ~ [('serie_1', 100), ('serie_2', 86), ('serie_3', 86)]\n"
     ]
    }
   ],
   "source": [
    "# Анализ нефвных совпадений \n",
    "# признака \"Model\"\n",
    "for i in data['Model'].fillna('no_value').unique():\n",
    "    print(i, '~', process.extract(i, data['Model'].fillna('no_value').unique(), limit=3)) \n"
   ]
  },
  {
   "cell_type": "code",
   "execution_count": 12,
   "metadata": {
    "scrolled": true
   },
   "outputs": [
    {
     "name": "stdout",
     "output_type": "stream",
     "text": [
      "volkswagen ~ [('volkswagen', 100), ('volvo', 54), ('opel', 45)]\n",
      "audi ~ [('audi', 100), ('hyundai', 60), ('subaru', 51)]\n",
      "jeep ~ [('jeep', 100), ('peugeot', 36), ('chevrolet', 31)]\n",
      "skoda ~ [('skoda', 100), ('honda', 60), ('kia', 50)]\n",
      "bmw ~ [('bmw', 100), ('volkswagen', 30), ('mazda', 30)]\n",
      "peugeot ~ [('peugeot', 100), ('opel', 45), ('seat', 45)]\n",
      "ford ~ [('ford', 100), ('mercedes_benz', 45), ('alfa_romeo', 45)]\n",
      "mazda ~ [('mazda', 100), ('lada', 67), ('audi', 44)]\n",
      "nissan ~ [('nissan', 100), ('saab', 51), ('seat', 45)]\n",
      "renault ~ [('renault', 100), ('seat', 55), ('sonstige_autos', 51)]\n",
      "mercedes_benz ~ [('mercedes_benz', 100), ('ford', 45), ('seat', 45)]\n",
      "opel ~ [('opel', 100), ('citroen', 51), ('volkswagen', 45)]\n",
      "seat ~ [('seat', 100), ('smart', 67), ('renault', 55)]\n",
      "citroen ~ [('citroen', 100), ('opel', 51), ('chevrolet', 50)]\n",
      "honda ~ [('honda', 100), ('hyundai', 67), ('skoda', 60)]\n",
      "fiat ~ [('fiat', 100), ('daihatsu', 68), ('kia', 57)]\n",
      "mini ~ [('mini', 100), ('nissan', 45), ('mitsubishi', 45)]\n",
      "smart ~ [('smart', 100), ('seat', 67), ('subaru', 55)]\n",
      "hyundai ~ [('hyundai', 100), ('honda', 67), ('audi', 60)]\n",
      "sonstige_autos ~ [('sonstige_autos', 100), ('renault', 51), ('audi', 45)]\n",
      "alfa_romeo ~ [('alfa_romeo', 100), ('rover', 54), ('land_rover', 50)]\n",
      "subaru ~ [('subaru', 100), ('smart', 55), ('audi', 51)]\n",
      "volvo ~ [('volvo', 100), ('volkswagen', 54), ('chevrolet', 54)]\n",
      "mitsubishi ~ [('mitsubishi', 100), ('audi', 45), ('fiat', 45)]\n",
      "kia ~ [('kia', 100), ('suzuki', 72), ('lancia', 60)]\n",
      "suzuki ~ [('suzuki', 100), ('kia', 72), ('subaru', 50)]\n",
      "lancia ~ [('lancia', 100), ('dacia', 73), ('kia', 60)]\n",
      "toyota ~ [('toyota', 100), ('sonstige_autos', 40), ('audi', 36)]\n",
      "chevrolet ~ [('chevrolet', 100), ('chrysler', 59), ('volvo', 54)]\n",
      "dacia ~ [('dacia', 100), ('lancia', 73), ('daihatsu', 72)]\n",
      "daihatsu ~ [('daihatsu', 100), ('dacia', 72), ('fiat', 68)]\n",
      "trabant ~ [('trabant', 100), ('seat', 45), ('fiat', 45)]\n",
      "saab ~ [('saab', 100), ('nissan', 51), ('seat', 50)]\n",
      "chrysler ~ [('chrysler', 100), ('chevrolet', 59), ('rover', 46)]\n",
      "jaguar ~ [('jaguar', 100), ('subaru', 50), ('audi', 45)]\n",
      "daewoo ~ [('daewoo', 100), ('lada', 45), ('alfa_romeo', 38)]\n",
      "porsche ~ [('porsche', 100), ('ford', 45), ('seat', 45)]\n",
      "rover ~ [('rover', 100), ('land_rover', 90), ('alfa_romeo', 54)]\n",
      "land_rover ~ [('land_rover', 100), ('rover', 90), ('lada', 68)]\n",
      "lada ~ [('lada', 100), ('land_rover', 68), ('mazda', 67)]\n"
     ]
    }
   ],
   "source": [
    "# Анализ нефвных совпадений \n",
    "# признака \"Brand\"\n",
    "for i in data['Brand'].unique():\n",
    "    print(i, '~', process.extract(i, data['Brand'].unique(), limit=3)) \n"
   ]
  },
  {
   "cell_type": "code",
   "execution_count": 13,
   "metadata": {},
   "outputs": [
    {
     "data": {
      "text/html": [
       "<div>\n",
       "<style scoped>\n",
       "    .dataframe tbody tr th:only-of-type {\n",
       "        vertical-align: middle;\n",
       "    }\n",
       "\n",
       "    .dataframe tbody tr th {\n",
       "        vertical-align: top;\n",
       "    }\n",
       "\n",
       "    .dataframe thead th {\n",
       "        text-align: right;\n",
       "    }\n",
       "</style>\n",
       "<table border=\"1\" class=\"dataframe\">\n",
       "  <thead>\n",
       "    <tr style=\"text-align: right;\">\n",
       "      <th></th>\n",
       "      <th>Price</th>\n",
       "      <th>RegistrationYear</th>\n",
       "      <th>Power</th>\n",
       "      <th>Kilometer</th>\n",
       "      <th>RegistrationMonth</th>\n",
       "      <th>NumberOfPictures</th>\n",
       "      <th>PostalCode</th>\n",
       "    </tr>\n",
       "  </thead>\n",
       "  <tbody>\n",
       "    <tr>\n",
       "      <th>Price</th>\n",
       "      <td>1.000000</td>\n",
       "      <td>0.026916</td>\n",
       "      <td>0.158872</td>\n",
       "      <td>-0.333199</td>\n",
       "      <td>0.110581</td>\n",
       "      <td>NaN</td>\n",
       "      <td>0.076055</td>\n",
       "    </tr>\n",
       "    <tr>\n",
       "      <th>RegistrationYear</th>\n",
       "      <td>0.026916</td>\n",
       "      <td>1.000000</td>\n",
       "      <td>-0.000828</td>\n",
       "      <td>-0.053447</td>\n",
       "      <td>-0.011619</td>\n",
       "      <td>NaN</td>\n",
       "      <td>-0.003459</td>\n",
       "    </tr>\n",
       "    <tr>\n",
       "      <th>Power</th>\n",
       "      <td>0.158872</td>\n",
       "      <td>-0.000828</td>\n",
       "      <td>1.000000</td>\n",
       "      <td>0.024002</td>\n",
       "      <td>0.043380</td>\n",
       "      <td>NaN</td>\n",
       "      <td>0.021665</td>\n",
       "    </tr>\n",
       "    <tr>\n",
       "      <th>Kilometer</th>\n",
       "      <td>-0.333199</td>\n",
       "      <td>-0.053447</td>\n",
       "      <td>0.024002</td>\n",
       "      <td>1.000000</td>\n",
       "      <td>0.009571</td>\n",
       "      <td>NaN</td>\n",
       "      <td>-0.007698</td>\n",
       "    </tr>\n",
       "    <tr>\n",
       "      <th>RegistrationMonth</th>\n",
       "      <td>0.110581</td>\n",
       "      <td>-0.011619</td>\n",
       "      <td>0.043380</td>\n",
       "      <td>0.009571</td>\n",
       "      <td>1.000000</td>\n",
       "      <td>NaN</td>\n",
       "      <td>0.013995</td>\n",
       "    </tr>\n",
       "    <tr>\n",
       "      <th>NumberOfPictures</th>\n",
       "      <td>NaN</td>\n",
       "      <td>NaN</td>\n",
       "      <td>NaN</td>\n",
       "      <td>NaN</td>\n",
       "      <td>NaN</td>\n",
       "      <td>NaN</td>\n",
       "      <td>NaN</td>\n",
       "    </tr>\n",
       "    <tr>\n",
       "      <th>PostalCode</th>\n",
       "      <td>0.076055</td>\n",
       "      <td>-0.003459</td>\n",
       "      <td>0.021665</td>\n",
       "      <td>-0.007698</td>\n",
       "      <td>0.013995</td>\n",
       "      <td>NaN</td>\n",
       "      <td>1.000000</td>\n",
       "    </tr>\n",
       "  </tbody>\n",
       "</table>\n",
       "</div>"
      ],
      "text/plain": [
       "                      Price  RegistrationYear     Power  Kilometer  \\\n",
       "Price              1.000000          0.026916  0.158872  -0.333199   \n",
       "RegistrationYear   0.026916          1.000000 -0.000828  -0.053447   \n",
       "Power              0.158872         -0.000828  1.000000   0.024002   \n",
       "Kilometer         -0.333199         -0.053447  0.024002   1.000000   \n",
       "RegistrationMonth  0.110581         -0.011619  0.043380   0.009571   \n",
       "NumberOfPictures        NaN               NaN       NaN        NaN   \n",
       "PostalCode         0.076055         -0.003459  0.021665  -0.007698   \n",
       "\n",
       "                   RegistrationMonth  NumberOfPictures  PostalCode  \n",
       "Price                       0.110581               NaN    0.076055  \n",
       "RegistrationYear           -0.011619               NaN   -0.003459  \n",
       "Power                       0.043380               NaN    0.021665  \n",
       "Kilometer                   0.009571               NaN   -0.007698  \n",
       "RegistrationMonth           1.000000               NaN    0.013995  \n",
       "NumberOfPictures                 NaN               NaN         NaN  \n",
       "PostalCode                  0.013995               NaN    1.000000  "
      ]
     },
     "execution_count": 13,
     "metadata": {},
     "output_type": "execute_result"
    }
   ],
   "source": [
    "# Проверка коррелируемости\n",
    "# признаков датафрейма\n",
    "data.corr() \n"
   ]
  },
  {
   "cell_type": "markdown",
   "metadata": {},
   "source": [
    "**Выводы из анализа данных**\n",
    "\n",
    "1. Датафрейм содержит 354369 объектов и 16 признаков, 7 из которых являются 64-битными целочисленными, а 9 типа `object`. Целевым является целочисленный признак `Price`. \n",
    "1. В данных есть пропуски. Их количество в разных признаках более 1% от всего количества. Поэтому, их нельзя удалить, а требуется заменить на значение `no_value`. \n",
    "1. Категориальные признаки `VehicleType`, `FuelType` и `Model` имеют значения `other`, которые можно изменить на `no_value` также, как и пропуски.\n",
    "1. По мнению автора данной работы, следующие признаки могут быть неинформативными для моделей машинного обучения:\n",
    " 1. `DateCrawled` — дата скачивания анкеты из базы (может влиять на цену относительно даты размещения объявления, но незначительно)\n",
    " 1. `RegistrationMonth` — месяц регистрации автомобиля (большее значение имеет год регистрации)\n",
    " 1. `DateCreated` — дата создания анкеты (в целях предсказания цен автомобилей в будущих анкетах эта информация не акутальна)\n",
    " 1. `NumberOfPictures` — количество фотографий автомобиля (может влиять на цену, т.к. фотографии продоваемого объекта вызывают доверие, но признак содержит только нули)\n",
    " 1. `PostalCode` — почтовый индекс владельца анкеты (может влиять, если местоположение продавца и покупателя имеет значение, но это не точно)\n",
    " 1. `LastSeen` — дата последней активности пользователя (может указывать на продолжительность наличия объявления в сети, но этот признак в меньшей степени может влиять на цену, чем другие признаки, описывающие характеристики продаваемого авто)\n",
    "1. Числовые данные не распределены нормально и имеют выбросы. \n",
    "1. Числовые признаки имеют разный диапазон. Для использования в машинном обучении их требуется стандартизировать. \n",
    "1. Корреляция аттрибутов между собой и с целевым признаком слабая. Наибольшей обратной корреляцией с целевым признаком обладают признаки `RegistrationYear`.\n",
    "1. Анализ текстовых категриальных признаков `Model` и `Brand` выявил неявное совпадение значений `range_rover` и `rangerover` в признаке `Model`. Эти значения следует объеденить в `range_rover`.\n",
    "1. Названия признаков не в \"змеином\" стиле. Можно привести их в соответствие со \"змеиный\" стилем.  "
   ]
  },
  {
   "cell_type": "markdown",
   "metadata": {},
   "source": [
    "Данные с пропусками:\n",
    "1. `VehicleType` — тип автомобильного кузова\n",
    "1. `Gearbox` — тип коробки передач\n",
    "1. `Model` — модель автомобиля\n",
    "1. `FuelType` — тип топлива\n",
    "1. `Repaired` — была машина в ремонте или нет\n",
    "\n",
    "Все признаки с пропусками категориального типа `object`. Для них будет использована категория `no_value`, указывающая на отсутствие значений."
   ]
  },
  {
   "cell_type": "markdown",
   "metadata": {},
   "source": [
    "Ненормальности в данных:\n",
    "1. Атрибут `RegistrationYear` содержит 171 значение с годами производства автомобилей меньше 1900 года и больше 2023 года. Объектами с этими значениями можно принебречь, т.к. их мне 1% от всего количества объектов. Их требуется удалить. \n",
    "1. Атрибут `Power` содержит более 11% значений с мощностью двигателя выходящую за пределы известных значейни. Например, меньше, чем у самого маломощного автомобиля \"Benz Patent Motorwagen\", у которого мощность двигателя равна 0.75 л.с.  (*https://1gai-ru.turbopages.org/turbo/1gai.ru/s/blog/cars/513900-desyat-samyh-malomoschnyh-avtomobiley.html*, 2023). Также атрибут `Power`содержит значения мощности двигателя более 5000 л.с.. Это превышает мощность самого мощного автомобиля Devel Sixteen (*https://www.driver-helper.ru/text/sovetiy/top-10-samyx-moshhnyx-serijnyx-avto-v-mire*). Учитывая большую долю подобных объектов и тот факт, что подобные объекты могут появиться в эксплуатационном данных, вместо того, чтобы от них избавляться, в них следует заменить ненормальные значения `Power` на медианные для каждой группы связки `Brand` `Model`."
   ]
  },
  {
   "cell_type": "markdown",
   "metadata": {},
   "source": [
    "### Предобработка данных"
   ]
  },
  {
   "cell_type": "code",
   "execution_count": 14,
   "metadata": {},
   "outputs": [],
   "source": [
    "# Замена пропусков \n",
    "# на значение \"no_value\" \n",
    "for i in data.columns:\n",
    "    if data_shape - data[i].loc[data[i].notna()].shape[0] > 0:\n",
    "        data.loc[data[i].isna(), i] = 'no_value'\n"
   ]
  },
  {
   "cell_type": "code",
   "execution_count": 15,
   "metadata": {},
   "outputs": [],
   "source": [
    "# Замена значения \"other\" на \"no_value\" \n",
    "# для унификации отсутствующей информации \n",
    "# в признаках \"VehicleType\" и \"FuellType\"\n",
    "data.loc[\n",
    "    (data['VehicleType'] == 'other') | \n",
    "    (data['FuelType'] == 'other') |\n",
    "    (data['Model'] == 'other'), \n",
    "    ['VehicleType', 'FuelType', 'Model'] \n",
    "] = 'no_value' \n"
   ]
  },
  {
   "cell_type": "code",
   "execution_count": 16,
   "metadata": {},
   "outputs": [
    {
     "data": {
      "text/plain": [
       "Timestamp('2016-04-07 14:36:58')"
      ]
     },
     "execution_count": 16,
     "metadata": {},
     "output_type": "execute_result"
    }
   ],
   "source": [
    "# Определение максимальной даты просмотра объявления \n",
    "# для установки в качестве предельного срока \n",
    "# выпуска автомобиля\n",
    "data['DateCrawled'] = pd.to_datetime(\n",
    "    data['DateCrawled'], format='%Y-%m-%dT%H:%M:%S'\n",
    ")\n",
    "date_crawled_max = data['DateCrawled'].max()\n",
    "date_crawled_max\n"
   ]
  },
  {
   "cell_type": "code",
   "execution_count": 17,
   "metadata": {},
   "outputs": [],
   "source": [
    "# Удаление неинформативных признаков\n",
    "data = data.drop([\n",
    "    'DateCrawled', \n",
    "    'RegistrationMonth', \n",
    "    'DateCreated', \n",
    "    'NumberOfPictures', \n",
    "    'PostalCode', \n",
    "    'LastSeen'\n",
    "], axis=1)\n"
   ]
  },
  {
   "cell_type": "code",
   "execution_count": 18,
   "metadata": {},
   "outputs": [],
   "source": [
    "# Удаление ненормальностей в данных\n",
    "# признака \"RegistrationYear\"\n",
    "data = data.loc[\n",
    "    (data['RegistrationYear'] > 1900) & \n",
    "    (data['RegistrationYear'] < date_crawled_max.year)\n",
    "]\n"
   ]
  },
  {
   "cell_type": "code",
   "execution_count": 19,
   "metadata": {
    "scrolled": true
   },
   "outputs": [
    {
     "data": {
      "text/plain": [
       "0           0.0\n",
       "1         190.0\n",
       "2         163.0\n",
       "3          75.0\n",
       "4          69.0\n",
       "          ...  \n",
       "354364      0.0\n",
       "354365      0.0\n",
       "354366    101.0\n",
       "354367    102.0\n",
       "354368    100.0\n",
       "Name: Power, Length: 330174, dtype: float64"
      ]
     },
     "execution_count": 19,
     "metadata": {},
     "output_type": "execute_result"
    }
   ],
   "source": [
    "# Замена ненормальностей в данных \n",
    "# признака \"Power\" в более 10% объектов\n",
    "\n",
    "#power_group_median = data.groupby(['Brand', 'Model'])['Power'].median()\n",
    "power_group_median = data.pivot_table(values='Power', index=['Brand', 'Model'], aggfunc='median')\n",
    "\n",
    "for i in power_group_median.index:\n",
    "    data['Power'] = np.where(\n",
    "        ((data['Power'] < .75) | (data['Power'] > 5000)) & \n",
    "        ((data['Power'] == i[0]) & (data['Model'] == i[1])), \n",
    "        power_group_median.loc[i], \n",
    "        data['Power']\n",
    "    )\n",
    "\n",
    "data['Power']\n"
   ]
  },
  {
   "cell_type": "code",
   "execution_count": 20,
   "metadata": {},
   "outputs": [],
   "source": [
    "# Объединение неявно совпадающих значений признака \"Model\" \n",
    "# \"range_rover\" и \"rangerover\" в \"range_rover\"\n",
    "data.loc[data['Model'] == 'rangerover', 'Model'] = 'range_rover'\n"
   ]
  },
  {
   "cell_type": "code",
   "execution_count": 21,
   "metadata": {},
   "outputs": [],
   "source": [
    "# Приведение названий признаков датафрейма\n",
    "# к \"змеиному\" стилю\n",
    "data.columns = [re.sub(r'(?<!^)(?=[A-Z])', '_', i).lower() for i in data.columns] \n"
   ]
  },
  {
   "cell_type": "markdown",
   "metadata": {},
   "source": [
    "### Проверка результатов предобработкаи данных"
   ]
  },
  {
   "cell_type": "code",
   "execution_count": 22,
   "metadata": {
    "scrolled": false
   },
   "outputs": [
    {
     "name": "stdout",
     "output_type": "stream",
     "text": [
      "<class 'pandas.core.frame.DataFrame'>\n",
      "Int64Index: 330174 entries, 0 to 354368\n",
      "Data columns (total 10 columns):\n",
      " #   Column             Non-Null Count   Dtype  \n",
      "---  ------             --------------   -----  \n",
      " 0   price              330174 non-null  int64  \n",
      " 1   vehicle_type       330174 non-null  object \n",
      " 2   registration_year  330174 non-null  int64  \n",
      " 3   gearbox            330174 non-null  object \n",
      " 4   power              330174 non-null  float64\n",
      " 5   model              330174 non-null  object \n",
      " 6   kilometer          330174 non-null  int64  \n",
      " 7   fuel_type          330174 non-null  object \n",
      " 8   brand              330174 non-null  object \n",
      " 9   repaired           330174 non-null  object \n",
      "dtypes: float64(1), int64(3), object(6)\n",
      "memory usage: 27.7+ MB\n"
     ]
    },
    {
     "data": {
      "text/html": [
       "<div>\n",
       "<style scoped>\n",
       "    .dataframe tbody tr th:only-of-type {\n",
       "        vertical-align: middle;\n",
       "    }\n",
       "\n",
       "    .dataframe tbody tr th {\n",
       "        vertical-align: top;\n",
       "    }\n",
       "\n",
       "    .dataframe thead th {\n",
       "        text-align: right;\n",
       "    }\n",
       "</style>\n",
       "<table border=\"1\" class=\"dataframe\">\n",
       "  <thead>\n",
       "    <tr style=\"text-align: right;\">\n",
       "      <th></th>\n",
       "      <th>price</th>\n",
       "      <th>vehicle_type</th>\n",
       "      <th>registration_year</th>\n",
       "      <th>gearbox</th>\n",
       "      <th>power</th>\n",
       "      <th>model</th>\n",
       "      <th>kilometer</th>\n",
       "      <th>fuel_type</th>\n",
       "      <th>brand</th>\n",
       "      <th>repaired</th>\n",
       "    </tr>\n",
       "  </thead>\n",
       "  <tbody>\n",
       "    <tr>\n",
       "      <th>0</th>\n",
       "      <td>480</td>\n",
       "      <td>no_value</td>\n",
       "      <td>1993</td>\n",
       "      <td>manual</td>\n",
       "      <td>0.0</td>\n",
       "      <td>golf</td>\n",
       "      <td>150000</td>\n",
       "      <td>petrol</td>\n",
       "      <td>volkswagen</td>\n",
       "      <td>no_value</td>\n",
       "    </tr>\n",
       "    <tr>\n",
       "      <th>1</th>\n",
       "      <td>18300</td>\n",
       "      <td>coupe</td>\n",
       "      <td>2011</td>\n",
       "      <td>manual</td>\n",
       "      <td>190.0</td>\n",
       "      <td>no_value</td>\n",
       "      <td>125000</td>\n",
       "      <td>gasoline</td>\n",
       "      <td>audi</td>\n",
       "      <td>yes</td>\n",
       "    </tr>\n",
       "    <tr>\n",
       "      <th>2</th>\n",
       "      <td>9800</td>\n",
       "      <td>suv</td>\n",
       "      <td>2004</td>\n",
       "      <td>auto</td>\n",
       "      <td>163.0</td>\n",
       "      <td>grand</td>\n",
       "      <td>125000</td>\n",
       "      <td>gasoline</td>\n",
       "      <td>jeep</td>\n",
       "      <td>no_value</td>\n",
       "    </tr>\n",
       "    <tr>\n",
       "      <th>3</th>\n",
       "      <td>1500</td>\n",
       "      <td>small</td>\n",
       "      <td>2001</td>\n",
       "      <td>manual</td>\n",
       "      <td>75.0</td>\n",
       "      <td>golf</td>\n",
       "      <td>150000</td>\n",
       "      <td>petrol</td>\n",
       "      <td>volkswagen</td>\n",
       "      <td>no</td>\n",
       "    </tr>\n",
       "    <tr>\n",
       "      <th>4</th>\n",
       "      <td>3600</td>\n",
       "      <td>small</td>\n",
       "      <td>2008</td>\n",
       "      <td>manual</td>\n",
       "      <td>69.0</td>\n",
       "      <td>fabia</td>\n",
       "      <td>90000</td>\n",
       "      <td>gasoline</td>\n",
       "      <td>skoda</td>\n",
       "      <td>no</td>\n",
       "    </tr>\n",
       "    <tr>\n",
       "      <th>5</th>\n",
       "      <td>650</td>\n",
       "      <td>sedan</td>\n",
       "      <td>1995</td>\n",
       "      <td>manual</td>\n",
       "      <td>102.0</td>\n",
       "      <td>3er</td>\n",
       "      <td>150000</td>\n",
       "      <td>petrol</td>\n",
       "      <td>bmw</td>\n",
       "      <td>yes</td>\n",
       "    </tr>\n",
       "    <tr>\n",
       "      <th>6</th>\n",
       "      <td>2200</td>\n",
       "      <td>convertible</td>\n",
       "      <td>2004</td>\n",
       "      <td>manual</td>\n",
       "      <td>109.0</td>\n",
       "      <td>2_reihe</td>\n",
       "      <td>150000</td>\n",
       "      <td>petrol</td>\n",
       "      <td>peugeot</td>\n",
       "      <td>no</td>\n",
       "    </tr>\n",
       "    <tr>\n",
       "      <th>7</th>\n",
       "      <td>0</td>\n",
       "      <td>no_value</td>\n",
       "      <td>1980</td>\n",
       "      <td>manual</td>\n",
       "      <td>50.0</td>\n",
       "      <td>no_value</td>\n",
       "      <td>40000</td>\n",
       "      <td>no_value</td>\n",
       "      <td>volkswagen</td>\n",
       "      <td>no</td>\n",
       "    </tr>\n",
       "    <tr>\n",
       "      <th>8</th>\n",
       "      <td>14500</td>\n",
       "      <td>bus</td>\n",
       "      <td>2014</td>\n",
       "      <td>manual</td>\n",
       "      <td>125.0</td>\n",
       "      <td>c_max</td>\n",
       "      <td>30000</td>\n",
       "      <td>petrol</td>\n",
       "      <td>ford</td>\n",
       "      <td>no_value</td>\n",
       "    </tr>\n",
       "    <tr>\n",
       "      <th>9</th>\n",
       "      <td>999</td>\n",
       "      <td>small</td>\n",
       "      <td>1998</td>\n",
       "      <td>manual</td>\n",
       "      <td>101.0</td>\n",
       "      <td>golf</td>\n",
       "      <td>150000</td>\n",
       "      <td>no_value</td>\n",
       "      <td>volkswagen</td>\n",
       "      <td>no_value</td>\n",
       "    </tr>\n",
       "  </tbody>\n",
       "</table>\n",
       "</div>"
      ],
      "text/plain": [
       "   price vehicle_type  registration_year gearbox  power     model  kilometer  \\\n",
       "0    480     no_value               1993  manual    0.0      golf     150000   \n",
       "1  18300        coupe               2011  manual  190.0  no_value     125000   \n",
       "2   9800          suv               2004    auto  163.0     grand     125000   \n",
       "3   1500        small               2001  manual   75.0      golf     150000   \n",
       "4   3600        small               2008  manual   69.0     fabia      90000   \n",
       "5    650        sedan               1995  manual  102.0       3er     150000   \n",
       "6   2200  convertible               2004  manual  109.0   2_reihe     150000   \n",
       "7      0     no_value               1980  manual   50.0  no_value      40000   \n",
       "8  14500          bus               2014  manual  125.0     c_max      30000   \n",
       "9    999        small               1998  manual  101.0      golf     150000   \n",
       "\n",
       "  fuel_type       brand  repaired  \n",
       "0    petrol  volkswagen  no_value  \n",
       "1  gasoline        audi       yes  \n",
       "2  gasoline        jeep  no_value  \n",
       "3    petrol  volkswagen        no  \n",
       "4  gasoline       skoda        no  \n",
       "5    petrol         bmw       yes  \n",
       "6    petrol     peugeot        no  \n",
       "7  no_value  volkswagen        no  \n",
       "8    petrol        ford  no_value  \n",
       "9  no_value  volkswagen  no_value  "
      ]
     },
     "execution_count": 22,
     "metadata": {},
     "output_type": "execute_result"
    }
   ],
   "source": [
    "# Проверка изменений\n",
    "data.info() \n",
    "data.head(10)\n"
   ]
  },
  {
   "cell_type": "code",
   "execution_count": 23,
   "metadata": {
    "scrolled": false
   },
   "outputs": [
    {
     "data": {
      "text/html": [
       "<div>\n",
       "<style scoped>\n",
       "    .dataframe tbody tr th:only-of-type {\n",
       "        vertical-align: middle;\n",
       "    }\n",
       "\n",
       "    .dataframe tbody tr th {\n",
       "        vertical-align: top;\n",
       "    }\n",
       "\n",
       "    .dataframe thead th {\n",
       "        text-align: right;\n",
       "    }\n",
       "</style>\n",
       "<table border=\"1\" class=\"dataframe\">\n",
       "  <thead>\n",
       "    <tr style=\"text-align: right;\">\n",
       "      <th></th>\n",
       "      <th>price</th>\n",
       "      <th>registration_year</th>\n",
       "      <th>power</th>\n",
       "      <th>kilometer</th>\n",
       "    </tr>\n",
       "  </thead>\n",
       "  <tbody>\n",
       "    <tr>\n",
       "      <th>count</th>\n",
       "      <td>330174.000000</td>\n",
       "      <td>330174.000000</td>\n",
       "      <td>330174.000000</td>\n",
       "      <td>330174.000000</td>\n",
       "    </tr>\n",
       "    <tr>\n",
       "      <th>mean</th>\n",
       "      <td>4540.116554</td>\n",
       "      <td>2002.089226</td>\n",
       "      <td>111.900141</td>\n",
       "      <td>127920.581269</td>\n",
       "    </tr>\n",
       "    <tr>\n",
       "      <th>std</th>\n",
       "      <td>4564.387345</td>\n",
       "      <td>6.802931</td>\n",
       "      <td>182.410180</td>\n",
       "      <td>37913.642129</td>\n",
       "    </tr>\n",
       "    <tr>\n",
       "      <th>min</th>\n",
       "      <td>0.000000</td>\n",
       "      <td>1910.000000</td>\n",
       "      <td>0.000000</td>\n",
       "      <td>5000.000000</td>\n",
       "    </tr>\n",
       "    <tr>\n",
       "      <th>25%</th>\n",
       "      <td>1149.000000</td>\n",
       "      <td>1999.000000</td>\n",
       "      <td>70.000000</td>\n",
       "      <td>125000.000000</td>\n",
       "    </tr>\n",
       "    <tr>\n",
       "      <th>50%</th>\n",
       "      <td>2850.000000</td>\n",
       "      <td>2002.000000</td>\n",
       "      <td>105.000000</td>\n",
       "      <td>150000.000000</td>\n",
       "    </tr>\n",
       "    <tr>\n",
       "      <th>75%</th>\n",
       "      <td>6500.000000</td>\n",
       "      <td>2007.000000</td>\n",
       "      <td>143.000000</td>\n",
       "      <td>150000.000000</td>\n",
       "    </tr>\n",
       "    <tr>\n",
       "      <th>max</th>\n",
       "      <td>20000.000000</td>\n",
       "      <td>2015.000000</td>\n",
       "      <td>20000.000000</td>\n",
       "      <td>150000.000000</td>\n",
       "    </tr>\n",
       "  </tbody>\n",
       "</table>\n",
       "</div>"
      ],
      "text/plain": [
       "               price  registration_year          power      kilometer\n",
       "count  330174.000000      330174.000000  330174.000000  330174.000000\n",
       "mean     4540.116554        2002.089226     111.900141  127920.581269\n",
       "std      4564.387345           6.802931     182.410180   37913.642129\n",
       "min         0.000000        1910.000000       0.000000    5000.000000\n",
       "25%      1149.000000        1999.000000      70.000000  125000.000000\n",
       "50%      2850.000000        2002.000000     105.000000  150000.000000\n",
       "75%      6500.000000        2007.000000     143.000000  150000.000000\n",
       "max     20000.000000        2015.000000   20000.000000  150000.000000"
      ]
     },
     "execution_count": 23,
     "metadata": {},
     "output_type": "execute_result"
    },
    {
     "data": {
      "image/svg+xml": [
       "<?xml version=\"1.0\" encoding=\"utf-8\" standalone=\"no\"?>\n",
       "<!DOCTYPE svg PUBLIC \"-//W3C//DTD SVG 1.1//EN\"\n",
       "  \"http://www.w3.org/Graphics/SVG/1.1/DTD/svg11.dtd\">\n",
       "<!-- Created with matplotlib (https://matplotlib.org/) -->\n",
       "<svg height=\"372.35625pt\" version=\"1.1\" viewBox=\"0 0 629.796753 372.35625\" width=\"629.796753pt\" xmlns=\"http://www.w3.org/2000/svg\" xmlns:xlink=\"http://www.w3.org/1999/xlink\">\n",
       " <metadata>\n",
       "  <rdf:RDF xmlns:cc=\"http://creativecommons.org/ns#\" xmlns:dc=\"http://purl.org/dc/elements/1.1/\" xmlns:rdf=\"http://www.w3.org/1999/02/22-rdf-syntax-ns#\">\n",
       "   <cc:Work>\n",
       "    <dc:type rdf:resource=\"http://purl.org/dc/dcmitype/StillImage\"/>\n",
       "    <dc:date>2023-08-24T22:28:42.803552</dc:date>\n",
       "    <dc:format>image/svg+xml</dc:format>\n",
       "    <dc:creator>\n",
       "     <cc:Agent>\n",
       "      <dc:title>Matplotlib v3.3.4, https://matplotlib.org/</dc:title>\n",
       "     </cc:Agent>\n",
       "    </dc:creator>\n",
       "   </cc:Work>\n",
       "  </rdf:RDF>\n",
       " </metadata>\n",
       " <defs>\n",
       "  <style type=\"text/css\">*{stroke-linecap:butt;stroke-linejoin:round;}</style>\n",
       " </defs>\n",
       " <g id=\"figure_1\">\n",
       "  <g id=\"patch_1\">\n",
       "   <path d=\"M 0 372.35625 \n",
       "L 629.796753 372.35625 \n",
       "L 629.796753 0 \n",
       "L 0 0 \n",
       "z\n",
       "\" style=\"fill:none;\"/>\n",
       "  </g>\n",
       "  <g id=\"axes_1\">\n",
       "   <g id=\"patch_2\">\n",
       "    <path d=\"M 52.375 152.782125 \n",
       "L 284.875 152.782125 \n",
       "L 284.875 22.318125 \n",
       "L 52.375 22.318125 \n",
       "z\n",
       "\" style=\"fill:#ffffff;\"/>\n",
       "   </g>\n",
       "   <g id=\"patch_3\">\n",
       "    <path clip-path=\"url(#p2279adec04)\" d=\"M 62.943182 152.782125 \n",
       "L 84.079545 152.782125 \n",
       "L 84.079545 28.530696 \n",
       "L 62.943182 28.530696 \n",
       "z\n",
       "\" style=\"fill:#1f77b4;\"/>\n",
       "   </g>\n",
       "   <g id=\"patch_4\">\n",
       "    <path clip-path=\"url(#p2279adec04)\" d=\"M 84.079545 152.782125 \n",
       "L 105.215909 152.782125 \n",
       "L 105.215909 89.010576 \n",
       "L 84.079545 89.010576 \n",
       "z\n",
       "\" style=\"fill:#1f77b4;\"/>\n",
       "   </g>\n",
       "   <g id=\"patch_5\">\n",
       "    <path clip-path=\"url(#p2279adec04)\" d=\"M 105.215909 152.782125 \n",
       "L 126.352273 152.782125 \n",
       "L 126.352273 116.544738 \n",
       "L 105.215909 116.544738 \n",
       "z\n",
       "\" style=\"fill:#1f77b4;\"/>\n",
       "   </g>\n",
       "   <g id=\"patch_6\">\n",
       "    <path clip-path=\"url(#p2279adec04)\" d=\"M 126.352273 152.782125 \n",
       "L 147.488636 152.782125 \n",
       "L 147.488636 127.032784 \n",
       "L 126.352273 127.032784 \n",
       "z\n",
       "\" style=\"fill:#1f77b4;\"/>\n",
       "   </g>\n",
       "   <g id=\"patch_7\">\n",
       "    <path clip-path=\"url(#p2279adec04)\" d=\"M 147.488636 152.782125 \n",
       "L 168.625 152.782125 \n",
       "L 168.625 133.997048 \n",
       "L 147.488636 133.997048 \n",
       "z\n",
       "\" style=\"fill:#1f77b4;\"/>\n",
       "   </g>\n",
       "   <g id=\"patch_8\">\n",
       "    <path clip-path=\"url(#p2279adec04)\" d=\"M 168.625 152.782125 \n",
       "L 189.761364 152.782125 \n",
       "L 189.761364 141.075497 \n",
       "L 168.625 141.075497 \n",
       "z\n",
       "\" style=\"fill:#1f77b4;\"/>\n",
       "   </g>\n",
       "   <g id=\"patch_9\">\n",
       "    <path clip-path=\"url(#p2279adec04)\" d=\"M 189.761364 152.782125 \n",
       "L 210.897727 152.782125 \n",
       "L 210.897727 142.708697 \n",
       "L 189.761364 142.708697 \n",
       "z\n",
       "\" style=\"fill:#1f77b4;\"/>\n",
       "   </g>\n",
       "   <g id=\"patch_10\">\n",
       "    <path clip-path=\"url(#p2279adec04)\" d=\"M 210.897727 152.782125 \n",
       "L 232.034091 152.782125 \n",
       "L 232.034091 144.881929 \n",
       "L 210.897727 144.881929 \n",
       "z\n",
       "\" style=\"fill:#1f77b4;\"/>\n",
       "   </g>\n",
       "   <g id=\"patch_11\">\n",
       "    <path clip-path=\"url(#p2279adec04)\" d=\"M 232.034091 152.782125 \n",
       "L 253.170455 152.782125 \n",
       "L 253.170455 146.929747 \n",
       "L 232.034091 146.929747 \n",
       "z\n",
       "\" style=\"fill:#1f77b4;\"/>\n",
       "   </g>\n",
       "   <g id=\"patch_12\">\n",
       "    <path clip-path=\"url(#p2279adec04)\" d=\"M 253.170455 152.782125 \n",
       "L 274.306818 152.782125 \n",
       "L 274.306818 148.089366 \n",
       "L 253.170455 148.089366 \n",
       "z\n",
       "\" style=\"fill:#1f77b4;\"/>\n",
       "   </g>\n",
       "   <g id=\"matplotlib.axis_1\">\n",
       "    <g id=\"xtick_1\">\n",
       "     <g id=\"line2d_1\">\n",
       "      <path clip-path=\"url(#p2279adec04)\" d=\"M 62.943182 152.782125 \n",
       "L 62.943182 22.318125 \n",
       "\" style=\"fill:none;stroke:#b0b0b0;stroke-linecap:square;stroke-width:0.8;\"/>\n",
       "     </g>\n",
       "     <g id=\"line2d_2\">\n",
       "      <defs>\n",
       "       <path d=\"M 0 0 \n",
       "L 0 3.5 \n",
       "\" id=\"m16d817c6a7\" style=\"stroke:#000000;stroke-width:0.8;\"/>\n",
       "      </defs>\n",
       "      <g>\n",
       "       <use style=\"stroke:#000000;stroke-width:0.8;\" x=\"62.943182\" xlink:href=\"#m16d817c6a7\" y=\"152.782125\"/>\n",
       "      </g>\n",
       "     </g>\n",
       "     <g id=\"text_1\">\n",
       "      <!-- 0 -->\n",
       "      <g transform=\"translate(59.761932 167.380562)scale(0.1 -0.1)\">\n",
       "       <defs>\n",
       "        <path d=\"M 31.78125 66.40625 \n",
       "Q 24.171875 66.40625 20.328125 58.90625 \n",
       "Q 16.5 51.421875 16.5 36.375 \n",
       "Q 16.5 21.390625 20.328125 13.890625 \n",
       "Q 24.171875 6.390625 31.78125 6.390625 \n",
       "Q 39.453125 6.390625 43.28125 13.890625 \n",
       "Q 47.125 21.390625 47.125 36.375 \n",
       "Q 47.125 51.421875 43.28125 58.90625 \n",
       "Q 39.453125 66.40625 31.78125 66.40625 \n",
       "z\n",
       "M 31.78125 74.21875 \n",
       "Q 44.046875 74.21875 50.515625 64.515625 \n",
       "Q 56.984375 54.828125 56.984375 36.375 \n",
       "Q 56.984375 17.96875 50.515625 8.265625 \n",
       "Q 44.046875 -1.421875 31.78125 -1.421875 \n",
       "Q 19.53125 -1.421875 13.0625 8.265625 \n",
       "Q 6.59375 17.96875 6.59375 36.375 \n",
       "Q 6.59375 54.828125 13.0625 64.515625 \n",
       "Q 19.53125 74.21875 31.78125 74.21875 \n",
       "z\n",
       "\" id=\"DejaVuSans-48\"/>\n",
       "       </defs>\n",
       "       <use xlink:href=\"#DejaVuSans-48\"/>\n",
       "      </g>\n",
       "     </g>\n",
       "    </g>\n",
       "    <g id=\"xtick_2\">\n",
       "     <g id=\"line2d_3\">\n",
       "      <path clip-path=\"url(#p2279adec04)\" d=\"M 115.784091 152.782125 \n",
       "L 115.784091 22.318125 \n",
       "\" style=\"fill:none;stroke:#b0b0b0;stroke-linecap:square;stroke-width:0.8;\"/>\n",
       "     </g>\n",
       "     <g id=\"line2d_4\">\n",
       "      <g>\n",
       "       <use style=\"stroke:#000000;stroke-width:0.8;\" x=\"115.784091\" xlink:href=\"#m16d817c6a7\" y=\"152.782125\"/>\n",
       "      </g>\n",
       "     </g>\n",
       "     <g id=\"text_2\">\n",
       "      <!-- 5000 -->\n",
       "      <g transform=\"translate(103.059091 167.380562)scale(0.1 -0.1)\">\n",
       "       <defs>\n",
       "        <path d=\"M 10.796875 72.90625 \n",
       "L 49.515625 72.90625 \n",
       "L 49.515625 64.59375 \n",
       "L 19.828125 64.59375 \n",
       "L 19.828125 46.734375 \n",
       "Q 21.96875 47.46875 24.109375 47.828125 \n",
       "Q 26.265625 48.1875 28.421875 48.1875 \n",
       "Q 40.625 48.1875 47.75 41.5 \n",
       "Q 54.890625 34.8125 54.890625 23.390625 \n",
       "Q 54.890625 11.625 47.5625 5.09375 \n",
       "Q 40.234375 -1.421875 26.90625 -1.421875 \n",
       "Q 22.3125 -1.421875 17.546875 -0.640625 \n",
       "Q 12.796875 0.140625 7.71875 1.703125 \n",
       "L 7.71875 11.625 \n",
       "Q 12.109375 9.234375 16.796875 8.0625 \n",
       "Q 21.484375 6.890625 26.703125 6.890625 \n",
       "Q 35.15625 6.890625 40.078125 11.328125 \n",
       "Q 45.015625 15.765625 45.015625 23.390625 \n",
       "Q 45.015625 31 40.078125 35.4375 \n",
       "Q 35.15625 39.890625 26.703125 39.890625 \n",
       "Q 22.75 39.890625 18.8125 39.015625 \n",
       "Q 14.890625 38.140625 10.796875 36.28125 \n",
       "z\n",
       "\" id=\"DejaVuSans-53\"/>\n",
       "       </defs>\n",
       "       <use xlink:href=\"#DejaVuSans-53\"/>\n",
       "       <use x=\"63.623047\" xlink:href=\"#DejaVuSans-48\"/>\n",
       "       <use x=\"127.246094\" xlink:href=\"#DejaVuSans-48\"/>\n",
       "       <use x=\"190.869141\" xlink:href=\"#DejaVuSans-48\"/>\n",
       "      </g>\n",
       "     </g>\n",
       "    </g>\n",
       "    <g id=\"xtick_3\">\n",
       "     <g id=\"line2d_5\">\n",
       "      <path clip-path=\"url(#p2279adec04)\" d=\"M 168.625 152.782125 \n",
       "L 168.625 22.318125 \n",
       "\" style=\"fill:none;stroke:#b0b0b0;stroke-linecap:square;stroke-width:0.8;\"/>\n",
       "     </g>\n",
       "     <g id=\"line2d_6\">\n",
       "      <g>\n",
       "       <use style=\"stroke:#000000;stroke-width:0.8;\" x=\"168.625\" xlink:href=\"#m16d817c6a7\" y=\"152.782125\"/>\n",
       "      </g>\n",
       "     </g>\n",
       "     <g id=\"text_3\">\n",
       "      <!-- 10000 -->\n",
       "      <g transform=\"translate(152.71875 167.380562)scale(0.1 -0.1)\">\n",
       "       <defs>\n",
       "        <path d=\"M 12.40625 8.296875 \n",
       "L 28.515625 8.296875 \n",
       "L 28.515625 63.921875 \n",
       "L 10.984375 60.40625 \n",
       "L 10.984375 69.390625 \n",
       "L 28.421875 72.90625 \n",
       "L 38.28125 72.90625 \n",
       "L 38.28125 8.296875 \n",
       "L 54.390625 8.296875 \n",
       "L 54.390625 0 \n",
       "L 12.40625 0 \n",
       "z\n",
       "\" id=\"DejaVuSans-49\"/>\n",
       "       </defs>\n",
       "       <use xlink:href=\"#DejaVuSans-49\"/>\n",
       "       <use x=\"63.623047\" xlink:href=\"#DejaVuSans-48\"/>\n",
       "       <use x=\"127.246094\" xlink:href=\"#DejaVuSans-48\"/>\n",
       "       <use x=\"190.869141\" xlink:href=\"#DejaVuSans-48\"/>\n",
       "       <use x=\"254.492188\" xlink:href=\"#DejaVuSans-48\"/>\n",
       "      </g>\n",
       "     </g>\n",
       "    </g>\n",
       "    <g id=\"xtick_4\">\n",
       "     <g id=\"line2d_7\">\n",
       "      <path clip-path=\"url(#p2279adec04)\" d=\"M 221.465909 152.782125 \n",
       "L 221.465909 22.318125 \n",
       "\" style=\"fill:none;stroke:#b0b0b0;stroke-linecap:square;stroke-width:0.8;\"/>\n",
       "     </g>\n",
       "     <g id=\"line2d_8\">\n",
       "      <g>\n",
       "       <use style=\"stroke:#000000;stroke-width:0.8;\" x=\"221.465909\" xlink:href=\"#m16d817c6a7\" y=\"152.782125\"/>\n",
       "      </g>\n",
       "     </g>\n",
       "     <g id=\"text_4\">\n",
       "      <!-- 15000 -->\n",
       "      <g transform=\"translate(205.559659 167.380562)scale(0.1 -0.1)\">\n",
       "       <use xlink:href=\"#DejaVuSans-49\"/>\n",
       "       <use x=\"63.623047\" xlink:href=\"#DejaVuSans-53\"/>\n",
       "       <use x=\"127.246094\" xlink:href=\"#DejaVuSans-48\"/>\n",
       "       <use x=\"190.869141\" xlink:href=\"#DejaVuSans-48\"/>\n",
       "       <use x=\"254.492188\" xlink:href=\"#DejaVuSans-48\"/>\n",
       "      </g>\n",
       "     </g>\n",
       "    </g>\n",
       "    <g id=\"xtick_5\">\n",
       "     <g id=\"line2d_9\">\n",
       "      <path clip-path=\"url(#p2279adec04)\" d=\"M 274.306818 152.782125 \n",
       "L 274.306818 22.318125 \n",
       "\" style=\"fill:none;stroke:#b0b0b0;stroke-linecap:square;stroke-width:0.8;\"/>\n",
       "     </g>\n",
       "     <g id=\"line2d_10\">\n",
       "      <g>\n",
       "       <use style=\"stroke:#000000;stroke-width:0.8;\" x=\"274.306818\" xlink:href=\"#m16d817c6a7\" y=\"152.782125\"/>\n",
       "      </g>\n",
       "     </g>\n",
       "     <g id=\"text_5\">\n",
       "      <!-- 20000 -->\n",
       "      <g transform=\"translate(258.400568 167.380562)scale(0.1 -0.1)\">\n",
       "       <defs>\n",
       "        <path d=\"M 19.1875 8.296875 \n",
       "L 53.609375 8.296875 \n",
       "L 53.609375 0 \n",
       "L 7.328125 0 \n",
       "L 7.328125 8.296875 \n",
       "Q 12.9375 14.109375 22.625 23.890625 \n",
       "Q 32.328125 33.6875 34.8125 36.53125 \n",
       "Q 39.546875 41.84375 41.421875 45.53125 \n",
       "Q 43.3125 49.21875 43.3125 52.78125 \n",
       "Q 43.3125 58.59375 39.234375 62.25 \n",
       "Q 35.15625 65.921875 28.609375 65.921875 \n",
       "Q 23.96875 65.921875 18.8125 64.3125 \n",
       "Q 13.671875 62.703125 7.8125 59.421875 \n",
       "L 7.8125 69.390625 \n",
       "Q 13.765625 71.78125 18.9375 73 \n",
       "Q 24.125 74.21875 28.421875 74.21875 \n",
       "Q 39.75 74.21875 46.484375 68.546875 \n",
       "Q 53.21875 62.890625 53.21875 53.421875 \n",
       "Q 53.21875 48.921875 51.53125 44.890625 \n",
       "Q 49.859375 40.875 45.40625 35.40625 \n",
       "Q 44.1875 33.984375 37.640625 27.21875 \n",
       "Q 31.109375 20.453125 19.1875 8.296875 \n",
       "z\n",
       "\" id=\"DejaVuSans-50\"/>\n",
       "       </defs>\n",
       "       <use xlink:href=\"#DejaVuSans-50\"/>\n",
       "       <use x=\"63.623047\" xlink:href=\"#DejaVuSans-48\"/>\n",
       "       <use x=\"127.246094\" xlink:href=\"#DejaVuSans-48\"/>\n",
       "       <use x=\"190.869141\" xlink:href=\"#DejaVuSans-48\"/>\n",
       "       <use x=\"254.492188\" xlink:href=\"#DejaVuSans-48\"/>\n",
       "      </g>\n",
       "     </g>\n",
       "    </g>\n",
       "   </g>\n",
       "   <g id=\"matplotlib.axis_2\">\n",
       "    <g id=\"ytick_1\">\n",
       "     <g id=\"line2d_11\">\n",
       "      <path clip-path=\"url(#p2279adec04)\" d=\"M 52.375 152.782125 \n",
       "L 284.875 152.782125 \n",
       "\" style=\"fill:none;stroke:#b0b0b0;stroke-linecap:square;stroke-width:0.8;\"/>\n",
       "     </g>\n",
       "     <g id=\"line2d_12\">\n",
       "      <defs>\n",
       "       <path d=\"M 0 0 \n",
       "L -3.5 0 \n",
       "\" id=\"m8b78af0631\" style=\"stroke:#000000;stroke-width:0.8;\"/>\n",
       "      </defs>\n",
       "      <g>\n",
       "       <use style=\"stroke:#000000;stroke-width:0.8;\" x=\"52.375\" xlink:href=\"#m8b78af0631\" y=\"152.782125\"/>\n",
       "      </g>\n",
       "     </g>\n",
       "     <g id=\"text_6\">\n",
       "      <!-- 0 -->\n",
       "      <g transform=\"translate(39.0125 156.581344)scale(0.1 -0.1)\">\n",
       "       <use xlink:href=\"#DejaVuSans-48\"/>\n",
       "      </g>\n",
       "     </g>\n",
       "    </g>\n",
       "    <g id=\"ytick_2\">\n",
       "     <g id=\"line2d_13\">\n",
       "      <path clip-path=\"url(#p2279adec04)\" d=\"M 52.375 129.383843 \n",
       "L 284.875 129.383843 \n",
       "\" style=\"fill:none;stroke:#b0b0b0;stroke-linecap:square;stroke-width:0.8;\"/>\n",
       "     </g>\n",
       "     <g id=\"line2d_14\">\n",
       "      <g>\n",
       "       <use style=\"stroke:#000000;stroke-width:0.8;\" x=\"52.375\" xlink:href=\"#m8b78af0631\" y=\"129.383843\"/>\n",
       "      </g>\n",
       "     </g>\n",
       "     <g id=\"text_7\">\n",
       "      <!-- 25000 -->\n",
       "      <g transform=\"translate(13.5625 133.183062)scale(0.1 -0.1)\">\n",
       "       <use xlink:href=\"#DejaVuSans-50\"/>\n",
       "       <use x=\"63.623047\" xlink:href=\"#DejaVuSans-53\"/>\n",
       "       <use x=\"127.246094\" xlink:href=\"#DejaVuSans-48\"/>\n",
       "       <use x=\"190.869141\" xlink:href=\"#DejaVuSans-48\"/>\n",
       "       <use x=\"254.492188\" xlink:href=\"#DejaVuSans-48\"/>\n",
       "      </g>\n",
       "     </g>\n",
       "    </g>\n",
       "    <g id=\"ytick_3\">\n",
       "     <g id=\"line2d_15\">\n",
       "      <path clip-path=\"url(#p2279adec04)\" d=\"M 52.375 105.985561 \n",
       "L 284.875 105.985561 \n",
       "\" style=\"fill:none;stroke:#b0b0b0;stroke-linecap:square;stroke-width:0.8;\"/>\n",
       "     </g>\n",
       "     <g id=\"line2d_16\">\n",
       "      <g>\n",
       "       <use style=\"stroke:#000000;stroke-width:0.8;\" x=\"52.375\" xlink:href=\"#m8b78af0631\" y=\"105.985561\"/>\n",
       "      </g>\n",
       "     </g>\n",
       "     <g id=\"text_8\">\n",
       "      <!-- 50000 -->\n",
       "      <g transform=\"translate(13.5625 109.78478)scale(0.1 -0.1)\">\n",
       "       <use xlink:href=\"#DejaVuSans-53\"/>\n",
       "       <use x=\"63.623047\" xlink:href=\"#DejaVuSans-48\"/>\n",
       "       <use x=\"127.246094\" xlink:href=\"#DejaVuSans-48\"/>\n",
       "       <use x=\"190.869141\" xlink:href=\"#DejaVuSans-48\"/>\n",
       "       <use x=\"254.492188\" xlink:href=\"#DejaVuSans-48\"/>\n",
       "      </g>\n",
       "     </g>\n",
       "    </g>\n",
       "    <g id=\"ytick_4\">\n",
       "     <g id=\"line2d_17\">\n",
       "      <path clip-path=\"url(#p2279adec04)\" d=\"M 52.375 82.587279 \n",
       "L 284.875 82.587279 \n",
       "\" style=\"fill:none;stroke:#b0b0b0;stroke-linecap:square;stroke-width:0.8;\"/>\n",
       "     </g>\n",
       "     <g id=\"line2d_18\">\n",
       "      <g>\n",
       "       <use style=\"stroke:#000000;stroke-width:0.8;\" x=\"52.375\" xlink:href=\"#m8b78af0631\" y=\"82.587279\"/>\n",
       "      </g>\n",
       "     </g>\n",
       "     <g id=\"text_9\">\n",
       "      <!-- 75000 -->\n",
       "      <g transform=\"translate(13.5625 86.386498)scale(0.1 -0.1)\">\n",
       "       <defs>\n",
       "        <path d=\"M 8.203125 72.90625 \n",
       "L 55.078125 72.90625 \n",
       "L 55.078125 68.703125 \n",
       "L 28.609375 0 \n",
       "L 18.3125 0 \n",
       "L 43.21875 64.59375 \n",
       "L 8.203125 64.59375 \n",
       "z\n",
       "\" id=\"DejaVuSans-55\"/>\n",
       "       </defs>\n",
       "       <use xlink:href=\"#DejaVuSans-55\"/>\n",
       "       <use x=\"63.623047\" xlink:href=\"#DejaVuSans-53\"/>\n",
       "       <use x=\"127.246094\" xlink:href=\"#DejaVuSans-48\"/>\n",
       "       <use x=\"190.869141\" xlink:href=\"#DejaVuSans-48\"/>\n",
       "       <use x=\"254.492188\" xlink:href=\"#DejaVuSans-48\"/>\n",
       "      </g>\n",
       "     </g>\n",
       "    </g>\n",
       "    <g id=\"ytick_5\">\n",
       "     <g id=\"line2d_19\">\n",
       "      <path clip-path=\"url(#p2279adec04)\" d=\"M 52.375 59.188997 \n",
       "L 284.875 59.188997 \n",
       "\" style=\"fill:none;stroke:#b0b0b0;stroke-linecap:square;stroke-width:0.8;\"/>\n",
       "     </g>\n",
       "     <g id=\"line2d_20\">\n",
       "      <g>\n",
       "       <use style=\"stroke:#000000;stroke-width:0.8;\" x=\"52.375\" xlink:href=\"#m8b78af0631\" y=\"59.188997\"/>\n",
       "      </g>\n",
       "     </g>\n",
       "     <g id=\"text_10\">\n",
       "      <!-- 100000 -->\n",
       "      <g transform=\"translate(7.2 62.988216)scale(0.1 -0.1)\">\n",
       "       <use xlink:href=\"#DejaVuSans-49\"/>\n",
       "       <use x=\"63.623047\" xlink:href=\"#DejaVuSans-48\"/>\n",
       "       <use x=\"127.246094\" xlink:href=\"#DejaVuSans-48\"/>\n",
       "       <use x=\"190.869141\" xlink:href=\"#DejaVuSans-48\"/>\n",
       "       <use x=\"254.492188\" xlink:href=\"#DejaVuSans-48\"/>\n",
       "       <use x=\"318.115234\" xlink:href=\"#DejaVuSans-48\"/>\n",
       "      </g>\n",
       "     </g>\n",
       "    </g>\n",
       "    <g id=\"ytick_6\">\n",
       "     <g id=\"line2d_21\">\n",
       "      <path clip-path=\"url(#p2279adec04)\" d=\"M 52.375 35.790715 \n",
       "L 284.875 35.790715 \n",
       "\" style=\"fill:none;stroke:#b0b0b0;stroke-linecap:square;stroke-width:0.8;\"/>\n",
       "     </g>\n",
       "     <g id=\"line2d_22\">\n",
       "      <g>\n",
       "       <use style=\"stroke:#000000;stroke-width:0.8;\" x=\"52.375\" xlink:href=\"#m8b78af0631\" y=\"35.790715\"/>\n",
       "      </g>\n",
       "     </g>\n",
       "     <g id=\"text_11\">\n",
       "      <!-- 125000 -->\n",
       "      <g transform=\"translate(7.2 39.589934)scale(0.1 -0.1)\">\n",
       "       <use xlink:href=\"#DejaVuSans-49\"/>\n",
       "       <use x=\"63.623047\" xlink:href=\"#DejaVuSans-50\"/>\n",
       "       <use x=\"127.246094\" xlink:href=\"#DejaVuSans-53\"/>\n",
       "       <use x=\"190.869141\" xlink:href=\"#DejaVuSans-48\"/>\n",
       "       <use x=\"254.492188\" xlink:href=\"#DejaVuSans-48\"/>\n",
       "       <use x=\"318.115234\" xlink:href=\"#DejaVuSans-48\"/>\n",
       "      </g>\n",
       "     </g>\n",
       "    </g>\n",
       "   </g>\n",
       "   <g id=\"patch_13\">\n",
       "    <path d=\"M 52.375 152.782125 \n",
       "L 52.375 22.318125 \n",
       "\" style=\"fill:none;stroke:#000000;stroke-linecap:square;stroke-linejoin:miter;stroke-width:0.8;\"/>\n",
       "   </g>\n",
       "   <g id=\"patch_14\">\n",
       "    <path d=\"M 284.875 152.782125 \n",
       "L 284.875 22.318125 \n",
       "\" style=\"fill:none;stroke:#000000;stroke-linecap:square;stroke-linejoin:miter;stroke-width:0.8;\"/>\n",
       "   </g>\n",
       "   <g id=\"patch_15\">\n",
       "    <path d=\"M 52.375 152.782125 \n",
       "L 284.875 152.782125 \n",
       "\" style=\"fill:none;stroke:#000000;stroke-linecap:square;stroke-linejoin:miter;stroke-width:0.8;\"/>\n",
       "   </g>\n",
       "   <g id=\"patch_16\">\n",
       "    <path d=\"M 52.375 22.318125 \n",
       "L 284.875 22.318125 \n",
       "\" style=\"fill:none;stroke:#000000;stroke-linecap:square;stroke-linejoin:miter;stroke-width:0.8;\"/>\n",
       "   </g>\n",
       "   <g id=\"text_12\">\n",
       "    <!-- price -->\n",
       "    <g transform=\"translate(153.691563 16.318125)scale(0.12 -0.12)\">\n",
       "     <defs>\n",
       "      <path d=\"M 18.109375 8.203125 \n",
       "L 18.109375 -20.796875 \n",
       "L 9.078125 -20.796875 \n",
       "L 9.078125 54.6875 \n",
       "L 18.109375 54.6875 \n",
       "L 18.109375 46.390625 \n",
       "Q 20.953125 51.265625 25.265625 53.625 \n",
       "Q 29.59375 56 35.59375 56 \n",
       "Q 45.5625 56 51.78125 48.09375 \n",
       "Q 58.015625 40.1875 58.015625 27.296875 \n",
       "Q 58.015625 14.40625 51.78125 6.484375 \n",
       "Q 45.5625 -1.421875 35.59375 -1.421875 \n",
       "Q 29.59375 -1.421875 25.265625 0.953125 \n",
       "Q 20.953125 3.328125 18.109375 8.203125 \n",
       "z\n",
       "M 48.6875 27.296875 \n",
       "Q 48.6875 37.203125 44.609375 42.84375 \n",
       "Q 40.53125 48.484375 33.40625 48.484375 \n",
       "Q 26.265625 48.484375 22.1875 42.84375 \n",
       "Q 18.109375 37.203125 18.109375 27.296875 \n",
       "Q 18.109375 17.390625 22.1875 11.75 \n",
       "Q 26.265625 6.109375 33.40625 6.109375 \n",
       "Q 40.53125 6.109375 44.609375 11.75 \n",
       "Q 48.6875 17.390625 48.6875 27.296875 \n",
       "z\n",
       "\" id=\"DejaVuSans-112\"/>\n",
       "      <path d=\"M 41.109375 46.296875 \n",
       "Q 39.59375 47.171875 37.8125 47.578125 \n",
       "Q 36.03125 48 33.890625 48 \n",
       "Q 26.265625 48 22.1875 43.046875 \n",
       "Q 18.109375 38.09375 18.109375 28.8125 \n",
       "L 18.109375 0 \n",
       "L 9.078125 0 \n",
       "L 9.078125 54.6875 \n",
       "L 18.109375 54.6875 \n",
       "L 18.109375 46.1875 \n",
       "Q 20.953125 51.171875 25.484375 53.578125 \n",
       "Q 30.03125 56 36.53125 56 \n",
       "Q 37.453125 56 38.578125 55.875 \n",
       "Q 39.703125 55.765625 41.0625 55.515625 \n",
       "z\n",
       "\" id=\"DejaVuSans-114\"/>\n",
       "      <path d=\"M 9.421875 54.6875 \n",
       "L 18.40625 54.6875 \n",
       "L 18.40625 0 \n",
       "L 9.421875 0 \n",
       "z\n",
       "M 9.421875 75.984375 \n",
       "L 18.40625 75.984375 \n",
       "L 18.40625 64.59375 \n",
       "L 9.421875 64.59375 \n",
       "z\n",
       "\" id=\"DejaVuSans-105\"/>\n",
       "      <path d=\"M 48.78125 52.59375 \n",
       "L 48.78125 44.1875 \n",
       "Q 44.96875 46.296875 41.140625 47.34375 \n",
       "Q 37.3125 48.390625 33.40625 48.390625 \n",
       "Q 24.65625 48.390625 19.8125 42.84375 \n",
       "Q 14.984375 37.3125 14.984375 27.296875 \n",
       "Q 14.984375 17.28125 19.8125 11.734375 \n",
       "Q 24.65625 6.203125 33.40625 6.203125 \n",
       "Q 37.3125 6.203125 41.140625 7.25 \n",
       "Q 44.96875 8.296875 48.78125 10.40625 \n",
       "L 48.78125 2.09375 \n",
       "Q 45.015625 0.34375 40.984375 -0.53125 \n",
       "Q 36.96875 -1.421875 32.421875 -1.421875 \n",
       "Q 20.0625 -1.421875 12.78125 6.34375 \n",
       "Q 5.515625 14.109375 5.515625 27.296875 \n",
       "Q 5.515625 40.671875 12.859375 48.328125 \n",
       "Q 20.21875 56 33.015625 56 \n",
       "Q 37.15625 56 41.109375 55.140625 \n",
       "Q 45.0625 54.296875 48.78125 52.59375 \n",
       "z\n",
       "\" id=\"DejaVuSans-99\"/>\n",
       "      <path d=\"M 56.203125 29.59375 \n",
       "L 56.203125 25.203125 \n",
       "L 14.890625 25.203125 \n",
       "Q 15.484375 15.921875 20.484375 11.0625 \n",
       "Q 25.484375 6.203125 34.421875 6.203125 \n",
       "Q 39.59375 6.203125 44.453125 7.46875 \n",
       "Q 49.3125 8.734375 54.109375 11.28125 \n",
       "L 54.109375 2.78125 \n",
       "Q 49.265625 0.734375 44.1875 -0.34375 \n",
       "Q 39.109375 -1.421875 33.890625 -1.421875 \n",
       "Q 20.796875 -1.421875 13.15625 6.1875 \n",
       "Q 5.515625 13.8125 5.515625 26.8125 \n",
       "Q 5.515625 40.234375 12.765625 48.109375 \n",
       "Q 20.015625 56 32.328125 56 \n",
       "Q 43.359375 56 49.78125 48.890625 \n",
       "Q 56.203125 41.796875 56.203125 29.59375 \n",
       "z\n",
       "M 47.21875 32.234375 \n",
       "Q 47.125 39.59375 43.09375 43.984375 \n",
       "Q 39.0625 48.390625 32.421875 48.390625 \n",
       "Q 24.90625 48.390625 20.390625 44.140625 \n",
       "Q 15.875 39.890625 15.1875 32.171875 \n",
       "z\n",
       "\" id=\"DejaVuSans-101\"/>\n",
       "     </defs>\n",
       "     <use xlink:href=\"#DejaVuSans-112\"/>\n",
       "     <use x=\"63.476562\" xlink:href=\"#DejaVuSans-114\"/>\n",
       "     <use x=\"104.589844\" xlink:href=\"#DejaVuSans-105\"/>\n",
       "     <use x=\"132.373047\" xlink:href=\"#DejaVuSans-99\"/>\n",
       "     <use x=\"187.353516\" xlink:href=\"#DejaVuSans-101\"/>\n",
       "    </g>\n",
       "   </g>\n",
       "  </g>\n",
       "  <g id=\"axes_2\">\n",
       "   <g id=\"patch_17\">\n",
       "    <path d=\"M 377.875 152.782125 \n",
       "L 610.375 152.782125 \n",
       "L 610.375 22.318125 \n",
       "L 377.875 22.318125 \n",
       "z\n",
       "\" style=\"fill:#ffffff;\"/>\n",
       "   </g>\n",
       "   <g id=\"patch_18\">\n",
       "    <path clip-path=\"url(#p72bfa89896)\" d=\"M 388.443182 152.782125 \n",
       "L 409.579545 152.782125 \n",
       "L 409.579545 152.711764 \n",
       "L 388.443182 152.711764 \n",
       "z\n",
       "\" style=\"fill:#1f77b4;\"/>\n",
       "   </g>\n",
       "   <g id=\"patch_19\">\n",
       "    <path clip-path=\"url(#p72bfa89896)\" d=\"M 409.579545 152.782125 \n",
       "L 430.715909 152.782125 \n",
       "L 430.715909 152.7713 \n",
       "L 409.579545 152.7713 \n",
       "z\n",
       "\" style=\"fill:#1f77b4;\"/>\n",
       "   </g>\n",
       "   <g id=\"patch_20\">\n",
       "    <path clip-path=\"url(#p72bfa89896)\" d=\"M 430.715909 152.782125 \n",
       "L 451.852273 152.782125 \n",
       "L 451.852273 152.755063 \n",
       "L 430.715909 152.755063 \n",
       "z\n",
       "\" style=\"fill:#1f77b4;\"/>\n",
       "   </g>\n",
       "   <g id=\"patch_21\">\n",
       "    <path clip-path=\"url(#p72bfa89896)\" d=\"M 451.852273 152.782125 \n",
       "L 472.988636 152.782125 \n",
       "L 472.988636 152.748298 \n",
       "L 451.852273 152.748298 \n",
       "z\n",
       "\" style=\"fill:#1f77b4;\"/>\n",
       "   </g>\n",
       "   <g id=\"patch_22\">\n",
       "    <path clip-path=\"url(#p72bfa89896)\" d=\"M 472.988636 152.782125 \n",
       "L 494.125 152.782125 \n",
       "L 494.125 152.4973 \n",
       "L 472.988636 152.4973 \n",
       "z\n",
       "\" style=\"fill:#1f77b4;\"/>\n",
       "   </g>\n",
       "   <g id=\"patch_23\">\n",
       "    <path clip-path=\"url(#p72bfa89896)\" d=\"M 494.125 152.782125 \n",
       "L 515.261364 152.782125 \n",
       "L 515.261364 151.866084 \n",
       "L 494.125 151.866084 \n",
       "z\n",
       "\" style=\"fill:#1f77b4;\"/>\n",
       "   </g>\n",
       "   <g id=\"patch_24\">\n",
       "    <path clip-path=\"url(#p72bfa89896)\" d=\"M 515.261364 152.782125 \n",
       "L 536.397727 152.782125 \n",
       "L 536.397727 150.753845 \n",
       "L 515.261364 150.753845 \n",
       "z\n",
       "\" style=\"fill:#1f77b4;\"/>\n",
       "   </g>\n",
       "   <g id=\"patch_25\">\n",
       "    <path clip-path=\"url(#p72bfa89896)\" d=\"M 536.397727 152.782125 \n",
       "L 557.534091 152.782125 \n",
       "L 557.534091 141.532546 \n",
       "L 536.397727 141.532546 \n",
       "z\n",
       "\" style=\"fill:#1f77b4;\"/>\n",
       "   </g>\n",
       "   <g id=\"patch_26\">\n",
       "    <path clip-path=\"url(#p72bfa89896)\" d=\"M 557.534091 152.782125 \n",
       "L 578.670455 152.782125 \n",
       "L 578.670455 28.530696 \n",
       "L 557.534091 28.530696 \n",
       "z\n",
       "\" style=\"fill:#1f77b4;\"/>\n",
       "   </g>\n",
       "   <g id=\"patch_27\">\n",
       "    <path clip-path=\"url(#p72bfa89896)\" d=\"M 578.670455 152.782125 \n",
       "L 599.806818 152.782125 \n",
       "L 599.806818 68.277 \n",
       "L 578.670455 68.277 \n",
       "z\n",
       "\" style=\"fill:#1f77b4;\"/>\n",
       "   </g>\n",
       "   <g id=\"matplotlib.axis_3\">\n",
       "    <g id=\"xtick_6\">\n",
       "     <g id=\"line2d_23\">\n",
       "      <path clip-path=\"url(#p72bfa89896)\" d=\"M 408.573052 152.782125 \n",
       "L 408.573052 22.318125 \n",
       "\" style=\"fill:none;stroke:#b0b0b0;stroke-linecap:square;stroke-width:0.8;\"/>\n",
       "     </g>\n",
       "     <g id=\"line2d_24\">\n",
       "      <g>\n",
       "       <use style=\"stroke:#000000;stroke-width:0.8;\" x=\"408.573052\" xlink:href=\"#m16d817c6a7\" y=\"152.782125\"/>\n",
       "      </g>\n",
       "     </g>\n",
       "     <g id=\"text_13\">\n",
       "      <!-- 1920 -->\n",
       "      <g transform=\"translate(395.848052 167.380562)scale(0.1 -0.1)\">\n",
       "       <defs>\n",
       "        <path d=\"M 10.984375 1.515625 \n",
       "L 10.984375 10.5 \n",
       "Q 14.703125 8.734375 18.5 7.8125 \n",
       "Q 22.3125 6.890625 25.984375 6.890625 \n",
       "Q 35.75 6.890625 40.890625 13.453125 \n",
       "Q 46.046875 20.015625 46.78125 33.40625 \n",
       "Q 43.953125 29.203125 39.59375 26.953125 \n",
       "Q 35.25 24.703125 29.984375 24.703125 \n",
       "Q 19.046875 24.703125 12.671875 31.3125 \n",
       "Q 6.296875 37.9375 6.296875 49.421875 \n",
       "Q 6.296875 60.640625 12.9375 67.421875 \n",
       "Q 19.578125 74.21875 30.609375 74.21875 \n",
       "Q 43.265625 74.21875 49.921875 64.515625 \n",
       "Q 56.59375 54.828125 56.59375 36.375 \n",
       "Q 56.59375 19.140625 48.40625 8.859375 \n",
       "Q 40.234375 -1.421875 26.421875 -1.421875 \n",
       "Q 22.703125 -1.421875 18.890625 -0.6875 \n",
       "Q 15.09375 0.046875 10.984375 1.515625 \n",
       "z\n",
       "M 30.609375 32.421875 \n",
       "Q 37.25 32.421875 41.125 36.953125 \n",
       "Q 45.015625 41.5 45.015625 49.421875 \n",
       "Q 45.015625 57.28125 41.125 61.84375 \n",
       "Q 37.25 66.40625 30.609375 66.40625 \n",
       "Q 23.96875 66.40625 20.09375 61.84375 \n",
       "Q 16.21875 57.28125 16.21875 49.421875 \n",
       "Q 16.21875 41.5 20.09375 36.953125 \n",
       "Q 23.96875 32.421875 30.609375 32.421875 \n",
       "z\n",
       "\" id=\"DejaVuSans-57\"/>\n",
       "       </defs>\n",
       "       <use xlink:href=\"#DejaVuSans-49\"/>\n",
       "       <use x=\"63.623047\" xlink:href=\"#DejaVuSans-57\"/>\n",
       "       <use x=\"127.246094\" xlink:href=\"#DejaVuSans-50\"/>\n",
       "       <use x=\"190.869141\" xlink:href=\"#DejaVuSans-48\"/>\n",
       "      </g>\n",
       "     </g>\n",
       "    </g>\n",
       "    <g id=\"xtick_7\">\n",
       "     <g id=\"line2d_25\">\n",
       "      <path clip-path=\"url(#p72bfa89896)\" d=\"M 448.832792 152.782125 \n",
       "L 448.832792 22.318125 \n",
       "\" style=\"fill:none;stroke:#b0b0b0;stroke-linecap:square;stroke-width:0.8;\"/>\n",
       "     </g>\n",
       "     <g id=\"line2d_26\">\n",
       "      <g>\n",
       "       <use style=\"stroke:#000000;stroke-width:0.8;\" x=\"448.832792\" xlink:href=\"#m16d817c6a7\" y=\"152.782125\"/>\n",
       "      </g>\n",
       "     </g>\n",
       "     <g id=\"text_14\">\n",
       "      <!-- 1940 -->\n",
       "      <g transform=\"translate(436.107792 167.380562)scale(0.1 -0.1)\">\n",
       "       <defs>\n",
       "        <path d=\"M 37.796875 64.3125 \n",
       "L 12.890625 25.390625 \n",
       "L 37.796875 25.390625 \n",
       "z\n",
       "M 35.203125 72.90625 \n",
       "L 47.609375 72.90625 \n",
       "L 47.609375 25.390625 \n",
       "L 58.015625 25.390625 \n",
       "L 58.015625 17.1875 \n",
       "L 47.609375 17.1875 \n",
       "L 47.609375 0 \n",
       "L 37.796875 0 \n",
       "L 37.796875 17.1875 \n",
       "L 4.890625 17.1875 \n",
       "L 4.890625 26.703125 \n",
       "z\n",
       "\" id=\"DejaVuSans-52\"/>\n",
       "       </defs>\n",
       "       <use xlink:href=\"#DejaVuSans-49\"/>\n",
       "       <use x=\"63.623047\" xlink:href=\"#DejaVuSans-57\"/>\n",
       "       <use x=\"127.246094\" xlink:href=\"#DejaVuSans-52\"/>\n",
       "       <use x=\"190.869141\" xlink:href=\"#DejaVuSans-48\"/>\n",
       "      </g>\n",
       "     </g>\n",
       "    </g>\n",
       "    <g id=\"xtick_8\">\n",
       "     <g id=\"line2d_27\">\n",
       "      <path clip-path=\"url(#p72bfa89896)\" d=\"M 489.092532 152.782125 \n",
       "L 489.092532 22.318125 \n",
       "\" style=\"fill:none;stroke:#b0b0b0;stroke-linecap:square;stroke-width:0.8;\"/>\n",
       "     </g>\n",
       "     <g id=\"line2d_28\">\n",
       "      <g>\n",
       "       <use style=\"stroke:#000000;stroke-width:0.8;\" x=\"489.092532\" xlink:href=\"#m16d817c6a7\" y=\"152.782125\"/>\n",
       "      </g>\n",
       "     </g>\n",
       "     <g id=\"text_15\">\n",
       "      <!-- 1960 -->\n",
       "      <g transform=\"translate(476.367532 167.380562)scale(0.1 -0.1)\">\n",
       "       <defs>\n",
       "        <path d=\"M 33.015625 40.375 \n",
       "Q 26.375 40.375 22.484375 35.828125 \n",
       "Q 18.609375 31.296875 18.609375 23.390625 \n",
       "Q 18.609375 15.53125 22.484375 10.953125 \n",
       "Q 26.375 6.390625 33.015625 6.390625 \n",
       "Q 39.65625 6.390625 43.53125 10.953125 \n",
       "Q 47.40625 15.53125 47.40625 23.390625 \n",
       "Q 47.40625 31.296875 43.53125 35.828125 \n",
       "Q 39.65625 40.375 33.015625 40.375 \n",
       "z\n",
       "M 52.59375 71.296875 \n",
       "L 52.59375 62.3125 \n",
       "Q 48.875 64.0625 45.09375 64.984375 \n",
       "Q 41.3125 65.921875 37.59375 65.921875 \n",
       "Q 27.828125 65.921875 22.671875 59.328125 \n",
       "Q 17.53125 52.734375 16.796875 39.40625 \n",
       "Q 19.671875 43.65625 24.015625 45.921875 \n",
       "Q 28.375 48.1875 33.59375 48.1875 \n",
       "Q 44.578125 48.1875 50.953125 41.515625 \n",
       "Q 57.328125 34.859375 57.328125 23.390625 \n",
       "Q 57.328125 12.15625 50.6875 5.359375 \n",
       "Q 44.046875 -1.421875 33.015625 -1.421875 \n",
       "Q 20.359375 -1.421875 13.671875 8.265625 \n",
       "Q 6.984375 17.96875 6.984375 36.375 \n",
       "Q 6.984375 53.65625 15.1875 63.9375 \n",
       "Q 23.390625 74.21875 37.203125 74.21875 \n",
       "Q 40.921875 74.21875 44.703125 73.484375 \n",
       "Q 48.484375 72.75 52.59375 71.296875 \n",
       "z\n",
       "\" id=\"DejaVuSans-54\"/>\n",
       "       </defs>\n",
       "       <use xlink:href=\"#DejaVuSans-49\"/>\n",
       "       <use x=\"63.623047\" xlink:href=\"#DejaVuSans-57\"/>\n",
       "       <use x=\"127.246094\" xlink:href=\"#DejaVuSans-54\"/>\n",
       "       <use x=\"190.869141\" xlink:href=\"#DejaVuSans-48\"/>\n",
       "      </g>\n",
       "     </g>\n",
       "    </g>\n",
       "    <g id=\"xtick_9\">\n",
       "     <g id=\"line2d_29\">\n",
       "      <path clip-path=\"url(#p72bfa89896)\" d=\"M 529.352273 152.782125 \n",
       "L 529.352273 22.318125 \n",
       "\" style=\"fill:none;stroke:#b0b0b0;stroke-linecap:square;stroke-width:0.8;\"/>\n",
       "     </g>\n",
       "     <g id=\"line2d_30\">\n",
       "      <g>\n",
       "       <use style=\"stroke:#000000;stroke-width:0.8;\" x=\"529.352273\" xlink:href=\"#m16d817c6a7\" y=\"152.782125\"/>\n",
       "      </g>\n",
       "     </g>\n",
       "     <g id=\"text_16\">\n",
       "      <!-- 1980 -->\n",
       "      <g transform=\"translate(516.627273 167.380562)scale(0.1 -0.1)\">\n",
       "       <defs>\n",
       "        <path d=\"M 31.78125 34.625 \n",
       "Q 24.75 34.625 20.71875 30.859375 \n",
       "Q 16.703125 27.09375 16.703125 20.515625 \n",
       "Q 16.703125 13.921875 20.71875 10.15625 \n",
       "Q 24.75 6.390625 31.78125 6.390625 \n",
       "Q 38.8125 6.390625 42.859375 10.171875 \n",
       "Q 46.921875 13.96875 46.921875 20.515625 \n",
       "Q 46.921875 27.09375 42.890625 30.859375 \n",
       "Q 38.875 34.625 31.78125 34.625 \n",
       "z\n",
       "M 21.921875 38.8125 \n",
       "Q 15.578125 40.375 12.03125 44.71875 \n",
       "Q 8.5 49.078125 8.5 55.328125 \n",
       "Q 8.5 64.0625 14.71875 69.140625 \n",
       "Q 20.953125 74.21875 31.78125 74.21875 \n",
       "Q 42.671875 74.21875 48.875 69.140625 \n",
       "Q 55.078125 64.0625 55.078125 55.328125 \n",
       "Q 55.078125 49.078125 51.53125 44.71875 \n",
       "Q 48 40.375 41.703125 38.8125 \n",
       "Q 48.828125 37.15625 52.796875 32.3125 \n",
       "Q 56.78125 27.484375 56.78125 20.515625 \n",
       "Q 56.78125 9.90625 50.3125 4.234375 \n",
       "Q 43.84375 -1.421875 31.78125 -1.421875 \n",
       "Q 19.734375 -1.421875 13.25 4.234375 \n",
       "Q 6.78125 9.90625 6.78125 20.515625 \n",
       "Q 6.78125 27.484375 10.78125 32.3125 \n",
       "Q 14.796875 37.15625 21.921875 38.8125 \n",
       "z\n",
       "M 18.3125 54.390625 \n",
       "Q 18.3125 48.734375 21.84375 45.5625 \n",
       "Q 25.390625 42.390625 31.78125 42.390625 \n",
       "Q 38.140625 42.390625 41.71875 45.5625 \n",
       "Q 45.3125 48.734375 45.3125 54.390625 \n",
       "Q 45.3125 60.0625 41.71875 63.234375 \n",
       "Q 38.140625 66.40625 31.78125 66.40625 \n",
       "Q 25.390625 66.40625 21.84375 63.234375 \n",
       "Q 18.3125 60.0625 18.3125 54.390625 \n",
       "z\n",
       "\" id=\"DejaVuSans-56\"/>\n",
       "       </defs>\n",
       "       <use xlink:href=\"#DejaVuSans-49\"/>\n",
       "       <use x=\"63.623047\" xlink:href=\"#DejaVuSans-57\"/>\n",
       "       <use x=\"127.246094\" xlink:href=\"#DejaVuSans-56\"/>\n",
       "       <use x=\"190.869141\" xlink:href=\"#DejaVuSans-48\"/>\n",
       "      </g>\n",
       "     </g>\n",
       "    </g>\n",
       "    <g id=\"xtick_10\">\n",
       "     <g id=\"line2d_31\">\n",
       "      <path clip-path=\"url(#p72bfa89896)\" d=\"M 569.612013 152.782125 \n",
       "L 569.612013 22.318125 \n",
       "\" style=\"fill:none;stroke:#b0b0b0;stroke-linecap:square;stroke-width:0.8;\"/>\n",
       "     </g>\n",
       "     <g id=\"line2d_32\">\n",
       "      <g>\n",
       "       <use style=\"stroke:#000000;stroke-width:0.8;\" x=\"569.612013\" xlink:href=\"#m16d817c6a7\" y=\"152.782125\"/>\n",
       "      </g>\n",
       "     </g>\n",
       "     <g id=\"text_17\">\n",
       "      <!-- 2000 -->\n",
       "      <g transform=\"translate(556.887013 167.380562)scale(0.1 -0.1)\">\n",
       "       <use xlink:href=\"#DejaVuSans-50\"/>\n",
       "       <use x=\"63.623047\" xlink:href=\"#DejaVuSans-48\"/>\n",
       "       <use x=\"127.246094\" xlink:href=\"#DejaVuSans-48\"/>\n",
       "       <use x=\"190.869141\" xlink:href=\"#DejaVuSans-48\"/>\n",
       "      </g>\n",
       "     </g>\n",
       "    </g>\n",
       "    <g id=\"xtick_11\">\n",
       "     <g id=\"line2d_33\">\n",
       "      <path clip-path=\"url(#p72bfa89896)\" d=\"M 609.871753 152.782125 \n",
       "L 609.871753 22.318125 \n",
       "\" style=\"fill:none;stroke:#b0b0b0;stroke-linecap:square;stroke-width:0.8;\"/>\n",
       "     </g>\n",
       "     <g id=\"line2d_34\">\n",
       "      <g>\n",
       "       <use style=\"stroke:#000000;stroke-width:0.8;\" x=\"609.871753\" xlink:href=\"#m16d817c6a7\" y=\"152.782125\"/>\n",
       "      </g>\n",
       "     </g>\n",
       "     <g id=\"text_18\">\n",
       "      <!-- 2020 -->\n",
       "      <g transform=\"translate(597.146753 167.380562)scale(0.1 -0.1)\">\n",
       "       <use xlink:href=\"#DejaVuSans-50\"/>\n",
       "       <use x=\"63.623047\" xlink:href=\"#DejaVuSans-48\"/>\n",
       "       <use x=\"127.246094\" xlink:href=\"#DejaVuSans-50\"/>\n",
       "       <use x=\"190.869141\" xlink:href=\"#DejaVuSans-48\"/>\n",
       "      </g>\n",
       "     </g>\n",
       "    </g>\n",
       "   </g>\n",
       "   <g id=\"matplotlib.axis_4\">\n",
       "    <g id=\"ytick_7\">\n",
       "     <g id=\"line2d_35\">\n",
       "      <path clip-path=\"url(#p72bfa89896)\" d=\"M 377.875 152.782125 \n",
       "L 610.375 152.782125 \n",
       "\" style=\"fill:none;stroke:#b0b0b0;stroke-linecap:square;stroke-width:0.8;\"/>\n",
       "     </g>\n",
       "     <g id=\"line2d_36\">\n",
       "      <g>\n",
       "       <use style=\"stroke:#000000;stroke-width:0.8;\" x=\"377.875\" xlink:href=\"#m8b78af0631\" y=\"152.782125\"/>\n",
       "      </g>\n",
       "     </g>\n",
       "     <g id=\"text_19\">\n",
       "      <!-- 0 -->\n",
       "      <g transform=\"translate(364.5125 156.581344)scale(0.1 -0.1)\">\n",
       "       <use xlink:href=\"#DejaVuSans-48\"/>\n",
       "      </g>\n",
       "     </g>\n",
       "    </g>\n",
       "    <g id=\"ytick_8\">\n",
       "     <g id=\"line2d_37\">\n",
       "      <path clip-path=\"url(#p72bfa89896)\" d=\"M 377.875 118.954908 \n",
       "L 610.375 118.954908 \n",
       "\" style=\"fill:none;stroke:#b0b0b0;stroke-linecap:square;stroke-width:0.8;\"/>\n",
       "     </g>\n",
       "     <g id=\"line2d_38\">\n",
       "      <g>\n",
       "       <use style=\"stroke:#000000;stroke-width:0.8;\" x=\"377.875\" xlink:href=\"#m8b78af0631\" y=\"118.954908\"/>\n",
       "      </g>\n",
       "     </g>\n",
       "     <g id=\"text_20\">\n",
       "      <!-- 50000 -->\n",
       "      <g transform=\"translate(339.0625 122.754126)scale(0.1 -0.1)\">\n",
       "       <use xlink:href=\"#DejaVuSans-53\"/>\n",
       "       <use x=\"63.623047\" xlink:href=\"#DejaVuSans-48\"/>\n",
       "       <use x=\"127.246094\" xlink:href=\"#DejaVuSans-48\"/>\n",
       "       <use x=\"190.869141\" xlink:href=\"#DejaVuSans-48\"/>\n",
       "       <use x=\"254.492188\" xlink:href=\"#DejaVuSans-48\"/>\n",
       "      </g>\n",
       "     </g>\n",
       "    </g>\n",
       "    <g id=\"ytick_9\">\n",
       "     <g id=\"line2d_39\">\n",
       "      <path clip-path=\"url(#p72bfa89896)\" d=\"M 377.875 85.12769 \n",
       "L 610.375 85.12769 \n",
       "\" style=\"fill:none;stroke:#b0b0b0;stroke-linecap:square;stroke-width:0.8;\"/>\n",
       "     </g>\n",
       "     <g id=\"line2d_40\">\n",
       "      <g>\n",
       "       <use style=\"stroke:#000000;stroke-width:0.8;\" x=\"377.875\" xlink:href=\"#m8b78af0631\" y=\"85.12769\"/>\n",
       "      </g>\n",
       "     </g>\n",
       "     <g id=\"text_21\">\n",
       "      <!-- 100000 -->\n",
       "      <g transform=\"translate(332.7 88.926909)scale(0.1 -0.1)\">\n",
       "       <use xlink:href=\"#DejaVuSans-49\"/>\n",
       "       <use x=\"63.623047\" xlink:href=\"#DejaVuSans-48\"/>\n",
       "       <use x=\"127.246094\" xlink:href=\"#DejaVuSans-48\"/>\n",
       "       <use x=\"190.869141\" xlink:href=\"#DejaVuSans-48\"/>\n",
       "       <use x=\"254.492188\" xlink:href=\"#DejaVuSans-48\"/>\n",
       "       <use x=\"318.115234\" xlink:href=\"#DejaVuSans-48\"/>\n",
       "      </g>\n",
       "     </g>\n",
       "    </g>\n",
       "    <g id=\"ytick_10\">\n",
       "     <g id=\"line2d_41\">\n",
       "      <path clip-path=\"url(#p72bfa89896)\" d=\"M 377.875 51.300473 \n",
       "L 610.375 51.300473 \n",
       "\" style=\"fill:none;stroke:#b0b0b0;stroke-linecap:square;stroke-width:0.8;\"/>\n",
       "     </g>\n",
       "     <g id=\"line2d_42\">\n",
       "      <g>\n",
       "       <use style=\"stroke:#000000;stroke-width:0.8;\" x=\"377.875\" xlink:href=\"#m8b78af0631\" y=\"51.300473\"/>\n",
       "      </g>\n",
       "     </g>\n",
       "     <g id=\"text_22\">\n",
       "      <!-- 150000 -->\n",
       "      <g transform=\"translate(332.7 55.099692)scale(0.1 -0.1)\">\n",
       "       <use xlink:href=\"#DejaVuSans-49\"/>\n",
       "       <use x=\"63.623047\" xlink:href=\"#DejaVuSans-53\"/>\n",
       "       <use x=\"127.246094\" xlink:href=\"#DejaVuSans-48\"/>\n",
       "       <use x=\"190.869141\" xlink:href=\"#DejaVuSans-48\"/>\n",
       "       <use x=\"254.492188\" xlink:href=\"#DejaVuSans-48\"/>\n",
       "       <use x=\"318.115234\" xlink:href=\"#DejaVuSans-48\"/>\n",
       "      </g>\n",
       "     </g>\n",
       "    </g>\n",
       "   </g>\n",
       "   <g id=\"patch_28\">\n",
       "    <path d=\"M 377.875 152.782125 \n",
       "L 377.875 22.318125 \n",
       "\" style=\"fill:none;stroke:#000000;stroke-linecap:square;stroke-linejoin:miter;stroke-width:0.8;\"/>\n",
       "   </g>\n",
       "   <g id=\"patch_29\">\n",
       "    <path d=\"M 610.375 152.782125 \n",
       "L 610.375 22.318125 \n",
       "\" style=\"fill:none;stroke:#000000;stroke-linecap:square;stroke-linejoin:miter;stroke-width:0.8;\"/>\n",
       "   </g>\n",
       "   <g id=\"patch_30\">\n",
       "    <path d=\"M 377.875 152.782125 \n",
       "L 610.375 152.782125 \n",
       "\" style=\"fill:none;stroke:#000000;stroke-linecap:square;stroke-linejoin:miter;stroke-width:0.8;\"/>\n",
       "   </g>\n",
       "   <g id=\"patch_31\">\n",
       "    <path d=\"M 377.875 22.318125 \n",
       "L 610.375 22.318125 \n",
       "\" style=\"fill:none;stroke:#000000;stroke-linecap:square;stroke-linejoin:miter;stroke-width:0.8;\"/>\n",
       "   </g>\n",
       "   <g id=\"text_23\">\n",
       "    <!-- registration_year -->\n",
       "    <g transform=\"translate(443.125 16.318125)scale(0.12 -0.12)\">\n",
       "     <defs>\n",
       "      <path d=\"M 45.40625 27.984375 \n",
       "Q 45.40625 37.75 41.375 43.109375 \n",
       "Q 37.359375 48.484375 30.078125 48.484375 \n",
       "Q 22.859375 48.484375 18.828125 43.109375 \n",
       "Q 14.796875 37.75 14.796875 27.984375 \n",
       "Q 14.796875 18.265625 18.828125 12.890625 \n",
       "Q 22.859375 7.515625 30.078125 7.515625 \n",
       "Q 37.359375 7.515625 41.375 12.890625 \n",
       "Q 45.40625 18.265625 45.40625 27.984375 \n",
       "z\n",
       "M 54.390625 6.78125 \n",
       "Q 54.390625 -7.171875 48.1875 -13.984375 \n",
       "Q 42 -20.796875 29.203125 -20.796875 \n",
       "Q 24.46875 -20.796875 20.265625 -20.09375 \n",
       "Q 16.0625 -19.390625 12.109375 -17.921875 \n",
       "L 12.109375 -9.1875 \n",
       "Q 16.0625 -11.328125 19.921875 -12.34375 \n",
       "Q 23.78125 -13.375 27.78125 -13.375 \n",
       "Q 36.625 -13.375 41.015625 -8.765625 \n",
       "Q 45.40625 -4.15625 45.40625 5.171875 \n",
       "L 45.40625 9.625 \n",
       "Q 42.625 4.78125 38.28125 2.390625 \n",
       "Q 33.9375 0 27.875 0 \n",
       "Q 17.828125 0 11.671875 7.65625 \n",
       "Q 5.515625 15.328125 5.515625 27.984375 \n",
       "Q 5.515625 40.671875 11.671875 48.328125 \n",
       "Q 17.828125 56 27.875 56 \n",
       "Q 33.9375 56 38.28125 53.609375 \n",
       "Q 42.625 51.21875 45.40625 46.390625 \n",
       "L 45.40625 54.6875 \n",
       "L 54.390625 54.6875 \n",
       "z\n",
       "\" id=\"DejaVuSans-103\"/>\n",
       "      <path d=\"M 44.28125 53.078125 \n",
       "L 44.28125 44.578125 \n",
       "Q 40.484375 46.53125 36.375 47.5 \n",
       "Q 32.28125 48.484375 27.875 48.484375 \n",
       "Q 21.1875 48.484375 17.84375 46.4375 \n",
       "Q 14.5 44.390625 14.5 40.28125 \n",
       "Q 14.5 37.15625 16.890625 35.375 \n",
       "Q 19.28125 33.59375 26.515625 31.984375 \n",
       "L 29.59375 31.296875 \n",
       "Q 39.15625 29.25 43.1875 25.515625 \n",
       "Q 47.21875 21.78125 47.21875 15.09375 \n",
       "Q 47.21875 7.46875 41.1875 3.015625 \n",
       "Q 35.15625 -1.421875 24.609375 -1.421875 \n",
       "Q 20.21875 -1.421875 15.453125 -0.5625 \n",
       "Q 10.6875 0.296875 5.421875 2 \n",
       "L 5.421875 11.28125 \n",
       "Q 10.40625 8.6875 15.234375 7.390625 \n",
       "Q 20.0625 6.109375 24.8125 6.109375 \n",
       "Q 31.15625 6.109375 34.5625 8.28125 \n",
       "Q 37.984375 10.453125 37.984375 14.40625 \n",
       "Q 37.984375 18.0625 35.515625 20.015625 \n",
       "Q 33.0625 21.96875 24.703125 23.78125 \n",
       "L 21.578125 24.515625 \n",
       "Q 13.234375 26.265625 9.515625 29.90625 \n",
       "Q 5.8125 33.546875 5.8125 39.890625 \n",
       "Q 5.8125 47.609375 11.28125 51.796875 \n",
       "Q 16.75 56 26.8125 56 \n",
       "Q 31.78125 56 36.171875 55.265625 \n",
       "Q 40.578125 54.546875 44.28125 53.078125 \n",
       "z\n",
       "\" id=\"DejaVuSans-115\"/>\n",
       "      <path d=\"M 18.3125 70.21875 \n",
       "L 18.3125 54.6875 \n",
       "L 36.8125 54.6875 \n",
       "L 36.8125 47.703125 \n",
       "L 18.3125 47.703125 \n",
       "L 18.3125 18.015625 \n",
       "Q 18.3125 11.328125 20.140625 9.421875 \n",
       "Q 21.96875 7.515625 27.59375 7.515625 \n",
       "L 36.8125 7.515625 \n",
       "L 36.8125 0 \n",
       "L 27.59375 0 \n",
       "Q 17.1875 0 13.234375 3.875 \n",
       "Q 9.28125 7.765625 9.28125 18.015625 \n",
       "L 9.28125 47.703125 \n",
       "L 2.6875 47.703125 \n",
       "L 2.6875 54.6875 \n",
       "L 9.28125 54.6875 \n",
       "L 9.28125 70.21875 \n",
       "z\n",
       "\" id=\"DejaVuSans-116\"/>\n",
       "      <path d=\"M 34.28125 27.484375 \n",
       "Q 23.390625 27.484375 19.1875 25 \n",
       "Q 14.984375 22.515625 14.984375 16.5 \n",
       "Q 14.984375 11.71875 18.140625 8.90625 \n",
       "Q 21.296875 6.109375 26.703125 6.109375 \n",
       "Q 34.1875 6.109375 38.703125 11.40625 \n",
       "Q 43.21875 16.703125 43.21875 25.484375 \n",
       "L 43.21875 27.484375 \n",
       "z\n",
       "M 52.203125 31.203125 \n",
       "L 52.203125 0 \n",
       "L 43.21875 0 \n",
       "L 43.21875 8.296875 \n",
       "Q 40.140625 3.328125 35.546875 0.953125 \n",
       "Q 30.953125 -1.421875 24.3125 -1.421875 \n",
       "Q 15.921875 -1.421875 10.953125 3.296875 \n",
       "Q 6 8.015625 6 15.921875 \n",
       "Q 6 25.140625 12.171875 29.828125 \n",
       "Q 18.359375 34.515625 30.609375 34.515625 \n",
       "L 43.21875 34.515625 \n",
       "L 43.21875 35.40625 \n",
       "Q 43.21875 41.609375 39.140625 45 \n",
       "Q 35.0625 48.390625 27.6875 48.390625 \n",
       "Q 23 48.390625 18.546875 47.265625 \n",
       "Q 14.109375 46.140625 10.015625 43.890625 \n",
       "L 10.015625 52.203125 \n",
       "Q 14.9375 54.109375 19.578125 55.046875 \n",
       "Q 24.21875 56 28.609375 56 \n",
       "Q 40.484375 56 46.34375 49.84375 \n",
       "Q 52.203125 43.703125 52.203125 31.203125 \n",
       "z\n",
       "\" id=\"DejaVuSans-97\"/>\n",
       "      <path d=\"M 30.609375 48.390625 \n",
       "Q 23.390625 48.390625 19.1875 42.75 \n",
       "Q 14.984375 37.109375 14.984375 27.296875 \n",
       "Q 14.984375 17.484375 19.15625 11.84375 \n",
       "Q 23.34375 6.203125 30.609375 6.203125 \n",
       "Q 37.796875 6.203125 41.984375 11.859375 \n",
       "Q 46.1875 17.53125 46.1875 27.296875 \n",
       "Q 46.1875 37.015625 41.984375 42.703125 \n",
       "Q 37.796875 48.390625 30.609375 48.390625 \n",
       "z\n",
       "M 30.609375 56 \n",
       "Q 42.328125 56 49.015625 48.375 \n",
       "Q 55.71875 40.765625 55.71875 27.296875 \n",
       "Q 55.71875 13.875 49.015625 6.21875 \n",
       "Q 42.328125 -1.421875 30.609375 -1.421875 \n",
       "Q 18.84375 -1.421875 12.171875 6.21875 \n",
       "Q 5.515625 13.875 5.515625 27.296875 \n",
       "Q 5.515625 40.765625 12.171875 48.375 \n",
       "Q 18.84375 56 30.609375 56 \n",
       "z\n",
       "\" id=\"DejaVuSans-111\"/>\n",
       "      <path d=\"M 54.890625 33.015625 \n",
       "L 54.890625 0 \n",
       "L 45.90625 0 \n",
       "L 45.90625 32.71875 \n",
       "Q 45.90625 40.484375 42.875 44.328125 \n",
       "Q 39.84375 48.1875 33.796875 48.1875 \n",
       "Q 26.515625 48.1875 22.3125 43.546875 \n",
       "Q 18.109375 38.921875 18.109375 30.90625 \n",
       "L 18.109375 0 \n",
       "L 9.078125 0 \n",
       "L 9.078125 54.6875 \n",
       "L 18.109375 54.6875 \n",
       "L 18.109375 46.1875 \n",
       "Q 21.34375 51.125 25.703125 53.5625 \n",
       "Q 30.078125 56 35.796875 56 \n",
       "Q 45.21875 56 50.046875 50.171875 \n",
       "Q 54.890625 44.34375 54.890625 33.015625 \n",
       "z\n",
       "\" id=\"DejaVuSans-110\"/>\n",
       "      <path d=\"M 50.984375 -16.609375 \n",
       "L 50.984375 -23.578125 \n",
       "L -0.984375 -23.578125 \n",
       "L -0.984375 -16.609375 \n",
       "z\n",
       "\" id=\"DejaVuSans-95\"/>\n",
       "      <path d=\"M 32.171875 -5.078125 \n",
       "Q 28.375 -14.84375 24.75 -17.8125 \n",
       "Q 21.140625 -20.796875 15.09375 -20.796875 \n",
       "L 7.90625 -20.796875 \n",
       "L 7.90625 -13.28125 \n",
       "L 13.1875 -13.28125 \n",
       "Q 16.890625 -13.28125 18.9375 -11.515625 \n",
       "Q 21 -9.765625 23.484375 -3.21875 \n",
       "L 25.09375 0.875 \n",
       "L 2.984375 54.6875 \n",
       "L 12.5 54.6875 \n",
       "L 29.59375 11.921875 \n",
       "L 46.6875 54.6875 \n",
       "L 56.203125 54.6875 \n",
       "z\n",
       "\" id=\"DejaVuSans-121\"/>\n",
       "     </defs>\n",
       "     <use xlink:href=\"#DejaVuSans-114\"/>\n",
       "     <use x=\"38.863281\" xlink:href=\"#DejaVuSans-101\"/>\n",
       "     <use x=\"100.386719\" xlink:href=\"#DejaVuSans-103\"/>\n",
       "     <use x=\"163.863281\" xlink:href=\"#DejaVuSans-105\"/>\n",
       "     <use x=\"191.646484\" xlink:href=\"#DejaVuSans-115\"/>\n",
       "     <use x=\"243.746094\" xlink:href=\"#DejaVuSans-116\"/>\n",
       "     <use x=\"282.955078\" xlink:href=\"#DejaVuSans-114\"/>\n",
       "     <use x=\"324.068359\" xlink:href=\"#DejaVuSans-97\"/>\n",
       "     <use x=\"385.347656\" xlink:href=\"#DejaVuSans-116\"/>\n",
       "     <use x=\"424.556641\" xlink:href=\"#DejaVuSans-105\"/>\n",
       "     <use x=\"452.339844\" xlink:href=\"#DejaVuSans-111\"/>\n",
       "     <use x=\"513.521484\" xlink:href=\"#DejaVuSans-110\"/>\n",
       "     <use x=\"576.900391\" xlink:href=\"#DejaVuSans-95\"/>\n",
       "     <use x=\"626.900391\" xlink:href=\"#DejaVuSans-121\"/>\n",
       "     <use x=\"686.080078\" xlink:href=\"#DejaVuSans-101\"/>\n",
       "     <use x=\"747.603516\" xlink:href=\"#DejaVuSans-97\"/>\n",
       "     <use x=\"808.882812\" xlink:href=\"#DejaVuSans-114\"/>\n",
       "    </g>\n",
       "   </g>\n",
       "  </g>\n",
       "  <g id=\"axes_3\">\n",
       "   <g id=\"patch_32\">\n",
       "    <path d=\"M 52.375 348.478125 \n",
       "L 284.875 348.478125 \n",
       "L 284.875 218.014125 \n",
       "L 52.375 218.014125 \n",
       "z\n",
       "\" style=\"fill:#ffffff;\"/>\n",
       "   </g>\n",
       "   <g id=\"patch_33\">\n",
       "    <path clip-path=\"url(#p0bd91ceda3)\" d=\"M 62.943182 348.478125 \n",
       "L 84.079545 348.478125 \n",
       "L 84.079545 224.226696 \n",
       "L 62.943182 224.226696 \n",
       "z\n",
       "\" style=\"fill:#1f77b4;\"/>\n",
       "   </g>\n",
       "   <g id=\"patch_34\">\n",
       "    <path clip-path=\"url(#p0bd91ceda3)\" d=\"M 84.079545 348.478125 \n",
       "L 105.215909 348.478125 \n",
       "L 105.215909 348.466455 \n",
       "L 84.079545 348.466455 \n",
       "z\n",
       "\" style=\"fill:#1f77b4;\"/>\n",
       "   </g>\n",
       "   <g id=\"patch_35\">\n",
       "    <path clip-path=\"url(#p0bd91ceda3)\" d=\"M 105.215909 348.478125 \n",
       "L 126.352273 348.478125 \n",
       "L 126.352273 348.474361 \n",
       "L 105.215909 348.474361 \n",
       "z\n",
       "\" style=\"fill:#1f77b4;\"/>\n",
       "   </g>\n",
       "   <g id=\"patch_36\">\n",
       "    <path clip-path=\"url(#p0bd91ceda3)\" d=\"M 126.352273 348.478125 \n",
       "L 147.488636 348.478125 \n",
       "L 147.488636 348.471726 \n",
       "L 126.352273 348.471726 \n",
       "z\n",
       "\" style=\"fill:#1f77b4;\"/>\n",
       "   </g>\n",
       "   <g id=\"patch_37\">\n",
       "    <path clip-path=\"url(#p0bd91ceda3)\" d=\"M 147.488636 348.478125 \n",
       "L 168.625 348.478125 \n",
       "L 168.625 348.475113 \n",
       "L 147.488636 348.475113 \n",
       "z\n",
       "\" style=\"fill:#1f77b4;\"/>\n",
       "   </g>\n",
       "   <g id=\"patch_38\">\n",
       "    <path clip-path=\"url(#p0bd91ceda3)\" d=\"M 168.625 348.478125 \n",
       "L 189.761364 348.478125 \n",
       "L 189.761364 348.472478 \n",
       "L 168.625 348.472478 \n",
       "z\n",
       "\" style=\"fill:#1f77b4;\"/>\n",
       "   </g>\n",
       "   <g id=\"patch_39\">\n",
       "    <path clip-path=\"url(#p0bd91ceda3)\" d=\"M 189.761364 348.478125 \n",
       "L 210.897727 348.478125 \n",
       "L 210.897727 348.475866 \n",
       "L 189.761364 348.475866 \n",
       "z\n",
       "\" style=\"fill:#1f77b4;\"/>\n",
       "   </g>\n",
       "   <g id=\"patch_40\">\n",
       "    <path clip-path=\"url(#p0bd91ceda3)\" d=\"M 210.897727 348.478125 \n",
       "L 232.034091 348.478125 \n",
       "L 232.034091 348.476243 \n",
       "L 210.897727 348.476243 \n",
       "z\n",
       "\" style=\"fill:#1f77b4;\"/>\n",
       "   </g>\n",
       "   <g id=\"patch_41\">\n",
       "    <path clip-path=\"url(#p0bd91ceda3)\" d=\"M 232.034091 348.478125 \n",
       "L 253.170455 348.478125 \n",
       "L 253.170455 348.475113 \n",
       "L 232.034091 348.475113 \n",
       "z\n",
       "\" style=\"fill:#1f77b4;\"/>\n",
       "   </g>\n",
       "   <g id=\"patch_42\">\n",
       "    <path clip-path=\"url(#p0bd91ceda3)\" d=\"M 253.170455 348.478125 \n",
       "L 274.306818 348.478125 \n",
       "L 274.306818 348.476619 \n",
       "L 253.170455 348.476619 \n",
       "z\n",
       "\" style=\"fill:#1f77b4;\"/>\n",
       "   </g>\n",
       "   <g id=\"matplotlib.axis_5\">\n",
       "    <g id=\"xtick_12\">\n",
       "     <g id=\"line2d_43\">\n",
       "      <path clip-path=\"url(#p0bd91ceda3)\" d=\"M 62.943182 348.478125 \n",
       "L 62.943182 218.014125 \n",
       "\" style=\"fill:none;stroke:#b0b0b0;stroke-linecap:square;stroke-width:0.8;\"/>\n",
       "     </g>\n",
       "     <g id=\"line2d_44\">\n",
       "      <g>\n",
       "       <use style=\"stroke:#000000;stroke-width:0.8;\" x=\"62.943182\" xlink:href=\"#m16d817c6a7\" y=\"348.478125\"/>\n",
       "      </g>\n",
       "     </g>\n",
       "     <g id=\"text_24\">\n",
       "      <!-- 0 -->\n",
       "      <g transform=\"translate(59.761932 363.076562)scale(0.1 -0.1)\">\n",
       "       <use xlink:href=\"#DejaVuSans-48\"/>\n",
       "      </g>\n",
       "     </g>\n",
       "    </g>\n",
       "    <g id=\"xtick_13\">\n",
       "     <g id=\"line2d_45\">\n",
       "      <path clip-path=\"url(#p0bd91ceda3)\" d=\"M 115.784091 348.478125 \n",
       "L 115.784091 218.014125 \n",
       "\" style=\"fill:none;stroke:#b0b0b0;stroke-linecap:square;stroke-width:0.8;\"/>\n",
       "     </g>\n",
       "     <g id=\"line2d_46\">\n",
       "      <g>\n",
       "       <use style=\"stroke:#000000;stroke-width:0.8;\" x=\"115.784091\" xlink:href=\"#m16d817c6a7\" y=\"348.478125\"/>\n",
       "      </g>\n",
       "     </g>\n",
       "     <g id=\"text_25\">\n",
       "      <!-- 5000 -->\n",
       "      <g transform=\"translate(103.059091 363.076562)scale(0.1 -0.1)\">\n",
       "       <use xlink:href=\"#DejaVuSans-53\"/>\n",
       "       <use x=\"63.623047\" xlink:href=\"#DejaVuSans-48\"/>\n",
       "       <use x=\"127.246094\" xlink:href=\"#DejaVuSans-48\"/>\n",
       "       <use x=\"190.869141\" xlink:href=\"#DejaVuSans-48\"/>\n",
       "      </g>\n",
       "     </g>\n",
       "    </g>\n",
       "    <g id=\"xtick_14\">\n",
       "     <g id=\"line2d_47\">\n",
       "      <path clip-path=\"url(#p0bd91ceda3)\" d=\"M 168.625 348.478125 \n",
       "L 168.625 218.014125 \n",
       "\" style=\"fill:none;stroke:#b0b0b0;stroke-linecap:square;stroke-width:0.8;\"/>\n",
       "     </g>\n",
       "     <g id=\"line2d_48\">\n",
       "      <g>\n",
       "       <use style=\"stroke:#000000;stroke-width:0.8;\" x=\"168.625\" xlink:href=\"#m16d817c6a7\" y=\"348.478125\"/>\n",
       "      </g>\n",
       "     </g>\n",
       "     <g id=\"text_26\">\n",
       "      <!-- 10000 -->\n",
       "      <g transform=\"translate(152.71875 363.076562)scale(0.1 -0.1)\">\n",
       "       <use xlink:href=\"#DejaVuSans-49\"/>\n",
       "       <use x=\"63.623047\" xlink:href=\"#DejaVuSans-48\"/>\n",
       "       <use x=\"127.246094\" xlink:href=\"#DejaVuSans-48\"/>\n",
       "       <use x=\"190.869141\" xlink:href=\"#DejaVuSans-48\"/>\n",
       "       <use x=\"254.492188\" xlink:href=\"#DejaVuSans-48\"/>\n",
       "      </g>\n",
       "     </g>\n",
       "    </g>\n",
       "    <g id=\"xtick_15\">\n",
       "     <g id=\"line2d_49\">\n",
       "      <path clip-path=\"url(#p0bd91ceda3)\" d=\"M 221.465909 348.478125 \n",
       "L 221.465909 218.014125 \n",
       "\" style=\"fill:none;stroke:#b0b0b0;stroke-linecap:square;stroke-width:0.8;\"/>\n",
       "     </g>\n",
       "     <g id=\"line2d_50\">\n",
       "      <g>\n",
       "       <use style=\"stroke:#000000;stroke-width:0.8;\" x=\"221.465909\" xlink:href=\"#m16d817c6a7\" y=\"348.478125\"/>\n",
       "      </g>\n",
       "     </g>\n",
       "     <g id=\"text_27\">\n",
       "      <!-- 15000 -->\n",
       "      <g transform=\"translate(205.559659 363.076562)scale(0.1 -0.1)\">\n",
       "       <use xlink:href=\"#DejaVuSans-49\"/>\n",
       "       <use x=\"63.623047\" xlink:href=\"#DejaVuSans-53\"/>\n",
       "       <use x=\"127.246094\" xlink:href=\"#DejaVuSans-48\"/>\n",
       "       <use x=\"190.869141\" xlink:href=\"#DejaVuSans-48\"/>\n",
       "       <use x=\"254.492188\" xlink:href=\"#DejaVuSans-48\"/>\n",
       "      </g>\n",
       "     </g>\n",
       "    </g>\n",
       "    <g id=\"xtick_16\">\n",
       "     <g id=\"line2d_51\">\n",
       "      <path clip-path=\"url(#p0bd91ceda3)\" d=\"M 274.306818 348.478125 \n",
       "L 274.306818 218.014125 \n",
       "\" style=\"fill:none;stroke:#b0b0b0;stroke-linecap:square;stroke-width:0.8;\"/>\n",
       "     </g>\n",
       "     <g id=\"line2d_52\">\n",
       "      <g>\n",
       "       <use style=\"stroke:#000000;stroke-width:0.8;\" x=\"274.306818\" xlink:href=\"#m16d817c6a7\" y=\"348.478125\"/>\n",
       "      </g>\n",
       "     </g>\n",
       "     <g id=\"text_28\">\n",
       "      <!-- 20000 -->\n",
       "      <g transform=\"translate(258.400568 363.076562)scale(0.1 -0.1)\">\n",
       "       <use xlink:href=\"#DejaVuSans-50\"/>\n",
       "       <use x=\"63.623047\" xlink:href=\"#DejaVuSans-48\"/>\n",
       "       <use x=\"127.246094\" xlink:href=\"#DejaVuSans-48\"/>\n",
       "       <use x=\"190.869141\" xlink:href=\"#DejaVuSans-48\"/>\n",
       "       <use x=\"254.492188\" xlink:href=\"#DejaVuSans-48\"/>\n",
       "      </g>\n",
       "     </g>\n",
       "    </g>\n",
       "   </g>\n",
       "   <g id=\"matplotlib.axis_6\">\n",
       "    <g id=\"ytick_11\">\n",
       "     <g id=\"line2d_53\">\n",
       "      <path clip-path=\"url(#p0bd91ceda3)\" d=\"M 52.375 348.478125 \n",
       "L 284.875 348.478125 \n",
       "\" style=\"fill:none;stroke:#b0b0b0;stroke-linecap:square;stroke-width:0.8;\"/>\n",
       "     </g>\n",
       "     <g id=\"line2d_54\">\n",
       "      <g>\n",
       "       <use style=\"stroke:#000000;stroke-width:0.8;\" x=\"52.375\" xlink:href=\"#m8b78af0631\" y=\"348.478125\"/>\n",
       "      </g>\n",
       "     </g>\n",
       "     <g id=\"text_29\">\n",
       "      <!-- 0 -->\n",
       "      <g transform=\"translate(39.0125 352.277344)scale(0.1 -0.1)\">\n",
       "       <use xlink:href=\"#DejaVuSans-48\"/>\n",
       "      </g>\n",
       "     </g>\n",
       "    </g>\n",
       "    <g id=\"ytick_12\">\n",
       "     <g id=\"line2d_55\">\n",
       "      <path clip-path=\"url(#p0bd91ceda3)\" d=\"M 52.375 310.834162 \n",
       "L 284.875 310.834162 \n",
       "\" style=\"fill:none;stroke:#b0b0b0;stroke-linecap:square;stroke-width:0.8;\"/>\n",
       "     </g>\n",
       "     <g id=\"line2d_56\">\n",
       "      <g>\n",
       "       <use style=\"stroke:#000000;stroke-width:0.8;\" x=\"52.375\" xlink:href=\"#m8b78af0631\" y=\"310.834162\"/>\n",
       "      </g>\n",
       "     </g>\n",
       "     <g id=\"text_30\">\n",
       "      <!-- 100000 -->\n",
       "      <g transform=\"translate(7.2 314.633381)scale(0.1 -0.1)\">\n",
       "       <use xlink:href=\"#DejaVuSans-49\"/>\n",
       "       <use x=\"63.623047\" xlink:href=\"#DejaVuSans-48\"/>\n",
       "       <use x=\"127.246094\" xlink:href=\"#DejaVuSans-48\"/>\n",
       "       <use x=\"190.869141\" xlink:href=\"#DejaVuSans-48\"/>\n",
       "       <use x=\"254.492188\" xlink:href=\"#DejaVuSans-48\"/>\n",
       "       <use x=\"318.115234\" xlink:href=\"#DejaVuSans-48\"/>\n",
       "      </g>\n",
       "     </g>\n",
       "    </g>\n",
       "    <g id=\"ytick_13\">\n",
       "     <g id=\"line2d_57\">\n",
       "      <path clip-path=\"url(#p0bd91ceda3)\" d=\"M 52.375 273.190199 \n",
       "L 284.875 273.190199 \n",
       "\" style=\"fill:none;stroke:#b0b0b0;stroke-linecap:square;stroke-width:0.8;\"/>\n",
       "     </g>\n",
       "     <g id=\"line2d_58\">\n",
       "      <g>\n",
       "       <use style=\"stroke:#000000;stroke-width:0.8;\" x=\"52.375\" xlink:href=\"#m8b78af0631\" y=\"273.190199\"/>\n",
       "      </g>\n",
       "     </g>\n",
       "     <g id=\"text_31\">\n",
       "      <!-- 200000 -->\n",
       "      <g transform=\"translate(7.2 276.989418)scale(0.1 -0.1)\">\n",
       "       <use xlink:href=\"#DejaVuSans-50\"/>\n",
       "       <use x=\"63.623047\" xlink:href=\"#DejaVuSans-48\"/>\n",
       "       <use x=\"127.246094\" xlink:href=\"#DejaVuSans-48\"/>\n",
       "       <use x=\"190.869141\" xlink:href=\"#DejaVuSans-48\"/>\n",
       "       <use x=\"254.492188\" xlink:href=\"#DejaVuSans-48\"/>\n",
       "       <use x=\"318.115234\" xlink:href=\"#DejaVuSans-48\"/>\n",
       "      </g>\n",
       "     </g>\n",
       "    </g>\n",
       "    <g id=\"ytick_14\">\n",
       "     <g id=\"line2d_59\">\n",
       "      <path clip-path=\"url(#p0bd91ceda3)\" d=\"M 52.375 235.546236 \n",
       "L 284.875 235.546236 \n",
       "\" style=\"fill:none;stroke:#b0b0b0;stroke-linecap:square;stroke-width:0.8;\"/>\n",
       "     </g>\n",
       "     <g id=\"line2d_60\">\n",
       "      <g>\n",
       "       <use style=\"stroke:#000000;stroke-width:0.8;\" x=\"52.375\" xlink:href=\"#m8b78af0631\" y=\"235.546236\"/>\n",
       "      </g>\n",
       "     </g>\n",
       "     <g id=\"text_32\">\n",
       "      <!-- 300000 -->\n",
       "      <g transform=\"translate(7.2 239.345455)scale(0.1 -0.1)\">\n",
       "       <defs>\n",
       "        <path d=\"M 40.578125 39.3125 \n",
       "Q 47.65625 37.796875 51.625 33 \n",
       "Q 55.609375 28.21875 55.609375 21.1875 \n",
       "Q 55.609375 10.40625 48.1875 4.484375 \n",
       "Q 40.765625 -1.421875 27.09375 -1.421875 \n",
       "Q 22.515625 -1.421875 17.65625 -0.515625 \n",
       "Q 12.796875 0.390625 7.625 2.203125 \n",
       "L 7.625 11.71875 \n",
       "Q 11.71875 9.328125 16.59375 8.109375 \n",
       "Q 21.484375 6.890625 26.8125 6.890625 \n",
       "Q 36.078125 6.890625 40.9375 10.546875 \n",
       "Q 45.796875 14.203125 45.796875 21.1875 \n",
       "Q 45.796875 27.640625 41.28125 31.265625 \n",
       "Q 36.765625 34.90625 28.71875 34.90625 \n",
       "L 20.21875 34.90625 \n",
       "L 20.21875 43.015625 \n",
       "L 29.109375 43.015625 \n",
       "Q 36.375 43.015625 40.234375 45.921875 \n",
       "Q 44.09375 48.828125 44.09375 54.296875 \n",
       "Q 44.09375 59.90625 40.109375 62.90625 \n",
       "Q 36.140625 65.921875 28.71875 65.921875 \n",
       "Q 24.65625 65.921875 20.015625 65.03125 \n",
       "Q 15.375 64.15625 9.8125 62.3125 \n",
       "L 9.8125 71.09375 \n",
       "Q 15.4375 72.65625 20.34375 73.4375 \n",
       "Q 25.25 74.21875 29.59375 74.21875 \n",
       "Q 40.828125 74.21875 47.359375 69.109375 \n",
       "Q 53.90625 64.015625 53.90625 55.328125 \n",
       "Q 53.90625 49.265625 50.4375 45.09375 \n",
       "Q 46.96875 40.921875 40.578125 39.3125 \n",
       "z\n",
       "\" id=\"DejaVuSans-51\"/>\n",
       "       </defs>\n",
       "       <use xlink:href=\"#DejaVuSans-51\"/>\n",
       "       <use x=\"63.623047\" xlink:href=\"#DejaVuSans-48\"/>\n",
       "       <use x=\"127.246094\" xlink:href=\"#DejaVuSans-48\"/>\n",
       "       <use x=\"190.869141\" xlink:href=\"#DejaVuSans-48\"/>\n",
       "       <use x=\"254.492188\" xlink:href=\"#DejaVuSans-48\"/>\n",
       "       <use x=\"318.115234\" xlink:href=\"#DejaVuSans-48\"/>\n",
       "      </g>\n",
       "     </g>\n",
       "    </g>\n",
       "   </g>\n",
       "   <g id=\"patch_43\">\n",
       "    <path d=\"M 52.375 348.478125 \n",
       "L 52.375 218.014125 \n",
       "\" style=\"fill:none;stroke:#000000;stroke-linecap:square;stroke-linejoin:miter;stroke-width:0.8;\"/>\n",
       "   </g>\n",
       "   <g id=\"patch_44\">\n",
       "    <path d=\"M 284.875 348.478125 \n",
       "L 284.875 218.014125 \n",
       "\" style=\"fill:none;stroke:#000000;stroke-linecap:square;stroke-linejoin:miter;stroke-width:0.8;\"/>\n",
       "   </g>\n",
       "   <g id=\"patch_45\">\n",
       "    <path d=\"M 52.375 348.478125 \n",
       "L 284.875 348.478125 \n",
       "\" style=\"fill:none;stroke:#000000;stroke-linecap:square;stroke-linejoin:miter;stroke-width:0.8;\"/>\n",
       "   </g>\n",
       "   <g id=\"patch_46\">\n",
       "    <path d=\"M 52.375 218.014125 \n",
       "L 284.875 218.014125 \n",
       "\" style=\"fill:none;stroke:#000000;stroke-linecap:square;stroke-linejoin:miter;stroke-width:0.8;\"/>\n",
       "   </g>\n",
       "   <g id=\"text_33\">\n",
       "    <!-- power -->\n",
       "    <g transform=\"translate(150.079375 212.014125)scale(0.12 -0.12)\">\n",
       "     <defs>\n",
       "      <path d=\"M 4.203125 54.6875 \n",
       "L 13.1875 54.6875 \n",
       "L 24.421875 12.015625 \n",
       "L 35.59375 54.6875 \n",
       "L 46.1875 54.6875 \n",
       "L 57.421875 12.015625 \n",
       "L 68.609375 54.6875 \n",
       "L 77.59375 54.6875 \n",
       "L 63.28125 0 \n",
       "L 52.6875 0 \n",
       "L 40.921875 44.828125 \n",
       "L 29.109375 0 \n",
       "L 18.5 0 \n",
       "z\n",
       "\" id=\"DejaVuSans-119\"/>\n",
       "     </defs>\n",
       "     <use xlink:href=\"#DejaVuSans-112\"/>\n",
       "     <use x=\"63.476562\" xlink:href=\"#DejaVuSans-111\"/>\n",
       "     <use x=\"124.658203\" xlink:href=\"#DejaVuSans-119\"/>\n",
       "     <use x=\"206.445312\" xlink:href=\"#DejaVuSans-101\"/>\n",
       "     <use x=\"267.96875\" xlink:href=\"#DejaVuSans-114\"/>\n",
       "    </g>\n",
       "   </g>\n",
       "  </g>\n",
       "  <g id=\"axes_4\">\n",
       "   <g id=\"patch_47\">\n",
       "    <path d=\"M 377.875 348.478125 \n",
       "L 610.375 348.478125 \n",
       "L 610.375 218.014125 \n",
       "L 377.875 218.014125 \n",
       "z\n",
       "\" style=\"fill:#ffffff;\"/>\n",
       "   </g>\n",
       "   <g id=\"patch_48\">\n",
       "    <path clip-path=\"url(#p17314ab9f9)\" d=\"M 388.443182 348.478125 \n",
       "L 409.579545 348.478125 \n",
       "L 409.579545 344.721445 \n",
       "L 388.443182 344.721445 \n",
       "z\n",
       "\" style=\"fill:#1f77b4;\"/>\n",
       "   </g>\n",
       "   <g id=\"patch_49\">\n",
       "    <path clip-path=\"url(#p17314ab9f9)\" d=\"M 409.579545 348.478125 \n",
       "L 430.715909 348.478125 \n",
       "L 430.715909 343.95747 \n",
       "L 409.579545 343.95747 \n",
       "z\n",
       "\" style=\"fill:#1f77b4;\"/>\n",
       "   </g>\n",
       "   <g id=\"patch_50\">\n",
       "    <path clip-path=\"url(#p17314ab9f9)\" d=\"M 430.715909 348.478125 \n",
       "L 451.852273 348.478125 \n",
       "L 451.852273 345.786722 \n",
       "L 430.715909 345.786722 \n",
       "z\n",
       "\" style=\"fill:#1f77b4;\"/>\n",
       "   </g>\n",
       "   <g id=\"patch_51\">\n",
       "    <path clip-path=\"url(#p17314ab9f9)\" d=\"M 451.852273 348.478125 \n",
       "L 472.988636 348.478125 \n",
       "L 472.988636 341.026831 \n",
       "L 451.852273 341.026831 \n",
       "z\n",
       "\" style=\"fill:#1f77b4;\"/>\n",
       "   </g>\n",
       "   <g id=\"patch_52\">\n",
       "    <path clip-path=\"url(#p17314ab9f9)\" d=\"M 472.988636 348.478125 \n",
       "L 494.125 348.478125 \n",
       "L 494.125 343.819232 \n",
       "L 472.988636 343.819232 \n",
       "z\n",
       "\" style=\"fill:#1f77b4;\"/>\n",
       "   </g>\n",
       "   <g id=\"patch_53\">\n",
       "    <path clip-path=\"url(#p17314ab9f9)\" d=\"M 494.125 348.478125 \n",
       "L 515.261364 348.478125 \n",
       "L 515.261364 336.846974 \n",
       "L 494.125 336.846974 \n",
       "z\n",
       "\" style=\"fill:#1f77b4;\"/>\n",
       "   </g>\n",
       "   <g id=\"patch_54\">\n",
       "    <path clip-path=\"url(#p17314ab9f9)\" d=\"M 515.261364 348.478125 \n",
       "L 536.397727 348.478125 \n",
       "L 536.397727 340.503785 \n",
       "L 515.261364 340.503785 \n",
       "z\n",
       "\" style=\"fill:#1f77b4;\"/>\n",
       "   </g>\n",
       "   <g id=\"patch_55\">\n",
       "    <path clip-path=\"url(#p17314ab9f9)\" d=\"M 536.397727 348.478125 \n",
       "L 557.534091 348.478125 \n",
       "L 557.534091 348.478125 \n",
       "L 536.397727 348.478125 \n",
       "z\n",
       "\" style=\"fill:#1f77b4;\"/>\n",
       "   </g>\n",
       "   <g id=\"patch_56\">\n",
       "    <path clip-path=\"url(#p17314ab9f9)\" d=\"M 557.534091 348.478125 \n",
       "L 578.670455 348.478125 \n",
       "L 578.670455 329.118076 \n",
       "L 557.534091 329.118076 \n",
       "z\n",
       "\" style=\"fill:#1f77b4;\"/>\n",
       "   </g>\n",
       "   <g id=\"patch_57\">\n",
       "    <path clip-path=\"url(#p17314ab9f9)\" d=\"M 578.670455 348.478125 \n",
       "L 599.806818 348.478125 \n",
       "L 599.806818 224.226696 \n",
       "L 578.670455 224.226696 \n",
       "z\n",
       "\" style=\"fill:#1f77b4;\"/>\n",
       "   </g>\n",
       "   <g id=\"matplotlib.axis_7\">\n",
       "    <g id=\"xtick_17\">\n",
       "     <g id=\"line2d_61\">\n",
       "      <path clip-path=\"url(#p17314ab9f9)\" d=\"M 381.154781 348.478125 \n",
       "L 381.154781 218.014125 \n",
       "\" style=\"fill:none;stroke:#b0b0b0;stroke-linecap:square;stroke-width:0.8;\"/>\n",
       "     </g>\n",
       "     <g id=\"line2d_62\">\n",
       "      <g>\n",
       "       <use style=\"stroke:#000000;stroke-width:0.8;\" x=\"381.154781\" xlink:href=\"#m16d817c6a7\" y=\"348.478125\"/>\n",
       "      </g>\n",
       "     </g>\n",
       "     <g id=\"text_34\">\n",
       "      <!-- 0 -->\n",
       "      <g transform=\"translate(377.973531 363.076562)scale(0.1 -0.1)\">\n",
       "       <use xlink:href=\"#DejaVuSans-48\"/>\n",
       "      </g>\n",
       "     </g>\n",
       "    </g>\n",
       "    <g id=\"xtick_18\">\n",
       "     <g id=\"line2d_63\">\n",
       "      <path clip-path=\"url(#p17314ab9f9)\" d=\"M 417.596787 348.478125 \n",
       "L 417.596787 218.014125 \n",
       "\" style=\"fill:none;stroke:#b0b0b0;stroke-linecap:square;stroke-width:0.8;\"/>\n",
       "     </g>\n",
       "     <g id=\"line2d_64\">\n",
       "      <g>\n",
       "       <use style=\"stroke:#000000;stroke-width:0.8;\" x=\"417.596787\" xlink:href=\"#m16d817c6a7\" y=\"348.478125\"/>\n",
       "      </g>\n",
       "     </g>\n",
       "     <g id=\"text_35\">\n",
       "      <!-- 25000 -->\n",
       "      <g transform=\"translate(401.690537 363.076562)scale(0.1 -0.1)\">\n",
       "       <use xlink:href=\"#DejaVuSans-50\"/>\n",
       "       <use x=\"63.623047\" xlink:href=\"#DejaVuSans-53\"/>\n",
       "       <use x=\"127.246094\" xlink:href=\"#DejaVuSans-48\"/>\n",
       "       <use x=\"190.869141\" xlink:href=\"#DejaVuSans-48\"/>\n",
       "       <use x=\"254.492188\" xlink:href=\"#DejaVuSans-48\"/>\n",
       "      </g>\n",
       "     </g>\n",
       "    </g>\n",
       "    <g id=\"xtick_19\">\n",
       "     <g id=\"line2d_65\">\n",
       "      <path clip-path=\"url(#p17314ab9f9)\" d=\"M 454.038793 348.478125 \n",
       "L 454.038793 218.014125 \n",
       "\" style=\"fill:none;stroke:#b0b0b0;stroke-linecap:square;stroke-width:0.8;\"/>\n",
       "     </g>\n",
       "     <g id=\"line2d_66\">\n",
       "      <g>\n",
       "       <use style=\"stroke:#000000;stroke-width:0.8;\" x=\"454.038793\" xlink:href=\"#m16d817c6a7\" y=\"348.478125\"/>\n",
       "      </g>\n",
       "     </g>\n",
       "     <g id=\"text_36\">\n",
       "      <!-- 50000 -->\n",
       "      <g transform=\"translate(438.132543 363.076562)scale(0.1 -0.1)\">\n",
       "       <use xlink:href=\"#DejaVuSans-53\"/>\n",
       "       <use x=\"63.623047\" xlink:href=\"#DejaVuSans-48\"/>\n",
       "       <use x=\"127.246094\" xlink:href=\"#DejaVuSans-48\"/>\n",
       "       <use x=\"190.869141\" xlink:href=\"#DejaVuSans-48\"/>\n",
       "       <use x=\"254.492188\" xlink:href=\"#DejaVuSans-48\"/>\n",
       "      </g>\n",
       "     </g>\n",
       "    </g>\n",
       "    <g id=\"xtick_20\">\n",
       "     <g id=\"line2d_67\">\n",
       "      <path clip-path=\"url(#p17314ab9f9)\" d=\"M 490.480799 348.478125 \n",
       "L 490.480799 218.014125 \n",
       "\" style=\"fill:none;stroke:#b0b0b0;stroke-linecap:square;stroke-width:0.8;\"/>\n",
       "     </g>\n",
       "     <g id=\"line2d_68\">\n",
       "      <g>\n",
       "       <use style=\"stroke:#000000;stroke-width:0.8;\" x=\"490.480799\" xlink:href=\"#m16d817c6a7\" y=\"348.478125\"/>\n",
       "      </g>\n",
       "     </g>\n",
       "     <g id=\"text_37\">\n",
       "      <!-- 75000 -->\n",
       "      <g transform=\"translate(474.574549 363.076562)scale(0.1 -0.1)\">\n",
       "       <use xlink:href=\"#DejaVuSans-55\"/>\n",
       "       <use x=\"63.623047\" xlink:href=\"#DejaVuSans-53\"/>\n",
       "       <use x=\"127.246094\" xlink:href=\"#DejaVuSans-48\"/>\n",
       "       <use x=\"190.869141\" xlink:href=\"#DejaVuSans-48\"/>\n",
       "       <use x=\"254.492188\" xlink:href=\"#DejaVuSans-48\"/>\n",
       "      </g>\n",
       "     </g>\n",
       "    </g>\n",
       "    <g id=\"xtick_21\">\n",
       "     <g id=\"line2d_69\">\n",
       "      <path clip-path=\"url(#p17314ab9f9)\" d=\"M 526.922806 348.478125 \n",
       "L 526.922806 218.014125 \n",
       "\" style=\"fill:none;stroke:#b0b0b0;stroke-linecap:square;stroke-width:0.8;\"/>\n",
       "     </g>\n",
       "     <g id=\"line2d_70\">\n",
       "      <g>\n",
       "       <use style=\"stroke:#000000;stroke-width:0.8;\" x=\"526.922806\" xlink:href=\"#m16d817c6a7\" y=\"348.478125\"/>\n",
       "      </g>\n",
       "     </g>\n",
       "     <g id=\"text_38\">\n",
       "      <!-- 100000 -->\n",
       "      <g transform=\"translate(507.835306 363.076562)scale(0.1 -0.1)\">\n",
       "       <use xlink:href=\"#DejaVuSans-49\"/>\n",
       "       <use x=\"63.623047\" xlink:href=\"#DejaVuSans-48\"/>\n",
       "       <use x=\"127.246094\" xlink:href=\"#DejaVuSans-48\"/>\n",
       "       <use x=\"190.869141\" xlink:href=\"#DejaVuSans-48\"/>\n",
       "       <use x=\"254.492188\" xlink:href=\"#DejaVuSans-48\"/>\n",
       "       <use x=\"318.115234\" xlink:href=\"#DejaVuSans-48\"/>\n",
       "      </g>\n",
       "     </g>\n",
       "    </g>\n",
       "    <g id=\"xtick_22\">\n",
       "     <g id=\"line2d_71\">\n",
       "      <path clip-path=\"url(#p17314ab9f9)\" d=\"M 563.364812 348.478125 \n",
       "L 563.364812 218.014125 \n",
       "\" style=\"fill:none;stroke:#b0b0b0;stroke-linecap:square;stroke-width:0.8;\"/>\n",
       "     </g>\n",
       "     <g id=\"line2d_72\">\n",
       "      <g>\n",
       "       <use style=\"stroke:#000000;stroke-width:0.8;\" x=\"563.364812\" xlink:href=\"#m16d817c6a7\" y=\"348.478125\"/>\n",
       "      </g>\n",
       "     </g>\n",
       "     <g id=\"text_39\">\n",
       "      <!-- 125000 -->\n",
       "      <g transform=\"translate(544.277312 363.076562)scale(0.1 -0.1)\">\n",
       "       <use xlink:href=\"#DejaVuSans-49\"/>\n",
       "       <use x=\"63.623047\" xlink:href=\"#DejaVuSans-50\"/>\n",
       "       <use x=\"127.246094\" xlink:href=\"#DejaVuSans-53\"/>\n",
       "       <use x=\"190.869141\" xlink:href=\"#DejaVuSans-48\"/>\n",
       "       <use x=\"254.492188\" xlink:href=\"#DejaVuSans-48\"/>\n",
       "       <use x=\"318.115234\" xlink:href=\"#DejaVuSans-48\"/>\n",
       "      </g>\n",
       "     </g>\n",
       "    </g>\n",
       "    <g id=\"xtick_23\">\n",
       "     <g id=\"line2d_73\">\n",
       "      <path clip-path=\"url(#p17314ab9f9)\" d=\"M 599.806818 348.478125 \n",
       "L 599.806818 218.014125 \n",
       "\" style=\"fill:none;stroke:#b0b0b0;stroke-linecap:square;stroke-width:0.8;\"/>\n",
       "     </g>\n",
       "     <g id=\"line2d_74\">\n",
       "      <g>\n",
       "       <use style=\"stroke:#000000;stroke-width:0.8;\" x=\"599.806818\" xlink:href=\"#m16d817c6a7\" y=\"348.478125\"/>\n",
       "      </g>\n",
       "     </g>\n",
       "     <g id=\"text_40\">\n",
       "      <!-- 150000 -->\n",
       "      <g transform=\"translate(580.719318 363.076562)scale(0.1 -0.1)\">\n",
       "       <use xlink:href=\"#DejaVuSans-49\"/>\n",
       "       <use x=\"63.623047\" xlink:href=\"#DejaVuSans-53\"/>\n",
       "       <use x=\"127.246094\" xlink:href=\"#DejaVuSans-48\"/>\n",
       "       <use x=\"190.869141\" xlink:href=\"#DejaVuSans-48\"/>\n",
       "       <use x=\"254.492188\" xlink:href=\"#DejaVuSans-48\"/>\n",
       "       <use x=\"318.115234\" xlink:href=\"#DejaVuSans-48\"/>\n",
       "      </g>\n",
       "     </g>\n",
       "    </g>\n",
       "   </g>\n",
       "   <g id=\"matplotlib.axis_8\">\n",
       "    <g id=\"ytick_15\">\n",
       "     <g id=\"line2d_75\">\n",
       "      <path clip-path=\"url(#p17314ab9f9)\" d=\"M 377.875 348.478125 \n",
       "L 610.375 348.478125 \n",
       "\" style=\"fill:none;stroke:#b0b0b0;stroke-linecap:square;stroke-width:0.8;\"/>\n",
       "     </g>\n",
       "     <g id=\"line2d_76\">\n",
       "      <g>\n",
       "       <use style=\"stroke:#000000;stroke-width:0.8;\" x=\"377.875\" xlink:href=\"#m8b78af0631\" y=\"348.478125\"/>\n",
       "      </g>\n",
       "     </g>\n",
       "     <g id=\"text_41\">\n",
       "      <!-- 0 -->\n",
       "      <g transform=\"translate(364.5125 352.277344)scale(0.1 -0.1)\">\n",
       "       <use xlink:href=\"#DejaVuSans-48\"/>\n",
       "      </g>\n",
       "     </g>\n",
       "    </g>\n",
       "    <g id=\"ytick_16\">\n",
       "     <g id=\"line2d_77\">\n",
       "      <path clip-path=\"url(#p17314ab9f9)\" d=\"M 377.875 320.26635 \n",
       "L 610.375 320.26635 \n",
       "\" style=\"fill:none;stroke:#b0b0b0;stroke-linecap:square;stroke-width:0.8;\"/>\n",
       "     </g>\n",
       "     <g id=\"line2d_78\">\n",
       "      <g>\n",
       "       <use style=\"stroke:#000000;stroke-width:0.8;\" x=\"377.875\" xlink:href=\"#m8b78af0631\" y=\"320.26635\"/>\n",
       "      </g>\n",
       "     </g>\n",
       "     <g id=\"text_42\">\n",
       "      <!-- 50000 -->\n",
       "      <g transform=\"translate(339.0625 324.065569)scale(0.1 -0.1)\">\n",
       "       <use xlink:href=\"#DejaVuSans-53\"/>\n",
       "       <use x=\"63.623047\" xlink:href=\"#DejaVuSans-48\"/>\n",
       "       <use x=\"127.246094\" xlink:href=\"#DejaVuSans-48\"/>\n",
       "       <use x=\"190.869141\" xlink:href=\"#DejaVuSans-48\"/>\n",
       "       <use x=\"254.492188\" xlink:href=\"#DejaVuSans-48\"/>\n",
       "      </g>\n",
       "     </g>\n",
       "    </g>\n",
       "    <g id=\"ytick_17\">\n",
       "     <g id=\"line2d_79\">\n",
       "      <path clip-path=\"url(#p17314ab9f9)\" d=\"M 377.875 292.054575 \n",
       "L 610.375 292.054575 \n",
       "\" style=\"fill:none;stroke:#b0b0b0;stroke-linecap:square;stroke-width:0.8;\"/>\n",
       "     </g>\n",
       "     <g id=\"line2d_80\">\n",
       "      <g>\n",
       "       <use style=\"stroke:#000000;stroke-width:0.8;\" x=\"377.875\" xlink:href=\"#m8b78af0631\" y=\"292.054575\"/>\n",
       "      </g>\n",
       "     </g>\n",
       "     <g id=\"text_43\">\n",
       "      <!-- 100000 -->\n",
       "      <g transform=\"translate(332.7 295.853793)scale(0.1 -0.1)\">\n",
       "       <use xlink:href=\"#DejaVuSans-49\"/>\n",
       "       <use x=\"63.623047\" xlink:href=\"#DejaVuSans-48\"/>\n",
       "       <use x=\"127.246094\" xlink:href=\"#DejaVuSans-48\"/>\n",
       "       <use x=\"190.869141\" xlink:href=\"#DejaVuSans-48\"/>\n",
       "       <use x=\"254.492188\" xlink:href=\"#DejaVuSans-48\"/>\n",
       "       <use x=\"318.115234\" xlink:href=\"#DejaVuSans-48\"/>\n",
       "      </g>\n",
       "     </g>\n",
       "    </g>\n",
       "    <g id=\"ytick_18\">\n",
       "     <g id=\"line2d_81\">\n",
       "      <path clip-path=\"url(#p17314ab9f9)\" d=\"M 377.875 263.8428 \n",
       "L 610.375 263.8428 \n",
       "\" style=\"fill:none;stroke:#b0b0b0;stroke-linecap:square;stroke-width:0.8;\"/>\n",
       "     </g>\n",
       "     <g id=\"line2d_82\">\n",
       "      <g>\n",
       "       <use style=\"stroke:#000000;stroke-width:0.8;\" x=\"377.875\" xlink:href=\"#m8b78af0631\" y=\"263.8428\"/>\n",
       "      </g>\n",
       "     </g>\n",
       "     <g id=\"text_44\">\n",
       "      <!-- 150000 -->\n",
       "      <g transform=\"translate(332.7 267.642018)scale(0.1 -0.1)\">\n",
       "       <use xlink:href=\"#DejaVuSans-49\"/>\n",
       "       <use x=\"63.623047\" xlink:href=\"#DejaVuSans-53\"/>\n",
       "       <use x=\"127.246094\" xlink:href=\"#DejaVuSans-48\"/>\n",
       "       <use x=\"190.869141\" xlink:href=\"#DejaVuSans-48\"/>\n",
       "       <use x=\"254.492188\" xlink:href=\"#DejaVuSans-48\"/>\n",
       "       <use x=\"318.115234\" xlink:href=\"#DejaVuSans-48\"/>\n",
       "      </g>\n",
       "     </g>\n",
       "    </g>\n",
       "    <g id=\"ytick_19\">\n",
       "     <g id=\"line2d_83\">\n",
       "      <path clip-path=\"url(#p17314ab9f9)\" d=\"M 377.875 235.631024 \n",
       "L 610.375 235.631024 \n",
       "\" style=\"fill:none;stroke:#b0b0b0;stroke-linecap:square;stroke-width:0.8;\"/>\n",
       "     </g>\n",
       "     <g id=\"line2d_84\">\n",
       "      <g>\n",
       "       <use style=\"stroke:#000000;stroke-width:0.8;\" x=\"377.875\" xlink:href=\"#m8b78af0631\" y=\"235.631024\"/>\n",
       "      </g>\n",
       "     </g>\n",
       "     <g id=\"text_45\">\n",
       "      <!-- 200000 -->\n",
       "      <g transform=\"translate(332.7 239.430243)scale(0.1 -0.1)\">\n",
       "       <use xlink:href=\"#DejaVuSans-50\"/>\n",
       "       <use x=\"63.623047\" xlink:href=\"#DejaVuSans-48\"/>\n",
       "       <use x=\"127.246094\" xlink:href=\"#DejaVuSans-48\"/>\n",
       "       <use x=\"190.869141\" xlink:href=\"#DejaVuSans-48\"/>\n",
       "       <use x=\"254.492188\" xlink:href=\"#DejaVuSans-48\"/>\n",
       "       <use x=\"318.115234\" xlink:href=\"#DejaVuSans-48\"/>\n",
       "      </g>\n",
       "     </g>\n",
       "    </g>\n",
       "   </g>\n",
       "   <g id=\"patch_58\">\n",
       "    <path d=\"M 377.875 348.478125 \n",
       "L 377.875 218.014125 \n",
       "\" style=\"fill:none;stroke:#000000;stroke-linecap:square;stroke-linejoin:miter;stroke-width:0.8;\"/>\n",
       "   </g>\n",
       "   <g id=\"patch_59\">\n",
       "    <path d=\"M 610.375 348.478125 \n",
       "L 610.375 218.014125 \n",
       "\" style=\"fill:none;stroke:#000000;stroke-linecap:square;stroke-linejoin:miter;stroke-width:0.8;\"/>\n",
       "   </g>\n",
       "   <g id=\"patch_60\">\n",
       "    <path d=\"M 377.875 348.478125 \n",
       "L 610.375 348.478125 \n",
       "\" style=\"fill:none;stroke:#000000;stroke-linecap:square;stroke-linejoin:miter;stroke-width:0.8;\"/>\n",
       "   </g>\n",
       "   <g id=\"patch_61\">\n",
       "    <path d=\"M 377.875 218.014125 \n",
       "L 610.375 218.014125 \n",
       "\" style=\"fill:none;stroke:#000000;stroke-linecap:square;stroke-linejoin:miter;stroke-width:0.8;\"/>\n",
       "   </g>\n",
       "   <g id=\"text_46\">\n",
       "    <!-- kilometer -->\n",
       "    <g transform=\"translate(465.59875 212.014125)scale(0.12 -0.12)\">\n",
       "     <defs>\n",
       "      <path d=\"M 9.078125 75.984375 \n",
       "L 18.109375 75.984375 \n",
       "L 18.109375 31.109375 \n",
       "L 44.921875 54.6875 \n",
       "L 56.390625 54.6875 \n",
       "L 27.390625 29.109375 \n",
       "L 57.625 0 \n",
       "L 45.90625 0 \n",
       "L 18.109375 26.703125 \n",
       "L 18.109375 0 \n",
       "L 9.078125 0 \n",
       "z\n",
       "\" id=\"DejaVuSans-107\"/>\n",
       "      <path d=\"M 9.421875 75.984375 \n",
       "L 18.40625 75.984375 \n",
       "L 18.40625 0 \n",
       "L 9.421875 0 \n",
       "z\n",
       "\" id=\"DejaVuSans-108\"/>\n",
       "      <path d=\"M 52 44.1875 \n",
       "Q 55.375 50.25 60.0625 53.125 \n",
       "Q 64.75 56 71.09375 56 \n",
       "Q 79.640625 56 84.28125 50.015625 \n",
       "Q 88.921875 44.046875 88.921875 33.015625 \n",
       "L 88.921875 0 \n",
       "L 79.890625 0 \n",
       "L 79.890625 32.71875 \n",
       "Q 79.890625 40.578125 77.09375 44.375 \n",
       "Q 74.3125 48.1875 68.609375 48.1875 \n",
       "Q 61.625 48.1875 57.5625 43.546875 \n",
       "Q 53.515625 38.921875 53.515625 30.90625 \n",
       "L 53.515625 0 \n",
       "L 44.484375 0 \n",
       "L 44.484375 32.71875 \n",
       "Q 44.484375 40.625 41.703125 44.40625 \n",
       "Q 38.921875 48.1875 33.109375 48.1875 \n",
       "Q 26.21875 48.1875 22.15625 43.53125 \n",
       "Q 18.109375 38.875 18.109375 30.90625 \n",
       "L 18.109375 0 \n",
       "L 9.078125 0 \n",
       "L 9.078125 54.6875 \n",
       "L 18.109375 54.6875 \n",
       "L 18.109375 46.1875 \n",
       "Q 21.1875 51.21875 25.484375 53.609375 \n",
       "Q 29.78125 56 35.6875 56 \n",
       "Q 41.65625 56 45.828125 52.96875 \n",
       "Q 50 49.953125 52 44.1875 \n",
       "z\n",
       "\" id=\"DejaVuSans-109\"/>\n",
       "     </defs>\n",
       "     <use xlink:href=\"#DejaVuSans-107\"/>\n",
       "     <use x=\"57.910156\" xlink:href=\"#DejaVuSans-105\"/>\n",
       "     <use x=\"85.693359\" xlink:href=\"#DejaVuSans-108\"/>\n",
       "     <use x=\"113.476562\" xlink:href=\"#DejaVuSans-111\"/>\n",
       "     <use x=\"174.658203\" xlink:href=\"#DejaVuSans-109\"/>\n",
       "     <use x=\"272.070312\" xlink:href=\"#DejaVuSans-101\"/>\n",
       "     <use x=\"333.59375\" xlink:href=\"#DejaVuSans-116\"/>\n",
       "     <use x=\"372.802734\" xlink:href=\"#DejaVuSans-101\"/>\n",
       "     <use x=\"434.326172\" xlink:href=\"#DejaVuSans-114\"/>\n",
       "    </g>\n",
       "   </g>\n",
       "  </g>\n",
       " </g>\n",
       " <defs>\n",
       "  <clipPath id=\"p2279adec04\">\n",
       "   <rect height=\"130.464\" width=\"232.5\" x=\"52.375\" y=\"22.318125\"/>\n",
       "  </clipPath>\n",
       "  <clipPath id=\"p72bfa89896\">\n",
       "   <rect height=\"130.464\" width=\"232.5\" x=\"377.875\" y=\"22.318125\"/>\n",
       "  </clipPath>\n",
       "  <clipPath id=\"p0bd91ceda3\">\n",
       "   <rect height=\"130.464\" width=\"232.5\" x=\"52.375\" y=\"218.014125\"/>\n",
       "  </clipPath>\n",
       "  <clipPath id=\"p17314ab9f9\">\n",
       "   <rect height=\"130.464\" width=\"232.5\" x=\"377.875\" y=\"218.014125\"/>\n",
       "  </clipPath>\n",
       " </defs>\n",
       "</svg>\n"
      ],
      "text/plain": [
       "<Figure size 800x480 with 4 Axes>"
      ]
     },
     "metadata": {
      "needs_background": "light"
     },
     "output_type": "display_data"
    }
   ],
   "source": [
    "# Проверка изменений\n",
    "data.hist() \n",
    "plt.subplots_adjust(wspace=.4, hspace=.5)\n",
    "\n",
    "data.describe() \n"
   ]
  },
  {
   "cell_type": "code",
   "execution_count": 24,
   "metadata": {
    "scrolled": true
   },
   "outputs": [
    {
     "name": "stdout",
     "output_type": "stream",
     "text": [
      "Уникальные значения признака \"vehicle_type\": ['no_value' 'coupe' 'suv' 'small' 'sedan' 'convertible' 'bus' 'wagon']\n",
      "Всего унимальных значений признака \"vehicle_type\": 8\n",
      "\n",
      "Уникальные значения признака \"gearbox\": ['manual' 'auto' 'no_value']\n",
      "Всего унимальных значений признака \"gearbox\": 3\n",
      "\n",
      "Уникальные значения признака \"model\": ['golf' 'no_value' 'grand' 'fabia' '3er' '2_reihe' 'c_max' '3_reihe'\n",
      " 'passat' 'navara' 'ka' 'twingo' 'a_klasse' 'scirocco' '5er' 'arosa'\n",
      " 'civic' 'transporter' 'punto' 'e_klasse' 'corsa' 'one' 'fortwo' 'clio'\n",
      " '1er' 'b_klasse' 'signum' 'astra' 'a8' 'jetta' 'polo' 'fiesta' 'c_klasse'\n",
      " 'micra' 'sprinter' '156' 'escort' 'forester' 'xc_reihe' 'scenic' 'a4'\n",
      " 'a1' 'insignia' 'combo' 'focus' 'tt' 'a6' 'jazz' 'omega' 'slk' '7er' '80'\n",
      " '147' '100' 'meriva' 'z_reihe' 'sorento' 'v40' 'ibiza' 'mustang' 'eos'\n",
      " 'vito' 'touran' 'getz' 'a3' 'megane' 'lupo' 'r19' 'caddy' 'mondeo'\n",
      " 'cordoba' 'colt' 'impreza' 'vectra' 'berlingo' 'tiguan' 'sharan'\n",
      " '6_reihe' 'c4' 'panda' 'up' 'i_reihe' 'ceed' 'kangoo' '5_reihe' 'yeti'\n",
      " 'octavia' 'zafira' 'mii' 'rx_reihe' '6er' 'fox' 'matiz' 'beetle' 'rio'\n",
      " 'touareg' 'logan' 'spider' 'cuore' 's_max' 'modus' 'a2' 'galaxy' 'c3'\n",
      " 'viano' 's_klasse' '1_reihe' 'avensis' 'roomster' 'sl' 'kaefer' 'santa'\n",
      " 'cooper' 'leon' '4_reihe' 'a5' 'sportage' 'laguna' 'ptcruiser' 'clk'\n",
      " 'primera' 'espace' 'x_reihe' 'exeo' '159' 'transit' 'juke' 'qashqai'\n",
      " 'carisma' 'accord' 'corolla' 'lanos' 'phaeton' 'verso' 'swift' 'rav'\n",
      " 'picanto' 'boxster' 'kalos' 'superb' 'stilo' 'alhambra' 'mx_reihe'\n",
      " 'roadster' 'ypsilon' 'cayenne' 'galant' 'justy' '90' 'sirion' 'crossfire'\n",
      " 'agila' 'duster' 'v50' '500' 'c_reihe' 'v_klasse' 'm_klasse' 'yaris' 'c5'\n",
      " 'aygo' 'almera' 'seicento' 'cc' 'fusion' '911' 'bora' 'forfour' 'm_reihe'\n",
      " 'cl' 'tigra' '300c' 'cr_reihe' 'spark' 'v70' 'kuga' 'x_type' 'ducato'\n",
      " 's_type' 'x_trail' 'toledo' 'altea' 'voyager' 'calibra' 'carnival'\n",
      " 'bravo' 'antara' 'tucson' 'c1' 'kadett' 'citigo' 'jimny' 'wrangler'\n",
      " 'lybra' 'q7' 'lancer' 'captiva' 'discovery' 'freelander' 'sandero' 'note'\n",
      " '900' 'cherokee' 'clubman' 'samara' 'defender' 'cx_reihe' 'legacy' '601'\n",
      " 'pajero' 'c2' 'niva' 's60' 'nubira' 'vivaro' 'g_klasse' 'auris' 'lodgy'\n",
      " '850' 'range_rover' 'q3' 'glk' 'charade' 'croma' 'outlander' 'doblo'\n",
      " 'musa' 'move' '9000' 'v60' '145' '200' 'b_max' 'range_rover_sport' 'aveo'\n",
      " 'terios' 'q5' 'range_rover_evoque' 'materia' 'delta' 'gl' 'serie_2'\n",
      " 'kalina' 'elefantino' 'i3' 'amarok' 'kappa' 'serie_3' 'serie_1']\n",
      "Всего унимальных значений признака \"model\": 249\n",
      "\n",
      "Уникальные значения признака \"fuel_type\": ['petrol' 'gasoline' 'no_value' 'lpg' 'cng' 'electric' 'hybrid']\n",
      "Всего унимальных значений признака \"fuel_type\": 7\n",
      "\n",
      "Уникальные значения признака \"brand\": ['volkswagen' 'audi' 'jeep' 'skoda' 'bmw' 'peugeot' 'ford' 'mazda'\n",
      " 'nissan' 'renault' 'mercedes_benz' 'seat' 'honda' 'fiat' 'opel' 'mini'\n",
      " 'smart' 'sonstige_autos' 'alfa_romeo' 'subaru' 'volvo' 'mitsubishi' 'kia'\n",
      " 'hyundai' 'suzuki' 'lancia' 'citroen' 'toyota' 'chevrolet' 'dacia'\n",
      " 'daihatsu' 'trabant' 'saab' 'chrysler' 'jaguar' 'daewoo' 'porsche'\n",
      " 'rover' 'land_rover' 'lada']\n",
      "Всего унимальных значений признака \"brand\": 40\n",
      "\n",
      "Уникальные значения признака \"repaired\": ['no_value' 'yes' 'no']\n",
      "Всего унимальных значений признака \"repaired\": 3\n",
      "\n"
     ]
    }
   ],
   "source": [
    "# Анализ уникальных значений \n",
    "# категориальных текстовых признаков\n",
    "for i in data.select_dtypes(include='object').columns: \n",
    "    print(f'Уникальные значения признака \"{i}\":', data[i].unique()) \n",
    "    print(f'Всего унимальных значений признака \"{i}\":', len(data[i].unique())) \n",
    "    print() \n"
   ]
  },
  {
   "cell_type": "code",
   "execution_count": 25,
   "metadata": {},
   "outputs": [
    {
     "name": "stdout",
     "output_type": "stream",
     "text": [
      "Всего удалённо объектов: 24195\n",
      "Доля удалённых объектов: 6.827628827578036%\n"
     ]
    }
   ],
   "source": [
    "# Анализ количества \n",
    "# удалённых объектов\n",
    "print('Всего удалённо объектов:', data_shape - data.shape[0]) \n",
    "print(f'Доля удалённых объектов: {(1 - data.shape[0] / data_shape)*100}%') \n"
   ]
  },
  {
   "cell_type": "code",
   "execution_count": 26,
   "metadata": {
    "scrolled": false
   },
   "outputs": [
    {
     "data": {
      "text/html": [
       "<div>\n",
       "<style scoped>\n",
       "    .dataframe tbody tr th:only-of-type {\n",
       "        vertical-align: middle;\n",
       "    }\n",
       "\n",
       "    .dataframe tbody tr th {\n",
       "        vertical-align: top;\n",
       "    }\n",
       "\n",
       "    .dataframe thead th {\n",
       "        text-align: right;\n",
       "    }\n",
       "</style>\n",
       "<table border=\"1\" class=\"dataframe\">\n",
       "  <thead>\n",
       "    <tr style=\"text-align: right;\">\n",
       "      <th></th>\n",
       "      <th>price</th>\n",
       "      <th>registration_year</th>\n",
       "      <th>power</th>\n",
       "      <th>kilometer</th>\n",
       "    </tr>\n",
       "  </thead>\n",
       "  <tbody>\n",
       "    <tr>\n",
       "      <th>price</th>\n",
       "      <td>1.000000</td>\n",
       "      <td>0.490673</td>\n",
       "      <td>0.164822</td>\n",
       "      <td>-0.336981</td>\n",
       "    </tr>\n",
       "    <tr>\n",
       "      <th>registration_year</th>\n",
       "      <td>0.490673</td>\n",
       "      <td>1.000000</td>\n",
       "      <td>0.067158</td>\n",
       "      <td>-0.220855</td>\n",
       "    </tr>\n",
       "    <tr>\n",
       "      <th>power</th>\n",
       "      <td>0.164822</td>\n",
       "      <td>0.067158</td>\n",
       "      <td>1.000000</td>\n",
       "      <td>0.027308</td>\n",
       "    </tr>\n",
       "    <tr>\n",
       "      <th>kilometer</th>\n",
       "      <td>-0.336981</td>\n",
       "      <td>-0.220855</td>\n",
       "      <td>0.027308</td>\n",
       "      <td>1.000000</td>\n",
       "    </tr>\n",
       "  </tbody>\n",
       "</table>\n",
       "</div>"
      ],
      "text/plain": [
       "                      price  registration_year     power  kilometer\n",
       "price              1.000000           0.490673  0.164822  -0.336981\n",
       "registration_year  0.490673           1.000000  0.067158  -0.220855\n",
       "power              0.164822           0.067158  1.000000   0.027308\n",
       "kilometer         -0.336981          -0.220855  0.027308   1.000000"
      ]
     },
     "execution_count": 26,
     "metadata": {},
     "output_type": "execute_result"
    }
   ],
   "source": [
    "# Анализ коррляции признаков \n",
    "# после предобработки данных\n",
    "data.corr()\n"
   ]
  },
  {
   "cell_type": "code",
   "execution_count": 27,
   "metadata": {
    "scrolled": false
   },
   "outputs": [
    {
     "name": "stdout",
     "output_type": "stream",
     "text": [
      "interval columns not set, guessing: ['price', 'registration_year', 'power', 'kilometer']\n"
     ]
    },
    {
     "data": {
      "text/html": [
       "<div>\n",
       "<style scoped>\n",
       "    .dataframe tbody tr th:only-of-type {\n",
       "        vertical-align: middle;\n",
       "    }\n",
       "\n",
       "    .dataframe tbody tr th {\n",
       "        vertical-align: top;\n",
       "    }\n",
       "\n",
       "    .dataframe thead th {\n",
       "        text-align: right;\n",
       "    }\n",
       "</style>\n",
       "<table border=\"1\" class=\"dataframe\">\n",
       "  <thead>\n",
       "    <tr style=\"text-align: right;\">\n",
       "      <th></th>\n",
       "      <th>price</th>\n",
       "      <th>vehicle_type</th>\n",
       "      <th>registration_year</th>\n",
       "      <th>gearbox</th>\n",
       "      <th>power</th>\n",
       "      <th>model</th>\n",
       "      <th>kilometer</th>\n",
       "      <th>fuel_type</th>\n",
       "      <th>brand</th>\n",
       "      <th>repaired</th>\n",
       "    </tr>\n",
       "  </thead>\n",
       "  <tbody>\n",
       "    <tr>\n",
       "      <th>price</th>\n",
       "      <td>1.000000</td>\n",
       "      <td>0.276073</td>\n",
       "      <td>0.609296</td>\n",
       "      <td>0.305974</td>\n",
       "      <td>0.005928</td>\n",
       "      <td>0.567335</td>\n",
       "      <td>0.311190</td>\n",
       "      <td>0.263280</td>\n",
       "      <td>0.356071</td>\n",
       "      <td>0.366852</td>\n",
       "    </tr>\n",
       "    <tr>\n",
       "      <th>vehicle_type</th>\n",
       "      <td>0.276073</td>\n",
       "      <td>1.000000</td>\n",
       "      <td>0.209775</td>\n",
       "      <td>0.336422</td>\n",
       "      <td>0.005379</td>\n",
       "      <td>0.942273</td>\n",
       "      <td>0.164271</td>\n",
       "      <td>0.573069</td>\n",
       "      <td>0.644883</td>\n",
       "      <td>0.207384</td>\n",
       "    </tr>\n",
       "    <tr>\n",
       "      <th>registration_year</th>\n",
       "      <td>0.609296</td>\n",
       "      <td>0.209775</td>\n",
       "      <td>1.000000</td>\n",
       "      <td>0.146034</td>\n",
       "      <td>0.000000</td>\n",
       "      <td>0.574288</td>\n",
       "      <td>0.307834</td>\n",
       "      <td>0.274391</td>\n",
       "      <td>0.356596</td>\n",
       "      <td>0.235890</td>\n",
       "    </tr>\n",
       "    <tr>\n",
       "      <th>gearbox</th>\n",
       "      <td>0.305974</td>\n",
       "      <td>0.336422</td>\n",
       "      <td>0.146034</td>\n",
       "      <td>1.000000</td>\n",
       "      <td>0.008489</td>\n",
       "      <td>0.626205</td>\n",
       "      <td>0.070258</td>\n",
       "      <td>0.282519</td>\n",
       "      <td>0.523394</td>\n",
       "      <td>0.482828</td>\n",
       "    </tr>\n",
       "    <tr>\n",
       "      <th>power</th>\n",
       "      <td>0.005928</td>\n",
       "      <td>0.005379</td>\n",
       "      <td>0.000000</td>\n",
       "      <td>0.008489</td>\n",
       "      <td>1.000000</td>\n",
       "      <td>0.000000</td>\n",
       "      <td>0.000000</td>\n",
       "      <td>0.000000</td>\n",
       "      <td>0.002184</td>\n",
       "      <td>0.013631</td>\n",
       "    </tr>\n",
       "    <tr>\n",
       "      <th>model</th>\n",
       "      <td>0.567335</td>\n",
       "      <td>0.942273</td>\n",
       "      <td>0.574288</td>\n",
       "      <td>0.626205</td>\n",
       "      <td>0.000000</td>\n",
       "      <td>1.000000</td>\n",
       "      <td>0.437192</td>\n",
       "      <td>0.711109</td>\n",
       "      <td>0.997654</td>\n",
       "      <td>0.281206</td>\n",
       "    </tr>\n",
       "    <tr>\n",
       "      <th>kilometer</th>\n",
       "      <td>0.311190</td>\n",
       "      <td>0.164271</td>\n",
       "      <td>0.307834</td>\n",
       "      <td>0.070258</td>\n",
       "      <td>0.000000</td>\n",
       "      <td>0.437192</td>\n",
       "      <td>1.000000</td>\n",
       "      <td>0.137378</td>\n",
       "      <td>0.276410</td>\n",
       "      <td>0.226748</td>\n",
       "    </tr>\n",
       "    <tr>\n",
       "      <th>fuel_type</th>\n",
       "      <td>0.263280</td>\n",
       "      <td>0.573069</td>\n",
       "      <td>0.274391</td>\n",
       "      <td>0.282519</td>\n",
       "      <td>0.000000</td>\n",
       "      <td>0.711109</td>\n",
       "      <td>0.137378</td>\n",
       "      <td>1.000000</td>\n",
       "      <td>0.355297</td>\n",
       "      <td>0.194107</td>\n",
       "    </tr>\n",
       "    <tr>\n",
       "      <th>brand</th>\n",
       "      <td>0.356071</td>\n",
       "      <td>0.644883</td>\n",
       "      <td>0.356596</td>\n",
       "      <td>0.523394</td>\n",
       "      <td>0.002184</td>\n",
       "      <td>0.997654</td>\n",
       "      <td>0.276410</td>\n",
       "      <td>0.355297</td>\n",
       "      <td>1.000000</td>\n",
       "      <td>0.164810</td>\n",
       "    </tr>\n",
       "    <tr>\n",
       "      <th>repaired</th>\n",
       "      <td>0.366852</td>\n",
       "      <td>0.207384</td>\n",
       "      <td>0.235890</td>\n",
       "      <td>0.482828</td>\n",
       "      <td>0.013631</td>\n",
       "      <td>0.281206</td>\n",
       "      <td>0.226748</td>\n",
       "      <td>0.194107</td>\n",
       "      <td>0.164810</td>\n",
       "      <td>1.000000</td>\n",
       "    </tr>\n",
       "  </tbody>\n",
       "</table>\n",
       "</div>"
      ],
      "text/plain": [
       "                      price  vehicle_type  registration_year   gearbox  \\\n",
       "price              1.000000      0.276073           0.609296  0.305974   \n",
       "vehicle_type       0.276073      1.000000           0.209775  0.336422   \n",
       "registration_year  0.609296      0.209775           1.000000  0.146034   \n",
       "gearbox            0.305974      0.336422           0.146034  1.000000   \n",
       "power              0.005928      0.005379           0.000000  0.008489   \n",
       "model              0.567335      0.942273           0.574288  0.626205   \n",
       "kilometer          0.311190      0.164271           0.307834  0.070258   \n",
       "fuel_type          0.263280      0.573069           0.274391  0.282519   \n",
       "brand              0.356071      0.644883           0.356596  0.523394   \n",
       "repaired           0.366852      0.207384           0.235890  0.482828   \n",
       "\n",
       "                      power     model  kilometer  fuel_type     brand  \\\n",
       "price              0.005928  0.567335   0.311190   0.263280  0.356071   \n",
       "vehicle_type       0.005379  0.942273   0.164271   0.573069  0.644883   \n",
       "registration_year  0.000000  0.574288   0.307834   0.274391  0.356596   \n",
       "gearbox            0.008489  0.626205   0.070258   0.282519  0.523394   \n",
       "power              1.000000  0.000000   0.000000   0.000000  0.002184   \n",
       "model              0.000000  1.000000   0.437192   0.711109  0.997654   \n",
       "kilometer          0.000000  0.437192   1.000000   0.137378  0.276410   \n",
       "fuel_type          0.000000  0.711109   0.137378   1.000000  0.355297   \n",
       "brand              0.002184  0.997654   0.276410   0.355297  1.000000   \n",
       "repaired           0.013631  0.281206   0.226748   0.194107  0.164810   \n",
       "\n",
       "                   repaired  \n",
       "price              0.366852  \n",
       "vehicle_type       0.207384  \n",
       "registration_year  0.235890  \n",
       "gearbox            0.482828  \n",
       "power              0.013631  \n",
       "model              0.281206  \n",
       "kilometer          0.226748  \n",
       "fuel_type          0.194107  \n",
       "brand              0.164810  \n",
       "repaired           1.000000  "
      ]
     },
     "execution_count": 27,
     "metadata": {},
     "output_type": "execute_result"
    }
   ],
   "source": [
    "# Анализ коррляции признаков \n",
    "# после предобработки данных\n",
    "data.phik_matrix()\n"
   ]
  },
  {
   "cell_type": "markdown",
   "metadata": {},
   "source": [
    "**Выводы из преварительной добработки данных**\n",
    "\n",
    "Датафрейм был успешно оптимизирован и подготовлен к использованию в машинном обучении:\n",
    "1. Все неопределенные значения во всех признаках заменены на `no_value`.\n",
    "1. Удалены неинформативные признаки `DateCrawled`, `RegistrationMonth`, `DateCreated`, `NumberOfPictures`, `PostalCode`, `LastSeen`.\n",
    "1. Удален 171 объект с датой регистрации автомобиля в признаке `RegistrationYear` меньше 1900 года и старше 2023 года.\n",
    "1. Заменены значения признака `Power` с мощностью двигателя менее 0.75 л.с. и более 5000 на медианные значения групп `Brand` + `Model`.\n",
    "1. Изменены неявно совпадающие значения `range_rover` и `rangerover` признака `Model` на значение `range_rover`. \n",
    "1. Названия признаков приведены к \"змеиному\" стилю.\n",
    "\n",
    "После предвартиельной обработки данных все числовые признаки имеют среднюю и слабую корреляцию между собой и с целевым признаком. Наибольшей прямой корреляцией с целевым признаком обладает признак `registration_year`, а обратной корреляцией `kilometer`. После предварительной обработки данных стало очевидным то, что требуется все категориальные признаки кодировать с помощью технологии One Hot Encoding."
   ]
  },
  {
   "cell_type": "markdown",
   "metadata": {},
   "source": [
    "## Обучение моделей"
   ]
  },
  {
   "cell_type": "markdown",
   "metadata": {},
   "source": [
    "### Полезные функции подготовки данных и подбора моделей и их параметров"
   ]
  },
  {
   "cell_type": "code",
   "execution_count": 28,
   "metadata": {},
   "outputs": [],
   "source": [
    "# Функция для кодирования категориальных текстовых признаков\n",
    "# с помощью технологии One Hot Encoding (pd.get_dummies())\n",
    "def features_get_dummies(features, column_name):\n",
    "    features = features.join(\n",
    "        pd.get_dummies(\n",
    "            data[column_name], \n",
    "            prefix=column_name, \n",
    "            prefix_sep='_', \n",
    "            drop_first=True\n",
    "        )\n",
    "    )\n",
    "    features = features.drop(column_name, axis=1)\n",
    "    return features\n"
   ]
  },
  {
   "cell_type": "code",
   "execution_count": 29,
   "metadata": {},
   "outputs": [],
   "source": [
    "# Функция подготовки данных перед подбором моделей и их параметров\n",
    "def data_preprocessing(data, target_name):\n",
    "    \n",
    "    # Перемешивание объектов \n",
    "    # для их лучшего распределения в выборках\n",
    "    data = shuffle(data, random_state=STATE)\n",
    "    \n",
    "    # Разделение датафреймов на целевую и нецелевую выборку\n",
    "    features = data.drop([target_name], axis=1)\n",
    "    target = data[target_name]\n",
    "\n",
    "    # Разделение целевой и нецелевой выборки \n",
    "    # на обучающие и тестовые выборки\n",
    "    features_train,  features_test, target_train, target_test = train_test_split(\n",
    "        features, \n",
    "        target, \n",
    "        test_size=.25, \n",
    "        random_state=STATE\n",
    "    )\n",
    "    \n",
    "    return features_train,  features_test, target_train, target_test\n"
   ]
  },
  {
   "cell_type": "code",
   "execution_count": 30,
   "metadata": {},
   "outputs": [],
   "source": [
    "# Функция создания структуры пайплайна\n",
    "def params_and_model_selection(\n",
    "    features_train, \n",
    "    features_test, \n",
    "    target_train, \n",
    "    target_test, \n",
    "    model_params\n",
    "):\n",
    "    \n",
    "    start_time = time.time()\n",
    "    #funtion_time = %timeit\n",
    "    \n",
    "    # Стандартизация числовых значений\n",
    "    numeric_transformer = make_pipeline(\n",
    "        StandardScaler()\n",
    "    )\n",
    "    \n",
    "    # Шаг препроцессинга в Пайплайне\n",
    "    preprocessor = make_column_transformer(\n",
    "        (numeric_transformer, features_train.columns)\n",
    "    )\n",
    "    \n",
    "    # Pipeline\n",
    "    pipe = Pipeline([\n",
    "        ('preprocessor', preprocessor), \n",
    "        ('regressor', model_params[0]['regressor'][0])\n",
    "    ])\n",
    "    pipe.fit(features_train, target_train)\n",
    "    #predict = pipe.predict(features_test) # спорно, т.к. это должно быть в результате, а здесь должна использоваться валидационная выборка\n",
    "    \n",
    "    # Передача функции ошибки через make_scorer в HalvingGridSearchCV\n",
    "    smape_score = make_scorer(\n",
    "        mean_squared_error, \n",
    "        squared=False # Для RMSE\n",
    "    )\n",
    "    \n",
    "    # HalvingGridSearchCV\n",
    "    # (о подборе оптимальных параметров:\n",
    "    # https://scikit-learn.ru/3-2-tuning-the-hyper-parameters-of-an-estimator/)\n",
    "    #grid = HalvingRandomSearchCV(\n",
    "    grid = HalvingGridSearchCV(\n",
    "        pipe, \n",
    "        model_params, \n",
    "        cv=4, # параметр KFold для кроссвалидации (обучющая и валидационная выборки 75:25)\n",
    "        n_jobs=-1, # количество параллельно выполняемых заданий (-1 - задействованы все процессоры)\n",
    "        scoring=smape_score, # Передача функции ошибки через make_scorer в HalvingGridSearchCV\n",
    "        error_score='raise', #0 , # \n",
    "        random_state=STATE\n",
    "    )\n",
    "    grid.fit(features_train, target_train)\n",
    "    \n",
    "    finish_time = time.time()\n",
    "    funtion_time = finish_time - start_time\n",
    "    \n",
    "    return grid, funtion_time\n"
   ]
  },
  {
   "cell_type": "code",
   "execution_count": 31,
   "metadata": {},
   "outputs": [],
   "source": [
    "# Вывод на печать результатов модели\n",
    "def print_model_result(grids, data_times, model_name):\n",
    "    print('Модель   :', model_name)\n",
    "    print('RMSE     :', grids[-1].best_score_)\n",
    "    print(f'Время    : {data_times[-1]} секунд')\n",
    "    print('Параметры:\\n', grids[-1].best_estimator_)\n",
    "    print()\n",
    "    print('-'*20)\n",
    "    print()\n"
   ]
  },
  {
   "cell_type": "markdown",
   "metadata": {},
   "source": [
    "### Функции моделей"
   ]
  },
  {
   "cell_type": "code",
   "execution_count": 32,
   "metadata": {},
   "outputs": [],
   "source": [
    "# LinearRegression\n",
    "def grids_LinearRegression(\n",
    "    features_train, \n",
    "    features_test, \n",
    "    target_train, \n",
    "    target_test, \n",
    "    grids, \n",
    "    data_times\n",
    "):\n",
    "    \n",
    "    grid, time_best = params_and_model_selection(\n",
    "        features_train, \n",
    "        features_test, \n",
    "        target_train, \n",
    "        target_test, \n",
    "        [{\n",
    "            'regressor': [LinearRegression()] # score: R^2\n",
    "        }]\n",
    "    )\n",
    "    \n",
    "    grids.append(grid)\n",
    "    data_times.append(time_best)\n",
    "    \n",
    "    return grids, data_times\n"
   ]
  },
  {
   "cell_type": "code",
   "execution_count": 33,
   "metadata": {},
   "outputs": [],
   "source": [
    "# DecisionTreeRegressor\n",
    "def grids_DecisionTreeRegressor(\n",
    "    features_train, \n",
    "    features_test, \n",
    "    target_train, \n",
    "    target_test, \n",
    "    grids, \n",
    "    data_times\n",
    "):\n",
    "    \n",
    "    grids_this = 0\n",
    "    grids_best = 0\n",
    "    funtion_time = 0\n",
    "    time_best = 0\n",
    "    \n",
    "    # Поиск \"regressor__max_depth\"\n",
    "    \n",
    "    range_min = 1\n",
    "    range_max = 201\n",
    "    range_step = 20\n",
    "    \n",
    "    for i in range(1, 5, 1):\n",
    "        # Поиск лучших параметров\n",
    "        grids_this, funtion_time = params_and_model_selection(\n",
    "            features_train, \n",
    "            features_test, \n",
    "            target_train, \n",
    "            target_test, \n",
    "            [{\n",
    "                'regressor': [DecisionTreeRegressor(random_state=STATE)], # score: R^2\n",
    "                'regressor__max_depth': range(\n",
    "                    range_min, \n",
    "                    range_max, \n",
    "                    range_step\n",
    "                )\n",
    "            }]\n",
    "        )\n",
    "        # Выбор лучшей модели\n",
    "        if grids_best == 0:\n",
    "            grids_best = grids_this\n",
    "            time_best = funtion_time\n",
    "        elif grids_this.best_score_ > grids_best.best_score_:\n",
    "            grids_best = grids_this\n",
    "            time_best = funtion_time\n",
    "        if range_step == 1: break\n",
    "        # Выбор параметров поиска\n",
    "        regressor__max_depth = grids_this.best_params_['regressor__max_depth']\n",
    "        if int(regressor__max_depth - range_step / 2) > 0:\n",
    "            range_min = int(regressor__max_depth - range_step / 2)\n",
    "        else:\n",
    "            range_min = regressor__max_depth\n",
    "        range_max = int(regressor__max_depth + range_step / 2) + 1\n",
    "        range_step = int(range_step / 2)\n",
    "    \n",
    "    grids.append(grids_best)\n",
    "    data_times.append(time_best)\n",
    "    \n",
    "    return grids, data_times\n"
   ]
  },
  {
   "cell_type": "code",
   "execution_count": 34,
   "metadata": {},
   "outputs": [],
   "source": [
    "# RandomForestRegressor\n",
    "def grids_RandomForestRegressor(\n",
    "    features_train, \n",
    "    features_test, \n",
    "    target_train, \n",
    "    target_test, \n",
    "    grids, \n",
    "    data_times\n",
    "):\n",
    "    \n",
    "    grids_this = 0\n",
    "    grids_best = 0\n",
    "    funtion_time = 0\n",
    "    time_best = 0\n",
    "    \n",
    "    # Поиск \"regressor__max_depth\"\n",
    "    \n",
    "    range_min = 20\n",
    "    range_max = 61\n",
    "    range_step = 20\n",
    "    \n",
    "    for i in range(1, 5, 1):\n",
    "        \n",
    "        # Поиск лучших параметров\n",
    "        grids_this, funtion_time = params_and_model_selection(\n",
    "            features_train, \n",
    "            features_test, \n",
    "            target_train, \n",
    "            target_test, \n",
    "            [{\n",
    "                'regressor': [RandomForestRegressor(random_state=STATE)], # score: R^2\n",
    "                'regressor__max_depth': range(\n",
    "                    range_min, \n",
    "                    range_max, \n",
    "                    range_step\n",
    "                ), \n",
    "                'regressor__n_estimators': [1]\n",
    "            }]\n",
    "        )\n",
    "        # Выбор лучшей модели\n",
    "        if grids_best == 0:\n",
    "            grids_best = grids_this\n",
    "            time_best = funtion_time\n",
    "        elif grids_this.best_score_ > grids_best.best_score_: \n",
    "            grids_best = grids_this\n",
    "            time_best = funtion_time\n",
    "        if range_step == 1: break\n",
    "        # Выбор параметров поиска\n",
    "        regressor__max_depth = grids_this.best_params_['regressor__max_depth']\n",
    "        if int(regressor__max_depth - range_step / 2) > 0:\n",
    "            range_min = int(regressor__max_depth - range_step / 2)\n",
    "        else:\n",
    "            range_min = regressor__max_depth\n",
    "        range_max = int(regressor__max_depth + range_step / 2) + 1\n",
    "        range_step = int(range_step / 2)\n",
    "        if range_step == 0: range_step = 1\n",
    "    \n",
    "    # Поиск \"regressor__n_estimators\"\n",
    "    \n",
    "    range_min = 10\n",
    "    range_max = 31\n",
    "    range_step = 10\n",
    "    \n",
    "    for i in range(1, 5, 1):\n",
    "        \n",
    "        # Поиск лучших параметров\n",
    "        grids_this, funtion_time = params_and_model_selection(\n",
    "            features_train, \n",
    "            features_test, \n",
    "            target_train, \n",
    "            target_test, \n",
    "            [{\n",
    "                'regressor': [RandomForestRegressor(random_state=STATE)], # score: R^2\n",
    "                'regressor__max_depth': [regressor__max_depth], \n",
    "                'regressor__n_estimators': range(\n",
    "                    range_min, \n",
    "                    range_max, \n",
    "                    range_step\n",
    "                )\n",
    "            }]\n",
    "        )\n",
    "        # Выбор лучшей модели\n",
    "        if grids_best == 0: \n",
    "            grids_best = grids_this\n",
    "            time_best = funtion_time\n",
    "        elif grids_this.best_score_ > grids_best.best_score_: \n",
    "            grids_best = grids_this\n",
    "            time_best = funtion_time\n",
    "        if range_step == 1: break\n",
    "        # Выбор параметров поиска\n",
    "        regressor__n_estimators = grids_this.best_params_['regressor__n_estimators']\n",
    "        if int(regressor__n_estimators - range_step / 2) > 0:\n",
    "            range_min = int(regressor__n_estimators - range_step / 2)\n",
    "        else:\n",
    "            range_min = regressor__n_estimators\n",
    "        range_max = int(regressor__n_estimators + range_step / 2) + 1\n",
    "        range_step = int(range_step / 10)\n",
    "        if range_step == 0: range_step = 1\n",
    "    \n",
    "    grids.append(grids_best)\n",
    "    data_times.append(time_best)\n",
    "    \n",
    "    return grids, data_times\n"
   ]
  },
  {
   "cell_type": "code",
   "execution_count": 35,
   "metadata": {},
   "outputs": [],
   "source": [
    "# SGDRegressor\n",
    "def grids_SGDRegressor(\n",
    "    features_train, \n",
    "    features_test, \n",
    "    target_train, \n",
    "    target_test, \n",
    "    grids, \n",
    "    data_times\n",
    "):\n",
    "    \n",
    "    # Поиск лучших параметров\n",
    "    \n",
    "    grids_best, time_best = params_and_model_selection(\n",
    "        features_train, \n",
    "        features_test, \n",
    "        target_train, \n",
    "        target_test, \n",
    "        [{\n",
    "            'regressor': [SGDRegressor()]\n",
    "        }]\n",
    "    )\n",
    "    \n",
    "    grids.append(grids_best)\n",
    "    data_times.append(time_best)\n",
    "    \n",
    "    return grids, data_times\n"
   ]
  },
  {
   "cell_type": "code",
   "execution_count": 36,
   "metadata": {},
   "outputs": [],
   "source": [
    "# MLPRegressor\n",
    "def grids_MLPRegressor(\n",
    "    features_train, \n",
    "    features_test, \n",
    "    target_train, \n",
    "    target_test, \n",
    "    grids, \n",
    "    data_times\n",
    "):\n",
    "    \n",
    "    # Поиск лучших параметров\n",
    "    \n",
    "    grids_best, time_best = params_and_model_selection(\n",
    "        features_train, \n",
    "        features_test, \n",
    "        target_train, \n",
    "        target_test, \n",
    "        [{\n",
    "            'regressor': [MLPRegressor()]\n",
    "        }]\n",
    "    )\n",
    "    \n",
    "    grids.append(grids_best)\n",
    "    data_times.append(time_best)\n",
    "    \n",
    "    return grids, data_times\n"
   ]
  },
  {
   "cell_type": "code",
   "execution_count": 37,
   "metadata": {},
   "outputs": [],
   "source": [
    "# CatBoostRegressor\n",
    "def grids_CatBoostRegressor(\n",
    "    features_train, \n",
    "    features_test, \n",
    "    target_train, \n",
    "    target_test, \n",
    "    grids, \n",
    "    data_times\n",
    "):\n",
    "    \n",
    "    \n",
    "    grids_best, time_best = params_and_model_selection(\n",
    "        features_train, \n",
    "        features_test, \n",
    "        target_train, \n",
    "        target_test, \n",
    "        [{\n",
    "            'regressor': [CatBoostRegressor()]\n",
    "        }]\n",
    "    )\n",
    "    \n",
    "    \n",
    "    grids.append(grids_best)\n",
    "    data_times.append(time_best)\n",
    "    \n",
    "    return grids, data_times\n"
   ]
  },
  {
   "cell_type": "code",
   "execution_count": 38,
   "metadata": {},
   "outputs": [],
   "source": [
    "# LGBMRegressor\n",
    "def grids_LGBMRegressor(\n",
    "    features_train, \n",
    "    features_test, \n",
    "    target_train, \n",
    "    target_test, \n",
    "    grids, \n",
    "    data_times\n",
    "):\n",
    "    \n",
    "    # Поиск лучших параметров\n",
    "    \n",
    "    grids_this = 0\n",
    "    grids_best = 0\n",
    "    funtion_time = 0\n",
    "    time_best = 0\n",
    "    \n",
    "    # Поиск \"regressor__max_depth\"\n",
    "    \n",
    "    range_min = 1\n",
    "    range_max = 201\n",
    "    range_step = 20\n",
    "    \n",
    "    for i in range(1, 5, 1):\n",
    "        \n",
    "        #print('regressor__max_depth =', range(range_min, range_max, range_step))\n",
    "        \n",
    "        # Поиск лучших параметров\n",
    "        grids_this, funtion_time = params_and_model_selection(\n",
    "            features_train, \n",
    "            features_test, \n",
    "            target_train, \n",
    "            target_test, \n",
    "            [{\n",
    "                'regressor': [LGBMRegressor(random_state=STATE)], # score: R^2\n",
    "                'regressor__max_depth': range(\n",
    "                    range_min, \n",
    "                    range_max, \n",
    "                    range_step\n",
    "                ), \n",
    "                'regressor__n_estimators': [1]\n",
    "            }]\n",
    "        )\n",
    "        # Выбор лучшей модели\n",
    "        if grids_best == 0: \n",
    "            grids_best = grids_this\n",
    "            time_best = funtion_time\n",
    "        elif grids_this.best_score_ > grids_best.best_score_: \n",
    "            grids_best = grids_this\n",
    "            time_best = funtion_time\n",
    "        if range_step == 1: break\n",
    "        # Выбор параметров поиска\n",
    "        regressor__max_depth = grids_this.best_params_['regressor__max_depth']\n",
    "        if int(regressor__max_depth - range_step / 2) > 0:\n",
    "            range_min = int(regressor__max_depth - range_step / 2)\n",
    "        else:\n",
    "            range_min = regressor__max_depth\n",
    "        range_max = int(regressor__max_depth + range_step / 2) + 1\n",
    "        range_step = int(range_step / 2)\n",
    "        if range_step == 0: range_step = 1\n",
    "    \n",
    "    # Поиск \"regressor__n_estimators\"\n",
    "    \n",
    "    range_min = 1\n",
    "    range_max = 51\n",
    "    range_step = 10\n",
    "    \n",
    "    for i in range(1, 5, 1):\n",
    "        \n",
    "        #print('regressor__n_estimators =', range(range_min, range_max, range_step))\n",
    "        \n",
    "        # Поиск лучших параметров\n",
    "        grids_this, funtion_time = params_and_model_selection(\n",
    "            features_train, \n",
    "            features_test, \n",
    "            target_train, \n",
    "            target_test, \n",
    "            [{\n",
    "                'regressor': [LGBMRegressor(random_state=STATE)], # score: R^2\n",
    "                'regressor__max_depth': [regressor__max_depth], \n",
    "                'regressor__n_estimators': range(\n",
    "                    range_min, \n",
    "                    range_max, \n",
    "                    range_step\n",
    "                )\n",
    "            }]\n",
    "        )\n",
    "        # Выбор лучшей модели\n",
    "        if grids_best == 0: \n",
    "            grids_best = grids_this\n",
    "            time_best = funtion_time\n",
    "        elif grids_this.best_score_ > grids_best.best_score_: \n",
    "            grids_best = grids_this\n",
    "            time_best = funtion_time\n",
    "        if range_step == 1: break\n",
    "        # Выбор параметров поиска\n",
    "        regressor__n_estimators = grids_this.best_params_['regressor__n_estimators']\n",
    "        if int(regressor__n_estimators - range_step / 2) > 0:\n",
    "            range_min = int(regressor__n_estimators - range_step / 2)\n",
    "        else:\n",
    "            range_min = regressor__n_estimators\n",
    "        range_max = int(regressor__n_estimators + range_step / 2) + 1\n",
    "        range_step = int(range_step / 10)\n",
    "        if range_step == 0: range_step = 1\n",
    "    \n",
    "    grids.append(grids_best)\n",
    "    data_times.append(time_best)\n",
    "    \n",
    "    return grids, data_times\n"
   ]
  },
  {
   "cell_type": "markdown",
   "metadata": {},
   "source": [
    "### Применение функций"
   ]
  },
  {
   "cell_type": "code",
   "execution_count": 39,
   "metadata": {
    "scrolled": false
   },
   "outputs": [
    {
     "name": "stdout",
     "output_type": "stream",
     "text": [
      "<class 'pandas.core.frame.DataFrame'>\n",
      "Int64Index: 247630 entries, 223244 to 257691\n",
      "Data columns (total 9 columns):\n",
      " #   Column             Non-Null Count   Dtype  \n",
      "---  ------             --------------   -----  \n",
      " 0   vehicle_type       247630 non-null  float64\n",
      " 1   registration_year  247630 non-null  int64  \n",
      " 2   gearbox            247630 non-null  float64\n",
      " 3   power              247630 non-null  float64\n",
      " 4   model              247630 non-null  float64\n",
      " 5   kilometer          247630 non-null  int64  \n",
      " 6   fuel_type          247630 non-null  float64\n",
      " 7   brand              247630 non-null  float64\n",
      " 8   repaired           247630 non-null  float64\n",
      "dtypes: float64(7), int64(2)\n",
      "memory usage: 18.9 MB\n",
      "None\n"
     ]
    },
    {
     "data": {
      "text/html": [
       "<div>\n",
       "<style scoped>\n",
       "    .dataframe tbody tr th:only-of-type {\n",
       "        vertical-align: middle;\n",
       "    }\n",
       "\n",
       "    .dataframe tbody tr th {\n",
       "        vertical-align: top;\n",
       "    }\n",
       "\n",
       "    .dataframe thead th {\n",
       "        text-align: right;\n",
       "    }\n",
       "</style>\n",
       "<table border=\"1\" class=\"dataframe\">\n",
       "  <thead>\n",
       "    <tr style=\"text-align: right;\">\n",
       "      <th></th>\n",
       "      <th>vehicle_type</th>\n",
       "      <th>registration_year</th>\n",
       "      <th>gearbox</th>\n",
       "      <th>power</th>\n",
       "      <th>model</th>\n",
       "      <th>kilometer</th>\n",
       "      <th>fuel_type</th>\n",
       "      <th>brand</th>\n",
       "      <th>repaired</th>\n",
       "    </tr>\n",
       "  </thead>\n",
       "  <tbody>\n",
       "    <tr>\n",
       "      <th>223244</th>\n",
       "      <td>4759.405926</td>\n",
       "      <td>2005</td>\n",
       "      <td>6967.682167</td>\n",
       "      <td>190.0</td>\n",
       "      <td>5767.135775</td>\n",
       "      <td>150000</td>\n",
       "      <td>6756.042179</td>\n",
       "      <td>6010.171569</td>\n",
       "      <td>5385.242357</td>\n",
       "    </tr>\n",
       "    <tr>\n",
       "      <th>98910</th>\n",
       "      <td>3540.618365</td>\n",
       "      <td>2000</td>\n",
       "      <td>2270.272120</td>\n",
       "      <td>0.0</td>\n",
       "      <td>3793.928198</td>\n",
       "      <td>150000</td>\n",
       "      <td>3394.617204</td>\n",
       "      <td>3261.835992</td>\n",
       "      <td>2672.054560</td>\n",
       "    </tr>\n",
       "    <tr>\n",
       "      <th>62348</th>\n",
       "      <td>6827.486197</td>\n",
       "      <td>2010</td>\n",
       "      <td>4081.965033</td>\n",
       "      <td>120.0</td>\n",
       "      <td>3223.449143</td>\n",
       "      <td>80000</td>\n",
       "      <td>3807.829533</td>\n",
       "      <td>3147.120726</td>\n",
       "      <td>5385.242357</td>\n",
       "    </tr>\n",
       "    <tr>\n",
       "      <th>318127</th>\n",
       "      <td>4759.405926</td>\n",
       "      <td>2009</td>\n",
       "      <td>4081.965033</td>\n",
       "      <td>143.0</td>\n",
       "      <td>5890.414408</td>\n",
       "      <td>125000</td>\n",
       "      <td>6756.042179</td>\n",
       "      <td>6384.934049</td>\n",
       "      <td>5385.242357</td>\n",
       "    </tr>\n",
       "    <tr>\n",
       "      <th>290228</th>\n",
       "      <td>4759.405926</td>\n",
       "      <td>1993</td>\n",
       "      <td>4081.965033</td>\n",
       "      <td>45.0</td>\n",
       "      <td>2604.409468</td>\n",
       "      <td>150000</td>\n",
       "      <td>3394.617204</td>\n",
       "      <td>4530.331913</td>\n",
       "      <td>5385.242357</td>\n",
       "    </tr>\n",
       "  </tbody>\n",
       "</table>\n",
       "</div>"
      ],
      "text/plain": [
       "        vehicle_type  registration_year      gearbox  power        model  \\\n",
       "223244   4759.405926               2005  6967.682167  190.0  5767.135775   \n",
       "98910    3540.618365               2000  2270.272120    0.0  3793.928198   \n",
       "62348    6827.486197               2010  4081.965033  120.0  3223.449143   \n",
       "318127   4759.405926               2009  4081.965033  143.0  5890.414408   \n",
       "290228   4759.405926               1993  4081.965033   45.0  2604.409468   \n",
       "\n",
       "        kilometer    fuel_type        brand     repaired  \n",
       "223244     150000  6756.042179  6010.171569  5385.242357  \n",
       "98910      150000  3394.617204  3261.835992  2672.054560  \n",
       "62348       80000  3807.829533  3147.120726  5385.242357  \n",
       "318127     125000  6756.042179  6384.934049  5385.242357  \n",
       "290228     150000  3394.617204  4530.331913  5385.242357  "
      ]
     },
     "execution_count": 39,
     "metadata": {},
     "output_type": "execute_result"
    }
   ],
   "source": [
    "# Подготовка выборок из датафрейма\n",
    "\n",
    "# Разделение обучающего датафрейма на целевую и нецелевую выборку\n",
    "features_train,  features_test, target_train, target_test = data_preprocessing(data, 'price')\n",
    "\n",
    "# Кодирование категориальных текстовых признаков\n",
    "# с помощью технологии TargetEncoder \n",
    "features_encoding = ['vehicle_type', 'gearbox', 'model', 'fuel_type', 'brand', 'repaired']\n",
    "te_fit = TargetEncoder().fit(features_train[features_encoding], target_train)\n",
    "features_train[features_encoding] = te_fit.transform(features_train[features_encoding])\n",
    "features_test[features_encoding] = te_fit.transform(features_test[features_encoding])\n",
    "\n",
    "print(features_train.info())\n",
    "features_train.head()\n"
   ]
  },
  {
   "cell_type": "code",
   "execution_count": 40,
   "metadata": {},
   "outputs": [],
   "source": [
    "# Поиск лучших моделей и их параметров\n",
    "data_grids = []\n",
    "data_times = []\n"
   ]
  },
  {
   "cell_type": "code",
   "execution_count": 41,
   "metadata": {},
   "outputs": [
    {
     "name": "stdout",
     "output_type": "stream",
     "text": [
      "Модель   : LinearRegression\n",
      "RMSE     : 3069.23279496429\n",
      "Время    : 2.045431137084961 секунд\n",
      "Параметры:\n",
      " Pipeline(steps=[('preprocessor',\n",
      "                 ColumnTransformer(transformers=[('pipeline',\n",
      "                                                  Pipeline(steps=[('standardscaler',\n",
      "                                                                   StandardScaler())]),\n",
      "                                                  Index(['vehicle_type', 'registration_year', 'gearbox', 'power', 'model',\n",
      "       'kilometer', 'fuel_type', 'brand', 'repaired'],\n",
      "      dtype='object'))])),\n",
      "                ('regressor', LinearRegression())])\n",
      "\n",
      "--------------------\n",
      "\n"
     ]
    }
   ],
   "source": [
    "# LinearRegression (dummy-model)\n",
    "data_grids, data_times = grids_LinearRegression(\n",
    "    features_train, \n",
    "    features_test, \n",
    "    target_train, \n",
    "    target_test, \n",
    "    data_grids, \n",
    "    data_times\n",
    ")\n",
    "print_model_result(data_grids, data_times, 'LinearRegression')\n"
   ]
  },
  {
   "cell_type": "code",
   "execution_count": 42,
   "metadata": {},
   "outputs": [
    {
     "name": "stdout",
     "output_type": "stream",
     "text": [
      "Модель   : DecisionTreeRegressor\n",
      "RMSE     : 3520.5951256556477\n",
      "Время    : 14.969941139221191 секунд\n",
      "Параметры:\n",
      " Pipeline(steps=[('preprocessor',\n",
      "                 ColumnTransformer(transformers=[('pipeline',\n",
      "                                                  Pipeline(steps=[('standardscaler',\n",
      "                                                                   StandardScaler())]),\n",
      "                                                  Index(['vehicle_type', 'registration_year', 'gearbox', 'power', 'model',\n",
      "       'kilometer', 'fuel_type', 'brand', 'repaired'],\n",
      "      dtype='object'))])),\n",
      "                ('regressor',\n",
      "                 DecisionTreeRegressor(max_depth=1, random_state=42))])\n",
      "\n",
      "--------------------\n",
      "\n"
     ]
    }
   ],
   "source": [
    "# DecisionTreeRegressor\n",
    "data_grids, data_times = grids_DecisionTreeRegressor(\n",
    "    features_train, \n",
    "    features_test, \n",
    "    target_train, \n",
    "    target_test, \n",
    "    data_grids, \n",
    "    data_times\n",
    ")\n",
    "print_model_result(data_grids, data_times, 'DecisionTreeRegressor')\n"
   ]
  },
  {
   "cell_type": "code",
   "execution_count": 44,
   "metadata": {},
   "outputs": [
    {
     "name": "stdout",
     "output_type": "stream",
     "text": [
      "Модель   : SGDRegressor\n",
      "RMSE     : 3089.779746424787\n",
      "Время    : 5.435046195983887 секунд\n",
      "Параметры:\n",
      " Pipeline(steps=[('preprocessor',\n",
      "                 ColumnTransformer(transformers=[('pipeline',\n",
      "                                                  Pipeline(steps=[('standardscaler',\n",
      "                                                                   StandardScaler())]),\n",
      "                                                  Index(['vehicle_type', 'registration_year', 'gearbox', 'power', 'model',\n",
      "       'kilometer', 'fuel_type', 'brand', 'repaired'],\n",
      "      dtype='object'))])),\n",
      "                ('regressor', SGDRegressor())])\n",
      "\n",
      "--------------------\n",
      "\n"
     ]
    }
   ],
   "source": [
    "# SGDRegressor\n",
    "data_grids, data_times = grids_SGDRegressor(\n",
    "    features_train, \n",
    "    features_test, \n",
    "    target_train, \n",
    "    target_test, \n",
    "    data_grids, \n",
    "    data_times\n",
    ")\n",
    "print_model_result(data_grids, data_times, 'SGDRegressor')"
   ]
  },
  {
   "cell_type": "code",
   "execution_count": 46,
   "metadata": {
    "scrolled": true
   },
   "outputs": [
    {
     "name": "stdout",
     "output_type": "stream",
     "text": [
      "Learning rate set to 0.097814\n",
      "0:\tlearn: 4268.9324355\ttotal: 101ms\tremaining: 1m 41s\n",
      "1:\tlearn: 4010.6410460\ttotal: 138ms\tremaining: 1m 8s\n",
      "2:\tlearn: 3784.1669481\ttotal: 181ms\tremaining: 1m\n",
      "3:\tlearn: 3579.5232253\ttotal: 218ms\tremaining: 54.4s\n",
      "4:\tlearn: 3400.3400769\ttotal: 255ms\tremaining: 50.7s\n",
      "5:\tlearn: 3242.2229009\ttotal: 299ms\tremaining: 49.5s\n",
      "6:\tlearn: 3101.0951468\ttotal: 336ms\tremaining: 47.6s\n",
      "7:\tlearn: 2976.0448761\ttotal: 382ms\tremaining: 47.3s\n",
      "8:\tlearn: 2865.0184049\ttotal: 418ms\tremaining: 46s\n",
      "9:\tlearn: 2769.5971830\ttotal: 455ms\tremaining: 45s\n",
      "10:\tlearn: 2688.7300008\ttotal: 496ms\tremaining: 44.6s\n",
      "11:\tlearn: 2611.4192577\ttotal: 533ms\tremaining: 43.8s\n",
      "12:\tlearn: 2547.1626659\ttotal: 581ms\tremaining: 44.1s\n",
      "13:\tlearn: 2486.4814447\ttotal: 618ms\tremaining: 43.5s\n",
      "14:\tlearn: 2436.7976506\ttotal: 659ms\tremaining: 43.3s\n",
      "15:\tlearn: 2388.2476102\ttotal: 698ms\tremaining: 42.9s\n",
      "16:\tlearn: 2349.1750890\ttotal: 734ms\tremaining: 42.4s\n",
      "17:\tlearn: 2311.5397711\ttotal: 777ms\tremaining: 42.4s\n",
      "18:\tlearn: 2279.0709995\ttotal: 812ms\tremaining: 41.9s\n",
      "19:\tlearn: 2249.5200641\ttotal: 853ms\tremaining: 41.8s\n",
      "20:\tlearn: 2225.0638599\ttotal: 896ms\tremaining: 41.8s\n",
      "21:\tlearn: 2202.5869378\ttotal: 939ms\tremaining: 41.7s\n",
      "22:\tlearn: 2181.3138603\ttotal: 989ms\tremaining: 42s\n",
      "23:\tlearn: 2162.7987170\ttotal: 1.03s\tremaining: 41.9s\n",
      "24:\tlearn: 2146.4960625\ttotal: 1.08s\tremaining: 42s\n",
      "25:\tlearn: 2130.0284629\ttotal: 1.11s\tremaining: 41.8s\n",
      "26:\tlearn: 2114.8175590\ttotal: 1.16s\tremaining: 41.9s\n",
      "27:\tlearn: 2103.0645814\ttotal: 1.21s\tremaining: 41.9s\n",
      "28:\tlearn: 2092.1972325\ttotal: 1.25s\tremaining: 42s\n",
      "29:\tlearn: 2082.0707635\ttotal: 1.29s\tremaining: 41.8s\n",
      "30:\tlearn: 2072.5199001\ttotal: 1.33s\tremaining: 41.7s\n",
      "31:\tlearn: 2061.9256277\ttotal: 1.38s\tremaining: 41.6s\n",
      "32:\tlearn: 2053.0818270\ttotal: 1.41s\tremaining: 41.3s\n",
      "33:\tlearn: 2045.8192642\ttotal: 1.45s\tremaining: 41.2s\n",
      "34:\tlearn: 2038.9822441\ttotal: 1.49s\tremaining: 41s\n",
      "35:\tlearn: 2033.6254723\ttotal: 1.52s\tremaining: 40.7s\n",
      "36:\tlearn: 2028.4506164\ttotal: 1.57s\tremaining: 40.8s\n",
      "37:\tlearn: 2020.3179117\ttotal: 1.6s\tremaining: 40.6s\n",
      "38:\tlearn: 2015.5523488\ttotal: 1.64s\tremaining: 40.4s\n",
      "39:\tlearn: 2010.3228599\ttotal: 1.68s\tremaining: 40.2s\n",
      "40:\tlearn: 2004.3267459\ttotal: 1.72s\tremaining: 40.2s\n",
      "41:\tlearn: 1998.5867855\ttotal: 1.76s\tremaining: 40.3s\n",
      "42:\tlearn: 1994.6349425\ttotal: 1.8s\tremaining: 40.1s\n",
      "43:\tlearn: 1991.2172038\ttotal: 1.84s\tremaining: 40s\n",
      "44:\tlearn: 1988.5022244\ttotal: 1.88s\tremaining: 39.9s\n",
      "45:\tlearn: 1984.3815351\ttotal: 1.92s\tremaining: 39.8s\n",
      "46:\tlearn: 1978.7809852\ttotal: 1.96s\tremaining: 39.8s\n",
      "47:\tlearn: 1976.1214547\ttotal: 2s\tremaining: 39.6s\n",
      "48:\tlearn: 1972.7190666\ttotal: 2.04s\tremaining: 39.5s\n",
      "49:\tlearn: 1968.6779676\ttotal: 2.07s\tremaining: 39.4s\n",
      "50:\tlearn: 1963.1907207\ttotal: 2.11s\tremaining: 39.2s\n",
      "51:\tlearn: 1960.2988615\ttotal: 2.15s\tremaining: 39.2s\n",
      "52:\tlearn: 1957.8772666\ttotal: 2.18s\tremaining: 39s\n",
      "53:\tlearn: 1955.8311334\ttotal: 2.22s\tremaining: 39s\n",
      "54:\tlearn: 1953.0846871\ttotal: 2.26s\tremaining: 38.8s\n",
      "55:\tlearn: 1950.5234577\ttotal: 2.29s\tremaining: 38.6s\n",
      "56:\tlearn: 1946.2558032\ttotal: 2.34s\tremaining: 38.7s\n",
      "57:\tlearn: 1943.7185580\ttotal: 2.37s\tremaining: 38.5s\n",
      "58:\tlearn: 1941.8747937\ttotal: 2.41s\tremaining: 38.4s\n",
      "59:\tlearn: 1938.4969708\ttotal: 2.45s\tremaining: 38.4s\n",
      "60:\tlearn: 1935.7775907\ttotal: 2.48s\tremaining: 38.2s\n",
      "61:\tlearn: 1934.4810527\ttotal: 2.52s\tremaining: 38.1s\n",
      "62:\tlearn: 1931.2776221\ttotal: 2.55s\tremaining: 38s\n",
      "63:\tlearn: 1929.5589586\ttotal: 2.59s\tremaining: 37.8s\n",
      "64:\tlearn: 1926.3388558\ttotal: 2.63s\tremaining: 37.9s\n",
      "65:\tlearn: 1923.6750746\ttotal: 2.66s\tremaining: 37.7s\n",
      "66:\tlearn: 1922.5330800\ttotal: 2.69s\tremaining: 37.5s\n",
      "67:\tlearn: 1920.8281168\ttotal: 2.74s\tremaining: 37.6s\n",
      "68:\tlearn: 1918.3175340\ttotal: 2.77s\tremaining: 37.4s\n",
      "69:\tlearn: 1915.7574885\ttotal: 2.82s\tremaining: 37.4s\n",
      "70:\tlearn: 1913.6291187\ttotal: 2.85s\tremaining: 37.3s\n",
      "71:\tlearn: 1911.3063450\ttotal: 2.88s\tremaining: 37.2s\n",
      "72:\tlearn: 1910.0146675\ttotal: 2.92s\tremaining: 37.1s\n",
      "73:\tlearn: 1908.5637534\ttotal: 2.96s\tremaining: 37s\n",
      "74:\tlearn: 1906.4780092\ttotal: 2.99s\tremaining: 36.9s\n",
      "75:\tlearn: 1905.1691680\ttotal: 3.03s\tremaining: 36.9s\n",
      "76:\tlearn: 1903.1997125\ttotal: 3.06s\tremaining: 36.7s\n",
      "77:\tlearn: 1901.8821513\ttotal: 3.1s\tremaining: 36.7s\n",
      "78:\tlearn: 1900.1337731\ttotal: 3.14s\tremaining: 36.6s\n",
      "79:\tlearn: 1899.1992384\ttotal: 3.17s\tremaining: 36.5s\n",
      "80:\tlearn: 1897.3895928\ttotal: 3.21s\tremaining: 36.4s\n",
      "81:\tlearn: 1895.8139714\ttotal: 3.24s\tremaining: 36.3s\n",
      "82:\tlearn: 1893.6768162\ttotal: 3.28s\tremaining: 36.2s\n",
      "83:\tlearn: 1891.4986383\ttotal: 3.32s\tremaining: 36.2s\n",
      "84:\tlearn: 1889.8489640\ttotal: 3.36s\tremaining: 36.2s\n",
      "85:\tlearn: 1888.8394635\ttotal: 3.4s\tremaining: 36.1s\n",
      "86:\tlearn: 1887.7631764\ttotal: 3.43s\tremaining: 36s\n",
      "87:\tlearn: 1886.0409055\ttotal: 3.47s\tremaining: 35.9s\n",
      "88:\tlearn: 1884.4447070\ttotal: 3.51s\tremaining: 35.9s\n",
      "89:\tlearn: 1882.9561620\ttotal: 3.54s\tremaining: 35.8s\n",
      "90:\tlearn: 1881.6691320\ttotal: 3.58s\tremaining: 35.8s\n",
      "91:\tlearn: 1879.9898022\ttotal: 3.63s\tremaining: 35.8s\n",
      "92:\tlearn: 1879.0661497\ttotal: 3.66s\tremaining: 35.7s\n",
      "93:\tlearn: 1877.3728090\ttotal: 3.71s\tremaining: 35.7s\n",
      "94:\tlearn: 1876.1311891\ttotal: 3.74s\tremaining: 35.7s\n",
      "95:\tlearn: 1874.7015338\ttotal: 3.78s\tremaining: 35.6s\n",
      "96:\tlearn: 1873.5465573\ttotal: 3.82s\tremaining: 35.6s\n",
      "97:\tlearn: 1872.7624631\ttotal: 3.85s\tremaining: 35.5s\n",
      "98:\tlearn: 1870.7938629\ttotal: 3.9s\tremaining: 35.5s\n",
      "99:\tlearn: 1869.2673785\ttotal: 3.93s\tremaining: 35.4s\n",
      "100:\tlearn: 1867.9182654\ttotal: 3.97s\tremaining: 35.4s\n",
      "101:\tlearn: 1866.6275050\ttotal: 4.02s\tremaining: 35.4s\n",
      "102:\tlearn: 1864.8356438\ttotal: 4.05s\tremaining: 35.3s\n",
      "103:\tlearn: 1863.8575595\ttotal: 4.09s\tremaining: 35.3s\n",
      "104:\tlearn: 1862.9924644\ttotal: 4.13s\tremaining: 35.2s\n",
      "105:\tlearn: 1862.4445378\ttotal: 4.16s\tremaining: 35.1s\n",
      "106:\tlearn: 1861.5129977\ttotal: 4.2s\tremaining: 35.1s\n",
      "107:\tlearn: 1859.9204173\ttotal: 4.24s\tremaining: 35s\n",
      "108:\tlearn: 1858.7382351\ttotal: 4.28s\tremaining: 35s\n",
      "109:\tlearn: 1857.3892643\ttotal: 4.31s\tremaining: 34.9s\n",
      "110:\tlearn: 1856.6283950\ttotal: 4.35s\tremaining: 34.8s\n",
      "111:\tlearn: 1855.4247124\ttotal: 4.39s\tremaining: 34.8s\n",
      "112:\tlearn: 1854.3838611\ttotal: 4.43s\tremaining: 34.8s\n",
      "113:\tlearn: 1853.5954063\ttotal: 4.46s\tremaining: 34.7s\n",
      "114:\tlearn: 1852.6219831\ttotal: 4.51s\tremaining: 34.7s\n",
      "115:\tlearn: 1851.9004090\ttotal: 4.55s\tremaining: 34.7s\n",
      "116:\tlearn: 1851.2159787\ttotal: 4.59s\tremaining: 34.6s\n",
      "117:\tlearn: 1850.5915299\ttotal: 4.62s\tremaining: 34.5s\n",
      "118:\tlearn: 1849.8976949\ttotal: 4.65s\tremaining: 34.5s\n",
      "119:\tlearn: 1848.8652075\ttotal: 4.7s\tremaining: 34.4s\n",
      "120:\tlearn: 1847.8232751\ttotal: 4.73s\tremaining: 34.4s\n",
      "121:\tlearn: 1847.2230104\ttotal: 4.77s\tremaining: 34.3s\n",
      "122:\tlearn: 1846.5371880\ttotal: 4.8s\tremaining: 34.3s\n",
      "123:\tlearn: 1845.8262919\ttotal: 4.84s\tremaining: 34.2s\n",
      "124:\tlearn: 1845.3827261\ttotal: 4.88s\tremaining: 34.1s\n",
      "125:\tlearn: 1844.6014292\ttotal: 4.91s\tremaining: 34.1s\n",
      "126:\tlearn: 1843.7578276\ttotal: 4.95s\tremaining: 34s\n",
      "127:\tlearn: 1843.0869271\ttotal: 4.99s\tremaining: 34s\n",
      "128:\tlearn: 1841.9619538\ttotal: 5.02s\tremaining: 33.9s\n",
      "129:\tlearn: 1841.2991078\ttotal: 5.06s\tremaining: 33.9s\n",
      "130:\tlearn: 1840.4296282\ttotal: 5.1s\tremaining: 33.8s\n",
      "131:\tlearn: 1839.1957353\ttotal: 5.13s\tremaining: 33.7s\n",
      "132:\tlearn: 1838.1950594\ttotal: 5.17s\tremaining: 33.7s\n",
      "133:\tlearn: 1837.3731522\ttotal: 5.21s\tremaining: 33.6s\n",
      "134:\tlearn: 1836.7928530\ttotal: 5.24s\tremaining: 33.6s\n",
      "135:\tlearn: 1835.7954051\ttotal: 5.28s\tremaining: 33.6s\n",
      "136:\tlearn: 1834.9445079\ttotal: 5.31s\tremaining: 33.5s\n",
      "137:\tlearn: 1834.0497983\ttotal: 5.36s\tremaining: 33.5s\n",
      "138:\tlearn: 1833.0138969\ttotal: 5.39s\tremaining: 33.4s\n",
      "139:\tlearn: 1832.2018222\ttotal: 5.42s\tremaining: 33.3s\n",
      "140:\tlearn: 1831.6937920\ttotal: 5.46s\tremaining: 33.3s\n",
      "141:\tlearn: 1831.1211248\ttotal: 5.49s\tremaining: 33.2s\n",
      "142:\tlearn: 1830.3238911\ttotal: 5.53s\tremaining: 33.1s\n",
      "143:\tlearn: 1829.7812267\ttotal: 5.57s\tremaining: 33.1s\n",
      "144:\tlearn: 1829.0570199\ttotal: 5.6s\tremaining: 33s\n",
      "145:\tlearn: 1828.4505519\ttotal: 5.64s\tremaining: 33s\n",
      "146:\tlearn: 1828.0967705\ttotal: 5.68s\tremaining: 33s\n",
      "147:\tlearn: 1827.0128422\ttotal: 5.72s\tremaining: 32.9s\n",
      "148:\tlearn: 1826.1013723\ttotal: 5.76s\tremaining: 32.9s\n",
      "149:\tlearn: 1825.4182648\ttotal: 5.8s\tremaining: 32.9s\n",
      "150:\tlearn: 1824.6176075\ttotal: 5.84s\tremaining: 32.8s\n",
      "151:\tlearn: 1823.8060667\ttotal: 5.88s\tremaining: 32.8s\n",
      "152:\tlearn: 1823.1678913\ttotal: 5.92s\tremaining: 32.7s\n",
      "153:\tlearn: 1822.7543456\ttotal: 5.95s\tremaining: 32.7s\n",
      "154:\tlearn: 1822.1850611\ttotal: 5.98s\tremaining: 32.6s\n",
      "155:\tlearn: 1821.5692808\ttotal: 6.03s\tremaining: 32.6s\n",
      "156:\tlearn: 1820.9095442\ttotal: 6.06s\tremaining: 32.6s\n",
      "157:\tlearn: 1820.4462638\ttotal: 6.09s\tremaining: 32.5s\n",
      "158:\tlearn: 1819.8860522\ttotal: 6.14s\tremaining: 32.5s\n",
      "159:\tlearn: 1819.2441115\ttotal: 6.17s\tremaining: 32.4s\n",
      "160:\tlearn: 1818.4616216\ttotal: 6.22s\tremaining: 32.4s\n",
      "161:\tlearn: 1817.9427457\ttotal: 6.26s\tremaining: 32.4s\n",
      "162:\tlearn: 1817.4403200\ttotal: 6.29s\tremaining: 32.3s\n",
      "163:\tlearn: 1816.9666062\ttotal: 6.33s\tremaining: 32.3s\n",
      "164:\tlearn: 1816.2439721\ttotal: 6.37s\tremaining: 32.2s\n",
      "165:\tlearn: 1815.8090863\ttotal: 6.41s\tremaining: 32.2s\n",
      "166:\tlearn: 1815.3273199\ttotal: 6.44s\tremaining: 32.1s\n",
      "167:\tlearn: 1814.5158132\ttotal: 6.48s\tremaining: 32.1s\n",
      "168:\tlearn: 1814.1986002\ttotal: 6.52s\tremaining: 32.1s\n",
      "169:\tlearn: 1813.6626373\ttotal: 6.56s\tremaining: 32s\n",
      "170:\tlearn: 1812.9822789\ttotal: 6.61s\tremaining: 32s\n",
      "171:\tlearn: 1812.5582427\ttotal: 6.64s\tremaining: 32s\n",
      "172:\tlearn: 1811.8354672\ttotal: 6.67s\tremaining: 31.9s\n",
      "173:\tlearn: 1811.3725020\ttotal: 6.71s\tremaining: 31.9s\n",
      "174:\tlearn: 1810.8608786\ttotal: 6.75s\tremaining: 31.8s\n",
      "175:\tlearn: 1810.2449498\ttotal: 6.79s\tremaining: 31.8s\n",
      "176:\tlearn: 1809.6423035\ttotal: 6.83s\tremaining: 31.7s\n",
      "177:\tlearn: 1809.2480727\ttotal: 6.86s\tremaining: 31.7s\n",
      "178:\tlearn: 1808.6675072\ttotal: 6.91s\tremaining: 31.7s\n",
      "179:\tlearn: 1808.0039389\ttotal: 6.94s\tremaining: 31.6s\n",
      "180:\tlearn: 1807.6046747\ttotal: 6.98s\tremaining: 31.6s\n",
      "181:\tlearn: 1807.3519822\ttotal: 7.01s\tremaining: 31.5s\n",
      "182:\tlearn: 1806.8990466\ttotal: 7.05s\tremaining: 31.5s\n",
      "183:\tlearn: 1806.2886441\ttotal: 7.1s\tremaining: 31.5s\n",
      "184:\tlearn: 1805.5854407\ttotal: 7.14s\tremaining: 31.5s\n",
      "185:\tlearn: 1805.0783816\ttotal: 7.18s\tremaining: 31.4s\n",
      "186:\tlearn: 1804.5242344\ttotal: 7.22s\tremaining: 31.4s\n",
      "187:\tlearn: 1804.3149081\ttotal: 7.25s\tremaining: 31.3s\n",
      "188:\tlearn: 1803.7452142\ttotal: 7.29s\tremaining: 31.3s\n",
      "189:\tlearn: 1803.4434408\ttotal: 7.33s\tremaining: 31.2s\n",
      "190:\tlearn: 1803.1064225\ttotal: 7.37s\tremaining: 31.2s\n",
      "191:\tlearn: 1802.6029852\ttotal: 7.4s\tremaining: 31.2s\n",
      "192:\tlearn: 1802.1195912\ttotal: 7.44s\tremaining: 31.1s\n",
      "193:\tlearn: 1801.6937097\ttotal: 7.48s\tremaining: 31.1s\n",
      "194:\tlearn: 1801.2427150\ttotal: 7.51s\tremaining: 31s\n",
      "195:\tlearn: 1800.9240433\ttotal: 7.55s\tremaining: 31s\n",
      "196:\tlearn: 1800.5739351\ttotal: 7.59s\tremaining: 31s\n",
      "197:\tlearn: 1800.1988974\ttotal: 7.63s\tremaining: 30.9s\n",
      "198:\tlearn: 1799.8508234\ttotal: 7.67s\tremaining: 30.9s\n",
      "199:\tlearn: 1799.1884678\ttotal: 7.71s\tremaining: 30.8s\n",
      "200:\tlearn: 1798.5902332\ttotal: 7.74s\tremaining: 30.8s\n",
      "201:\tlearn: 1798.0212189\ttotal: 7.78s\tremaining: 30.7s\n",
      "202:\tlearn: 1797.7243252\ttotal: 7.82s\tremaining: 30.7s\n",
      "203:\tlearn: 1797.0336469\ttotal: 7.86s\tremaining: 30.7s\n",
      "204:\tlearn: 1796.3191776\ttotal: 7.9s\tremaining: 30.6s\n",
      "205:\tlearn: 1795.9519571\ttotal: 7.93s\tremaining: 30.6s\n",
      "206:\tlearn: 1795.5950900\ttotal: 7.97s\tremaining: 30.5s\n",
      "207:\tlearn: 1795.2389059\ttotal: 8.01s\tremaining: 30.5s\n",
      "208:\tlearn: 1794.7079839\ttotal: 8.04s\tremaining: 30.4s\n",
      "209:\tlearn: 1794.1596165\ttotal: 8.08s\tremaining: 30.4s\n",
      "210:\tlearn: 1793.7831297\ttotal: 8.12s\tremaining: 30.3s\n",
      "211:\tlearn: 1793.4907585\ttotal: 8.15s\tremaining: 30.3s\n",
      "212:\tlearn: 1792.9769478\ttotal: 8.19s\tremaining: 30.2s\n",
      "213:\tlearn: 1792.5382337\ttotal: 8.22s\tremaining: 30.2s\n",
      "214:\tlearn: 1791.9538646\ttotal: 8.26s\tremaining: 30.2s\n",
      "215:\tlearn: 1791.2988125\ttotal: 8.3s\tremaining: 30.1s\n",
      "216:\tlearn: 1790.8879168\ttotal: 8.33s\tremaining: 30.1s\n",
      "217:\tlearn: 1790.5466705\ttotal: 8.37s\tremaining: 30s\n",
      "218:\tlearn: 1790.1821375\ttotal: 8.41s\tremaining: 30s\n",
      "219:\tlearn: 1789.8022776\ttotal: 8.45s\tremaining: 29.9s\n",
      "220:\tlearn: 1789.3897690\ttotal: 8.48s\tremaining: 29.9s\n",
      "221:\tlearn: 1789.2006412\ttotal: 8.51s\tremaining: 29.8s\n",
      "222:\tlearn: 1788.6142665\ttotal: 8.56s\tremaining: 29.8s\n",
      "223:\tlearn: 1788.1002454\ttotal: 8.6s\tremaining: 29.8s\n",
      "224:\tlearn: 1787.6531289\ttotal: 8.64s\tremaining: 29.8s\n",
      "225:\tlearn: 1787.2842224\ttotal: 8.68s\tremaining: 29.7s\n",
      "226:\tlearn: 1786.9077368\ttotal: 8.71s\tremaining: 29.6s\n",
      "227:\tlearn: 1786.4275520\ttotal: 8.75s\tremaining: 29.6s\n",
      "228:\tlearn: 1786.1205733\ttotal: 8.78s\tremaining: 29.6s\n",
      "229:\tlearn: 1785.6904303\ttotal: 8.82s\tremaining: 29.5s\n",
      "230:\tlearn: 1785.3968018\ttotal: 8.86s\tremaining: 29.5s\n",
      "231:\tlearn: 1784.9782433\ttotal: 8.89s\tremaining: 29.4s\n",
      "232:\tlearn: 1784.6855910\ttotal: 8.94s\tremaining: 29.4s\n",
      "233:\tlearn: 1784.2238292\ttotal: 8.97s\tremaining: 29.4s\n",
      "234:\tlearn: 1783.9608709\ttotal: 9s\tremaining: 29.3s\n",
      "235:\tlearn: 1783.6271962\ttotal: 9.04s\tremaining: 29.3s\n",
      "236:\tlearn: 1783.2335930\ttotal: 9.07s\tremaining: 29.2s\n",
      "237:\tlearn: 1782.7868410\ttotal: 9.11s\tremaining: 29.2s\n",
      "238:\tlearn: 1782.5721117\ttotal: 9.15s\tremaining: 29.1s\n",
      "239:\tlearn: 1781.9219510\ttotal: 9.18s\tremaining: 29.1s\n",
      "240:\tlearn: 1781.7145898\ttotal: 9.22s\tremaining: 29s\n",
      "241:\tlearn: 1781.3611394\ttotal: 9.26s\tremaining: 29s\n",
      "242:\tlearn: 1781.1198496\ttotal: 9.29s\tremaining: 28.9s\n",
      "243:\tlearn: 1780.6603243\ttotal: 9.33s\tremaining: 28.9s\n",
      "244:\tlearn: 1780.2112602\ttotal: 9.36s\tremaining: 28.9s\n",
      "245:\tlearn: 1779.9453147\ttotal: 9.4s\tremaining: 28.8s\n",
      "246:\tlearn: 1779.5035305\ttotal: 9.44s\tremaining: 28.8s\n",
      "247:\tlearn: 1779.1024113\ttotal: 9.47s\tremaining: 28.7s\n",
      "248:\tlearn: 1778.6124969\ttotal: 9.51s\tremaining: 28.7s\n",
      "249:\tlearn: 1778.2540646\ttotal: 9.56s\tremaining: 28.7s\n",
      "250:\tlearn: 1777.8708548\ttotal: 9.59s\tremaining: 28.6s\n",
      "251:\tlearn: 1777.6396625\ttotal: 9.63s\tremaining: 28.6s\n",
      "252:\tlearn: 1777.3333206\ttotal: 9.67s\tremaining: 28.5s\n",
      "253:\tlearn: 1776.9195690\ttotal: 9.71s\tremaining: 28.5s\n",
      "254:\tlearn: 1776.6025572\ttotal: 9.74s\tremaining: 28.5s\n",
      "255:\tlearn: 1776.1948877\ttotal: 9.78s\tremaining: 28.4s\n",
      "256:\tlearn: 1775.9161063\ttotal: 9.82s\tremaining: 28.4s\n",
      "257:\tlearn: 1775.6270258\ttotal: 9.85s\tremaining: 28.3s\n",
      "258:\tlearn: 1775.3998128\ttotal: 9.89s\tremaining: 28.3s\n",
      "259:\tlearn: 1775.0897997\ttotal: 9.93s\tremaining: 28.3s\n",
      "260:\tlearn: 1774.8271029\ttotal: 9.96s\tremaining: 28.2s\n",
      "261:\tlearn: 1774.3388322\ttotal: 10s\tremaining: 28.2s\n",
      "262:\tlearn: 1774.0200502\ttotal: 10s\tremaining: 28.1s\n",
      "263:\tlearn: 1773.6887452\ttotal: 10.1s\tremaining: 28.1s\n",
      "264:\tlearn: 1773.4059839\ttotal: 10.1s\tremaining: 28.1s\n",
      "265:\tlearn: 1773.1201130\ttotal: 10.2s\tremaining: 28s\n",
      "266:\tlearn: 1772.7696711\ttotal: 10.2s\tremaining: 28s\n",
      "267:\tlearn: 1772.4872386\ttotal: 10.2s\tremaining: 27.9s\n",
      "268:\tlearn: 1772.2062464\ttotal: 10.3s\tremaining: 27.9s\n",
      "269:\tlearn: 1771.8423772\ttotal: 10.3s\tremaining: 27.9s\n",
      "270:\tlearn: 1771.5846551\ttotal: 10.3s\tremaining: 27.8s\n",
      "271:\tlearn: 1771.4041686\ttotal: 10.4s\tremaining: 27.8s\n",
      "272:\tlearn: 1770.8989639\ttotal: 10.4s\tremaining: 27.7s\n",
      "273:\tlearn: 1770.1904435\ttotal: 10.5s\tremaining: 27.7s\n",
      "274:\tlearn: 1769.7568932\ttotal: 10.5s\tremaining: 27.6s\n",
      "275:\tlearn: 1769.3664708\ttotal: 10.5s\tremaining: 27.6s\n",
      "276:\tlearn: 1769.0642151\ttotal: 10.6s\tremaining: 27.6s\n",
      "277:\tlearn: 1768.6658957\ttotal: 10.6s\tremaining: 27.5s\n",
      "278:\tlearn: 1768.1364497\ttotal: 10.6s\tremaining: 27.5s\n",
      "279:\tlearn: 1767.9284926\ttotal: 10.7s\tremaining: 27.5s\n",
      "280:\tlearn: 1767.6985789\ttotal: 10.7s\tremaining: 27.4s\n",
      "281:\tlearn: 1767.1823263\ttotal: 10.8s\tremaining: 27.4s\n",
      "282:\tlearn: 1766.8906104\ttotal: 10.8s\tremaining: 27.4s\n",
      "283:\tlearn: 1766.6383109\ttotal: 10.8s\tremaining: 27.3s\n",
      "284:\tlearn: 1766.1665040\ttotal: 10.9s\tremaining: 27.3s\n",
      "285:\tlearn: 1765.8448374\ttotal: 10.9s\tremaining: 27.3s\n",
      "286:\tlearn: 1765.5680723\ttotal: 11s\tremaining: 27.3s\n",
      "287:\tlearn: 1765.3666445\ttotal: 11s\tremaining: 27.2s\n",
      "288:\tlearn: 1765.1500794\ttotal: 11.1s\tremaining: 27.2s\n",
      "289:\tlearn: 1764.8564873\ttotal: 11.1s\tremaining: 27.2s\n",
      "290:\tlearn: 1764.5185652\ttotal: 11.1s\tremaining: 27.1s\n",
      "291:\tlearn: 1764.1867872\ttotal: 11.2s\tremaining: 27.1s\n",
      "292:\tlearn: 1763.8993393\ttotal: 11.2s\tremaining: 27s\n",
      "293:\tlearn: 1763.6660679\ttotal: 11.2s\tremaining: 27s\n",
      "294:\tlearn: 1763.3575871\ttotal: 11.3s\tremaining: 26.9s\n",
      "295:\tlearn: 1763.1142639\ttotal: 11.3s\tremaining: 26.9s\n",
      "296:\tlearn: 1762.6812398\ttotal: 11.3s\tremaining: 26.8s\n",
      "297:\tlearn: 1762.2830127\ttotal: 11.4s\tremaining: 26.8s\n",
      "298:\tlearn: 1762.0901304\ttotal: 11.4s\tremaining: 26.7s\n",
      "299:\tlearn: 1761.7681685\ttotal: 11.5s\tremaining: 26.7s\n",
      "300:\tlearn: 1761.4818991\ttotal: 11.5s\tremaining: 26.7s\n",
      "301:\tlearn: 1761.1103422\ttotal: 11.5s\tremaining: 26.7s\n",
      "302:\tlearn: 1760.8641990\ttotal: 11.6s\tremaining: 26.6s\n",
      "303:\tlearn: 1760.6317205\ttotal: 11.6s\tremaining: 26.6s\n",
      "304:\tlearn: 1760.3780051\ttotal: 11.6s\tremaining: 26.5s\n",
      "305:\tlearn: 1760.0414518\ttotal: 11.7s\tremaining: 26.5s\n",
      "306:\tlearn: 1759.8263695\ttotal: 11.7s\tremaining: 26.4s\n",
      "307:\tlearn: 1759.5421926\ttotal: 11.8s\tremaining: 26.4s\n",
      "308:\tlearn: 1759.2803304\ttotal: 11.8s\tremaining: 26.4s\n",
      "309:\tlearn: 1758.7037405\ttotal: 11.8s\tremaining: 26.3s\n",
      "310:\tlearn: 1758.4650643\ttotal: 11.9s\tremaining: 26.3s\n",
      "311:\tlearn: 1758.0051509\ttotal: 11.9s\tremaining: 26.2s\n",
      "312:\tlearn: 1757.8479266\ttotal: 11.9s\tremaining: 26.2s\n",
      "313:\tlearn: 1757.5739874\ttotal: 12s\tremaining: 26.1s\n",
      "314:\tlearn: 1757.3063596\ttotal: 12s\tremaining: 26.1s\n",
      "315:\tlearn: 1757.0848107\ttotal: 12s\tremaining: 26.1s\n",
      "316:\tlearn: 1756.7994567\ttotal: 12.1s\tremaining: 26s\n",
      "317:\tlearn: 1756.5600904\ttotal: 12.1s\tremaining: 26s\n",
      "318:\tlearn: 1756.2659534\ttotal: 12.1s\tremaining: 25.9s\n",
      "319:\tlearn: 1756.0907102\ttotal: 12.2s\tremaining: 25.9s\n",
      "320:\tlearn: 1755.8491010\ttotal: 12.2s\tremaining: 25.8s\n",
      "321:\tlearn: 1755.5478877\ttotal: 12.2s\tremaining: 25.8s\n",
      "322:\tlearn: 1755.1168360\ttotal: 12.3s\tremaining: 25.7s\n",
      "323:\tlearn: 1754.8449535\ttotal: 12.3s\tremaining: 25.7s\n",
      "324:\tlearn: 1754.5057935\ttotal: 12.4s\tremaining: 25.7s\n",
      "325:\tlearn: 1754.0880522\ttotal: 12.4s\tremaining: 25.6s\n",
      "326:\tlearn: 1753.8344479\ttotal: 12.4s\tremaining: 25.6s\n",
      "327:\tlearn: 1753.6281704\ttotal: 12.5s\tremaining: 25.5s\n",
      "328:\tlearn: 1753.2965795\ttotal: 12.5s\tremaining: 25.5s\n",
      "329:\tlearn: 1752.9300382\ttotal: 12.5s\tremaining: 25.4s\n",
      "330:\tlearn: 1752.5147734\ttotal: 12.6s\tremaining: 25.4s\n",
      "331:\tlearn: 1752.1240970\ttotal: 12.6s\tremaining: 25.4s\n",
      "332:\tlearn: 1751.9118084\ttotal: 12.6s\tremaining: 25.3s\n",
      "333:\tlearn: 1751.5902142\ttotal: 12.7s\tremaining: 25.3s\n",
      "334:\tlearn: 1751.3225292\ttotal: 12.7s\tremaining: 25.2s\n",
      "335:\tlearn: 1750.9929799\ttotal: 12.7s\tremaining: 25.2s\n",
      "336:\tlearn: 1750.7245450\ttotal: 12.8s\tremaining: 25.1s\n",
      "337:\tlearn: 1750.3474505\ttotal: 12.8s\tremaining: 25.1s\n",
      "338:\tlearn: 1750.1473267\ttotal: 12.9s\tremaining: 25.1s\n",
      "339:\tlearn: 1749.9925988\ttotal: 12.9s\tremaining: 25s\n",
      "340:\tlearn: 1749.7293843\ttotal: 12.9s\tremaining: 25s\n",
      "341:\tlearn: 1749.5443800\ttotal: 13s\tremaining: 24.9s\n",
      "342:\tlearn: 1749.2786608\ttotal: 13s\tremaining: 24.9s\n",
      "343:\tlearn: 1749.0282543\ttotal: 13s\tremaining: 24.9s\n",
      "344:\tlearn: 1748.8016758\ttotal: 13.1s\tremaining: 24.8s\n",
      "345:\tlearn: 1748.5816151\ttotal: 13.1s\tremaining: 24.8s\n",
      "346:\tlearn: 1748.2391353\ttotal: 13.1s\tremaining: 24.7s\n",
      "347:\tlearn: 1747.9193570\ttotal: 13.2s\tremaining: 24.7s\n",
      "348:\tlearn: 1747.5006882\ttotal: 13.2s\tremaining: 24.6s\n",
      "349:\tlearn: 1747.2459727\ttotal: 13.2s\tremaining: 24.6s\n",
      "350:\tlearn: 1746.9780406\ttotal: 13.3s\tremaining: 24.6s\n",
      "351:\tlearn: 1746.6494659\ttotal: 13.3s\tremaining: 24.5s\n",
      "352:\tlearn: 1746.4461148\ttotal: 13.3s\tremaining: 24.5s\n",
      "353:\tlearn: 1746.2071127\ttotal: 13.4s\tremaining: 24.4s\n",
      "354:\tlearn: 1745.9392687\ttotal: 13.4s\tremaining: 24.4s\n",
      "355:\tlearn: 1745.5625000\ttotal: 13.5s\tremaining: 24.4s\n",
      "356:\tlearn: 1745.2700794\ttotal: 13.5s\tremaining: 24.3s\n",
      "357:\tlearn: 1744.8984304\ttotal: 13.5s\tremaining: 24.3s\n",
      "358:\tlearn: 1744.6932283\ttotal: 13.6s\tremaining: 24.3s\n",
      "359:\tlearn: 1744.5093506\ttotal: 13.6s\tremaining: 24.2s\n",
      "360:\tlearn: 1744.2132385\ttotal: 13.7s\tremaining: 24.2s\n",
      "361:\tlearn: 1743.7651854\ttotal: 13.7s\tremaining: 24.1s\n",
      "362:\tlearn: 1743.2861394\ttotal: 13.7s\tremaining: 24.1s\n",
      "363:\tlearn: 1743.0874491\ttotal: 13.8s\tremaining: 24.1s\n",
      "364:\tlearn: 1742.8353213\ttotal: 13.8s\tremaining: 24s\n",
      "365:\tlearn: 1742.6024486\ttotal: 13.8s\tremaining: 24s\n",
      "366:\tlearn: 1742.3204285\ttotal: 13.9s\tremaining: 23.9s\n",
      "367:\tlearn: 1742.1034864\ttotal: 13.9s\tremaining: 23.9s\n",
      "368:\tlearn: 1741.6239581\ttotal: 13.9s\tremaining: 23.8s\n",
      "369:\tlearn: 1741.3617940\ttotal: 14s\tremaining: 23.8s\n",
      "370:\tlearn: 1741.0757835\ttotal: 14s\tremaining: 23.8s\n",
      "371:\tlearn: 1740.7511262\ttotal: 14.1s\tremaining: 23.7s\n",
      "372:\tlearn: 1740.4421277\ttotal: 14.1s\tremaining: 23.7s\n",
      "373:\tlearn: 1740.1921007\ttotal: 14.1s\tremaining: 23.7s\n",
      "374:\tlearn: 1739.7759459\ttotal: 14.2s\tremaining: 23.6s\n",
      "375:\tlearn: 1739.5004514\ttotal: 14.2s\tremaining: 23.6s\n",
      "376:\tlearn: 1739.2280361\ttotal: 14.2s\tremaining: 23.5s\n",
      "377:\tlearn: 1739.0545965\ttotal: 14.3s\tremaining: 23.5s\n",
      "378:\tlearn: 1738.8086327\ttotal: 14.3s\tremaining: 23.4s\n",
      "379:\tlearn: 1738.6508553\ttotal: 14.3s\tremaining: 23.4s\n",
      "380:\tlearn: 1738.3791908\ttotal: 14.4s\tremaining: 23.4s\n",
      "381:\tlearn: 1738.1401524\ttotal: 14.4s\tremaining: 23.3s\n",
      "382:\tlearn: 1737.8842934\ttotal: 14.5s\tremaining: 23.3s\n",
      "383:\tlearn: 1737.6455247\ttotal: 14.5s\tremaining: 23.3s\n",
      "384:\tlearn: 1737.4289805\ttotal: 14.5s\tremaining: 23.2s\n",
      "385:\tlearn: 1737.1759950\ttotal: 14.6s\tremaining: 23.2s\n",
      "386:\tlearn: 1736.9287996\ttotal: 14.6s\tremaining: 23.1s\n",
      "387:\tlearn: 1736.6644316\ttotal: 14.7s\tremaining: 23.1s\n",
      "388:\tlearn: 1736.4509275\ttotal: 14.7s\tremaining: 23.1s\n",
      "389:\tlearn: 1736.1780686\ttotal: 14.7s\tremaining: 23s\n",
      "390:\tlearn: 1735.8027451\ttotal: 14.8s\tremaining: 23s\n",
      "391:\tlearn: 1735.5312872\ttotal: 14.8s\tremaining: 23s\n",
      "392:\tlearn: 1735.2365895\ttotal: 14.8s\tremaining: 22.9s\n",
      "393:\tlearn: 1735.0621982\ttotal: 14.9s\tremaining: 22.9s\n",
      "394:\tlearn: 1734.7786646\ttotal: 14.9s\tremaining: 22.8s\n",
      "395:\tlearn: 1734.5900719\ttotal: 14.9s\tremaining: 22.8s\n",
      "396:\tlearn: 1734.4205195\ttotal: 15s\tremaining: 22.8s\n",
      "397:\tlearn: 1734.1769668\ttotal: 15s\tremaining: 22.7s\n",
      "398:\tlearn: 1734.0092385\ttotal: 15s\tremaining: 22.7s\n",
      "399:\tlearn: 1733.6076731\ttotal: 15.1s\tremaining: 22.6s\n",
      "400:\tlearn: 1733.4073943\ttotal: 15.1s\tremaining: 22.6s\n",
      "401:\tlearn: 1733.1870464\ttotal: 15.2s\tremaining: 22.5s\n",
      "402:\tlearn: 1732.8418426\ttotal: 15.2s\tremaining: 22.5s\n",
      "403:\tlearn: 1732.5884280\ttotal: 15.2s\tremaining: 22.5s\n",
      "404:\tlearn: 1732.4253999\ttotal: 15.3s\tremaining: 22.4s\n",
      "405:\tlearn: 1732.2204470\ttotal: 15.3s\tremaining: 22.4s\n",
      "406:\tlearn: 1732.0078576\ttotal: 15.3s\tremaining: 22.3s\n",
      "407:\tlearn: 1731.6408685\ttotal: 15.4s\tremaining: 22.3s\n",
      "408:\tlearn: 1731.4376410\ttotal: 15.4s\tremaining: 22.3s\n",
      "409:\tlearn: 1731.0719856\ttotal: 15.4s\tremaining: 22.2s\n",
      "410:\tlearn: 1730.9297863\ttotal: 15.5s\tremaining: 22.2s\n",
      "411:\tlearn: 1730.5167411\ttotal: 15.5s\tremaining: 22.2s\n",
      "412:\tlearn: 1730.2006985\ttotal: 15.6s\tremaining: 22.1s\n",
      "413:\tlearn: 1729.9278694\ttotal: 15.6s\tremaining: 22.1s\n",
      "414:\tlearn: 1729.6756361\ttotal: 15.6s\tremaining: 22s\n",
      "415:\tlearn: 1729.4111341\ttotal: 15.7s\tremaining: 22s\n",
      "416:\tlearn: 1729.2568988\ttotal: 15.7s\tremaining: 22s\n",
      "417:\tlearn: 1729.0928255\ttotal: 15.7s\tremaining: 21.9s\n",
      "418:\tlearn: 1728.8499582\ttotal: 15.8s\tremaining: 21.9s\n",
      "419:\tlearn: 1728.5351801\ttotal: 15.8s\tremaining: 21.9s\n",
      "420:\tlearn: 1728.2158585\ttotal: 15.9s\tremaining: 21.8s\n",
      "421:\tlearn: 1728.0929619\ttotal: 15.9s\tremaining: 21.8s\n",
      "422:\tlearn: 1727.9116979\ttotal: 15.9s\tremaining: 21.7s\n",
      "423:\tlearn: 1727.6771975\ttotal: 16s\tremaining: 21.7s\n",
      "424:\tlearn: 1727.4173729\ttotal: 16s\tremaining: 21.7s\n",
      "425:\tlearn: 1727.0662389\ttotal: 16s\tremaining: 21.6s\n",
      "426:\tlearn: 1726.8669824\ttotal: 16.1s\tremaining: 21.6s\n",
      "427:\tlearn: 1726.6371360\ttotal: 16.1s\tremaining: 21.5s\n",
      "428:\tlearn: 1726.3195048\ttotal: 16.1s\tremaining: 21.5s\n",
      "429:\tlearn: 1726.0887469\ttotal: 16.2s\tremaining: 21.5s\n",
      "430:\tlearn: 1725.8260628\ttotal: 16.2s\tremaining: 21.4s\n",
      "431:\tlearn: 1725.5895624\ttotal: 16.3s\tremaining: 21.4s\n",
      "432:\tlearn: 1725.2705483\ttotal: 16.3s\tremaining: 21.4s\n",
      "433:\tlearn: 1725.1367573\ttotal: 16.3s\tremaining: 21.3s\n",
      "434:\tlearn: 1725.0005454\ttotal: 16.4s\tremaining: 21.3s\n",
      "435:\tlearn: 1724.8051876\ttotal: 16.4s\tremaining: 21.2s\n",
      "436:\tlearn: 1724.6564043\ttotal: 16.4s\tremaining: 21.2s\n",
      "437:\tlearn: 1724.5366264\ttotal: 16.5s\tremaining: 21.1s\n",
      "438:\tlearn: 1724.2321711\ttotal: 16.5s\tremaining: 21.1s\n",
      "439:\tlearn: 1724.0565394\ttotal: 16.5s\tremaining: 21.1s\n",
      "440:\tlearn: 1723.8850055\ttotal: 16.6s\tremaining: 21s\n",
      "441:\tlearn: 1723.6696154\ttotal: 16.6s\tremaining: 21s\n",
      "442:\tlearn: 1723.3431246\ttotal: 16.7s\tremaining: 20.9s\n",
      "443:\tlearn: 1723.1398505\ttotal: 16.7s\tremaining: 20.9s\n",
      "444:\tlearn: 1722.8639785\ttotal: 16.7s\tremaining: 20.9s\n",
      "445:\tlearn: 1722.6735897\ttotal: 16.8s\tremaining: 20.8s\n",
      "446:\tlearn: 1722.5845354\ttotal: 16.8s\tremaining: 20.8s\n",
      "447:\tlearn: 1722.4097049\ttotal: 16.8s\tremaining: 20.7s\n",
      "448:\tlearn: 1722.1139844\ttotal: 16.9s\tremaining: 20.7s\n",
      "449:\tlearn: 1721.7760568\ttotal: 16.9s\tremaining: 20.7s\n",
      "450:\tlearn: 1721.4713080\ttotal: 17s\tremaining: 20.6s\n",
      "451:\tlearn: 1721.2194677\ttotal: 17s\tremaining: 20.6s\n",
      "452:\tlearn: 1721.0612090\ttotal: 17s\tremaining: 20.6s\n",
      "453:\tlearn: 1720.9146539\ttotal: 17.1s\tremaining: 20.5s\n",
      "454:\tlearn: 1720.8222587\ttotal: 17.1s\tremaining: 20.5s\n",
      "455:\tlearn: 1720.6646628\ttotal: 17.1s\tremaining: 20.5s\n",
      "456:\tlearn: 1720.4637749\ttotal: 17.2s\tremaining: 20.4s\n",
      "457:\tlearn: 1720.2393639\ttotal: 17.2s\tremaining: 20.4s\n",
      "458:\tlearn: 1720.1202312\ttotal: 17.3s\tremaining: 20.3s\n",
      "459:\tlearn: 1719.7680282\ttotal: 17.3s\tremaining: 20.3s\n",
      "460:\tlearn: 1719.5163737\ttotal: 17.3s\tremaining: 20.3s\n",
      "461:\tlearn: 1719.3732885\ttotal: 17.4s\tremaining: 20.2s\n",
      "462:\tlearn: 1719.2246511\ttotal: 17.4s\tremaining: 20.2s\n",
      "463:\tlearn: 1719.1061951\ttotal: 17.4s\tremaining: 20.1s\n",
      "464:\tlearn: 1718.8771668\ttotal: 17.5s\tremaining: 20.1s\n",
      "465:\tlearn: 1718.6532539\ttotal: 17.5s\tremaining: 20.1s\n",
      "466:\tlearn: 1718.4049513\ttotal: 17.5s\tremaining: 20s\n",
      "467:\tlearn: 1718.2375973\ttotal: 17.6s\tremaining: 20s\n",
      "468:\tlearn: 1717.9303183\ttotal: 17.6s\tremaining: 19.9s\n",
      "469:\tlearn: 1717.7103214\ttotal: 17.7s\tremaining: 19.9s\n",
      "470:\tlearn: 1717.4267298\ttotal: 17.7s\tremaining: 19.9s\n",
      "471:\tlearn: 1717.1456832\ttotal: 17.7s\tremaining: 19.8s\n",
      "472:\tlearn: 1716.9588359\ttotal: 17.8s\tremaining: 19.8s\n",
      "473:\tlearn: 1716.8348814\ttotal: 17.8s\tremaining: 19.8s\n",
      "474:\tlearn: 1716.5559279\ttotal: 17.8s\tremaining: 19.7s\n",
      "475:\tlearn: 1716.3504419\ttotal: 17.9s\tremaining: 19.7s\n",
      "476:\tlearn: 1716.2040290\ttotal: 17.9s\tremaining: 19.6s\n",
      "477:\tlearn: 1716.0826465\ttotal: 17.9s\tremaining: 19.6s\n",
      "478:\tlearn: 1715.9015271\ttotal: 18s\tremaining: 19.6s\n",
      "479:\tlearn: 1715.7024150\ttotal: 18s\tremaining: 19.5s\n",
      "480:\tlearn: 1715.6024799\ttotal: 18s\tremaining: 19.5s\n",
      "481:\tlearn: 1715.3289656\ttotal: 18.1s\tremaining: 19.4s\n",
      "482:\tlearn: 1715.2076024\ttotal: 18.1s\tremaining: 19.4s\n",
      "483:\tlearn: 1714.9178652\ttotal: 18.2s\tremaining: 19.4s\n",
      "484:\tlearn: 1714.7177816\ttotal: 18.2s\tremaining: 19.3s\n",
      "485:\tlearn: 1714.4598430\ttotal: 18.2s\tremaining: 19.3s\n",
      "486:\tlearn: 1714.0183643\ttotal: 18.3s\tremaining: 19.2s\n",
      "487:\tlearn: 1713.7304333\ttotal: 18.3s\tremaining: 19.2s\n",
      "488:\tlearn: 1713.5103897\ttotal: 18.3s\tremaining: 19.2s\n",
      "489:\tlearn: 1713.3742397\ttotal: 18.4s\tremaining: 19.1s\n",
      "490:\tlearn: 1713.2619764\ttotal: 18.4s\tremaining: 19.1s\n",
      "491:\tlearn: 1713.0387966\ttotal: 18.4s\tremaining: 19s\n",
      "492:\tlearn: 1712.9401211\ttotal: 18.5s\tremaining: 19s\n",
      "493:\tlearn: 1712.7394449\ttotal: 18.5s\tremaining: 19s\n",
      "494:\tlearn: 1712.5343663\ttotal: 18.5s\tremaining: 18.9s\n",
      "495:\tlearn: 1712.3784743\ttotal: 18.6s\tremaining: 18.9s\n",
      "496:\tlearn: 1712.0922978\ttotal: 18.6s\tremaining: 18.9s\n",
      "497:\tlearn: 1711.8156402\ttotal: 18.7s\tremaining: 18.8s\n",
      "498:\tlearn: 1711.6820771\ttotal: 18.7s\tremaining: 18.8s\n",
      "499:\tlearn: 1711.4950015\ttotal: 18.7s\tremaining: 18.7s\n",
      "500:\tlearn: 1711.2591853\ttotal: 18.8s\tremaining: 18.7s\n",
      "501:\tlearn: 1711.0977516\ttotal: 18.8s\tremaining: 18.7s\n",
      "502:\tlearn: 1710.9929387\ttotal: 18.9s\tremaining: 18.6s\n",
      "503:\tlearn: 1710.8271099\ttotal: 18.9s\tremaining: 18.6s\n",
      "504:\tlearn: 1710.6331287\ttotal: 18.9s\tremaining: 18.6s\n",
      "505:\tlearn: 1710.4762621\ttotal: 19s\tremaining: 18.5s\n",
      "506:\tlearn: 1710.3142589\ttotal: 19s\tremaining: 18.5s\n",
      "507:\tlearn: 1710.1899185\ttotal: 19s\tremaining: 18.4s\n",
      "508:\tlearn: 1709.9372884\ttotal: 19.1s\tremaining: 18.4s\n",
      "509:\tlearn: 1709.7034273\ttotal: 19.1s\tremaining: 18.4s\n",
      "510:\tlearn: 1709.5120325\ttotal: 19.2s\tremaining: 18.3s\n",
      "511:\tlearn: 1709.2075357\ttotal: 19.2s\tremaining: 18.3s\n",
      "512:\tlearn: 1709.0654959\ttotal: 19.2s\tremaining: 18.3s\n",
      "513:\tlearn: 1708.8787820\ttotal: 19.3s\tremaining: 18.2s\n",
      "514:\tlearn: 1708.6184315\ttotal: 19.3s\tremaining: 18.2s\n",
      "515:\tlearn: 1708.5472845\ttotal: 19.3s\tremaining: 18.1s\n",
      "516:\tlearn: 1708.4376861\ttotal: 19.4s\tremaining: 18.1s\n",
      "517:\tlearn: 1708.2355679\ttotal: 19.4s\tremaining: 18.1s\n",
      "518:\tlearn: 1707.9584908\ttotal: 19.4s\tremaining: 18s\n",
      "519:\tlearn: 1707.6131821\ttotal: 19.5s\tremaining: 18s\n",
      "520:\tlearn: 1707.3502514\ttotal: 19.5s\tremaining: 17.9s\n",
      "521:\tlearn: 1707.1687955\ttotal: 19.6s\tremaining: 17.9s\n",
      "522:\tlearn: 1706.8852222\ttotal: 19.6s\tremaining: 17.9s\n",
      "523:\tlearn: 1706.7647810\ttotal: 19.6s\tremaining: 17.8s\n",
      "524:\tlearn: 1706.6047831\ttotal: 19.7s\tremaining: 17.8s\n",
      "525:\tlearn: 1706.4204895\ttotal: 19.7s\tremaining: 17.8s\n",
      "526:\tlearn: 1706.2095678\ttotal: 19.7s\tremaining: 17.7s\n",
      "527:\tlearn: 1706.0232433\ttotal: 19.8s\tremaining: 17.7s\n",
      "528:\tlearn: 1705.7865371\ttotal: 19.8s\tremaining: 17.6s\n",
      "529:\tlearn: 1705.6659996\ttotal: 19.8s\tremaining: 17.6s\n",
      "530:\tlearn: 1705.5108255\ttotal: 19.9s\tremaining: 17.6s\n",
      "531:\tlearn: 1705.2820013\ttotal: 19.9s\tremaining: 17.5s\n",
      "532:\tlearn: 1705.0822526\ttotal: 20s\tremaining: 17.5s\n",
      "533:\tlearn: 1704.9111084\ttotal: 20s\tremaining: 17.5s\n",
      "534:\tlearn: 1704.7166620\ttotal: 20s\tremaining: 17.4s\n",
      "535:\tlearn: 1704.5360805\ttotal: 20.1s\tremaining: 17.4s\n",
      "536:\tlearn: 1704.3616382\ttotal: 20.1s\tremaining: 17.3s\n",
      "537:\tlearn: 1704.2146442\ttotal: 20.1s\tremaining: 17.3s\n",
      "538:\tlearn: 1704.0714488\ttotal: 20.2s\tremaining: 17.3s\n",
      "539:\tlearn: 1703.8316317\ttotal: 20.2s\tremaining: 17.2s\n",
      "540:\tlearn: 1703.5975953\ttotal: 20.3s\tremaining: 17.2s\n",
      "541:\tlearn: 1703.4061100\ttotal: 20.3s\tremaining: 17.2s\n",
      "542:\tlearn: 1703.2313359\ttotal: 20.3s\tremaining: 17.1s\n",
      "543:\tlearn: 1703.0239437\ttotal: 20.4s\tremaining: 17.1s\n",
      "544:\tlearn: 1702.8668595\ttotal: 20.4s\tremaining: 17s\n",
      "545:\tlearn: 1702.7368019\ttotal: 20.4s\tremaining: 17s\n",
      "546:\tlearn: 1702.5079268\ttotal: 20.5s\tremaining: 17s\n",
      "547:\tlearn: 1702.4216445\ttotal: 20.5s\tremaining: 16.9s\n",
      "548:\tlearn: 1702.2927510\ttotal: 20.5s\tremaining: 16.9s\n",
      "549:\tlearn: 1702.0422832\ttotal: 20.6s\tremaining: 16.8s\n",
      "550:\tlearn: 1701.8703780\ttotal: 20.6s\tremaining: 16.8s\n",
      "551:\tlearn: 1701.7375122\ttotal: 20.6s\tremaining: 16.8s\n",
      "552:\tlearn: 1701.6181835\ttotal: 20.7s\tremaining: 16.7s\n",
      "553:\tlearn: 1701.5040375\ttotal: 20.7s\tremaining: 16.7s\n",
      "554:\tlearn: 1701.3217843\ttotal: 20.8s\tremaining: 16.7s\n",
      "555:\tlearn: 1701.1424688\ttotal: 20.8s\tremaining: 16.6s\n",
      "556:\tlearn: 1700.8518772\ttotal: 20.8s\tremaining: 16.6s\n",
      "557:\tlearn: 1700.6148405\ttotal: 20.9s\tremaining: 16.6s\n",
      "558:\tlearn: 1700.4257132\ttotal: 20.9s\tremaining: 16.5s\n",
      "559:\tlearn: 1700.3250255\ttotal: 21s\tremaining: 16.5s\n",
      "560:\tlearn: 1700.1770679\ttotal: 21s\tremaining: 16.4s\n",
      "561:\tlearn: 1700.0776019\ttotal: 21.1s\tremaining: 16.4s\n",
      "562:\tlearn: 1699.9274944\ttotal: 21.1s\tremaining: 16.4s\n",
      "563:\tlearn: 1699.7862868\ttotal: 21.1s\tremaining: 16.3s\n",
      "564:\tlearn: 1699.5850276\ttotal: 21.2s\tremaining: 16.3s\n",
      "565:\tlearn: 1699.3798315\ttotal: 21.2s\tremaining: 16.3s\n",
      "566:\tlearn: 1699.2410570\ttotal: 21.2s\tremaining: 16.2s\n",
      "567:\tlearn: 1699.0771009\ttotal: 21.3s\tremaining: 16.2s\n",
      "568:\tlearn: 1698.9200611\ttotal: 21.3s\tremaining: 16.1s\n",
      "569:\tlearn: 1698.8371874\ttotal: 21.3s\tremaining: 16.1s\n",
      "570:\tlearn: 1698.6693974\ttotal: 21.4s\tremaining: 16.1s\n",
      "571:\tlearn: 1698.4458230\ttotal: 21.4s\tremaining: 16s\n",
      "572:\tlearn: 1698.2352671\ttotal: 21.5s\tremaining: 16s\n",
      "573:\tlearn: 1698.0114403\ttotal: 21.5s\tremaining: 16s\n",
      "574:\tlearn: 1697.9620283\ttotal: 21.5s\tremaining: 15.9s\n",
      "575:\tlearn: 1697.7285149\ttotal: 21.6s\tremaining: 15.9s\n",
      "576:\tlearn: 1697.5572914\ttotal: 21.6s\tremaining: 15.8s\n",
      "577:\tlearn: 1697.2472830\ttotal: 21.6s\tremaining: 15.8s\n",
      "578:\tlearn: 1697.0865106\ttotal: 21.7s\tremaining: 15.8s\n",
      "579:\tlearn: 1696.8986570\ttotal: 21.7s\tremaining: 15.7s\n",
      "580:\tlearn: 1696.6495019\ttotal: 21.7s\tremaining: 15.7s\n",
      "581:\tlearn: 1696.5006199\ttotal: 21.8s\tremaining: 15.6s\n",
      "582:\tlearn: 1696.3224090\ttotal: 21.8s\tremaining: 15.6s\n",
      "583:\tlearn: 1696.1328786\ttotal: 21.8s\tremaining: 15.6s\n",
      "584:\tlearn: 1695.9305801\ttotal: 21.9s\tremaining: 15.5s\n",
      "585:\tlearn: 1695.7786486\ttotal: 21.9s\tremaining: 15.5s\n",
      "586:\tlearn: 1695.6893543\ttotal: 21.9s\tremaining: 15.4s\n",
      "587:\tlearn: 1695.6262466\ttotal: 22s\tremaining: 15.4s\n",
      "588:\tlearn: 1695.4207369\ttotal: 22s\tremaining: 15.4s\n",
      "589:\tlearn: 1695.3013015\ttotal: 22.1s\tremaining: 15.3s\n",
      "590:\tlearn: 1695.1384591\ttotal: 22.1s\tremaining: 15.3s\n",
      "591:\tlearn: 1694.9932710\ttotal: 22.1s\tremaining: 15.2s\n",
      "592:\tlearn: 1694.7981887\ttotal: 22.2s\tremaining: 15.2s\n",
      "593:\tlearn: 1694.6564635\ttotal: 22.2s\tremaining: 15.2s\n",
      "594:\tlearn: 1694.2926821\ttotal: 22.2s\tremaining: 15.1s\n",
      "595:\tlearn: 1694.1911682\ttotal: 22.3s\tremaining: 15.1s\n",
      "596:\tlearn: 1694.0801305\ttotal: 22.3s\tremaining: 15s\n",
      "597:\tlearn: 1693.9037712\ttotal: 22.3s\tremaining: 15s\n",
      "598:\tlearn: 1693.6964583\ttotal: 22.4s\tremaining: 15s\n",
      "599:\tlearn: 1693.5709800\ttotal: 22.4s\tremaining: 14.9s\n",
      "600:\tlearn: 1693.4147224\ttotal: 22.4s\tremaining: 14.9s\n",
      "601:\tlearn: 1693.2299947\ttotal: 22.5s\tremaining: 14.9s\n",
      "602:\tlearn: 1693.0585101\ttotal: 22.5s\tremaining: 14.8s\n",
      "603:\tlearn: 1692.8997478\ttotal: 22.6s\tremaining: 14.8s\n",
      "604:\tlearn: 1692.7430051\ttotal: 22.6s\tremaining: 14.8s\n",
      "605:\tlearn: 1692.6348260\ttotal: 22.6s\tremaining: 14.7s\n",
      "606:\tlearn: 1692.4622758\ttotal: 22.7s\tremaining: 14.7s\n",
      "607:\tlearn: 1692.3065340\ttotal: 22.7s\tremaining: 14.6s\n",
      "608:\tlearn: 1692.1929430\ttotal: 22.7s\tremaining: 14.6s\n",
      "609:\tlearn: 1691.9846774\ttotal: 22.8s\tremaining: 14.6s\n",
      "610:\tlearn: 1691.8124788\ttotal: 22.8s\tremaining: 14.5s\n",
      "611:\tlearn: 1691.4861328\ttotal: 22.9s\tremaining: 14.5s\n",
      "612:\tlearn: 1691.3641961\ttotal: 22.9s\tremaining: 14.5s\n",
      "613:\tlearn: 1691.2283038\ttotal: 22.9s\tremaining: 14.4s\n",
      "614:\tlearn: 1691.1405414\ttotal: 23s\tremaining: 14.4s\n",
      "615:\tlearn: 1690.8798935\ttotal: 23s\tremaining: 14.3s\n",
      "616:\tlearn: 1690.7862335\ttotal: 23s\tremaining: 14.3s\n",
      "617:\tlearn: 1690.6369271\ttotal: 23.1s\tremaining: 14.3s\n",
      "618:\tlearn: 1690.4939458\ttotal: 23.1s\tremaining: 14.2s\n",
      "619:\tlearn: 1690.4174686\ttotal: 23.1s\tremaining: 14.2s\n",
      "620:\tlearn: 1690.2908262\ttotal: 23.2s\tremaining: 14.1s\n",
      "621:\tlearn: 1690.0350903\ttotal: 23.2s\tremaining: 14.1s\n",
      "622:\tlearn: 1689.9688565\ttotal: 23.3s\tremaining: 14.1s\n",
      "623:\tlearn: 1689.7280056\ttotal: 23.3s\tremaining: 14s\n",
      "624:\tlearn: 1689.5527882\ttotal: 23.3s\tremaining: 14s\n",
      "625:\tlearn: 1689.3676756\ttotal: 23.4s\tremaining: 14s\n",
      "626:\tlearn: 1689.1537142\ttotal: 23.4s\tremaining: 13.9s\n",
      "627:\tlearn: 1688.9982296\ttotal: 23.4s\tremaining: 13.9s\n",
      "628:\tlearn: 1688.7045118\ttotal: 23.5s\tremaining: 13.8s\n",
      "629:\tlearn: 1688.5835104\ttotal: 23.5s\tremaining: 13.8s\n",
      "630:\tlearn: 1688.4210762\ttotal: 23.6s\tremaining: 13.8s\n",
      "631:\tlearn: 1688.3263688\ttotal: 23.6s\tremaining: 13.7s\n",
      "632:\tlearn: 1688.2075667\ttotal: 23.6s\tremaining: 13.7s\n",
      "633:\tlearn: 1687.9733608\ttotal: 23.7s\tremaining: 13.7s\n",
      "634:\tlearn: 1687.8498311\ttotal: 23.7s\tremaining: 13.6s\n",
      "635:\tlearn: 1687.6652688\ttotal: 23.7s\tremaining: 13.6s\n",
      "636:\tlearn: 1687.4933491\ttotal: 23.8s\tremaining: 13.5s\n",
      "637:\tlearn: 1687.3639066\ttotal: 23.8s\tremaining: 13.5s\n",
      "638:\tlearn: 1687.2164424\ttotal: 23.8s\tremaining: 13.5s\n",
      "639:\tlearn: 1687.1215159\ttotal: 23.9s\tremaining: 13.4s\n",
      "640:\tlearn: 1686.9672682\ttotal: 23.9s\tremaining: 13.4s\n",
      "641:\tlearn: 1686.7835279\ttotal: 23.9s\tremaining: 13.3s\n",
      "642:\tlearn: 1686.6344900\ttotal: 24s\tremaining: 13.3s\n",
      "643:\tlearn: 1686.4368296\ttotal: 24s\tremaining: 13.3s\n",
      "644:\tlearn: 1686.1283055\ttotal: 24s\tremaining: 13.2s\n",
      "645:\tlearn: 1686.0319744\ttotal: 24.1s\tremaining: 13.2s\n",
      "646:\tlearn: 1685.8784097\ttotal: 24.1s\tremaining: 13.2s\n",
      "647:\tlearn: 1685.7247837\ttotal: 24.1s\tremaining: 13.1s\n",
      "648:\tlearn: 1685.6297880\ttotal: 24.2s\tremaining: 13.1s\n",
      "649:\tlearn: 1685.4069375\ttotal: 24.2s\tremaining: 13s\n",
      "650:\tlearn: 1685.2322691\ttotal: 24.2s\tremaining: 13s\n",
      "651:\tlearn: 1685.0892882\ttotal: 24.3s\tremaining: 13s\n",
      "652:\tlearn: 1684.9853738\ttotal: 24.3s\tremaining: 12.9s\n",
      "653:\tlearn: 1684.8911601\ttotal: 24.4s\tremaining: 12.9s\n",
      "654:\tlearn: 1684.7264021\ttotal: 24.4s\tremaining: 12.8s\n",
      "655:\tlearn: 1684.6448773\ttotal: 24.4s\tremaining: 12.8s\n",
      "656:\tlearn: 1684.4500992\ttotal: 24.5s\tremaining: 12.8s\n",
      "657:\tlearn: 1684.2712591\ttotal: 24.5s\tremaining: 12.7s\n",
      "658:\tlearn: 1684.0837157\ttotal: 24.5s\tremaining: 12.7s\n",
      "659:\tlearn: 1683.9473053\ttotal: 24.6s\tremaining: 12.7s\n",
      "660:\tlearn: 1683.8144984\ttotal: 24.6s\tremaining: 12.6s\n",
      "661:\tlearn: 1683.7403280\ttotal: 24.6s\tremaining: 12.6s\n",
      "662:\tlearn: 1683.5161112\ttotal: 24.7s\tremaining: 12.5s\n",
      "663:\tlearn: 1683.3907945\ttotal: 24.7s\tremaining: 12.5s\n",
      "664:\tlearn: 1683.2898509\ttotal: 24.8s\tremaining: 12.5s\n",
      "665:\tlearn: 1683.0970672\ttotal: 24.8s\tremaining: 12.4s\n",
      "666:\tlearn: 1683.0061456\ttotal: 24.8s\tremaining: 12.4s\n",
      "667:\tlearn: 1682.9051575\ttotal: 24.9s\tremaining: 12.4s\n",
      "668:\tlearn: 1682.7057448\ttotal: 24.9s\tremaining: 12.3s\n",
      "669:\tlearn: 1682.5544938\ttotal: 24.9s\tremaining: 12.3s\n",
      "670:\tlearn: 1682.3945318\ttotal: 25s\tremaining: 12.2s\n",
      "671:\tlearn: 1682.2167941\ttotal: 25s\tremaining: 12.2s\n",
      "672:\tlearn: 1682.0770457\ttotal: 25s\tremaining: 12.2s\n",
      "673:\tlearn: 1681.8354251\ttotal: 25.1s\tremaining: 12.1s\n",
      "674:\tlearn: 1681.6784281\ttotal: 25.1s\tremaining: 12.1s\n",
      "675:\tlearn: 1681.4974934\ttotal: 25.1s\tremaining: 12s\n",
      "676:\tlearn: 1681.3850834\ttotal: 25.2s\tremaining: 12s\n",
      "677:\tlearn: 1681.2517942\ttotal: 25.2s\tremaining: 12s\n",
      "678:\tlearn: 1681.1611254\ttotal: 25.2s\tremaining: 11.9s\n",
      "679:\tlearn: 1681.0016668\ttotal: 25.3s\tremaining: 11.9s\n",
      "680:\tlearn: 1680.8935747\ttotal: 25.3s\tremaining: 11.9s\n",
      "681:\tlearn: 1680.8247735\ttotal: 25.3s\tremaining: 11.8s\n",
      "682:\tlearn: 1680.7218487\ttotal: 25.4s\tremaining: 11.8s\n",
      "683:\tlearn: 1680.5864594\ttotal: 25.4s\tremaining: 11.7s\n",
      "684:\tlearn: 1680.4605058\ttotal: 25.5s\tremaining: 11.7s\n",
      "685:\tlearn: 1680.2376068\ttotal: 25.5s\tremaining: 11.7s\n",
      "686:\tlearn: 1680.1758320\ttotal: 25.5s\tremaining: 11.6s\n",
      "687:\tlearn: 1680.0241639\ttotal: 25.6s\tremaining: 11.6s\n",
      "688:\tlearn: 1679.8791839\ttotal: 25.6s\tremaining: 11.5s\n",
      "689:\tlearn: 1679.7162481\ttotal: 25.6s\tremaining: 11.5s\n",
      "690:\tlearn: 1679.5416180\ttotal: 25.7s\tremaining: 11.5s\n",
      "691:\tlearn: 1679.4170630\ttotal: 25.7s\tremaining: 11.4s\n",
      "692:\tlearn: 1679.2436408\ttotal: 25.7s\tremaining: 11.4s\n",
      "693:\tlearn: 1679.1117381\ttotal: 25.8s\tremaining: 11.4s\n",
      "694:\tlearn: 1678.9576004\ttotal: 25.8s\tremaining: 11.3s\n",
      "695:\tlearn: 1678.8058421\ttotal: 25.8s\tremaining: 11.3s\n",
      "696:\tlearn: 1678.6894377\ttotal: 25.9s\tremaining: 11.3s\n",
      "697:\tlearn: 1678.5200190\ttotal: 25.9s\tremaining: 11.2s\n",
      "698:\tlearn: 1678.3965343\ttotal: 26s\tremaining: 11.2s\n",
      "699:\tlearn: 1678.2687540\ttotal: 26s\tremaining: 11.1s\n",
      "700:\tlearn: 1678.0802346\ttotal: 26s\tremaining: 11.1s\n",
      "701:\tlearn: 1677.8958989\ttotal: 26.1s\tremaining: 11.1s\n",
      "702:\tlearn: 1677.7963547\ttotal: 26.1s\tremaining: 11s\n",
      "703:\tlearn: 1677.6392694\ttotal: 26.1s\tremaining: 11s\n",
      "704:\tlearn: 1677.4352800\ttotal: 26.2s\tremaining: 10.9s\n",
      "705:\tlearn: 1677.3125238\ttotal: 26.2s\tremaining: 10.9s\n",
      "706:\tlearn: 1677.1476560\ttotal: 26.2s\tremaining: 10.9s\n",
      "707:\tlearn: 1677.0367564\ttotal: 26.3s\tremaining: 10.8s\n",
      "708:\tlearn: 1676.9361584\ttotal: 26.3s\tremaining: 10.8s\n",
      "709:\tlearn: 1676.8059478\ttotal: 26.4s\tremaining: 10.8s\n",
      "710:\tlearn: 1676.7154256\ttotal: 26.4s\tremaining: 10.7s\n",
      "711:\tlearn: 1676.6077365\ttotal: 26.4s\tremaining: 10.7s\n",
      "712:\tlearn: 1676.4350408\ttotal: 26.5s\tremaining: 10.7s\n",
      "713:\tlearn: 1676.3364161\ttotal: 26.5s\tremaining: 10.6s\n",
      "714:\tlearn: 1676.1101897\ttotal: 26.5s\tremaining: 10.6s\n",
      "715:\tlearn: 1675.9471705\ttotal: 26.6s\tremaining: 10.5s\n",
      "716:\tlearn: 1675.7844364\ttotal: 26.6s\tremaining: 10.5s\n",
      "717:\tlearn: 1675.6109474\ttotal: 26.7s\tremaining: 10.5s\n",
      "718:\tlearn: 1675.4847957\ttotal: 26.7s\tremaining: 10.4s\n",
      "719:\tlearn: 1675.3977002\ttotal: 26.7s\tremaining: 10.4s\n",
      "720:\tlearn: 1675.3084707\ttotal: 26.8s\tremaining: 10.4s\n",
      "721:\tlearn: 1675.1707373\ttotal: 26.8s\tremaining: 10.3s\n",
      "722:\tlearn: 1675.1093974\ttotal: 26.8s\tremaining: 10.3s\n",
      "723:\tlearn: 1674.8997906\ttotal: 26.9s\tremaining: 10.2s\n",
      "724:\tlearn: 1674.8447168\ttotal: 26.9s\tremaining: 10.2s\n",
      "725:\tlearn: 1674.7399367\ttotal: 26.9s\tremaining: 10.2s\n",
      "726:\tlearn: 1674.6348980\ttotal: 27s\tremaining: 10.1s\n",
      "727:\tlearn: 1674.5470940\ttotal: 27s\tremaining: 10.1s\n",
      "728:\tlearn: 1674.4660068\ttotal: 27.1s\tremaining: 10.1s\n",
      "729:\tlearn: 1674.3420098\ttotal: 27.1s\tremaining: 10s\n",
      "730:\tlearn: 1674.2147016\ttotal: 27.1s\tremaining: 9.99s\n",
      "731:\tlearn: 1674.1328517\ttotal: 27.2s\tremaining: 9.95s\n",
      "732:\tlearn: 1673.9818478\ttotal: 27.2s\tremaining: 9.91s\n",
      "733:\tlearn: 1673.8285175\ttotal: 27.3s\tremaining: 9.88s\n",
      "734:\tlearn: 1673.6368248\ttotal: 27.3s\tremaining: 9.84s\n",
      "735:\tlearn: 1673.4523845\ttotal: 27.3s\tremaining: 9.81s\n",
      "736:\tlearn: 1673.3858658\ttotal: 27.4s\tremaining: 9.77s\n",
      "737:\tlearn: 1673.1952204\ttotal: 27.4s\tremaining: 9.73s\n",
      "738:\tlearn: 1672.9860140\ttotal: 27.5s\tremaining: 9.7s\n",
      "739:\tlearn: 1672.8757114\ttotal: 27.5s\tremaining: 9.66s\n",
      "740:\tlearn: 1672.6993988\ttotal: 27.5s\tremaining: 9.62s\n",
      "741:\tlearn: 1672.6454698\ttotal: 27.6s\tremaining: 9.59s\n",
      "742:\tlearn: 1672.5069602\ttotal: 27.6s\tremaining: 9.55s\n",
      "743:\tlearn: 1672.4251156\ttotal: 27.6s\tremaining: 9.51s\n",
      "744:\tlearn: 1672.3218743\ttotal: 27.7s\tremaining: 9.47s\n",
      "745:\tlearn: 1672.2356822\ttotal: 27.7s\tremaining: 9.44s\n",
      "746:\tlearn: 1672.0915272\ttotal: 27.8s\tremaining: 9.4s\n",
      "747:\tlearn: 1671.8967974\ttotal: 27.8s\tremaining: 9.36s\n",
      "748:\tlearn: 1671.8407001\ttotal: 27.8s\tremaining: 9.32s\n",
      "749:\tlearn: 1671.7207630\ttotal: 27.9s\tremaining: 9.29s\n",
      "750:\tlearn: 1671.4845382\ttotal: 27.9s\tremaining: 9.25s\n",
      "751:\tlearn: 1671.3925004\ttotal: 27.9s\tremaining: 9.21s\n",
      "752:\tlearn: 1671.2904745\ttotal: 28s\tremaining: 9.18s\n",
      "753:\tlearn: 1671.1817530\ttotal: 28s\tremaining: 9.14s\n",
      "754:\tlearn: 1671.0265159\ttotal: 28s\tremaining: 9.1s\n",
      "755:\tlearn: 1670.9156212\ttotal: 28.1s\tremaining: 9.06s\n",
      "756:\tlearn: 1670.8636604\ttotal: 28.1s\tremaining: 9.03s\n",
      "757:\tlearn: 1670.7288488\ttotal: 28.2s\tremaining: 8.99s\n",
      "758:\tlearn: 1670.5928166\ttotal: 28.2s\tremaining: 8.95s\n",
      "759:\tlearn: 1670.4388169\ttotal: 28.2s\tremaining: 8.91s\n",
      "760:\tlearn: 1670.2313387\ttotal: 28.3s\tremaining: 8.88s\n",
      "761:\tlearn: 1670.1281205\ttotal: 28.3s\tremaining: 8.84s\n",
      "762:\tlearn: 1670.0122737\ttotal: 28.3s\tremaining: 8.8s\n",
      "763:\tlearn: 1669.9326477\ttotal: 28.4s\tremaining: 8.77s\n",
      "764:\tlearn: 1669.7738884\ttotal: 28.4s\tremaining: 8.73s\n",
      "765:\tlearn: 1669.5812741\ttotal: 28.5s\tremaining: 8.69s\n",
      "766:\tlearn: 1669.4864356\ttotal: 28.5s\tremaining: 8.65s\n",
      "767:\tlearn: 1669.4404012\ttotal: 28.5s\tremaining: 8.62s\n",
      "768:\tlearn: 1669.2543329\ttotal: 28.6s\tremaining: 8.58s\n",
      "769:\tlearn: 1669.0674034\ttotal: 28.6s\tremaining: 8.54s\n",
      "770:\tlearn: 1668.9608453\ttotal: 28.6s\tremaining: 8.5s\n",
      "771:\tlearn: 1668.8669561\ttotal: 28.7s\tremaining: 8.47s\n",
      "772:\tlearn: 1668.7490347\ttotal: 28.7s\tremaining: 8.43s\n",
      "773:\tlearn: 1668.6607003\ttotal: 28.7s\tremaining: 8.39s\n",
      "774:\tlearn: 1668.5564180\ttotal: 28.8s\tremaining: 8.35s\n",
      "775:\tlearn: 1668.4903669\ttotal: 28.8s\tremaining: 8.31s\n",
      "776:\tlearn: 1668.4272804\ttotal: 28.8s\tremaining: 8.28s\n",
      "777:\tlearn: 1668.3239406\ttotal: 28.9s\tremaining: 8.24s\n",
      "778:\tlearn: 1668.2659643\ttotal: 28.9s\tremaining: 8.2s\n",
      "779:\tlearn: 1668.1750383\ttotal: 29s\tremaining: 8.17s\n",
      "780:\tlearn: 1668.0925076\ttotal: 29s\tremaining: 8.13s\n",
      "781:\tlearn: 1668.0232905\ttotal: 29s\tremaining: 8.09s\n",
      "782:\tlearn: 1667.8234460\ttotal: 29.1s\tremaining: 8.05s\n",
      "783:\tlearn: 1667.5820075\ttotal: 29.1s\tremaining: 8.02s\n",
      "784:\tlearn: 1667.4734628\ttotal: 29.1s\tremaining: 7.98s\n",
      "785:\tlearn: 1667.3592407\ttotal: 29.2s\tremaining: 7.94s\n",
      "786:\tlearn: 1667.2361999\ttotal: 29.2s\tremaining: 7.9s\n",
      "787:\tlearn: 1667.1536925\ttotal: 29.2s\tremaining: 7.87s\n",
      "788:\tlearn: 1667.0105916\ttotal: 29.3s\tremaining: 7.83s\n",
      "789:\tlearn: 1666.9582421\ttotal: 29.3s\tremaining: 7.79s\n",
      "790:\tlearn: 1666.8017005\ttotal: 29.4s\tremaining: 7.75s\n",
      "791:\tlearn: 1666.6900655\ttotal: 29.4s\tremaining: 7.72s\n",
      "792:\tlearn: 1666.5414016\ttotal: 29.4s\tremaining: 7.68s\n",
      "793:\tlearn: 1666.4293517\ttotal: 29.5s\tremaining: 7.64s\n",
      "794:\tlearn: 1666.2746960\ttotal: 29.5s\tremaining: 7.6s\n",
      "795:\tlearn: 1666.1624518\ttotal: 29.5s\tremaining: 7.57s\n",
      "796:\tlearn: 1666.0229459\ttotal: 29.6s\tremaining: 7.53s\n",
      "797:\tlearn: 1665.9226514\ttotal: 29.6s\tremaining: 7.49s\n",
      "798:\tlearn: 1665.8103572\ttotal: 29.6s\tremaining: 7.45s\n",
      "799:\tlearn: 1665.7351465\ttotal: 29.7s\tremaining: 7.42s\n",
      "800:\tlearn: 1665.6280624\ttotal: 29.7s\tremaining: 7.38s\n",
      "801:\tlearn: 1665.4438989\ttotal: 29.7s\tremaining: 7.34s\n",
      "802:\tlearn: 1665.3764375\ttotal: 29.8s\tremaining: 7.3s\n",
      "803:\tlearn: 1665.2819024\ttotal: 29.8s\tremaining: 7.27s\n",
      "804:\tlearn: 1665.1838539\ttotal: 29.8s\tremaining: 7.23s\n",
      "805:\tlearn: 1665.0629147\ttotal: 29.9s\tremaining: 7.19s\n",
      "806:\tlearn: 1664.9524694\ttotal: 29.9s\tremaining: 7.15s\n",
      "807:\tlearn: 1664.9092102\ttotal: 29.9s\tremaining: 7.12s\n",
      "808:\tlearn: 1664.8031237\ttotal: 30s\tremaining: 7.08s\n",
      "809:\tlearn: 1664.7098368\ttotal: 30s\tremaining: 7.04s\n",
      "810:\tlearn: 1664.6523562\ttotal: 30.1s\tremaining: 7.01s\n",
      "811:\tlearn: 1664.5839101\ttotal: 30.1s\tremaining: 6.97s\n",
      "812:\tlearn: 1664.4589302\ttotal: 30.1s\tremaining: 6.93s\n",
      "813:\tlearn: 1664.3875261\ttotal: 30.2s\tremaining: 6.9s\n",
      "814:\tlearn: 1664.3105962\ttotal: 30.2s\tremaining: 6.86s\n",
      "815:\tlearn: 1664.2588160\ttotal: 30.3s\tremaining: 6.83s\n",
      "816:\tlearn: 1664.0818948\ttotal: 30.3s\tremaining: 6.79s\n",
      "817:\tlearn: 1663.9482962\ttotal: 30.4s\tremaining: 6.75s\n",
      "818:\tlearn: 1663.7970567\ttotal: 30.4s\tremaining: 6.72s\n",
      "819:\tlearn: 1663.6541816\ttotal: 30.4s\tremaining: 6.68s\n",
      "820:\tlearn: 1663.4795958\ttotal: 30.5s\tremaining: 6.65s\n",
      "821:\tlearn: 1663.2679883\ttotal: 30.5s\tremaining: 6.61s\n",
      "822:\tlearn: 1663.1442857\ttotal: 30.6s\tremaining: 6.57s\n",
      "823:\tlearn: 1663.0255818\ttotal: 30.6s\tremaining: 6.54s\n",
      "824:\tlearn: 1662.9347651\ttotal: 30.6s\tremaining: 6.5s\n",
      "825:\tlearn: 1662.7862990\ttotal: 30.7s\tremaining: 6.46s\n",
      "826:\tlearn: 1662.7249768\ttotal: 30.7s\tremaining: 6.42s\n",
      "827:\tlearn: 1662.6156137\ttotal: 30.7s\tremaining: 6.38s\n",
      "828:\tlearn: 1662.5073758\ttotal: 30.8s\tremaining: 6.35s\n",
      "829:\tlearn: 1662.4122239\ttotal: 30.8s\tremaining: 6.31s\n",
      "830:\tlearn: 1662.3202180\ttotal: 30.8s\tremaining: 6.27s\n",
      "831:\tlearn: 1662.1821761\ttotal: 30.9s\tremaining: 6.24s\n",
      "832:\tlearn: 1662.0872805\ttotal: 30.9s\tremaining: 6.2s\n",
      "833:\tlearn: 1661.9780387\ttotal: 31s\tremaining: 6.17s\n",
      "834:\tlearn: 1661.8551608\ttotal: 31s\tremaining: 6.13s\n",
      "835:\tlearn: 1661.7299061\ttotal: 31.1s\tremaining: 6.09s\n",
      "836:\tlearn: 1661.6226776\ttotal: 31.1s\tremaining: 6.05s\n",
      "837:\tlearn: 1661.5175607\ttotal: 31.1s\tremaining: 6.02s\n",
      "838:\tlearn: 1661.4005224\ttotal: 31.2s\tremaining: 5.98s\n",
      "839:\tlearn: 1661.2881224\ttotal: 31.2s\tremaining: 5.94s\n",
      "840:\tlearn: 1661.1634719\ttotal: 31.2s\tremaining: 5.9s\n",
      "841:\tlearn: 1661.0212829\ttotal: 31.3s\tremaining: 5.87s\n",
      "842:\tlearn: 1660.9705221\ttotal: 31.3s\tremaining: 5.83s\n",
      "843:\tlearn: 1660.8269297\ttotal: 31.3s\tremaining: 5.79s\n",
      "844:\tlearn: 1660.7710185\ttotal: 31.4s\tremaining: 5.75s\n",
      "845:\tlearn: 1660.7101926\ttotal: 31.4s\tremaining: 5.72s\n",
      "846:\tlearn: 1660.6050936\ttotal: 31.5s\tremaining: 5.68s\n",
      "847:\tlearn: 1660.4695481\ttotal: 31.5s\tremaining: 5.64s\n",
      "848:\tlearn: 1660.3535390\ttotal: 31.5s\tremaining: 5.61s\n",
      "849:\tlearn: 1660.2096117\ttotal: 31.6s\tremaining: 5.57s\n",
      "850:\tlearn: 1660.0370291\ttotal: 31.6s\tremaining: 5.53s\n",
      "851:\tlearn: 1659.8604050\ttotal: 31.6s\tremaining: 5.49s\n",
      "852:\tlearn: 1659.7291276\ttotal: 31.7s\tremaining: 5.46s\n",
      "853:\tlearn: 1659.6404716\ttotal: 31.7s\tremaining: 5.42s\n",
      "854:\tlearn: 1659.5241863\ttotal: 31.7s\tremaining: 5.38s\n",
      "855:\tlearn: 1659.4011182\ttotal: 31.8s\tremaining: 5.34s\n",
      "856:\tlearn: 1659.3228199\ttotal: 31.8s\tremaining: 5.3s\n",
      "857:\tlearn: 1659.2441871\ttotal: 31.8s\tremaining: 5.27s\n",
      "858:\tlearn: 1659.1544882\ttotal: 31.9s\tremaining: 5.23s\n",
      "859:\tlearn: 1659.0466642\ttotal: 31.9s\tremaining: 5.19s\n",
      "860:\tlearn: 1658.9797395\ttotal: 31.9s\tremaining: 5.16s\n",
      "861:\tlearn: 1658.8539859\ttotal: 32s\tremaining: 5.12s\n",
      "862:\tlearn: 1658.7501992\ttotal: 32s\tremaining: 5.08s\n",
      "863:\tlearn: 1658.6791128\ttotal: 32.1s\tremaining: 5.04s\n",
      "864:\tlearn: 1658.6117976\ttotal: 32.1s\tremaining: 5.01s\n",
      "865:\tlearn: 1658.5427267\ttotal: 32.1s\tremaining: 4.97s\n",
      "866:\tlearn: 1658.3896135\ttotal: 32.2s\tremaining: 4.93s\n",
      "867:\tlearn: 1658.2685957\ttotal: 32.2s\tremaining: 4.89s\n",
      "868:\tlearn: 1658.1483773\ttotal: 32.2s\tremaining: 4.86s\n",
      "869:\tlearn: 1658.1136286\ttotal: 32.3s\tremaining: 4.82s\n",
      "870:\tlearn: 1657.9893127\ttotal: 32.3s\tremaining: 4.78s\n",
      "871:\tlearn: 1657.9530228\ttotal: 32.3s\tremaining: 4.75s\n",
      "872:\tlearn: 1657.8841781\ttotal: 32.4s\tremaining: 4.71s\n",
      "873:\tlearn: 1657.8441870\ttotal: 32.4s\tremaining: 4.67s\n",
      "874:\tlearn: 1657.7298265\ttotal: 32.4s\tremaining: 4.63s\n",
      "875:\tlearn: 1657.5645105\ttotal: 32.5s\tremaining: 4.6s\n",
      "876:\tlearn: 1657.4149168\ttotal: 32.5s\tremaining: 4.56s\n",
      "877:\tlearn: 1657.2922775\ttotal: 32.5s\tremaining: 4.52s\n",
      "878:\tlearn: 1657.2065193\ttotal: 32.6s\tremaining: 4.48s\n",
      "879:\tlearn: 1657.0564731\ttotal: 32.6s\tremaining: 4.45s\n",
      "880:\tlearn: 1656.9803490\ttotal: 32.7s\tremaining: 4.41s\n",
      "881:\tlearn: 1656.8775548\ttotal: 32.7s\tremaining: 4.37s\n",
      "882:\tlearn: 1656.7923397\ttotal: 32.7s\tremaining: 4.34s\n",
      "883:\tlearn: 1656.6830786\ttotal: 32.8s\tremaining: 4.3s\n",
      "884:\tlearn: 1656.5719416\ttotal: 32.8s\tremaining: 4.26s\n",
      "885:\tlearn: 1656.4009333\ttotal: 32.8s\tremaining: 4.22s\n",
      "886:\tlearn: 1656.2932785\ttotal: 32.9s\tremaining: 4.19s\n",
      "887:\tlearn: 1656.1893944\ttotal: 32.9s\tremaining: 4.15s\n",
      "888:\tlearn: 1656.0869241\ttotal: 33s\tremaining: 4.11s\n",
      "889:\tlearn: 1655.9653013\ttotal: 33s\tremaining: 4.08s\n",
      "890:\tlearn: 1655.8005605\ttotal: 33s\tremaining: 4.04s\n",
      "891:\tlearn: 1655.7291182\ttotal: 33.1s\tremaining: 4s\n",
      "892:\tlearn: 1655.6244260\ttotal: 33.1s\tremaining: 3.96s\n",
      "893:\tlearn: 1655.5210290\ttotal: 33.1s\tremaining: 3.93s\n",
      "894:\tlearn: 1655.4644645\ttotal: 33.2s\tremaining: 3.89s\n",
      "895:\tlearn: 1655.4008028\ttotal: 33.2s\tremaining: 3.85s\n",
      "896:\tlearn: 1655.3411920\ttotal: 33.2s\tremaining: 3.81s\n",
      "897:\tlearn: 1655.2021571\ttotal: 33.3s\tremaining: 3.78s\n",
      "898:\tlearn: 1655.1483780\ttotal: 33.3s\tremaining: 3.74s\n",
      "899:\tlearn: 1655.0558898\ttotal: 33.3s\tremaining: 3.7s\n",
      "900:\tlearn: 1655.0051558\ttotal: 33.4s\tremaining: 3.67s\n",
      "901:\tlearn: 1654.9429659\ttotal: 33.4s\tremaining: 3.63s\n",
      "902:\tlearn: 1654.8447666\ttotal: 33.4s\tremaining: 3.59s\n",
      "903:\tlearn: 1654.6648911\ttotal: 33.5s\tremaining: 3.55s\n",
      "904:\tlearn: 1654.5540094\ttotal: 33.5s\tremaining: 3.52s\n",
      "905:\tlearn: 1654.4748853\ttotal: 33.5s\tremaining: 3.48s\n",
      "906:\tlearn: 1654.3005618\ttotal: 33.6s\tremaining: 3.44s\n",
      "907:\tlearn: 1654.2435769\ttotal: 33.6s\tremaining: 3.41s\n",
      "908:\tlearn: 1654.1453072\ttotal: 33.7s\tremaining: 3.37s\n",
      "909:\tlearn: 1654.0064250\ttotal: 33.7s\tremaining: 3.33s\n",
      "910:\tlearn: 1653.9616946\ttotal: 33.7s\tremaining: 3.29s\n",
      "911:\tlearn: 1653.7641910\ttotal: 33.8s\tremaining: 3.26s\n",
      "912:\tlearn: 1653.6989258\ttotal: 33.8s\tremaining: 3.22s\n",
      "913:\tlearn: 1653.6453149\ttotal: 33.9s\tremaining: 3.19s\n",
      "914:\tlearn: 1653.5486930\ttotal: 33.9s\tremaining: 3.15s\n",
      "915:\tlearn: 1653.4114197\ttotal: 33.9s\tremaining: 3.11s\n",
      "916:\tlearn: 1653.3095058\ttotal: 34s\tremaining: 3.07s\n",
      "917:\tlearn: 1653.1816451\ttotal: 34s\tremaining: 3.04s\n",
      "918:\tlearn: 1653.0882668\ttotal: 34s\tremaining: 3s\n",
      "919:\tlearn: 1652.9353790\ttotal: 34.1s\tremaining: 2.96s\n",
      "920:\tlearn: 1652.7593966\ttotal: 34.1s\tremaining: 2.93s\n",
      "921:\tlearn: 1652.6690695\ttotal: 34.2s\tremaining: 2.89s\n",
      "922:\tlearn: 1652.6176983\ttotal: 34.2s\tremaining: 2.85s\n",
      "923:\tlearn: 1652.5320858\ttotal: 34.2s\tremaining: 2.81s\n",
      "924:\tlearn: 1652.4458549\ttotal: 34.3s\tremaining: 2.78s\n",
      "925:\tlearn: 1652.3911495\ttotal: 34.3s\tremaining: 2.74s\n",
      "926:\tlearn: 1652.2986861\ttotal: 34.3s\tremaining: 2.7s\n",
      "927:\tlearn: 1652.1576076\ttotal: 34.4s\tremaining: 2.67s\n",
      "928:\tlearn: 1652.0645619\ttotal: 34.4s\tremaining: 2.63s\n",
      "929:\tlearn: 1651.9870058\ttotal: 34.4s\tremaining: 2.59s\n",
      "930:\tlearn: 1651.9224912\ttotal: 34.5s\tremaining: 2.56s\n",
      "931:\tlearn: 1651.8234396\ttotal: 34.5s\tremaining: 2.52s\n",
      "932:\tlearn: 1651.7612482\ttotal: 34.6s\tremaining: 2.48s\n",
      "933:\tlearn: 1651.7129760\ttotal: 34.6s\tremaining: 2.44s\n",
      "934:\tlearn: 1651.6155328\ttotal: 34.6s\tremaining: 2.41s\n",
      "935:\tlearn: 1651.4623266\ttotal: 34.7s\tremaining: 2.37s\n",
      "936:\tlearn: 1651.3770334\ttotal: 34.7s\tremaining: 2.33s\n",
      "937:\tlearn: 1651.2849192\ttotal: 34.7s\tremaining: 2.3s\n",
      "938:\tlearn: 1651.2420981\ttotal: 34.8s\tremaining: 2.26s\n",
      "939:\tlearn: 1651.1610870\ttotal: 34.8s\tremaining: 2.22s\n",
      "940:\tlearn: 1651.0465573\ttotal: 34.9s\tremaining: 2.19s\n",
      "941:\tlearn: 1650.9578085\ttotal: 34.9s\tremaining: 2.15s\n",
      "942:\tlearn: 1650.8343009\ttotal: 34.9s\tremaining: 2.11s\n",
      "943:\tlearn: 1650.7619780\ttotal: 35s\tremaining: 2.07s\n",
      "944:\tlearn: 1650.5560382\ttotal: 35s\tremaining: 2.04s\n",
      "945:\tlearn: 1650.5123775\ttotal: 35s\tremaining: 2s\n",
      "946:\tlearn: 1650.4054168\ttotal: 35.1s\tremaining: 1.96s\n",
      "947:\tlearn: 1650.2885719\ttotal: 35.1s\tremaining: 1.93s\n",
      "948:\tlearn: 1650.1734628\ttotal: 35.2s\tremaining: 1.89s\n",
      "949:\tlearn: 1650.0581258\ttotal: 35.2s\tremaining: 1.85s\n",
      "950:\tlearn: 1649.9169632\ttotal: 35.2s\tremaining: 1.81s\n",
      "951:\tlearn: 1649.8252828\ttotal: 35.3s\tremaining: 1.78s\n",
      "952:\tlearn: 1649.7296482\ttotal: 35.3s\tremaining: 1.74s\n",
      "953:\tlearn: 1649.6505258\ttotal: 35.4s\tremaining: 1.71s\n",
      "954:\tlearn: 1649.5890916\ttotal: 35.4s\tremaining: 1.67s\n",
      "955:\tlearn: 1649.4368426\ttotal: 35.4s\tremaining: 1.63s\n",
      "956:\tlearn: 1649.3196911\ttotal: 35.5s\tremaining: 1.59s\n",
      "957:\tlearn: 1649.2532661\ttotal: 35.5s\tremaining: 1.56s\n",
      "958:\tlearn: 1649.2175616\ttotal: 35.6s\tremaining: 1.52s\n",
      "959:\tlearn: 1649.0834561\ttotal: 35.6s\tremaining: 1.48s\n",
      "960:\tlearn: 1649.0037356\ttotal: 35.6s\tremaining: 1.45s\n",
      "961:\tlearn: 1648.8409269\ttotal: 35.7s\tremaining: 1.41s\n",
      "962:\tlearn: 1648.7188453\ttotal: 35.7s\tremaining: 1.37s\n",
      "963:\tlearn: 1648.6059574\ttotal: 35.7s\tremaining: 1.33s\n",
      "964:\tlearn: 1648.5285705\ttotal: 35.8s\tremaining: 1.3s\n",
      "965:\tlearn: 1648.3602970\ttotal: 35.8s\tremaining: 1.26s\n",
      "966:\tlearn: 1648.1969677\ttotal: 35.9s\tremaining: 1.22s\n",
      "967:\tlearn: 1648.0400003\ttotal: 35.9s\tremaining: 1.19s\n",
      "968:\tlearn: 1647.9618039\ttotal: 35.9s\tremaining: 1.15s\n",
      "969:\tlearn: 1647.8484358\ttotal: 36s\tremaining: 1.11s\n",
      "970:\tlearn: 1647.7433993\ttotal: 36s\tremaining: 1.07s\n",
      "971:\tlearn: 1647.5803916\ttotal: 36.1s\tremaining: 1.04s\n",
      "972:\tlearn: 1647.4964278\ttotal: 36.1s\tremaining: 1s\n",
      "973:\tlearn: 1647.3827909\ttotal: 36.1s\tremaining: 965ms\n",
      "974:\tlearn: 1647.2962397\ttotal: 36.2s\tremaining: 928ms\n",
      "975:\tlearn: 1647.1139250\ttotal: 36.2s\tremaining: 891ms\n",
      "976:\tlearn: 1646.9720188\ttotal: 36.2s\tremaining: 853ms\n",
      "977:\tlearn: 1646.8701372\ttotal: 36.3s\tremaining: 816ms\n",
      "978:\tlearn: 1646.7621446\ttotal: 36.3s\tremaining: 779ms\n",
      "979:\tlearn: 1646.5576286\ttotal: 36.4s\tremaining: 742ms\n",
      "980:\tlearn: 1646.4652620\ttotal: 36.4s\tremaining: 705ms\n",
      "981:\tlearn: 1646.3408469\ttotal: 36.4s\tremaining: 668ms\n",
      "982:\tlearn: 1646.1384320\ttotal: 36.5s\tremaining: 631ms\n",
      "983:\tlearn: 1646.0612687\ttotal: 36.5s\tremaining: 594ms\n",
      "984:\tlearn: 1645.8514629\ttotal: 36.6s\tremaining: 557ms\n",
      "985:\tlearn: 1645.7763870\ttotal: 36.6s\tremaining: 520ms\n",
      "986:\tlearn: 1645.7180827\ttotal: 36.6s\tremaining: 483ms\n",
      "987:\tlearn: 1645.5174151\ttotal: 36.7s\tremaining: 445ms\n",
      "988:\tlearn: 1645.4243853\ttotal: 36.7s\tremaining: 408ms\n",
      "989:\tlearn: 1645.3219164\ttotal: 36.8s\tremaining: 371ms\n",
      "990:\tlearn: 1645.1874401\ttotal: 36.8s\tremaining: 334ms\n",
      "991:\tlearn: 1645.1293047\ttotal: 36.8s\tremaining: 297ms\n",
      "992:\tlearn: 1645.0970315\ttotal: 36.9s\tremaining: 260ms\n",
      "993:\tlearn: 1644.9962728\ttotal: 36.9s\tremaining: 223ms\n",
      "994:\tlearn: 1644.8872127\ttotal: 36.9s\tremaining: 186ms\n",
      "995:\tlearn: 1644.8296122\ttotal: 37s\tremaining: 149ms\n",
      "996:\tlearn: 1644.7116419\ttotal: 37s\tremaining: 111ms\n",
      "997:\tlearn: 1644.6253627\ttotal: 37.1s\tremaining: 74.3ms\n",
      "998:\tlearn: 1644.4871057\ttotal: 37.1s\tremaining: 37.1ms\n",
      "999:\tlearn: 1644.4227966\ttotal: 37.1s\tremaining: 0us\n",
      "Learning rate set to 0.093467\n",
      "0:\tlearn: 4277.2386860\ttotal: 37.5ms\tremaining: 37.5s\n",
      "1:\tlearn: 4032.6477010\ttotal: 68.9ms\tremaining: 34.4s\n",
      "2:\tlearn: 3808.1555221\ttotal: 97.9ms\tremaining: 32.5s\n",
      "3:\tlearn: 3616.0740922\ttotal: 126ms\tremaining: 31.5s\n",
      "4:\tlearn: 3439.2300473\ttotal: 163ms\tremaining: 32.4s\n",
      "5:\tlearn: 3285.7991890\ttotal: 191ms\tremaining: 31.7s\n",
      "6:\tlearn: 3148.5306234\ttotal: 219ms\tremaining: 31s\n",
      "7:\tlearn: 3024.1460373\ttotal: 256ms\tremaining: 31.7s\n",
      "8:\tlearn: 2912.8322757\ttotal: 283ms\tremaining: 31.2s\n",
      "9:\tlearn: 2817.5780104\ttotal: 311ms\tremaining: 30.8s\n",
      "10:\tlearn: 2729.8572278\ttotal: 348ms\tremaining: 31.3s\n",
      "11:\tlearn: 2652.9948381\ttotal: 375ms\tremaining: 30.9s\n",
      "12:\tlearn: 2585.8922852\ttotal: 403ms\tremaining: 30.6s\n",
      "13:\tlearn: 2524.4160891\ttotal: 443ms\tremaining: 31.2s\n",
      "14:\tlearn: 2470.4920396\ttotal: 473ms\tremaining: 31.1s\n",
      "15:\tlearn: 2423.9701369\ttotal: 498ms\tremaining: 30.7s\n",
      "16:\tlearn: 2378.9911579\ttotal: 533ms\tremaining: 30.8s\n",
      "17:\tlearn: 2342.1163650\ttotal: 561ms\tremaining: 30.6s\n",
      "18:\tlearn: 2306.5154988\ttotal: 588ms\tremaining: 30.4s\n",
      "19:\tlearn: 2277.2430070\ttotal: 617ms\tremaining: 30.2s\n",
      "20:\tlearn: 2249.0935259\ttotal: 651ms\tremaining: 30.3s\n",
      "21:\tlearn: 2225.5446163\ttotal: 677ms\tremaining: 30.1s\n",
      "22:\tlearn: 2205.5099001\ttotal: 703ms\tremaining: 29.9s\n",
      "23:\tlearn: 2185.4149713\ttotal: 740ms\tremaining: 30.1s\n",
      "24:\tlearn: 2168.8686458\ttotal: 766ms\tremaining: 29.9s\n",
      "25:\tlearn: 2152.6436513\ttotal: 791ms\tremaining: 29.6s\n",
      "26:\tlearn: 2137.8076627\ttotal: 822ms\tremaining: 29.6s\n",
      "27:\tlearn: 2123.2768969\ttotal: 850ms\tremaining: 29.5s\n",
      "28:\tlearn: 2110.7885981\ttotal: 876ms\tremaining: 29.3s\n",
      "29:\tlearn: 2100.0711229\ttotal: 901ms\tremaining: 29.1s\n",
      "30:\tlearn: 2089.3710725\ttotal: 934ms\tremaining: 29.2s\n",
      "31:\tlearn: 2080.0626025\ttotal: 958ms\tremaining: 29s\n",
      "32:\tlearn: 2070.9291686\ttotal: 985ms\tremaining: 28.9s\n",
      "33:\tlearn: 2063.3706741\ttotal: 1.02s\tremaining: 29s\n",
      "34:\tlearn: 2056.0921242\ttotal: 1.04s\tremaining: 28.8s\n",
      "35:\tlearn: 2049.5636179\ttotal: 1.07s\tremaining: 28.7s\n",
      "36:\tlearn: 2043.4168011\ttotal: 1.1s\tremaining: 28.6s\n",
      "37:\tlearn: 2035.1724959\ttotal: 1.13s\tremaining: 28.6s\n",
      "38:\tlearn: 2026.5914843\ttotal: 1.15s\tremaining: 28.4s\n",
      "39:\tlearn: 2022.2101683\ttotal: 1.18s\tremaining: 28.3s\n",
      "40:\tlearn: 2018.1275903\ttotal: 1.21s\tremaining: 28.4s\n",
      "41:\tlearn: 2010.6744150\ttotal: 1.24s\tremaining: 28.3s\n",
      "42:\tlearn: 2006.0738133\ttotal: 1.26s\tremaining: 28.2s\n",
      "43:\tlearn: 2001.8509896\ttotal: 1.3s\tremaining: 28.2s\n",
      "44:\tlearn: 1997.8904058\ttotal: 1.32s\tremaining: 28.1s\n",
      "45:\tlearn: 1993.7361384\ttotal: 1.35s\tremaining: 27.9s\n",
      "46:\tlearn: 1989.9652636\ttotal: 1.37s\tremaining: 27.8s\n",
      "47:\tlearn: 1986.7223824\ttotal: 1.41s\tremaining: 27.9s\n",
      "48:\tlearn: 1981.9722053\ttotal: 1.44s\tremaining: 27.9s\n",
      "49:\tlearn: 1978.8174458\ttotal: 1.47s\tremaining: 27.9s\n",
      "50:\tlearn: 1976.2932818\ttotal: 1.5s\tremaining: 28s\n",
      "51:\tlearn: 1970.6526902\ttotal: 1.53s\tremaining: 27.9s\n",
      "52:\tlearn: 1967.9581424\ttotal: 1.56s\tremaining: 27.9s\n",
      "53:\tlearn: 1965.4738345\ttotal: 1.59s\tremaining: 27.9s\n",
      "54:\tlearn: 1962.5036508\ttotal: 1.63s\tremaining: 28s\n",
      "55:\tlearn: 1958.6809921\ttotal: 1.67s\tremaining: 28.1s\n",
      "56:\tlearn: 1955.5580781\ttotal: 1.7s\tremaining: 28.2s\n",
      "57:\tlearn: 1953.3887981\ttotal: 1.73s\tremaining: 28.2s\n",
      "58:\tlearn: 1951.6462817\ttotal: 1.76s\tremaining: 28.1s\n",
      "59:\tlearn: 1949.0203845\ttotal: 1.8s\tremaining: 28.2s\n",
      "60:\tlearn: 1946.1212020\ttotal: 1.83s\tremaining: 28.2s\n",
      "61:\tlearn: 1941.9323941\ttotal: 1.86s\tremaining: 28.1s\n",
      "62:\tlearn: 1940.2736286\ttotal: 1.91s\tremaining: 28.3s\n",
      "63:\tlearn: 1938.2698606\ttotal: 1.93s\tremaining: 28.2s\n",
      "64:\tlearn: 1936.6338561\ttotal: 1.95s\tremaining: 28.1s\n",
      "65:\tlearn: 1933.7779590\ttotal: 1.99s\tremaining: 28.1s\n",
      "66:\tlearn: 1931.3999515\ttotal: 2.01s\tremaining: 28s\n",
      "67:\tlearn: 1929.8982848\ttotal: 2.04s\tremaining: 27.9s\n",
      "68:\tlearn: 1927.7129755\ttotal: 2.06s\tremaining: 27.8s\n",
      "69:\tlearn: 1926.1079148\ttotal: 2.1s\tremaining: 27.8s\n",
      "70:\tlearn: 1924.8548996\ttotal: 2.12s\tremaining: 27.8s\n",
      "71:\tlearn: 1923.2521141\ttotal: 2.15s\tremaining: 27.7s\n",
      "72:\tlearn: 1921.0713832\ttotal: 2.18s\tremaining: 27.7s\n",
      "73:\tlearn: 1919.9159201\ttotal: 2.21s\tremaining: 27.6s\n",
      "74:\tlearn: 1917.0147653\ttotal: 2.23s\tremaining: 27.6s\n",
      "75:\tlearn: 1915.5793419\ttotal: 2.26s\tremaining: 27.5s\n",
      "76:\tlearn: 1913.9638962\ttotal: 2.29s\tremaining: 27.5s\n",
      "77:\tlearn: 1911.7715678\ttotal: 2.32s\tremaining: 27.4s\n",
      "78:\tlearn: 1909.6030625\ttotal: 2.35s\tremaining: 27.3s\n",
      "79:\tlearn: 1907.7182271\ttotal: 2.38s\tremaining: 27.4s\n",
      "80:\tlearn: 1904.7749589\ttotal: 2.42s\tremaining: 27.4s\n",
      "81:\tlearn: 1902.4830619\ttotal: 2.45s\tremaining: 27.4s\n",
      "82:\tlearn: 1900.3388165\ttotal: 2.49s\tremaining: 27.5s\n",
      "83:\tlearn: 1899.2461629\ttotal: 2.52s\tremaining: 27.5s\n",
      "84:\tlearn: 1897.8193110\ttotal: 2.54s\tremaining: 27.4s\n",
      "85:\tlearn: 1895.2296976\ttotal: 2.58s\tremaining: 27.4s\n",
      "86:\tlearn: 1893.6002197\ttotal: 2.61s\tremaining: 27.4s\n",
      "87:\tlearn: 1892.1006985\ttotal: 2.63s\tremaining: 27.3s\n",
      "88:\tlearn: 1890.6834909\ttotal: 2.66s\tremaining: 27.3s\n",
      "89:\tlearn: 1889.7731538\ttotal: 2.69s\tremaining: 27.2s\n",
      "90:\tlearn: 1888.0035842\ttotal: 2.72s\tremaining: 27.2s\n",
      "91:\tlearn: 1886.2187124\ttotal: 2.75s\tremaining: 27.1s\n",
      "92:\tlearn: 1884.3966666\ttotal: 2.78s\tremaining: 27.1s\n",
      "93:\tlearn: 1883.2593955\ttotal: 2.81s\tremaining: 27.1s\n",
      "94:\tlearn: 1881.9590722\ttotal: 2.83s\tremaining: 27s\n",
      "95:\tlearn: 1880.9972773\ttotal: 2.87s\tremaining: 27s\n",
      "96:\tlearn: 1879.6939212\ttotal: 2.89s\tremaining: 26.9s\n",
      "97:\tlearn: 1879.1119393\ttotal: 2.92s\tremaining: 26.9s\n",
      "98:\tlearn: 1877.7171932\ttotal: 2.95s\tremaining: 26.8s\n",
      "99:\tlearn: 1876.5546709\ttotal: 2.98s\tremaining: 26.8s\n",
      "100:\tlearn: 1875.6280646\ttotal: 3.01s\tremaining: 26.8s\n",
      "101:\tlearn: 1874.4961281\ttotal: 3.03s\tremaining: 26.7s\n",
      "102:\tlearn: 1873.3406081\ttotal: 3.07s\tremaining: 26.8s\n",
      "103:\tlearn: 1871.7290135\ttotal: 3.1s\tremaining: 26.7s\n",
      "104:\tlearn: 1870.0415272\ttotal: 3.13s\tremaining: 26.7s\n",
      "105:\tlearn: 1868.4537925\ttotal: 3.17s\tremaining: 26.7s\n",
      "106:\tlearn: 1867.0480355\ttotal: 3.19s\tremaining: 26.7s\n",
      "107:\tlearn: 1866.2399327\ttotal: 3.22s\tremaining: 26.6s\n",
      "108:\tlearn: 1865.5084659\ttotal: 3.25s\tremaining: 26.6s\n",
      "109:\tlearn: 1864.1244326\ttotal: 3.28s\tremaining: 26.5s\n",
      "110:\tlearn: 1863.1017070\ttotal: 3.3s\tremaining: 26.5s\n",
      "111:\tlearn: 1861.8065286\ttotal: 3.33s\tremaining: 26.4s\n",
      "112:\tlearn: 1860.8256031\ttotal: 3.36s\tremaining: 26.4s\n",
      "113:\tlearn: 1859.9372856\ttotal: 3.39s\tremaining: 26.3s\n",
      "114:\tlearn: 1859.4139952\ttotal: 3.41s\tremaining: 26.3s\n",
      "115:\tlearn: 1858.5868863\ttotal: 3.44s\tremaining: 26.2s\n",
      "116:\tlearn: 1857.5906761\ttotal: 3.47s\tremaining: 26.2s\n",
      "117:\tlearn: 1856.7949388\ttotal: 3.5s\tremaining: 26.1s\n",
      "118:\tlearn: 1855.8602484\ttotal: 3.53s\tremaining: 26.1s\n",
      "119:\tlearn: 1855.0933068\ttotal: 3.56s\tremaining: 26.1s\n",
      "120:\tlearn: 1853.9458085\ttotal: 3.58s\tremaining: 26s\n",
      "121:\tlearn: 1852.9244955\ttotal: 3.61s\tremaining: 26s\n",
      "122:\tlearn: 1851.7661373\ttotal: 3.64s\tremaining: 26s\n",
      "123:\tlearn: 1851.1748177\ttotal: 3.67s\tremaining: 25.9s\n",
      "124:\tlearn: 1850.5588761\ttotal: 3.69s\tremaining: 25.9s\n",
      "125:\tlearn: 1849.0836991\ttotal: 3.73s\tremaining: 25.8s\n",
      "126:\tlearn: 1847.8563631\ttotal: 3.76s\tremaining: 25.8s\n",
      "127:\tlearn: 1846.8058164\ttotal: 3.78s\tremaining: 25.8s\n",
      "128:\tlearn: 1845.8637404\ttotal: 3.81s\tremaining: 25.7s\n",
      "129:\tlearn: 1845.1379105\ttotal: 3.84s\tremaining: 25.7s\n",
      "130:\tlearn: 1844.2246736\ttotal: 3.87s\tremaining: 25.7s\n",
      "131:\tlearn: 1843.3161483\ttotal: 3.9s\tremaining: 25.6s\n",
      "132:\tlearn: 1842.4607064\ttotal: 3.93s\tremaining: 25.6s\n",
      "133:\tlearn: 1841.3802894\ttotal: 3.96s\tremaining: 25.6s\n",
      "134:\tlearn: 1840.3311672\ttotal: 3.98s\tremaining: 25.5s\n",
      "135:\tlearn: 1839.7568608\ttotal: 4.01s\tremaining: 25.5s\n",
      "136:\tlearn: 1839.1948021\ttotal: 4.04s\tremaining: 25.5s\n",
      "137:\tlearn: 1838.7489777\ttotal: 4.07s\tremaining: 25.4s\n",
      "138:\tlearn: 1837.8040611\ttotal: 4.09s\tremaining: 25.4s\n",
      "139:\tlearn: 1837.1506449\ttotal: 4.13s\tremaining: 25.4s\n",
      "140:\tlearn: 1836.3586191\ttotal: 4.15s\tremaining: 25.3s\n",
      "141:\tlearn: 1835.5653833\ttotal: 4.18s\tremaining: 25.3s\n",
      "142:\tlearn: 1834.2220680\ttotal: 4.21s\tremaining: 25.2s\n",
      "143:\tlearn: 1833.2386940\ttotal: 4.24s\tremaining: 25.2s\n",
      "144:\tlearn: 1832.6200268\ttotal: 4.27s\tremaining: 25.2s\n",
      "145:\tlearn: 1832.0213275\ttotal: 4.3s\tremaining: 25.2s\n",
      "146:\tlearn: 1831.2797574\ttotal: 4.34s\tremaining: 25.2s\n",
      "147:\tlearn: 1830.7013471\ttotal: 4.36s\tremaining: 25.1s\n",
      "148:\tlearn: 1830.2170310\ttotal: 4.38s\tremaining: 25s\n",
      "149:\tlearn: 1829.5785941\ttotal: 4.42s\tremaining: 25.1s\n",
      "150:\tlearn: 1828.8860979\ttotal: 4.45s\tremaining: 25s\n",
      "151:\tlearn: 1828.2185925\ttotal: 4.47s\tremaining: 25s\n",
      "152:\tlearn: 1827.6911506\ttotal: 4.5s\tremaining: 24.9s\n",
      "153:\tlearn: 1826.8271491\ttotal: 4.53s\tremaining: 24.9s\n",
      "154:\tlearn: 1826.0499855\ttotal: 4.56s\tremaining: 24.9s\n",
      "155:\tlearn: 1825.0277780\ttotal: 4.59s\tremaining: 24.8s\n",
      "156:\tlearn: 1824.0599318\ttotal: 4.62s\tremaining: 24.8s\n",
      "157:\tlearn: 1823.5836558\ttotal: 4.65s\tremaining: 24.8s\n",
      "158:\tlearn: 1823.1139242\ttotal: 4.67s\tremaining: 24.7s\n",
      "159:\tlearn: 1822.2340815\ttotal: 4.71s\tremaining: 24.7s\n",
      "160:\tlearn: 1821.6191909\ttotal: 4.74s\tremaining: 24.7s\n",
      "161:\tlearn: 1820.7569769\ttotal: 4.76s\tremaining: 24.6s\n",
      "162:\tlearn: 1820.0052953\ttotal: 4.79s\tremaining: 24.6s\n",
      "163:\tlearn: 1819.0820714\ttotal: 4.82s\tremaining: 24.6s\n",
      "164:\tlearn: 1818.2490231\ttotal: 4.85s\tremaining: 24.5s\n",
      "165:\tlearn: 1817.8989493\ttotal: 4.87s\tremaining: 24.5s\n",
      "166:\tlearn: 1817.2620924\ttotal: 4.9s\tremaining: 24.5s\n",
      "167:\tlearn: 1816.7117130\ttotal: 4.93s\tremaining: 24.4s\n",
      "168:\tlearn: 1816.1395479\ttotal: 4.96s\tremaining: 24.4s\n",
      "169:\tlearn: 1815.7994350\ttotal: 4.98s\tremaining: 24.3s\n",
      "170:\tlearn: 1815.2587213\ttotal: 5.01s\tremaining: 24.3s\n",
      "171:\tlearn: 1814.7101885\ttotal: 5.04s\tremaining: 24.3s\n",
      "172:\tlearn: 1813.9918959\ttotal: 5.06s\tremaining: 24.2s\n",
      "173:\tlearn: 1813.3698600\ttotal: 5.1s\tremaining: 24.2s\n",
      "174:\tlearn: 1812.5043932\ttotal: 5.13s\tremaining: 24.2s\n",
      "175:\tlearn: 1812.0363191\ttotal: 5.15s\tremaining: 24.1s\n",
      "176:\tlearn: 1811.2982057\ttotal: 5.18s\tremaining: 24.1s\n",
      "177:\tlearn: 1810.6963365\ttotal: 5.21s\tremaining: 24.1s\n",
      "178:\tlearn: 1810.0871833\ttotal: 5.24s\tremaining: 24s\n",
      "179:\tlearn: 1809.7765654\ttotal: 5.26s\tremaining: 24s\n",
      "180:\tlearn: 1809.3629627\ttotal: 5.29s\tremaining: 24s\n",
      "181:\tlearn: 1808.8134918\ttotal: 5.32s\tremaining: 23.9s\n",
      "182:\tlearn: 1808.5397309\ttotal: 5.34s\tremaining: 23.9s\n",
      "183:\tlearn: 1808.0341984\ttotal: 5.38s\tremaining: 23.9s\n",
      "184:\tlearn: 1807.3412671\ttotal: 5.41s\tremaining: 23.8s\n",
      "185:\tlearn: 1806.6129288\ttotal: 5.43s\tremaining: 23.8s\n",
      "186:\tlearn: 1806.2315900\ttotal: 5.47s\tremaining: 23.8s\n",
      "187:\tlearn: 1805.7666876\ttotal: 5.5s\tremaining: 23.8s\n",
      "188:\tlearn: 1805.3278984\ttotal: 5.53s\tremaining: 23.7s\n",
      "189:\tlearn: 1804.8153356\ttotal: 5.55s\tremaining: 23.7s\n",
      "190:\tlearn: 1804.1291547\ttotal: 5.58s\tremaining: 23.7s\n",
      "191:\tlearn: 1803.1806384\ttotal: 5.61s\tremaining: 23.6s\n",
      "192:\tlearn: 1802.6394194\ttotal: 5.64s\tremaining: 23.6s\n",
      "193:\tlearn: 1802.0706489\ttotal: 5.68s\tremaining: 23.6s\n",
      "194:\tlearn: 1801.4956422\ttotal: 5.7s\tremaining: 23.5s\n",
      "195:\tlearn: 1801.1139697\ttotal: 5.73s\tremaining: 23.5s\n",
      "196:\tlearn: 1800.5403291\ttotal: 5.75s\tremaining: 23.5s\n",
      "197:\tlearn: 1800.1359796\ttotal: 5.78s\tremaining: 23.4s\n",
      "198:\tlearn: 1799.6853290\ttotal: 5.81s\tremaining: 23.4s\n",
      "199:\tlearn: 1799.1304371\ttotal: 5.83s\tremaining: 23.3s\n",
      "200:\tlearn: 1798.4257208\ttotal: 5.87s\tremaining: 23.3s\n",
      "201:\tlearn: 1797.6912991\ttotal: 5.89s\tremaining: 23.3s\n",
      "202:\tlearn: 1797.0924777\ttotal: 5.92s\tremaining: 23.2s\n",
      "203:\tlearn: 1796.7146422\ttotal: 5.95s\tremaining: 23.2s\n",
      "204:\tlearn: 1796.2290387\ttotal: 5.98s\tremaining: 23.2s\n",
      "205:\tlearn: 1795.5335020\ttotal: 6s\tremaining: 23.1s\n",
      "206:\tlearn: 1795.1015976\ttotal: 6.03s\tremaining: 23.1s\n",
      "207:\tlearn: 1794.4695869\ttotal: 6.06s\tremaining: 23.1s\n",
      "208:\tlearn: 1793.9634650\ttotal: 6.09s\tremaining: 23s\n",
      "209:\tlearn: 1793.3472727\ttotal: 6.11s\tremaining: 23s\n",
      "210:\tlearn: 1792.7876973\ttotal: 6.14s\tremaining: 23s\n",
      "211:\tlearn: 1792.2920042\ttotal: 6.17s\tremaining: 22.9s\n",
      "212:\tlearn: 1791.5263013\ttotal: 6.2s\tremaining: 22.9s\n",
      "213:\tlearn: 1791.1337845\ttotal: 6.22s\tremaining: 22.9s\n",
      "214:\tlearn: 1790.7559309\ttotal: 6.26s\tremaining: 22.8s\n",
      "215:\tlearn: 1790.5375905\ttotal: 6.28s\tremaining: 22.8s\n",
      "216:\tlearn: 1789.9413151\ttotal: 6.31s\tremaining: 22.8s\n",
      "217:\tlearn: 1789.3554876\ttotal: 6.34s\tremaining: 22.7s\n",
      "218:\tlearn: 1788.9315425\ttotal: 6.37s\tremaining: 22.7s\n",
      "219:\tlearn: 1788.5330345\ttotal: 6.39s\tremaining: 22.7s\n",
      "220:\tlearn: 1788.0191809\ttotal: 6.42s\tremaining: 22.6s\n",
      "221:\tlearn: 1787.5678315\ttotal: 6.46s\tremaining: 22.6s\n",
      "222:\tlearn: 1786.7654300\ttotal: 6.48s\tremaining: 22.6s\n",
      "223:\tlearn: 1786.4057842\ttotal: 6.51s\tremaining: 22.6s\n",
      "224:\tlearn: 1785.9267508\ttotal: 6.54s\tremaining: 22.5s\n",
      "225:\tlearn: 1785.4356716\ttotal: 6.57s\tremaining: 22.5s\n",
      "226:\tlearn: 1784.8156856\ttotal: 6.59s\tremaining: 22.5s\n",
      "227:\tlearn: 1784.1141773\ttotal: 6.62s\tremaining: 22.4s\n",
      "228:\tlearn: 1783.7743057\ttotal: 6.66s\tremaining: 22.4s\n",
      "229:\tlearn: 1783.4491244\ttotal: 6.69s\tremaining: 22.4s\n",
      "230:\tlearn: 1783.0832457\ttotal: 6.71s\tremaining: 22.4s\n",
      "231:\tlearn: 1782.8434703\ttotal: 6.75s\tremaining: 22.3s\n",
      "232:\tlearn: 1782.4566895\ttotal: 6.78s\tremaining: 22.3s\n",
      "233:\tlearn: 1781.8108693\ttotal: 6.8s\tremaining: 22.3s\n",
      "234:\tlearn: 1781.3064620\ttotal: 6.84s\tremaining: 22.3s\n",
      "235:\tlearn: 1780.8422530\ttotal: 6.86s\tremaining: 22.2s\n",
      "236:\tlearn: 1780.2612283\ttotal: 6.89s\tremaining: 22.2s\n",
      "237:\tlearn: 1779.8045193\ttotal: 6.92s\tremaining: 22.2s\n",
      "238:\tlearn: 1779.1997873\ttotal: 6.95s\tremaining: 22.1s\n",
      "239:\tlearn: 1778.7861735\ttotal: 6.98s\tremaining: 22.1s\n",
      "240:\tlearn: 1778.1657852\ttotal: 7s\tremaining: 22.1s\n",
      "241:\tlearn: 1777.8261026\ttotal: 7.04s\tremaining: 22s\n",
      "242:\tlearn: 1777.2219901\ttotal: 7.07s\tremaining: 22s\n",
      "243:\tlearn: 1776.7904951\ttotal: 7.09s\tremaining: 22s\n",
      "244:\tlearn: 1776.4942244\ttotal: 7.13s\tremaining: 22s\n",
      "245:\tlearn: 1776.1700501\ttotal: 7.16s\tremaining: 21.9s\n",
      "246:\tlearn: 1775.7273573\ttotal: 7.18s\tremaining: 21.9s\n",
      "247:\tlearn: 1775.4453699\ttotal: 7.21s\tremaining: 21.9s\n",
      "248:\tlearn: 1775.2582803\ttotal: 7.24s\tremaining: 21.8s\n",
      "249:\tlearn: 1774.7715611\ttotal: 7.27s\tremaining: 21.8s\n",
      "250:\tlearn: 1774.3905857\ttotal: 7.3s\tremaining: 21.8s\n",
      "251:\tlearn: 1773.9931519\ttotal: 7.33s\tremaining: 21.8s\n",
      "252:\tlearn: 1773.5990154\ttotal: 7.36s\tremaining: 21.7s\n",
      "253:\tlearn: 1773.1561994\ttotal: 7.39s\tremaining: 21.7s\n",
      "254:\tlearn: 1772.7200998\ttotal: 7.42s\tremaining: 21.7s\n",
      "255:\tlearn: 1772.4368066\ttotal: 7.45s\tremaining: 21.7s\n",
      "256:\tlearn: 1772.1918295\ttotal: 7.47s\tremaining: 21.6s\n",
      "257:\tlearn: 1771.8129810\ttotal: 7.51s\tremaining: 21.6s\n",
      "258:\tlearn: 1771.2055706\ttotal: 7.54s\tremaining: 21.6s\n",
      "259:\tlearn: 1770.6137641\ttotal: 7.57s\tremaining: 21.5s\n",
      "260:\tlearn: 1770.1851959\ttotal: 7.6s\tremaining: 21.5s\n",
      "261:\tlearn: 1769.6735399\ttotal: 7.63s\tremaining: 21.5s\n",
      "262:\tlearn: 1769.4599843\ttotal: 7.66s\tremaining: 21.5s\n",
      "263:\tlearn: 1768.9958686\ttotal: 7.68s\tremaining: 21.4s\n",
      "264:\tlearn: 1768.7487235\ttotal: 7.71s\tremaining: 21.4s\n",
      "265:\tlearn: 1768.4169105\ttotal: 7.74s\tremaining: 21.4s\n",
      "266:\tlearn: 1767.9900595\ttotal: 7.77s\tremaining: 21.3s\n",
      "267:\tlearn: 1767.6399494\ttotal: 7.8s\tremaining: 21.3s\n",
      "268:\tlearn: 1767.3382464\ttotal: 7.83s\tremaining: 21.3s\n",
      "269:\tlearn: 1766.9581579\ttotal: 7.86s\tremaining: 21.2s\n",
      "270:\tlearn: 1766.6912953\ttotal: 7.88s\tremaining: 21.2s\n",
      "271:\tlearn: 1766.3953943\ttotal: 7.91s\tremaining: 21.2s\n",
      "272:\tlearn: 1766.0479860\ttotal: 7.94s\tremaining: 21.1s\n",
      "273:\tlearn: 1765.7212446\ttotal: 7.96s\tremaining: 21.1s\n",
      "274:\tlearn: 1765.4036985\ttotal: 8s\tremaining: 21.1s\n",
      "275:\tlearn: 1765.0164153\ttotal: 8.03s\tremaining: 21.1s\n",
      "276:\tlearn: 1764.4988623\ttotal: 8.05s\tremaining: 21s\n",
      "277:\tlearn: 1764.1724654\ttotal: 8.09s\tremaining: 21s\n",
      "278:\tlearn: 1763.7969171\ttotal: 8.12s\tremaining: 21s\n",
      "279:\tlearn: 1763.4216090\ttotal: 8.14s\tremaining: 20.9s\n",
      "280:\tlearn: 1763.1587711\ttotal: 8.17s\tremaining: 20.9s\n",
      "281:\tlearn: 1762.9193544\ttotal: 8.2s\tremaining: 20.9s\n",
      "282:\tlearn: 1762.4394396\ttotal: 8.23s\tremaining: 20.9s\n",
      "283:\tlearn: 1762.1504811\ttotal: 8.26s\tremaining: 20.8s\n",
      "284:\tlearn: 1761.9679651\ttotal: 8.29s\tremaining: 20.8s\n",
      "285:\tlearn: 1761.6612142\ttotal: 8.32s\tremaining: 20.8s\n",
      "286:\tlearn: 1761.1932486\ttotal: 8.35s\tremaining: 20.7s\n",
      "287:\tlearn: 1760.7917529\ttotal: 8.38s\tremaining: 20.7s\n",
      "288:\tlearn: 1760.3798841\ttotal: 8.41s\tremaining: 20.7s\n",
      "289:\tlearn: 1760.0327060\ttotal: 8.44s\tremaining: 20.7s\n",
      "290:\tlearn: 1759.7745621\ttotal: 8.46s\tremaining: 20.6s\n",
      "291:\tlearn: 1759.2513694\ttotal: 8.5s\tremaining: 20.6s\n",
      "292:\tlearn: 1758.9318977\ttotal: 8.52s\tremaining: 20.6s\n",
      "293:\tlearn: 1758.7699805\ttotal: 8.55s\tremaining: 20.5s\n",
      "294:\tlearn: 1758.4562110\ttotal: 8.58s\tremaining: 20.5s\n",
      "295:\tlearn: 1757.9987372\ttotal: 8.61s\tremaining: 20.5s\n",
      "296:\tlearn: 1757.7823393\ttotal: 8.63s\tremaining: 20.4s\n",
      "297:\tlearn: 1757.4749337\ttotal: 8.66s\tremaining: 20.4s\n",
      "298:\tlearn: 1757.0239135\ttotal: 8.69s\tremaining: 20.4s\n",
      "299:\tlearn: 1756.6517902\ttotal: 8.71s\tremaining: 20.3s\n",
      "300:\tlearn: 1756.3336632\ttotal: 8.74s\tremaining: 20.3s\n",
      "301:\tlearn: 1756.0756178\ttotal: 8.77s\tremaining: 20.3s\n",
      "302:\tlearn: 1755.7958319\ttotal: 8.8s\tremaining: 20.2s\n",
      "303:\tlearn: 1755.5439262\ttotal: 8.82s\tremaining: 20.2s\n",
      "304:\tlearn: 1755.2472297\ttotal: 8.85s\tremaining: 20.2s\n",
      "305:\tlearn: 1754.8539476\ttotal: 8.89s\tremaining: 20.2s\n",
      "306:\tlearn: 1754.5647213\ttotal: 8.91s\tremaining: 20.1s\n",
      "307:\tlearn: 1754.2183540\ttotal: 8.94s\tremaining: 20.1s\n",
      "308:\tlearn: 1754.0150596\ttotal: 8.98s\tremaining: 20.1s\n",
      "309:\tlearn: 1753.5839210\ttotal: 9.01s\tremaining: 20s\n",
      "310:\tlearn: 1753.3801192\ttotal: 9.04s\tremaining: 20s\n",
      "311:\tlearn: 1752.9340494\ttotal: 9.07s\tremaining: 20s\n",
      "312:\tlearn: 1752.6737970\ttotal: 9.1s\tremaining: 20s\n",
      "313:\tlearn: 1752.4405622\ttotal: 9.13s\tremaining: 19.9s\n",
      "314:\tlearn: 1752.0143585\ttotal: 9.17s\tremaining: 19.9s\n",
      "315:\tlearn: 1751.7429201\ttotal: 9.2s\tremaining: 19.9s\n",
      "316:\tlearn: 1751.4630161\ttotal: 9.23s\tremaining: 19.9s\n",
      "317:\tlearn: 1751.0644207\ttotal: 9.26s\tremaining: 19.9s\n",
      "318:\tlearn: 1750.7127820\ttotal: 9.29s\tremaining: 19.8s\n",
      "319:\tlearn: 1750.3590842\ttotal: 9.32s\tremaining: 19.8s\n",
      "320:\tlearn: 1750.1328069\ttotal: 9.35s\tremaining: 19.8s\n",
      "321:\tlearn: 1749.8882872\ttotal: 9.38s\tremaining: 19.7s\n",
      "322:\tlearn: 1749.6942677\ttotal: 9.4s\tremaining: 19.7s\n",
      "323:\tlearn: 1749.2208487\ttotal: 9.43s\tremaining: 19.7s\n",
      "324:\tlearn: 1748.8955142\ttotal: 9.46s\tremaining: 19.7s\n",
      "325:\tlearn: 1748.6624081\ttotal: 9.49s\tremaining: 19.6s\n",
      "326:\tlearn: 1748.3307721\ttotal: 9.51s\tremaining: 19.6s\n",
      "327:\tlearn: 1748.0456127\ttotal: 9.55s\tremaining: 19.6s\n",
      "328:\tlearn: 1747.7375802\ttotal: 9.57s\tremaining: 19.5s\n",
      "329:\tlearn: 1747.4476781\ttotal: 9.6s\tremaining: 19.5s\n",
      "330:\tlearn: 1747.0838595\ttotal: 9.63s\tremaining: 19.5s\n",
      "331:\tlearn: 1746.8258646\ttotal: 9.66s\tremaining: 19.4s\n",
      "332:\tlearn: 1746.6034330\ttotal: 9.69s\tremaining: 19.4s\n",
      "333:\tlearn: 1746.3802371\ttotal: 9.71s\tremaining: 19.4s\n",
      "334:\tlearn: 1745.9591388\ttotal: 9.74s\tremaining: 19.3s\n",
      "335:\tlearn: 1745.7044707\ttotal: 9.77s\tremaining: 19.3s\n",
      "336:\tlearn: 1745.4049604\ttotal: 9.8s\tremaining: 19.3s\n",
      "337:\tlearn: 1745.1878059\ttotal: 9.83s\tremaining: 19.3s\n",
      "338:\tlearn: 1744.9137669\ttotal: 9.86s\tremaining: 19.2s\n",
      "339:\tlearn: 1744.5298261\ttotal: 9.89s\tremaining: 19.2s\n",
      "340:\tlearn: 1744.2651723\ttotal: 9.92s\tremaining: 19.2s\n",
      "341:\tlearn: 1743.8730136\ttotal: 9.95s\tremaining: 19.1s\n",
      "342:\tlearn: 1743.5214814\ttotal: 9.98s\tremaining: 19.1s\n",
      "343:\tlearn: 1743.1863890\ttotal: 10s\tremaining: 19.1s\n",
      "344:\tlearn: 1742.8006334\ttotal: 10s\tremaining: 19.1s\n",
      "345:\tlearn: 1742.6200979\ttotal: 10.1s\tremaining: 19s\n",
      "346:\tlearn: 1742.4595162\ttotal: 10.1s\tremaining: 19s\n",
      "347:\tlearn: 1742.1631047\ttotal: 10.1s\tremaining: 19s\n",
      "348:\tlearn: 1741.9838450\ttotal: 10.2s\tremaining: 18.9s\n",
      "349:\tlearn: 1741.6401679\ttotal: 10.2s\tremaining: 18.9s\n",
      "350:\tlearn: 1741.3587550\ttotal: 10.2s\tremaining: 18.9s\n",
      "351:\tlearn: 1741.0191492\ttotal: 10.2s\tremaining: 18.9s\n",
      "352:\tlearn: 1740.7298219\ttotal: 10.3s\tremaining: 18.8s\n",
      "353:\tlearn: 1740.2958804\ttotal: 10.3s\tremaining: 18.8s\n",
      "354:\tlearn: 1739.9614148\ttotal: 10.3s\tremaining: 18.8s\n",
      "355:\tlearn: 1739.6312553\ttotal: 10.4s\tremaining: 18.7s\n",
      "356:\tlearn: 1739.3618050\ttotal: 10.4s\tremaining: 18.7s\n",
      "357:\tlearn: 1739.1567641\ttotal: 10.4s\tremaining: 18.7s\n",
      "358:\tlearn: 1738.9109630\ttotal: 10.4s\tremaining: 18.6s\n",
      "359:\tlearn: 1738.6696861\ttotal: 10.5s\tremaining: 18.6s\n",
      "360:\tlearn: 1738.3902903\ttotal: 10.5s\tremaining: 18.6s\n",
      "361:\tlearn: 1738.1346637\ttotal: 10.5s\tremaining: 18.6s\n",
      "362:\tlearn: 1737.7414617\ttotal: 10.6s\tremaining: 18.5s\n",
      "363:\tlearn: 1737.4071684\ttotal: 10.6s\tremaining: 18.5s\n",
      "364:\tlearn: 1737.0857966\ttotal: 10.6s\tremaining: 18.5s\n",
      "365:\tlearn: 1736.7076707\ttotal: 10.7s\tremaining: 18.5s\n",
      "366:\tlearn: 1736.3676687\ttotal: 10.7s\tremaining: 18.4s\n",
      "367:\tlearn: 1736.1446879\ttotal: 10.7s\tremaining: 18.4s\n",
      "368:\tlearn: 1735.7844798\ttotal: 10.7s\tremaining: 18.4s\n",
      "369:\tlearn: 1735.5221539\ttotal: 10.8s\tremaining: 18.3s\n",
      "370:\tlearn: 1735.2283852\ttotal: 10.8s\tremaining: 18.3s\n",
      "371:\tlearn: 1734.9898507\ttotal: 10.8s\tremaining: 18.3s\n",
      "372:\tlearn: 1734.6273420\ttotal: 10.8s\tremaining: 18.2s\n",
      "373:\tlearn: 1734.4658828\ttotal: 10.9s\tremaining: 18.2s\n",
      "374:\tlearn: 1734.1797135\ttotal: 10.9s\tremaining: 18.2s\n",
      "375:\tlearn: 1733.8898912\ttotal: 10.9s\tremaining: 18.1s\n",
      "376:\tlearn: 1733.5755101\ttotal: 11s\tremaining: 18.1s\n",
      "377:\tlearn: 1733.3665108\ttotal: 11s\tremaining: 18.1s\n",
      "378:\tlearn: 1733.0898889\ttotal: 11s\tremaining: 18.1s\n",
      "379:\tlearn: 1732.7490094\ttotal: 11s\tremaining: 18s\n",
      "380:\tlearn: 1732.4499560\ttotal: 11.1s\tremaining: 18s\n",
      "381:\tlearn: 1732.1169000\ttotal: 11.1s\tremaining: 18s\n",
      "382:\tlearn: 1731.7940426\ttotal: 11.1s\tremaining: 17.9s\n",
      "383:\tlearn: 1731.5233118\ttotal: 11.2s\tremaining: 17.9s\n",
      "384:\tlearn: 1731.1645556\ttotal: 11.2s\tremaining: 17.9s\n",
      "385:\tlearn: 1730.7802649\ttotal: 11.2s\tremaining: 17.9s\n",
      "386:\tlearn: 1730.4648749\ttotal: 11.3s\tremaining: 17.8s\n",
      "387:\tlearn: 1730.2574649\ttotal: 11.3s\tremaining: 17.8s\n",
      "388:\tlearn: 1730.0277637\ttotal: 11.3s\tremaining: 17.8s\n",
      "389:\tlearn: 1729.7370470\ttotal: 11.3s\tremaining: 17.7s\n",
      "390:\tlearn: 1729.3090300\ttotal: 11.4s\tremaining: 17.7s\n",
      "391:\tlearn: 1729.0378373\ttotal: 11.4s\tremaining: 17.7s\n",
      "392:\tlearn: 1728.7318887\ttotal: 11.4s\tremaining: 17.7s\n",
      "393:\tlearn: 1728.4048513\ttotal: 11.5s\tremaining: 17.6s\n",
      "394:\tlearn: 1728.0235725\ttotal: 11.5s\tremaining: 17.6s\n",
      "395:\tlearn: 1727.6950999\ttotal: 11.5s\tremaining: 17.6s\n",
      "396:\tlearn: 1727.4460374\ttotal: 11.5s\tremaining: 17.5s\n",
      "397:\tlearn: 1727.1829721\ttotal: 11.6s\tremaining: 17.5s\n",
      "398:\tlearn: 1726.9565435\ttotal: 11.6s\tremaining: 17.5s\n",
      "399:\tlearn: 1726.6639978\ttotal: 11.7s\tremaining: 17.5s\n",
      "400:\tlearn: 1726.3944984\ttotal: 11.7s\tremaining: 17.5s\n",
      "401:\tlearn: 1725.8735467\ttotal: 11.7s\tremaining: 17.4s\n",
      "402:\tlearn: 1725.7052120\ttotal: 11.8s\tremaining: 17.4s\n",
      "403:\tlearn: 1725.5468968\ttotal: 11.8s\tremaining: 17.4s\n",
      "404:\tlearn: 1725.3331349\ttotal: 11.8s\tremaining: 17.4s\n",
      "405:\tlearn: 1725.0923359\ttotal: 11.8s\tremaining: 17.3s\n",
      "406:\tlearn: 1724.9687416\ttotal: 11.9s\tremaining: 17.3s\n",
      "407:\tlearn: 1724.8119787\ttotal: 11.9s\tremaining: 17.3s\n",
      "408:\tlearn: 1724.5689603\ttotal: 11.9s\tremaining: 17.3s\n",
      "409:\tlearn: 1724.2986576\ttotal: 12s\tremaining: 17.2s\n",
      "410:\tlearn: 1724.1464751\ttotal: 12s\tremaining: 17.2s\n",
      "411:\tlearn: 1723.8610766\ttotal: 12s\tremaining: 17.2s\n",
      "412:\tlearn: 1723.6498411\ttotal: 12.1s\tremaining: 17.1s\n",
      "413:\tlearn: 1723.4199699\ttotal: 12.1s\tremaining: 17.1s\n",
      "414:\tlearn: 1723.2249446\ttotal: 12.1s\tremaining: 17.1s\n",
      "415:\tlearn: 1722.9882141\ttotal: 12.2s\tremaining: 17.1s\n",
      "416:\tlearn: 1722.8051836\ttotal: 12.2s\tremaining: 17s\n",
      "417:\tlearn: 1722.4917493\ttotal: 12.2s\tremaining: 17s\n",
      "418:\tlearn: 1722.2621785\ttotal: 12.2s\tremaining: 17s\n",
      "419:\tlearn: 1722.0006083\ttotal: 12.3s\tremaining: 16.9s\n",
      "420:\tlearn: 1721.8358539\ttotal: 12.3s\tremaining: 16.9s\n",
      "421:\tlearn: 1721.4504458\ttotal: 12.3s\tremaining: 16.9s\n",
      "422:\tlearn: 1721.2309071\ttotal: 12.3s\tremaining: 16.8s\n",
      "423:\tlearn: 1721.0065340\ttotal: 12.4s\tremaining: 16.8s\n",
      "424:\tlearn: 1720.7786383\ttotal: 12.4s\tremaining: 16.8s\n",
      "425:\tlearn: 1720.5819168\ttotal: 12.4s\tremaining: 16.8s\n",
      "426:\tlearn: 1720.4528220\ttotal: 12.5s\tremaining: 16.7s\n",
      "427:\tlearn: 1720.2183993\ttotal: 12.5s\tremaining: 16.7s\n",
      "428:\tlearn: 1720.0816345\ttotal: 12.5s\tremaining: 16.6s\n",
      "429:\tlearn: 1719.5931471\ttotal: 12.5s\tremaining: 16.6s\n",
      "430:\tlearn: 1719.4008621\ttotal: 12.6s\tremaining: 16.6s\n",
      "431:\tlearn: 1719.1768370\ttotal: 12.6s\tremaining: 16.6s\n",
      "432:\tlearn: 1719.0166373\ttotal: 12.6s\tremaining: 16.5s\n",
      "433:\tlearn: 1718.7629883\ttotal: 12.6s\tremaining: 16.5s\n",
      "434:\tlearn: 1718.4763898\ttotal: 12.7s\tremaining: 16.5s\n",
      "435:\tlearn: 1718.1423764\ttotal: 12.7s\tremaining: 16.4s\n",
      "436:\tlearn: 1717.8608265\ttotal: 12.7s\tremaining: 16.4s\n",
      "437:\tlearn: 1717.7036752\ttotal: 12.8s\tremaining: 16.4s\n",
      "438:\tlearn: 1717.3906696\ttotal: 12.8s\tremaining: 16.3s\n",
      "439:\tlearn: 1717.1210499\ttotal: 12.8s\tremaining: 16.3s\n",
      "440:\tlearn: 1716.9560759\ttotal: 12.8s\tremaining: 16.3s\n",
      "441:\tlearn: 1716.7197737\ttotal: 12.9s\tremaining: 16.3s\n",
      "442:\tlearn: 1716.5839613\ttotal: 12.9s\tremaining: 16.2s\n",
      "443:\tlearn: 1716.3577222\ttotal: 12.9s\tremaining: 16.2s\n",
      "444:\tlearn: 1716.1072867\ttotal: 13s\tremaining: 16.2s\n",
      "445:\tlearn: 1715.7791102\ttotal: 13s\tremaining: 16.1s\n",
      "446:\tlearn: 1715.5883602\ttotal: 13s\tremaining: 16.1s\n",
      "447:\tlearn: 1715.2437751\ttotal: 13s\tremaining: 16.1s\n",
      "448:\tlearn: 1714.9405904\ttotal: 13.1s\tremaining: 16s\n",
      "449:\tlearn: 1714.5672153\ttotal: 13.1s\tremaining: 16s\n",
      "450:\tlearn: 1714.1272687\ttotal: 13.1s\tremaining: 16s\n",
      "451:\tlearn: 1713.8258765\ttotal: 13.2s\tremaining: 16s\n",
      "452:\tlearn: 1713.5438880\ttotal: 13.2s\tremaining: 15.9s\n",
      "453:\tlearn: 1713.3124349\ttotal: 13.2s\tremaining: 15.9s\n",
      "454:\tlearn: 1712.8347346\ttotal: 13.2s\tremaining: 15.9s\n",
      "455:\tlearn: 1712.6316354\ttotal: 13.3s\tremaining: 15.8s\n",
      "456:\tlearn: 1712.4735989\ttotal: 13.3s\tremaining: 15.8s\n",
      "457:\tlearn: 1712.2656260\ttotal: 13.3s\tremaining: 15.8s\n",
      "458:\tlearn: 1712.1656384\ttotal: 13.3s\tremaining: 15.7s\n",
      "459:\tlearn: 1711.9870762\ttotal: 13.4s\tremaining: 15.7s\n",
      "460:\tlearn: 1711.8767364\ttotal: 13.4s\tremaining: 15.7s\n",
      "461:\tlearn: 1711.6441626\ttotal: 13.4s\tremaining: 15.6s\n",
      "462:\tlearn: 1711.4446273\ttotal: 13.5s\tremaining: 15.6s\n",
      "463:\tlearn: 1711.0563310\ttotal: 13.5s\tremaining: 15.6s\n",
      "464:\tlearn: 1710.7795536\ttotal: 13.5s\tremaining: 15.6s\n",
      "465:\tlearn: 1710.5167999\ttotal: 13.5s\tremaining: 15.5s\n",
      "466:\tlearn: 1710.0889112\ttotal: 13.6s\tremaining: 15.5s\n",
      "467:\tlearn: 1709.9635676\ttotal: 13.6s\tremaining: 15.5s\n",
      "468:\tlearn: 1709.7393706\ttotal: 13.6s\tremaining: 15.4s\n",
      "469:\tlearn: 1709.5177423\ttotal: 13.7s\tremaining: 15.4s\n",
      "470:\tlearn: 1709.2314713\ttotal: 13.7s\tremaining: 15.4s\n",
      "471:\tlearn: 1709.0086938\ttotal: 13.7s\tremaining: 15.3s\n",
      "472:\tlearn: 1708.7147268\ttotal: 13.7s\tremaining: 15.3s\n",
      "473:\tlearn: 1708.4088735\ttotal: 13.8s\tremaining: 15.3s\n",
      "474:\tlearn: 1708.2548565\ttotal: 13.8s\tremaining: 15.3s\n",
      "475:\tlearn: 1707.8560462\ttotal: 13.8s\tremaining: 15.2s\n",
      "476:\tlearn: 1707.6604211\ttotal: 13.9s\tremaining: 15.2s\n",
      "477:\tlearn: 1707.5380311\ttotal: 13.9s\tremaining: 15.2s\n",
      "478:\tlearn: 1707.4064951\ttotal: 13.9s\tremaining: 15.1s\n",
      "479:\tlearn: 1707.1408656\ttotal: 13.9s\tremaining: 15.1s\n",
      "480:\tlearn: 1706.9886452\ttotal: 14s\tremaining: 15.1s\n",
      "481:\tlearn: 1706.7313445\ttotal: 14s\tremaining: 15s\n",
      "482:\tlearn: 1706.5795363\ttotal: 14s\tremaining: 15s\n",
      "483:\tlearn: 1706.4430943\ttotal: 14.1s\tremaining: 15s\n",
      "484:\tlearn: 1706.3323181\ttotal: 14.1s\tremaining: 15s\n",
      "485:\tlearn: 1706.0819412\ttotal: 14.1s\tremaining: 14.9s\n",
      "486:\tlearn: 1705.8951706\ttotal: 14.1s\tremaining: 14.9s\n",
      "487:\tlearn: 1705.6461846\ttotal: 14.2s\tremaining: 14.9s\n",
      "488:\tlearn: 1705.3290078\ttotal: 14.2s\tremaining: 14.8s\n",
      "489:\tlearn: 1705.0990387\ttotal: 14.2s\tremaining: 14.8s\n",
      "490:\tlearn: 1704.8864308\ttotal: 14.3s\tremaining: 14.8s\n",
      "491:\tlearn: 1704.6162689\ttotal: 14.3s\tremaining: 14.8s\n",
      "492:\tlearn: 1704.4577032\ttotal: 14.3s\tremaining: 14.7s\n",
      "493:\tlearn: 1704.2115296\ttotal: 14.3s\tremaining: 14.7s\n",
      "494:\tlearn: 1703.9893058\ttotal: 14.4s\tremaining: 14.7s\n",
      "495:\tlearn: 1703.8285473\ttotal: 14.4s\tremaining: 14.6s\n",
      "496:\tlearn: 1703.6557770\ttotal: 14.4s\tremaining: 14.6s\n",
      "497:\tlearn: 1703.4495885\ttotal: 14.5s\tremaining: 14.6s\n",
      "498:\tlearn: 1703.2790702\ttotal: 14.5s\tremaining: 14.5s\n",
      "499:\tlearn: 1703.1324970\ttotal: 14.5s\tremaining: 14.5s\n",
      "500:\tlearn: 1702.9442527\ttotal: 14.5s\tremaining: 14.5s\n",
      "501:\tlearn: 1702.7308946\ttotal: 14.6s\tremaining: 14.4s\n",
      "502:\tlearn: 1702.5723240\ttotal: 14.6s\tremaining: 14.4s\n",
      "503:\tlearn: 1702.3487256\ttotal: 14.6s\tremaining: 14.4s\n",
      "504:\tlearn: 1702.1368932\ttotal: 14.6s\tremaining: 14.4s\n",
      "505:\tlearn: 1701.9646900\ttotal: 14.7s\tremaining: 14.3s\n",
      "506:\tlearn: 1701.6340688\ttotal: 14.7s\tremaining: 14.3s\n",
      "507:\tlearn: 1701.4899583\ttotal: 14.7s\tremaining: 14.3s\n",
      "508:\tlearn: 1701.3457213\ttotal: 14.8s\tremaining: 14.2s\n",
      "509:\tlearn: 1701.1697283\ttotal: 14.8s\tremaining: 14.2s\n",
      "510:\tlearn: 1701.0372405\ttotal: 14.8s\tremaining: 14.2s\n",
      "511:\tlearn: 1700.9051215\ttotal: 14.9s\tremaining: 14.2s\n",
      "512:\tlearn: 1700.7802272\ttotal: 14.9s\tremaining: 14.1s\n",
      "513:\tlearn: 1700.6424140\ttotal: 14.9s\tremaining: 14.1s\n",
      "514:\tlearn: 1700.4822122\ttotal: 14.9s\tremaining: 14.1s\n",
      "515:\tlearn: 1700.2545427\ttotal: 15s\tremaining: 14s\n",
      "516:\tlearn: 1700.1016135\ttotal: 15s\tremaining: 14s\n",
      "517:\tlearn: 1699.9299846\ttotal: 15s\tremaining: 14s\n",
      "518:\tlearn: 1699.7150241\ttotal: 15.1s\tremaining: 14s\n",
      "519:\tlearn: 1699.5735557\ttotal: 15.1s\tremaining: 13.9s\n",
      "520:\tlearn: 1699.4129720\ttotal: 15.1s\tremaining: 13.9s\n",
      "521:\tlearn: 1699.2043953\ttotal: 15.1s\tremaining: 13.9s\n",
      "522:\tlearn: 1698.9419279\ttotal: 15.2s\tremaining: 13.8s\n",
      "523:\tlearn: 1698.7586777\ttotal: 15.2s\tremaining: 13.8s\n",
      "524:\tlearn: 1698.5739071\ttotal: 15.2s\tremaining: 13.8s\n",
      "525:\tlearn: 1698.3100633\ttotal: 15.3s\tremaining: 13.7s\n",
      "526:\tlearn: 1698.1364775\ttotal: 15.3s\tremaining: 13.7s\n",
      "527:\tlearn: 1697.9392171\ttotal: 15.3s\tremaining: 13.7s\n",
      "528:\tlearn: 1697.6870421\ttotal: 15.3s\tremaining: 13.7s\n",
      "529:\tlearn: 1697.4893731\ttotal: 15.4s\tremaining: 13.6s\n",
      "530:\tlearn: 1697.2302035\ttotal: 15.4s\tremaining: 13.6s\n",
      "531:\tlearn: 1697.1264438\ttotal: 15.4s\tremaining: 13.6s\n",
      "532:\tlearn: 1697.0051951\ttotal: 15.5s\tremaining: 13.6s\n",
      "533:\tlearn: 1696.7794168\ttotal: 15.5s\tremaining: 13.5s\n",
      "534:\tlearn: 1696.6424670\ttotal: 15.5s\tremaining: 13.5s\n",
      "535:\tlearn: 1696.4196493\ttotal: 15.6s\tremaining: 13.5s\n",
      "536:\tlearn: 1696.2661922\ttotal: 15.6s\tremaining: 13.4s\n",
      "537:\tlearn: 1696.0052766\ttotal: 15.6s\tremaining: 13.4s\n",
      "538:\tlearn: 1695.8125702\ttotal: 15.6s\tremaining: 13.4s\n",
      "539:\tlearn: 1695.5722747\ttotal: 15.7s\tremaining: 13.3s\n",
      "540:\tlearn: 1695.3909911\ttotal: 15.7s\tremaining: 13.3s\n",
      "541:\tlearn: 1695.2357349\ttotal: 15.7s\tremaining: 13.3s\n",
      "542:\tlearn: 1694.9968641\ttotal: 15.7s\tremaining: 13.3s\n",
      "543:\tlearn: 1694.8418895\ttotal: 15.8s\tremaining: 13.2s\n",
      "544:\tlearn: 1694.6510611\ttotal: 15.8s\tremaining: 13.2s\n",
      "545:\tlearn: 1694.4882830\ttotal: 15.8s\tremaining: 13.2s\n",
      "546:\tlearn: 1694.2697286\ttotal: 15.9s\tremaining: 13.1s\n",
      "547:\tlearn: 1694.1700307\ttotal: 15.9s\tremaining: 13.1s\n",
      "548:\tlearn: 1693.9446996\ttotal: 15.9s\tremaining: 13.1s\n",
      "549:\tlearn: 1693.8207678\ttotal: 16s\tremaining: 13.1s\n",
      "550:\tlearn: 1693.6151541\ttotal: 16s\tremaining: 13s\n",
      "551:\tlearn: 1693.4111451\ttotal: 16s\tremaining: 13s\n",
      "552:\tlearn: 1693.1339002\ttotal: 16s\tremaining: 13s\n",
      "553:\tlearn: 1692.8004559\ttotal: 16.1s\tremaining: 12.9s\n",
      "554:\tlearn: 1692.6016845\ttotal: 16.1s\tremaining: 12.9s\n",
      "555:\tlearn: 1692.3524062\ttotal: 16.1s\tremaining: 12.9s\n",
      "556:\tlearn: 1692.2172105\ttotal: 16.2s\tremaining: 12.9s\n",
      "557:\tlearn: 1692.1509968\ttotal: 16.2s\tremaining: 12.8s\n",
      "558:\tlearn: 1691.9240536\ttotal: 16.2s\tremaining: 12.8s\n",
      "559:\tlearn: 1691.6650618\ttotal: 16.3s\tremaining: 12.8s\n",
      "560:\tlearn: 1691.4490233\ttotal: 16.3s\tremaining: 12.7s\n",
      "561:\tlearn: 1691.2757003\ttotal: 16.3s\tremaining: 12.7s\n",
      "562:\tlearn: 1691.1050821\ttotal: 16.3s\tremaining: 12.7s\n",
      "563:\tlearn: 1690.9298014\ttotal: 16.4s\tremaining: 12.7s\n",
      "564:\tlearn: 1690.7593795\ttotal: 16.4s\tremaining: 12.6s\n",
      "565:\tlearn: 1690.4267327\ttotal: 16.4s\tremaining: 12.6s\n",
      "566:\tlearn: 1690.0638899\ttotal: 16.5s\tremaining: 12.6s\n",
      "567:\tlearn: 1689.9009723\ttotal: 16.5s\tremaining: 12.5s\n",
      "568:\tlearn: 1689.7827637\ttotal: 16.5s\tremaining: 12.5s\n",
      "569:\tlearn: 1689.6233618\ttotal: 16.5s\tremaining: 12.5s\n",
      "570:\tlearn: 1689.4661668\ttotal: 16.6s\tremaining: 12.5s\n",
      "571:\tlearn: 1689.3226015\ttotal: 16.6s\tremaining: 12.4s\n",
      "572:\tlearn: 1689.1569215\ttotal: 16.6s\tremaining: 12.4s\n",
      "573:\tlearn: 1688.8427672\ttotal: 16.7s\tremaining: 12.4s\n",
      "574:\tlearn: 1688.6683430\ttotal: 16.7s\tremaining: 12.3s\n",
      "575:\tlearn: 1688.4707827\ttotal: 16.7s\tremaining: 12.3s\n",
      "576:\tlearn: 1688.2997034\ttotal: 16.7s\tremaining: 12.3s\n",
      "577:\tlearn: 1688.0691792\ttotal: 16.8s\tremaining: 12.3s\n",
      "578:\tlearn: 1687.9089709\ttotal: 16.8s\tremaining: 12.2s\n",
      "579:\tlearn: 1687.7449830\ttotal: 16.8s\tremaining: 12.2s\n",
      "580:\tlearn: 1687.5392990\ttotal: 16.9s\tremaining: 12.2s\n",
      "581:\tlearn: 1687.3753262\ttotal: 16.9s\tremaining: 12.1s\n",
      "582:\tlearn: 1687.2173582\ttotal: 16.9s\tremaining: 12.1s\n",
      "583:\tlearn: 1687.0834067\ttotal: 17s\tremaining: 12.1s\n",
      "584:\tlearn: 1686.9619118\ttotal: 17s\tremaining: 12.1s\n",
      "585:\tlearn: 1686.8216626\ttotal: 17s\tremaining: 12s\n",
      "586:\tlearn: 1686.6934718\ttotal: 17s\tremaining: 12s\n",
      "587:\tlearn: 1686.5704256\ttotal: 17.1s\tremaining: 12s\n",
      "588:\tlearn: 1686.4638830\ttotal: 17.1s\tremaining: 11.9s\n",
      "589:\tlearn: 1686.2681391\ttotal: 17.1s\tremaining: 11.9s\n",
      "590:\tlearn: 1686.1500491\ttotal: 17.2s\tremaining: 11.9s\n",
      "591:\tlearn: 1685.7848879\ttotal: 17.2s\tremaining: 11.9s\n",
      "592:\tlearn: 1685.5767093\ttotal: 17.2s\tremaining: 11.8s\n",
      "593:\tlearn: 1685.3857174\ttotal: 17.3s\tremaining: 11.8s\n",
      "594:\tlearn: 1685.1647869\ttotal: 17.3s\tremaining: 11.8s\n",
      "595:\tlearn: 1684.9993421\ttotal: 17.3s\tremaining: 11.7s\n",
      "596:\tlearn: 1684.9340374\ttotal: 17.4s\tremaining: 11.7s\n",
      "597:\tlearn: 1684.7370741\ttotal: 17.4s\tremaining: 11.7s\n",
      "598:\tlearn: 1684.6488975\ttotal: 17.4s\tremaining: 11.7s\n",
      "599:\tlearn: 1684.4532853\ttotal: 17.4s\tremaining: 11.6s\n",
      "600:\tlearn: 1684.3054463\ttotal: 17.5s\tremaining: 11.6s\n",
      "601:\tlearn: 1684.1422881\ttotal: 17.5s\tremaining: 11.6s\n",
      "602:\tlearn: 1683.9874557\ttotal: 17.5s\tremaining: 11.5s\n",
      "603:\tlearn: 1683.7906024\ttotal: 17.6s\tremaining: 11.5s\n",
      "604:\tlearn: 1683.6008706\ttotal: 17.6s\tremaining: 11.5s\n",
      "605:\tlearn: 1683.4478961\ttotal: 17.6s\tremaining: 11.4s\n",
      "606:\tlearn: 1683.2603235\ttotal: 17.6s\tremaining: 11.4s\n",
      "607:\tlearn: 1682.9577354\ttotal: 17.7s\tremaining: 11.4s\n",
      "608:\tlearn: 1682.7229346\ttotal: 17.7s\tremaining: 11.4s\n",
      "609:\tlearn: 1682.5782078\ttotal: 17.7s\tremaining: 11.3s\n",
      "610:\tlearn: 1682.4277250\ttotal: 17.8s\tremaining: 11.3s\n",
      "611:\tlearn: 1682.2573466\ttotal: 17.8s\tremaining: 11.3s\n",
      "612:\tlearn: 1682.1148474\ttotal: 17.8s\tremaining: 11.3s\n",
      "613:\tlearn: 1682.0429406\ttotal: 17.9s\tremaining: 11.2s\n",
      "614:\tlearn: 1681.9523659\ttotal: 17.9s\tremaining: 11.2s\n",
      "615:\tlearn: 1681.7280430\ttotal: 17.9s\tremaining: 11.2s\n",
      "616:\tlearn: 1681.5854086\ttotal: 17.9s\tremaining: 11.1s\n",
      "617:\tlearn: 1681.3631487\ttotal: 18s\tremaining: 11.1s\n",
      "618:\tlearn: 1681.2270050\ttotal: 18s\tremaining: 11.1s\n",
      "619:\tlearn: 1681.0593979\ttotal: 18s\tremaining: 11s\n",
      "620:\tlearn: 1680.9225028\ttotal: 18s\tremaining: 11s\n",
      "621:\tlearn: 1680.7998821\ttotal: 18.1s\tremaining: 11s\n",
      "622:\tlearn: 1680.6420615\ttotal: 18.1s\tremaining: 11s\n",
      "623:\tlearn: 1680.4620367\ttotal: 18.1s\tremaining: 10.9s\n",
      "624:\tlearn: 1680.2278570\ttotal: 18.2s\tremaining: 10.9s\n",
      "625:\tlearn: 1679.9849113\ttotal: 18.2s\tremaining: 10.9s\n",
      "626:\tlearn: 1679.8004431\ttotal: 18.2s\tremaining: 10.8s\n",
      "627:\tlearn: 1679.6356711\ttotal: 18.3s\tremaining: 10.8s\n",
      "628:\tlearn: 1679.4122985\ttotal: 18.3s\tremaining: 10.8s\n",
      "629:\tlearn: 1679.2256760\ttotal: 18.3s\tremaining: 10.8s\n",
      "630:\tlearn: 1679.0571388\ttotal: 18.3s\tremaining: 10.7s\n",
      "631:\tlearn: 1678.8370154\ttotal: 18.4s\tremaining: 10.7s\n",
      "632:\tlearn: 1678.6746439\ttotal: 18.4s\tremaining: 10.7s\n",
      "633:\tlearn: 1678.5602932\ttotal: 18.4s\tremaining: 10.6s\n",
      "634:\tlearn: 1678.3678930\ttotal: 18.5s\tremaining: 10.6s\n",
      "635:\tlearn: 1678.2312164\ttotal: 18.5s\tremaining: 10.6s\n",
      "636:\tlearn: 1678.0272103\ttotal: 18.5s\tremaining: 10.6s\n",
      "637:\tlearn: 1677.9570091\ttotal: 18.6s\tremaining: 10.5s\n",
      "638:\tlearn: 1677.7705891\ttotal: 18.6s\tremaining: 10.5s\n",
      "639:\tlearn: 1677.6178469\ttotal: 18.6s\tremaining: 10.5s\n",
      "640:\tlearn: 1677.3150912\ttotal: 18.7s\tremaining: 10.4s\n",
      "641:\tlearn: 1677.1322319\ttotal: 18.7s\tremaining: 10.4s\n",
      "642:\tlearn: 1676.9370416\ttotal: 18.7s\tremaining: 10.4s\n",
      "643:\tlearn: 1676.7887142\ttotal: 18.7s\tremaining: 10.4s\n",
      "644:\tlearn: 1676.6098884\ttotal: 18.8s\tremaining: 10.3s\n",
      "645:\tlearn: 1676.4826128\ttotal: 18.8s\tremaining: 10.3s\n",
      "646:\tlearn: 1676.2867199\ttotal: 18.8s\tremaining: 10.3s\n",
      "647:\tlearn: 1676.1723545\ttotal: 18.9s\tremaining: 10.2s\n",
      "648:\tlearn: 1676.0412755\ttotal: 18.9s\tremaining: 10.2s\n",
      "649:\tlearn: 1675.7901147\ttotal: 18.9s\tremaining: 10.2s\n",
      "650:\tlearn: 1675.6261420\ttotal: 18.9s\tremaining: 10.2s\n",
      "651:\tlearn: 1675.4651997\ttotal: 19s\tremaining: 10.1s\n",
      "652:\tlearn: 1675.3580253\ttotal: 19s\tremaining: 10.1s\n",
      "653:\tlearn: 1675.2157450\ttotal: 19s\tremaining: 10.1s\n",
      "654:\tlearn: 1675.0639806\ttotal: 19.1s\tremaining: 10s\n",
      "655:\tlearn: 1675.0019543\ttotal: 19.1s\tremaining: 10s\n",
      "656:\tlearn: 1674.9096325\ttotal: 19.1s\tremaining: 9.98s\n",
      "657:\tlearn: 1674.8163987\ttotal: 19.2s\tremaining: 9.95s\n",
      "658:\tlearn: 1674.6538250\ttotal: 19.2s\tremaining: 9.93s\n",
      "659:\tlearn: 1674.5183279\ttotal: 19.2s\tremaining: 9.9s\n",
      "660:\tlearn: 1674.3156237\ttotal: 19.2s\tremaining: 9.87s\n",
      "661:\tlearn: 1674.0804233\ttotal: 19.3s\tremaining: 9.84s\n",
      "662:\tlearn: 1673.8530593\ttotal: 19.3s\tremaining: 9.81s\n",
      "663:\tlearn: 1673.6804681\ttotal: 19.3s\tremaining: 9.79s\n",
      "664:\tlearn: 1673.5891327\ttotal: 19.4s\tremaining: 9.76s\n",
      "665:\tlearn: 1673.4475777\ttotal: 19.4s\tremaining: 9.73s\n",
      "666:\tlearn: 1673.3097337\ttotal: 19.4s\tremaining: 9.7s\n",
      "667:\tlearn: 1673.1963480\ttotal: 19.5s\tremaining: 9.67s\n",
      "668:\tlearn: 1673.0075437\ttotal: 19.5s\tremaining: 9.64s\n",
      "669:\tlearn: 1672.8187252\ttotal: 19.5s\tremaining: 9.62s\n",
      "670:\tlearn: 1672.6820960\ttotal: 19.6s\tremaining: 9.59s\n",
      "671:\tlearn: 1672.5616633\ttotal: 19.6s\tremaining: 9.56s\n",
      "672:\tlearn: 1672.4028104\ttotal: 19.6s\tremaining: 9.53s\n",
      "673:\tlearn: 1672.2146590\ttotal: 19.6s\tremaining: 9.5s\n",
      "674:\tlearn: 1672.0689577\ttotal: 19.7s\tremaining: 9.47s\n",
      "675:\tlearn: 1671.9054512\ttotal: 19.7s\tremaining: 9.44s\n",
      "676:\tlearn: 1671.8454341\ttotal: 19.7s\tremaining: 9.41s\n",
      "677:\tlearn: 1671.7301053\ttotal: 19.8s\tremaining: 9.38s\n",
      "678:\tlearn: 1671.5368074\ttotal: 19.8s\tremaining: 9.36s\n",
      "679:\tlearn: 1671.2897378\ttotal: 19.8s\tremaining: 9.33s\n",
      "680:\tlearn: 1671.0059839\ttotal: 19.9s\tremaining: 9.31s\n",
      "681:\tlearn: 1670.8800207\ttotal: 19.9s\tremaining: 9.28s\n",
      "682:\tlearn: 1670.7905654\ttotal: 19.9s\tremaining: 9.24s\n",
      "683:\tlearn: 1670.5875903\ttotal: 20s\tremaining: 9.22s\n",
      "684:\tlearn: 1670.4816350\ttotal: 20s\tremaining: 9.19s\n",
      "685:\tlearn: 1670.2326904\ttotal: 20s\tremaining: 9.16s\n",
      "686:\tlearn: 1670.0692922\ttotal: 20s\tremaining: 9.13s\n",
      "687:\tlearn: 1669.9022250\ttotal: 20.1s\tremaining: 9.1s\n",
      "688:\tlearn: 1669.8239963\ttotal: 20.1s\tremaining: 9.07s\n",
      "689:\tlearn: 1669.6953137\ttotal: 20.1s\tremaining: 9.04s\n",
      "690:\tlearn: 1669.5804847\ttotal: 20.2s\tremaining: 9.01s\n",
      "691:\tlearn: 1669.5241003\ttotal: 20.2s\tremaining: 8.98s\n",
      "692:\tlearn: 1669.3037806\ttotal: 20.2s\tremaining: 8.95s\n",
      "693:\tlearn: 1669.1291526\ttotal: 20.2s\tremaining: 8.92s\n",
      "694:\tlearn: 1668.9536510\ttotal: 20.3s\tremaining: 8.89s\n",
      "695:\tlearn: 1668.8198107\ttotal: 20.3s\tremaining: 8.87s\n",
      "696:\tlearn: 1668.7418047\ttotal: 20.3s\tremaining: 8.84s\n",
      "697:\tlearn: 1668.6104481\ttotal: 20.4s\tremaining: 8.81s\n",
      "698:\tlearn: 1668.2861595\ttotal: 20.4s\tremaining: 8.78s\n",
      "699:\tlearn: 1668.1785980\ttotal: 20.4s\tremaining: 8.75s\n",
      "700:\tlearn: 1668.1032665\ttotal: 20.4s\tremaining: 8.72s\n",
      "701:\tlearn: 1667.9821402\ttotal: 20.5s\tremaining: 8.69s\n",
      "702:\tlearn: 1667.8719981\ttotal: 20.5s\tremaining: 8.66s\n",
      "703:\tlearn: 1667.8033297\ttotal: 20.5s\tremaining: 8.63s\n",
      "704:\tlearn: 1667.6767404\ttotal: 20.6s\tremaining: 8.61s\n",
      "705:\tlearn: 1667.6431346\ttotal: 20.6s\tremaining: 8.57s\n",
      "706:\tlearn: 1667.5783451\ttotal: 20.6s\tremaining: 8.54s\n",
      "707:\tlearn: 1667.3630410\ttotal: 20.7s\tremaining: 8.52s\n",
      "708:\tlearn: 1667.2218648\ttotal: 20.7s\tremaining: 8.49s\n",
      "709:\tlearn: 1667.0888187\ttotal: 20.7s\tremaining: 8.46s\n",
      "710:\tlearn: 1666.8875215\ttotal: 20.7s\tremaining: 8.43s\n",
      "711:\tlearn: 1666.7247152\ttotal: 20.8s\tremaining: 8.4s\n",
      "712:\tlearn: 1666.5627260\ttotal: 20.8s\tremaining: 8.37s\n",
      "713:\tlearn: 1666.4303443\ttotal: 20.8s\tremaining: 8.34s\n",
      "714:\tlearn: 1666.3328721\ttotal: 20.9s\tremaining: 8.31s\n",
      "715:\tlearn: 1666.2185652\ttotal: 20.9s\tremaining: 8.29s\n",
      "716:\tlearn: 1666.0997685\ttotal: 20.9s\tremaining: 8.26s\n",
      "717:\tlearn: 1665.9657274\ttotal: 21s\tremaining: 8.23s\n",
      "718:\tlearn: 1665.7747743\ttotal: 21s\tremaining: 8.21s\n",
      "719:\tlearn: 1665.7235641\ttotal: 21s\tremaining: 8.18s\n",
      "720:\tlearn: 1665.6208865\ttotal: 21.1s\tremaining: 8.15s\n",
      "721:\tlearn: 1665.5081453\ttotal: 21.1s\tremaining: 8.13s\n",
      "722:\tlearn: 1665.3684899\ttotal: 21.1s\tremaining: 8.1s\n",
      "723:\tlearn: 1665.1256088\ttotal: 21.2s\tremaining: 8.07s\n",
      "724:\tlearn: 1664.9677016\ttotal: 21.2s\tremaining: 8.04s\n",
      "725:\tlearn: 1664.8031268\ttotal: 21.2s\tremaining: 8.02s\n",
      "726:\tlearn: 1664.6477978\ttotal: 21.3s\tremaining: 7.99s\n",
      "727:\tlearn: 1664.5823660\ttotal: 21.3s\tremaining: 7.96s\n",
      "728:\tlearn: 1664.4576320\ttotal: 21.3s\tremaining: 7.93s\n",
      "729:\tlearn: 1664.3583129\ttotal: 21.4s\tremaining: 7.9s\n",
      "730:\tlearn: 1664.2256381\ttotal: 21.4s\tremaining: 7.87s\n",
      "731:\tlearn: 1664.0564342\ttotal: 21.4s\tremaining: 7.84s\n",
      "732:\tlearn: 1663.7250182\ttotal: 21.4s\tremaining: 7.81s\n",
      "733:\tlearn: 1663.5032602\ttotal: 21.5s\tremaining: 7.78s\n",
      "734:\tlearn: 1663.2711849\ttotal: 21.5s\tremaining: 7.75s\n",
      "735:\tlearn: 1663.1798552\ttotal: 21.5s\tremaining: 7.72s\n",
      "736:\tlearn: 1663.0318694\ttotal: 21.6s\tremaining: 7.69s\n",
      "737:\tlearn: 1662.8710314\ttotal: 21.6s\tremaining: 7.66s\n",
      "738:\tlearn: 1662.7321918\ttotal: 21.6s\tremaining: 7.63s\n",
      "739:\tlearn: 1662.5439969\ttotal: 21.6s\tremaining: 7.6s\n",
      "740:\tlearn: 1662.4146058\ttotal: 21.7s\tremaining: 7.57s\n",
      "741:\tlearn: 1662.2304933\ttotal: 21.7s\tremaining: 7.55s\n",
      "742:\tlearn: 1662.0594733\ttotal: 21.7s\tremaining: 7.52s\n",
      "743:\tlearn: 1661.9820192\ttotal: 21.8s\tremaining: 7.49s\n",
      "744:\tlearn: 1661.6712399\ttotal: 21.8s\tremaining: 7.46s\n",
      "745:\tlearn: 1661.5747247\ttotal: 21.8s\tremaining: 7.43s\n",
      "746:\tlearn: 1661.4391614\ttotal: 21.9s\tremaining: 7.41s\n",
      "747:\tlearn: 1661.3439686\ttotal: 21.9s\tremaining: 7.38s\n",
      "748:\tlearn: 1661.1167348\ttotal: 21.9s\tremaining: 7.35s\n",
      "749:\tlearn: 1660.9913182\ttotal: 22s\tremaining: 7.32s\n",
      "750:\tlearn: 1660.9063178\ttotal: 22s\tremaining: 7.29s\n",
      "751:\tlearn: 1660.8078721\ttotal: 22s\tremaining: 7.26s\n",
      "752:\tlearn: 1660.6799985\ttotal: 22s\tremaining: 7.23s\n",
      "753:\tlearn: 1660.5347506\ttotal: 22.1s\tremaining: 7.2s\n",
      "754:\tlearn: 1660.4444240\ttotal: 22.1s\tremaining: 7.17s\n",
      "755:\tlearn: 1660.3308743\ttotal: 22.1s\tremaining: 7.14s\n",
      "756:\tlearn: 1660.2126637\ttotal: 22.1s\tremaining: 7.11s\n",
      "757:\tlearn: 1660.0225519\ttotal: 22.2s\tremaining: 7.08s\n",
      "758:\tlearn: 1659.9472686\ttotal: 22.2s\tremaining: 7.05s\n",
      "759:\tlearn: 1659.8688535\ttotal: 22.2s\tremaining: 7.02s\n",
      "760:\tlearn: 1659.6882989\ttotal: 22.3s\tremaining: 6.99s\n",
      "761:\tlearn: 1659.5745620\ttotal: 22.3s\tremaining: 6.96s\n",
      "762:\tlearn: 1659.5008574\ttotal: 22.3s\tremaining: 6.93s\n",
      "763:\tlearn: 1659.3635984\ttotal: 22.3s\tremaining: 6.9s\n",
      "764:\tlearn: 1659.2931793\ttotal: 22.4s\tremaining: 6.87s\n",
      "765:\tlearn: 1659.1475174\ttotal: 22.4s\tremaining: 6.84s\n",
      "766:\tlearn: 1659.0621497\ttotal: 22.4s\tremaining: 6.81s\n",
      "767:\tlearn: 1658.8783379\ttotal: 22.4s\tremaining: 6.78s\n",
      "768:\tlearn: 1658.7724839\ttotal: 22.5s\tremaining: 6.75s\n",
      "769:\tlearn: 1658.5997745\ttotal: 22.5s\tremaining: 6.72s\n",
      "770:\tlearn: 1658.4820268\ttotal: 22.5s\tremaining: 6.69s\n",
      "771:\tlearn: 1658.3480213\ttotal: 22.6s\tremaining: 6.66s\n",
      "772:\tlearn: 1658.2997785\ttotal: 22.6s\tremaining: 6.63s\n",
      "773:\tlearn: 1658.2114792\ttotal: 22.6s\tremaining: 6.6s\n",
      "774:\tlearn: 1658.1681374\ttotal: 22.6s\tremaining: 6.57s\n",
      "775:\tlearn: 1657.9863993\ttotal: 22.7s\tremaining: 6.54s\n",
      "776:\tlearn: 1657.9337327\ttotal: 22.7s\tremaining: 6.51s\n",
      "777:\tlearn: 1657.8050027\ttotal: 22.7s\tremaining: 6.48s\n",
      "778:\tlearn: 1657.7075561\ttotal: 22.7s\tremaining: 6.45s\n",
      "779:\tlearn: 1657.4572815\ttotal: 22.8s\tremaining: 6.42s\n",
      "780:\tlearn: 1657.3249606\ttotal: 22.8s\tremaining: 6.39s\n",
      "781:\tlearn: 1657.2633278\ttotal: 22.8s\tremaining: 6.36s\n",
      "782:\tlearn: 1657.1924793\ttotal: 22.8s\tremaining: 6.33s\n",
      "783:\tlearn: 1657.1308049\ttotal: 22.9s\tremaining: 6.3s\n",
      "784:\tlearn: 1656.9358269\ttotal: 22.9s\tremaining: 6.27s\n",
      "785:\tlearn: 1656.8516296\ttotal: 22.9s\tremaining: 6.24s\n",
      "786:\tlearn: 1656.6714112\ttotal: 23s\tremaining: 6.21s\n",
      "787:\tlearn: 1656.6200426\ttotal: 23s\tremaining: 6.18s\n",
      "788:\tlearn: 1656.3786527\ttotal: 23s\tremaining: 6.15s\n",
      "789:\tlearn: 1656.2791209\ttotal: 23s\tremaining: 6.12s\n",
      "790:\tlearn: 1656.1555381\ttotal: 23.1s\tremaining: 6.09s\n",
      "791:\tlearn: 1656.0892004\ttotal: 23.1s\tremaining: 6.06s\n",
      "792:\tlearn: 1655.9833136\ttotal: 23.1s\tremaining: 6.03s\n",
      "793:\tlearn: 1655.8426979\ttotal: 23.1s\tremaining: 6s\n",
      "794:\tlearn: 1655.7432422\ttotal: 23.2s\tremaining: 5.97s\n",
      "795:\tlearn: 1655.6538100\ttotal: 23.2s\tremaining: 5.94s\n",
      "796:\tlearn: 1655.4919839\ttotal: 23.2s\tremaining: 5.91s\n",
      "797:\tlearn: 1655.4004694\ttotal: 23.2s\tremaining: 5.88s\n",
      "798:\tlearn: 1655.2784826\ttotal: 23.3s\tremaining: 5.86s\n",
      "799:\tlearn: 1655.1799682\ttotal: 23.3s\tremaining: 5.83s\n",
      "800:\tlearn: 1654.9879784\ttotal: 23.3s\tremaining: 5.8s\n",
      "801:\tlearn: 1654.8891580\ttotal: 23.4s\tremaining: 5.77s\n",
      "802:\tlearn: 1654.7905689\ttotal: 23.4s\tremaining: 5.74s\n",
      "803:\tlearn: 1654.5988556\ttotal: 23.4s\tremaining: 5.71s\n",
      "804:\tlearn: 1654.4969478\ttotal: 23.4s\tremaining: 5.68s\n",
      "805:\tlearn: 1654.3879817\ttotal: 23.5s\tremaining: 5.65s\n",
      "806:\tlearn: 1654.3250362\ttotal: 23.5s\tremaining: 5.62s\n",
      "807:\tlearn: 1654.1048255\ttotal: 23.5s\tremaining: 5.59s\n",
      "808:\tlearn: 1653.9563398\ttotal: 23.6s\tremaining: 5.56s\n",
      "809:\tlearn: 1653.7711298\ttotal: 23.6s\tremaining: 5.53s\n",
      "810:\tlearn: 1653.5724000\ttotal: 23.6s\tremaining: 5.5s\n",
      "811:\tlearn: 1653.4297717\ttotal: 23.7s\tremaining: 5.48s\n",
      "812:\tlearn: 1653.3444509\ttotal: 23.7s\tremaining: 5.45s\n",
      "813:\tlearn: 1653.2051971\ttotal: 23.7s\tremaining: 5.42s\n",
      "814:\tlearn: 1653.1067730\ttotal: 23.7s\tremaining: 5.39s\n",
      "815:\tlearn: 1653.0380138\ttotal: 23.8s\tremaining: 5.36s\n",
      "816:\tlearn: 1652.9718116\ttotal: 23.8s\tremaining: 5.33s\n",
      "817:\tlearn: 1652.8025921\ttotal: 23.8s\tremaining: 5.3s\n",
      "818:\tlearn: 1652.7017675\ttotal: 23.9s\tremaining: 5.27s\n",
      "819:\tlearn: 1652.6480054\ttotal: 23.9s\tremaining: 5.24s\n",
      "820:\tlearn: 1652.5767603\ttotal: 23.9s\tremaining: 5.21s\n",
      "821:\tlearn: 1652.3757188\ttotal: 23.9s\tremaining: 5.18s\n",
      "822:\tlearn: 1652.2587807\ttotal: 24s\tremaining: 5.16s\n",
      "823:\tlearn: 1652.0784629\ttotal: 24s\tremaining: 5.13s\n",
      "824:\tlearn: 1651.9417322\ttotal: 24s\tremaining: 5.1s\n",
      "825:\tlearn: 1651.7996393\ttotal: 24.1s\tremaining: 5.07s\n",
      "826:\tlearn: 1651.5518396\ttotal: 24.1s\tremaining: 5.04s\n",
      "827:\tlearn: 1651.3293451\ttotal: 24.1s\tremaining: 5.01s\n",
      "828:\tlearn: 1651.1406178\ttotal: 24.1s\tremaining: 4.98s\n",
      "829:\tlearn: 1651.0886518\ttotal: 24.2s\tremaining: 4.95s\n",
      "830:\tlearn: 1650.9693678\ttotal: 24.2s\tremaining: 4.92s\n",
      "831:\tlearn: 1650.7083634\ttotal: 24.2s\tremaining: 4.89s\n",
      "832:\tlearn: 1650.4689711\ttotal: 24.3s\tremaining: 4.86s\n",
      "833:\tlearn: 1650.2898676\ttotal: 24.3s\tremaining: 4.83s\n",
      "834:\tlearn: 1650.1744473\ttotal: 24.3s\tremaining: 4.8s\n",
      "835:\tlearn: 1650.0397776\ttotal: 24.3s\tremaining: 4.78s\n",
      "836:\tlearn: 1649.9225184\ttotal: 24.4s\tremaining: 4.75s\n",
      "837:\tlearn: 1649.8513921\ttotal: 24.4s\tremaining: 4.72s\n",
      "838:\tlearn: 1649.7754737\ttotal: 24.4s\tremaining: 4.69s\n",
      "839:\tlearn: 1649.6310682\ttotal: 24.5s\tremaining: 4.66s\n",
      "840:\tlearn: 1649.5006096\ttotal: 24.5s\tremaining: 4.63s\n",
      "841:\tlearn: 1649.3546379\ttotal: 24.5s\tremaining: 4.6s\n",
      "842:\tlearn: 1649.2489637\ttotal: 24.6s\tremaining: 4.57s\n",
      "843:\tlearn: 1649.1743167\ttotal: 24.6s\tremaining: 4.54s\n",
      "844:\tlearn: 1649.0271489\ttotal: 24.6s\tremaining: 4.52s\n",
      "845:\tlearn: 1648.9533715\ttotal: 24.6s\tremaining: 4.49s\n",
      "846:\tlearn: 1648.8520581\ttotal: 24.7s\tremaining: 4.46s\n",
      "847:\tlearn: 1648.7835959\ttotal: 24.7s\tremaining: 4.43s\n",
      "848:\tlearn: 1648.6705578\ttotal: 24.7s\tremaining: 4.4s\n",
      "849:\tlearn: 1648.5568898\ttotal: 24.8s\tremaining: 4.37s\n",
      "850:\tlearn: 1648.4171182\ttotal: 24.8s\tremaining: 4.34s\n",
      "851:\tlearn: 1648.2744400\ttotal: 24.8s\tremaining: 4.31s\n",
      "852:\tlearn: 1648.1786282\ttotal: 24.8s\tremaining: 4.28s\n",
      "853:\tlearn: 1648.0913977\ttotal: 24.9s\tremaining: 4.25s\n",
      "854:\tlearn: 1647.8376577\ttotal: 24.9s\tremaining: 4.22s\n",
      "855:\tlearn: 1647.8129033\ttotal: 24.9s\tremaining: 4.19s\n",
      "856:\tlearn: 1647.7403333\ttotal: 25s\tremaining: 4.16s\n",
      "857:\tlearn: 1647.6536967\ttotal: 25s\tremaining: 4.13s\n",
      "858:\tlearn: 1647.4645691\ttotal: 25s\tremaining: 4.11s\n",
      "859:\tlearn: 1647.1248062\ttotal: 25s\tremaining: 4.08s\n",
      "860:\tlearn: 1646.9926983\ttotal: 25.1s\tremaining: 4.05s\n",
      "861:\tlearn: 1646.8768315\ttotal: 25.1s\tremaining: 4.02s\n",
      "862:\tlearn: 1646.7657501\ttotal: 25.1s\tremaining: 3.99s\n",
      "863:\tlearn: 1646.6472210\ttotal: 25.2s\tremaining: 3.96s\n",
      "864:\tlearn: 1646.5503609\ttotal: 25.2s\tremaining: 3.93s\n",
      "865:\tlearn: 1646.4268556\ttotal: 25.2s\tremaining: 3.9s\n",
      "866:\tlearn: 1646.3800948\ttotal: 25.2s\tremaining: 3.87s\n",
      "867:\tlearn: 1646.2958666\ttotal: 25.3s\tremaining: 3.84s\n",
      "868:\tlearn: 1646.1770951\ttotal: 25.3s\tremaining: 3.81s\n",
      "869:\tlearn: 1646.0772712\ttotal: 25.3s\tremaining: 3.78s\n",
      "870:\tlearn: 1645.9614394\ttotal: 25.3s\tremaining: 3.75s\n",
      "871:\tlearn: 1645.9145574\ttotal: 25.4s\tremaining: 3.73s\n",
      "872:\tlearn: 1645.7467503\ttotal: 25.4s\tremaining: 3.7s\n",
      "873:\tlearn: 1645.7029527\ttotal: 25.4s\tremaining: 3.67s\n",
      "874:\tlearn: 1645.6350654\ttotal: 25.5s\tremaining: 3.64s\n",
      "875:\tlearn: 1645.5461468\ttotal: 25.5s\tremaining: 3.61s\n",
      "876:\tlearn: 1645.4221690\ttotal: 25.5s\tremaining: 3.58s\n",
      "877:\tlearn: 1645.3112056\ttotal: 25.5s\tremaining: 3.55s\n",
      "878:\tlearn: 1645.1720099\ttotal: 25.6s\tremaining: 3.52s\n",
      "879:\tlearn: 1644.9768722\ttotal: 25.6s\tremaining: 3.49s\n",
      "880:\tlearn: 1644.9035241\ttotal: 25.6s\tremaining: 3.46s\n",
      "881:\tlearn: 1644.7168954\ttotal: 25.7s\tremaining: 3.43s\n",
      "882:\tlearn: 1644.6658919\ttotal: 25.7s\tremaining: 3.4s\n",
      "883:\tlearn: 1644.5141809\ttotal: 25.7s\tremaining: 3.38s\n",
      "884:\tlearn: 1644.4421866\ttotal: 25.8s\tremaining: 3.35s\n",
      "885:\tlearn: 1644.3535951\ttotal: 25.8s\tremaining: 3.32s\n",
      "886:\tlearn: 1644.1738932\ttotal: 25.8s\tremaining: 3.29s\n",
      "887:\tlearn: 1644.0032082\ttotal: 25.8s\tremaining: 3.26s\n",
      "888:\tlearn: 1643.9220343\ttotal: 25.9s\tremaining: 3.23s\n",
      "889:\tlearn: 1643.7233862\ttotal: 25.9s\tremaining: 3.2s\n",
      "890:\tlearn: 1643.5849140\ttotal: 25.9s\tremaining: 3.17s\n",
      "891:\tlearn: 1643.4944688\ttotal: 26s\tremaining: 3.14s\n",
      "892:\tlearn: 1643.4016479\ttotal: 26s\tremaining: 3.11s\n",
      "893:\tlearn: 1643.3037820\ttotal: 26s\tremaining: 3.08s\n",
      "894:\tlearn: 1643.1747685\ttotal: 26s\tremaining: 3.06s\n",
      "895:\tlearn: 1643.0892863\ttotal: 26.1s\tremaining: 3.03s\n",
      "896:\tlearn: 1642.8389551\ttotal: 26.1s\tremaining: 3s\n",
      "897:\tlearn: 1642.6437440\ttotal: 26.1s\tremaining: 2.97s\n",
      "898:\tlearn: 1642.5808519\ttotal: 26.2s\tremaining: 2.94s\n",
      "899:\tlearn: 1642.4940310\ttotal: 26.2s\tremaining: 2.91s\n",
      "900:\tlearn: 1642.3471813\ttotal: 26.2s\tremaining: 2.88s\n",
      "901:\tlearn: 1642.2271629\ttotal: 26.3s\tremaining: 2.85s\n",
      "902:\tlearn: 1642.1387080\ttotal: 26.3s\tremaining: 2.82s\n",
      "903:\tlearn: 1642.0078092\ttotal: 26.3s\tremaining: 2.79s\n",
      "904:\tlearn: 1641.9225001\ttotal: 26.3s\tremaining: 2.77s\n",
      "905:\tlearn: 1641.8312013\ttotal: 26.4s\tremaining: 2.74s\n",
      "906:\tlearn: 1641.7361952\ttotal: 26.4s\tremaining: 2.71s\n",
      "907:\tlearn: 1641.6311369\ttotal: 26.5s\tremaining: 2.68s\n",
      "908:\tlearn: 1641.5664414\ttotal: 26.5s\tremaining: 2.65s\n",
      "909:\tlearn: 1641.5100752\ttotal: 26.5s\tremaining: 2.62s\n",
      "910:\tlearn: 1641.3933162\ttotal: 26.5s\tremaining: 2.59s\n",
      "911:\tlearn: 1641.2761493\ttotal: 26.6s\tremaining: 2.56s\n",
      "912:\tlearn: 1641.1158090\ttotal: 26.6s\tremaining: 2.53s\n",
      "913:\tlearn: 1641.0094889\ttotal: 26.6s\tremaining: 2.51s\n",
      "914:\tlearn: 1640.9643126\ttotal: 26.7s\tremaining: 2.48s\n",
      "915:\tlearn: 1640.7616467\ttotal: 26.7s\tremaining: 2.45s\n",
      "916:\tlearn: 1640.6431269\ttotal: 26.7s\tremaining: 2.42s\n",
      "917:\tlearn: 1640.4677812\ttotal: 26.8s\tremaining: 2.39s\n",
      "918:\tlearn: 1640.3994504\ttotal: 26.8s\tremaining: 2.36s\n",
      "919:\tlearn: 1640.3131512\ttotal: 26.8s\tremaining: 2.33s\n",
      "920:\tlearn: 1640.1382643\ttotal: 26.8s\tremaining: 2.3s\n",
      "921:\tlearn: 1640.0254308\ttotal: 26.9s\tremaining: 2.27s\n",
      "922:\tlearn: 1639.9339304\ttotal: 26.9s\tremaining: 2.24s\n",
      "923:\tlearn: 1639.8590696\ttotal: 26.9s\tremaining: 2.21s\n",
      "924:\tlearn: 1639.7921716\ttotal: 27s\tremaining: 2.19s\n",
      "925:\tlearn: 1639.6856556\ttotal: 27s\tremaining: 2.16s\n",
      "926:\tlearn: 1639.5801026\ttotal: 27s\tremaining: 2.13s\n",
      "927:\tlearn: 1639.4979233\ttotal: 27s\tremaining: 2.1s\n",
      "928:\tlearn: 1639.2564722\ttotal: 27.1s\tremaining: 2.07s\n",
      "929:\tlearn: 1639.1958209\ttotal: 27.1s\tremaining: 2.04s\n",
      "930:\tlearn: 1639.0882047\ttotal: 27.1s\tremaining: 2.01s\n",
      "931:\tlearn: 1638.9891140\ttotal: 27.2s\tremaining: 1.98s\n",
      "932:\tlearn: 1638.8945513\ttotal: 27.2s\tremaining: 1.95s\n",
      "933:\tlearn: 1638.8346825\ttotal: 27.2s\tremaining: 1.92s\n",
      "934:\tlearn: 1638.6715397\ttotal: 27.2s\tremaining: 1.89s\n",
      "935:\tlearn: 1638.5973436\ttotal: 27.3s\tremaining: 1.86s\n",
      "936:\tlearn: 1638.5182031\ttotal: 27.3s\tremaining: 1.83s\n",
      "937:\tlearn: 1638.4167795\ttotal: 27.3s\tremaining: 1.81s\n",
      "938:\tlearn: 1638.2726922\ttotal: 27.4s\tremaining: 1.78s\n",
      "939:\tlearn: 1638.2082184\ttotal: 27.4s\tremaining: 1.75s\n",
      "940:\tlearn: 1638.1190096\ttotal: 27.4s\tremaining: 1.72s\n",
      "941:\tlearn: 1637.9815290\ttotal: 27.4s\tremaining: 1.69s\n",
      "942:\tlearn: 1637.7874971\ttotal: 27.5s\tremaining: 1.66s\n",
      "943:\tlearn: 1637.6728511\ttotal: 27.5s\tremaining: 1.63s\n",
      "944:\tlearn: 1637.5900000\ttotal: 27.5s\tremaining: 1.6s\n",
      "945:\tlearn: 1637.3968202\ttotal: 27.6s\tremaining: 1.57s\n",
      "946:\tlearn: 1637.3309657\ttotal: 27.6s\tremaining: 1.54s\n",
      "947:\tlearn: 1637.1470105\ttotal: 27.6s\tremaining: 1.51s\n",
      "948:\tlearn: 1636.9755155\ttotal: 27.6s\tremaining: 1.49s\n",
      "949:\tlearn: 1636.8674865\ttotal: 27.7s\tremaining: 1.46s\n",
      "950:\tlearn: 1636.8043718\ttotal: 27.7s\tremaining: 1.43s\n",
      "951:\tlearn: 1636.7069882\ttotal: 27.7s\tremaining: 1.4s\n",
      "952:\tlearn: 1636.6110330\ttotal: 27.8s\tremaining: 1.37s\n",
      "953:\tlearn: 1636.4771642\ttotal: 27.8s\tremaining: 1.34s\n",
      "954:\tlearn: 1636.4101498\ttotal: 27.8s\tremaining: 1.31s\n",
      "955:\tlearn: 1636.2242997\ttotal: 27.8s\tremaining: 1.28s\n",
      "956:\tlearn: 1636.0657794\ttotal: 27.9s\tremaining: 1.25s\n",
      "957:\tlearn: 1635.9543358\ttotal: 27.9s\tremaining: 1.22s\n",
      "958:\tlearn: 1635.8534374\ttotal: 27.9s\tremaining: 1.19s\n",
      "959:\tlearn: 1635.7959567\ttotal: 28s\tremaining: 1.17s\n",
      "960:\tlearn: 1635.6424488\ttotal: 28s\tremaining: 1.14s\n",
      "961:\tlearn: 1635.5339222\ttotal: 28s\tremaining: 1.11s\n",
      "962:\tlearn: 1635.4003301\ttotal: 28.1s\tremaining: 1.08s\n",
      "963:\tlearn: 1635.3609981\ttotal: 28.1s\tremaining: 1.05s\n",
      "964:\tlearn: 1635.2558747\ttotal: 28.1s\tremaining: 1.02s\n",
      "965:\tlearn: 1635.1166317\ttotal: 28.1s\tremaining: 991ms\n",
      "966:\tlearn: 1635.0391128\ttotal: 28.2s\tremaining: 962ms\n",
      "967:\tlearn: 1634.8796060\ttotal: 28.2s\tremaining: 932ms\n",
      "968:\tlearn: 1634.7164308\ttotal: 28.2s\tremaining: 903ms\n",
      "969:\tlearn: 1634.6420026\ttotal: 28.3s\tremaining: 874ms\n",
      "970:\tlearn: 1634.5466780\ttotal: 28.3s\tremaining: 845ms\n",
      "971:\tlearn: 1634.4351428\ttotal: 28.3s\tremaining: 816ms\n",
      "972:\tlearn: 1634.3092525\ttotal: 28.4s\tremaining: 787ms\n",
      "973:\tlearn: 1634.1755026\ttotal: 28.4s\tremaining: 758ms\n",
      "974:\tlearn: 1634.0352110\ttotal: 28.4s\tremaining: 729ms\n",
      "975:\tlearn: 1633.9665497\ttotal: 28.4s\tremaining: 700ms\n",
      "976:\tlearn: 1633.8193831\ttotal: 28.5s\tremaining: 670ms\n",
      "977:\tlearn: 1633.7125721\ttotal: 28.5s\tremaining: 641ms\n",
      "978:\tlearn: 1633.6248569\ttotal: 28.5s\tremaining: 612ms\n",
      "979:\tlearn: 1633.5991355\ttotal: 28.6s\tremaining: 583ms\n",
      "980:\tlearn: 1633.5084158\ttotal: 28.6s\tremaining: 554ms\n",
      "981:\tlearn: 1633.4127890\ttotal: 28.6s\tremaining: 525ms\n",
      "982:\tlearn: 1633.2675143\ttotal: 28.7s\tremaining: 496ms\n",
      "983:\tlearn: 1633.1908785\ttotal: 28.7s\tremaining: 466ms\n",
      "984:\tlearn: 1633.0911046\ttotal: 28.7s\tremaining: 437ms\n",
      "985:\tlearn: 1632.9943457\ttotal: 28.7s\tremaining: 408ms\n",
      "986:\tlearn: 1632.8874552\ttotal: 28.8s\tremaining: 379ms\n",
      "987:\tlearn: 1632.7933168\ttotal: 28.8s\tremaining: 350ms\n",
      "988:\tlearn: 1632.7031159\ttotal: 28.9s\tremaining: 321ms\n",
      "989:\tlearn: 1632.6797276\ttotal: 28.9s\tremaining: 292ms\n",
      "990:\tlearn: 1632.6054841\ttotal: 28.9s\tremaining: 263ms\n",
      "991:\tlearn: 1632.4339542\ttotal: 28.9s\tremaining: 233ms\n",
      "992:\tlearn: 1632.2224587\ttotal: 29s\tremaining: 204ms\n",
      "993:\tlearn: 1632.1985260\ttotal: 29s\tremaining: 175ms\n",
      "994:\tlearn: 1632.0828759\ttotal: 29s\tremaining: 146ms\n",
      "995:\tlearn: 1631.9189624\ttotal: 29.1s\tremaining: 117ms\n",
      "996:\tlearn: 1631.8043582\ttotal: 29.1s\tremaining: 87.5ms\n",
      "997:\tlearn: 1631.6735051\ttotal: 29.1s\tremaining: 58.4ms\n",
      "998:\tlearn: 1631.5437615\ttotal: 29.2s\tremaining: 29.2ms\n",
      "999:\tlearn: 1631.4348315\ttotal: 29.2s\tremaining: 0us\n",
      "Learning rate set to 0.093467\n",
      "0:\tlearn: 4275.2355469\ttotal: 28.6ms\tremaining: 28.6s\n",
      "1:\tlearn: 4025.9042026\ttotal: 67.4ms\tremaining: 33.6s\n",
      "2:\tlearn: 3803.8634566\ttotal: 97.3ms\tremaining: 32.3s\n",
      "3:\tlearn: 3610.7820397\ttotal: 133ms\tremaining: 33.2s\n",
      "4:\tlearn: 3435.3061241\ttotal: 176ms\tremaining: 35s\n",
      "5:\tlearn: 3285.8768362\ttotal: 209ms\tremaining: 34.6s\n",
      "6:\tlearn: 3150.0529085\ttotal: 247ms\tremaining: 35s\n",
      "7:\tlearn: 3031.0023248\ttotal: 285ms\tremaining: 35.4s\n",
      "8:\tlearn: 2918.0691381\ttotal: 322ms\tremaining: 35.5s\n",
      "9:\tlearn: 2819.2128047\ttotal: 361ms\tremaining: 35.7s\n",
      "10:\tlearn: 2729.1363750\ttotal: 402ms\tremaining: 36.1s\n",
      "11:\tlearn: 2653.4402673\ttotal: 438ms\tremaining: 36s\n",
      "12:\tlearn: 2584.1778258\ttotal: 467ms\tremaining: 35.4s\n",
      "13:\tlearn: 2524.5988310\ttotal: 493ms\tremaining: 34.8s\n",
      "14:\tlearn: 2471.4374967\ttotal: 524ms\tremaining: 34.4s\n",
      "15:\tlearn: 2423.3158891\ttotal: 554ms\tremaining: 34.1s\n",
      "16:\tlearn: 2381.1458552\ttotal: 580ms\tremaining: 33.6s\n",
      "17:\tlearn: 2344.8481438\ttotal: 610ms\tremaining: 33.3s\n",
      "18:\tlearn: 2308.7842239\ttotal: 647ms\tremaining: 33.4s\n",
      "19:\tlearn: 2277.3891642\ttotal: 674ms\tremaining: 33s\n",
      "20:\tlearn: 2248.9745875\ttotal: 701ms\tremaining: 32.7s\n",
      "21:\tlearn: 2225.5762773\ttotal: 740ms\tremaining: 32.9s\n",
      "22:\tlearn: 2203.6921921\ttotal: 768ms\tremaining: 32.6s\n",
      "23:\tlearn: 2183.9628465\ttotal: 797ms\tremaining: 32.4s\n",
      "24:\tlearn: 2164.1732850\ttotal: 832ms\tremaining: 32.4s\n",
      "25:\tlearn: 2147.5349410\ttotal: 860ms\tremaining: 32.2s\n",
      "26:\tlearn: 2133.0298756\ttotal: 889ms\tremaining: 32s\n",
      "27:\tlearn: 2119.7841882\ttotal: 929ms\tremaining: 32.2s\n",
      "28:\tlearn: 2108.6253278\ttotal: 959ms\tremaining: 32.1s\n",
      "29:\tlearn: 2097.9497470\ttotal: 996ms\tremaining: 32.2s\n",
      "30:\tlearn: 2086.7779347\ttotal: 1.03s\tremaining: 32.2s\n",
      "31:\tlearn: 2076.7509079\ttotal: 1.06s\tremaining: 32s\n",
      "32:\tlearn: 2069.1232144\ttotal: 1.08s\tremaining: 31.8s\n",
      "33:\tlearn: 2061.2506227\ttotal: 1.12s\tremaining: 31.8s\n",
      "34:\tlearn: 2054.2583917\ttotal: 1.14s\tremaining: 31.5s\n",
      "35:\tlearn: 2046.7331159\ttotal: 1.17s\tremaining: 31.3s\n",
      "36:\tlearn: 2040.6416588\ttotal: 1.2s\tremaining: 31.3s\n",
      "37:\tlearn: 2033.0436625\ttotal: 1.24s\tremaining: 31.5s\n",
      "38:\tlearn: 2026.5709368\ttotal: 1.27s\tremaining: 31.3s\n",
      "39:\tlearn: 2021.5127981\ttotal: 1.31s\tremaining: 31.3s\n",
      "40:\tlearn: 2016.0610174\ttotal: 1.33s\tremaining: 31.2s\n",
      "41:\tlearn: 2011.2965279\ttotal: 1.36s\tremaining: 30.9s\n",
      "42:\tlearn: 2006.7963773\ttotal: 1.39s\tremaining: 30.9s\n",
      "43:\tlearn: 2002.5893536\ttotal: 1.42s\tremaining: 30.8s\n",
      "44:\tlearn: 1996.7236360\ttotal: 1.44s\tremaining: 30.6s\n",
      "45:\tlearn: 1991.4611801\ttotal: 1.47s\tremaining: 30.4s\n",
      "46:\tlearn: 1986.9498050\ttotal: 1.5s\tremaining: 30.4s\n",
      "47:\tlearn: 1983.4790205\ttotal: 1.52s\tremaining: 30.2s\n",
      "48:\tlearn: 1978.7046377\ttotal: 1.55s\tremaining: 30.1s\n",
      "49:\tlearn: 1975.9126878\ttotal: 1.58s\tremaining: 30.1s\n",
      "50:\tlearn: 1972.9554326\ttotal: 1.61s\tremaining: 30s\n",
      "51:\tlearn: 1969.9208506\ttotal: 1.64s\tremaining: 29.9s\n",
      "52:\tlearn: 1966.9283324\ttotal: 1.66s\tremaining: 29.7s\n",
      "53:\tlearn: 1964.6916717\ttotal: 1.69s\tremaining: 29.7s\n",
      "54:\tlearn: 1962.4120299\ttotal: 1.72s\tremaining: 29.5s\n",
      "55:\tlearn: 1958.7038595\ttotal: 1.74s\tremaining: 29.4s\n",
      "56:\tlearn: 1956.6624735\ttotal: 1.77s\tremaining: 29.3s\n",
      "57:\tlearn: 1954.4425003\ttotal: 1.8s\tremaining: 29.3s\n",
      "58:\tlearn: 1952.0327671\ttotal: 1.83s\tremaining: 29.1s\n",
      "59:\tlearn: 1948.1225772\ttotal: 1.85s\tremaining: 29s\n",
      "60:\tlearn: 1944.5625270\ttotal: 1.89s\tremaining: 29.1s\n",
      "61:\tlearn: 1942.7260018\ttotal: 1.91s\tremaining: 29s\n",
      "62:\tlearn: 1940.2090193\ttotal: 1.94s\tremaining: 28.8s\n",
      "63:\tlearn: 1938.5597173\ttotal: 1.97s\tremaining: 28.8s\n",
      "64:\tlearn: 1936.1187662\ttotal: 1.99s\tremaining: 28.7s\n",
      "65:\tlearn: 1933.6530626\ttotal: 2.02s\tremaining: 28.6s\n",
      "66:\tlearn: 1930.1922692\ttotal: 2.05s\tremaining: 28.5s\n",
      "67:\tlearn: 1927.4618600\ttotal: 2.08s\tremaining: 28.5s\n",
      "68:\tlearn: 1925.8785241\ttotal: 2.1s\tremaining: 28.4s\n",
      "69:\tlearn: 1924.3308700\ttotal: 2.13s\tremaining: 28.3s\n",
      "70:\tlearn: 1922.9165511\ttotal: 2.16s\tremaining: 28.2s\n",
      "71:\tlearn: 1920.0692379\ttotal: 2.19s\tremaining: 28.2s\n",
      "72:\tlearn: 1918.4006003\ttotal: 2.21s\tremaining: 28.1s\n",
      "73:\tlearn: 1917.2542984\ttotal: 2.23s\tremaining: 28s\n",
      "74:\tlearn: 1914.9609135\ttotal: 2.27s\tremaining: 28s\n",
      "75:\tlearn: 1913.3665381\ttotal: 2.29s\tremaining: 27.9s\n",
      "76:\tlearn: 1910.4657974\ttotal: 2.32s\tremaining: 27.8s\n",
      "77:\tlearn: 1908.3855877\ttotal: 2.35s\tremaining: 27.8s\n",
      "78:\tlearn: 1906.9132255\ttotal: 2.38s\tremaining: 27.8s\n",
      "79:\tlearn: 1906.0333023\ttotal: 2.4s\tremaining: 27.7s\n",
      "80:\tlearn: 1903.7745586\ttotal: 2.43s\tremaining: 27.6s\n",
      "81:\tlearn: 1901.5524580\ttotal: 2.47s\tremaining: 27.6s\n",
      "82:\tlearn: 1899.7267866\ttotal: 2.49s\tremaining: 27.5s\n",
      "83:\tlearn: 1897.7407369\ttotal: 2.52s\tremaining: 27.5s\n",
      "84:\tlearn: 1896.6584460\ttotal: 2.55s\tremaining: 27.5s\n",
      "85:\tlearn: 1895.8617452\ttotal: 2.58s\tremaining: 27.4s\n",
      "86:\tlearn: 1893.9479856\ttotal: 2.6s\tremaining: 27.3s\n",
      "87:\tlearn: 1892.0844051\ttotal: 2.63s\tremaining: 27.2s\n",
      "88:\tlearn: 1890.4218763\ttotal: 2.66s\tremaining: 27.3s\n",
      "89:\tlearn: 1889.0388874\ttotal: 2.69s\tremaining: 27.2s\n",
      "90:\tlearn: 1888.1222622\ttotal: 2.71s\tremaining: 27.1s\n",
      "91:\tlearn: 1886.4377236\ttotal: 2.75s\tremaining: 27.1s\n",
      "92:\tlearn: 1885.0900132\ttotal: 2.78s\tremaining: 27.1s\n",
      "93:\tlearn: 1883.8490530\ttotal: 2.81s\tremaining: 27.1s\n",
      "94:\tlearn: 1882.4755718\ttotal: 2.84s\tremaining: 27s\n",
      "95:\tlearn: 1880.3721267\ttotal: 2.87s\tremaining: 27s\n",
      "96:\tlearn: 1879.0885065\ttotal: 2.89s\tremaining: 26.9s\n",
      "97:\tlearn: 1878.3138725\ttotal: 2.92s\tremaining: 26.8s\n",
      "98:\tlearn: 1876.7799522\ttotal: 2.95s\tremaining: 26.9s\n",
      "99:\tlearn: 1875.9146245\ttotal: 2.98s\tremaining: 26.8s\n",
      "100:\tlearn: 1874.6507743\ttotal: 3s\tremaining: 26.7s\n",
      "101:\tlearn: 1873.4305932\ttotal: 3.03s\tremaining: 26.7s\n",
      "102:\tlearn: 1872.7122821\ttotal: 3.06s\tremaining: 26.6s\n",
      "103:\tlearn: 1870.9863111\ttotal: 3.08s\tremaining: 26.6s\n",
      "104:\tlearn: 1869.9058915\ttotal: 3.11s\tremaining: 26.5s\n",
      "105:\tlearn: 1868.5167354\ttotal: 3.15s\tremaining: 26.5s\n",
      "106:\tlearn: 1867.8366988\ttotal: 3.17s\tremaining: 26.5s\n",
      "107:\tlearn: 1866.2896978\ttotal: 3.2s\tremaining: 26.4s\n",
      "108:\tlearn: 1865.1700683\ttotal: 3.23s\tremaining: 26.4s\n",
      "109:\tlearn: 1863.4106343\ttotal: 3.25s\tremaining: 26.3s\n",
      "110:\tlearn: 1862.2078847\ttotal: 3.28s\tremaining: 26.3s\n",
      "111:\tlearn: 1860.9965168\ttotal: 3.3s\tremaining: 26.2s\n",
      "112:\tlearn: 1859.9207966\ttotal: 3.34s\tremaining: 26.2s\n",
      "113:\tlearn: 1859.2084101\ttotal: 3.36s\tremaining: 26.1s\n",
      "114:\tlearn: 1858.6863591\ttotal: 3.38s\tremaining: 26.1s\n",
      "115:\tlearn: 1857.8922929\ttotal: 3.41s\tremaining: 26s\n",
      "116:\tlearn: 1856.6329072\ttotal: 3.44s\tremaining: 26s\n",
      "117:\tlearn: 1855.4936424\ttotal: 3.48s\tremaining: 26s\n",
      "118:\tlearn: 1854.2760233\ttotal: 3.5s\tremaining: 26s\n",
      "119:\tlearn: 1853.7396066\ttotal: 3.53s\tremaining: 25.9s\n",
      "120:\tlearn: 1852.2226495\ttotal: 3.56s\tremaining: 25.9s\n",
      "121:\tlearn: 1851.2346821\ttotal: 3.58s\tremaining: 25.8s\n",
      "122:\tlearn: 1850.3090659\ttotal: 3.62s\tremaining: 25.8s\n",
      "123:\tlearn: 1849.4995269\ttotal: 3.64s\tremaining: 25.7s\n",
      "124:\tlearn: 1848.3766238\ttotal: 3.67s\tremaining: 25.7s\n",
      "125:\tlearn: 1847.3531351\ttotal: 3.69s\tremaining: 25.6s\n",
      "126:\tlearn: 1846.5934585\ttotal: 3.73s\tremaining: 25.6s\n",
      "127:\tlearn: 1845.4459636\ttotal: 3.76s\tremaining: 25.6s\n",
      "128:\tlearn: 1844.8998429\ttotal: 3.78s\tremaining: 25.5s\n",
      "129:\tlearn: 1844.3610185\ttotal: 3.81s\tremaining: 25.5s\n",
      "130:\tlearn: 1843.6393204\ttotal: 3.84s\tremaining: 25.5s\n",
      "131:\tlearn: 1842.6493689\ttotal: 3.86s\tremaining: 25.4s\n",
      "132:\tlearn: 1842.0389953\ttotal: 3.89s\tremaining: 25.4s\n",
      "133:\tlearn: 1841.3964055\ttotal: 3.92s\tremaining: 25.4s\n",
      "134:\tlearn: 1840.3015273\ttotal: 3.95s\tremaining: 25.3s\n",
      "135:\tlearn: 1839.8102330\ttotal: 3.97s\tremaining: 25.2s\n",
      "136:\tlearn: 1838.9469464\ttotal: 4.01s\tremaining: 25.2s\n",
      "137:\tlearn: 1838.3926390\ttotal: 4.03s\tremaining: 25.2s\n",
      "138:\tlearn: 1837.2966070\ttotal: 4.06s\tremaining: 25.1s\n",
      "139:\tlearn: 1836.1794755\ttotal: 4.09s\tremaining: 25.1s\n",
      "140:\tlearn: 1835.2427953\ttotal: 4.12s\tremaining: 25.1s\n",
      "141:\tlearn: 1834.2330111\ttotal: 4.14s\tremaining: 25s\n",
      "142:\tlearn: 1833.3917824\ttotal: 4.17s\tremaining: 25s\n",
      "143:\tlearn: 1832.6245671\ttotal: 4.21s\tremaining: 25s\n",
      "144:\tlearn: 1832.0635490\ttotal: 4.23s\tremaining: 25s\n",
      "145:\tlearn: 1831.1364408\ttotal: 4.26s\tremaining: 24.9s\n",
      "146:\tlearn: 1830.4837790\ttotal: 4.29s\tremaining: 24.9s\n",
      "147:\tlearn: 1829.5169175\ttotal: 4.32s\tremaining: 24.9s\n",
      "148:\tlearn: 1828.7698322\ttotal: 4.34s\tremaining: 24.8s\n",
      "149:\tlearn: 1828.2531950\ttotal: 4.37s\tremaining: 24.7s\n",
      "150:\tlearn: 1827.2319691\ttotal: 4.4s\tremaining: 24.7s\n",
      "151:\tlearn: 1826.6235117\ttotal: 4.42s\tremaining: 24.7s\n",
      "152:\tlearn: 1825.7540078\ttotal: 4.45s\tremaining: 24.6s\n",
      "153:\tlearn: 1825.1724332\ttotal: 4.48s\tremaining: 24.6s\n",
      "154:\tlearn: 1824.7042380\ttotal: 4.51s\tremaining: 24.6s\n",
      "155:\tlearn: 1824.1956086\ttotal: 4.53s\tremaining: 24.5s\n",
      "156:\tlearn: 1823.6827111\ttotal: 4.55s\tremaining: 24.5s\n",
      "157:\tlearn: 1822.9004302\ttotal: 4.59s\tremaining: 24.5s\n",
      "158:\tlearn: 1822.4200255\ttotal: 4.62s\tremaining: 24.4s\n",
      "159:\tlearn: 1821.5698627\ttotal: 4.64s\tremaining: 24.4s\n",
      "160:\tlearn: 1821.1689057\ttotal: 4.67s\tremaining: 24.3s\n",
      "161:\tlearn: 1820.1894348\ttotal: 4.7s\tremaining: 24.3s\n",
      "162:\tlearn: 1819.3021322\ttotal: 4.72s\tremaining: 24.3s\n",
      "163:\tlearn: 1818.3812561\ttotal: 4.75s\tremaining: 24.2s\n",
      "164:\tlearn: 1817.6083088\ttotal: 4.79s\tremaining: 24.2s\n",
      "165:\tlearn: 1816.8873970\ttotal: 4.82s\tremaining: 24.2s\n",
      "166:\tlearn: 1816.4461884\ttotal: 4.84s\tremaining: 24.2s\n",
      "167:\tlearn: 1815.8642491\ttotal: 4.88s\tremaining: 24.1s\n",
      "168:\tlearn: 1815.3104113\ttotal: 4.91s\tremaining: 24.1s\n",
      "169:\tlearn: 1814.4733764\ttotal: 4.93s\tremaining: 24.1s\n",
      "170:\tlearn: 1814.0508715\ttotal: 4.95s\tremaining: 24s\n",
      "171:\tlearn: 1813.6177374\ttotal: 4.99s\tremaining: 24s\n",
      "172:\tlearn: 1813.2137011\ttotal: 5.01s\tremaining: 24s\n",
      "173:\tlearn: 1812.4944938\ttotal: 5.04s\tremaining: 23.9s\n",
      "174:\tlearn: 1811.7996304\ttotal: 5.07s\tremaining: 23.9s\n",
      "175:\tlearn: 1811.0102690\ttotal: 5.1s\tremaining: 23.9s\n",
      "176:\tlearn: 1810.4881810\ttotal: 5.12s\tremaining: 23.8s\n",
      "177:\tlearn: 1810.0756338\ttotal: 5.15s\tremaining: 23.8s\n",
      "178:\tlearn: 1809.5094234\ttotal: 5.18s\tremaining: 23.8s\n",
      "179:\tlearn: 1809.0209057\ttotal: 5.21s\tremaining: 23.7s\n",
      "180:\tlearn: 1808.3244739\ttotal: 5.24s\tremaining: 23.7s\n",
      "181:\tlearn: 1807.7461368\ttotal: 5.27s\tremaining: 23.7s\n",
      "182:\tlearn: 1806.9991916\ttotal: 5.3s\tremaining: 23.6s\n",
      "183:\tlearn: 1806.3294584\ttotal: 5.32s\tremaining: 23.6s\n",
      "184:\tlearn: 1805.7780162\ttotal: 5.35s\tremaining: 23.6s\n",
      "185:\tlearn: 1805.2922564\ttotal: 5.38s\tremaining: 23.6s\n",
      "186:\tlearn: 1805.0092380\ttotal: 5.41s\tremaining: 23.5s\n",
      "187:\tlearn: 1804.3564023\ttotal: 5.43s\tremaining: 23.5s\n",
      "188:\tlearn: 1803.8581654\ttotal: 5.46s\tremaining: 23.5s\n",
      "189:\tlearn: 1803.5123565\ttotal: 5.49s\tremaining: 23.4s\n",
      "190:\tlearn: 1802.8130040\ttotal: 5.52s\tremaining: 23.4s\n",
      "191:\tlearn: 1802.2732641\ttotal: 5.55s\tremaining: 23.4s\n",
      "192:\tlearn: 1801.5374844\ttotal: 5.58s\tremaining: 23.3s\n",
      "193:\tlearn: 1800.9621504\ttotal: 5.61s\tremaining: 23.3s\n",
      "194:\tlearn: 1800.5380463\ttotal: 5.63s\tremaining: 23.2s\n",
      "195:\tlearn: 1800.1985516\ttotal: 5.67s\tremaining: 23.2s\n",
      "196:\tlearn: 1799.4326533\ttotal: 5.69s\tremaining: 23.2s\n",
      "197:\tlearn: 1798.8454802\ttotal: 5.72s\tremaining: 23.2s\n",
      "198:\tlearn: 1798.3609811\ttotal: 5.75s\tremaining: 23.1s\n",
      "199:\tlearn: 1797.6274230\ttotal: 5.78s\tremaining: 23.1s\n",
      "200:\tlearn: 1797.3824334\ttotal: 5.8s\tremaining: 23.1s\n",
      "201:\tlearn: 1796.9489100\ttotal: 5.83s\tremaining: 23s\n",
      "202:\tlearn: 1796.3121909\ttotal: 5.86s\tremaining: 23s\n",
      "203:\tlearn: 1795.7837712\ttotal: 5.89s\tremaining: 23s\n",
      "204:\tlearn: 1795.3339366\ttotal: 5.92s\tremaining: 22.9s\n",
      "205:\tlearn: 1794.7342778\ttotal: 5.95s\tremaining: 22.9s\n",
      "206:\tlearn: 1794.3554465\ttotal: 5.98s\tremaining: 22.9s\n",
      "207:\tlearn: 1793.7469293\ttotal: 6.01s\tremaining: 22.9s\n",
      "208:\tlearn: 1792.9032786\ttotal: 6.04s\tremaining: 22.9s\n",
      "209:\tlearn: 1792.5501973\ttotal: 6.07s\tremaining: 22.8s\n",
      "210:\tlearn: 1791.8988305\ttotal: 6.09s\tremaining: 22.8s\n",
      "211:\tlearn: 1791.3431591\ttotal: 6.13s\tremaining: 22.8s\n",
      "212:\tlearn: 1790.7115494\ttotal: 6.16s\tremaining: 22.8s\n",
      "213:\tlearn: 1790.3550288\ttotal: 6.18s\tremaining: 22.7s\n",
      "214:\tlearn: 1789.7201395\ttotal: 6.21s\tremaining: 22.7s\n",
      "215:\tlearn: 1789.1616176\ttotal: 6.25s\tremaining: 22.7s\n",
      "216:\tlearn: 1788.6257476\ttotal: 6.27s\tremaining: 22.6s\n",
      "217:\tlearn: 1787.9189065\ttotal: 6.3s\tremaining: 22.6s\n",
      "218:\tlearn: 1787.4181256\ttotal: 6.33s\tremaining: 22.6s\n",
      "219:\tlearn: 1786.8979180\ttotal: 6.36s\tremaining: 22.5s\n",
      "220:\tlearn: 1786.4763998\ttotal: 6.38s\tremaining: 22.5s\n",
      "221:\tlearn: 1786.0667049\ttotal: 6.42s\tremaining: 22.5s\n",
      "222:\tlearn: 1785.6237481\ttotal: 6.45s\tremaining: 22.5s\n",
      "223:\tlearn: 1785.2257705\ttotal: 6.47s\tremaining: 22.4s\n",
      "224:\tlearn: 1784.7061464\ttotal: 6.5s\tremaining: 22.4s\n",
      "225:\tlearn: 1784.5005711\ttotal: 6.53s\tremaining: 22.4s\n",
      "226:\tlearn: 1783.8337504\ttotal: 6.56s\tremaining: 22.3s\n",
      "227:\tlearn: 1783.3570839\ttotal: 6.58s\tremaining: 22.3s\n",
      "228:\tlearn: 1783.0367646\ttotal: 6.61s\tremaining: 22.3s\n",
      "229:\tlearn: 1782.7279734\ttotal: 6.64s\tremaining: 22.2s\n",
      "230:\tlearn: 1782.4528362\ttotal: 6.66s\tremaining: 22.2s\n",
      "231:\tlearn: 1782.0622218\ttotal: 6.69s\tremaining: 22.2s\n",
      "232:\tlearn: 1781.8016494\ttotal: 6.73s\tremaining: 22.2s\n",
      "233:\tlearn: 1781.2871844\ttotal: 6.76s\tremaining: 22.1s\n",
      "234:\tlearn: 1780.9025503\ttotal: 6.78s\tremaining: 22.1s\n",
      "235:\tlearn: 1780.2730839\ttotal: 6.82s\tremaining: 22.1s\n",
      "236:\tlearn: 1779.8837391\ttotal: 6.85s\tremaining: 22s\n",
      "237:\tlearn: 1779.5320131\ttotal: 6.87s\tremaining: 22s\n",
      "238:\tlearn: 1778.7360598\ttotal: 6.91s\tremaining: 22s\n",
      "239:\tlearn: 1778.3107353\ttotal: 6.93s\tremaining: 22s\n",
      "240:\tlearn: 1777.8407073\ttotal: 6.96s\tremaining: 21.9s\n",
      "241:\tlearn: 1777.4187280\ttotal: 6.99s\tremaining: 21.9s\n",
      "242:\tlearn: 1777.2415233\ttotal: 7.01s\tremaining: 21.9s\n",
      "243:\tlearn: 1776.7103374\ttotal: 7.04s\tremaining: 21.8s\n",
      "244:\tlearn: 1776.3044193\ttotal: 7.07s\tremaining: 21.8s\n",
      "245:\tlearn: 1776.0646215\ttotal: 7.1s\tremaining: 21.8s\n",
      "246:\tlearn: 1775.7753970\ttotal: 7.13s\tremaining: 21.7s\n",
      "247:\tlearn: 1775.3383548\ttotal: 7.15s\tremaining: 21.7s\n",
      "248:\tlearn: 1775.0672711\ttotal: 7.18s\tremaining: 21.7s\n",
      "249:\tlearn: 1774.6143437\ttotal: 7.21s\tremaining: 21.6s\n",
      "250:\tlearn: 1774.1800994\ttotal: 7.24s\tremaining: 21.6s\n",
      "251:\tlearn: 1773.9528720\ttotal: 7.26s\tremaining: 21.6s\n",
      "252:\tlearn: 1773.5084504\ttotal: 7.3s\tremaining: 21.5s\n",
      "253:\tlearn: 1773.3388978\ttotal: 7.32s\tremaining: 21.5s\n",
      "254:\tlearn: 1772.7296413\ttotal: 7.35s\tremaining: 21.5s\n",
      "255:\tlearn: 1772.3648519\ttotal: 7.38s\tremaining: 21.5s\n",
      "256:\tlearn: 1771.9886721\ttotal: 7.41s\tremaining: 21.4s\n",
      "257:\tlearn: 1771.7097131\ttotal: 7.44s\tremaining: 21.4s\n",
      "258:\tlearn: 1771.4977019\ttotal: 7.46s\tremaining: 21.3s\n",
      "259:\tlearn: 1771.0345109\ttotal: 7.49s\tremaining: 21.3s\n",
      "260:\tlearn: 1770.6753839\ttotal: 7.52s\tremaining: 21.3s\n",
      "261:\tlearn: 1770.3047685\ttotal: 7.55s\tremaining: 21.3s\n",
      "262:\tlearn: 1769.9369181\ttotal: 7.58s\tremaining: 21.3s\n",
      "263:\tlearn: 1769.6042869\ttotal: 7.61s\tremaining: 21.2s\n",
      "264:\tlearn: 1769.3256619\ttotal: 7.63s\tremaining: 21.2s\n",
      "265:\tlearn: 1768.9840020\ttotal: 7.66s\tremaining: 21.1s\n",
      "266:\tlearn: 1768.3395188\ttotal: 7.69s\tremaining: 21.1s\n",
      "267:\tlearn: 1768.1601042\ttotal: 7.72s\tremaining: 21.1s\n",
      "268:\tlearn: 1767.9112095\ttotal: 7.75s\tremaining: 21s\n",
      "269:\tlearn: 1767.7154445\ttotal: 7.78s\tremaining: 21s\n",
      "270:\tlearn: 1767.4481872\ttotal: 7.8s\tremaining: 21s\n",
      "271:\tlearn: 1767.3098904\ttotal: 7.83s\tremaining: 21s\n",
      "272:\tlearn: 1766.8607288\ttotal: 7.86s\tremaining: 20.9s\n",
      "273:\tlearn: 1766.0882817\ttotal: 7.89s\tremaining: 20.9s\n",
      "274:\tlearn: 1765.8752130\ttotal: 7.92s\tremaining: 20.9s\n",
      "275:\tlearn: 1765.6948227\ttotal: 7.94s\tremaining: 20.8s\n",
      "276:\tlearn: 1765.1899312\ttotal: 7.97s\tremaining: 20.8s\n",
      "277:\tlearn: 1764.7933506\ttotal: 8s\tremaining: 20.8s\n",
      "278:\tlearn: 1764.6314409\ttotal: 8.02s\tremaining: 20.7s\n",
      "279:\tlearn: 1764.2633840\ttotal: 8.06s\tremaining: 20.7s\n",
      "280:\tlearn: 1763.8723450\ttotal: 8.09s\tremaining: 20.7s\n",
      "281:\tlearn: 1763.5559212\ttotal: 8.11s\tremaining: 20.7s\n",
      "282:\tlearn: 1763.3899665\ttotal: 8.14s\tremaining: 20.6s\n",
      "283:\tlearn: 1762.9338922\ttotal: 8.17s\tremaining: 20.6s\n",
      "284:\tlearn: 1762.5043302\ttotal: 8.2s\tremaining: 20.6s\n",
      "285:\tlearn: 1762.0620516\ttotal: 8.22s\tremaining: 20.5s\n",
      "286:\tlearn: 1761.7059080\ttotal: 8.26s\tremaining: 20.5s\n",
      "287:\tlearn: 1761.3185166\ttotal: 8.29s\tremaining: 20.5s\n",
      "288:\tlearn: 1760.9604407\ttotal: 8.32s\tremaining: 20.5s\n",
      "289:\tlearn: 1760.5499314\ttotal: 8.35s\tremaining: 20.4s\n",
      "290:\tlearn: 1760.2409451\ttotal: 8.38s\tremaining: 20.4s\n",
      "291:\tlearn: 1759.8866814\ttotal: 8.4s\tremaining: 20.4s\n",
      "292:\tlearn: 1759.3913073\ttotal: 8.43s\tremaining: 20.4s\n",
      "293:\tlearn: 1759.0275942\ttotal: 8.46s\tremaining: 20.3s\n",
      "294:\tlearn: 1758.7501972\ttotal: 8.49s\tremaining: 20.3s\n",
      "295:\tlearn: 1758.3798634\ttotal: 8.52s\tremaining: 20.3s\n",
      "296:\tlearn: 1758.2065168\ttotal: 8.55s\tremaining: 20.2s\n",
      "297:\tlearn: 1757.6037220\ttotal: 8.59s\tremaining: 20.2s\n",
      "298:\tlearn: 1757.1806139\ttotal: 8.63s\tremaining: 20.2s\n",
      "299:\tlearn: 1756.7947900\ttotal: 8.67s\tremaining: 20.2s\n",
      "300:\tlearn: 1756.6147921\ttotal: 8.7s\tremaining: 20.2s\n",
      "301:\tlearn: 1756.1302881\ttotal: 8.73s\tremaining: 20.2s\n",
      "302:\tlearn: 1755.5556848\ttotal: 8.76s\tremaining: 20.2s\n",
      "303:\tlearn: 1755.2214368\ttotal: 8.79s\tremaining: 20.1s\n",
      "304:\tlearn: 1754.9375655\ttotal: 8.82s\tremaining: 20.1s\n",
      "305:\tlearn: 1754.6108611\ttotal: 8.85s\tremaining: 20.1s\n",
      "306:\tlearn: 1754.2558761\ttotal: 8.88s\tremaining: 20s\n",
      "307:\tlearn: 1753.9377721\ttotal: 8.9s\tremaining: 20s\n",
      "308:\tlearn: 1753.6246321\ttotal: 8.94s\tremaining: 20s\n",
      "309:\tlearn: 1753.2224482\ttotal: 8.97s\tremaining: 20s\n",
      "310:\tlearn: 1752.8451765\ttotal: 8.99s\tremaining: 19.9s\n",
      "311:\tlearn: 1752.4246856\ttotal: 9.02s\tremaining: 19.9s\n",
      "312:\tlearn: 1752.0314788\ttotal: 9.05s\tremaining: 19.9s\n",
      "313:\tlearn: 1751.7570586\ttotal: 9.08s\tremaining: 19.8s\n",
      "314:\tlearn: 1751.3993996\ttotal: 9.11s\tremaining: 19.8s\n",
      "315:\tlearn: 1751.1362876\ttotal: 9.15s\tremaining: 19.8s\n",
      "316:\tlearn: 1750.9595552\ttotal: 9.17s\tremaining: 19.8s\n",
      "317:\tlearn: 1750.6982972\ttotal: 9.2s\tremaining: 19.7s\n",
      "318:\tlearn: 1750.4583194\ttotal: 9.23s\tremaining: 19.7s\n",
      "319:\tlearn: 1750.2995854\ttotal: 9.25s\tremaining: 19.7s\n",
      "320:\tlearn: 1750.0346460\ttotal: 9.28s\tremaining: 19.6s\n",
      "321:\tlearn: 1749.8055383\ttotal: 9.31s\tremaining: 19.6s\n",
      "322:\tlearn: 1749.4187634\ttotal: 9.34s\tremaining: 19.6s\n",
      "323:\tlearn: 1749.1792661\ttotal: 9.36s\tremaining: 19.5s\n",
      "324:\tlearn: 1748.8049340\ttotal: 9.39s\tremaining: 19.5s\n",
      "325:\tlearn: 1748.6236052\ttotal: 9.42s\tremaining: 19.5s\n",
      "326:\tlearn: 1748.3749425\ttotal: 9.45s\tremaining: 19.4s\n",
      "327:\tlearn: 1748.1794975\ttotal: 9.47s\tremaining: 19.4s\n",
      "328:\tlearn: 1747.9360648\ttotal: 9.5s\tremaining: 19.4s\n",
      "329:\tlearn: 1747.7196361\ttotal: 9.53s\tremaining: 19.4s\n",
      "330:\tlearn: 1747.1739791\ttotal: 9.56s\tremaining: 19.3s\n",
      "331:\tlearn: 1746.9583548\ttotal: 9.58s\tremaining: 19.3s\n",
      "332:\tlearn: 1746.3234091\ttotal: 9.62s\tremaining: 19.3s\n",
      "333:\tlearn: 1746.0112451\ttotal: 9.64s\tremaining: 19.2s\n",
      "334:\tlearn: 1745.7621842\ttotal: 9.67s\tremaining: 19.2s\n",
      "335:\tlearn: 1745.4706551\ttotal: 9.71s\tremaining: 19.2s\n",
      "336:\tlearn: 1745.0722790\ttotal: 9.75s\tremaining: 19.2s\n",
      "337:\tlearn: 1744.9388059\ttotal: 9.78s\tremaining: 19.1s\n",
      "338:\tlearn: 1744.5523863\ttotal: 9.81s\tremaining: 19.1s\n",
      "339:\tlearn: 1744.1700949\ttotal: 9.84s\tremaining: 19.1s\n",
      "340:\tlearn: 1743.8947690\ttotal: 9.86s\tremaining: 19.1s\n",
      "341:\tlearn: 1743.6025135\ttotal: 9.88s\tremaining: 19s\n",
      "342:\tlearn: 1743.3779342\ttotal: 9.92s\tremaining: 19s\n",
      "343:\tlearn: 1743.1297104\ttotal: 9.95s\tremaining: 19s\n",
      "344:\tlearn: 1742.9431716\ttotal: 9.99s\tremaining: 19s\n",
      "345:\tlearn: 1742.5938654\ttotal: 10s\tremaining: 18.9s\n",
      "346:\tlearn: 1742.2808246\ttotal: 10.1s\tremaining: 18.9s\n",
      "347:\tlearn: 1741.9959367\ttotal: 10.1s\tremaining: 18.9s\n",
      "348:\tlearn: 1741.8208957\ttotal: 10.1s\tremaining: 18.9s\n",
      "349:\tlearn: 1741.5574931\ttotal: 10.2s\tremaining: 18.9s\n",
      "350:\tlearn: 1741.3508074\ttotal: 10.2s\tremaining: 18.8s\n",
      "351:\tlearn: 1741.0473669\ttotal: 10.2s\tremaining: 18.8s\n",
      "352:\tlearn: 1740.7527046\ttotal: 10.2s\tremaining: 18.8s\n",
      "353:\tlearn: 1740.4376814\ttotal: 10.3s\tremaining: 18.7s\n",
      "354:\tlearn: 1740.2260965\ttotal: 10.3s\tremaining: 18.7s\n",
      "355:\tlearn: 1739.8518419\ttotal: 10.3s\tremaining: 18.7s\n",
      "356:\tlearn: 1739.5107463\ttotal: 10.3s\tremaining: 18.6s\n",
      "357:\tlearn: 1739.2744994\ttotal: 10.4s\tremaining: 18.6s\n",
      "358:\tlearn: 1739.0320892\ttotal: 10.4s\tremaining: 18.6s\n",
      "359:\tlearn: 1738.7449689\ttotal: 10.4s\tremaining: 18.6s\n",
      "360:\tlearn: 1738.5872600\ttotal: 10.5s\tremaining: 18.5s\n",
      "361:\tlearn: 1738.2819168\ttotal: 10.5s\tremaining: 18.5s\n",
      "362:\tlearn: 1737.9732819\ttotal: 10.5s\tremaining: 18.5s\n",
      "363:\tlearn: 1737.7074683\ttotal: 10.5s\tremaining: 18.4s\n",
      "364:\tlearn: 1737.2512490\ttotal: 10.6s\tremaining: 18.4s\n",
      "365:\tlearn: 1736.8637153\ttotal: 10.6s\tremaining: 18.4s\n",
      "366:\tlearn: 1736.5370671\ttotal: 10.6s\tremaining: 18.4s\n",
      "367:\tlearn: 1736.2583507\ttotal: 10.7s\tremaining: 18.3s\n",
      "368:\tlearn: 1735.9664384\ttotal: 10.7s\tremaining: 18.3s\n",
      "369:\tlearn: 1735.7577312\ttotal: 10.7s\tremaining: 18.3s\n",
      "370:\tlearn: 1735.4378325\ttotal: 10.8s\tremaining: 18.3s\n",
      "371:\tlearn: 1735.1671095\ttotal: 10.8s\tremaining: 18.2s\n",
      "372:\tlearn: 1734.8602486\ttotal: 10.8s\tremaining: 18.2s\n",
      "373:\tlearn: 1734.6183898\ttotal: 10.9s\tremaining: 18.2s\n",
      "374:\tlearn: 1734.4011805\ttotal: 10.9s\tremaining: 18.1s\n",
      "375:\tlearn: 1734.1227586\ttotal: 10.9s\tremaining: 18.1s\n",
      "376:\tlearn: 1733.7815158\ttotal: 10.9s\tremaining: 18.1s\n",
      "377:\tlearn: 1733.4587306\ttotal: 11s\tremaining: 18.1s\n",
      "378:\tlearn: 1733.2433103\ttotal: 11s\tremaining: 18s\n",
      "379:\tlearn: 1733.0199783\ttotal: 11s\tremaining: 18s\n",
      "380:\tlearn: 1732.7913090\ttotal: 11.1s\tremaining: 18s\n",
      "381:\tlearn: 1732.3455445\ttotal: 11.1s\tremaining: 18s\n",
      "382:\tlearn: 1732.0874360\ttotal: 11.1s\tremaining: 17.9s\n",
      "383:\tlearn: 1731.8234442\ttotal: 11.2s\tremaining: 17.9s\n",
      "384:\tlearn: 1731.6062862\ttotal: 11.2s\tremaining: 17.9s\n",
      "385:\tlearn: 1731.4504955\ttotal: 11.2s\tremaining: 17.8s\n",
      "386:\tlearn: 1731.1690808\ttotal: 11.2s\tremaining: 17.8s\n",
      "387:\tlearn: 1730.9958053\ttotal: 11.3s\tremaining: 17.8s\n",
      "388:\tlearn: 1730.8332306\ttotal: 11.3s\tremaining: 17.7s\n",
      "389:\tlearn: 1730.5708132\ttotal: 11.3s\tremaining: 17.7s\n",
      "390:\tlearn: 1730.2356655\ttotal: 11.4s\tremaining: 17.7s\n",
      "391:\tlearn: 1729.9734548\ttotal: 11.4s\tremaining: 17.7s\n",
      "392:\tlearn: 1729.7913850\ttotal: 11.4s\tremaining: 17.6s\n",
      "393:\tlearn: 1729.4887928\ttotal: 11.4s\tremaining: 17.6s\n",
      "394:\tlearn: 1729.0844738\ttotal: 11.5s\tremaining: 17.6s\n",
      "395:\tlearn: 1728.9537894\ttotal: 11.5s\tremaining: 17.5s\n",
      "396:\tlearn: 1728.7048904\ttotal: 11.5s\tremaining: 17.5s\n",
      "397:\tlearn: 1728.4320440\ttotal: 11.6s\tremaining: 17.5s\n",
      "398:\tlearn: 1728.2256394\ttotal: 11.6s\tremaining: 17.5s\n",
      "399:\tlearn: 1727.9186235\ttotal: 11.6s\tremaining: 17.4s\n",
      "400:\tlearn: 1727.6436235\ttotal: 11.7s\tremaining: 17.4s\n",
      "401:\tlearn: 1727.4169872\ttotal: 11.7s\tremaining: 17.4s\n",
      "402:\tlearn: 1727.2319154\ttotal: 11.7s\tremaining: 17.3s\n",
      "403:\tlearn: 1727.0121326\ttotal: 11.7s\tremaining: 17.3s\n",
      "404:\tlearn: 1726.7183610\ttotal: 11.8s\tremaining: 17.3s\n",
      "405:\tlearn: 1726.4290739\ttotal: 11.8s\tremaining: 17.2s\n",
      "406:\tlearn: 1726.1869342\ttotal: 11.8s\tremaining: 17.2s\n",
      "407:\tlearn: 1725.9129382\ttotal: 11.8s\tremaining: 17.2s\n",
      "408:\tlearn: 1725.7209125\ttotal: 11.9s\tremaining: 17.2s\n",
      "409:\tlearn: 1725.4603901\ttotal: 11.9s\tremaining: 17.2s\n",
      "410:\tlearn: 1725.3202937\ttotal: 11.9s\tremaining: 17.1s\n",
      "411:\tlearn: 1725.1309979\ttotal: 12s\tremaining: 17.1s\n",
      "412:\tlearn: 1724.8196418\ttotal: 12s\tremaining: 17.1s\n",
      "413:\tlearn: 1724.6208692\ttotal: 12s\tremaining: 17s\n",
      "414:\tlearn: 1724.4698737\ttotal: 12.1s\tremaining: 17s\n",
      "415:\tlearn: 1724.3155931\ttotal: 12.1s\tremaining: 17s\n",
      "416:\tlearn: 1724.0567917\ttotal: 12.1s\tremaining: 16.9s\n",
      "417:\tlearn: 1723.8357114\ttotal: 12.1s\tremaining: 16.9s\n",
      "418:\tlearn: 1723.7114094\ttotal: 12.2s\tremaining: 16.9s\n",
      "419:\tlearn: 1723.5496472\ttotal: 12.2s\tremaining: 16.9s\n",
      "420:\tlearn: 1723.1345098\ttotal: 12.2s\tremaining: 16.8s\n",
      "421:\tlearn: 1722.8461808\ttotal: 12.3s\tremaining: 16.8s\n",
      "422:\tlearn: 1722.6522044\ttotal: 12.3s\tremaining: 16.8s\n",
      "423:\tlearn: 1722.5369946\ttotal: 12.3s\tremaining: 16.7s\n",
      "424:\tlearn: 1722.3748202\ttotal: 12.3s\tremaining: 16.7s\n",
      "425:\tlearn: 1722.1303779\ttotal: 12.4s\tremaining: 16.7s\n",
      "426:\tlearn: 1721.8217202\ttotal: 12.4s\tremaining: 16.6s\n",
      "427:\tlearn: 1721.5906286\ttotal: 12.4s\tremaining: 16.6s\n",
      "428:\tlearn: 1721.2851561\ttotal: 12.5s\tremaining: 16.6s\n",
      "429:\tlearn: 1720.8295259\ttotal: 12.5s\tremaining: 16.6s\n",
      "430:\tlearn: 1720.6164359\ttotal: 12.5s\tremaining: 16.5s\n",
      "431:\tlearn: 1720.3283105\ttotal: 12.6s\tremaining: 16.5s\n",
      "432:\tlearn: 1719.9237775\ttotal: 12.6s\tremaining: 16.5s\n",
      "433:\tlearn: 1719.7620804\ttotal: 12.6s\tremaining: 16.4s\n",
      "434:\tlearn: 1719.5978713\ttotal: 12.6s\tremaining: 16.4s\n",
      "435:\tlearn: 1719.3842152\ttotal: 12.7s\tremaining: 16.4s\n",
      "436:\tlearn: 1719.2232434\ttotal: 12.7s\tremaining: 16.4s\n",
      "437:\tlearn: 1719.0019408\ttotal: 12.7s\tremaining: 16.3s\n",
      "438:\tlearn: 1718.6392561\ttotal: 12.8s\tremaining: 16.3s\n",
      "439:\tlearn: 1718.4295188\ttotal: 12.8s\tremaining: 16.3s\n",
      "440:\tlearn: 1718.2445233\ttotal: 12.8s\tremaining: 16.2s\n",
      "441:\tlearn: 1718.0999605\ttotal: 12.8s\tremaining: 16.2s\n",
      "442:\tlearn: 1717.9180341\ttotal: 12.9s\tremaining: 16.2s\n",
      "443:\tlearn: 1717.6577531\ttotal: 12.9s\tremaining: 16.1s\n",
      "444:\tlearn: 1717.4957123\ttotal: 12.9s\tremaining: 16.1s\n",
      "445:\tlearn: 1717.2824807\ttotal: 13s\tremaining: 16.1s\n",
      "446:\tlearn: 1717.1734293\ttotal: 13s\tremaining: 16.1s\n",
      "447:\tlearn: 1717.0997409\ttotal: 13s\tremaining: 16s\n",
      "448:\tlearn: 1716.6546139\ttotal: 13s\tremaining: 16s\n",
      "449:\tlearn: 1716.4635907\ttotal: 13.1s\tremaining: 16s\n",
      "450:\tlearn: 1716.2512049\ttotal: 13.1s\tremaining: 15.9s\n",
      "451:\tlearn: 1715.7920880\ttotal: 13.1s\tremaining: 15.9s\n",
      "452:\tlearn: 1715.5239105\ttotal: 13.2s\tremaining: 15.9s\n",
      "453:\tlearn: 1715.3264845\ttotal: 13.2s\tremaining: 15.9s\n",
      "454:\tlearn: 1715.1536280\ttotal: 13.2s\tremaining: 15.8s\n",
      "455:\tlearn: 1714.9451997\ttotal: 13.2s\tremaining: 15.8s\n",
      "456:\tlearn: 1714.7188691\ttotal: 13.3s\tremaining: 15.8s\n",
      "457:\tlearn: 1714.5335762\ttotal: 13.3s\tremaining: 15.7s\n",
      "458:\tlearn: 1714.2417758\ttotal: 13.3s\tremaining: 15.7s\n",
      "459:\tlearn: 1714.0575957\ttotal: 13.4s\tremaining: 15.7s\n",
      "460:\tlearn: 1713.9067449\ttotal: 13.4s\tremaining: 15.6s\n",
      "461:\tlearn: 1713.7251529\ttotal: 13.4s\tremaining: 15.6s\n",
      "462:\tlearn: 1713.6329250\ttotal: 13.4s\tremaining: 15.6s\n",
      "463:\tlearn: 1713.4685838\ttotal: 13.5s\tremaining: 15.5s\n",
      "464:\tlearn: 1713.1377279\ttotal: 13.5s\tremaining: 15.5s\n",
      "465:\tlearn: 1712.9426485\ttotal: 13.5s\tremaining: 15.5s\n",
      "466:\tlearn: 1712.7144267\ttotal: 13.5s\tremaining: 15.5s\n",
      "467:\tlearn: 1712.4403257\ttotal: 13.6s\tremaining: 15.4s\n",
      "468:\tlearn: 1712.1955236\ttotal: 13.6s\tremaining: 15.4s\n",
      "469:\tlearn: 1711.9863569\ttotal: 13.6s\tremaining: 15.4s\n",
      "470:\tlearn: 1711.8146818\ttotal: 13.6s\tremaining: 15.3s\n",
      "471:\tlearn: 1711.5892543\ttotal: 13.7s\tremaining: 15.3s\n",
      "472:\tlearn: 1711.4275575\ttotal: 13.7s\tremaining: 15.3s\n",
      "473:\tlearn: 1711.1612277\ttotal: 13.7s\tremaining: 15.2s\n",
      "474:\tlearn: 1710.9839599\ttotal: 13.8s\tremaining: 15.2s\n",
      "475:\tlearn: 1710.8741068\ttotal: 13.8s\tremaining: 15.2s\n",
      "476:\tlearn: 1710.6589338\ttotal: 13.8s\tremaining: 15.2s\n",
      "477:\tlearn: 1710.4240706\ttotal: 13.8s\tremaining: 15.1s\n",
      "478:\tlearn: 1710.1560435\ttotal: 13.9s\tremaining: 15.1s\n",
      "479:\tlearn: 1709.9921607\ttotal: 13.9s\tremaining: 15.1s\n",
      "480:\tlearn: 1709.8490882\ttotal: 13.9s\tremaining: 15s\n",
      "481:\tlearn: 1709.7311258\ttotal: 14s\tremaining: 15s\n",
      "482:\tlearn: 1709.4895432\ttotal: 14s\tremaining: 15s\n",
      "483:\tlearn: 1709.0884517\ttotal: 14s\tremaining: 14.9s\n",
      "484:\tlearn: 1708.8016874\ttotal: 14s\tremaining: 14.9s\n",
      "485:\tlearn: 1708.5850288\ttotal: 14.1s\tremaining: 14.9s\n",
      "486:\tlearn: 1708.3634190\ttotal: 14.1s\tremaining: 14.9s\n",
      "487:\tlearn: 1708.2242398\ttotal: 14.1s\tremaining: 14.8s\n",
      "488:\tlearn: 1707.9602073\ttotal: 14.2s\tremaining: 14.8s\n",
      "489:\tlearn: 1707.7367062\ttotal: 14.2s\tremaining: 14.8s\n",
      "490:\tlearn: 1707.4973231\ttotal: 14.2s\tremaining: 14.7s\n",
      "491:\tlearn: 1707.1760772\ttotal: 14.2s\tremaining: 14.7s\n",
      "492:\tlearn: 1706.9440952\ttotal: 14.3s\tremaining: 14.7s\n",
      "493:\tlearn: 1706.7974894\ttotal: 14.3s\tremaining: 14.7s\n",
      "494:\tlearn: 1706.4014127\ttotal: 14.3s\tremaining: 14.6s\n",
      "495:\tlearn: 1706.1859417\ttotal: 14.4s\tremaining: 14.6s\n",
      "496:\tlearn: 1705.9164086\ttotal: 14.4s\tremaining: 14.6s\n",
      "497:\tlearn: 1705.7013334\ttotal: 14.4s\tremaining: 14.5s\n",
      "498:\tlearn: 1705.5872547\ttotal: 14.5s\tremaining: 14.5s\n",
      "499:\tlearn: 1705.4497669\ttotal: 14.5s\tremaining: 14.5s\n",
      "500:\tlearn: 1705.2367888\ttotal: 14.5s\tremaining: 14.5s\n",
      "501:\tlearn: 1704.9701498\ttotal: 14.5s\tremaining: 14.4s\n",
      "502:\tlearn: 1704.7599372\ttotal: 14.6s\tremaining: 14.4s\n",
      "503:\tlearn: 1704.4875180\ttotal: 14.6s\tremaining: 14.4s\n",
      "504:\tlearn: 1704.3092848\ttotal: 14.6s\tremaining: 14.3s\n",
      "505:\tlearn: 1703.9293336\ttotal: 14.6s\tremaining: 14.3s\n",
      "506:\tlearn: 1703.8143876\ttotal: 14.7s\tremaining: 14.3s\n",
      "507:\tlearn: 1703.6710883\ttotal: 14.7s\tremaining: 14.2s\n",
      "508:\tlearn: 1703.4157707\ttotal: 14.7s\tremaining: 14.2s\n",
      "509:\tlearn: 1703.2956473\ttotal: 14.8s\tremaining: 14.2s\n",
      "510:\tlearn: 1703.1466932\ttotal: 14.8s\tremaining: 14.1s\n",
      "511:\tlearn: 1702.9149426\ttotal: 14.8s\tremaining: 14.1s\n",
      "512:\tlearn: 1702.7343299\ttotal: 14.9s\tremaining: 14.1s\n",
      "513:\tlearn: 1702.6193861\ttotal: 14.9s\tremaining: 14.1s\n",
      "514:\tlearn: 1702.4690258\ttotal: 14.9s\tremaining: 14s\n",
      "515:\tlearn: 1702.3233712\ttotal: 14.9s\tremaining: 14s\n",
      "516:\tlearn: 1701.9915959\ttotal: 15s\tremaining: 14s\n",
      "517:\tlearn: 1701.7287352\ttotal: 15s\tremaining: 13.9s\n",
      "518:\tlearn: 1701.4654730\ttotal: 15s\tremaining: 13.9s\n",
      "519:\tlearn: 1701.3491549\ttotal: 15s\tremaining: 13.9s\n",
      "520:\tlearn: 1701.1247116\ttotal: 15.1s\tremaining: 13.8s\n",
      "521:\tlearn: 1700.9548406\ttotal: 15.1s\tremaining: 13.8s\n",
      "522:\tlearn: 1700.6687852\ttotal: 15.1s\tremaining: 13.8s\n",
      "523:\tlearn: 1700.4789442\ttotal: 15.2s\tremaining: 13.8s\n",
      "524:\tlearn: 1700.1771939\ttotal: 15.2s\tremaining: 13.7s\n",
      "525:\tlearn: 1699.9532787\ttotal: 15.2s\tremaining: 13.7s\n",
      "526:\tlearn: 1699.7881874\ttotal: 15.2s\tremaining: 13.7s\n",
      "527:\tlearn: 1699.6537241\ttotal: 15.3s\tremaining: 13.7s\n",
      "528:\tlearn: 1699.3310750\ttotal: 15.3s\tremaining: 13.6s\n",
      "529:\tlearn: 1699.0993393\ttotal: 15.3s\tremaining: 13.6s\n",
      "530:\tlearn: 1699.0392712\ttotal: 15.3s\tremaining: 13.6s\n",
      "531:\tlearn: 1698.8859196\ttotal: 15.4s\tremaining: 13.5s\n",
      "532:\tlearn: 1698.7663868\ttotal: 15.4s\tremaining: 13.5s\n",
      "533:\tlearn: 1698.6345450\ttotal: 15.4s\tremaining: 13.5s\n",
      "534:\tlearn: 1698.4363490\ttotal: 15.5s\tremaining: 13.4s\n",
      "535:\tlearn: 1698.1399826\ttotal: 15.5s\tremaining: 13.4s\n",
      "536:\tlearn: 1697.8343272\ttotal: 15.5s\tremaining: 13.4s\n",
      "537:\tlearn: 1697.6942194\ttotal: 15.5s\tremaining: 13.4s\n",
      "538:\tlearn: 1697.5777714\ttotal: 15.6s\tremaining: 13.3s\n",
      "539:\tlearn: 1697.3771034\ttotal: 15.6s\tremaining: 13.3s\n",
      "540:\tlearn: 1697.2139003\ttotal: 15.6s\tremaining: 13.3s\n",
      "541:\tlearn: 1696.9732260\ttotal: 15.7s\tremaining: 13.2s\n",
      "542:\tlearn: 1696.6663454\ttotal: 15.7s\tremaining: 13.2s\n",
      "543:\tlearn: 1696.4584443\ttotal: 15.7s\tremaining: 13.2s\n",
      "544:\tlearn: 1696.3300308\ttotal: 15.8s\tremaining: 13.2s\n",
      "545:\tlearn: 1696.1459706\ttotal: 15.8s\tremaining: 13.1s\n",
      "546:\tlearn: 1696.0292760\ttotal: 15.8s\tremaining: 13.1s\n",
      "547:\tlearn: 1695.8142329\ttotal: 15.8s\tremaining: 13.1s\n",
      "548:\tlearn: 1695.5343916\ttotal: 15.9s\tremaining: 13s\n",
      "549:\tlearn: 1695.4013223\ttotal: 15.9s\tremaining: 13s\n",
      "550:\tlearn: 1695.2973342\ttotal: 15.9s\tremaining: 13s\n",
      "551:\tlearn: 1695.0914738\ttotal: 16s\tremaining: 13s\n",
      "552:\tlearn: 1694.9553720\ttotal: 16s\tremaining: 12.9s\n",
      "553:\tlearn: 1694.7989630\ttotal: 16s\tremaining: 12.9s\n",
      "554:\tlearn: 1694.5676173\ttotal: 16s\tremaining: 12.9s\n",
      "555:\tlearn: 1694.3650124\ttotal: 16.1s\tremaining: 12.8s\n",
      "556:\tlearn: 1694.1690115\ttotal: 16.1s\tremaining: 12.8s\n",
      "557:\tlearn: 1693.9422772\ttotal: 16.1s\tremaining: 12.8s\n",
      "558:\tlearn: 1693.7942860\ttotal: 16.2s\tremaining: 12.8s\n",
      "559:\tlearn: 1693.6682630\ttotal: 16.2s\tremaining: 12.7s\n",
      "560:\tlearn: 1693.4982752\ttotal: 16.2s\tremaining: 12.7s\n",
      "561:\tlearn: 1693.3805216\ttotal: 16.3s\tremaining: 12.7s\n",
      "562:\tlearn: 1693.0483267\ttotal: 16.3s\tremaining: 12.6s\n",
      "563:\tlearn: 1692.7784317\ttotal: 16.3s\tremaining: 12.6s\n",
      "564:\tlearn: 1692.5272861\ttotal: 16.3s\tremaining: 12.6s\n",
      "565:\tlearn: 1692.3072137\ttotal: 16.4s\tremaining: 12.6s\n",
      "566:\tlearn: 1692.0689559\ttotal: 16.4s\tremaining: 12.5s\n",
      "567:\tlearn: 1691.8829497\ttotal: 16.4s\tremaining: 12.5s\n",
      "568:\tlearn: 1691.6567784\ttotal: 16.5s\tremaining: 12.5s\n",
      "569:\tlearn: 1691.4518368\ttotal: 16.5s\tremaining: 12.4s\n",
      "570:\tlearn: 1691.3116370\ttotal: 16.5s\tremaining: 12.4s\n",
      "571:\tlearn: 1691.2298872\ttotal: 16.5s\tremaining: 12.4s\n",
      "572:\tlearn: 1691.0800758\ttotal: 16.6s\tremaining: 12.3s\n",
      "573:\tlearn: 1690.9613812\ttotal: 16.6s\tremaining: 12.3s\n",
      "574:\tlearn: 1690.8424564\ttotal: 16.6s\tremaining: 12.3s\n",
      "575:\tlearn: 1690.6983461\ttotal: 16.6s\tremaining: 12.2s\n",
      "576:\tlearn: 1690.6315348\ttotal: 16.7s\tremaining: 12.2s\n",
      "577:\tlearn: 1690.5542321\ttotal: 16.7s\tremaining: 12.2s\n",
      "578:\tlearn: 1690.3116101\ttotal: 16.7s\tremaining: 12.2s\n",
      "579:\tlearn: 1690.0861418\ttotal: 16.7s\tremaining: 12.1s\n",
      "580:\tlearn: 1689.9615215\ttotal: 16.8s\tremaining: 12.1s\n",
      "581:\tlearn: 1689.6233299\ttotal: 16.8s\tremaining: 12.1s\n",
      "582:\tlearn: 1689.4918648\ttotal: 16.8s\tremaining: 12s\n",
      "583:\tlearn: 1689.3414152\ttotal: 16.9s\tremaining: 12s\n",
      "584:\tlearn: 1689.0787859\ttotal: 16.9s\tremaining: 12s\n",
      "585:\tlearn: 1688.9113029\ttotal: 16.9s\tremaining: 11.9s\n",
      "586:\tlearn: 1688.7586642\ttotal: 16.9s\tremaining: 11.9s\n",
      "587:\tlearn: 1688.5585843\ttotal: 17s\tremaining: 11.9s\n",
      "588:\tlearn: 1688.3361426\ttotal: 17s\tremaining: 11.9s\n",
      "589:\tlearn: 1688.1268731\ttotal: 17s\tremaining: 11.8s\n",
      "590:\tlearn: 1687.9854899\ttotal: 17s\tremaining: 11.8s\n",
      "591:\tlearn: 1687.8229089\ttotal: 17.1s\tremaining: 11.8s\n",
      "592:\tlearn: 1687.5796256\ttotal: 17.1s\tremaining: 11.7s\n",
      "593:\tlearn: 1687.3118422\ttotal: 17.1s\tremaining: 11.7s\n",
      "594:\tlearn: 1687.1253712\ttotal: 17.2s\tremaining: 11.7s\n",
      "595:\tlearn: 1686.8596715\ttotal: 17.2s\tremaining: 11.7s\n",
      "596:\tlearn: 1686.6012383\ttotal: 17.2s\tremaining: 11.6s\n",
      "597:\tlearn: 1686.3079411\ttotal: 17.2s\tremaining: 11.6s\n",
      "598:\tlearn: 1685.9858211\ttotal: 17.3s\tremaining: 11.6s\n",
      "599:\tlearn: 1685.7613338\ttotal: 17.3s\tremaining: 11.5s\n",
      "600:\tlearn: 1685.6398753\ttotal: 17.3s\tremaining: 11.5s\n",
      "601:\tlearn: 1685.5455856\ttotal: 17.3s\tremaining: 11.5s\n",
      "602:\tlearn: 1685.4045259\ttotal: 17.4s\tremaining: 11.4s\n",
      "603:\tlearn: 1685.2296047\ttotal: 17.4s\tremaining: 11.4s\n",
      "604:\tlearn: 1685.0222226\ttotal: 17.4s\tremaining: 11.4s\n",
      "605:\tlearn: 1684.7894045\ttotal: 17.5s\tremaining: 11.3s\n",
      "606:\tlearn: 1684.5902773\ttotal: 17.5s\tremaining: 11.3s\n",
      "607:\tlearn: 1684.4308779\ttotal: 17.5s\tremaining: 11.3s\n",
      "608:\tlearn: 1684.3071727\ttotal: 17.5s\tremaining: 11.3s\n",
      "609:\tlearn: 1684.1399471\ttotal: 17.6s\tremaining: 11.2s\n",
      "610:\tlearn: 1684.0359694\ttotal: 17.6s\tremaining: 11.2s\n",
      "611:\tlearn: 1683.9159226\ttotal: 17.6s\tremaining: 11.2s\n",
      "612:\tlearn: 1683.7673159\ttotal: 17.6s\tremaining: 11.1s\n",
      "613:\tlearn: 1683.6508210\ttotal: 17.7s\tremaining: 11.1s\n",
      "614:\tlearn: 1683.4977619\ttotal: 17.7s\tremaining: 11.1s\n",
      "615:\tlearn: 1683.4215152\ttotal: 17.7s\tremaining: 11s\n",
      "616:\tlearn: 1683.2737958\ttotal: 17.8s\tremaining: 11s\n",
      "617:\tlearn: 1683.1073463\ttotal: 17.8s\tremaining: 11s\n",
      "618:\tlearn: 1682.9982313\ttotal: 17.8s\tremaining: 11s\n",
      "619:\tlearn: 1682.7628859\ttotal: 17.8s\tremaining: 10.9s\n",
      "620:\tlearn: 1682.5925102\ttotal: 17.9s\tremaining: 10.9s\n",
      "621:\tlearn: 1682.4460951\ttotal: 17.9s\tremaining: 10.9s\n",
      "622:\tlearn: 1682.3004735\ttotal: 17.9s\tremaining: 10.8s\n",
      "623:\tlearn: 1682.0879791\ttotal: 18s\tremaining: 10.8s\n",
      "624:\tlearn: 1681.9803428\ttotal: 18s\tremaining: 10.8s\n",
      "625:\tlearn: 1681.7414593\ttotal: 18s\tremaining: 10.8s\n",
      "626:\tlearn: 1681.6471646\ttotal: 18s\tremaining: 10.7s\n",
      "627:\tlearn: 1681.5215978\ttotal: 18.1s\tremaining: 10.7s\n",
      "628:\tlearn: 1681.3817904\ttotal: 18.1s\tremaining: 10.7s\n",
      "629:\tlearn: 1681.2404126\ttotal: 18.1s\tremaining: 10.6s\n",
      "630:\tlearn: 1681.0759402\ttotal: 18.2s\tremaining: 10.6s\n",
      "631:\tlearn: 1680.8388830\ttotal: 18.2s\tremaining: 10.6s\n",
      "632:\tlearn: 1680.7975697\ttotal: 18.2s\tremaining: 10.6s\n",
      "633:\tlearn: 1680.6330024\ttotal: 18.2s\tremaining: 10.5s\n",
      "634:\tlearn: 1680.5250434\ttotal: 18.3s\tremaining: 10.5s\n",
      "635:\tlearn: 1680.1506942\ttotal: 18.3s\tremaining: 10.5s\n",
      "636:\tlearn: 1680.0220771\ttotal: 18.3s\tremaining: 10.4s\n",
      "637:\tlearn: 1679.8489432\ttotal: 18.4s\tremaining: 10.4s\n",
      "638:\tlearn: 1679.6929813\ttotal: 18.4s\tremaining: 10.4s\n",
      "639:\tlearn: 1679.5882470\ttotal: 18.4s\tremaining: 10.4s\n",
      "640:\tlearn: 1679.4287919\ttotal: 18.4s\tremaining: 10.3s\n",
      "641:\tlearn: 1679.2512083\ttotal: 18.5s\tremaining: 10.3s\n",
      "642:\tlearn: 1679.1207468\ttotal: 18.5s\tremaining: 10.3s\n",
      "643:\tlearn: 1679.0018421\ttotal: 18.5s\tremaining: 10.2s\n",
      "644:\tlearn: 1678.7867782\ttotal: 18.6s\tremaining: 10.2s\n",
      "645:\tlearn: 1678.5869061\ttotal: 18.6s\tremaining: 10.2s\n",
      "646:\tlearn: 1678.4757296\ttotal: 18.6s\tremaining: 10.2s\n",
      "647:\tlearn: 1678.3162349\ttotal: 18.6s\tremaining: 10.1s\n",
      "648:\tlearn: 1678.2230216\ttotal: 18.7s\tremaining: 10.1s\n",
      "649:\tlearn: 1678.0980247\ttotal: 18.7s\tremaining: 10.1s\n",
      "650:\tlearn: 1677.9520409\ttotal: 18.7s\tremaining: 10s\n",
      "651:\tlearn: 1677.7827492\ttotal: 18.8s\tremaining: 10s\n",
      "652:\tlearn: 1677.6666682\ttotal: 18.8s\tremaining: 9.99s\n",
      "653:\tlearn: 1677.5694224\ttotal: 18.8s\tremaining: 9.96s\n",
      "654:\tlearn: 1677.4430978\ttotal: 18.8s\tremaining: 9.93s\n",
      "655:\tlearn: 1677.3689433\ttotal: 18.9s\tremaining: 9.9s\n",
      "656:\tlearn: 1677.1799164\ttotal: 18.9s\tremaining: 9.87s\n",
      "657:\tlearn: 1677.0993359\ttotal: 18.9s\tremaining: 9.84s\n",
      "658:\tlearn: 1676.9483349\ttotal: 19s\tremaining: 9.81s\n",
      "659:\tlearn: 1676.7887829\ttotal: 19s\tremaining: 9.78s\n",
      "660:\tlearn: 1676.7274584\ttotal: 19s\tremaining: 9.75s\n",
      "661:\tlearn: 1676.5851743\ttotal: 19s\tremaining: 9.72s\n",
      "662:\tlearn: 1676.5355314\ttotal: 19.1s\tremaining: 9.69s\n",
      "663:\tlearn: 1676.4263949\ttotal: 19.1s\tremaining: 9.66s\n",
      "664:\tlearn: 1676.1976133\ttotal: 19.1s\tremaining: 9.63s\n",
      "665:\tlearn: 1676.0533986\ttotal: 19.2s\tremaining: 9.6s\n",
      "666:\tlearn: 1675.9094629\ttotal: 19.2s\tremaining: 9.57s\n",
      "667:\tlearn: 1675.7211894\ttotal: 19.2s\tremaining: 9.54s\n",
      "668:\tlearn: 1675.5670463\ttotal: 19.2s\tremaining: 9.51s\n",
      "669:\tlearn: 1675.3222778\ttotal: 19.3s\tremaining: 9.49s\n",
      "670:\tlearn: 1675.2348452\ttotal: 19.3s\tremaining: 9.46s\n",
      "671:\tlearn: 1675.1512748\ttotal: 19.3s\tremaining: 9.43s\n",
      "672:\tlearn: 1675.0473159\ttotal: 19.4s\tremaining: 9.4s\n",
      "673:\tlearn: 1674.9182261\ttotal: 19.4s\tremaining: 9.38s\n",
      "674:\tlearn: 1674.8477472\ttotal: 19.4s\tremaining: 9.35s\n",
      "675:\tlearn: 1674.7652863\ttotal: 19.4s\tremaining: 9.32s\n",
      "676:\tlearn: 1674.5484231\ttotal: 19.5s\tremaining: 9.29s\n",
      "677:\tlearn: 1674.4416227\ttotal: 19.5s\tremaining: 9.26s\n",
      "678:\tlearn: 1674.3083815\ttotal: 19.5s\tremaining: 9.24s\n",
      "679:\tlearn: 1674.1963886\ttotal: 19.6s\tremaining: 9.21s\n",
      "680:\tlearn: 1674.0686333\ttotal: 19.6s\tremaining: 9.18s\n",
      "681:\tlearn: 1673.9288755\ttotal: 19.6s\tremaining: 9.16s\n",
      "682:\tlearn: 1673.8050401\ttotal: 19.7s\tremaining: 9.13s\n",
      "683:\tlearn: 1673.6514292\ttotal: 19.7s\tremaining: 9.1s\n",
      "684:\tlearn: 1673.4860633\ttotal: 19.7s\tremaining: 9.07s\n",
      "685:\tlearn: 1673.3801088\ttotal: 19.8s\tremaining: 9.04s\n",
      "686:\tlearn: 1673.2668741\ttotal: 19.8s\tremaining: 9.01s\n",
      "687:\tlearn: 1673.1320566\ttotal: 19.8s\tremaining: 8.98s\n",
      "688:\tlearn: 1672.9242312\ttotal: 19.8s\tremaining: 8.96s\n",
      "689:\tlearn: 1672.7783689\ttotal: 19.9s\tremaining: 8.93s\n",
      "690:\tlearn: 1672.4485632\ttotal: 19.9s\tremaining: 8.9s\n",
      "691:\tlearn: 1672.1944329\ttotal: 19.9s\tremaining: 8.87s\n",
      "692:\tlearn: 1672.0744131\ttotal: 20s\tremaining: 8.84s\n",
      "693:\tlearn: 1671.9306390\ttotal: 20s\tremaining: 8.81s\n",
      "694:\tlearn: 1671.8273277\ttotal: 20s\tremaining: 8.78s\n",
      "695:\tlearn: 1671.7406952\ttotal: 20s\tremaining: 8.75s\n",
      "696:\tlearn: 1671.6277956\ttotal: 20.1s\tremaining: 8.72s\n",
      "697:\tlearn: 1671.5190435\ttotal: 20.1s\tremaining: 8.69s\n",
      "698:\tlearn: 1671.3293064\ttotal: 20.1s\tremaining: 8.67s\n",
      "699:\tlearn: 1671.1395288\ttotal: 20.2s\tremaining: 8.64s\n",
      "700:\tlearn: 1671.0305570\ttotal: 20.2s\tremaining: 8.61s\n",
      "701:\tlearn: 1670.8830534\ttotal: 20.2s\tremaining: 8.58s\n",
      "702:\tlearn: 1670.6987243\ttotal: 20.2s\tremaining: 8.55s\n",
      "703:\tlearn: 1670.5264775\ttotal: 20.3s\tremaining: 8.52s\n",
      "704:\tlearn: 1670.3736131\ttotal: 20.3s\tremaining: 8.49s\n",
      "705:\tlearn: 1670.2284878\ttotal: 20.3s\tremaining: 8.46s\n",
      "706:\tlearn: 1670.0830671\ttotal: 20.4s\tremaining: 8.43s\n",
      "707:\tlearn: 1669.9169052\ttotal: 20.4s\tremaining: 8.4s\n",
      "708:\tlearn: 1669.7214450\ttotal: 20.4s\tremaining: 8.38s\n",
      "709:\tlearn: 1669.5088222\ttotal: 20.4s\tremaining: 8.35s\n",
      "710:\tlearn: 1669.2480764\ttotal: 20.5s\tremaining: 8.32s\n",
      "711:\tlearn: 1669.0603715\ttotal: 20.5s\tremaining: 8.29s\n",
      "712:\tlearn: 1668.8969739\ttotal: 20.5s\tremaining: 8.26s\n",
      "713:\tlearn: 1668.6829470\ttotal: 20.5s\tremaining: 8.23s\n",
      "714:\tlearn: 1668.5752067\ttotal: 20.6s\tremaining: 8.2s\n",
      "715:\tlearn: 1668.3884092\ttotal: 20.6s\tremaining: 8.17s\n",
      "716:\tlearn: 1668.1975212\ttotal: 20.6s\tremaining: 8.14s\n",
      "717:\tlearn: 1668.0154505\ttotal: 20.7s\tremaining: 8.11s\n",
      "718:\tlearn: 1667.9175926\ttotal: 20.7s\tremaining: 8.08s\n",
      "719:\tlearn: 1667.8238627\ttotal: 20.7s\tremaining: 8.05s\n",
      "720:\tlearn: 1667.7312796\ttotal: 20.7s\tremaining: 8.02s\n",
      "721:\tlearn: 1667.6126765\ttotal: 20.8s\tremaining: 7.99s\n",
      "722:\tlearn: 1667.3937945\ttotal: 20.8s\tremaining: 7.97s\n",
      "723:\tlearn: 1667.1127097\ttotal: 20.8s\tremaining: 7.94s\n",
      "724:\tlearn: 1666.9495735\ttotal: 20.8s\tremaining: 7.91s\n",
      "725:\tlearn: 1666.8083724\ttotal: 20.9s\tremaining: 7.88s\n",
      "726:\tlearn: 1666.6817798\ttotal: 20.9s\tremaining: 7.85s\n",
      "727:\tlearn: 1666.5707962\ttotal: 20.9s\tremaining: 7.82s\n",
      "728:\tlearn: 1666.4429256\ttotal: 20.9s\tremaining: 7.79s\n",
      "729:\tlearn: 1666.3242118\ttotal: 21s\tremaining: 7.76s\n",
      "730:\tlearn: 1666.1656276\ttotal: 21s\tremaining: 7.73s\n",
      "731:\tlearn: 1666.0032168\ttotal: 21s\tremaining: 7.7s\n",
      "732:\tlearn: 1665.9098690\ttotal: 21.1s\tremaining: 7.67s\n",
      "733:\tlearn: 1665.7050392\ttotal: 21.1s\tremaining: 7.64s\n",
      "734:\tlearn: 1665.5150651\ttotal: 21.1s\tremaining: 7.61s\n",
      "735:\tlearn: 1665.2716827\ttotal: 21.1s\tremaining: 7.58s\n",
      "736:\tlearn: 1665.1770778\ttotal: 21.2s\tremaining: 7.55s\n",
      "737:\tlearn: 1664.9812968\ttotal: 21.2s\tremaining: 7.53s\n",
      "738:\tlearn: 1664.7602800\ttotal: 21.2s\tremaining: 7.5s\n",
      "739:\tlearn: 1664.5857007\ttotal: 21.3s\tremaining: 7.47s\n",
      "740:\tlearn: 1664.4995463\ttotal: 21.3s\tremaining: 7.44s\n",
      "741:\tlearn: 1664.3400607\ttotal: 21.3s\tremaining: 7.41s\n",
      "742:\tlearn: 1664.1186782\ttotal: 21.3s\tremaining: 7.38s\n",
      "743:\tlearn: 1663.9704859\ttotal: 21.4s\tremaining: 7.35s\n",
      "744:\tlearn: 1663.8010351\ttotal: 21.4s\tremaining: 7.32s\n",
      "745:\tlearn: 1663.6506792\ttotal: 21.4s\tremaining: 7.29s\n",
      "746:\tlearn: 1663.4934007\ttotal: 21.4s\tremaining: 7.26s\n",
      "747:\tlearn: 1663.3464955\ttotal: 21.5s\tremaining: 7.23s\n",
      "748:\tlearn: 1663.1735558\ttotal: 21.5s\tremaining: 7.21s\n",
      "749:\tlearn: 1663.0615475\ttotal: 21.5s\tremaining: 7.17s\n",
      "750:\tlearn: 1662.9499940\ttotal: 21.6s\tremaining: 7.14s\n",
      "751:\tlearn: 1662.7739172\ttotal: 21.6s\tremaining: 7.12s\n",
      "752:\tlearn: 1662.6127146\ttotal: 21.6s\tremaining: 7.09s\n",
      "753:\tlearn: 1662.4772361\ttotal: 21.6s\tremaining: 7.06s\n",
      "754:\tlearn: 1662.3319876\ttotal: 21.7s\tremaining: 7.03s\n",
      "755:\tlearn: 1662.1768739\ttotal: 21.7s\tremaining: 7s\n",
      "756:\tlearn: 1662.0959500\ttotal: 21.7s\tremaining: 6.97s\n",
      "757:\tlearn: 1662.0016278\ttotal: 21.7s\tremaining: 6.94s\n",
      "758:\tlearn: 1661.8932123\ttotal: 21.8s\tremaining: 6.91s\n",
      "759:\tlearn: 1661.7286823\ttotal: 21.8s\tremaining: 6.88s\n",
      "760:\tlearn: 1661.4308160\ttotal: 21.8s\tremaining: 6.85s\n",
      "761:\tlearn: 1661.2244930\ttotal: 21.8s\tremaining: 6.82s\n",
      "762:\tlearn: 1661.0430265\ttotal: 21.9s\tremaining: 6.8s\n",
      "763:\tlearn: 1660.9016803\ttotal: 21.9s\tremaining: 6.77s\n",
      "764:\tlearn: 1660.7519186\ttotal: 21.9s\tremaining: 6.74s\n",
      "765:\tlearn: 1660.6919924\ttotal: 22s\tremaining: 6.71s\n",
      "766:\tlearn: 1660.6510818\ttotal: 22s\tremaining: 6.68s\n",
      "767:\tlearn: 1660.5238766\ttotal: 22s\tremaining: 6.65s\n",
      "768:\tlearn: 1660.2959578\ttotal: 22s\tremaining: 6.62s\n",
      "769:\tlearn: 1660.1977078\ttotal: 22.1s\tremaining: 6.59s\n",
      "770:\tlearn: 1660.0682231\ttotal: 22.1s\tremaining: 6.56s\n",
      "771:\tlearn: 1660.0250200\ttotal: 22.1s\tremaining: 6.53s\n",
      "772:\tlearn: 1659.7939417\ttotal: 22.2s\tremaining: 6.5s\n",
      "773:\tlearn: 1659.6785231\ttotal: 22.2s\tremaining: 6.47s\n",
      "774:\tlearn: 1659.6154814\ttotal: 22.2s\tremaining: 6.45s\n",
      "775:\tlearn: 1659.5016007\ttotal: 22.2s\tremaining: 6.42s\n",
      "776:\tlearn: 1659.3840846\ttotal: 22.3s\tremaining: 6.39s\n",
      "777:\tlearn: 1659.2215946\ttotal: 22.3s\tremaining: 6.36s\n",
      "778:\tlearn: 1659.1048202\ttotal: 22.3s\tremaining: 6.33s\n",
      "779:\tlearn: 1659.0272619\ttotal: 22.3s\tremaining: 6.3s\n",
      "780:\tlearn: 1658.9368641\ttotal: 22.4s\tremaining: 6.27s\n",
      "781:\tlearn: 1658.7297152\ttotal: 22.4s\tremaining: 6.24s\n",
      "782:\tlearn: 1658.6284756\ttotal: 22.4s\tremaining: 6.21s\n",
      "783:\tlearn: 1658.5328595\ttotal: 22.5s\tremaining: 6.19s\n",
      "784:\tlearn: 1658.4699870\ttotal: 22.5s\tremaining: 6.16s\n",
      "785:\tlearn: 1658.2520911\ttotal: 22.5s\tremaining: 6.13s\n",
      "786:\tlearn: 1658.1544988\ttotal: 22.5s\tremaining: 6.1s\n",
      "787:\tlearn: 1658.0614611\ttotal: 22.6s\tremaining: 6.07s\n",
      "788:\tlearn: 1657.9651399\ttotal: 22.6s\tremaining: 6.04s\n",
      "789:\tlearn: 1657.9097966\ttotal: 22.6s\tremaining: 6.01s\n",
      "790:\tlearn: 1657.8577004\ttotal: 22.6s\tremaining: 5.98s\n",
      "791:\tlearn: 1657.7055601\ttotal: 22.7s\tremaining: 5.95s\n",
      "792:\tlearn: 1657.6229137\ttotal: 22.7s\tremaining: 5.92s\n",
      "793:\tlearn: 1657.5310572\ttotal: 22.7s\tremaining: 5.89s\n",
      "794:\tlearn: 1657.4033092\ttotal: 22.7s\tremaining: 5.87s\n",
      "795:\tlearn: 1657.2210777\ttotal: 22.8s\tremaining: 5.84s\n",
      "796:\tlearn: 1657.0554759\ttotal: 22.8s\tremaining: 5.81s\n",
      "797:\tlearn: 1656.9314139\ttotal: 22.8s\tremaining: 5.78s\n",
      "798:\tlearn: 1656.7801125\ttotal: 22.9s\tremaining: 5.75s\n",
      "799:\tlearn: 1656.6828771\ttotal: 22.9s\tremaining: 5.72s\n",
      "800:\tlearn: 1656.6096840\ttotal: 22.9s\tremaining: 5.69s\n",
      "801:\tlearn: 1656.4998164\ttotal: 22.9s\tremaining: 5.67s\n",
      "802:\tlearn: 1656.3610308\ttotal: 23s\tremaining: 5.64s\n",
      "803:\tlearn: 1656.2376654\ttotal: 23s\tremaining: 5.61s\n",
      "804:\tlearn: 1656.0039753\ttotal: 23s\tremaining: 5.58s\n",
      "805:\tlearn: 1655.9022811\ttotal: 23.1s\tremaining: 5.55s\n",
      "806:\tlearn: 1655.8402089\ttotal: 23.1s\tremaining: 5.52s\n",
      "807:\tlearn: 1655.7522931\ttotal: 23.1s\tremaining: 5.49s\n",
      "808:\tlearn: 1655.6101223\ttotal: 23.1s\tremaining: 5.46s\n",
      "809:\tlearn: 1655.3613385\ttotal: 23.2s\tremaining: 5.44s\n",
      "810:\tlearn: 1655.2796242\ttotal: 23.2s\tremaining: 5.41s\n",
      "811:\tlearn: 1655.1841729\ttotal: 23.2s\tremaining: 5.38s\n",
      "812:\tlearn: 1655.0948238\ttotal: 23.3s\tremaining: 5.35s\n",
      "813:\tlearn: 1655.0391445\ttotal: 23.3s\tremaining: 5.32s\n",
      "814:\tlearn: 1654.9420823\ttotal: 23.3s\tremaining: 5.29s\n",
      "815:\tlearn: 1654.7717133\ttotal: 23.3s\tremaining: 5.26s\n",
      "816:\tlearn: 1654.6516492\ttotal: 23.4s\tremaining: 5.24s\n",
      "817:\tlearn: 1654.5292150\ttotal: 23.4s\tremaining: 5.21s\n",
      "818:\tlearn: 1654.3562520\ttotal: 23.4s\tremaining: 5.18s\n",
      "819:\tlearn: 1654.2280109\ttotal: 23.5s\tremaining: 5.15s\n",
      "820:\tlearn: 1654.0289015\ttotal: 23.5s\tremaining: 5.12s\n",
      "821:\tlearn: 1653.9738142\ttotal: 23.5s\tremaining: 5.09s\n",
      "822:\tlearn: 1653.8215737\ttotal: 23.5s\tremaining: 5.06s\n",
      "823:\tlearn: 1653.6768895\ttotal: 23.6s\tremaining: 5.03s\n",
      "824:\tlearn: 1653.5871523\ttotal: 23.6s\tremaining: 5.01s\n",
      "825:\tlearn: 1653.4787846\ttotal: 23.6s\tremaining: 4.98s\n",
      "826:\tlearn: 1653.3452465\ttotal: 23.7s\tremaining: 4.95s\n",
      "827:\tlearn: 1653.2525868\ttotal: 23.7s\tremaining: 4.92s\n",
      "828:\tlearn: 1653.1923936\ttotal: 23.7s\tremaining: 4.89s\n",
      "829:\tlearn: 1653.0449818\ttotal: 23.7s\tremaining: 4.86s\n",
      "830:\tlearn: 1652.9810095\ttotal: 23.8s\tremaining: 4.83s\n",
      "831:\tlearn: 1652.8423291\ttotal: 23.8s\tremaining: 4.8s\n",
      "832:\tlearn: 1652.7379262\ttotal: 23.8s\tremaining: 4.77s\n",
      "833:\tlearn: 1652.6850798\ttotal: 23.8s\tremaining: 4.74s\n",
      "834:\tlearn: 1652.4922296\ttotal: 23.9s\tremaining: 4.71s\n",
      "835:\tlearn: 1652.3671133\ttotal: 23.9s\tremaining: 4.69s\n",
      "836:\tlearn: 1652.2230224\ttotal: 23.9s\tremaining: 4.66s\n",
      "837:\tlearn: 1652.1282818\ttotal: 23.9s\tremaining: 4.63s\n",
      "838:\tlearn: 1652.0192074\ttotal: 24s\tremaining: 4.6s\n",
      "839:\tlearn: 1651.9212143\ttotal: 24s\tremaining: 4.58s\n",
      "840:\tlearn: 1651.8046949\ttotal: 24.1s\tremaining: 4.55s\n",
      "841:\tlearn: 1651.6124318\ttotal: 24.1s\tremaining: 4.52s\n",
      "842:\tlearn: 1651.3732941\ttotal: 24.1s\tremaining: 4.49s\n",
      "843:\tlearn: 1651.1958455\ttotal: 24.1s\tremaining: 4.46s\n",
      "844:\tlearn: 1651.0054488\ttotal: 24.2s\tremaining: 4.43s\n",
      "845:\tlearn: 1650.8539152\ttotal: 24.2s\tremaining: 4.41s\n",
      "846:\tlearn: 1650.8095401\ttotal: 24.2s\tremaining: 4.38s\n",
      "847:\tlearn: 1650.7470724\ttotal: 24.3s\tremaining: 4.35s\n",
      "848:\tlearn: 1650.6077480\ttotal: 24.3s\tremaining: 4.32s\n",
      "849:\tlearn: 1650.4595230\ttotal: 24.3s\tremaining: 4.29s\n",
      "850:\tlearn: 1650.3111246\ttotal: 24.3s\tremaining: 4.26s\n",
      "851:\tlearn: 1650.1873670\ttotal: 24.4s\tremaining: 4.23s\n",
      "852:\tlearn: 1650.1517335\ttotal: 24.4s\tremaining: 4.21s\n",
      "853:\tlearn: 1649.9912513\ttotal: 24.4s\tremaining: 4.18s\n",
      "854:\tlearn: 1649.8504413\ttotal: 24.5s\tremaining: 4.15s\n",
      "855:\tlearn: 1649.7403460\ttotal: 24.5s\tremaining: 4.12s\n",
      "856:\tlearn: 1649.6081364\ttotal: 24.5s\tremaining: 4.09s\n",
      "857:\tlearn: 1649.5319515\ttotal: 24.5s\tremaining: 4.06s\n",
      "858:\tlearn: 1649.4020825\ttotal: 24.6s\tremaining: 4.03s\n",
      "859:\tlearn: 1649.2566188\ttotal: 24.6s\tremaining: 4s\n",
      "860:\tlearn: 1649.1639681\ttotal: 24.6s\tremaining: 3.98s\n",
      "861:\tlearn: 1649.0251452\ttotal: 24.7s\tremaining: 3.95s\n",
      "862:\tlearn: 1648.9422879\ttotal: 24.7s\tremaining: 3.92s\n",
      "863:\tlearn: 1648.8211021\ttotal: 24.7s\tremaining: 3.89s\n",
      "864:\tlearn: 1648.8046717\ttotal: 24.7s\tremaining: 3.86s\n",
      "865:\tlearn: 1648.7135175\ttotal: 24.8s\tremaining: 3.83s\n",
      "866:\tlearn: 1648.6443067\ttotal: 24.8s\tremaining: 3.8s\n",
      "867:\tlearn: 1648.5101293\ttotal: 24.8s\tremaining: 3.77s\n",
      "868:\tlearn: 1648.3983292\ttotal: 24.9s\tremaining: 3.75s\n",
      "869:\tlearn: 1648.2317388\ttotal: 24.9s\tremaining: 3.72s\n",
      "870:\tlearn: 1648.1411887\ttotal: 24.9s\tremaining: 3.69s\n",
      "871:\tlearn: 1648.0433010\ttotal: 24.9s\tremaining: 3.66s\n",
      "872:\tlearn: 1647.8772892\ttotal: 25s\tremaining: 3.63s\n",
      "873:\tlearn: 1647.7283231\ttotal: 25s\tremaining: 3.6s\n",
      "874:\tlearn: 1647.5961144\ttotal: 25s\tremaining: 3.57s\n",
      "875:\tlearn: 1647.5271704\ttotal: 25s\tremaining: 3.54s\n",
      "876:\tlearn: 1647.3542984\ttotal: 25.1s\tremaining: 3.52s\n",
      "877:\tlearn: 1647.2702359\ttotal: 25.1s\tremaining: 3.49s\n",
      "878:\tlearn: 1647.1238586\ttotal: 25.1s\tremaining: 3.46s\n",
      "879:\tlearn: 1647.0061259\ttotal: 25.2s\tremaining: 3.43s\n",
      "880:\tlearn: 1646.8935452\ttotal: 25.2s\tremaining: 3.4s\n",
      "881:\tlearn: 1646.7690537\ttotal: 25.2s\tremaining: 3.37s\n",
      "882:\tlearn: 1646.6273755\ttotal: 25.2s\tremaining: 3.34s\n",
      "883:\tlearn: 1646.5229796\ttotal: 25.3s\tremaining: 3.31s\n",
      "884:\tlearn: 1646.4186191\ttotal: 25.3s\tremaining: 3.29s\n",
      "885:\tlearn: 1646.3182380\ttotal: 25.3s\tremaining: 3.26s\n",
      "886:\tlearn: 1646.1824141\ttotal: 25.4s\tremaining: 3.23s\n",
      "887:\tlearn: 1646.0448873\ttotal: 25.4s\tremaining: 3.2s\n",
      "888:\tlearn: 1645.9380891\ttotal: 25.4s\tremaining: 3.17s\n",
      "889:\tlearn: 1645.8339487\ttotal: 25.4s\tremaining: 3.14s\n",
      "890:\tlearn: 1645.7308235\ttotal: 25.5s\tremaining: 3.11s\n",
      "891:\tlearn: 1645.6432993\ttotal: 25.5s\tremaining: 3.08s\n",
      "892:\tlearn: 1645.5120988\ttotal: 25.5s\tremaining: 3.06s\n",
      "893:\tlearn: 1645.3985019\ttotal: 25.5s\tremaining: 3.03s\n",
      "894:\tlearn: 1645.2658314\ttotal: 25.6s\tremaining: 3s\n",
      "895:\tlearn: 1645.2081591\ttotal: 25.6s\tremaining: 2.97s\n",
      "896:\tlearn: 1645.1313628\ttotal: 25.6s\tremaining: 2.94s\n",
      "897:\tlearn: 1645.0632011\ttotal: 25.7s\tremaining: 2.91s\n",
      "898:\tlearn: 1644.9224691\ttotal: 25.7s\tremaining: 2.88s\n",
      "899:\tlearn: 1644.9100702\ttotal: 25.7s\tremaining: 2.85s\n",
      "900:\tlearn: 1644.7971720\ttotal: 25.7s\tremaining: 2.83s\n",
      "901:\tlearn: 1644.7180427\ttotal: 25.8s\tremaining: 2.8s\n",
      "902:\tlearn: 1644.5388766\ttotal: 25.8s\tremaining: 2.77s\n",
      "903:\tlearn: 1644.5272925\ttotal: 25.8s\tremaining: 2.74s\n",
      "904:\tlearn: 1644.4639469\ttotal: 25.8s\tremaining: 2.71s\n",
      "905:\tlearn: 1644.3768114\ttotal: 25.9s\tremaining: 2.68s\n",
      "906:\tlearn: 1644.2328611\ttotal: 25.9s\tremaining: 2.65s\n",
      "907:\tlearn: 1644.1653848\ttotal: 25.9s\tremaining: 2.63s\n",
      "908:\tlearn: 1644.0272680\ttotal: 26s\tremaining: 2.6s\n",
      "909:\tlearn: 1643.8155521\ttotal: 26s\tremaining: 2.57s\n",
      "910:\tlearn: 1643.7488935\ttotal: 26s\tremaining: 2.54s\n",
      "911:\tlearn: 1643.6852212\ttotal: 26s\tremaining: 2.51s\n",
      "912:\tlearn: 1643.5467300\ttotal: 26.1s\tremaining: 2.48s\n",
      "913:\tlearn: 1643.4063965\ttotal: 26.1s\tremaining: 2.46s\n",
      "914:\tlearn: 1643.2820454\ttotal: 26.1s\tremaining: 2.43s\n",
      "915:\tlearn: 1643.0413616\ttotal: 26.2s\tremaining: 2.4s\n",
      "916:\tlearn: 1642.9500976\ttotal: 26.2s\tremaining: 2.37s\n",
      "917:\tlearn: 1642.7840687\ttotal: 26.2s\tremaining: 2.34s\n",
      "918:\tlearn: 1642.6040391\ttotal: 26.3s\tremaining: 2.31s\n",
      "919:\tlearn: 1642.3680842\ttotal: 26.3s\tremaining: 2.28s\n",
      "920:\tlearn: 1642.2624851\ttotal: 26.3s\tremaining: 2.26s\n",
      "921:\tlearn: 1642.1634153\ttotal: 26.3s\tremaining: 2.23s\n",
      "922:\tlearn: 1642.0564702\ttotal: 26.4s\tremaining: 2.2s\n",
      "923:\tlearn: 1641.9233020\ttotal: 26.4s\tremaining: 2.17s\n",
      "924:\tlearn: 1641.8500592\ttotal: 26.4s\tremaining: 2.14s\n",
      "925:\tlearn: 1641.6778145\ttotal: 26.4s\tremaining: 2.11s\n",
      "926:\tlearn: 1641.5398697\ttotal: 26.5s\tremaining: 2.08s\n",
      "927:\tlearn: 1641.3496087\ttotal: 26.5s\tremaining: 2.06s\n",
      "928:\tlearn: 1641.2698067\ttotal: 26.5s\tremaining: 2.03s\n",
      "929:\tlearn: 1641.0578916\ttotal: 26.6s\tremaining: 2s\n",
      "930:\tlearn: 1640.9868132\ttotal: 26.6s\tremaining: 1.97s\n",
      "931:\tlearn: 1640.8794217\ttotal: 26.6s\tremaining: 1.94s\n",
      "932:\tlearn: 1640.6992439\ttotal: 26.6s\tremaining: 1.91s\n",
      "933:\tlearn: 1640.5252184\ttotal: 26.7s\tremaining: 1.88s\n",
      "934:\tlearn: 1640.3981960\ttotal: 26.7s\tremaining: 1.85s\n",
      "935:\tlearn: 1640.3671521\ttotal: 26.7s\tremaining: 1.83s\n",
      "936:\tlearn: 1640.2999775\ttotal: 26.7s\tremaining: 1.8s\n",
      "937:\tlearn: 1640.1740821\ttotal: 26.8s\tremaining: 1.77s\n",
      "938:\tlearn: 1640.0686947\ttotal: 26.8s\tremaining: 1.74s\n",
      "939:\tlearn: 1639.9067910\ttotal: 26.8s\tremaining: 1.71s\n",
      "940:\tlearn: 1639.8249176\ttotal: 26.9s\tremaining: 1.68s\n",
      "941:\tlearn: 1639.7263740\ttotal: 26.9s\tremaining: 1.66s\n",
      "942:\tlearn: 1639.6118317\ttotal: 26.9s\tremaining: 1.63s\n",
      "943:\tlearn: 1639.5816395\ttotal: 26.9s\tremaining: 1.6s\n",
      "944:\tlearn: 1639.4013553\ttotal: 27s\tremaining: 1.57s\n",
      "945:\tlearn: 1639.3433323\ttotal: 27s\tremaining: 1.54s\n",
      "946:\tlearn: 1639.2084774\ttotal: 27s\tremaining: 1.51s\n",
      "947:\tlearn: 1639.1270864\ttotal: 27s\tremaining: 1.48s\n",
      "948:\tlearn: 1639.0525360\ttotal: 27.1s\tremaining: 1.46s\n",
      "949:\tlearn: 1638.8334582\ttotal: 27.1s\tremaining: 1.43s\n",
      "950:\tlearn: 1638.7638432\ttotal: 27.1s\tremaining: 1.4s\n",
      "951:\tlearn: 1638.7119385\ttotal: 27.2s\tremaining: 1.37s\n",
      "952:\tlearn: 1638.5602705\ttotal: 27.2s\tremaining: 1.34s\n",
      "953:\tlearn: 1638.4790554\ttotal: 27.2s\tremaining: 1.31s\n",
      "954:\tlearn: 1638.3943231\ttotal: 27.3s\tremaining: 1.28s\n",
      "955:\tlearn: 1638.2598791\ttotal: 27.3s\tremaining: 1.26s\n",
      "956:\tlearn: 1638.1184469\ttotal: 27.3s\tremaining: 1.23s\n",
      "957:\tlearn: 1637.9632488\ttotal: 27.3s\tremaining: 1.2s\n",
      "958:\tlearn: 1637.8286358\ttotal: 27.4s\tremaining: 1.17s\n",
      "959:\tlearn: 1637.7146589\ttotal: 27.4s\tremaining: 1.14s\n",
      "960:\tlearn: 1637.6139231\ttotal: 27.4s\tremaining: 1.11s\n",
      "961:\tlearn: 1637.4658283\ttotal: 27.5s\tremaining: 1.08s\n",
      "962:\tlearn: 1637.4151195\ttotal: 27.5s\tremaining: 1.06s\n",
      "963:\tlearn: 1637.2397940\ttotal: 27.5s\tremaining: 1.03s\n",
      "964:\tlearn: 1637.1582140\ttotal: 27.6s\tremaining: 1000ms\n",
      "965:\tlearn: 1637.0566308\ttotal: 27.6s\tremaining: 971ms\n",
      "966:\tlearn: 1636.9301577\ttotal: 27.6s\tremaining: 942ms\n",
      "967:\tlearn: 1636.7611066\ttotal: 27.6s\tremaining: 914ms\n",
      "968:\tlearn: 1636.6657628\ttotal: 27.7s\tremaining: 885ms\n",
      "969:\tlearn: 1636.5637319\ttotal: 27.7s\tremaining: 857ms\n",
      "970:\tlearn: 1636.4414491\ttotal: 27.7s\tremaining: 828ms\n",
      "971:\tlearn: 1636.3135391\ttotal: 27.8s\tremaining: 800ms\n",
      "972:\tlearn: 1636.1741379\ttotal: 27.8s\tremaining: 771ms\n",
      "973:\tlearn: 1636.0254276\ttotal: 27.8s\tremaining: 743ms\n",
      "974:\tlearn: 1635.9520820\ttotal: 27.8s\tremaining: 714ms\n",
      "975:\tlearn: 1635.8568370\ttotal: 27.9s\tremaining: 685ms\n",
      "976:\tlearn: 1635.7432587\ttotal: 27.9s\tremaining: 657ms\n",
      "977:\tlearn: 1635.5604068\ttotal: 27.9s\tremaining: 628ms\n",
      "978:\tlearn: 1635.4700851\ttotal: 28s\tremaining: 600ms\n",
      "979:\tlearn: 1635.3268445\ttotal: 28s\tremaining: 571ms\n",
      "980:\tlearn: 1635.1642479\ttotal: 28s\tremaining: 543ms\n",
      "981:\tlearn: 1635.1005484\ttotal: 28.1s\tremaining: 514ms\n",
      "982:\tlearn: 1634.9926400\ttotal: 28.1s\tremaining: 486ms\n",
      "983:\tlearn: 1634.8529272\ttotal: 28.1s\tremaining: 457ms\n",
      "984:\tlearn: 1634.7574782\ttotal: 28.1s\tremaining: 428ms\n",
      "985:\tlearn: 1634.6540572\ttotal: 28.2s\tremaining: 400ms\n",
      "986:\tlearn: 1634.5880965\ttotal: 28.2s\tremaining: 371ms\n",
      "987:\tlearn: 1634.5139955\ttotal: 28.2s\tremaining: 343ms\n",
      "988:\tlearn: 1634.4101834\ttotal: 28.2s\tremaining: 314ms\n",
      "989:\tlearn: 1634.2461516\ttotal: 28.3s\tremaining: 286ms\n",
      "990:\tlearn: 1634.0824664\ttotal: 28.3s\tremaining: 257ms\n",
      "991:\tlearn: 1633.9258054\ttotal: 28.3s\tremaining: 229ms\n",
      "992:\tlearn: 1633.8385085\ttotal: 28.4s\tremaining: 200ms\n",
      "993:\tlearn: 1633.7259623\ttotal: 28.4s\tremaining: 171ms\n",
      "994:\tlearn: 1633.6412548\ttotal: 28.4s\tremaining: 143ms\n",
      "995:\tlearn: 1633.5419805\ttotal: 28.5s\tremaining: 114ms\n",
      "996:\tlearn: 1633.4029582\ttotal: 28.5s\tremaining: 85.7ms\n",
      "997:\tlearn: 1633.2919003\ttotal: 28.5s\tremaining: 57.1ms\n",
      "998:\tlearn: 1633.1739968\ttotal: 28.5s\tremaining: 28.6ms\n",
      "999:\tlearn: 1633.0554469\ttotal: 28.6s\tremaining: 0us\n",
      "Learning rate set to 0.093467\n",
      "0:\tlearn: 4286.2963472\ttotal: 36.8ms\tremaining: 36.8s\n",
      "1:\tlearn: 4036.6503016\ttotal: 65.1ms\tremaining: 32.5s\n",
      "2:\tlearn: 3812.9422202\ttotal: 103ms\tremaining: 34.1s\n",
      "3:\tlearn: 3620.0030793\ttotal: 132ms\tremaining: 32.9s\n",
      "4:\tlearn: 3442.6177429\ttotal: 162ms\tremaining: 32.3s\n",
      "5:\tlearn: 3283.4369511\ttotal: 200ms\tremaining: 33.1s\n",
      "6:\tlearn: 3143.3229318\ttotal: 227ms\tremaining: 32.2s\n",
      "7:\tlearn: 3021.7701886\ttotal: 256ms\tremaining: 31.7s\n",
      "8:\tlearn: 2908.5116606\ttotal: 294ms\tremaining: 32.3s\n",
      "9:\tlearn: 2812.3626973\ttotal: 322ms\tremaining: 31.9s\n",
      "10:\tlearn: 2728.0689491\ttotal: 348ms\tremaining: 31.3s\n",
      "11:\tlearn: 2650.6120219\ttotal: 381ms\tremaining: 31.4s\n",
      "12:\tlearn: 2582.4712481\ttotal: 414ms\tremaining: 31.4s\n",
      "13:\tlearn: 2526.2007732\ttotal: 441ms\tremaining: 31s\n",
      "14:\tlearn: 2470.5534876\ttotal: 469ms\tremaining: 30.8s\n",
      "15:\tlearn: 2422.8220813\ttotal: 503ms\tremaining: 30.9s\n",
      "16:\tlearn: 2380.0190634\ttotal: 530ms\tremaining: 30.6s\n",
      "17:\tlearn: 2341.0719449\ttotal: 555ms\tremaining: 30.3s\n",
      "18:\tlearn: 2305.3245378\ttotal: 595ms\tremaining: 30.7s\n",
      "19:\tlearn: 2275.0455954\ttotal: 622ms\tremaining: 30.5s\n",
      "20:\tlearn: 2248.8313999\ttotal: 657ms\tremaining: 30.6s\n",
      "21:\tlearn: 2225.0686803\ttotal: 695ms\tremaining: 30.9s\n",
      "22:\tlearn: 2203.4480799\ttotal: 731ms\tremaining: 31s\n",
      "23:\tlearn: 2184.4473249\ttotal: 763ms\tremaining: 31s\n",
      "24:\tlearn: 2166.1706142\ttotal: 796ms\tremaining: 31s\n",
      "25:\tlearn: 2149.5577846\ttotal: 823ms\tremaining: 30.8s\n",
      "26:\tlearn: 2135.0000015\ttotal: 849ms\tremaining: 30.6s\n",
      "27:\tlearn: 2120.9283617\ttotal: 885ms\tremaining: 30.7s\n",
      "28:\tlearn: 2109.2313610\ttotal: 912ms\tremaining: 30.5s\n",
      "29:\tlearn: 2098.3210376\ttotal: 938ms\tremaining: 30.3s\n",
      "30:\tlearn: 2088.6916358\ttotal: 975ms\tremaining: 30.5s\n",
      "31:\tlearn: 2079.5111483\ttotal: 1s\tremaining: 30.3s\n",
      "32:\tlearn: 2072.0270422\ttotal: 1.03s\tremaining: 30.2s\n",
      "33:\tlearn: 2063.8298057\ttotal: 1.06s\tremaining: 30.2s\n",
      "34:\tlearn: 2057.8169220\ttotal: 1.09s\tremaining: 30.1s\n",
      "35:\tlearn: 2051.0643488\ttotal: 1.12s\tremaining: 29.9s\n",
      "36:\tlearn: 2044.6288999\ttotal: 1.14s\tremaining: 29.8s\n",
      "37:\tlearn: 2036.9139392\ttotal: 1.18s\tremaining: 29.8s\n",
      "38:\tlearn: 2030.7820980\ttotal: 1.21s\tremaining: 29.7s\n",
      "39:\tlearn: 2026.4671567\ttotal: 1.23s\tremaining: 29.5s\n",
      "40:\tlearn: 2019.7882736\ttotal: 1.27s\tremaining: 29.6s\n",
      "41:\tlearn: 2012.5930679\ttotal: 1.29s\tremaining: 29.6s\n",
      "42:\tlearn: 2005.9061379\ttotal: 1.32s\tremaining: 29.5s\n",
      "43:\tlearn: 2001.5569581\ttotal: 1.36s\tremaining: 29.5s\n",
      "44:\tlearn: 1997.6537665\ttotal: 1.38s\tremaining: 29.4s\n",
      "45:\tlearn: 1992.8079354\ttotal: 1.41s\tremaining: 29.3s\n",
      "46:\tlearn: 1989.2616813\ttotal: 1.44s\tremaining: 29.2s\n",
      "47:\tlearn: 1986.0175741\ttotal: 1.47s\tremaining: 29.2s\n",
      "48:\tlearn: 1983.1188189\ttotal: 1.5s\tremaining: 29s\n",
      "49:\tlearn: 1978.8497332\ttotal: 1.52s\tremaining: 28.9s\n",
      "50:\tlearn: 1975.8992157\ttotal: 1.56s\tremaining: 29s\n",
      "51:\tlearn: 1972.4918473\ttotal: 1.58s\tremaining: 28.9s\n",
      "52:\tlearn: 1969.3280105\ttotal: 1.61s\tremaining: 28.8s\n",
      "53:\tlearn: 1964.9972642\ttotal: 1.64s\tremaining: 28.7s\n",
      "54:\tlearn: 1962.5343329\ttotal: 1.67s\tremaining: 28.7s\n",
      "55:\tlearn: 1960.2508175\ttotal: 1.7s\tremaining: 28.6s\n",
      "56:\tlearn: 1957.9752386\ttotal: 1.72s\tremaining: 28.5s\n",
      "57:\tlearn: 1954.9175751\ttotal: 1.75s\tremaining: 28.5s\n",
      "58:\tlearn: 1953.0660339\ttotal: 1.78s\tremaining: 28.4s\n",
      "59:\tlearn: 1949.3706673\ttotal: 1.8s\tremaining: 28.3s\n",
      "60:\tlearn: 1945.7621943\ttotal: 1.84s\tremaining: 28.3s\n",
      "61:\tlearn: 1943.3102550\ttotal: 1.87s\tremaining: 28.3s\n",
      "62:\tlearn: 1940.6730784\ttotal: 1.9s\tremaining: 28.2s\n",
      "63:\tlearn: 1938.5117067\ttotal: 1.92s\tremaining: 28.1s\n",
      "64:\tlearn: 1936.4581791\ttotal: 1.96s\tremaining: 28.2s\n",
      "65:\tlearn: 1934.4846191\ttotal: 1.98s\tremaining: 28.1s\n",
      "66:\tlearn: 1931.3364431\ttotal: 2.01s\tremaining: 28s\n",
      "67:\tlearn: 1928.8436494\ttotal: 2.04s\tremaining: 28s\n",
      "68:\tlearn: 1927.3813821\ttotal: 2.07s\tremaining: 27.9s\n",
      "69:\tlearn: 1924.7993987\ttotal: 2.09s\tremaining: 27.8s\n",
      "70:\tlearn: 1923.2840601\ttotal: 2.12s\tremaining: 27.7s\n",
      "71:\tlearn: 1921.6393696\ttotal: 2.15s\tremaining: 27.7s\n",
      "72:\tlearn: 1919.8228560\ttotal: 2.18s\tremaining: 27.7s\n",
      "73:\tlearn: 1918.9547041\ttotal: 2.2s\tremaining: 27.6s\n",
      "74:\tlearn: 1915.7386754\ttotal: 2.24s\tremaining: 27.6s\n",
      "75:\tlearn: 1914.3318590\ttotal: 2.26s\tremaining: 27.5s\n",
      "76:\tlearn: 1912.1855433\ttotal: 2.29s\tremaining: 27.4s\n",
      "77:\tlearn: 1910.8454424\ttotal: 2.32s\tremaining: 27.4s\n",
      "78:\tlearn: 1909.0825581\ttotal: 2.35s\tremaining: 27.4s\n",
      "79:\tlearn: 1907.6983012\ttotal: 2.37s\tremaining: 27.3s\n",
      "80:\tlearn: 1906.4969324\ttotal: 2.4s\tremaining: 27.3s\n",
      "81:\tlearn: 1904.6674020\ttotal: 2.43s\tremaining: 27.2s\n",
      "82:\tlearn: 1902.6025324\ttotal: 2.46s\tremaining: 27.2s\n",
      "83:\tlearn: 1900.5717529\ttotal: 2.49s\tremaining: 27.1s\n",
      "84:\tlearn: 1898.6397322\ttotal: 2.52s\tremaining: 27.2s\n",
      "85:\tlearn: 1896.7767149\ttotal: 2.55s\tremaining: 27.1s\n",
      "86:\tlearn: 1895.7309070\ttotal: 2.57s\tremaining: 27s\n",
      "87:\tlearn: 1893.6437469\ttotal: 2.61s\tremaining: 27s\n",
      "88:\tlearn: 1892.2661441\ttotal: 2.64s\tremaining: 27s\n",
      "89:\tlearn: 1890.6562989\ttotal: 2.66s\tremaining: 26.9s\n",
      "90:\tlearn: 1889.2272362\ttotal: 2.7s\tremaining: 26.9s\n",
      "91:\tlearn: 1888.0824101\ttotal: 2.73s\tremaining: 26.9s\n",
      "92:\tlearn: 1886.0864054\ttotal: 2.75s\tremaining: 26.9s\n",
      "93:\tlearn: 1884.8562493\ttotal: 2.78s\tremaining: 26.8s\n",
      "94:\tlearn: 1883.0069150\ttotal: 2.81s\tremaining: 26.8s\n",
      "95:\tlearn: 1881.5567136\ttotal: 2.84s\tremaining: 26.7s\n",
      "96:\tlearn: 1880.4709431\ttotal: 2.86s\tremaining: 26.7s\n",
      "97:\tlearn: 1879.0818030\ttotal: 2.89s\tremaining: 26.6s\n",
      "98:\tlearn: 1878.0348438\ttotal: 2.92s\tremaining: 26.6s\n",
      "99:\tlearn: 1876.5936624\ttotal: 2.94s\tremaining: 26.5s\n",
      "100:\tlearn: 1875.5458102\ttotal: 2.97s\tremaining: 26.4s\n",
      "101:\tlearn: 1874.2392974\ttotal: 3s\tremaining: 26.4s\n",
      "102:\tlearn: 1872.7273947\ttotal: 3.03s\tremaining: 26.4s\n",
      "103:\tlearn: 1871.9796423\ttotal: 3.06s\tremaining: 26.3s\n",
      "104:\tlearn: 1871.0081144\ttotal: 3.09s\tremaining: 26.3s\n",
      "105:\tlearn: 1869.5694116\ttotal: 3.13s\tremaining: 26.4s\n",
      "106:\tlearn: 1868.5905878\ttotal: 3.15s\tremaining: 26.3s\n",
      "107:\tlearn: 1867.4230775\ttotal: 3.19s\tremaining: 26.3s\n",
      "108:\tlearn: 1866.5483960\ttotal: 3.22s\tremaining: 26.3s\n",
      "109:\tlearn: 1865.2736743\ttotal: 3.24s\tremaining: 26.2s\n",
      "110:\tlearn: 1864.0806387\ttotal: 3.27s\tremaining: 26.2s\n",
      "111:\tlearn: 1862.9032439\ttotal: 3.3s\tremaining: 26.2s\n",
      "112:\tlearn: 1861.4910665\ttotal: 3.33s\tremaining: 26.1s\n",
      "113:\tlearn: 1860.8658290\ttotal: 3.35s\tremaining: 26.1s\n",
      "114:\tlearn: 1860.0463301\ttotal: 3.38s\tremaining: 26s\n",
      "115:\tlearn: 1859.0809276\ttotal: 3.41s\tremaining: 26s\n",
      "116:\tlearn: 1858.1041255\ttotal: 3.44s\tremaining: 25.9s\n",
      "117:\tlearn: 1856.7278265\ttotal: 3.46s\tremaining: 25.9s\n",
      "118:\tlearn: 1855.7331864\ttotal: 3.5s\tremaining: 25.9s\n",
      "119:\tlearn: 1855.2109016\ttotal: 3.52s\tremaining: 25.8s\n",
      "120:\tlearn: 1854.0463783\ttotal: 3.54s\tremaining: 25.8s\n",
      "121:\tlearn: 1853.2561436\ttotal: 3.57s\tremaining: 25.7s\n",
      "122:\tlearn: 1852.2705275\ttotal: 3.6s\tremaining: 25.7s\n",
      "123:\tlearn: 1851.3212325\ttotal: 3.63s\tremaining: 25.6s\n",
      "124:\tlearn: 1850.7828433\ttotal: 3.65s\tremaining: 25.6s\n",
      "125:\tlearn: 1850.0044134\ttotal: 3.69s\tremaining: 25.6s\n",
      "126:\tlearn: 1848.8851863\ttotal: 3.72s\tremaining: 25.5s\n",
      "127:\tlearn: 1847.9850439\ttotal: 3.74s\tremaining: 25.5s\n",
      "128:\tlearn: 1847.2405298\ttotal: 3.77s\tremaining: 25.5s\n",
      "129:\tlearn: 1846.5997035\ttotal: 3.8s\tremaining: 25.5s\n",
      "130:\tlearn: 1845.6858745\ttotal: 3.83s\tremaining: 25.4s\n",
      "131:\tlearn: 1845.0205734\ttotal: 3.85s\tremaining: 25.4s\n",
      "132:\tlearn: 1844.4283663\ttotal: 3.88s\tremaining: 25.3s\n",
      "133:\tlearn: 1843.3508277\ttotal: 3.91s\tremaining: 25.3s\n",
      "134:\tlearn: 1842.4917760\ttotal: 3.93s\tremaining: 25.2s\n",
      "135:\tlearn: 1841.7205410\ttotal: 3.96s\tremaining: 25.2s\n",
      "136:\tlearn: 1841.2671239\ttotal: 3.99s\tremaining: 25.1s\n",
      "137:\tlearn: 1840.4912436\ttotal: 4.01s\tremaining: 25.1s\n",
      "138:\tlearn: 1839.4392474\ttotal: 4.04s\tremaining: 25s\n",
      "139:\tlearn: 1838.7598800\ttotal: 4.07s\tremaining: 25s\n",
      "140:\tlearn: 1837.6275281\ttotal: 4.1s\tremaining: 25s\n",
      "141:\tlearn: 1837.0300515\ttotal: 4.12s\tremaining: 24.9s\n",
      "142:\tlearn: 1835.7506448\ttotal: 4.16s\tremaining: 24.9s\n",
      "143:\tlearn: 1835.1490623\ttotal: 4.18s\tremaining: 24.9s\n",
      "144:\tlearn: 1834.7767387\ttotal: 4.21s\tremaining: 24.8s\n",
      "145:\tlearn: 1834.2017591\ttotal: 4.23s\tremaining: 24.8s\n",
      "146:\tlearn: 1833.1115486\ttotal: 4.27s\tremaining: 24.8s\n",
      "147:\tlearn: 1832.5274497\ttotal: 4.29s\tremaining: 24.7s\n",
      "148:\tlearn: 1831.9104444\ttotal: 4.32s\tremaining: 24.7s\n",
      "149:\tlearn: 1830.9384275\ttotal: 4.35s\tremaining: 24.7s\n",
      "150:\tlearn: 1830.3468491\ttotal: 4.38s\tremaining: 24.6s\n",
      "151:\tlearn: 1829.6852741\ttotal: 4.4s\tremaining: 24.6s\n",
      "152:\tlearn: 1829.2867880\ttotal: 4.43s\tremaining: 24.5s\n",
      "153:\tlearn: 1828.3951800\ttotal: 4.46s\tremaining: 24.5s\n",
      "154:\tlearn: 1827.9332471\ttotal: 4.49s\tremaining: 24.5s\n",
      "155:\tlearn: 1827.4409551\ttotal: 4.51s\tremaining: 24.4s\n",
      "156:\tlearn: 1826.6181288\ttotal: 4.55s\tremaining: 24.4s\n",
      "157:\tlearn: 1826.0683988\ttotal: 4.57s\tremaining: 24.4s\n",
      "158:\tlearn: 1825.4405372\ttotal: 4.6s\tremaining: 24.3s\n",
      "159:\tlearn: 1824.8747043\ttotal: 4.63s\tremaining: 24.3s\n",
      "160:\tlearn: 1823.8438630\ttotal: 4.66s\tremaining: 24.3s\n",
      "161:\tlearn: 1822.7986957\ttotal: 4.69s\tremaining: 24.3s\n",
      "162:\tlearn: 1821.8371293\ttotal: 4.72s\tremaining: 24.2s\n",
      "163:\tlearn: 1821.1604359\ttotal: 4.75s\tremaining: 24.2s\n",
      "164:\tlearn: 1820.3884148\ttotal: 4.78s\tremaining: 24.2s\n",
      "165:\tlearn: 1819.7372595\ttotal: 4.8s\tremaining: 24.1s\n",
      "166:\tlearn: 1818.9114948\ttotal: 4.83s\tremaining: 24.1s\n",
      "167:\tlearn: 1818.2721048\ttotal: 4.86s\tremaining: 24.1s\n",
      "168:\tlearn: 1817.6493526\ttotal: 4.89s\tremaining: 24s\n",
      "169:\tlearn: 1817.1327550\ttotal: 4.92s\tremaining: 24s\n",
      "170:\tlearn: 1816.2850882\ttotal: 4.95s\tremaining: 24s\n",
      "171:\tlearn: 1815.9746774\ttotal: 4.97s\tremaining: 23.9s\n",
      "172:\tlearn: 1815.2704079\ttotal: 5s\tremaining: 23.9s\n",
      "173:\tlearn: 1814.5983519\ttotal: 5.03s\tremaining: 23.9s\n",
      "174:\tlearn: 1813.9587513\ttotal: 5.06s\tremaining: 23.9s\n",
      "175:\tlearn: 1813.4714686\ttotal: 5.08s\tremaining: 23.8s\n",
      "176:\tlearn: 1812.5540059\ttotal: 5.11s\tremaining: 23.8s\n",
      "177:\tlearn: 1811.8692735\ttotal: 5.14s\tremaining: 23.7s\n",
      "178:\tlearn: 1811.2310537\ttotal: 5.17s\tremaining: 23.7s\n",
      "179:\tlearn: 1810.6224038\ttotal: 5.19s\tremaining: 23.7s\n",
      "180:\tlearn: 1810.1706762\ttotal: 5.22s\tremaining: 23.6s\n",
      "181:\tlearn: 1809.4580820\ttotal: 5.25s\tremaining: 23.6s\n",
      "182:\tlearn: 1809.0431776\ttotal: 5.28s\tremaining: 23.6s\n",
      "183:\tlearn: 1808.4229498\ttotal: 5.31s\tremaining: 23.5s\n",
      "184:\tlearn: 1808.0511439\ttotal: 5.34s\tremaining: 23.5s\n",
      "185:\tlearn: 1807.5310724\ttotal: 5.36s\tremaining: 23.5s\n",
      "186:\tlearn: 1806.9048726\ttotal: 5.38s\tremaining: 23.4s\n",
      "187:\tlearn: 1806.2448865\ttotal: 5.42s\tremaining: 23.4s\n",
      "188:\tlearn: 1805.7372077\ttotal: 5.45s\tremaining: 23.4s\n",
      "189:\tlearn: 1805.0334859\ttotal: 5.47s\tremaining: 23.3s\n",
      "190:\tlearn: 1804.6288079\ttotal: 5.5s\tremaining: 23.3s\n",
      "191:\tlearn: 1804.0443957\ttotal: 5.53s\tremaining: 23.3s\n",
      "192:\tlearn: 1803.5516212\ttotal: 5.56s\tremaining: 23.2s\n",
      "193:\tlearn: 1803.1706971\ttotal: 5.58s\tremaining: 23.2s\n",
      "194:\tlearn: 1802.7091580\ttotal: 5.62s\tremaining: 23.2s\n",
      "195:\tlearn: 1802.1294562\ttotal: 5.65s\tremaining: 23.2s\n",
      "196:\tlearn: 1801.5709895\ttotal: 5.67s\tremaining: 23.1s\n",
      "197:\tlearn: 1801.0411929\ttotal: 5.7s\tremaining: 23.1s\n",
      "198:\tlearn: 1800.5304245\ttotal: 5.73s\tremaining: 23.1s\n",
      "199:\tlearn: 1800.1347367\ttotal: 5.76s\tremaining: 23s\n",
      "200:\tlearn: 1799.6507108\ttotal: 5.78s\tremaining: 23s\n",
      "201:\tlearn: 1799.2618285\ttotal: 5.82s\tremaining: 23s\n",
      "202:\tlearn: 1798.7405363\ttotal: 5.84s\tremaining: 22.9s\n",
      "203:\tlearn: 1798.3284198\ttotal: 5.87s\tremaining: 22.9s\n",
      "204:\tlearn: 1797.9387129\ttotal: 5.9s\tremaining: 22.9s\n",
      "205:\tlearn: 1797.3296131\ttotal: 5.93s\tremaining: 22.9s\n",
      "206:\tlearn: 1796.8962363\ttotal: 5.95s\tremaining: 22.8s\n",
      "207:\tlearn: 1796.2272868\ttotal: 5.98s\tremaining: 22.8s\n",
      "208:\tlearn: 1795.8542847\ttotal: 6.01s\tremaining: 22.8s\n",
      "209:\tlearn: 1795.5041699\ttotal: 6.04s\tremaining: 22.7s\n",
      "210:\tlearn: 1795.0762391\ttotal: 6.06s\tremaining: 22.7s\n",
      "211:\tlearn: 1794.6860514\ttotal: 6.09s\tremaining: 22.7s\n",
      "212:\tlearn: 1794.4220489\ttotal: 6.12s\tremaining: 22.6s\n",
      "213:\tlearn: 1793.9559086\ttotal: 6.15s\tremaining: 22.6s\n",
      "214:\tlearn: 1793.4779905\ttotal: 6.18s\tremaining: 22.6s\n",
      "215:\tlearn: 1792.9177417\ttotal: 6.21s\tremaining: 22.5s\n",
      "216:\tlearn: 1792.5742492\ttotal: 6.23s\tremaining: 22.5s\n",
      "217:\tlearn: 1792.1934178\ttotal: 6.25s\tremaining: 22.4s\n",
      "218:\tlearn: 1791.6152712\ttotal: 6.29s\tremaining: 22.4s\n",
      "219:\tlearn: 1790.9485466\ttotal: 6.32s\tremaining: 22.4s\n",
      "220:\tlearn: 1790.4421135\ttotal: 6.34s\tremaining: 22.4s\n",
      "221:\tlearn: 1789.9651209\ttotal: 6.38s\tremaining: 22.4s\n",
      "222:\tlearn: 1789.4653951\ttotal: 6.41s\tremaining: 22.3s\n",
      "223:\tlearn: 1789.0254102\ttotal: 6.44s\tremaining: 22.3s\n",
      "224:\tlearn: 1788.5207419\ttotal: 6.47s\tremaining: 22.3s\n",
      "225:\tlearn: 1787.9935923\ttotal: 6.5s\tremaining: 22.3s\n",
      "226:\tlearn: 1787.6053252\ttotal: 6.53s\tremaining: 22.2s\n",
      "227:\tlearn: 1787.0069077\ttotal: 6.57s\tremaining: 22.2s\n",
      "228:\tlearn: 1786.6498792\ttotal: 6.59s\tremaining: 22.2s\n",
      "229:\tlearn: 1786.2885922\ttotal: 6.62s\tremaining: 22.2s\n",
      "230:\tlearn: 1785.9739746\ttotal: 6.65s\tremaining: 22.1s\n",
      "231:\tlearn: 1785.5867575\ttotal: 6.68s\tremaining: 22.1s\n",
      "232:\tlearn: 1785.2110025\ttotal: 6.71s\tremaining: 22.1s\n",
      "233:\tlearn: 1784.8957227\ttotal: 6.73s\tremaining: 22s\n",
      "234:\tlearn: 1784.2937894\ttotal: 6.76s\tremaining: 22s\n",
      "235:\tlearn: 1783.8458219\ttotal: 6.79s\tremaining: 22s\n",
      "236:\tlearn: 1783.5137269\ttotal: 6.81s\tremaining: 21.9s\n",
      "237:\tlearn: 1783.1772805\ttotal: 6.85s\tremaining: 21.9s\n",
      "238:\tlearn: 1782.8928263\ttotal: 6.87s\tremaining: 21.9s\n",
      "239:\tlearn: 1782.4346708\ttotal: 6.9s\tremaining: 21.9s\n",
      "240:\tlearn: 1782.1075159\ttotal: 6.94s\tremaining: 21.9s\n",
      "241:\tlearn: 1781.8655481\ttotal: 6.97s\tremaining: 21.8s\n",
      "242:\tlearn: 1781.4764102\ttotal: 7s\tremaining: 21.8s\n",
      "243:\tlearn: 1780.9708223\ttotal: 7.03s\tremaining: 21.8s\n",
      "244:\tlearn: 1780.5936453\ttotal: 7.06s\tremaining: 21.8s\n",
      "245:\tlearn: 1780.1576541\ttotal: 7.08s\tremaining: 21.7s\n",
      "246:\tlearn: 1779.8953892\ttotal: 7.12s\tremaining: 21.7s\n",
      "247:\tlearn: 1779.6128438\ttotal: 7.14s\tremaining: 21.7s\n",
      "248:\tlearn: 1779.2206256\ttotal: 7.17s\tremaining: 21.6s\n",
      "249:\tlearn: 1778.6783712\ttotal: 7.21s\tremaining: 21.6s\n",
      "250:\tlearn: 1778.3048553\ttotal: 7.23s\tremaining: 21.6s\n",
      "251:\tlearn: 1778.0201684\ttotal: 7.26s\tremaining: 21.5s\n",
      "252:\tlearn: 1777.6047387\ttotal: 7.28s\tremaining: 21.5s\n",
      "253:\tlearn: 1777.4089061\ttotal: 7.32s\tremaining: 21.5s\n",
      "254:\tlearn: 1776.9298193\ttotal: 7.35s\tremaining: 21.5s\n",
      "255:\tlearn: 1776.1595910\ttotal: 7.38s\tremaining: 21.4s\n",
      "256:\tlearn: 1775.8020090\ttotal: 7.42s\tremaining: 21.4s\n",
      "257:\tlearn: 1775.4337353\ttotal: 7.44s\tremaining: 21.4s\n",
      "258:\tlearn: 1775.1437970\ttotal: 7.47s\tremaining: 21.4s\n",
      "259:\tlearn: 1774.7645655\ttotal: 7.51s\tremaining: 21.4s\n",
      "260:\tlearn: 1774.6007786\ttotal: 7.53s\tremaining: 21.3s\n",
      "261:\tlearn: 1774.2270517\ttotal: 7.56s\tremaining: 21.3s\n",
      "262:\tlearn: 1773.8980233\ttotal: 7.59s\tremaining: 21.3s\n",
      "263:\tlearn: 1773.6019606\ttotal: 7.62s\tremaining: 21.2s\n",
      "264:\tlearn: 1773.2541590\ttotal: 7.64s\tremaining: 21.2s\n",
      "265:\tlearn: 1772.9098394\ttotal: 7.67s\tremaining: 21.2s\n",
      "266:\tlearn: 1772.6480298\ttotal: 7.71s\tremaining: 21.2s\n",
      "267:\tlearn: 1772.2916892\ttotal: 7.74s\tremaining: 21.1s\n",
      "268:\tlearn: 1772.0256273\ttotal: 7.76s\tremaining: 21.1s\n",
      "269:\tlearn: 1771.6764198\ttotal: 7.8s\tremaining: 21.1s\n",
      "270:\tlearn: 1771.4138150\ttotal: 7.83s\tremaining: 21.1s\n",
      "271:\tlearn: 1771.1726733\ttotal: 7.85s\tremaining: 21s\n",
      "272:\tlearn: 1770.9139525\ttotal: 7.89s\tremaining: 21s\n",
      "273:\tlearn: 1770.6310319\ttotal: 7.92s\tremaining: 21s\n",
      "274:\tlearn: 1770.2217129\ttotal: 7.94s\tremaining: 20.9s\n",
      "275:\tlearn: 1769.8580994\ttotal: 7.98s\tremaining: 20.9s\n",
      "276:\tlearn: 1769.3327386\ttotal: 8.01s\tremaining: 20.9s\n",
      "277:\tlearn: 1768.9842687\ttotal: 8.03s\tremaining: 20.9s\n",
      "278:\tlearn: 1768.7405948\ttotal: 8.07s\tremaining: 20.9s\n",
      "279:\tlearn: 1768.5476045\ttotal: 8.09s\tremaining: 20.8s\n",
      "280:\tlearn: 1768.2350517\ttotal: 8.12s\tremaining: 20.8s\n",
      "281:\tlearn: 1767.8639743\ttotal: 8.15s\tremaining: 20.7s\n",
      "282:\tlearn: 1767.5420279\ttotal: 8.18s\tremaining: 20.7s\n",
      "283:\tlearn: 1767.1342623\ttotal: 8.2s\tremaining: 20.7s\n",
      "284:\tlearn: 1766.6719452\ttotal: 8.23s\tremaining: 20.6s\n",
      "285:\tlearn: 1766.4257154\ttotal: 8.26s\tremaining: 20.6s\n",
      "286:\tlearn: 1766.2606695\ttotal: 8.28s\tremaining: 20.6s\n",
      "287:\tlearn: 1766.0128594\ttotal: 8.3s\tremaining: 20.5s\n",
      "288:\tlearn: 1765.7747439\ttotal: 8.34s\tremaining: 20.5s\n",
      "289:\tlearn: 1765.5564676\ttotal: 8.37s\tremaining: 20.5s\n",
      "290:\tlearn: 1765.1584395\ttotal: 8.4s\tremaining: 20.5s\n",
      "291:\tlearn: 1764.8616412\ttotal: 8.43s\tremaining: 20.4s\n",
      "292:\tlearn: 1764.4635015\ttotal: 8.46s\tremaining: 20.4s\n",
      "293:\tlearn: 1764.2829156\ttotal: 8.48s\tremaining: 20.4s\n",
      "294:\tlearn: 1764.0783554\ttotal: 8.52s\tremaining: 20.3s\n",
      "295:\tlearn: 1763.7073877\ttotal: 8.54s\tremaining: 20.3s\n",
      "296:\tlearn: 1763.3546237\ttotal: 8.58s\tremaining: 20.3s\n",
      "297:\tlearn: 1762.7518869\ttotal: 8.62s\tremaining: 20.3s\n",
      "298:\tlearn: 1762.3325089\ttotal: 8.64s\tremaining: 20.3s\n",
      "299:\tlearn: 1762.0082812\ttotal: 8.67s\tremaining: 20.2s\n",
      "300:\tlearn: 1761.7399828\ttotal: 8.71s\tremaining: 20.2s\n",
      "301:\tlearn: 1761.2515317\ttotal: 8.75s\tremaining: 20.2s\n",
      "302:\tlearn: 1760.9695494\ttotal: 8.78s\tremaining: 20.2s\n",
      "303:\tlearn: 1760.6656191\ttotal: 8.81s\tremaining: 20.2s\n",
      "304:\tlearn: 1760.3112267\ttotal: 8.84s\tremaining: 20.1s\n",
      "305:\tlearn: 1759.9555512\ttotal: 8.87s\tremaining: 20.1s\n",
      "306:\tlearn: 1759.7164160\ttotal: 8.89s\tremaining: 20.1s\n",
      "307:\tlearn: 1759.3171538\ttotal: 8.93s\tremaining: 20.1s\n",
      "308:\tlearn: 1759.1493001\ttotal: 8.96s\tremaining: 20s\n",
      "309:\tlearn: 1758.8299468\ttotal: 9s\tremaining: 20s\n",
      "310:\tlearn: 1758.5077660\ttotal: 9.02s\tremaining: 20s\n",
      "311:\tlearn: 1758.2953289\ttotal: 9.05s\tremaining: 20s\n",
      "312:\tlearn: 1757.9497341\ttotal: 9.08s\tremaining: 19.9s\n",
      "313:\tlearn: 1757.6497321\ttotal: 9.11s\tremaining: 19.9s\n",
      "314:\tlearn: 1757.3205897\ttotal: 9.13s\tremaining: 19.9s\n",
      "315:\tlearn: 1757.0144613\ttotal: 9.16s\tremaining: 19.8s\n",
      "316:\tlearn: 1756.8174851\ttotal: 9.2s\tremaining: 19.8s\n",
      "317:\tlearn: 1756.3494753\ttotal: 9.22s\tremaining: 19.8s\n",
      "318:\tlearn: 1755.9999551\ttotal: 9.26s\tremaining: 19.8s\n",
      "319:\tlearn: 1755.6536886\ttotal: 9.29s\tremaining: 19.7s\n",
      "320:\tlearn: 1755.5118399\ttotal: 9.31s\tremaining: 19.7s\n",
      "321:\tlearn: 1755.1910498\ttotal: 9.34s\tremaining: 19.7s\n",
      "322:\tlearn: 1754.7174160\ttotal: 9.37s\tremaining: 19.6s\n",
      "323:\tlearn: 1754.4094036\ttotal: 9.39s\tremaining: 19.6s\n",
      "324:\tlearn: 1754.1873703\ttotal: 9.42s\tremaining: 19.6s\n",
      "325:\tlearn: 1753.9226120\ttotal: 9.46s\tremaining: 19.6s\n",
      "326:\tlearn: 1753.7415048\ttotal: 9.49s\tremaining: 19.5s\n",
      "327:\tlearn: 1753.4078161\ttotal: 9.53s\tremaining: 19.5s\n",
      "328:\tlearn: 1753.2049382\ttotal: 9.55s\tremaining: 19.5s\n",
      "329:\tlearn: 1752.7452257\ttotal: 9.58s\tremaining: 19.5s\n",
      "330:\tlearn: 1752.3937809\ttotal: 9.62s\tremaining: 19.4s\n",
      "331:\tlearn: 1752.2062002\ttotal: 9.64s\tremaining: 19.4s\n",
      "332:\tlearn: 1752.0074876\ttotal: 9.67s\tremaining: 19.4s\n",
      "333:\tlearn: 1751.4108772\ttotal: 9.7s\tremaining: 19.3s\n",
      "334:\tlearn: 1751.1701228\ttotal: 9.73s\tremaining: 19.3s\n",
      "335:\tlearn: 1750.9396319\ttotal: 9.76s\tremaining: 19.3s\n",
      "336:\tlearn: 1750.6568867\ttotal: 9.78s\tremaining: 19.2s\n",
      "337:\tlearn: 1750.4179003\ttotal: 9.82s\tremaining: 19.2s\n",
      "338:\tlearn: 1750.0097971\ttotal: 9.84s\tremaining: 19.2s\n",
      "339:\tlearn: 1749.6475614\ttotal: 9.87s\tremaining: 19.2s\n",
      "340:\tlearn: 1749.1541904\ttotal: 9.91s\tremaining: 19.1s\n",
      "341:\tlearn: 1748.8336805\ttotal: 9.94s\tremaining: 19.1s\n",
      "342:\tlearn: 1748.4754793\ttotal: 9.96s\tremaining: 19.1s\n",
      "343:\tlearn: 1748.1004592\ttotal: 10s\tremaining: 19.1s\n",
      "344:\tlearn: 1747.6660105\ttotal: 10s\tremaining: 19s\n",
      "345:\tlearn: 1747.4178667\ttotal: 10.1s\tremaining: 19s\n",
      "346:\tlearn: 1746.9875839\ttotal: 10.1s\tremaining: 19s\n",
      "347:\tlearn: 1746.7546934\ttotal: 10.1s\tremaining: 19s\n",
      "348:\tlearn: 1746.5964561\ttotal: 10.1s\tremaining: 18.9s\n",
      "349:\tlearn: 1746.2346799\ttotal: 10.2s\tremaining: 18.9s\n",
      "350:\tlearn: 1745.9461021\ttotal: 10.2s\tremaining: 18.9s\n",
      "351:\tlearn: 1745.5091171\ttotal: 10.2s\tremaining: 18.8s\n",
      "352:\tlearn: 1745.2208874\ttotal: 10.3s\tremaining: 18.8s\n",
      "353:\tlearn: 1745.0528405\ttotal: 10.3s\tremaining: 18.8s\n",
      "354:\tlearn: 1744.6236781\ttotal: 10.3s\tremaining: 18.7s\n",
      "355:\tlearn: 1744.2941014\ttotal: 10.3s\tremaining: 18.7s\n",
      "356:\tlearn: 1744.0349586\ttotal: 10.4s\tremaining: 18.7s\n",
      "357:\tlearn: 1743.8517934\ttotal: 10.4s\tremaining: 18.6s\n",
      "358:\tlearn: 1743.7022430\ttotal: 10.4s\tremaining: 18.6s\n",
      "359:\tlearn: 1743.3636334\ttotal: 10.4s\tremaining: 18.6s\n",
      "360:\tlearn: 1743.1381863\ttotal: 10.5s\tremaining: 18.6s\n",
      "361:\tlearn: 1742.9026507\ttotal: 10.5s\tremaining: 18.5s\n",
      "362:\tlearn: 1742.6416858\ttotal: 10.5s\tremaining: 18.5s\n",
      "363:\tlearn: 1742.3137898\ttotal: 10.6s\tremaining: 18.4s\n",
      "364:\tlearn: 1742.0076015\ttotal: 10.6s\tremaining: 18.4s\n",
      "365:\tlearn: 1741.5668054\ttotal: 10.6s\tremaining: 18.4s\n",
      "366:\tlearn: 1741.3258716\ttotal: 10.6s\tremaining: 18.4s\n",
      "367:\tlearn: 1740.9401614\ttotal: 10.7s\tremaining: 18.3s\n",
      "368:\tlearn: 1740.5763483\ttotal: 10.7s\tremaining: 18.3s\n",
      "369:\tlearn: 1740.3584201\ttotal: 10.7s\tremaining: 18.3s\n",
      "370:\tlearn: 1740.0191395\ttotal: 10.8s\tremaining: 18.2s\n",
      "371:\tlearn: 1739.7396172\ttotal: 10.8s\tremaining: 18.2s\n",
      "372:\tlearn: 1739.6329241\ttotal: 10.8s\tremaining: 18.2s\n",
      "373:\tlearn: 1739.3091788\ttotal: 10.8s\tremaining: 18.1s\n",
      "374:\tlearn: 1738.9915444\ttotal: 10.9s\tremaining: 18.1s\n",
      "375:\tlearn: 1738.7986899\ttotal: 10.9s\tremaining: 18.1s\n",
      "376:\tlearn: 1738.4893310\ttotal: 10.9s\tremaining: 18.1s\n",
      "377:\tlearn: 1738.2941249\ttotal: 11s\tremaining: 18s\n",
      "378:\tlearn: 1737.9795285\ttotal: 11s\tremaining: 18s\n",
      "379:\tlearn: 1737.7886246\ttotal: 11s\tremaining: 18s\n",
      "380:\tlearn: 1737.5438758\ttotal: 11.1s\tremaining: 18s\n",
      "381:\tlearn: 1737.3271277\ttotal: 11.1s\tremaining: 17.9s\n",
      "382:\tlearn: 1737.0665561\ttotal: 11.1s\tremaining: 17.9s\n",
      "383:\tlearn: 1736.7825618\ttotal: 11.2s\tremaining: 17.9s\n",
      "384:\tlearn: 1736.5778118\ttotal: 11.2s\tremaining: 17.9s\n",
      "385:\tlearn: 1736.3626503\ttotal: 11.2s\tremaining: 17.8s\n",
      "386:\tlearn: 1736.1689439\ttotal: 11.2s\tremaining: 17.8s\n",
      "387:\tlearn: 1735.9733064\ttotal: 11.3s\tremaining: 17.8s\n",
      "388:\tlearn: 1735.7655063\ttotal: 11.3s\tremaining: 17.7s\n",
      "389:\tlearn: 1735.5452499\ttotal: 11.3s\tremaining: 17.7s\n",
      "390:\tlearn: 1735.4435032\ttotal: 11.3s\tremaining: 17.7s\n",
      "391:\tlearn: 1735.1709882\ttotal: 11.4s\tremaining: 17.6s\n",
      "392:\tlearn: 1734.8905756\ttotal: 11.4s\tremaining: 17.6s\n",
      "393:\tlearn: 1734.7153519\ttotal: 11.4s\tremaining: 17.6s\n",
      "394:\tlearn: 1734.5482984\ttotal: 11.5s\tremaining: 17.6s\n",
      "395:\tlearn: 1734.2773683\ttotal: 11.5s\tremaining: 17.5s\n",
      "396:\tlearn: 1734.0339547\ttotal: 11.5s\tremaining: 17.5s\n",
      "397:\tlearn: 1733.7334770\ttotal: 11.6s\tremaining: 17.5s\n",
      "398:\tlearn: 1733.6165978\ttotal: 11.6s\tremaining: 17.5s\n",
      "399:\tlearn: 1733.4355510\ttotal: 11.6s\tremaining: 17.4s\n",
      "400:\tlearn: 1733.2195958\ttotal: 11.7s\tremaining: 17.4s\n",
      "401:\tlearn: 1732.9910585\ttotal: 11.7s\tremaining: 17.4s\n",
      "402:\tlearn: 1732.6998996\ttotal: 11.7s\tremaining: 17.4s\n",
      "403:\tlearn: 1732.5161930\ttotal: 11.7s\tremaining: 17.3s\n",
      "404:\tlearn: 1732.4039272\ttotal: 11.8s\tremaining: 17.3s\n",
      "405:\tlearn: 1732.1314718\ttotal: 11.8s\tremaining: 17.3s\n",
      "406:\tlearn: 1731.8206171\ttotal: 11.8s\tremaining: 17.2s\n",
      "407:\tlearn: 1731.5837522\ttotal: 11.9s\tremaining: 17.2s\n",
      "408:\tlearn: 1731.3991370\ttotal: 11.9s\tremaining: 17.2s\n",
      "409:\tlearn: 1731.1328168\ttotal: 11.9s\tremaining: 17.1s\n",
      "410:\tlearn: 1730.8627833\ttotal: 11.9s\tremaining: 17.1s\n",
      "411:\tlearn: 1730.5340505\ttotal: 12s\tremaining: 17.1s\n",
      "412:\tlearn: 1730.1803678\ttotal: 12s\tremaining: 17.1s\n",
      "413:\tlearn: 1729.8776971\ttotal: 12s\tremaining: 17s\n",
      "414:\tlearn: 1729.6195381\ttotal: 12.1s\tremaining: 17s\n",
      "415:\tlearn: 1729.4298405\ttotal: 12.1s\tremaining: 17s\n",
      "416:\tlearn: 1729.1739420\ttotal: 12.1s\tremaining: 17s\n",
      "417:\tlearn: 1728.9305203\ttotal: 12.2s\tremaining: 16.9s\n",
      "418:\tlearn: 1728.6383850\ttotal: 12.2s\tremaining: 16.9s\n",
      "419:\tlearn: 1728.4469112\ttotal: 12.2s\tremaining: 16.9s\n",
      "420:\tlearn: 1728.2158184\ttotal: 12.3s\tremaining: 16.9s\n",
      "421:\tlearn: 1727.9335444\ttotal: 12.3s\tremaining: 16.8s\n",
      "422:\tlearn: 1727.7785383\ttotal: 12.3s\tremaining: 16.8s\n",
      "423:\tlearn: 1727.5444656\ttotal: 12.3s\tremaining: 16.8s\n",
      "424:\tlearn: 1727.2769857\ttotal: 12.4s\tremaining: 16.7s\n",
      "425:\tlearn: 1726.9813373\ttotal: 12.4s\tremaining: 16.7s\n",
      "426:\tlearn: 1726.8598744\ttotal: 12.4s\tremaining: 16.7s\n",
      "427:\tlearn: 1726.7346575\ttotal: 12.5s\tremaining: 16.6s\n",
      "428:\tlearn: 1726.5392616\ttotal: 12.5s\tremaining: 16.6s\n",
      "429:\tlearn: 1726.3817938\ttotal: 12.5s\tremaining: 16.6s\n",
      "430:\tlearn: 1726.0348019\ttotal: 12.5s\tremaining: 16.6s\n",
      "431:\tlearn: 1725.8087449\ttotal: 12.6s\tremaining: 16.5s\n",
      "432:\tlearn: 1725.6846929\ttotal: 12.6s\tremaining: 16.5s\n",
      "433:\tlearn: 1725.5206374\ttotal: 12.6s\tremaining: 16.5s\n",
      "434:\tlearn: 1725.3820979\ttotal: 12.7s\tremaining: 16.4s\n",
      "435:\tlearn: 1725.2435974\ttotal: 12.7s\tremaining: 16.4s\n",
      "436:\tlearn: 1724.9632216\ttotal: 12.7s\tremaining: 16.4s\n",
      "437:\tlearn: 1724.7165672\ttotal: 12.7s\tremaining: 16.4s\n",
      "438:\tlearn: 1724.4670403\ttotal: 12.8s\tremaining: 16.3s\n",
      "439:\tlearn: 1724.2500844\ttotal: 12.8s\tremaining: 16.3s\n",
      "440:\tlearn: 1723.9170860\ttotal: 12.8s\tremaining: 16.3s\n",
      "441:\tlearn: 1723.7376523\ttotal: 12.9s\tremaining: 16.2s\n",
      "442:\tlearn: 1723.4036373\ttotal: 12.9s\tremaining: 16.2s\n",
      "443:\tlearn: 1723.1781246\ttotal: 12.9s\tremaining: 16.2s\n",
      "444:\tlearn: 1723.0807261\ttotal: 12.9s\tremaining: 16.1s\n",
      "445:\tlearn: 1722.9437668\ttotal: 13s\tremaining: 16.1s\n",
      "446:\tlearn: 1722.4544707\ttotal: 13s\tremaining: 16.1s\n",
      "447:\tlearn: 1722.1753818\ttotal: 13s\tremaining: 16.1s\n",
      "448:\tlearn: 1721.9279510\ttotal: 13.1s\tremaining: 16s\n",
      "449:\tlearn: 1721.7780541\ttotal: 13.1s\tremaining: 16s\n",
      "450:\tlearn: 1721.4904615\ttotal: 13.1s\tremaining: 16s\n",
      "451:\tlearn: 1721.2126180\ttotal: 13.1s\tremaining: 15.9s\n",
      "452:\tlearn: 1720.9482555\ttotal: 13.2s\tremaining: 15.9s\n",
      "453:\tlearn: 1720.7418743\ttotal: 13.2s\tremaining: 15.9s\n",
      "454:\tlearn: 1720.4835756\ttotal: 13.2s\tremaining: 15.8s\n",
      "455:\tlearn: 1720.3043340\ttotal: 13.3s\tremaining: 15.8s\n",
      "456:\tlearn: 1720.0809386\ttotal: 13.3s\tremaining: 15.8s\n",
      "457:\tlearn: 1719.8472872\ttotal: 13.3s\tremaining: 15.8s\n",
      "458:\tlearn: 1719.6231741\ttotal: 13.3s\tremaining: 15.7s\n",
      "459:\tlearn: 1719.4339620\ttotal: 13.4s\tremaining: 15.7s\n",
      "460:\tlearn: 1719.1113345\ttotal: 13.4s\tremaining: 15.7s\n",
      "461:\tlearn: 1718.9216506\ttotal: 13.4s\tremaining: 15.6s\n",
      "462:\tlearn: 1718.6449253\ttotal: 13.5s\tremaining: 15.6s\n",
      "463:\tlearn: 1718.4516070\ttotal: 13.5s\tremaining: 15.6s\n",
      "464:\tlearn: 1718.2735275\ttotal: 13.5s\tremaining: 15.5s\n",
      "465:\tlearn: 1718.0934941\ttotal: 13.5s\tremaining: 15.5s\n",
      "466:\tlearn: 1717.9509938\ttotal: 13.6s\tremaining: 15.5s\n",
      "467:\tlearn: 1717.7404142\ttotal: 13.6s\tremaining: 15.5s\n",
      "468:\tlearn: 1717.5899907\ttotal: 13.6s\tremaining: 15.4s\n",
      "469:\tlearn: 1717.2656310\ttotal: 13.7s\tremaining: 15.4s\n",
      "470:\tlearn: 1717.0293722\ttotal: 13.7s\tremaining: 15.4s\n",
      "471:\tlearn: 1716.8992923\ttotal: 13.7s\tremaining: 15.3s\n",
      "472:\tlearn: 1716.7882595\ttotal: 13.7s\tremaining: 15.3s\n",
      "473:\tlearn: 1716.6295782\ttotal: 13.8s\tremaining: 15.3s\n",
      "474:\tlearn: 1716.3993161\ttotal: 13.8s\tremaining: 15.3s\n",
      "475:\tlearn: 1716.2190218\ttotal: 13.8s\tremaining: 15.2s\n",
      "476:\tlearn: 1716.0543229\ttotal: 13.9s\tremaining: 15.2s\n",
      "477:\tlearn: 1715.8827104\ttotal: 13.9s\tremaining: 15.2s\n",
      "478:\tlearn: 1715.6810915\ttotal: 13.9s\tremaining: 15.1s\n",
      "479:\tlearn: 1715.4811111\ttotal: 13.9s\tremaining: 15.1s\n",
      "480:\tlearn: 1715.2444496\ttotal: 14s\tremaining: 15.1s\n",
      "481:\tlearn: 1715.1047805\ttotal: 14s\tremaining: 15s\n",
      "482:\tlearn: 1714.9458361\ttotal: 14s\tremaining: 15s\n",
      "483:\tlearn: 1714.6442558\ttotal: 14.1s\tremaining: 15s\n",
      "484:\tlearn: 1714.4807301\ttotal: 14.1s\tremaining: 14.9s\n",
      "485:\tlearn: 1714.0284871\ttotal: 14.1s\tremaining: 14.9s\n",
      "486:\tlearn: 1713.9137887\ttotal: 14.1s\tremaining: 14.9s\n",
      "487:\tlearn: 1713.5953399\ttotal: 14.2s\tremaining: 14.9s\n",
      "488:\tlearn: 1713.4435645\ttotal: 14.2s\tremaining: 14.8s\n",
      "489:\tlearn: 1713.3278370\ttotal: 14.2s\tremaining: 14.8s\n",
      "490:\tlearn: 1713.0345379\ttotal: 14.3s\tremaining: 14.8s\n",
      "491:\tlearn: 1712.9003829\ttotal: 14.3s\tremaining: 14.7s\n",
      "492:\tlearn: 1712.5733320\ttotal: 14.3s\tremaining: 14.7s\n",
      "493:\tlearn: 1712.2626354\ttotal: 14.3s\tremaining: 14.7s\n",
      "494:\tlearn: 1712.1375486\ttotal: 14.4s\tremaining: 14.7s\n",
      "495:\tlearn: 1712.0029651\ttotal: 14.4s\tremaining: 14.6s\n",
      "496:\tlearn: 1711.8783687\ttotal: 14.4s\tremaining: 14.6s\n",
      "497:\tlearn: 1711.6887611\ttotal: 14.4s\tremaining: 14.6s\n",
      "498:\tlearn: 1711.4937066\ttotal: 14.5s\tremaining: 14.5s\n",
      "499:\tlearn: 1711.2500774\ttotal: 14.5s\tremaining: 14.5s\n",
      "500:\tlearn: 1711.0106250\ttotal: 14.5s\tremaining: 14.5s\n",
      "501:\tlearn: 1710.6622824\ttotal: 14.6s\tremaining: 14.4s\n",
      "502:\tlearn: 1710.3967019\ttotal: 14.6s\tremaining: 14.4s\n",
      "503:\tlearn: 1710.2537493\ttotal: 14.6s\tremaining: 14.4s\n",
      "504:\tlearn: 1710.0657868\ttotal: 14.7s\tremaining: 14.4s\n",
      "505:\tlearn: 1709.7803881\ttotal: 14.7s\tremaining: 14.3s\n",
      "506:\tlearn: 1709.6085689\ttotal: 14.7s\tremaining: 14.3s\n",
      "507:\tlearn: 1709.2917713\ttotal: 14.7s\tremaining: 14.3s\n",
      "508:\tlearn: 1709.1483985\ttotal: 14.8s\tremaining: 14.2s\n",
      "509:\tlearn: 1708.8921052\ttotal: 14.8s\tremaining: 14.2s\n",
      "510:\tlearn: 1708.7281057\ttotal: 14.8s\tremaining: 14.2s\n",
      "511:\tlearn: 1708.5226515\ttotal: 14.9s\tremaining: 14.2s\n",
      "512:\tlearn: 1708.3334075\ttotal: 14.9s\tremaining: 14.1s\n",
      "513:\tlearn: 1708.0701365\ttotal: 14.9s\tremaining: 14.1s\n",
      "514:\tlearn: 1707.9969639\ttotal: 14.9s\tremaining: 14.1s\n",
      "515:\tlearn: 1707.8728807\ttotal: 15s\tremaining: 14s\n",
      "516:\tlearn: 1707.7011738\ttotal: 15s\tremaining: 14s\n",
      "517:\tlearn: 1707.5569911\ttotal: 15s\tremaining: 14s\n",
      "518:\tlearn: 1707.4211051\ttotal: 15s\tremaining: 13.9s\n",
      "519:\tlearn: 1707.2573006\ttotal: 15.1s\tremaining: 13.9s\n",
      "520:\tlearn: 1706.9806542\ttotal: 15.1s\tremaining: 13.9s\n",
      "521:\tlearn: 1706.6764198\ttotal: 15.1s\tremaining: 13.9s\n",
      "522:\tlearn: 1706.4665352\ttotal: 15.2s\tremaining: 13.8s\n",
      "523:\tlearn: 1706.2040300\ttotal: 15.2s\tremaining: 13.8s\n",
      "524:\tlearn: 1706.0187729\ttotal: 15.2s\tremaining: 13.8s\n",
      "525:\tlearn: 1705.7935691\ttotal: 15.3s\tremaining: 13.7s\n",
      "526:\tlearn: 1705.6377950\ttotal: 15.3s\tremaining: 13.7s\n",
      "527:\tlearn: 1705.4742646\ttotal: 15.3s\tremaining: 13.7s\n",
      "528:\tlearn: 1705.2907309\ttotal: 15.3s\tremaining: 13.6s\n",
      "529:\tlearn: 1705.0938245\ttotal: 15.4s\tremaining: 13.6s\n",
      "530:\tlearn: 1704.8330837\ttotal: 15.4s\tremaining: 13.6s\n",
      "531:\tlearn: 1704.6816496\ttotal: 15.4s\tremaining: 13.6s\n",
      "532:\tlearn: 1704.5582979\ttotal: 15.5s\tremaining: 13.5s\n",
      "533:\tlearn: 1704.4800691\ttotal: 15.5s\tremaining: 13.5s\n",
      "534:\tlearn: 1704.2715661\ttotal: 15.5s\tremaining: 13.5s\n",
      "535:\tlearn: 1704.0043432\ttotal: 15.5s\tremaining: 13.4s\n",
      "536:\tlearn: 1703.9079548\ttotal: 15.6s\tremaining: 13.4s\n",
      "537:\tlearn: 1703.7005154\ttotal: 15.6s\tremaining: 13.4s\n",
      "538:\tlearn: 1703.5137220\ttotal: 15.6s\tremaining: 13.4s\n",
      "539:\tlearn: 1703.2519848\ttotal: 15.7s\tremaining: 13.3s\n",
      "540:\tlearn: 1702.9926342\ttotal: 15.7s\tremaining: 13.3s\n",
      "541:\tlearn: 1702.8273283\ttotal: 15.7s\tremaining: 13.3s\n",
      "542:\tlearn: 1702.6653077\ttotal: 15.7s\tremaining: 13.2s\n",
      "543:\tlearn: 1702.4734346\ttotal: 15.8s\tremaining: 13.2s\n",
      "544:\tlearn: 1702.2042526\ttotal: 15.8s\tremaining: 13.2s\n",
      "545:\tlearn: 1701.9865799\ttotal: 15.8s\tremaining: 13.2s\n",
      "546:\tlearn: 1701.8604844\ttotal: 15.9s\tremaining: 13.1s\n",
      "547:\tlearn: 1701.5597698\ttotal: 15.9s\tremaining: 13.1s\n",
      "548:\tlearn: 1701.3083877\ttotal: 15.9s\tremaining: 13.1s\n",
      "549:\tlearn: 1701.1930557\ttotal: 15.9s\tremaining: 13s\n",
      "550:\tlearn: 1701.0015065\ttotal: 16s\tremaining: 13s\n",
      "551:\tlearn: 1700.7992349\ttotal: 16s\tremaining: 13s\n",
      "552:\tlearn: 1700.5855194\ttotal: 16s\tremaining: 13s\n",
      "553:\tlearn: 1700.3806090\ttotal: 16.1s\tremaining: 12.9s\n",
      "554:\tlearn: 1700.1798941\ttotal: 16.1s\tremaining: 12.9s\n",
      "555:\tlearn: 1699.9670715\ttotal: 16.1s\tremaining: 12.9s\n",
      "556:\tlearn: 1699.7511425\ttotal: 16.1s\tremaining: 12.8s\n",
      "557:\tlearn: 1699.4064817\ttotal: 16.2s\tremaining: 12.8s\n",
      "558:\tlearn: 1699.1381388\ttotal: 16.2s\tremaining: 12.8s\n",
      "559:\tlearn: 1699.0094828\ttotal: 16.2s\tremaining: 12.8s\n",
      "560:\tlearn: 1698.7925045\ttotal: 16.3s\tremaining: 12.7s\n",
      "561:\tlearn: 1698.5678056\ttotal: 16.3s\tremaining: 12.7s\n",
      "562:\tlearn: 1698.3937034\ttotal: 16.3s\tremaining: 12.7s\n",
      "563:\tlearn: 1698.1925711\ttotal: 16.4s\tremaining: 12.6s\n",
      "564:\tlearn: 1698.1145474\ttotal: 16.4s\tremaining: 12.6s\n",
      "565:\tlearn: 1697.9519039\ttotal: 16.4s\tremaining: 12.6s\n",
      "566:\tlearn: 1697.8247139\ttotal: 16.4s\tremaining: 12.6s\n",
      "567:\tlearn: 1697.5858935\ttotal: 16.5s\tremaining: 12.5s\n",
      "568:\tlearn: 1697.3396739\ttotal: 16.5s\tremaining: 12.5s\n",
      "569:\tlearn: 1697.1720167\ttotal: 16.5s\tremaining: 12.5s\n",
      "570:\tlearn: 1697.0033719\ttotal: 16.6s\tremaining: 12.4s\n",
      "571:\tlearn: 1696.8005481\ttotal: 16.6s\tremaining: 12.4s\n",
      "572:\tlearn: 1696.6541201\ttotal: 16.6s\tremaining: 12.4s\n",
      "573:\tlearn: 1696.5818148\ttotal: 16.6s\tremaining: 12.3s\n",
      "574:\tlearn: 1696.3754714\ttotal: 16.7s\tremaining: 12.3s\n",
      "575:\tlearn: 1696.3000425\ttotal: 16.7s\tremaining: 12.3s\n",
      "576:\tlearn: 1696.2020097\ttotal: 16.7s\tremaining: 12.3s\n",
      "577:\tlearn: 1696.0019590\ttotal: 16.7s\tremaining: 12.2s\n",
      "578:\tlearn: 1695.8180916\ttotal: 16.8s\tremaining: 12.2s\n",
      "579:\tlearn: 1695.7177021\ttotal: 16.8s\tremaining: 12.2s\n",
      "580:\tlearn: 1695.4794168\ttotal: 16.8s\tremaining: 12.1s\n",
      "581:\tlearn: 1695.3164338\ttotal: 16.9s\tremaining: 12.1s\n",
      "582:\tlearn: 1695.1899425\ttotal: 16.9s\tremaining: 12.1s\n",
      "583:\tlearn: 1695.0896771\ttotal: 16.9s\tremaining: 12.1s\n",
      "584:\tlearn: 1694.9246077\ttotal: 16.9s\tremaining: 12s\n",
      "585:\tlearn: 1694.7634986\ttotal: 17s\tremaining: 12s\n",
      "586:\tlearn: 1694.6179629\ttotal: 17s\tremaining: 12s\n",
      "587:\tlearn: 1694.4259391\ttotal: 17s\tremaining: 11.9s\n",
      "588:\tlearn: 1694.2371809\ttotal: 17.1s\tremaining: 11.9s\n",
      "589:\tlearn: 1694.0692386\ttotal: 17.1s\tremaining: 11.9s\n",
      "590:\tlearn: 1693.9757323\ttotal: 17.1s\tremaining: 11.8s\n",
      "591:\tlearn: 1693.8130888\ttotal: 17.1s\tremaining: 11.8s\n",
      "592:\tlearn: 1693.6191992\ttotal: 17.2s\tremaining: 11.8s\n",
      "593:\tlearn: 1693.2655907\ttotal: 17.2s\tremaining: 11.8s\n",
      "594:\tlearn: 1692.9366062\ttotal: 17.2s\tremaining: 11.7s\n",
      "595:\tlearn: 1692.7794646\ttotal: 17.3s\tremaining: 11.7s\n",
      "596:\tlearn: 1692.6158411\ttotal: 17.3s\tremaining: 11.7s\n",
      "597:\tlearn: 1692.4724049\ttotal: 17.3s\tremaining: 11.6s\n",
      "598:\tlearn: 1692.3002893\ttotal: 17.4s\tremaining: 11.6s\n",
      "599:\tlearn: 1692.1372872\ttotal: 17.4s\tremaining: 11.6s\n",
      "600:\tlearn: 1692.0256380\ttotal: 17.4s\tremaining: 11.6s\n",
      "601:\tlearn: 1691.8746400\ttotal: 17.4s\tremaining: 11.5s\n",
      "602:\tlearn: 1691.7756650\ttotal: 17.5s\tremaining: 11.5s\n",
      "603:\tlearn: 1691.4399085\ttotal: 17.5s\tremaining: 11.5s\n",
      "604:\tlearn: 1691.2439539\ttotal: 17.5s\tremaining: 11.4s\n",
      "605:\tlearn: 1691.0219009\ttotal: 17.6s\tremaining: 11.4s\n",
      "606:\tlearn: 1690.9145686\ttotal: 17.6s\tremaining: 11.4s\n",
      "607:\tlearn: 1690.6484252\ttotal: 17.6s\tremaining: 11.4s\n",
      "608:\tlearn: 1690.3131511\ttotal: 17.7s\tremaining: 11.3s\n",
      "609:\tlearn: 1690.1579202\ttotal: 17.7s\tremaining: 11.3s\n",
      "610:\tlearn: 1690.0204808\ttotal: 17.7s\tremaining: 11.3s\n",
      "611:\tlearn: 1689.8857567\ttotal: 17.7s\tremaining: 11.2s\n",
      "612:\tlearn: 1689.6444494\ttotal: 17.8s\tremaining: 11.2s\n",
      "613:\tlearn: 1689.5624202\ttotal: 17.8s\tremaining: 11.2s\n",
      "614:\tlearn: 1689.4156172\ttotal: 17.8s\tremaining: 11.2s\n",
      "615:\tlearn: 1689.2260816\ttotal: 17.9s\tremaining: 11.1s\n",
      "616:\tlearn: 1689.1589531\ttotal: 17.9s\tremaining: 11.1s\n",
      "617:\tlearn: 1688.9118089\ttotal: 17.9s\tremaining: 11.1s\n",
      "618:\tlearn: 1688.8320749\ttotal: 17.9s\tremaining: 11s\n",
      "619:\tlearn: 1688.7433289\ttotal: 18s\tremaining: 11s\n",
      "620:\tlearn: 1688.6580625\ttotal: 18s\tremaining: 11s\n",
      "621:\tlearn: 1688.4420783\ttotal: 18s\tremaining: 10.9s\n",
      "622:\tlearn: 1688.2603251\ttotal: 18.1s\tremaining: 10.9s\n",
      "623:\tlearn: 1688.0310150\ttotal: 18.1s\tremaining: 10.9s\n",
      "624:\tlearn: 1687.9591354\ttotal: 18.1s\tremaining: 10.9s\n",
      "625:\tlearn: 1687.6776050\ttotal: 18.1s\tremaining: 10.8s\n",
      "626:\tlearn: 1687.5873123\ttotal: 18.2s\tremaining: 10.8s\n",
      "627:\tlearn: 1687.4408763\ttotal: 18.2s\tremaining: 10.8s\n",
      "628:\tlearn: 1687.3139996\ttotal: 18.2s\tremaining: 10.7s\n",
      "629:\tlearn: 1687.1914045\ttotal: 18.3s\tremaining: 10.7s\n",
      "630:\tlearn: 1687.0315190\ttotal: 18.3s\tremaining: 10.7s\n",
      "631:\tlearn: 1686.9108952\ttotal: 18.3s\tremaining: 10.7s\n",
      "632:\tlearn: 1686.8037896\ttotal: 18.3s\tremaining: 10.6s\n",
      "633:\tlearn: 1686.5412798\ttotal: 18.4s\tremaining: 10.6s\n",
      "634:\tlearn: 1686.4454363\ttotal: 18.4s\tremaining: 10.6s\n",
      "635:\tlearn: 1686.2951521\ttotal: 18.4s\tremaining: 10.6s\n",
      "636:\tlearn: 1686.0414855\ttotal: 18.5s\tremaining: 10.5s\n",
      "637:\tlearn: 1685.9143298\ttotal: 18.5s\tremaining: 10.5s\n",
      "638:\tlearn: 1685.7450530\ttotal: 18.5s\tremaining: 10.5s\n",
      "639:\tlearn: 1685.5805690\ttotal: 18.6s\tremaining: 10.4s\n",
      "640:\tlearn: 1685.4675049\ttotal: 18.6s\tremaining: 10.4s\n",
      "641:\tlearn: 1685.2484957\ttotal: 18.6s\tremaining: 10.4s\n",
      "642:\tlearn: 1685.0274568\ttotal: 18.7s\tremaining: 10.4s\n",
      "643:\tlearn: 1684.9189012\ttotal: 18.7s\tremaining: 10.3s\n",
      "644:\tlearn: 1684.7879960\ttotal: 18.7s\tremaining: 10.3s\n",
      "645:\tlearn: 1684.5981096\ttotal: 18.8s\tremaining: 10.3s\n",
      "646:\tlearn: 1684.4790667\ttotal: 18.8s\tremaining: 10.2s\n",
      "647:\tlearn: 1684.3821611\ttotal: 18.8s\tremaining: 10.2s\n",
      "648:\tlearn: 1684.2330485\ttotal: 18.8s\tremaining: 10.2s\n",
      "649:\tlearn: 1684.1533294\ttotal: 18.9s\tremaining: 10.2s\n",
      "650:\tlearn: 1684.0391716\ttotal: 18.9s\tremaining: 10.1s\n",
      "651:\tlearn: 1683.9076379\ttotal: 18.9s\tremaining: 10.1s\n",
      "652:\tlearn: 1683.7766493\ttotal: 19s\tremaining: 10.1s\n",
      "653:\tlearn: 1683.7201671\ttotal: 19s\tremaining: 10s\n",
      "654:\tlearn: 1683.5800809\ttotal: 19s\tremaining: 10s\n",
      "655:\tlearn: 1683.3888538\ttotal: 19s\tremaining: 9.99s\n",
      "656:\tlearn: 1683.2583378\ttotal: 19.1s\tremaining: 9.96s\n",
      "657:\tlearn: 1683.2229123\ttotal: 19.1s\tremaining: 9.93s\n",
      "658:\tlearn: 1683.0169045\ttotal: 19.1s\tremaining: 9.9s\n",
      "659:\tlearn: 1682.8291523\ttotal: 19.2s\tremaining: 9.87s\n",
      "660:\tlearn: 1682.6705302\ttotal: 19.2s\tremaining: 9.85s\n",
      "661:\tlearn: 1682.5221901\ttotal: 19.2s\tremaining: 9.81s\n",
      "662:\tlearn: 1682.2991305\ttotal: 19.2s\tremaining: 9.78s\n",
      "663:\tlearn: 1682.1167998\ttotal: 19.3s\tremaining: 9.76s\n",
      "664:\tlearn: 1681.8474062\ttotal: 19.3s\tremaining: 9.73s\n",
      "665:\tlearn: 1681.7176894\ttotal: 19.3s\tremaining: 9.7s\n",
      "666:\tlearn: 1681.5881109\ttotal: 19.4s\tremaining: 9.66s\n",
      "667:\tlearn: 1681.4356576\ttotal: 19.4s\tremaining: 9.64s\n",
      "668:\tlearn: 1681.3358104\ttotal: 19.4s\tremaining: 9.61s\n",
      "669:\tlearn: 1681.1179703\ttotal: 19.4s\tremaining: 9.58s\n",
      "670:\tlearn: 1681.0324453\ttotal: 19.5s\tremaining: 9.55s\n",
      "671:\tlearn: 1680.9086651\ttotal: 19.5s\tremaining: 9.52s\n",
      "672:\tlearn: 1680.7300019\ttotal: 19.5s\tremaining: 9.49s\n",
      "673:\tlearn: 1680.5868102\ttotal: 19.6s\tremaining: 9.46s\n",
      "674:\tlearn: 1680.3812620\ttotal: 19.6s\tremaining: 9.43s\n",
      "675:\tlearn: 1680.2664712\ttotal: 19.6s\tremaining: 9.4s\n",
      "676:\tlearn: 1680.1012385\ttotal: 19.6s\tremaining: 9.37s\n",
      "677:\tlearn: 1679.9858134\ttotal: 19.7s\tremaining: 9.34s\n",
      "678:\tlearn: 1679.8315992\ttotal: 19.7s\tremaining: 9.31s\n",
      "679:\tlearn: 1679.5689406\ttotal: 19.7s\tremaining: 9.28s\n",
      "680:\tlearn: 1679.4530340\ttotal: 19.7s\tremaining: 9.25s\n",
      "681:\tlearn: 1679.3040812\ttotal: 19.8s\tremaining: 9.22s\n",
      "682:\tlearn: 1679.0986971\ttotal: 19.8s\tremaining: 9.19s\n",
      "683:\tlearn: 1678.9035850\ttotal: 19.8s\tremaining: 9.16s\n",
      "684:\tlearn: 1678.6862356\ttotal: 19.9s\tremaining: 9.13s\n",
      "685:\tlearn: 1678.5839143\ttotal: 19.9s\tremaining: 9.1s\n",
      "686:\tlearn: 1678.3733202\ttotal: 19.9s\tremaining: 9.07s\n",
      "687:\tlearn: 1678.1995130\ttotal: 19.9s\tremaining: 9.04s\n",
      "688:\tlearn: 1678.0689777\ttotal: 20s\tremaining: 9.01s\n",
      "689:\tlearn: 1677.9066625\ttotal: 20s\tremaining: 8.98s\n",
      "690:\tlearn: 1677.8512997\ttotal: 20s\tremaining: 8.95s\n",
      "691:\tlearn: 1677.6670885\ttotal: 20s\tremaining: 8.92s\n",
      "692:\tlearn: 1677.4732526\ttotal: 20.1s\tremaining: 8.9s\n",
      "693:\tlearn: 1677.3645319\ttotal: 20.1s\tremaining: 8.86s\n",
      "694:\tlearn: 1677.1916012\ttotal: 20.1s\tremaining: 8.83s\n",
      "695:\tlearn: 1677.0773492\ttotal: 20.2s\tremaining: 8.8s\n",
      "696:\tlearn: 1676.9287784\ttotal: 20.2s\tremaining: 8.78s\n",
      "697:\tlearn: 1676.7781923\ttotal: 20.2s\tremaining: 8.74s\n",
      "698:\tlearn: 1676.6902779\ttotal: 20.2s\tremaining: 8.71s\n",
      "699:\tlearn: 1676.4836240\ttotal: 20.3s\tremaining: 8.69s\n",
      "700:\tlearn: 1676.2995831\ttotal: 20.3s\tremaining: 8.66s\n",
      "701:\tlearn: 1676.0988945\ttotal: 20.3s\tremaining: 8.63s\n",
      "702:\tlearn: 1676.0187427\ttotal: 20.4s\tremaining: 8.6s\n",
      "703:\tlearn: 1675.8175145\ttotal: 20.4s\tremaining: 8.57s\n",
      "704:\tlearn: 1675.6694229\ttotal: 20.4s\tremaining: 8.54s\n",
      "705:\tlearn: 1675.5081644\ttotal: 20.4s\tremaining: 8.51s\n",
      "706:\tlearn: 1675.3859556\ttotal: 20.5s\tremaining: 8.48s\n",
      "707:\tlearn: 1675.1959602\ttotal: 20.5s\tremaining: 8.45s\n",
      "708:\tlearn: 1675.0582819\ttotal: 20.5s\tremaining: 8.42s\n",
      "709:\tlearn: 1674.8635034\ttotal: 20.5s\tremaining: 8.39s\n",
      "710:\tlearn: 1674.7649809\ttotal: 20.6s\tremaining: 8.36s\n",
      "711:\tlearn: 1674.5611209\ttotal: 20.6s\tremaining: 8.33s\n",
      "712:\tlearn: 1674.3526369\ttotal: 20.6s\tremaining: 8.3s\n",
      "713:\tlearn: 1674.2017076\ttotal: 20.7s\tremaining: 8.28s\n",
      "714:\tlearn: 1674.0751615\ttotal: 20.7s\tremaining: 8.24s\n",
      "715:\tlearn: 1674.0040425\ttotal: 20.7s\tremaining: 8.21s\n",
      "716:\tlearn: 1673.8726861\ttotal: 20.7s\tremaining: 8.19s\n",
      "717:\tlearn: 1673.7856527\ttotal: 20.8s\tremaining: 8.16s\n",
      "718:\tlearn: 1673.6861518\ttotal: 20.8s\tremaining: 8.13s\n",
      "719:\tlearn: 1673.5070964\ttotal: 20.8s\tremaining: 8.1s\n",
      "720:\tlearn: 1673.3317298\ttotal: 20.9s\tremaining: 8.07s\n",
      "721:\tlearn: 1673.0872549\ttotal: 20.9s\tremaining: 8.04s\n",
      "722:\tlearn: 1672.8934869\ttotal: 20.9s\tremaining: 8.01s\n",
      "723:\tlearn: 1672.7676725\ttotal: 20.9s\tremaining: 7.98s\n",
      "724:\tlearn: 1672.6224146\ttotal: 21s\tremaining: 7.95s\n",
      "725:\tlearn: 1672.5349812\ttotal: 21s\tremaining: 7.92s\n",
      "726:\tlearn: 1672.3601479\ttotal: 21s\tremaining: 7.89s\n",
      "727:\tlearn: 1672.2204424\ttotal: 21.1s\tremaining: 7.86s\n",
      "728:\tlearn: 1672.0913483\ttotal: 21.1s\tremaining: 7.83s\n",
      "729:\tlearn: 1671.9234616\ttotal: 21.1s\tremaining: 7.8s\n",
      "730:\tlearn: 1671.7930279\ttotal: 21.1s\tremaining: 7.78s\n",
      "731:\tlearn: 1671.6154734\ttotal: 21.2s\tremaining: 7.75s\n",
      "732:\tlearn: 1671.4691018\ttotal: 21.2s\tremaining: 7.72s\n",
      "733:\tlearn: 1671.3662726\ttotal: 21.2s\tremaining: 7.69s\n",
      "734:\tlearn: 1671.2150508\ttotal: 21.2s\tremaining: 7.66s\n",
      "735:\tlearn: 1671.1002763\ttotal: 21.3s\tremaining: 7.63s\n",
      "736:\tlearn: 1670.8448925\ttotal: 21.3s\tremaining: 7.6s\n",
      "737:\tlearn: 1670.6583812\ttotal: 21.3s\tremaining: 7.57s\n",
      "738:\tlearn: 1670.5701926\ttotal: 21.4s\tremaining: 7.54s\n",
      "739:\tlearn: 1670.4800599\ttotal: 21.4s\tremaining: 7.51s\n",
      "740:\tlearn: 1670.3295738\ttotal: 21.4s\tremaining: 7.48s\n",
      "741:\tlearn: 1670.2280426\ttotal: 21.4s\tremaining: 7.46s\n",
      "742:\tlearn: 1670.0964092\ttotal: 21.5s\tremaining: 7.42s\n",
      "743:\tlearn: 1669.8474310\ttotal: 21.5s\tremaining: 7.4s\n",
      "744:\tlearn: 1669.7142909\ttotal: 21.5s\tremaining: 7.37s\n",
      "745:\tlearn: 1669.5630984\ttotal: 21.6s\tremaining: 7.34s\n",
      "746:\tlearn: 1669.4164866\ttotal: 21.6s\tremaining: 7.31s\n",
      "747:\tlearn: 1669.2865245\ttotal: 21.6s\tremaining: 7.28s\n",
      "748:\tlearn: 1669.1752961\ttotal: 21.6s\tremaining: 7.25s\n",
      "749:\tlearn: 1669.0615318\ttotal: 21.7s\tremaining: 7.22s\n",
      "750:\tlearn: 1668.9497851\ttotal: 21.7s\tremaining: 7.2s\n",
      "751:\tlearn: 1668.8257854\ttotal: 21.7s\tremaining: 7.17s\n",
      "752:\tlearn: 1668.7195730\ttotal: 21.8s\tremaining: 7.14s\n",
      "753:\tlearn: 1668.5707645\ttotal: 21.8s\tremaining: 7.11s\n",
      "754:\tlearn: 1668.4641886\ttotal: 21.8s\tremaining: 7.08s\n",
      "755:\tlearn: 1668.3445392\ttotal: 21.8s\tremaining: 7.05s\n",
      "756:\tlearn: 1668.1272034\ttotal: 21.9s\tremaining: 7.02s\n",
      "757:\tlearn: 1667.9582165\ttotal: 21.9s\tremaining: 6.99s\n",
      "758:\tlearn: 1667.7877307\ttotal: 21.9s\tremaining: 6.96s\n",
      "759:\tlearn: 1667.6778062\ttotal: 22s\tremaining: 6.93s\n",
      "760:\tlearn: 1667.5350408\ttotal: 22s\tremaining: 6.91s\n",
      "761:\tlearn: 1667.4527593\ttotal: 22s\tremaining: 6.88s\n",
      "762:\tlearn: 1667.3570469\ttotal: 22s\tremaining: 6.85s\n",
      "763:\tlearn: 1667.1210374\ttotal: 22.1s\tremaining: 6.82s\n",
      "764:\tlearn: 1667.0292105\ttotal: 22.1s\tremaining: 6.79s\n",
      "765:\tlearn: 1666.9051585\ttotal: 22.1s\tremaining: 6.76s\n",
      "766:\tlearn: 1666.8039778\ttotal: 22.2s\tremaining: 6.73s\n",
      "767:\tlearn: 1666.6727736\ttotal: 22.2s\tremaining: 6.7s\n",
      "768:\tlearn: 1666.4808442\ttotal: 22.2s\tremaining: 6.67s\n",
      "769:\tlearn: 1666.3561079\ttotal: 22.2s\tremaining: 6.64s\n",
      "770:\tlearn: 1666.2341394\ttotal: 22.3s\tremaining: 6.61s\n",
      "771:\tlearn: 1666.0896086\ttotal: 22.3s\tremaining: 6.59s\n",
      "772:\tlearn: 1665.9620108\ttotal: 22.3s\tremaining: 6.56s\n",
      "773:\tlearn: 1665.8675275\ttotal: 22.4s\tremaining: 6.53s\n",
      "774:\tlearn: 1665.7587699\ttotal: 22.4s\tremaining: 6.5s\n",
      "775:\tlearn: 1665.6476485\ttotal: 22.4s\tremaining: 6.47s\n",
      "776:\tlearn: 1665.5291410\ttotal: 22.5s\tremaining: 6.44s\n",
      "777:\tlearn: 1665.4501318\ttotal: 22.5s\tremaining: 6.41s\n",
      "778:\tlearn: 1665.3761515\ttotal: 22.5s\tremaining: 6.38s\n",
      "779:\tlearn: 1665.1300343\ttotal: 22.5s\tremaining: 6.35s\n",
      "780:\tlearn: 1665.0619605\ttotal: 22.6s\tremaining: 6.32s\n",
      "781:\tlearn: 1664.9496679\ttotal: 22.6s\tremaining: 6.29s\n",
      "782:\tlearn: 1664.8428700\ttotal: 22.6s\tremaining: 6.27s\n",
      "783:\tlearn: 1664.7491260\ttotal: 22.6s\tremaining: 6.24s\n",
      "784:\tlearn: 1664.6830851\ttotal: 22.7s\tremaining: 6.21s\n",
      "785:\tlearn: 1664.5236514\ttotal: 22.7s\tremaining: 6.18s\n",
      "786:\tlearn: 1664.3916344\ttotal: 22.7s\tremaining: 6.15s\n",
      "787:\tlearn: 1664.2107439\ttotal: 22.7s\tremaining: 6.12s\n",
      "788:\tlearn: 1664.1254361\ttotal: 22.8s\tremaining: 6.09s\n",
      "789:\tlearn: 1663.9937272\ttotal: 22.8s\tremaining: 6.06s\n",
      "790:\tlearn: 1663.8209254\ttotal: 22.8s\tremaining: 6.03s\n",
      "791:\tlearn: 1663.6816721\ttotal: 22.9s\tremaining: 6s\n",
      "792:\tlearn: 1663.5673292\ttotal: 22.9s\tremaining: 5.97s\n",
      "793:\tlearn: 1663.5085174\ttotal: 22.9s\tremaining: 5.94s\n",
      "794:\tlearn: 1663.3827289\ttotal: 22.9s\tremaining: 5.92s\n",
      "795:\tlearn: 1663.2421003\ttotal: 23s\tremaining: 5.89s\n",
      "796:\tlearn: 1663.0792440\ttotal: 23s\tremaining: 5.86s\n",
      "797:\tlearn: 1662.9455287\ttotal: 23s\tremaining: 5.83s\n",
      "798:\tlearn: 1662.7913864\ttotal: 23.1s\tremaining: 5.8s\n",
      "799:\tlearn: 1662.6788038\ttotal: 23.1s\tremaining: 5.77s\n",
      "800:\tlearn: 1662.5607705\ttotal: 23.1s\tremaining: 5.74s\n",
      "801:\tlearn: 1662.4001225\ttotal: 23.1s\tremaining: 5.71s\n",
      "802:\tlearn: 1662.2822540\ttotal: 23.2s\tremaining: 5.68s\n",
      "803:\tlearn: 1662.1258718\ttotal: 23.2s\tremaining: 5.65s\n",
      "804:\tlearn: 1661.9932272\ttotal: 23.2s\tremaining: 5.62s\n",
      "805:\tlearn: 1661.9243198\ttotal: 23.3s\tremaining: 5.6s\n",
      "806:\tlearn: 1661.7848443\ttotal: 23.3s\tremaining: 5.57s\n",
      "807:\tlearn: 1661.6503176\ttotal: 23.3s\tremaining: 5.54s\n",
      "808:\tlearn: 1661.5898107\ttotal: 23.3s\tremaining: 5.51s\n",
      "809:\tlearn: 1661.5330276\ttotal: 23.4s\tremaining: 5.48s\n",
      "810:\tlearn: 1661.4483516\ttotal: 23.4s\tremaining: 5.45s\n",
      "811:\tlearn: 1661.2739080\ttotal: 23.4s\tremaining: 5.42s\n",
      "812:\tlearn: 1661.2190711\ttotal: 23.4s\tremaining: 5.39s\n",
      "813:\tlearn: 1661.1377256\ttotal: 23.5s\tremaining: 5.36s\n",
      "814:\tlearn: 1661.0237122\ttotal: 23.5s\tremaining: 5.33s\n",
      "815:\tlearn: 1660.8871389\ttotal: 23.5s\tremaining: 5.3s\n",
      "816:\tlearn: 1660.6833198\ttotal: 23.6s\tremaining: 5.28s\n",
      "817:\tlearn: 1660.5878167\ttotal: 23.6s\tremaining: 5.25s\n",
      "818:\tlearn: 1660.3726520\ttotal: 23.6s\tremaining: 5.22s\n",
      "819:\tlearn: 1660.3071654\ttotal: 23.6s\tremaining: 5.19s\n",
      "820:\tlearn: 1660.2001347\ttotal: 23.7s\tremaining: 5.16s\n",
      "821:\tlearn: 1660.0809523\ttotal: 23.7s\tremaining: 5.13s\n",
      "822:\tlearn: 1659.9498793\ttotal: 23.7s\tremaining: 5.11s\n",
      "823:\tlearn: 1659.8118476\ttotal: 23.8s\tremaining: 5.08s\n",
      "824:\tlearn: 1659.6328859\ttotal: 23.8s\tremaining: 5.05s\n",
      "825:\tlearn: 1659.4716252\ttotal: 23.8s\tremaining: 5.02s\n",
      "826:\tlearn: 1659.3017389\ttotal: 23.9s\tremaining: 4.99s\n",
      "827:\tlearn: 1659.0573124\ttotal: 23.9s\tremaining: 4.96s\n",
      "828:\tlearn: 1658.9463223\ttotal: 23.9s\tremaining: 4.93s\n",
      "829:\tlearn: 1658.8366046\ttotal: 24s\tremaining: 4.91s\n",
      "830:\tlearn: 1658.7604503\ttotal: 24s\tremaining: 4.88s\n",
      "831:\tlearn: 1658.6496855\ttotal: 24s\tremaining: 4.85s\n",
      "832:\tlearn: 1658.5220822\ttotal: 24s\tremaining: 4.82s\n",
      "833:\tlearn: 1658.3623051\ttotal: 24.1s\tremaining: 4.79s\n",
      "834:\tlearn: 1658.2442258\ttotal: 24.1s\tremaining: 4.76s\n",
      "835:\tlearn: 1658.1196974\ttotal: 24.1s\tremaining: 4.73s\n",
      "836:\tlearn: 1657.9922985\ttotal: 24.1s\tremaining: 4.7s\n",
      "837:\tlearn: 1657.8366839\ttotal: 24.2s\tremaining: 4.67s\n",
      "838:\tlearn: 1657.7242300\ttotal: 24.2s\tremaining: 4.64s\n",
      "839:\tlearn: 1657.6628246\ttotal: 24.2s\tremaining: 4.61s\n",
      "840:\tlearn: 1657.5905210\ttotal: 24.3s\tremaining: 4.58s\n",
      "841:\tlearn: 1657.5480274\ttotal: 24.3s\tremaining: 4.55s\n",
      "842:\tlearn: 1657.3715236\ttotal: 24.3s\tremaining: 4.53s\n",
      "843:\tlearn: 1657.2321130\ttotal: 24.3s\tremaining: 4.5s\n",
      "844:\tlearn: 1657.1296136\ttotal: 24.4s\tremaining: 4.47s\n",
      "845:\tlearn: 1657.0549657\ttotal: 24.4s\tremaining: 4.44s\n",
      "846:\tlearn: 1657.0167465\ttotal: 24.4s\tremaining: 4.41s\n",
      "847:\tlearn: 1656.9106329\ttotal: 24.4s\tremaining: 4.38s\n",
      "848:\tlearn: 1656.7895851\ttotal: 24.5s\tremaining: 4.35s\n",
      "849:\tlearn: 1656.6744955\ttotal: 24.5s\tremaining: 4.32s\n",
      "850:\tlearn: 1656.5888923\ttotal: 24.5s\tremaining: 4.29s\n",
      "851:\tlearn: 1656.4708069\ttotal: 24.6s\tremaining: 4.26s\n",
      "852:\tlearn: 1656.4000303\ttotal: 24.6s\tremaining: 4.24s\n",
      "853:\tlearn: 1656.1768470\ttotal: 24.6s\tremaining: 4.21s\n",
      "854:\tlearn: 1656.0725921\ttotal: 24.6s\tremaining: 4.18s\n",
      "855:\tlearn: 1655.9833523\ttotal: 24.7s\tremaining: 4.15s\n",
      "856:\tlearn: 1655.8487313\ttotal: 24.7s\tremaining: 4.12s\n",
      "857:\tlearn: 1655.7368577\ttotal: 24.7s\tremaining: 4.09s\n",
      "858:\tlearn: 1655.6495851\ttotal: 24.7s\tremaining: 4.06s\n",
      "859:\tlearn: 1655.5878920\ttotal: 24.8s\tremaining: 4.03s\n",
      "860:\tlearn: 1655.4179533\ttotal: 24.8s\tremaining: 4s\n",
      "861:\tlearn: 1655.3617645\ttotal: 24.8s\tremaining: 3.97s\n",
      "862:\tlearn: 1655.2468889\ttotal: 24.9s\tremaining: 3.94s\n",
      "863:\tlearn: 1655.1083255\ttotal: 24.9s\tremaining: 3.92s\n",
      "864:\tlearn: 1655.0595047\ttotal: 24.9s\tremaining: 3.89s\n",
      "865:\tlearn: 1654.9295046\ttotal: 24.9s\tremaining: 3.86s\n",
      "866:\tlearn: 1654.8844405\ttotal: 25s\tremaining: 3.83s\n",
      "867:\tlearn: 1654.8152827\ttotal: 25s\tremaining: 3.8s\n",
      "868:\tlearn: 1654.6478396\ttotal: 25s\tremaining: 3.77s\n",
      "869:\tlearn: 1654.5005613\ttotal: 25s\tremaining: 3.74s\n",
      "870:\tlearn: 1654.3654531\ttotal: 25.1s\tremaining: 3.71s\n",
      "871:\tlearn: 1654.2922958\ttotal: 25.1s\tremaining: 3.68s\n",
      "872:\tlearn: 1654.1981775\ttotal: 25.1s\tremaining: 3.65s\n",
      "873:\tlearn: 1654.0876011\ttotal: 25.2s\tremaining: 3.63s\n",
      "874:\tlearn: 1653.9845085\ttotal: 25.2s\tremaining: 3.6s\n",
      "875:\tlearn: 1653.8938821\ttotal: 25.2s\tremaining: 3.57s\n",
      "876:\tlearn: 1653.7808033\ttotal: 25.2s\tremaining: 3.54s\n",
      "877:\tlearn: 1653.7065966\ttotal: 25.3s\tremaining: 3.51s\n",
      "878:\tlearn: 1653.4625831\ttotal: 25.3s\tremaining: 3.48s\n",
      "879:\tlearn: 1653.3633960\ttotal: 25.3s\tremaining: 3.45s\n",
      "880:\tlearn: 1653.1822885\ttotal: 25.4s\tremaining: 3.42s\n",
      "881:\tlearn: 1652.9490708\ttotal: 25.4s\tremaining: 3.4s\n",
      "882:\tlearn: 1652.7863577\ttotal: 25.4s\tremaining: 3.37s\n",
      "883:\tlearn: 1652.6681490\ttotal: 25.4s\tremaining: 3.34s\n",
      "884:\tlearn: 1652.5087044\ttotal: 25.5s\tremaining: 3.31s\n",
      "885:\tlearn: 1652.2956893\ttotal: 25.5s\tremaining: 3.28s\n",
      "886:\tlearn: 1652.1354590\ttotal: 25.5s\tremaining: 3.25s\n",
      "887:\tlearn: 1652.0320247\ttotal: 25.6s\tremaining: 3.22s\n",
      "888:\tlearn: 1651.9443978\ttotal: 25.6s\tremaining: 3.19s\n",
      "889:\tlearn: 1651.8774312\ttotal: 25.6s\tremaining: 3.17s\n",
      "890:\tlearn: 1651.7946304\ttotal: 25.6s\tremaining: 3.14s\n",
      "891:\tlearn: 1651.7379241\ttotal: 25.7s\tremaining: 3.11s\n",
      "892:\tlearn: 1651.6381041\ttotal: 25.7s\tremaining: 3.08s\n",
      "893:\tlearn: 1651.5543011\ttotal: 25.7s\tremaining: 3.05s\n",
      "894:\tlearn: 1651.4082380\ttotal: 25.7s\tremaining: 3.02s\n",
      "895:\tlearn: 1651.3018491\ttotal: 25.8s\tremaining: 2.99s\n",
      "896:\tlearn: 1651.2184181\ttotal: 25.8s\tremaining: 2.96s\n",
      "897:\tlearn: 1651.0670820\ttotal: 25.8s\tremaining: 2.93s\n",
      "898:\tlearn: 1650.9969602\ttotal: 25.9s\tremaining: 2.9s\n",
      "899:\tlearn: 1650.9044331\ttotal: 25.9s\tremaining: 2.88s\n",
      "900:\tlearn: 1650.7686450\ttotal: 25.9s\tremaining: 2.85s\n",
      "901:\tlearn: 1650.5813984\ttotal: 25.9s\tremaining: 2.82s\n",
      "902:\tlearn: 1650.4234869\ttotal: 26s\tremaining: 2.79s\n",
      "903:\tlearn: 1650.2506417\ttotal: 26s\tremaining: 2.76s\n",
      "904:\tlearn: 1650.1633183\ttotal: 26s\tremaining: 2.73s\n",
      "905:\tlearn: 1650.0997594\ttotal: 26.1s\tremaining: 2.7s\n",
      "906:\tlearn: 1650.0682819\ttotal: 26.1s\tremaining: 2.67s\n",
      "907:\tlearn: 1650.0153588\ttotal: 26.1s\tremaining: 2.65s\n",
      "908:\tlearn: 1649.9059947\ttotal: 26.1s\tremaining: 2.62s\n",
      "909:\tlearn: 1649.8264968\ttotal: 26.2s\tremaining: 2.59s\n",
      "910:\tlearn: 1649.5978754\ttotal: 26.2s\tremaining: 2.56s\n",
      "911:\tlearn: 1649.4707303\ttotal: 26.2s\tremaining: 2.53s\n",
      "912:\tlearn: 1649.3017910\ttotal: 26.2s\tremaining: 2.5s\n",
      "913:\tlearn: 1649.1546768\ttotal: 26.3s\tremaining: 2.47s\n",
      "914:\tlearn: 1649.0198965\ttotal: 26.3s\tremaining: 2.44s\n",
      "915:\tlearn: 1648.8213746\ttotal: 26.3s\tremaining: 2.42s\n",
      "916:\tlearn: 1648.7323331\ttotal: 26.4s\tremaining: 2.39s\n",
      "917:\tlearn: 1648.7000211\ttotal: 26.4s\tremaining: 2.36s\n",
      "918:\tlearn: 1648.5962317\ttotal: 26.4s\tremaining: 2.33s\n",
      "919:\tlearn: 1648.5675976\ttotal: 26.4s\tremaining: 2.3s\n",
      "920:\tlearn: 1648.3914200\ttotal: 26.5s\tremaining: 2.27s\n",
      "921:\tlearn: 1648.2456114\ttotal: 26.5s\tremaining: 2.24s\n",
      "922:\tlearn: 1648.1507975\ttotal: 26.5s\tremaining: 2.21s\n",
      "923:\tlearn: 1647.9270674\ttotal: 26.6s\tremaining: 2.19s\n",
      "924:\tlearn: 1647.7921343\ttotal: 26.6s\tremaining: 2.16s\n",
      "925:\tlearn: 1647.7342470\ttotal: 26.6s\tremaining: 2.13s\n",
      "926:\tlearn: 1647.5947141\ttotal: 26.7s\tremaining: 2.1s\n",
      "927:\tlearn: 1647.4999340\ttotal: 26.7s\tremaining: 2.07s\n",
      "928:\tlearn: 1647.3358331\ttotal: 26.7s\tremaining: 2.04s\n",
      "929:\tlearn: 1647.2533900\ttotal: 26.7s\tremaining: 2.01s\n",
      "930:\tlearn: 1647.1800533\ttotal: 26.8s\tremaining: 1.98s\n",
      "931:\tlearn: 1647.0683846\ttotal: 26.8s\tremaining: 1.96s\n",
      "932:\tlearn: 1646.9319154\ttotal: 26.8s\tremaining: 1.93s\n",
      "933:\tlearn: 1646.8427202\ttotal: 26.9s\tremaining: 1.9s\n",
      "934:\tlearn: 1646.7236418\ttotal: 26.9s\tremaining: 1.87s\n",
      "935:\tlearn: 1646.6296139\ttotal: 26.9s\tremaining: 1.84s\n",
      "936:\tlearn: 1646.5572947\ttotal: 26.9s\tremaining: 1.81s\n",
      "937:\tlearn: 1646.5414844\ttotal: 27s\tremaining: 1.78s\n",
      "938:\tlearn: 1646.4624080\ttotal: 27s\tremaining: 1.75s\n",
      "939:\tlearn: 1646.3520906\ttotal: 27s\tremaining: 1.72s\n",
      "940:\tlearn: 1646.2979395\ttotal: 27.1s\tremaining: 1.7s\n",
      "941:\tlearn: 1646.2224518\ttotal: 27.1s\tremaining: 1.67s\n",
      "942:\tlearn: 1646.0997241\ttotal: 27.1s\tremaining: 1.64s\n",
      "943:\tlearn: 1645.9730185\ttotal: 27.1s\tremaining: 1.61s\n",
      "944:\tlearn: 1645.8456699\ttotal: 27.2s\tremaining: 1.58s\n",
      "945:\tlearn: 1645.6114672\ttotal: 27.2s\tremaining: 1.55s\n",
      "946:\tlearn: 1645.5570005\ttotal: 27.2s\tremaining: 1.52s\n",
      "947:\tlearn: 1645.4576812\ttotal: 27.2s\tremaining: 1.49s\n",
      "948:\tlearn: 1645.3524206\ttotal: 27.3s\tremaining: 1.47s\n",
      "949:\tlearn: 1645.2696627\ttotal: 27.3s\tremaining: 1.44s\n",
      "950:\tlearn: 1645.1601083\ttotal: 27.3s\tremaining: 1.41s\n",
      "951:\tlearn: 1645.0802337\ttotal: 27.4s\tremaining: 1.38s\n",
      "952:\tlearn: 1645.0085435\ttotal: 27.4s\tremaining: 1.35s\n",
      "953:\tlearn: 1644.9219069\ttotal: 27.4s\tremaining: 1.32s\n",
      "954:\tlearn: 1644.8637222\ttotal: 27.4s\tremaining: 1.29s\n",
      "955:\tlearn: 1644.7615230\ttotal: 27.5s\tremaining: 1.26s\n",
      "956:\tlearn: 1644.6152962\ttotal: 27.5s\tremaining: 1.24s\n",
      "957:\tlearn: 1644.5100186\ttotal: 27.5s\tremaining: 1.21s\n",
      "958:\tlearn: 1644.3974935\ttotal: 27.6s\tremaining: 1.18s\n",
      "959:\tlearn: 1644.2480453\ttotal: 27.6s\tremaining: 1.15s\n",
      "960:\tlearn: 1644.1351769\ttotal: 27.6s\tremaining: 1.12s\n",
      "961:\tlearn: 1643.9675842\ttotal: 27.6s\tremaining: 1.09s\n",
      "962:\tlearn: 1643.8908607\ttotal: 27.7s\tremaining: 1.06s\n",
      "963:\tlearn: 1643.6991177\ttotal: 27.7s\tremaining: 1.03s\n",
      "964:\tlearn: 1643.6216391\ttotal: 27.7s\tremaining: 1s\n",
      "965:\tlearn: 1643.5495112\ttotal: 27.8s\tremaining: 977ms\n",
      "966:\tlearn: 1643.3698123\ttotal: 27.8s\tremaining: 948ms\n",
      "967:\tlearn: 1643.2837147\ttotal: 27.8s\tremaining: 920ms\n",
      "968:\tlearn: 1643.1484740\ttotal: 27.9s\tremaining: 891ms\n",
      "969:\tlearn: 1642.9877653\ttotal: 27.9s\tremaining: 862ms\n",
      "970:\tlearn: 1642.8795028\ttotal: 27.9s\tremaining: 834ms\n",
      "971:\tlearn: 1642.7402413\ttotal: 28s\tremaining: 805ms\n",
      "972:\tlearn: 1642.6577768\ttotal: 28s\tremaining: 777ms\n",
      "973:\tlearn: 1642.5645912\ttotal: 28s\tremaining: 748ms\n",
      "974:\tlearn: 1642.5039556\ttotal: 28.1s\tremaining: 720ms\n",
      "975:\tlearn: 1642.3351531\ttotal: 28.1s\tremaining: 691ms\n",
      "976:\tlearn: 1642.2661876\ttotal: 28.1s\tremaining: 662ms\n",
      "977:\tlearn: 1642.1966485\ttotal: 28.2s\tremaining: 633ms\n",
      "978:\tlearn: 1642.1281658\ttotal: 28.2s\tremaining: 604ms\n",
      "979:\tlearn: 1642.0215993\ttotal: 28.2s\tremaining: 576ms\n",
      "980:\tlearn: 1641.9210359\ttotal: 28.2s\tremaining: 547ms\n",
      "981:\tlearn: 1641.7892111\ttotal: 28.3s\tremaining: 518ms\n",
      "982:\tlearn: 1641.7338329\ttotal: 28.3s\tremaining: 490ms\n",
      "983:\tlearn: 1641.5914488\ttotal: 28.3s\tremaining: 461ms\n",
      "984:\tlearn: 1641.4539548\ttotal: 28.4s\tremaining: 432ms\n",
      "985:\tlearn: 1641.3412646\ttotal: 28.4s\tremaining: 403ms\n",
      "986:\tlearn: 1641.2610449\ttotal: 28.4s\tremaining: 374ms\n",
      "987:\tlearn: 1641.1744721\ttotal: 28.4s\tremaining: 345ms\n",
      "988:\tlearn: 1641.0399788\ttotal: 28.5s\tremaining: 317ms\n",
      "989:\tlearn: 1640.9447331\ttotal: 28.5s\tremaining: 288ms\n",
      "990:\tlearn: 1640.8411033\ttotal: 28.5s\tremaining: 259ms\n",
      "991:\tlearn: 1640.7228468\ttotal: 28.6s\tremaining: 230ms\n",
      "992:\tlearn: 1640.5104114\ttotal: 28.6s\tremaining: 201ms\n",
      "993:\tlearn: 1640.4154939\ttotal: 28.6s\tremaining: 173ms\n",
      "994:\tlearn: 1640.3175923\ttotal: 28.6s\tremaining: 144ms\n",
      "995:\tlearn: 1640.1868466\ttotal: 28.7s\tremaining: 115ms\n",
      "996:\tlearn: 1640.1208851\ttotal: 28.7s\tremaining: 86.3ms\n",
      "997:\tlearn: 1639.9796372\ttotal: 28.7s\tremaining: 57.6ms\n",
      "998:\tlearn: 1639.8431859\ttotal: 28.8s\tremaining: 28.8ms\n",
      "999:\tlearn: 1639.7609384\ttotal: 28.8s\tremaining: 0us\n",
      "Learning rate set to 0.093467\n",
      "0:\tlearn: 4282.9492307\ttotal: 25.7ms\tremaining: 25.7s\n",
      "1:\tlearn: 4037.8482936\ttotal: 51.8ms\tremaining: 25.9s\n",
      "2:\tlearn: 3812.6176441\ttotal: 79.1ms\tremaining: 26.3s\n",
      "3:\tlearn: 3620.5832422\ttotal: 113ms\tremaining: 28.1s\n",
      "4:\tlearn: 3444.3988734\ttotal: 138ms\tremaining: 27.5s\n",
      "5:\tlearn: 3287.6892789\ttotal: 165ms\tremaining: 27.4s\n",
      "6:\tlearn: 3149.2705150\ttotal: 203ms\tremaining: 28.9s\n",
      "7:\tlearn: 3024.1237783\ttotal: 230ms\tremaining: 28.5s\n",
      "8:\tlearn: 2914.4504801\ttotal: 257ms\tremaining: 28.3s\n",
      "9:\tlearn: 2815.3718302\ttotal: 294ms\tremaining: 29.1s\n",
      "10:\tlearn: 2727.5566696\ttotal: 323ms\tremaining: 29.1s\n",
      "11:\tlearn: 2648.8250796\ttotal: 348ms\tremaining: 28.7s\n",
      "12:\tlearn: 2582.5540133\ttotal: 379ms\tremaining: 28.8s\n",
      "13:\tlearn: 2522.1273439\ttotal: 408ms\tremaining: 28.8s\n",
      "14:\tlearn: 2468.8227921\ttotal: 434ms\tremaining: 28.5s\n",
      "15:\tlearn: 2424.2179529\ttotal: 458ms\tremaining: 28.2s\n",
      "16:\tlearn: 2379.6977773\ttotal: 493ms\tremaining: 28.5s\n",
      "17:\tlearn: 2341.3677909\ttotal: 519ms\tremaining: 28.3s\n",
      "18:\tlearn: 2308.0389440\ttotal: 543ms\tremaining: 28.1s\n",
      "19:\tlearn: 2279.2045896\ttotal: 572ms\tremaining: 28s\n",
      "20:\tlearn: 2251.7404320\ttotal: 600ms\tremaining: 28s\n",
      "21:\tlearn: 2227.8079454\ttotal: 625ms\tremaining: 27.8s\n",
      "22:\tlearn: 2205.3679978\ttotal: 652ms\tremaining: 27.7s\n",
      "23:\tlearn: 2184.6380512\ttotal: 689ms\tremaining: 28s\n",
      "24:\tlearn: 2167.1413102\ttotal: 715ms\tremaining: 27.9s\n",
      "25:\tlearn: 2149.0952136\ttotal: 739ms\tremaining: 27.7s\n",
      "26:\tlearn: 2133.3746699\ttotal: 772ms\tremaining: 27.8s\n",
      "27:\tlearn: 2120.6066184\ttotal: 803ms\tremaining: 27.9s\n",
      "28:\tlearn: 2108.2313007\ttotal: 827ms\tremaining: 27.7s\n",
      "29:\tlearn: 2097.4523683\ttotal: 852ms\tremaining: 27.6s\n",
      "30:\tlearn: 2087.0778032\ttotal: 886ms\tremaining: 27.7s\n",
      "31:\tlearn: 2078.0966150\ttotal: 911ms\tremaining: 27.6s\n",
      "32:\tlearn: 2070.2326752\ttotal: 936ms\tremaining: 27.4s\n",
      "33:\tlearn: 2062.4560597\ttotal: 968ms\tremaining: 27.5s\n",
      "34:\tlearn: 2055.3654152\ttotal: 997ms\tremaining: 27.5s\n",
      "35:\tlearn: 2049.0914207\ttotal: 1.02s\tremaining: 27.4s\n",
      "36:\tlearn: 2042.3399457\ttotal: 1.05s\tremaining: 27.4s\n",
      "37:\tlearn: 2035.2543233\ttotal: 1.09s\tremaining: 27.5s\n",
      "38:\tlearn: 2029.1398579\ttotal: 1.11s\tremaining: 27.4s\n",
      "39:\tlearn: 2023.8159225\ttotal: 1.14s\tremaining: 27.4s\n",
      "40:\tlearn: 2017.1205370\ttotal: 1.17s\tremaining: 27.5s\n",
      "41:\tlearn: 2012.1049585\ttotal: 1.2s\tremaining: 27.3s\n",
      "42:\tlearn: 2007.6780345\ttotal: 1.22s\tremaining: 27.3s\n",
      "43:\tlearn: 2003.9266793\ttotal: 1.25s\tremaining: 27.3s\n",
      "44:\tlearn: 1998.6581062\ttotal: 1.29s\tremaining: 27.3s\n",
      "45:\tlearn: 1993.5340250\ttotal: 1.31s\tremaining: 27.2s\n",
      "46:\tlearn: 1989.7703018\ttotal: 1.34s\tremaining: 27.2s\n",
      "47:\tlearn: 1986.4483472\ttotal: 1.37s\tremaining: 27.2s\n",
      "48:\tlearn: 1983.7345150\ttotal: 1.4s\tremaining: 27.1s\n",
      "49:\tlearn: 1980.7740621\ttotal: 1.42s\tremaining: 27s\n",
      "50:\tlearn: 1977.2271100\ttotal: 1.45s\tremaining: 27.1s\n",
      "51:\tlearn: 1973.3246744\ttotal: 1.48s\tremaining: 27s\n",
      "52:\tlearn: 1970.8185936\ttotal: 1.5s\tremaining: 26.9s\n",
      "53:\tlearn: 1968.3359956\ttotal: 1.53s\tremaining: 26.8s\n",
      "54:\tlearn: 1964.1409336\ttotal: 1.56s\tremaining: 26.8s\n",
      "55:\tlearn: 1960.2175255\ttotal: 1.59s\tremaining: 26.8s\n",
      "56:\tlearn: 1958.2491326\ttotal: 1.61s\tremaining: 26.7s\n",
      "57:\tlearn: 1956.1711996\ttotal: 1.64s\tremaining: 26.7s\n",
      "58:\tlearn: 1954.5443822\ttotal: 1.67s\tremaining: 26.6s\n",
      "59:\tlearn: 1949.7480279\ttotal: 1.69s\tremaining: 26.5s\n",
      "60:\tlearn: 1945.9687194\ttotal: 1.72s\tremaining: 26.4s\n",
      "61:\tlearn: 1943.6866736\ttotal: 1.75s\tremaining: 26.5s\n",
      "62:\tlearn: 1940.2999042\ttotal: 1.78s\tremaining: 26.4s\n",
      "63:\tlearn: 1938.6826442\ttotal: 1.8s\tremaining: 26.3s\n",
      "64:\tlearn: 1937.0476886\ttotal: 1.83s\tremaining: 26.3s\n",
      "65:\tlearn: 1935.4056837\ttotal: 1.86s\tremaining: 26.3s\n",
      "66:\tlearn: 1933.7006351\ttotal: 1.88s\tremaining: 26.2s\n",
      "67:\tlearn: 1931.8845036\ttotal: 1.9s\tremaining: 26.1s\n",
      "68:\tlearn: 1929.5118349\ttotal: 1.94s\tremaining: 26.2s\n",
      "69:\tlearn: 1927.7565178\ttotal: 1.97s\tremaining: 26.1s\n",
      "70:\tlearn: 1924.0771990\ttotal: 1.99s\tremaining: 26.1s\n",
      "71:\tlearn: 1921.6224265\ttotal: 2.02s\tremaining: 26.1s\n",
      "72:\tlearn: 1919.9103274\ttotal: 2.05s\tremaining: 26s\n",
      "73:\tlearn: 1917.5701110\ttotal: 2.07s\tremaining: 26s\n",
      "74:\tlearn: 1915.6766396\ttotal: 2.1s\tremaining: 25.9s\n",
      "75:\tlearn: 1914.0275496\ttotal: 2.14s\tremaining: 26s\n",
      "76:\tlearn: 1911.4751345\ttotal: 2.16s\tremaining: 25.9s\n",
      "77:\tlearn: 1910.4993908\ttotal: 2.18s\tremaining: 25.8s\n",
      "78:\tlearn: 1908.9887519\ttotal: 2.21s\tremaining: 25.8s\n",
      "79:\tlearn: 1907.0080901\ttotal: 2.24s\tremaining: 25.7s\n",
      "80:\tlearn: 1905.1414714\ttotal: 2.26s\tremaining: 25.7s\n",
      "81:\tlearn: 1903.4216483\ttotal: 2.29s\tremaining: 25.6s\n",
      "82:\tlearn: 1901.0869488\ttotal: 2.33s\tremaining: 25.7s\n",
      "83:\tlearn: 1898.4072913\ttotal: 2.35s\tremaining: 25.7s\n",
      "84:\tlearn: 1896.7893324\ttotal: 2.38s\tremaining: 25.6s\n",
      "85:\tlearn: 1895.7525685\ttotal: 2.41s\tremaining: 25.6s\n",
      "86:\tlearn: 1894.4420679\ttotal: 2.43s\tremaining: 25.5s\n",
      "87:\tlearn: 1892.5427785\ttotal: 2.46s\tremaining: 25.5s\n",
      "88:\tlearn: 1891.2607146\ttotal: 2.48s\tremaining: 25.4s\n",
      "89:\tlearn: 1889.7245399\ttotal: 2.52s\tremaining: 25.4s\n",
      "90:\tlearn: 1887.8295453\ttotal: 2.54s\tremaining: 25.4s\n",
      "91:\tlearn: 1887.0189579\ttotal: 2.56s\tremaining: 25.3s\n",
      "92:\tlearn: 1886.0819412\ttotal: 2.59s\tremaining: 25.3s\n",
      "93:\tlearn: 1884.7883595\ttotal: 2.62s\tremaining: 25.3s\n",
      "94:\tlearn: 1883.7052444\ttotal: 2.65s\tremaining: 25.2s\n",
      "95:\tlearn: 1882.3708223\ttotal: 2.67s\tremaining: 25.2s\n",
      "96:\tlearn: 1881.5368103\ttotal: 2.71s\tremaining: 25.2s\n",
      "97:\tlearn: 1880.7402856\ttotal: 2.73s\tremaining: 25.1s\n",
      "98:\tlearn: 1879.3663249\ttotal: 2.76s\tremaining: 25.1s\n",
      "99:\tlearn: 1877.9862328\ttotal: 2.79s\tremaining: 25.2s\n",
      "100:\tlearn: 1876.4766445\ttotal: 2.82s\tremaining: 25.1s\n",
      "101:\tlearn: 1875.3010950\ttotal: 2.85s\tremaining: 25.1s\n",
      "102:\tlearn: 1874.5189999\ttotal: 2.87s\tremaining: 25s\n",
      "103:\tlearn: 1873.0737277\ttotal: 2.9s\tremaining: 25s\n",
      "104:\tlearn: 1871.0835708\ttotal: 2.93s\tremaining: 25s\n",
      "105:\tlearn: 1870.4235872\ttotal: 2.95s\tremaining: 24.9s\n",
      "106:\tlearn: 1869.1242222\ttotal: 2.99s\tremaining: 25s\n",
      "107:\tlearn: 1867.8385222\ttotal: 3.02s\tremaining: 24.9s\n",
      "108:\tlearn: 1866.7979293\ttotal: 3.04s\tremaining: 24.8s\n",
      "109:\tlearn: 1865.7111149\ttotal: 3.07s\tremaining: 24.9s\n",
      "110:\tlearn: 1864.4976533\ttotal: 3.1s\tremaining: 24.9s\n",
      "111:\tlearn: 1863.5048890\ttotal: 3.13s\tremaining: 24.8s\n",
      "112:\tlearn: 1862.0700180\ttotal: 3.16s\tremaining: 24.8s\n",
      "113:\tlearn: 1861.0290414\ttotal: 3.19s\tremaining: 24.8s\n",
      "114:\tlearn: 1860.4285048\ttotal: 3.22s\tremaining: 24.8s\n",
      "115:\tlearn: 1859.3929543\ttotal: 3.24s\tremaining: 24.7s\n",
      "116:\tlearn: 1858.6064304\ttotal: 3.27s\tremaining: 24.7s\n",
      "117:\tlearn: 1857.4365070\ttotal: 3.3s\tremaining: 24.7s\n",
      "118:\tlearn: 1856.2225656\ttotal: 3.32s\tremaining: 24.6s\n",
      "119:\tlearn: 1855.4000919\ttotal: 3.35s\tremaining: 24.5s\n",
      "120:\tlearn: 1854.7534103\ttotal: 3.38s\tremaining: 24.5s\n",
      "121:\tlearn: 1853.9929664\ttotal: 3.4s\tremaining: 24.5s\n",
      "122:\tlearn: 1852.6684254\ttotal: 3.43s\tremaining: 24.4s\n",
      "123:\tlearn: 1851.8222836\ttotal: 3.46s\tremaining: 24.4s\n",
      "124:\tlearn: 1851.2519849\ttotal: 3.48s\tremaining: 24.4s\n",
      "125:\tlearn: 1850.2853774\ttotal: 3.51s\tremaining: 24.3s\n",
      "126:\tlearn: 1849.6968795\ttotal: 3.53s\tremaining: 24.3s\n",
      "127:\tlearn: 1849.1208581\ttotal: 3.57s\tremaining: 24.3s\n",
      "128:\tlearn: 1847.8908737\ttotal: 3.59s\tremaining: 24.3s\n",
      "129:\tlearn: 1847.1416009\ttotal: 3.62s\tremaining: 24.2s\n",
      "130:\tlearn: 1846.0172831\ttotal: 3.65s\tremaining: 24.2s\n",
      "131:\tlearn: 1845.4145415\ttotal: 3.67s\tremaining: 24.2s\n",
      "132:\tlearn: 1844.6967352\ttotal: 3.7s\tremaining: 24.1s\n",
      "133:\tlearn: 1843.5002376\ttotal: 3.73s\tremaining: 24.1s\n",
      "134:\tlearn: 1842.2851067\ttotal: 3.76s\tremaining: 24.1s\n",
      "135:\tlearn: 1841.7587258\ttotal: 3.78s\tremaining: 24s\n",
      "136:\tlearn: 1841.1246120\ttotal: 3.81s\tremaining: 24s\n",
      "137:\tlearn: 1840.5250265\ttotal: 3.83s\tremaining: 23.9s\n",
      "138:\tlearn: 1840.1041298\ttotal: 3.86s\tremaining: 23.9s\n",
      "139:\tlearn: 1839.1149943\ttotal: 3.89s\tremaining: 23.9s\n",
      "140:\tlearn: 1838.1306163\ttotal: 3.91s\tremaining: 23.8s\n",
      "141:\tlearn: 1837.5679478\ttotal: 3.95s\tremaining: 23.9s\n",
      "142:\tlearn: 1836.5901097\ttotal: 3.98s\tremaining: 23.8s\n",
      "143:\tlearn: 1835.8054508\ttotal: 4s\tremaining: 23.8s\n",
      "144:\tlearn: 1835.0600775\ttotal: 4.03s\tremaining: 23.8s\n",
      "145:\tlearn: 1834.0306817\ttotal: 4.06s\tremaining: 23.8s\n",
      "146:\tlearn: 1833.4113796\ttotal: 4.09s\tremaining: 23.7s\n",
      "147:\tlearn: 1832.6287063\ttotal: 4.11s\tremaining: 23.7s\n",
      "148:\tlearn: 1832.1961176\ttotal: 4.14s\tremaining: 23.7s\n",
      "149:\tlearn: 1831.6029309\ttotal: 4.17s\tremaining: 23.6s\n",
      "150:\tlearn: 1830.7185196\ttotal: 4.2s\tremaining: 23.6s\n",
      "151:\tlearn: 1829.8034132\ttotal: 4.22s\tremaining: 23.6s\n",
      "152:\tlearn: 1829.3243745\ttotal: 4.25s\tremaining: 23.6s\n",
      "153:\tlearn: 1827.9692209\ttotal: 4.28s\tremaining: 23.5s\n",
      "154:\tlearn: 1827.3008351\ttotal: 4.3s\tremaining: 23.5s\n",
      "155:\tlearn: 1826.2318173\ttotal: 4.34s\tremaining: 23.5s\n",
      "156:\tlearn: 1825.6840640\ttotal: 4.37s\tremaining: 23.4s\n",
      "157:\tlearn: 1825.0874346\ttotal: 4.39s\tremaining: 23.4s\n",
      "158:\tlearn: 1824.5984914\ttotal: 4.42s\tremaining: 23.4s\n",
      "159:\tlearn: 1823.9083937\ttotal: 4.44s\tremaining: 23.3s\n",
      "160:\tlearn: 1823.1856171\ttotal: 4.47s\tremaining: 23.3s\n",
      "161:\tlearn: 1822.7653690\ttotal: 4.49s\tremaining: 23.2s\n",
      "162:\tlearn: 1822.0870253\ttotal: 4.52s\tremaining: 23.2s\n",
      "163:\tlearn: 1821.4882303\ttotal: 4.55s\tremaining: 23.2s\n",
      "164:\tlearn: 1820.3610661\ttotal: 4.58s\tremaining: 23.2s\n",
      "165:\tlearn: 1819.8016593\ttotal: 4.6s\tremaining: 23.1s\n",
      "166:\tlearn: 1819.1002075\ttotal: 4.64s\tremaining: 23.1s\n",
      "167:\tlearn: 1818.3334014\ttotal: 4.66s\tremaining: 23.1s\n",
      "168:\tlearn: 1817.2853736\ttotal: 4.69s\tremaining: 23s\n",
      "169:\tlearn: 1816.8276125\ttotal: 4.72s\tremaining: 23s\n",
      "170:\tlearn: 1815.9109038\ttotal: 4.75s\tremaining: 23s\n",
      "171:\tlearn: 1815.4504422\ttotal: 4.77s\tremaining: 23s\n",
      "172:\tlearn: 1814.6231119\ttotal: 4.8s\tremaining: 22.9s\n",
      "173:\tlearn: 1814.3053671\ttotal: 4.83s\tremaining: 22.9s\n",
      "174:\tlearn: 1813.8331893\ttotal: 4.85s\tremaining: 22.9s\n",
      "175:\tlearn: 1812.6997531\ttotal: 4.88s\tremaining: 22.8s\n",
      "176:\tlearn: 1812.0022859\ttotal: 4.91s\tremaining: 22.8s\n",
      "177:\tlearn: 1811.2716173\ttotal: 4.93s\tremaining: 22.8s\n",
      "178:\tlearn: 1810.7431976\ttotal: 4.96s\tremaining: 22.7s\n",
      "179:\tlearn: 1810.1522438\ttotal: 4.98s\tremaining: 22.7s\n",
      "180:\tlearn: 1809.3601292\ttotal: 5.02s\tremaining: 22.7s\n",
      "181:\tlearn: 1808.8991431\ttotal: 5.04s\tremaining: 22.7s\n",
      "182:\tlearn: 1808.3372812\ttotal: 5.07s\tremaining: 22.6s\n",
      "183:\tlearn: 1807.5713197\ttotal: 5.1s\tremaining: 22.6s\n",
      "184:\tlearn: 1807.1572558\ttotal: 5.13s\tremaining: 22.6s\n",
      "185:\tlearn: 1806.6754271\ttotal: 5.15s\tremaining: 22.5s\n",
      "186:\tlearn: 1805.8923991\ttotal: 5.18s\tremaining: 22.5s\n",
      "187:\tlearn: 1805.1936020\ttotal: 5.21s\tremaining: 22.5s\n",
      "188:\tlearn: 1804.8713285\ttotal: 5.24s\tremaining: 22.5s\n",
      "189:\tlearn: 1804.1868011\ttotal: 5.26s\tremaining: 22.4s\n",
      "190:\tlearn: 1803.8686040\ttotal: 5.29s\tremaining: 22.4s\n",
      "191:\tlearn: 1803.0046225\ttotal: 5.31s\tremaining: 22.4s\n",
      "192:\tlearn: 1802.4563049\ttotal: 5.34s\tremaining: 22.3s\n",
      "193:\tlearn: 1802.0407852\ttotal: 5.36s\tremaining: 22.3s\n",
      "194:\tlearn: 1801.3666526\ttotal: 5.4s\tremaining: 22.3s\n",
      "195:\tlearn: 1800.9489950\ttotal: 5.42s\tremaining: 22.2s\n",
      "196:\tlearn: 1800.2623932\ttotal: 5.45s\tremaining: 22.2s\n",
      "197:\tlearn: 1799.6822213\ttotal: 5.48s\tremaining: 22.2s\n",
      "198:\tlearn: 1799.2411532\ttotal: 5.51s\tremaining: 22.2s\n",
      "199:\tlearn: 1798.6838820\ttotal: 5.53s\tremaining: 22.1s\n",
      "200:\tlearn: 1798.3085481\ttotal: 5.56s\tremaining: 22.1s\n",
      "201:\tlearn: 1797.8592960\ttotal: 5.59s\tremaining: 22.1s\n",
      "202:\tlearn: 1797.2333505\ttotal: 5.62s\tremaining: 22.1s\n",
      "203:\tlearn: 1796.7948060\ttotal: 5.64s\tremaining: 22s\n",
      "204:\tlearn: 1796.2169892\ttotal: 5.66s\tremaining: 22s\n",
      "205:\tlearn: 1795.5262734\ttotal: 5.7s\tremaining: 22s\n",
      "206:\tlearn: 1794.9331048\ttotal: 5.73s\tremaining: 21.9s\n",
      "207:\tlearn: 1794.4337976\ttotal: 5.75s\tremaining: 21.9s\n",
      "208:\tlearn: 1794.0644945\ttotal: 5.78s\tremaining: 21.9s\n",
      "209:\tlearn: 1793.2867453\ttotal: 5.81s\tremaining: 21.9s\n",
      "210:\tlearn: 1792.8892847\ttotal: 5.83s\tremaining: 21.8s\n",
      "211:\tlearn: 1792.0766933\ttotal: 5.86s\tremaining: 21.8s\n",
      "212:\tlearn: 1791.7437017\ttotal: 5.89s\tremaining: 21.8s\n",
      "213:\tlearn: 1791.3993162\ttotal: 5.92s\tremaining: 21.7s\n",
      "214:\tlearn: 1790.9304081\ttotal: 5.94s\tremaining: 21.7s\n",
      "215:\tlearn: 1790.4859097\ttotal: 5.98s\tremaining: 21.7s\n",
      "216:\tlearn: 1790.0678677\ttotal: 6s\tremaining: 21.7s\n",
      "217:\tlearn: 1789.7304470\ttotal: 6.03s\tremaining: 21.6s\n",
      "218:\tlearn: 1789.2976599\ttotal: 6.06s\tremaining: 21.6s\n",
      "219:\tlearn: 1788.6308659\ttotal: 6.09s\tremaining: 21.6s\n",
      "220:\tlearn: 1788.2698633\ttotal: 6.12s\tremaining: 21.6s\n",
      "221:\tlearn: 1787.9033616\ttotal: 6.14s\tremaining: 21.5s\n",
      "222:\tlearn: 1787.5035410\ttotal: 6.17s\tremaining: 21.5s\n",
      "223:\tlearn: 1786.8635343\ttotal: 6.21s\tremaining: 21.5s\n",
      "224:\tlearn: 1786.3455545\ttotal: 6.23s\tremaining: 21.5s\n",
      "225:\tlearn: 1785.9098402\ttotal: 6.26s\tremaining: 21.4s\n",
      "226:\tlearn: 1785.6854240\ttotal: 6.29s\tremaining: 21.4s\n",
      "227:\tlearn: 1785.2745977\ttotal: 6.31s\tremaining: 21.4s\n",
      "228:\tlearn: 1784.7953540\ttotal: 6.34s\tremaining: 21.3s\n",
      "229:\tlearn: 1784.4379239\ttotal: 6.37s\tremaining: 21.3s\n",
      "230:\tlearn: 1783.6009750\ttotal: 6.39s\tremaining: 21.3s\n",
      "231:\tlearn: 1783.3292475\ttotal: 6.42s\tremaining: 21.2s\n",
      "232:\tlearn: 1782.7320356\ttotal: 6.44s\tremaining: 21.2s\n",
      "233:\tlearn: 1782.1025310\ttotal: 6.47s\tremaining: 21.2s\n",
      "234:\tlearn: 1781.4405915\ttotal: 6.5s\tremaining: 21.2s\n",
      "235:\tlearn: 1780.9843767\ttotal: 6.53s\tremaining: 21.1s\n",
      "236:\tlearn: 1780.5731624\ttotal: 6.55s\tremaining: 21.1s\n",
      "237:\tlearn: 1780.0191647\ttotal: 6.58s\tremaining: 21.1s\n",
      "238:\tlearn: 1779.3620790\ttotal: 6.61s\tremaining: 21s\n",
      "239:\tlearn: 1778.9800087\ttotal: 6.63s\tremaining: 21s\n",
      "240:\tlearn: 1778.5255396\ttotal: 6.67s\tremaining: 21s\n",
      "241:\tlearn: 1777.9634795\ttotal: 6.69s\tremaining: 21s\n",
      "242:\tlearn: 1777.5835059\ttotal: 6.71s\tremaining: 20.9s\n",
      "243:\tlearn: 1777.1596292\ttotal: 6.74s\tremaining: 20.9s\n",
      "244:\tlearn: 1776.7976563\ttotal: 6.77s\tremaining: 20.9s\n",
      "245:\tlearn: 1776.3479597\ttotal: 6.79s\tremaining: 20.8s\n",
      "246:\tlearn: 1775.9115537\ttotal: 6.82s\tremaining: 20.8s\n",
      "247:\tlearn: 1775.4388874\ttotal: 6.85s\tremaining: 20.8s\n",
      "248:\tlearn: 1775.0228709\ttotal: 6.87s\tremaining: 20.7s\n",
      "249:\tlearn: 1774.6464504\ttotal: 6.9s\tremaining: 20.7s\n",
      "250:\tlearn: 1774.3154518\ttotal: 6.92s\tremaining: 20.7s\n",
      "251:\tlearn: 1773.9476890\ttotal: 6.95s\tremaining: 20.6s\n",
      "252:\tlearn: 1773.6462742\ttotal: 6.98s\tremaining: 20.6s\n",
      "253:\tlearn: 1773.2479389\ttotal: 7s\tremaining: 20.6s\n",
      "254:\tlearn: 1772.8650657\ttotal: 7.02s\tremaining: 20.5s\n",
      "255:\tlearn: 1772.5674666\ttotal: 7.06s\tremaining: 20.5s\n",
      "256:\tlearn: 1772.2338069\ttotal: 7.08s\tremaining: 20.5s\n",
      "257:\tlearn: 1771.9012816\ttotal: 7.11s\tremaining: 20.4s\n",
      "258:\tlearn: 1771.4734818\ttotal: 7.13s\tremaining: 20.4s\n",
      "259:\tlearn: 1770.8970008\ttotal: 7.16s\tremaining: 20.4s\n",
      "260:\tlearn: 1770.2556799\ttotal: 7.18s\tremaining: 20.3s\n",
      "261:\tlearn: 1769.7584170\ttotal: 7.21s\tremaining: 20.3s\n",
      "262:\tlearn: 1769.3680975\ttotal: 7.24s\tremaining: 20.3s\n",
      "263:\tlearn: 1768.9075991\ttotal: 7.28s\tremaining: 20.3s\n",
      "264:\tlearn: 1768.6080317\ttotal: 7.31s\tremaining: 20.3s\n",
      "265:\tlearn: 1768.3378164\ttotal: 7.34s\tremaining: 20.3s\n",
      "266:\tlearn: 1767.9806405\ttotal: 7.37s\tremaining: 20.2s\n",
      "267:\tlearn: 1767.7095376\ttotal: 7.39s\tremaining: 20.2s\n",
      "268:\tlearn: 1767.2393662\ttotal: 7.42s\tremaining: 20.2s\n",
      "269:\tlearn: 1766.8669346\ttotal: 7.45s\tremaining: 20.1s\n",
      "270:\tlearn: 1766.3543330\ttotal: 7.47s\tremaining: 20.1s\n",
      "271:\tlearn: 1766.0684958\ttotal: 7.5s\tremaining: 20.1s\n",
      "272:\tlearn: 1765.7424881\ttotal: 7.52s\tremaining: 20s\n",
      "273:\tlearn: 1765.2965361\ttotal: 7.55s\tremaining: 20s\n",
      "274:\tlearn: 1764.8385916\ttotal: 7.57s\tremaining: 20s\n",
      "275:\tlearn: 1764.6104131\ttotal: 7.59s\tremaining: 19.9s\n",
      "276:\tlearn: 1764.2147988\ttotal: 7.63s\tremaining: 19.9s\n",
      "277:\tlearn: 1763.8849534\ttotal: 7.65s\tremaining: 19.9s\n",
      "278:\tlearn: 1763.6093157\ttotal: 7.68s\tremaining: 19.8s\n",
      "279:\tlearn: 1763.3217212\ttotal: 7.71s\tremaining: 19.8s\n",
      "280:\tlearn: 1763.0541650\ttotal: 7.75s\tremaining: 19.8s\n",
      "281:\tlearn: 1762.7089347\ttotal: 7.77s\tremaining: 19.8s\n",
      "282:\tlearn: 1762.2759285\ttotal: 7.81s\tremaining: 19.8s\n",
      "283:\tlearn: 1761.9672630\ttotal: 7.84s\tremaining: 19.8s\n",
      "284:\tlearn: 1761.6514470\ttotal: 7.87s\tremaining: 19.8s\n",
      "285:\tlearn: 1761.3743073\ttotal: 7.9s\tremaining: 19.7s\n",
      "286:\tlearn: 1761.0459916\ttotal: 7.93s\tremaining: 19.7s\n",
      "287:\tlearn: 1760.5625524\ttotal: 7.96s\tremaining: 19.7s\n",
      "288:\tlearn: 1760.2742725\ttotal: 7.99s\tremaining: 19.7s\n",
      "289:\tlearn: 1759.9626341\ttotal: 8.02s\tremaining: 19.6s\n",
      "290:\tlearn: 1759.7559271\ttotal: 8.05s\tremaining: 19.6s\n",
      "291:\tlearn: 1759.4960092\ttotal: 8.08s\tremaining: 19.6s\n",
      "292:\tlearn: 1758.9642799\ttotal: 8.11s\tremaining: 19.6s\n",
      "293:\tlearn: 1758.7006228\ttotal: 8.14s\tremaining: 19.5s\n",
      "294:\tlearn: 1758.4881178\ttotal: 8.16s\tremaining: 19.5s\n",
      "295:\tlearn: 1758.2277685\ttotal: 8.2s\tremaining: 19.5s\n",
      "296:\tlearn: 1757.8294939\ttotal: 8.23s\tremaining: 19.5s\n",
      "297:\tlearn: 1757.3568416\ttotal: 8.25s\tremaining: 19.4s\n",
      "298:\tlearn: 1757.0153342\ttotal: 8.28s\tremaining: 19.4s\n",
      "299:\tlearn: 1756.8772711\ttotal: 8.31s\tremaining: 19.4s\n",
      "300:\tlearn: 1756.6136064\ttotal: 8.33s\tremaining: 19.4s\n",
      "301:\tlearn: 1756.4068961\ttotal: 8.36s\tremaining: 19.3s\n",
      "302:\tlearn: 1756.1395872\ttotal: 8.39s\tremaining: 19.3s\n",
      "303:\tlearn: 1755.9052854\ttotal: 8.41s\tremaining: 19.3s\n",
      "304:\tlearn: 1755.5612668\ttotal: 8.44s\tremaining: 19.2s\n",
      "305:\tlearn: 1755.3670391\ttotal: 8.47s\tremaining: 19.2s\n",
      "306:\tlearn: 1755.1512014\ttotal: 8.5s\tremaining: 19.2s\n",
      "307:\tlearn: 1754.9033623\ttotal: 8.53s\tremaining: 19.2s\n",
      "308:\tlearn: 1754.5511231\ttotal: 8.55s\tremaining: 19.1s\n",
      "309:\tlearn: 1754.2037555\ttotal: 8.58s\tremaining: 19.1s\n",
      "310:\tlearn: 1753.7069245\ttotal: 8.61s\tremaining: 19.1s\n",
      "311:\tlearn: 1753.5299129\ttotal: 8.63s\tremaining: 19s\n",
      "312:\tlearn: 1753.3049508\ttotal: 8.66s\tremaining: 19s\n",
      "313:\tlearn: 1752.9848942\ttotal: 8.69s\tremaining: 19s\n",
      "314:\tlearn: 1752.5752357\ttotal: 8.71s\tremaining: 18.9s\n",
      "315:\tlearn: 1752.3617696\ttotal: 8.73s\tremaining: 18.9s\n",
      "316:\tlearn: 1752.1624868\ttotal: 8.76s\tremaining: 18.9s\n",
      "317:\tlearn: 1751.9985216\ttotal: 8.79s\tremaining: 18.9s\n",
      "318:\tlearn: 1751.7211885\ttotal: 8.81s\tremaining: 18.8s\n",
      "319:\tlearn: 1751.4509047\ttotal: 8.84s\tremaining: 18.8s\n",
      "320:\tlearn: 1751.0279461\ttotal: 8.87s\tremaining: 18.8s\n",
      "321:\tlearn: 1750.9292577\ttotal: 8.9s\tremaining: 18.7s\n",
      "322:\tlearn: 1750.4836956\ttotal: 8.92s\tremaining: 18.7s\n",
      "323:\tlearn: 1750.2786102\ttotal: 8.94s\tremaining: 18.7s\n",
      "324:\tlearn: 1750.0253426\ttotal: 8.97s\tremaining: 18.6s\n",
      "325:\tlearn: 1749.7014227\ttotal: 9s\tremaining: 18.6s\n",
      "326:\tlearn: 1749.3579980\ttotal: 9.02s\tremaining: 18.6s\n",
      "327:\tlearn: 1749.1449241\ttotal: 9.05s\tremaining: 18.5s\n",
      "328:\tlearn: 1748.9527583\ttotal: 9.09s\tremaining: 18.5s\n",
      "329:\tlearn: 1748.5723199\ttotal: 9.11s\tremaining: 18.5s\n",
      "330:\tlearn: 1748.2552727\ttotal: 9.14s\tremaining: 18.5s\n",
      "331:\tlearn: 1748.0239272\ttotal: 9.17s\tremaining: 18.4s\n",
      "332:\tlearn: 1747.7783560\ttotal: 9.19s\tremaining: 18.4s\n",
      "333:\tlearn: 1747.5235725\ttotal: 9.21s\tremaining: 18.4s\n",
      "334:\tlearn: 1747.0924591\ttotal: 9.24s\tremaining: 18.3s\n",
      "335:\tlearn: 1746.8859588\ttotal: 9.27s\tremaining: 18.3s\n",
      "336:\tlearn: 1746.7162236\ttotal: 9.29s\tremaining: 18.3s\n",
      "337:\tlearn: 1746.4385357\ttotal: 9.32s\tremaining: 18.3s\n",
      "338:\tlearn: 1746.0759789\ttotal: 9.35s\tremaining: 18.2s\n",
      "339:\tlearn: 1745.7795302\ttotal: 9.38s\tremaining: 18.2s\n",
      "340:\tlearn: 1745.4609833\ttotal: 9.4s\tremaining: 18.2s\n",
      "341:\tlearn: 1745.3033143\ttotal: 9.43s\tremaining: 18.1s\n",
      "342:\tlearn: 1744.9151421\ttotal: 9.46s\tremaining: 18.1s\n",
      "343:\tlearn: 1744.7039257\ttotal: 9.49s\tremaining: 18.1s\n",
      "344:\tlearn: 1744.1836669\ttotal: 9.51s\tremaining: 18.1s\n",
      "345:\tlearn: 1743.8780078\ttotal: 9.54s\tremaining: 18s\n",
      "346:\tlearn: 1743.5843683\ttotal: 9.57s\tremaining: 18s\n",
      "347:\tlearn: 1743.2884758\ttotal: 9.59s\tremaining: 18s\n",
      "348:\tlearn: 1743.0767962\ttotal: 9.62s\tremaining: 17.9s\n",
      "349:\tlearn: 1742.7512049\ttotal: 9.66s\tremaining: 17.9s\n",
      "350:\tlearn: 1742.6366156\ttotal: 9.68s\tremaining: 17.9s\n",
      "351:\tlearn: 1742.5068919\ttotal: 9.7s\tremaining: 17.9s\n",
      "352:\tlearn: 1742.1471300\ttotal: 9.73s\tremaining: 17.8s\n",
      "353:\tlearn: 1741.6437819\ttotal: 9.76s\tremaining: 17.8s\n",
      "354:\tlearn: 1741.4263857\ttotal: 9.79s\tremaining: 17.8s\n",
      "355:\tlearn: 1741.0281640\ttotal: 9.81s\tremaining: 17.8s\n",
      "356:\tlearn: 1740.5947251\ttotal: 9.85s\tremaining: 17.7s\n",
      "357:\tlearn: 1740.1266566\ttotal: 9.88s\tremaining: 17.7s\n",
      "358:\tlearn: 1739.8108850\ttotal: 9.9s\tremaining: 17.7s\n",
      "359:\tlearn: 1739.4114025\ttotal: 9.93s\tremaining: 17.7s\n",
      "360:\tlearn: 1739.0978682\ttotal: 9.96s\tremaining: 17.6s\n",
      "361:\tlearn: 1738.7615356\ttotal: 9.98s\tremaining: 17.6s\n",
      "362:\tlearn: 1738.5360360\ttotal: 10s\tremaining: 17.6s\n",
      "363:\tlearn: 1738.2583301\ttotal: 10.1s\tremaining: 17.6s\n",
      "364:\tlearn: 1738.0745429\ttotal: 10.1s\tremaining: 17.5s\n",
      "365:\tlearn: 1737.7328847\ttotal: 10.1s\tremaining: 17.5s\n",
      "366:\tlearn: 1737.6112975\ttotal: 10.1s\tremaining: 17.5s\n",
      "367:\tlearn: 1737.4764393\ttotal: 10.2s\tremaining: 17.4s\n",
      "368:\tlearn: 1737.3503701\ttotal: 10.2s\tremaining: 17.4s\n",
      "369:\tlearn: 1737.1171423\ttotal: 10.2s\tremaining: 17.4s\n",
      "370:\tlearn: 1736.8809626\ttotal: 10.2s\tremaining: 17.3s\n",
      "371:\tlearn: 1736.7180739\ttotal: 10.3s\tremaining: 17.3s\n",
      "372:\tlearn: 1736.4859108\ttotal: 10.3s\tremaining: 17.3s\n",
      "373:\tlearn: 1736.3103022\ttotal: 10.3s\tremaining: 17.2s\n",
      "374:\tlearn: 1736.1366438\ttotal: 10.3s\tremaining: 17.2s\n",
      "375:\tlearn: 1735.8144530\ttotal: 10.4s\tremaining: 17.2s\n",
      "376:\tlearn: 1735.3876077\ttotal: 10.4s\tremaining: 17.1s\n",
      "377:\tlearn: 1735.2836293\ttotal: 10.4s\tremaining: 17.1s\n",
      "378:\tlearn: 1734.9374181\ttotal: 10.4s\tremaining: 17.1s\n",
      "379:\tlearn: 1734.4593080\ttotal: 10.5s\tremaining: 17.1s\n",
      "380:\tlearn: 1734.2978355\ttotal: 10.5s\tremaining: 17s\n",
      "381:\tlearn: 1733.9003675\ttotal: 10.5s\tremaining: 17s\n",
      "382:\tlearn: 1733.7659461\ttotal: 10.5s\tremaining: 17s\n",
      "383:\tlearn: 1733.4965610\ttotal: 10.6s\tremaining: 16.9s\n",
      "384:\tlearn: 1733.3631396\ttotal: 10.6s\tremaining: 16.9s\n",
      "385:\tlearn: 1733.2221146\ttotal: 10.6s\tremaining: 16.9s\n",
      "386:\tlearn: 1733.0819943\ttotal: 10.6s\tremaining: 16.9s\n",
      "387:\tlearn: 1732.9293179\ttotal: 10.7s\tremaining: 16.8s\n",
      "388:\tlearn: 1732.6974738\ttotal: 10.7s\tremaining: 16.8s\n",
      "389:\tlearn: 1732.3199615\ttotal: 10.7s\tremaining: 16.8s\n",
      "390:\tlearn: 1731.9007469\ttotal: 10.8s\tremaining: 16.8s\n",
      "391:\tlearn: 1731.6555670\ttotal: 10.8s\tremaining: 16.7s\n",
      "392:\tlearn: 1731.4969308\ttotal: 10.8s\tremaining: 16.7s\n",
      "393:\tlearn: 1731.3130533\ttotal: 10.8s\tremaining: 16.7s\n",
      "394:\tlearn: 1731.1478241\ttotal: 10.9s\tremaining: 16.6s\n",
      "395:\tlearn: 1730.7968243\ttotal: 10.9s\tremaining: 16.6s\n",
      "396:\tlearn: 1730.5189885\ttotal: 10.9s\tremaining: 16.6s\n",
      "397:\tlearn: 1730.1432094\ttotal: 10.9s\tremaining: 16.6s\n",
      "398:\tlearn: 1729.9289134\ttotal: 11s\tremaining: 16.5s\n",
      "399:\tlearn: 1729.6498096\ttotal: 11s\tremaining: 16.5s\n",
      "400:\tlearn: 1729.4930944\ttotal: 11s\tremaining: 16.5s\n",
      "401:\tlearn: 1728.9555937\ttotal: 11.1s\tremaining: 16.5s\n",
      "402:\tlearn: 1728.7575793\ttotal: 11.1s\tremaining: 16.4s\n",
      "403:\tlearn: 1728.5043729\ttotal: 11.1s\tremaining: 16.4s\n",
      "404:\tlearn: 1728.2045535\ttotal: 11.1s\tremaining: 16.4s\n",
      "405:\tlearn: 1727.8305892\ttotal: 11.2s\tremaining: 16.3s\n",
      "406:\tlearn: 1727.5135617\ttotal: 11.2s\tremaining: 16.3s\n",
      "407:\tlearn: 1727.3962769\ttotal: 11.2s\tremaining: 16.3s\n",
      "408:\tlearn: 1727.1988336\ttotal: 11.3s\tremaining: 16.3s\n",
      "409:\tlearn: 1726.9806291\ttotal: 11.3s\tremaining: 16.2s\n",
      "410:\tlearn: 1726.8093032\ttotal: 11.3s\tremaining: 16.2s\n",
      "411:\tlearn: 1726.4934766\ttotal: 11.3s\tremaining: 16.2s\n",
      "412:\tlearn: 1726.1975866\ttotal: 11.4s\tremaining: 16.2s\n",
      "413:\tlearn: 1725.9244857\ttotal: 11.4s\tremaining: 16.1s\n",
      "414:\tlearn: 1725.7148752\ttotal: 11.4s\tremaining: 16.1s\n",
      "415:\tlearn: 1725.4719681\ttotal: 11.5s\tremaining: 16.1s\n",
      "416:\tlearn: 1725.2299478\ttotal: 11.5s\tremaining: 16s\n",
      "417:\tlearn: 1724.7925840\ttotal: 11.5s\tremaining: 16s\n",
      "418:\tlearn: 1724.6719934\ttotal: 11.5s\tremaining: 16s\n",
      "419:\tlearn: 1724.4931970\ttotal: 11.6s\tremaining: 16s\n",
      "420:\tlearn: 1724.2689577\ttotal: 11.6s\tremaining: 15.9s\n",
      "421:\tlearn: 1724.0641019\ttotal: 11.6s\tremaining: 15.9s\n",
      "422:\tlearn: 1723.8415852\ttotal: 11.6s\tremaining: 15.9s\n",
      "423:\tlearn: 1723.6341401\ttotal: 11.7s\tremaining: 15.9s\n",
      "424:\tlearn: 1723.4085544\ttotal: 11.7s\tremaining: 15.8s\n",
      "425:\tlearn: 1722.9245918\ttotal: 11.7s\tremaining: 15.8s\n",
      "426:\tlearn: 1722.6787413\ttotal: 11.8s\tremaining: 15.8s\n",
      "427:\tlearn: 1722.3815308\ttotal: 11.8s\tremaining: 15.8s\n",
      "428:\tlearn: 1722.1348411\ttotal: 11.8s\tremaining: 15.7s\n",
      "429:\tlearn: 1721.8787159\ttotal: 11.8s\tremaining: 15.7s\n",
      "430:\tlearn: 1721.6300346\ttotal: 11.9s\tremaining: 15.7s\n",
      "431:\tlearn: 1721.4944354\ttotal: 11.9s\tremaining: 15.6s\n",
      "432:\tlearn: 1721.3482085\ttotal: 11.9s\tremaining: 15.6s\n",
      "433:\tlearn: 1721.1085743\ttotal: 11.9s\tremaining: 15.6s\n",
      "434:\tlearn: 1720.9446670\ttotal: 12s\tremaining: 15.5s\n",
      "435:\tlearn: 1720.7707373\ttotal: 12s\tremaining: 15.5s\n",
      "436:\tlearn: 1720.5052117\ttotal: 12s\tremaining: 15.5s\n",
      "437:\tlearn: 1720.3804160\ttotal: 12.1s\tremaining: 15.5s\n",
      "438:\tlearn: 1720.1800582\ttotal: 12.1s\tremaining: 15.4s\n",
      "439:\tlearn: 1719.8706799\ttotal: 12.1s\tremaining: 15.4s\n",
      "440:\tlearn: 1719.7073979\ttotal: 12.1s\tremaining: 15.4s\n",
      "441:\tlearn: 1719.5420037\ttotal: 12.2s\tremaining: 15.3s\n",
      "442:\tlearn: 1719.4227825\ttotal: 12.2s\tremaining: 15.3s\n",
      "443:\tlearn: 1719.2770143\ttotal: 12.2s\tremaining: 15.3s\n",
      "444:\tlearn: 1719.1109865\ttotal: 12.2s\tremaining: 15.3s\n",
      "445:\tlearn: 1718.8693794\ttotal: 12.3s\tremaining: 15.2s\n",
      "446:\tlearn: 1718.5897098\ttotal: 12.3s\tremaining: 15.2s\n",
      "447:\tlearn: 1718.3365152\ttotal: 12.3s\tremaining: 15.2s\n",
      "448:\tlearn: 1718.0371003\ttotal: 12.3s\tremaining: 15.1s\n",
      "449:\tlearn: 1717.8990796\ttotal: 12.4s\tremaining: 15.1s\n",
      "450:\tlearn: 1717.6102658\ttotal: 12.4s\tremaining: 15.1s\n",
      "451:\tlearn: 1717.4586360\ttotal: 12.4s\tremaining: 15.1s\n",
      "452:\tlearn: 1717.1594577\ttotal: 12.5s\tremaining: 15s\n",
      "453:\tlearn: 1716.9329324\ttotal: 12.5s\tremaining: 15s\n",
      "454:\tlearn: 1716.5932167\ttotal: 12.5s\tremaining: 15s\n",
      "455:\tlearn: 1716.3710059\ttotal: 12.5s\tremaining: 14.9s\n",
      "456:\tlearn: 1716.2233376\ttotal: 12.6s\tremaining: 14.9s\n",
      "457:\tlearn: 1716.0142021\ttotal: 12.6s\tremaining: 14.9s\n",
      "458:\tlearn: 1715.6628533\ttotal: 12.6s\tremaining: 14.9s\n",
      "459:\tlearn: 1715.4418455\ttotal: 12.6s\tremaining: 14.8s\n",
      "460:\tlearn: 1715.0968546\ttotal: 12.7s\tremaining: 14.8s\n",
      "461:\tlearn: 1714.9546329\ttotal: 12.7s\tremaining: 14.8s\n",
      "462:\tlearn: 1714.6543210\ttotal: 12.7s\tremaining: 14.8s\n",
      "463:\tlearn: 1714.3815694\ttotal: 12.8s\tremaining: 14.7s\n",
      "464:\tlearn: 1714.0692509\ttotal: 12.8s\tremaining: 14.7s\n",
      "465:\tlearn: 1713.8464687\ttotal: 12.8s\tremaining: 14.7s\n",
      "466:\tlearn: 1713.6821941\ttotal: 12.8s\tremaining: 14.6s\n",
      "467:\tlearn: 1713.3773955\ttotal: 12.9s\tremaining: 14.6s\n",
      "468:\tlearn: 1713.0548536\ttotal: 12.9s\tremaining: 14.6s\n",
      "469:\tlearn: 1712.8247296\ttotal: 12.9s\tremaining: 14.6s\n",
      "470:\tlearn: 1712.6117092\ttotal: 12.9s\tremaining: 14.5s\n",
      "471:\tlearn: 1712.4307772\ttotal: 13s\tremaining: 14.5s\n",
      "472:\tlearn: 1712.1721127\ttotal: 13s\tremaining: 14.5s\n",
      "473:\tlearn: 1712.0492464\ttotal: 13s\tremaining: 14.4s\n",
      "474:\tlearn: 1711.8558267\ttotal: 13s\tremaining: 14.4s\n",
      "475:\tlearn: 1711.6646075\ttotal: 13.1s\tremaining: 14.4s\n",
      "476:\tlearn: 1711.5512330\ttotal: 13.1s\tremaining: 14.3s\n",
      "477:\tlearn: 1711.3264689\ttotal: 13.1s\tremaining: 14.3s\n",
      "478:\tlearn: 1711.0536369\ttotal: 13.1s\tremaining: 14.3s\n",
      "479:\tlearn: 1710.8733505\ttotal: 13.2s\tremaining: 14.3s\n",
      "480:\tlearn: 1710.7170419\ttotal: 13.2s\tremaining: 14.2s\n",
      "481:\tlearn: 1710.5616064\ttotal: 13.2s\tremaining: 14.2s\n",
      "482:\tlearn: 1710.2800168\ttotal: 13.3s\tremaining: 14.2s\n",
      "483:\tlearn: 1710.2192052\ttotal: 13.3s\tremaining: 14.2s\n",
      "484:\tlearn: 1710.1138949\ttotal: 13.3s\tremaining: 14.1s\n",
      "485:\tlearn: 1709.9354447\ttotal: 13.3s\tremaining: 14.1s\n",
      "486:\tlearn: 1709.5957803\ttotal: 13.4s\tremaining: 14.1s\n",
      "487:\tlearn: 1709.5334700\ttotal: 13.4s\tremaining: 14s\n",
      "488:\tlearn: 1709.2605878\ttotal: 13.4s\tremaining: 14s\n",
      "489:\tlearn: 1709.0422134\ttotal: 13.4s\tremaining: 14s\n",
      "490:\tlearn: 1708.8949075\ttotal: 13.5s\tremaining: 14s\n",
      "491:\tlearn: 1708.7711117\ttotal: 13.5s\tremaining: 13.9s\n",
      "492:\tlearn: 1708.5042672\ttotal: 13.5s\tremaining: 13.9s\n",
      "493:\tlearn: 1708.2595509\ttotal: 13.5s\tremaining: 13.9s\n",
      "494:\tlearn: 1707.8056889\ttotal: 13.6s\tremaining: 13.8s\n",
      "495:\tlearn: 1707.6423206\ttotal: 13.6s\tremaining: 13.8s\n",
      "496:\tlearn: 1707.4865548\ttotal: 13.6s\tremaining: 13.8s\n",
      "497:\tlearn: 1707.1568491\ttotal: 13.7s\tremaining: 13.8s\n",
      "498:\tlearn: 1707.0241469\ttotal: 13.7s\tremaining: 13.7s\n",
      "499:\tlearn: 1706.6301897\ttotal: 13.7s\tremaining: 13.7s\n",
      "500:\tlearn: 1706.2981094\ttotal: 13.7s\tremaining: 13.7s\n",
      "501:\tlearn: 1706.0470225\ttotal: 13.8s\tremaining: 13.7s\n",
      "502:\tlearn: 1705.8845399\ttotal: 13.8s\tremaining: 13.6s\n",
      "503:\tlearn: 1705.7685534\ttotal: 13.8s\tremaining: 13.6s\n",
      "504:\tlearn: 1705.4282936\ttotal: 13.8s\tremaining: 13.6s\n",
      "505:\tlearn: 1705.2222597\ttotal: 13.9s\tremaining: 13.5s\n",
      "506:\tlearn: 1705.0372368\ttotal: 13.9s\tremaining: 13.5s\n",
      "507:\tlearn: 1704.7586434\ttotal: 13.9s\tremaining: 13.5s\n",
      "508:\tlearn: 1704.5042917\ttotal: 14s\tremaining: 13.5s\n",
      "509:\tlearn: 1704.2855451\ttotal: 14s\tremaining: 13.4s\n",
      "510:\tlearn: 1704.1428920\ttotal: 14s\tremaining: 13.4s\n",
      "511:\tlearn: 1703.8975433\ttotal: 14s\tremaining: 13.4s\n",
      "512:\tlearn: 1703.7575624\ttotal: 14.1s\tremaining: 13.3s\n",
      "513:\tlearn: 1703.7036885\ttotal: 14.1s\tremaining: 13.3s\n",
      "514:\tlearn: 1703.4694841\ttotal: 14.1s\tremaining: 13.3s\n",
      "515:\tlearn: 1703.2374962\ttotal: 14.1s\tremaining: 13.3s\n",
      "516:\tlearn: 1703.0022965\ttotal: 14.2s\tremaining: 13.2s\n",
      "517:\tlearn: 1702.7031413\ttotal: 14.2s\tremaining: 13.2s\n",
      "518:\tlearn: 1702.5767344\ttotal: 14.2s\tremaining: 13.2s\n",
      "519:\tlearn: 1702.3903004\ttotal: 14.2s\tremaining: 13.1s\n",
      "520:\tlearn: 1702.2317931\ttotal: 14.3s\tremaining: 13.1s\n",
      "521:\tlearn: 1702.1184789\ttotal: 14.3s\tremaining: 13.1s\n",
      "522:\tlearn: 1701.8932253\ttotal: 14.3s\tremaining: 13.1s\n",
      "523:\tlearn: 1701.7559379\ttotal: 14.3s\tremaining: 13s\n",
      "524:\tlearn: 1701.6124239\ttotal: 14.4s\tremaining: 13s\n",
      "525:\tlearn: 1701.4700053\ttotal: 14.4s\tremaining: 13s\n",
      "526:\tlearn: 1701.2880035\ttotal: 14.4s\tremaining: 12.9s\n",
      "527:\tlearn: 1701.0779707\ttotal: 14.5s\tremaining: 12.9s\n",
      "528:\tlearn: 1700.8311593\ttotal: 14.5s\tremaining: 12.9s\n",
      "529:\tlearn: 1700.6975137\ttotal: 14.5s\tremaining: 12.9s\n",
      "530:\tlearn: 1700.4380575\ttotal: 14.5s\tremaining: 12.8s\n",
      "531:\tlearn: 1700.1624460\ttotal: 14.6s\tremaining: 12.8s\n",
      "532:\tlearn: 1699.9509639\ttotal: 14.6s\tremaining: 12.8s\n",
      "533:\tlearn: 1699.7413970\ttotal: 14.6s\tremaining: 12.8s\n",
      "534:\tlearn: 1699.4896568\ttotal: 14.6s\tremaining: 12.7s\n",
      "535:\tlearn: 1699.2330325\ttotal: 14.7s\tremaining: 12.7s\n",
      "536:\tlearn: 1699.0548749\ttotal: 14.7s\tremaining: 12.7s\n",
      "537:\tlearn: 1698.8959378\ttotal: 14.7s\tremaining: 12.7s\n",
      "538:\tlearn: 1698.5298020\ttotal: 14.8s\tremaining: 12.6s\n",
      "539:\tlearn: 1698.3905353\ttotal: 14.8s\tremaining: 12.6s\n",
      "540:\tlearn: 1698.2555344\ttotal: 14.8s\tremaining: 12.6s\n",
      "541:\tlearn: 1698.0311315\ttotal: 14.9s\tremaining: 12.6s\n",
      "542:\tlearn: 1697.8976375\ttotal: 14.9s\tremaining: 12.5s\n",
      "543:\tlearn: 1697.6364774\ttotal: 14.9s\tremaining: 12.5s\n",
      "544:\tlearn: 1697.4588254\ttotal: 14.9s\tremaining: 12.5s\n",
      "545:\tlearn: 1697.2500396\ttotal: 15s\tremaining: 12.4s\n",
      "546:\tlearn: 1697.1403952\ttotal: 15s\tremaining: 12.4s\n",
      "547:\tlearn: 1696.9579471\ttotal: 15s\tremaining: 12.4s\n",
      "548:\tlearn: 1696.7916390\ttotal: 15s\tremaining: 12.4s\n",
      "549:\tlearn: 1696.6695560\ttotal: 15.1s\tremaining: 12.3s\n",
      "550:\tlearn: 1696.5002606\ttotal: 15.1s\tremaining: 12.3s\n",
      "551:\tlearn: 1696.2396394\ttotal: 15.1s\tremaining: 12.3s\n",
      "552:\tlearn: 1696.1276240\ttotal: 15.1s\tremaining: 12.2s\n",
      "553:\tlearn: 1695.8474132\ttotal: 15.2s\tremaining: 12.2s\n",
      "554:\tlearn: 1695.6476378\ttotal: 15.2s\tremaining: 12.2s\n",
      "555:\tlearn: 1695.4936487\ttotal: 15.2s\tremaining: 12.2s\n",
      "556:\tlearn: 1695.3517891\ttotal: 15.3s\tremaining: 12.1s\n",
      "557:\tlearn: 1695.1084149\ttotal: 15.3s\tremaining: 12.1s\n",
      "558:\tlearn: 1694.8433818\ttotal: 15.3s\tremaining: 12.1s\n",
      "559:\tlearn: 1694.7256051\ttotal: 15.3s\tremaining: 12.1s\n",
      "560:\tlearn: 1694.5787690\ttotal: 15.4s\tremaining: 12s\n",
      "561:\tlearn: 1694.3435862\ttotal: 15.4s\tremaining: 12s\n",
      "562:\tlearn: 1694.1094830\ttotal: 15.4s\tremaining: 12s\n",
      "563:\tlearn: 1693.9540094\ttotal: 15.4s\tremaining: 11.9s\n",
      "564:\tlearn: 1693.8760746\ttotal: 15.5s\tremaining: 11.9s\n",
      "565:\tlearn: 1693.6528482\ttotal: 15.5s\tremaining: 11.9s\n",
      "566:\tlearn: 1693.5373027\ttotal: 15.5s\tremaining: 11.9s\n",
      "567:\tlearn: 1693.2885963\ttotal: 15.6s\tremaining: 11.8s\n",
      "568:\tlearn: 1693.1515071\ttotal: 15.6s\tremaining: 11.8s\n",
      "569:\tlearn: 1693.0181247\ttotal: 15.6s\tremaining: 11.8s\n",
      "570:\tlearn: 1692.7950900\ttotal: 15.7s\tremaining: 11.8s\n",
      "571:\tlearn: 1692.5733039\ttotal: 15.7s\tremaining: 11.7s\n",
      "572:\tlearn: 1692.4804245\ttotal: 15.7s\tremaining: 11.7s\n",
      "573:\tlearn: 1692.4119178\ttotal: 15.7s\tremaining: 11.7s\n",
      "574:\tlearn: 1692.2669883\ttotal: 15.8s\tremaining: 11.7s\n",
      "575:\tlearn: 1692.1416000\ttotal: 15.8s\tremaining: 11.6s\n",
      "576:\tlearn: 1692.0240794\ttotal: 15.8s\tremaining: 11.6s\n",
      "577:\tlearn: 1691.8315820\ttotal: 15.8s\tremaining: 11.6s\n",
      "578:\tlearn: 1691.6072952\ttotal: 15.9s\tremaining: 11.5s\n",
      "579:\tlearn: 1691.4590553\ttotal: 15.9s\tremaining: 11.5s\n",
      "580:\tlearn: 1691.1516759\ttotal: 15.9s\tremaining: 11.5s\n",
      "581:\tlearn: 1690.8737645\ttotal: 16s\tremaining: 11.5s\n",
      "582:\tlearn: 1690.7560860\ttotal: 16s\tremaining: 11.4s\n",
      "583:\tlearn: 1690.5966426\ttotal: 16s\tremaining: 11.4s\n",
      "584:\tlearn: 1690.4559600\ttotal: 16.1s\tremaining: 11.4s\n",
      "585:\tlearn: 1690.3298858\ttotal: 16.1s\tremaining: 11.4s\n",
      "586:\tlearn: 1690.1355632\ttotal: 16.1s\tremaining: 11.3s\n",
      "587:\tlearn: 1689.8833008\ttotal: 16.1s\tremaining: 11.3s\n",
      "588:\tlearn: 1689.7284970\ttotal: 16.2s\tremaining: 11.3s\n",
      "589:\tlearn: 1689.5454680\ttotal: 16.2s\tremaining: 11.2s\n",
      "590:\tlearn: 1689.2156067\ttotal: 16.2s\tremaining: 11.2s\n",
      "591:\tlearn: 1689.0134942\ttotal: 16.2s\tremaining: 11.2s\n",
      "592:\tlearn: 1688.8437005\ttotal: 16.3s\tremaining: 11.2s\n",
      "593:\tlearn: 1688.7195367\ttotal: 16.3s\tremaining: 11.1s\n",
      "594:\tlearn: 1688.5573363\ttotal: 16.3s\tremaining: 11.1s\n",
      "595:\tlearn: 1688.4107246\ttotal: 16.3s\tremaining: 11.1s\n",
      "596:\tlearn: 1688.3281715\ttotal: 16.4s\tremaining: 11s\n",
      "597:\tlearn: 1688.1009582\ttotal: 16.4s\tremaining: 11s\n",
      "598:\tlearn: 1687.9608896\ttotal: 16.4s\tremaining: 11s\n",
      "599:\tlearn: 1687.8577688\ttotal: 16.4s\tremaining: 11s\n",
      "600:\tlearn: 1687.5200751\ttotal: 16.5s\tremaining: 10.9s\n",
      "601:\tlearn: 1687.2822329\ttotal: 16.5s\tremaining: 10.9s\n",
      "602:\tlearn: 1687.0960702\ttotal: 16.5s\tremaining: 10.9s\n",
      "603:\tlearn: 1686.7856218\ttotal: 16.6s\tremaining: 10.9s\n",
      "604:\tlearn: 1686.6349506\ttotal: 16.6s\tremaining: 10.8s\n",
      "605:\tlearn: 1686.4410318\ttotal: 16.6s\tremaining: 10.8s\n",
      "606:\tlearn: 1686.2935853\ttotal: 16.6s\tremaining: 10.8s\n",
      "607:\tlearn: 1686.2228289\ttotal: 16.7s\tremaining: 10.7s\n",
      "608:\tlearn: 1686.0449881\ttotal: 16.7s\tremaining: 10.7s\n",
      "609:\tlearn: 1685.7982189\ttotal: 16.7s\tremaining: 10.7s\n",
      "610:\tlearn: 1685.7091904\ttotal: 16.7s\tremaining: 10.7s\n",
      "611:\tlearn: 1685.5520996\ttotal: 16.8s\tremaining: 10.6s\n",
      "612:\tlearn: 1685.3777480\ttotal: 16.8s\tremaining: 10.6s\n",
      "613:\tlearn: 1685.2366875\ttotal: 16.8s\tremaining: 10.6s\n",
      "614:\tlearn: 1685.1310719\ttotal: 16.9s\tremaining: 10.5s\n",
      "615:\tlearn: 1685.0988721\ttotal: 16.9s\tremaining: 10.5s\n",
      "616:\tlearn: 1684.9226714\ttotal: 16.9s\tremaining: 10.5s\n",
      "617:\tlearn: 1684.8289087\ttotal: 16.9s\tremaining: 10.5s\n",
      "618:\tlearn: 1684.6689438\ttotal: 17s\tremaining: 10.4s\n",
      "619:\tlearn: 1684.5508836\ttotal: 17s\tremaining: 10.4s\n",
      "620:\tlearn: 1684.3876378\ttotal: 17s\tremaining: 10.4s\n",
      "621:\tlearn: 1684.3305164\ttotal: 17s\tremaining: 10.4s\n",
      "622:\tlearn: 1684.2468376\ttotal: 17.1s\tremaining: 10.3s\n",
      "623:\tlearn: 1684.1157999\ttotal: 17.1s\tremaining: 10.3s\n",
      "624:\tlearn: 1683.9919746\ttotal: 17.1s\tremaining: 10.3s\n",
      "625:\tlearn: 1683.7561116\ttotal: 17.2s\tremaining: 10.3s\n",
      "626:\tlearn: 1683.5713000\ttotal: 17.2s\tremaining: 10.2s\n",
      "627:\tlearn: 1683.4830475\ttotal: 17.2s\tremaining: 10.2s\n",
      "628:\tlearn: 1683.3615383\ttotal: 17.3s\tremaining: 10.2s\n",
      "629:\tlearn: 1683.1307478\ttotal: 17.3s\tremaining: 10.2s\n",
      "630:\tlearn: 1682.9412419\ttotal: 17.3s\tremaining: 10.1s\n",
      "631:\tlearn: 1682.8849423\ttotal: 17.4s\tremaining: 10.1s\n",
      "632:\tlearn: 1682.6802639\ttotal: 17.4s\tremaining: 10.1s\n",
      "633:\tlearn: 1682.5842850\ttotal: 17.4s\tremaining: 10.1s\n",
      "634:\tlearn: 1682.3742238\ttotal: 17.4s\tremaining: 10s\n",
      "635:\tlearn: 1682.2336521\ttotal: 17.5s\tremaining: 9.99s\n",
      "636:\tlearn: 1682.0595777\ttotal: 17.5s\tremaining: 9.97s\n",
      "637:\tlearn: 1681.8801109\ttotal: 17.5s\tremaining: 9.94s\n",
      "638:\tlearn: 1681.7568804\ttotal: 17.6s\tremaining: 9.91s\n",
      "639:\tlearn: 1681.5689587\ttotal: 17.6s\tremaining: 9.89s\n",
      "640:\tlearn: 1681.4705107\ttotal: 17.6s\tremaining: 9.87s\n",
      "641:\tlearn: 1681.2873998\ttotal: 17.6s\tremaining: 9.84s\n",
      "642:\tlearn: 1681.1822551\ttotal: 17.7s\tremaining: 9.81s\n",
      "643:\tlearn: 1680.9026289\ttotal: 17.7s\tremaining: 9.79s\n",
      "644:\tlearn: 1680.6493307\ttotal: 17.7s\tremaining: 9.76s\n",
      "645:\tlearn: 1680.4461423\ttotal: 17.8s\tremaining: 9.73s\n",
      "646:\tlearn: 1680.2984576\ttotal: 17.8s\tremaining: 9.7s\n",
      "647:\tlearn: 1680.1198124\ttotal: 17.8s\tremaining: 9.68s\n",
      "648:\tlearn: 1679.8931810\ttotal: 17.9s\tremaining: 9.66s\n",
      "649:\tlearn: 1679.7707394\ttotal: 17.9s\tremaining: 9.63s\n",
      "650:\tlearn: 1679.6267549\ttotal: 17.9s\tremaining: 9.61s\n",
      "651:\tlearn: 1679.3254850\ttotal: 18s\tremaining: 9.58s\n",
      "652:\tlearn: 1679.1974012\ttotal: 18s\tremaining: 9.56s\n",
      "653:\tlearn: 1679.0239951\ttotal: 18s\tremaining: 9.54s\n",
      "654:\tlearn: 1678.9140096\ttotal: 18.1s\tremaining: 9.51s\n",
      "655:\tlearn: 1678.8305686\ttotal: 18.1s\tremaining: 9.48s\n",
      "656:\tlearn: 1678.7207316\ttotal: 18.1s\tremaining: 9.46s\n",
      "657:\tlearn: 1678.5385758\ttotal: 18.1s\tremaining: 9.43s\n",
      "658:\tlearn: 1678.3041871\ttotal: 18.2s\tremaining: 9.4s\n",
      "659:\tlearn: 1678.1954577\ttotal: 18.2s\tremaining: 9.38s\n",
      "660:\tlearn: 1677.9739292\ttotal: 18.2s\tremaining: 9.35s\n",
      "661:\tlearn: 1677.7965822\ttotal: 18.3s\tremaining: 9.32s\n",
      "662:\tlearn: 1677.5953691\ttotal: 18.3s\tremaining: 9.29s\n",
      "663:\tlearn: 1677.3802865\ttotal: 18.3s\tremaining: 9.27s\n",
      "664:\tlearn: 1677.2096908\ttotal: 18.3s\tremaining: 9.24s\n",
      "665:\tlearn: 1677.0288698\ttotal: 18.4s\tremaining: 9.21s\n",
      "666:\tlearn: 1676.8431646\ttotal: 18.4s\tremaining: 9.19s\n",
      "667:\tlearn: 1676.6366753\ttotal: 18.4s\tremaining: 9.16s\n",
      "668:\tlearn: 1676.5794085\ttotal: 18.5s\tremaining: 9.14s\n",
      "669:\tlearn: 1676.3746594\ttotal: 18.5s\tremaining: 9.12s\n",
      "670:\tlearn: 1676.0512965\ttotal: 18.5s\tremaining: 9.09s\n",
      "671:\tlearn: 1675.7797137\ttotal: 18.6s\tremaining: 9.06s\n",
      "672:\tlearn: 1675.6533602\ttotal: 18.6s\tremaining: 9.04s\n",
      "673:\tlearn: 1675.5334040\ttotal: 18.6s\tremaining: 9.01s\n",
      "674:\tlearn: 1675.2710052\ttotal: 18.6s\tremaining: 8.98s\n",
      "675:\tlearn: 1675.0194513\ttotal: 18.7s\tremaining: 8.96s\n",
      "676:\tlearn: 1674.8800185\ttotal: 18.7s\tremaining: 8.93s\n",
      "677:\tlearn: 1674.8142915\ttotal: 18.7s\tremaining: 8.9s\n",
      "678:\tlearn: 1674.6339854\ttotal: 18.8s\tremaining: 8.87s\n",
      "679:\tlearn: 1674.4911402\ttotal: 18.8s\tremaining: 8.84s\n",
      "680:\tlearn: 1674.3170866\ttotal: 18.8s\tremaining: 8.81s\n",
      "681:\tlearn: 1674.0560732\ttotal: 18.8s\tremaining: 8.79s\n",
      "682:\tlearn: 1673.9112251\ttotal: 18.9s\tremaining: 8.76s\n",
      "683:\tlearn: 1673.7637032\ttotal: 18.9s\tremaining: 8.73s\n",
      "684:\tlearn: 1673.6548363\ttotal: 18.9s\tremaining: 8.71s\n",
      "685:\tlearn: 1673.4307968\ttotal: 19s\tremaining: 8.68s\n",
      "686:\tlearn: 1673.2063655\ttotal: 19s\tremaining: 8.65s\n",
      "687:\tlearn: 1673.0367300\ttotal: 19s\tremaining: 8.62s\n",
      "688:\tlearn: 1672.8713723\ttotal: 19s\tremaining: 8.6s\n",
      "689:\tlearn: 1672.6300316\ttotal: 19.1s\tremaining: 8.57s\n",
      "690:\tlearn: 1672.4909263\ttotal: 19.1s\tremaining: 8.54s\n",
      "691:\tlearn: 1672.3133694\ttotal: 19.1s\tremaining: 8.52s\n",
      "692:\tlearn: 1672.1313333\ttotal: 19.2s\tremaining: 8.49s\n",
      "693:\tlearn: 1671.9207119\ttotal: 19.2s\tremaining: 8.46s\n",
      "694:\tlearn: 1671.7249301\ttotal: 19.2s\tremaining: 8.43s\n",
      "695:\tlearn: 1671.5971571\ttotal: 19.2s\tremaining: 8.4s\n",
      "696:\tlearn: 1671.3775701\ttotal: 19.3s\tremaining: 8.38s\n",
      "697:\tlearn: 1671.2901656\ttotal: 19.3s\tremaining: 8.35s\n",
      "698:\tlearn: 1671.1367672\ttotal: 19.3s\tremaining: 8.32s\n",
      "699:\tlearn: 1670.9656461\ttotal: 19.3s\tremaining: 8.29s\n",
      "700:\tlearn: 1670.8891016\ttotal: 19.4s\tremaining: 8.26s\n",
      "701:\tlearn: 1670.6723672\ttotal: 19.4s\tremaining: 8.23s\n",
      "702:\tlearn: 1670.5779713\ttotal: 19.4s\tremaining: 8.2s\n",
      "703:\tlearn: 1670.4322729\ttotal: 19.4s\tremaining: 8.18s\n",
      "704:\tlearn: 1670.1806673\ttotal: 19.5s\tremaining: 8.15s\n",
      "705:\tlearn: 1670.0627684\ttotal: 19.5s\tremaining: 8.12s\n",
      "706:\tlearn: 1669.8170364\ttotal: 19.5s\tremaining: 8.09s\n",
      "707:\tlearn: 1669.6580650\ttotal: 19.6s\tremaining: 8.07s\n",
      "708:\tlearn: 1669.4437637\ttotal: 19.6s\tremaining: 8.04s\n",
      "709:\tlearn: 1669.2550748\ttotal: 19.6s\tremaining: 8.01s\n",
      "710:\tlearn: 1669.1728310\ttotal: 19.6s\tremaining: 7.99s\n",
      "711:\tlearn: 1669.0205887\ttotal: 19.7s\tremaining: 7.96s\n",
      "712:\tlearn: 1668.9201375\ttotal: 19.7s\tremaining: 7.93s\n",
      "713:\tlearn: 1668.7013401\ttotal: 19.7s\tremaining: 7.9s\n",
      "714:\tlearn: 1668.5867672\ttotal: 19.8s\tremaining: 7.88s\n",
      "715:\tlearn: 1668.3688200\ttotal: 19.8s\tremaining: 7.85s\n",
      "716:\tlearn: 1668.2524646\ttotal: 19.8s\tremaining: 7.82s\n",
      "717:\tlearn: 1668.0729096\ttotal: 19.9s\tremaining: 7.8s\n",
      "718:\tlearn: 1667.9625170\ttotal: 19.9s\tremaining: 7.77s\n",
      "719:\tlearn: 1667.8595053\ttotal: 19.9s\tremaining: 7.74s\n",
      "720:\tlearn: 1667.7738299\ttotal: 19.9s\tremaining: 7.71s\n",
      "721:\tlearn: 1667.6051917\ttotal: 20s\tremaining: 7.68s\n",
      "722:\tlearn: 1667.4650996\ttotal: 20s\tremaining: 7.65s\n",
      "723:\tlearn: 1667.3163328\ttotal: 20s\tremaining: 7.63s\n",
      "724:\tlearn: 1667.2470813\ttotal: 20s\tremaining: 7.6s\n",
      "725:\tlearn: 1667.0914945\ttotal: 20.1s\tremaining: 7.57s\n",
      "726:\tlearn: 1666.9199299\ttotal: 20.1s\tremaining: 7.54s\n",
      "727:\tlearn: 1666.8176568\ttotal: 20.1s\tremaining: 7.51s\n",
      "728:\tlearn: 1666.6276974\ttotal: 20.1s\tremaining: 7.49s\n",
      "729:\tlearn: 1666.5015264\ttotal: 20.2s\tremaining: 7.46s\n",
      "730:\tlearn: 1666.4187297\ttotal: 20.2s\tremaining: 7.43s\n",
      "731:\tlearn: 1666.2654086\ttotal: 20.2s\tremaining: 7.41s\n",
      "732:\tlearn: 1666.1420780\ttotal: 20.3s\tremaining: 7.38s\n",
      "733:\tlearn: 1666.0062577\ttotal: 20.3s\tremaining: 7.35s\n",
      "734:\tlearn: 1665.8469857\ttotal: 20.3s\tremaining: 7.32s\n",
      "735:\tlearn: 1665.6593665\ttotal: 20.3s\tremaining: 7.3s\n",
      "736:\tlearn: 1665.5970291\ttotal: 20.4s\tremaining: 7.27s\n",
      "737:\tlearn: 1665.3744995\ttotal: 20.4s\tremaining: 7.24s\n",
      "738:\tlearn: 1665.2416914\ttotal: 20.4s\tremaining: 7.21s\n",
      "739:\tlearn: 1665.1109316\ttotal: 20.4s\tremaining: 7.18s\n",
      "740:\tlearn: 1664.9651241\ttotal: 20.5s\tremaining: 7.16s\n",
      "741:\tlearn: 1664.7929602\ttotal: 20.5s\tremaining: 7.13s\n",
      "742:\tlearn: 1664.5325161\ttotal: 20.5s\tremaining: 7.1s\n",
      "743:\tlearn: 1664.3917870\ttotal: 20.6s\tremaining: 7.07s\n",
      "744:\tlearn: 1664.2829849\ttotal: 20.6s\tremaining: 7.04s\n",
      "745:\tlearn: 1664.1171401\ttotal: 20.6s\tremaining: 7.02s\n",
      "746:\tlearn: 1664.0476245\ttotal: 20.6s\tremaining: 6.99s\n",
      "747:\tlearn: 1663.9245268\ttotal: 20.7s\tremaining: 6.96s\n",
      "748:\tlearn: 1663.8297673\ttotal: 20.7s\tremaining: 6.93s\n",
      "749:\tlearn: 1663.6976534\ttotal: 20.7s\tremaining: 6.91s\n",
      "750:\tlearn: 1663.6375726\ttotal: 20.7s\tremaining: 6.88s\n",
      "751:\tlearn: 1663.4301196\ttotal: 20.8s\tremaining: 6.85s\n",
      "752:\tlearn: 1663.2345638\ttotal: 20.8s\tremaining: 6.83s\n",
      "753:\tlearn: 1662.9302072\ttotal: 20.8s\tremaining: 6.8s\n",
      "754:\tlearn: 1662.7882007\ttotal: 20.9s\tremaining: 6.77s\n",
      "755:\tlearn: 1662.6955447\ttotal: 20.9s\tremaining: 6.74s\n",
      "756:\tlearn: 1662.6065034\ttotal: 20.9s\tremaining: 6.71s\n",
      "757:\tlearn: 1662.4424117\ttotal: 20.9s\tremaining: 6.69s\n",
      "758:\tlearn: 1662.2531657\ttotal: 21s\tremaining: 6.66s\n",
      "759:\tlearn: 1662.1316634\ttotal: 21s\tremaining: 6.63s\n",
      "760:\tlearn: 1661.9127944\ttotal: 21s\tremaining: 6.61s\n",
      "761:\tlearn: 1661.8231598\ttotal: 21.1s\tremaining: 6.58s\n",
      "762:\tlearn: 1661.7084338\ttotal: 21.1s\tremaining: 6.55s\n",
      "763:\tlearn: 1661.6068094\ttotal: 21.1s\tremaining: 6.52s\n",
      "764:\tlearn: 1661.4914161\ttotal: 21.1s\tremaining: 6.49s\n",
      "765:\tlearn: 1661.3200825\ttotal: 21.2s\tremaining: 6.47s\n",
      "766:\tlearn: 1661.2047310\ttotal: 21.2s\tremaining: 6.44s\n",
      "767:\tlearn: 1661.1332760\ttotal: 21.2s\tremaining: 6.41s\n",
      "768:\tlearn: 1660.9643193\ttotal: 21.3s\tremaining: 6.38s\n",
      "769:\tlearn: 1660.8191334\ttotal: 21.3s\tremaining: 6.36s\n",
      "770:\tlearn: 1660.6737604\ttotal: 21.3s\tremaining: 6.33s\n",
      "771:\tlearn: 1660.5246274\ttotal: 21.3s\tremaining: 6.3s\n",
      "772:\tlearn: 1660.2982657\ttotal: 21.4s\tremaining: 6.28s\n",
      "773:\tlearn: 1660.1943779\ttotal: 21.4s\tremaining: 6.25s\n",
      "774:\tlearn: 1660.0816458\ttotal: 21.4s\tremaining: 6.22s\n",
      "775:\tlearn: 1659.9430763\ttotal: 21.5s\tremaining: 6.19s\n",
      "776:\tlearn: 1659.9039053\ttotal: 21.5s\tremaining: 6.17s\n",
      "777:\tlearn: 1659.7968199\ttotal: 21.5s\tremaining: 6.14s\n",
      "778:\tlearn: 1659.6647130\ttotal: 21.5s\tremaining: 6.11s\n",
      "779:\tlearn: 1659.5540529\ttotal: 21.6s\tremaining: 6.09s\n",
      "780:\tlearn: 1659.3996019\ttotal: 21.6s\tremaining: 6.06s\n",
      "781:\tlearn: 1659.2496673\ttotal: 21.6s\tremaining: 6.03s\n",
      "782:\tlearn: 1659.1224272\ttotal: 21.7s\tremaining: 6s\n",
      "783:\tlearn: 1659.0496452\ttotal: 21.7s\tremaining: 5.97s\n",
      "784:\tlearn: 1658.9036520\ttotal: 21.7s\tremaining: 5.95s\n",
      "785:\tlearn: 1658.7804719\ttotal: 21.7s\tremaining: 5.92s\n",
      "786:\tlearn: 1658.7188365\ttotal: 21.8s\tremaining: 5.89s\n",
      "787:\tlearn: 1658.6161822\ttotal: 21.8s\tremaining: 5.86s\n",
      "788:\tlearn: 1658.4895529\ttotal: 21.8s\tremaining: 5.83s\n",
      "789:\tlearn: 1658.3560260\ttotal: 21.9s\tremaining: 5.81s\n",
      "790:\tlearn: 1658.1837874\ttotal: 21.9s\tremaining: 5.78s\n",
      "791:\tlearn: 1658.1047749\ttotal: 21.9s\tremaining: 5.75s\n",
      "792:\tlearn: 1658.0000359\ttotal: 21.9s\tremaining: 5.72s\n",
      "793:\tlearn: 1657.8923309\ttotal: 22s\tremaining: 5.7s\n",
      "794:\tlearn: 1657.8038734\ttotal: 22s\tremaining: 5.67s\n",
      "795:\tlearn: 1657.5932615\ttotal: 22s\tremaining: 5.64s\n",
      "796:\tlearn: 1657.4300421\ttotal: 22s\tremaining: 5.61s\n",
      "797:\tlearn: 1657.3371918\ttotal: 22.1s\tremaining: 5.59s\n",
      "798:\tlearn: 1657.2069993\ttotal: 22.1s\tremaining: 5.56s\n",
      "799:\tlearn: 1657.0881001\ttotal: 22.1s\tremaining: 5.53s\n",
      "800:\tlearn: 1657.0296140\ttotal: 22.1s\tremaining: 5.5s\n",
      "801:\tlearn: 1656.9381946\ttotal: 22.2s\tremaining: 5.47s\n",
      "802:\tlearn: 1656.7567154\ttotal: 22.2s\tremaining: 5.45s\n",
      "803:\tlearn: 1656.6198554\ttotal: 22.2s\tremaining: 5.42s\n",
      "804:\tlearn: 1656.3997435\ttotal: 22.3s\tremaining: 5.39s\n",
      "805:\tlearn: 1656.1468982\ttotal: 22.3s\tremaining: 5.36s\n",
      "806:\tlearn: 1656.0449258\ttotal: 22.3s\tremaining: 5.33s\n",
      "807:\tlearn: 1655.8998343\ttotal: 22.3s\tremaining: 5.31s\n",
      "808:\tlearn: 1655.7148400\ttotal: 22.4s\tremaining: 5.28s\n",
      "809:\tlearn: 1655.6289753\ttotal: 22.4s\tremaining: 5.25s\n",
      "810:\tlearn: 1655.4964626\ttotal: 22.4s\tremaining: 5.23s\n",
      "811:\tlearn: 1655.3495571\ttotal: 22.5s\tremaining: 5.2s\n",
      "812:\tlearn: 1655.1950292\ttotal: 22.5s\tremaining: 5.17s\n",
      "813:\tlearn: 1654.9980766\ttotal: 22.5s\tremaining: 5.15s\n",
      "814:\tlearn: 1654.8514268\ttotal: 22.6s\tremaining: 5.12s\n",
      "815:\tlearn: 1654.7548152\ttotal: 22.6s\tremaining: 5.09s\n",
      "816:\tlearn: 1654.6174823\ttotal: 22.6s\tremaining: 5.06s\n",
      "817:\tlearn: 1654.5331550\ttotal: 22.6s\tremaining: 5.04s\n",
      "818:\tlearn: 1654.4696978\ttotal: 22.7s\tremaining: 5.01s\n",
      "819:\tlearn: 1654.3845788\ttotal: 22.7s\tremaining: 4.98s\n",
      "820:\tlearn: 1654.2434294\ttotal: 22.7s\tremaining: 4.96s\n",
      "821:\tlearn: 1654.1933862\ttotal: 22.8s\tremaining: 4.93s\n",
      "822:\tlearn: 1654.0814052\ttotal: 22.8s\tremaining: 4.9s\n",
      "823:\tlearn: 1653.9664808\ttotal: 22.8s\tremaining: 4.87s\n",
      "824:\tlearn: 1653.8682966\ttotal: 22.8s\tremaining: 4.84s\n",
      "825:\tlearn: 1653.7491340\ttotal: 22.9s\tremaining: 4.82s\n",
      "826:\tlearn: 1653.6012842\ttotal: 22.9s\tremaining: 4.79s\n",
      "827:\tlearn: 1653.4905959\ttotal: 22.9s\tremaining: 4.76s\n",
      "828:\tlearn: 1653.3594391\ttotal: 23s\tremaining: 4.73s\n",
      "829:\tlearn: 1653.3144348\ttotal: 23s\tremaining: 4.71s\n",
      "830:\tlearn: 1653.1509595\ttotal: 23s\tremaining: 4.68s\n",
      "831:\tlearn: 1653.0735575\ttotal: 23s\tremaining: 4.65s\n",
      "832:\tlearn: 1652.9276219\ttotal: 23.1s\tremaining: 4.62s\n",
      "833:\tlearn: 1652.7223869\ttotal: 23.1s\tremaining: 4.6s\n",
      "834:\tlearn: 1652.5774761\ttotal: 23.1s\tremaining: 4.57s\n",
      "835:\tlearn: 1652.4616236\ttotal: 23.2s\tremaining: 4.54s\n",
      "836:\tlearn: 1652.3764327\ttotal: 23.2s\tremaining: 4.51s\n",
      "837:\tlearn: 1652.3068810\ttotal: 23.2s\tremaining: 4.49s\n",
      "838:\tlearn: 1652.1851521\ttotal: 23.2s\tremaining: 4.46s\n",
      "839:\tlearn: 1652.0673676\ttotal: 23.3s\tremaining: 4.43s\n",
      "840:\tlearn: 1651.9185240\ttotal: 23.3s\tremaining: 4.4s\n",
      "841:\tlearn: 1651.7867096\ttotal: 23.3s\tremaining: 4.38s\n",
      "842:\tlearn: 1651.6972004\ttotal: 23.4s\tremaining: 4.35s\n",
      "843:\tlearn: 1651.5756958\ttotal: 23.4s\tremaining: 4.32s\n",
      "844:\tlearn: 1651.4048558\ttotal: 23.4s\tremaining: 4.29s\n",
      "845:\tlearn: 1651.2377065\ttotal: 23.4s\tremaining: 4.26s\n",
      "846:\tlearn: 1651.1967564\ttotal: 23.5s\tremaining: 4.24s\n",
      "847:\tlearn: 1651.1120873\ttotal: 23.5s\tremaining: 4.21s\n",
      "848:\tlearn: 1650.9904963\ttotal: 23.5s\tremaining: 4.18s\n",
      "849:\tlearn: 1650.8445709\ttotal: 23.5s\tremaining: 4.15s\n",
      "850:\tlearn: 1650.7028655\ttotal: 23.6s\tremaining: 4.13s\n",
      "851:\tlearn: 1650.5555192\ttotal: 23.6s\tremaining: 4.1s\n",
      "852:\tlearn: 1650.4953875\ttotal: 23.6s\tremaining: 4.07s\n",
      "853:\tlearn: 1650.3645091\ttotal: 23.6s\tremaining: 4.04s\n",
      "854:\tlearn: 1650.2207563\ttotal: 23.7s\tremaining: 4.01s\n",
      "855:\tlearn: 1650.0211246\ttotal: 23.7s\tremaining: 3.99s\n",
      "856:\tlearn: 1649.9059174\ttotal: 23.7s\tremaining: 3.96s\n",
      "857:\tlearn: 1649.7954363\ttotal: 23.8s\tremaining: 3.93s\n",
      "858:\tlearn: 1649.6839780\ttotal: 23.8s\tremaining: 3.9s\n",
      "859:\tlearn: 1649.5813628\ttotal: 23.8s\tremaining: 3.88s\n",
      "860:\tlearn: 1649.4592609\ttotal: 23.8s\tremaining: 3.85s\n",
      "861:\tlearn: 1649.3487263\ttotal: 23.9s\tremaining: 3.82s\n",
      "862:\tlearn: 1649.2411005\ttotal: 23.9s\tremaining: 3.79s\n",
      "863:\tlearn: 1649.0642997\ttotal: 23.9s\tremaining: 3.77s\n",
      "864:\tlearn: 1648.9602855\ttotal: 23.9s\tremaining: 3.74s\n",
      "865:\tlearn: 1648.7832465\ttotal: 24s\tremaining: 3.71s\n",
      "866:\tlearn: 1648.6824371\ttotal: 24s\tremaining: 3.68s\n",
      "867:\tlearn: 1648.5702472\ttotal: 24s\tremaining: 3.65s\n",
      "868:\tlearn: 1648.4464980\ttotal: 24.1s\tremaining: 3.63s\n",
      "869:\tlearn: 1648.3673383\ttotal: 24.1s\tremaining: 3.6s\n",
      "870:\tlearn: 1648.2566701\ttotal: 24.1s\tremaining: 3.57s\n",
      "871:\tlearn: 1648.0447772\ttotal: 24.1s\tremaining: 3.54s\n",
      "872:\tlearn: 1647.9539352\ttotal: 24.2s\tremaining: 3.52s\n",
      "873:\tlearn: 1647.8747995\ttotal: 24.2s\tremaining: 3.49s\n",
      "874:\tlearn: 1647.7535333\ttotal: 24.2s\tremaining: 3.46s\n",
      "875:\tlearn: 1647.5982134\ttotal: 24.2s\tremaining: 3.43s\n",
      "876:\tlearn: 1647.4565125\ttotal: 24.3s\tremaining: 3.4s\n",
      "877:\tlearn: 1647.3620061\ttotal: 24.3s\tremaining: 3.38s\n",
      "878:\tlearn: 1647.2474307\ttotal: 24.3s\tremaining: 3.35s\n",
      "879:\tlearn: 1647.0649321\ttotal: 24.4s\tremaining: 3.32s\n",
      "880:\tlearn: 1647.0025619\ttotal: 24.4s\tremaining: 3.29s\n",
      "881:\tlearn: 1646.8819560\ttotal: 24.4s\tremaining: 3.27s\n",
      "882:\tlearn: 1646.7740890\ttotal: 24.4s\tremaining: 3.24s\n",
      "883:\tlearn: 1646.7232520\ttotal: 24.5s\tremaining: 3.21s\n",
      "884:\tlearn: 1646.6137503\ttotal: 24.5s\tremaining: 3.18s\n",
      "885:\tlearn: 1646.5218245\ttotal: 24.5s\tremaining: 3.15s\n",
      "886:\tlearn: 1646.3686811\ttotal: 24.5s\tremaining: 3.13s\n",
      "887:\tlearn: 1646.2534959\ttotal: 24.6s\tremaining: 3.1s\n",
      "888:\tlearn: 1646.0942544\ttotal: 24.6s\tremaining: 3.07s\n",
      "889:\tlearn: 1646.0092940\ttotal: 24.6s\tremaining: 3.04s\n",
      "890:\tlearn: 1645.8963441\ttotal: 24.7s\tremaining: 3.02s\n",
      "891:\tlearn: 1645.8181436\ttotal: 24.7s\tremaining: 2.99s\n",
      "892:\tlearn: 1645.7441894\ttotal: 24.7s\tremaining: 2.96s\n",
      "893:\tlearn: 1645.6768383\ttotal: 24.7s\tremaining: 2.93s\n",
      "894:\tlearn: 1645.5531437\ttotal: 24.8s\tremaining: 2.9s\n",
      "895:\tlearn: 1645.4198543\ttotal: 24.8s\tremaining: 2.88s\n",
      "896:\tlearn: 1645.2832337\ttotal: 24.8s\tremaining: 2.85s\n",
      "897:\tlearn: 1645.1688441\ttotal: 24.8s\tremaining: 2.82s\n",
      "898:\tlearn: 1645.0560755\ttotal: 24.9s\tremaining: 2.79s\n",
      "899:\tlearn: 1644.8688373\ttotal: 24.9s\tremaining: 2.77s\n",
      "900:\tlearn: 1644.7249891\ttotal: 24.9s\tremaining: 2.74s\n",
      "901:\tlearn: 1644.6332902\ttotal: 25s\tremaining: 2.71s\n",
      "902:\tlearn: 1644.5020692\ttotal: 25s\tremaining: 2.68s\n",
      "903:\tlearn: 1644.4192215\ttotal: 25s\tremaining: 2.65s\n",
      "904:\tlearn: 1644.2567349\ttotal: 25s\tremaining: 2.63s\n",
      "905:\tlearn: 1644.1269045\ttotal: 25.1s\tremaining: 2.6s\n",
      "906:\tlearn: 1644.0442046\ttotal: 25.1s\tremaining: 2.57s\n",
      "907:\tlearn: 1643.8894275\ttotal: 25.1s\tremaining: 2.54s\n",
      "908:\tlearn: 1643.8297119\ttotal: 25.2s\tremaining: 2.52s\n",
      "909:\tlearn: 1643.6913590\ttotal: 25.2s\tremaining: 2.49s\n",
      "910:\tlearn: 1643.5227169\ttotal: 25.2s\tremaining: 2.46s\n",
      "911:\tlearn: 1643.4071328\ttotal: 25.2s\tremaining: 2.44s\n",
      "912:\tlearn: 1643.2995627\ttotal: 25.3s\tremaining: 2.41s\n",
      "913:\tlearn: 1643.1688928\ttotal: 25.3s\tremaining: 2.38s\n",
      "914:\tlearn: 1642.9227816\ttotal: 25.3s\tremaining: 2.35s\n",
      "915:\tlearn: 1642.8110497\ttotal: 25.4s\tremaining: 2.33s\n",
      "916:\tlearn: 1642.6822289\ttotal: 25.4s\tremaining: 2.3s\n",
      "917:\tlearn: 1642.5779032\ttotal: 25.4s\tremaining: 2.27s\n",
      "918:\tlearn: 1642.4686556\ttotal: 25.4s\tremaining: 2.24s\n",
      "919:\tlearn: 1642.2731516\ttotal: 25.5s\tremaining: 2.21s\n",
      "920:\tlearn: 1642.1689847\ttotal: 25.5s\tremaining: 2.19s\n",
      "921:\tlearn: 1642.0340051\ttotal: 25.5s\tremaining: 2.16s\n",
      "922:\tlearn: 1641.9586741\ttotal: 25.6s\tremaining: 2.13s\n",
      "923:\tlearn: 1641.8432721\ttotal: 25.6s\tremaining: 2.1s\n",
      "924:\tlearn: 1641.7486246\ttotal: 25.6s\tremaining: 2.08s\n",
      "925:\tlearn: 1641.7125286\ttotal: 25.6s\tremaining: 2.05s\n",
      "926:\tlearn: 1641.5950423\ttotal: 25.7s\tremaining: 2.02s\n",
      "927:\tlearn: 1641.4824923\ttotal: 25.7s\tremaining: 1.99s\n",
      "928:\tlearn: 1641.3577161\ttotal: 25.7s\tremaining: 1.97s\n",
      "929:\tlearn: 1641.1907321\ttotal: 25.8s\tremaining: 1.94s\n",
      "930:\tlearn: 1641.0947514\ttotal: 25.8s\tremaining: 1.91s\n",
      "931:\tlearn: 1640.9059267\ttotal: 25.8s\tremaining: 1.88s\n",
      "932:\tlearn: 1640.7250869\ttotal: 25.8s\tremaining: 1.85s\n",
      "933:\tlearn: 1640.6127859\ttotal: 25.9s\tremaining: 1.83s\n",
      "934:\tlearn: 1640.4982666\ttotal: 25.9s\tremaining: 1.8s\n",
      "935:\tlearn: 1640.3904213\ttotal: 25.9s\tremaining: 1.77s\n",
      "936:\tlearn: 1640.2900579\ttotal: 26s\tremaining: 1.75s\n",
      "937:\tlearn: 1640.0903968\ttotal: 26s\tremaining: 1.72s\n",
      "938:\tlearn: 1639.9924277\ttotal: 26s\tremaining: 1.69s\n",
      "939:\tlearn: 1639.8339284\ttotal: 26s\tremaining: 1.66s\n",
      "940:\tlearn: 1639.7347681\ttotal: 26.1s\tremaining: 1.63s\n",
      "941:\tlearn: 1639.5997686\ttotal: 26.1s\tremaining: 1.61s\n",
      "942:\tlearn: 1639.4792733\ttotal: 26.1s\tremaining: 1.58s\n",
      "943:\tlearn: 1639.3978780\ttotal: 26.2s\tremaining: 1.55s\n",
      "944:\tlearn: 1639.3155623\ttotal: 26.2s\tremaining: 1.52s\n",
      "945:\tlearn: 1639.2351247\ttotal: 26.2s\tremaining: 1.5s\n",
      "946:\tlearn: 1639.1582369\ttotal: 26.2s\tremaining: 1.47s\n",
      "947:\tlearn: 1638.9711013\ttotal: 26.3s\tremaining: 1.44s\n",
      "948:\tlearn: 1638.7849980\ttotal: 26.3s\tremaining: 1.41s\n",
      "949:\tlearn: 1638.6744101\ttotal: 26.3s\tremaining: 1.39s\n",
      "950:\tlearn: 1638.4995723\ttotal: 26.3s\tremaining: 1.36s\n",
      "951:\tlearn: 1638.3695943\ttotal: 26.4s\tremaining: 1.33s\n",
      "952:\tlearn: 1638.2048436\ttotal: 26.4s\tremaining: 1.3s\n",
      "953:\tlearn: 1638.0983857\ttotal: 26.4s\tremaining: 1.27s\n",
      "954:\tlearn: 1637.9653838\ttotal: 26.5s\tremaining: 1.25s\n",
      "955:\tlearn: 1637.8520881\ttotal: 26.5s\tremaining: 1.22s\n",
      "956:\tlearn: 1637.7317360\ttotal: 26.5s\tremaining: 1.19s\n",
      "957:\tlearn: 1637.5546457\ttotal: 26.5s\tremaining: 1.16s\n",
      "958:\tlearn: 1637.4251170\ttotal: 26.6s\tremaining: 1.14s\n",
      "959:\tlearn: 1637.3077433\ttotal: 26.6s\tremaining: 1.11s\n",
      "960:\tlearn: 1637.1882530\ttotal: 26.6s\tremaining: 1.08s\n",
      "961:\tlearn: 1637.1305962\ttotal: 26.7s\tremaining: 1.05s\n",
      "962:\tlearn: 1637.0143659\ttotal: 26.7s\tremaining: 1.02s\n",
      "963:\tlearn: 1636.9516064\ttotal: 26.7s\tremaining: 998ms\n",
      "964:\tlearn: 1636.8410392\ttotal: 26.8s\tremaining: 971ms\n",
      "965:\tlearn: 1636.7464148\ttotal: 26.8s\tremaining: 943ms\n",
      "966:\tlearn: 1636.7083497\ttotal: 26.8s\tremaining: 915ms\n",
      "967:\tlearn: 1636.5932615\ttotal: 26.8s\tremaining: 888ms\n",
      "968:\tlearn: 1636.5036348\ttotal: 26.9s\tremaining: 860ms\n",
      "969:\tlearn: 1636.4107337\ttotal: 26.9s\tremaining: 832ms\n",
      "970:\tlearn: 1636.3366511\ttotal: 26.9s\tremaining: 805ms\n",
      "971:\tlearn: 1636.2240660\ttotal: 27s\tremaining: 777ms\n",
      "972:\tlearn: 1636.1251069\ttotal: 27s\tremaining: 749ms\n",
      "973:\tlearn: 1635.9905361\ttotal: 27s\tremaining: 721ms\n",
      "974:\tlearn: 1635.9437341\ttotal: 27.1s\tremaining: 694ms\n",
      "975:\tlearn: 1635.8409764\ttotal: 27.1s\tremaining: 666ms\n",
      "976:\tlearn: 1635.7162099\ttotal: 27.1s\tremaining: 638ms\n",
      "977:\tlearn: 1635.6287511\ttotal: 27.1s\tremaining: 610ms\n",
      "978:\tlearn: 1635.5549846\ttotal: 27.2s\tremaining: 583ms\n",
      "979:\tlearn: 1635.4051529\ttotal: 27.2s\tremaining: 555ms\n",
      "980:\tlearn: 1635.3406003\ttotal: 27.2s\tremaining: 527ms\n",
      "981:\tlearn: 1635.2764127\ttotal: 27.3s\tremaining: 500ms\n",
      "982:\tlearn: 1635.1289619\ttotal: 27.3s\tremaining: 472ms\n",
      "983:\tlearn: 1635.0934711\ttotal: 27.3s\tremaining: 444ms\n",
      "984:\tlearn: 1635.0317147\ttotal: 27.3s\tremaining: 416ms\n",
      "985:\tlearn: 1634.9273438\ttotal: 27.4s\tremaining: 389ms\n",
      "986:\tlearn: 1634.8101853\ttotal: 27.4s\tremaining: 361ms\n",
      "987:\tlearn: 1634.6494664\ttotal: 27.4s\tremaining: 333ms\n",
      "988:\tlearn: 1634.4437055\ttotal: 27.5s\tremaining: 305ms\n",
      "989:\tlearn: 1634.3706506\ttotal: 27.5s\tremaining: 278ms\n",
      "990:\tlearn: 1634.2287648\ttotal: 27.5s\tremaining: 250ms\n",
      "991:\tlearn: 1634.0952565\ttotal: 27.5s\tremaining: 222ms\n",
      "992:\tlearn: 1633.9584680\ttotal: 27.6s\tremaining: 194ms\n",
      "993:\tlearn: 1633.8105420\ttotal: 27.6s\tremaining: 167ms\n",
      "994:\tlearn: 1633.7068815\ttotal: 27.6s\tremaining: 139ms\n",
      "995:\tlearn: 1633.6137294\ttotal: 27.7s\tremaining: 111ms\n",
      "996:\tlearn: 1633.5306133\ttotal: 27.7s\tremaining: 83.3ms\n",
      "997:\tlearn: 1633.4055632\ttotal: 27.7s\tremaining: 55.5ms\n",
      "998:\tlearn: 1633.3060596\ttotal: 27.7s\tremaining: 27.8ms\n",
      "999:\tlearn: 1633.2108707\ttotal: 27.8s\tremaining: 0us\n",
      "Learning rate set to 0.097814\n",
      "0:\tlearn: 4268.9324355\ttotal: 47.7ms\tremaining: 47.6s\n",
      "1:\tlearn: 4010.6410460\ttotal: 88.4ms\tremaining: 44.1s\n",
      "2:\tlearn: 3784.1669481\ttotal: 134ms\tremaining: 44.4s\n",
      "3:\tlearn: 3579.5232253\ttotal: 170ms\tremaining: 42.3s\n",
      "4:\tlearn: 3400.3400769\ttotal: 222ms\tremaining: 44.2s\n",
      "5:\tlearn: 3242.2229009\ttotal: 259ms\tremaining: 42.9s\n",
      "6:\tlearn: 3101.0951468\ttotal: 309ms\tremaining: 43.8s\n",
      "7:\tlearn: 2976.0448761\ttotal: 345ms\tremaining: 42.8s\n",
      "8:\tlearn: 2865.0184049\ttotal: 388ms\tremaining: 42.7s\n",
      "9:\tlearn: 2769.5971830\ttotal: 428ms\tremaining: 42.4s\n",
      "10:\tlearn: 2688.7300008\ttotal: 463ms\tremaining: 41.7s\n",
      "11:\tlearn: 2611.4192577\ttotal: 515ms\tremaining: 42.4s\n",
      "12:\tlearn: 2547.1626659\ttotal: 553ms\tremaining: 42s\n",
      "13:\tlearn: 2486.4814447\ttotal: 597ms\tremaining: 42.1s\n",
      "14:\tlearn: 2436.7976506\ttotal: 631ms\tremaining: 41.4s\n",
      "15:\tlearn: 2388.2476102\ttotal: 675ms\tremaining: 41.5s\n",
      "16:\tlearn: 2349.1750890\ttotal: 718ms\tremaining: 41.5s\n",
      "17:\tlearn: 2311.5397711\ttotal: 752ms\tremaining: 41s\n",
      "18:\tlearn: 2279.0709995\ttotal: 799ms\tremaining: 41.3s\n",
      "19:\tlearn: 2249.5200641\ttotal: 835ms\tremaining: 40.9s\n",
      "20:\tlearn: 2225.0638599\ttotal: 875ms\tremaining: 40.8s\n",
      "21:\tlearn: 2202.5869378\ttotal: 915ms\tremaining: 40.7s\n",
      "22:\tlearn: 2181.3138603\ttotal: 950ms\tremaining: 40.3s\n",
      "23:\tlearn: 2162.7987170\ttotal: 994ms\tremaining: 40.4s\n",
      "24:\tlearn: 2146.4960625\ttotal: 1.03s\tremaining: 40.1s\n",
      "25:\tlearn: 2130.0284629\ttotal: 1.07s\tremaining: 40s\n",
      "26:\tlearn: 2114.8175590\ttotal: 1.1s\tremaining: 39.9s\n",
      "27:\tlearn: 2103.0645814\ttotal: 1.14s\tremaining: 39.6s\n",
      "28:\tlearn: 2092.1972325\ttotal: 1.18s\tremaining: 39.6s\n",
      "29:\tlearn: 2082.0707635\ttotal: 1.22s\tremaining: 39.4s\n",
      "30:\tlearn: 2072.5199001\ttotal: 1.26s\tremaining: 39.3s\n",
      "31:\tlearn: 2061.9256277\ttotal: 1.3s\tremaining: 39.3s\n",
      "32:\tlearn: 2053.0818270\ttotal: 1.34s\tremaining: 39.2s\n",
      "33:\tlearn: 2045.8192642\ttotal: 1.38s\tremaining: 39.2s\n",
      "34:\tlearn: 2038.9822441\ttotal: 1.41s\tremaining: 39s\n",
      "35:\tlearn: 2033.6254723\ttotal: 1.45s\tremaining: 38.8s\n",
      "36:\tlearn: 2028.4506164\ttotal: 1.49s\tremaining: 38.8s\n",
      "37:\tlearn: 2020.3179117\ttotal: 1.53s\tremaining: 38.7s\n",
      "38:\tlearn: 2015.5523488\ttotal: 1.57s\tremaining: 38.7s\n",
      "39:\tlearn: 2010.3228599\ttotal: 1.6s\tremaining: 38.5s\n",
      "40:\tlearn: 2004.3267459\ttotal: 1.64s\tremaining: 38.4s\n",
      "41:\tlearn: 1998.5867855\ttotal: 1.69s\tremaining: 38.4s\n",
      "42:\tlearn: 1994.6349425\ttotal: 1.72s\tremaining: 38.2s\n",
      "43:\tlearn: 1991.2172038\ttotal: 1.76s\tremaining: 38.2s\n",
      "44:\tlearn: 1988.5022244\ttotal: 1.79s\tremaining: 38s\n",
      "45:\tlearn: 1984.3815351\ttotal: 1.83s\tremaining: 38s\n",
      "46:\tlearn: 1978.7809852\ttotal: 1.88s\tremaining: 38s\n",
      "47:\tlearn: 1976.1214547\ttotal: 1.91s\tremaining: 37.8s\n",
      "48:\tlearn: 1972.7190666\ttotal: 1.95s\tremaining: 37.8s\n",
      "49:\tlearn: 1968.6779676\ttotal: 1.98s\tremaining: 37.7s\n",
      "50:\tlearn: 1963.1907207\ttotal: 2.02s\tremaining: 37.6s\n",
      "51:\tlearn: 1960.2988615\ttotal: 2.07s\tremaining: 37.7s\n",
      "52:\tlearn: 1957.8772666\ttotal: 2.1s\tremaining: 37.5s\n",
      "53:\tlearn: 1955.8311334\ttotal: 2.14s\tremaining: 37.5s\n",
      "54:\tlearn: 1953.0846871\ttotal: 2.18s\tremaining: 37.4s\n",
      "55:\tlearn: 1950.5234577\ttotal: 2.21s\tremaining: 37.2s\n",
      "56:\tlearn: 1946.2558032\ttotal: 2.25s\tremaining: 37.3s\n",
      "57:\tlearn: 1943.7185580\ttotal: 2.29s\tremaining: 37.1s\n",
      "58:\tlearn: 1941.8747937\ttotal: 2.32s\tremaining: 37s\n",
      "59:\tlearn: 1938.4969708\ttotal: 2.36s\tremaining: 37s\n",
      "60:\tlearn: 1935.7775907\ttotal: 2.4s\tremaining: 36.9s\n",
      "61:\tlearn: 1934.4810527\ttotal: 2.43s\tremaining: 36.8s\n",
      "62:\tlearn: 1931.2776221\ttotal: 2.47s\tremaining: 36.8s\n",
      "63:\tlearn: 1929.5589586\ttotal: 2.5s\tremaining: 36.6s\n",
      "64:\tlearn: 1926.3388558\ttotal: 2.55s\tremaining: 36.7s\n",
      "65:\tlearn: 1923.6750746\ttotal: 2.58s\tremaining: 36.6s\n",
      "66:\tlearn: 1922.5330800\ttotal: 2.62s\tremaining: 36.5s\n",
      "67:\tlearn: 1920.8281168\ttotal: 2.66s\tremaining: 36.4s\n",
      "68:\tlearn: 1918.3175340\ttotal: 2.69s\tremaining: 36.3s\n",
      "69:\tlearn: 1915.7574885\ttotal: 2.73s\tremaining: 36.3s\n",
      "70:\tlearn: 1913.6291187\ttotal: 2.77s\tremaining: 36.3s\n",
      "71:\tlearn: 1911.3063450\ttotal: 2.81s\tremaining: 36.2s\n",
      "72:\tlearn: 1910.0146675\ttotal: 2.85s\tremaining: 36.1s\n",
      "73:\tlearn: 1908.5637534\ttotal: 2.88s\tremaining: 36s\n",
      "74:\tlearn: 1906.4780092\ttotal: 2.92s\tremaining: 36s\n",
      "75:\tlearn: 1905.1691680\ttotal: 2.96s\tremaining: 36s\n",
      "76:\tlearn: 1903.1997125\ttotal: 2.99s\tremaining: 35.8s\n",
      "77:\tlearn: 1901.8821513\ttotal: 3.03s\tremaining: 35.9s\n",
      "78:\tlearn: 1900.1337731\ttotal: 3.06s\tremaining: 35.7s\n",
      "79:\tlearn: 1899.1992384\ttotal: 3.1s\tremaining: 35.6s\n",
      "80:\tlearn: 1897.3895928\ttotal: 3.14s\tremaining: 35.6s\n",
      "81:\tlearn: 1895.8139714\ttotal: 3.17s\tremaining: 35.5s\n",
      "82:\tlearn: 1893.6768162\ttotal: 3.22s\tremaining: 35.5s\n",
      "83:\tlearn: 1891.4986383\ttotal: 3.25s\tremaining: 35.5s\n",
      "84:\tlearn: 1889.8489640\ttotal: 3.29s\tremaining: 35.4s\n",
      "85:\tlearn: 1888.8394635\ttotal: 3.33s\tremaining: 35.4s\n",
      "86:\tlearn: 1887.7631764\ttotal: 3.36s\tremaining: 35.3s\n",
      "87:\tlearn: 1886.0409055\ttotal: 3.4s\tremaining: 35.2s\n",
      "88:\tlearn: 1884.4447070\ttotal: 3.44s\tremaining: 35.2s\n",
      "89:\tlearn: 1882.9561620\ttotal: 3.47s\tremaining: 35.1s\n",
      "90:\tlearn: 1881.6691320\ttotal: 3.51s\tremaining: 35.1s\n",
      "91:\tlearn: 1879.9898022\ttotal: 3.55s\tremaining: 35s\n",
      "92:\tlearn: 1879.0661497\ttotal: 3.58s\tremaining: 34.9s\n",
      "93:\tlearn: 1877.3728090\ttotal: 3.62s\tremaining: 34.9s\n",
      "94:\tlearn: 1876.1311891\ttotal: 3.66s\tremaining: 34.8s\n",
      "95:\tlearn: 1874.7015338\ttotal: 3.7s\tremaining: 34.8s\n",
      "96:\tlearn: 1873.5465573\ttotal: 3.73s\tremaining: 34.8s\n",
      "97:\tlearn: 1872.7624631\ttotal: 3.77s\tremaining: 34.7s\n",
      "98:\tlearn: 1870.7938629\ttotal: 3.81s\tremaining: 34.6s\n",
      "99:\tlearn: 1869.2673785\ttotal: 3.84s\tremaining: 34.6s\n",
      "100:\tlearn: 1867.9182654\ttotal: 3.89s\tremaining: 34.6s\n",
      "101:\tlearn: 1866.6275050\ttotal: 3.92s\tremaining: 34.5s\n",
      "102:\tlearn: 1864.8356438\ttotal: 3.96s\tremaining: 34.5s\n",
      "103:\tlearn: 1863.8575595\ttotal: 4s\tremaining: 34.5s\n",
      "104:\tlearn: 1862.9924644\ttotal: 4.04s\tremaining: 34.4s\n",
      "105:\tlearn: 1862.4445378\ttotal: 4.08s\tremaining: 34.4s\n",
      "106:\tlearn: 1861.5129977\ttotal: 4.11s\tremaining: 34.3s\n",
      "107:\tlearn: 1859.9204173\ttotal: 4.14s\tremaining: 34.2s\n",
      "108:\tlearn: 1858.7382351\ttotal: 4.18s\tremaining: 34.2s\n",
      "109:\tlearn: 1857.3892643\ttotal: 4.22s\tremaining: 34.1s\n",
      "110:\tlearn: 1856.6283950\ttotal: 4.26s\tremaining: 34.1s\n",
      "111:\tlearn: 1855.4247124\ttotal: 4.29s\tremaining: 34s\n",
      "112:\tlearn: 1854.3838611\ttotal: 4.33s\tremaining: 34s\n",
      "113:\tlearn: 1853.5954063\ttotal: 4.37s\tremaining: 34s\n",
      "114:\tlearn: 1852.6219831\ttotal: 4.4s\tremaining: 33.9s\n",
      "115:\tlearn: 1851.9004090\ttotal: 4.44s\tremaining: 33.8s\n",
      "116:\tlearn: 1851.2159787\ttotal: 4.47s\tremaining: 33.8s\n",
      "117:\tlearn: 1850.5915299\ttotal: 4.5s\tremaining: 33.7s\n",
      "118:\tlearn: 1849.8976949\ttotal: 4.54s\tremaining: 33.6s\n",
      "119:\tlearn: 1848.8652075\ttotal: 4.58s\tremaining: 33.6s\n",
      "120:\tlearn: 1847.8232751\ttotal: 4.62s\tremaining: 33.5s\n",
      "121:\tlearn: 1847.2230104\ttotal: 4.66s\tremaining: 33.5s\n",
      "122:\tlearn: 1846.5371880\ttotal: 4.7s\tremaining: 33.5s\n",
      "123:\tlearn: 1845.8262919\ttotal: 4.73s\tremaining: 33.4s\n",
      "124:\tlearn: 1845.3827261\ttotal: 4.77s\tremaining: 33.4s\n",
      "125:\tlearn: 1844.6014292\ttotal: 4.8s\tremaining: 33.3s\n",
      "126:\tlearn: 1843.7578276\ttotal: 4.84s\tremaining: 33.3s\n",
      "127:\tlearn: 1843.0869271\ttotal: 4.88s\tremaining: 33.2s\n",
      "128:\tlearn: 1841.9619538\ttotal: 4.91s\tremaining: 33.2s\n",
      "129:\tlearn: 1841.2991078\ttotal: 4.95s\tremaining: 33.2s\n",
      "130:\tlearn: 1840.4296282\ttotal: 4.99s\tremaining: 33.1s\n",
      "131:\tlearn: 1839.1957353\ttotal: 5.03s\tremaining: 33.1s\n",
      "132:\tlearn: 1838.1950594\ttotal: 5.06s\tremaining: 33s\n",
      "133:\tlearn: 1837.3731522\ttotal: 5.1s\tremaining: 32.9s\n",
      "134:\tlearn: 1836.7928530\ttotal: 5.14s\tremaining: 32.9s\n",
      "135:\tlearn: 1835.7954051\ttotal: 5.18s\tremaining: 32.9s\n",
      "136:\tlearn: 1834.9445079\ttotal: 5.21s\tremaining: 32.8s\n",
      "137:\tlearn: 1834.0497983\ttotal: 5.25s\tremaining: 32.8s\n",
      "138:\tlearn: 1833.0138969\ttotal: 5.29s\tremaining: 32.8s\n",
      "139:\tlearn: 1832.2018222\ttotal: 5.33s\tremaining: 32.7s\n",
      "140:\tlearn: 1831.6937920\ttotal: 5.36s\tremaining: 32.7s\n",
      "141:\tlearn: 1831.1211248\ttotal: 5.39s\tremaining: 32.6s\n",
      "142:\tlearn: 1830.3238911\ttotal: 5.43s\tremaining: 32.6s\n",
      "143:\tlearn: 1829.7812267\ttotal: 5.46s\tremaining: 32.5s\n",
      "144:\tlearn: 1829.0570199\ttotal: 5.5s\tremaining: 32.4s\n",
      "145:\tlearn: 1828.4505519\ttotal: 5.54s\tremaining: 32.4s\n",
      "146:\tlearn: 1828.0967705\ttotal: 5.57s\tremaining: 32.3s\n",
      "147:\tlearn: 1827.0128422\ttotal: 5.61s\tremaining: 32.3s\n",
      "148:\tlearn: 1826.1013723\ttotal: 5.65s\tremaining: 32.3s\n",
      "149:\tlearn: 1825.4182648\ttotal: 5.68s\tremaining: 32.2s\n",
      "150:\tlearn: 1824.6176075\ttotal: 5.73s\tremaining: 32.2s\n",
      "151:\tlearn: 1823.8060667\ttotal: 5.76s\tremaining: 32.1s\n",
      "152:\tlearn: 1823.1678913\ttotal: 5.8s\tremaining: 32.1s\n",
      "153:\tlearn: 1822.7543456\ttotal: 5.84s\tremaining: 32.1s\n",
      "154:\tlearn: 1822.1850611\ttotal: 5.87s\tremaining: 32s\n",
      "155:\tlearn: 1821.5692808\ttotal: 5.92s\tremaining: 32s\n",
      "156:\tlearn: 1820.9095442\ttotal: 5.96s\tremaining: 32s\n",
      "157:\tlearn: 1820.4462638\ttotal: 5.99s\tremaining: 31.9s\n",
      "158:\tlearn: 1819.8860522\ttotal: 6.03s\tremaining: 31.9s\n",
      "159:\tlearn: 1819.2441115\ttotal: 6.06s\tremaining: 31.8s\n",
      "160:\tlearn: 1818.4616216\ttotal: 6.11s\tremaining: 31.8s\n",
      "161:\tlearn: 1817.9427457\ttotal: 6.14s\tremaining: 31.8s\n",
      "162:\tlearn: 1817.4403200\ttotal: 6.18s\tremaining: 31.7s\n",
      "163:\tlearn: 1816.9666062\ttotal: 6.22s\tremaining: 31.7s\n",
      "164:\tlearn: 1816.2439721\ttotal: 6.25s\tremaining: 31.6s\n",
      "165:\tlearn: 1815.8090863\ttotal: 6.29s\tremaining: 31.6s\n",
      "166:\tlearn: 1815.3273199\ttotal: 6.33s\tremaining: 31.6s\n",
      "167:\tlearn: 1814.5158132\ttotal: 6.36s\tremaining: 31.5s\n",
      "168:\tlearn: 1814.1986002\ttotal: 6.4s\tremaining: 31.5s\n",
      "169:\tlearn: 1813.6626373\ttotal: 6.44s\tremaining: 31.4s\n",
      "170:\tlearn: 1812.9822789\ttotal: 6.47s\tremaining: 31.4s\n",
      "171:\tlearn: 1812.5582427\ttotal: 6.51s\tremaining: 31.4s\n",
      "172:\tlearn: 1811.8354672\ttotal: 6.54s\tremaining: 31.3s\n",
      "173:\tlearn: 1811.3725020\ttotal: 6.58s\tremaining: 31.2s\n",
      "174:\tlearn: 1810.8608786\ttotal: 6.62s\tremaining: 31.2s\n",
      "175:\tlearn: 1810.2449498\ttotal: 6.65s\tremaining: 31.1s\n",
      "176:\tlearn: 1809.6423035\ttotal: 6.7s\tremaining: 31.1s\n",
      "177:\tlearn: 1809.2480727\ttotal: 6.73s\tremaining: 31.1s\n",
      "178:\tlearn: 1808.6675072\ttotal: 6.76s\tremaining: 31s\n",
      "179:\tlearn: 1808.0039389\ttotal: 6.8s\tremaining: 31s\n",
      "180:\tlearn: 1807.6046747\ttotal: 6.83s\tremaining: 30.9s\n",
      "181:\tlearn: 1807.3519822\ttotal: 6.87s\tremaining: 30.9s\n",
      "182:\tlearn: 1806.8990466\ttotal: 6.91s\tremaining: 30.8s\n",
      "183:\tlearn: 1806.2886441\ttotal: 6.94s\tremaining: 30.8s\n",
      "184:\tlearn: 1805.5854407\ttotal: 6.99s\tremaining: 30.8s\n",
      "185:\tlearn: 1805.0783816\ttotal: 7.03s\tremaining: 30.8s\n",
      "186:\tlearn: 1804.5242344\ttotal: 7.07s\tremaining: 30.7s\n",
      "187:\tlearn: 1804.3149081\ttotal: 7.1s\tremaining: 30.7s\n",
      "188:\tlearn: 1803.7452142\ttotal: 7.14s\tremaining: 30.6s\n",
      "189:\tlearn: 1803.4434408\ttotal: 7.18s\tremaining: 30.6s\n",
      "190:\tlearn: 1803.1064225\ttotal: 7.22s\tremaining: 30.6s\n",
      "191:\tlearn: 1802.6029852\ttotal: 7.27s\tremaining: 30.6s\n",
      "192:\tlearn: 1802.1195912\ttotal: 7.3s\tremaining: 30.5s\n",
      "193:\tlearn: 1801.6937097\ttotal: 7.35s\tremaining: 30.5s\n",
      "194:\tlearn: 1801.2427150\ttotal: 7.39s\tremaining: 30.5s\n",
      "195:\tlearn: 1800.9240433\ttotal: 7.43s\tremaining: 30.5s\n",
      "196:\tlearn: 1800.5739351\ttotal: 7.47s\tremaining: 30.5s\n",
      "197:\tlearn: 1800.1988974\ttotal: 7.51s\tremaining: 30.4s\n",
      "198:\tlearn: 1799.8508234\ttotal: 7.55s\tremaining: 30.4s\n",
      "199:\tlearn: 1799.1884678\ttotal: 7.59s\tremaining: 30.4s\n",
      "200:\tlearn: 1798.5902332\ttotal: 7.63s\tremaining: 30.3s\n",
      "201:\tlearn: 1798.0212189\ttotal: 7.67s\tremaining: 30.3s\n",
      "202:\tlearn: 1797.7243252\ttotal: 7.71s\tremaining: 30.3s\n",
      "203:\tlearn: 1797.0336469\ttotal: 7.75s\tremaining: 30.2s\n",
      "204:\tlearn: 1796.3191776\ttotal: 7.79s\tremaining: 30.2s\n",
      "205:\tlearn: 1795.9519571\ttotal: 7.82s\tremaining: 30.2s\n",
      "206:\tlearn: 1795.5950900\ttotal: 7.87s\tremaining: 30.1s\n",
      "207:\tlearn: 1795.2389059\ttotal: 7.91s\tremaining: 30.1s\n",
      "208:\tlearn: 1794.7079839\ttotal: 7.95s\tremaining: 30.1s\n",
      "209:\tlearn: 1794.1596165\ttotal: 7.99s\tremaining: 30s\n",
      "210:\tlearn: 1793.7831297\ttotal: 8.03s\tremaining: 30s\n",
      "211:\tlearn: 1793.4907585\ttotal: 8.06s\tremaining: 30s\n",
      "212:\tlearn: 1792.9769478\ttotal: 8.09s\tremaining: 29.9s\n",
      "213:\tlearn: 1792.5382337\ttotal: 8.13s\tremaining: 29.9s\n",
      "214:\tlearn: 1791.9538646\ttotal: 8.17s\tremaining: 29.8s\n",
      "215:\tlearn: 1791.2988125\ttotal: 8.21s\tremaining: 29.8s\n",
      "216:\tlearn: 1790.8879168\ttotal: 8.25s\tremaining: 29.8s\n",
      "217:\tlearn: 1790.5466705\ttotal: 8.28s\tremaining: 29.7s\n",
      "218:\tlearn: 1790.1821375\ttotal: 8.31s\tremaining: 29.6s\n",
      "219:\tlearn: 1789.8022776\ttotal: 8.35s\tremaining: 29.6s\n",
      "220:\tlearn: 1789.3897690\ttotal: 8.38s\tremaining: 29.5s\n",
      "221:\tlearn: 1789.2006412\ttotal: 8.42s\tremaining: 29.5s\n",
      "222:\tlearn: 1788.6142665\ttotal: 8.46s\tremaining: 29.5s\n",
      "223:\tlearn: 1788.1002454\ttotal: 8.49s\tremaining: 29.4s\n",
      "224:\tlearn: 1787.6531289\ttotal: 8.53s\tremaining: 29.4s\n",
      "225:\tlearn: 1787.2842224\ttotal: 8.56s\tremaining: 29.3s\n",
      "226:\tlearn: 1786.9077368\ttotal: 8.61s\tremaining: 29.3s\n",
      "227:\tlearn: 1786.4275520\ttotal: 8.64s\tremaining: 29.3s\n",
      "228:\tlearn: 1786.1205733\ttotal: 8.67s\tremaining: 29.2s\n",
      "229:\tlearn: 1785.6904303\ttotal: 8.72s\tremaining: 29.2s\n",
      "230:\tlearn: 1785.3968018\ttotal: 8.75s\tremaining: 29.1s\n",
      "231:\tlearn: 1784.9782433\ttotal: 8.79s\tremaining: 29.1s\n",
      "232:\tlearn: 1784.6855910\ttotal: 8.82s\tremaining: 29s\n",
      "233:\tlearn: 1784.2238292\ttotal: 8.86s\tremaining: 29s\n",
      "234:\tlearn: 1783.9608709\ttotal: 8.89s\tremaining: 29s\n",
      "235:\tlearn: 1783.6271962\ttotal: 8.93s\tremaining: 28.9s\n",
      "236:\tlearn: 1783.2335930\ttotal: 8.96s\tremaining: 28.8s\n",
      "237:\tlearn: 1782.7868410\ttotal: 9s\tremaining: 28.8s\n",
      "238:\tlearn: 1782.5721117\ttotal: 9.04s\tremaining: 28.8s\n",
      "239:\tlearn: 1781.9219510\ttotal: 9.08s\tremaining: 28.8s\n",
      "240:\tlearn: 1781.7145898\ttotal: 9.12s\tremaining: 28.7s\n",
      "241:\tlearn: 1781.3611394\ttotal: 9.15s\tremaining: 28.7s\n",
      "242:\tlearn: 1781.1198496\ttotal: 9.2s\tremaining: 28.7s\n",
      "243:\tlearn: 1780.6603243\ttotal: 9.23s\tremaining: 28.6s\n",
      "244:\tlearn: 1780.2112602\ttotal: 9.27s\tremaining: 28.6s\n",
      "245:\tlearn: 1779.9453147\ttotal: 9.31s\tremaining: 28.5s\n",
      "246:\tlearn: 1779.5035305\ttotal: 9.34s\tremaining: 28.5s\n",
      "247:\tlearn: 1779.1024113\ttotal: 9.39s\tremaining: 28.5s\n",
      "248:\tlearn: 1778.6124969\ttotal: 9.42s\tremaining: 28.4s\n",
      "249:\tlearn: 1778.2540646\ttotal: 9.46s\tremaining: 28.4s\n",
      "250:\tlearn: 1777.8708548\ttotal: 9.5s\tremaining: 28.3s\n",
      "251:\tlearn: 1777.6396625\ttotal: 9.53s\tremaining: 28.3s\n",
      "252:\tlearn: 1777.3333206\ttotal: 9.56s\tremaining: 28.2s\n",
      "253:\tlearn: 1776.9195690\ttotal: 9.61s\tremaining: 28.2s\n",
      "254:\tlearn: 1776.6025572\ttotal: 9.64s\tremaining: 28.2s\n",
      "255:\tlearn: 1776.1948877\ttotal: 9.68s\tremaining: 28.1s\n",
      "256:\tlearn: 1775.9161063\ttotal: 9.72s\tremaining: 28.1s\n",
      "257:\tlearn: 1775.6270258\ttotal: 9.75s\tremaining: 28s\n",
      "258:\tlearn: 1775.3998128\ttotal: 9.79s\tremaining: 28s\n",
      "259:\tlearn: 1775.0897997\ttotal: 9.83s\tremaining: 28s\n",
      "260:\tlearn: 1774.8271029\ttotal: 9.87s\tremaining: 27.9s\n",
      "261:\tlearn: 1774.3388322\ttotal: 9.9s\tremaining: 27.9s\n",
      "262:\tlearn: 1774.0200502\ttotal: 9.94s\tremaining: 27.9s\n",
      "263:\tlearn: 1773.6887452\ttotal: 9.98s\tremaining: 27.8s\n",
      "264:\tlearn: 1773.4059839\ttotal: 10s\tremaining: 27.8s\n",
      "265:\tlearn: 1773.1201130\ttotal: 10.1s\tremaining: 27.8s\n",
      "266:\tlearn: 1772.7696711\ttotal: 10.1s\tremaining: 27.7s\n",
      "267:\tlearn: 1772.4872386\ttotal: 10.1s\tremaining: 27.7s\n",
      "268:\tlearn: 1772.2062464\ttotal: 10.2s\tremaining: 27.6s\n",
      "269:\tlearn: 1771.8423772\ttotal: 10.2s\tremaining: 27.6s\n",
      "270:\tlearn: 1771.5846551\ttotal: 10.2s\tremaining: 27.6s\n",
      "271:\tlearn: 1771.4041686\ttotal: 10.3s\tremaining: 27.5s\n",
      "272:\tlearn: 1770.8989639\ttotal: 10.3s\tremaining: 27.5s\n",
      "273:\tlearn: 1770.1904435\ttotal: 10.4s\tremaining: 27.5s\n",
      "274:\tlearn: 1769.7568932\ttotal: 10.4s\tremaining: 27.4s\n",
      "275:\tlearn: 1769.3664708\ttotal: 10.4s\tremaining: 27.4s\n",
      "276:\tlearn: 1769.0642151\ttotal: 10.5s\tremaining: 27.4s\n",
      "277:\tlearn: 1768.6658957\ttotal: 10.5s\tremaining: 27.3s\n",
      "278:\tlearn: 1768.1364497\ttotal: 10.6s\tremaining: 27.3s\n",
      "279:\tlearn: 1767.9284926\ttotal: 10.6s\tremaining: 27.2s\n",
      "280:\tlearn: 1767.6985789\ttotal: 10.6s\tremaining: 27.2s\n",
      "281:\tlearn: 1767.1823263\ttotal: 10.7s\tremaining: 27.2s\n",
      "282:\tlearn: 1766.8906104\ttotal: 10.7s\tremaining: 27.1s\n",
      "283:\tlearn: 1766.6383109\ttotal: 10.8s\tremaining: 27.1s\n",
      "284:\tlearn: 1766.1665040\ttotal: 10.8s\tremaining: 27.1s\n",
      "285:\tlearn: 1765.8448374\ttotal: 10.8s\tremaining: 27s\n",
      "286:\tlearn: 1765.5680723\ttotal: 10.9s\tremaining: 27s\n",
      "287:\tlearn: 1765.3666445\ttotal: 10.9s\tremaining: 27s\n",
      "288:\tlearn: 1765.1500794\ttotal: 10.9s\tremaining: 26.9s\n",
      "289:\tlearn: 1764.8564873\ttotal: 11s\tremaining: 26.9s\n",
      "290:\tlearn: 1764.5185652\ttotal: 11s\tremaining: 26.9s\n",
      "291:\tlearn: 1764.1867872\ttotal: 11.1s\tremaining: 26.8s\n",
      "292:\tlearn: 1763.8993393\ttotal: 11.1s\tremaining: 26.8s\n",
      "293:\tlearn: 1763.6660679\ttotal: 11.1s\tremaining: 26.8s\n",
      "294:\tlearn: 1763.3575871\ttotal: 11.2s\tremaining: 26.7s\n",
      "295:\tlearn: 1763.1142639\ttotal: 11.2s\tremaining: 26.7s\n",
      "296:\tlearn: 1762.6812398\ttotal: 11.3s\tremaining: 26.6s\n",
      "297:\tlearn: 1762.2830127\ttotal: 11.3s\tremaining: 26.6s\n",
      "298:\tlearn: 1762.0901304\ttotal: 11.3s\tremaining: 26.6s\n",
      "299:\tlearn: 1761.7681685\ttotal: 11.4s\tremaining: 26.5s\n",
      "300:\tlearn: 1761.4818991\ttotal: 11.4s\tremaining: 26.5s\n",
      "301:\tlearn: 1761.1103422\ttotal: 11.4s\tremaining: 26.4s\n",
      "302:\tlearn: 1760.8641990\ttotal: 11.5s\tremaining: 26.4s\n",
      "303:\tlearn: 1760.6317205\ttotal: 11.5s\tremaining: 26.4s\n",
      "304:\tlearn: 1760.3780051\ttotal: 11.6s\tremaining: 26.3s\n",
      "305:\tlearn: 1760.0414518\ttotal: 11.6s\tremaining: 26.3s\n",
      "306:\tlearn: 1759.8263695\ttotal: 11.6s\tremaining: 26.3s\n",
      "307:\tlearn: 1759.5421926\ttotal: 11.7s\tremaining: 26.2s\n",
      "308:\tlearn: 1759.2803304\ttotal: 11.7s\tremaining: 26.2s\n",
      "309:\tlearn: 1758.7037405\ttotal: 11.8s\tremaining: 26.2s\n",
      "310:\tlearn: 1758.4650643\ttotal: 11.8s\tremaining: 26.1s\n",
      "311:\tlearn: 1758.0051509\ttotal: 11.8s\tremaining: 26.1s\n",
      "312:\tlearn: 1757.8479266\ttotal: 11.9s\tremaining: 26.1s\n",
      "313:\tlearn: 1757.5739874\ttotal: 11.9s\tremaining: 26s\n",
      "314:\tlearn: 1757.3063596\ttotal: 11.9s\tremaining: 26s\n",
      "315:\tlearn: 1757.0848107\ttotal: 12s\tremaining: 25.9s\n",
      "316:\tlearn: 1756.7994567\ttotal: 12s\tremaining: 25.9s\n",
      "317:\tlearn: 1756.5600904\ttotal: 12.1s\tremaining: 25.9s\n",
      "318:\tlearn: 1756.2659534\ttotal: 12.1s\tremaining: 25.8s\n",
      "319:\tlearn: 1756.0907102\ttotal: 12.1s\tremaining: 25.8s\n",
      "320:\tlearn: 1755.8491010\ttotal: 12.2s\tremaining: 25.7s\n",
      "321:\tlearn: 1755.5478877\ttotal: 12.2s\tremaining: 25.7s\n",
      "322:\tlearn: 1755.1168360\ttotal: 12.2s\tremaining: 25.7s\n",
      "323:\tlearn: 1754.8449535\ttotal: 12.3s\tremaining: 25.6s\n",
      "324:\tlearn: 1754.5057935\ttotal: 12.3s\tremaining: 25.6s\n",
      "325:\tlearn: 1754.0880522\ttotal: 12.4s\tremaining: 25.6s\n",
      "326:\tlearn: 1753.8344479\ttotal: 12.4s\tremaining: 25.5s\n",
      "327:\tlearn: 1753.6281704\ttotal: 12.4s\tremaining: 25.5s\n",
      "328:\tlearn: 1753.2965795\ttotal: 12.5s\tremaining: 25.4s\n",
      "329:\tlearn: 1752.9300382\ttotal: 12.5s\tremaining: 25.4s\n",
      "330:\tlearn: 1752.5147734\ttotal: 12.6s\tremaining: 25.4s\n",
      "331:\tlearn: 1752.1240970\ttotal: 12.6s\tremaining: 25.4s\n",
      "332:\tlearn: 1751.9118084\ttotal: 12.6s\tremaining: 25.3s\n",
      "333:\tlearn: 1751.5902142\ttotal: 12.7s\tremaining: 25.3s\n",
      "334:\tlearn: 1751.3225292\ttotal: 12.7s\tremaining: 25.3s\n",
      "335:\tlearn: 1750.9929799\ttotal: 12.8s\tremaining: 25.2s\n",
      "336:\tlearn: 1750.7245450\ttotal: 12.8s\tremaining: 25.2s\n",
      "337:\tlearn: 1750.3474505\ttotal: 12.8s\tremaining: 25.1s\n",
      "338:\tlearn: 1750.1473267\ttotal: 12.9s\tremaining: 25.1s\n",
      "339:\tlearn: 1749.9925988\ttotal: 12.9s\tremaining: 25.1s\n",
      "340:\tlearn: 1749.7293843\ttotal: 12.9s\tremaining: 25s\n",
      "341:\tlearn: 1749.5443800\ttotal: 13s\tremaining: 25s\n",
      "342:\tlearn: 1749.2786608\ttotal: 13s\tremaining: 24.9s\n",
      "343:\tlearn: 1749.0282543\ttotal: 13.1s\tremaining: 24.9s\n",
      "344:\tlearn: 1748.8016758\ttotal: 13.1s\tremaining: 24.9s\n",
      "345:\tlearn: 1748.5816151\ttotal: 13.1s\tremaining: 24.8s\n",
      "346:\tlearn: 1748.2391353\ttotal: 13.2s\tremaining: 24.8s\n",
      "347:\tlearn: 1747.9193570\ttotal: 13.2s\tremaining: 24.8s\n",
      "348:\tlearn: 1747.5006882\ttotal: 13.3s\tremaining: 24.7s\n",
      "349:\tlearn: 1747.2459727\ttotal: 13.3s\tremaining: 24.7s\n",
      "350:\tlearn: 1746.9780406\ttotal: 13.3s\tremaining: 24.7s\n",
      "351:\tlearn: 1746.6494659\ttotal: 13.4s\tremaining: 24.6s\n",
      "352:\tlearn: 1746.4461148\ttotal: 13.4s\tremaining: 24.6s\n",
      "353:\tlearn: 1746.2071127\ttotal: 13.5s\tremaining: 24.5s\n",
      "354:\tlearn: 1745.9392687\ttotal: 13.5s\tremaining: 24.5s\n",
      "355:\tlearn: 1745.5625000\ttotal: 13.5s\tremaining: 24.5s\n",
      "356:\tlearn: 1745.2700794\ttotal: 13.6s\tremaining: 24.4s\n",
      "357:\tlearn: 1744.8984304\ttotal: 13.6s\tremaining: 24.4s\n",
      "358:\tlearn: 1744.6932283\ttotal: 13.6s\tremaining: 24.4s\n",
      "359:\tlearn: 1744.5093506\ttotal: 13.7s\tremaining: 24.3s\n",
      "360:\tlearn: 1744.2132385\ttotal: 13.7s\tremaining: 24.3s\n",
      "361:\tlearn: 1743.7651854\ttotal: 13.8s\tremaining: 24.3s\n",
      "362:\tlearn: 1743.2861394\ttotal: 13.8s\tremaining: 24.2s\n",
      "363:\tlearn: 1743.0874491\ttotal: 13.8s\tremaining: 24.2s\n",
      "364:\tlearn: 1742.8353213\ttotal: 13.9s\tremaining: 24.2s\n",
      "365:\tlearn: 1742.6024486\ttotal: 13.9s\tremaining: 24.1s\n",
      "366:\tlearn: 1742.3204285\ttotal: 14s\tremaining: 24.1s\n",
      "367:\tlearn: 1742.1034864\ttotal: 14s\tremaining: 24s\n",
      "368:\tlearn: 1741.6239581\ttotal: 14s\tremaining: 24s\n",
      "369:\tlearn: 1741.3617940\ttotal: 14.1s\tremaining: 24s\n",
      "370:\tlearn: 1741.0757835\ttotal: 14.1s\tremaining: 23.9s\n",
      "371:\tlearn: 1740.7511262\ttotal: 14.2s\tremaining: 23.9s\n",
      "372:\tlearn: 1740.4421277\ttotal: 14.2s\tremaining: 23.9s\n",
      "373:\tlearn: 1740.1921007\ttotal: 14.2s\tremaining: 23.8s\n",
      "374:\tlearn: 1739.7759459\ttotal: 14.3s\tremaining: 23.8s\n",
      "375:\tlearn: 1739.5004514\ttotal: 14.3s\tremaining: 23.8s\n",
      "376:\tlearn: 1739.2280361\ttotal: 14.4s\tremaining: 23.7s\n",
      "377:\tlearn: 1739.0545965\ttotal: 14.4s\tremaining: 23.7s\n",
      "378:\tlearn: 1738.8086327\ttotal: 14.4s\tremaining: 23.6s\n",
      "379:\tlearn: 1738.6508553\ttotal: 14.5s\tremaining: 23.6s\n",
      "380:\tlearn: 1738.3791908\ttotal: 14.5s\tremaining: 23.6s\n",
      "381:\tlearn: 1738.1401524\ttotal: 14.5s\tremaining: 23.5s\n",
      "382:\tlearn: 1737.8842934\ttotal: 14.6s\tremaining: 23.5s\n",
      "383:\tlearn: 1737.6455247\ttotal: 14.6s\tremaining: 23.5s\n",
      "384:\tlearn: 1737.4289805\ttotal: 14.7s\tremaining: 23.4s\n",
      "385:\tlearn: 1737.1759950\ttotal: 14.7s\tremaining: 23.4s\n",
      "386:\tlearn: 1736.9287996\ttotal: 14.7s\tremaining: 23.4s\n",
      "387:\tlearn: 1736.6644316\ttotal: 14.8s\tremaining: 23.3s\n",
      "388:\tlearn: 1736.4509275\ttotal: 14.8s\tremaining: 23.3s\n",
      "389:\tlearn: 1736.1780686\ttotal: 14.9s\tremaining: 23.2s\n",
      "390:\tlearn: 1735.8027451\ttotal: 14.9s\tremaining: 23.2s\n",
      "391:\tlearn: 1735.5312872\ttotal: 14.9s\tremaining: 23.2s\n",
      "392:\tlearn: 1735.2365895\ttotal: 15s\tremaining: 23.1s\n",
      "393:\tlearn: 1735.0621982\ttotal: 15s\tremaining: 23.1s\n",
      "394:\tlearn: 1734.7786646\ttotal: 15.1s\tremaining: 23.1s\n",
      "395:\tlearn: 1734.5900719\ttotal: 15.1s\tremaining: 23s\n",
      "396:\tlearn: 1734.4205195\ttotal: 15.1s\tremaining: 23s\n",
      "397:\tlearn: 1734.1769668\ttotal: 15.2s\tremaining: 22.9s\n",
      "398:\tlearn: 1734.0092385\ttotal: 15.2s\tremaining: 22.9s\n",
      "399:\tlearn: 1733.6076731\ttotal: 15.2s\tremaining: 22.9s\n",
      "400:\tlearn: 1733.4073943\ttotal: 15.3s\tremaining: 22.8s\n",
      "401:\tlearn: 1733.1870464\ttotal: 15.3s\tremaining: 22.8s\n",
      "402:\tlearn: 1732.8418426\ttotal: 15.3s\tremaining: 22.7s\n",
      "403:\tlearn: 1732.5884280\ttotal: 15.4s\tremaining: 22.7s\n",
      "404:\tlearn: 1732.4253999\ttotal: 15.4s\tremaining: 22.7s\n",
      "405:\tlearn: 1732.2204470\ttotal: 15.5s\tremaining: 22.6s\n",
      "406:\tlearn: 1732.0078576\ttotal: 15.5s\tremaining: 22.6s\n",
      "407:\tlearn: 1731.6408685\ttotal: 15.5s\tremaining: 22.6s\n",
      "408:\tlearn: 1731.4376410\ttotal: 15.6s\tremaining: 22.5s\n",
      "409:\tlearn: 1731.0719856\ttotal: 15.6s\tremaining: 22.5s\n",
      "410:\tlearn: 1730.9297863\ttotal: 15.7s\tremaining: 22.4s\n",
      "411:\tlearn: 1730.5167411\ttotal: 15.7s\tremaining: 22.4s\n",
      "412:\tlearn: 1730.2006985\ttotal: 15.7s\tremaining: 22.4s\n",
      "413:\tlearn: 1729.9278694\ttotal: 15.8s\tremaining: 22.3s\n",
      "414:\tlearn: 1729.6756361\ttotal: 15.8s\tremaining: 22.3s\n",
      "415:\tlearn: 1729.4111341\ttotal: 15.8s\tremaining: 22.2s\n",
      "416:\tlearn: 1729.2568988\ttotal: 15.9s\tremaining: 22.2s\n",
      "417:\tlearn: 1729.0928255\ttotal: 15.9s\tremaining: 22.2s\n",
      "418:\tlearn: 1728.8499582\ttotal: 16s\tremaining: 22.1s\n",
      "419:\tlearn: 1728.5351801\ttotal: 16s\tremaining: 22.1s\n",
      "420:\tlearn: 1728.2158585\ttotal: 16s\tremaining: 22.1s\n",
      "421:\tlearn: 1728.0929619\ttotal: 16.1s\tremaining: 22s\n",
      "422:\tlearn: 1727.9116979\ttotal: 16.1s\tremaining: 22s\n",
      "423:\tlearn: 1727.6771975\ttotal: 16.2s\tremaining: 21.9s\n",
      "424:\tlearn: 1727.4173729\ttotal: 16.2s\tremaining: 21.9s\n",
      "425:\tlearn: 1727.0662389\ttotal: 16.2s\tremaining: 21.9s\n",
      "426:\tlearn: 1726.8669824\ttotal: 16.3s\tremaining: 21.8s\n",
      "427:\tlearn: 1726.6371360\ttotal: 16.3s\tremaining: 21.8s\n",
      "428:\tlearn: 1726.3195048\ttotal: 16.3s\tremaining: 21.7s\n",
      "429:\tlearn: 1726.0887469\ttotal: 16.4s\tremaining: 21.7s\n",
      "430:\tlearn: 1725.8260628\ttotal: 16.4s\tremaining: 21.7s\n",
      "431:\tlearn: 1725.5895624\ttotal: 16.5s\tremaining: 21.6s\n",
      "432:\tlearn: 1725.2705483\ttotal: 16.5s\tremaining: 21.6s\n",
      "433:\tlearn: 1725.1367573\ttotal: 16.5s\tremaining: 21.5s\n",
      "434:\tlearn: 1725.0005454\ttotal: 16.6s\tremaining: 21.5s\n",
      "435:\tlearn: 1724.8051876\ttotal: 16.6s\tremaining: 21.5s\n",
      "436:\tlearn: 1724.6564043\ttotal: 16.6s\tremaining: 21.4s\n",
      "437:\tlearn: 1724.5366264\ttotal: 16.7s\tremaining: 21.4s\n",
      "438:\tlearn: 1724.2321711\ttotal: 16.7s\tremaining: 21.4s\n",
      "439:\tlearn: 1724.0565394\ttotal: 16.8s\tremaining: 21.3s\n",
      "440:\tlearn: 1723.8850055\ttotal: 16.8s\tremaining: 21.3s\n",
      "441:\tlearn: 1723.6696154\ttotal: 16.9s\tremaining: 21.3s\n",
      "442:\tlearn: 1723.3431246\ttotal: 16.9s\tremaining: 21.3s\n",
      "443:\tlearn: 1723.1398505\ttotal: 17s\tremaining: 21.2s\n",
      "444:\tlearn: 1722.8639785\ttotal: 17s\tremaining: 21.2s\n",
      "445:\tlearn: 1722.6735897\ttotal: 17.1s\tremaining: 21.2s\n",
      "446:\tlearn: 1722.5845354\ttotal: 17.1s\tremaining: 21.1s\n",
      "447:\tlearn: 1722.4097049\ttotal: 17.1s\tremaining: 21.1s\n",
      "448:\tlearn: 1722.1139844\ttotal: 17.2s\tremaining: 21.1s\n",
      "449:\tlearn: 1721.7760568\ttotal: 17.2s\tremaining: 21s\n",
      "450:\tlearn: 1721.4713080\ttotal: 17.3s\tremaining: 21s\n",
      "451:\tlearn: 1721.2194677\ttotal: 17.3s\tremaining: 21s\n",
      "452:\tlearn: 1721.0612090\ttotal: 17.3s\tremaining: 20.9s\n",
      "453:\tlearn: 1720.9146539\ttotal: 17.4s\tremaining: 20.9s\n",
      "454:\tlearn: 1720.8222587\ttotal: 17.4s\tremaining: 20.9s\n",
      "455:\tlearn: 1720.6646628\ttotal: 17.4s\tremaining: 20.8s\n",
      "456:\tlearn: 1720.4637749\ttotal: 17.5s\tremaining: 20.8s\n",
      "457:\tlearn: 1720.2393639\ttotal: 17.5s\tremaining: 20.7s\n",
      "458:\tlearn: 1720.1202312\ttotal: 17.6s\tremaining: 20.7s\n",
      "459:\tlearn: 1719.7680282\ttotal: 17.6s\tremaining: 20.7s\n",
      "460:\tlearn: 1719.5163737\ttotal: 17.7s\tremaining: 20.6s\n",
      "461:\tlearn: 1719.3732885\ttotal: 17.7s\tremaining: 20.6s\n",
      "462:\tlearn: 1719.2246511\ttotal: 17.7s\tremaining: 20.6s\n",
      "463:\tlearn: 1719.1061951\ttotal: 17.8s\tremaining: 20.5s\n",
      "464:\tlearn: 1718.8771668\ttotal: 17.8s\tremaining: 20.5s\n",
      "465:\tlearn: 1718.6532539\ttotal: 17.8s\tremaining: 20.4s\n",
      "466:\tlearn: 1718.4049513\ttotal: 17.9s\tremaining: 20.4s\n",
      "467:\tlearn: 1718.2375973\ttotal: 17.9s\tremaining: 20.4s\n",
      "468:\tlearn: 1717.9303183\ttotal: 17.9s\tremaining: 20.3s\n",
      "469:\tlearn: 1717.7103214\ttotal: 18s\tremaining: 20.3s\n",
      "470:\tlearn: 1717.4267298\ttotal: 18s\tremaining: 20.2s\n",
      "471:\tlearn: 1717.1456832\ttotal: 18.1s\tremaining: 20.2s\n",
      "472:\tlearn: 1716.9588359\ttotal: 18.1s\tremaining: 20.2s\n",
      "473:\tlearn: 1716.8348814\ttotal: 18.1s\tremaining: 20.1s\n",
      "474:\tlearn: 1716.5559279\ttotal: 18.2s\tremaining: 20.1s\n",
      "475:\tlearn: 1716.3504419\ttotal: 18.2s\tremaining: 20s\n",
      "476:\tlearn: 1716.2040290\ttotal: 18.2s\tremaining: 20s\n",
      "477:\tlearn: 1716.0826465\ttotal: 18.3s\tremaining: 20s\n",
      "478:\tlearn: 1715.9015271\ttotal: 18.3s\tremaining: 19.9s\n",
      "479:\tlearn: 1715.7024150\ttotal: 18.4s\tremaining: 19.9s\n",
      "480:\tlearn: 1715.6024799\ttotal: 18.4s\tremaining: 19.8s\n",
      "481:\tlearn: 1715.3289656\ttotal: 18.4s\tremaining: 19.8s\n",
      "482:\tlearn: 1715.2076024\ttotal: 18.5s\tremaining: 19.8s\n",
      "483:\tlearn: 1714.9178652\ttotal: 18.5s\tremaining: 19.7s\n",
      "484:\tlearn: 1714.7177816\ttotal: 18.6s\tremaining: 19.7s\n",
      "485:\tlearn: 1714.4598430\ttotal: 18.6s\tremaining: 19.7s\n",
      "486:\tlearn: 1714.0183643\ttotal: 18.6s\tremaining: 19.6s\n",
      "487:\tlearn: 1713.7304333\ttotal: 18.7s\tremaining: 19.6s\n",
      "488:\tlearn: 1713.5103897\ttotal: 18.7s\tremaining: 19.6s\n",
      "489:\tlearn: 1713.3742397\ttotal: 18.7s\tremaining: 19.5s\n",
      "490:\tlearn: 1713.2619764\ttotal: 18.8s\tremaining: 19.5s\n",
      "491:\tlearn: 1713.0387966\ttotal: 18.8s\tremaining: 19.4s\n",
      "492:\tlearn: 1712.9401211\ttotal: 18.9s\tremaining: 19.4s\n",
      "493:\tlearn: 1712.7394449\ttotal: 18.9s\tremaining: 19.4s\n",
      "494:\tlearn: 1712.5343663\ttotal: 18.9s\tremaining: 19.3s\n",
      "495:\tlearn: 1712.3784743\ttotal: 19s\tremaining: 19.3s\n",
      "496:\tlearn: 1712.0922978\ttotal: 19s\tremaining: 19.2s\n",
      "497:\tlearn: 1711.8156402\ttotal: 19s\tremaining: 19.2s\n",
      "498:\tlearn: 1711.6820771\ttotal: 19.1s\tremaining: 19.2s\n",
      "499:\tlearn: 1711.4950015\ttotal: 19.1s\tremaining: 19.1s\n",
      "500:\tlearn: 1711.2591853\ttotal: 19.2s\tremaining: 19.1s\n",
      "501:\tlearn: 1711.0977516\ttotal: 19.2s\tremaining: 19.1s\n",
      "502:\tlearn: 1710.9929387\ttotal: 19.3s\tremaining: 19s\n",
      "503:\tlearn: 1710.8271099\ttotal: 19.3s\tremaining: 19s\n",
      "504:\tlearn: 1710.6331287\ttotal: 19.3s\tremaining: 18.9s\n",
      "505:\tlearn: 1710.4762621\ttotal: 19.4s\tremaining: 18.9s\n",
      "506:\tlearn: 1710.3142589\ttotal: 19.4s\tremaining: 18.9s\n",
      "507:\tlearn: 1710.1899185\ttotal: 19.4s\tremaining: 18.8s\n",
      "508:\tlearn: 1709.9372884\ttotal: 19.5s\tremaining: 18.8s\n",
      "509:\tlearn: 1709.7034273\ttotal: 19.5s\tremaining: 18.8s\n",
      "510:\tlearn: 1709.5120325\ttotal: 19.6s\tremaining: 18.7s\n",
      "511:\tlearn: 1709.2075357\ttotal: 19.6s\tremaining: 18.7s\n",
      "512:\tlearn: 1709.0654959\ttotal: 19.6s\tremaining: 18.6s\n",
      "513:\tlearn: 1708.8787820\ttotal: 19.7s\tremaining: 18.6s\n",
      "514:\tlearn: 1708.6184315\ttotal: 19.7s\tremaining: 18.6s\n",
      "515:\tlearn: 1708.5472845\ttotal: 19.8s\tremaining: 18.5s\n",
      "516:\tlearn: 1708.4376861\ttotal: 19.8s\tremaining: 18.5s\n",
      "517:\tlearn: 1708.2355679\ttotal: 19.8s\tremaining: 18.5s\n",
      "518:\tlearn: 1707.9584908\ttotal: 19.9s\tremaining: 18.4s\n",
      "519:\tlearn: 1707.6131821\ttotal: 19.9s\tremaining: 18.4s\n",
      "520:\tlearn: 1707.3502514\ttotal: 20s\tremaining: 18.4s\n",
      "521:\tlearn: 1707.1687955\ttotal: 20s\tremaining: 18.3s\n",
      "522:\tlearn: 1706.8852222\ttotal: 20s\tremaining: 18.3s\n",
      "523:\tlearn: 1706.7647810\ttotal: 20.1s\tremaining: 18.2s\n",
      "524:\tlearn: 1706.6047831\ttotal: 20.1s\tremaining: 18.2s\n",
      "525:\tlearn: 1706.4204895\ttotal: 20.2s\tremaining: 18.2s\n",
      "526:\tlearn: 1706.2095678\ttotal: 20.2s\tremaining: 18.1s\n",
      "527:\tlearn: 1706.0232433\ttotal: 20.2s\tremaining: 18.1s\n",
      "528:\tlearn: 1705.7865371\ttotal: 20.3s\tremaining: 18.1s\n",
      "529:\tlearn: 1705.6659996\ttotal: 20.3s\tremaining: 18s\n",
      "530:\tlearn: 1705.5108255\ttotal: 20.4s\tremaining: 18s\n",
      "531:\tlearn: 1705.2820013\ttotal: 20.4s\tremaining: 18s\n",
      "532:\tlearn: 1705.0822526\ttotal: 20.5s\tremaining: 17.9s\n",
      "533:\tlearn: 1704.9111084\ttotal: 20.5s\tremaining: 17.9s\n",
      "534:\tlearn: 1704.7166620\ttotal: 20.5s\tremaining: 17.9s\n",
      "535:\tlearn: 1704.5360805\ttotal: 20.6s\tremaining: 17.8s\n",
      "536:\tlearn: 1704.3616382\ttotal: 20.6s\tremaining: 17.8s\n",
      "537:\tlearn: 1704.2146442\ttotal: 20.7s\tremaining: 17.7s\n",
      "538:\tlearn: 1704.0714488\ttotal: 20.7s\tremaining: 17.7s\n",
      "539:\tlearn: 1703.8316317\ttotal: 20.8s\tremaining: 17.7s\n",
      "540:\tlearn: 1703.5975953\ttotal: 20.8s\tremaining: 17.7s\n",
      "541:\tlearn: 1703.4061100\ttotal: 20.9s\tremaining: 17.6s\n",
      "542:\tlearn: 1703.2313359\ttotal: 20.9s\tremaining: 17.6s\n",
      "543:\tlearn: 1703.0239437\ttotal: 20.9s\tremaining: 17.6s\n",
      "544:\tlearn: 1702.8668595\ttotal: 21s\tremaining: 17.5s\n",
      "545:\tlearn: 1702.7368019\ttotal: 21s\tremaining: 17.5s\n",
      "546:\tlearn: 1702.5079268\ttotal: 21s\tremaining: 17.4s\n",
      "547:\tlearn: 1702.4216445\ttotal: 21.1s\tremaining: 17.4s\n",
      "548:\tlearn: 1702.2927510\ttotal: 21.1s\tremaining: 17.4s\n",
      "549:\tlearn: 1702.0422832\ttotal: 21.2s\tremaining: 17.3s\n",
      "550:\tlearn: 1701.8703780\ttotal: 21.2s\tremaining: 17.3s\n",
      "551:\tlearn: 1701.7375122\ttotal: 21.2s\tremaining: 17.2s\n",
      "552:\tlearn: 1701.6181835\ttotal: 21.3s\tremaining: 17.2s\n",
      "553:\tlearn: 1701.5040375\ttotal: 21.3s\tremaining: 17.2s\n",
      "554:\tlearn: 1701.3217843\ttotal: 21.4s\tremaining: 17.1s\n",
      "555:\tlearn: 1701.1424688\ttotal: 21.4s\tremaining: 17.1s\n",
      "556:\tlearn: 1700.8518772\ttotal: 21.5s\tremaining: 17.1s\n",
      "557:\tlearn: 1700.6148405\ttotal: 21.5s\tremaining: 17s\n",
      "558:\tlearn: 1700.4257132\ttotal: 21.5s\tremaining: 17s\n",
      "559:\tlearn: 1700.3250255\ttotal: 21.6s\tremaining: 17s\n",
      "560:\tlearn: 1700.1770679\ttotal: 21.6s\tremaining: 16.9s\n",
      "561:\tlearn: 1700.0776019\ttotal: 21.7s\tremaining: 16.9s\n",
      "562:\tlearn: 1699.9274944\ttotal: 21.7s\tremaining: 16.8s\n",
      "563:\tlearn: 1699.7862868\ttotal: 21.7s\tremaining: 16.8s\n",
      "564:\tlearn: 1699.5850276\ttotal: 21.8s\tremaining: 16.8s\n",
      "565:\tlearn: 1699.3798315\ttotal: 21.8s\tremaining: 16.7s\n",
      "566:\tlearn: 1699.2410570\ttotal: 21.9s\tremaining: 16.7s\n",
      "567:\tlearn: 1699.0771009\ttotal: 21.9s\tremaining: 16.7s\n",
      "568:\tlearn: 1698.9200611\ttotal: 21.9s\tremaining: 16.6s\n",
      "569:\tlearn: 1698.8371874\ttotal: 22s\tremaining: 16.6s\n",
      "570:\tlearn: 1698.6693974\ttotal: 22s\tremaining: 16.5s\n",
      "571:\tlearn: 1698.4458230\ttotal: 22.1s\tremaining: 16.5s\n",
      "572:\tlearn: 1698.2352671\ttotal: 22.1s\tremaining: 16.5s\n",
      "573:\tlearn: 1698.0114403\ttotal: 22.1s\tremaining: 16.4s\n",
      "574:\tlearn: 1697.9620283\ttotal: 22.2s\tremaining: 16.4s\n",
      "575:\tlearn: 1697.7285149\ttotal: 22.2s\tremaining: 16.4s\n",
      "576:\tlearn: 1697.5572914\ttotal: 22.2s\tremaining: 16.3s\n",
      "577:\tlearn: 1697.2472830\ttotal: 22.3s\tremaining: 16.3s\n",
      "578:\tlearn: 1697.0865106\ttotal: 22.3s\tremaining: 16.2s\n",
      "579:\tlearn: 1696.8986570\ttotal: 22.4s\tremaining: 16.2s\n",
      "580:\tlearn: 1696.6495019\ttotal: 22.4s\tremaining: 16.2s\n",
      "581:\tlearn: 1696.5006199\ttotal: 22.5s\tremaining: 16.1s\n",
      "582:\tlearn: 1696.3224090\ttotal: 22.5s\tremaining: 16.1s\n",
      "583:\tlearn: 1696.1328786\ttotal: 22.5s\tremaining: 16.1s\n",
      "584:\tlearn: 1695.9305801\ttotal: 22.6s\tremaining: 16s\n",
      "585:\tlearn: 1695.7786486\ttotal: 22.6s\tremaining: 16s\n",
      "586:\tlearn: 1695.6893543\ttotal: 22.7s\tremaining: 15.9s\n",
      "587:\tlearn: 1695.6262466\ttotal: 22.7s\tremaining: 15.9s\n",
      "588:\tlearn: 1695.4207369\ttotal: 22.7s\tremaining: 15.9s\n",
      "589:\tlearn: 1695.3013015\ttotal: 22.8s\tremaining: 15.8s\n",
      "590:\tlearn: 1695.1384591\ttotal: 22.8s\tremaining: 15.8s\n",
      "591:\tlearn: 1694.9932710\ttotal: 22.9s\tremaining: 15.8s\n",
      "592:\tlearn: 1694.7981887\ttotal: 22.9s\tremaining: 15.7s\n",
      "593:\tlearn: 1694.6564635\ttotal: 22.9s\tremaining: 15.7s\n",
      "594:\tlearn: 1694.2926821\ttotal: 23s\tremaining: 15.6s\n",
      "595:\tlearn: 1694.1911682\ttotal: 23s\tremaining: 15.6s\n",
      "596:\tlearn: 1694.0801305\ttotal: 23.1s\tremaining: 15.6s\n",
      "597:\tlearn: 1693.9037712\ttotal: 23.1s\tremaining: 15.5s\n",
      "598:\tlearn: 1693.6964583\ttotal: 23.1s\tremaining: 15.5s\n",
      "599:\tlearn: 1693.5709800\ttotal: 23.2s\tremaining: 15.4s\n",
      "600:\tlearn: 1693.4147224\ttotal: 23.2s\tremaining: 15.4s\n",
      "601:\tlearn: 1693.2299947\ttotal: 23.3s\tremaining: 15.4s\n",
      "602:\tlearn: 1693.0585101\ttotal: 23.3s\tremaining: 15.3s\n",
      "603:\tlearn: 1692.8997478\ttotal: 23.3s\tremaining: 15.3s\n",
      "604:\tlearn: 1692.7430051\ttotal: 23.4s\tremaining: 15.3s\n",
      "605:\tlearn: 1692.6348260\ttotal: 23.4s\tremaining: 15.2s\n",
      "606:\tlearn: 1692.4622758\ttotal: 23.5s\tremaining: 15.2s\n",
      "607:\tlearn: 1692.3065340\ttotal: 23.5s\tremaining: 15.1s\n",
      "608:\tlearn: 1692.1929430\ttotal: 23.5s\tremaining: 15.1s\n",
      "609:\tlearn: 1691.9846774\ttotal: 23.6s\tremaining: 15.1s\n",
      "610:\tlearn: 1691.8124788\ttotal: 23.6s\tremaining: 15s\n",
      "611:\tlearn: 1691.4861328\ttotal: 23.7s\tremaining: 15s\n",
      "612:\tlearn: 1691.3641961\ttotal: 23.7s\tremaining: 15s\n",
      "613:\tlearn: 1691.2283038\ttotal: 23.7s\tremaining: 14.9s\n",
      "614:\tlearn: 1691.1405414\ttotal: 23.8s\tremaining: 14.9s\n",
      "615:\tlearn: 1690.8798935\ttotal: 23.8s\tremaining: 14.8s\n",
      "616:\tlearn: 1690.7862335\ttotal: 23.9s\tremaining: 14.8s\n",
      "617:\tlearn: 1690.6369271\ttotal: 23.9s\tremaining: 14.8s\n",
      "618:\tlearn: 1690.4939458\ttotal: 23.9s\tremaining: 14.7s\n",
      "619:\tlearn: 1690.4174686\ttotal: 24s\tremaining: 14.7s\n",
      "620:\tlearn: 1690.2908262\ttotal: 24s\tremaining: 14.7s\n",
      "621:\tlearn: 1690.0350903\ttotal: 24s\tremaining: 14.6s\n",
      "622:\tlearn: 1689.9688565\ttotal: 24.1s\tremaining: 14.6s\n",
      "623:\tlearn: 1689.7280056\ttotal: 24.1s\tremaining: 14.5s\n",
      "624:\tlearn: 1689.5527882\ttotal: 24.2s\tremaining: 14.5s\n",
      "625:\tlearn: 1689.3676756\ttotal: 24.2s\tremaining: 14.5s\n",
      "626:\tlearn: 1689.1537142\ttotal: 24.2s\tremaining: 14.4s\n",
      "627:\tlearn: 1688.9982296\ttotal: 24.3s\tremaining: 14.4s\n",
      "628:\tlearn: 1688.7045118\ttotal: 24.3s\tremaining: 14.3s\n",
      "629:\tlearn: 1688.5835104\ttotal: 24.4s\tremaining: 14.3s\n",
      "630:\tlearn: 1688.4210762\ttotal: 24.4s\tremaining: 14.3s\n",
      "631:\tlearn: 1688.3263688\ttotal: 24.5s\tremaining: 14.2s\n",
      "632:\tlearn: 1688.2075667\ttotal: 24.5s\tremaining: 14.2s\n",
      "633:\tlearn: 1687.9733608\ttotal: 24.5s\tremaining: 14.2s\n",
      "634:\tlearn: 1687.8498311\ttotal: 24.6s\tremaining: 14.1s\n",
      "635:\tlearn: 1687.6652688\ttotal: 24.6s\tremaining: 14.1s\n",
      "636:\tlearn: 1687.4933491\ttotal: 24.7s\tremaining: 14.1s\n",
      "637:\tlearn: 1687.3639066\ttotal: 24.7s\tremaining: 14s\n",
      "638:\tlearn: 1687.2164424\ttotal: 24.7s\tremaining: 14s\n",
      "639:\tlearn: 1687.1215159\ttotal: 24.8s\tremaining: 13.9s\n",
      "640:\tlearn: 1686.9672682\ttotal: 24.8s\tremaining: 13.9s\n",
      "641:\tlearn: 1686.7835279\ttotal: 24.9s\tremaining: 13.9s\n",
      "642:\tlearn: 1686.6344900\ttotal: 24.9s\tremaining: 13.8s\n",
      "643:\tlearn: 1686.4368296\ttotal: 25s\tremaining: 13.8s\n",
      "644:\tlearn: 1686.1283055\ttotal: 25s\tremaining: 13.8s\n",
      "645:\tlearn: 1686.0319744\ttotal: 25s\tremaining: 13.7s\n",
      "646:\tlearn: 1685.8784097\ttotal: 25.1s\tremaining: 13.7s\n",
      "647:\tlearn: 1685.7247837\ttotal: 25.1s\tremaining: 13.6s\n",
      "648:\tlearn: 1685.6297880\ttotal: 25.2s\tremaining: 13.6s\n",
      "649:\tlearn: 1685.4069375\ttotal: 25.2s\tremaining: 13.6s\n",
      "650:\tlearn: 1685.2322691\ttotal: 25.2s\tremaining: 13.5s\n",
      "651:\tlearn: 1685.0892882\ttotal: 25.3s\tremaining: 13.5s\n",
      "652:\tlearn: 1684.9853738\ttotal: 25.4s\tremaining: 13.5s\n",
      "653:\tlearn: 1684.8911601\ttotal: 25.4s\tremaining: 13.4s\n",
      "654:\tlearn: 1684.7264021\ttotal: 25.5s\tremaining: 13.4s\n",
      "655:\tlearn: 1684.6448773\ttotal: 25.6s\tremaining: 13.4s\n",
      "656:\tlearn: 1684.4500992\ttotal: 25.6s\tremaining: 13.4s\n",
      "657:\tlearn: 1684.2712591\ttotal: 25.7s\tremaining: 13.3s\n",
      "658:\tlearn: 1684.0837157\ttotal: 25.7s\tremaining: 13.3s\n",
      "659:\tlearn: 1683.9473053\ttotal: 25.7s\tremaining: 13.3s\n",
      "660:\tlearn: 1683.8144984\ttotal: 25.8s\tremaining: 13.2s\n",
      "661:\tlearn: 1683.7403280\ttotal: 25.8s\tremaining: 13.2s\n",
      "662:\tlearn: 1683.5161112\ttotal: 25.9s\tremaining: 13.2s\n",
      "663:\tlearn: 1683.3907945\ttotal: 25.9s\tremaining: 13.1s\n",
      "664:\tlearn: 1683.2898509\ttotal: 25.9s\tremaining: 13.1s\n",
      "665:\tlearn: 1683.0970672\ttotal: 26s\tremaining: 13s\n",
      "666:\tlearn: 1683.0061456\ttotal: 26s\tremaining: 13s\n",
      "667:\tlearn: 1682.9051575\ttotal: 26.1s\tremaining: 12.9s\n",
      "668:\tlearn: 1682.7057448\ttotal: 26.1s\tremaining: 12.9s\n",
      "669:\tlearn: 1682.5544938\ttotal: 26.1s\tremaining: 12.9s\n",
      "670:\tlearn: 1682.3945318\ttotal: 26.2s\tremaining: 12.8s\n",
      "671:\tlearn: 1682.2167941\ttotal: 26.2s\tremaining: 12.8s\n",
      "672:\tlearn: 1682.0770457\ttotal: 26.3s\tremaining: 12.8s\n",
      "673:\tlearn: 1681.8354251\ttotal: 26.3s\tremaining: 12.7s\n",
      "674:\tlearn: 1681.6784281\ttotal: 26.3s\tremaining: 12.7s\n",
      "675:\tlearn: 1681.4974934\ttotal: 26.4s\tremaining: 12.6s\n",
      "676:\tlearn: 1681.3850834\ttotal: 26.4s\tremaining: 12.6s\n",
      "677:\tlearn: 1681.2517942\ttotal: 26.5s\tremaining: 12.6s\n",
      "678:\tlearn: 1681.1611254\ttotal: 26.5s\tremaining: 12.5s\n",
      "679:\tlearn: 1681.0016668\ttotal: 26.6s\tremaining: 12.5s\n",
      "680:\tlearn: 1680.8935747\ttotal: 26.6s\tremaining: 12.5s\n",
      "681:\tlearn: 1680.8247735\ttotal: 26.7s\tremaining: 12.4s\n",
      "682:\tlearn: 1680.7218487\ttotal: 26.7s\tremaining: 12.4s\n",
      "683:\tlearn: 1680.5864594\ttotal: 26.8s\tremaining: 12.4s\n",
      "684:\tlearn: 1680.4605058\ttotal: 26.8s\tremaining: 12.3s\n",
      "685:\tlearn: 1680.2376068\ttotal: 26.8s\tremaining: 12.3s\n",
      "686:\tlearn: 1680.1758320\ttotal: 26.9s\tremaining: 12.2s\n",
      "687:\tlearn: 1680.0241639\ttotal: 26.9s\tremaining: 12.2s\n",
      "688:\tlearn: 1679.8791839\ttotal: 27s\tremaining: 12.2s\n",
      "689:\tlearn: 1679.7162481\ttotal: 27s\tremaining: 12.1s\n",
      "690:\tlearn: 1679.5416180\ttotal: 27s\tremaining: 12.1s\n",
      "691:\tlearn: 1679.4170630\ttotal: 27.1s\tremaining: 12s\n",
      "692:\tlearn: 1679.2436408\ttotal: 27.1s\tremaining: 12s\n",
      "693:\tlearn: 1679.1117381\ttotal: 27.2s\tremaining: 12s\n",
      "694:\tlearn: 1678.9576004\ttotal: 27.2s\tremaining: 11.9s\n",
      "695:\tlearn: 1678.8058421\ttotal: 27.2s\tremaining: 11.9s\n",
      "696:\tlearn: 1678.6894377\ttotal: 27.3s\tremaining: 11.9s\n",
      "697:\tlearn: 1678.5200190\ttotal: 27.3s\tremaining: 11.8s\n",
      "698:\tlearn: 1678.3965343\ttotal: 27.4s\tremaining: 11.8s\n",
      "699:\tlearn: 1678.2687540\ttotal: 27.4s\tremaining: 11.7s\n",
      "700:\tlearn: 1678.0802346\ttotal: 27.4s\tremaining: 11.7s\n",
      "701:\tlearn: 1677.8958989\ttotal: 27.5s\tremaining: 11.7s\n",
      "702:\tlearn: 1677.7963547\ttotal: 27.5s\tremaining: 11.6s\n",
      "703:\tlearn: 1677.6392694\ttotal: 27.6s\tremaining: 11.6s\n",
      "704:\tlearn: 1677.4352800\ttotal: 27.6s\tremaining: 11.5s\n",
      "705:\tlearn: 1677.3125238\ttotal: 27.6s\tremaining: 11.5s\n",
      "706:\tlearn: 1677.1476560\ttotal: 27.7s\tremaining: 11.5s\n",
      "707:\tlearn: 1677.0367564\ttotal: 27.7s\tremaining: 11.4s\n",
      "708:\tlearn: 1676.9361584\ttotal: 27.8s\tremaining: 11.4s\n",
      "709:\tlearn: 1676.8059478\ttotal: 27.8s\tremaining: 11.4s\n",
      "710:\tlearn: 1676.7154256\ttotal: 27.8s\tremaining: 11.3s\n",
      "711:\tlearn: 1676.6077365\ttotal: 27.9s\tremaining: 11.3s\n",
      "712:\tlearn: 1676.4350408\ttotal: 27.9s\tremaining: 11.2s\n",
      "713:\tlearn: 1676.3364161\ttotal: 27.9s\tremaining: 11.2s\n",
      "714:\tlearn: 1676.1101897\ttotal: 28s\tremaining: 11.2s\n",
      "715:\tlearn: 1675.9471705\ttotal: 28s\tremaining: 11.1s\n",
      "716:\tlearn: 1675.7844364\ttotal: 28.1s\tremaining: 11.1s\n",
      "717:\tlearn: 1675.6109474\ttotal: 28.1s\tremaining: 11s\n",
      "718:\tlearn: 1675.4847957\ttotal: 28.1s\tremaining: 11s\n",
      "719:\tlearn: 1675.3977002\ttotal: 28.2s\tremaining: 11s\n",
      "720:\tlearn: 1675.3084707\ttotal: 28.2s\tremaining: 10.9s\n",
      "721:\tlearn: 1675.1707373\ttotal: 28.3s\tremaining: 10.9s\n",
      "722:\tlearn: 1675.1093974\ttotal: 28.3s\tremaining: 10.8s\n",
      "723:\tlearn: 1674.8997906\ttotal: 28.3s\tremaining: 10.8s\n",
      "724:\tlearn: 1674.8447168\ttotal: 28.4s\tremaining: 10.8s\n",
      "725:\tlearn: 1674.7399367\ttotal: 28.4s\tremaining: 10.7s\n",
      "726:\tlearn: 1674.6348980\ttotal: 28.4s\tremaining: 10.7s\n",
      "727:\tlearn: 1674.5470940\ttotal: 28.5s\tremaining: 10.6s\n",
      "728:\tlearn: 1674.4660068\ttotal: 28.5s\tremaining: 10.6s\n",
      "729:\tlearn: 1674.3420098\ttotal: 28.6s\tremaining: 10.6s\n",
      "730:\tlearn: 1674.2147016\ttotal: 28.6s\tremaining: 10.5s\n",
      "731:\tlearn: 1674.1328517\ttotal: 28.6s\tremaining: 10.5s\n",
      "732:\tlearn: 1673.9818478\ttotal: 28.7s\tremaining: 10.4s\n",
      "733:\tlearn: 1673.8285175\ttotal: 28.7s\tremaining: 10.4s\n",
      "734:\tlearn: 1673.6368248\ttotal: 28.7s\tremaining: 10.4s\n",
      "735:\tlearn: 1673.4523845\ttotal: 28.8s\tremaining: 10.3s\n",
      "736:\tlearn: 1673.3858658\ttotal: 28.8s\tremaining: 10.3s\n",
      "737:\tlearn: 1673.1952204\ttotal: 28.9s\tremaining: 10.2s\n",
      "738:\tlearn: 1672.9860140\ttotal: 28.9s\tremaining: 10.2s\n",
      "739:\tlearn: 1672.8757114\ttotal: 28.9s\tremaining: 10.2s\n",
      "740:\tlearn: 1672.6993988\ttotal: 29s\tremaining: 10.1s\n",
      "741:\tlearn: 1672.6454698\ttotal: 29s\tremaining: 10.1s\n",
      "742:\tlearn: 1672.5069602\ttotal: 29.1s\tremaining: 10.1s\n",
      "743:\tlearn: 1672.4251156\ttotal: 29.1s\tremaining: 10s\n",
      "744:\tlearn: 1672.3218743\ttotal: 29.1s\tremaining: 9.97s\n",
      "745:\tlearn: 1672.2356822\ttotal: 29.2s\tremaining: 9.93s\n",
      "746:\tlearn: 1672.0915272\ttotal: 29.2s\tremaining: 9.9s\n",
      "747:\tlearn: 1671.8967974\ttotal: 29.3s\tremaining: 9.86s\n",
      "748:\tlearn: 1671.8407001\ttotal: 29.3s\tremaining: 9.81s\n",
      "749:\tlearn: 1671.7207630\ttotal: 29.3s\tremaining: 9.78s\n",
      "750:\tlearn: 1671.4845382\ttotal: 29.4s\tremaining: 9.73s\n",
      "751:\tlearn: 1671.3925004\ttotal: 29.4s\tremaining: 9.69s\n",
      "752:\tlearn: 1671.2904745\ttotal: 29.4s\tremaining: 9.65s\n",
      "753:\tlearn: 1671.1817530\ttotal: 29.5s\tremaining: 9.61s\n",
      "754:\tlearn: 1671.0265159\ttotal: 29.5s\tremaining: 9.58s\n",
      "755:\tlearn: 1670.9156212\ttotal: 29.5s\tremaining: 9.54s\n",
      "756:\tlearn: 1670.8636604\ttotal: 29.6s\tremaining: 9.49s\n",
      "757:\tlearn: 1670.7288488\ttotal: 29.6s\tremaining: 9.46s\n",
      "758:\tlearn: 1670.5928166\ttotal: 29.7s\tremaining: 9.41s\n",
      "759:\tlearn: 1670.4388169\ttotal: 29.7s\tremaining: 9.38s\n",
      "760:\tlearn: 1670.2313387\ttotal: 29.7s\tremaining: 9.34s\n",
      "761:\tlearn: 1670.1281205\ttotal: 29.8s\tremaining: 9.29s\n",
      "762:\tlearn: 1670.0122737\ttotal: 29.8s\tremaining: 9.26s\n",
      "763:\tlearn: 1669.9326477\ttotal: 29.8s\tremaining: 9.21s\n",
      "764:\tlearn: 1669.7738884\ttotal: 29.9s\tremaining: 9.17s\n",
      "765:\tlearn: 1669.5812741\ttotal: 29.9s\tremaining: 9.14s\n",
      "766:\tlearn: 1669.4864356\ttotal: 29.9s\tremaining: 9.09s\n",
      "767:\tlearn: 1669.4404012\ttotal: 30s\tremaining: 9.05s\n",
      "768:\tlearn: 1669.2543329\ttotal: 30s\tremaining: 9.02s\n",
      "769:\tlearn: 1669.0674034\ttotal: 30s\tremaining: 8.97s\n",
      "770:\tlearn: 1668.9608453\ttotal: 30.1s\tremaining: 8.93s\n",
      "771:\tlearn: 1668.8669561\ttotal: 30.1s\tremaining: 8.89s\n",
      "772:\tlearn: 1668.7490347\ttotal: 30.1s\tremaining: 8.85s\n",
      "773:\tlearn: 1668.6607003\ttotal: 30.2s\tremaining: 8.81s\n",
      "774:\tlearn: 1668.5564180\ttotal: 30.2s\tremaining: 8.78s\n",
      "775:\tlearn: 1668.4903669\ttotal: 30.3s\tremaining: 8.73s\n",
      "776:\tlearn: 1668.4272804\ttotal: 30.3s\tremaining: 8.7s\n",
      "777:\tlearn: 1668.3239406\ttotal: 30.3s\tremaining: 8.66s\n",
      "778:\tlearn: 1668.2659643\ttotal: 30.4s\tremaining: 8.62s\n",
      "779:\tlearn: 1668.1750383\ttotal: 30.4s\tremaining: 8.58s\n",
      "780:\tlearn: 1668.0925076\ttotal: 30.4s\tremaining: 8.54s\n",
      "781:\tlearn: 1668.0232905\ttotal: 30.5s\tremaining: 8.5s\n",
      "782:\tlearn: 1667.8234460\ttotal: 30.5s\tremaining: 8.46s\n",
      "783:\tlearn: 1667.5820075\ttotal: 30.6s\tremaining: 8.42s\n",
      "784:\tlearn: 1667.4734628\ttotal: 30.6s\tremaining: 8.38s\n",
      "785:\tlearn: 1667.3592407\ttotal: 30.6s\tremaining: 8.34s\n",
      "786:\tlearn: 1667.2361999\ttotal: 30.7s\tremaining: 8.3s\n",
      "787:\tlearn: 1667.1536925\ttotal: 30.7s\tremaining: 8.26s\n",
      "788:\tlearn: 1667.0105916\ttotal: 30.8s\tremaining: 8.22s\n",
      "789:\tlearn: 1666.9582421\ttotal: 30.8s\tremaining: 8.18s\n",
      "790:\tlearn: 1666.8017005\ttotal: 30.8s\tremaining: 8.14s\n",
      "791:\tlearn: 1666.6900655\ttotal: 30.9s\tremaining: 8.11s\n",
      "792:\tlearn: 1666.5414016\ttotal: 30.9s\tremaining: 8.07s\n",
      "793:\tlearn: 1666.4293517\ttotal: 30.9s\tremaining: 8.03s\n",
      "794:\tlearn: 1666.2746960\ttotal: 31s\tremaining: 7.99s\n",
      "795:\tlearn: 1666.1624518\ttotal: 31s\tremaining: 7.95s\n",
      "796:\tlearn: 1666.0229459\ttotal: 31.1s\tremaining: 7.91s\n",
      "797:\tlearn: 1665.9226514\ttotal: 31.1s\tremaining: 7.87s\n",
      "798:\tlearn: 1665.8103572\ttotal: 31.1s\tremaining: 7.83s\n",
      "799:\tlearn: 1665.7351465\ttotal: 31.2s\tremaining: 7.79s\n",
      "800:\tlearn: 1665.6280624\ttotal: 31.2s\tremaining: 7.75s\n",
      "801:\tlearn: 1665.4438989\ttotal: 31.2s\tremaining: 7.71s\n",
      "802:\tlearn: 1665.3764375\ttotal: 31.3s\tremaining: 7.67s\n",
      "803:\tlearn: 1665.2819024\ttotal: 31.3s\tremaining: 7.63s\n",
      "804:\tlearn: 1665.1838539\ttotal: 31.3s\tremaining: 7.59s\n",
      "805:\tlearn: 1665.0629147\ttotal: 31.4s\tremaining: 7.55s\n",
      "806:\tlearn: 1664.9524694\ttotal: 31.4s\tremaining: 7.51s\n",
      "807:\tlearn: 1664.9092102\ttotal: 31.5s\tremaining: 7.47s\n",
      "808:\tlearn: 1664.8031237\ttotal: 31.5s\tremaining: 7.43s\n",
      "809:\tlearn: 1664.7098368\ttotal: 31.5s\tremaining: 7.39s\n",
      "810:\tlearn: 1664.6523562\ttotal: 31.6s\tremaining: 7.35s\n",
      "811:\tlearn: 1664.5839101\ttotal: 31.6s\tremaining: 7.31s\n",
      "812:\tlearn: 1664.4589302\ttotal: 31.6s\tremaining: 7.27s\n",
      "813:\tlearn: 1664.3875261\ttotal: 31.7s\tremaining: 7.24s\n",
      "814:\tlearn: 1664.3105962\ttotal: 31.7s\tremaining: 7.2s\n",
      "815:\tlearn: 1664.2588160\ttotal: 31.7s\tremaining: 7.15s\n",
      "816:\tlearn: 1664.0818948\ttotal: 31.8s\tremaining: 7.11s\n",
      "817:\tlearn: 1663.9482962\ttotal: 31.8s\tremaining: 7.07s\n",
      "818:\tlearn: 1663.7970567\ttotal: 31.8s\tremaining: 7.04s\n",
      "819:\tlearn: 1663.6541816\ttotal: 31.9s\tremaining: 7s\n",
      "820:\tlearn: 1663.4795958\ttotal: 31.9s\tremaining: 6.96s\n",
      "821:\tlearn: 1663.2679883\ttotal: 32s\tremaining: 6.92s\n",
      "822:\tlearn: 1663.1442857\ttotal: 32s\tremaining: 6.88s\n",
      "823:\tlearn: 1663.0255818\ttotal: 32s\tremaining: 6.84s\n",
      "824:\tlearn: 1662.9347651\ttotal: 32.1s\tremaining: 6.8s\n",
      "825:\tlearn: 1662.7862990\ttotal: 32.1s\tremaining: 6.76s\n",
      "826:\tlearn: 1662.7249768\ttotal: 32.1s\tremaining: 6.72s\n",
      "827:\tlearn: 1662.6156137\ttotal: 32.2s\tremaining: 6.68s\n",
      "828:\tlearn: 1662.5073758\ttotal: 32.2s\tremaining: 6.64s\n",
      "829:\tlearn: 1662.4122239\ttotal: 32.2s\tremaining: 6.6s\n",
      "830:\tlearn: 1662.3202180\ttotal: 32.3s\tremaining: 6.56s\n",
      "831:\tlearn: 1662.1821761\ttotal: 32.3s\tremaining: 6.52s\n",
      "832:\tlearn: 1662.0872805\ttotal: 32.3s\tremaining: 6.49s\n",
      "833:\tlearn: 1661.9780387\ttotal: 32.4s\tremaining: 6.45s\n",
      "834:\tlearn: 1661.8551608\ttotal: 32.4s\tremaining: 6.41s\n",
      "835:\tlearn: 1661.7299061\ttotal: 32.5s\tremaining: 6.37s\n",
      "836:\tlearn: 1661.6226776\ttotal: 32.5s\tremaining: 6.33s\n",
      "837:\tlearn: 1661.5175607\ttotal: 32.5s\tremaining: 6.29s\n",
      "838:\tlearn: 1661.4005224\ttotal: 32.6s\tremaining: 6.25s\n",
      "839:\tlearn: 1661.2881224\ttotal: 32.6s\tremaining: 6.21s\n",
      "840:\tlearn: 1661.1634719\ttotal: 32.6s\tremaining: 6.17s\n",
      "841:\tlearn: 1661.0212829\ttotal: 32.7s\tremaining: 6.13s\n",
      "842:\tlearn: 1660.9705221\ttotal: 32.7s\tremaining: 6.09s\n",
      "843:\tlearn: 1660.8269297\ttotal: 32.8s\tremaining: 6.05s\n",
      "844:\tlearn: 1660.7710185\ttotal: 32.8s\tremaining: 6.01s\n",
      "845:\tlearn: 1660.7101926\ttotal: 32.8s\tremaining: 5.98s\n",
      "846:\tlearn: 1660.6050936\ttotal: 32.9s\tremaining: 5.94s\n",
      "847:\tlearn: 1660.4695481\ttotal: 32.9s\tremaining: 5.9s\n",
      "848:\tlearn: 1660.3535390\ttotal: 32.9s\tremaining: 5.86s\n",
      "849:\tlearn: 1660.2096117\ttotal: 33s\tremaining: 5.82s\n",
      "850:\tlearn: 1660.0370291\ttotal: 33s\tremaining: 5.78s\n",
      "851:\tlearn: 1659.8604050\ttotal: 33s\tremaining: 5.74s\n",
      "852:\tlearn: 1659.7291276\ttotal: 33.1s\tremaining: 5.7s\n",
      "853:\tlearn: 1659.6404716\ttotal: 33.1s\tremaining: 5.66s\n",
      "854:\tlearn: 1659.5241863\ttotal: 33.2s\tremaining: 5.62s\n",
      "855:\tlearn: 1659.4011182\ttotal: 33.2s\tremaining: 5.58s\n",
      "856:\tlearn: 1659.3228199\ttotal: 33.2s\tremaining: 5.54s\n",
      "857:\tlearn: 1659.2441871\ttotal: 33.3s\tremaining: 5.5s\n",
      "858:\tlearn: 1659.1544882\ttotal: 33.3s\tremaining: 5.46s\n",
      "859:\tlearn: 1659.0466642\ttotal: 33.3s\tremaining: 5.42s\n",
      "860:\tlearn: 1658.9797395\ttotal: 33.4s\tremaining: 5.38s\n",
      "861:\tlearn: 1658.8539859\ttotal: 33.4s\tremaining: 5.35s\n",
      "862:\tlearn: 1658.7501992\ttotal: 33.4s\tremaining: 5.31s\n",
      "863:\tlearn: 1658.6791128\ttotal: 33.5s\tremaining: 5.27s\n",
      "864:\tlearn: 1658.6117976\ttotal: 33.5s\tremaining: 5.23s\n",
      "865:\tlearn: 1658.5427267\ttotal: 33.5s\tremaining: 5.19s\n",
      "866:\tlearn: 1658.3896135\ttotal: 33.6s\tremaining: 5.15s\n",
      "867:\tlearn: 1658.2685957\ttotal: 33.6s\tremaining: 5.11s\n",
      "868:\tlearn: 1658.1483773\ttotal: 33.7s\tremaining: 5.07s\n",
      "869:\tlearn: 1658.1136286\ttotal: 33.7s\tremaining: 5.03s\n",
      "870:\tlearn: 1657.9893127\ttotal: 33.7s\tremaining: 4.99s\n",
      "871:\tlearn: 1657.9530228\ttotal: 33.8s\tremaining: 4.95s\n",
      "872:\tlearn: 1657.8841781\ttotal: 33.8s\tremaining: 4.92s\n",
      "873:\tlearn: 1657.8441870\ttotal: 33.8s\tremaining: 4.88s\n",
      "874:\tlearn: 1657.7298265\ttotal: 33.9s\tremaining: 4.84s\n",
      "875:\tlearn: 1657.5645105\ttotal: 33.9s\tremaining: 4.8s\n",
      "876:\tlearn: 1657.4149168\ttotal: 33.9s\tremaining: 4.76s\n",
      "877:\tlearn: 1657.2922775\ttotal: 34s\tremaining: 4.72s\n",
      "878:\tlearn: 1657.2065193\ttotal: 34s\tremaining: 4.68s\n",
      "879:\tlearn: 1657.0564731\ttotal: 34s\tremaining: 4.64s\n",
      "880:\tlearn: 1656.9803490\ttotal: 34.1s\tremaining: 4.6s\n",
      "881:\tlearn: 1656.8775548\ttotal: 34.1s\tremaining: 4.56s\n",
      "882:\tlearn: 1656.7923397\ttotal: 34.1s\tremaining: 4.52s\n",
      "883:\tlearn: 1656.6830786\ttotal: 34.2s\tremaining: 4.49s\n",
      "884:\tlearn: 1656.5719416\ttotal: 34.2s\tremaining: 4.45s\n",
      "885:\tlearn: 1656.4009333\ttotal: 34.3s\tremaining: 4.41s\n",
      "886:\tlearn: 1656.2932785\ttotal: 34.3s\tremaining: 4.37s\n",
      "887:\tlearn: 1656.1893944\ttotal: 34.3s\tremaining: 4.33s\n",
      "888:\tlearn: 1656.0869241\ttotal: 34.4s\tremaining: 4.29s\n",
      "889:\tlearn: 1655.9653013\ttotal: 34.4s\tremaining: 4.25s\n",
      "890:\tlearn: 1655.8005605\ttotal: 34.4s\tremaining: 4.21s\n",
      "891:\tlearn: 1655.7291182\ttotal: 34.5s\tremaining: 4.17s\n",
      "892:\tlearn: 1655.6244260\ttotal: 34.5s\tremaining: 4.14s\n",
      "893:\tlearn: 1655.5210290\ttotal: 34.6s\tremaining: 4.1s\n",
      "894:\tlearn: 1655.4644645\ttotal: 34.6s\tremaining: 4.06s\n",
      "895:\tlearn: 1655.4008028\ttotal: 34.6s\tremaining: 4.02s\n",
      "896:\tlearn: 1655.3411920\ttotal: 34.7s\tremaining: 3.98s\n",
      "897:\tlearn: 1655.2021571\ttotal: 34.7s\tremaining: 3.94s\n",
      "898:\tlearn: 1655.1483780\ttotal: 34.7s\tremaining: 3.9s\n",
      "899:\tlearn: 1655.0558898\ttotal: 34.8s\tremaining: 3.86s\n",
      "900:\tlearn: 1655.0051558\ttotal: 34.8s\tremaining: 3.82s\n",
      "901:\tlearn: 1654.9429659\ttotal: 34.8s\tremaining: 3.79s\n",
      "902:\tlearn: 1654.8447666\ttotal: 34.9s\tremaining: 3.75s\n",
      "903:\tlearn: 1654.6648911\ttotal: 34.9s\tremaining: 3.71s\n",
      "904:\tlearn: 1654.5540094\ttotal: 35s\tremaining: 3.67s\n",
      "905:\tlearn: 1654.4748853\ttotal: 35s\tremaining: 3.63s\n",
      "906:\tlearn: 1654.3005618\ttotal: 35s\tremaining: 3.59s\n",
      "907:\tlearn: 1654.2435769\ttotal: 35.1s\tremaining: 3.55s\n",
      "908:\tlearn: 1654.1453072\ttotal: 35.1s\tremaining: 3.51s\n",
      "909:\tlearn: 1654.0064250\ttotal: 35.1s\tremaining: 3.48s\n",
      "910:\tlearn: 1653.9616946\ttotal: 35.2s\tremaining: 3.44s\n",
      "911:\tlearn: 1653.7641910\ttotal: 35.2s\tremaining: 3.4s\n",
      "912:\tlearn: 1653.6989258\ttotal: 35.3s\tremaining: 3.36s\n",
      "913:\tlearn: 1653.6453149\ttotal: 35.3s\tremaining: 3.32s\n",
      "914:\tlearn: 1653.5486930\ttotal: 35.3s\tremaining: 3.28s\n",
      "915:\tlearn: 1653.4114197\ttotal: 35.4s\tremaining: 3.24s\n",
      "916:\tlearn: 1653.3095058\ttotal: 35.4s\tremaining: 3.2s\n",
      "917:\tlearn: 1653.1816451\ttotal: 35.4s\tremaining: 3.17s\n",
      "918:\tlearn: 1653.0882668\ttotal: 35.5s\tremaining: 3.13s\n",
      "919:\tlearn: 1652.9353790\ttotal: 35.5s\tremaining: 3.09s\n",
      "920:\tlearn: 1652.7593966\ttotal: 35.5s\tremaining: 3.05s\n",
      "921:\tlearn: 1652.6690695\ttotal: 35.6s\tremaining: 3.01s\n",
      "922:\tlearn: 1652.6176983\ttotal: 35.6s\tremaining: 2.97s\n",
      "923:\tlearn: 1652.5320858\ttotal: 35.7s\tremaining: 2.93s\n",
      "924:\tlearn: 1652.4458549\ttotal: 35.7s\tremaining: 2.89s\n",
      "925:\tlearn: 1652.3911495\ttotal: 35.7s\tremaining: 2.85s\n",
      "926:\tlearn: 1652.2986861\ttotal: 35.8s\tremaining: 2.82s\n",
      "927:\tlearn: 1652.1576076\ttotal: 35.8s\tremaining: 2.78s\n",
      "928:\tlearn: 1652.0645619\ttotal: 35.8s\tremaining: 2.74s\n",
      "929:\tlearn: 1651.9870058\ttotal: 35.9s\tremaining: 2.7s\n",
      "930:\tlearn: 1651.9224912\ttotal: 35.9s\tremaining: 2.66s\n",
      "931:\tlearn: 1651.8234396\ttotal: 36s\tremaining: 2.62s\n",
      "932:\tlearn: 1651.7612482\ttotal: 36s\tremaining: 2.58s\n",
      "933:\tlearn: 1651.7129760\ttotal: 36s\tremaining: 2.54s\n",
      "934:\tlearn: 1651.6155328\ttotal: 36.1s\tremaining: 2.51s\n",
      "935:\tlearn: 1651.4623266\ttotal: 36.1s\tremaining: 2.47s\n",
      "936:\tlearn: 1651.3770334\ttotal: 36.1s\tremaining: 2.43s\n",
      "937:\tlearn: 1651.2849192\ttotal: 36.2s\tremaining: 2.39s\n",
      "938:\tlearn: 1651.2420981\ttotal: 36.2s\tremaining: 2.35s\n",
      "939:\tlearn: 1651.1610870\ttotal: 36.2s\tremaining: 2.31s\n",
      "940:\tlearn: 1651.0465573\ttotal: 36.3s\tremaining: 2.27s\n",
      "941:\tlearn: 1650.9578085\ttotal: 36.3s\tremaining: 2.24s\n",
      "942:\tlearn: 1650.8343009\ttotal: 36.4s\tremaining: 2.2s\n",
      "943:\tlearn: 1650.7619780\ttotal: 36.4s\tremaining: 2.16s\n",
      "944:\tlearn: 1650.5560382\ttotal: 36.5s\tremaining: 2.12s\n",
      "945:\tlearn: 1650.5123775\ttotal: 36.5s\tremaining: 2.08s\n",
      "946:\tlearn: 1650.4054168\ttotal: 36.6s\tremaining: 2.04s\n",
      "947:\tlearn: 1650.2885719\ttotal: 36.6s\tremaining: 2.01s\n",
      "948:\tlearn: 1650.1734628\ttotal: 36.6s\tremaining: 1.97s\n",
      "949:\tlearn: 1650.0581258\ttotal: 36.7s\tremaining: 1.93s\n",
      "950:\tlearn: 1649.9169632\ttotal: 36.7s\tremaining: 1.89s\n",
      "951:\tlearn: 1649.8252828\ttotal: 36.7s\tremaining: 1.85s\n",
      "952:\tlearn: 1649.7296482\ttotal: 36.8s\tremaining: 1.81s\n",
      "953:\tlearn: 1649.6505258\ttotal: 36.8s\tremaining: 1.77s\n",
      "954:\tlearn: 1649.5890916\ttotal: 36.9s\tremaining: 1.74s\n",
      "955:\tlearn: 1649.4368426\ttotal: 36.9s\tremaining: 1.7s\n",
      "956:\tlearn: 1649.3196911\ttotal: 36.9s\tremaining: 1.66s\n",
      "957:\tlearn: 1649.2532661\ttotal: 37s\tremaining: 1.62s\n",
      "958:\tlearn: 1649.2175616\ttotal: 37s\tremaining: 1.58s\n",
      "959:\tlearn: 1649.0834561\ttotal: 37s\tremaining: 1.54s\n",
      "960:\tlearn: 1649.0037356\ttotal: 37.1s\tremaining: 1.5s\n",
      "961:\tlearn: 1648.8409269\ttotal: 37.1s\tremaining: 1.47s\n",
      "962:\tlearn: 1648.7188453\ttotal: 37.1s\tremaining: 1.43s\n",
      "963:\tlearn: 1648.6059574\ttotal: 37.2s\tremaining: 1.39s\n",
      "964:\tlearn: 1648.5285705\ttotal: 37.2s\tremaining: 1.35s\n",
      "965:\tlearn: 1648.3602970\ttotal: 37.3s\tremaining: 1.31s\n",
      "966:\tlearn: 1648.1969677\ttotal: 37.3s\tremaining: 1.27s\n",
      "967:\tlearn: 1648.0400003\ttotal: 37.3s\tremaining: 1.23s\n",
      "968:\tlearn: 1647.9618039\ttotal: 37.4s\tremaining: 1.2s\n",
      "969:\tlearn: 1647.8484358\ttotal: 37.4s\tremaining: 1.16s\n",
      "970:\tlearn: 1647.7433993\ttotal: 37.5s\tremaining: 1.12s\n",
      "971:\tlearn: 1647.5803916\ttotal: 37.5s\tremaining: 1.08s\n",
      "972:\tlearn: 1647.4964278\ttotal: 37.5s\tremaining: 1.04s\n",
      "973:\tlearn: 1647.3827909\ttotal: 37.6s\tremaining: 1s\n",
      "974:\tlearn: 1647.2962397\ttotal: 37.6s\tremaining: 964ms\n",
      "975:\tlearn: 1647.1139250\ttotal: 37.6s\tremaining: 926ms\n",
      "976:\tlearn: 1646.9720188\ttotal: 37.7s\tremaining: 887ms\n",
      "977:\tlearn: 1646.8701372\ttotal: 37.7s\tremaining: 849ms\n",
      "978:\tlearn: 1646.7621446\ttotal: 37.8s\tremaining: 810ms\n",
      "979:\tlearn: 1646.5576286\ttotal: 37.8s\tremaining: 772ms\n",
      "980:\tlearn: 1646.4652620\ttotal: 37.8s\tremaining: 733ms\n",
      "981:\tlearn: 1646.3408469\ttotal: 37.9s\tremaining: 694ms\n",
      "982:\tlearn: 1646.1384320\ttotal: 37.9s\tremaining: 656ms\n",
      "983:\tlearn: 1646.0612687\ttotal: 38s\tremaining: 617ms\n",
      "984:\tlearn: 1645.8514629\ttotal: 38s\tremaining: 579ms\n",
      "985:\tlearn: 1645.7763870\ttotal: 38.1s\tremaining: 540ms\n",
      "986:\tlearn: 1645.7180827\ttotal: 38.1s\tremaining: 502ms\n",
      "987:\tlearn: 1645.5174151\ttotal: 38.1s\tremaining: 463ms\n",
      "988:\tlearn: 1645.4243853\ttotal: 38.2s\tremaining: 424ms\n",
      "989:\tlearn: 1645.3219164\ttotal: 38.2s\tremaining: 386ms\n",
      "990:\tlearn: 1645.1874401\ttotal: 38.2s\tremaining: 347ms\n",
      "991:\tlearn: 1645.1293047\ttotal: 38.3s\tremaining: 309ms\n",
      "992:\tlearn: 1645.0970315\ttotal: 38.3s\tremaining: 270ms\n",
      "993:\tlearn: 1644.9962728\ttotal: 38.3s\tremaining: 231ms\n",
      "994:\tlearn: 1644.8872127\ttotal: 38.4s\tremaining: 193ms\n",
      "995:\tlearn: 1644.8296122\ttotal: 38.4s\tremaining: 154ms\n",
      "996:\tlearn: 1644.7116419\ttotal: 38.5s\tremaining: 116ms\n",
      "997:\tlearn: 1644.6253627\ttotal: 38.5s\tremaining: 77.2ms\n",
      "998:\tlearn: 1644.4871057\ttotal: 38.5s\tremaining: 38.6ms\n",
      "999:\tlearn: 1644.4227966\ttotal: 38.6s\tremaining: 0us\n",
      "Модель   : CatBoostRegressor\n",
      "RMSE     : 1726.4647502068021\n",
      "Время    : 204.62451720237732 секунд\n",
      "Параметры:\n",
      " Pipeline(steps=[('preprocessor',\n",
      "                 ColumnTransformer(transformers=[('pipeline',\n",
      "                                                  Pipeline(steps=[('standardscaler',\n",
      "                                                                   StandardScaler())]),\n",
      "                                                  Index(['vehicle_type', 'registration_year', 'gearbox', 'power', 'model',\n",
      "       'kilometer', 'fuel_type', 'brand', 'repaired'],\n",
      "      dtype='object'))])),\n",
      "                ('regressor',\n",
      "                 <catboost.core.CatBoostRegressor object at 0x7fa94bf40310>)])\n",
      "\n",
      "--------------------\n",
      "\n"
     ]
    }
   ],
   "source": [
    "# CatBoostRegressor\n",
    "data_grids, data_times = grids_CatBoostRegressor(\n",
    "    features_train, \n",
    "    features_test, \n",
    "    target_train, \n",
    "    target_test, \n",
    "    data_grids, \n",
    "    data_times\n",
    ")\n",
    "print_model_result(data_grids, data_times, 'CatBoostRegressor')"
   ]
  },
  {
   "cell_type": "code",
   "execution_count": 47,
   "metadata": {},
   "outputs": [
    {
     "name": "stdout",
     "output_type": "stream",
     "text": [
      "Модель   : LGBMRegressor\n",
      "RMSE     : 4384.374489966158\n",
      "Время    : 322.27989077568054 секунд\n",
      "Параметры:\n",
      " Pipeline(steps=[('preprocessor',\n",
      "                 ColumnTransformer(transformers=[('pipeline',\n",
      "                                                  Pipeline(steps=[('standardscaler',\n",
      "                                                                   StandardScaler())]),\n",
      "                                                  Index(['vehicle_type', 'registration_year', 'gearbox', 'power', 'model',\n",
      "       'kilometer', 'fuel_type', 'brand', 'repaired'],\n",
      "      dtype='object'))])),\n",
      "                ('regressor',\n",
      "                 LGBMRegressor(max_depth=1, n_estimators=1, random_state=42))])\n",
      "\n",
      "--------------------\n",
      "\n"
     ]
    }
   ],
   "source": [
    "# LGBMRegressor\n",
    "data_grids, data_times = grids_LGBMRegressor(\n",
    "    features_train, \n",
    "    features_test, \n",
    "    target_train, \n",
    "    target_test, \n",
    "    data_grids, \n",
    "    data_times\n",
    ")\n",
    "print_model_result(data_grids, data_times, 'LGBMRegressor')"
   ]
  },
  {
   "cell_type": "markdown",
   "metadata": {},
   "source": [
    "### Выбор лучшей модели"
   ]
  },
  {
   "cell_type": "code",
   "execution_count": 48,
   "metadata": {},
   "outputs": [
    {
     "name": "stdout",
     "output_type": "stream",
     "text": [
      "Лучшее время :  204.62451720237732\n",
      "Лучшее RMSE  :  1726.4647502068021\n",
      "Лучшая модель: \n"
     ]
    },
    {
     "data": {
      "text/plain": [
       "HalvingGridSearchCV(cv=4, error_score='raise',\n",
       "                    estimator=Pipeline(steps=[('preprocessor',\n",
       "                                               ColumnTransformer(transformers=[('pipeline',\n",
       "                                                                                Pipeline(steps=[('standardscaler',\n",
       "                                                                                                 StandardScaler())]),\n",
       "                                                                                Index(['vehicle_type', 'registration_year', 'gearbox', 'power', 'model',\n",
       "       'kilometer', 'fuel_type', 'brand', 'repaired'],\n",
       "      dtype='object'))])),\n",
       "                                              ('regressor',\n",
       "                                               <catboost.core.CatBoostRegressor object at 0x7fa950219220>)]),\n",
       "                    n_jobs=-1,\n",
       "                    param_grid=[{'regressor': [<catboost.core.CatBoostRegressor object at 0x7fa950219220>]}],\n",
       "                    random_state=42,\n",
       "                    refit=<function _refit_callable at 0x7fa95cd84f70>,\n",
       "                    scoring=make_scorer(mean_squared_error, squared=False))"
      ]
     },
     "execution_count": 48,
     "metadata": {},
     "output_type": "execute_result"
    }
   ],
   "source": [
    "# Лучшая модель из расчета RMSE\n",
    "data_grids_best = data_grids[0]\n",
    "data_times_best = data_times[0]\n",
    "n = 0\n",
    "for i in range(0, len(data_grids)-1):\n",
    "    if data_grids[i].best_score_ < data_grids_best.best_score_: \n",
    "    #if (data_grids[i].best_score_ < data_grids_best.best_score_) & (data_times[i] < data_times_best): \n",
    "        data_grids_best = data_grids[i]\n",
    "        data_times_best = data_times[i]\n",
    "\n",
    "print('Лучшее время : ', data_times_best)\n",
    "print('Лучшее RMSE  : ', data_grids_best.best_score_)\n",
    "print('Лучшая модель: ')\n",
    "data_grids_best\n"
   ]
  },
  {
   "cell_type": "code",
   "execution_count": 49,
   "metadata": {},
   "outputs": [
    {
     "name": "stdout",
     "output_type": "stream",
     "text": [
      "RMSE = 1709.3459181142257\n",
      "Время предсказания = 0.3003842830657959 секунд\n"
     ]
    }
   ],
   "source": [
    "start_time = time.time()\n",
    "\n",
    "# Предсказание лучшей модели\n",
    "predict = data_grids_best.predict(features_test)\n",
    "\n",
    "finish_time = time.time()\n",
    "funtion_time = finish_time - start_time\n",
    "\n",
    "# Расчет RMSE и времени выполнения предсказания\n",
    "print('RMSE =', mean_squared_error(target_test, predict, squared=False))\n",
    "print(f'Время предсказания = {funtion_time} секунд')\n"
   ]
  },
  {
   "cell_type": "markdown",
   "metadata": {},
   "source": [
    "## Анализ моделей"
   ]
  },
  {
   "cell_type": "markdown",
   "metadata": {},
   "source": [
    "Для использования в данном проекте были выбраны следующие модели: `LinearRegression` в качестве дамми-модели, `DecisionTreeRegressor`, `SGDRegressor`, `CatBoostRegressor` от Яндекса и `LGBMRegressor`. \n",
    "\n",
    "По критерию минимального параметра RMSE в качестве лучшей модели после обучения была выбрана модель `CatBoostRegressor` с параметрами по-умолчанию. Ее показатели на обучающей выборке:\n",
    "\n",
    "**RMSE** : 1726.4647502068021<br>\n",
    "**Время**: 178.93473863601685 секунд<br>\n",
    "\n",
    "При предсказании на тестовых данных эта модель показала хорошие результаты:\n",
    "\n",
    "**RMSE** : 1709.3459181142257<br>\n",
    "**Время**: 0.128037691116333 секунд<br>\n",
    "\n",
    "RMSE оказался близким к тому, что было получено при обучении, а время предсказания многократно меньше обучения. Учитывая тот факт, что заказчика интересуют время обучения и предсказания, но отсутствуют точные критерии требуемого времени, а RMSE выбранной модели, как и требуется, меньше 2500, то для эксплуатации предлагается модель `CatBoostRegressor` с параметрами по-умолчанию."
   ]
  },
  {
   "cell_type": "markdown",
   "metadata": {},
   "source": [
    "## Выводы проекта"
   ]
  },
  {
   "cell_type": "markdown",
   "metadata": {},
   "source": [
    "Цель проекта достигнута. Выбрана модель `CatBoostRegressor()` с параметрами по-умолчанию для предсказания цены подержанных автомобилей по их параметрам. Для этого были выполнены следующие действия:\n",
    "1. Загружены и проканализированы данные.\n",
    "1. Выполнена предварительная обработка данных.\n",
    "1. Данные подготовлены к машинному обучению.\n",
    "1. Обучены несколько моделей, включая  `LGBMRegressor` и одна не бустинговая модель.\n",
    "1. Выбрана лучшая модель по критериям заказчика, включая минимальное время обучения и предсказания, а также RMSE меньшее 2500.\n",
    "1. Проанализированы результаты обучения и предсказания и сделаны выводы."
   ]
  },
  {
   "cell_type": "markdown",
   "metadata": {},
   "source": [
    "## Чек-лист проверки"
   ]
  },
  {
   "cell_type": "markdown",
   "metadata": {},
   "source": [
    "Поставьте 'x' в выполненных пунктах. Далее нажмите Shift+Enter."
   ]
  },
  {
   "cell_type": "markdown",
   "metadata": {},
   "source": [
    "- [x]  Jupyter Notebook открыт\n",
    "- [x]  Весь код выполняется без ошибок\n",
    "- [x]  Ячейки с кодом расположены в порядке исполнения\n",
    "- [x]  Выполнена загрузка и подготовка данных\n",
    "- [x]  Выполнено обучение моделей\n",
    "- [x]  Есть анализ скорости работы и качества моделей"
   ]
  }
 ],
 "metadata": {
  "ExecuteTimeLog": [
   {
    "duration": 2316,
    "start_time": "2023-08-16T06:00:01.087Z"
   },
   {
    "duration": 130,
    "start_time": "2023-08-16T06:02:05.808Z"
   },
   {
    "duration": 1390,
    "start_time": "2023-08-16T06:02:31.598Z"
   },
   {
    "duration": 876,
    "start_time": "2023-08-16T06:02:35.414Z"
   },
   {
    "duration": 160,
    "start_time": "2023-08-16T06:03:37.436Z"
   },
   {
    "duration": 111,
    "start_time": "2023-08-16T06:04:41.572Z"
   },
   {
    "duration": 895,
    "start_time": "2023-08-16T06:05:15.025Z"
   },
   {
    "duration": 19,
    "start_time": "2023-08-16T06:07:00.002Z"
   },
   {
    "duration": 906,
    "start_time": "2023-08-16T06:07:07.037Z"
   },
   {
    "duration": 1637,
    "start_time": "2023-08-16T15:58:22.194Z"
   },
   {
    "duration": 12,
    "start_time": "2023-08-16T15:58:23.833Z"
   },
   {
    "duration": 1152,
    "start_time": "2023-08-16T15:58:23.846Z"
   },
   {
    "duration": 152,
    "start_time": "2023-08-16T15:58:25.000Z"
   },
   {
    "duration": 949,
    "start_time": "2023-08-16T15:58:25.154Z"
   },
   {
    "duration": 50,
    "start_time": "2023-08-16T18:52:58.906Z"
   },
   {
    "duration": 1865,
    "start_time": "2023-08-16T18:53:05.648Z"
   },
   {
    "duration": 19,
    "start_time": "2023-08-16T18:53:07.516Z"
   },
   {
    "duration": 3286,
    "start_time": "2023-08-16T18:53:07.537Z"
   },
   {
    "duration": 165,
    "start_time": "2023-08-16T18:53:10.825Z"
   },
   {
    "duration": 1024,
    "start_time": "2023-08-16T18:53:10.993Z"
   },
   {
    "duration": 166,
    "start_time": "2023-08-16T18:53:12.019Z"
   },
   {
    "duration": 156,
    "start_time": "2023-08-16T18:53:45.801Z"
   },
   {
    "duration": 28,
    "start_time": "2023-08-16T18:58:14.164Z"
   },
   {
    "duration": 11,
    "start_time": "2023-08-16T18:58:34.614Z"
   },
   {
    "duration": 5,
    "start_time": "2023-08-16T18:58:59.710Z"
   },
   {
    "duration": 24,
    "start_time": "2023-08-16T19:00:16.565Z"
   },
   {
    "duration": 11,
    "start_time": "2023-08-16T19:00:37.642Z"
   },
   {
    "duration": 37,
    "start_time": "2023-08-16T19:00:55.086Z"
   },
   {
    "duration": 16,
    "start_time": "2023-08-16T19:01:03.826Z"
   },
   {
    "duration": 16,
    "start_time": "2023-08-16T19:01:20.638Z"
   },
   {
    "duration": 17,
    "start_time": "2023-08-16T19:01:56.809Z"
   },
   {
    "duration": 15,
    "start_time": "2023-08-16T19:02:14.542Z"
   },
   {
    "duration": 20,
    "start_time": "2023-08-16T19:03:26.901Z"
   },
   {
    "duration": 108,
    "start_time": "2023-08-16T19:04:08.080Z"
   },
   {
    "duration": 23,
    "start_time": "2023-08-16T19:04:31.122Z"
   },
   {
    "duration": 29,
    "start_time": "2023-08-16T19:04:55.006Z"
   },
   {
    "duration": 28,
    "start_time": "2023-08-16T19:05:57.242Z"
   },
   {
    "duration": 24,
    "start_time": "2023-08-16T19:06:07.769Z"
   },
   {
    "duration": 28,
    "start_time": "2023-08-16T19:06:20.290Z"
   },
   {
    "duration": 39,
    "start_time": "2023-08-16T19:06:35.358Z"
   },
   {
    "duration": 24,
    "start_time": "2023-08-16T19:07:00.094Z"
   },
   {
    "duration": 21,
    "start_time": "2023-08-16T19:07:18.997Z"
   },
   {
    "duration": 22,
    "start_time": "2023-08-16T19:07:33.903Z"
   },
   {
    "duration": 30,
    "start_time": "2023-08-16T19:07:46.761Z"
   },
   {
    "duration": 14,
    "start_time": "2023-08-16T19:09:06.697Z"
   },
   {
    "duration": 343,
    "start_time": "2023-08-16T19:09:16.547Z"
   },
   {
    "duration": 302,
    "start_time": "2023-08-16T19:09:48.349Z"
   },
   {
    "duration": 311,
    "start_time": "2023-08-16T19:10:03.429Z"
   },
   {
    "duration": 103,
    "start_time": "2023-08-16T19:10:57.796Z"
   },
   {
    "duration": 121,
    "start_time": "2023-08-16T19:11:18.113Z"
   },
   {
    "duration": 447,
    "start_time": "2023-08-16T19:11:38.203Z"
   },
   {
    "duration": 424,
    "start_time": "2023-08-16T19:11:45.453Z"
   },
   {
    "duration": 414,
    "start_time": "2023-08-16T19:11:56.533Z"
   },
   {
    "duration": 548,
    "start_time": "2023-08-16T19:14:45.859Z"
   },
   {
    "duration": 521,
    "start_time": "2023-08-16T19:15:52.934Z"
   },
   {
    "duration": 516,
    "start_time": "2023-08-16T19:16:55.929Z"
   },
   {
    "duration": 436,
    "start_time": "2023-08-16T19:38:57.943Z"
   },
   {
    "duration": 111,
    "start_time": "2023-08-16T19:40:38.701Z"
   },
   {
    "duration": 450,
    "start_time": "2023-08-16T19:40:48.311Z"
   },
   {
    "duration": 438,
    "start_time": "2023-08-16T19:41:09.982Z"
   },
   {
    "duration": 471,
    "start_time": "2023-08-16T19:41:40.709Z"
   },
   {
    "duration": 425,
    "start_time": "2023-08-16T19:41:55.909Z"
   },
   {
    "duration": 444,
    "start_time": "2023-08-16T19:43:23.497Z"
   },
   {
    "duration": 477,
    "start_time": "2023-08-16T19:43:46.902Z"
   },
   {
    "duration": 199,
    "start_time": "2023-08-16T19:45:44.224Z"
   },
   {
    "duration": 228,
    "start_time": "2023-08-16T19:49:56.284Z"
   },
   {
    "duration": 909,
    "start_time": "2023-08-16T20:04:08.372Z"
   },
   {
    "duration": 306,
    "start_time": "2023-08-16T20:04:48.882Z"
   },
   {
    "duration": 1792,
    "start_time": "2023-08-16T20:04:55.697Z"
   },
   {
    "duration": 95,
    "start_time": "2023-08-16T20:04:57.491Z"
   },
   {
    "duration": 1692,
    "start_time": "2023-08-16T20:04:57.588Z"
   },
   {
    "duration": 143,
    "start_time": "2023-08-16T20:04:59.283Z"
   },
   {
    "duration": 1125,
    "start_time": "2023-08-16T20:04:59.428Z"
   },
   {
    "duration": 444,
    "start_time": "2023-08-16T20:05:00.556Z"
   },
   {
    "duration": 318,
    "start_time": "2023-08-16T20:05:01.002Z"
   },
   {
    "duration": 170,
    "start_time": "2023-08-16T20:05:01.322Z"
   },
   {
    "duration": 222,
    "start_time": "2023-08-16T20:06:12.964Z"
   },
   {
    "duration": 313,
    "start_time": "2023-08-16T20:06:51.116Z"
   },
   {
    "duration": 126,
    "start_time": "2023-08-16T20:12:17.170Z"
   },
   {
    "duration": 11,
    "start_time": "2023-08-16T20:12:36.236Z"
   },
   {
    "duration": 132,
    "start_time": "2023-08-16T20:13:33.434Z"
   },
   {
    "duration": 126,
    "start_time": "2023-08-16T20:14:09.435Z"
   },
   {
    "duration": 1949,
    "start_time": "2023-08-16T20:14:26.286Z"
   },
   {
    "duration": 12,
    "start_time": "2023-08-16T20:14:28.237Z"
   },
   {
    "duration": 1070,
    "start_time": "2023-08-16T20:14:28.250Z"
   },
   {
    "duration": 135,
    "start_time": "2023-08-16T20:14:29.322Z"
   },
   {
    "duration": 1064,
    "start_time": "2023-08-16T20:14:29.458Z"
   },
   {
    "duration": 410,
    "start_time": "2023-08-16T20:14:30.524Z"
   },
   {
    "duration": 444,
    "start_time": "2023-08-16T20:14:30.936Z"
   },
   {
    "duration": 189,
    "start_time": "2023-08-16T20:14:31.382Z"
   },
   {
    "duration": 133,
    "start_time": "2023-08-16T20:14:31.573Z"
   },
   {
    "duration": 1580,
    "start_time": "2023-08-16T20:17:38.590Z"
   },
   {
    "duration": 14,
    "start_time": "2023-08-16T20:17:40.172Z"
   },
   {
    "duration": 892,
    "start_time": "2023-08-16T20:17:40.188Z"
   },
   {
    "duration": 139,
    "start_time": "2023-08-16T20:17:41.083Z"
   },
   {
    "duration": 1058,
    "start_time": "2023-08-16T20:17:41.224Z"
   },
   {
    "duration": 406,
    "start_time": "2023-08-16T20:17:42.284Z"
   },
   {
    "duration": 354,
    "start_time": "2023-08-16T20:17:42.692Z"
   },
   {
    "duration": 149,
    "start_time": "2023-08-16T20:17:43.049Z"
   },
   {
    "duration": 9,
    "start_time": "2023-08-16T20:29:15.078Z"
   },
   {
    "duration": 13,
    "start_time": "2023-08-16T20:33:31.925Z"
   },
   {
    "duration": 123,
    "start_time": "2023-08-16T20:34:08.646Z"
   },
   {
    "duration": 8,
    "start_time": "2023-08-16T20:34:43.377Z"
   },
   {
    "duration": 10,
    "start_time": "2023-08-16T20:36:03.851Z"
   },
   {
    "duration": 17,
    "start_time": "2023-08-16T20:39:37.268Z"
   },
   {
    "duration": 12,
    "start_time": "2023-08-16T20:40:14.605Z"
   },
   {
    "duration": 10,
    "start_time": "2023-08-16T20:40:32.499Z"
   },
   {
    "duration": 9,
    "start_time": "2023-08-16T20:41:48.490Z"
   },
   {
    "duration": 10,
    "start_time": "2023-08-16T20:42:39.714Z"
   },
   {
    "duration": 12,
    "start_time": "2023-08-16T20:44:48.282Z"
   },
   {
    "duration": 13,
    "start_time": "2023-08-16T20:45:30.244Z"
   },
   {
    "duration": 207,
    "start_time": "2023-08-16T20:54:57.795Z"
   },
   {
    "duration": 1432,
    "start_time": "2023-08-16T20:55:19.615Z"
   },
   {
    "duration": 12,
    "start_time": "2023-08-16T20:55:21.049Z"
   },
   {
    "duration": 940,
    "start_time": "2023-08-16T20:55:21.066Z"
   },
   {
    "duration": 138,
    "start_time": "2023-08-16T20:55:22.009Z"
   },
   {
    "duration": 992,
    "start_time": "2023-08-16T20:55:22.149Z"
   },
   {
    "duration": 19,
    "start_time": "2023-08-16T20:55:23.143Z"
   },
   {
    "duration": 395,
    "start_time": "2023-08-16T20:55:23.164Z"
   },
   {
    "duration": 377,
    "start_time": "2023-08-16T20:55:23.561Z"
   },
   {
    "duration": 155,
    "start_time": "2023-08-16T20:55:23.940Z"
   },
   {
    "duration": 749,
    "start_time": "2023-08-16T20:56:21.732Z"
   },
   {
    "duration": 1757,
    "start_time": "2023-08-16T22:00:00.908Z"
   },
   {
    "duration": 14,
    "start_time": "2023-08-16T22:00:02.667Z"
   },
   {
    "duration": 944,
    "start_time": "2023-08-16T22:00:02.682Z"
   },
   {
    "duration": 138,
    "start_time": "2023-08-16T22:00:03.629Z"
   },
   {
    "duration": 1035,
    "start_time": "2023-08-16T22:00:03.769Z"
   },
   {
    "duration": 391,
    "start_time": "2023-08-16T22:00:04.806Z"
   },
   {
    "duration": 15,
    "start_time": "2023-08-16T22:00:05.199Z"
   },
   {
    "duration": 399,
    "start_time": "2023-08-16T22:00:05.215Z"
   },
   {
    "duration": 127,
    "start_time": "2023-08-16T22:00:05.616Z"
   },
   {
    "duration": 765,
    "start_time": "2023-08-16T22:00:05.745Z"
   },
   {
    "duration": 45,
    "start_time": "2023-08-16T22:02:19.334Z"
   },
   {
    "duration": 7,
    "start_time": "2023-08-16T22:02:37.196Z"
   },
   {
    "duration": 8,
    "start_time": "2023-08-16T22:03:50.814Z"
   },
   {
    "duration": 7,
    "start_time": "2023-08-16T22:04:02.698Z"
   },
   {
    "duration": 11,
    "start_time": "2023-08-16T22:04:56.839Z"
   },
   {
    "duration": 11,
    "start_time": "2023-08-16T22:05:13.957Z"
   },
   {
    "duration": 69,
    "start_time": "2023-08-16T22:07:21.056Z"
   },
   {
    "duration": 10,
    "start_time": "2023-08-16T22:07:42.442Z"
   },
   {
    "duration": 9,
    "start_time": "2023-08-16T22:08:59.130Z"
   },
   {
    "duration": 10,
    "start_time": "2023-08-16T22:09:20.359Z"
   },
   {
    "duration": 9,
    "start_time": "2023-08-16T22:09:40.304Z"
   },
   {
    "duration": 162,
    "start_time": "2023-08-16T22:11:34.163Z"
   },
   {
    "duration": 280,
    "start_time": "2023-08-16T22:13:45.034Z"
   },
   {
    "duration": 1493,
    "start_time": "2023-08-16T22:14:28.893Z"
   },
   {
    "duration": 281,
    "start_time": "2023-08-16T22:14:53.445Z"
   },
   {
    "duration": 283,
    "start_time": "2023-08-16T22:15:37.904Z"
   },
   {
    "duration": 363,
    "start_time": "2023-08-16T22:15:50.180Z"
   },
   {
    "duration": 250,
    "start_time": "2023-08-16T22:17:42.291Z"
   },
   {
    "duration": 242,
    "start_time": "2023-08-16T22:17:58.970Z"
   },
   {
    "duration": 274,
    "start_time": "2023-08-16T22:25:04.049Z"
   },
   {
    "duration": 1549,
    "start_time": "2023-08-16T22:25:15.815Z"
   },
   {
    "duration": 1637,
    "start_time": "2023-08-16T22:25:46.196Z"
   },
   {
    "duration": 1561,
    "start_time": "2023-08-16T22:26:40.413Z"
   },
   {
    "duration": 1803,
    "start_time": "2023-08-16T22:30:26.758Z"
   },
   {
    "duration": 1719,
    "start_time": "2023-08-16T22:30:38.165Z"
   },
   {
    "duration": 3325,
    "start_time": "2023-08-16T22:32:00.635Z"
   },
   {
    "duration": 1470,
    "start_time": "2023-08-16T22:40:58.273Z"
   },
   {
    "duration": 11,
    "start_time": "2023-08-16T22:40:59.745Z"
   },
   {
    "duration": 930,
    "start_time": "2023-08-16T22:40:59.757Z"
   },
   {
    "duration": 138,
    "start_time": "2023-08-16T22:41:00.689Z"
   },
   {
    "duration": 1035,
    "start_time": "2023-08-16T22:41:00.830Z"
   },
   {
    "duration": 382,
    "start_time": "2023-08-16T22:41:01.868Z"
   },
   {
    "duration": 18,
    "start_time": "2023-08-16T22:41:02.252Z"
   },
   {
    "duration": 3122,
    "start_time": "2023-08-16T22:41:02.272Z"
   },
   {
    "duration": 386,
    "start_time": "2023-08-16T22:41:05.396Z"
   },
   {
    "duration": 125,
    "start_time": "2023-08-16T22:41:05.784Z"
   },
   {
    "duration": 758,
    "start_time": "2023-08-16T22:41:05.911Z"
   },
   {
    "duration": 11,
    "start_time": "2023-08-16T23:10:41.875Z"
   },
   {
    "duration": 9,
    "start_time": "2023-08-16T23:11:29.530Z"
   },
   {
    "duration": 9,
    "start_time": "2023-08-16T23:11:32.526Z"
   },
   {
    "duration": 137,
    "start_time": "2023-08-16T23:11:58.386Z"
   },
   {
    "duration": 9,
    "start_time": "2023-08-16T23:12:11.245Z"
   },
   {
    "duration": 30,
    "start_time": "2023-08-16T23:12:38.859Z"
   },
   {
    "duration": 26,
    "start_time": "2023-08-16T23:12:54.649Z"
   },
   {
    "duration": 27,
    "start_time": "2023-08-16T23:14:23.386Z"
   },
   {
    "duration": 28,
    "start_time": "2023-08-16T23:15:14.966Z"
   },
   {
    "duration": 29,
    "start_time": "2023-08-16T23:16:37.427Z"
   },
   {
    "duration": 2381,
    "start_time": "2023-08-16T23:17:28.979Z"
   },
   {
    "duration": 11,
    "start_time": "2023-08-16T23:17:31.362Z"
   },
   {
    "duration": 893,
    "start_time": "2023-08-16T23:17:31.375Z"
   },
   {
    "duration": 144,
    "start_time": "2023-08-16T23:17:32.271Z"
   },
   {
    "duration": 977,
    "start_time": "2023-08-16T23:17:32.416Z"
   },
   {
    "duration": 340,
    "start_time": "2023-08-16T23:17:33.395Z"
   },
   {
    "duration": 12,
    "start_time": "2023-08-16T23:17:33.737Z"
   },
   {
    "duration": 3021,
    "start_time": "2023-08-16T23:17:33.751Z"
   },
   {
    "duration": 33,
    "start_time": "2023-08-16T23:17:36.774Z"
   },
   {
    "duration": 410,
    "start_time": "2023-08-16T23:17:36.810Z"
   },
   {
    "duration": 120,
    "start_time": "2023-08-16T23:17:37.222Z"
   },
   {
    "duration": 750,
    "start_time": "2023-08-16T23:17:37.344Z"
   },
   {
    "duration": 63,
    "start_time": "2023-08-16T23:22:48.313Z"
   },
   {
    "duration": 58,
    "start_time": "2023-08-16T23:23:07.061Z"
   },
   {
    "duration": 58,
    "start_time": "2023-08-16T23:24:36.017Z"
   },
   {
    "duration": 59,
    "start_time": "2023-08-16T23:25:22.520Z"
   },
   {
    "duration": 21,
    "start_time": "2023-08-16T23:26:41.542Z"
   },
   {
    "duration": 20,
    "start_time": "2023-08-16T23:27:06.640Z"
   },
   {
    "duration": 113,
    "start_time": "2023-08-16T23:27:39.839Z"
   },
   {
    "duration": 6,
    "start_time": "2023-08-16T23:27:47.270Z"
   },
   {
    "duration": 23,
    "start_time": "2023-08-16T23:28:29.316Z"
   },
   {
    "duration": 1465,
    "start_time": "2023-08-16T23:29:49.112Z"
   },
   {
    "duration": 11,
    "start_time": "2023-08-16T23:29:50.579Z"
   },
   {
    "duration": 820,
    "start_time": "2023-08-16T23:29:50.591Z"
   },
   {
    "duration": 136,
    "start_time": "2023-08-16T23:29:51.414Z"
   },
   {
    "duration": 997,
    "start_time": "2023-08-16T23:29:51.552Z"
   },
   {
    "duration": 383,
    "start_time": "2023-08-16T23:29:52.551Z"
   },
   {
    "duration": 12,
    "start_time": "2023-08-16T23:29:52.936Z"
   },
   {
    "duration": 3209,
    "start_time": "2023-08-16T23:29:52.950Z"
   },
   {
    "duration": 25,
    "start_time": "2023-08-16T23:29:56.161Z"
   },
   {
    "duration": 29,
    "start_time": "2023-08-16T23:29:56.189Z"
   },
   {
    "duration": 418,
    "start_time": "2023-08-16T23:29:56.220Z"
   },
   {
    "duration": 131,
    "start_time": "2023-08-16T23:29:56.640Z"
   },
   {
    "duration": 758,
    "start_time": "2023-08-16T23:29:56.773Z"
   },
   {
    "duration": 1508,
    "start_time": "2023-08-16T23:32:08.630Z"
   },
   {
    "duration": 11,
    "start_time": "2023-08-16T23:32:10.140Z"
   },
   {
    "duration": 815,
    "start_time": "2023-08-16T23:32:10.153Z"
   },
   {
    "duration": 135,
    "start_time": "2023-08-16T23:32:10.971Z"
   },
   {
    "duration": 933,
    "start_time": "2023-08-16T23:32:11.108Z"
   },
   {
    "duration": 349,
    "start_time": "2023-08-16T23:32:12.043Z"
   },
   {
    "duration": 12,
    "start_time": "2023-08-16T23:32:12.394Z"
   },
   {
    "duration": 3063,
    "start_time": "2023-08-16T23:32:12.408Z"
   },
   {
    "duration": 62,
    "start_time": "2023-08-16T23:32:15.473Z"
   },
   {
    "duration": 53,
    "start_time": "2023-08-16T23:32:15.537Z"
   },
   {
    "duration": 374,
    "start_time": "2023-08-16T23:32:15.591Z"
   },
   {
    "duration": 126,
    "start_time": "2023-08-16T23:32:15.967Z"
   },
   {
    "duration": 864,
    "start_time": "2023-08-16T23:32:16.095Z"
   },
   {
    "duration": 58,
    "start_time": "2023-08-16T23:33:21.317Z"
   },
   {
    "duration": 4,
    "start_time": "2023-08-16T23:33:53.348Z"
   },
   {
    "duration": 1499,
    "start_time": "2023-08-16T23:35:30.750Z"
   },
   {
    "duration": 15,
    "start_time": "2023-08-16T23:35:32.252Z"
   },
   {
    "duration": 889,
    "start_time": "2023-08-16T23:35:32.270Z"
   },
   {
    "duration": 145,
    "start_time": "2023-08-16T23:35:33.162Z"
   },
   {
    "duration": 1044,
    "start_time": "2023-08-16T23:35:33.309Z"
   },
   {
    "duration": 359,
    "start_time": "2023-08-16T23:35:34.355Z"
   },
   {
    "duration": 14,
    "start_time": "2023-08-16T23:35:34.716Z"
   },
   {
    "duration": 3019,
    "start_time": "2023-08-16T23:35:34.731Z"
   },
   {
    "duration": 145,
    "start_time": "2023-08-16T23:35:37.752Z"
   },
   {
    "duration": 30,
    "start_time": "2023-08-16T23:35:37.899Z"
   },
   {
    "duration": 389,
    "start_time": "2023-08-16T23:35:37.930Z"
   },
   {
    "duration": 121,
    "start_time": "2023-08-16T23:35:38.320Z"
   },
   {
    "duration": 746,
    "start_time": "2023-08-16T23:35:38.442Z"
   },
   {
    "duration": 1502,
    "start_time": "2023-08-16T23:44:16.881Z"
   },
   {
    "duration": 13,
    "start_time": "2023-08-16T23:44:18.385Z"
   },
   {
    "duration": 921,
    "start_time": "2023-08-16T23:44:18.400Z"
   },
   {
    "duration": 126,
    "start_time": "2023-08-16T23:44:19.323Z"
   },
   {
    "duration": 959,
    "start_time": "2023-08-16T23:44:19.450Z"
   },
   {
    "duration": 347,
    "start_time": "2023-08-16T23:44:20.411Z"
   },
   {
    "duration": 16,
    "start_time": "2023-08-16T23:44:20.760Z"
   },
   {
    "duration": 3057,
    "start_time": "2023-08-16T23:44:20.777Z"
   },
   {
    "duration": 47,
    "start_time": "2023-08-16T23:44:23.836Z"
   },
   {
    "duration": 406,
    "start_time": "2023-08-16T23:44:23.886Z"
   },
   {
    "duration": 4,
    "start_time": "2023-08-16T23:44:24.294Z"
   },
   {
    "duration": 130,
    "start_time": "2023-08-16T23:44:24.299Z"
   },
   {
    "duration": 750,
    "start_time": "2023-08-16T23:44:24.430Z"
   },
   {
    "duration": 1498,
    "start_time": "2023-08-16T23:50:57.969Z"
   },
   {
    "duration": 11,
    "start_time": "2023-08-16T23:50:59.469Z"
   },
   {
    "duration": 905,
    "start_time": "2023-08-16T23:50:59.481Z"
   },
   {
    "duration": 139,
    "start_time": "2023-08-16T23:51:00.388Z"
   },
   {
    "duration": 972,
    "start_time": "2023-08-16T23:51:00.529Z"
   },
   {
    "duration": 363,
    "start_time": "2023-08-16T23:51:01.504Z"
   },
   {
    "duration": 13,
    "start_time": "2023-08-16T23:51:01.869Z"
   },
   {
    "duration": 3300,
    "start_time": "2023-08-16T23:51:01.884Z"
   },
   {
    "duration": 444,
    "start_time": "2023-08-16T23:51:05.186Z"
   },
   {
    "duration": 119,
    "start_time": "2023-08-16T23:51:05.632Z"
   },
   {
    "duration": 764,
    "start_time": "2023-08-16T23:51:05.752Z"
   },
   {
    "duration": 115,
    "start_time": "2023-08-16T23:57:58.575Z"
   },
   {
    "duration": 1423,
    "start_time": "2023-08-16T23:58:05.903Z"
   },
   {
    "duration": 12,
    "start_time": "2023-08-16T23:58:07.328Z"
   },
   {
    "duration": 886,
    "start_time": "2023-08-16T23:58:07.341Z"
   },
   {
    "duration": 140,
    "start_time": "2023-08-16T23:58:08.228Z"
   },
   {
    "duration": 955,
    "start_time": "2023-08-16T23:58:08.370Z"
   },
   {
    "duration": 116,
    "start_time": "2023-08-16T23:58:09.327Z"
   },
   {
    "duration": 0,
    "start_time": "2023-08-16T23:58:09.445Z"
   },
   {
    "duration": 0,
    "start_time": "2023-08-16T23:58:09.446Z"
   },
   {
    "duration": 0,
    "start_time": "2023-08-16T23:58:09.447Z"
   },
   {
    "duration": 0,
    "start_time": "2023-08-16T23:58:09.448Z"
   },
   {
    "duration": 0,
    "start_time": "2023-08-16T23:58:09.449Z"
   },
   {
    "duration": 0,
    "start_time": "2023-08-16T23:58:09.450Z"
   },
   {
    "duration": 12,
    "start_time": "2023-08-16T23:58:35.625Z"
   },
   {
    "duration": 1495,
    "start_time": "2023-08-16T23:59:11.488Z"
   },
   {
    "duration": 12,
    "start_time": "2023-08-16T23:59:12.985Z"
   },
   {
    "duration": 850,
    "start_time": "2023-08-16T23:59:12.998Z"
   },
   {
    "duration": 156,
    "start_time": "2023-08-16T23:59:13.850Z"
   },
   {
    "duration": 944,
    "start_time": "2023-08-16T23:59:14.009Z"
   },
   {
    "duration": 157,
    "start_time": "2023-08-16T23:59:14.955Z"
   },
   {
    "duration": 0,
    "start_time": "2023-08-16T23:59:15.113Z"
   },
   {
    "duration": 0,
    "start_time": "2023-08-16T23:59:15.115Z"
   },
   {
    "duration": 0,
    "start_time": "2023-08-16T23:59:15.116Z"
   },
   {
    "duration": 0,
    "start_time": "2023-08-16T23:59:15.117Z"
   },
   {
    "duration": 0,
    "start_time": "2023-08-16T23:59:15.119Z"
   },
   {
    "duration": 0,
    "start_time": "2023-08-16T23:59:15.120Z"
   },
   {
    "duration": 340,
    "start_time": "2023-08-17T00:01:39.544Z"
   },
   {
    "duration": 1911,
    "start_time": "2023-08-17T00:01:49.629Z"
   },
   {
    "duration": 12,
    "start_time": "2023-08-17T00:01:51.542Z"
   },
   {
    "duration": 886,
    "start_time": "2023-08-17T00:01:51.556Z"
   },
   {
    "duration": 143,
    "start_time": "2023-08-17T00:01:52.444Z"
   },
   {
    "duration": 1025,
    "start_time": "2023-08-17T00:01:52.588Z"
   },
   {
    "duration": 402,
    "start_time": "2023-08-17T00:01:53.615Z"
   },
   {
    "duration": 13,
    "start_time": "2023-08-17T00:01:54.019Z"
   },
   {
    "duration": 3081,
    "start_time": "2023-08-17T00:01:54.033Z"
   },
   {
    "duration": 134,
    "start_time": "2023-08-17T00:01:57.116Z"
   },
   {
    "duration": 0,
    "start_time": "2023-08-17T00:01:57.251Z"
   },
   {
    "duration": 0,
    "start_time": "2023-08-17T00:01:57.253Z"
   },
   {
    "duration": 0,
    "start_time": "2023-08-17T00:01:57.254Z"
   },
   {
    "duration": 469,
    "start_time": "2023-08-17T00:02:27.583Z"
   },
   {
    "duration": 113,
    "start_time": "2023-08-17T00:02:32.732Z"
   },
   {
    "duration": 735,
    "start_time": "2023-08-17T00:02:37.169Z"
   },
   {
    "duration": 13,
    "start_time": "2023-08-17T00:02:40.303Z"
   },
   {
    "duration": 174,
    "start_time": "2023-08-17T00:03:46.693Z"
   },
   {
    "duration": 182,
    "start_time": "2023-08-17T00:04:02.498Z"
   },
   {
    "duration": 11,
    "start_time": "2023-08-17T00:04:39.769Z"
   },
   {
    "duration": 3223,
    "start_time": "2023-08-17T00:04:54.808Z"
   },
   {
    "duration": 69,
    "start_time": "2023-08-17T00:06:35.882Z"
   },
   {
    "duration": 5,
    "start_time": "2023-08-17T00:06:43.920Z"
   },
   {
    "duration": 1519,
    "start_time": "2023-08-17T00:07:06.450Z"
   },
   {
    "duration": 12,
    "start_time": "2023-08-17T00:07:07.971Z"
   },
   {
    "duration": 885,
    "start_time": "2023-08-17T00:07:07.984Z"
   },
   {
    "duration": 138,
    "start_time": "2023-08-17T00:07:08.871Z"
   },
   {
    "duration": 965,
    "start_time": "2023-08-17T00:07:09.012Z"
   },
   {
    "duration": 359,
    "start_time": "2023-08-17T00:07:09.980Z"
   },
   {
    "duration": 26,
    "start_time": "2023-08-17T00:07:10.341Z"
   },
   {
    "duration": 3061,
    "start_time": "2023-08-17T00:07:10.369Z"
   },
   {
    "duration": 453,
    "start_time": "2023-08-17T00:07:13.433Z"
   },
   {
    "duration": 136,
    "start_time": "2023-08-17T00:07:13.889Z"
   },
   {
    "duration": 740,
    "start_time": "2023-08-17T00:07:14.027Z"
   },
   {
    "duration": 4,
    "start_time": "2023-08-17T00:07:14.769Z"
   },
   {
    "duration": 5,
    "start_time": "2023-08-17T00:07:48.361Z"
   },
   {
    "duration": 4,
    "start_time": "2023-08-17T00:09:04.249Z"
   },
   {
    "duration": 1657,
    "start_time": "2023-08-17T17:55:17.882Z"
   },
   {
    "duration": 20,
    "start_time": "2023-08-17T17:55:19.541Z"
   },
   {
    "duration": 1165,
    "start_time": "2023-08-17T17:55:19.563Z"
   },
   {
    "duration": 148,
    "start_time": "2023-08-17T17:55:20.730Z"
   },
   {
    "duration": 914,
    "start_time": "2023-08-17T17:55:20.880Z"
   },
   {
    "duration": 415,
    "start_time": "2023-08-17T17:55:21.795Z"
   },
   {
    "duration": 12,
    "start_time": "2023-08-17T17:55:22.212Z"
   },
   {
    "duration": 3050,
    "start_time": "2023-08-17T17:55:22.226Z"
   },
   {
    "duration": 450,
    "start_time": "2023-08-17T17:55:25.278Z"
   },
   {
    "duration": 138,
    "start_time": "2023-08-17T17:55:25.730Z"
   },
   {
    "duration": 711,
    "start_time": "2023-08-17T17:55:25.870Z"
   },
   {
    "duration": 5,
    "start_time": "2023-08-17T17:55:26.583Z"
   },
   {
    "duration": 1507,
    "start_time": "2023-08-17T20:13:55.007Z"
   },
   {
    "duration": 12,
    "start_time": "2023-08-17T20:13:56.516Z"
   },
   {
    "duration": 869,
    "start_time": "2023-08-17T20:13:56.531Z"
   },
   {
    "duration": 170,
    "start_time": "2023-08-17T20:13:57.402Z"
   },
   {
    "duration": 1013,
    "start_time": "2023-08-17T20:13:57.574Z"
   },
   {
    "duration": 389,
    "start_time": "2023-08-17T20:13:58.589Z"
   },
   {
    "duration": 12,
    "start_time": "2023-08-17T20:13:58.979Z"
   },
   {
    "duration": 3137,
    "start_time": "2023-08-17T20:13:58.992Z"
   },
   {
    "duration": 471,
    "start_time": "2023-08-17T20:14:02.131Z"
   },
   {
    "duration": 152,
    "start_time": "2023-08-17T20:14:02.605Z"
   },
   {
    "duration": 686,
    "start_time": "2023-08-17T20:14:02.759Z"
   },
   {
    "duration": 5,
    "start_time": "2023-08-17T20:14:03.451Z"
   },
   {
    "duration": 1612,
    "start_time": "2023-08-18T05:39:28.658Z"
   },
   {
    "duration": 12,
    "start_time": "2023-08-18T05:39:30.272Z"
   },
   {
    "duration": 1132,
    "start_time": "2023-08-18T05:39:30.285Z"
   },
   {
    "duration": 134,
    "start_time": "2023-08-18T05:39:31.419Z"
   },
   {
    "duration": 823,
    "start_time": "2023-08-18T05:39:31.555Z"
   },
   {
    "duration": 376,
    "start_time": "2023-08-18T05:39:32.380Z"
   },
   {
    "duration": 14,
    "start_time": "2023-08-18T05:39:32.759Z"
   },
   {
    "duration": 2935,
    "start_time": "2023-08-18T05:39:32.775Z"
   },
   {
    "duration": 466,
    "start_time": "2023-08-18T05:39:35.712Z"
   },
   {
    "duration": 172,
    "start_time": "2023-08-18T05:39:36.180Z"
   },
   {
    "duration": 681,
    "start_time": "2023-08-18T05:39:36.355Z"
   },
   {
    "duration": 4,
    "start_time": "2023-08-18T05:39:37.038Z"
   },
   {
    "duration": 1385,
    "start_time": "2023-08-18T05:40:22.216Z"
   },
   {
    "duration": 10,
    "start_time": "2023-08-18T05:40:23.602Z"
   },
   {
    "duration": 785,
    "start_time": "2023-08-18T05:40:23.613Z"
   },
   {
    "duration": 159,
    "start_time": "2023-08-18T05:40:24.399Z"
   },
   {
    "duration": 841,
    "start_time": "2023-08-18T05:40:24.560Z"
   },
   {
    "duration": 354,
    "start_time": "2023-08-18T05:40:25.403Z"
   },
   {
    "duration": 11,
    "start_time": "2023-08-18T05:40:25.759Z"
   },
   {
    "duration": 2664,
    "start_time": "2023-08-18T05:40:25.771Z"
   },
   {
    "duration": 77,
    "start_time": "2023-08-18T05:40:28.437Z"
   },
   {
    "duration": 0,
    "start_time": "2023-08-18T05:40:28.516Z"
   },
   {
    "duration": 0,
    "start_time": "2023-08-18T05:40:28.517Z"
   },
   {
    "duration": 0,
    "start_time": "2023-08-18T05:40:28.517Z"
   },
   {
    "duration": 365,
    "start_time": "2023-08-18T05:41:18.870Z"
   },
   {
    "duration": 133,
    "start_time": "2023-08-18T05:41:20.580Z"
   },
   {
    "duration": 662,
    "start_time": "2023-08-18T05:41:21.378Z"
   },
   {
    "duration": 4,
    "start_time": "2023-08-18T05:41:22.148Z"
   },
   {
    "duration": 1417,
    "start_time": "2023-08-18T05:48:24.829Z"
   },
   {
    "duration": 11,
    "start_time": "2023-08-18T05:48:26.247Z"
   },
   {
    "duration": 801,
    "start_time": "2023-08-18T05:48:26.259Z"
   },
   {
    "duration": 132,
    "start_time": "2023-08-18T05:48:27.062Z"
   },
   {
    "duration": 857,
    "start_time": "2023-08-18T05:48:27.196Z"
   },
   {
    "duration": 376,
    "start_time": "2023-08-18T05:48:28.055Z"
   },
   {
    "duration": 13,
    "start_time": "2023-08-18T05:48:28.433Z"
   },
   {
    "duration": 2841,
    "start_time": "2023-08-18T05:48:28.448Z"
   },
   {
    "duration": 387,
    "start_time": "2023-08-18T05:48:31.291Z"
   },
   {
    "duration": 137,
    "start_time": "2023-08-18T05:48:31.680Z"
   },
   {
    "duration": 756,
    "start_time": "2023-08-18T05:48:31.819Z"
   },
   {
    "duration": 4,
    "start_time": "2023-08-18T05:48:32.576Z"
   },
   {
    "duration": 1345,
    "start_time": "2023-08-18T06:07:50.784Z"
   },
   {
    "duration": 9,
    "start_time": "2023-08-18T06:07:52.132Z"
   },
   {
    "duration": 828,
    "start_time": "2023-08-18T06:07:52.143Z"
   },
   {
    "duration": 133,
    "start_time": "2023-08-18T06:07:52.973Z"
   },
   {
    "duration": 814,
    "start_time": "2023-08-18T06:07:53.107Z"
   },
   {
    "duration": 356,
    "start_time": "2023-08-18T06:07:53.923Z"
   },
   {
    "duration": 11,
    "start_time": "2023-08-18T06:07:54.281Z"
   },
   {
    "duration": 2742,
    "start_time": "2023-08-18T06:07:54.294Z"
   },
   {
    "duration": 17,
    "start_time": "2023-08-18T06:07:57.037Z"
   },
   {
    "duration": 381,
    "start_time": "2023-08-18T06:07:57.057Z"
   },
   {
    "duration": 131,
    "start_time": "2023-08-18T06:07:57.440Z"
   },
   {
    "duration": 695,
    "start_time": "2023-08-18T06:07:57.573Z"
   },
   {
    "duration": 4,
    "start_time": "2023-08-18T06:07:58.269Z"
   },
   {
    "duration": 1460,
    "start_time": "2023-08-18T06:49:44.478Z"
   },
   {
    "duration": 11,
    "start_time": "2023-08-18T06:49:45.939Z"
   },
   {
    "duration": 821,
    "start_time": "2023-08-18T06:49:45.952Z"
   },
   {
    "duration": 138,
    "start_time": "2023-08-18T06:49:46.775Z"
   },
   {
    "duration": 851,
    "start_time": "2023-08-18T06:49:46.915Z"
   },
   {
    "duration": 379,
    "start_time": "2023-08-18T06:49:47.768Z"
   },
   {
    "duration": 11,
    "start_time": "2023-08-18T06:49:48.149Z"
   },
   {
    "duration": 2772,
    "start_time": "2023-08-18T06:49:48.161Z"
   },
   {
    "duration": 16,
    "start_time": "2023-08-18T06:49:50.934Z"
   },
   {
    "duration": 409,
    "start_time": "2023-08-18T06:49:50.952Z"
   },
   {
    "duration": 128,
    "start_time": "2023-08-18T06:49:51.363Z"
   },
   {
    "duration": 683,
    "start_time": "2023-08-18T06:49:51.493Z"
   },
   {
    "duration": 5,
    "start_time": "2023-08-18T06:49:52.177Z"
   },
   {
    "duration": 16,
    "start_time": "2023-08-18T06:51:43.171Z"
   },
   {
    "duration": 3400,
    "start_time": "2023-08-18T06:52:31.818Z"
   },
   {
    "duration": 1584,
    "start_time": "2023-08-18T06:52:58.523Z"
   },
   {
    "duration": 13,
    "start_time": "2023-08-18T06:53:00.109Z"
   },
   {
    "duration": 882,
    "start_time": "2023-08-18T06:53:00.123Z"
   },
   {
    "duration": 166,
    "start_time": "2023-08-18T06:53:01.007Z"
   },
   {
    "duration": 917,
    "start_time": "2023-08-18T06:53:01.176Z"
   },
   {
    "duration": 657,
    "start_time": "2023-08-18T06:53:02.096Z"
   },
   {
    "duration": 17,
    "start_time": "2023-08-18T06:53:02.755Z"
   },
   {
    "duration": 3157,
    "start_time": "2023-08-18T06:53:02.775Z"
   },
   {
    "duration": 26,
    "start_time": "2023-08-18T06:53:05.934Z"
   },
   {
    "duration": 398,
    "start_time": "2023-08-18T06:53:05.963Z"
   },
   {
    "duration": 148,
    "start_time": "2023-08-18T06:53:06.363Z"
   },
   {
    "duration": 710,
    "start_time": "2023-08-18T06:53:06.514Z"
   },
   {
    "duration": 11,
    "start_time": "2023-08-18T06:53:07.225Z"
   },
   {
    "duration": 1625,
    "start_time": "2023-08-18T06:54:23.776Z"
   },
   {
    "duration": 16,
    "start_time": "2023-08-18T06:54:25.404Z"
   },
   {
    "duration": 901,
    "start_time": "2023-08-18T06:54:25.422Z"
   },
   {
    "duration": 144,
    "start_time": "2023-08-18T06:54:26.325Z"
   },
   {
    "duration": 921,
    "start_time": "2023-08-18T06:54:26.472Z"
   },
   {
    "duration": 394,
    "start_time": "2023-08-18T06:54:27.396Z"
   },
   {
    "duration": 13,
    "start_time": "2023-08-18T06:54:27.791Z"
   },
   {
    "duration": 53,
    "start_time": "2023-08-18T06:54:27.806Z"
   },
   {
    "duration": 27,
    "start_time": "2023-08-18T06:54:27.862Z"
   },
   {
    "duration": 513,
    "start_time": "2023-08-18T06:54:27.891Z"
   },
   {
    "duration": 163,
    "start_time": "2023-08-18T06:54:28.405Z"
   },
   {
    "duration": 879,
    "start_time": "2023-08-18T06:54:28.570Z"
   },
   {
    "duration": 5,
    "start_time": "2023-08-18T06:54:29.452Z"
   },
   {
    "duration": 1449,
    "start_time": "2023-08-18T07:27:21.987Z"
   },
   {
    "duration": 11,
    "start_time": "2023-08-18T07:27:23.438Z"
   },
   {
    "duration": 875,
    "start_time": "2023-08-18T07:27:23.450Z"
   },
   {
    "duration": 143,
    "start_time": "2023-08-18T07:27:24.327Z"
   },
   {
    "duration": 935,
    "start_time": "2023-08-18T07:27:24.471Z"
   },
   {
    "duration": 372,
    "start_time": "2023-08-18T07:27:25.407Z"
   },
   {
    "duration": 13,
    "start_time": "2023-08-18T07:27:25.781Z"
   },
   {
    "duration": 39,
    "start_time": "2023-08-18T07:27:25.795Z"
   },
   {
    "duration": 17,
    "start_time": "2023-08-18T07:27:25.835Z"
   },
   {
    "duration": 394,
    "start_time": "2023-08-18T07:27:25.855Z"
   },
   {
    "duration": 129,
    "start_time": "2023-08-18T07:27:26.251Z"
   },
   {
    "duration": 689,
    "start_time": "2023-08-18T07:27:26.383Z"
   },
   {
    "duration": 4,
    "start_time": "2023-08-18T07:27:27.073Z"
   },
   {
    "duration": 4,
    "start_time": "2023-08-18T07:29:50.300Z"
   },
   {
    "duration": 3,
    "start_time": "2023-08-18T07:30:37.705Z"
   },
   {
    "duration": 116,
    "start_time": "2023-08-18T07:46:57.609Z"
   },
   {
    "duration": 10,
    "start_time": "2023-08-18T07:47:53.744Z"
   },
   {
    "duration": 10,
    "start_time": "2023-08-18T07:48:03.517Z"
   },
   {
    "duration": 14,
    "start_time": "2023-08-18T07:48:44.149Z"
   },
   {
    "duration": 117,
    "start_time": "2023-08-18T07:49:03.817Z"
   },
   {
    "duration": 10,
    "start_time": "2023-08-18T07:52:57.735Z"
   },
   {
    "duration": 9,
    "start_time": "2023-08-18T07:53:14.398Z"
   },
   {
    "duration": 38,
    "start_time": "2023-08-18T07:53:39.609Z"
   },
   {
    "duration": 40,
    "start_time": "2023-08-18T07:54:04.244Z"
   },
   {
    "duration": 309,
    "start_time": "2023-08-18T07:55:57.334Z"
   },
   {
    "duration": 284,
    "start_time": "2023-08-18T07:56:07.374Z"
   },
   {
    "duration": 316,
    "start_time": "2023-08-18T07:57:54.836Z"
   },
   {
    "duration": 302,
    "start_time": "2023-08-18T07:58:22.299Z"
   },
   {
    "duration": 51,
    "start_time": "2023-08-18T13:23:19.993Z"
   },
   {
    "duration": 1704,
    "start_time": "2023-08-18T19:07:07.705Z"
   },
   {
    "duration": 11,
    "start_time": "2023-08-18T19:07:09.411Z"
   },
   {
    "duration": 1055,
    "start_time": "2023-08-18T19:07:09.424Z"
   },
   {
    "duration": 143,
    "start_time": "2023-08-18T19:07:10.480Z"
   },
   {
    "duration": 853,
    "start_time": "2023-08-18T19:07:10.626Z"
   },
   {
    "duration": 378,
    "start_time": "2023-08-18T19:07:11.480Z"
   },
   {
    "duration": 11,
    "start_time": "2023-08-18T19:07:11.860Z"
   },
   {
    "duration": 34,
    "start_time": "2023-08-18T19:07:11.873Z"
   },
   {
    "duration": 15,
    "start_time": "2023-08-18T19:07:11.909Z"
   },
   {
    "duration": 303,
    "start_time": "2023-08-18T19:07:11.925Z"
   },
   {
    "duration": 1683,
    "start_time": "2023-08-18T19:07:12.229Z"
   },
   {
    "duration": 0,
    "start_time": "2023-08-18T19:07:13.914Z"
   },
   {
    "duration": 0,
    "start_time": "2023-08-18T19:07:13.915Z"
   },
   {
    "duration": 0,
    "start_time": "2023-08-18T19:07:13.916Z"
   },
   {
    "duration": 183,
    "start_time": "2023-08-18T19:09:13.270Z"
   },
   {
    "duration": 1378,
    "start_time": "2023-08-18T19:10:05.574Z"
   },
   {
    "duration": 10,
    "start_time": "2023-08-18T19:10:06.954Z"
   },
   {
    "duration": 746,
    "start_time": "2023-08-18T19:10:06.965Z"
   },
   {
    "duration": 154,
    "start_time": "2023-08-18T19:10:07.712Z"
   },
   {
    "duration": 939,
    "start_time": "2023-08-18T19:10:07.868Z"
   },
   {
    "duration": 368,
    "start_time": "2023-08-18T19:10:08.808Z"
   },
   {
    "duration": 11,
    "start_time": "2023-08-18T19:10:09.178Z"
   },
   {
    "duration": 37,
    "start_time": "2023-08-18T19:10:09.190Z"
   },
   {
    "duration": 15,
    "start_time": "2023-08-18T19:10:09.228Z"
   },
   {
    "duration": 288,
    "start_time": "2023-08-18T19:10:09.252Z"
   },
   {
    "duration": 1702,
    "start_time": "2023-08-18T19:10:09.541Z"
   },
   {
    "duration": 0,
    "start_time": "2023-08-18T19:10:11.245Z"
   },
   {
    "duration": 0,
    "start_time": "2023-08-18T19:10:11.246Z"
   },
   {
    "duration": 0,
    "start_time": "2023-08-18T19:10:11.247Z"
   },
   {
    "duration": 1450,
    "start_time": "2023-08-18T19:13:04.911Z"
   },
   {
    "duration": 10,
    "start_time": "2023-08-18T19:13:06.363Z"
   },
   {
    "duration": 771,
    "start_time": "2023-08-18T19:13:06.374Z"
   },
   {
    "duration": 135,
    "start_time": "2023-08-18T19:13:07.147Z"
   },
   {
    "duration": 843,
    "start_time": "2023-08-18T19:13:07.284Z"
   },
   {
    "duration": 424,
    "start_time": "2023-08-18T19:13:08.128Z"
   },
   {
    "duration": 11,
    "start_time": "2023-08-18T19:13:08.553Z"
   },
   {
    "duration": 18,
    "start_time": "2023-08-18T19:13:08.566Z"
   },
   {
    "duration": 17,
    "start_time": "2023-08-18T19:13:08.586Z"
   },
   {
    "duration": 325,
    "start_time": "2023-08-18T19:13:08.604Z"
   },
   {
    "duration": 269,
    "start_time": "2023-08-18T19:13:08.931Z"
   },
   {
    "duration": 34,
    "start_time": "2023-08-18T19:13:09.202Z"
   },
   {
    "duration": 23,
    "start_time": "2023-08-18T19:13:09.237Z"
   },
   {
    "duration": 1559,
    "start_time": "2023-08-18T19:13:09.263Z"
   },
   {
    "duration": 0,
    "start_time": "2023-08-18T19:13:10.824Z"
   },
   {
    "duration": 0,
    "start_time": "2023-08-18T19:13:10.826Z"
   },
   {
    "duration": 0,
    "start_time": "2023-08-18T19:13:10.827Z"
   },
   {
    "duration": 0,
    "start_time": "2023-08-18T19:13:10.829Z"
   },
   {
    "duration": 50,
    "start_time": "2023-08-18T19:16:19.798Z"
   },
   {
    "duration": 49,
    "start_time": "2023-08-18T19:16:44.542Z"
   },
   {
    "duration": 63,
    "start_time": "2023-08-18T19:16:47.182Z"
   },
   {
    "duration": 136,
    "start_time": "2023-08-18T19:16:56.217Z"
   },
   {
    "duration": 679,
    "start_time": "2023-08-18T19:16:59.905Z"
   },
   {
    "duration": 4,
    "start_time": "2023-08-18T19:17:03.747Z"
   },
   {
    "duration": 64,
    "start_time": "2023-08-18T19:23:50.706Z"
   },
   {
    "duration": 1498,
    "start_time": "2023-08-18T19:24:00.555Z"
   },
   {
    "duration": 12,
    "start_time": "2023-08-18T19:24:02.055Z"
   },
   {
    "duration": 885,
    "start_time": "2023-08-18T19:24:02.069Z"
   },
   {
    "duration": 143,
    "start_time": "2023-08-18T19:24:02.956Z"
   },
   {
    "duration": 902,
    "start_time": "2023-08-18T19:24:03.101Z"
   },
   {
    "duration": 349,
    "start_time": "2023-08-18T19:24:04.004Z"
   },
   {
    "duration": 10,
    "start_time": "2023-08-18T19:24:04.355Z"
   },
   {
    "duration": 20,
    "start_time": "2023-08-18T19:24:04.367Z"
   },
   {
    "duration": 16,
    "start_time": "2023-08-18T19:24:04.389Z"
   },
   {
    "duration": 339,
    "start_time": "2023-08-18T19:24:04.406Z"
   },
   {
    "duration": 285,
    "start_time": "2023-08-18T19:24:04.748Z"
   },
   {
    "duration": 37,
    "start_time": "2023-08-18T19:24:05.035Z"
   },
   {
    "duration": 15,
    "start_time": "2023-08-18T19:24:05.074Z"
   },
   {
    "duration": 73,
    "start_time": "2023-08-18T19:24:05.092Z"
   },
   {
    "duration": 63,
    "start_time": "2023-08-18T19:24:05.166Z"
   },
   {
    "duration": 150,
    "start_time": "2023-08-18T19:24:05.231Z"
   },
   {
    "duration": 704,
    "start_time": "2023-08-18T19:24:05.383Z"
   },
   {
    "duration": 4,
    "start_time": "2023-08-18T19:24:06.088Z"
   },
   {
    "duration": 83,
    "start_time": "2023-08-18T19:26:20.471Z"
   },
   {
    "duration": 1497,
    "start_time": "2023-08-18T19:30:10.275Z"
   },
   {
    "duration": 11,
    "start_time": "2023-08-18T19:30:11.774Z"
   },
   {
    "duration": 807,
    "start_time": "2023-08-18T19:30:11.786Z"
   },
   {
    "duration": 148,
    "start_time": "2023-08-18T19:30:12.594Z"
   },
   {
    "duration": 894,
    "start_time": "2023-08-18T19:30:12.753Z"
   },
   {
    "duration": 395,
    "start_time": "2023-08-18T19:30:13.649Z"
   },
   {
    "duration": 15,
    "start_time": "2023-08-18T19:30:14.046Z"
   },
   {
    "duration": 22,
    "start_time": "2023-08-18T19:30:14.063Z"
   },
   {
    "duration": 23,
    "start_time": "2023-08-18T19:30:14.087Z"
   },
   {
    "duration": 386,
    "start_time": "2023-08-18T19:30:14.112Z"
   },
   {
    "duration": 140,
    "start_time": "2023-08-18T19:30:14.499Z"
   },
   {
    "duration": 283,
    "start_time": "2023-08-18T19:30:14.641Z"
   },
   {
    "duration": 34,
    "start_time": "2023-08-18T19:30:14.925Z"
   },
   {
    "duration": 7,
    "start_time": "2023-08-18T19:30:14.962Z"
   },
   {
    "duration": 83,
    "start_time": "2023-08-18T19:30:14.971Z"
   },
   {
    "duration": 148,
    "start_time": "2023-08-18T19:30:15.057Z"
   },
   {
    "duration": 148,
    "start_time": "2023-08-18T19:30:15.207Z"
   },
   {
    "duration": 713,
    "start_time": "2023-08-18T19:30:15.356Z"
   },
   {
    "duration": 4,
    "start_time": "2023-08-18T19:30:16.070Z"
   },
   {
    "duration": 2112,
    "start_time": "2023-08-19T05:16:21.514Z"
   },
   {
    "duration": 11,
    "start_time": "2023-08-19T05:16:23.628Z"
   },
   {
    "duration": 1863,
    "start_time": "2023-08-19T05:16:23.641Z"
   },
   {
    "duration": 228,
    "start_time": "2023-08-19T05:16:25.506Z"
   },
   {
    "duration": 1284,
    "start_time": "2023-08-19T05:16:25.737Z"
   },
   {
    "duration": 536,
    "start_time": "2023-08-19T05:16:27.024Z"
   },
   {
    "duration": 19,
    "start_time": "2023-08-19T05:16:27.567Z"
   },
   {
    "duration": 25,
    "start_time": "2023-08-19T05:16:27.597Z"
   },
   {
    "duration": 21,
    "start_time": "2023-08-19T05:16:27.624Z"
   },
   {
    "duration": 424,
    "start_time": "2023-08-19T05:16:27.647Z"
   },
   {
    "duration": 89,
    "start_time": "2023-08-19T05:16:28.073Z"
   },
   {
    "duration": 403,
    "start_time": "2023-08-19T05:16:28.172Z"
   },
   {
    "duration": 39,
    "start_time": "2023-08-19T05:16:28.581Z"
   },
   {
    "duration": 11,
    "start_time": "2023-08-19T05:16:28.623Z"
   },
   {
    "duration": 127,
    "start_time": "2023-08-19T05:16:28.636Z"
   },
   {
    "duration": 83,
    "start_time": "2023-08-19T05:16:28.766Z"
   },
   {
    "duration": 215,
    "start_time": "2023-08-19T05:16:28.852Z"
   },
   {
    "duration": 975,
    "start_time": "2023-08-19T05:16:29.069Z"
   },
   {
    "duration": 12,
    "start_time": "2023-08-19T05:16:30.046Z"
   },
   {
    "duration": 1964,
    "start_time": "2023-08-19T05:18:01.532Z"
   },
   {
    "duration": 1624,
    "start_time": "2023-08-19T05:18:16.976Z"
   },
   {
    "duration": 10,
    "start_time": "2023-08-19T05:18:18.601Z"
   },
   {
    "duration": 990,
    "start_time": "2023-08-19T05:18:18.613Z"
   },
   {
    "duration": 177,
    "start_time": "2023-08-19T05:18:19.605Z"
   },
   {
    "duration": 1036,
    "start_time": "2023-08-19T05:18:19.785Z"
   },
   {
    "duration": 568,
    "start_time": "2023-08-19T05:18:20.823Z"
   },
   {
    "duration": 14,
    "start_time": "2023-08-19T05:18:21.392Z"
   },
   {
    "duration": 43,
    "start_time": "2023-08-19T05:18:21.408Z"
   },
   {
    "duration": 30,
    "start_time": "2023-08-19T05:18:21.457Z"
   },
   {
    "duration": 405,
    "start_time": "2023-08-19T05:18:21.493Z"
   },
   {
    "duration": 141,
    "start_time": "2023-08-19T05:18:21.900Z"
   },
   {
    "duration": 0,
    "start_time": "2023-08-19T05:18:22.043Z"
   },
   {
    "duration": 0,
    "start_time": "2023-08-19T05:18:22.044Z"
   },
   {
    "duration": 0,
    "start_time": "2023-08-19T05:18:22.045Z"
   },
   {
    "duration": 0,
    "start_time": "2023-08-19T05:18:22.047Z"
   },
   {
    "duration": 0,
    "start_time": "2023-08-19T05:18:22.048Z"
   },
   {
    "duration": 0,
    "start_time": "2023-08-19T05:18:22.050Z"
   },
   {
    "duration": 0,
    "start_time": "2023-08-19T05:18:22.051Z"
   },
   {
    "duration": 0,
    "start_time": "2023-08-19T05:18:22.053Z"
   },
   {
    "duration": 115,
    "start_time": "2023-08-19T05:19:08.172Z"
   },
   {
    "duration": 1697,
    "start_time": "2023-08-19T05:39:51.947Z"
   },
   {
    "duration": 15,
    "start_time": "2023-08-19T05:39:53.646Z"
   },
   {
    "duration": 1052,
    "start_time": "2023-08-19T05:39:53.664Z"
   },
   {
    "duration": 190,
    "start_time": "2023-08-19T05:39:54.718Z"
   },
   {
    "duration": 1157,
    "start_time": "2023-08-19T05:39:54.910Z"
   },
   {
    "duration": 586,
    "start_time": "2023-08-19T05:39:56.069Z"
   },
   {
    "duration": 23,
    "start_time": "2023-08-19T05:39:56.657Z"
   },
   {
    "duration": 26,
    "start_time": "2023-08-19T05:39:56.682Z"
   },
   {
    "duration": 42,
    "start_time": "2023-08-19T05:39:56.710Z"
   },
   {
    "duration": 393,
    "start_time": "2023-08-19T05:39:56.754Z"
   },
   {
    "duration": 93,
    "start_time": "2023-08-19T05:39:57.148Z"
   },
   {
    "duration": 372,
    "start_time": "2023-08-19T05:39:57.242Z"
   },
   {
    "duration": 27,
    "start_time": "2023-08-19T05:39:57.617Z"
   },
   {
    "duration": 11,
    "start_time": "2023-08-19T05:39:57.649Z"
   },
   {
    "duration": 71,
    "start_time": "2023-08-19T05:39:57.663Z"
   },
   {
    "duration": 90,
    "start_time": "2023-08-19T05:39:57.735Z"
   },
   {
    "duration": 168,
    "start_time": "2023-08-19T05:39:57.826Z"
   },
   {
    "duration": 754,
    "start_time": "2023-08-19T05:39:57.996Z"
   },
   {
    "duration": 6,
    "start_time": "2023-08-19T05:39:58.755Z"
   },
   {
    "duration": 119,
    "start_time": "2023-08-19T05:49:35.306Z"
   },
   {
    "duration": 74,
    "start_time": "2023-08-19T05:50:29.303Z"
   },
   {
    "duration": 96,
    "start_time": "2023-08-19T05:50:54.785Z"
   },
   {
    "duration": 14,
    "start_time": "2023-08-19T05:51:24.971Z"
   },
   {
    "duration": 17,
    "start_time": "2023-08-19T05:51:31.290Z"
   },
   {
    "duration": 26,
    "start_time": "2023-08-19T05:55:40.087Z"
   },
   {
    "duration": 24,
    "start_time": "2023-08-19T05:55:53.996Z"
   },
   {
    "duration": 133,
    "start_time": "2023-08-19T05:56:00.099Z"
   },
   {
    "duration": 1536,
    "start_time": "2023-08-19T06:01:47.065Z"
   },
   {
    "duration": 11,
    "start_time": "2023-08-19T06:01:48.603Z"
   },
   {
    "duration": 881,
    "start_time": "2023-08-19T06:01:48.616Z"
   },
   {
    "duration": 170,
    "start_time": "2023-08-19T06:01:49.498Z"
   },
   {
    "duration": 979,
    "start_time": "2023-08-19T06:01:49.670Z"
   },
   {
    "duration": 432,
    "start_time": "2023-08-19T06:01:50.651Z"
   },
   {
    "duration": 13,
    "start_time": "2023-08-19T06:01:51.085Z"
   },
   {
    "duration": 39,
    "start_time": "2023-08-19T06:01:51.099Z"
   },
   {
    "duration": 38,
    "start_time": "2023-08-19T06:01:51.141Z"
   },
   {
    "duration": 371,
    "start_time": "2023-08-19T06:01:51.181Z"
   },
   {
    "duration": 74,
    "start_time": "2023-08-19T06:01:51.554Z"
   },
   {
    "duration": 321,
    "start_time": "2023-08-19T06:01:51.629Z"
   },
   {
    "duration": 40,
    "start_time": "2023-08-19T06:01:51.956Z"
   },
   {
    "duration": 12,
    "start_time": "2023-08-19T06:01:52.000Z"
   },
   {
    "duration": 995,
    "start_time": "2023-08-19T06:01:52.014Z"
   },
   {
    "duration": 0,
    "start_time": "2023-08-19T06:01:53.011Z"
   },
   {
    "duration": 0,
    "start_time": "2023-08-19T06:01:53.012Z"
   },
   {
    "duration": 0,
    "start_time": "2023-08-19T06:01:53.013Z"
   },
   {
    "duration": 0,
    "start_time": "2023-08-19T06:01:53.014Z"
   },
   {
    "duration": 0,
    "start_time": "2023-08-19T06:01:53.015Z"
   },
   {
    "duration": 1762,
    "start_time": "2023-08-19T06:03:04.844Z"
   },
   {
    "duration": 820,
    "start_time": "2023-08-19T06:03:28.282Z"
   },
   {
    "duration": 240,
    "start_time": "2023-08-19T06:04:03.996Z"
   },
   {
    "duration": 76,
    "start_time": "2023-08-19T06:04:06.252Z"
   },
   {
    "duration": 63,
    "start_time": "2023-08-19T06:04:06.701Z"
   },
   {
    "duration": 104,
    "start_time": "2023-08-19T06:04:08.267Z"
   },
   {
    "duration": 1308,
    "start_time": "2023-08-19T06:04:08.461Z"
   },
   {
    "duration": 4,
    "start_time": "2023-08-19T06:04:09.771Z"
   },
   {
    "duration": 9,
    "start_time": "2023-08-19T06:05:27.468Z"
   },
   {
    "duration": 57,
    "start_time": "2023-08-19T06:05:55.873Z"
   },
   {
    "duration": 6,
    "start_time": "2023-08-19T06:06:58.372Z"
   },
   {
    "duration": 16,
    "start_time": "2023-08-19T06:07:34.547Z"
   },
   {
    "duration": 11,
    "start_time": "2023-08-19T06:07:41.996Z"
   },
   {
    "duration": 14,
    "start_time": "2023-08-19T06:08:11.028Z"
   },
   {
    "duration": 43,
    "start_time": "2023-08-19T06:08:36.815Z"
   },
   {
    "duration": 1651,
    "start_time": "2023-08-19T06:09:00.249Z"
   },
   {
    "duration": 1508,
    "start_time": "2023-08-19T06:09:27.369Z"
   },
   {
    "duration": 6177,
    "start_time": "2023-08-19T06:10:01.407Z"
   },
   {
    "duration": 2442,
    "start_time": "2023-08-19T06:11:04.789Z"
   },
   {
    "duration": 2202,
    "start_time": "2023-08-19T06:12:11.591Z"
   },
   {
    "duration": 6179,
    "start_time": "2023-08-19T06:12:35.169Z"
   },
   {
    "duration": 2534,
    "start_time": "2023-08-19T06:12:55.989Z"
   },
   {
    "duration": 2379,
    "start_time": "2023-08-19T06:13:08.348Z"
   },
   {
    "duration": 4382,
    "start_time": "2023-08-19T06:13:20.228Z"
   },
   {
    "duration": 2333,
    "start_time": "2023-08-19T06:13:38.049Z"
   },
   {
    "duration": 2265,
    "start_time": "2023-08-19T06:14:41.781Z"
   },
   {
    "duration": 1158,
    "start_time": "2023-08-19T06:15:03.829Z"
   },
   {
    "duration": 1224,
    "start_time": "2023-08-19T06:15:56.685Z"
   },
   {
    "duration": 1264,
    "start_time": "2023-08-19T06:16:09.569Z"
   },
   {
    "duration": 1294,
    "start_time": "2023-08-19T06:16:28.608Z"
   },
   {
    "duration": 1562,
    "start_time": "2023-08-19T06:16:49.550Z"
   },
   {
    "duration": 46,
    "start_time": "2023-08-19T06:17:16.783Z"
   },
   {
    "duration": 49,
    "start_time": "2023-08-19T06:17:17.236Z"
   },
   {
    "duration": 6,
    "start_time": "2023-08-19T06:17:32.430Z"
   },
   {
    "duration": 2552,
    "start_time": "2023-08-19T06:17:47.709Z"
   },
   {
    "duration": 4,
    "start_time": "2023-08-19T06:17:53.608Z"
   },
   {
    "duration": 4,
    "start_time": "2023-08-19T06:18:33.858Z"
   },
   {
    "duration": 16,
    "start_time": "2023-08-19T06:27:12.551Z"
   },
   {
    "duration": 51,
    "start_time": "2023-08-19T06:27:25.450Z"
   },
   {
    "duration": 56,
    "start_time": "2023-08-19T06:28:49.249Z"
   },
   {
    "duration": 63,
    "start_time": "2023-08-19T06:28:58.708Z"
   },
   {
    "duration": 61,
    "start_time": "2023-08-19T06:29:51.850Z"
   },
   {
    "duration": 12,
    "start_time": "2023-08-19T06:30:24.057Z"
   },
   {
    "duration": 91,
    "start_time": "2023-08-19T06:30:29.962Z"
   },
   {
    "duration": 117,
    "start_time": "2023-08-19T06:31:22.909Z"
   },
   {
    "duration": 1630,
    "start_time": "2023-08-19T07:36:55.277Z"
   },
   {
    "duration": 15,
    "start_time": "2023-08-19T07:36:56.910Z"
   },
   {
    "duration": 884,
    "start_time": "2023-08-19T07:36:56.928Z"
   },
   {
    "duration": 246,
    "start_time": "2023-08-19T07:36:57.814Z"
   },
   {
    "duration": 930,
    "start_time": "2023-08-19T07:36:58.063Z"
   },
   {
    "duration": 487,
    "start_time": "2023-08-19T07:36:58.995Z"
   },
   {
    "duration": 15,
    "start_time": "2023-08-19T07:36:59.485Z"
   },
   {
    "duration": 23,
    "start_time": "2023-08-19T07:36:59.502Z"
   },
   {
    "duration": 44,
    "start_time": "2023-08-19T07:36:59.526Z"
   },
   {
    "duration": 423,
    "start_time": "2023-08-19T07:36:59.571Z"
   },
   {
    "duration": 98,
    "start_time": "2023-08-19T07:36:59.996Z"
   },
   {
    "duration": 345,
    "start_time": "2023-08-19T07:37:00.095Z"
   },
   {
    "duration": 27,
    "start_time": "2023-08-19T07:37:00.442Z"
   },
   {
    "duration": 13,
    "start_time": "2023-08-19T07:37:00.472Z"
   },
   {
    "duration": 242,
    "start_time": "2023-08-19T07:37:00.486Z"
   },
   {
    "duration": 143,
    "start_time": "2023-08-19T07:37:00.730Z"
   },
   {
    "duration": 64,
    "start_time": "2023-08-19T07:37:00.875Z"
   },
   {
    "duration": 82,
    "start_time": "2023-08-19T07:37:00.950Z"
   },
   {
    "duration": 175,
    "start_time": "2023-08-19T07:37:01.034Z"
   },
   {
    "duration": 1415,
    "start_time": "2023-08-19T07:37:01.212Z"
   },
   {
    "duration": 5,
    "start_time": "2023-08-19T07:37:02.630Z"
   },
   {
    "duration": 1578,
    "start_time": "2023-08-19T07:41:25.192Z"
   },
   {
    "duration": 12,
    "start_time": "2023-08-19T07:41:26.772Z"
   },
   {
    "duration": 769,
    "start_time": "2023-08-19T07:41:26.786Z"
   },
   {
    "duration": 134,
    "start_time": "2023-08-19T07:41:27.556Z"
   },
   {
    "duration": 810,
    "start_time": "2023-08-19T07:41:27.693Z"
   },
   {
    "duration": 399,
    "start_time": "2023-08-19T07:41:28.504Z"
   },
   {
    "duration": 17,
    "start_time": "2023-08-19T07:41:28.906Z"
   },
   {
    "duration": 43,
    "start_time": "2023-08-19T07:41:28.925Z"
   },
   {
    "duration": 20,
    "start_time": "2023-08-19T07:41:28.970Z"
   },
   {
    "duration": 359,
    "start_time": "2023-08-19T07:41:28.992Z"
   },
   {
    "duration": 81,
    "start_time": "2023-08-19T07:41:29.353Z"
   },
   {
    "duration": 296,
    "start_time": "2023-08-19T07:41:29.436Z"
   },
   {
    "duration": 38,
    "start_time": "2023-08-19T07:41:29.735Z"
   },
   {
    "duration": 10,
    "start_time": "2023-08-19T07:41:29.776Z"
   },
   {
    "duration": 248,
    "start_time": "2023-08-19T07:41:29.788Z"
   },
   {
    "duration": 134,
    "start_time": "2023-08-19T07:41:30.038Z"
   },
   {
    "duration": 76,
    "start_time": "2023-08-19T07:41:30.174Z"
   },
   {
    "duration": 57,
    "start_time": "2023-08-19T07:41:30.251Z"
   },
   {
    "duration": 109,
    "start_time": "2023-08-19T07:41:30.310Z"
   },
   {
    "duration": 1359,
    "start_time": "2023-08-19T07:41:30.420Z"
   },
   {
    "duration": 5,
    "start_time": "2023-08-19T07:41:31.781Z"
   },
   {
    "duration": 1796,
    "start_time": "2023-08-19T07:43:04.069Z"
   },
   {
    "duration": 1447,
    "start_time": "2023-08-19T07:43:32.500Z"
   },
   {
    "duration": 9,
    "start_time": "2023-08-19T07:43:33.949Z"
   },
   {
    "duration": 841,
    "start_time": "2023-08-19T07:43:33.960Z"
   },
   {
    "duration": 136,
    "start_time": "2023-08-19T07:43:34.802Z"
   },
   {
    "duration": 940,
    "start_time": "2023-08-19T07:43:34.939Z"
   },
   {
    "duration": 526,
    "start_time": "2023-08-19T07:43:35.881Z"
   },
   {
    "duration": 13,
    "start_time": "2023-08-19T07:43:36.408Z"
   },
   {
    "duration": 41,
    "start_time": "2023-08-19T07:43:36.423Z"
   },
   {
    "duration": 23,
    "start_time": "2023-08-19T07:43:36.466Z"
   },
   {
    "duration": 333,
    "start_time": "2023-08-19T07:43:36.490Z"
   },
   {
    "duration": 78,
    "start_time": "2023-08-19T07:43:36.824Z"
   },
   {
    "duration": 274,
    "start_time": "2023-08-19T07:43:36.903Z"
   },
   {
    "duration": 29,
    "start_time": "2023-08-19T07:43:37.178Z"
   },
   {
    "duration": 10,
    "start_time": "2023-08-19T07:43:37.210Z"
   },
   {
    "duration": 256,
    "start_time": "2023-08-19T07:43:37.222Z"
   },
   {
    "duration": 122,
    "start_time": "2023-08-19T07:43:37.479Z"
   },
   {
    "duration": 72,
    "start_time": "2023-08-19T07:43:37.603Z"
   },
   {
    "duration": 42,
    "start_time": "2023-08-19T07:43:37.677Z"
   },
   {
    "duration": 107,
    "start_time": "2023-08-19T07:43:37.721Z"
   },
   {
    "duration": 1300,
    "start_time": "2023-08-19T07:43:37.830Z"
   },
   {
    "duration": 5,
    "start_time": "2023-08-19T07:43:39.132Z"
   },
   {
    "duration": 2814,
    "start_time": "2023-08-19T07:45:04.650Z"
   },
   {
    "duration": 1434,
    "start_time": "2023-08-19T07:45:17.553Z"
   },
   {
    "duration": 11,
    "start_time": "2023-08-19T07:45:18.989Z"
   },
   {
    "duration": 831,
    "start_time": "2023-08-19T07:45:19.001Z"
   },
   {
    "duration": 141,
    "start_time": "2023-08-19T07:45:19.835Z"
   },
   {
    "duration": 1078,
    "start_time": "2023-08-19T07:45:19.978Z"
   },
   {
    "duration": 425,
    "start_time": "2023-08-19T07:45:21.058Z"
   },
   {
    "duration": 17,
    "start_time": "2023-08-19T07:45:21.485Z"
   },
   {
    "duration": 47,
    "start_time": "2023-08-19T07:45:21.504Z"
   },
   {
    "duration": 22,
    "start_time": "2023-08-19T07:45:21.553Z"
   },
   {
    "duration": 378,
    "start_time": "2023-08-19T07:45:21.577Z"
   },
   {
    "duration": 69,
    "start_time": "2023-08-19T07:45:21.957Z"
   },
   {
    "duration": 311,
    "start_time": "2023-08-19T07:45:22.028Z"
   },
   {
    "duration": 32,
    "start_time": "2023-08-19T07:45:22.341Z"
   },
   {
    "duration": 14,
    "start_time": "2023-08-19T07:45:22.374Z"
   },
   {
    "duration": 283,
    "start_time": "2023-08-19T07:45:22.391Z"
   },
   {
    "duration": 145,
    "start_time": "2023-08-19T07:45:22.676Z"
   },
   {
    "duration": 65,
    "start_time": "2023-08-19T07:45:22.823Z"
   },
   {
    "duration": 59,
    "start_time": "2023-08-19T07:45:22.890Z"
   },
   {
    "duration": 104,
    "start_time": "2023-08-19T07:45:22.951Z"
   },
   {
    "duration": 1467,
    "start_time": "2023-08-19T07:45:23.057Z"
   },
   {
    "duration": 5,
    "start_time": "2023-08-19T07:45:24.526Z"
   },
   {
    "duration": 108,
    "start_time": "2023-08-19T07:48:29.168Z"
   },
   {
    "duration": 228,
    "start_time": "2023-08-19T07:53:38.668Z"
   },
   {
    "duration": 138,
    "start_time": "2023-08-19T07:54:07.527Z"
   },
   {
    "duration": 128,
    "start_time": "2023-08-19T07:54:11.827Z"
   },
   {
    "duration": 228,
    "start_time": "2023-08-19T07:54:46.987Z"
   },
   {
    "duration": 1473,
    "start_time": "2023-08-19T08:23:02.966Z"
   },
   {
    "duration": 21,
    "start_time": "2023-08-19T08:23:04.441Z"
   },
   {
    "duration": 792,
    "start_time": "2023-08-19T08:23:04.466Z"
   },
   {
    "duration": 145,
    "start_time": "2023-08-19T08:23:05.260Z"
   },
   {
    "duration": 977,
    "start_time": "2023-08-19T08:23:05.408Z"
   },
   {
    "duration": 394,
    "start_time": "2023-08-19T08:23:06.387Z"
   },
   {
    "duration": 11,
    "start_time": "2023-08-19T08:23:06.782Z"
   },
   {
    "duration": 23,
    "start_time": "2023-08-19T08:23:06.795Z"
   },
   {
    "duration": 41,
    "start_time": "2023-08-19T08:23:06.820Z"
   },
   {
    "duration": 571,
    "start_time": "2023-08-19T08:23:06.862Z"
   },
   {
    "duration": 84,
    "start_time": "2023-08-19T08:23:07.434Z"
   },
   {
    "duration": 277,
    "start_time": "2023-08-19T08:23:07.520Z"
   },
   {
    "duration": 77,
    "start_time": "2023-08-19T08:23:07.800Z"
   },
   {
    "duration": 26,
    "start_time": "2023-08-19T08:23:07.879Z"
   },
   {
    "duration": 235,
    "start_time": "2023-08-19T08:23:07.907Z"
   },
   {
    "duration": 133,
    "start_time": "2023-08-19T08:23:08.144Z"
   },
   {
    "duration": 27,
    "start_time": "2023-08-19T08:23:08.279Z"
   },
   {
    "duration": 53,
    "start_time": "2023-08-19T08:23:08.308Z"
   },
   {
    "duration": 17,
    "start_time": "2023-08-19T08:23:08.364Z"
   },
   {
    "duration": 3,
    "start_time": "2023-08-19T08:23:08.382Z"
   },
   {
    "duration": 119,
    "start_time": "2023-08-19T08:23:08.386Z"
   },
   {
    "duration": 1294,
    "start_time": "2023-08-19T08:23:08.506Z"
   },
   {
    "duration": 102,
    "start_time": "2023-08-19T08:23:09.802Z"
   },
   {
    "duration": 242,
    "start_time": "2023-08-19T08:23:09.906Z"
   },
   {
    "duration": 12,
    "start_time": "2023-08-19T08:23:10.150Z"
   },
   {
    "duration": 1535,
    "start_time": "2023-08-19T08:42:37.761Z"
   },
   {
    "duration": 17,
    "start_time": "2023-08-19T08:42:39.299Z"
   },
   {
    "duration": 151,
    "start_time": "2023-08-19T08:42:39.318Z"
   },
   {
    "duration": 0,
    "start_time": "2023-08-19T08:42:39.471Z"
   },
   {
    "duration": 0,
    "start_time": "2023-08-19T08:42:39.473Z"
   },
   {
    "duration": 0,
    "start_time": "2023-08-19T08:42:39.474Z"
   },
   {
    "duration": 0,
    "start_time": "2023-08-19T08:42:39.477Z"
   },
   {
    "duration": 0,
    "start_time": "2023-08-19T08:42:39.478Z"
   },
   {
    "duration": 0,
    "start_time": "2023-08-19T08:42:39.479Z"
   },
   {
    "duration": 0,
    "start_time": "2023-08-19T08:42:39.480Z"
   },
   {
    "duration": 0,
    "start_time": "2023-08-19T08:42:39.481Z"
   },
   {
    "duration": 0,
    "start_time": "2023-08-19T08:42:39.482Z"
   },
   {
    "duration": 0,
    "start_time": "2023-08-19T08:42:39.484Z"
   },
   {
    "duration": 0,
    "start_time": "2023-08-19T08:42:39.486Z"
   },
   {
    "duration": 0,
    "start_time": "2023-08-19T08:42:39.488Z"
   },
   {
    "duration": 0,
    "start_time": "2023-08-19T08:42:39.490Z"
   },
   {
    "duration": 0,
    "start_time": "2023-08-19T08:42:39.492Z"
   },
   {
    "duration": 0,
    "start_time": "2023-08-19T08:42:39.493Z"
   },
   {
    "duration": 0,
    "start_time": "2023-08-19T08:42:39.495Z"
   },
   {
    "duration": 0,
    "start_time": "2023-08-19T08:42:39.496Z"
   },
   {
    "duration": 0,
    "start_time": "2023-08-19T08:42:39.497Z"
   },
   {
    "duration": 0,
    "start_time": "2023-08-19T08:42:39.498Z"
   },
   {
    "duration": 0,
    "start_time": "2023-08-19T08:42:39.499Z"
   },
   {
    "duration": 0,
    "start_time": "2023-08-19T08:42:39.501Z"
   },
   {
    "duration": 0,
    "start_time": "2023-08-19T08:42:39.501Z"
   },
   {
    "duration": 909,
    "start_time": "2023-08-19T08:44:34.065Z"
   },
   {
    "duration": 1464,
    "start_time": "2023-08-19T08:44:40.363Z"
   },
   {
    "duration": 13,
    "start_time": "2023-08-19T08:44:41.829Z"
   },
   {
    "duration": 1076,
    "start_time": "2023-08-19T08:44:41.844Z"
   },
   {
    "duration": 200,
    "start_time": "2023-08-19T08:44:42.922Z"
   },
   {
    "duration": 1406,
    "start_time": "2023-08-19T08:44:43.124Z"
   },
   {
    "duration": 443,
    "start_time": "2023-08-19T08:44:44.532Z"
   },
   {
    "duration": 12,
    "start_time": "2023-08-19T08:44:44.978Z"
   },
   {
    "duration": 36,
    "start_time": "2023-08-19T08:44:44.991Z"
   },
   {
    "duration": 47,
    "start_time": "2023-08-19T08:44:45.030Z"
   },
   {
    "duration": 782,
    "start_time": "2023-08-19T08:44:45.079Z"
   },
   {
    "duration": 70,
    "start_time": "2023-08-19T08:44:45.864Z"
   },
   {
    "duration": 409,
    "start_time": "2023-08-19T08:44:45.936Z"
   },
   {
    "duration": 111,
    "start_time": "2023-08-19T08:44:46.348Z"
   },
   {
    "duration": 39,
    "start_time": "2023-08-19T08:44:46.465Z"
   },
   {
    "duration": 274,
    "start_time": "2023-08-19T08:44:46.508Z"
   },
   {
    "duration": 142,
    "start_time": "2023-08-19T08:44:46.783Z"
   },
   {
    "duration": 37,
    "start_time": "2023-08-19T08:44:46.926Z"
   },
   {
    "duration": 40,
    "start_time": "2023-08-19T08:44:46.964Z"
   },
   {
    "duration": 23,
    "start_time": "2023-08-19T08:44:47.005Z"
   },
   {
    "duration": 26,
    "start_time": "2023-08-19T08:44:47.031Z"
   },
   {
    "duration": 196,
    "start_time": "2023-08-19T08:44:47.065Z"
   },
   {
    "duration": 1378,
    "start_time": "2023-08-19T08:44:47.264Z"
   },
   {
    "duration": 279,
    "start_time": "2023-08-19T08:44:48.649Z"
   },
   {
    "duration": 3,
    "start_time": "2023-08-19T08:44:48.930Z"
   },
   {
    "duration": 111,
    "start_time": "2023-08-19T08:44:48.935Z"
   },
   {
    "duration": 2512,
    "start_time": "2023-08-19T08:51:18.970Z"
   },
   {
    "duration": 51,
    "start_time": "2023-08-19T08:51:25.028Z"
   },
   {
    "duration": 1566,
    "start_time": "2023-08-19T08:53:26.698Z"
   },
   {
    "duration": 14,
    "start_time": "2023-08-19T08:53:28.266Z"
   },
   {
    "duration": 1152,
    "start_time": "2023-08-19T08:53:28.285Z"
   },
   {
    "duration": 209,
    "start_time": "2023-08-19T08:53:29.438Z"
   },
   {
    "duration": 1191,
    "start_time": "2023-08-19T08:53:29.657Z"
   },
   {
    "duration": 656,
    "start_time": "2023-08-19T08:53:30.850Z"
   },
   {
    "duration": 17,
    "start_time": "2023-08-19T08:53:31.510Z"
   },
   {
    "duration": 86,
    "start_time": "2023-08-19T08:53:31.529Z"
   },
   {
    "duration": 49,
    "start_time": "2023-08-19T08:53:31.617Z"
   },
   {
    "duration": 935,
    "start_time": "2023-08-19T08:53:31.668Z"
   },
   {
    "duration": 339,
    "start_time": "2023-08-19T08:53:32.605Z"
   },
   {
    "duration": 0,
    "start_time": "2023-08-19T08:53:32.946Z"
   },
   {
    "duration": 0,
    "start_time": "2023-08-19T08:53:32.947Z"
   },
   {
    "duration": 0,
    "start_time": "2023-08-19T08:53:32.949Z"
   },
   {
    "duration": 0,
    "start_time": "2023-08-19T08:53:32.950Z"
   },
   {
    "duration": 1,
    "start_time": "2023-08-19T08:53:32.950Z"
   },
   {
    "duration": 0,
    "start_time": "2023-08-19T08:53:32.952Z"
   },
   {
    "duration": 0,
    "start_time": "2023-08-19T08:53:32.953Z"
   },
   {
    "duration": 0,
    "start_time": "2023-08-19T08:53:32.954Z"
   },
   {
    "duration": 0,
    "start_time": "2023-08-19T08:53:32.958Z"
   },
   {
    "duration": 0,
    "start_time": "2023-08-19T08:53:32.959Z"
   },
   {
    "duration": 0,
    "start_time": "2023-08-19T08:53:32.960Z"
   },
   {
    "duration": 0,
    "start_time": "2023-08-19T08:53:32.961Z"
   },
   {
    "duration": 0,
    "start_time": "2023-08-19T08:53:32.962Z"
   },
   {
    "duration": 0,
    "start_time": "2023-08-19T08:53:32.964Z"
   },
   {
    "duration": 0,
    "start_time": "2023-08-19T08:53:32.965Z"
   },
   {
    "duration": 0,
    "start_time": "2023-08-19T08:53:32.967Z"
   },
   {
    "duration": 106,
    "start_time": "2023-08-19T08:55:01.488Z"
   },
   {
    "duration": 1300,
    "start_time": "2023-08-19T08:55:19.706Z"
   },
   {
    "duration": 158,
    "start_time": "2023-08-19T08:57:08.384Z"
   },
   {
    "duration": 18161,
    "start_time": "2023-08-19T08:57:31.173Z"
   },
   {
    "duration": 1616,
    "start_time": "2023-08-19T09:17:35.718Z"
   },
   {
    "duration": 27,
    "start_time": "2023-08-19T09:17:37.336Z"
   },
   {
    "duration": 848,
    "start_time": "2023-08-19T09:17:37.365Z"
   },
   {
    "duration": 159,
    "start_time": "2023-08-19T09:17:38.215Z"
   },
   {
    "duration": 943,
    "start_time": "2023-08-19T09:17:38.375Z"
   },
   {
    "duration": 399,
    "start_time": "2023-08-19T09:17:39.319Z"
   },
   {
    "duration": 11,
    "start_time": "2023-08-19T09:17:39.719Z"
   },
   {
    "duration": 41,
    "start_time": "2023-08-19T09:17:39.731Z"
   },
   {
    "duration": 22,
    "start_time": "2023-08-19T09:17:39.774Z"
   },
   {
    "duration": 604,
    "start_time": "2023-08-19T09:17:39.799Z"
   },
   {
    "duration": 15399,
    "start_time": "2023-08-19T09:17:40.405Z"
   },
   {
    "duration": 1204,
    "start_time": "2023-08-19T09:17:55.806Z"
   },
   {
    "duration": 87,
    "start_time": "2023-08-19T09:17:57.012Z"
   },
   {
    "duration": 309,
    "start_time": "2023-08-19T09:17:57.101Z"
   },
   {
    "duration": 79,
    "start_time": "2023-08-19T09:17:57.411Z"
   },
   {
    "duration": 27,
    "start_time": "2023-08-19T09:17:57.491Z"
   },
   {
    "duration": 278,
    "start_time": "2023-08-19T09:17:57.520Z"
   },
   {
    "duration": 136,
    "start_time": "2023-08-19T09:17:57.800Z"
   },
   {
    "duration": 33,
    "start_time": "2023-08-19T09:17:57.938Z"
   },
   {
    "duration": 30,
    "start_time": "2023-08-19T09:17:57.973Z"
   },
   {
    "duration": 21,
    "start_time": "2023-08-19T09:17:58.004Z"
   },
   {
    "duration": 54,
    "start_time": "2023-08-19T09:17:58.027Z"
   },
   {
    "duration": 4,
    "start_time": "2023-08-19T09:17:58.082Z"
   },
   {
    "duration": 125,
    "start_time": "2023-08-19T09:17:58.087Z"
   },
   {
    "duration": 1390,
    "start_time": "2023-08-19T09:17:58.214Z"
   },
   {
    "duration": 245,
    "start_time": "2023-08-19T09:17:59.605Z"
   },
   {
    "duration": 5,
    "start_time": "2023-08-19T09:17:59.853Z"
   },
   {
    "duration": 116,
    "start_time": "2023-08-19T09:17:59.862Z"
   },
   {
    "duration": 1366,
    "start_time": "2023-08-19T10:57:00.161Z"
   },
   {
    "duration": 10,
    "start_time": "2023-08-19T10:57:01.530Z"
   },
   {
    "duration": 933,
    "start_time": "2023-08-19T10:57:01.542Z"
   },
   {
    "duration": 130,
    "start_time": "2023-08-19T10:57:02.476Z"
   },
   {
    "duration": 814,
    "start_time": "2023-08-19T10:57:02.608Z"
   },
   {
    "duration": 360,
    "start_time": "2023-08-19T10:57:03.424Z"
   },
   {
    "duration": 13,
    "start_time": "2023-08-19T10:57:03.786Z"
   },
   {
    "duration": 21,
    "start_time": "2023-08-19T10:57:03.801Z"
   },
   {
    "duration": 39,
    "start_time": "2023-08-19T10:57:03.824Z"
   },
   {
    "duration": 549,
    "start_time": "2023-08-19T10:57:03.864Z"
   },
   {
    "duration": 13378,
    "start_time": "2023-08-19T10:57:04.415Z"
   },
   {
    "duration": 938,
    "start_time": "2023-08-19T10:57:17.795Z"
   },
   {
    "duration": 76,
    "start_time": "2023-08-19T10:57:18.735Z"
   },
   {
    "duration": 270,
    "start_time": "2023-08-19T10:57:18.815Z"
   },
   {
    "duration": 74,
    "start_time": "2023-08-19T10:57:19.086Z"
   },
   {
    "duration": 26,
    "start_time": "2023-08-19T10:57:19.163Z"
   },
   {
    "duration": 241,
    "start_time": "2023-08-19T10:57:19.190Z"
   },
   {
    "duration": 128,
    "start_time": "2023-08-19T10:57:19.432Z"
   },
   {
    "duration": 22,
    "start_time": "2023-08-19T10:57:19.562Z"
   },
   {
    "duration": 27,
    "start_time": "2023-08-19T10:57:19.586Z"
   },
   {
    "duration": 48,
    "start_time": "2023-08-19T10:57:19.614Z"
   },
   {
    "duration": 21,
    "start_time": "2023-08-19T10:57:19.664Z"
   },
   {
    "duration": 10,
    "start_time": "2023-08-19T10:57:19.687Z"
   },
   {
    "duration": 104,
    "start_time": "2023-08-19T10:57:19.698Z"
   },
   {
    "duration": 1322,
    "start_time": "2023-08-19T10:57:19.803Z"
   },
   {
    "duration": 235,
    "start_time": "2023-08-19T10:57:21.126Z"
   },
   {
    "duration": 3,
    "start_time": "2023-08-19T10:57:21.363Z"
   },
   {
    "duration": 101,
    "start_time": "2023-08-19T10:57:21.368Z"
   },
   {
    "duration": 108,
    "start_time": "2023-08-19T11:10:37.038Z"
   },
   {
    "duration": 3,
    "start_time": "2023-08-19T11:10:55.078Z"
   },
   {
    "duration": 1436,
    "start_time": "2023-08-19T11:43:13.817Z"
   },
   {
    "duration": 10,
    "start_time": "2023-08-19T11:43:15.255Z"
   },
   {
    "duration": 778,
    "start_time": "2023-08-19T11:43:15.266Z"
   },
   {
    "duration": 164,
    "start_time": "2023-08-19T11:43:16.046Z"
   },
   {
    "duration": 873,
    "start_time": "2023-08-19T11:43:16.213Z"
   },
   {
    "duration": 371,
    "start_time": "2023-08-19T11:43:17.088Z"
   },
   {
    "duration": 11,
    "start_time": "2023-08-19T11:43:17.460Z"
   },
   {
    "duration": 20,
    "start_time": "2023-08-19T11:43:17.472Z"
   },
   {
    "duration": 15,
    "start_time": "2023-08-19T11:43:17.493Z"
   },
   {
    "duration": 567,
    "start_time": "2023-08-19T11:43:17.509Z"
   },
   {
    "duration": 13954,
    "start_time": "2023-08-19T11:43:18.077Z"
   },
   {
    "duration": 965,
    "start_time": "2023-08-19T11:43:32.033Z"
   },
   {
    "duration": 82,
    "start_time": "2023-08-19T11:43:32.999Z"
   },
   {
    "duration": 268,
    "start_time": "2023-08-19T11:43:33.083Z"
   },
   {
    "duration": 65,
    "start_time": "2023-08-19T11:43:33.353Z"
   },
   {
    "duration": 42,
    "start_time": "2023-08-19T11:43:33.419Z"
   },
   {
    "duration": 222,
    "start_time": "2023-08-19T11:43:33.462Z"
   },
   {
    "duration": 127,
    "start_time": "2023-08-19T11:43:33.686Z"
   },
   {
    "duration": 27,
    "start_time": "2023-08-19T11:43:33.815Z"
   },
   {
    "duration": 28,
    "start_time": "2023-08-19T11:43:33.850Z"
   },
   {
    "duration": 16,
    "start_time": "2023-08-19T11:43:33.880Z"
   },
   {
    "duration": 21,
    "start_time": "2023-08-19T11:43:33.898Z"
   },
   {
    "duration": 4,
    "start_time": "2023-08-19T11:43:33.921Z"
   },
   {
    "duration": 100,
    "start_time": "2023-08-19T11:43:33.950Z"
   },
   {
    "duration": 1290,
    "start_time": "2023-08-19T11:43:34.052Z"
   },
   {
    "duration": 219,
    "start_time": "2023-08-19T11:43:35.350Z"
   },
   {
    "duration": 4,
    "start_time": "2023-08-19T11:43:35.570Z"
   },
   {
    "duration": 108,
    "start_time": "2023-08-19T11:43:35.575Z"
   },
   {
    "duration": 3,
    "start_time": "2023-08-19T11:43:35.685Z"
   },
   {
    "duration": 5,
    "start_time": "2023-08-19T11:43:35.689Z"
   },
   {
    "duration": 18,
    "start_time": "2023-08-19T11:43:35.696Z"
   },
   {
    "duration": 16,
    "start_time": "2023-08-19T11:43:35.715Z"
   },
   {
    "duration": 14,
    "start_time": "2023-08-19T11:43:35.733Z"
   },
   {
    "duration": 7,
    "start_time": "2023-08-19T11:43:35.749Z"
   },
   {
    "duration": 18,
    "start_time": "2023-08-19T11:43:35.758Z"
   },
   {
    "duration": 9,
    "start_time": "2023-08-19T11:43:35.778Z"
   },
   {
    "duration": 8,
    "start_time": "2023-08-19T11:43:35.788Z"
   },
   {
    "duration": 24,
    "start_time": "2023-08-19T11:43:35.797Z"
   },
   {
    "duration": 23,
    "start_time": "2023-08-19T11:43:35.822Z"
   },
   {
    "duration": 251,
    "start_time": "2023-08-19T11:43:35.847Z"
   },
   {
    "duration": 171,
    "start_time": "2023-08-19T11:43:36.103Z"
   },
   {
    "duration": 0,
    "start_time": "2023-08-19T11:43:36.276Z"
   },
   {
    "duration": 0,
    "start_time": "2023-08-19T11:43:36.278Z"
   },
   {
    "duration": 1757,
    "start_time": "2023-08-19T11:46:43.741Z"
   },
   {
    "duration": 0,
    "start_time": "2023-08-19T11:46:45.500Z"
   },
   {
    "duration": 0,
    "start_time": "2023-08-19T11:46:45.501Z"
   },
   {
    "duration": 1376,
    "start_time": "2023-08-19T12:25:39.062Z"
   },
   {
    "duration": 14,
    "start_time": "2023-08-19T12:25:40.441Z"
   },
   {
    "duration": 737,
    "start_time": "2023-08-19T12:25:40.457Z"
   },
   {
    "duration": 134,
    "start_time": "2023-08-19T12:25:41.196Z"
   },
   {
    "duration": 792,
    "start_time": "2023-08-19T12:25:41.333Z"
   },
   {
    "duration": 361,
    "start_time": "2023-08-19T12:25:42.127Z"
   },
   {
    "duration": 10,
    "start_time": "2023-08-19T12:25:42.490Z"
   },
   {
    "duration": 21,
    "start_time": "2023-08-19T12:25:42.502Z"
   },
   {
    "duration": 33,
    "start_time": "2023-08-19T12:25:42.524Z"
   },
   {
    "duration": 560,
    "start_time": "2023-08-19T12:25:42.559Z"
   },
   {
    "duration": 13336,
    "start_time": "2023-08-19T12:25:43.121Z"
   },
   {
    "duration": 991,
    "start_time": "2023-08-19T12:25:56.459Z"
   },
   {
    "duration": 69,
    "start_time": "2023-08-19T12:25:57.452Z"
   },
   {
    "duration": 279,
    "start_time": "2023-08-19T12:25:57.524Z"
   },
   {
    "duration": 70,
    "start_time": "2023-08-19T12:25:57.805Z"
   },
   {
    "duration": 27,
    "start_time": "2023-08-19T12:25:57.877Z"
   },
   {
    "duration": 230,
    "start_time": "2023-08-19T12:25:57.906Z"
   },
   {
    "duration": 137,
    "start_time": "2023-08-19T12:25:58.137Z"
   },
   {
    "duration": 28,
    "start_time": "2023-08-19T12:25:58.276Z"
   },
   {
    "duration": 44,
    "start_time": "2023-08-19T12:25:58.306Z"
   },
   {
    "duration": 17,
    "start_time": "2023-08-19T12:25:58.351Z"
   },
   {
    "duration": 22,
    "start_time": "2023-08-19T12:25:58.370Z"
   },
   {
    "duration": 4,
    "start_time": "2023-08-19T12:25:58.394Z"
   },
   {
    "duration": 123,
    "start_time": "2023-08-19T12:25:58.399Z"
   },
   {
    "duration": 1298,
    "start_time": "2023-08-19T12:25:58.524Z"
   },
   {
    "duration": 219,
    "start_time": "2023-08-19T12:25:59.823Z"
   },
   {
    "duration": 3,
    "start_time": "2023-08-19T12:26:00.050Z"
   },
   {
    "duration": 127,
    "start_time": "2023-08-19T12:26:00.055Z"
   },
   {
    "duration": 3,
    "start_time": "2023-08-19T12:26:00.184Z"
   },
   {
    "duration": 26,
    "start_time": "2023-08-19T12:26:00.189Z"
   },
   {
    "duration": 15,
    "start_time": "2023-08-19T12:26:00.217Z"
   },
   {
    "duration": 32,
    "start_time": "2023-08-19T12:26:00.233Z"
   },
   {
    "duration": 25,
    "start_time": "2023-08-19T12:26:00.267Z"
   },
   {
    "duration": 39,
    "start_time": "2023-08-19T12:26:00.293Z"
   },
   {
    "duration": 48,
    "start_time": "2023-08-19T12:26:00.333Z"
   },
   {
    "duration": 24,
    "start_time": "2023-08-19T12:26:00.382Z"
   },
   {
    "duration": 23,
    "start_time": "2023-08-19T12:26:00.408Z"
   },
   {
    "duration": 48,
    "start_time": "2023-08-19T12:26:00.432Z"
   },
   {
    "duration": 30,
    "start_time": "2023-08-19T12:26:00.482Z"
   },
   {
    "duration": 182,
    "start_time": "2023-08-19T12:26:00.514Z"
   },
   {
    "duration": 0,
    "start_time": "2023-08-19T12:26:00.697Z"
   },
   {
    "duration": 0,
    "start_time": "2023-08-19T12:26:00.698Z"
   },
   {
    "duration": 0,
    "start_time": "2023-08-19T12:26:00.699Z"
   },
   {
    "duration": 1420,
    "start_time": "2023-08-19T12:26:52.919Z"
   },
   {
    "duration": 9,
    "start_time": "2023-08-19T12:26:54.341Z"
   },
   {
    "duration": 754,
    "start_time": "2023-08-19T12:26:54.351Z"
   },
   {
    "duration": 130,
    "start_time": "2023-08-19T12:26:55.107Z"
   },
   {
    "duration": 842,
    "start_time": "2023-08-19T12:26:55.238Z"
   },
   {
    "duration": 402,
    "start_time": "2023-08-19T12:26:56.082Z"
   },
   {
    "duration": 11,
    "start_time": "2023-08-19T12:26:56.485Z"
   },
   {
    "duration": 19,
    "start_time": "2023-08-19T12:26:56.498Z"
   },
   {
    "duration": 33,
    "start_time": "2023-08-19T12:26:56.519Z"
   },
   {
    "duration": 528,
    "start_time": "2023-08-19T12:26:56.554Z"
   },
   {
    "duration": 13338,
    "start_time": "2023-08-19T12:26:57.083Z"
   },
   {
    "duration": 946,
    "start_time": "2023-08-19T12:27:10.422Z"
   },
   {
    "duration": 80,
    "start_time": "2023-08-19T12:27:11.371Z"
   },
   {
    "duration": 256,
    "start_time": "2023-08-19T12:27:11.452Z"
   },
   {
    "duration": 66,
    "start_time": "2023-08-19T12:27:11.709Z"
   },
   {
    "duration": 26,
    "start_time": "2023-08-19T12:27:11.776Z"
   },
   {
    "duration": 215,
    "start_time": "2023-08-19T12:27:11.803Z"
   },
   {
    "duration": 124,
    "start_time": "2023-08-19T12:27:12.020Z"
   },
   {
    "duration": 28,
    "start_time": "2023-08-19T12:27:12.146Z"
   },
   {
    "duration": 33,
    "start_time": "2023-08-19T12:27:12.176Z"
   },
   {
    "duration": 17,
    "start_time": "2023-08-19T12:27:12.210Z"
   },
   {
    "duration": 39,
    "start_time": "2023-08-19T12:27:12.228Z"
   },
   {
    "duration": 4,
    "start_time": "2023-08-19T12:27:12.268Z"
   },
   {
    "duration": 101,
    "start_time": "2023-08-19T12:27:12.274Z"
   },
   {
    "duration": 1172,
    "start_time": "2023-08-19T12:27:12.376Z"
   },
   {
    "duration": 220,
    "start_time": "2023-08-19T12:27:13.550Z"
   },
   {
    "duration": 3,
    "start_time": "2023-08-19T12:27:13.772Z"
   },
   {
    "duration": 114,
    "start_time": "2023-08-19T12:27:13.777Z"
   },
   {
    "duration": 2,
    "start_time": "2023-08-19T12:27:13.893Z"
   },
   {
    "duration": 6,
    "start_time": "2023-08-19T12:27:13.896Z"
   },
   {
    "duration": 5,
    "start_time": "2023-08-19T12:27:13.903Z"
   },
   {
    "duration": 5,
    "start_time": "2023-08-19T12:27:13.910Z"
   },
   {
    "duration": 9,
    "start_time": "2023-08-19T12:27:13.917Z"
   },
   {
    "duration": 5,
    "start_time": "2023-08-19T12:27:13.928Z"
   },
   {
    "duration": 7,
    "start_time": "2023-08-19T12:27:13.949Z"
   },
   {
    "duration": 7,
    "start_time": "2023-08-19T12:27:13.958Z"
   },
   {
    "duration": 5,
    "start_time": "2023-08-19T12:27:13.966Z"
   },
   {
    "duration": 11,
    "start_time": "2023-08-19T12:27:13.972Z"
   },
   {
    "duration": 9,
    "start_time": "2023-08-19T12:27:13.985Z"
   },
   {
    "duration": 1505,
    "start_time": "2023-08-19T12:27:13.995Z"
   },
   {
    "duration": 0,
    "start_time": "2023-08-19T12:27:15.577Z"
   },
   {
    "duration": 0,
    "start_time": "2023-08-19T12:27:15.578Z"
   },
   {
    "duration": 0,
    "start_time": "2023-08-19T12:27:15.579Z"
   },
   {
    "duration": 91,
    "start_time": "2023-08-19T12:29:45.956Z"
   },
   {
    "duration": 239,
    "start_time": "2023-08-19T12:30:07.138Z"
   },
   {
    "duration": 77,
    "start_time": "2023-08-19T12:30:26.505Z"
   },
   {
    "duration": 1204,
    "start_time": "2023-08-19T12:31:05.135Z"
   },
   {
    "duration": 1276,
    "start_time": "2023-08-19T12:31:36.713Z"
   },
   {
    "duration": 1674,
    "start_time": "2023-08-19T16:34:41.079Z"
   },
   {
    "duration": 14,
    "start_time": "2023-08-19T16:34:42.756Z"
   },
   {
    "duration": 2898,
    "start_time": "2023-08-19T16:34:42.772Z"
   },
   {
    "duration": 133,
    "start_time": "2023-08-19T16:34:45.672Z"
   },
   {
    "duration": 1029,
    "start_time": "2023-08-19T16:34:45.808Z"
   },
   {
    "duration": 397,
    "start_time": "2023-08-19T16:34:46.840Z"
   },
   {
    "duration": 14,
    "start_time": "2023-08-19T16:34:47.239Z"
   },
   {
    "duration": 33,
    "start_time": "2023-08-19T16:34:47.255Z"
   },
   {
    "duration": 17,
    "start_time": "2023-08-19T16:34:47.290Z"
   },
   {
    "duration": 668,
    "start_time": "2023-08-19T16:34:47.308Z"
   },
   {
    "duration": 15120,
    "start_time": "2023-08-19T16:34:47.977Z"
   },
   {
    "duration": 1106,
    "start_time": "2023-08-19T16:35:03.100Z"
   },
   {
    "duration": 92,
    "start_time": "2023-08-19T16:35:04.208Z"
   },
   {
    "duration": 294,
    "start_time": "2023-08-19T16:35:04.303Z"
   },
   {
    "duration": 82,
    "start_time": "2023-08-19T16:35:04.599Z"
   },
   {
    "duration": 33,
    "start_time": "2023-08-19T16:35:04.683Z"
   },
   {
    "duration": 295,
    "start_time": "2023-08-19T16:35:04.718Z"
   },
   {
    "duration": 157,
    "start_time": "2023-08-19T16:35:05.016Z"
   },
   {
    "duration": 33,
    "start_time": "2023-08-19T16:35:05.174Z"
   },
   {
    "duration": 38,
    "start_time": "2023-08-19T16:35:05.210Z"
   },
   {
    "duration": 33,
    "start_time": "2023-08-19T16:35:05.250Z"
   },
   {
    "duration": 67,
    "start_time": "2023-08-19T16:35:05.285Z"
   },
   {
    "duration": 36,
    "start_time": "2023-08-19T16:35:05.355Z"
   },
   {
    "duration": 99,
    "start_time": "2023-08-19T16:35:05.393Z"
   },
   {
    "duration": 1498,
    "start_time": "2023-08-19T16:35:05.494Z"
   },
   {
    "duration": 254,
    "start_time": "2023-08-19T16:35:06.994Z"
   },
   {
    "duration": 4,
    "start_time": "2023-08-19T16:35:07.250Z"
   },
   {
    "duration": 117,
    "start_time": "2023-08-19T16:35:07.268Z"
   },
   {
    "duration": 3,
    "start_time": "2023-08-19T16:35:07.387Z"
   },
   {
    "duration": 31,
    "start_time": "2023-08-19T16:35:07.392Z"
   },
   {
    "duration": 1197,
    "start_time": "2023-08-19T16:35:07.424Z"
   },
   {
    "duration": 0,
    "start_time": "2023-08-19T16:35:08.624Z"
   },
   {
    "duration": 0,
    "start_time": "2023-08-19T16:35:08.625Z"
   },
   {
    "duration": 0,
    "start_time": "2023-08-19T16:35:08.626Z"
   },
   {
    "duration": 0,
    "start_time": "2023-08-19T16:35:08.627Z"
   },
   {
    "duration": 0,
    "start_time": "2023-08-19T16:35:08.629Z"
   },
   {
    "duration": 0,
    "start_time": "2023-08-19T16:35:08.630Z"
   },
   {
    "duration": 0,
    "start_time": "2023-08-19T16:35:08.631Z"
   },
   {
    "duration": 0,
    "start_time": "2023-08-19T16:35:08.632Z"
   },
   {
    "duration": 0,
    "start_time": "2023-08-19T16:35:08.633Z"
   },
   {
    "duration": 0,
    "start_time": "2023-08-19T16:35:08.635Z"
   },
   {
    "duration": 0,
    "start_time": "2023-08-19T16:35:08.636Z"
   },
   {
    "duration": 0,
    "start_time": "2023-08-19T16:35:08.637Z"
   },
   {
    "duration": 0,
    "start_time": "2023-08-19T16:35:08.638Z"
   },
   {
    "duration": 226,
    "start_time": "2023-08-19T16:35:36.088Z"
   },
   {
    "duration": 65,
    "start_time": "2023-08-19T16:40:24.534Z"
   },
   {
    "duration": 245,
    "start_time": "2023-08-19T16:40:32.139Z"
   },
   {
    "duration": 1017,
    "start_time": "2023-08-19T16:41:10.743Z"
   },
   {
    "duration": 1130,
    "start_time": "2023-08-19T16:41:40.464Z"
   },
   {
    "duration": 269,
    "start_time": "2023-08-19T16:41:52.495Z"
   },
   {
    "duration": 810,
    "start_time": "2023-08-19T16:42:49.165Z"
   },
   {
    "duration": 1029,
    "start_time": "2023-08-19T16:42:55.849Z"
   },
   {
    "duration": 24,
    "start_time": "2023-08-19T16:43:00.726Z"
   },
   {
    "duration": 227,
    "start_time": "2023-08-19T16:43:08.217Z"
   },
   {
    "duration": 230,
    "start_time": "2023-08-19T16:43:32.405Z"
   },
   {
    "duration": 418,
    "start_time": "2023-08-19T16:43:47.249Z"
   },
   {
    "duration": 408,
    "start_time": "2023-08-19T16:44:40.298Z"
   },
   {
    "duration": 402,
    "start_time": "2023-08-19T16:44:55.779Z"
   },
   {
    "duration": 413,
    "start_time": "2023-08-19T16:45:22.970Z"
   },
   {
    "duration": 412,
    "start_time": "2023-08-19T16:45:42.929Z"
   },
   {
    "duration": 404,
    "start_time": "2023-08-19T16:45:48.618Z"
   },
   {
    "duration": 419,
    "start_time": "2023-08-19T16:45:57.409Z"
   },
   {
    "duration": 411,
    "start_time": "2023-08-19T16:46:16.509Z"
   },
   {
    "duration": 434,
    "start_time": "2023-08-19T16:46:22.530Z"
   },
   {
    "duration": 391,
    "start_time": "2023-08-19T16:46:45.410Z"
   },
   {
    "duration": 410,
    "start_time": "2023-08-19T16:46:50.147Z"
   },
   {
    "duration": 409,
    "start_time": "2023-08-19T16:48:15.850Z"
   },
   {
    "duration": 378,
    "start_time": "2023-08-19T16:48:26.852Z"
   },
   {
    "duration": 425,
    "start_time": "2023-08-19T16:48:28.828Z"
   },
   {
    "duration": 424,
    "start_time": "2023-08-19T16:52:39.301Z"
   },
   {
    "duration": 402,
    "start_time": "2023-08-19T16:52:51.423Z"
   },
   {
    "duration": 414,
    "start_time": "2023-08-19T16:53:18.255Z"
   },
   {
    "duration": 447,
    "start_time": "2023-08-19T16:53:32.255Z"
   },
   {
    "duration": 392,
    "start_time": "2023-08-19T16:53:39.276Z"
   },
   {
    "duration": 388,
    "start_time": "2023-08-19T16:53:55.514Z"
   },
   {
    "duration": 375,
    "start_time": "2023-08-19T16:54:05.675Z"
   },
   {
    "duration": 434,
    "start_time": "2023-08-19T16:54:08.546Z"
   },
   {
    "duration": 402,
    "start_time": "2023-08-19T16:54:18.537Z"
   },
   {
    "duration": 435,
    "start_time": "2023-08-19T16:54:23.995Z"
   },
   {
    "duration": 447,
    "start_time": "2023-08-19T16:54:32.524Z"
   },
   {
    "duration": 423,
    "start_time": "2023-08-19T16:55:00.564Z"
   },
   {
    "duration": 1130,
    "start_time": "2023-08-19T16:59:49.572Z"
   },
   {
    "duration": 1527,
    "start_time": "2023-08-19T17:00:05.486Z"
   },
   {
    "duration": 1450,
    "start_time": "2023-08-19T17:41:57.175Z"
   },
   {
    "duration": 6,
    "start_time": "2023-08-19T17:44:30.886Z"
   },
   {
    "duration": 1732,
    "start_time": "2023-08-19T17:45:59.763Z"
   },
   {
    "duration": 14,
    "start_time": "2023-08-19T17:46:01.497Z"
   },
   {
    "duration": 1036,
    "start_time": "2023-08-19T17:46:01.513Z"
   },
   {
    "duration": 153,
    "start_time": "2023-08-19T17:46:02.552Z"
   },
   {
    "duration": 1094,
    "start_time": "2023-08-19T17:46:02.707Z"
   },
   {
    "duration": 455,
    "start_time": "2023-08-19T17:46:03.803Z"
   },
   {
    "duration": 17,
    "start_time": "2023-08-19T17:46:04.260Z"
   },
   {
    "duration": 28,
    "start_time": "2023-08-19T17:46:04.279Z"
   },
   {
    "duration": 19,
    "start_time": "2023-08-19T17:46:04.309Z"
   },
   {
    "duration": 758,
    "start_time": "2023-08-19T17:46:04.332Z"
   },
   {
    "duration": 15667,
    "start_time": "2023-08-19T17:46:05.092Z"
   },
   {
    "duration": 1077,
    "start_time": "2023-08-19T17:46:20.761Z"
   },
   {
    "duration": 90,
    "start_time": "2023-08-19T17:46:21.840Z"
   },
   {
    "duration": 291,
    "start_time": "2023-08-19T17:46:21.932Z"
   },
   {
    "duration": 85,
    "start_time": "2023-08-19T17:46:22.226Z"
   },
   {
    "duration": 36,
    "start_time": "2023-08-19T17:46:22.313Z"
   },
   {
    "duration": 297,
    "start_time": "2023-08-19T17:46:22.351Z"
   },
   {
    "duration": 151,
    "start_time": "2023-08-19T17:46:22.651Z"
   },
   {
    "duration": 38,
    "start_time": "2023-08-19T17:46:22.804Z"
   },
   {
    "duration": 72,
    "start_time": "2023-08-19T17:46:22.844Z"
   },
   {
    "duration": 22,
    "start_time": "2023-08-19T17:46:22.919Z"
   },
   {
    "duration": 34,
    "start_time": "2023-08-19T17:46:22.943Z"
   },
   {
    "duration": 4,
    "start_time": "2023-08-19T17:46:22.979Z"
   },
   {
    "duration": 113,
    "start_time": "2023-08-19T17:46:22.985Z"
   },
   {
    "duration": 1567,
    "start_time": "2023-08-19T17:46:23.100Z"
   },
   {
    "duration": 277,
    "start_time": "2023-08-19T17:46:24.669Z"
   },
   {
    "duration": 4,
    "start_time": "2023-08-19T17:46:24.948Z"
   },
   {
    "duration": 119,
    "start_time": "2023-08-19T17:46:24.966Z"
   },
   {
    "duration": 2,
    "start_time": "2023-08-19T17:46:25.087Z"
   },
   {
    "duration": 13,
    "start_time": "2023-08-19T17:46:25.091Z"
   },
   {
    "duration": 28,
    "start_time": "2023-08-19T17:46:25.106Z"
   },
   {
    "duration": 10,
    "start_time": "2023-08-19T17:46:25.136Z"
   },
   {
    "duration": 17,
    "start_time": "2023-08-19T17:46:25.148Z"
   },
   {
    "duration": 19,
    "start_time": "2023-08-19T17:46:25.166Z"
   },
   {
    "duration": 12,
    "start_time": "2023-08-19T17:46:25.187Z"
   },
   {
    "duration": 16,
    "start_time": "2023-08-19T17:46:25.201Z"
   },
   {
    "duration": 14,
    "start_time": "2023-08-19T17:46:25.219Z"
   },
   {
    "duration": 14,
    "start_time": "2023-08-19T17:46:25.235Z"
   },
   {
    "duration": 7,
    "start_time": "2023-08-19T17:46:25.251Z"
   },
   {
    "duration": 1955,
    "start_time": "2023-08-19T17:46:25.260Z"
   },
   {
    "duration": 4531,
    "start_time": "2023-08-19T17:46:27.217Z"
   },
   {
    "duration": 0,
    "start_time": "2023-08-19T17:46:31.750Z"
   },
   {
    "duration": 0,
    "start_time": "2023-08-19T17:46:31.751Z"
   },
   {
    "duration": 1612,
    "start_time": "2023-08-19T17:48:06.233Z"
   },
   {
    "duration": 20,
    "start_time": "2023-08-19T17:48:07.847Z"
   },
   {
    "duration": 970,
    "start_time": "2023-08-19T17:48:07.869Z"
   },
   {
    "duration": 152,
    "start_time": "2023-08-19T17:48:08.841Z"
   },
   {
    "duration": 1005,
    "start_time": "2023-08-19T17:48:08.996Z"
   },
   {
    "duration": 387,
    "start_time": "2023-08-19T17:48:10.003Z"
   },
   {
    "duration": 13,
    "start_time": "2023-08-19T17:48:10.392Z"
   },
   {
    "duration": 28,
    "start_time": "2023-08-19T17:48:10.406Z"
   },
   {
    "duration": 43,
    "start_time": "2023-08-19T17:48:10.436Z"
   },
   {
    "duration": 677,
    "start_time": "2023-08-19T17:48:10.481Z"
   },
   {
    "duration": 14840,
    "start_time": "2023-08-19T17:48:11.159Z"
   },
   {
    "duration": 1078,
    "start_time": "2023-08-19T17:48:26.001Z"
   },
   {
    "duration": 90,
    "start_time": "2023-08-19T17:48:27.081Z"
   },
   {
    "duration": 297,
    "start_time": "2023-08-19T17:48:27.174Z"
   },
   {
    "duration": 67,
    "start_time": "2023-08-19T17:48:27.473Z"
   },
   {
    "duration": 48,
    "start_time": "2023-08-19T17:48:27.542Z"
   },
   {
    "duration": 273,
    "start_time": "2023-08-19T17:48:27.592Z"
   },
   {
    "duration": 157,
    "start_time": "2023-08-19T17:48:27.867Z"
   },
   {
    "duration": 47,
    "start_time": "2023-08-19T17:48:28.026Z"
   },
   {
    "duration": 36,
    "start_time": "2023-08-19T17:48:28.075Z"
   },
   {
    "duration": 20,
    "start_time": "2023-08-19T17:48:28.113Z"
   },
   {
    "duration": 38,
    "start_time": "2023-08-19T17:48:28.135Z"
   },
   {
    "duration": 15,
    "start_time": "2023-08-19T17:48:28.175Z"
   },
   {
    "duration": 108,
    "start_time": "2023-08-19T17:48:28.192Z"
   },
   {
    "duration": 1496,
    "start_time": "2023-08-19T17:48:28.302Z"
   },
   {
    "duration": 273,
    "start_time": "2023-08-19T17:48:29.800Z"
   },
   {
    "duration": 4,
    "start_time": "2023-08-19T17:48:30.075Z"
   },
   {
    "duration": 183,
    "start_time": "2023-08-19T17:48:30.080Z"
   },
   {
    "duration": 3,
    "start_time": "2023-08-19T17:48:30.264Z"
   },
   {
    "duration": 65,
    "start_time": "2023-08-19T17:48:30.269Z"
   },
   {
    "duration": 68,
    "start_time": "2023-08-19T17:48:30.336Z"
   },
   {
    "duration": 56,
    "start_time": "2023-08-19T17:48:30.406Z"
   },
   {
    "duration": 31,
    "start_time": "2023-08-19T17:48:30.464Z"
   },
   {
    "duration": 62,
    "start_time": "2023-08-19T17:48:30.498Z"
   },
   {
    "duration": 122,
    "start_time": "2023-08-19T17:48:30.562Z"
   },
   {
    "duration": 98,
    "start_time": "2023-08-19T17:48:30.686Z"
   },
   {
    "duration": 49,
    "start_time": "2023-08-19T17:48:30.786Z"
   },
   {
    "duration": 51,
    "start_time": "2023-08-19T17:48:30.837Z"
   },
   {
    "duration": 61,
    "start_time": "2023-08-19T17:48:30.890Z"
   },
   {
    "duration": 2291,
    "start_time": "2023-08-19T17:48:30.953Z"
   },
   {
    "duration": 4581,
    "start_time": "2023-08-19T17:48:33.249Z"
   },
   {
    "duration": 0,
    "start_time": "2023-08-19T17:48:37.832Z"
   },
   {
    "duration": 0,
    "start_time": "2023-08-19T17:48:37.833Z"
   },
   {
    "duration": 15,
    "start_time": "2023-08-19T17:49:32.950Z"
   },
   {
    "duration": 12,
    "start_time": "2023-08-19T17:49:37.983Z"
   },
   {
    "duration": 14,
    "start_time": "2023-08-19T17:49:44.927Z"
   },
   {
    "duration": 10,
    "start_time": "2023-08-19T17:49:49.685Z"
   },
   {
    "duration": 6,
    "start_time": "2023-08-19T17:50:13.607Z"
   },
   {
    "duration": 11,
    "start_time": "2023-08-19T17:50:27.648Z"
   },
   {
    "duration": 18,
    "start_time": "2023-08-19T17:50:37.075Z"
   },
   {
    "duration": 1552,
    "start_time": "2023-08-19T18:09:09.875Z"
   },
   {
    "duration": 11,
    "start_time": "2023-08-19T18:09:11.430Z"
   },
   {
    "duration": 834,
    "start_time": "2023-08-19T18:09:11.443Z"
   },
   {
    "duration": 157,
    "start_time": "2023-08-19T18:09:12.279Z"
   },
   {
    "duration": 982,
    "start_time": "2023-08-19T18:09:12.439Z"
   },
   {
    "duration": 360,
    "start_time": "2023-08-19T18:09:13.423Z"
   },
   {
    "duration": 12,
    "start_time": "2023-08-19T18:09:13.785Z"
   },
   {
    "duration": 26,
    "start_time": "2023-08-19T18:09:13.799Z"
   },
   {
    "duration": 18,
    "start_time": "2023-08-19T18:09:13.827Z"
   },
   {
    "duration": 686,
    "start_time": "2023-08-19T18:09:13.846Z"
   },
   {
    "duration": 14427,
    "start_time": "2023-08-19T18:09:14.533Z"
   },
   {
    "duration": 1031,
    "start_time": "2023-08-19T18:09:28.961Z"
   },
   {
    "duration": 90,
    "start_time": "2023-08-19T18:09:29.994Z"
   },
   {
    "duration": 281,
    "start_time": "2023-08-19T18:09:30.088Z"
   },
   {
    "duration": 68,
    "start_time": "2023-08-19T18:09:30.371Z"
   },
   {
    "duration": 75,
    "start_time": "2023-08-19T18:09:30.441Z"
   },
   {
    "duration": 276,
    "start_time": "2023-08-19T18:09:30.518Z"
   },
   {
    "duration": 560,
    "start_time": "2023-08-19T18:09:30.796Z"
   },
   {
    "duration": 19,
    "start_time": "2023-08-19T18:09:31.357Z"
   },
   {
    "duration": 69,
    "start_time": "2023-08-19T18:09:31.378Z"
   },
   {
    "duration": 50,
    "start_time": "2023-08-19T18:09:31.449Z"
   },
   {
    "duration": 67,
    "start_time": "2023-08-19T18:09:31.500Z"
   },
   {
    "duration": 41,
    "start_time": "2023-08-19T18:09:31.569Z"
   },
   {
    "duration": 136,
    "start_time": "2023-08-19T18:09:31.612Z"
   },
   {
    "duration": 2199,
    "start_time": "2023-08-19T18:09:31.749Z"
   },
   {
    "duration": 284,
    "start_time": "2023-08-19T18:09:33.950Z"
   },
   {
    "duration": 3,
    "start_time": "2023-08-19T18:09:34.236Z"
   },
   {
    "duration": 278,
    "start_time": "2023-08-19T18:09:34.241Z"
   },
   {
    "duration": 3,
    "start_time": "2023-08-19T18:09:34.520Z"
   },
   {
    "duration": 146,
    "start_time": "2023-08-19T18:09:34.525Z"
   },
   {
    "duration": 13,
    "start_time": "2023-08-19T18:09:34.673Z"
   },
   {
    "duration": 20,
    "start_time": "2023-08-19T18:09:34.688Z"
   },
   {
    "duration": 10,
    "start_time": "2023-08-19T18:09:34.711Z"
   },
   {
    "duration": 11,
    "start_time": "2023-08-19T18:09:34.723Z"
   },
   {
    "duration": 33,
    "start_time": "2023-08-19T18:09:34.736Z"
   },
   {
    "duration": 17,
    "start_time": "2023-08-19T18:09:34.771Z"
   },
   {
    "duration": 11,
    "start_time": "2023-08-19T18:09:34.790Z"
   },
   {
    "duration": 14,
    "start_time": "2023-08-19T18:09:34.802Z"
   },
   {
    "duration": 11,
    "start_time": "2023-08-19T18:09:34.819Z"
   },
   {
    "duration": 2257,
    "start_time": "2023-08-19T18:09:34.832Z"
   },
   {
    "duration": 4906,
    "start_time": "2023-08-19T18:09:37.093Z"
   },
   {
    "duration": 0,
    "start_time": "2023-08-19T18:09:42.001Z"
   },
   {
    "duration": 0,
    "start_time": "2023-08-19T18:09:42.003Z"
   },
   {
    "duration": 1504,
    "start_time": "2023-08-19T18:11:10.770Z"
   },
   {
    "duration": 11,
    "start_time": "2023-08-19T18:11:12.276Z"
   },
   {
    "duration": 856,
    "start_time": "2023-08-19T18:11:12.289Z"
   },
   {
    "duration": 227,
    "start_time": "2023-08-19T18:11:13.147Z"
   },
   {
    "duration": 1073,
    "start_time": "2023-08-19T18:11:13.376Z"
   },
   {
    "duration": 530,
    "start_time": "2023-08-19T18:11:14.451Z"
   },
   {
    "duration": 12,
    "start_time": "2023-08-19T18:11:14.983Z"
   },
   {
    "duration": 64,
    "start_time": "2023-08-19T18:11:14.997Z"
   },
   {
    "duration": 20,
    "start_time": "2023-08-19T18:11:15.063Z"
   },
   {
    "duration": 671,
    "start_time": "2023-08-19T18:11:15.085Z"
   },
   {
    "duration": 16749,
    "start_time": "2023-08-19T18:11:15.758Z"
   },
   {
    "duration": 1058,
    "start_time": "2023-08-19T18:11:32.509Z"
   },
   {
    "duration": 75,
    "start_time": "2023-08-19T18:11:33.569Z"
   },
   {
    "duration": 432,
    "start_time": "2023-08-19T18:11:33.647Z"
   },
   {
    "duration": 94,
    "start_time": "2023-08-19T18:11:34.082Z"
   },
   {
    "duration": 32,
    "start_time": "2023-08-19T18:11:34.177Z"
   },
   {
    "duration": 264,
    "start_time": "2023-08-19T18:11:34.211Z"
   },
   {
    "duration": 484,
    "start_time": "2023-08-19T18:11:34.477Z"
   },
   {
    "duration": 9,
    "start_time": "2023-08-19T18:11:34.963Z"
   },
   {
    "duration": 38,
    "start_time": "2023-08-19T18:11:34.975Z"
   },
   {
    "duration": 21,
    "start_time": "2023-08-19T18:11:35.015Z"
   },
   {
    "duration": 44,
    "start_time": "2023-08-19T18:11:35.038Z"
   },
   {
    "duration": 7,
    "start_time": "2023-08-19T18:11:35.084Z"
   },
   {
    "duration": 167,
    "start_time": "2023-08-19T18:11:35.092Z"
   },
   {
    "duration": 1461,
    "start_time": "2023-08-19T18:11:35.267Z"
   },
   {
    "duration": 248,
    "start_time": "2023-08-19T18:11:36.729Z"
   },
   {
    "duration": 4,
    "start_time": "2023-08-19T18:11:36.979Z"
   },
   {
    "duration": 303,
    "start_time": "2023-08-19T18:11:36.985Z"
   },
   {
    "duration": 2,
    "start_time": "2023-08-19T18:11:37.290Z"
   },
   {
    "duration": 8,
    "start_time": "2023-08-19T18:11:37.294Z"
   },
   {
    "duration": 7,
    "start_time": "2023-08-19T18:11:37.304Z"
   },
   {
    "duration": 7,
    "start_time": "2023-08-19T18:11:37.312Z"
   },
   {
    "duration": 5,
    "start_time": "2023-08-19T18:11:37.320Z"
   },
   {
    "duration": 6,
    "start_time": "2023-08-19T18:11:37.326Z"
   },
   {
    "duration": 34,
    "start_time": "2023-08-19T18:11:37.334Z"
   },
   {
    "duration": 8,
    "start_time": "2023-08-19T18:11:37.370Z"
   },
   {
    "duration": 7,
    "start_time": "2023-08-19T18:11:37.379Z"
   },
   {
    "duration": 8,
    "start_time": "2023-08-19T18:11:37.387Z"
   },
   {
    "duration": 10,
    "start_time": "2023-08-19T18:11:37.397Z"
   },
   {
    "duration": 2058,
    "start_time": "2023-08-19T18:11:37.409Z"
   },
   {
    "duration": 2342,
    "start_time": "2023-08-19T18:11:39.470Z"
   },
   {
    "duration": 0,
    "start_time": "2023-08-19T18:11:41.814Z"
   },
   {
    "duration": 0,
    "start_time": "2023-08-19T18:11:41.816Z"
   },
   {
    "duration": 3,
    "start_time": "2023-08-19T18:14:29.420Z"
   },
   {
    "duration": 1574,
    "start_time": "2023-08-19T18:20:49.547Z"
   },
   {
    "duration": 11,
    "start_time": "2023-08-19T18:20:51.123Z"
   },
   {
    "duration": 864,
    "start_time": "2023-08-19T18:20:51.136Z"
   },
   {
    "duration": 143,
    "start_time": "2023-08-19T18:20:52.001Z"
   },
   {
    "duration": 1015,
    "start_time": "2023-08-19T18:20:52.146Z"
   },
   {
    "duration": 386,
    "start_time": "2023-08-19T18:20:53.163Z"
   },
   {
    "duration": 21,
    "start_time": "2023-08-19T18:20:53.552Z"
   },
   {
    "duration": 60,
    "start_time": "2023-08-19T18:20:53.576Z"
   },
   {
    "duration": 75,
    "start_time": "2023-08-19T18:20:53.639Z"
   },
   {
    "duration": 688,
    "start_time": "2023-08-19T18:20:53.717Z"
   },
   {
    "duration": 15160,
    "start_time": "2023-08-19T18:20:54.407Z"
   },
   {
    "duration": 1033,
    "start_time": "2023-08-19T18:21:09.569Z"
   },
   {
    "duration": 88,
    "start_time": "2023-08-19T18:21:10.604Z"
   },
   {
    "duration": 273,
    "start_time": "2023-08-19T18:21:10.696Z"
   },
   {
    "duration": 67,
    "start_time": "2023-08-19T18:21:10.972Z"
   },
   {
    "duration": 46,
    "start_time": "2023-08-19T18:21:11.041Z"
   },
   {
    "duration": 256,
    "start_time": "2023-08-19T18:21:11.089Z"
   },
   {
    "duration": 473,
    "start_time": "2023-08-19T18:21:11.346Z"
   },
   {
    "duration": 8,
    "start_time": "2023-08-19T18:21:11.821Z"
   },
   {
    "duration": 67,
    "start_time": "2023-08-19T18:21:11.831Z"
   },
   {
    "duration": 17,
    "start_time": "2023-08-19T18:21:11.900Z"
   },
   {
    "duration": 47,
    "start_time": "2023-08-19T18:21:11.918Z"
   },
   {
    "duration": 17,
    "start_time": "2023-08-19T18:21:11.967Z"
   },
   {
    "duration": 121,
    "start_time": "2023-08-19T18:21:11.986Z"
   },
   {
    "duration": 1483,
    "start_time": "2023-08-19T18:21:12.108Z"
   },
   {
    "duration": 239,
    "start_time": "2023-08-19T18:21:13.592Z"
   },
   {
    "duration": 4,
    "start_time": "2023-08-19T18:21:13.833Z"
   },
   {
    "duration": 319,
    "start_time": "2023-08-19T18:21:13.838Z"
   },
   {
    "duration": 8,
    "start_time": "2023-08-19T18:21:14.159Z"
   },
   {
    "duration": 23,
    "start_time": "2023-08-19T18:21:14.168Z"
   },
   {
    "duration": 23,
    "start_time": "2023-08-19T18:21:14.193Z"
   },
   {
    "duration": 16,
    "start_time": "2023-08-19T18:21:14.217Z"
   },
   {
    "duration": 19,
    "start_time": "2023-08-19T18:21:14.235Z"
   },
   {
    "duration": 11,
    "start_time": "2023-08-19T18:21:14.256Z"
   },
   {
    "duration": 40,
    "start_time": "2023-08-19T18:21:14.269Z"
   },
   {
    "duration": 52,
    "start_time": "2023-08-19T18:21:14.311Z"
   },
   {
    "duration": 35,
    "start_time": "2023-08-19T18:21:14.365Z"
   },
   {
    "duration": 9,
    "start_time": "2023-08-19T18:21:14.402Z"
   },
   {
    "duration": 47,
    "start_time": "2023-08-19T18:21:14.412Z"
   },
   {
    "duration": 40,
    "start_time": "2023-08-19T18:21:14.460Z"
   },
   {
    "duration": 3381,
    "start_time": "2023-08-19T18:21:14.504Z"
   },
   {
    "duration": 1738509,
    "start_time": "2023-08-19T18:21:17.887Z"
   },
   {
    "duration": 0,
    "start_time": "2023-08-19T18:50:16.398Z"
   },
   {
    "duration": 0,
    "start_time": "2023-08-19T18:50:16.400Z"
   },
   {
    "duration": 1614,
    "start_time": "2023-08-19T18:50:29.230Z"
   },
   {
    "duration": 12,
    "start_time": "2023-08-19T18:50:30.846Z"
   },
   {
    "duration": 949,
    "start_time": "2023-08-19T18:50:30.866Z"
   },
   {
    "duration": 154,
    "start_time": "2023-08-19T18:50:31.817Z"
   },
   {
    "duration": 1096,
    "start_time": "2023-08-19T18:50:31.973Z"
   },
   {
    "duration": 439,
    "start_time": "2023-08-19T18:50:33.071Z"
   },
   {
    "duration": 12,
    "start_time": "2023-08-19T18:50:33.512Z"
   },
   {
    "duration": 84,
    "start_time": "2023-08-19T18:50:33.526Z"
   },
   {
    "duration": 18,
    "start_time": "2023-08-19T18:50:33.611Z"
   },
   {
    "duration": 670,
    "start_time": "2023-08-19T18:50:33.630Z"
   },
   {
    "duration": 14618,
    "start_time": "2023-08-19T18:50:34.301Z"
   },
   {
    "duration": 1029,
    "start_time": "2023-08-19T18:50:48.921Z"
   },
   {
    "duration": 91,
    "start_time": "2023-08-19T18:50:49.952Z"
   },
   {
    "duration": 267,
    "start_time": "2023-08-19T18:50:50.046Z"
   },
   {
    "duration": 73,
    "start_time": "2023-08-19T18:50:50.315Z"
   },
   {
    "duration": 31,
    "start_time": "2023-08-19T18:50:50.390Z"
   },
   {
    "duration": 269,
    "start_time": "2023-08-19T18:50:50.423Z"
   },
   {
    "duration": 482,
    "start_time": "2023-08-19T18:50:50.694Z"
   },
   {
    "duration": 8,
    "start_time": "2023-08-19T18:50:51.178Z"
   },
   {
    "duration": 67,
    "start_time": "2023-08-19T18:50:51.188Z"
   },
   {
    "duration": 18,
    "start_time": "2023-08-19T18:50:51.257Z"
   },
   {
    "duration": 22,
    "start_time": "2023-08-19T18:50:51.277Z"
   },
   {
    "duration": 10,
    "start_time": "2023-08-19T18:50:51.301Z"
   },
   {
    "duration": 105,
    "start_time": "2023-08-19T18:50:51.313Z"
   },
   {
    "duration": 1498,
    "start_time": "2023-08-19T18:50:51.420Z"
   },
   {
    "duration": 247,
    "start_time": "2023-08-19T18:50:52.920Z"
   },
   {
    "duration": 4,
    "start_time": "2023-08-19T18:50:53.168Z"
   },
   {
    "duration": 264,
    "start_time": "2023-08-19T18:50:53.173Z"
   },
   {
    "duration": 3,
    "start_time": "2023-08-19T18:50:53.439Z"
   },
   {
    "duration": 15,
    "start_time": "2023-08-19T18:50:53.443Z"
   },
   {
    "duration": 28,
    "start_time": "2023-08-19T18:50:53.459Z"
   },
   {
    "duration": 60,
    "start_time": "2023-08-19T18:50:53.488Z"
   },
   {
    "duration": 20,
    "start_time": "2023-08-19T18:50:53.550Z"
   },
   {
    "duration": 52,
    "start_time": "2023-08-19T18:50:53.571Z"
   },
   {
    "duration": 14,
    "start_time": "2023-08-19T18:50:53.625Z"
   },
   {
    "duration": 17,
    "start_time": "2023-08-19T18:50:53.640Z"
   },
   {
    "duration": 28,
    "start_time": "2023-08-19T18:50:53.658Z"
   },
   {
    "duration": 26,
    "start_time": "2023-08-19T18:50:53.688Z"
   },
   {
    "duration": 45,
    "start_time": "2023-08-19T18:50:53.715Z"
   },
   {
    "duration": 61,
    "start_time": "2023-08-19T18:50:53.762Z"
   },
   {
    "duration": 64,
    "start_time": "2023-08-19T18:50:53.828Z"
   },
   {
    "duration": 3295,
    "start_time": "2023-08-19T18:50:53.895Z"
   },
   {
    "duration": 1692,
    "start_time": "2023-08-19T19:43:52.617Z"
   },
   {
    "duration": 17,
    "start_time": "2023-08-19T19:43:54.311Z"
   },
   {
    "duration": 3152,
    "start_time": "2023-08-19T19:43:54.331Z"
   },
   {
    "duration": 137,
    "start_time": "2023-08-19T19:43:57.485Z"
   },
   {
    "duration": 1083,
    "start_time": "2023-08-19T19:43:57.626Z"
   },
   {
    "duration": 394,
    "start_time": "2023-08-19T19:43:58.711Z"
   },
   {
    "duration": 14,
    "start_time": "2023-08-19T19:43:59.107Z"
   },
   {
    "duration": 37,
    "start_time": "2023-08-19T19:43:59.138Z"
   },
   {
    "duration": 22,
    "start_time": "2023-08-19T19:43:59.178Z"
   },
   {
    "duration": 665,
    "start_time": "2023-08-19T19:43:59.202Z"
   },
   {
    "duration": 15461,
    "start_time": "2023-08-19T19:43:59.871Z"
   },
   {
    "duration": 1047,
    "start_time": "2023-08-19T19:44:15.334Z"
   },
   {
    "duration": 98,
    "start_time": "2023-08-19T19:44:16.383Z"
   },
   {
    "duration": 276,
    "start_time": "2023-08-19T19:44:16.484Z"
   },
   {
    "duration": 73,
    "start_time": "2023-08-19T19:44:16.762Z"
   },
   {
    "duration": 48,
    "start_time": "2023-08-19T19:44:16.837Z"
   },
   {
    "duration": 267,
    "start_time": "2023-08-19T19:44:16.888Z"
   },
   {
    "duration": 498,
    "start_time": "2023-08-19T19:44:17.157Z"
   },
   {
    "duration": 21,
    "start_time": "2023-08-19T19:44:17.657Z"
   },
   {
    "duration": 37,
    "start_time": "2023-08-19T19:44:17.679Z"
   },
   {
    "duration": 19,
    "start_time": "2023-08-19T19:44:17.718Z"
   },
   {
    "duration": 50,
    "start_time": "2023-08-19T19:44:17.739Z"
   },
   {
    "duration": 10,
    "start_time": "2023-08-19T19:44:17.791Z"
   },
   {
    "duration": 113,
    "start_time": "2023-08-19T19:44:17.802Z"
   },
   {
    "duration": 1569,
    "start_time": "2023-08-19T19:44:17.916Z"
   },
   {
    "duration": 264,
    "start_time": "2023-08-19T19:44:19.487Z"
   },
   {
    "duration": 4,
    "start_time": "2023-08-19T19:44:19.753Z"
   },
   {
    "duration": 284,
    "start_time": "2023-08-19T19:44:19.759Z"
   },
   {
    "duration": 4,
    "start_time": "2023-08-19T19:44:20.045Z"
   },
   {
    "duration": 20,
    "start_time": "2023-08-19T19:44:20.050Z"
   },
   {
    "duration": 27,
    "start_time": "2023-08-19T19:44:20.077Z"
   },
   {
    "duration": 17,
    "start_time": "2023-08-19T19:44:20.106Z"
   },
   {
    "duration": 28,
    "start_time": "2023-08-19T19:44:20.125Z"
   },
   {
    "duration": 38,
    "start_time": "2023-08-19T19:44:20.154Z"
   },
   {
    "duration": 6,
    "start_time": "2023-08-19T19:44:20.194Z"
   },
   {
    "duration": 16,
    "start_time": "2023-08-19T19:44:20.202Z"
   },
   {
    "duration": 21,
    "start_time": "2023-08-19T19:44:20.220Z"
   },
   {
    "duration": 9,
    "start_time": "2023-08-19T19:44:20.244Z"
   },
   {
    "duration": 9,
    "start_time": "2023-08-19T19:44:20.254Z"
   },
   {
    "duration": 20,
    "start_time": "2023-08-19T19:44:20.264Z"
   },
   {
    "duration": 20,
    "start_time": "2023-08-19T19:44:20.288Z"
   },
   {
    "duration": 3412,
    "start_time": "2023-08-19T19:44:20.310Z"
   },
   {
    "duration": 282582,
    "start_time": "2023-08-19T19:44:23.724Z"
   },
   {
    "duration": 0,
    "start_time": "2023-08-19T19:49:06.308Z"
   },
   {
    "duration": 0,
    "start_time": "2023-08-19T19:49:06.309Z"
   },
   {
    "duration": 1630,
    "start_time": "2023-08-19T20:02:35.568Z"
   },
   {
    "duration": 15,
    "start_time": "2023-08-19T20:02:37.200Z"
   },
   {
    "duration": 924,
    "start_time": "2023-08-19T20:02:37.217Z"
   },
   {
    "duration": 164,
    "start_time": "2023-08-19T20:02:38.143Z"
   },
   {
    "duration": 1071,
    "start_time": "2023-08-19T20:02:38.311Z"
   },
   {
    "duration": 386,
    "start_time": "2023-08-19T20:02:39.384Z"
   },
   {
    "duration": 17,
    "start_time": "2023-08-19T20:02:39.772Z"
   },
   {
    "duration": 29,
    "start_time": "2023-08-19T20:02:39.791Z"
   },
   {
    "duration": 20,
    "start_time": "2023-08-19T20:02:39.822Z"
   },
   {
    "duration": 664,
    "start_time": "2023-08-19T20:02:39.870Z"
   },
   {
    "duration": 16086,
    "start_time": "2023-08-19T20:02:40.537Z"
   },
   {
    "duration": 1088,
    "start_time": "2023-08-19T20:02:56.625Z"
   },
   {
    "duration": 97,
    "start_time": "2023-08-19T20:02:57.715Z"
   },
   {
    "duration": 292,
    "start_time": "2023-08-19T20:02:57.815Z"
   },
   {
    "duration": 82,
    "start_time": "2023-08-19T20:02:58.109Z"
   },
   {
    "duration": 33,
    "start_time": "2023-08-19T20:02:58.193Z"
   },
   {
    "duration": 292,
    "start_time": "2023-08-19T20:02:58.227Z"
   },
   {
    "duration": 495,
    "start_time": "2023-08-19T20:02:58.521Z"
   },
   {
    "duration": 8,
    "start_time": "2023-08-19T20:02:59.019Z"
   },
   {
    "duration": 71,
    "start_time": "2023-08-19T20:02:59.030Z"
   },
   {
    "duration": 21,
    "start_time": "2023-08-19T20:02:59.103Z"
   },
   {
    "duration": 25,
    "start_time": "2023-08-19T20:02:59.126Z"
   },
   {
    "duration": 19,
    "start_time": "2023-08-19T20:02:59.170Z"
   },
   {
    "duration": 106,
    "start_time": "2023-08-19T20:02:59.192Z"
   },
   {
    "duration": 1614,
    "start_time": "2023-08-19T20:02:59.300Z"
   },
   {
    "duration": 283,
    "start_time": "2023-08-19T20:03:00.916Z"
   },
   {
    "duration": 4,
    "start_time": "2023-08-19T20:03:01.202Z"
   },
   {
    "duration": 355,
    "start_time": "2023-08-19T20:03:01.208Z"
   },
   {
    "duration": 7,
    "start_time": "2023-08-19T20:03:01.570Z"
   },
   {
    "duration": 69,
    "start_time": "2023-08-19T20:03:01.582Z"
   },
   {
    "duration": 60,
    "start_time": "2023-08-19T20:03:01.654Z"
   },
   {
    "duration": 111,
    "start_time": "2023-08-19T20:03:01.716Z"
   },
   {
    "duration": 80,
    "start_time": "2023-08-19T20:03:01.830Z"
   },
   {
    "duration": 68,
    "start_time": "2023-08-19T20:03:01.913Z"
   },
   {
    "duration": 72,
    "start_time": "2023-08-19T20:03:01.984Z"
   },
   {
    "duration": 85,
    "start_time": "2023-08-19T20:03:02.058Z"
   },
   {
    "duration": 76,
    "start_time": "2023-08-19T20:03:02.145Z"
   },
   {
    "duration": 35,
    "start_time": "2023-08-19T20:03:02.222Z"
   },
   {
    "duration": 54,
    "start_time": "2023-08-19T20:03:02.260Z"
   },
   {
    "duration": 34,
    "start_time": "2023-08-19T20:03:02.317Z"
   },
   {
    "duration": 60,
    "start_time": "2023-08-19T20:03:02.356Z"
   },
   {
    "duration": 3524,
    "start_time": "2023-08-19T20:03:02.418Z"
   },
   {
    "duration": 321773,
    "start_time": "2023-08-19T20:03:05.944Z"
   },
   {
    "duration": 0,
    "start_time": "2023-08-19T20:08:27.719Z"
   },
   {
    "duration": 0,
    "start_time": "2023-08-19T20:08:27.720Z"
   },
   {
    "duration": 3,
    "start_time": "2023-08-19T20:12:46.330Z"
   },
   {
    "duration": 1642,
    "start_time": "2023-08-19T20:13:41.408Z"
   },
   {
    "duration": 21,
    "start_time": "2023-08-19T20:13:43.052Z"
   },
   {
    "duration": 904,
    "start_time": "2023-08-19T20:13:43.082Z"
   },
   {
    "duration": 181,
    "start_time": "2023-08-19T20:13:43.988Z"
   },
   {
    "duration": 1013,
    "start_time": "2023-08-19T20:13:44.172Z"
   },
   {
    "duration": 373,
    "start_time": "2023-08-19T20:13:45.187Z"
   },
   {
    "duration": 24,
    "start_time": "2023-08-19T20:13:45.566Z"
   },
   {
    "duration": 24,
    "start_time": "2023-08-19T20:13:45.592Z"
   },
   {
    "duration": 18,
    "start_time": "2023-08-19T20:13:45.618Z"
   },
   {
    "duration": 664,
    "start_time": "2023-08-19T20:13:45.637Z"
   },
   {
    "duration": 15312,
    "start_time": "2023-08-19T20:13:46.303Z"
   },
   {
    "duration": 1108,
    "start_time": "2023-08-19T20:14:01.618Z"
   },
   {
    "duration": 88,
    "start_time": "2023-08-19T20:14:02.728Z"
   },
   {
    "duration": 476,
    "start_time": "2023-08-19T20:14:02.819Z"
   },
   {
    "duration": 84,
    "start_time": "2023-08-19T20:14:03.297Z"
   },
   {
    "duration": 34,
    "start_time": "2023-08-19T20:14:03.383Z"
   },
   {
    "duration": 264,
    "start_time": "2023-08-19T20:14:03.419Z"
   },
   {
    "duration": 520,
    "start_time": "2023-08-19T20:14:03.685Z"
   },
   {
    "duration": 9,
    "start_time": "2023-08-19T20:14:04.207Z"
   },
   {
    "duration": 53,
    "start_time": "2023-08-19T20:14:04.218Z"
   },
   {
    "duration": 23,
    "start_time": "2023-08-19T20:14:04.273Z"
   },
   {
    "duration": 24,
    "start_time": "2023-08-19T20:14:04.298Z"
   },
   {
    "duration": 21,
    "start_time": "2023-08-19T20:14:04.324Z"
   },
   {
    "duration": 108,
    "start_time": "2023-08-19T20:14:04.347Z"
   },
   {
    "duration": 1496,
    "start_time": "2023-08-19T20:14:04.457Z"
   },
   {
    "duration": 270,
    "start_time": "2023-08-19T20:14:05.955Z"
   },
   {
    "duration": 4,
    "start_time": "2023-08-19T20:14:06.227Z"
   },
   {
    "duration": 271,
    "start_time": "2023-08-19T20:14:06.232Z"
   },
   {
    "duration": 3,
    "start_time": "2023-08-19T20:14:06.506Z"
   },
   {
    "duration": 12,
    "start_time": "2023-08-19T20:14:06.511Z"
   },
   {
    "duration": 29,
    "start_time": "2023-08-19T20:14:06.525Z"
   },
   {
    "duration": 17,
    "start_time": "2023-08-19T20:14:06.556Z"
   },
   {
    "duration": 26,
    "start_time": "2023-08-19T20:14:06.576Z"
   },
   {
    "duration": 6,
    "start_time": "2023-08-19T20:14:06.604Z"
   },
   {
    "duration": 18,
    "start_time": "2023-08-19T20:14:06.612Z"
   },
   {
    "duration": 27,
    "start_time": "2023-08-19T20:14:06.632Z"
   },
   {
    "duration": 28,
    "start_time": "2023-08-19T20:14:06.661Z"
   },
   {
    "duration": 28,
    "start_time": "2023-08-19T20:14:06.690Z"
   },
   {
    "duration": 22,
    "start_time": "2023-08-19T20:14:06.720Z"
   },
   {
    "duration": 16,
    "start_time": "2023-08-19T20:14:06.744Z"
   },
   {
    "duration": 19,
    "start_time": "2023-08-19T20:14:06.764Z"
   },
   {
    "duration": 3389,
    "start_time": "2023-08-19T20:14:06.785Z"
   },
   {
    "duration": 1609,
    "start_time": "2023-08-19T20:34:34.728Z"
   },
   {
    "duration": 11,
    "start_time": "2023-08-19T20:34:36.339Z"
   },
   {
    "duration": 969,
    "start_time": "2023-08-19T20:34:36.352Z"
   },
   {
    "duration": 156,
    "start_time": "2023-08-19T20:34:37.323Z"
   },
   {
    "duration": 996,
    "start_time": "2023-08-19T20:34:37.481Z"
   },
   {
    "duration": 404,
    "start_time": "2023-08-19T20:34:38.480Z"
   },
   {
    "duration": 14,
    "start_time": "2023-08-19T20:34:38.886Z"
   },
   {
    "duration": 26,
    "start_time": "2023-08-19T20:34:38.902Z"
   },
   {
    "duration": 49,
    "start_time": "2023-08-19T20:34:38.930Z"
   },
   {
    "duration": 664,
    "start_time": "2023-08-19T20:34:38.983Z"
   },
   {
    "duration": 15777,
    "start_time": "2023-08-19T20:34:39.649Z"
   },
   {
    "duration": 1083,
    "start_time": "2023-08-19T20:34:55.428Z"
   },
   {
    "duration": 92,
    "start_time": "2023-08-19T20:34:56.514Z"
   },
   {
    "duration": 297,
    "start_time": "2023-08-19T20:34:56.607Z"
   },
   {
    "duration": 78,
    "start_time": "2023-08-19T20:34:56.906Z"
   },
   {
    "duration": 34,
    "start_time": "2023-08-19T20:34:56.986Z"
   },
   {
    "duration": 315,
    "start_time": "2023-08-19T20:34:57.022Z"
   },
   {
    "duration": 498,
    "start_time": "2023-08-19T20:34:57.339Z"
   },
   {
    "duration": 9,
    "start_time": "2023-08-19T20:34:57.839Z"
   },
   {
    "duration": 55,
    "start_time": "2023-08-19T20:34:57.850Z"
   },
   {
    "duration": 22,
    "start_time": "2023-08-19T20:34:57.907Z"
   },
   {
    "duration": 49,
    "start_time": "2023-08-19T20:34:57.931Z"
   },
   {
    "duration": 39,
    "start_time": "2023-08-19T20:34:57.983Z"
   },
   {
    "duration": 121,
    "start_time": "2023-08-19T20:34:58.024Z"
   },
   {
    "duration": 1684,
    "start_time": "2023-08-19T20:34:58.147Z"
   },
   {
    "duration": 294,
    "start_time": "2023-08-19T20:34:59.833Z"
   },
   {
    "duration": 6,
    "start_time": "2023-08-19T20:35:00.129Z"
   },
   {
    "duration": 321,
    "start_time": "2023-08-19T20:35:00.139Z"
   },
   {
    "duration": 13,
    "start_time": "2023-08-19T20:35:00.466Z"
   },
   {
    "duration": 38,
    "start_time": "2023-08-19T20:35:00.482Z"
   },
   {
    "duration": 48,
    "start_time": "2023-08-19T20:35:00.522Z"
   },
   {
    "duration": 43,
    "start_time": "2023-08-19T20:35:00.573Z"
   },
   {
    "duration": 44,
    "start_time": "2023-08-19T20:35:00.618Z"
   },
   {
    "duration": 68,
    "start_time": "2023-08-19T20:35:00.664Z"
   },
   {
    "duration": 138,
    "start_time": "2023-08-19T20:35:00.735Z"
   },
   {
    "duration": 74,
    "start_time": "2023-08-19T20:35:00.875Z"
   },
   {
    "duration": 70,
    "start_time": "2023-08-19T20:35:00.950Z"
   },
   {
    "duration": 39,
    "start_time": "2023-08-19T20:35:01.022Z"
   },
   {
    "duration": 37,
    "start_time": "2023-08-19T20:35:01.063Z"
   },
   {
    "duration": 30,
    "start_time": "2023-08-19T20:35:01.102Z"
   },
   {
    "duration": 64,
    "start_time": "2023-08-19T20:35:01.134Z"
   },
   {
    "duration": 3796,
    "start_time": "2023-08-19T20:35:01.200Z"
   },
   {
    "duration": 1703,
    "start_time": "2023-08-19T21:08:45.355Z"
   },
   {
    "duration": 22,
    "start_time": "2023-08-19T21:08:47.060Z"
   },
   {
    "duration": 3127,
    "start_time": "2023-08-19T21:08:47.088Z"
   },
   {
    "duration": 142,
    "start_time": "2023-08-19T21:08:50.217Z"
   },
   {
    "duration": 1006,
    "start_time": "2023-08-19T21:08:50.373Z"
   },
   {
    "duration": 378,
    "start_time": "2023-08-19T21:08:51.381Z"
   },
   {
    "duration": 23,
    "start_time": "2023-08-19T21:08:51.760Z"
   },
   {
    "duration": 24,
    "start_time": "2023-08-19T21:08:51.785Z"
   },
   {
    "duration": 19,
    "start_time": "2023-08-19T21:08:51.810Z"
   },
   {
    "duration": 674,
    "start_time": "2023-08-19T21:08:51.830Z"
   },
   {
    "duration": 15794,
    "start_time": "2023-08-19T21:08:52.506Z"
   },
   {
    "duration": 1079,
    "start_time": "2023-08-19T21:09:08.302Z"
   },
   {
    "duration": 98,
    "start_time": "2023-08-19T21:09:09.383Z"
   },
   {
    "duration": 295,
    "start_time": "2023-08-19T21:09:09.484Z"
   },
   {
    "duration": 67,
    "start_time": "2023-08-19T21:09:09.782Z"
   },
   {
    "duration": 37,
    "start_time": "2023-08-19T21:09:09.851Z"
   },
   {
    "duration": 271,
    "start_time": "2023-08-19T21:09:09.890Z"
   },
   {
    "duration": 485,
    "start_time": "2023-08-19T21:09:10.162Z"
   },
   {
    "duration": 9,
    "start_time": "2023-08-19T21:09:10.648Z"
   },
   {
    "duration": 39,
    "start_time": "2023-08-19T21:09:10.673Z"
   },
   {
    "duration": 19,
    "start_time": "2023-08-19T21:09:10.714Z"
   },
   {
    "duration": 37,
    "start_time": "2023-08-19T21:09:10.735Z"
   },
   {
    "duration": 15,
    "start_time": "2023-08-19T21:09:10.774Z"
   },
   {
    "duration": 114,
    "start_time": "2023-08-19T21:09:10.791Z"
   },
   {
    "duration": 1535,
    "start_time": "2023-08-19T21:09:10.907Z"
   },
   {
    "duration": 280,
    "start_time": "2023-08-19T21:09:12.444Z"
   },
   {
    "duration": 5,
    "start_time": "2023-08-19T21:09:12.726Z"
   },
   {
    "duration": 297,
    "start_time": "2023-08-19T21:09:12.733Z"
   },
   {
    "duration": 3,
    "start_time": "2023-08-19T21:09:13.032Z"
   },
   {
    "duration": 9,
    "start_time": "2023-08-19T21:09:13.037Z"
   },
   {
    "duration": 33,
    "start_time": "2023-08-19T21:09:13.048Z"
   },
   {
    "duration": 7,
    "start_time": "2023-08-19T21:09:13.083Z"
   },
   {
    "duration": 9,
    "start_time": "2023-08-19T21:09:13.092Z"
   },
   {
    "duration": 5,
    "start_time": "2023-08-19T21:09:13.103Z"
   },
   {
    "duration": 6,
    "start_time": "2023-08-19T21:09:13.110Z"
   },
   {
    "duration": 12,
    "start_time": "2023-08-19T21:09:13.119Z"
   },
   {
    "duration": 7,
    "start_time": "2023-08-19T21:09:13.133Z"
   },
   {
    "duration": 34,
    "start_time": "2023-08-19T21:09:13.141Z"
   },
   {
    "duration": 4,
    "start_time": "2023-08-19T21:09:13.180Z"
   },
   {
    "duration": 10,
    "start_time": "2023-08-19T21:09:13.185Z"
   },
   {
    "duration": 7,
    "start_time": "2023-08-19T21:09:13.199Z"
   },
   {
    "duration": 3441,
    "start_time": "2023-08-19T21:09:13.208Z"
   },
   {
    "duration": 4,
    "start_time": "2023-08-19T21:09:16.650Z"
   },
   {
    "duration": 19,
    "start_time": "2023-08-19T21:09:16.656Z"
   },
   {
    "duration": 129,
    "start_time": "2023-08-19T21:09:16.681Z"
   },
   {
    "duration": 0,
    "start_time": "2023-08-19T21:09:16.812Z"
   },
   {
    "duration": 0,
    "start_time": "2023-08-19T21:09:16.813Z"
   },
   {
    "duration": 0,
    "start_time": "2023-08-19T21:09:16.814Z"
   },
   {
    "duration": 0,
    "start_time": "2023-08-19T21:09:16.815Z"
   },
   {
    "duration": 0,
    "start_time": "2023-08-19T21:09:16.816Z"
   },
   {
    "duration": 0,
    "start_time": "2023-08-19T21:09:16.817Z"
   },
   {
    "duration": 0,
    "start_time": "2023-08-19T21:09:16.819Z"
   },
   {
    "duration": 0,
    "start_time": "2023-08-19T21:09:16.820Z"
   },
   {
    "duration": 11,
    "start_time": "2023-08-19T21:10:04.633Z"
   },
   {
    "duration": 4,
    "start_time": "2023-08-19T21:10:05.055Z"
   },
   {
    "duration": 6,
    "start_time": "2023-08-19T21:10:05.676Z"
   },
   {
    "duration": 5,
    "start_time": "2023-08-19T21:10:06.233Z"
   },
   {
    "duration": 5,
    "start_time": "2023-08-19T21:10:06.890Z"
   },
   {
    "duration": 15,
    "start_time": "2023-08-19T21:10:07.754Z"
   },
   {
    "duration": 15,
    "start_time": "2023-08-19T21:10:08.958Z"
   },
   {
    "duration": 263539,
    "start_time": "2023-08-19T21:10:21.757Z"
   },
   {
    "duration": 4,
    "start_time": "2023-08-19T21:14:45.298Z"
   },
   {
    "duration": 68,
    "start_time": "2023-08-19T21:14:45.303Z"
   },
   {
    "duration": 16,
    "start_time": "2023-08-19T21:14:45.375Z"
   },
   {
    "duration": 17,
    "start_time": "2023-08-19T21:14:45.393Z"
   },
   {
    "duration": 16,
    "start_time": "2023-08-19T21:14:45.412Z"
   },
   {
    "duration": 0,
    "start_time": "2023-08-19T21:14:45.431Z"
   },
   {
    "duration": 0,
    "start_time": "2023-08-19T21:14:45.466Z"
   },
   {
    "duration": 1,
    "start_time": "2023-08-19T21:14:45.467Z"
   },
   {
    "duration": 186,
    "start_time": "2023-08-19T21:20:22.035Z"
   },
   {
    "duration": 245185,
    "start_time": "2023-08-19T21:20:32.180Z"
   },
   {
    "duration": 1439622,
    "start_time": "2023-08-19T21:24:37.367Z"
   },
   {
    "duration": 83,
    "start_time": "2023-08-19T21:48:36.991Z"
   },
   {
    "duration": 545,
    "start_time": "2023-08-19T21:48:37.077Z"
   },
   {
    "duration": 3108,
    "start_time": "2023-08-20T16:02:38.313Z"
   },
   {
    "duration": 11,
    "start_time": "2023-08-20T16:02:41.423Z"
   },
   {
    "duration": 1136,
    "start_time": "2023-08-20T16:02:41.436Z"
   },
   {
    "duration": 147,
    "start_time": "2023-08-20T16:02:42.573Z"
   },
   {
    "duration": 894,
    "start_time": "2023-08-20T16:02:42.722Z"
   },
   {
    "duration": 356,
    "start_time": "2023-08-20T16:02:43.618Z"
   },
   {
    "duration": 15,
    "start_time": "2023-08-20T16:02:43.976Z"
   },
   {
    "duration": 35,
    "start_time": "2023-08-20T16:02:43.993Z"
   },
   {
    "duration": 28,
    "start_time": "2023-08-20T16:02:44.030Z"
   },
   {
    "duration": 577,
    "start_time": "2023-08-20T16:02:44.060Z"
   },
   {
    "duration": 14212,
    "start_time": "2023-08-20T16:02:44.638Z"
   },
   {
    "duration": 975,
    "start_time": "2023-08-20T16:02:58.851Z"
   },
   {
    "duration": 78,
    "start_time": "2023-08-20T16:02:59.828Z"
   },
   {
    "duration": 280,
    "start_time": "2023-08-20T16:02:59.909Z"
   },
   {
    "duration": 71,
    "start_time": "2023-08-20T16:03:00.191Z"
   },
   {
    "duration": 30,
    "start_time": "2023-08-20T16:03:00.263Z"
   },
   {
    "duration": 241,
    "start_time": "2023-08-20T16:03:00.295Z"
   },
   {
    "duration": 424,
    "start_time": "2023-08-20T16:03:00.538Z"
   },
   {
    "duration": 9,
    "start_time": "2023-08-20T16:03:00.964Z"
   },
   {
    "duration": 129,
    "start_time": "2023-08-20T16:03:00.975Z"
   },
   {
    "duration": 24,
    "start_time": "2023-08-20T16:03:01.106Z"
   },
   {
    "duration": 77,
    "start_time": "2023-08-20T16:03:01.131Z"
   },
   {
    "duration": 43,
    "start_time": "2023-08-20T16:03:01.209Z"
   },
   {
    "duration": 235,
    "start_time": "2023-08-20T16:03:01.254Z"
   },
   {
    "duration": 1566,
    "start_time": "2023-08-20T16:03:01.491Z"
   },
   {
    "duration": 239,
    "start_time": "2023-08-20T16:03:03.059Z"
   },
   {
    "duration": 4,
    "start_time": "2023-08-20T16:03:03.300Z"
   },
   {
    "duration": 252,
    "start_time": "2023-08-20T16:03:03.306Z"
   },
   {
    "duration": 3,
    "start_time": "2023-08-20T16:03:03.560Z"
   },
   {
    "duration": 5,
    "start_time": "2023-08-20T16:03:03.565Z"
   },
   {
    "duration": 6,
    "start_time": "2023-08-20T16:03:03.572Z"
   },
   {
    "duration": 24,
    "start_time": "2023-08-20T16:03:03.579Z"
   },
   {
    "duration": 18,
    "start_time": "2023-08-20T16:03:03.604Z"
   },
   {
    "duration": 17,
    "start_time": "2023-08-20T16:03:03.624Z"
   },
   {
    "duration": 7,
    "start_time": "2023-08-20T16:03:03.642Z"
   },
   {
    "duration": 16,
    "start_time": "2023-08-20T16:03:03.650Z"
   },
   {
    "duration": 13,
    "start_time": "2023-08-20T16:03:03.668Z"
   },
   {
    "duration": 10,
    "start_time": "2023-08-20T16:03:03.683Z"
   },
   {
    "duration": 12,
    "start_time": "2023-08-20T16:03:03.695Z"
   },
   {
    "duration": 8,
    "start_time": "2023-08-20T16:03:03.709Z"
   },
   {
    "duration": 5,
    "start_time": "2023-08-20T16:03:03.721Z"
   },
   {
    "duration": 2879,
    "start_time": "2023-08-20T16:03:03.728Z"
   },
   {
    "duration": 4,
    "start_time": "2023-08-20T16:03:06.608Z"
   },
   {
    "duration": 11,
    "start_time": "2023-08-20T16:03:06.613Z"
   },
   {
    "duration": 195536,
    "start_time": "2023-08-20T16:03:06.625Z"
   },
   {
    "duration": 4,
    "start_time": "2023-08-20T16:06:22.162Z"
   },
   {
    "duration": 16,
    "start_time": "2023-08-20T16:06:22.168Z"
   },
   {
    "duration": 17,
    "start_time": "2023-08-20T16:06:22.185Z"
   },
   {
    "duration": 20,
    "start_time": "2023-08-20T16:06:22.203Z"
   },
   {
    "duration": 47036,
    "start_time": "2023-08-20T16:06:22.224Z"
   },
   {
    "duration": 0,
    "start_time": "2023-08-20T16:07:09.261Z"
   },
   {
    "duration": 0,
    "start_time": "2023-08-20T16:07:09.263Z"
   },
   {
    "duration": 0,
    "start_time": "2023-08-20T16:07:09.264Z"
   },
   {
    "duration": 25399,
    "start_time": "2023-08-20T17:11:25.383Z"
   },
   {
    "duration": 199,
    "start_time": "2023-08-20T17:12:00.583Z"
   },
   {
    "duration": 14799,
    "start_time": "2023-08-20T17:12:01.383Z"
   },
   {
    "duration": 3296,
    "start_time": "2023-08-20T17:12:16.186Z"
   },
   {
    "duration": 14798,
    "start_time": "2023-08-20T17:12:19.488Z"
   },
   {
    "duration": 15012,
    "start_time": "2023-08-20T17:20:17.381Z"
   },
   {
    "duration": 405,
    "start_time": "2023-08-20T17:20:32.480Z"
   },
   {
    "duration": 8894,
    "start_time": "2023-08-20T17:20:33.188Z"
   },
   {
    "duration": 3805,
    "start_time": "2023-08-20T17:20:42.083Z"
   },
   {
    "duration": 10790,
    "start_time": "2023-08-20T17:20:45.901Z"
   },
   {
    "duration": 14904,
    "start_time": "2023-08-20T17:21:22.182Z"
   },
   {
    "duration": 12511,
    "start_time": "2023-08-20T17:21:50.782Z"
   },
   {
    "duration": 8303,
    "start_time": "2023-08-20T17:22:14.282Z"
   },
   {
    "duration": 7106,
    "start_time": "2023-08-20T17:22:40.685Z"
   },
   {
    "duration": 9209,
    "start_time": "2023-08-20T17:23:10.583Z"
   },
   {
    "duration": 7505,
    "start_time": "2023-08-20T17:23:31.281Z"
   },
   {
    "duration": 8200,
    "start_time": "2023-08-20T17:23:53.299Z"
   },
   {
    "duration": 15512,
    "start_time": "2023-08-20T17:24:46.183Z"
   },
   {
    "duration": 9407,
    "start_time": "2023-08-20T17:42:34.883Z"
   },
   {
    "duration": 197,
    "start_time": "2023-08-20T17:42:44.293Z"
   },
   {
    "duration": 109,
    "start_time": "2023-08-20T17:42:44.492Z"
   },
   {
    "duration": 184,
    "start_time": "2023-08-20T17:42:44.605Z"
   },
   {
    "duration": 6611,
    "start_time": "2023-08-20T17:42:44.792Z"
   },
   {
    "duration": 205120,
    "start_time": "2023-08-20T17:42:51.481Z"
   },
   {
    "duration": 14684,
    "start_time": "2023-08-20T17:46:16.603Z"
   },
   {
    "duration": 808,
    "start_time": "2023-08-20T17:46:31.295Z"
   },
   {
    "duration": 3623,
    "start_time": "2023-08-20T17:46:32.184Z"
   },
   {
    "duration": 1416,
    "start_time": "2023-08-20T17:46:35.883Z"
   },
   {
    "duration": 590,
    "start_time": "2023-08-20T17:46:37.306Z"
   },
   {
    "duration": 4285,
    "start_time": "2023-08-20T17:46:37.899Z"
   },
   {
    "duration": 15,
    "start_time": "2023-08-20T17:46:42.282Z"
   },
   {
    "duration": 3887,
    "start_time": "2023-08-20T17:46:42.302Z"
   },
   {
    "duration": 115,
    "start_time": "2023-08-20T17:46:46.196Z"
   },
   {
    "duration": 1101,
    "start_time": "2023-08-20T17:46:46.381Z"
   },
   {
    "duration": 116,
    "start_time": "2023-08-20T17:48:18.284Z"
   },
   {
    "duration": 19,
    "start_time": "2023-08-20T17:48:30.082Z"
   },
   {
    "duration": 9,
    "start_time": "2023-08-20T17:48:33.982Z"
   },
   {
    "duration": 19,
    "start_time": "2023-08-20T17:48:49.682Z"
   },
   {
    "duration": 85,
    "start_time": "2023-08-20T17:48:56.300Z"
   },
   {
    "duration": 604,
    "start_time": "2023-08-20T17:49:05.087Z"
   },
   {
    "duration": 13,
    "start_time": "2023-08-20T18:06:31.782Z"
   },
   {
    "duration": 5199,
    "start_time": "2023-08-20T18:26:24.485Z"
   },
   {
    "duration": 2111,
    "start_time": "2023-08-20T18:26:57.882Z"
   },
   {
    "duration": 823,
    "start_time": "2023-08-20T18:27:18.982Z"
   },
   {
    "duration": 2800,
    "start_time": "2023-08-20T18:28:18.784Z"
   },
   {
    "duration": 1904,
    "start_time": "2023-08-20T18:34:16.882Z"
   },
   {
    "duration": 4902,
    "start_time": "2023-08-20T18:34:42.682Z"
   },
   {
    "duration": 1703,
    "start_time": "2023-08-20T18:35:49.282Z"
   },
   {
    "duration": 1397,
    "start_time": "2023-08-20T18:36:51.185Z"
   },
   {
    "duration": 1207,
    "start_time": "2023-08-20T18:37:03.782Z"
   },
   {
    "duration": 5104,
    "start_time": "2023-08-20T18:39:55.183Z"
   },
   {
    "duration": 8601,
    "start_time": "2023-08-20T18:40:11.383Z"
   },
   {
    "duration": 7801,
    "start_time": "2023-08-20T18:40:33.782Z"
   },
   {
    "duration": 2400,
    "start_time": "2023-08-20T18:44:11.083Z"
   },
   {
    "duration": 3004,
    "start_time": "2023-08-20T18:47:03.282Z"
   },
   {
    "duration": 131998,
    "start_time": "2023-08-20T18:48:21.382Z"
   },
   {
    "duration": 22898,
    "start_time": "2023-08-20T18:57:02.884Z"
   },
   {
    "duration": 397,
    "start_time": "2023-08-20T18:57:25.785Z"
   },
   {
    "duration": 14796,
    "start_time": "2023-08-20T18:57:26.186Z"
   },
   {
    "duration": 4297,
    "start_time": "2023-08-20T18:57:40.986Z"
   },
   {
    "duration": 20401,
    "start_time": "2023-08-20T18:57:45.287Z"
   },
   {
    "duration": 12991,
    "start_time": "2023-08-20T18:58:05.691Z"
   },
   {
    "duration": 392,
    "start_time": "2023-08-20T18:58:18.689Z"
   },
   {
    "duration": 601,
    "start_time": "2023-08-20T18:58:19.086Z"
   },
   {
    "duration": 508,
    "start_time": "2023-08-20T18:58:19.780Z"
   },
   {
    "duration": 10303,
    "start_time": "2023-08-20T18:58:20.386Z"
   },
   {
    "duration": 29495,
    "start_time": "2023-08-20T18:58:30.789Z"
   },
   {
    "duration": 0,
    "start_time": "2023-08-20T18:59:00.288Z"
   },
   {
    "duration": 0,
    "start_time": "2023-08-20T18:59:00.290Z"
   },
   {
    "duration": 0,
    "start_time": "2023-08-20T18:59:00.291Z"
   },
   {
    "duration": 0,
    "start_time": "2023-08-20T18:59:00.383Z"
   },
   {
    "duration": 0,
    "start_time": "2023-08-20T18:59:00.384Z"
   },
   {
    "duration": 0,
    "start_time": "2023-08-20T18:59:00.386Z"
   },
   {
    "duration": 0,
    "start_time": "2023-08-20T18:59:00.388Z"
   },
   {
    "duration": 0,
    "start_time": "2023-08-20T18:59:00.389Z"
   },
   {
    "duration": 0,
    "start_time": "2023-08-20T18:59:00.391Z"
   },
   {
    "duration": 0,
    "start_time": "2023-08-20T18:59:00.482Z"
   },
   {
    "duration": 0,
    "start_time": "2023-08-20T18:59:00.484Z"
   },
   {
    "duration": 20097,
    "start_time": "2023-08-20T18:59:23.689Z"
   },
   {
    "duration": 302,
    "start_time": "2023-08-20T18:59:43.884Z"
   },
   {
    "duration": 24298,
    "start_time": "2023-08-20T18:59:44.284Z"
   },
   {
    "duration": 5394,
    "start_time": "2023-08-20T19:00:08.588Z"
   },
   {
    "duration": 19608,
    "start_time": "2023-08-20T19:00:14.082Z"
   },
   {
    "duration": 8797,
    "start_time": "2023-08-20T19:00:33.791Z"
   },
   {
    "duration": 299,
    "start_time": "2023-08-20T19:00:42.684Z"
   },
   {
    "duration": 502,
    "start_time": "2023-08-20T19:00:42.990Z"
   },
   {
    "duration": 306,
    "start_time": "2023-08-20T19:00:43.584Z"
   },
   {
    "duration": 12002,
    "start_time": "2023-08-20T19:00:43.983Z"
   },
   {
    "duration": 295408,
    "start_time": "2023-08-20T19:00:56.081Z"
   },
   {
    "duration": 16106,
    "start_time": "2023-08-20T19:05:51.582Z"
   },
   {
    "duration": 1398,
    "start_time": "2023-08-20T19:06:07.690Z"
   },
   {
    "duration": 5890,
    "start_time": "2023-08-20T19:06:09.091Z"
   },
   {
    "duration": 1097,
    "start_time": "2023-08-20T19:06:14.984Z"
   },
   {
    "duration": 396,
    "start_time": "2023-08-20T19:06:16.088Z"
   },
   {
    "duration": 3806,
    "start_time": "2023-08-20T19:06:16.584Z"
   },
   {
    "duration": 100,
    "start_time": "2023-08-20T19:06:20.482Z"
   },
   {
    "duration": 6302,
    "start_time": "2023-08-20T19:06:20.584Z"
   },
   {
    "duration": 101,
    "start_time": "2023-08-20T19:06:26.890Z"
   },
   {
    "duration": 706,
    "start_time": "2023-08-20T19:06:27.083Z"
   },
   {
    "duration": 4301,
    "start_time": "2023-08-20T19:06:27.881Z"
   },
   {
    "duration": 135106,
    "start_time": "2023-08-20T19:07:15.784Z"
   },
   {
    "duration": 403,
    "start_time": "2023-08-20T19:09:30.983Z"
   },
   {
    "duration": 293,
    "start_time": "2023-08-20T19:09:31.391Z"
   },
   {
    "duration": 1998,
    "start_time": "2023-08-20T19:09:31.686Z"
   },
   {
    "duration": 25604,
    "start_time": "2023-08-20T19:22:37.983Z"
   },
   {
    "duration": 192,
    "start_time": "2023-08-20T19:23:03.590Z"
   },
   {
    "duration": 14996,
    "start_time": "2023-08-20T19:23:03.785Z"
   },
   {
    "duration": 2998,
    "start_time": "2023-08-20T19:23:18.785Z"
   },
   {
    "duration": 19101,
    "start_time": "2023-08-20T19:23:21.788Z"
   },
   {
    "duration": 8590,
    "start_time": "2023-08-20T19:23:40.892Z"
   },
   {
    "duration": 302,
    "start_time": "2023-08-20T19:23:49.486Z"
   },
   {
    "duration": 504,
    "start_time": "2023-08-20T19:23:49.881Z"
   },
   {
    "duration": 395,
    "start_time": "2023-08-20T19:23:50.388Z"
   },
   {
    "duration": 10103,
    "start_time": "2023-08-20T19:23:50.785Z"
   },
   {
    "duration": 283498,
    "start_time": "2023-08-20T19:24:00.890Z"
   },
   {
    "duration": 29192,
    "start_time": "2023-08-20T19:28:44.392Z"
   },
   {
    "duration": 1303,
    "start_time": "2023-08-20T19:29:13.587Z"
   },
   {
    "duration": 8405,
    "start_time": "2023-08-20T19:29:14.983Z"
   },
   {
    "duration": 1790,
    "start_time": "2023-08-20T19:29:23.391Z"
   },
   {
    "duration": 1306,
    "start_time": "2023-08-20T19:29:25.184Z"
   },
   {
    "duration": 398,
    "start_time": "2023-08-20T19:29:26.583Z"
   },
   {
    "duration": 701,
    "start_time": "2023-08-20T19:29:26.984Z"
   },
   {
    "duration": 120801,
    "start_time": "2023-08-20T19:29:27.689Z"
   },
   {
    "duration": 392,
    "start_time": "2023-08-20T19:31:28.492Z"
   },
   {
    "duration": 95,
    "start_time": "2023-08-20T19:31:28.888Z"
   },
   {
    "duration": 3301,
    "start_time": "2023-08-20T19:31:28.987Z"
   },
   {
    "duration": 17798,
    "start_time": "2023-08-20T19:31:52.082Z"
   },
   {
    "duration": 107,
    "start_time": "2023-08-20T19:32:09.884Z"
   },
   {
    "duration": 16699,
    "start_time": "2023-08-20T19:32:10.083Z"
   },
   {
    "duration": 2498,
    "start_time": "2023-08-20T19:32:26.785Z"
   },
   {
    "duration": 14498,
    "start_time": "2023-08-20T19:32:29.287Z"
   },
   {
    "duration": 9502,
    "start_time": "2023-08-20T19:32:43.787Z"
   },
   {
    "duration": 194,
    "start_time": "2023-08-20T19:32:53.389Z"
   },
   {
    "duration": 397,
    "start_time": "2023-08-20T19:32:53.585Z"
   },
   {
    "duration": 303,
    "start_time": "2023-08-20T19:32:53.984Z"
   },
   {
    "duration": 17904,
    "start_time": "2023-08-20T19:32:54.384Z"
   },
   {
    "duration": 298809,
    "start_time": "2023-08-20T19:33:12.383Z"
   },
   {
    "duration": 23901,
    "start_time": "2023-08-20T19:38:11.290Z"
   },
   {
    "duration": 1609,
    "start_time": "2023-08-20T19:38:35.280Z"
   },
   {
    "duration": 8689,
    "start_time": "2023-08-20T19:38:36.892Z"
   },
   {
    "duration": 1407,
    "start_time": "2023-08-20T19:38:45.584Z"
   },
   {
    "duration": 1091,
    "start_time": "2023-08-20T19:38:46.993Z"
   },
   {
    "duration": 300,
    "start_time": "2023-08-20T19:38:48.092Z"
   },
   {
    "duration": 486,
    "start_time": "2023-08-20T19:38:48.396Z"
   },
   {
    "duration": 105300,
    "start_time": "2023-08-20T19:38:48.891Z"
   },
   {
    "duration": 596,
    "start_time": "2023-08-20T19:40:34.287Z"
   },
   {
    "duration": 5,
    "start_time": "2023-08-20T19:40:34.886Z"
   },
   {
    "duration": 1899,
    "start_time": "2023-08-20T19:40:34.983Z"
   },
   {
    "duration": 7298,
    "start_time": "2023-08-20T19:40:36.885Z"
   },
   {
    "duration": 3905,
    "start_time": "2023-08-20T19:40:44.185Z"
   },
   {
    "duration": 90,
    "start_time": "2023-08-20T19:40:48.094Z"
   },
   {
    "duration": 804,
    "start_time": "2023-08-20T19:40:48.187Z"
   },
   {
    "duration": 199,
    "start_time": "2023-08-20T19:52:42.682Z"
   },
   {
    "duration": 1971,
    "start_time": "2023-08-21T04:30:12.675Z"
   },
   {
    "duration": 17,
    "start_time": "2023-08-21T04:30:15.415Z"
   },
   {
    "duration": 2835,
    "start_time": "2023-08-21T04:30:16.930Z"
   },
   {
    "duration": 139,
    "start_time": "2023-08-21T04:30:19.767Z"
   },
   {
    "duration": 869,
    "start_time": "2023-08-21T04:30:20.887Z"
   },
   {
    "duration": 339,
    "start_time": "2023-08-21T04:30:24.466Z"
   },
   {
    "duration": 12,
    "start_time": "2023-08-21T04:30:25.626Z"
   },
   {
    "duration": 21,
    "start_time": "2023-08-21T04:30:26.912Z"
   },
   {
    "duration": 17,
    "start_time": "2023-08-21T04:30:27.779Z"
   },
   {
    "duration": 632,
    "start_time": "2023-08-21T04:30:28.531Z"
   },
   {
    "duration": 14003,
    "start_time": "2023-08-21T04:30:29.329Z"
   },
   {
    "duration": 1041,
    "start_time": "2023-08-21T04:30:43.334Z"
   },
   {
    "duration": 83,
    "start_time": "2023-08-21T04:30:44.377Z"
   },
   {
    "duration": 248,
    "start_time": "2023-08-21T04:30:44.462Z"
   },
   {
    "duration": 76,
    "start_time": "2023-08-21T04:30:44.712Z"
   },
   {
    "duration": 81,
    "start_time": "2023-08-21T04:30:44.790Z"
   },
   {
    "duration": 27,
    "start_time": "2023-08-21T04:30:44.872Z"
   },
   {
    "duration": 29,
    "start_time": "2023-08-21T04:30:50.923Z"
   },
   {
    "duration": 5303,
    "start_time": "2023-08-21T04:31:03.292Z"
   },
   {
    "duration": 20,
    "start_time": "2023-08-21T04:31:10.156Z"
   },
   {
    "duration": 4,
    "start_time": "2023-08-21T04:31:10.825Z"
   },
   {
    "duration": 4,
    "start_time": "2023-08-21T04:31:14.913Z"
   },
   {
    "duration": 78,
    "start_time": "2023-08-21T04:31:17.759Z"
   },
   {
    "duration": 507,
    "start_time": "2023-08-21T04:31:29.627Z"
   },
   {
    "duration": 230,
    "start_time": "2023-08-21T04:31:32.367Z"
   },
   {
    "duration": 4,
    "start_time": "2023-08-21T04:31:35.907Z"
   },
   {
    "duration": 34,
    "start_time": "2023-08-21T04:31:41.113Z"
   },
   {
    "duration": 129,
    "start_time": "2023-08-21T04:37:26.659Z"
   },
   {
    "duration": 22,
    "start_time": "2023-08-21T04:38:50.066Z"
   },
   {
    "duration": 23,
    "start_time": "2023-08-21T04:40:00.750Z"
   },
   {
    "duration": 13,
    "start_time": "2023-08-21T04:41:07.506Z"
   },
   {
    "duration": 24,
    "start_time": "2023-08-21T05:17:06.030Z"
   },
   {
    "duration": 21,
    "start_time": "2023-08-21T05:18:06.506Z"
   },
   {
    "duration": 20,
    "start_time": "2023-08-21T05:21:59.489Z"
   },
   {
    "duration": 493,
    "start_time": "2023-08-21T05:22:32.111Z"
   },
   {
    "duration": 14,
    "start_time": "2023-08-21T05:22:44.368Z"
   },
   {
    "duration": 1203,
    "start_time": "2023-08-21T05:23:15.475Z"
   },
   {
    "duration": 20,
    "start_time": "2023-08-21T05:27:34.646Z"
   },
   {
    "duration": 22,
    "start_time": "2023-08-21T05:28:01.753Z"
   },
   {
    "duration": 1156,
    "start_time": "2023-08-21T05:30:28.597Z"
   },
   {
    "duration": 477,
    "start_time": "2023-08-21T05:31:03.632Z"
   },
   {
    "duration": 21,
    "start_time": "2023-08-21T09:21:23.958Z"
   },
   {
    "duration": 15,
    "start_time": "2023-08-21T09:28:22.732Z"
   },
   {
    "duration": 12,
    "start_time": "2023-08-21T09:28:29.635Z"
   },
   {
    "duration": 893,
    "start_time": "2023-08-21T09:28:30.957Z"
   },
   {
    "duration": 125,
    "start_time": "2023-08-21T09:28:32.715Z"
   },
   {
    "duration": 1060,
    "start_time": "2023-08-21T09:28:33.929Z"
   },
   {
    "duration": 355,
    "start_time": "2023-08-21T09:28:36.343Z"
   },
   {
    "duration": 13,
    "start_time": "2023-08-21T09:28:37.394Z"
   },
   {
    "duration": 29,
    "start_time": "2023-08-21T09:28:38.040Z"
   },
   {
    "duration": 18,
    "start_time": "2023-08-21T09:28:38.603Z"
   },
   {
    "duration": 658,
    "start_time": "2023-08-21T09:28:39.219Z"
   },
   {
    "duration": 15051,
    "start_time": "2023-08-21T09:28:39.903Z"
   },
   {
    "duration": 1017,
    "start_time": "2023-08-21T09:28:54.958Z"
   },
   {
    "duration": 95,
    "start_time": "2023-08-21T09:28:55.977Z"
   },
   {
    "duration": 282,
    "start_time": "2023-08-21T09:28:56.075Z"
   },
   {
    "duration": 68,
    "start_time": "2023-08-21T09:28:56.360Z"
   },
   {
    "duration": 94,
    "start_time": "2023-08-21T09:28:56.430Z"
   },
   {
    "duration": 40,
    "start_time": "2023-08-21T09:28:56.526Z"
   },
   {
    "duration": 39,
    "start_time": "2023-08-21T09:28:59.870Z"
   },
   {
    "duration": 6500,
    "start_time": "2023-08-21T09:29:03.876Z"
   },
   {
    "duration": 26,
    "start_time": "2023-08-21T09:29:10.379Z"
   },
   {
    "duration": 6,
    "start_time": "2023-08-21T09:29:10.407Z"
   },
   {
    "duration": 128,
    "start_time": "2023-08-21T09:29:10.416Z"
   },
   {
    "duration": 561,
    "start_time": "2023-08-21T09:29:14.335Z"
   },
   {
    "duration": 218,
    "start_time": "2023-08-21T09:29:15.596Z"
   },
   {
    "duration": 4,
    "start_time": "2023-08-21T09:29:17.158Z"
   },
   {
    "duration": 29,
    "start_time": "2023-08-21T09:29:22.179Z"
   },
   {
    "duration": 4,
    "start_time": "2023-08-21T09:29:45.389Z"
   },
   {
    "duration": 3119,
    "start_time": "2023-08-21T09:42:26.782Z"
   },
   {
    "duration": 120,
    "start_time": "2023-08-21T09:42:57.708Z"
   },
   {
    "duration": 3567,
    "start_time": "2023-08-21T09:43:24.709Z"
   },
   {
    "duration": 3168,
    "start_time": "2023-08-21T09:45:00.113Z"
   },
   {
    "duration": 1265,
    "start_time": "2023-08-21T09:45:59.421Z"
   },
   {
    "duration": 1102,
    "start_time": "2023-08-21T09:46:55.771Z"
   },
   {
    "duration": 2600,
    "start_time": "2023-08-21T09:49:00.044Z"
   },
   {
    "duration": 40,
    "start_time": "2023-08-21T09:51:02.447Z"
   },
   {
    "duration": 3591,
    "start_time": "2023-08-21T09:51:23.205Z"
   },
   {
    "duration": 13,
    "start_time": "2023-08-21T09:51:26.799Z"
   },
   {
    "duration": 909,
    "start_time": "2023-08-21T09:51:26.814Z"
   },
   {
    "duration": 138,
    "start_time": "2023-08-21T09:51:27.725Z"
   },
   {
    "duration": 936,
    "start_time": "2023-08-21T09:51:27.865Z"
   },
   {
    "duration": 347,
    "start_time": "2023-08-21T09:51:28.802Z"
   },
   {
    "duration": 16,
    "start_time": "2023-08-21T09:51:29.151Z"
   },
   {
    "duration": 27,
    "start_time": "2023-08-21T09:51:29.169Z"
   },
   {
    "duration": 19,
    "start_time": "2023-08-21T09:51:29.198Z"
   },
   {
    "duration": 614,
    "start_time": "2023-08-21T09:51:29.219Z"
   },
   {
    "duration": 13866,
    "start_time": "2023-08-21T09:51:29.835Z"
   },
   {
    "duration": 1003,
    "start_time": "2023-08-21T09:51:43.703Z"
   },
   {
    "duration": 80,
    "start_time": "2023-08-21T09:51:44.708Z"
   },
   {
    "duration": 253,
    "start_time": "2023-08-21T09:51:44.791Z"
   },
   {
    "duration": 63,
    "start_time": "2023-08-21T09:51:45.046Z"
   },
   {
    "duration": 81,
    "start_time": "2023-08-21T09:51:45.111Z"
   },
   {
    "duration": 32,
    "start_time": "2023-08-21T09:51:45.194Z"
   },
   {
    "duration": 44,
    "start_time": "2023-08-21T09:51:45.228Z"
   },
   {
    "duration": 5376,
    "start_time": "2023-08-21T09:51:45.274Z"
   },
   {
    "duration": 24,
    "start_time": "2023-08-21T09:51:50.652Z"
   },
   {
    "duration": 31,
    "start_time": "2023-08-21T09:51:50.678Z"
   },
   {
    "duration": 92,
    "start_time": "2023-08-21T09:51:50.711Z"
   },
   {
    "duration": 498,
    "start_time": "2023-08-21T09:51:50.805Z"
   },
   {
    "duration": 217,
    "start_time": "2023-08-21T09:51:51.305Z"
   },
   {
    "duration": 4,
    "start_time": "2023-08-21T09:51:51.524Z"
   },
   {
    "duration": 72,
    "start_time": "2023-08-21T09:51:51.529Z"
   },
   {
    "duration": 4470,
    "start_time": "2023-08-21T09:51:51.602Z"
   },
   {
    "duration": 4,
    "start_time": "2023-08-21T09:51:56.073Z"
   },
   {
    "duration": 15,
    "start_time": "2023-08-21T09:51:56.078Z"
   },
   {
    "duration": 9,
    "start_time": "2023-08-21T09:51:56.095Z"
   },
   {
    "duration": 9,
    "start_time": "2023-08-21T09:51:56.106Z"
   },
   {
    "duration": 12,
    "start_time": "2023-08-21T09:51:56.117Z"
   },
   {
    "duration": 5,
    "start_time": "2023-08-21T09:51:56.131Z"
   },
   {
    "duration": 6,
    "start_time": "2023-08-21T09:51:56.137Z"
   },
   {
    "duration": 21,
    "start_time": "2023-08-21T09:51:56.145Z"
   },
   {
    "duration": 13,
    "start_time": "2023-08-21T09:51:56.168Z"
   },
   {
    "duration": 6,
    "start_time": "2023-08-21T09:51:56.183Z"
   },
   {
    "duration": 28,
    "start_time": "2023-08-21T09:51:56.191Z"
   },
   {
    "duration": 9,
    "start_time": "2023-08-21T09:51:56.221Z"
   },
   {
    "duration": 6,
    "start_time": "2023-08-21T09:51:56.233Z"
   },
   {
    "duration": 199,
    "start_time": "2023-08-21T09:51:56.243Z"
   },
   {
    "duration": 4,
    "start_time": "2023-08-21T09:51:56.444Z"
   },
   {
    "duration": 2,
    "start_time": "2023-08-21T09:51:56.459Z"
   },
   {
    "duration": 224,
    "start_time": "2023-08-21T09:51:56.463Z"
   },
   {
    "duration": 0,
    "start_time": "2023-08-21T09:51:56.689Z"
   },
   {
    "duration": 0,
    "start_time": "2023-08-21T09:51:56.691Z"
   },
   {
    "duration": 0,
    "start_time": "2023-08-21T09:51:56.692Z"
   },
   {
    "duration": 0,
    "start_time": "2023-08-21T09:51:56.694Z"
   },
   {
    "duration": 0,
    "start_time": "2023-08-21T09:51:56.695Z"
   },
   {
    "duration": 0,
    "start_time": "2023-08-21T09:51:56.697Z"
   },
   {
    "duration": 0,
    "start_time": "2023-08-21T09:51:56.698Z"
   },
   {
    "duration": 0,
    "start_time": "2023-08-21T09:51:56.699Z"
   },
   {
    "duration": 3252,
    "start_time": "2023-08-21T10:55:26.061Z"
   },
   {
    "duration": 1096,
    "start_time": "2023-08-21T10:55:39.922Z"
   },
   {
    "duration": 3634,
    "start_time": "2023-08-21T11:01:43.093Z"
   },
   {
    "duration": 14,
    "start_time": "2023-08-21T11:01:46.729Z"
   },
   {
    "duration": 856,
    "start_time": "2023-08-21T11:01:46.745Z"
   },
   {
    "duration": 150,
    "start_time": "2023-08-21T11:01:47.604Z"
   },
   {
    "duration": 957,
    "start_time": "2023-08-21T11:01:47.760Z"
   },
   {
    "duration": 333,
    "start_time": "2023-08-21T11:01:48.719Z"
   },
   {
    "duration": 17,
    "start_time": "2023-08-21T11:01:49.054Z"
   },
   {
    "duration": 23,
    "start_time": "2023-08-21T11:01:49.073Z"
   },
   {
    "duration": 17,
    "start_time": "2023-08-21T11:01:49.098Z"
   },
   {
    "duration": 627,
    "start_time": "2023-08-21T11:01:49.117Z"
   },
   {
    "duration": 14090,
    "start_time": "2023-08-21T11:01:49.745Z"
   },
   {
    "duration": 1065,
    "start_time": "2023-08-21T11:02:03.837Z"
   },
   {
    "duration": 85,
    "start_time": "2023-08-21T11:02:04.904Z"
   },
   {
    "duration": 268,
    "start_time": "2023-08-21T11:02:04.991Z"
   },
   {
    "duration": 66,
    "start_time": "2023-08-21T11:02:05.261Z"
   },
   {
    "duration": 84,
    "start_time": "2023-08-21T11:02:05.329Z"
   },
   {
    "duration": 43,
    "start_time": "2023-08-21T11:02:05.415Z"
   },
   {
    "duration": 33,
    "start_time": "2023-08-21T11:02:05.460Z"
   },
   {
    "duration": 5460,
    "start_time": "2023-08-21T11:02:05.495Z"
   },
   {
    "duration": 23,
    "start_time": "2023-08-21T11:02:10.956Z"
   },
   {
    "duration": 11,
    "start_time": "2023-08-21T11:02:10.981Z"
   },
   {
    "duration": 91,
    "start_time": "2023-08-21T11:02:10.994Z"
   },
   {
    "duration": 540,
    "start_time": "2023-08-21T11:02:11.088Z"
   },
   {
    "duration": 239,
    "start_time": "2023-08-21T11:02:11.630Z"
   },
   {
    "duration": 4,
    "start_time": "2023-08-21T11:02:11.872Z"
   },
   {
    "duration": 205,
    "start_time": "2023-08-21T11:02:11.878Z"
   },
   {
    "duration": 4709,
    "start_time": "2023-08-21T11:02:12.085Z"
   },
   {
    "duration": 3,
    "start_time": "2023-08-21T11:02:16.797Z"
   },
   {
    "duration": 14,
    "start_time": "2023-08-21T11:02:16.802Z"
   },
   {
    "duration": 8,
    "start_time": "2023-08-21T11:02:16.818Z"
   },
   {
    "duration": 15,
    "start_time": "2023-08-21T11:02:16.829Z"
   },
   {
    "duration": 18,
    "start_time": "2023-08-21T11:02:16.846Z"
   },
   {
    "duration": 7,
    "start_time": "2023-08-21T11:02:16.867Z"
   },
   {
    "duration": 11,
    "start_time": "2023-08-21T11:02:16.875Z"
   },
   {
    "duration": 33,
    "start_time": "2023-08-21T11:02:16.887Z"
   },
   {
    "duration": 13,
    "start_time": "2023-08-21T11:02:16.921Z"
   },
   {
    "duration": 22,
    "start_time": "2023-08-21T11:02:16.935Z"
   },
   {
    "duration": 10,
    "start_time": "2023-08-21T11:02:16.958Z"
   },
   {
    "duration": 11,
    "start_time": "2023-08-21T11:02:16.969Z"
   },
   {
    "duration": 11,
    "start_time": "2023-08-21T11:02:16.982Z"
   },
   {
    "duration": 216,
    "start_time": "2023-08-21T11:02:16.995Z"
   },
   {
    "duration": 5,
    "start_time": "2023-08-21T11:02:17.213Z"
   },
   {
    "duration": 6,
    "start_time": "2023-08-21T11:02:17.220Z"
   },
   {
    "duration": 237,
    "start_time": "2023-08-21T11:02:17.228Z"
   },
   {
    "duration": 0,
    "start_time": "2023-08-21T11:02:17.468Z"
   },
   {
    "duration": 0,
    "start_time": "2023-08-21T11:02:17.470Z"
   },
   {
    "duration": 1,
    "start_time": "2023-08-21T11:02:17.470Z"
   },
   {
    "duration": 0,
    "start_time": "2023-08-21T11:02:17.472Z"
   },
   {
    "duration": 0,
    "start_time": "2023-08-21T11:02:17.473Z"
   },
   {
    "duration": 0,
    "start_time": "2023-08-21T11:02:17.474Z"
   },
   {
    "duration": 0,
    "start_time": "2023-08-21T11:02:17.475Z"
   },
   {
    "duration": 0,
    "start_time": "2023-08-21T11:02:17.476Z"
   },
   {
    "duration": 26,
    "start_time": "2023-08-21T11:13:29.644Z"
   },
   {
    "duration": 6560,
    "start_time": "2023-08-21T11:14:26.741Z"
   },
   {
    "duration": 4438,
    "start_time": "2023-08-21T11:38:45.816Z"
   },
   {
    "duration": 3918,
    "start_time": "2023-08-21T11:39:48.147Z"
   },
   {
    "duration": 5563,
    "start_time": "2023-08-21T11:40:42.858Z"
   },
   {
    "duration": 5827,
    "start_time": "2023-08-21T11:42:04.076Z"
   },
   {
    "duration": 7305,
    "start_time": "2023-08-21T14:36:22.446Z"
   },
   {
    "duration": 13,
    "start_time": "2023-08-21T14:36:29.754Z"
   },
   {
    "duration": 3030,
    "start_time": "2023-08-21T14:36:29.769Z"
   },
   {
    "duration": 127,
    "start_time": "2023-08-21T14:36:32.801Z"
   },
   {
    "duration": 899,
    "start_time": "2023-08-21T14:36:32.931Z"
   },
   {
    "duration": 444,
    "start_time": "2023-08-21T14:36:33.832Z"
   },
   {
    "duration": 16,
    "start_time": "2023-08-21T14:36:34.278Z"
   },
   {
    "duration": 47,
    "start_time": "2023-08-21T14:36:34.296Z"
   },
   {
    "duration": 19,
    "start_time": "2023-08-21T14:36:34.360Z"
   },
   {
    "duration": 648,
    "start_time": "2023-08-21T14:36:34.380Z"
   },
   {
    "duration": 13657,
    "start_time": "2023-08-21T14:36:35.030Z"
   },
   {
    "duration": 974,
    "start_time": "2023-08-21T14:36:48.689Z"
   },
   {
    "duration": 94,
    "start_time": "2023-08-21T14:36:49.666Z"
   },
   {
    "duration": 255,
    "start_time": "2023-08-21T14:36:49.764Z"
   },
   {
    "duration": 67,
    "start_time": "2023-08-21T14:36:50.021Z"
   },
   {
    "duration": 79,
    "start_time": "2023-08-21T14:36:50.090Z"
   },
   {
    "duration": 28,
    "start_time": "2023-08-21T14:36:50.171Z"
   },
   {
    "duration": 34,
    "start_time": "2023-08-21T14:36:50.201Z"
   },
   {
    "duration": 5160,
    "start_time": "2023-08-21T14:36:50.236Z"
   },
   {
    "duration": 19,
    "start_time": "2023-08-21T14:36:55.397Z"
   },
   {
    "duration": 20,
    "start_time": "2023-08-21T14:36:55.417Z"
   },
   {
    "duration": 78,
    "start_time": "2023-08-21T14:36:55.439Z"
   },
   {
    "duration": 510,
    "start_time": "2023-08-21T14:36:55.518Z"
   },
   {
    "duration": 244,
    "start_time": "2023-08-21T14:36:56.029Z"
   },
   {
    "duration": 4,
    "start_time": "2023-08-21T14:36:56.275Z"
   },
   {
    "duration": 31,
    "start_time": "2023-08-21T14:36:56.281Z"
   },
   {
    "duration": 4556,
    "start_time": "2023-08-21T14:36:56.314Z"
   },
   {
    "duration": 3,
    "start_time": "2023-08-21T14:37:00.871Z"
   },
   {
    "duration": 25,
    "start_time": "2023-08-21T14:37:00.876Z"
   },
   {
    "duration": 37,
    "start_time": "2023-08-21T14:37:00.903Z"
   },
   {
    "duration": 82,
    "start_time": "2023-08-21T14:37:00.942Z"
   },
   {
    "duration": 150,
    "start_time": "2023-08-21T14:37:01.026Z"
   },
   {
    "duration": 88,
    "start_time": "2023-08-21T14:37:01.180Z"
   },
   {
    "duration": 63,
    "start_time": "2023-08-21T14:37:01.270Z"
   },
   {
    "duration": 66,
    "start_time": "2023-08-21T14:37:01.335Z"
   },
   {
    "duration": 58,
    "start_time": "2023-08-21T14:37:01.403Z"
   },
   {
    "duration": 69,
    "start_time": "2023-08-21T14:37:01.463Z"
   },
   {
    "duration": 89,
    "start_time": "2023-08-21T14:37:01.534Z"
   },
   {
    "duration": 60,
    "start_time": "2023-08-21T14:37:01.625Z"
   },
   {
    "duration": 61,
    "start_time": "2023-08-21T14:37:01.687Z"
   },
   {
    "duration": 266,
    "start_time": "2023-08-21T14:37:01.753Z"
   },
   {
    "duration": 5,
    "start_time": "2023-08-21T14:37:02.021Z"
   },
   {
    "duration": 43,
    "start_time": "2023-08-21T14:37:02.028Z"
   },
   {
    "duration": 353,
    "start_time": "2023-08-21T14:37:02.074Z"
   },
   {
    "duration": 0,
    "start_time": "2023-08-21T14:37:02.429Z"
   },
   {
    "duration": 0,
    "start_time": "2023-08-21T14:37:02.430Z"
   },
   {
    "duration": 0,
    "start_time": "2023-08-21T14:37:02.431Z"
   },
   {
    "duration": 0,
    "start_time": "2023-08-21T14:37:02.432Z"
   },
   {
    "duration": 0,
    "start_time": "2023-08-21T14:37:02.434Z"
   },
   {
    "duration": 0,
    "start_time": "2023-08-21T14:37:02.435Z"
   },
   {
    "duration": 0,
    "start_time": "2023-08-21T14:37:02.436Z"
   },
   {
    "duration": 0,
    "start_time": "2023-08-21T14:37:02.436Z"
   },
   {
    "duration": 5794,
    "start_time": "2023-08-21T14:54:52.002Z"
   },
   {
    "duration": 12,
    "start_time": "2023-08-21T14:54:57.798Z"
   },
   {
    "duration": 838,
    "start_time": "2023-08-21T14:54:57.811Z"
   },
   {
    "duration": 137,
    "start_time": "2023-08-21T14:54:58.651Z"
   },
   {
    "duration": 873,
    "start_time": "2023-08-21T14:54:58.791Z"
   },
   {
    "duration": 365,
    "start_time": "2023-08-21T14:54:59.666Z"
   },
   {
    "duration": 25,
    "start_time": "2023-08-21T14:55:00.034Z"
   },
   {
    "duration": 80,
    "start_time": "2023-08-21T14:55:00.061Z"
   },
   {
    "duration": 34,
    "start_time": "2023-08-21T14:55:00.143Z"
   },
   {
    "duration": 663,
    "start_time": "2023-08-21T14:55:00.179Z"
   },
   {
    "duration": 13786,
    "start_time": "2023-08-21T14:55:00.844Z"
   },
   {
    "duration": 949,
    "start_time": "2023-08-21T14:55:14.632Z"
   },
   {
    "duration": 82,
    "start_time": "2023-08-21T14:55:15.583Z"
   },
   {
    "duration": 260,
    "start_time": "2023-08-21T14:55:15.668Z"
   },
   {
    "duration": 67,
    "start_time": "2023-08-21T14:55:15.931Z"
   },
   {
    "duration": 115,
    "start_time": "2023-08-21T14:55:16.000Z"
   },
   {
    "duration": 42,
    "start_time": "2023-08-21T14:55:16.117Z"
   },
   {
    "duration": 58,
    "start_time": "2023-08-21T14:55:16.161Z"
   },
   {
    "duration": 5361,
    "start_time": "2023-08-21T14:55:16.221Z"
   },
   {
    "duration": 19,
    "start_time": "2023-08-21T14:55:21.584Z"
   },
   {
    "duration": 3,
    "start_time": "2023-08-21T14:55:21.605Z"
   },
   {
    "duration": 91,
    "start_time": "2023-08-21T14:55:21.610Z"
   },
   {
    "duration": 490,
    "start_time": "2023-08-21T14:55:21.702Z"
   },
   {
    "duration": 220,
    "start_time": "2023-08-21T14:55:22.194Z"
   },
   {
    "duration": 4,
    "start_time": "2023-08-21T14:55:22.416Z"
   },
   {
    "duration": 46,
    "start_time": "2023-08-21T14:55:22.422Z"
   },
   {
    "duration": 4485,
    "start_time": "2023-08-21T14:55:22.470Z"
   },
   {
    "duration": 3,
    "start_time": "2023-08-21T14:55:26.959Z"
   },
   {
    "duration": 7,
    "start_time": "2023-08-21T14:55:26.964Z"
   },
   {
    "duration": 6,
    "start_time": "2023-08-21T14:55:26.972Z"
   },
   {
    "duration": 23,
    "start_time": "2023-08-21T14:55:26.979Z"
   },
   {
    "duration": 15,
    "start_time": "2023-08-21T14:55:27.003Z"
   },
   {
    "duration": 20,
    "start_time": "2023-08-21T14:55:27.020Z"
   },
   {
    "duration": 31,
    "start_time": "2023-08-21T14:55:27.042Z"
   },
   {
    "duration": 19,
    "start_time": "2023-08-21T14:55:27.074Z"
   },
   {
    "duration": 30,
    "start_time": "2023-08-21T14:55:27.095Z"
   },
   {
    "duration": 7,
    "start_time": "2023-08-21T14:55:27.127Z"
   },
   {
    "duration": 8,
    "start_time": "2023-08-21T14:55:27.136Z"
   },
   {
    "duration": 11,
    "start_time": "2023-08-21T14:55:27.146Z"
   },
   {
    "duration": 9,
    "start_time": "2023-08-21T14:55:27.159Z"
   },
   {
    "duration": 302,
    "start_time": "2023-08-21T14:55:27.172Z"
   },
   {
    "duration": 0,
    "start_time": "2023-08-21T14:55:27.476Z"
   },
   {
    "duration": 0,
    "start_time": "2023-08-21T14:55:27.483Z"
   },
   {
    "duration": 0,
    "start_time": "2023-08-21T14:55:27.484Z"
   },
   {
    "duration": 0,
    "start_time": "2023-08-21T14:55:27.485Z"
   },
   {
    "duration": 0,
    "start_time": "2023-08-21T14:55:27.487Z"
   },
   {
    "duration": 0,
    "start_time": "2023-08-21T14:55:27.490Z"
   },
   {
    "duration": 0,
    "start_time": "2023-08-21T14:55:27.492Z"
   },
   {
    "duration": 0,
    "start_time": "2023-08-21T14:55:27.493Z"
   },
   {
    "duration": 0,
    "start_time": "2023-08-21T14:55:27.494Z"
   },
   {
    "duration": 0,
    "start_time": "2023-08-21T14:55:27.495Z"
   },
   {
    "duration": 0,
    "start_time": "2023-08-21T14:55:27.496Z"
   },
   {
    "duration": 5,
    "start_time": "2023-08-21T15:15:08.461Z"
   },
   {
    "duration": 5,
    "start_time": "2023-08-21T15:15:12.507Z"
   },
   {
    "duration": 4,
    "start_time": "2023-08-21T15:15:15.274Z"
   },
   {
    "duration": 4,
    "start_time": "2023-08-21T15:15:16.044Z"
   },
   {
    "duration": 6,
    "start_time": "2023-08-21T15:15:16.312Z"
   },
   {
    "duration": 8,
    "start_time": "2023-08-21T15:15:17.569Z"
   },
   {
    "duration": 4,
    "start_time": "2023-08-21T15:15:17.831Z"
   },
   {
    "duration": 12,
    "start_time": "2023-08-21T15:15:18.032Z"
   },
   {
    "duration": 4,
    "start_time": "2023-08-21T15:15:18.243Z"
   },
   {
    "duration": 8,
    "start_time": "2023-08-21T15:15:18.550Z"
   },
   {
    "duration": 7,
    "start_time": "2023-08-21T15:15:19.636Z"
   },
   {
    "duration": 208,
    "start_time": "2023-08-21T15:15:22.230Z"
   },
   {
    "duration": 6,
    "start_time": "2023-08-21T15:17:02.407Z"
   },
   {
    "duration": 263,
    "start_time": "2023-08-21T15:17:14.030Z"
   },
   {
    "duration": 5,
    "start_time": "2023-08-21T15:26:29.221Z"
   },
   {
    "duration": 1428,
    "start_time": "2023-08-21T15:26:39.939Z"
   },
   {
    "duration": 1338,
    "start_time": "2023-08-21T15:33:40.824Z"
   },
   {
    "duration": 4,
    "start_time": "2023-08-21T15:36:18.307Z"
   },
   {
    "duration": 21,
    "start_time": "2023-08-21T15:36:25.562Z"
   },
   {
    "duration": 1431,
    "start_time": "2023-08-21T15:36:39.747Z"
   },
   {
    "duration": 1234,
    "start_time": "2023-08-21T15:37:51.488Z"
   },
   {
    "duration": 1333,
    "start_time": "2023-08-21T15:38:46.480Z"
   },
   {
    "duration": 1777,
    "start_time": "2023-08-21T15:40:06.352Z"
   },
   {
    "duration": 1777,
    "start_time": "2023-08-21T15:42:54.097Z"
   },
   {
    "duration": 1859,
    "start_time": "2023-08-21T15:44:12.497Z"
   },
   {
    "duration": 2065,
    "start_time": "2023-08-21T15:44:53.495Z"
   },
   {
    "duration": 5769,
    "start_time": "2023-08-21T15:48:15.790Z"
   },
   {
    "duration": 13,
    "start_time": "2023-08-21T15:48:21.561Z"
   },
   {
    "duration": 850,
    "start_time": "2023-08-21T15:48:21.575Z"
   },
   {
    "duration": 141,
    "start_time": "2023-08-21T15:48:22.427Z"
   },
   {
    "duration": 975,
    "start_time": "2023-08-21T15:48:22.570Z"
   },
   {
    "duration": 338,
    "start_time": "2023-08-21T15:48:23.547Z"
   },
   {
    "duration": 12,
    "start_time": "2023-08-21T15:48:23.887Z"
   },
   {
    "duration": 22,
    "start_time": "2023-08-21T15:48:23.901Z"
   },
   {
    "duration": 45,
    "start_time": "2023-08-21T15:48:23.924Z"
   },
   {
    "duration": 689,
    "start_time": "2023-08-21T15:48:23.971Z"
   },
   {
    "duration": 13744,
    "start_time": "2023-08-21T15:48:24.662Z"
   },
   {
    "duration": 1021,
    "start_time": "2023-08-21T15:48:38.408Z"
   },
   {
    "duration": 86,
    "start_time": "2023-08-21T15:48:39.431Z"
   },
   {
    "duration": 261,
    "start_time": "2023-08-21T15:48:39.520Z"
   },
   {
    "duration": 60,
    "start_time": "2023-08-21T15:48:39.782Z"
   },
   {
    "duration": 83,
    "start_time": "2023-08-21T15:48:39.844Z"
   },
   {
    "duration": 44,
    "start_time": "2023-08-21T15:48:39.929Z"
   },
   {
    "duration": 29,
    "start_time": "2023-08-21T15:48:39.975Z"
   },
   {
    "duration": 5354,
    "start_time": "2023-08-21T15:48:40.006Z"
   },
   {
    "duration": 20,
    "start_time": "2023-08-21T15:48:45.362Z"
   },
   {
    "duration": 18,
    "start_time": "2023-08-21T15:48:45.384Z"
   },
   {
    "duration": 101,
    "start_time": "2023-08-21T15:48:45.404Z"
   },
   {
    "duration": 490,
    "start_time": "2023-08-21T15:48:45.506Z"
   },
   {
    "duration": 212,
    "start_time": "2023-08-21T15:48:45.997Z"
   },
   {
    "duration": 4,
    "start_time": "2023-08-21T15:48:46.211Z"
   },
   {
    "duration": 44,
    "start_time": "2023-08-21T15:48:46.216Z"
   },
   {
    "duration": 4373,
    "start_time": "2023-08-21T15:48:46.262Z"
   },
   {
    "duration": 2,
    "start_time": "2023-08-21T15:48:50.639Z"
   },
   {
    "duration": 14,
    "start_time": "2023-08-21T15:48:50.643Z"
   },
   {
    "duration": 42,
    "start_time": "2023-08-21T15:48:50.659Z"
   },
   {
    "duration": 34,
    "start_time": "2023-08-21T15:48:50.702Z"
   },
   {
    "duration": 12,
    "start_time": "2023-08-21T15:48:50.737Z"
   },
   {
    "duration": 7,
    "start_time": "2023-08-21T15:48:50.750Z"
   },
   {
    "duration": 16,
    "start_time": "2023-08-21T15:48:50.759Z"
   },
   {
    "duration": 13,
    "start_time": "2023-08-21T15:48:50.777Z"
   },
   {
    "duration": 14,
    "start_time": "2023-08-21T15:48:50.792Z"
   },
   {
    "duration": 33,
    "start_time": "2023-08-21T15:48:50.808Z"
   },
   {
    "duration": 11,
    "start_time": "2023-08-21T15:48:50.842Z"
   },
   {
    "duration": 11,
    "start_time": "2023-08-21T15:48:50.855Z"
   },
   {
    "duration": 27,
    "start_time": "2023-08-21T15:48:50.869Z"
   },
   {
    "duration": 2034,
    "start_time": "2023-08-21T15:48:50.898Z"
   },
   {
    "duration": 4,
    "start_time": "2023-08-21T15:48:52.934Z"
   },
   {
    "duration": 28,
    "start_time": "2023-08-21T15:48:52.940Z"
   },
   {
    "duration": 2223,
    "start_time": "2023-08-21T15:48:52.970Z"
   },
   {
    "duration": 6,
    "start_time": "2023-08-21T15:48:55.196Z"
   },
   {
    "duration": 64,
    "start_time": "2023-08-21T15:48:55.204Z"
   },
   {
    "duration": 17,
    "start_time": "2023-08-21T15:48:55.270Z"
   },
   {
    "duration": 10,
    "start_time": "2023-08-21T15:48:55.289Z"
   },
   {
    "duration": 37282,
    "start_time": "2023-08-21T15:48:55.301Z"
   },
   {
    "duration": 0,
    "start_time": "2023-08-21T15:49:32.584Z"
   },
   {
    "duration": 0,
    "start_time": "2023-08-21T15:49:32.585Z"
   },
   {
    "duration": 0,
    "start_time": "2023-08-21T15:49:32.586Z"
   },
   {
    "duration": 5849,
    "start_time": "2023-08-21T16:21:55.938Z"
   },
   {
    "duration": 14,
    "start_time": "2023-08-21T16:22:01.790Z"
   },
   {
    "duration": 982,
    "start_time": "2023-08-21T16:22:01.806Z"
   },
   {
    "duration": 135,
    "start_time": "2023-08-21T16:22:02.790Z"
   },
   {
    "duration": 1057,
    "start_time": "2023-08-21T16:22:02.928Z"
   },
   {
    "duration": 461,
    "start_time": "2023-08-21T16:22:03.988Z"
   },
   {
    "duration": 19,
    "start_time": "2023-08-21T16:22:04.451Z"
   },
   {
    "duration": 25,
    "start_time": "2023-08-21T16:22:04.471Z"
   },
   {
    "duration": 18,
    "start_time": "2023-08-21T16:22:04.498Z"
   },
   {
    "duration": 669,
    "start_time": "2023-08-21T16:22:04.518Z"
   },
   {
    "duration": 13324,
    "start_time": "2023-08-21T16:22:05.189Z"
   },
   {
    "duration": 920,
    "start_time": "2023-08-21T16:22:18.514Z"
   },
   {
    "duration": 95,
    "start_time": "2023-08-21T16:22:19.436Z"
   },
   {
    "duration": 260,
    "start_time": "2023-08-21T16:22:19.534Z"
   },
   {
    "duration": 63,
    "start_time": "2023-08-21T16:22:19.796Z"
   },
   {
    "duration": 71,
    "start_time": "2023-08-21T16:22:19.861Z"
   },
   {
    "duration": 38,
    "start_time": "2023-08-21T16:22:19.934Z"
   },
   {
    "duration": 30,
    "start_time": "2023-08-21T16:22:19.974Z"
   },
   {
    "duration": 5302,
    "start_time": "2023-08-21T16:22:20.005Z"
   },
   {
    "duration": 23,
    "start_time": "2023-08-21T16:22:25.309Z"
   },
   {
    "duration": 4,
    "start_time": "2023-08-21T16:22:25.334Z"
   },
   {
    "duration": 93,
    "start_time": "2023-08-21T16:22:25.340Z"
   },
   {
    "duration": 522,
    "start_time": "2023-08-21T16:22:25.434Z"
   },
   {
    "duration": 224,
    "start_time": "2023-08-21T16:22:25.959Z"
   },
   {
    "duration": 4,
    "start_time": "2023-08-21T16:22:26.184Z"
   },
   {
    "duration": 33,
    "start_time": "2023-08-21T16:22:26.190Z"
   },
   {
    "duration": 4446,
    "start_time": "2023-08-21T16:22:26.225Z"
   },
   {
    "duration": 3,
    "start_time": "2023-08-21T16:22:30.673Z"
   },
   {
    "duration": 73,
    "start_time": "2023-08-21T16:22:30.678Z"
   },
   {
    "duration": 57,
    "start_time": "2023-08-21T16:22:30.752Z"
   },
   {
    "duration": 54,
    "start_time": "2023-08-21T16:22:30.811Z"
   },
   {
    "duration": 41,
    "start_time": "2023-08-21T16:22:30.867Z"
   },
   {
    "duration": 63,
    "start_time": "2023-08-21T16:22:30.910Z"
   },
   {
    "duration": 61,
    "start_time": "2023-08-21T16:22:30.975Z"
   },
   {
    "duration": 65,
    "start_time": "2023-08-21T16:22:31.038Z"
   },
   {
    "duration": 58,
    "start_time": "2023-08-21T16:22:31.105Z"
   },
   {
    "duration": 53,
    "start_time": "2023-08-21T16:22:31.165Z"
   },
   {
    "duration": 31,
    "start_time": "2023-08-21T16:22:31.221Z"
   },
   {
    "duration": 112,
    "start_time": "2023-08-21T16:22:31.254Z"
   },
   {
    "duration": 2027,
    "start_time": "2023-08-21T16:22:31.368Z"
   },
   {
    "duration": 3,
    "start_time": "2023-08-21T16:22:33.398Z"
   },
   {
    "duration": 8,
    "start_time": "2023-08-21T16:22:33.403Z"
   },
   {
    "duration": 128,
    "start_time": "2023-08-21T16:22:33.412Z"
   },
   {
    "duration": 0,
    "start_time": "2023-08-21T16:22:33.541Z"
   },
   {
    "duration": 0,
    "start_time": "2023-08-21T16:22:33.542Z"
   },
   {
    "duration": 0,
    "start_time": "2023-08-21T16:22:33.544Z"
   },
   {
    "duration": 0,
    "start_time": "2023-08-21T16:22:33.544Z"
   },
   {
    "duration": 0,
    "start_time": "2023-08-21T16:22:33.545Z"
   },
   {
    "duration": 0,
    "start_time": "2023-08-21T16:22:33.546Z"
   },
   {
    "duration": 0,
    "start_time": "2023-08-21T16:22:33.547Z"
   },
   {
    "duration": 0,
    "start_time": "2023-08-21T16:22:33.559Z"
   },
   {
    "duration": 5725,
    "start_time": "2023-08-21T16:24:57.832Z"
   },
   {
    "duration": 15,
    "start_time": "2023-08-21T16:25:03.560Z"
   },
   {
    "duration": 947,
    "start_time": "2023-08-21T16:25:03.576Z"
   },
   {
    "duration": 141,
    "start_time": "2023-08-21T16:25:04.525Z"
   },
   {
    "duration": 900,
    "start_time": "2023-08-21T16:25:04.668Z"
   },
   {
    "duration": 323,
    "start_time": "2023-08-21T16:25:05.570Z"
   },
   {
    "duration": 12,
    "start_time": "2023-08-21T16:25:05.894Z"
   },
   {
    "duration": 24,
    "start_time": "2023-08-21T16:25:05.907Z"
   },
   {
    "duration": 40,
    "start_time": "2023-08-21T16:25:05.933Z"
   },
   {
    "duration": 622,
    "start_time": "2023-08-21T16:25:05.975Z"
   },
   {
    "duration": 13625,
    "start_time": "2023-08-21T16:25:06.599Z"
   },
   {
    "duration": 916,
    "start_time": "2023-08-21T16:25:20.226Z"
   },
   {
    "duration": 79,
    "start_time": "2023-08-21T16:25:21.144Z"
   },
   {
    "duration": 250,
    "start_time": "2023-08-21T16:25:21.227Z"
   },
   {
    "duration": 61,
    "start_time": "2023-08-21T16:25:21.479Z"
   },
   {
    "duration": 82,
    "start_time": "2023-08-21T16:25:21.542Z"
   },
   {
    "duration": 39,
    "start_time": "2023-08-21T16:25:21.625Z"
   },
   {
    "duration": 33,
    "start_time": "2023-08-21T16:25:21.666Z"
   },
   {
    "duration": 5484,
    "start_time": "2023-08-21T16:25:21.701Z"
   },
   {
    "duration": 20,
    "start_time": "2023-08-21T16:25:27.187Z"
   },
   {
    "duration": 7,
    "start_time": "2023-08-21T16:25:27.209Z"
   },
   {
    "duration": 90,
    "start_time": "2023-08-21T16:25:27.218Z"
   },
   {
    "duration": 493,
    "start_time": "2023-08-21T16:25:27.310Z"
   },
   {
    "duration": 214,
    "start_time": "2023-08-21T16:25:27.805Z"
   },
   {
    "duration": 4,
    "start_time": "2023-08-21T16:25:28.021Z"
   },
   {
    "duration": 46,
    "start_time": "2023-08-21T16:25:28.027Z"
   },
   {
    "duration": 4498,
    "start_time": "2023-08-21T16:25:28.075Z"
   },
   {
    "duration": 2,
    "start_time": "2023-08-21T16:25:32.575Z"
   },
   {
    "duration": 9,
    "start_time": "2023-08-21T16:25:32.579Z"
   },
   {
    "duration": 12,
    "start_time": "2023-08-21T16:25:32.589Z"
   },
   {
    "duration": 23,
    "start_time": "2023-08-21T16:25:32.603Z"
   },
   {
    "duration": 7,
    "start_time": "2023-08-21T16:25:32.627Z"
   },
   {
    "duration": 8,
    "start_time": "2023-08-21T16:25:32.636Z"
   },
   {
    "duration": 9,
    "start_time": "2023-08-21T16:25:32.645Z"
   },
   {
    "duration": 8,
    "start_time": "2023-08-21T16:25:32.656Z"
   },
   {
    "duration": 8,
    "start_time": "2023-08-21T16:25:32.665Z"
   },
   {
    "duration": 8,
    "start_time": "2023-08-21T16:25:32.674Z"
   },
   {
    "duration": 6,
    "start_time": "2023-08-21T16:25:32.683Z"
   },
   {
    "duration": 11,
    "start_time": "2023-08-21T16:25:32.691Z"
   },
   {
    "duration": 1956,
    "start_time": "2023-08-21T16:25:32.704Z"
   },
   {
    "duration": 3,
    "start_time": "2023-08-21T16:25:34.664Z"
   },
   {
    "duration": 17,
    "start_time": "2023-08-21T16:25:34.669Z"
   },
   {
    "duration": 128,
    "start_time": "2023-08-21T16:25:34.688Z"
   },
   {
    "duration": 0,
    "start_time": "2023-08-21T16:25:34.818Z"
   },
   {
    "duration": 0,
    "start_time": "2023-08-21T16:25:34.818Z"
   },
   {
    "duration": 0,
    "start_time": "2023-08-21T16:25:34.820Z"
   },
   {
    "duration": 0,
    "start_time": "2023-08-21T16:25:34.822Z"
   },
   {
    "duration": 0,
    "start_time": "2023-08-21T16:25:34.823Z"
   },
   {
    "duration": 0,
    "start_time": "2023-08-21T16:25:34.824Z"
   },
   {
    "duration": 0,
    "start_time": "2023-08-21T16:25:34.825Z"
   },
   {
    "duration": 0,
    "start_time": "2023-08-21T16:25:34.826Z"
   },
   {
    "duration": 3,
    "start_time": "2023-08-21T16:27:53.039Z"
   },
   {
    "duration": 2258,
    "start_time": "2023-08-21T16:27:55.218Z"
   },
   {
    "duration": 21626,
    "start_time": "2023-08-21T16:28:18.947Z"
   },
   {
    "duration": 5920,
    "start_time": "2023-08-21T16:55:30.906Z"
   },
   {
    "duration": 12,
    "start_time": "2023-08-21T16:55:36.829Z"
   },
   {
    "duration": 2867,
    "start_time": "2023-08-21T16:55:36.843Z"
   },
   {
    "duration": 119,
    "start_time": "2023-08-21T16:55:39.712Z"
   },
   {
    "duration": 924,
    "start_time": "2023-08-21T16:55:39.833Z"
   },
   {
    "duration": 343,
    "start_time": "2023-08-21T16:55:40.759Z"
   },
   {
    "duration": 14,
    "start_time": "2023-08-21T16:55:41.104Z"
   },
   {
    "duration": 39,
    "start_time": "2023-08-21T16:55:41.120Z"
   },
   {
    "duration": 17,
    "start_time": "2023-08-21T16:55:41.160Z"
   },
   {
    "duration": 606,
    "start_time": "2023-08-21T16:55:41.180Z"
   },
   {
    "duration": 13214,
    "start_time": "2023-08-21T16:55:41.787Z"
   },
   {
    "duration": 910,
    "start_time": "2023-08-21T16:55:55.003Z"
   },
   {
    "duration": 83,
    "start_time": "2023-08-21T16:55:55.915Z"
   },
   {
    "duration": 253,
    "start_time": "2023-08-21T16:55:56.000Z"
   },
   {
    "duration": 58,
    "start_time": "2023-08-21T16:55:56.255Z"
   },
   {
    "duration": 78,
    "start_time": "2023-08-21T16:55:56.315Z"
   },
   {
    "duration": 23,
    "start_time": "2023-08-21T16:55:56.395Z"
   },
   {
    "duration": 53,
    "start_time": "2023-08-21T16:55:56.420Z"
   },
   {
    "duration": 5156,
    "start_time": "2023-08-21T16:55:56.474Z"
   },
   {
    "duration": 28,
    "start_time": "2023-08-21T16:56:01.632Z"
   },
   {
    "duration": 23,
    "start_time": "2023-08-21T16:56:01.662Z"
   },
   {
    "duration": 108,
    "start_time": "2023-08-21T16:56:01.687Z"
   },
   {
    "duration": 565,
    "start_time": "2023-08-21T16:56:01.797Z"
   },
   {
    "duration": 238,
    "start_time": "2023-08-21T16:56:02.364Z"
   },
   {
    "duration": 4,
    "start_time": "2023-08-21T16:56:02.604Z"
   },
   {
    "duration": 38,
    "start_time": "2023-08-21T16:56:02.610Z"
   },
   {
    "duration": 4404,
    "start_time": "2023-08-21T16:56:02.660Z"
   },
   {
    "duration": 2,
    "start_time": "2023-08-21T16:56:07.067Z"
   },
   {
    "duration": 7,
    "start_time": "2023-08-21T16:56:07.070Z"
   },
   {
    "duration": 26,
    "start_time": "2023-08-21T16:56:07.079Z"
   },
   {
    "duration": 18,
    "start_time": "2023-08-21T16:56:07.107Z"
   },
   {
    "duration": 39,
    "start_time": "2023-08-21T16:56:07.127Z"
   },
   {
    "duration": 5,
    "start_time": "2023-08-21T16:56:07.168Z"
   },
   {
    "duration": 14,
    "start_time": "2023-08-21T16:56:07.175Z"
   },
   {
    "duration": 20,
    "start_time": "2023-08-21T16:56:07.191Z"
   },
   {
    "duration": 25,
    "start_time": "2023-08-21T16:56:07.212Z"
   },
   {
    "duration": 39,
    "start_time": "2023-08-21T16:56:07.238Z"
   },
   {
    "duration": 6,
    "start_time": "2023-08-21T16:56:07.279Z"
   },
   {
    "duration": 16,
    "start_time": "2023-08-21T16:56:07.286Z"
   },
   {
    "duration": 1791,
    "start_time": "2023-08-21T16:56:07.304Z"
   },
   {
    "duration": 3,
    "start_time": "2023-08-21T16:56:09.096Z"
   },
   {
    "duration": 2173,
    "start_time": "2023-08-21T16:56:09.100Z"
   },
   {
    "duration": 20821,
    "start_time": "2023-08-21T16:56:11.275Z"
   },
   {
    "duration": 5746,
    "start_time": "2023-08-21T17:18:35.590Z"
   },
   {
    "duration": 13,
    "start_time": "2023-08-21T17:18:41.341Z"
   },
   {
    "duration": 2875,
    "start_time": "2023-08-21T17:18:41.356Z"
   },
   {
    "duration": 130,
    "start_time": "2023-08-21T17:18:44.234Z"
   },
   {
    "duration": 879,
    "start_time": "2023-08-21T17:18:44.365Z"
   },
   {
    "duration": 328,
    "start_time": "2023-08-21T17:18:45.246Z"
   },
   {
    "duration": 11,
    "start_time": "2023-08-21T17:18:45.576Z"
   },
   {
    "duration": 27,
    "start_time": "2023-08-21T17:18:45.589Z"
   },
   {
    "duration": 17,
    "start_time": "2023-08-21T17:18:45.617Z"
   },
   {
    "duration": 588,
    "start_time": "2023-08-21T17:18:45.636Z"
   },
   {
    "duration": 13097,
    "start_time": "2023-08-21T17:18:46.225Z"
   },
   {
    "duration": 942,
    "start_time": "2023-08-21T17:18:59.324Z"
   },
   {
    "duration": 74,
    "start_time": "2023-08-21T17:19:00.268Z"
   },
   {
    "duration": 246,
    "start_time": "2023-08-21T17:19:00.358Z"
   },
   {
    "duration": 69,
    "start_time": "2023-08-21T17:19:00.606Z"
   },
   {
    "duration": 83,
    "start_time": "2023-08-21T17:19:00.677Z"
   },
   {
    "duration": 59,
    "start_time": "2023-08-21T17:19:00.762Z"
   },
   {
    "duration": 40,
    "start_time": "2023-08-21T17:19:00.824Z"
   },
   {
    "duration": 5482,
    "start_time": "2023-08-21T17:19:00.866Z"
   },
   {
    "duration": 24,
    "start_time": "2023-08-21T17:19:06.350Z"
   },
   {
    "duration": 4,
    "start_time": "2023-08-21T17:19:06.375Z"
   },
   {
    "duration": 91,
    "start_time": "2023-08-21T17:19:06.380Z"
   },
   {
    "duration": 480,
    "start_time": "2023-08-21T17:19:06.472Z"
   },
   {
    "duration": 218,
    "start_time": "2023-08-21T17:19:06.953Z"
   },
   {
    "duration": 3,
    "start_time": "2023-08-21T17:19:07.173Z"
   },
   {
    "duration": 33,
    "start_time": "2023-08-21T17:19:07.177Z"
   },
   {
    "duration": 4331,
    "start_time": "2023-08-21T17:19:07.211Z"
   },
   {
    "duration": 2,
    "start_time": "2023-08-21T17:19:11.545Z"
   },
   {
    "duration": 19,
    "start_time": "2023-08-21T17:19:11.548Z"
   },
   {
    "duration": 5,
    "start_time": "2023-08-21T17:19:11.569Z"
   },
   {
    "duration": 11,
    "start_time": "2023-08-21T17:19:11.575Z"
   },
   {
    "duration": 9,
    "start_time": "2023-08-21T17:19:11.587Z"
   },
   {
    "duration": 4,
    "start_time": "2023-08-21T17:19:11.598Z"
   },
   {
    "duration": 5,
    "start_time": "2023-08-21T17:19:11.604Z"
   },
   {
    "duration": 9,
    "start_time": "2023-08-21T17:19:11.611Z"
   },
   {
    "duration": 9,
    "start_time": "2023-08-21T17:19:11.621Z"
   },
   {
    "duration": 14,
    "start_time": "2023-08-21T17:19:11.631Z"
   },
   {
    "duration": 18,
    "start_time": "2023-08-21T17:19:11.647Z"
   },
   {
    "duration": 19,
    "start_time": "2023-08-21T17:19:11.667Z"
   },
   {
    "duration": 1797,
    "start_time": "2023-08-21T17:19:11.688Z"
   },
   {
    "duration": 3,
    "start_time": "2023-08-21T17:19:13.487Z"
   },
   {
    "duration": 2190,
    "start_time": "2023-08-21T17:19:13.491Z"
   },
   {
    "duration": 21458,
    "start_time": "2023-08-21T17:19:15.683Z"
   },
   {
    "duration": 5982,
    "start_time": "2023-08-21T17:51:54.608Z"
   },
   {
    "duration": 15,
    "start_time": "2023-08-21T17:52:00.592Z"
   },
   {
    "duration": 3018,
    "start_time": "2023-08-21T17:52:00.608Z"
   },
   {
    "duration": 131,
    "start_time": "2023-08-21T17:52:03.629Z"
   },
   {
    "duration": 965,
    "start_time": "2023-08-21T17:52:03.761Z"
   },
   {
    "duration": 371,
    "start_time": "2023-08-21T17:52:04.728Z"
   },
   {
    "duration": 12,
    "start_time": "2023-08-21T17:52:05.101Z"
   },
   {
    "duration": 37,
    "start_time": "2023-08-21T17:52:05.115Z"
   },
   {
    "duration": 17,
    "start_time": "2023-08-21T17:52:05.158Z"
   },
   {
    "duration": 635,
    "start_time": "2023-08-21T17:52:05.177Z"
   },
   {
    "duration": 13341,
    "start_time": "2023-08-21T17:52:05.814Z"
   },
   {
    "duration": 959,
    "start_time": "2023-08-21T17:52:19.158Z"
   },
   {
    "duration": 88,
    "start_time": "2023-08-21T17:52:20.120Z"
   },
   {
    "duration": 250,
    "start_time": "2023-08-21T17:52:20.210Z"
   },
   {
    "duration": 60,
    "start_time": "2023-08-21T17:52:20.462Z"
   },
   {
    "duration": 83,
    "start_time": "2023-08-21T17:52:20.524Z"
   },
   {
    "duration": 27,
    "start_time": "2023-08-21T17:52:20.609Z"
   },
   {
    "duration": 48,
    "start_time": "2023-08-21T17:52:20.637Z"
   },
   {
    "duration": 5337,
    "start_time": "2023-08-21T17:52:20.687Z"
   },
   {
    "duration": 36,
    "start_time": "2023-08-21T17:52:26.026Z"
   },
   {
    "duration": 4,
    "start_time": "2023-08-21T17:52:26.064Z"
   },
   {
    "duration": 97,
    "start_time": "2023-08-21T17:52:26.070Z"
   },
   {
    "duration": 485,
    "start_time": "2023-08-21T17:52:26.169Z"
   },
   {
    "duration": 245,
    "start_time": "2023-08-21T17:52:26.656Z"
   },
   {
    "duration": 3,
    "start_time": "2023-08-21T17:52:26.903Z"
   },
   {
    "duration": 32,
    "start_time": "2023-08-21T17:52:26.908Z"
   },
   {
    "duration": 4387,
    "start_time": "2023-08-21T17:52:26.942Z"
   },
   {
    "duration": 5,
    "start_time": "2023-08-21T17:52:31.331Z"
   },
   {
    "duration": 26,
    "start_time": "2023-08-21T17:52:31.338Z"
   },
   {
    "duration": 65,
    "start_time": "2023-08-21T17:52:31.366Z"
   },
   {
    "duration": 99,
    "start_time": "2023-08-21T17:52:31.433Z"
   },
   {
    "duration": 59,
    "start_time": "2023-08-21T17:52:31.533Z"
   },
   {
    "duration": 40,
    "start_time": "2023-08-21T17:52:31.594Z"
   },
   {
    "duration": 50,
    "start_time": "2023-08-21T17:52:31.636Z"
   },
   {
    "duration": 44,
    "start_time": "2023-08-21T17:52:31.688Z"
   },
   {
    "duration": 45,
    "start_time": "2023-08-21T17:52:31.733Z"
   },
   {
    "duration": 40,
    "start_time": "2023-08-21T17:52:31.780Z"
   },
   {
    "duration": 54,
    "start_time": "2023-08-21T17:52:31.821Z"
   },
   {
    "duration": 69,
    "start_time": "2023-08-21T17:52:31.877Z"
   },
   {
    "duration": 1858,
    "start_time": "2023-08-21T17:52:31.951Z"
   },
   {
    "duration": 4,
    "start_time": "2023-08-21T17:52:33.811Z"
   },
   {
    "duration": 2364,
    "start_time": "2023-08-21T17:52:33.817Z"
   },
   {
    "duration": 21086,
    "start_time": "2023-08-21T17:52:36.182Z"
   },
   {
    "duration": 5838,
    "start_time": "2023-08-21T18:25:25.750Z"
   },
   {
    "duration": 13,
    "start_time": "2023-08-21T18:25:31.591Z"
   },
   {
    "duration": 2989,
    "start_time": "2023-08-21T18:25:31.605Z"
   },
   {
    "duration": 133,
    "start_time": "2023-08-21T18:25:34.596Z"
   },
   {
    "duration": 965,
    "start_time": "2023-08-21T18:25:34.732Z"
   },
   {
    "duration": 346,
    "start_time": "2023-08-21T18:25:35.698Z"
   },
   {
    "duration": 22,
    "start_time": "2023-08-21T18:25:36.046Z"
   },
   {
    "duration": 26,
    "start_time": "2023-08-21T18:25:36.071Z"
   },
   {
    "duration": 19,
    "start_time": "2023-08-21T18:25:36.099Z"
   },
   {
    "duration": 587,
    "start_time": "2023-08-21T18:25:36.158Z"
   },
   {
    "duration": 13883,
    "start_time": "2023-08-21T18:25:36.747Z"
   },
   {
    "duration": 1045,
    "start_time": "2023-08-21T18:25:50.632Z"
   },
   {
    "duration": 96,
    "start_time": "2023-08-21T18:25:51.679Z"
   },
   {
    "duration": 269,
    "start_time": "2023-08-21T18:25:51.780Z"
   },
   {
    "duration": 63,
    "start_time": "2023-08-21T18:25:52.051Z"
   },
   {
    "duration": 80,
    "start_time": "2023-08-21T18:25:52.116Z"
   },
   {
    "duration": 22,
    "start_time": "2023-08-21T18:25:52.198Z"
   },
   {
    "duration": 52,
    "start_time": "2023-08-21T18:25:52.223Z"
   },
   {
    "duration": 5165,
    "start_time": "2023-08-21T18:25:52.277Z"
   },
   {
    "duration": 23,
    "start_time": "2023-08-21T18:25:57.444Z"
   },
   {
    "duration": 5,
    "start_time": "2023-08-21T18:25:57.468Z"
   },
   {
    "duration": 107,
    "start_time": "2023-08-21T18:25:57.475Z"
   },
   {
    "duration": 511,
    "start_time": "2023-08-21T18:25:57.583Z"
   },
   {
    "duration": 210,
    "start_time": "2023-08-21T18:25:58.095Z"
   },
   {
    "duration": 4,
    "start_time": "2023-08-21T18:25:58.307Z"
   },
   {
    "duration": 48,
    "start_time": "2023-08-21T18:25:58.312Z"
   },
   {
    "duration": 4456,
    "start_time": "2023-08-21T18:25:58.362Z"
   },
   {
    "duration": 2,
    "start_time": "2023-08-21T18:26:02.820Z"
   },
   {
    "duration": 18,
    "start_time": "2023-08-21T18:26:02.824Z"
   },
   {
    "duration": 65,
    "start_time": "2023-08-21T18:26:02.843Z"
   },
   {
    "duration": 7,
    "start_time": "2023-08-21T18:26:02.910Z"
   },
   {
    "duration": 31,
    "start_time": "2023-08-21T18:26:02.919Z"
   },
   {
    "duration": 11,
    "start_time": "2023-08-21T18:26:02.952Z"
   },
   {
    "duration": 6,
    "start_time": "2023-08-21T18:26:02.965Z"
   },
   {
    "duration": 30,
    "start_time": "2023-08-21T18:26:02.973Z"
   },
   {
    "duration": 15,
    "start_time": "2023-08-21T18:26:03.005Z"
   },
   {
    "duration": 15,
    "start_time": "2023-08-21T18:26:03.022Z"
   },
   {
    "duration": 16,
    "start_time": "2023-08-21T18:26:03.039Z"
   },
   {
    "duration": 14,
    "start_time": "2023-08-21T18:26:03.057Z"
   },
   {
    "duration": 2046,
    "start_time": "2023-08-21T18:26:03.072Z"
   },
   {
    "duration": 4,
    "start_time": "2023-08-21T18:26:05.122Z"
   },
   {
    "duration": 2451,
    "start_time": "2023-08-21T18:26:05.127Z"
   },
   {
    "duration": 21969,
    "start_time": "2023-08-21T18:26:07.580Z"
   },
   {
    "duration": 9,
    "start_time": "2023-08-21T18:26:29.551Z"
   },
   {
    "duration": 6212,
    "start_time": "2023-08-21T18:26:29.562Z"
   },
   {
    "duration": 4,
    "start_time": "2023-08-21T18:26:35.775Z"
   },
   {
    "duration": 36275,
    "start_time": "2023-08-21T18:26:35.781Z"
   },
   {
    "duration": 0,
    "start_time": "2023-08-21T18:27:12.058Z"
   },
   {
    "duration": 0,
    "start_time": "2023-08-21T18:27:12.060Z"
   },
   {
    "duration": 0,
    "start_time": "2023-08-21T18:27:12.062Z"
   },
   {
    "duration": 135846,
    "start_time": "2023-08-21T18:29:09.914Z"
   },
   {
    "duration": 0,
    "start_time": "2023-08-21T18:31:25.762Z"
   },
   {
    "duration": 5,
    "start_time": "2023-08-21T18:31:30.919Z"
   },
   {
    "duration": 9,
    "start_time": "2023-08-21T18:31:31.100Z"
   },
   {
    "duration": 1841,
    "start_time": "2023-08-21T18:31:31.407Z"
   },
   {
    "duration": 9,
    "start_time": "2023-08-21T18:31:33.250Z"
   },
   {
    "duration": 2110,
    "start_time": "2023-08-21T18:31:33.261Z"
   },
   {
    "duration": 20702,
    "start_time": "2023-08-21T18:31:35.374Z"
   },
   {
    "duration": 4,
    "start_time": "2023-08-21T18:31:56.078Z"
   },
   {
    "duration": 5567,
    "start_time": "2023-08-21T18:31:56.084Z"
   },
   {
    "duration": 7,
    "start_time": "2023-08-21T18:32:01.653Z"
   },
   {
    "duration": 34418,
    "start_time": "2023-08-21T18:32:01.661Z"
   },
   {
    "duration": 0,
    "start_time": "2023-08-21T18:32:36.081Z"
   },
   {
    "duration": 0,
    "start_time": "2023-08-21T18:32:36.083Z"
   },
   {
    "duration": 0,
    "start_time": "2023-08-21T18:32:36.085Z"
   },
   {
    "duration": 6,
    "start_time": "2023-08-21T18:33:23.714Z"
   },
   {
    "duration": 10,
    "start_time": "2023-08-21T18:33:23.848Z"
   },
   {
    "duration": 1857,
    "start_time": "2023-08-21T18:33:24.174Z"
   },
   {
    "duration": 3,
    "start_time": "2023-08-21T18:33:26.033Z"
   },
   {
    "duration": 2132,
    "start_time": "2023-08-21T18:33:26.037Z"
   },
   {
    "duration": 21139,
    "start_time": "2023-08-21T18:33:28.171Z"
   },
   {
    "duration": 5,
    "start_time": "2023-08-21T18:33:49.312Z"
   },
   {
    "duration": 4641,
    "start_time": "2023-08-21T18:33:49.318Z"
   },
   {
    "duration": 3,
    "start_time": "2023-08-21T18:33:53.961Z"
   },
   {
    "duration": 137879,
    "start_time": "2023-08-21T18:33:53.966Z"
   },
   {
    "duration": 0,
    "start_time": "2023-08-21T18:36:11.847Z"
   },
   {
    "duration": 0,
    "start_time": "2023-08-21T18:36:11.848Z"
   },
   {
    "duration": 0,
    "start_time": "2023-08-21T18:36:11.850Z"
   },
   {
    "duration": 5,
    "start_time": "2023-08-21T18:40:40.469Z"
   },
   {
    "duration": 141220,
    "start_time": "2023-08-21T18:40:46.139Z"
   },
   {
    "duration": 0,
    "start_time": "2023-08-21T18:43:07.360Z"
   },
   {
    "duration": 0,
    "start_time": "2023-08-21T18:43:07.361Z"
   },
   {
    "duration": 0,
    "start_time": "2023-08-21T18:43:07.362Z"
   },
   {
    "duration": 5,
    "start_time": "2023-08-21T18:48:39.503Z"
   },
   {
    "duration": 4,
    "start_time": "2023-08-21T18:53:09.712Z"
   },
   {
    "duration": 171806,
    "start_time": "2023-08-21T18:53:15.217Z"
   },
   {
    "duration": 0,
    "start_time": "2023-08-21T18:56:07.025Z"
   },
   {
    "duration": 4,
    "start_time": "2023-08-21T18:57:27.631Z"
   },
   {
    "duration": 172669,
    "start_time": "2023-08-21T18:57:34.130Z"
   },
   {
    "duration": 0,
    "start_time": "2023-08-21T19:00:26.801Z"
   },
   {
    "duration": 0,
    "start_time": "2023-08-21T19:00:26.802Z"
   },
   {
    "duration": 0,
    "start_time": "2023-08-21T19:00:26.803Z"
   },
   {
    "duration": 4,
    "start_time": "2023-08-21T19:02:31.554Z"
   },
   {
    "duration": 174515,
    "start_time": "2023-08-21T19:02:37.291Z"
   },
   {
    "duration": 0,
    "start_time": "2023-08-21T19:05:31.808Z"
   },
   {
    "duration": 0,
    "start_time": "2023-08-21T19:05:31.811Z"
   },
   {
    "duration": 0,
    "start_time": "2023-08-21T19:05:31.813Z"
   },
   {
    "duration": 6,
    "start_time": "2023-08-21T19:07:25.295Z"
   },
   {
    "duration": 5,
    "start_time": "2023-08-21T19:07:32.653Z"
   },
   {
    "duration": 175543,
    "start_time": "2023-08-21T19:07:32.973Z"
   },
   {
    "duration": 181858,
    "start_time": "2023-08-21T19:10:28.518Z"
   },
   {
    "duration": 12,
    "start_time": "2023-08-21T19:13:30.377Z"
   },
   {
    "duration": 0,
    "start_time": "2023-08-21T19:13:30.458Z"
   },
   {
    "duration": 107,
    "start_time": "2023-08-21T19:16:40.363Z"
   },
   {
    "duration": 4,
    "start_time": "2023-08-21T19:16:52.033Z"
   },
   {
    "duration": 12,
    "start_time": "2023-08-21T19:18:07.471Z"
   },
   {
    "duration": 13,
    "start_time": "2023-08-21T19:19:22.521Z"
   },
   {
    "duration": 23,
    "start_time": "2023-08-21T19:20:07.972Z"
   },
   {
    "duration": 64,
    "start_time": "2023-08-21T19:21:13.293Z"
   },
   {
    "duration": 60,
    "start_time": "2023-08-21T19:21:22.298Z"
   },
   {
    "duration": 11,
    "start_time": "2023-08-21T19:21:26.666Z"
   },
   {
    "duration": 89,
    "start_time": "2023-08-21T19:21:57.800Z"
   },
   {
    "duration": 101,
    "start_time": "2023-08-21T19:22:30.701Z"
   },
   {
    "duration": 27,
    "start_time": "2023-08-21T19:22:44.136Z"
   },
   {
    "duration": 12,
    "start_time": "2023-08-21T19:23:47.251Z"
   },
   {
    "duration": 23,
    "start_time": "2023-08-21T19:24:07.722Z"
   },
   {
    "duration": 21,
    "start_time": "2023-08-21T19:24:45.699Z"
   },
   {
    "duration": 100,
    "start_time": "2023-08-21T19:24:54.286Z"
   },
   {
    "duration": 89,
    "start_time": "2023-08-21T19:25:06.606Z"
   },
   {
    "duration": 23,
    "start_time": "2023-08-21T19:44:08.461Z"
   },
   {
    "duration": 17,
    "start_time": "2023-08-21T19:44:21.359Z"
   },
   {
    "duration": 22,
    "start_time": "2023-08-21T19:44:30.330Z"
   },
   {
    "duration": 87,
    "start_time": "2023-08-21T19:44:30.761Z"
   },
   {
    "duration": 5934,
    "start_time": "2023-08-21T19:46:01.210Z"
   },
   {
    "duration": 13,
    "start_time": "2023-08-21T19:46:07.146Z"
   },
   {
    "duration": 848,
    "start_time": "2023-08-21T19:46:07.161Z"
   },
   {
    "duration": 131,
    "start_time": "2023-08-21T19:46:08.012Z"
   },
   {
    "duration": 939,
    "start_time": "2023-08-21T19:46:08.146Z"
   },
   {
    "duration": 335,
    "start_time": "2023-08-21T19:46:09.087Z"
   },
   {
    "duration": 12,
    "start_time": "2023-08-21T19:46:09.424Z"
   },
   {
    "duration": 42,
    "start_time": "2023-08-21T19:46:09.438Z"
   },
   {
    "duration": 17,
    "start_time": "2023-08-21T19:46:09.482Z"
   },
   {
    "duration": 664,
    "start_time": "2023-08-21T19:46:09.501Z"
   },
   {
    "duration": 13296,
    "start_time": "2023-08-21T19:46:10.167Z"
   },
   {
    "duration": 1004,
    "start_time": "2023-08-21T19:46:23.464Z"
   },
   {
    "duration": 89,
    "start_time": "2023-08-21T19:46:24.470Z"
   },
   {
    "duration": 273,
    "start_time": "2023-08-21T19:46:24.563Z"
   },
   {
    "duration": 64,
    "start_time": "2023-08-21T19:46:24.838Z"
   },
   {
    "duration": 78,
    "start_time": "2023-08-21T19:46:24.904Z"
   },
   {
    "duration": 22,
    "start_time": "2023-08-21T19:46:24.984Z"
   },
   {
    "duration": 29,
    "start_time": "2023-08-21T19:46:25.008Z"
   },
   {
    "duration": 5219,
    "start_time": "2023-08-21T19:46:25.059Z"
   },
   {
    "duration": 19,
    "start_time": "2023-08-21T19:46:30.279Z"
   },
   {
    "duration": 41,
    "start_time": "2023-08-21T19:46:30.300Z"
   },
   {
    "duration": 101,
    "start_time": "2023-08-21T19:46:30.342Z"
   },
   {
    "duration": 483,
    "start_time": "2023-08-21T19:46:30.444Z"
   },
   {
    "duration": 205,
    "start_time": "2023-08-21T19:46:30.928Z"
   },
   {
    "duration": 4,
    "start_time": "2023-08-21T19:46:31.135Z"
   },
   {
    "duration": 64,
    "start_time": "2023-08-21T19:46:31.141Z"
   },
   {
    "duration": 4530,
    "start_time": "2023-08-21T19:46:31.206Z"
   },
   {
    "duration": 3,
    "start_time": "2023-08-21T19:46:35.738Z"
   },
   {
    "duration": 5,
    "start_time": "2023-08-21T19:46:35.742Z"
   },
   {
    "duration": 32,
    "start_time": "2023-08-21T19:46:35.760Z"
   },
   {
    "duration": 10,
    "start_time": "2023-08-21T19:46:35.794Z"
   },
   {
    "duration": 11,
    "start_time": "2023-08-21T19:46:35.805Z"
   },
   {
    "duration": 28,
    "start_time": "2023-08-21T19:46:35.817Z"
   },
   {
    "duration": 71,
    "start_time": "2023-08-21T19:46:35.847Z"
   },
   {
    "duration": 256,
    "start_time": "2023-08-21T19:46:35.920Z"
   },
   {
    "duration": 52,
    "start_time": "2023-08-21T19:46:36.178Z"
   },
   {
    "duration": 8,
    "start_time": "2023-08-21T19:46:36.232Z"
   },
   {
    "duration": 9,
    "start_time": "2023-08-21T19:46:36.242Z"
   },
   {
    "duration": 12,
    "start_time": "2023-08-21T19:46:36.252Z"
   },
   {
    "duration": 1838,
    "start_time": "2023-08-21T19:46:36.266Z"
   },
   {
    "duration": 2,
    "start_time": "2023-08-21T19:46:38.108Z"
   },
   {
    "duration": 2174,
    "start_time": "2023-08-21T19:46:38.111Z"
   },
   {
    "duration": 21467,
    "start_time": "2023-08-21T19:46:40.287Z"
   },
   {
    "duration": 5,
    "start_time": "2023-08-21T19:47:01.758Z"
   },
   {
    "duration": 6516,
    "start_time": "2023-08-21T19:47:01.765Z"
   },
   {
    "duration": 4,
    "start_time": "2023-08-21T19:47:08.283Z"
   },
   {
    "duration": 178959,
    "start_time": "2023-08-21T19:47:08.289Z"
   },
   {
    "duration": 178023,
    "start_time": "2023-08-21T19:50:07.250Z"
   },
   {
    "duration": 26,
    "start_time": "2023-08-21T19:53:05.275Z"
   },
   {
    "duration": 150,
    "start_time": "2023-08-21T19:53:05.303Z"
   },
   {
    "duration": 9736,
    "start_time": "2023-08-21T20:06:16.183Z"
   },
   {
    "duration": 15,
    "start_time": "2023-08-21T20:06:25.922Z"
   },
   {
    "duration": 952,
    "start_time": "2023-08-21T20:06:25.940Z"
   },
   {
    "duration": 158,
    "start_time": "2023-08-21T20:06:26.894Z"
   },
   {
    "duration": 1070,
    "start_time": "2023-08-21T20:06:27.055Z"
   },
   {
    "duration": 400,
    "start_time": "2023-08-21T20:06:28.128Z"
   },
   {
    "duration": 13,
    "start_time": "2023-08-21T20:06:28.530Z"
   },
   {
    "duration": 45,
    "start_time": "2023-08-21T20:06:28.545Z"
   },
   {
    "duration": 19,
    "start_time": "2023-08-21T20:06:28.591Z"
   },
   {
    "duration": 715,
    "start_time": "2023-08-21T20:06:28.612Z"
   },
   {
    "duration": 15776,
    "start_time": "2023-08-21T20:06:29.328Z"
   },
   {
    "duration": 1099,
    "start_time": "2023-08-21T20:06:45.107Z"
   },
   {
    "duration": 93,
    "start_time": "2023-08-21T20:06:46.208Z"
   },
   {
    "duration": 295,
    "start_time": "2023-08-21T20:06:46.304Z"
   },
   {
    "duration": 78,
    "start_time": "2023-08-21T20:06:46.601Z"
   },
   {
    "duration": 98,
    "start_time": "2023-08-21T20:06:46.681Z"
   },
   {
    "duration": 31,
    "start_time": "2023-08-21T20:06:46.782Z"
   },
   {
    "duration": 72,
    "start_time": "2023-08-21T20:06:46.815Z"
   },
   {
    "duration": 6097,
    "start_time": "2023-08-21T20:06:46.893Z"
   },
   {
    "duration": 21,
    "start_time": "2023-08-21T20:06:52.993Z"
   },
   {
    "duration": 4,
    "start_time": "2023-08-21T20:06:53.016Z"
   },
   {
    "duration": 112,
    "start_time": "2023-08-21T20:06:53.022Z"
   },
   {
    "duration": 601,
    "start_time": "2023-08-21T20:06:53.136Z"
   },
   {
    "duration": 266,
    "start_time": "2023-08-21T20:06:53.739Z"
   },
   {
    "duration": 6,
    "start_time": "2023-08-21T20:06:54.008Z"
   },
   {
    "duration": 55,
    "start_time": "2023-08-21T20:06:54.016Z"
   },
   {
    "duration": 5044,
    "start_time": "2023-08-21T20:06:54.078Z"
   },
   {
    "duration": 2,
    "start_time": "2023-08-21T20:06:59.124Z"
   },
   {
    "duration": 18,
    "start_time": "2023-08-21T20:06:59.128Z"
   },
   {
    "duration": 27,
    "start_time": "2023-08-21T20:06:59.148Z"
   },
   {
    "duration": 8,
    "start_time": "2023-08-21T20:06:59.179Z"
   },
   {
    "duration": 23,
    "start_time": "2023-08-21T20:06:59.189Z"
   },
   {
    "duration": 5,
    "start_time": "2023-08-21T20:06:59.214Z"
   },
   {
    "duration": 6,
    "start_time": "2023-08-21T20:06:59.220Z"
   },
   {
    "duration": 9,
    "start_time": "2023-08-21T20:06:59.228Z"
   },
   {
    "duration": 8,
    "start_time": "2023-08-21T20:06:59.239Z"
   },
   {
    "duration": 18,
    "start_time": "2023-08-21T20:06:59.248Z"
   },
   {
    "duration": 11,
    "start_time": "2023-08-21T20:06:59.270Z"
   },
   {
    "duration": 17,
    "start_time": "2023-08-21T20:06:59.285Z"
   },
   {
    "duration": 2092,
    "start_time": "2023-08-21T20:06:59.304Z"
   },
   {
    "duration": 3,
    "start_time": "2023-08-21T20:07:01.402Z"
   },
   {
    "duration": 2081,
    "start_time": "2023-08-21T20:07:01.407Z"
   },
   {
    "duration": 23808,
    "start_time": "2023-08-21T20:07:03.490Z"
   },
   {
    "duration": 4,
    "start_time": "2023-08-21T20:07:27.300Z"
   },
   {
    "duration": 6095,
    "start_time": "2023-08-21T20:07:27.306Z"
   },
   {
    "duration": 3,
    "start_time": "2023-08-21T20:07:33.404Z"
   },
   {
    "duration": 193087,
    "start_time": "2023-08-21T20:07:33.409Z"
   },
   {
    "duration": 438310,
    "start_time": "2023-08-21T20:10:46.498Z"
   },
   {
    "duration": 0,
    "start_time": "2023-08-21T20:18:04.809Z"
   },
   {
    "duration": 1,
    "start_time": "2023-08-21T20:18:04.810Z"
   },
   {
    "duration": 9285,
    "start_time": "2023-08-24T22:28:01.366Z"
   },
   {
    "duration": 13,
    "start_time": "2023-08-24T22:28:10.654Z"
   },
   {
    "duration": 1452,
    "start_time": "2023-08-24T22:28:10.669Z"
   },
   {
    "duration": 194,
    "start_time": "2023-08-24T22:28:12.123Z"
   },
   {
    "duration": 1040,
    "start_time": "2023-08-24T22:28:12.321Z"
   },
   {
    "duration": 500,
    "start_time": "2023-08-24T22:28:13.363Z"
   },
   {
    "duration": 32,
    "start_time": "2023-08-24T22:28:13.865Z"
   },
   {
    "duration": 25,
    "start_time": "2023-08-24T22:28:13.909Z"
   },
   {
    "duration": 25,
    "start_time": "2023-08-24T22:28:13.936Z"
   },
   {
    "duration": 746,
    "start_time": "2023-08-24T22:28:13.963Z"
   },
   {
    "duration": 17959,
    "start_time": "2023-08-24T22:28:14.714Z"
   },
   {
    "duration": 1221,
    "start_time": "2023-08-24T22:28:32.675Z"
   },
   {
    "duration": 103,
    "start_time": "2023-08-24T22:28:33.900Z"
   },
   {
    "duration": 347,
    "start_time": "2023-08-24T22:28:34.008Z"
   },
   {
    "duration": 131,
    "start_time": "2023-08-24T22:28:34.357Z"
   },
   {
    "duration": 90,
    "start_time": "2023-08-24T22:28:34.501Z"
   },
   {
    "duration": 34,
    "start_time": "2023-08-24T22:28:34.602Z"
   },
   {
    "duration": 57,
    "start_time": "2023-08-24T22:28:34.638Z"
   },
   {
    "duration": 7481,
    "start_time": "2023-08-24T22:28:34.697Z"
   },
   {
    "duration": 36,
    "start_time": "2023-08-24T22:28:42.180Z"
   },
   {
    "duration": 4,
    "start_time": "2023-08-24T22:28:42.218Z"
   },
   {
    "duration": 131,
    "start_time": "2023-08-24T22:28:42.223Z"
   },
   {
    "duration": 585,
    "start_time": "2023-08-24T22:28:42.355Z"
   },
   {
    "duration": 290,
    "start_time": "2023-08-24T22:28:42.941Z"
   },
   {
    "duration": 4,
    "start_time": "2023-08-24T22:28:43.233Z"
   },
   {
    "duration": 50,
    "start_time": "2023-08-24T22:28:43.239Z"
   },
   {
    "duration": 5692,
    "start_time": "2023-08-24T22:28:43.291Z"
   },
   {
    "duration": 11,
    "start_time": "2023-08-24T22:28:48.994Z"
   },
   {
    "duration": 13,
    "start_time": "2023-08-24T22:28:49.006Z"
   },
   {
    "duration": 8,
    "start_time": "2023-08-24T22:28:49.021Z"
   },
   {
    "duration": 15,
    "start_time": "2023-08-24T22:28:49.030Z"
   },
   {
    "duration": 20,
    "start_time": "2023-08-24T22:28:49.047Z"
   },
   {
    "duration": 19,
    "start_time": "2023-08-24T22:28:49.069Z"
   },
   {
    "duration": 20,
    "start_time": "2023-08-24T22:28:49.092Z"
   },
   {
    "duration": 9,
    "start_time": "2023-08-24T22:28:49.114Z"
   },
   {
    "duration": 25,
    "start_time": "2023-08-24T22:28:49.125Z"
   },
   {
    "duration": 8,
    "start_time": "2023-08-24T22:28:49.152Z"
   },
   {
    "duration": 24,
    "start_time": "2023-08-24T22:28:49.162Z"
   },
   {
    "duration": 2320,
    "start_time": "2023-08-24T22:28:49.189Z"
   },
   {
    "duration": 3,
    "start_time": "2023-08-24T22:28:51.511Z"
   },
   {
    "duration": 2084,
    "start_time": "2023-08-24T22:28:51.518Z"
   },
   {
    "duration": 25594,
    "start_time": "2023-08-24T22:28:53.607Z"
   },
   {
    "duration": 4,
    "start_time": "2023-08-24T22:29:19.203Z"
   },
   {
    "duration": 5477,
    "start_time": "2023-08-24T22:29:19.211Z"
   },
   {
    "duration": 6,
    "start_time": "2023-08-24T22:29:24.690Z"
   },
   {
    "duration": 204672,
    "start_time": "2023-08-24T22:29:24.703Z"
   },
   {
    "duration": 1441227,
    "start_time": "2023-08-24T22:32:49.377Z"
   },
   {
    "duration": 91,
    "start_time": "2023-08-24T22:56:50.607Z"
   },
   {
    "duration": 307,
    "start_time": "2023-08-24T22:56:50.701Z"
   }
  ],
  "kernelspec": {
   "display_name": "Python 3 (ipykernel)",
   "language": "python",
   "name": "python3"
  },
  "language_info": {
   "codemirror_mode": {
    "name": "ipython",
    "version": 3
   },
   "file_extension": ".py",
   "mimetype": "text/x-python",
   "name": "python",
   "nbconvert_exporter": "python",
   "pygments_lexer": "ipython3",
   "version": "3.9.5"
  },
  "toc": {
   "base_numbering": 1,
   "nav_menu": {},
   "number_sections": true,
   "sideBar": true,
   "skip_h1_title": true,
   "title_cell": "Содержание",
   "title_sidebar": "Содержание",
   "toc_cell": true,
   "toc_position": {
    "height": "calc(100% - 180px)",
    "left": "10px",
    "top": "150px",
    "width": "250.594px"
   },
   "toc_section_display": true,
   "toc_window_display": false
  }
 },
 "nbformat": 4,
 "nbformat_minor": 2
}
